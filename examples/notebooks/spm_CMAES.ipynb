{
 "cells": [
  {
   "cell_type": "markdown",
   "metadata": {
    "id": "expmkveO04pw"
   },
   "source": [
    "## Parameter Estimation with CMA-ES in PyBOP\n",
    "\n",
    "In this notebook, we demonstrate an example of parameter estimation for a single-particle model using the Covariance Matrix Adaptation Evolution Strategy (CMA-ES). CMA-ES is an evolutionary algorithm for difficult non-linear, non-convex optimisation problems.\n",
    "\n",
    "### Setting up the Environment\n",
    "\n",
    "Before we begin, we need to ensure that we have all the necessary tools. We will install PyBOP from its development branch and upgrade some dependencies:"
   ]
  },
  {
   "cell_type": "code",
   "execution_count": 1,
   "metadata": {
    "colab": {
     "base_uri": "https://localhost:8080/"
    },
    "id": "X87NUGPW04py",
    "outputId": "0d785b07-7cff-4aeb-e60a-4ff5a669afbf"
   },
   "outputs": [
    {
     "name": "stdout",
     "output_type": "stream",
     "text": [
      "Requirement already satisfied: pip in /Users/bradyplanden/.pyenv/versions/pybop-env/lib/python3.11/site-packages (23.3.2)\n",
      "Requirement already satisfied: ipywidgets in /Users/bradyplanden/.pyenv/versions/pybop-env/lib/python3.11/site-packages (8.1.1)\n",
      "Requirement already satisfied: comm>=0.1.3 in /Users/bradyplanden/.pyenv/versions/pybop-env/lib/python3.11/site-packages (from ipywidgets) (0.2.0)\n",
      "Requirement already satisfied: ipython>=6.1.0 in /Users/bradyplanden/.pyenv/versions/pybop-env/lib/python3.11/site-packages (from ipywidgets) (8.18.1)\n",
      "Requirement already satisfied: traitlets>=4.3.1 in /Users/bradyplanden/.pyenv/versions/pybop-env/lib/python3.11/site-packages (from ipywidgets) (5.14.0)\n",
      "Requirement already satisfied: widgetsnbextension~=4.0.9 in /Users/bradyplanden/.pyenv/versions/pybop-env/lib/python3.11/site-packages (from ipywidgets) (4.0.9)\n",
      "Requirement already satisfied: jupyterlab-widgets~=3.0.9 in /Users/bradyplanden/.pyenv/versions/pybop-env/lib/python3.11/site-packages (from ipywidgets) (3.0.9)\n",
      "Requirement already satisfied: decorator in /Users/bradyplanden/.pyenv/versions/pybop-env/lib/python3.11/site-packages (from ipython>=6.1.0->ipywidgets) (5.1.1)\n",
      "Requirement already satisfied: jedi>=0.16 in /Users/bradyplanden/.pyenv/versions/pybop-env/lib/python3.11/site-packages (from ipython>=6.1.0->ipywidgets) (0.19.1)\n",
      "Requirement already satisfied: matplotlib-inline in /Users/bradyplanden/.pyenv/versions/pybop-env/lib/python3.11/site-packages (from ipython>=6.1.0->ipywidgets) (0.1.6)\n",
      "Requirement already satisfied: prompt-toolkit<3.1.0,>=3.0.41 in /Users/bradyplanden/.pyenv/versions/pybop-env/lib/python3.11/site-packages (from ipython>=6.1.0->ipywidgets) (3.0.41)\n",
      "Requirement already satisfied: pygments>=2.4.0 in /Users/bradyplanden/.pyenv/versions/pybop-env/lib/python3.11/site-packages (from ipython>=6.1.0->ipywidgets) (2.17.2)\n",
      "Requirement already satisfied: stack-data in /Users/bradyplanden/.pyenv/versions/pybop-env/lib/python3.11/site-packages (from ipython>=6.1.0->ipywidgets) (0.6.3)\n",
      "Requirement already satisfied: pexpect>4.3 in /Users/bradyplanden/.pyenv/versions/pybop-env/lib/python3.11/site-packages (from ipython>=6.1.0->ipywidgets) (4.9.0)\n",
      "Requirement already satisfied: parso<0.9.0,>=0.8.3 in /Users/bradyplanden/.pyenv/versions/pybop-env/lib/python3.11/site-packages (from jedi>=0.16->ipython>=6.1.0->ipywidgets) (0.8.3)\n",
      "Requirement already satisfied: ptyprocess>=0.5 in /Users/bradyplanden/.pyenv/versions/pybop-env/lib/python3.11/site-packages (from pexpect>4.3->ipython>=6.1.0->ipywidgets) (0.7.0)\n",
      "Requirement already satisfied: wcwidth in /Users/bradyplanden/.pyenv/versions/pybop-env/lib/python3.11/site-packages (from prompt-toolkit<3.1.0,>=3.0.41->ipython>=6.1.0->ipywidgets) (0.2.12)\n",
      "Requirement already satisfied: executing>=1.2.0 in /Users/bradyplanden/.pyenv/versions/pybop-env/lib/python3.11/site-packages (from stack-data->ipython>=6.1.0->ipywidgets) (2.0.1)\n",
      "Requirement already satisfied: asttokens>=2.1.0 in /Users/bradyplanden/.pyenv/versions/pybop-env/lib/python3.11/site-packages (from stack-data->ipython>=6.1.0->ipywidgets) (2.4.1)\n",
      "Requirement already satisfied: pure-eval in /Users/bradyplanden/.pyenv/versions/pybop-env/lib/python3.11/site-packages (from stack-data->ipython>=6.1.0->ipywidgets) (0.2.2)\n",
      "Requirement already satisfied: six>=1.12.0 in /Users/bradyplanden/.pyenv/versions/pybop-env/lib/python3.11/site-packages (from asttokens>=2.1.0->stack-data->ipython>=6.1.0->ipywidgets) (1.16.0)\n",
      "Note: you may need to restart the kernel to use updated packages.\n",
      "Requirement already satisfied: pybop in /Users/bradyplanden/.pyenv/versions/pybop-env/lib/python3.11/site-packages (23.11)\n",
      "Requirement already satisfied: pybamm>=23.1 in /Users/bradyplanden/.pyenv/versions/pybop-env/lib/python3.11/site-packages (from pybop) (23.9)\n",
      "Requirement already satisfied: numpy>=1.16 in /Users/bradyplanden/.pyenv/versions/pybop-env/lib/python3.11/site-packages (from pybop) (1.26.2)\n",
      "Requirement already satisfied: scipy>=1.3 in /Users/bradyplanden/.pyenv/versions/pybop-env/lib/python3.11/site-packages (from pybop) (1.11.4)\n",
      "Requirement already satisfied: pandas>=1.0 in /Users/bradyplanden/.pyenv/versions/pybop-env/lib/python3.11/site-packages (from pybop) (2.1.3)\n",
      "Requirement already satisfied: nlopt>=2.6 in /Users/bradyplanden/.pyenv/versions/pybop-env/lib/python3.11/site-packages (from pybop) (2.7.1)\n",
      "Requirement already satisfied: pints>=0.5 in /Users/bradyplanden/.pyenv/versions/pybop-env/lib/python3.11/site-packages (from pybop) (0.5.0)\n",
      "Requirement already satisfied: python-dateutil>=2.8.2 in /Users/bradyplanden/.pyenv/versions/pybop-env/lib/python3.11/site-packages (from pandas>=1.0->pybop) (2.8.2)\n",
      "Requirement already satisfied: pytz>=2020.1 in /Users/bradyplanden/.pyenv/versions/pybop-env/lib/python3.11/site-packages (from pandas>=1.0->pybop) (2023.3.post1)\n",
      "Requirement already satisfied: tzdata>=2022.1 in /Users/bradyplanden/.pyenv/versions/pybop-env/lib/python3.11/site-packages (from pandas>=1.0->pybop) (2023.3)\n",
      "Requirement already satisfied: cma>=2 in /Users/bradyplanden/.pyenv/versions/pybop-env/lib/python3.11/site-packages (from pints>=0.5->pybop) (3.3.0)\n",
      "Requirement already satisfied: matplotlib>=1.5 in /Users/bradyplanden/.pyenv/versions/pybop-env/lib/python3.11/site-packages (from pints>=0.5->pybop) (3.8.2)\n",
      "Requirement already satisfied: tabulate in /Users/bradyplanden/.pyenv/versions/pybop-env/lib/python3.11/site-packages (from pints>=0.5->pybop) (0.9.0)\n",
      "Requirement already satisfied: threadpoolctl in /Users/bradyplanden/.pyenv/versions/pybop-env/lib/python3.11/site-packages (from pints>=0.5->pybop) (3.2.0)\n",
      "Requirement already satisfied: casadi>=3.6.0 in /Users/bradyplanden/.pyenv/versions/pybop-env/lib/python3.11/site-packages (from pybamm>=23.1->pybop) (3.6.4)\n",
      "Requirement already satisfied: xarray in /Users/bradyplanden/.pyenv/versions/pybop-env/lib/python3.11/site-packages (from pybamm>=23.1->pybop) (2023.11.0)\n",
      "Requirement already satisfied: anytree>=2.4.3 in /Users/bradyplanden/.pyenv/versions/pybop-env/lib/python3.11/site-packages (from pybamm>=23.1->pybop) (2.12.1)\n",
      "Requirement already satisfied: six in /Users/bradyplanden/.pyenv/versions/pybop-env/lib/python3.11/site-packages (from anytree>=2.4.3->pybamm>=23.1->pybop) (1.16.0)\n",
      "Requirement already satisfied: contourpy>=1.0.1 in /Users/bradyplanden/.pyenv/versions/pybop-env/lib/python3.11/site-packages (from matplotlib>=1.5->pints>=0.5->pybop) (1.2.0)\n",
      "Requirement already satisfied: cycler>=0.10 in /Users/bradyplanden/.pyenv/versions/pybop-env/lib/python3.11/site-packages (from matplotlib>=1.5->pints>=0.5->pybop) (0.12.1)\n",
      "Requirement already satisfied: fonttools>=4.22.0 in /Users/bradyplanden/.pyenv/versions/pybop-env/lib/python3.11/site-packages (from matplotlib>=1.5->pints>=0.5->pybop) (4.45.1)\n",
      "Requirement already satisfied: kiwisolver>=1.3.1 in /Users/bradyplanden/.pyenv/versions/pybop-env/lib/python3.11/site-packages (from matplotlib>=1.5->pints>=0.5->pybop) (1.4.5)\n",
      "Requirement already satisfied: packaging>=20.0 in /Users/bradyplanden/.pyenv/versions/pybop-env/lib/python3.11/site-packages (from matplotlib>=1.5->pints>=0.5->pybop) (23.2)\n",
      "Requirement already satisfied: pillow>=8 in /Users/bradyplanden/.pyenv/versions/pybop-env/lib/python3.11/site-packages (from matplotlib>=1.5->pints>=0.5->pybop) (10.1.0)\n",
      "Requirement already satisfied: pyparsing>=2.3.1 in /Users/bradyplanden/.pyenv/versions/pybop-env/lib/python3.11/site-packages (from matplotlib>=1.5->pints>=0.5->pybop) (3.1.1)\n",
      "Note: you may need to restart the kernel to use updated packages.\n"
     ]
    }
   ],
   "source": [
    "%pip install --upgrade pip ipywidgets\n",
    "%pip install pybop -q"
   ]
  },
  {
   "cell_type": "markdown",
   "metadata": {
    "id": "jAvD5fk104p0"
   },
   "source": [
    "### Importing Libraries\n",
    "\n",
    "With the environment set up, we can now import PyBOP alongside other libraries we will need:"
   ]
  },
  {
   "cell_type": "code",
   "execution_count": 2,
   "metadata": {
    "id": "SQdt4brD04p1"
   },
   "outputs": [],
   "source": [
    "import pybop\n",
    "import numpy as np"
   ]
  },
  {
   "cell_type": "markdown",
   "metadata": {
    "id": "5XU-dMtU04p2"
   },
   "source": [
    "### Generate Synthetic Data\n",
    "\n",
    "To demonstrate parameter estimation, we first need some data. We will generate synthetic data using the PyBOP forward model, which requires defining a parameter set and the model itself.\n",
    "\n",
    "#### Defining Parameters and Model\n",
    "\n",
    "We start by creating an example parameter set and then instantiate the single-particle model (SPM):"
   ]
  },
  {
   "cell_type": "code",
   "execution_count": 3,
   "metadata": {},
   "outputs": [],
   "source": [
    "parameter_set = pybop.ParameterSet.pybamm(\"Chen2020\")\n",
    "model = pybop.lithium_ion.SPM(parameter_set=parameter_set)"
   ]
  },
  {
   "cell_type": "markdown",
   "metadata": {},
   "source": [
    "### Simulating Forward Model\n",
    "\n",
    "We can then simulate the model using the `predict` method, with a default constant current to generate voltage data."
   ]
  },
  {
   "cell_type": "code",
   "execution_count": 4,
   "metadata": {
    "id": "sBasxv8U04p3"
   },
   "outputs": [],
   "source": [
    "t_eval = np.arange(0, 900, 2)\n",
    "values = model.predict(t_eval=t_eval)"
   ]
  },
  {
   "cell_type": "markdown",
   "metadata": {},
   "source": [
    "### Adding Noise to Voltage Data\n",
    "\n",
    "To make the parameter estimation more realistic, we add Gaussian noise to the data."
   ]
  },
  {
   "cell_type": "code",
   "execution_count": 5,
   "metadata": {},
   "outputs": [],
   "source": [
    "sigma = 0.001\n",
    "corrupt_values = values[\"Voltage [V]\"].data + np.random.normal(0, sigma, len(t_eval))"
   ]
  },
  {
   "cell_type": "markdown",
   "metadata": {
    "id": "X8-tubYY04p_"
   },
   "source": [
    "## Identify the Parameters"
   ]
  },
  {
   "cell_type": "markdown",
   "metadata": {
    "id": "PQqhvSZN04p_"
   },
   "source": [
    "We will now set up the parameter estimation process by defining the datasets for optimisation and selecting the model parameters we wish to estimate."
   ]
  },
  {
   "cell_type": "markdown",
   "metadata": {},
   "source": [
    "### Creating Optimisation Dataset\n",
    "\n",
    "The dataset for optimisation is composed of time, current, and the noisy voltage data:"
   ]
  },
  {
   "cell_type": "code",
   "execution_count": 6,
   "metadata": {
    "id": "zuvGHWID04p_"
   },
   "outputs": [],
   "source": [
    "dataset = pybop.Dataset(\n",
    "    {\n",
    "        \"Time [s]\": t_eval,\n",
    "        \"Current function [A]\": values[\"Current [A]\"].data,\n",
    "        \"Voltage [V]\": corrupt_values,\n",
    "    }\n",
    ")"
   ]
  },
  {
   "cell_type": "markdown",
   "metadata": {
    "id": "ffS3CF_704qA"
   },
   "source": [
    "### Defining Parameters to Estimate\n",
    "\n",
    "We select the parameters for estimation and set up their prior distributions and bounds:"
   ]
  },
  {
   "cell_type": "code",
   "execution_count": 7,
   "metadata": {
    "id": "WPCybXIJ04qA"
   },
   "outputs": [],
   "source": [
    "parameters = [\n",
    "    pybop.Parameter(\n",
    "        \"Negative electrode active material volume fraction\",\n",
    "        prior=pybop.Gaussian(0.7, 0.05),\n",
    "        bounds=[0.6, 0.9],\n",
    "    ),\n",
    "    pybop.Parameter(\n",
    "        \"Positive electrode active material volume fraction\",\n",
    "        prior=pybop.Gaussian(0.58, 0.05),\n",
    "        bounds=[0.5, 0.8],\n",
    "    ),\n",
    "]"
   ]
  },
  {
   "cell_type": "markdown",
   "metadata": {
    "id": "n4OHa-aF04qA"
   },
   "source": [
    "### Setting up the Optimisation Problem\n",
    "\n",
    "With the datasets and parameters defined, we can set up the optimisation problem, its cost function, and the optimiser."
   ]
  },
  {
   "cell_type": "code",
   "execution_count": 8,
   "metadata": {
    "id": "etMzRtx404qA"
   },
   "outputs": [],
   "source": [
    "problem = pybop.FittingProblem(model, parameters, dataset)\n",
    "cost = pybop.SumSquaredError(problem)\n",
    "optim = pybop.Optimisation(cost, optimiser=pybop.CMAES)\n",
    "optim.set_max_iterations(100)"
   ]
  },
  {
   "cell_type": "markdown",
   "metadata": {
    "id": "caprp-bV04qB"
   },
   "source": [
    "### Running the Optimisation\n",
    "\n",
    "We proceed to run the CMA-ES optimisation algorithm to estimate the parameters:"
   ]
  },
  {
   "cell_type": "code",
   "execution_count": 9,
   "metadata": {
    "id": "-9OVt0EQ04qB"
   },
   "outputs": [],
   "source": [
    "x, final_cost = optim.run()"
   ]
  },
  {
   "cell_type": "markdown",
   "metadata": {
    "id": "-4pZsDmS04qC"
   },
   "source": [
    "### Viewing the Estimated Parameters\n",
    "\n",
    "After the optimisation, we can examine the estimated parameter values:"
   ]
  },
  {
   "cell_type": "code",
   "execution_count": 10,
   "metadata": {
    "colab": {
     "base_uri": "https://localhost:8080/"
    },
    "id": "Hgz8SV4i04qC",
    "outputId": "e1e42ae7-5075-4c47-dd68-1b22ecc170f6"
   },
   "outputs": [
    {
     "data": {
      "text/plain": [
       "array([0.74839253, 0.66530766])"
      ]
     },
     "execution_count": 10,
     "metadata": {},
     "output_type": "execute_result"
    }
   ],
   "source": [
    "x  # This will output the estimated parameters"
   ]
  },
  {
   "cell_type": "markdown",
   "metadata": {
    "id": "KxKURtH704qC"
   },
   "source": [
    "## Plotting and Visualisation\n",
    "\n",
    "PyBOP provides various plotting utilities to visualise the results of the optimisation."
   ]
  },
  {
   "cell_type": "markdown",
   "metadata": {
    "id": "-cWCOiqR04qC"
   },
   "source": [
    "### Comparing System Response\n",
    "\n",
    "We can quickly plot the system's response using the estimated parameters compared to the target:"
   ]
  },
  {
   "cell_type": "code",
   "execution_count": 14,
   "metadata": {
    "colab": {
     "base_uri": "https://localhost:8080/",
     "height": 467
    },
    "id": "tJUJ80Ve04qD",
    "outputId": "855fbaa2-1e09-4935-eb1a-8caf7f99eb75"
   },
   "outputs": [
    {
     "data": {
      "application/vnd.plotly.v1+json": {
       "config": {
        "plotlyServerURL": "https://plot.ly"
       },
       "data": [
        {
         "fill": "toself",
         "fillcolor": "rgba(255,229,204,0.8)",
         "hoverinfo": "skip",
         "line": {
          "color": "rgba(255,255,255,0)"
         },
         "showlegend": false,
         "type": "scatter",
         "x": [
          0,
          2,
          4,
          6,
          8,
          10,
          12,
          14,
          16,
          18,
          20,
          22,
          24,
          26,
          28,
          30,
          32,
          34,
          36,
          38,
          40,
          42,
          44,
          46,
          48,
          50,
          52,
          54,
          56,
          58,
          60,
          62,
          64,
          66,
          68,
          70,
          72,
          74,
          76,
          78,
          80,
          82,
          84,
          86,
          88,
          90,
          92,
          94,
          96,
          98,
          100,
          102,
          104,
          106,
          108,
          110,
          112,
          114,
          116,
          118,
          120,
          122,
          124,
          126,
          128,
          130,
          132,
          134,
          136,
          138,
          140,
          142,
          144,
          146,
          148,
          150,
          152,
          154,
          156,
          158,
          160,
          162,
          164,
          166,
          168,
          170,
          172,
          174,
          176,
          178,
          180,
          182,
          184,
          186,
          188,
          190,
          192,
          194,
          196,
          198,
          200,
          202,
          204,
          206,
          208,
          210,
          212,
          214,
          216,
          218,
          220,
          222,
          224,
          226,
          228,
          230,
          232,
          234,
          236,
          238,
          240,
          242,
          244,
          246,
          248,
          250,
          252,
          254,
          256,
          258,
          260,
          262,
          264,
          266,
          268,
          270,
          272,
          274,
          276,
          278,
          280,
          282,
          284,
          286,
          288,
          290,
          292,
          294,
          296,
          298,
          300,
          302,
          304,
          306,
          308,
          310,
          312,
          314,
          316,
          318,
          320,
          322,
          324,
          326,
          328,
          330,
          332,
          334,
          336,
          338,
          340,
          342,
          344,
          346,
          348,
          350,
          352,
          354,
          356,
          358,
          360,
          362,
          364,
          366,
          368,
          370,
          372,
          374,
          376,
          378,
          380,
          382,
          384,
          386,
          388,
          390,
          392,
          394,
          396,
          398,
          400,
          402,
          404,
          406,
          408,
          410,
          412,
          414,
          416,
          418,
          420,
          422,
          424,
          426,
          428,
          430,
          432,
          434,
          436,
          438,
          440,
          442,
          444,
          446,
          448,
          450,
          452,
          454,
          456,
          458,
          460,
          462,
          464,
          466,
          468,
          470,
          472,
          474,
          476,
          478,
          480,
          482,
          484,
          486,
          488,
          490,
          492,
          494,
          496,
          498,
          500,
          502,
          504,
          506,
          508,
          510,
          512,
          514,
          516,
          518,
          520,
          522,
          524,
          526,
          528,
          530,
          532,
          534,
          536,
          538,
          540,
          542,
          544,
          546,
          548,
          550,
          552,
          554,
          556,
          558,
          560,
          562,
          564,
          566,
          568,
          570,
          572,
          574,
          576,
          578,
          580,
          582,
          584,
          586,
          588,
          590,
          592,
          594,
          596,
          598,
          600,
          602,
          604,
          606,
          608,
          610,
          612,
          614,
          616,
          618,
          620,
          622,
          624,
          626,
          628,
          630,
          632,
          634,
          636,
          638,
          640,
          642,
          644,
          646,
          648,
          650,
          652,
          654,
          656,
          658,
          660,
          662,
          664,
          666,
          668,
          670,
          672,
          674,
          676,
          678,
          680,
          682,
          684,
          686,
          688,
          690,
          692,
          694,
          696,
          698,
          700,
          702,
          704,
          706,
          708,
          710,
          712,
          714,
          716,
          718,
          720,
          722,
          724,
          726,
          728,
          730,
          732,
          734,
          736,
          738,
          740,
          742,
          744,
          746,
          748,
          750,
          752,
          754,
          756,
          758,
          760,
          762,
          764,
          766,
          768,
          770,
          772,
          774,
          776,
          778,
          780,
          782,
          784,
          786,
          788,
          790,
          792,
          794,
          796,
          798,
          800,
          802,
          804,
          806,
          808,
          810,
          812,
          814,
          816,
          818,
          820,
          822,
          824,
          826,
          828,
          830,
          832,
          834,
          836,
          838,
          840,
          842,
          844,
          846,
          848,
          850,
          852,
          854,
          856,
          858,
          860,
          862,
          864,
          866,
          868,
          870,
          872,
          874,
          876,
          878,
          880,
          882,
          884,
          886,
          888,
          890,
          892,
          894,
          896,
          898,
          898,
          896,
          894,
          892,
          890,
          888,
          886,
          884,
          882,
          880,
          878,
          876,
          874,
          872,
          870,
          868,
          866,
          864,
          862,
          860,
          858,
          856,
          854,
          852,
          850,
          848,
          846,
          844,
          842,
          840,
          838,
          836,
          834,
          832,
          830,
          828,
          826,
          824,
          822,
          820,
          818,
          816,
          814,
          812,
          810,
          808,
          806,
          804,
          802,
          800,
          798,
          796,
          794,
          792,
          790,
          788,
          786,
          784,
          782,
          780,
          778,
          776,
          774,
          772,
          770,
          768,
          766,
          764,
          762,
          760,
          758,
          756,
          754,
          752,
          750,
          748,
          746,
          744,
          742,
          740,
          738,
          736,
          734,
          732,
          730,
          728,
          726,
          724,
          722,
          720,
          718,
          716,
          714,
          712,
          710,
          708,
          706,
          704,
          702,
          700,
          698,
          696,
          694,
          692,
          690,
          688,
          686,
          684,
          682,
          680,
          678,
          676,
          674,
          672,
          670,
          668,
          666,
          664,
          662,
          660,
          658,
          656,
          654,
          652,
          650,
          648,
          646,
          644,
          642,
          640,
          638,
          636,
          634,
          632,
          630,
          628,
          626,
          624,
          622,
          620,
          618,
          616,
          614,
          612,
          610,
          608,
          606,
          604,
          602,
          600,
          598,
          596,
          594,
          592,
          590,
          588,
          586,
          584,
          582,
          580,
          578,
          576,
          574,
          572,
          570,
          568,
          566,
          564,
          562,
          560,
          558,
          556,
          554,
          552,
          550,
          548,
          546,
          544,
          542,
          540,
          538,
          536,
          534,
          532,
          530,
          528,
          526,
          524,
          522,
          520,
          518,
          516,
          514,
          512,
          510,
          508,
          506,
          504,
          502,
          500,
          498,
          496,
          494,
          492,
          490,
          488,
          486,
          484,
          482,
          480,
          478,
          476,
          474,
          472,
          470,
          468,
          466,
          464,
          462,
          460,
          458,
          456,
          454,
          452,
          450,
          448,
          446,
          444,
          442,
          440,
          438,
          436,
          434,
          432,
          430,
          428,
          426,
          424,
          422,
          420,
          418,
          416,
          414,
          412,
          410,
          408,
          406,
          404,
          402,
          400,
          398,
          396,
          394,
          392,
          390,
          388,
          386,
          384,
          382,
          380,
          378,
          376,
          374,
          372,
          370,
          368,
          366,
          364,
          362,
          360,
          358,
          356,
          354,
          352,
          350,
          348,
          346,
          344,
          342,
          340,
          338,
          336,
          334,
          332,
          330,
          328,
          326,
          324,
          322,
          320,
          318,
          316,
          314,
          312,
          310,
          308,
          306,
          304,
          302,
          300,
          298,
          296,
          294,
          292,
          290,
          288,
          286,
          284,
          282,
          280,
          278,
          276,
          274,
          272,
          270,
          268,
          266,
          264,
          262,
          260,
          258,
          256,
          254,
          252,
          250,
          248,
          246,
          244,
          242,
          240,
          238,
          236,
          234,
          232,
          230,
          228,
          226,
          224,
          222,
          220,
          218,
          216,
          214,
          212,
          210,
          208,
          206,
          204,
          202,
          200,
          198,
          196,
          194,
          192,
          190,
          188,
          186,
          184,
          182,
          180,
          178,
          176,
          174,
          172,
          170,
          168,
          166,
          164,
          162,
          160,
          158,
          156,
          154,
          152,
          150,
          148,
          146,
          144,
          142,
          140,
          138,
          136,
          134,
          132,
          130,
          128,
          126,
          124,
          122,
          120,
          118,
          116,
          114,
          112,
          110,
          108,
          106,
          104,
          102,
          100,
          98,
          96,
          94,
          92,
          90,
          88,
          86,
          84,
          82,
          80,
          78,
          76,
          74,
          72,
          70,
          68,
          66,
          64,
          62,
          60,
          58,
          56,
          54,
          52,
          50,
          48,
          46,
          44,
          42,
          40,
          38,
          36,
          34,
          32,
          30,
          28,
          26,
          24,
          22,
          20,
          18,
          16,
          14,
          12,
          10,
          8,
          6,
          4,
          2,
          0
         ],
         "y": [
          4.0642603329504245,
          4.055863092292122,
          4.048612851870128,
          4.042407351224265,
          4.0370583058385545,
          4.032405792913264,
          4.0283227589520285,
          4.024709880858944,
          4.021490602544497,
          4.018604645438421,
          4.016004009841746,
          4.013650603590584,
          4.011512469808443,
          4.009563357951767,
          4.007781511269488,
          4.006148442492618,
          4.0046491393564825,
          4.0032700122141325,
          4.002000346134365,
          4.000829802364609,
          3.9997500020837737,
          3.998752922340895,
          3.997831710184658,
          3.9969800391600674,
          3.996192301504481,
          3.995463396385829,
          3.9947887367344825,
          3.994164028738822,
          3.993585476692611,
          3.993049655476875,
          3.9925532220583992,
          3.9920930799086904,
          3.991666622120928,
          3.9912712752409902,
          3.9909043747768855,
          3.990563831588685,
          3.990247573020385,
          3.9899534627827142,
          3.98967970488907,
          3.9894245706346,
          3.98918639854457,
          3.988963634828096,
          3.988754844198416,
          3.988558662983392,
          3.9883738012049665,
          3.9881990570724817,
          3.988033295652556,
          3.9878754325814127,
          3.9877244644001086,
          3.987579441029778,
          3.987439444699574,
          3.987303625755749,
          3.987171194088555,
          3.987041401394652,
          3.986913545373309,
          3.98678693761861,
          3.9866609231955774,
          3.9865349363239946,
          3.986408424588794,
          3.986280871524292,
          3.9861517821718895,
          3.986020647309517,
          3.9858870664819377,
          3.9857506367965616,
          3.985610983021168,
          3.9854677566247174,
          3.985320590006914,
          3.985169195395021,
          3.985013287784805,
          3.9848526028639255,
          3.9846868967686353,
          3.9845159331978297,
          3.98433950355377,
          3.984157419245383,
          3.983969505494649,
          3.983775603650553,
          3.983575566434607,
          3.983369260508688,
          3.9831565725575095,
          3.982937399828176,
          3.982711652521756,
          3.9824792480100295,
          3.9822401015314854,
          3.9819941672662265,
          3.98174139892015,
          3.9814817607496873,
          3.981215227224275,
          3.9809417827124727,
          3.980661421190323,
          3.98037414243882,
          3.980079881070882,
          3.9797786973520064,
          3.979470611195062,
          3.979155649764969,
          3.97883384723859,
          3.9785052445794418,
          3.978169889326644,
          3.9778278353964702,
          3.977479057639233,
          3.977123647605675,
          3.976761677273462,
          3.976393211772367,
          3.97601832044294,
          3.975637076652312,
          3.975249557620128,
          3.9748558442540167,
          3.9744559617367967,
          3.97404999224912,
          3.973638043320246,
          3.973220200644793,
          3.972796552415349,
          3.972367189245891,
          3.971932204105704,
          3.971491692263274,
          3.971045751239477,
          3.9705944807697455,
          3.970137982774424,
          3.9696763613368815,
          3.96920972268892,
          3.968738087756728,
          3.9682615127572274,
          3.967780176039227,
          3.967294179266155,
          3.966803625044902,
          3.9663086168998,
          3.965809259251419,
          3.965305657400189,
          3.964797917514283,
          3.9642861466216353,
          3.9637704526056097,
          3.963250944204188,
          3.962727731012275,
          3.962200854642682,
          3.961670292254488,
          3.9611362713027702,
          3.9605988902367666,
          3.9600582470555694,
          3.9595144392696224,
          3.958967563864495,
          3.958417717266784,
          3.9578649953121343,
          3.9573094932151935,
          3.956751305541341,
          3.9561905261802632,
          3.9556272483211616,
          3.955061552511883,
          3.954493450395264,
          3.953923091310643,
          3.953350559928647,
          3.952775939625373,
          3.9521993124473025,
          3.951620759077598,
          3.9510403588038616,
          3.950458189487189,
          3.949874327532555,
          3.9492888478605224,
          3.948701823880107,
          3.948113327462963,
          3.947523428918706,
          3.946932266209808,
          3.9463398628629793,
          3.945746285881837,
          3.9451516032146663,
          3.944555881480996,
          3.943959185964786,
          3.943361580608374,
          3.94276312800721,
          3.94216388940522,
          3.941563924691005,
          3.940963292394495,
          3.940362049684427,
          3.939760252366288,
          3.9391580151449177,
          3.93855536915916,
          3.937952356305185,
          3.937349031208676,
          3.936745447475926,
          3.9361416577057824,
          3.935537713501723,
          3.934933665484292,
          3.934329563303536,
          3.9337254556516807,
          3.9331213902759137,
          3.9325174139912624,
          3.9319135726935577,
          3.9313099071731448,
          3.930706461303545,
          3.9301032801979177,
          3.929500405828336,
          3.9288978792832543,
          3.9282957407797383,
          3.927694029675719,
          3.9270927844822183,
          3.926492042875555,
          3.925891841709535,
          3.925292217027572,
          3.924693204074768,
          3.9240948373099696,
          3.923497136931064,
          3.9229001250509232,
          3.922303846882851,
          3.921708332174864,
          3.921113609815551,
          3.920519707841808,
          3.919926653446568,
          3.9193344729864585,
          3.9187431919895466,
          3.9181528351629216,
          3.917563426400381,
          3.916974988789988,
          3.9163875446216183,
          3.9158011169173874,
          3.915215730241989,
          3.9146314012558334,
          3.9140481494449095,
          3.9134659935587033,
          3.9128849516181847,
          3.91230504092376,
          3.911726278063107,
          3.911148678919006,
          3.9105722586770306,
          3.9099970318332247,
          3.9094230122016818,
          3.90885021292206,
          3.9082786513186294,
          3.907708389649964,
          3.9071393989748393,
          3.9065716913019775,
          3.9060052780272496,
          3.905440169937097,
          3.9048763772118815,
          3.904313909429255,
          3.9037527755673977,
          3.9031929840083017,
          3.9026345425409303,
          3.902077458364356,
          3.901521738090898,
          3.90096738774914,
          3.900414412786956,
          3.899862818074487,
          3.8993126079070777,
          3.8987637860081104,
          3.898216355531922,
          3.897670319066524,
          3.8971256786364017,
          3.896582435705221,
          3.896040591178489,
          3.895500172109463,
          3.8949613211660137,
          3.894423904100843,
          3.893887922756165,
          3.893353378548444,
          3.892820272471128,
          3.892288605097305,
          3.8917583765822896,
          3.891229586666195,
          3.8907022346764095,
          3.8901763195299703,
          3.8896518397359983,
          3.889128793397956,
          3.888607178215897,
          3.888086991488685,
          3.887568230116084,
          3.887050890600864,
          3.8865349690507847,
          3.8860204611805687,
          3.885507362313789,
          3.8849956673847057,
          3.88448537094005,
          3.883976467140712,
          3.883468993497351,
          3.882963087687846,
          3.882458595276626,
          3.8819555123504794,
          3.8814538347640126,
          3.8809535581428216,
          3.88045467788659,
          3.8799571891721096,
          3.879461086956247,
          3.878966365978752,
          3.8784730207650946,
          3.8779810456291273,
          3.877490434675727,
          3.8770011818033216,
          3.87651328070639,
          3.8760267248778257,
          3.8755415076112665,
          3.875057622003341,
          3.874575060955824,
          3.8740938171777346,
          3.8736138831873608,
          3.873135251314209,
          3.872657913700873,
          3.8721818649762496,
          3.8717071134819094,
          3.8712336534781024,
          3.870761480715694,
          3.8702905911172176,
          3.869820980787656,
          3.869352646024981,
          3.868885819625957,
          3.8684202482406183,
          3.867955810485114,
          3.867492529490604,
          3.8670305100660927,
          3.8665696765703608,
          3.8661100234133294,
          3.8656515741166926,
          3.8651943167599145,
          3.8647382394088816,
          3.864283335378581,
          3.863829597655831,
          3.863377020557521,
          3.8629255975562784,
          3.862475322014845,
          3.862026187188146,
          3.861578109298481,
          3.86113114424512,
          3.8606852876721462,
          3.86024053248819,
          3.859796871502569,
          3.859354297426992,
          3.858912802877166,
          3.858472380374436,
          3.8580330223472417,
          3.857594721132625,
          3.8571574689776367,
          3.856721258040668,
          3.856286034284662,
          3.8558517483988424,
          3.855418461589669,
          3.8549861657701503,
          3.8545548527688367,
          3.8541245143308713,
          3.853695142118875,
          3.853266727713848,
          3.8528392626160017,
          3.8524127382455218,
          3.8519871459432946,
          3.8515624769715657,
          3.8511387225145386,
          3.850715771369961,
          3.850293674166752,
          3.849872445959047,
          3.849452077712753,
          3.8490325603159783,
          3.848613884579271,
          3.8481960412358127,
          3.847779020941565,
          3.8473628142753538,
          3.846947411738913,
          3.846532803756833,
          3.8461189806764824,
          3.845705908203699,
          3.845293500634357,
          3.844881831099628,
          3.8444708897094015,
          3.84406066649306,
          3.843651151399018,
          3.84324233429422,
          3.8428342049635895,
          3.842426753109349,
          3.8420199683503897,
          3.8416138402214703,
          3.841208358172432,
          3.840803511567296,
          3.840399222095699,
          3.839995494128893,
          3.839592353327904,
          3.839189788758411,
          3.838787789392948,
          3.838386344109659,
          3.8379854416909103,
          3.837585070821916,
          3.837185220089205,
          3.836785877979083,
          3.8363870328759857,
          3.835988673060802,
          3.8355907822397266,
          3.8351932560616135,
          3.834796162322323,
          3.8343994884132417,
          3.8340032216124422,
          3.833607349082428,
          3.8332118578677616,
          3.832816734892624,
          3.8324219669583215,
          3.8320275407406625,
          3.8316334427872567,
          3.831239659514776,
          3.830846177206081,
          3.830452982007267,
          3.8300600599246377,
          3.829667396821596,
          3.829274978415392,
          3.8288827902738465,
          3.828490817811939,
          3.8280990462883144,
          3.827707460801693,
          3.8273160462871703,
          3.8269247689593993,
          3.826533589643843,
          3.826142527176108,
          3.8257515654619665,
          3.8253606882233666,
          3.824969878994088,
          3.82457912111522,
          3.824188397730648,
          3.8237976917823207,
          3.8234069860055144,
          3.8230162629239097,
          3.822625504844608,
          3.8222346938530394,
          3.821843811807743,
          3.821452840335054,
          3.821061760823705,
          3.820670554419285,
          3.820279202018585,
          3.8198876842639233,
          3.8194959815372465,
          3.819104073954214,
          3.818711941358152,
          3.818319558930346,
          3.817926906827638,
          3.8175339665369887,
          3.817140716706404,
          3.816747135679724,
          3.816353201490004,
          3.815958891852786,
          3.815564184159311,
          3.81516905546964,
          3.81477348250568,
          3.8143774416441905,
          3.813980908909683,
          3.813583859967245,
          3.8131862701153953,
          3.812788114278781,
          3.812389367000911,
          3.811990002436846,
          3.81158999434583,
          3.81118931608396,
          3.8107879405968097,
          3.810385840412081,
          3.80998298763225,
          3.809579356284624,
          3.8091749168706586,
          3.8087696401369286,
          3.8083634965685578,
          3.807956456190015,
          3.8075484885582287,
          3.8056305565431967,
          3.806038524174983,
          3.806445564553526,
          3.8068517081218967,
          3.8072569848556266,
          3.807661424269592,
          3.808065055617218,
          3.808467908397049,
          3.8088700085817777,
          3.809271384068928,
          3.809672062330798,
          3.810072070421814,
          3.810471434985879,
          3.810870182263749,
          3.8112683381003634,
          3.811665927952213,
          3.812062976894651,
          3.8124595096291585,
          3.812855550490648,
          3.813251123454608,
          3.813646252144279,
          3.814040959837754,
          3.814435269474972,
          3.814829203664692,
          3.815222784691372,
          3.8156160345219567,
          3.816008974812606,
          3.816401626915314,
          3.81679400934312,
          3.817186141939182,
          3.8175780495222145,
          3.8179697522488913,
          3.818361270003553,
          3.818752622404253,
          3.819143828808673,
          3.819534908320022,
          3.819925879792711,
          3.8203167618380074,
          3.820707572829576,
          3.8210983309088777,
          3.8214890539904824,
          3.8218797597672887,
          3.822270465715616,
          3.822661189100188,
          3.823051946979056,
          3.823442756208334,
          3.8238336334469345,
          3.824224595161076,
          3.824615657628811,
          3.8250068369443673,
          3.8253981142721383,
          3.825789528786661,
          3.8261811142732824,
          3.826572885796907,
          3.8269648582588145,
          3.82735704640036,
          3.827749464806564,
          3.8281421279096057,
          3.828535049992235,
          3.828928245191049,
          3.829321727499744,
          3.8297155107722247,
          3.8301096087256306,
          3.8305040349432895,
          3.830898802877592,
          3.8312939258527297,
          3.831689417067396,
          3.8320852895974102,
          3.8324815563982098,
          3.832878230307291,
          3.8332753240465816,
          3.8336728502246946,
          3.83407074104577,
          3.8344691008609537,
          3.834867945964051,
          3.835267288074173,
          3.835667138806884,
          3.8360675096758783,
          3.836468412094627,
          3.836869857377916,
          3.8372718567433792,
          3.837674421312872,
          3.838077562113861,
          3.838481290080667,
          3.838885579552264,
          3.8392904261574,
          3.8396959082064384,
          3.8401020363353577,
          3.840508821094317,
          3.8409162729485575,
          3.841324402279188,
          3.841733219383986,
          3.842142734478028,
          3.8425529576943696,
          3.842963899084596,
          3.843375568619325,
          3.843787976188667,
          3.8442010486614504,
          3.844614871741801,
          3.845029479723881,
          3.8454448822603218,
          3.845861088926533,
          3.8462781092207807,
          3.846695952564239,
          3.8471146283009463,
          3.847534145697721,
          3.847954513944015,
          3.84837574215172,
          3.848797839354929,
          3.8492207904995066,
          3.8496445449565337,
          3.850069213928262,
          3.85049480623049,
          3.8509213306009697,
          3.851348795698816,
          3.851777210103843,
          3.8522065823158393,
          3.8526369207538047,
          3.8530682337551183,
          3.853500529574637,
          3.8539338163838104,
          3.85436810226963,
          3.854803326025636,
          3.8552395369626047,
          3.855676789117593,
          3.8561150903322097,
          3.856554448359404,
          3.856994870862134,
          3.85743636541196,
          3.857878939487537,
          3.858322600473158,
          3.8587673556571143,
          3.859213212230088,
          3.859660177283449,
          3.860108255173114,
          3.860557389999813,
          3.8610076655412464,
          3.861459088542489,
          3.861911665640799,
          3.862365403363549,
          3.8628203073938496,
          3.8632763847448826,
          3.8637336421016606,
          3.8641920913982974,
          3.864651744555329,
          3.8651125780510607,
          3.865574597475572,
          3.866037878470082,
          3.8665023162255863,
          3.8669678876109246,
          3.867434714009949,
          3.867903048772624,
          3.8683726591021856,
          3.8688435487006614,
          3.8693157214630705,
          3.8697891814668774,
          3.8702639329612176,
          3.870739981685841,
          3.871217319299177,
          3.871695951172329,
          3.8721758851627026,
          3.872657128940792,
          3.873139689988309,
          3.8736235755962345,
          3.8741087928627937,
          3.874595348691358,
          3.8750832497882897,
          3.875572502660695,
          3.8760631136140953,
          3.8765550887500626,
          3.87704843396372,
          3.877543154941215,
          3.8780392571570776,
          3.878536745871558,
          3.8790356261277896,
          3.8795359027489806,
          3.880037580335447,
          3.880540663261594,
          3.881045155672814,
          3.881551061482319,
          3.88205853512568,
          3.882567438925018,
          3.8830777353696737,
          3.883589430298757,
          3.8841025291655367,
          3.8846170370357527,
          3.885132958585832,
          3.885650298101052,
          3.886169059473653,
          3.886689246200865,
          3.887210861382924,
          3.8877339077209663,
          3.8882583875149384,
          3.8887843026613775,
          3.889311654651163,
          3.8898404445672576,
          3.890370673082273,
          3.890902340456096,
          3.891435446533412,
          3.891969990741133,
          3.892505972085811,
          3.8930433891509817,
          3.893582240094431,
          3.894122659163457,
          3.894664503690189,
          3.8952077466213697,
          3.895752387051492,
          3.89629842351689,
          3.8968458539930784,
          3.8973946758920457,
          3.897944886059455,
          3.898496480771924,
          3.899049455734108,
          3.899603806075866,
          3.900159526349324,
          3.9007166105258984,
          3.9012750519932697,
          3.9018348435523658,
          3.902395977414223,
          3.9029584451968495,
          3.903522237922065,
          3.9040873460122176,
          3.9046537592869455,
          3.9052214669598073,
          3.905790457634932,
          3.9063607193035974,
          3.906932280907028,
          3.9075050801866498,
          3.9080790998181927,
          3.908654326661998,
          3.909230746903974,
          3.909808346048075,
          3.910387108908728,
          3.9109670196031527,
          3.9115480615436713,
          3.9121302174298775,
          3.9127134692408014,
          3.913297798226957,
          3.913883184902355,
          3.9144696126065863,
          3.915057056774956,
          3.915645494385349,
          3.9162349031478896,
          3.9168252599745146,
          3.9174165409714266,
          3.918008721431536,
          3.918601775826776,
          3.919195677800519,
          3.919790400159832,
          3.920385914867819,
          3.9209821930358912,
          3.921579204916032,
          3.9221769052949376,
          3.922775272059736,
          3.92337428501254,
          3.923973909694503,
          3.924574110860524,
          3.9251748524671863,
          3.925776097660687,
          3.9263778087647063,
          3.9269799472682223,
          3.927582473813304,
          3.9281853481828857,
          3.928788529288513,
          3.929391975158113,
          3.9299956406785257,
          3.9305994819762304,
          3.9312034582608817,
          3.9318075236366488,
          3.932411631288504,
          3.93301573346926,
          3.933619781486691,
          3.9342237256907504,
          3.934827515460894,
          3.935431099193644,
          3.936034424290153,
          3.936637437144128,
          3.9372400831298857,
          3.937842320351256,
          3.938444117669395,
          3.939045360379463,
          3.939645992675973,
          3.940245957390188,
          3.940845195992178,
          3.941443648593342,
          3.942041253949754,
          3.942637949465964,
          3.9432336711996343,
          3.943828353866805,
          3.9444219308479473,
          3.945014334194776,
          3.945605496903674,
          3.946195395447931,
          3.946783891865075,
          3.9473709158454904,
          3.947956395517523,
          3.948540257472157,
          3.9491224267888296,
          3.949702827062566,
          3.9502813804322705,
          3.950858007610341,
          3.951432627913615,
          3.952005159295611,
          3.952575518380232,
          3.953143620496851,
          3.9537093163061297,
          3.9542725941652312,
          3.954833373526309,
          3.9553915612001616,
          3.9559470632971023,
          3.956499785251752,
          3.957049631849463,
          3.9575965072545904,
          3.9581403150405374,
          3.9586809582217346,
          3.9592183392877383,
          3.959752360239456,
          3.96028292262765,
          3.960809798997243,
          3.961333012189156,
          3.9618525205905777,
          3.9623682146066033,
          3.962879985499251,
          3.963387725385157,
          3.963891327236387,
          3.964390684884768,
          3.96488569302987,
          3.965376247251123,
          3.965862244024195,
          3.9663435807421954,
          3.966820155741696,
          3.967291790673888,
          3.9677584293218495,
          3.968220050759392,
          3.9686765487547135,
          3.969127819224445,
          3.969573760248242,
          3.970014272090672,
          3.970449257230859,
          3.970878620400317,
          3.971302268629761,
          3.971720111305214,
          3.972132060234088,
          3.9725380297217647,
          3.9729379122389847,
          3.973331625605096,
          3.97371914463728,
          3.974100388427908,
          3.974475279757335,
          3.97484374525843,
          3.975205715590643,
          3.975561125624201,
          3.9759099033814382,
          3.976251957311612,
          3.97658731256441,
          3.976915915223558,
          3.977237717749937,
          3.97755267918003,
          3.9778607653369744,
          3.97816194905585,
          3.978456210423788,
          3.978743489175291,
          3.9790238506974407,
          3.979297295209243,
          3.9795638287346553,
          3.9798234669051182,
          3.9800762352511945,
          3.9803221695164535,
          3.9805613159949975,
          3.980793720506724,
          3.981019467813144,
          3.9812386405424776,
          3.981451328493656,
          3.981657634419575,
          3.981857671635521,
          3.982051573479617,
          3.982239487230351,
          3.982421571538738,
          3.9825980011827977,
          3.9827689647536033,
          3.9829346708488935,
          3.983095355769773,
          3.9832512633799886,
          3.983402657991882,
          3.9835498246096854,
          3.983693051006136,
          3.9838327047815296,
          3.9839691344669057,
          3.984102715294485,
          3.9842338501568575,
          3.98436293950926,
          3.984490492573762,
          3.9846170043089626,
          3.9847429911805454,
          3.984869005603578,
          3.984995613358277,
          3.98512346937962,
          3.985253262073523,
          3.985385693740717,
          3.985521512684542,
          3.985661509014746,
          3.9858065323850767,
          3.9859575005663808,
          3.986115363637524,
          3.9862811250574497,
          3.9864558691899346,
          3.98664073096836,
          3.986836912183384,
          3.987045702813064,
          3.987268466529538,
          3.987506638619568,
          3.987761772874038,
          3.9880355307676822,
          3.988329641005353,
          3.988645899573653,
          3.9889864427618535,
          3.9893533432259582,
          3.989748690105896,
          3.9901751478936585,
          3.9906352900433673,
          3.991131723461843,
          3.991667544677579,
          3.99224609672379,
          3.9928708047194506,
          3.993545464370797,
          3.994274369489449,
          3.9950621071450354,
          3.995913778169626,
          3.996834990325863,
          3.9978320700687417,
          3.998911870349577,
          4.0000824141193325,
          4.0013520801991,
          4.00273120734145,
          4.004230510477585,
          4.005863579254455,
          4.007645425936734,
          4.00959453779341,
          4.011732671575551,
          4.014086077826713,
          4.016686713423388,
          4.019572670529464,
          4.022791948843911,
          4.026404826936996,
          4.030487860898231,
          4.035140373823522,
          4.040489419209232,
          4.046694919855095,
          4.053945160277089,
          4.062342400935392
         ]
        },
        {
         "mode": "markers",
         "name": "Target",
         "type": "scatter",
         "x": [
          0,
          2,
          4,
          6,
          8,
          10,
          12,
          14,
          16,
          18,
          20,
          22,
          24,
          26,
          28,
          30,
          32,
          34,
          36,
          38,
          40,
          42,
          44,
          46,
          48,
          50,
          52,
          54,
          56,
          58,
          60,
          62,
          64,
          66,
          68,
          70,
          72,
          74,
          76,
          78,
          80,
          82,
          84,
          86,
          88,
          90,
          92,
          94,
          96,
          98,
          100,
          102,
          104,
          106,
          108,
          110,
          112,
          114,
          116,
          118,
          120,
          122,
          124,
          126,
          128,
          130,
          132,
          134,
          136,
          138,
          140,
          142,
          144,
          146,
          148,
          150,
          152,
          154,
          156,
          158,
          160,
          162,
          164,
          166,
          168,
          170,
          172,
          174,
          176,
          178,
          180,
          182,
          184,
          186,
          188,
          190,
          192,
          194,
          196,
          198,
          200,
          202,
          204,
          206,
          208,
          210,
          212,
          214,
          216,
          218,
          220,
          222,
          224,
          226,
          228,
          230,
          232,
          234,
          236,
          238,
          240,
          242,
          244,
          246,
          248,
          250,
          252,
          254,
          256,
          258,
          260,
          262,
          264,
          266,
          268,
          270,
          272,
          274,
          276,
          278,
          280,
          282,
          284,
          286,
          288,
          290,
          292,
          294,
          296,
          298,
          300,
          302,
          304,
          306,
          308,
          310,
          312,
          314,
          316,
          318,
          320,
          322,
          324,
          326,
          328,
          330,
          332,
          334,
          336,
          338,
          340,
          342,
          344,
          346,
          348,
          350,
          352,
          354,
          356,
          358,
          360,
          362,
          364,
          366,
          368,
          370,
          372,
          374,
          376,
          378,
          380,
          382,
          384,
          386,
          388,
          390,
          392,
          394,
          396,
          398,
          400,
          402,
          404,
          406,
          408,
          410,
          412,
          414,
          416,
          418,
          420,
          422,
          424,
          426,
          428,
          430,
          432,
          434,
          436,
          438,
          440,
          442,
          444,
          446,
          448,
          450,
          452,
          454,
          456,
          458,
          460,
          462,
          464,
          466,
          468,
          470,
          472,
          474,
          476,
          478,
          480,
          482,
          484,
          486,
          488,
          490,
          492,
          494,
          496,
          498,
          500,
          502,
          504,
          506,
          508,
          510,
          512,
          514,
          516,
          518,
          520,
          522,
          524,
          526,
          528,
          530,
          532,
          534,
          536,
          538,
          540,
          542,
          544,
          546,
          548,
          550,
          552,
          554,
          556,
          558,
          560,
          562,
          564,
          566,
          568,
          570,
          572,
          574,
          576,
          578,
          580,
          582,
          584,
          586,
          588,
          590,
          592,
          594,
          596,
          598,
          600,
          602,
          604,
          606,
          608,
          610,
          612,
          614,
          616,
          618,
          620,
          622,
          624,
          626,
          628,
          630,
          632,
          634,
          636,
          638,
          640,
          642,
          644,
          646,
          648,
          650,
          652,
          654,
          656,
          658,
          660,
          662,
          664,
          666,
          668,
          670,
          672,
          674,
          676,
          678,
          680,
          682,
          684,
          686,
          688,
          690,
          692,
          694,
          696,
          698,
          700,
          702,
          704,
          706,
          708,
          710,
          712,
          714,
          716,
          718,
          720,
          722,
          724,
          726,
          728,
          730,
          732,
          734,
          736,
          738,
          740,
          742,
          744,
          746,
          748,
          750,
          752,
          754,
          756,
          758,
          760,
          762,
          764,
          766,
          768,
          770,
          772,
          774,
          776,
          778,
          780,
          782,
          784,
          786,
          788,
          790,
          792,
          794,
          796,
          798,
          800,
          802,
          804,
          806,
          808,
          810,
          812,
          814,
          816,
          818,
          820,
          822,
          824,
          826,
          828,
          830,
          832,
          834,
          836,
          838,
          840,
          842,
          844,
          846,
          848,
          850,
          852,
          854,
          856,
          858,
          860,
          862,
          864,
          866,
          868,
          870,
          872,
          874,
          876,
          878,
          880,
          882,
          884,
          886,
          888,
          890,
          892,
          894,
          896,
          898
         ],
         "y": [
          4.063316852435602,
          4.056208765354541,
          4.048557080260912,
          4.040914948309032,
          4.035107388323031,
          4.0316209578534234,
          4.028598675935667,
          4.023426004893352,
          4.021292727383525,
          4.017021890677268,
          4.012975155188826,
          4.013301075295993,
          4.0104527964329355,
          4.007647290414742,
          4.005574283191637,
          4.005823768361199,
          4.002737956818605,
          4.0028403387419695,
          4.00220414577378,
          4.0015474141530865,
          3.999469179697504,
          3.997797663828473,
          3.997819294598826,
          3.995456734629008,
          3.994664606911642,
          3.9957660732748175,
          3.9947113559543856,
          3.993192681295931,
          3.992719076609304,
          3.992234577538066,
          3.9914657903014352,
          3.990101672961132,
          3.990335501690317,
          3.990108955465178,
          3.988621274585786,
          3.987537189896979,
          3.989622051194655,
          3.988084628384094,
          3.987120541943893,
          3.9880760726337585,
          3.98907606907527,
          3.987058302431552,
          3.9873856484698105,
          3.987148251524266,
          3.985625521632212,
          3.988065774275503,
          3.9873120968128712,
          3.986256167493079,
          3.987088163267585,
          3.988143983384717,
          3.987509249758301,
          3.986029868019604,
          3.986516902851974,
          3.987216650884984,
          3.9863352625243382,
          3.98475010776851,
          3.985944818955333,
          3.9847722855268737,
          3.98655578459638,
          3.9847630717138367,
          3.984032247749398,
          3.9847351125970727,
          3.984545807595497,
          3.986305578706914,
          3.984869007394037,
          3.9846871006680336,
          3.984066711922765,
          3.9833857755729194,
          3.984215340737964,
          3.983506281053155,
          3.9840512346249617,
          3.9833509445601702,
          3.9829639280678233,
          3.9821259086210383,
          3.98322317459241,
          3.9822006293547543,
          3.9829014587010954,
          3.98292038508256,
          3.9801308463474063,
          3.9820737212754014,
          3.981622863936407,
          3.981310295248388,
          3.983294153342889,
          3.981729896358351,
          3.9800981951403185,
          3.980758165849979,
          3.981329262548772,
          3.9799687469126215,
          3.9796909458004497,
          3.981154160085456,
          3.980361829857391,
          3.977948716738303,
          3.9780754604261177,
          3.977321935157691,
          3.975295171316911,
          3.977320728682469,
          3.9793409239157,
          3.976557828538108,
          3.9759662428476226,
          3.974849066967581,
          3.975636703646064,
          3.974786097402641,
          3.976339256942752,
          3.9752561041037753,
          3.9749103159949706,
          3.972550980142258,
          3.9733359660614136,
          3.973303043753626,
          3.97187489050498,
          3.971820470419705,
          3.9710552332586526,
          3.973009571175853,
          3.9732316742876663,
          3.970586858266038,
          3.969770800727748,
          3.9677765141023538,
          3.9708681968417414,
          3.969229790531219,
          3.9673233557382086,
          3.968763165619063,
          3.968194772463423,
          3.966432518934401,
          3.965277352780451,
          3.966710533112004,
          3.96587486304797,
          3.96556711785954,
          3.9657138224865265,
          3.962937838111006,
          3.96444913407295,
          3.9647762150072583,
          3.960728392763308,
          3.9626037010658366,
          3.961942581199413,
          3.9609346715791096,
          3.9603395675245703,
          3.961040286657915,
          3.957666286284489,
          3.959227711959158,
          3.959674637367426,
          3.9571526626263127,
          3.954873215106217,
          3.957224944390881,
          3.955451236378557,
          3.9540500562184375,
          3.954325675835695,
          3.9545612144246767,
          3.954144122005261,
          3.954259345045105,
          3.95481772859789,
          3.95217758434784,
          3.952148240571275,
          3.951040132871348,
          3.949251237228026,
          3.947587291207306,
          3.948617653340526,
          3.948720200425972,
          3.9483555562290342,
          3.9481016128549618,
          3.946732264280564,
          3.9463465518272183,
          3.944850738286223,
          3.9453486599045817,
          3.943222932543005,
          3.9440346720085215,
          3.9425997620769135,
          3.942830665862968,
          3.941777016799422,
          3.9401951649425424,
          3.94035211453462,
          3.940439078497019,
          3.939276031848431,
          3.9388451747676014,
          3.93924162780022,
          3.936811333152371,
          3.9374519584733103,
          3.9354946185143658,
          3.936790088253856,
          3.933840984425747,
          3.9334059525219742,
          3.933499334564671,
          3.933864242691521,
          3.9341518275965774,
          3.932378843224009,
          3.932094447992212,
          3.931849721572781,
          3.930385219542485,
          3.9295786888054063,
          3.929173522326594,
          3.9294038731434,
          3.927794257036669,
          3.9265373706741222,
          3.925220272263997,
          3.925614353098005,
          3.926583769470803,
          3.92596942382635,
          3.923766498360429,
          3.924600309648354,
          3.9240317170877086,
          3.9206545914879247,
          3.9229624604818345,
          3.920904121305461,
          3.922035535408469,
          3.9213014512368023,
          3.9205320192025503,
          3.919052040802787,
          3.920169552474122,
          3.916865341554688,
          3.917335034052436,
          3.916643429136777,
          3.9149415862576102,
          3.916914005059162,
          3.914815056894573,
          3.9152704744845375,
          3.914673048086096,
          3.911504863125051,
          3.913125369245392,
          3.9121022887340455,
          3.9103925424866066,
          3.911406704217715,
          3.9115711428878424,
          3.9080019236563097,
          3.911419736486131,
          3.907877700281851,
          3.907092853870112,
          3.907150472472923,
          3.906236856668966,
          3.906245569460833,
          3.9037012581788657,
          3.9041303271732257,
          3.9054199314530735,
          3.902796294680427,
          3.903718987479453,
          3.9012718037518335,
          3.903455092115934,
          3.9022312139424185,
          3.902170069563942,
          3.901185944415845,
          3.899224612519012,
          3.898267636487287,
          3.899599656578459,
          3.8998520236394953,
          3.897320673831119,
          3.8965849582820344,
          3.8958941955153943,
          3.8962808586607127,
          3.897221707107678,
          3.8951304705695247,
          3.893989607429907,
          3.895310051028976,
          3.891888840298102,
          3.892498936239659,
          3.8932090117114977,
          3.8931360205480607,
          3.891064375798883,
          3.8915821593582263,
          3.8910625218347663,
          3.890274230904227,
          3.889818300477958,
          3.891154778976592,
          3.889081389783803,
          3.886207069450396,
          3.887387024424036,
          3.886552949715929,
          3.886489254965051,
          3.8852712497127846,
          3.8854024424051143,
          3.884327416604259,
          3.8856998235675846,
          3.8842950188205663,
          3.883970786118674,
          3.880989948941136,
          3.882533753444134,
          3.8814018389670766,
          3.881524891492765,
          3.8804234013688865,
          3.8797085013292847,
          3.879755180853216,
          3.879880119078155,
          3.878221695366005,
          3.8780914647807103,
          3.87812781015874,
          3.8780175179050262,
          3.8763701352749136,
          3.8767942794105585,
          3.8770929693329688,
          3.8774552628770698,
          3.8740516284315074,
          3.8741071106365994,
          3.872758345663138,
          3.874872152701664,
          3.8715435214328098,
          3.872670828394842,
          3.8738776945293334,
          3.8706907676934312,
          3.871523258403328,
          3.870076264346411,
          3.868840455157122,
          3.869191595647318,
          3.8677892224579153,
          3.870489368645821,
          3.867286246770909,
          3.867014397552421,
          3.8659520734074295,
          3.866850710434623,
          3.8658015479575982,
          3.8658320574019776,
          3.864216331837168,
          3.8653966485360782,
          3.86379292212878,
          3.86485258954837,
          3.8637873784053025,
          3.862188677437094,
          3.86366101171771,
          3.861894213929925,
          3.861238119044843,
          3.8609310774043752,
          3.8589415015113646,
          3.8581945695217774,
          3.85848740421776,
          3.859001695172195,
          3.860436975139527,
          3.8582597878518032,
          3.857156938491188,
          3.857179017333942,
          3.856700338961284,
          3.856045528820108,
          3.85567906581045,
          3.855639350508539,
          3.855276722077614,
          3.853598430308031,
          3.856471075412357,
          3.853260893358633,
          3.8530468334048424,
          3.850908533357765,
          3.85309299796771,
          3.851283553089066,
          3.853077202813849,
          3.850132176656393,
          3.8524779652981698,
          3.848330040949235,
          3.851461512673494,
          3.848313573364299,
          3.8498076476101297,
          3.8479919782159895,
          3.847778408006768,
          3.84732520261816,
          3.848034198883768,
          3.8468991449515264,
          3.8476575297509887,
          3.8453182722648593,
          3.846779481822976,
          3.846815793813399,
          3.8449539926213943,
          3.8443960426241666,
          3.8447417313219945,
          3.8437310615044353,
          3.8432128292439054,
          3.842375048019766,
          3.841669440142653,
          3.843156223893458,
          3.841286540408986,
          3.84111232115921,
          3.8406879962489926,
          3.8410217779528137,
          3.839830218645939,
          3.839503397707325,
          3.838606422949163,
          3.837134084853471,
          3.83881186302182,
          3.8390096969376457,
          3.83865760103825,
          3.837196815371407,
          3.8366499289134266,
          3.836978243865555,
          3.836072135463952,
          3.835651253425086,
          3.833446732104823,
          3.8348665134475266,
          3.83483398555556,
          3.8339071230050674,
          3.8337260558118342,
          3.8329298418836304,
          3.834172684549629,
          3.832627067330249,
          3.832161523241389,
          3.8323695697570246,
          3.8315053730516855,
          3.829593574487552,
          3.830894733110041,
          3.8291618419671702,
          3.8302569365890857,
          3.829411560012668,
          3.827639049769717,
          3.827102247855191,
          3.829171695996437,
          3.82737739859058,
          3.827537182317615,
          3.8275081784855014,
          3.8259617689331327,
          3.8258838495261385,
          3.824568573927784,
          3.824668081085507,
          3.823323160308574,
          3.825766756492329,
          3.8270240336862704,
          3.823096218965891,
          3.823126120787766,
          3.8227041933411146,
          3.8228347236500353,
          3.823287422335571,
          3.82431379131002,
          3.822393996487309,
          3.821284527917933,
          3.8205012103670017,
          3.820638042354416,
          3.8184375033547657,
          3.8197733534982383,
          3.8187249782871984,
          3.8175826359535927,
          3.820346638428277,
          3.819251364581688,
          3.816647021290933,
          3.817168966122999,
          3.8171783252969727,
          3.8185304288189825,
          3.81564026552631,
          3.8140732779520223,
          3.814441079983572,
          3.8160802865196426,
          3.814488813210758,
          3.8138396251810542,
          3.8146101071631784,
          3.81440830279387,
          3.8131744131224488,
          3.811855917436637,
          3.812582776078989,
          3.8122125320384166,
          3.811514303199616,
          3.810689081976909,
          3.810787030225234,
          3.8091354151982486,
          3.810968890189926,
          3.8085824967348154,
          3.8081333668611657,
          3.807778625866613,
          3.807325171649645,
          3.807951193334397,
          3.807509273079961,
          3.806799140231,
          3.806135801917686
         ]
        },
        {
         "line": {
          "width": 4
         },
         "mode": "lines",
         "name": "Model",
         "type": "scatter",
         "x": [
          0,
          2,
          4,
          6,
          8,
          10,
          12,
          14,
          16,
          18,
          20,
          22,
          24,
          26,
          28,
          30,
          32,
          34,
          36,
          38,
          40,
          42,
          44,
          46,
          48,
          50,
          52,
          54,
          56,
          58,
          60,
          62,
          64,
          66,
          68,
          70,
          72,
          74,
          76,
          78,
          80,
          82,
          84,
          86,
          88,
          90,
          92,
          94,
          96,
          98,
          100,
          102,
          104,
          106,
          108,
          110,
          112,
          114,
          116,
          118,
          120,
          122,
          124,
          126,
          128,
          130,
          132,
          134,
          136,
          138,
          140,
          142,
          144,
          146,
          148,
          150,
          152,
          154,
          156,
          158,
          160,
          162,
          164,
          166,
          168,
          170,
          172,
          174,
          176,
          178,
          180,
          182,
          184,
          186,
          188,
          190,
          192,
          194,
          196,
          198,
          200,
          202,
          204,
          206,
          208,
          210,
          212,
          214,
          216,
          218,
          220,
          222,
          224,
          226,
          228,
          230,
          232,
          234,
          236,
          238,
          240,
          242,
          244,
          246,
          248,
          250,
          252,
          254,
          256,
          258,
          260,
          262,
          264,
          266,
          268,
          270,
          272,
          274,
          276,
          278,
          280,
          282,
          284,
          286,
          288,
          290,
          292,
          294,
          296,
          298,
          300,
          302,
          304,
          306,
          308,
          310,
          312,
          314,
          316,
          318,
          320,
          322,
          324,
          326,
          328,
          330,
          332,
          334,
          336,
          338,
          340,
          342,
          344,
          346,
          348,
          350,
          352,
          354,
          356,
          358,
          360,
          362,
          364,
          366,
          368,
          370,
          372,
          374,
          376,
          378,
          380,
          382,
          384,
          386,
          388,
          390,
          392,
          394,
          396,
          398,
          400,
          402,
          404,
          406,
          408,
          410,
          412,
          414,
          416,
          418,
          420,
          422,
          424,
          426,
          428,
          430,
          432,
          434,
          436,
          438,
          440,
          442,
          444,
          446,
          448,
          450,
          452,
          454,
          456,
          458,
          460,
          462,
          464,
          466,
          468,
          470,
          472,
          474,
          476,
          478,
          480,
          482,
          484,
          486,
          488,
          490,
          492,
          494,
          496,
          498,
          500,
          502,
          504,
          506,
          508,
          510,
          512,
          514,
          516,
          518,
          520,
          522,
          524,
          526,
          528,
          530,
          532,
          534,
          536,
          538,
          540,
          542,
          544,
          546,
          548,
          550,
          552,
          554,
          556,
          558,
          560,
          562,
          564,
          566,
          568,
          570,
          572,
          574,
          576,
          578,
          580,
          582,
          584,
          586,
          588,
          590,
          592,
          594,
          596,
          598,
          600,
          602,
          604,
          606,
          608,
          610,
          612,
          614,
          616,
          618,
          620,
          622,
          624,
          626,
          628,
          630,
          632,
          634,
          636,
          638,
          640,
          642,
          644,
          646,
          648,
          650,
          652,
          654,
          656,
          658,
          660,
          662,
          664,
          666,
          668,
          670,
          672,
          674,
          676,
          678,
          680,
          682,
          684,
          686,
          688,
          690,
          692,
          694,
          696,
          698,
          700,
          702,
          704,
          706,
          708,
          710,
          712,
          714,
          716,
          718,
          720,
          722,
          724,
          726,
          728,
          730,
          732,
          734,
          736,
          738,
          740,
          742,
          744,
          746,
          748,
          750,
          752,
          754,
          756,
          758,
          760,
          762,
          764,
          766,
          768,
          770,
          772,
          774,
          776,
          778,
          780,
          782,
          784,
          786,
          788,
          790,
          792,
          794,
          796,
          798,
          800,
          802,
          804,
          806,
          808,
          810,
          812,
          814,
          816,
          818,
          820,
          822,
          824,
          826,
          828,
          830,
          832,
          834,
          836,
          838,
          840,
          842,
          844,
          846,
          848,
          850,
          852,
          854,
          856,
          858,
          860,
          862,
          864,
          866,
          868,
          870,
          872,
          874,
          876,
          878,
          880,
          882,
          884,
          886,
          888,
          890,
          892,
          894,
          896,
          898
         ],
         "y": [
          4.063301366942908,
          4.0549041262846055,
          4.047653885862611,
          4.041448385216748,
          4.036099339831038,
          4.031446826905747,
          4.027363792944512,
          4.023750914851427,
          4.0205316365369805,
          4.017645679430904,
          4.015045043834229,
          4.0126916375830675,
          4.010553503800926,
          4.0086043919442504,
          4.006822545261971,
          4.005189476485102,
          4.003690173348966,
          4.002311046206616,
          4.001041380126849,
          3.999870836357093,
          3.9987910360762577,
          3.997793956333379,
          3.996872744177142,
          3.9960210731525514,
          3.995233335496965,
          3.994504430378313,
          3.9938297707269665,
          3.993205062731306,
          3.992626510685096,
          3.992090689469359,
          3.9915942560508832,
          3.9911341139011745,
          3.990707656113411,
          3.9903123092334742,
          3.9899454087693695,
          3.989604865581169,
          3.989288607012869,
          3.9889944967751982,
          3.988720738881554,
          3.988465604627084,
          3.988227432537054,
          3.988004668820581,
          3.9877958781909,
          3.987599696975875,
          3.9874148351974505,
          3.987240091064965,
          3.98707432964504,
          3.9869164665738968,
          3.9867654983925926,
          3.986620475022262,
          3.986480478692058,
          3.986344659748233,
          3.986212228081039,
          3.986082435387136,
          3.985954579365793,
          3.985827971611094,
          3.9857019571880614,
          3.9855759703164786,
          3.985449458581278,
          3.985321905516776,
          3.9851928161643735,
          3.985061681302001,
          3.9849281004744217,
          3.9847916707890456,
          3.984652017013652,
          3.9845087906172014,
          3.984361623999398,
          3.984210229387505,
          3.9840543217772897,
          3.9838936368564095,
          3.9837279307611193,
          3.9835569671903137,
          3.983380537546254,
          3.983198453237867,
          3.983010539487133,
          3.982816637643037,
          3.982616600427091,
          3.982410294501172,
          3.9821976065499936,
          3.981978433820659,
          3.98175268651424,
          3.9815202820025135,
          3.9812811355239694,
          3.9810352012587105,
          3.9807824329126342,
          3.9805227947421713,
          3.98025626121676,
          3.9799828167049567,
          3.979702455182807,
          3.979415176431304,
          3.979120915063366,
          3.9788197313444904,
          3.978511645187546,
          3.978196683757453,
          3.977874881231074,
          3.9775462785719258,
          3.977210923319128,
          3.9768688693889542,
          3.976520091631717,
          3.976164681598159,
          3.975802711265946,
          3.975434245764851,
          3.975059354435424,
          3.974678110644796,
          3.974290591612612,
          3.9738968782465007,
          3.9734969957292807,
          3.973091026241604,
          3.97267907731273,
          3.972261234637277,
          3.9718375864078337,
          3.971408223238376,
          3.970973238098188,
          3.970532726255758,
          3.970086785231961,
          3.9696355147622295,
          3.969179016766908,
          3.9687173953293655,
          3.968250756681403,
          3.967779121749212,
          3.9673025467497114,
          3.966821210031711,
          3.966335213258639,
          3.965844659037386,
          3.965349650892284,
          3.964850293243904,
          3.964346691392672,
          3.963838951506767,
          3.9633271806141193,
          3.9628114865980937,
          3.962291978196672,
          3.961768765004759,
          3.961241888635166,
          3.960711326246973,
          3.9601773052952542,
          3.9596399242292506,
          3.9590992810480534,
          3.9585554732621064,
          3.958008597856979,
          3.957458751259268,
          3.9569060293046183,
          3.9563505272076775,
          3.955792339533825,
          3.9552315601727472,
          3.9546682823136456,
          3.954102586504367,
          3.953534484387748,
          3.952964125303128,
          3.952391593921131,
          3.951816973617857,
          3.9512403464397865,
          3.950661793070082,
          3.9500813927963456,
          3.949499223479672,
          3.948915361525039,
          3.9483298818530064,
          3.947742857872591,
          3.947154361455448,
          3.94656446291119,
          3.945973300202292,
          3.9453808968554633,
          3.944787319874321,
          3.9441926372071503,
          3.94359691547348,
          3.94300021995727,
          3.942402614600858,
          3.941804161999694,
          3.941204923397704,
          3.940604958683489,
          3.940004326386979,
          3.939403083676912,
          3.938801286358772,
          3.9381990491374017,
          3.937596403151644,
          3.936993390297669,
          3.93639006520116,
          3.93578648146841,
          3.9351826916982664,
          3.934578747494208,
          3.933974699476776,
          3.93337059729602,
          3.9327664896441648,
          3.9321624242683977,
          3.9315584479837464,
          3.9309546066860417,
          3.9303509411656288,
          3.929747495296029,
          3.9291443141904017,
          3.92854143982082,
          3.9279389132757383,
          3.9273367747722223,
          3.926735063668203,
          3.9261338184747023,
          3.92553307686804,
          3.924932875702019,
          3.924333251020056,
          3.923734238067252,
          3.9231358713024536,
          3.922538170923548,
          3.9219411590434072,
          3.921344880875335,
          3.920749366167348,
          3.920154643808035,
          3.919560741834293,
          3.918967687439052,
          3.9183755069789425,
          3.9177842259820306,
          3.9171938691554056,
          3.916604460392865,
          3.916016022782472,
          3.9154285786141023,
          3.9148421509098714,
          3.914256764234473,
          3.9136724352483174,
          3.9130891834373935,
          3.9125070275511873,
          3.9119259856106687,
          3.911346074916244,
          3.910767312055591,
          3.91018971291149,
          3.909613292669514,
          3.9090380658257087,
          3.9084640461941658,
          3.907891246914544,
          3.9073196853111134,
          3.906749423642448,
          3.9061804329673233,
          3.9056127252944615,
          3.9050463120197336,
          3.904481203929581,
          3.9039174112043655,
          3.903354943421739,
          3.9027938095598818,
          3.9022340180007857,
          3.9016755765334143,
          3.90111849235684,
          3.900562772083382,
          3.900008421741624,
          3.89945544677944,
          3.898903852066971,
          3.8983536418995617,
          3.8978048200005944,
          3.897257389524406,
          3.896711353059008,
          3.8961667126288857,
          3.895623469697705,
          3.895081625170973,
          3.894541206101947,
          3.8940023551584977,
          3.893464938093327,
          3.892928956748649,
          3.892394412540928,
          3.891861306463612,
          3.891329639089789,
          3.8907994105747736,
          3.890270620658679,
          3.8897432686688935,
          3.8892173535224543,
          3.8886928737284823,
          3.88816982739044,
          3.887648212208381,
          3.887128025481168,
          3.886609264108568,
          3.886091924593348,
          3.8855760030432687,
          3.8850614951730527,
          3.884548396306273,
          3.8840367013771897,
          3.883526404932534,
          3.883017501133196,
          3.882510027489835,
          3.88200412168033,
          3.88149962926911,
          3.880996546342963,
          3.8804948687564966,
          3.8799945921353056,
          3.879495711879074,
          3.8789982231645936,
          3.878502120948731,
          3.878007399971236,
          3.8775140547575786,
          3.8770220796216113,
          3.876531468668211,
          3.8760422157958057,
          3.875554314698874,
          3.8750677588703097,
          3.8745825416037505,
          3.874098655995825,
          3.873616094948307,
          3.8731348511702186,
          3.872654917179845,
          3.872176285306693,
          3.871698947693357,
          3.8712228989687336,
          3.8707481474743934,
          3.8702746874705864,
          3.869802514708178,
          3.8693316251097016,
          3.86886201478014,
          3.868393680017465,
          3.867926853618441,
          3.8674612822331023,
          3.866996844477598,
          3.866533563483088,
          3.8660715440585767,
          3.8656107105628448,
          3.8651510574058134,
          3.8646926081091766,
          3.8642353507523985,
          3.8637792734013656,
          3.863324369371065,
          3.862870631648315,
          3.862418054550005,
          3.8619666315487624,
          3.861516356007329,
          3.86106722118063,
          3.860619143290965,
          3.860172178237604,
          3.8597263216646303,
          3.859281566480674,
          3.858837905495053,
          3.858395331419476,
          3.85795383686965,
          3.85751341436692,
          3.8570740563397257,
          3.856635755125109,
          3.8561985029701207,
          3.855762292033152,
          3.855327068277146,
          3.8548927823913264,
          3.854459495582153,
          3.8540271997626343,
          3.8535958867613207,
          3.8531655483233553,
          3.852736176111359,
          3.852307761706332,
          3.8518802966084857,
          3.851453772238006,
          3.8510281799357786,
          3.8506035109640497,
          3.8501797565070226,
          3.849756805362445,
          3.849334708159236,
          3.848913479951531,
          3.848493111705237,
          3.8480735943084623,
          3.847654918571755,
          3.8472370752282967,
          3.846820054934049,
          3.8464038482678378,
          3.845988445731397,
          3.845573837749317,
          3.8451600146689664,
          3.844746942196183,
          3.844334534626841,
          3.843922865092112,
          3.8435119237018855,
          3.843101700485544,
          3.842692185391502,
          3.842283368286704,
          3.8418752389560735,
          3.8414677871018337,
          3.8410610023428737,
          3.8406548742139544,
          3.840249392164916,
          3.83984454555978,
          3.839440256088183,
          3.839036528121377,
          3.838633387320388,
          3.838230822750895,
          3.837828823385432,
          3.837427378102143,
          3.8370264756833943,
          3.8366261048144,
          3.836226254081689,
          3.835826911971567,
          3.8354280668684697,
          3.835029707053286,
          3.8346318162322106,
          3.8342342900540975,
          3.833837196314807,
          3.8334405224057257,
          3.8330442556049262,
          3.832648383074912,
          3.8322528918602456,
          3.831857768885108,
          3.8314630009508055,
          3.8310685747331465,
          3.8306744767797407,
          3.83028069350726,
          3.829887211198565,
          3.829494015999751,
          3.8291010939171217,
          3.82870843081408,
          3.828316012407876,
          3.8279238242663305,
          3.827531851804423,
          3.8271400802807984,
          3.826748494794177,
          3.8263570802796543,
          3.8259658029518833,
          3.825574623636327,
          3.825183561168592,
          3.8247925994544505,
          3.8244017222158506,
          3.824010912986572,
          3.823620155107704,
          3.823229431723132,
          3.8228387257748047,
          3.8224480199979984,
          3.8220572969163937,
          3.821666538837092,
          3.8212757278455234,
          3.820884845800227,
          3.820493874327538,
          3.820102794816189,
          3.819711588411769,
          3.819320236011069,
          3.8189287182564073,
          3.8185370155297305,
          3.818145107946698,
          3.817752975350636,
          3.81736059292283,
          3.816967940820122,
          3.8165750005294727,
          3.816181750698888,
          3.815788169672208,
          3.815394235482488,
          3.81499992584527,
          3.814605218151795,
          3.814210089462124,
          3.813814516498163,
          3.8134184756366745,
          3.813021942902167,
          3.812624893959729,
          3.8122273041078794,
          3.811829148271265,
          3.811430400993395,
          3.81103103642933,
          3.810631028338314,
          3.810230350076444,
          3.8098289745892937,
          3.809426874404565,
          3.809024021624734,
          3.808620390277108,
          3.8082159508631426,
          3.8078106741294127,
          3.8074045305610418,
          3.806997490182499,
          3.8065895225507127
         ]
        }
       ],
       "layout": {
        "autosize": false,
        "height": 576,
        "legend": {
         "font": {
          "size": 12
         },
         "x": 1,
         "xanchor": "right",
         "y": 1,
         "yanchor": "top"
        },
        "margin": {
         "b": 10,
         "l": 10,
         "pad": 4,
         "r": 10,
         "t": 75
        },
        "showlegend": true,
        "template": {
         "data": {
          "bar": [
           {
            "error_x": {
             "color": "#2a3f5f"
            },
            "error_y": {
             "color": "#2a3f5f"
            },
            "marker": {
             "line": {
              "color": "#E5ECF6",
              "width": 0.5
             },
             "pattern": {
              "fillmode": "overlay",
              "size": 10,
              "solidity": 0.2
             }
            },
            "type": "bar"
           }
          ],
          "barpolar": [
           {
            "marker": {
             "line": {
              "color": "#E5ECF6",
              "width": 0.5
             },
             "pattern": {
              "fillmode": "overlay",
              "size": 10,
              "solidity": 0.2
             }
            },
            "type": "barpolar"
           }
          ],
          "carpet": [
           {
            "aaxis": {
             "endlinecolor": "#2a3f5f",
             "gridcolor": "white",
             "linecolor": "white",
             "minorgridcolor": "white",
             "startlinecolor": "#2a3f5f"
            },
            "baxis": {
             "endlinecolor": "#2a3f5f",
             "gridcolor": "white",
             "linecolor": "white",
             "minorgridcolor": "white",
             "startlinecolor": "#2a3f5f"
            },
            "type": "carpet"
           }
          ],
          "choropleth": [
           {
            "colorbar": {
             "outlinewidth": 0,
             "ticks": ""
            },
            "type": "choropleth"
           }
          ],
          "contour": [
           {
            "colorbar": {
             "outlinewidth": 0,
             "ticks": ""
            },
            "colorscale": [
             [
              0,
              "#0d0887"
             ],
             [
              0.1111111111111111,
              "#46039f"
             ],
             [
              0.2222222222222222,
              "#7201a8"
             ],
             [
              0.3333333333333333,
              "#9c179e"
             ],
             [
              0.4444444444444444,
              "#bd3786"
             ],
             [
              0.5555555555555556,
              "#d8576b"
             ],
             [
              0.6666666666666666,
              "#ed7953"
             ],
             [
              0.7777777777777778,
              "#fb9f3a"
             ],
             [
              0.8888888888888888,
              "#fdca26"
             ],
             [
              1,
              "#f0f921"
             ]
            ],
            "type": "contour"
           }
          ],
          "contourcarpet": [
           {
            "colorbar": {
             "outlinewidth": 0,
             "ticks": ""
            },
            "type": "contourcarpet"
           }
          ],
          "heatmap": [
           {
            "colorbar": {
             "outlinewidth": 0,
             "ticks": ""
            },
            "colorscale": [
             [
              0,
              "#0d0887"
             ],
             [
              0.1111111111111111,
              "#46039f"
             ],
             [
              0.2222222222222222,
              "#7201a8"
             ],
             [
              0.3333333333333333,
              "#9c179e"
             ],
             [
              0.4444444444444444,
              "#bd3786"
             ],
             [
              0.5555555555555556,
              "#d8576b"
             ],
             [
              0.6666666666666666,
              "#ed7953"
             ],
             [
              0.7777777777777778,
              "#fb9f3a"
             ],
             [
              0.8888888888888888,
              "#fdca26"
             ],
             [
              1,
              "#f0f921"
             ]
            ],
            "type": "heatmap"
           }
          ],
          "heatmapgl": [
           {
            "colorbar": {
             "outlinewidth": 0,
             "ticks": ""
            },
            "colorscale": [
             [
              0,
              "#0d0887"
             ],
             [
              0.1111111111111111,
              "#46039f"
             ],
             [
              0.2222222222222222,
              "#7201a8"
             ],
             [
              0.3333333333333333,
              "#9c179e"
             ],
             [
              0.4444444444444444,
              "#bd3786"
             ],
             [
              0.5555555555555556,
              "#d8576b"
             ],
             [
              0.6666666666666666,
              "#ed7953"
             ],
             [
              0.7777777777777778,
              "#fb9f3a"
             ],
             [
              0.8888888888888888,
              "#fdca26"
             ],
             [
              1,
              "#f0f921"
             ]
            ],
            "type": "heatmapgl"
           }
          ],
          "histogram": [
           {
            "marker": {
             "pattern": {
              "fillmode": "overlay",
              "size": 10,
              "solidity": 0.2
             }
            },
            "type": "histogram"
           }
          ],
          "histogram2d": [
           {
            "colorbar": {
             "outlinewidth": 0,
             "ticks": ""
            },
            "colorscale": [
             [
              0,
              "#0d0887"
             ],
             [
              0.1111111111111111,
              "#46039f"
             ],
             [
              0.2222222222222222,
              "#7201a8"
             ],
             [
              0.3333333333333333,
              "#9c179e"
             ],
             [
              0.4444444444444444,
              "#bd3786"
             ],
             [
              0.5555555555555556,
              "#d8576b"
             ],
             [
              0.6666666666666666,
              "#ed7953"
             ],
             [
              0.7777777777777778,
              "#fb9f3a"
             ],
             [
              0.8888888888888888,
              "#fdca26"
             ],
             [
              1,
              "#f0f921"
             ]
            ],
            "type": "histogram2d"
           }
          ],
          "histogram2dcontour": [
           {
            "colorbar": {
             "outlinewidth": 0,
             "ticks": ""
            },
            "colorscale": [
             [
              0,
              "#0d0887"
             ],
             [
              0.1111111111111111,
              "#46039f"
             ],
             [
              0.2222222222222222,
              "#7201a8"
             ],
             [
              0.3333333333333333,
              "#9c179e"
             ],
             [
              0.4444444444444444,
              "#bd3786"
             ],
             [
              0.5555555555555556,
              "#d8576b"
             ],
             [
              0.6666666666666666,
              "#ed7953"
             ],
             [
              0.7777777777777778,
              "#fb9f3a"
             ],
             [
              0.8888888888888888,
              "#fdca26"
             ],
             [
              1,
              "#f0f921"
             ]
            ],
            "type": "histogram2dcontour"
           }
          ],
          "mesh3d": [
           {
            "colorbar": {
             "outlinewidth": 0,
             "ticks": ""
            },
            "type": "mesh3d"
           }
          ],
          "parcoords": [
           {
            "line": {
             "colorbar": {
              "outlinewidth": 0,
              "ticks": ""
             }
            },
            "type": "parcoords"
           }
          ],
          "pie": [
           {
            "automargin": true,
            "type": "pie"
           }
          ],
          "scatter": [
           {
            "fillpattern": {
             "fillmode": "overlay",
             "size": 10,
             "solidity": 0.2
            },
            "type": "scatter"
           }
          ],
          "scatter3d": [
           {
            "line": {
             "colorbar": {
              "outlinewidth": 0,
              "ticks": ""
             }
            },
            "marker": {
             "colorbar": {
              "outlinewidth": 0,
              "ticks": ""
             }
            },
            "type": "scatter3d"
           }
          ],
          "scattercarpet": [
           {
            "marker": {
             "colorbar": {
              "outlinewidth": 0,
              "ticks": ""
             }
            },
            "type": "scattercarpet"
           }
          ],
          "scattergeo": [
           {
            "marker": {
             "colorbar": {
              "outlinewidth": 0,
              "ticks": ""
             }
            },
            "type": "scattergeo"
           }
          ],
          "scattergl": [
           {
            "marker": {
             "colorbar": {
              "outlinewidth": 0,
              "ticks": ""
             }
            },
            "type": "scattergl"
           }
          ],
          "scattermapbox": [
           {
            "marker": {
             "colorbar": {
              "outlinewidth": 0,
              "ticks": ""
             }
            },
            "type": "scattermapbox"
           }
          ],
          "scatterpolar": [
           {
            "marker": {
             "colorbar": {
              "outlinewidth": 0,
              "ticks": ""
             }
            },
            "type": "scatterpolar"
           }
          ],
          "scatterpolargl": [
           {
            "marker": {
             "colorbar": {
              "outlinewidth": 0,
              "ticks": ""
             }
            },
            "type": "scatterpolargl"
           }
          ],
          "scatterternary": [
           {
            "marker": {
             "colorbar": {
              "outlinewidth": 0,
              "ticks": ""
             }
            },
            "type": "scatterternary"
           }
          ],
          "surface": [
           {
            "colorbar": {
             "outlinewidth": 0,
             "ticks": ""
            },
            "colorscale": [
             [
              0,
              "#0d0887"
             ],
             [
              0.1111111111111111,
              "#46039f"
             ],
             [
              0.2222222222222222,
              "#7201a8"
             ],
             [
              0.3333333333333333,
              "#9c179e"
             ],
             [
              0.4444444444444444,
              "#bd3786"
             ],
             [
              0.5555555555555556,
              "#d8576b"
             ],
             [
              0.6666666666666666,
              "#ed7953"
             ],
             [
              0.7777777777777778,
              "#fb9f3a"
             ],
             [
              0.8888888888888888,
              "#fdca26"
             ],
             [
              1,
              "#f0f921"
             ]
            ],
            "type": "surface"
           }
          ],
          "table": [
           {
            "cells": {
             "fill": {
              "color": "#EBF0F8"
             },
             "line": {
              "color": "white"
             }
            },
            "header": {
             "fill": {
              "color": "#C8D4E3"
             },
             "line": {
              "color": "white"
             }
            },
            "type": "table"
           }
          ]
         },
         "layout": {
          "annotationdefaults": {
           "arrowcolor": "#2a3f5f",
           "arrowhead": 0,
           "arrowwidth": 1
          },
          "autotypenumbers": "strict",
          "coloraxis": {
           "colorbar": {
            "outlinewidth": 0,
            "ticks": ""
           }
          },
          "colorscale": {
           "diverging": [
            [
             0,
             "#8e0152"
            ],
            [
             0.1,
             "#c51b7d"
            ],
            [
             0.2,
             "#de77ae"
            ],
            [
             0.3,
             "#f1b6da"
            ],
            [
             0.4,
             "#fde0ef"
            ],
            [
             0.5,
             "#f7f7f7"
            ],
            [
             0.6,
             "#e6f5d0"
            ],
            [
             0.7,
             "#b8e186"
            ],
            [
             0.8,
             "#7fbc41"
            ],
            [
             0.9,
             "#4d9221"
            ],
            [
             1,
             "#276419"
            ]
           ],
           "sequential": [
            [
             0,
             "#0d0887"
            ],
            [
             0.1111111111111111,
             "#46039f"
            ],
            [
             0.2222222222222222,
             "#7201a8"
            ],
            [
             0.3333333333333333,
             "#9c179e"
            ],
            [
             0.4444444444444444,
             "#bd3786"
            ],
            [
             0.5555555555555556,
             "#d8576b"
            ],
            [
             0.6666666666666666,
             "#ed7953"
            ],
            [
             0.7777777777777778,
             "#fb9f3a"
            ],
            [
             0.8888888888888888,
             "#fdca26"
            ],
            [
             1,
             "#f0f921"
            ]
           ],
           "sequentialminus": [
            [
             0,
             "#0d0887"
            ],
            [
             0.1111111111111111,
             "#46039f"
            ],
            [
             0.2222222222222222,
             "#7201a8"
            ],
            [
             0.3333333333333333,
             "#9c179e"
            ],
            [
             0.4444444444444444,
             "#bd3786"
            ],
            [
             0.5555555555555556,
             "#d8576b"
            ],
            [
             0.6666666666666666,
             "#ed7953"
            ],
            [
             0.7777777777777778,
             "#fb9f3a"
            ],
            [
             0.8888888888888888,
             "#fdca26"
            ],
            [
             1,
             "#f0f921"
            ]
           ]
          },
          "colorway": [
           "#636efa",
           "#EF553B",
           "#00cc96",
           "#ab63fa",
           "#FFA15A",
           "#19d3f3",
           "#FF6692",
           "#B6E880",
           "#FF97FF",
           "#FECB52"
          ],
          "font": {
           "color": "#2a3f5f"
          },
          "geo": {
           "bgcolor": "white",
           "lakecolor": "white",
           "landcolor": "#E5ECF6",
           "showlakes": true,
           "showland": true,
           "subunitcolor": "white"
          },
          "hoverlabel": {
           "align": "left"
          },
          "hovermode": "closest",
          "mapbox": {
           "style": "light"
          },
          "paper_bgcolor": "white",
          "plot_bgcolor": "#E5ECF6",
          "polar": {
           "angularaxis": {
            "gridcolor": "white",
            "linecolor": "white",
            "ticks": ""
           },
           "bgcolor": "#E5ECF6",
           "radialaxis": {
            "gridcolor": "white",
            "linecolor": "white",
            "ticks": ""
           }
          },
          "scene": {
           "xaxis": {
            "backgroundcolor": "#E5ECF6",
            "gridcolor": "white",
            "gridwidth": 2,
            "linecolor": "white",
            "showbackground": true,
            "ticks": "",
            "zerolinecolor": "white"
           },
           "yaxis": {
            "backgroundcolor": "#E5ECF6",
            "gridcolor": "white",
            "gridwidth": 2,
            "linecolor": "white",
            "showbackground": true,
            "ticks": "",
            "zerolinecolor": "white"
           },
           "zaxis": {
            "backgroundcolor": "#E5ECF6",
            "gridcolor": "white",
            "gridwidth": 2,
            "linecolor": "white",
            "showbackground": true,
            "ticks": "",
            "zerolinecolor": "white"
           }
          },
          "shapedefaults": {
           "line": {
            "color": "#2a3f5f"
           }
          },
          "ternary": {
           "aaxis": {
            "gridcolor": "white",
            "linecolor": "white",
            "ticks": ""
           },
           "baxis": {
            "gridcolor": "white",
            "linecolor": "white",
            "ticks": ""
           },
           "bgcolor": "#E5ECF6",
           "caxis": {
            "gridcolor": "white",
            "linecolor": "white",
            "ticks": ""
           }
          },
          "title": {
           "x": 0.05
          },
          "xaxis": {
           "automargin": true,
           "gridcolor": "white",
           "linecolor": "white",
           "ticks": "",
           "title": {
            "standoff": 15
           },
           "zerolinecolor": "white",
           "zerolinewidth": 2
          },
          "yaxis": {
           "automargin": true,
           "gridcolor": "white",
           "linecolor": "white",
           "ticks": "",
           "title": {
            "standoff": 15
           },
           "zerolinecolor": "white",
           "zerolinewidth": 2
          }
         }
        },
        "title": {
         "text": "Optimised Comparison",
         "x": 0.5
        },
        "width": 1024,
        "xaxis": {
         "autorange": true,
         "range": [
          -54.313231642426395,
          952.3132316424264
         ],
         "tickfont": {
          "size": 12
         },
         "title": {
          "font": {
           "size": 12
          },
          "text": "Time [s]"
         },
         "type": "linear"
        },
        "yaxis": {
         "autorange": true,
         "range": [
          3.7891337111919574,
          4.0803189431613305
         ],
         "tickfont": {
          "size": 12
         },
         "title": {
          "font": {
           "size": 12
          },
          "text": "Voltage [V]"
         },
         "type": "linear"
        }
       }
      },
      "image/png": "[encoded data removed]",
      "text/html": [
       "<div>                            <div id=\"d9a10a9b-9ce9-46ba-aefe-f094526e2059\" class=\"plotly-graph-div\" style=\"height:576px; width:1024px;\"></div>            <script type=\"text/javascript\">                require([\"plotly\"], function(Plotly) {                    window.PLOTLYENV=window.PLOTLYENV || {};                                    if (document.getElementById(\"d9a10a9b-9ce9-46ba-aefe-f094526e2059\")) {                    Plotly.newPlot(                        \"d9a10a9b-9ce9-46ba-aefe-f094526e2059\",                        [{\"fill\":\"toself\",\"fillcolor\":\"rgba(255,229,204,0.8)\",\"hoverinfo\":\"skip\",\"line\":{\"color\":\"rgba(255,255,255,0)\"},\"showlegend\":false,\"x\":[0,2,4,6,8,10,12,14,16,18,20,22,24,26,28,30,32,34,36,38,40,42,44,46,48,50,52,54,56,58,60,62,64,66,68,70,72,74,76,78,80,82,84,86,88,90,92,94,96,98,100,102,104,106,108,110,112,114,116,118,120,122,124,126,128,130,132,134,136,138,140,142,144,146,148,150,152,154,156,158,160,162,164,166,168,170,172,174,176,178,180,182,184,186,188,190,192,194,196,198,200,202,204,206,208,210,212,214,216,218,220,222,224,226,228,230,232,234,236,238,240,242,244,246,248,250,252,254,256,258,260,262,264,266,268,270,272,274,276,278,280,282,284,286,288,290,292,294,296,298,300,302,304,306,308,310,312,314,316,318,320,322,324,326,328,330,332,334,336,338,340,342,344,346,348,350,352,354,356,358,360,362,364,366,368,370,372,374,376,378,380,382,384,386,388,390,392,394,396,398,400,402,404,406,408,410,412,414,416,418,420,422,424,426,428,430,432,434,436,438,440,442,444,446,448,450,452,454,456,458,460,462,464,466,468,470,472,474,476,478,480,482,484,486,488,490,492,494,496,498,500,502,504,506,508,510,512,514,516,518,520,522,524,526,528,530,532,534,536,538,540,542,544,546,548,550,552,554,556,558,560,562,564,566,568,570,572,574,576,578,580,582,584,586,588,590,592,594,596,598,600,602,604,606,608,610,612,614,616,618,620,622,624,626,628,630,632,634,636,638,640,642,644,646,648,650,652,654,656,658,660,662,664,666,668,670,672,674,676,678,680,682,684,686,688,690,692,694,696,698,700,702,704,706,708,710,712,714,716,718,720,722,724,726,728,730,732,734,736,738,740,742,744,746,748,750,752,754,756,758,760,762,764,766,768,770,772,774,776,778,780,782,784,786,788,790,792,794,796,798,800,802,804,806,808,810,812,814,816,818,820,822,824,826,828,830,832,834,836,838,840,842,844,846,848,850,852,854,856,858,860,862,864,866,868,870,872,874,876,878,880,882,884,886,888,890,892,894,896,898,898,896,894,892,890,888,886,884,882,880,878,876,874,872,870,868,866,864,862,860,858,856,854,852,850,848,846,844,842,840,838,836,834,832,830,828,826,824,822,820,818,816,814,812,810,808,806,804,802,800,798,796,794,792,790,788,786,784,782,780,778,776,774,772,770,768,766,764,762,760,758,756,754,752,750,748,746,744,742,740,738,736,734,732,730,728,726,724,722,720,718,716,714,712,710,708,706,704,702,700,698,696,694,692,690,688,686,684,682,680,678,676,674,672,670,668,666,664,662,660,658,656,654,652,650,648,646,644,642,640,638,636,634,632,630,628,626,624,622,620,618,616,614,612,610,608,606,604,602,600,598,596,594,592,590,588,586,584,582,580,578,576,574,572,570,568,566,564,562,560,558,556,554,552,550,548,546,544,542,540,538,536,534,532,530,528,526,524,522,520,518,516,514,512,510,508,506,504,502,500,498,496,494,492,490,488,486,484,482,480,478,476,474,472,470,468,466,464,462,460,458,456,454,452,450,448,446,444,442,440,438,436,434,432,430,428,426,424,422,420,418,416,414,412,410,408,406,404,402,400,398,396,394,392,390,388,386,384,382,380,378,376,374,372,370,368,366,364,362,360,358,356,354,352,350,348,346,344,342,340,338,336,334,332,330,328,326,324,322,320,318,316,314,312,310,308,306,304,302,300,298,296,294,292,290,288,286,284,282,280,278,276,274,272,270,268,266,264,262,260,258,256,254,252,250,248,246,244,242,240,238,236,234,232,230,228,226,224,222,220,218,216,214,212,210,208,206,204,202,200,198,196,194,192,190,188,186,184,182,180,178,176,174,172,170,168,166,164,162,160,158,156,154,152,150,148,146,144,142,140,138,136,134,132,130,128,126,124,122,120,118,116,114,112,110,108,106,104,102,100,98,96,94,92,90,88,86,84,82,80,78,76,74,72,70,68,66,64,62,60,58,56,54,52,50,48,46,44,42,40,38,36,34,32,30,28,26,24,22,20,18,16,14,12,10,8,6,4,2,0],\"y\":[4.0642603329504245,4.055863092292122,4.048612851870128,4.042407351224265,4.0370583058385545,4.032405792913264,4.0283227589520285,4.024709880858944,4.021490602544497,4.018604645438421,4.016004009841746,4.013650603590584,4.011512469808443,4.009563357951767,4.007781511269488,4.006148442492618,4.0046491393564825,4.0032700122141325,4.002000346134365,4.000829802364609,3.9997500020837733,3.998752922340895,3.997831710184658,3.9969800391600674,3.996192301504481,3.995463396385829,3.9947887367344825,3.994164028738822,3.9935854766926115,3.993049655476875,3.9925532220583992,3.9920930799086904,3.9916666221209276,3.9912712752409907,3.9909043747768855,3.990563831588685,3.990247573020385,3.9899534627827147,3.98967970488907,3.9894245706345997,3.98918639854457,3.9889636348280963,3.988754844198416,3.9885586629833916,3.9883738012049665,3.9881990570724812,3.988033295652556,3.9878754325814127,3.9877244644001086,3.987579441029778,3.9874394446995733,3.987303625755749,3.9871711940885555,3.9870414013946522,3.986913545373309,3.9867869376186094,3.9866609231955774,3.9865349363239946,3.986408424588794,3.986280871524292,3.9861517821718895,3.9860206473095166,3.9858870664819377,3.9857506367965616,3.9856109830211683,3.9854677566247174,3.985320590006914,3.9851691953950206,3.9850132877848052,3.9848526028639255,3.9846868967686353,3.9845159331978293,3.98433950355377,3.984157419245383,3.983969505494649,3.983775603650553,3.983575566434607,3.983369260508688,3.9831565725575095,3.9829373998281756,3.982711652521756,3.9824792480100295,3.9822401015314854,3.9819941672662265,3.98174139892015,3.9814817607496873,3.9812152272242756,3.9809417827124727,3.980661421190323,3.98037414243882,3.980079881070882,3.9797786973520064,3.9794706111950626,3.979155649764969,3.97883384723859,3.9785052445794418,3.9781698893266437,3.9778278353964707,3.977479057639233,3.9771236476056755,3.976761677273462,3.976393211772367,3.97601832044294,3.975637076652312,3.9752495576201277,3.9748558442540167,3.9744559617367967,3.9740499922491197,3.973638043320246,3.973220200644793,3.9727965524153492,3.9723671892458916,3.9719322041057037,3.971491692263274,3.9710457512394766,3.9705944807697455,3.9701379827744243,3.9696763613368815,3.9692097226889196,3.9687380877567278,3.9682615127572274,3.9677801760392275,3.967294179266155,3.966803625044902,3.9663086168998003,3.9658092592514196,3.9653056574001884,3.964797917514283,3.9642861466216353,3.9637704526056097,3.9632509442041877,3.962727731012275,3.962200854642682,3.9616702922544884,3.9611362713027702,3.9605988902367666,3.9600582470555694,3.9595144392696224,3.958967563864495,3.958417717266784,3.9578649953121343,3.9573094932151935,3.956751305541341,3.9561905261802632,3.9556272483211616,3.9550615525118835,3.954493450395264,3.9539230913106436,3.953350559928647,3.9527759396253725,3.9521993124473025,3.9516207590775974,3.9510403588038616,3.9504581894871884,3.949874327532555,3.9492888478605224,3.948701823880107,3.9481133274629636,3.947523428918706,3.9469322662098083,3.9463398628629793,3.945746285881837,3.9451516032146667,3.944555881480996,3.943959185964786,3.943361580608374,3.94276312800721,3.94216388940522,3.941563924691005,3.940963292394495,3.9403620496844276,3.939760252366288,3.9391580151449177,3.93855536915916,3.937952356305185,3.9373490312086763,3.936745447475926,3.9361416577057824,3.9355377135017235,3.9349336654842917,3.934329563303536,3.9337254556516807,3.9331213902759137,3.9325174139912624,3.9319135726935577,3.9313099071731448,3.9307064613035445,3.9301032801979177,3.9295004058283363,3.9288978792832547,3.9282957407797383,3.927694029675719,3.9270927844822183,3.9264920428755556,3.9258918417095354,3.9252922170275717,3.924693204074768,3.9240948373099696,3.923497136931064,3.9229001250509232,3.922303846882851,3.921708332174864,3.9211136098155515,3.9205197078418084,3.9199266534465678,3.9193344729864585,3.9187431919895466,3.9181528351629216,3.917563426400381,3.916974988789988,3.9163875446216183,3.9158011169173874,3.9152157302419885,3.9146314012558334,3.9140481494449095,3.9134659935587033,3.9128849516181847,3.9123050409237603,3.911726278063107,3.911148678919006,3.9105722586770306,3.9099970318332247,3.9094230122016818,3.90885021292206,3.9082786513186294,3.9077083896499643,3.9071393989748393,3.9065716913019775,3.9060052780272496,3.905440169937097,3.9048763772118815,3.904313909429255,3.9037527755673977,3.9031929840083013,3.9026345425409303,3.902077458364356,3.901521738090898,3.90096738774914,3.9004144127869558,3.899862818074487,3.8993126079070777,3.8987637860081104,3.898216355531922,3.897670319066524,3.8971256786364017,3.896582435705221,3.896040591178489,3.895500172109463,3.8949613211660137,3.894423904100843,3.893887922756165,3.893353378548444,3.8928202724711283,3.8922886050973045,3.8917583765822896,3.891229586666195,3.8907022346764095,3.8901763195299703,3.8896518397359983,3.889128793397956,3.888607178215897,3.8880869914886844,3.8875682301160843,3.887050890600864,3.8865349690507847,3.8860204611805687,3.885507362313789,3.8849956673847053,3.88448537094005,3.883976467140712,3.883468993497351,3.882963087687846,3.882458595276626,3.8819555123504794,3.8814538347640126,3.8809535581428216,3.88045467788659,3.8799571891721096,3.879461086956247,3.8789663659787523,3.8784730207650946,3.8779810456291273,3.877490434675727,3.8770011818033216,3.87651328070639,3.8760267248778257,3.8755415076112665,3.875057622003341,3.8745750609558236,3.8740938171777346,3.8736138831873608,3.873135251314209,3.872657913700873,3.8721818649762496,3.8717071134819094,3.8712336534781024,3.8707614807156934,3.8702905911172176,3.869820980787656,3.869352646024981,3.8688858196259566,3.8684202482406183,3.867955810485114,3.867492529490604,3.8670305100660927,3.8665696765703608,3.8661100234133294,3.8656515741166926,3.8651943167599145,3.8647382394088816,3.864283335378581,3.863829597655831,3.863377020557521,3.8629255975562784,3.862475322014845,3.862026187188146,3.861578109298481,3.86113114424512,3.8606852876721462,3.86024053248819,3.859796871502569,3.8593542974269917,3.858912802877166,3.858472380374436,3.8580330223472417,3.8575947211326245,3.8571574689776367,3.8567212580406682,3.856286034284662,3.8558517483988424,3.8554184615896685,3.8549861657701503,3.8545548527688367,3.8541245143308713,3.8536951421188754,3.853266727713848,3.8528392626160013,3.8524127382455218,3.8519871459432946,3.8515624769715653,3.8511387225145386,3.850715771369961,3.850293674166752,3.8498724459590474,3.8494520777127526,3.8490325603159787,3.8486138845792714,3.8481960412358127,3.847779020941565,3.8473628142753533,3.846947411738913,3.8465328037568325,3.8461189806764824,3.8457059082036995,3.8452935006343565,3.8448818310996282,3.8444708897094015,3.84406066649306,3.843651151399018,3.84324233429422,3.8428342049635895,3.8424267531093492,3.8420199683503893,3.8416138402214703,3.841208358172432,3.8408035115672963,3.840399222095699,3.8399954941288925,3.839592353327904,3.839189788758411,3.8387877893929483,3.838386344109659,3.8379854416909103,3.837585070821916,3.837185220089205,3.836785877979083,3.8363870328759857,3.835988673060802,3.8355907822397266,3.8351932560616135,3.834796162322323,3.8343994884132413,3.8340032216124427,3.833607349082428,3.8332118578677616,3.8328167348926243,3.8324219669583215,3.8320275407406625,3.8316334427872567,3.831239659514776,3.830846177206081,3.830452982007267,3.8300600599246377,3.829667396821596,3.829274978415392,3.8288827902738465,3.828490817811939,3.8280990462883144,3.8277074608016926,3.8273160462871703,3.8269247689593993,3.8265335896438435,3.826142527176108,3.8257515654619665,3.8253606882233666,3.824969878994088,3.82457912111522,3.8241883977306483,3.8237976917823207,3.8234069860055144,3.8230162629239097,3.822625504844608,3.8222346938530394,3.821843811807743,3.821452840335054,3.821061760823705,3.820670554419285,3.820279202018585,3.8198876842639233,3.8194959815372465,3.819104073954214,3.818711941358152,3.8183195589303454,3.8179269068276374,3.8175339665369887,3.8171407167064038,3.816747135679724,3.8163532014900037,3.815958891852786,3.815564184159311,3.81516905546964,3.8147734825056796,3.8143774416441905,3.813980908909683,3.813583859967245,3.8131862701153953,3.8127881142787805,3.8123893670009115,3.811990002436846,3.8115899943458293,3.81118931608396,3.8107879405968097,3.8103858404120805,3.80998298763225,3.809579356284624,3.8091749168706586,3.8087696401369286,3.8083634965685578,3.807956456190015,3.8075484885582287,3.8056305565431967,3.806038524174983,3.806445564553526,3.8068517081218967,3.8072569848556266,3.807661424269592,3.808065055617218,3.8084679083970485,3.8088700085817777,3.809271384068928,3.8096720623307974,3.810072070421814,3.8104714349858795,3.8108701822637485,3.8112683381003634,3.811665927952213,3.812062976894651,3.8124595096291585,3.8128555504906476,3.813251123454608,3.813646252144279,3.814040959837754,3.8144352694749717,3.814829203664692,3.8152227846913718,3.8156160345219567,3.8160089748126054,3.8164016269153134,3.81679400934312,3.817186141939182,3.8175780495222145,3.8179697522488913,3.818361270003553,3.818752622404253,3.819143828808673,3.819534908320022,3.819925879792711,3.8203167618380074,3.820707572829576,3.8210983309088777,3.8214890539904824,3.8218797597672887,3.8222704657156163,3.822661189100188,3.823051946979056,3.8234427562083346,3.8238336334469345,3.824224595161076,3.8246156576288115,3.8250068369443673,3.8253981142721383,3.8257895287866606,3.8261811142732824,3.826572885796907,3.8269648582588145,3.82735704640036,3.827749464806564,3.8281421279096057,3.828535049992235,3.828928245191049,3.829321727499744,3.8297155107722247,3.8301096087256306,3.8305040349432895,3.8308988028775923,3.8312939258527297,3.831689417067396,3.8320852895974107,3.8324815563982093,3.832878230307291,3.8332753240465816,3.8336728502246946,3.83407074104577,3.8344691008609537,3.834867945964051,3.835267288074173,3.835667138806884,3.8360675096758783,3.836468412094627,3.8368698573779163,3.8372718567433792,3.837674421312872,3.8380775621138605,3.838481290080667,3.8388855795522643,3.8392904261574,3.8396959082064384,3.8401020363353573,3.8405088210943172,3.8409162729485575,3.841324402279188,3.841733219383986,3.842142734478028,3.8425529576943696,3.8429638990845962,3.8433755686193245,3.8437879761886675,3.8442010486614504,3.8446148717418005,3.845029479723881,3.8454448822603213,3.845861088926533,3.8462781092207807,3.8466959525642395,3.8471146283009467,3.8475341456977206,3.8479545139440154,3.84837574215172,3.848797839354929,3.8492207904995066,3.8496445449565333,3.8500692139282626,3.85049480623049,3.8509213306009693,3.851348795698816,3.8517772101038434,3.8522065823158393,3.8526369207538047,3.8530682337551183,3.8535005295746365,3.8539338163838104,3.85436810226963,3.8548033260256362,3.8552395369626047,3.8556767891175925,3.8561150903322097,3.856554448359404,3.856994870862134,3.8574363654119597,3.857878939487537,3.858322600473158,3.8587673556571143,3.859213212230088,3.859660177283449,3.860108255173114,3.860557389999813,3.8610076655412464,3.861459088542489,3.861911665640799,3.862365403363549,3.8628203073938496,3.8632763847448826,3.8637336421016606,3.8641920913982974,3.864651744555329,3.8651125780510607,3.865574597475572,3.866037878470082,3.8665023162255863,3.8669678876109246,3.867434714009949,3.867903048772624,3.8683726591021856,3.8688435487006614,3.8693157214630705,3.8697891814668774,3.8702639329612176,3.870739981685841,3.871217319299177,3.871695951172329,3.8721758851627026,3.8726571289407916,3.873139689988309,3.8736235755962345,3.8741087928627937,3.874595348691358,3.8750832497882897,3.875572502660695,3.8760631136140953,3.8765550887500626,3.8770484339637203,3.877543154941215,3.8780392571570776,3.878536745871558,3.8790356261277896,3.8795359027489806,3.8800375803354474,3.880540663261594,3.881045155672814,3.881551061482319,3.88205853512568,3.882567438925018,3.8830777353696733,3.883589430298757,3.8841025291655367,3.8846170370357527,3.885132958585832,3.8856502981010523,3.8861690594736524,3.886689246200865,3.887210861382924,3.8877339077209663,3.8882583875149384,3.8887843026613775,3.889311654651163,3.8898404445672576,3.8903706730822725,3.8909023404560963,3.891435446533412,3.891969990741133,3.892505972085811,3.8930433891509817,3.893582240094431,3.894122659163457,3.894664503690189,3.8952077466213697,3.895752387051492,3.89629842351689,3.8968458539930784,3.8973946758920457,3.897944886059455,3.898496480771924,3.899049455734108,3.899603806075866,3.900159526349324,3.9007166105258984,3.9012750519932693,3.9018348435523658,3.902395977414223,3.9029584451968495,3.903522237922065,3.9040873460122176,3.9046537592869455,3.9052214669598073,3.9057904576349323,3.9063607193035974,3.906932280907028,3.9075050801866498,3.9080790998181927,3.9086543266619986,3.909230746903974,3.909808346048075,3.9103871089087283,3.9109670196031527,3.9115480615436713,3.9121302174298775,3.9127134692408014,3.9132977982269566,3.9138831849023554,3.9144696126065863,3.915057056774956,3.915645494385349,3.9162349031478896,3.9168252599745146,3.9174165409714266,3.918008721431536,3.9186017758267764,3.9191956778005195,3.919790400159832,3.920385914867819,3.9209821930358912,3.921579204916032,3.9221769052949376,3.922775272059736,3.9233742850125397,3.9239739096945034,3.9245741108605237,3.9251748524671863,3.925776097660687,3.9263778087647063,3.9269799472682227,3.9275824738133043,3.9281853481828857,3.9287885292885125,3.929391975158113,3.9299956406785257,3.9305994819762304,3.9312034582608817,3.9318075236366488,3.932411631288504,3.9330157334692597,3.9336197814866916,3.9342237256907504,3.934827515460894,3.9354310991936443,3.936034424290153,3.936637437144128,3.9372400831298857,3.937842320351256,3.9384441176693956,3.939045360379463,3.939645992675973,3.940245957390188,3.940845195992178,3.941443648593342,3.942041253949754,3.942637949465964,3.9432336711996347,3.943828353866805,3.9444219308479473,3.9450143341947763,3.945605496903674,3.9461953954479316,3.946783891865075,3.9473709158454904,3.947956395517523,3.9485402574721564,3.9491224267888296,3.9497028270625654,3.9502813804322705,3.9508580076103406,3.951432627913615,3.9520051592956116,3.952575518380232,3.9531436204968515,3.9537093163061297,3.9542725941652312,3.954833373526309,3.9553915612001616,3.9559470632971023,3.956499785251752,3.957049631849463,3.9575965072545904,3.9581403150405374,3.9586809582217346,3.9592183392877383,3.9597523602394564,3.96028292262765,3.960809798997243,3.9613330121891557,3.9618525205905777,3.9623682146066033,3.962879985499251,3.9633877253851564,3.9638913272363876,3.9643906848847683,3.96488569302987,3.965376247251123,3.9658622440241955,3.9663435807421954,3.9668201557416958,3.9672917906738876,3.9677584293218495,3.9682200507593923,3.9686765487547135,3.9691278192244446,3.969573760248242,3.9700142720906717,3.9704492572308596,3.9708786204003172,3.971302268629761,3.971720111305214,3.9721320602340877,3.9725380297217647,3.9729379122389847,3.9733316256050957,3.97371914463728,3.974100388427908,3.974475279757335,3.97484374525843,3.9752057155906435,3.975561125624201,3.9759099033814387,3.9762519573116117,3.97658731256441,3.976915915223558,3.977237717749937,3.9775526791800306,3.9778607653369744,3.97816194905585,3.978456210423788,3.978743489175291,3.9790238506974407,3.9792972952092436,3.9795638287346553,3.9798234669051182,3.9800762352511945,3.9803221695164535,3.9805613159949975,3.980793720506724,3.9810194678131436,3.9812386405424776,3.981451328493656,3.981657634419575,3.981857671635521,3.982051573479617,3.982239487230351,3.982421571538738,3.9825980011827973,3.9827689647536033,3.9829346708488935,3.9830953557697732,3.9832512633799886,3.983402657991882,3.9835498246096854,3.9836930510061364,3.9838327047815296,3.9839691344669057,3.9841027152944846,3.9842338501568575,3.98436293950926,3.984490492573762,3.9846170043089626,3.9847429911805454,3.9848690056035774,3.984995613358277,3.9851234693796203,3.9852532620735235,3.985385693740717,3.9855215126845414,3.985661509014746,3.9858065323850767,3.9859575005663808,3.986115363637524,3.9862811250574492,3.9864558691899346,3.9866407309683596,3.986836912183384,3.9870457028130644,3.987268466529538,3.9875066386195677,3.987761772874038,3.9880355307676827,3.988329641005353,3.988645899573653,3.9889864427618535,3.9893533432259587,3.9897486901058956,3.9901751478936585,3.9906352900433673,3.991131723461843,3.9916675446775796,3.99224609672379,3.9928708047194506,3.993545464370797,3.994274369489449,3.9950621071450354,3.995913778169626,3.996834990325863,3.9978320700687413,3.9989118703495765,4.0000824141193325,4.0013520801991,4.00273120734145,4.004230510477585,4.005863579254455,4.007645425936734,4.00959453779341,4.011732671575551,4.014086077826713,4.016686713423388,4.019572670529464,4.022791948843911,4.026404826936996,4.030487860898231,4.035140373823522,4.040489419209232,4.046694919855095,4.053945160277089,4.062342400935392],\"type\":\"scatter\"},{\"mode\":\"markers\",\"name\":\"Target\",\"x\":[0,2,4,6,8,10,12,14,16,18,20,22,24,26,28,30,32,34,36,38,40,42,44,46,48,50,52,54,56,58,60,62,64,66,68,70,72,74,76,78,80,82,84,86,88,90,92,94,96,98,100,102,104,106,108,110,112,114,116,118,120,122,124,126,128,130,132,134,136,138,140,142,144,146,148,150,152,154,156,158,160,162,164,166,168,170,172,174,176,178,180,182,184,186,188,190,192,194,196,198,200,202,204,206,208,210,212,214,216,218,220,222,224,226,228,230,232,234,236,238,240,242,244,246,248,250,252,254,256,258,260,262,264,266,268,270,272,274,276,278,280,282,284,286,288,290,292,294,296,298,300,302,304,306,308,310,312,314,316,318,320,322,324,326,328,330,332,334,336,338,340,342,344,346,348,350,352,354,356,358,360,362,364,366,368,370,372,374,376,378,380,382,384,386,388,390,392,394,396,398,400,402,404,406,408,410,412,414,416,418,420,422,424,426,428,430,432,434,436,438,440,442,444,446,448,450,452,454,456,458,460,462,464,466,468,470,472,474,476,478,480,482,484,486,488,490,492,494,496,498,500,502,504,506,508,510,512,514,516,518,520,522,524,526,528,530,532,534,536,538,540,542,544,546,548,550,552,554,556,558,560,562,564,566,568,570,572,574,576,578,580,582,584,586,588,590,592,594,596,598,600,602,604,606,608,610,612,614,616,618,620,622,624,626,628,630,632,634,636,638,640,642,644,646,648,650,652,654,656,658,660,662,664,666,668,670,672,674,676,678,680,682,684,686,688,690,692,694,696,698,700,702,704,706,708,710,712,714,716,718,720,722,724,726,728,730,732,734,736,738,740,742,744,746,748,750,752,754,756,758,760,762,764,766,768,770,772,774,776,778,780,782,784,786,788,790,792,794,796,798,800,802,804,806,808,810,812,814,816,818,820,822,824,826,828,830,832,834,836,838,840,842,844,846,848,850,852,854,856,858,860,862,864,866,868,870,872,874,876,878,880,882,884,886,888,890,892,894,896,898],\"y\":[4.063316852435602,4.056208765354541,4.048557080260912,4.040914948309032,4.035107388323031,4.0316209578534234,4.028598675935667,4.023426004893352,4.021292727383525,4.017021890677268,4.012975155188826,4.013301075295993,4.0104527964329355,4.007647290414742,4.005574283191637,4.005823768361199,4.002737956818605,4.0028403387419695,4.00220414577378,4.0015474141530865,3.999469179697504,3.997797663828473,3.997819294598826,3.995456734629008,3.994664606911642,3.9957660732748175,3.9947113559543856,3.993192681295931,3.9927190766093044,3.992234577538066,3.9914657903014352,3.9901016729611323,3.990335501690317,3.990108955465178,3.988621274585786,3.9875371898969796,3.989622051194655,3.988084628384094,3.9871205419438924,3.9880760726337585,3.98907606907527,3.987058302431552,3.9873856484698105,3.987148251524266,3.985625521632212,3.9880657742755035,3.9873120968128712,3.986256167493079,3.987088163267585,3.988143983384717,3.9875092497583005,3.986029868019604,3.986516902851974,3.987216650884984,3.9863352625243387,3.98475010776851,3.985944818955333,3.9847722855268737,3.98655578459638,3.9847630717138367,3.984032247749398,3.9847351125970727,3.984545807595497,3.986305578706914,3.984869007394037,3.9846871006680336,3.984066711922765,3.9833857755729194,3.984215340737964,3.983506281053155,3.9840512346249617,3.9833509445601707,3.9829639280678233,3.9821259086210388,3.98322317459241,3.9822006293547543,3.9829014587010954,3.9829203850825596,3.9801308463474063,3.9820737212754014,3.981622863936407,3.981310295248388,3.983294153342889,3.981729896358351,3.9800981951403185,3.980758165849979,3.9813292625487717,3.9799687469126215,3.9796909458004497,3.981154160085456,3.9803618298573915,3.977948716738303,3.9780754604261177,3.977321935157691,3.975295171316911,3.977320728682469,3.9793409239157,3.976557828538108,3.9759662428476226,3.974849066967581,3.975636703646064,3.974786097402641,3.976339256942752,3.9752561041037753,3.9749103159949706,3.972550980142258,3.9733359660614136,3.973303043753626,3.9718748905049797,3.971820470419705,3.9710552332586526,3.973009571175853,3.9732316742876663,3.9705868582660386,3.9697708007277477,3.9677765141023538,3.9708681968417414,3.9692297905312195,3.9673233557382086,3.968763165619063,3.968194772463423,3.9664325189344005,3.965277352780451,3.966710533112004,3.96587486304797,3.96556711785954,3.9657138224865265,3.962937838111006,3.96444913407295,3.9647762150072587,3.9607283927633077,3.9626037010658366,3.961942581199413,3.9609346715791096,3.9603395675245703,3.961040286657915,3.957666286284489,3.959227711959158,3.959674637367426,3.9571526626263127,3.954873215106217,3.957224944390881,3.955451236378557,3.9540500562184375,3.954325675835695,3.9545612144246767,3.954144122005261,3.954259345045105,3.95481772859789,3.95217758434784,3.9521482405712756,3.951040132871348,3.949251237228026,3.9475872912073053,3.948617653340526,3.948720200425972,3.9483555562290342,3.9481016128549613,3.946732264280564,3.9463465518272183,3.944850738286223,3.9453486599045817,3.943222932543005,3.9440346720085215,3.9425997620769135,3.942830665862968,3.941777016799422,3.9401951649425424,3.9403521145346203,3.940439078497019,3.939276031848431,3.9388451747676014,3.93924162780022,3.9368113331523715,3.9374519584733108,3.9354946185143653,3.936790088253856,3.933840984425747,3.9334059525219742,3.933499334564671,3.933864242691521,3.9341518275965774,3.932378843224009,3.932094447992212,3.9318497215727812,3.930385219542485,3.9295786888054067,3.929173522326594,3.9294038731433996,3.9277942570366684,3.9265373706741227,3.925220272263997,3.9256143530980045,3.9265837694708035,3.92596942382635,3.9237664983604286,3.924600309648354,3.9240317170877086,3.9206545914879247,3.9229624604818345,3.9209041213054605,3.9220355354084684,3.9213014512368027,3.9205320192025503,3.919052040802787,3.920169552474122,3.916865341554688,3.917335034052436,3.916643429136777,3.9149415862576102,3.916914005059162,3.9148150568945725,3.9152704744845375,3.914673048086096,3.911504863125051,3.9131253692453916,3.9121022887340455,3.9103925424866066,3.911406704217715,3.9115711428878424,3.9080019236563093,3.911419736486131,3.907877700281851,3.9070928538701124,3.9071504724729236,3.906236856668966,3.9062455694608325,3.9037012581788657,3.9041303271732257,3.9054199314530735,3.9027962946804275,3.9037189874794525,3.9012718037518335,3.903455092115934,3.9022312139424185,3.902170069563942,3.901185944415845,3.8992246125190118,3.898267636487287,3.899599656578459,3.8998520236394953,3.897320673831119,3.8965849582820344,3.8958941955153947,3.8962808586607127,3.897221707107678,3.8951304705695247,3.893989607429907,3.8953100510289764,3.891888840298102,3.892498936239659,3.8932090117114972,3.8931360205480607,3.891064375798883,3.8915821593582267,3.8910625218347663,3.8902742309042275,3.889818300477958,3.8911547789765923,3.889081389783803,3.886207069450396,3.887387024424036,3.8865529497159286,3.886489254965051,3.8852712497127846,3.8854024424051143,3.884327416604259,3.8856998235675846,3.8842950188205663,3.883970786118674,3.880989948941136,3.8825337534441346,3.8814018389670766,3.881524891492765,3.8804234013688865,3.8797085013292847,3.879755180853216,3.879880119078155,3.878221695366005,3.8780914647807103,3.87812781015874,3.8780175179050262,3.8763701352749136,3.8767942794105585,3.8770929693329688,3.8774552628770693,3.8740516284315074,3.8741071106365994,3.872758345663138,3.8748721527016636,3.8715435214328098,3.872670828394842,3.8738776945293334,3.8706907676934312,3.8715232584033283,3.870076264346411,3.868840455157122,3.869191595647318,3.8677892224579153,3.870489368645821,3.867286246770909,3.867014397552421,3.8659520734074295,3.866850710434623,3.8658015479575987,3.8658320574019776,3.8642163318371683,3.8653966485360787,3.8637929221287797,3.86485258954837,3.8637873784053025,3.862188677437094,3.86366101171771,3.861894213929925,3.8612381190448435,3.8609310774043752,3.8589415015113646,3.8581945695217774,3.85848740421776,3.859001695172195,3.860436975139527,3.8582597878518032,3.857156938491188,3.857179017333942,3.856700338961284,3.856045528820108,3.85567906581045,3.855639350508539,3.855276722077614,3.853598430308031,3.856471075412357,3.853260893358633,3.8530468334048424,3.850908533357765,3.85309299796771,3.851283553089066,3.853077202813849,3.850132176656393,3.8524779652981698,3.848330040949235,3.851461512673494,3.848313573364299,3.8498076476101293,3.8479919782159895,3.8477784080067683,3.8473252026181597,3.848034198883768,3.8468991449515264,3.8476575297509887,3.8453182722648593,3.846779481822976,3.846815793813399,3.8449539926213947,3.8443960426241666,3.8447417313219945,3.8437310615044353,3.8432128292439054,3.842375048019766,3.8416694401426525,3.843156223893458,3.8412865404089866,3.8411123211592106,3.8406879962489926,3.8410217779528133,3.839830218645939,3.839503397707325,3.838606422949163,3.837134084853471,3.83881186302182,3.8390096969376457,3.83865760103825,3.837196815371407,3.8366499289134266,3.836978243865555,3.836072135463952,3.835651253425086,3.833446732104823,3.8348665134475266,3.83483398555556,3.8339071230050674,3.8337260558118342,3.8329298418836304,3.834172684549629,3.832627067330249,3.832161523241389,3.8323695697570246,3.8315053730516855,3.8295935744875518,3.830894733110041,3.8291618419671707,3.8302569365890857,3.8294115600126677,3.8276390497697172,3.8271022478551915,3.829171695996437,3.8273773985905803,3.827537182317615,3.8275081784855014,3.8259617689331327,3.8258838495261385,3.8245685739277837,3.8246680810855076,3.823323160308574,3.8257667564923286,3.8270240336862704,3.823096218965891,3.8231261207877654,3.8227041933411146,3.8228347236500353,3.823287422335571,3.82431379131002,3.822393996487309,3.821284527917933,3.8205012103670017,3.8206380423544157,3.8184375033547657,3.8197733534982388,3.8187249782871984,3.8175826359535927,3.820346638428277,3.8192513645816883,3.816647021290933,3.8171689661229995,3.8171783252969727,3.8185304288189825,3.81564026552631,3.8140732779520223,3.8144410799835717,3.8160802865196426,3.814488813210758,3.8138396251810547,3.8146101071631784,3.81440830279387,3.8131744131224488,3.811855917436637,3.8125827760789885,3.8122125320384166,3.8115143031996164,3.810689081976909,3.810787030225234,3.8091354151982486,3.810968890189926,3.8085824967348154,3.8081333668611657,3.807778625866613,3.807325171649645,3.8079511933343966,3.8075092730799605,3.806799140231,3.806135801917686],\"type\":\"scatter\"},{\"line\":{\"width\":4},\"mode\":\"lines\",\"name\":\"Model\",\"x\":[0,2,4,6,8,10,12,14,16,18,20,22,24,26,28,30,32,34,36,38,40,42,44,46,48,50,52,54,56,58,60,62,64,66,68,70,72,74,76,78,80,82,84,86,88,90,92,94,96,98,100,102,104,106,108,110,112,114,116,118,120,122,124,126,128,130,132,134,136,138,140,142,144,146,148,150,152,154,156,158,160,162,164,166,168,170,172,174,176,178,180,182,184,186,188,190,192,194,196,198,200,202,204,206,208,210,212,214,216,218,220,222,224,226,228,230,232,234,236,238,240,242,244,246,248,250,252,254,256,258,260,262,264,266,268,270,272,274,276,278,280,282,284,286,288,290,292,294,296,298,300,302,304,306,308,310,312,314,316,318,320,322,324,326,328,330,332,334,336,338,340,342,344,346,348,350,352,354,356,358,360,362,364,366,368,370,372,374,376,378,380,382,384,386,388,390,392,394,396,398,400,402,404,406,408,410,412,414,416,418,420,422,424,426,428,430,432,434,436,438,440,442,444,446,448,450,452,454,456,458,460,462,464,466,468,470,472,474,476,478,480,482,484,486,488,490,492,494,496,498,500,502,504,506,508,510,512,514,516,518,520,522,524,526,528,530,532,534,536,538,540,542,544,546,548,550,552,554,556,558,560,562,564,566,568,570,572,574,576,578,580,582,584,586,588,590,592,594,596,598,600,602,604,606,608,610,612,614,616,618,620,622,624,626,628,630,632,634,636,638,640,642,644,646,648,650,652,654,656,658,660,662,664,666,668,670,672,674,676,678,680,682,684,686,688,690,692,694,696,698,700,702,704,706,708,710,712,714,716,718,720,722,724,726,728,730,732,734,736,738,740,742,744,746,748,750,752,754,756,758,760,762,764,766,768,770,772,774,776,778,780,782,784,786,788,790,792,794,796,798,800,802,804,806,808,810,812,814,816,818,820,822,824,826,828,830,832,834,836,838,840,842,844,846,848,850,852,854,856,858,860,862,864,866,868,870,872,874,876,878,880,882,884,886,888,890,892,894,896,898],\"y\":[4.063301366942908,4.0549041262846055,4.047653885862611,4.041448385216748,4.036099339831038,4.031446826905747,4.027363792944512,4.023750914851427,4.0205316365369805,4.017645679430904,4.015045043834229,4.0126916375830675,4.010553503800926,4.0086043919442504,4.006822545261971,4.005189476485102,4.003690173348966,4.002311046206616,4.001041380126849,3.9998708363570925,3.9987910360762573,3.997793956333379,3.996872744177142,3.9960210731525514,3.995233335496965,3.994504430378313,3.9938297707269665,3.993205062731306,3.9926265106850956,3.992090689469359,3.9915942560508832,3.9911341139011745,3.9907076561134116,3.9903123092334747,3.9899454087693695,3.989604865581169,3.989288607012869,3.9889944967751987,3.988720738881554,3.9884656046270837,3.988227432537054,3.9880046688205804,3.9877958781909,3.9875996969758756,3.9874148351974505,3.9872400910649652,3.98707432964504,3.9869164665738968,3.9867654983925926,3.986620475022262,3.9864804786920573,3.986344659748233,3.9862122280810395,3.9860824353871362,3.985954579365793,3.9858279716110934,3.9857019571880614,3.9855759703164786,3.985449458581278,3.985321905516776,3.9851928161643735,3.9850616813020006,3.9849281004744217,3.9847916707890456,3.9846520170136523,3.9845087906172014,3.984361623999398,3.9842102293875046,3.9840543217772892,3.9838936368564095,3.9837279307611193,3.9835569671903133,3.983380537546254,3.983198453237867,3.983010539487133,3.982816637643037,3.982616600427091,3.982410294501172,3.9821976065499936,3.9819784338206596,3.98175268651424,3.9815202820025135,3.9812811355239694,3.9810352012587105,3.9807824329126342,3.9805227947421713,3.9802562612167596,3.9799828167049567,3.979702455182807,3.979415176431304,3.979120915063366,3.9788197313444904,3.9785116451875466,3.978196683757453,3.977874881231074,3.9775462785719258,3.9772109233191277,3.9768688693889547,3.976520091631717,3.9761646815981595,3.975802711265946,3.975434245764851,3.975059354435424,3.974678110644796,3.9742905916126117,3.9738968782465007,3.9734969957292807,3.9730910262416037,3.97267907731273,3.972261234637277,3.9718375864078332,3.9714082232383756,3.9709732380981877,3.970532726255758,3.9700867852319606,3.9696355147622295,3.9691790167669083,3.9687173953293655,3.9682507566814036,3.9677791217492118,3.9673025467497114,3.9668212100317115,3.966335213258639,3.965844659037386,3.9653496508922843,3.9648502932439036,3.9643466913926724,3.963838951506767,3.9633271806141193,3.9628114865980937,3.9622919781966717,3.961768765004759,3.961241888635166,3.9607113262469724,3.9601773052952542,3.9596399242292506,3.9590992810480534,3.9585554732621064,3.958008597856979,3.957458751259268,3.9569060293046183,3.9563505272076775,3.955792339533825,3.9552315601727472,3.9546682823136456,3.9541025865043675,3.953534484387748,3.9529641253031276,3.952391593921131,3.9518169736178566,3.9512403464397865,3.9506617930700814,3.9500813927963456,3.9494992234796724,3.948915361525039,3.9483298818530064,3.947742857872591,3.9471543614554476,3.94656446291119,3.9459733002022923,3.9453808968554633,3.944787319874321,3.9441926372071507,3.94359691547348,3.94300021995727,3.942402614600858,3.941804161999694,3.941204923397704,3.940604958683489,3.940004326386979,3.9394030836769116,3.938801286358772,3.9381990491374017,3.937596403151644,3.936993390297669,3.9363900652011603,3.93578648146841,3.9351826916982664,3.9345787474942076,3.9339746994767757,3.93337059729602,3.9327664896441648,3.9321624242683977,3.9315584479837464,3.9309546066860417,3.9303509411656288,3.9297474952960285,3.9291443141904017,3.9285414398208203,3.9279389132757387,3.9273367747722223,3.926735063668203,3.9261338184747023,3.9255330768680397,3.9249328757020194,3.9243332510200557,3.923734238067252,3.9231358713024536,3.922538170923548,3.9219411590434072,3.921344880875335,3.920749366167348,3.9201546438080355,3.9195607418342924,3.9189676874390518,3.9183755069789425,3.9177842259820306,3.9171938691554056,3.916604460392865,3.916016022782472,3.9154285786141023,3.9148421509098714,3.9142567642344726,3.9136724352483174,3.9130891834373935,3.9125070275511873,3.9119259856106687,3.9113460749162443,3.910767312055591,3.91018971291149,3.9096132926695146,3.9090380658257087,3.9084640461941658,3.907891246914544,3.9073196853111134,3.9067494236424483,3.9061804329673233,3.9056127252944615,3.9050463120197336,3.904481203929581,3.9039174112043655,3.903354943421739,3.9027938095598818,3.9022340180007853,3.9016755765334143,3.90111849235684,3.900562772083382,3.900008421741624,3.89945544677944,3.898903852066971,3.8983536418995617,3.8978048200005944,3.897257389524406,3.896711353059008,3.8961667126288857,3.895623469697705,3.895081625170973,3.894541206101947,3.8940023551584977,3.893464938093327,3.892928956748649,3.892394412540928,3.8918613064636123,3.8913296390897885,3.8907994105747736,3.890270620658679,3.8897432686688935,3.8892173535224543,3.8886928737284823,3.88816982739044,3.887648212208381,3.8871280254811684,3.8866092641085683,3.886091924593348,3.8855760030432687,3.8850614951730527,3.884548396306273,3.8840367013771893,3.883526404932534,3.883017501133196,3.882510027489835,3.88200412168033,3.88149962926911,3.8809965463429634,3.8804948687564966,3.8799945921353056,3.879495711879074,3.8789982231645936,3.878502120948731,3.8780073999712363,3.8775140547575786,3.8770220796216113,3.876531468668211,3.8760422157958057,3.875554314698874,3.8750677588703097,3.8745825416037505,3.874098655995825,3.8736160949483076,3.8731348511702186,3.872654917179845,3.872176285306693,3.871698947693357,3.8712228989687336,3.8707481474743934,3.8702746874705864,3.8698025147081774,3.8693316251097016,3.86886201478014,3.868393680017465,3.8679268536184406,3.8674612822331023,3.866996844477598,3.866533563483088,3.8660715440585767,3.8656107105628448,3.8651510574058134,3.8646926081091766,3.8642353507523985,3.8637792734013656,3.863324369371065,3.862870631648315,3.862418054550005,3.8619666315487624,3.861516356007329,3.86106722118063,3.860619143290965,3.860172178237604,3.8597263216646303,3.859281566480674,3.858837905495053,3.8583953314194757,3.85795383686965,3.85751341436692,3.8570740563397257,3.8566357551251085,3.8561985029701207,3.8557622920331522,3.855327068277146,3.8548927823913264,3.8544594955821525,3.8540271997626343,3.8535958867613207,3.8531655483233553,3.8527361761113594,3.852307761706332,3.8518802966084853,3.851453772238006,3.8510281799357786,3.8506035109640493,3.8501797565070226,3.849756805362445,3.849334708159236,3.8489134799515314,3.8484931117052366,3.8480735943084627,3.8476549185717555,3.8472370752282967,3.846820054934049,3.8464038482678373,3.845988445731397,3.8455738377493165,3.8451600146689664,3.8447469421961835,3.8443345346268405,3.8439228650921122,3.8435119237018855,3.843101700485544,3.842692185391502,3.842283368286704,3.8418752389560735,3.8414677871018332,3.8410610023428733,3.8406548742139544,3.840249392164916,3.8398445455597803,3.839440256088183,3.8390365281213765,3.838633387320388,3.838230822750895,3.8378288233854323,3.837427378102143,3.8370264756833943,3.8366261048144,3.836226254081689,3.835826911971567,3.8354280668684697,3.835029707053286,3.8346318162322106,3.8342342900540975,3.833837196314807,3.8334405224057253,3.8330442556049267,3.832648383074912,3.8322528918602456,3.8318577688851083,3.8314630009508055,3.8310685747331465,3.8306744767797407,3.83028069350726,3.829887211198565,3.829494015999751,3.8291010939171217,3.82870843081408,3.828316012407876,3.8279238242663305,3.827531851804423,3.8271400802807984,3.8267484947941766,3.8263570802796543,3.8259658029518833,3.8255746236363275,3.825183561168592,3.8247925994544505,3.8244017222158506,3.824010912986572,3.823620155107704,3.8232294317231323,3.8228387257748047,3.8224480199979984,3.8220572969163937,3.821666538837092,3.8212757278455234,3.820884845800227,3.820493874327538,3.820102794816189,3.819711588411769,3.819320236011069,3.8189287182564073,3.8185370155297305,3.818145107946698,3.817752975350636,3.8173605929228294,3.8169679408201214,3.8165750005294727,3.8161817506988878,3.815788169672208,3.8153942354824877,3.81499992584527,3.814605218151795,3.814210089462124,3.8138145164981636,3.8134184756366745,3.813021942902167,3.812624893959729,3.8122273041078794,3.8118291482712645,3.8114304009933955,3.81103103642933,3.8106310283383134,3.810230350076444,3.8098289745892937,3.8094268744045645,3.809024021624734,3.808620390277108,3.8082159508631426,3.8078106741294127,3.8074045305610418,3.806997490182499,3.8065895225507127],\"type\":\"scatter\"}],                        {\"autosize\":false,\"height\":576,\"legend\":{\"font\":{\"size\":12},\"x\":1,\"xanchor\":\"right\",\"y\":1,\"yanchor\":\"top\"},\"margin\":{\"b\":10,\"l\":10,\"pad\":4,\"r\":10,\"t\":75},\"showlegend\":true,\"title\":{\"text\":\"Optimised Comparison\",\"x\":0.5},\"width\":1024,\"xaxis\":{\"tickfont\":{\"size\":12},\"title\":{\"font\":{\"size\":12},\"text\":\"Time [s]\"}},\"yaxis\":{\"tickfont\":{\"size\":12},\"title\":{\"font\":{\"size\":12},\"text\":\"Voltage [V]\"}},\"template\":{\"data\":{\"histogram2dcontour\":[{\"type\":\"histogram2dcontour\",\"colorbar\":{\"outlinewidth\":0,\"ticks\":\"\"},\"colorscale\":[[0.0,\"#0d0887\"],[0.1111111111111111,\"#46039f\"],[0.2222222222222222,\"#7201a8\"],[0.3333333333333333,\"#9c179e\"],[0.4444444444444444,\"#bd3786\"],[0.5555555555555556,\"#d8576b\"],[0.6666666666666666,\"#ed7953\"],[0.7777777777777778,\"#fb9f3a\"],[0.8888888888888888,\"#fdca26\"],[1.0,\"#f0f921\"]]}],\"choropleth\":[{\"type\":\"choropleth\",\"colorbar\":{\"outlinewidth\":0,\"ticks\":\"\"}}],\"histogram2d\":[{\"type\":\"histogram2d\",\"colorbar\":{\"outlinewidth\":0,\"ticks\":\"\"},\"colorscale\":[[0.0,\"#0d0887\"],[0.1111111111111111,\"#46039f\"],[0.2222222222222222,\"#7201a8\"],[0.3333333333333333,\"#9c179e\"],[0.4444444444444444,\"#bd3786\"],[0.5555555555555556,\"#d8576b\"],[0.6666666666666666,\"#ed7953\"],[0.7777777777777778,\"#fb9f3a\"],[0.8888888888888888,\"#fdca26\"],[1.0,\"#f0f921\"]]}],\"heatmap\":[{\"type\":\"heatmap\",\"colorbar\":{\"outlinewidth\":0,\"ticks\":\"\"},\"colorscale\":[[0.0,\"#0d0887\"],[0.1111111111111111,\"#46039f\"],[0.2222222222222222,\"#7201a8\"],[0.3333333333333333,\"#9c179e\"],[0.4444444444444444,\"#bd3786\"],[0.5555555555555556,\"#d8576b\"],[0.6666666666666666,\"#ed7953\"],[0.7777777777777778,\"#fb9f3a\"],[0.8888888888888888,\"#fdca26\"],[1.0,\"#f0f921\"]]}],\"heatmapgl\":[{\"type\":\"heatmapgl\",\"colorbar\":{\"outlinewidth\":0,\"ticks\":\"\"},\"colorscale\":[[0.0,\"#0d0887\"],[0.1111111111111111,\"#46039f\"],[0.2222222222222222,\"#7201a8\"],[0.3333333333333333,\"#9c179e\"],[0.4444444444444444,\"#bd3786\"],[0.5555555555555556,\"#d8576b\"],[0.6666666666666666,\"#ed7953\"],[0.7777777777777778,\"#fb9f3a\"],[0.8888888888888888,\"#fdca26\"],[1.0,\"#f0f921\"]]}],\"contourcarpet\":[{\"type\":\"contourcarpet\",\"colorbar\":{\"outlinewidth\":0,\"ticks\":\"\"}}],\"contour\":[{\"type\":\"contour\",\"colorbar\":{\"outlinewidth\":0,\"ticks\":\"\"},\"colorscale\":[[0.0,\"#0d0887\"],[0.1111111111111111,\"#46039f\"],[0.2222222222222222,\"#7201a8\"],[0.3333333333333333,\"#9c179e\"],[0.4444444444444444,\"#bd3786\"],[0.5555555555555556,\"#d8576b\"],[0.6666666666666666,\"#ed7953\"],[0.7777777777777778,\"#fb9f3a\"],[0.8888888888888888,\"#fdca26\"],[1.0,\"#f0f921\"]]}],\"surface\":[{\"type\":\"surface\",\"colorbar\":{\"outlinewidth\":0,\"ticks\":\"\"},\"colorscale\":[[0.0,\"#0d0887\"],[0.1111111111111111,\"#46039f\"],[0.2222222222222222,\"#7201a8\"],[0.3333333333333333,\"#9c179e\"],[0.4444444444444444,\"#bd3786\"],[0.5555555555555556,\"#d8576b\"],[0.6666666666666666,\"#ed7953\"],[0.7777777777777778,\"#fb9f3a\"],[0.8888888888888888,\"#fdca26\"],[1.0,\"#f0f921\"]]}],\"mesh3d\":[{\"type\":\"mesh3d\",\"colorbar\":{\"outlinewidth\":0,\"ticks\":\"\"}}],\"scatter\":[{\"fillpattern\":{\"fillmode\":\"overlay\",\"size\":10,\"solidity\":0.2},\"type\":\"scatter\"}],\"parcoords\":[{\"type\":\"parcoords\",\"line\":{\"colorbar\":{\"outlinewidth\":0,\"ticks\":\"\"}}}],\"scatterpolargl\":[{\"type\":\"scatterpolargl\",\"marker\":{\"colorbar\":{\"outlinewidth\":0,\"ticks\":\"\"}}}],\"bar\":[{\"error_x\":{\"color\":\"#2a3f5f\"},\"error_y\":{\"color\":\"#2a3f5f\"},\"marker\":{\"line\":{\"color\":\"#E5ECF6\",\"width\":0.5},\"pattern\":{\"fillmode\":\"overlay\",\"size\":10,\"solidity\":0.2}},\"type\":\"bar\"}],\"scattergeo\":[{\"type\":\"scattergeo\",\"marker\":{\"colorbar\":{\"outlinewidth\":0,\"ticks\":\"\"}}}],\"scatterpolar\":[{\"type\":\"scatterpolar\",\"marker\":{\"colorbar\":{\"outlinewidth\":0,\"ticks\":\"\"}}}],\"histogram\":[{\"marker\":{\"pattern\":{\"fillmode\":\"overlay\",\"size\":10,\"solidity\":0.2}},\"type\":\"histogram\"}],\"scattergl\":[{\"type\":\"scattergl\",\"marker\":{\"colorbar\":{\"outlinewidth\":0,\"ticks\":\"\"}}}],\"scatter3d\":[{\"type\":\"scatter3d\",\"line\":{\"colorbar\":{\"outlinewidth\":0,\"ticks\":\"\"}},\"marker\":{\"colorbar\":{\"outlinewidth\":0,\"ticks\":\"\"}}}],\"scattermapbox\":[{\"type\":\"scattermapbox\",\"marker\":{\"colorbar\":{\"outlinewidth\":0,\"ticks\":\"\"}}}],\"scatterternary\":[{\"type\":\"scatterternary\",\"marker\":{\"colorbar\":{\"outlinewidth\":0,\"ticks\":\"\"}}}],\"scattercarpet\":[{\"type\":\"scattercarpet\",\"marker\":{\"colorbar\":{\"outlinewidth\":0,\"ticks\":\"\"}}}],\"carpet\":[{\"aaxis\":{\"endlinecolor\":\"#2a3f5f\",\"gridcolor\":\"white\",\"linecolor\":\"white\",\"minorgridcolor\":\"white\",\"startlinecolor\":\"#2a3f5f\"},\"baxis\":{\"endlinecolor\":\"#2a3f5f\",\"gridcolor\":\"white\",\"linecolor\":\"white\",\"minorgridcolor\":\"white\",\"startlinecolor\":\"#2a3f5f\"},\"type\":\"carpet\"}],\"table\":[{\"cells\":{\"fill\":{\"color\":\"#EBF0F8\"},\"line\":{\"color\":\"white\"}},\"header\":{\"fill\":{\"color\":\"#C8D4E3\"},\"line\":{\"color\":\"white\"}},\"type\":\"table\"}],\"barpolar\":[{\"marker\":{\"line\":{\"color\":\"#E5ECF6\",\"width\":0.5},\"pattern\":{\"fillmode\":\"overlay\",\"size\":10,\"solidity\":0.2}},\"type\":\"barpolar\"}],\"pie\":[{\"automargin\":true,\"type\":\"pie\"}]},\"layout\":{\"autotypenumbers\":\"strict\",\"colorway\":[\"#636efa\",\"#EF553B\",\"#00cc96\",\"#ab63fa\",\"#FFA15A\",\"#19d3f3\",\"#FF6692\",\"#B6E880\",\"#FF97FF\",\"#FECB52\"],\"font\":{\"color\":\"#2a3f5f\"},\"hovermode\":\"closest\",\"hoverlabel\":{\"align\":\"left\"},\"paper_bgcolor\":\"white\",\"plot_bgcolor\":\"#E5ECF6\",\"polar\":{\"bgcolor\":\"#E5ECF6\",\"angularaxis\":{\"gridcolor\":\"white\",\"linecolor\":\"white\",\"ticks\":\"\"},\"radialaxis\":{\"gridcolor\":\"white\",\"linecolor\":\"white\",\"ticks\":\"\"}},\"ternary\":{\"bgcolor\":\"#E5ECF6\",\"aaxis\":{\"gridcolor\":\"white\",\"linecolor\":\"white\",\"ticks\":\"\"},\"baxis\":{\"gridcolor\":\"white\",\"linecolor\":\"white\",\"ticks\":\"\"},\"caxis\":{\"gridcolor\":\"white\",\"linecolor\":\"white\",\"ticks\":\"\"}},\"coloraxis\":{\"colorbar\":{\"outlinewidth\":0,\"ticks\":\"\"}},\"colorscale\":{\"sequential\":[[0.0,\"#0d0887\"],[0.1111111111111111,\"#46039f\"],[0.2222222222222222,\"#7201a8\"],[0.3333333333333333,\"#9c179e\"],[0.4444444444444444,\"#bd3786\"],[0.5555555555555556,\"#d8576b\"],[0.6666666666666666,\"#ed7953\"],[0.7777777777777778,\"#fb9f3a\"],[0.8888888888888888,\"#fdca26\"],[1.0,\"#f0f921\"]],\"sequentialminus\":[[0.0,\"#0d0887\"],[0.1111111111111111,\"#46039f\"],[0.2222222222222222,\"#7201a8\"],[0.3333333333333333,\"#9c179e\"],[0.4444444444444444,\"#bd3786\"],[0.5555555555555556,\"#d8576b\"],[0.6666666666666666,\"#ed7953\"],[0.7777777777777778,\"#fb9f3a\"],[0.8888888888888888,\"#fdca26\"],[1.0,\"#f0f921\"]],\"diverging\":[[0,\"#8e0152\"],[0.1,\"#c51b7d\"],[0.2,\"#de77ae\"],[0.3,\"#f1b6da\"],[0.4,\"#fde0ef\"],[0.5,\"#f7f7f7\"],[0.6,\"#e6f5d0\"],[0.7,\"#b8e186\"],[0.8,\"#7fbc41\"],[0.9,\"#4d9221\"],[1,\"#276419\"]]},\"xaxis\":{\"gridcolor\":\"white\",\"linecolor\":\"white\",\"ticks\":\"\",\"title\":{\"standoff\":15},\"zerolinecolor\":\"white\",\"automargin\":true,\"zerolinewidth\":2},\"yaxis\":{\"gridcolor\":\"white\",\"linecolor\":\"white\",\"ticks\":\"\",\"title\":{\"standoff\":15},\"zerolinecolor\":\"white\",\"automargin\":true,\"zerolinewidth\":2},\"scene\":{\"xaxis\":{\"backgroundcolor\":\"#E5ECF6\",\"gridcolor\":\"white\",\"linecolor\":\"white\",\"showbackground\":true,\"ticks\":\"\",\"zerolinecolor\":\"white\",\"gridwidth\":2},\"yaxis\":{\"backgroundcolor\":\"#E5ECF6\",\"gridcolor\":\"white\",\"linecolor\":\"white\",\"showbackground\":true,\"ticks\":\"\",\"zerolinecolor\":\"white\",\"gridwidth\":2},\"zaxis\":{\"backgroundcolor\":\"#E5ECF6\",\"gridcolor\":\"white\",\"linecolor\":\"white\",\"showbackground\":true,\"ticks\":\"\",\"zerolinecolor\":\"white\",\"gridwidth\":2}},\"shapedefaults\":{\"line\":{\"color\":\"#2a3f5f\"}},\"annotationdefaults\":{\"arrowcolor\":\"#2a3f5f\",\"arrowhead\":0,\"arrowwidth\":1},\"geo\":{\"bgcolor\":\"white\",\"landcolor\":\"#E5ECF6\",\"subunitcolor\":\"white\",\"showland\":true,\"showlakes\":true,\"lakecolor\":\"white\"},\"title\":{\"x\":0.05},\"mapbox\":{\"style\":\"light\"}}}},                        {\"responsive\": true}                    ).then(function(){\n",
       "                            \n",
       "var gd = document.getElementById('d9a10a9b-9ce9-46ba-aefe-f094526e2059');\n",
       "var x = new MutationObserver(function (mutations, observer) {{\n",
       "        var display = window.getComputedStyle(gd).display;\n",
       "        if (!display || display === 'none') {{\n",
       "            console.log([gd, 'removed!']);\n",
       "            Plotly.purge(gd);\n",
       "            observer.disconnect();\n",
       "        }}\n",
       "}});\n",
       "\n",
       "// Listen for the removal of the full notebook cells\n",
       "var notebookContainer = gd.closest('#notebook-container');\n",
       "if (notebookContainer) {{\n",
       "    x.observe(notebookContainer, {childList: true});\n",
       "}}\n",
       "\n",
       "// Listen for the clearing of the current output cell\n",
       "var outputEl = gd.closest('.output');\n",
       "if (outputEl) {{\n",
       "    x.observe(outputEl, {childList: true});\n",
       "}}\n",
       "\n",
       "                        })                };                });            </script>        </div>"
      ]
     },
     "metadata": {},
     "output_type": "display_data"
    }
   ],
   "source": [
    "pybop.quick_plot(x, cost, title=\"Optimised Comparison\");"
   ]
  },
  {
   "cell_type": "markdown",
   "metadata": {},
   "source": [
    "### Convergence and Parameter Trajectories\n",
    "\n",
    "To assess the optimisation process, we can plot the convergence of the cost function and the trajectories of the parameters:"
   ]
  },
  {
   "cell_type": "code",
   "execution_count": 15,
   "metadata": {
    "id": "N5XYkevi04qD"
   },
   "outputs": [
    {
     "data": {
      "application/vnd.plotly.v1+json": {
       "config": {
        "plotlyServerURL": "https://plot.ly"
       },
       "data": [
        {
         "line": {
          "width": 4
         },
         "mode": "lines",
         "name": "Covariance Matrix Adaptation Evolution<br>Strategy (CMA-ES)",
         "type": "scatter",
         "x": [
          1,
          2,
          3,
          4,
          5,
          6,
          7,
          8,
          9,
          10,
          11,
          12,
          13,
          14,
          15,
          16,
          17,
          18,
          19,
          20,
          21,
          22,
          23,
          24,
          25,
          26,
          27,
          28,
          29,
          30,
          31,
          32,
          33,
          34,
          35,
          36,
          37,
          38,
          39,
          40,
          41,
          42,
          43,
          44,
          45
         ],
         "y": [
          0.004411711089363526,
          0.005830879807423535,
          0.005375404335221186,
          0.002881125238847097,
          0.0020386582628807845,
          0.001452723526972283,
          0.001138954926950212,
          0.0014071587189440449,
          0.006486420598601779,
          0.004256235561667734,
          0.00399803111422376,
          0.0009155271534778232,
          0.0006933920250352247,
          0.0006533572518697612,
          0.0006097645748991324,
          0.0005135016900704044,
          0.0005422527696330972,
          0.0006072159685855464,
          0.00044604288440474086,
          0.00042035522246848056,
          0.0004245854175423076,
          0.00041545425658610625,
          0.00041661078412882934,
          0.0004140071530269469,
          0.00041475959826343977,
          0.0004143493288122635,
          0.0004139678081364512,
          0.0004139346505102296,
          0.0004139426374679559,
          0.0004138617188765794,
          0.0004138630986312129,
          0.0004138832547943191,
          0.0004138316896185448,
          0.0004138500441090939,
          0.000413833161521332,
          0.00041385187527160435,
          0.0004138406489930524,
          0.00041383205173274807,
          0.0004138362814898684,
          0.00041383327184654425,
          0.0004138320579210566,
          0.0004138317785459333,
          0.0004138314759850062,
          0.0004138314747321133,
          0.0004138314830112939
         ]
        }
       ],
       "layout": {
        "autosize": false,
        "height": 576,
        "legend": {
         "font": {
          "size": 12
         },
         "x": 1,
         "xanchor": "right",
         "y": 1,
         "yanchor": "top"
        },
        "margin": {
         "b": 10,
         "l": 10,
         "pad": 4,
         "r": 10,
         "t": 75
        },
        "showlegend": true,
        "template": {
         "data": {
          "bar": [
           {
            "error_x": {
             "color": "#2a3f5f"
            },
            "error_y": {
             "color": "#2a3f5f"
            },
            "marker": {
             "line": {
              "color": "#E5ECF6",
              "width": 0.5
             },
             "pattern": {
              "fillmode": "overlay",
              "size": 10,
              "solidity": 0.2
             }
            },
            "type": "bar"
           }
          ],
          "barpolar": [
           {
            "marker": {
             "line": {
              "color": "#E5ECF6",
              "width": 0.5
             },
             "pattern": {
              "fillmode": "overlay",
              "size": 10,
              "solidity": 0.2
             }
            },
            "type": "barpolar"
           }
          ],
          "carpet": [
           {
            "aaxis": {
             "endlinecolor": "#2a3f5f",
             "gridcolor": "white",
             "linecolor": "white",
             "minorgridcolor": "white",
             "startlinecolor": "#2a3f5f"
            },
            "baxis": {
             "endlinecolor": "#2a3f5f",
             "gridcolor": "white",
             "linecolor": "white",
             "minorgridcolor": "white",
             "startlinecolor": "#2a3f5f"
            },
            "type": "carpet"
           }
          ],
          "choropleth": [
           {
            "colorbar": {
             "outlinewidth": 0,
             "ticks": ""
            },
            "type": "choropleth"
           }
          ],
          "contour": [
           {
            "colorbar": {
             "outlinewidth": 0,
             "ticks": ""
            },
            "colorscale": [
             [
              0,
              "#0d0887"
             ],
             [
              0.1111111111111111,
              "#46039f"
             ],
             [
              0.2222222222222222,
              "#7201a8"
             ],
             [
              0.3333333333333333,
              "#9c179e"
             ],
             [
              0.4444444444444444,
              "#bd3786"
             ],
             [
              0.5555555555555556,
              "#d8576b"
             ],
             [
              0.6666666666666666,
              "#ed7953"
             ],
             [
              0.7777777777777778,
              "#fb9f3a"
             ],
             [
              0.8888888888888888,
              "#fdca26"
             ],
             [
              1,
              "#f0f921"
             ]
            ],
            "type": "contour"
           }
          ],
          "contourcarpet": [
           {
            "colorbar": {
             "outlinewidth": 0,
             "ticks": ""
            },
            "type": "contourcarpet"
           }
          ],
          "heatmap": [
           {
            "colorbar": {
             "outlinewidth": 0,
             "ticks": ""
            },
            "colorscale": [
             [
              0,
              "#0d0887"
             ],
             [
              0.1111111111111111,
              "#46039f"
             ],
             [
              0.2222222222222222,
              "#7201a8"
             ],
             [
              0.3333333333333333,
              "#9c179e"
             ],
             [
              0.4444444444444444,
              "#bd3786"
             ],
             [
              0.5555555555555556,
              "#d8576b"
             ],
             [
              0.6666666666666666,
              "#ed7953"
             ],
             [
              0.7777777777777778,
              "#fb9f3a"
             ],
             [
              0.8888888888888888,
              "#fdca26"
             ],
             [
              1,
              "#f0f921"
             ]
            ],
            "type": "heatmap"
           }
          ],
          "heatmapgl": [
           {
            "colorbar": {
             "outlinewidth": 0,
             "ticks": ""
            },
            "colorscale": [
             [
              0,
              "#0d0887"
             ],
             [
              0.1111111111111111,
              "#46039f"
             ],
             [
              0.2222222222222222,
              "#7201a8"
             ],
             [
              0.3333333333333333,
              "#9c179e"
             ],
             [
              0.4444444444444444,
              "#bd3786"
             ],
             [
              0.5555555555555556,
              "#d8576b"
             ],
             [
              0.6666666666666666,
              "#ed7953"
             ],
             [
              0.7777777777777778,
              "#fb9f3a"
             ],
             [
              0.8888888888888888,
              "#fdca26"
             ],
             [
              1,
              "#f0f921"
             ]
            ],
            "type": "heatmapgl"
           }
          ],
          "histogram": [
           {
            "marker": {
             "pattern": {
              "fillmode": "overlay",
              "size": 10,
              "solidity": 0.2
             }
            },
            "type": "histogram"
           }
          ],
          "histogram2d": [
           {
            "colorbar": {
             "outlinewidth": 0,
             "ticks": ""
            },
            "colorscale": [
             [
              0,
              "#0d0887"
             ],
             [
              0.1111111111111111,
              "#46039f"
             ],
             [
              0.2222222222222222,
              "#7201a8"
             ],
             [
              0.3333333333333333,
              "#9c179e"
             ],
             [
              0.4444444444444444,
              "#bd3786"
             ],
             [
              0.5555555555555556,
              "#d8576b"
             ],
             [
              0.6666666666666666,
              "#ed7953"
             ],
             [
              0.7777777777777778,
              "#fb9f3a"
             ],
             [
              0.8888888888888888,
              "#fdca26"
             ],
             [
              1,
              "#f0f921"
             ]
            ],
            "type": "histogram2d"
           }
          ],
          "histogram2dcontour": [
           {
            "colorbar": {
             "outlinewidth": 0,
             "ticks": ""
            },
            "colorscale": [
             [
              0,
              "#0d0887"
             ],
             [
              0.1111111111111111,
              "#46039f"
             ],
             [
              0.2222222222222222,
              "#7201a8"
             ],
             [
              0.3333333333333333,
              "#9c179e"
             ],
             [
              0.4444444444444444,
              "#bd3786"
             ],
             [
              0.5555555555555556,
              "#d8576b"
             ],
             [
              0.6666666666666666,
              "#ed7953"
             ],
             [
              0.7777777777777778,
              "#fb9f3a"
             ],
             [
              0.8888888888888888,
              "#fdca26"
             ],
             [
              1,
              "#f0f921"
             ]
            ],
            "type": "histogram2dcontour"
           }
          ],
          "mesh3d": [
           {
            "colorbar": {
             "outlinewidth": 0,
             "ticks": ""
            },
            "type": "mesh3d"
           }
          ],
          "parcoords": [
           {
            "line": {
             "colorbar": {
              "outlinewidth": 0,
              "ticks": ""
             }
            },
            "type": "parcoords"
           }
          ],
          "pie": [
           {
            "automargin": true,
            "type": "pie"
           }
          ],
          "scatter": [
           {
            "fillpattern": {
             "fillmode": "overlay",
             "size": 10,
             "solidity": 0.2
            },
            "type": "scatter"
           }
          ],
          "scatter3d": [
           {
            "line": {
             "colorbar": {
              "outlinewidth": 0,
              "ticks": ""
             }
            },
            "marker": {
             "colorbar": {
              "outlinewidth": 0,
              "ticks": ""
             }
            },
            "type": "scatter3d"
           }
          ],
          "scattercarpet": [
           {
            "marker": {
             "colorbar": {
              "outlinewidth": 0,
              "ticks": ""
             }
            },
            "type": "scattercarpet"
           }
          ],
          "scattergeo": [
           {
            "marker": {
             "colorbar": {
              "outlinewidth": 0,
              "ticks": ""
             }
            },
            "type": "scattergeo"
           }
          ],
          "scattergl": [
           {
            "marker": {
             "colorbar": {
              "outlinewidth": 0,
              "ticks": ""
             }
            },
            "type": "scattergl"
           }
          ],
          "scattermapbox": [
           {
            "marker": {
             "colorbar": {
              "outlinewidth": 0,
              "ticks": ""
             }
            },
            "type": "scattermapbox"
           }
          ],
          "scatterpolar": [
           {
            "marker": {
             "colorbar": {
              "outlinewidth": 0,
              "ticks": ""
             }
            },
            "type": "scatterpolar"
           }
          ],
          "scatterpolargl": [
           {
            "marker": {
             "colorbar": {
              "outlinewidth": 0,
              "ticks": ""
             }
            },
            "type": "scatterpolargl"
           }
          ],
          "scatterternary": [
           {
            "marker": {
             "colorbar": {
              "outlinewidth": 0,
              "ticks": ""
             }
            },
            "type": "scatterternary"
           }
          ],
          "surface": [
           {
            "colorbar": {
             "outlinewidth": 0,
             "ticks": ""
            },
            "colorscale": [
             [
              0,
              "#0d0887"
             ],
             [
              0.1111111111111111,
              "#46039f"
             ],
             [
              0.2222222222222222,
              "#7201a8"
             ],
             [
              0.3333333333333333,
              "#9c179e"
             ],
             [
              0.4444444444444444,
              "#bd3786"
             ],
             [
              0.5555555555555556,
              "#d8576b"
             ],
             [
              0.6666666666666666,
              "#ed7953"
             ],
             [
              0.7777777777777778,
              "#fb9f3a"
             ],
             [
              0.8888888888888888,
              "#fdca26"
             ],
             [
              1,
              "#f0f921"
             ]
            ],
            "type": "surface"
           }
          ],
          "table": [
           {
            "cells": {
             "fill": {
              "color": "#EBF0F8"
             },
             "line": {
              "color": "white"
             }
            },
            "header": {
             "fill": {
              "color": "#C8D4E3"
             },
             "line": {
              "color": "white"
             }
            },
            "type": "table"
           }
          ]
         },
         "layout": {
          "annotationdefaults": {
           "arrowcolor": "#2a3f5f",
           "arrowhead": 0,
           "arrowwidth": 1
          },
          "autotypenumbers": "strict",
          "coloraxis": {
           "colorbar": {
            "outlinewidth": 0,
            "ticks": ""
           }
          },
          "colorscale": {
           "diverging": [
            [
             0,
             "#8e0152"
            ],
            [
             0.1,
             "#c51b7d"
            ],
            [
             0.2,
             "#de77ae"
            ],
            [
             0.3,
             "#f1b6da"
            ],
            [
             0.4,
             "#fde0ef"
            ],
            [
             0.5,
             "#f7f7f7"
            ],
            [
             0.6,
             "#e6f5d0"
            ],
            [
             0.7,
             "#b8e186"
            ],
            [
             0.8,
             "#7fbc41"
            ],
            [
             0.9,
             "#4d9221"
            ],
            [
             1,
             "#276419"
            ]
           ],
           "sequential": [
            [
             0,
             "#0d0887"
            ],
            [
             0.1111111111111111,
             "#46039f"
            ],
            [
             0.2222222222222222,
             "#7201a8"
            ],
            [
             0.3333333333333333,
             "#9c179e"
            ],
            [
             0.4444444444444444,
             "#bd3786"
            ],
            [
             0.5555555555555556,
             "#d8576b"
            ],
            [
             0.6666666666666666,
             "#ed7953"
            ],
            [
             0.7777777777777778,
             "#fb9f3a"
            ],
            [
             0.8888888888888888,
             "#fdca26"
            ],
            [
             1,
             "#f0f921"
            ]
           ],
           "sequentialminus": [
            [
             0,
             "#0d0887"
            ],
            [
             0.1111111111111111,
             "#46039f"
            ],
            [
             0.2222222222222222,
             "#7201a8"
            ],
            [
             0.3333333333333333,
             "#9c179e"
            ],
            [
             0.4444444444444444,
             "#bd3786"
            ],
            [
             0.5555555555555556,
             "#d8576b"
            ],
            [
             0.6666666666666666,
             "#ed7953"
            ],
            [
             0.7777777777777778,
             "#fb9f3a"
            ],
            [
             0.8888888888888888,
             "#fdca26"
            ],
            [
             1,
             "#f0f921"
            ]
           ]
          },
          "colorway": [
           "#636efa",
           "#EF553B",
           "#00cc96",
           "#ab63fa",
           "#FFA15A",
           "#19d3f3",
           "#FF6692",
           "#B6E880",
           "#FF97FF",
           "#FECB52"
          ],
          "font": {
           "color": "#2a3f5f"
          },
          "geo": {
           "bgcolor": "white",
           "lakecolor": "white",
           "landcolor": "#E5ECF6",
           "showlakes": true,
           "showland": true,
           "subunitcolor": "white"
          },
          "hoverlabel": {
           "align": "left"
          },
          "hovermode": "closest",
          "mapbox": {
           "style": "light"
          },
          "paper_bgcolor": "white",
          "plot_bgcolor": "#E5ECF6",
          "polar": {
           "angularaxis": {
            "gridcolor": "white",
            "linecolor": "white",
            "ticks": ""
           },
           "bgcolor": "#E5ECF6",
           "radialaxis": {
            "gridcolor": "white",
            "linecolor": "white",
            "ticks": ""
           }
          },
          "scene": {
           "xaxis": {
            "backgroundcolor": "#E5ECF6",
            "gridcolor": "white",
            "gridwidth": 2,
            "linecolor": "white",
            "showbackground": true,
            "ticks": "",
            "zerolinecolor": "white"
           },
           "yaxis": {
            "backgroundcolor": "#E5ECF6",
            "gridcolor": "white",
            "gridwidth": 2,
            "linecolor": "white",
            "showbackground": true,
            "ticks": "",
            "zerolinecolor": "white"
           },
           "zaxis": {
            "backgroundcolor": "#E5ECF6",
            "gridcolor": "white",
            "gridwidth": 2,
            "linecolor": "white",
            "showbackground": true,
            "ticks": "",
            "zerolinecolor": "white"
           }
          },
          "shapedefaults": {
           "line": {
            "color": "#2a3f5f"
           }
          },
          "ternary": {
           "aaxis": {
            "gridcolor": "white",
            "linecolor": "white",
            "ticks": ""
           },
           "baxis": {
            "gridcolor": "white",
            "linecolor": "white",
            "ticks": ""
           },
           "bgcolor": "#E5ECF6",
           "caxis": {
            "gridcolor": "white",
            "linecolor": "white",
            "ticks": ""
           }
          },
          "title": {
           "x": 0.05
          },
          "xaxis": {
           "automargin": true,
           "gridcolor": "white",
           "linecolor": "white",
           "ticks": "",
           "title": {
            "standoff": 15
           },
           "zerolinecolor": "white",
           "zerolinewidth": 2
          },
          "yaxis": {
           "automargin": true,
           "gridcolor": "white",
           "linecolor": "white",
           "ticks": "",
           "title": {
            "standoff": 15
           },
           "zerolinecolor": "white",
           "zerolinewidth": 2
          }
         }
        },
        "title": {
         "text": "Convergence",
         "x": 0.5
        },
        "width": 1024,
        "xaxis": {
         "autorange": true,
         "range": [
          1,
          45
         ],
         "tickfont": {
          "size": 12
         },
         "title": {
          "font": {
           "size": 12
          },
          "text": "Iteration"
         },
         "type": "linear"
        },
        "yaxis": {
         "autorange": true,
         "range": [
          0.00007646541229490959,
          0.006823786661038982
         ],
         "tickfont": {
          "size": 12
         },
         "title": {
          "font": {
           "size": 12
          },
          "text": "Cost"
         },
         "type": "linear"
        }
       }
      },
      "image/png": "[encoded data removed]",
      "text/html": [
       "<div>                            <div id=\"adbf8734-3857-4d14-85c9-9f7d8b05975a\" class=\"plotly-graph-div\" style=\"height:576px; width:1024px;\"></div>            <script type=\"text/javascript\">                require([\"plotly\"], function(Plotly) {                    window.PLOTLYENV=window.PLOTLYENV || {};                                    if (document.getElementById(\"adbf8734-3857-4d14-85c9-9f7d8b05975a\")) {                    Plotly.newPlot(                        \"adbf8734-3857-4d14-85c9-9f7d8b05975a\",                        [{\"line\":{\"width\":4},\"mode\":\"lines\",\"name\":\"Covariance Matrix Adaptation Evolution\\u003cbr\\u003eStrategy (CMA-ES)\",\"x\":[1,2,3,4,5,6,7,8,9,10,11,12,13,14,15,16,17,18,19,20,21,22,23,24,25,26,27,28,29,30,31,32,33,34,35,36,37,38,39,40,41,42,43,44,45],\"y\":[0.004411711089363526,0.005830879807423535,0.005375404335221186,0.002881125238847097,0.0020386582628807845,0.001452723526972283,0.0011389549269502119,0.0014071587189440449,0.006486420598601779,0.004256235561667734,0.00399803111422376,0.0009155271534778231,0.0006933920250352247,0.0006533572518697612,0.0006097645748991324,0.0005135016900704044,0.0005422527696330972,0.0006072159685855464,0.00044604288440474086,0.00042035522246848056,0.0004245854175423076,0.00041545425658610625,0.00041661078412882934,0.00041400715302694684,0.00041475959826343977,0.0004143493288122635,0.0004139678081364512,0.00041393465051022964,0.0004139426374679559,0.0004138617188765794,0.0004138630986312129,0.0004138832547943191,0.0004138316896185448,0.0004138500441090939,0.000413833161521332,0.00041385187527160435,0.0004138406489930524,0.00041383205173274807,0.0004138362814898684,0.00041383327184654425,0.00041383205792105667,0.0004138317785459333,0.0004138314759850062,0.0004138314747321133,0.0004138314830112939],\"type\":\"scatter\"}],                        {\"autosize\":false,\"height\":576,\"legend\":{\"font\":{\"size\":12},\"x\":1,\"xanchor\":\"right\",\"y\":1,\"yanchor\":\"top\"},\"margin\":{\"b\":10,\"l\":10,\"pad\":4,\"r\":10,\"t\":75},\"showlegend\":true,\"title\":{\"text\":\"Convergence\",\"x\":0.5},\"width\":1024,\"xaxis\":{\"tickfont\":{\"size\":12},\"title\":{\"font\":{\"size\":12},\"text\":\"Iteration\"}},\"yaxis\":{\"tickfont\":{\"size\":12},\"title\":{\"font\":{\"size\":12},\"text\":\"Cost\"}},\"template\":{\"data\":{\"histogram2dcontour\":[{\"type\":\"histogram2dcontour\",\"colorbar\":{\"outlinewidth\":0,\"ticks\":\"\"},\"colorscale\":[[0.0,\"#0d0887\"],[0.1111111111111111,\"#46039f\"],[0.2222222222222222,\"#7201a8\"],[0.3333333333333333,\"#9c179e\"],[0.4444444444444444,\"#bd3786\"],[0.5555555555555556,\"#d8576b\"],[0.6666666666666666,\"#ed7953\"],[0.7777777777777778,\"#fb9f3a\"],[0.8888888888888888,\"#fdca26\"],[1.0,\"#f0f921\"]]}],\"choropleth\":[{\"type\":\"choropleth\",\"colorbar\":{\"outlinewidth\":0,\"ticks\":\"\"}}],\"histogram2d\":[{\"type\":\"histogram2d\",\"colorbar\":{\"outlinewidth\":0,\"ticks\":\"\"},\"colorscale\":[[0.0,\"#0d0887\"],[0.1111111111111111,\"#46039f\"],[0.2222222222222222,\"#7201a8\"],[0.3333333333333333,\"#9c179e\"],[0.4444444444444444,\"#bd3786\"],[0.5555555555555556,\"#d8576b\"],[0.6666666666666666,\"#ed7953\"],[0.7777777777777778,\"#fb9f3a\"],[0.8888888888888888,\"#fdca26\"],[1.0,\"#f0f921\"]]}],\"heatmap\":[{\"type\":\"heatmap\",\"colorbar\":{\"outlinewidth\":0,\"ticks\":\"\"},\"colorscale\":[[0.0,\"#0d0887\"],[0.1111111111111111,\"#46039f\"],[0.2222222222222222,\"#7201a8\"],[0.3333333333333333,\"#9c179e\"],[0.4444444444444444,\"#bd3786\"],[0.5555555555555556,\"#d8576b\"],[0.6666666666666666,\"#ed7953\"],[0.7777777777777778,\"#fb9f3a\"],[0.8888888888888888,\"#fdca26\"],[1.0,\"#f0f921\"]]}],\"heatmapgl\":[{\"type\":\"heatmapgl\",\"colorbar\":{\"outlinewidth\":0,\"ticks\":\"\"},\"colorscale\":[[0.0,\"#0d0887\"],[0.1111111111111111,\"#46039f\"],[0.2222222222222222,\"#7201a8\"],[0.3333333333333333,\"#9c179e\"],[0.4444444444444444,\"#bd3786\"],[0.5555555555555556,\"#d8576b\"],[0.6666666666666666,\"#ed7953\"],[0.7777777777777778,\"#fb9f3a\"],[0.8888888888888888,\"#fdca26\"],[1.0,\"#f0f921\"]]}],\"contourcarpet\":[{\"type\":\"contourcarpet\",\"colorbar\":{\"outlinewidth\":0,\"ticks\":\"\"}}],\"contour\":[{\"type\":\"contour\",\"colorbar\":{\"outlinewidth\":0,\"ticks\":\"\"},\"colorscale\":[[0.0,\"#0d0887\"],[0.1111111111111111,\"#46039f\"],[0.2222222222222222,\"#7201a8\"],[0.3333333333333333,\"#9c179e\"],[0.4444444444444444,\"#bd3786\"],[0.5555555555555556,\"#d8576b\"],[0.6666666666666666,\"#ed7953\"],[0.7777777777777778,\"#fb9f3a\"],[0.8888888888888888,\"#fdca26\"],[1.0,\"#f0f921\"]]}],\"surface\":[{\"type\":\"surface\",\"colorbar\":{\"outlinewidth\":0,\"ticks\":\"\"},\"colorscale\":[[0.0,\"#0d0887\"],[0.1111111111111111,\"#46039f\"],[0.2222222222222222,\"#7201a8\"],[0.3333333333333333,\"#9c179e\"],[0.4444444444444444,\"#bd3786\"],[0.5555555555555556,\"#d8576b\"],[0.6666666666666666,\"#ed7953\"],[0.7777777777777778,\"#fb9f3a\"],[0.8888888888888888,\"#fdca26\"],[1.0,\"#f0f921\"]]}],\"mesh3d\":[{\"type\":\"mesh3d\",\"colorbar\":{\"outlinewidth\":0,\"ticks\":\"\"}}],\"scatter\":[{\"fillpattern\":{\"fillmode\":\"overlay\",\"size\":10,\"solidity\":0.2},\"type\":\"scatter\"}],\"parcoords\":[{\"type\":\"parcoords\",\"line\":{\"colorbar\":{\"outlinewidth\":0,\"ticks\":\"\"}}}],\"scatterpolargl\":[{\"type\":\"scatterpolargl\",\"marker\":{\"colorbar\":{\"outlinewidth\":0,\"ticks\":\"\"}}}],\"bar\":[{\"error_x\":{\"color\":\"#2a3f5f\"},\"error_y\":{\"color\":\"#2a3f5f\"},\"marker\":{\"line\":{\"color\":\"#E5ECF6\",\"width\":0.5},\"pattern\":{\"fillmode\":\"overlay\",\"size\":10,\"solidity\":0.2}},\"type\":\"bar\"}],\"scattergeo\":[{\"type\":\"scattergeo\",\"marker\":{\"colorbar\":{\"outlinewidth\":0,\"ticks\":\"\"}}}],\"scatterpolar\":[{\"type\":\"scatterpolar\",\"marker\":{\"colorbar\":{\"outlinewidth\":0,\"ticks\":\"\"}}}],\"histogram\":[{\"marker\":{\"pattern\":{\"fillmode\":\"overlay\",\"size\":10,\"solidity\":0.2}},\"type\":\"histogram\"}],\"scattergl\":[{\"type\":\"scattergl\",\"marker\":{\"colorbar\":{\"outlinewidth\":0,\"ticks\":\"\"}}}],\"scatter3d\":[{\"type\":\"scatter3d\",\"line\":{\"colorbar\":{\"outlinewidth\":0,\"ticks\":\"\"}},\"marker\":{\"colorbar\":{\"outlinewidth\":0,\"ticks\":\"\"}}}],\"scattermapbox\":[{\"type\":\"scattermapbox\",\"marker\":{\"colorbar\":{\"outlinewidth\":0,\"ticks\":\"\"}}}],\"scatterternary\":[{\"type\":\"scatterternary\",\"marker\":{\"colorbar\":{\"outlinewidth\":0,\"ticks\":\"\"}}}],\"scattercarpet\":[{\"type\":\"scattercarpet\",\"marker\":{\"colorbar\":{\"outlinewidth\":0,\"ticks\":\"\"}}}],\"carpet\":[{\"aaxis\":{\"endlinecolor\":\"#2a3f5f\",\"gridcolor\":\"white\",\"linecolor\":\"white\",\"minorgridcolor\":\"white\",\"startlinecolor\":\"#2a3f5f\"},\"baxis\":{\"endlinecolor\":\"#2a3f5f\",\"gridcolor\":\"white\",\"linecolor\":\"white\",\"minorgridcolor\":\"white\",\"startlinecolor\":\"#2a3f5f\"},\"type\":\"carpet\"}],\"table\":[{\"cells\":{\"fill\":{\"color\":\"#EBF0F8\"},\"line\":{\"color\":\"white\"}},\"header\":{\"fill\":{\"color\":\"#C8D4E3\"},\"line\":{\"color\":\"white\"}},\"type\":\"table\"}],\"barpolar\":[{\"marker\":{\"line\":{\"color\":\"#E5ECF6\",\"width\":0.5},\"pattern\":{\"fillmode\":\"overlay\",\"size\":10,\"solidity\":0.2}},\"type\":\"barpolar\"}],\"pie\":[{\"automargin\":true,\"type\":\"pie\"}]},\"layout\":{\"autotypenumbers\":\"strict\",\"colorway\":[\"#636efa\",\"#EF553B\",\"#00cc96\",\"#ab63fa\",\"#FFA15A\",\"#19d3f3\",\"#FF6692\",\"#B6E880\",\"#FF97FF\",\"#FECB52\"],\"font\":{\"color\":\"#2a3f5f\"},\"hovermode\":\"closest\",\"hoverlabel\":{\"align\":\"left\"},\"paper_bgcolor\":\"white\",\"plot_bgcolor\":\"#E5ECF6\",\"polar\":{\"bgcolor\":\"#E5ECF6\",\"angularaxis\":{\"gridcolor\":\"white\",\"linecolor\":\"white\",\"ticks\":\"\"},\"radialaxis\":{\"gridcolor\":\"white\",\"linecolor\":\"white\",\"ticks\":\"\"}},\"ternary\":{\"bgcolor\":\"#E5ECF6\",\"aaxis\":{\"gridcolor\":\"white\",\"linecolor\":\"white\",\"ticks\":\"\"},\"baxis\":{\"gridcolor\":\"white\",\"linecolor\":\"white\",\"ticks\":\"\"},\"caxis\":{\"gridcolor\":\"white\",\"linecolor\":\"white\",\"ticks\":\"\"}},\"coloraxis\":{\"colorbar\":{\"outlinewidth\":0,\"ticks\":\"\"}},\"colorscale\":{\"sequential\":[[0.0,\"#0d0887\"],[0.1111111111111111,\"#46039f\"],[0.2222222222222222,\"#7201a8\"],[0.3333333333333333,\"#9c179e\"],[0.4444444444444444,\"#bd3786\"],[0.5555555555555556,\"#d8576b\"],[0.6666666666666666,\"#ed7953\"],[0.7777777777777778,\"#fb9f3a\"],[0.8888888888888888,\"#fdca26\"],[1.0,\"#f0f921\"]],\"sequentialminus\":[[0.0,\"#0d0887\"],[0.1111111111111111,\"#46039f\"],[0.2222222222222222,\"#7201a8\"],[0.3333333333333333,\"#9c179e\"],[0.4444444444444444,\"#bd3786\"],[0.5555555555555556,\"#d8576b\"],[0.6666666666666666,\"#ed7953\"],[0.7777777777777778,\"#fb9f3a\"],[0.8888888888888888,\"#fdca26\"],[1.0,\"#f0f921\"]],\"diverging\":[[0,\"#8e0152\"],[0.1,\"#c51b7d\"],[0.2,\"#de77ae\"],[0.3,\"#f1b6da\"],[0.4,\"#fde0ef\"],[0.5,\"#f7f7f7\"],[0.6,\"#e6f5d0\"],[0.7,\"#b8e186\"],[0.8,\"#7fbc41\"],[0.9,\"#4d9221\"],[1,\"#276419\"]]},\"xaxis\":{\"gridcolor\":\"white\",\"linecolor\":\"white\",\"ticks\":\"\",\"title\":{\"standoff\":15},\"zerolinecolor\":\"white\",\"automargin\":true,\"zerolinewidth\":2},\"yaxis\":{\"gridcolor\":\"white\",\"linecolor\":\"white\",\"ticks\":\"\",\"title\":{\"standoff\":15},\"zerolinecolor\":\"white\",\"automargin\":true,\"zerolinewidth\":2},\"scene\":{\"xaxis\":{\"backgroundcolor\":\"#E5ECF6\",\"gridcolor\":\"white\",\"linecolor\":\"white\",\"showbackground\":true,\"ticks\":\"\",\"zerolinecolor\":\"white\",\"gridwidth\":2},\"yaxis\":{\"backgroundcolor\":\"#E5ECF6\",\"gridcolor\":\"white\",\"linecolor\":\"white\",\"showbackground\":true,\"ticks\":\"\",\"zerolinecolor\":\"white\",\"gridwidth\":2},\"zaxis\":{\"backgroundcolor\":\"#E5ECF6\",\"gridcolor\":\"white\",\"linecolor\":\"white\",\"showbackground\":true,\"ticks\":\"\",\"zerolinecolor\":\"white\",\"gridwidth\":2}},\"shapedefaults\":{\"line\":{\"color\":\"#2a3f5f\"}},\"annotationdefaults\":{\"arrowcolor\":\"#2a3f5f\",\"arrowhead\":0,\"arrowwidth\":1},\"geo\":{\"bgcolor\":\"white\",\"landcolor\":\"#E5ECF6\",\"subunitcolor\":\"white\",\"showland\":true,\"showlakes\":true,\"lakecolor\":\"white\"},\"title\":{\"x\":0.05},\"mapbox\":{\"style\":\"light\"}}}},                        {\"responsive\": true}                    ).then(function(){\n",
       "                            \n",
       "var gd = document.getElementById('adbf8734-3857-4d14-85c9-9f7d8b05975a');\n",
       "var x = new MutationObserver(function (mutations, observer) {{\n",
       "        var display = window.getComputedStyle(gd).display;\n",
       "        if (!display || display === 'none') {{\n",
       "            console.log([gd, 'removed!']);\n",
       "            Plotly.purge(gd);\n",
       "            observer.disconnect();\n",
       "        }}\n",
       "}});\n",
       "\n",
       "// Listen for the removal of the full notebook cells\n",
       "var notebookContainer = gd.closest('#notebook-container');\n",
       "if (notebookContainer) {{\n",
       "    x.observe(notebookContainer, {childList: true});\n",
       "}}\n",
       "\n",
       "// Listen for the clearing of the current output cell\n",
       "var outputEl = gd.closest('.output');\n",
       "if (outputEl) {{\n",
       "    x.observe(outputEl, {childList: true});\n",
       "}}\n",
       "\n",
       "                        })                };                });            </script>        </div>"
      ]
     },
     "metadata": {},
     "output_type": "display_data"
    },
    {
     "data": {
      "application/vnd.plotly.v1+json": {
       "config": {
        "plotlyServerURL": "https://plot.ly"
       },
       "data": [
        {
         "name": "Negative electrode active material volume fraction",
         "type": "scatter",
         "x": [
          0,
          1,
          2,
          3,
          4,
          5,
          6,
          7,
          8,
          9,
          10,
          11,
          12,
          13,
          14,
          15,
          16,
          17,
          18,
          19,
          20,
          21,
          22,
          23,
          24,
          25,
          26,
          27,
          28,
          29,
          30,
          31,
          32,
          33,
          34,
          35,
          36,
          37,
          38,
          39,
          40,
          41,
          42,
          43,
          44,
          45,
          46,
          47,
          48,
          49,
          50,
          51,
          52,
          53,
          54,
          55,
          56,
          57,
          58,
          59,
          60,
          61,
          62,
          63,
          64,
          65,
          66,
          67,
          68,
          69,
          70,
          71,
          72,
          73,
          74,
          75,
          76,
          77,
          78,
          79,
          80,
          81,
          82,
          83,
          84,
          85,
          86,
          87,
          88,
          89,
          90,
          91,
          92,
          93,
          94,
          95,
          96,
          97,
          98,
          99,
          100,
          101,
          102,
          103,
          104,
          105,
          106,
          107,
          108,
          109,
          110,
          111,
          112,
          113,
          114,
          115,
          116,
          117,
          118,
          119,
          120,
          121,
          122,
          123,
          124,
          125,
          126,
          127,
          128,
          129,
          130,
          131,
          132,
          133,
          134,
          135,
          136,
          137,
          138,
          139,
          140,
          141,
          142,
          143,
          144,
          145,
          146,
          147,
          148,
          149,
          150,
          151,
          152,
          153,
          154,
          155,
          156,
          157,
          158,
          159,
          160,
          161,
          162,
          163,
          164,
          165,
          166,
          167,
          168,
          169,
          170,
          171,
          172,
          173,
          174,
          175,
          176,
          177,
          178,
          179,
          180,
          181,
          182,
          183,
          184,
          185,
          186,
          187,
          188,
          189,
          190,
          191,
          192,
          193,
          194,
          195,
          196,
          197,
          198,
          199,
          200,
          201,
          202,
          203,
          204,
          205,
          206,
          207,
          208,
          209,
          210,
          211,
          212,
          213,
          214,
          215,
          216,
          217,
          218,
          219,
          220,
          221,
          222,
          223,
          224,
          225,
          226,
          227,
          228,
          229,
          230,
          231,
          232,
          233,
          234,
          235,
          236,
          237,
          238,
          239,
          240,
          241,
          242,
          243,
          244,
          245,
          246,
          247,
          248,
          249,
          250,
          251,
          252,
          253,
          254,
          255,
          256,
          257,
          258,
          259,
          260,
          261,
          262,
          263,
          264,
          265,
          266,
          267,
          268,
          269
         ],
         "xaxis": "x",
         "y": [
          0.6398015275435182,
          0.7834095929218652,
          0.6889740628400505,
          0.6234041886887529,
          0.7472987116338267,
          0.7542734972117308,
          0.6419412905618748,
          0.6783026187078912,
          0.657028445816533,
          0.6967436629809198,
          0.6298077120656006,
          0.6285843263077633,
          0.6000082474714872,
          0.6955322817007007,
          0.6273696391708145,
          0.6307723252620865,
          0.62684229429316,
          0.720746888362131,
          0.6081882553336139,
          0.6115269780187048,
          0.6284493312020082,
          0.6000173662755234,
          0.6633457814593835,
          0.6632885397594831,
          0.6604271664950124,
          0.6297456058567239,
          0.6324599880964914,
          0.6541468730138755,
          0.6850966649271291,
          0.6545813391925616,
          0.7140024010556135,
          0.7002798068515736,
          0.72475831743897,
          0.6562000954444471,
          0.6617569374762292,
          0.6588597524568218,
          0.6599370948477885,
          0.7327244109948049,
          0.6543755422656028,
          0.7368598036834967,
          0.7118995283656964,
          0.7035529116587953,
          0.6856404670642229,
          0.7874619507069341,
          0.8347447119266668,
          0.7952661687473195,
          0.6948326989106055,
          0.8025459058164388,
          0.8023909087739224,
          0.8413035783556975,
          0.8429791769481227,
          0.8215793054323863,
          0.7941168566652124,
          0.817385311535264,
          0.7534210439836811,
          0.7320027540875633,
          0.7622205415933236,
          0.886417585811722,
          0.897026581135707,
          0.6955344176974225,
          0.8123340502097736,
          0.7661303864763724,
          0.8412559369392237,
          0.8364931415088712,
          0.777957172464202,
          0.8541148070899864,
          0.7897906812886395,
          0.6963974015685278,
          0.7771182959883609,
          0.8019974308187632,
          0.702078244365795,
          0.8014441837617875,
          0.7079450888854993,
          0.7962642768613842,
          0.7920638353800669,
          0.7151501223496658,
          0.7358391924764545,
          0.8278533733855753,
          0.7124869250307805,
          0.7348553088810768,
          0.8334840060589617,
          0.7764289301575326,
          0.7950577181630605,
          0.7112830158837191,
          0.7073896226812689,
          0.7076645262323324,
          0.7718085894819768,
          0.705975703768142,
          0.7354747372075696,
          0.6985759536543132,
          0.7460830864135181,
          0.7247593868054502,
          0.7735310256261346,
          0.7831005245852658,
          0.7812987523660673,
          0.7223483312511143,
          0.7335383532528784,
          0.7163899486916715,
          0.7666854163887278,
          0.7385206791820437,
          0.7488601755959889,
          0.688862834317936,
          0.7864848324486302,
          0.7461617845028201,
          0.765284356969859,
          0.7387961110973175,
          0.7335658164518817,
          0.7537842940548691,
          0.7237328418295452,
          0.7277991422014717,
          0.7387787764987062,
          0.760473896200636,
          0.7503729941476718,
          0.7521471891571413,
          0.7355964234728628,
          0.7383871844071798,
          0.7531484988934661,
          0.740356135309568,
          0.7468489281830667,
          0.7345480428291439,
          0.7487886779669092,
          0.7542891622629306,
          0.7610346667506344,
          0.7612010243545771,
          0.7544357417241132,
          0.7504001610339999,
          0.7605611505635547,
          0.7462336979565392,
          0.7535933763121919,
          0.7530969385922034,
          0.7379769125400184,
          0.7563100179542935,
          0.7445989047200426,
          0.7543521697854405,
          0.762457507449366,
          0.7512750946862986,
          0.741423365873329,
          0.7504272616178943,
          0.7522380364202639,
          0.75091364504222,
          0.7486358306117241,
          0.7548234842165206,
          0.7491469720681629,
          0.7511279374636878,
          0.749617610198614,
          0.7476003179328695,
          0.750369931117366,
          0.7505338022181203,
          0.7557962768784904,
          0.7505013731989336,
          0.7510182106587123,
          0.7471308643958997,
          0.7488343565008274,
          0.7456332985972772,
          0.7488412049790049,
          0.7457285567260475,
          0.74644808903075,
          0.7491314652326265,
          0.747010573156756,
          0.7474520922932261,
          0.7479037960827083,
          0.7500150908726078,
          0.7488982363745749,
          0.747762947592885,
          0.7467598497113074,
          0.7472612506053942,
          0.7478758656395419,
          0.7470499147889761,
          0.7471624119426061,
          0.7470474410663344,
          0.7478240506600677,
          0.7465744939982786,
          0.7459454081731658,
          0.7468805778707786,
          0.7480630920647846,
          0.7477703696516877,
          0.7475196775453345,
          0.7475242762120593,
          0.7482347575908042,
          0.7472334260505487,
          0.7479783710356227,
          0.7476575108918704,
          0.7472096081229995,
          0.7476071873145033,
          0.7482627819086766,
          0.7468358374676501,
          0.7476295273469726,
          0.7490225577596015,
          0.7477172724799762,
          0.747616043551513,
          0.7481017866390718,
          0.7471080442096341,
          0.7493568325560195,
          0.7485598082286591,
          0.7483784427338819,
          0.7484127359500952,
          0.7486014010276004,
          0.7479954563835443,
          0.7488198011011512,
          0.7491198277272945,
          0.748693537617128,
          0.7487474786682461,
          0.7485752495166857,
          0.7481632082523264,
          0.7477266089741006,
          0.7483368402303322,
          0.7484268685148276,
          0.7481922079026848,
          0.7493528562192566,
          0.7483799110710669,
          0.7487127986092711,
          0.7483236735870027,
          0.7477307374624874,
          0.7486634891082754,
          0.7482956807831075,
          0.7478639505717516,
          0.7482378234432122,
          0.7487357950590608,
          0.7486533009128502,
          0.7481760029573876,
          0.7486264880466273,
          0.7483535704545061,
          0.7482922086763294,
          0.7484060675803813,
          0.7481509890902289,
          0.7484112159780258,
          0.7483750819870393,
          0.7480772713357768,
          0.7483113624023876,
          0.7482820913661309,
          0.7485009616053125,
          0.7485332052828106,
          0.7484031692818295,
          0.7484242230474862,
          0.7483692816489709,
          0.7483280482902646,
          0.7484428906915788,
          0.7487108739170031,
          0.7481733095129082,
          0.7483352377665545,
          0.7484229556050997,
          0.7484036943462062,
          0.7483616558227326,
          0.7482549728604215,
          0.7483062330471475,
          0.7484845018869662,
          0.7484487561250316,
          0.7483313571673764,
          0.7485076603749453,
          0.7483740195947701,
          0.748401446465961,
          0.7483269710153728,
          0.7484050342172691,
          0.7484242559277622,
          0.7483524836989649,
          0.7483750599216641,
          0.7484270226816604,
          0.7483871326274112,
          0.7483925316918323,
          0.7484135477756078,
          0.7483685303108918,
          0.748501183840965,
          0.7483650572896052,
          0.7483830039428074,
          0.7483992351657923,
          0.7484111602741179,
          0.7483917677990026,
          0.7483812339565569,
          0.7483626840080347,
          0.7483911546398662
         ],
         "yaxis": "y"
        },
        {
         "name": "Positive electrode active material volume fraction",
         "type": "scatter",
         "x": [
          0,
          1,
          2,
          3,
          4,
          5,
          6,
          7,
          8,
          9,
          10,
          11,
          12,
          13,
          14,
          15,
          16,
          17,
          18,
          19,
          20,
          21,
          22,
          23,
          24,
          25,
          26,
          27,
          28,
          29,
          30,
          31,
          32,
          33,
          34,
          35,
          36,
          37,
          38,
          39,
          40,
          41,
          42,
          43,
          44,
          45,
          46,
          47,
          48,
          49,
          50,
          51,
          52,
          53,
          54,
          55,
          56,
          57,
          58,
          59,
          60,
          61,
          62,
          63,
          64,
          65,
          66,
          67,
          68,
          69,
          70,
          71,
          72,
          73,
          74,
          75,
          76,
          77,
          78,
          79,
          80,
          81,
          82,
          83,
          84,
          85,
          86,
          87,
          88,
          89,
          90,
          91,
          92,
          93,
          94,
          95,
          96,
          97,
          98,
          99,
          100,
          101,
          102,
          103,
          104,
          105,
          106,
          107,
          108,
          109,
          110,
          111,
          112,
          113,
          114,
          115,
          116,
          117,
          118,
          119,
          120,
          121,
          122,
          123,
          124,
          125,
          126,
          127,
          128,
          129,
          130,
          131,
          132,
          133,
          134,
          135,
          136,
          137,
          138,
          139,
          140,
          141,
          142,
          143,
          144,
          145,
          146,
          147,
          148,
          149,
          150,
          151,
          152,
          153,
          154,
          155,
          156,
          157,
          158,
          159,
          160,
          161,
          162,
          163,
          164,
          165,
          166,
          167,
          168,
          169,
          170,
          171,
          172,
          173,
          174,
          175,
          176,
          177,
          178,
          179,
          180,
          181,
          182,
          183,
          184,
          185,
          186,
          187,
          188,
          189,
          190,
          191,
          192,
          193,
          194,
          195,
          196,
          197,
          198,
          199,
          200,
          201,
          202,
          203,
          204,
          205,
          206,
          207,
          208,
          209,
          210,
          211,
          212,
          213,
          214,
          215,
          216,
          217,
          218,
          219,
          220,
          221,
          222,
          223,
          224,
          225,
          226,
          227,
          228,
          229,
          230,
          231,
          232,
          233,
          234,
          235,
          236,
          237,
          238,
          239,
          240,
          241,
          242,
          243,
          244,
          245,
          246,
          247,
          248,
          249,
          250,
          251,
          252,
          253,
          254,
          255,
          256,
          257,
          258,
          259,
          260,
          261,
          262,
          263,
          264,
          265,
          266,
          267,
          268,
          269
         ],
         "xaxis": "x2",
         "y": [
          0.6866247125275846,
          0.6364681188248305,
          0.5965886968516367,
          0.6660258705915133,
          0.6275061144028632,
          0.6251617498111561,
          0.7224532880184631,
          0.7289160363994348,
          0.6921773962251418,
          0.7247545300658802,
          0.7513856087780815,
          0.7457382219315379,
          0.7551685099493607,
          0.7291443806578158,
          0.7141548194405872,
          0.6911229225038843,
          0.7379516621622741,
          0.777837703980055,
          0.7244504679650009,
          0.7405112034190808,
          0.7358836789335765,
          0.7618219511988441,
          0.6789817528741565,
          0.6062001211285537,
          0.6812043266013955,
          0.7171132005802143,
          0.6912206493419717,
          0.704799341642163,
          0.673393157300267,
          0.7271980744258015,
          0.6267825752981799,
          0.65064092344774,
          0.6645867985746339,
          0.6576987664651354,
          0.6451723623049832,
          0.6590833200623419,
          0.6557180749586652,
          0.6560449254838345,
          0.7086741013446526,
          0.6583204160621425,
          0.655458336737195,
          0.6754402827422513,
          0.6627891780499229,
          0.6122181344142449,
          0.6190393862793186,
          0.6327593476579223,
          0.6876139439226782,
          0.6541649558877185,
          0.6827332407704083,
          0.6695668123835893,
          0.6850739771093443,
          0.6789816929663839,
          0.6464750422700254,
          0.6720816961016086,
          0.684156303444881,
          0.6930852293129227,
          0.6729842890286399,
          0.6416090211669931,
          0.6054191915997689,
          0.7108972355420703,
          0.6634112094769272,
          0.6965684039931663,
          0.6705679216656908,
          0.6647212704943212,
          0.6743705450429236,
          0.6796222826430791,
          0.6648926425657091,
          0.6843896794096097,
          0.663393745371838,
          0.6719560998632164,
          0.6704958017029286,
          0.6713995372611415,
          0.6865789272728248,
          0.6613975280534948,
          0.6487240007030157,
          0.6572931584836466,
          0.6649620068994143,
          0.6438688820893349,
          0.6431741769524745,
          0.669850019657571,
          0.6510573948035685,
          0.6587605572070525,
          0.6486461016541625,
          0.675347235111066,
          0.6665524995451028,
          0.6676514809150907,
          0.6627022880306225,
          0.673111201247168,
          0.6725887016058728,
          0.6813413519664382,
          0.664105160941047,
          0.6704285631714935,
          0.6688202571784456,
          0.6633635281486342,
          0.6596094305535337,
          0.671138842517764,
          0.6622915956065181,
          0.6735121042943643,
          0.6610407345486717,
          0.6648508765352975,
          0.6634148928140992,
          0.6712742574261868,
          0.6570256845566627,
          0.655982173199172,
          0.6644327312955974,
          0.6648430371466058,
          0.6649466158716633,
          0.6619684165487295,
          0.6701474383426015,
          0.6680603990093963,
          0.663447440652594,
          0.661192268845853,
          0.6625732936964915,
          0.6638259137461971,
          0.6651175061786415,
          0.6650030296750225,
          0.6643850470998328,
          0.6671390370924041,
          0.6669547812689007,
          0.6665640967095965,
          0.6670199908935588,
          0.6641144723053162,
          0.6616517648553679,
          0.6619798163188976,
          0.6652469537054858,
          0.665559230383553,
          0.6636038597672236,
          0.6657726366056322,
          0.6656908689848722,
          0.6649733441888416,
          0.666677149058746,
          0.6642536625484553,
          0.6658443295180828,
          0.6647784419019307,
          0.6638785235127931,
          0.664951668500953,
          0.6671028090189277,
          0.666462202880858,
          0.6647186789448336,
          0.6650992718608973,
          0.6653319061675408,
          0.6647323965249505,
          0.6651551078313285,
          0.6651359109079447,
          0.6649806996007741,
          0.6655800530882241,
          0.6650007852076433,
          0.6648729582161904,
          0.6640339073691309,
          0.664672015602371,
          0.6649434347783275,
          0.6655710089879313,
          0.6653605701103825,
          0.6659282565219087,
          0.66504257049908,
          0.6657906447125375,
          0.665833633713905,
          0.6652979035939126,
          0.6655029692593243,
          0.665499891041223,
          0.6653441858383358,
          0.6648585438657062,
          0.6650941474079926,
          0.6654039515308926,
          0.6654785379461289,
          0.6654551644037424,
          0.6651415185563612,
          0.6655312723276966,
          0.6654249030854259,
          0.6655020713129259,
          0.6653743390492347,
          0.6656016009088621,
          0.6657180017816687,
          0.665405097520238,
          0.6653710793901598,
          0.6654091789027219,
          0.6653870490445738,
          0.6654036972679006,
          0.66528133178443,
          0.6655620122986592,
          0.6654323213327458,
          0.6653827612241039,
          0.6655412482977183,
          0.6654376175394979,
          0.6653550965428916,
          0.6654583400678383,
          0.6654056986341513,
          0.6652311851087725,
          0.6654622272063525,
          0.6654564489996346,
          0.6653835515309753,
          0.6654821989523526,
          0.6652229912957907,
          0.6652764289062365,
          0.6654017645039588,
          0.6653045979399675,
          0.665242483389746,
          0.6653987728744556,
          0.665165960429941,
          0.6651956556742828,
          0.66519189292382,
          0.6652412952558492,
          0.6652914481091496,
          0.6652919685255246,
          0.6653646478766847,
          0.6652504140171038,
          0.665295111186783,
          0.6653282212163226,
          0.6652176823014453,
          0.6653463973182714,
          0.6652751221814872,
          0.665291188620783,
          0.6654153860961469,
          0.6652640830162271,
          0.6652783081891461,
          0.6653750149169088,
          0.6653186330948742,
          0.6652642754668254,
          0.6652795334642339,
          0.6653256117377516,
          0.665277889323846,
          0.6653283422013764,
          0.6653483767376702,
          0.6653080069734126,
          0.6653507557805092,
          0.6653190165995263,
          0.6652955586006951,
          0.6653872185139995,
          0.6652951711597194,
          0.6653177348777891,
          0.6652715218218141,
          0.6652898470208235,
          0.6653248057191449,
          0.6652830190388519,
          0.6653002347245491,
          0.6653123105541945,
          0.6652892680387847,
          0.6652438219377682,
          0.6653507444170728,
          0.6653069663336174,
          0.6653054732960361,
          0.6653110395250771,
          0.6653082035178534,
          0.66531554077811,
          0.6653140342751883,
          0.6652885269663483,
          0.6653011382384398,
          0.6653224538116091,
          0.6652855278194739,
          0.6653043695107316,
          0.6653078611733345,
          0.665317028873498,
          0.6653013957364677,
          0.6653034696571328,
          0.6653040571988419,
          0.6653187178674982,
          0.6652995202187427,
          0.6653087345226069,
          0.6653076618229143,
          0.6652966224697726,
          0.665306351273456,
          0.6652898404082866,
          0.6653087998780384,
          0.6653117191814542,
          0.6653049245675259,
          0.6653030637117724,
          0.6653081968224175,
          0.665312646971721,
          0.6653104757573955,
          0.6653054543409095
         ],
         "yaxis": "y2"
        }
       ],
       "layout": {
        "height": 576,
        "legend": {
         "orientation": "h",
         "x": 1,
         "xanchor": "right",
         "y": 1.02,
         "yanchor": "bottom"
        },
        "template": {
         "data": {
          "bar": [
           {
            "error_x": {
             "color": "#2a3f5f"
            },
            "error_y": {
             "color": "#2a3f5f"
            },
            "marker": {
             "line": {
              "color": "#E5ECF6",
              "width": 0.5
             },
             "pattern": {
              "fillmode": "overlay",
              "size": 10,
              "solidity": 0.2
             }
            },
            "type": "bar"
           }
          ],
          "barpolar": [
           {
            "marker": {
             "line": {
              "color": "#E5ECF6",
              "width": 0.5
             },
             "pattern": {
              "fillmode": "overlay",
              "size": 10,
              "solidity": 0.2
             }
            },
            "type": "barpolar"
           }
          ],
          "carpet": [
           {
            "aaxis": {
             "endlinecolor": "#2a3f5f",
             "gridcolor": "white",
             "linecolor": "white",
             "minorgridcolor": "white",
             "startlinecolor": "#2a3f5f"
            },
            "baxis": {
             "endlinecolor": "#2a3f5f",
             "gridcolor": "white",
             "linecolor": "white",
             "minorgridcolor": "white",
             "startlinecolor": "#2a3f5f"
            },
            "type": "carpet"
           }
          ],
          "choropleth": [
           {
            "colorbar": {
             "outlinewidth": 0,
             "ticks": ""
            },
            "type": "choropleth"
           }
          ],
          "contour": [
           {
            "colorbar": {
             "outlinewidth": 0,
             "ticks": ""
            },
            "colorscale": [
             [
              0,
              "#0d0887"
             ],
             [
              0.1111111111111111,
              "#46039f"
             ],
             [
              0.2222222222222222,
              "#7201a8"
             ],
             [
              0.3333333333333333,
              "#9c179e"
             ],
             [
              0.4444444444444444,
              "#bd3786"
             ],
             [
              0.5555555555555556,
              "#d8576b"
             ],
             [
              0.6666666666666666,
              "#ed7953"
             ],
             [
              0.7777777777777778,
              "#fb9f3a"
             ],
             [
              0.8888888888888888,
              "#fdca26"
             ],
             [
              1,
              "#f0f921"
             ]
            ],
            "type": "contour"
           }
          ],
          "contourcarpet": [
           {
            "colorbar": {
             "outlinewidth": 0,
             "ticks": ""
            },
            "type": "contourcarpet"
           }
          ],
          "heatmap": [
           {
            "colorbar": {
             "outlinewidth": 0,
             "ticks": ""
            },
            "colorscale": [
             [
              0,
              "#0d0887"
             ],
             [
              0.1111111111111111,
              "#46039f"
             ],
             [
              0.2222222222222222,
              "#7201a8"
             ],
             [
              0.3333333333333333,
              "#9c179e"
             ],
             [
              0.4444444444444444,
              "#bd3786"
             ],
             [
              0.5555555555555556,
              "#d8576b"
             ],
             [
              0.6666666666666666,
              "#ed7953"
             ],
             [
              0.7777777777777778,
              "#fb9f3a"
             ],
             [
              0.8888888888888888,
              "#fdca26"
             ],
             [
              1,
              "#f0f921"
             ]
            ],
            "type": "heatmap"
           }
          ],
          "heatmapgl": [
           {
            "colorbar": {
             "outlinewidth": 0,
             "ticks": ""
            },
            "colorscale": [
             [
              0,
              "#0d0887"
             ],
             [
              0.1111111111111111,
              "#46039f"
             ],
             [
              0.2222222222222222,
              "#7201a8"
             ],
             [
              0.3333333333333333,
              "#9c179e"
             ],
             [
              0.4444444444444444,
              "#bd3786"
             ],
             [
              0.5555555555555556,
              "#d8576b"
             ],
             [
              0.6666666666666666,
              "#ed7953"
             ],
             [
              0.7777777777777778,
              "#fb9f3a"
             ],
             [
              0.8888888888888888,
              "#fdca26"
             ],
             [
              1,
              "#f0f921"
             ]
            ],
            "type": "heatmapgl"
           }
          ],
          "histogram": [
           {
            "marker": {
             "pattern": {
              "fillmode": "overlay",
              "size": 10,
              "solidity": 0.2
             }
            },
            "type": "histogram"
           }
          ],
          "histogram2d": [
           {
            "colorbar": {
             "outlinewidth": 0,
             "ticks": ""
            },
            "colorscale": [
             [
              0,
              "#0d0887"
             ],
             [
              0.1111111111111111,
              "#46039f"
             ],
             [
              0.2222222222222222,
              "#7201a8"
             ],
             [
              0.3333333333333333,
              "#9c179e"
             ],
             [
              0.4444444444444444,
              "#bd3786"
             ],
             [
              0.5555555555555556,
              "#d8576b"
             ],
             [
              0.6666666666666666,
              "#ed7953"
             ],
             [
              0.7777777777777778,
              "#fb9f3a"
             ],
             [
              0.8888888888888888,
              "#fdca26"
             ],
             [
              1,
              "#f0f921"
             ]
            ],
            "type": "histogram2d"
           }
          ],
          "histogram2dcontour": [
           {
            "colorbar": {
             "outlinewidth": 0,
             "ticks": ""
            },
            "colorscale": [
             [
              0,
              "#0d0887"
             ],
             [
              0.1111111111111111,
              "#46039f"
             ],
             [
              0.2222222222222222,
              "#7201a8"
             ],
             [
              0.3333333333333333,
              "#9c179e"
             ],
             [
              0.4444444444444444,
              "#bd3786"
             ],
             [
              0.5555555555555556,
              "#d8576b"
             ],
             [
              0.6666666666666666,
              "#ed7953"
             ],
             [
              0.7777777777777778,
              "#fb9f3a"
             ],
             [
              0.8888888888888888,
              "#fdca26"
             ],
             [
              1,
              "#f0f921"
             ]
            ],
            "type": "histogram2dcontour"
           }
          ],
          "mesh3d": [
           {
            "colorbar": {
             "outlinewidth": 0,
             "ticks": ""
            },
            "type": "mesh3d"
           }
          ],
          "parcoords": [
           {
            "line": {
             "colorbar": {
              "outlinewidth": 0,
              "ticks": ""
             }
            },
            "type": "parcoords"
           }
          ],
          "pie": [
           {
            "automargin": true,
            "type": "pie"
           }
          ],
          "scatter": [
           {
            "fillpattern": {
             "fillmode": "overlay",
             "size": 10,
             "solidity": 0.2
            },
            "type": "scatter"
           }
          ],
          "scatter3d": [
           {
            "line": {
             "colorbar": {
              "outlinewidth": 0,
              "ticks": ""
             }
            },
            "marker": {
             "colorbar": {
              "outlinewidth": 0,
              "ticks": ""
             }
            },
            "type": "scatter3d"
           }
          ],
          "scattercarpet": [
           {
            "marker": {
             "colorbar": {
              "outlinewidth": 0,
              "ticks": ""
             }
            },
            "type": "scattercarpet"
           }
          ],
          "scattergeo": [
           {
            "marker": {
             "colorbar": {
              "outlinewidth": 0,
              "ticks": ""
             }
            },
            "type": "scattergeo"
           }
          ],
          "scattergl": [
           {
            "marker": {
             "colorbar": {
              "outlinewidth": 0,
              "ticks": ""
             }
            },
            "type": "scattergl"
           }
          ],
          "scattermapbox": [
           {
            "marker": {
             "colorbar": {
              "outlinewidth": 0,
              "ticks": ""
             }
            },
            "type": "scattermapbox"
           }
          ],
          "scatterpolar": [
           {
            "marker": {
             "colorbar": {
              "outlinewidth": 0,
              "ticks": ""
             }
            },
            "type": "scatterpolar"
           }
          ],
          "scatterpolargl": [
           {
            "marker": {
             "colorbar": {
              "outlinewidth": 0,
              "ticks": ""
             }
            },
            "type": "scatterpolargl"
           }
          ],
          "scatterternary": [
           {
            "marker": {
             "colorbar": {
              "outlinewidth": 0,
              "ticks": ""
             }
            },
            "type": "scatterternary"
           }
          ],
          "surface": [
           {
            "colorbar": {
             "outlinewidth": 0,
             "ticks": ""
            },
            "colorscale": [
             [
              0,
              "#0d0887"
             ],
             [
              0.1111111111111111,
              "#46039f"
             ],
             [
              0.2222222222222222,
              "#7201a8"
             ],
             [
              0.3333333333333333,
              "#9c179e"
             ],
             [
              0.4444444444444444,
              "#bd3786"
             ],
             [
              0.5555555555555556,
              "#d8576b"
             ],
             [
              0.6666666666666666,
              "#ed7953"
             ],
             [
              0.7777777777777778,
              "#fb9f3a"
             ],
             [
              0.8888888888888888,
              "#fdca26"
             ],
             [
              1,
              "#f0f921"
             ]
            ],
            "type": "surface"
           }
          ],
          "table": [
           {
            "cells": {
             "fill": {
              "color": "#EBF0F8"
             },
             "line": {
              "color": "white"
             }
            },
            "header": {
             "fill": {
              "color": "#C8D4E3"
             },
             "line": {
              "color": "white"
             }
            },
            "type": "table"
           }
          ]
         },
         "layout": {
          "annotationdefaults": {
           "arrowcolor": "#2a3f5f",
           "arrowhead": 0,
           "arrowwidth": 1
          },
          "autotypenumbers": "strict",
          "coloraxis": {
           "colorbar": {
            "outlinewidth": 0,
            "ticks": ""
           }
          },
          "colorscale": {
           "diverging": [
            [
             0,
             "#8e0152"
            ],
            [
             0.1,
             "#c51b7d"
            ],
            [
             0.2,
             "#de77ae"
            ],
            [
             0.3,
             "#f1b6da"
            ],
            [
             0.4,
             "#fde0ef"
            ],
            [
             0.5,
             "#f7f7f7"
            ],
            [
             0.6,
             "#e6f5d0"
            ],
            [
             0.7,
             "#b8e186"
            ],
            [
             0.8,
             "#7fbc41"
            ],
            [
             0.9,
             "#4d9221"
            ],
            [
             1,
             "#276419"
            ]
           ],
           "sequential": [
            [
             0,
             "#0d0887"
            ],
            [
             0.1111111111111111,
             "#46039f"
            ],
            [
             0.2222222222222222,
             "#7201a8"
            ],
            [
             0.3333333333333333,
             "#9c179e"
            ],
            [
             0.4444444444444444,
             "#bd3786"
            ],
            [
             0.5555555555555556,
             "#d8576b"
            ],
            [
             0.6666666666666666,
             "#ed7953"
            ],
            [
             0.7777777777777778,
             "#fb9f3a"
            ],
            [
             0.8888888888888888,
             "#fdca26"
            ],
            [
             1,
             "#f0f921"
            ]
           ],
           "sequentialminus": [
            [
             0,
             "#0d0887"
            ],
            [
             0.1111111111111111,
             "#46039f"
            ],
            [
             0.2222222222222222,
             "#7201a8"
            ],
            [
             0.3333333333333333,
             "#9c179e"
            ],
            [
             0.4444444444444444,
             "#bd3786"
            ],
            [
             0.5555555555555556,
             "#d8576b"
            ],
            [
             0.6666666666666666,
             "#ed7953"
            ],
            [
             0.7777777777777778,
             "#fb9f3a"
            ],
            [
             0.8888888888888888,
             "#fdca26"
            ],
            [
             1,
             "#f0f921"
            ]
           ]
          },
          "colorway": [
           "#636efa",
           "#EF553B",
           "#00cc96",
           "#ab63fa",
           "#FFA15A",
           "#19d3f3",
           "#FF6692",
           "#B6E880",
           "#FF97FF",
           "#FECB52"
          ],
          "font": {
           "color": "#2a3f5f"
          },
          "geo": {
           "bgcolor": "white",
           "lakecolor": "white",
           "landcolor": "#E5ECF6",
           "showlakes": true,
           "showland": true,
           "subunitcolor": "white"
          },
          "hoverlabel": {
           "align": "left"
          },
          "hovermode": "closest",
          "mapbox": {
           "style": "light"
          },
          "paper_bgcolor": "white",
          "plot_bgcolor": "#E5ECF6",
          "polar": {
           "angularaxis": {
            "gridcolor": "white",
            "linecolor": "white",
            "ticks": ""
           },
           "bgcolor": "#E5ECF6",
           "radialaxis": {
            "gridcolor": "white",
            "linecolor": "white",
            "ticks": ""
           }
          },
          "scene": {
           "xaxis": {
            "backgroundcolor": "#E5ECF6",
            "gridcolor": "white",
            "gridwidth": 2,
            "linecolor": "white",
            "showbackground": true,
            "ticks": "",
            "zerolinecolor": "white"
           },
           "yaxis": {
            "backgroundcolor": "#E5ECF6",
            "gridcolor": "white",
            "gridwidth": 2,
            "linecolor": "white",
            "showbackground": true,
            "ticks": "",
            "zerolinecolor": "white"
           },
           "zaxis": {
            "backgroundcolor": "#E5ECF6",
            "gridcolor": "white",
            "gridwidth": 2,
            "linecolor": "white",
            "showbackground": true,
            "ticks": "",
            "zerolinecolor": "white"
           }
          },
          "shapedefaults": {
           "line": {
            "color": "#2a3f5f"
           }
          },
          "ternary": {
           "aaxis": {
            "gridcolor": "white",
            "linecolor": "white",
            "ticks": ""
           },
           "baxis": {
            "gridcolor": "white",
            "linecolor": "white",
            "ticks": ""
           },
           "bgcolor": "#E5ECF6",
           "caxis": {
            "gridcolor": "white",
            "linecolor": "white",
            "ticks": ""
           }
          },
          "title": {
           "x": 0.05
          },
          "xaxis": {
           "automargin": true,
           "gridcolor": "white",
           "linecolor": "white",
           "ticks": "",
           "title": {
            "standoff": 15
           },
           "zerolinecolor": "white",
           "zerolinewidth": 2
          },
          "yaxis": {
           "automargin": true,
           "gridcolor": "white",
           "linecolor": "white",
           "ticks": "",
           "title": {
            "standoff": 15
           },
           "zerolinecolor": "white",
           "zerolinewidth": 2
          }
         }
        },
        "title": {
         "text": "Parameter Convergence"
        },
        "width": 1024,
        "xaxis": {
         "anchor": "y",
         "autorange": true,
         "domain": [
          0,
          0.45
         ],
         "range": [
          0,
          269
         ],
         "title": {
          "text": "Function Call"
         },
         "type": "linear"
        },
        "xaxis2": {
         "anchor": "y2",
         "autorange": true,
         "domain": [
          0.55,
          1
         ],
         "range": [
          0,
          269
         ],
         "title": {
          "text": "Function Call"
         },
         "type": "linear"
        },
        "yaxis": {
         "anchor": "x",
         "autorange": true,
         "domain": [
          0,
          1
         ],
         "range": [
          0.5835072289345861,
          0.913527599672608
         ],
         "title": {
          "text": "Negative electrode active material volume fraction"
         },
         "type": "linear"
        },
        "yaxis2": {
         "anchor": "x2",
         "autorange": true,
         "domain": [
          0,
          1
         ],
         "range": [
          0.5865193075667247,
          0.7879070932649671
         ],
         "title": {
          "text": "Positive electrode active material volume fraction"
         },
         "type": "linear"
        }
       }
      },
      "image/png": "[encoded data removed]",
      "text/html": [
       "<div>                            <div id=\"c6d64d08-8ba2-4998-9fb0-02f6403dce96\" class=\"plotly-graph-div\" style=\"height:576px; width:1024px;\"></div>            <script type=\"text/javascript\">                require([\"plotly\"], function(Plotly) {                    window.PLOTLYENV=window.PLOTLYENV || {};                                    if (document.getElementById(\"c6d64d08-8ba2-4998-9fb0-02f6403dce96\")) {                    Plotly.newPlot(                        \"c6d64d08-8ba2-4998-9fb0-02f6403dce96\",                        [{\"name\":\"Negative electrode active material volume fraction\",\"x\":[0,1,2,3,4,5,6,7,8,9,10,11,12,13,14,15,16,17,18,19,20,21,22,23,24,25,26,27,28,29,30,31,32,33,34,35,36,37,38,39,40,41,42,43,44,45,46,47,48,49,50,51,52,53,54,55,56,57,58,59,60,61,62,63,64,65,66,67,68,69,70,71,72,73,74,75,76,77,78,79,80,81,82,83,84,85,86,87,88,89,90,91,92,93,94,95,96,97,98,99,100,101,102,103,104,105,106,107,108,109,110,111,112,113,114,115,116,117,118,119,120,121,122,123,124,125,126,127,128,129,130,131,132,133,134,135,136,137,138,139,140,141,142,143,144,145,146,147,148,149,150,151,152,153,154,155,156,157,158,159,160,161,162,163,164,165,166,167,168,169,170,171,172,173,174,175,176,177,178,179,180,181,182,183,184,185,186,187,188,189,190,191,192,193,194,195,196,197,198,199,200,201,202,203,204,205,206,207,208,209,210,211,212,213,214,215,216,217,218,219,220,221,222,223,224,225,226,227,228,229,230,231,232,233,234,235,236,237,238,239,240,241,242,243,244,245,246,247,248,249,250,251,252,253,254,255,256,257,258,259,260,261,262,263,264,265,266,267,268,269],\"y\":[0.6398015275435182,0.7834095929218652,0.6889740628400505,0.6234041886887529,0.7472987116338267,0.7542734972117308,0.6419412905618748,0.6783026187078912,0.657028445816533,0.6967436629809198,0.6298077120656006,0.6285843263077633,0.6000082474714872,0.6955322817007007,0.6273696391708145,0.6307723252620865,0.62684229429316,0.720746888362131,0.6081882553336139,0.6115269780187048,0.6284493312020082,0.6000173662755234,0.6633457814593835,0.6632885397594831,0.6604271664950124,0.6297456058567239,0.6324599880964914,0.6541468730138755,0.6850966649271291,0.6545813391925616,0.7140024010556135,0.7002798068515736,0.72475831743897,0.6562000954444471,0.6617569374762292,0.6588597524568218,0.6599370948477885,0.7327244109948049,0.6543755422656028,0.7368598036834967,0.7118995283656964,0.7035529116587953,0.6856404670642229,0.7874619507069341,0.8347447119266668,0.7952661687473195,0.6948326989106055,0.8025459058164388,0.8023909087739224,0.8413035783556975,0.8429791769481227,0.8215793054323863,0.7941168566652124,0.817385311535264,0.7534210439836811,0.7320027540875633,0.7622205415933236,0.886417585811722,0.897026581135707,0.6955344176974225,0.8123340502097736,0.7661303864763724,0.8412559369392237,0.8364931415088712,0.777957172464202,0.8541148070899864,0.7897906812886395,0.6963974015685278,0.7771182959883609,0.8019974308187632,0.702078244365795,0.8014441837617875,0.7079450888854993,0.7962642768613842,0.7920638353800669,0.7151501223496658,0.7358391924764545,0.8278533733855753,0.7124869250307805,0.7348553088810768,0.8334840060589617,0.7764289301575326,0.7950577181630605,0.7112830158837191,0.7073896226812689,0.7076645262323324,0.7718085894819768,0.705975703768142,0.7354747372075696,0.6985759536543132,0.7460830864135181,0.7247593868054502,0.7735310256261346,0.7831005245852658,0.7812987523660673,0.7223483312511143,0.7335383532528784,0.7163899486916715,0.7666854163887278,0.7385206791820437,0.7488601755959889,0.688862834317936,0.7864848324486302,0.7461617845028201,0.765284356969859,0.7387961110973175,0.7335658164518817,0.7537842940548691,0.7237328418295452,0.7277991422014717,0.7387787764987062,0.760473896200636,0.7503729941476718,0.7521471891571413,0.7355964234728628,0.7383871844071798,0.7531484988934661,0.740356135309568,0.7468489281830667,0.7345480428291439,0.7487886779669092,0.7542891622629306,0.7610346667506344,0.7612010243545771,0.7544357417241132,0.7504001610339999,0.7605611505635547,0.7462336979565392,0.7535933763121919,0.7530969385922034,0.7379769125400184,0.7563100179542935,0.7445989047200426,0.7543521697854405,0.762457507449366,0.7512750946862986,0.741423365873329,0.7504272616178943,0.7522380364202639,0.75091364504222,0.7486358306117241,0.7548234842165206,0.7491469720681629,0.7511279374636878,0.749617610198614,0.7476003179328695,0.750369931117366,0.7505338022181203,0.7557962768784904,0.7505013731989336,0.7510182106587123,0.7471308643958997,0.7488343565008274,0.7456332985972772,0.7488412049790049,0.7457285567260475,0.74644808903075,0.7491314652326265,0.747010573156756,0.7474520922932261,0.7479037960827083,0.7500150908726078,0.7488982363745749,0.747762947592885,0.7467598497113074,0.7472612506053942,0.7478758656395419,0.7470499147889761,0.7471624119426061,0.7470474410663344,0.7478240506600677,0.7465744939982786,0.7459454081731658,0.7468805778707786,0.7480630920647846,0.7477703696516877,0.7475196775453345,0.7475242762120593,0.7482347575908042,0.7472334260505487,0.7479783710356227,0.7476575108918704,0.7472096081229995,0.7476071873145033,0.7482627819086766,0.7468358374676501,0.7476295273469726,0.7490225577596015,0.7477172724799762,0.747616043551513,0.7481017866390718,0.7471080442096341,0.7493568325560195,0.7485598082286591,0.7483784427338819,0.7484127359500952,0.7486014010276004,0.7479954563835443,0.7488198011011512,0.7491198277272945,0.748693537617128,0.7487474786682461,0.7485752495166857,0.7481632082523264,0.7477266089741006,0.7483368402303322,0.7484268685148276,0.7481922079026848,0.7493528562192566,0.7483799110710669,0.7487127986092711,0.7483236735870027,0.7477307374624874,0.7486634891082754,0.7482956807831075,0.7478639505717516,0.7482378234432122,0.7487357950590608,0.7486533009128502,0.7481760029573876,0.7486264880466273,0.7483535704545061,0.7482922086763294,0.7484060675803813,0.7481509890902289,0.7484112159780258,0.7483750819870393,0.7480772713357768,0.7483113624023876,0.7482820913661309,0.7485009616053125,0.7485332052828106,0.7484031692818295,0.7484242230474862,0.7483692816489709,0.7483280482902646,0.7484428906915788,0.7487108739170031,0.7481733095129082,0.7483352377665545,0.7484229556050997,0.7484036943462062,0.7483616558227326,0.7482549728604215,0.7483062330471475,0.7484845018869662,0.7484487561250316,0.7483313571673764,0.7485076603749453,0.7483740195947701,0.748401446465961,0.7483269710153728,0.7484050342172691,0.7484242559277622,0.7483524836989649,0.7483750599216641,0.7484270226816604,0.7483871326274112,0.7483925316918323,0.7484135477756078,0.7483685303108918,0.748501183840965,0.7483650572896052,0.7483830039428074,0.7483992351657923,0.7484111602741179,0.7483917677990026,0.7483812339565569,0.7483626840080347,0.7483911546398662],\"type\":\"scatter\",\"xaxis\":\"x\",\"yaxis\":\"y\"},{\"name\":\"Positive electrode active material volume fraction\",\"x\":[0,1,2,3,4,5,6,7,8,9,10,11,12,13,14,15,16,17,18,19,20,21,22,23,24,25,26,27,28,29,30,31,32,33,34,35,36,37,38,39,40,41,42,43,44,45,46,47,48,49,50,51,52,53,54,55,56,57,58,59,60,61,62,63,64,65,66,67,68,69,70,71,72,73,74,75,76,77,78,79,80,81,82,83,84,85,86,87,88,89,90,91,92,93,94,95,96,97,98,99,100,101,102,103,104,105,106,107,108,109,110,111,112,113,114,115,116,117,118,119,120,121,122,123,124,125,126,127,128,129,130,131,132,133,134,135,136,137,138,139,140,141,142,143,144,145,146,147,148,149,150,151,152,153,154,155,156,157,158,159,160,161,162,163,164,165,166,167,168,169,170,171,172,173,174,175,176,177,178,179,180,181,182,183,184,185,186,187,188,189,190,191,192,193,194,195,196,197,198,199,200,201,202,203,204,205,206,207,208,209,210,211,212,213,214,215,216,217,218,219,220,221,222,223,224,225,226,227,228,229,230,231,232,233,234,235,236,237,238,239,240,241,242,243,244,245,246,247,248,249,250,251,252,253,254,255,256,257,258,259,260,261,262,263,264,265,266,267,268,269],\"y\":[0.6866247125275846,0.6364681188248305,0.5965886968516367,0.6660258705915133,0.6275061144028632,0.6251617498111561,0.7224532880184631,0.7289160363994348,0.6921773962251418,0.7247545300658802,0.7513856087780815,0.7457382219315379,0.7551685099493607,0.7291443806578158,0.7141548194405872,0.6911229225038843,0.7379516621622741,0.777837703980055,0.7244504679650009,0.7405112034190808,0.7358836789335765,0.7618219511988441,0.6789817528741565,0.6062001211285537,0.6812043266013955,0.7171132005802143,0.6912206493419717,0.704799341642163,0.673393157300267,0.7271980744258015,0.6267825752981799,0.65064092344774,0.6645867985746339,0.6576987664651354,0.6451723623049832,0.6590833200623419,0.6557180749586652,0.6560449254838345,0.7086741013446526,0.6583204160621425,0.655458336737195,0.6754402827422513,0.6627891780499229,0.6122181344142449,0.6190393862793186,0.6327593476579223,0.6876139439226782,0.6541649558877185,0.6827332407704083,0.6695668123835893,0.6850739771093443,0.6789816929663839,0.6464750422700254,0.6720816961016086,0.684156303444881,0.6930852293129227,0.6729842890286399,0.6416090211669931,0.6054191915997689,0.7108972355420703,0.6634112094769272,0.6965684039931663,0.6705679216656908,0.6647212704943212,0.6743705450429236,0.6796222826430791,0.6648926425657091,0.6843896794096097,0.663393745371838,0.6719560998632164,0.6704958017029286,0.6713995372611415,0.6865789272728248,0.6613975280534948,0.6487240007030157,0.6572931584836466,0.6649620068994143,0.6438688820893349,0.6431741769524745,0.669850019657571,0.6510573948035685,0.6587605572070525,0.6486461016541625,0.675347235111066,0.6665524995451028,0.6676514809150907,0.6627022880306225,0.673111201247168,0.6725887016058728,0.6813413519664382,0.664105160941047,0.6704285631714935,0.6688202571784456,0.6633635281486342,0.6596094305535337,0.671138842517764,0.6622915956065181,0.6735121042943643,0.6610407345486717,0.6648508765352975,0.6634148928140992,0.6712742574261868,0.6570256845566627,0.655982173199172,0.6644327312955974,0.6648430371466058,0.6649466158716633,0.6619684165487295,0.6701474383426015,0.6680603990093963,0.663447440652594,0.661192268845853,0.6625732936964915,0.6638259137461971,0.6651175061786415,0.6650030296750225,0.6643850470998328,0.6671390370924041,0.6669547812689007,0.6665640967095965,0.6670199908935588,0.6641144723053162,0.6616517648553679,0.6619798163188976,0.6652469537054858,0.665559230383553,0.6636038597672236,0.6657726366056322,0.6656908689848722,0.6649733441888416,0.666677149058746,0.6642536625484553,0.6658443295180828,0.6647784419019307,0.6638785235127931,0.664951668500953,0.6671028090189277,0.666462202880858,0.6647186789448336,0.6650992718608973,0.6653319061675408,0.6647323965249505,0.6651551078313285,0.6651359109079447,0.6649806996007741,0.6655800530882241,0.6650007852076433,0.6648729582161904,0.6640339073691309,0.664672015602371,0.6649434347783275,0.6655710089879313,0.6653605701103825,0.6659282565219087,0.66504257049908,0.6657906447125375,0.665833633713905,0.6652979035939126,0.6655029692593243,0.665499891041223,0.6653441858383358,0.6648585438657062,0.6650941474079926,0.6654039515308926,0.6654785379461289,0.6654551644037424,0.6651415185563612,0.6655312723276966,0.6654249030854259,0.6655020713129259,0.6653743390492347,0.6656016009088621,0.6657180017816687,0.665405097520238,0.6653710793901598,0.6654091789027219,0.6653870490445738,0.6654036972679006,0.66528133178443,0.6655620122986592,0.6654323213327458,0.6653827612241039,0.6655412482977183,0.6654376175394979,0.6653550965428916,0.6654583400678383,0.6654056986341513,0.6652311851087725,0.6654622272063525,0.6654564489996346,0.6653835515309753,0.6654821989523526,0.6652229912957907,0.6652764289062365,0.6654017645039588,0.6653045979399675,0.665242483389746,0.6653987728744556,0.665165960429941,0.6651956556742828,0.66519189292382,0.6652412952558492,0.6652914481091496,0.6652919685255246,0.6653646478766847,0.6652504140171038,0.665295111186783,0.6653282212163226,0.6652176823014453,0.6653463973182714,0.6652751221814872,0.665291188620783,0.6654153860961469,0.6652640830162271,0.6652783081891461,0.6653750149169088,0.6653186330948742,0.6652642754668254,0.6652795334642339,0.6653256117377516,0.665277889323846,0.6653283422013764,0.6653483767376702,0.6653080069734126,0.6653507557805092,0.6653190165995263,0.6652955586006951,0.6653872185139995,0.6652951711597194,0.6653177348777891,0.6652715218218141,0.6652898470208235,0.6653248057191449,0.6652830190388519,0.6653002347245491,0.6653123105541945,0.6652892680387847,0.6652438219377682,0.6653507444170728,0.6653069663336174,0.6653054732960361,0.6653110395250771,0.6653082035178534,0.66531554077811,0.6653140342751883,0.6652885269663483,0.6653011382384398,0.6653224538116091,0.6652855278194739,0.6653043695107316,0.6653078611733345,0.665317028873498,0.6653013957364677,0.6653034696571328,0.6653040571988419,0.6653187178674982,0.6652995202187427,0.6653087345226069,0.6653076618229143,0.6652966224697726,0.665306351273456,0.6652898404082866,0.6653087998780384,0.6653117191814542,0.6653049245675259,0.6653030637117724,0.6653081968224175,0.665312646971721,0.6653104757573955,0.6653054543409095],\"type\":\"scatter\",\"xaxis\":\"x2\",\"yaxis\":\"y2\"}],                        {\"template\":{\"data\":{\"histogram2dcontour\":[{\"type\":\"histogram2dcontour\",\"colorbar\":{\"outlinewidth\":0,\"ticks\":\"\"},\"colorscale\":[[0.0,\"#0d0887\"],[0.1111111111111111,\"#46039f\"],[0.2222222222222222,\"#7201a8\"],[0.3333333333333333,\"#9c179e\"],[0.4444444444444444,\"#bd3786\"],[0.5555555555555556,\"#d8576b\"],[0.6666666666666666,\"#ed7953\"],[0.7777777777777778,\"#fb9f3a\"],[0.8888888888888888,\"#fdca26\"],[1.0,\"#f0f921\"]]}],\"choropleth\":[{\"type\":\"choropleth\",\"colorbar\":{\"outlinewidth\":0,\"ticks\":\"\"}}],\"histogram2d\":[{\"type\":\"histogram2d\",\"colorbar\":{\"outlinewidth\":0,\"ticks\":\"\"},\"colorscale\":[[0.0,\"#0d0887\"],[0.1111111111111111,\"#46039f\"],[0.2222222222222222,\"#7201a8\"],[0.3333333333333333,\"#9c179e\"],[0.4444444444444444,\"#bd3786\"],[0.5555555555555556,\"#d8576b\"],[0.6666666666666666,\"#ed7953\"],[0.7777777777777778,\"#fb9f3a\"],[0.8888888888888888,\"#fdca26\"],[1.0,\"#f0f921\"]]}],\"heatmap\":[{\"type\":\"heatmap\",\"colorbar\":{\"outlinewidth\":0,\"ticks\":\"\"},\"colorscale\":[[0.0,\"#0d0887\"],[0.1111111111111111,\"#46039f\"],[0.2222222222222222,\"#7201a8\"],[0.3333333333333333,\"#9c179e\"],[0.4444444444444444,\"#bd3786\"],[0.5555555555555556,\"#d8576b\"],[0.6666666666666666,\"#ed7953\"],[0.7777777777777778,\"#fb9f3a\"],[0.8888888888888888,\"#fdca26\"],[1.0,\"#f0f921\"]]}],\"heatmapgl\":[{\"type\":\"heatmapgl\",\"colorbar\":{\"outlinewidth\":0,\"ticks\":\"\"},\"colorscale\":[[0.0,\"#0d0887\"],[0.1111111111111111,\"#46039f\"],[0.2222222222222222,\"#7201a8\"],[0.3333333333333333,\"#9c179e\"],[0.4444444444444444,\"#bd3786\"],[0.5555555555555556,\"#d8576b\"],[0.6666666666666666,\"#ed7953\"],[0.7777777777777778,\"#fb9f3a\"],[0.8888888888888888,\"#fdca26\"],[1.0,\"#f0f921\"]]}],\"contourcarpet\":[{\"type\":\"contourcarpet\",\"colorbar\":{\"outlinewidth\":0,\"ticks\":\"\"}}],\"contour\":[{\"type\":\"contour\",\"colorbar\":{\"outlinewidth\":0,\"ticks\":\"\"},\"colorscale\":[[0.0,\"#0d0887\"],[0.1111111111111111,\"#46039f\"],[0.2222222222222222,\"#7201a8\"],[0.3333333333333333,\"#9c179e\"],[0.4444444444444444,\"#bd3786\"],[0.5555555555555556,\"#d8576b\"],[0.6666666666666666,\"#ed7953\"],[0.7777777777777778,\"#fb9f3a\"],[0.8888888888888888,\"#fdca26\"],[1.0,\"#f0f921\"]]}],\"surface\":[{\"type\":\"surface\",\"colorbar\":{\"outlinewidth\":0,\"ticks\":\"\"},\"colorscale\":[[0.0,\"#0d0887\"],[0.1111111111111111,\"#46039f\"],[0.2222222222222222,\"#7201a8\"],[0.3333333333333333,\"#9c179e\"],[0.4444444444444444,\"#bd3786\"],[0.5555555555555556,\"#d8576b\"],[0.6666666666666666,\"#ed7953\"],[0.7777777777777778,\"#fb9f3a\"],[0.8888888888888888,\"#fdca26\"],[1.0,\"#f0f921\"]]}],\"mesh3d\":[{\"type\":\"mesh3d\",\"colorbar\":{\"outlinewidth\":0,\"ticks\":\"\"}}],\"scatter\":[{\"fillpattern\":{\"fillmode\":\"overlay\",\"size\":10,\"solidity\":0.2},\"type\":\"scatter\"}],\"parcoords\":[{\"type\":\"parcoords\",\"line\":{\"colorbar\":{\"outlinewidth\":0,\"ticks\":\"\"}}}],\"scatterpolargl\":[{\"type\":\"scatterpolargl\",\"marker\":{\"colorbar\":{\"outlinewidth\":0,\"ticks\":\"\"}}}],\"bar\":[{\"error_x\":{\"color\":\"#2a3f5f\"},\"error_y\":{\"color\":\"#2a3f5f\"},\"marker\":{\"line\":{\"color\":\"#E5ECF6\",\"width\":0.5},\"pattern\":{\"fillmode\":\"overlay\",\"size\":10,\"solidity\":0.2}},\"type\":\"bar\"}],\"scattergeo\":[{\"type\":\"scattergeo\",\"marker\":{\"colorbar\":{\"outlinewidth\":0,\"ticks\":\"\"}}}],\"scatterpolar\":[{\"type\":\"scatterpolar\",\"marker\":{\"colorbar\":{\"outlinewidth\":0,\"ticks\":\"\"}}}],\"histogram\":[{\"marker\":{\"pattern\":{\"fillmode\":\"overlay\",\"size\":10,\"solidity\":0.2}},\"type\":\"histogram\"}],\"scattergl\":[{\"type\":\"scattergl\",\"marker\":{\"colorbar\":{\"outlinewidth\":0,\"ticks\":\"\"}}}],\"scatter3d\":[{\"type\":\"scatter3d\",\"line\":{\"colorbar\":{\"outlinewidth\":0,\"ticks\":\"\"}},\"marker\":{\"colorbar\":{\"outlinewidth\":0,\"ticks\":\"\"}}}],\"scattermapbox\":[{\"type\":\"scattermapbox\",\"marker\":{\"colorbar\":{\"outlinewidth\":0,\"ticks\":\"\"}}}],\"scatterternary\":[{\"type\":\"scatterternary\",\"marker\":{\"colorbar\":{\"outlinewidth\":0,\"ticks\":\"\"}}}],\"scattercarpet\":[{\"type\":\"scattercarpet\",\"marker\":{\"colorbar\":{\"outlinewidth\":0,\"ticks\":\"\"}}}],\"carpet\":[{\"aaxis\":{\"endlinecolor\":\"#2a3f5f\",\"gridcolor\":\"white\",\"linecolor\":\"white\",\"minorgridcolor\":\"white\",\"startlinecolor\":\"#2a3f5f\"},\"baxis\":{\"endlinecolor\":\"#2a3f5f\",\"gridcolor\":\"white\",\"linecolor\":\"white\",\"minorgridcolor\":\"white\",\"startlinecolor\":\"#2a3f5f\"},\"type\":\"carpet\"}],\"table\":[{\"cells\":{\"fill\":{\"color\":\"#EBF0F8\"},\"line\":{\"color\":\"white\"}},\"header\":{\"fill\":{\"color\":\"#C8D4E3\"},\"line\":{\"color\":\"white\"}},\"type\":\"table\"}],\"barpolar\":[{\"marker\":{\"line\":{\"color\":\"#E5ECF6\",\"width\":0.5},\"pattern\":{\"fillmode\":\"overlay\",\"size\":10,\"solidity\":0.2}},\"type\":\"barpolar\"}],\"pie\":[{\"automargin\":true,\"type\":\"pie\"}]},\"layout\":{\"autotypenumbers\":\"strict\",\"colorway\":[\"#636efa\",\"#EF553B\",\"#00cc96\",\"#ab63fa\",\"#FFA15A\",\"#19d3f3\",\"#FF6692\",\"#B6E880\",\"#FF97FF\",\"#FECB52\"],\"font\":{\"color\":\"#2a3f5f\"},\"hovermode\":\"closest\",\"hoverlabel\":{\"align\":\"left\"},\"paper_bgcolor\":\"white\",\"plot_bgcolor\":\"#E5ECF6\",\"polar\":{\"bgcolor\":\"#E5ECF6\",\"angularaxis\":{\"gridcolor\":\"white\",\"linecolor\":\"white\",\"ticks\":\"\"},\"radialaxis\":{\"gridcolor\":\"white\",\"linecolor\":\"white\",\"ticks\":\"\"}},\"ternary\":{\"bgcolor\":\"#E5ECF6\",\"aaxis\":{\"gridcolor\":\"white\",\"linecolor\":\"white\",\"ticks\":\"\"},\"baxis\":{\"gridcolor\":\"white\",\"linecolor\":\"white\",\"ticks\":\"\"},\"caxis\":{\"gridcolor\":\"white\",\"linecolor\":\"white\",\"ticks\":\"\"}},\"coloraxis\":{\"colorbar\":{\"outlinewidth\":0,\"ticks\":\"\"}},\"colorscale\":{\"sequential\":[[0.0,\"#0d0887\"],[0.1111111111111111,\"#46039f\"],[0.2222222222222222,\"#7201a8\"],[0.3333333333333333,\"#9c179e\"],[0.4444444444444444,\"#bd3786\"],[0.5555555555555556,\"#d8576b\"],[0.6666666666666666,\"#ed7953\"],[0.7777777777777778,\"#fb9f3a\"],[0.8888888888888888,\"#fdca26\"],[1.0,\"#f0f921\"]],\"sequentialminus\":[[0.0,\"#0d0887\"],[0.1111111111111111,\"#46039f\"],[0.2222222222222222,\"#7201a8\"],[0.3333333333333333,\"#9c179e\"],[0.4444444444444444,\"#bd3786\"],[0.5555555555555556,\"#d8576b\"],[0.6666666666666666,\"#ed7953\"],[0.7777777777777778,\"#fb9f3a\"],[0.8888888888888888,\"#fdca26\"],[1.0,\"#f0f921\"]],\"diverging\":[[0,\"#8e0152\"],[0.1,\"#c51b7d\"],[0.2,\"#de77ae\"],[0.3,\"#f1b6da\"],[0.4,\"#fde0ef\"],[0.5,\"#f7f7f7\"],[0.6,\"#e6f5d0\"],[0.7,\"#b8e186\"],[0.8,\"#7fbc41\"],[0.9,\"#4d9221\"],[1,\"#276419\"]]},\"xaxis\":{\"gridcolor\":\"white\",\"linecolor\":\"white\",\"ticks\":\"\",\"title\":{\"standoff\":15},\"zerolinecolor\":\"white\",\"automargin\":true,\"zerolinewidth\":2},\"yaxis\":{\"gridcolor\":\"white\",\"linecolor\":\"white\",\"ticks\":\"\",\"title\":{\"standoff\":15},\"zerolinecolor\":\"white\",\"automargin\":true,\"zerolinewidth\":2},\"scene\":{\"xaxis\":{\"backgroundcolor\":\"#E5ECF6\",\"gridcolor\":\"white\",\"linecolor\":\"white\",\"showbackground\":true,\"ticks\":\"\",\"zerolinecolor\":\"white\",\"gridwidth\":2},\"yaxis\":{\"backgroundcolor\":\"#E5ECF6\",\"gridcolor\":\"white\",\"linecolor\":\"white\",\"showbackground\":true,\"ticks\":\"\",\"zerolinecolor\":\"white\",\"gridwidth\":2},\"zaxis\":{\"backgroundcolor\":\"#E5ECF6\",\"gridcolor\":\"white\",\"linecolor\":\"white\",\"showbackground\":true,\"ticks\":\"\",\"zerolinecolor\":\"white\",\"gridwidth\":2}},\"shapedefaults\":{\"line\":{\"color\":\"#2a3f5f\"}},\"annotationdefaults\":{\"arrowcolor\":\"#2a3f5f\",\"arrowhead\":0,\"arrowwidth\":1},\"geo\":{\"bgcolor\":\"white\",\"landcolor\":\"#E5ECF6\",\"subunitcolor\":\"white\",\"showland\":true,\"showlakes\":true,\"lakecolor\":\"white\"},\"title\":{\"x\":0.05},\"mapbox\":{\"style\":\"light\"}}},\"xaxis\":{\"anchor\":\"y\",\"domain\":[0.0,0.45],\"title\":{\"text\":\"Function Call\"}},\"yaxis\":{\"anchor\":\"x\",\"domain\":[0.0,1.0],\"title\":{\"text\":\"Negative electrode active material volume fraction\"}},\"xaxis2\":{\"anchor\":\"y2\",\"domain\":[0.55,1.0],\"title\":{\"text\":\"Function Call\"}},\"yaxis2\":{\"anchor\":\"x2\",\"domain\":[0.0,1.0],\"title\":{\"text\":\"Positive electrode active material volume fraction\"}},\"legend\":{\"orientation\":\"h\",\"yanchor\":\"bottom\",\"y\":1.02,\"xanchor\":\"right\",\"x\":1},\"title\":{\"text\":\"Parameter Convergence\"},\"width\":1024,\"height\":576},                        {\"responsive\": true}                    ).then(function(){\n",
       "                            \n",
       "var gd = document.getElementById('c6d64d08-8ba2-4998-9fb0-02f6403dce96');\n",
       "var x = new MutationObserver(function (mutations, observer) {{\n",
       "        var display = window.getComputedStyle(gd).display;\n",
       "        if (!display || display === 'none') {{\n",
       "            console.log([gd, 'removed!']);\n",
       "            Plotly.purge(gd);\n",
       "            observer.disconnect();\n",
       "        }}\n",
       "}});\n",
       "\n",
       "// Listen for the removal of the full notebook cells\n",
       "var notebookContainer = gd.closest('#notebook-container');\n",
       "if (notebookContainer) {{\n",
       "    x.observe(notebookContainer, {childList: true});\n",
       "}}\n",
       "\n",
       "// Listen for the clearing of the current output cell\n",
       "var outputEl = gd.closest('.output');\n",
       "if (outputEl) {{\n",
       "    x.observe(outputEl, {childList: true});\n",
       "}}\n",
       "\n",
       "                        })                };                });            </script>        </div>"
      ]
     },
     "metadata": {},
     "output_type": "display_data"
    }
   ],
   "source": [
    "pybop.plot_convergence(optim)\n",
    "pybop.plot_parameters(optim);"
   ]
  },
  {
   "cell_type": "markdown",
   "metadata": {},
   "source": [
    "### Cost Landscape\n",
    "\n",
    "Finally, we can visualise the cost landscape and the path taken by the optimiser:"
   ]
  },
  {
   "cell_type": "code",
   "execution_count": 16,
   "metadata": {},
   "outputs": [
    {
     "data": {
      "application/vnd.plotly.v1+json": {
       "config": {
        "plotlyServerURL": "https://plot.ly"
       },
       "data": [
        {
         "autocontour": true,
         "contours": {
          "end": 2.4000000000000004,
          "size": 0.2,
          "start": 0.2
         },
         "type": "contour",
         "x": [
          0.6,
          0.6214285714285714,
          0.6428571428571428,
          0.6642857142857143,
          0.6857142857142857,
          0.7071428571428572,
          0.7285714285714285,
          0.75,
          0.7714285714285715,
          0.7928571428571429,
          0.8142857142857143,
          0.8357142857142857,
          0.8571428571428572,
          0.8785714285714286,
          0.9
         ],
         "y": [
          0.5,
          0.5214285714285715,
          0.5428571428571428,
          0.5642857142857143,
          0.5857142857142857,
          0.6071428571428572,
          0.6285714285714286,
          0.65,
          0.6714285714285715,
          0.6928571428571428,
          0.7142857142857143,
          0.7357142857142858,
          0.7571428571428571,
          0.7785714285714287,
          0.8
         ],
         "z": [
          [
           2.518483144840509,
           2.377262683817391,
           2.2616905831213607,
           2.164403212564914,
           2.079803742522767,
           2.0041691075835706,
           1.9351473883638337,
           1.8712593119892753,
           1.8115540016362952,
           1.7553894717506613,
           1.7023132237717462,
           1.651995269709941,
           1.6041763730045082,
           1.5586481956033906,
           1.5152368819434148
          ],
          [
           1.8287473605061615,
           1.7090492814774738,
           1.6115179690455983,
           1.5296941605106102,
           1.4587596877969635,
           1.3955409128475922,
           1.3380430821667986,
           1.2850137507962007,
           1.2356423934195848,
           1.1893794358124832,
           1.1458401590243896,
           1.1047346907717182,
           1.0658372551800062,
           1.0289854573949235,
           0.9939619191786376
          ],
          [
           1.3017199818605016,
           1.201234276564807,
           1.1198476425162438,
           1.0519023826422074,
           0.9932611201556444,
           0.9412315167752294,
           0.8941319398513997,
           0.85090901618777,
           0.8108737987161752,
           0.7735644520613016,
           0.7386482491471413,
           0.7058752003325777,
           0.6750659517183902,
           0.6460231047667887,
           0.618613031522361
          ],
          [
           0.900735579154189,
           0.8174639300842939,
           0.750593861441417,
           0.6951707929426605,
           0.6476532189068392,
           0.6057701888475753,
           0.5681157309554523,
           0.5338053309351255,
           0.5022663600789157,
           0.4731063307276756,
           0.44604205762882265,
           0.420858067281644,
           0.39739705247841983,
           0.3754760236259347,
           0.35501441578524845
          ],
          [
           0.598185412517215,
           0.5304734930980259,
           0.476767564696257,
           0.4327374904253301,
           0.39536852734341166,
           0.36276209388587566,
           0.33375409987923566,
           0.30761323246247696,
           0.2838656662438443,
           0.262182891946944,
           0.24232525122167767,
           0.22411941996630155,
           0.2073935473661337,
           0.19202749540066755,
           0.17793155989035703
          ],
          [
           0.3737884208665301,
           0.3202940651907955,
           0.27864760247712417,
           0.24508221747853431,
           0.21705596599670912,
           0.19300435462487284,
           0.17197780373819185,
           0.15338610451509388,
           0.13684156432913852,
           0.1220738525078768,
           0.10889097723011368,
           0.09711894920257726,
           0.08663888198245101,
           0.07733827781517877,
           0.06913353936053125
          ],
          [
           0.21280537973200825,
           0.17243257626818517,
           0.14193589574205373,
           0.11806441700302275,
           0.0987069926666208,
           0.08260233752866344,
           0.06899787412139419,
           0.05742912890290986,
           0.04758849148885914,
           0.03926364103222851,
           0.03227884429484433,
           0.02650899362754497,
           0.021843191729575336,
           0.01819353398192628,
           0.015475906878293757
          ],
          [
           0.10423884595834632,
           0.07608726832339154,
           0.05597965225254225,
           0.04115430358362984,
           0.02989488734582022,
           0.021218758381584032,
           0.014556826836498102,
           0.009559288787587937,
           0.005992709324731413,
           0.003689731061462786,
           0.0025153044924100844,
           0.0023645041054539944,
           0.003146765509954847,
           0.004782734113435378,
           0.007202404081658567
          ],
          [
           0.039668691473452214,
           0.02297498156208481,
           0.012620306597562664,
           0.006287007026677996,
           0.0026333371526606588,
           0.0009362334470703204,
           0.0007983928920754467,
           0.001977012433501772,
           0.00430612398421098,
           0.007665015484473067,
           0.011952630158676885,
           0.01708404781092645,
           0.022987579523243807,
           0.029592464512403268,
           0.03684146038442936
          ],
          [
           0.012440831382263488,
           0.006556745052816221,
           0.005401289844358328,
           0.007074186652664861,
           0.010591953905527418,
           0.015477569656963256,
           0.02148722157484142,
           0.02850086737314284,
           0.03638761419034056,
           0.04508823243883624,
           0.05452684241142537,
           0.0646438192910587,
           0.07537239455830853,
           0.086662828419682,
           0.09846573637946736
          ],
          [
           0.017134081755175574,
           0.02149440080845006,
           0.02905123556433376,
           0.03830099534622837,
           0.048605294478661354,
           0.05971750224933562,
           0.07154200661991442,
           0.08406295587024805,
           0.0972133280632493,
           0.11096389976975082,
           0.12527181738565207,
           0.14009902103820435,
           0.15539046317799632,
           0.17110964229864264,
           0.18721665967535703
          ],
          [
           0.04921174375001043,
           0.06331454804954591,
           0.07913832282878049,
           0.09558901088862652,
           0.1123301463883606,
           0.12934497959748534,
           0.14669225775385128,
           0.16442323687439345,
           0.18255440762372,
           0.20108763433865628,
           0.22000663611713503,
           0.23929370790939075,
           0.25890543720089365,
           0.278817678054451,
           0.29899955966049496
          ],
          [
           0.1047922689868204,
           0.1281844268816947,
           0.15188550121562108,
           0.17517904314248509,
           0.19803621126646975,
           0.22065551313262968,
           0.24323574337720943,
           0.2658984475367472,
           0.28877302217024425,
           0.31184149042764076,
           0.3351325150873826,
           0.3586478975285074,
           0.3823549396537118,
           0.40624189554002593,
           0.43028623643746144
          ],
          [
           0.18049623396177655,
           0.21276269907514728,
           0.24397721290100916,
           0.2737883590239779,
           0.3024640659335579,
           0.3304108628784123,
           0.35796238744071907,
           0.38532436598600583,
           0.4126858919449912,
           0.4400588982985767,
           0.4674988602016171,
           0.495025961475323,
           0.5226187771478782,
           0.5502765965143669,
           0.5779850802582551
          ],
          [
           0.2733424453843406,
           0.3140983105000469,
           0.35248789769545097,
           0.388513400195036,
           0.42272954411349783,
           0.4557443558611662,
           0.4880218808073551,
           0.5198495806582729,
           0.5514728637248935,
           0.5829337598662178,
           0.6143131695305581,
           0.645648796132726,
           0.6769303662243025,
           0.7081675706235988,
           0.739353909675269
          ]
         ]
        }
       ],
       "layout": {
        "height": 600,
        "template": {
         "data": {
          "bar": [
           {
            "error_x": {
             "color": "#2a3f5f"
            },
            "error_y": {
             "color": "#2a3f5f"
            },
            "marker": {
             "line": {
              "color": "#E5ECF6",
              "width": 0.5
             },
             "pattern": {
              "fillmode": "overlay",
              "size": 10,
              "solidity": 0.2
             }
            },
            "type": "bar"
           }
          ],
          "barpolar": [
           {
            "marker": {
             "line": {
              "color": "#E5ECF6",
              "width": 0.5
             },
             "pattern": {
              "fillmode": "overlay",
              "size": 10,
              "solidity": 0.2
             }
            },
            "type": "barpolar"
           }
          ],
          "carpet": [
           {
            "aaxis": {
             "endlinecolor": "#2a3f5f",
             "gridcolor": "white",
             "linecolor": "white",
             "minorgridcolor": "white",
             "startlinecolor": "#2a3f5f"
            },
            "baxis": {
             "endlinecolor": "#2a3f5f",
             "gridcolor": "white",
             "linecolor": "white",
             "minorgridcolor": "white",
             "startlinecolor": "#2a3f5f"
            },
            "type": "carpet"
           }
          ],
          "choropleth": [
           {
            "colorbar": {
             "outlinewidth": 0,
             "ticks": ""
            },
            "type": "choropleth"
           }
          ],
          "contour": [
           {
            "colorbar": {
             "outlinewidth": 0,
             "ticks": ""
            },
            "colorscale": [
             [
              0,
              "#0d0887"
             ],
             [
              0.1111111111111111,
              "#46039f"
             ],
             [
              0.2222222222222222,
              "#7201a8"
             ],
             [
              0.3333333333333333,
              "#9c179e"
             ],
             [
              0.4444444444444444,
              "#bd3786"
             ],
             [
              0.5555555555555556,
              "#d8576b"
             ],
             [
              0.6666666666666666,
              "#ed7953"
             ],
             [
              0.7777777777777778,
              "#fb9f3a"
             ],
             [
              0.8888888888888888,
              "#fdca26"
             ],
             [
              1,
              "#f0f921"
             ]
            ],
            "type": "contour"
           }
          ],
          "contourcarpet": [
           {
            "colorbar": {
             "outlinewidth": 0,
             "ticks": ""
            },
            "type": "contourcarpet"
           }
          ],
          "heatmap": [
           {
            "colorbar": {
             "outlinewidth": 0,
             "ticks": ""
            },
            "colorscale": [
             [
              0,
              "#0d0887"
             ],
             [
              0.1111111111111111,
              "#46039f"
             ],
             [
              0.2222222222222222,
              "#7201a8"
             ],
             [
              0.3333333333333333,
              "#9c179e"
             ],
             [
              0.4444444444444444,
              "#bd3786"
             ],
             [
              0.5555555555555556,
              "#d8576b"
             ],
             [
              0.6666666666666666,
              "#ed7953"
             ],
             [
              0.7777777777777778,
              "#fb9f3a"
             ],
             [
              0.8888888888888888,
              "#fdca26"
             ],
             [
              1,
              "#f0f921"
             ]
            ],
            "type": "heatmap"
           }
          ],
          "heatmapgl": [
           {
            "colorbar": {
             "outlinewidth": 0,
             "ticks": ""
            },
            "colorscale": [
             [
              0,
              "#0d0887"
             ],
             [
              0.1111111111111111,
              "#46039f"
             ],
             [
              0.2222222222222222,
              "#7201a8"
             ],
             [
              0.3333333333333333,
              "#9c179e"
             ],
             [
              0.4444444444444444,
              "#bd3786"
             ],
             [
              0.5555555555555556,
              "#d8576b"
             ],
             [
              0.6666666666666666,
              "#ed7953"
             ],
             [
              0.7777777777777778,
              "#fb9f3a"
             ],
             [
              0.8888888888888888,
              "#fdca26"
             ],
             [
              1,
              "#f0f921"
             ]
            ],
            "type": "heatmapgl"
           }
          ],
          "histogram": [
           {
            "marker": {
             "pattern": {
              "fillmode": "overlay",
              "size": 10,
              "solidity": 0.2
             }
            },
            "type": "histogram"
           }
          ],
          "histogram2d": [
           {
            "colorbar": {
             "outlinewidth": 0,
             "ticks": ""
            },
            "colorscale": [
             [
              0,
              "#0d0887"
             ],
             [
              0.1111111111111111,
              "#46039f"
             ],
             [
              0.2222222222222222,
              "#7201a8"
             ],
             [
              0.3333333333333333,
              "#9c179e"
             ],
             [
              0.4444444444444444,
              "#bd3786"
             ],
             [
              0.5555555555555556,
              "#d8576b"
             ],
             [
              0.6666666666666666,
              "#ed7953"
             ],
             [
              0.7777777777777778,
              "#fb9f3a"
             ],
             [
              0.8888888888888888,
              "#fdca26"
             ],
             [
              1,
              "#f0f921"
             ]
            ],
            "type": "histogram2d"
           }
          ],
          "histogram2dcontour": [
           {
            "colorbar": {
             "outlinewidth": 0,
             "ticks": ""
            },
            "colorscale": [
             [
              0,
              "#0d0887"
             ],
             [
              0.1111111111111111,
              "#46039f"
             ],
             [
              0.2222222222222222,
              "#7201a8"
             ],
             [
              0.3333333333333333,
              "#9c179e"
             ],
             [
              0.4444444444444444,
              "#bd3786"
             ],
             [
              0.5555555555555556,
              "#d8576b"
             ],
             [
              0.6666666666666666,
              "#ed7953"
             ],
             [
              0.7777777777777778,
              "#fb9f3a"
             ],
             [
              0.8888888888888888,
              "#fdca26"
             ],
             [
              1,
              "#f0f921"
             ]
            ],
            "type": "histogram2dcontour"
           }
          ],
          "mesh3d": [
           {
            "colorbar": {
             "outlinewidth": 0,
             "ticks": ""
            },
            "type": "mesh3d"
           }
          ],
          "parcoords": [
           {
            "line": {
             "colorbar": {
              "outlinewidth": 0,
              "ticks": ""
             }
            },
            "type": "parcoords"
           }
          ],
          "pie": [
           {
            "automargin": true,
            "type": "pie"
           }
          ],
          "scatter": [
           {
            "fillpattern": {
             "fillmode": "overlay",
             "size": 10,
             "solidity": 0.2
            },
            "type": "scatter"
           }
          ],
          "scatter3d": [
           {
            "line": {
             "colorbar": {
              "outlinewidth": 0,
              "ticks": ""
             }
            },
            "marker": {
             "colorbar": {
              "outlinewidth": 0,
              "ticks": ""
             }
            },
            "type": "scatter3d"
           }
          ],
          "scattercarpet": [
           {
            "marker": {
             "colorbar": {
              "outlinewidth": 0,
              "ticks": ""
             }
            },
            "type": "scattercarpet"
           }
          ],
          "scattergeo": [
           {
            "marker": {
             "colorbar": {
              "outlinewidth": 0,
              "ticks": ""
             }
            },
            "type": "scattergeo"
           }
          ],
          "scattergl": [
           {
            "marker": {
             "colorbar": {
              "outlinewidth": 0,
              "ticks": ""
             }
            },
            "type": "scattergl"
           }
          ],
          "scattermapbox": [
           {
            "marker": {
             "colorbar": {
              "outlinewidth": 0,
              "ticks": ""
             }
            },
            "type": "scattermapbox"
           }
          ],
          "scatterpolar": [
           {
            "marker": {
             "colorbar": {
              "outlinewidth": 0,
              "ticks": ""
             }
            },
            "type": "scatterpolar"
           }
          ],
          "scatterpolargl": [
           {
            "marker": {
             "colorbar": {
              "outlinewidth": 0,
              "ticks": ""
             }
            },
            "type": "scatterpolargl"
           }
          ],
          "scatterternary": [
           {
            "marker": {
             "colorbar": {
              "outlinewidth": 0,
              "ticks": ""
             }
            },
            "type": "scatterternary"
           }
          ],
          "surface": [
           {
            "colorbar": {
             "outlinewidth": 0,
             "ticks": ""
            },
            "colorscale": [
             [
              0,
              "#0d0887"
             ],
             [
              0.1111111111111111,
              "#46039f"
             ],
             [
              0.2222222222222222,
              "#7201a8"
             ],
             [
              0.3333333333333333,
              "#9c179e"
             ],
             [
              0.4444444444444444,
              "#bd3786"
             ],
             [
              0.5555555555555556,
              "#d8576b"
             ],
             [
              0.6666666666666666,
              "#ed7953"
             ],
             [
              0.7777777777777778,
              "#fb9f3a"
             ],
             [
              0.8888888888888888,
              "#fdca26"
             ],
             [
              1,
              "#f0f921"
             ]
            ],
            "type": "surface"
           }
          ],
          "table": [
           {
            "cells": {
             "fill": {
              "color": "#EBF0F8"
             },
             "line": {
              "color": "white"
             }
            },
            "header": {
             "fill": {
              "color": "#C8D4E3"
             },
             "line": {
              "color": "white"
             }
            },
            "type": "table"
           }
          ]
         },
         "layout": {
          "annotationdefaults": {
           "arrowcolor": "#2a3f5f",
           "arrowhead": 0,
           "arrowwidth": 1
          },
          "autotypenumbers": "strict",
          "coloraxis": {
           "colorbar": {
            "outlinewidth": 0,
            "ticks": ""
           }
          },
          "colorscale": {
           "diverging": [
            [
             0,
             "#8e0152"
            ],
            [
             0.1,
             "#c51b7d"
            ],
            [
             0.2,
             "#de77ae"
            ],
            [
             0.3,
             "#f1b6da"
            ],
            [
             0.4,
             "#fde0ef"
            ],
            [
             0.5,
             "#f7f7f7"
            ],
            [
             0.6,
             "#e6f5d0"
            ],
            [
             0.7,
             "#b8e186"
            ],
            [
             0.8,
             "#7fbc41"
            ],
            [
             0.9,
             "#4d9221"
            ],
            [
             1,
             "#276419"
            ]
           ],
           "sequential": [
            [
             0,
             "#0d0887"
            ],
            [
             0.1111111111111111,
             "#46039f"
            ],
            [
             0.2222222222222222,
             "#7201a8"
            ],
            [
             0.3333333333333333,
             "#9c179e"
            ],
            [
             0.4444444444444444,
             "#bd3786"
            ],
            [
             0.5555555555555556,
             "#d8576b"
            ],
            [
             0.6666666666666666,
             "#ed7953"
            ],
            [
             0.7777777777777778,
             "#fb9f3a"
            ],
            [
             0.8888888888888888,
             "#fdca26"
            ],
            [
             1,
             "#f0f921"
            ]
           ],
           "sequentialminus": [
            [
             0,
             "#0d0887"
            ],
            [
             0.1111111111111111,
             "#46039f"
            ],
            [
             0.2222222222222222,
             "#7201a8"
            ],
            [
             0.3333333333333333,
             "#9c179e"
            ],
            [
             0.4444444444444444,
             "#bd3786"
            ],
            [
             0.5555555555555556,
             "#d8576b"
            ],
            [
             0.6666666666666666,
             "#ed7953"
            ],
            [
             0.7777777777777778,
             "#fb9f3a"
            ],
            [
             0.8888888888888888,
             "#fdca26"
            ],
            [
             1,
             "#f0f921"
            ]
           ]
          },
          "colorway": [
           "#636efa",
           "#EF553B",
           "#00cc96",
           "#ab63fa",
           "#FFA15A",
           "#19d3f3",
           "#FF6692",
           "#B6E880",
           "#FF97FF",
           "#FECB52"
          ],
          "font": {
           "color": "#2a3f5f"
          },
          "geo": {
           "bgcolor": "white",
           "lakecolor": "white",
           "landcolor": "#E5ECF6",
           "showlakes": true,
           "showland": true,
           "subunitcolor": "white"
          },
          "hoverlabel": {
           "align": "left"
          },
          "hovermode": "closest",
          "mapbox": {
           "style": "light"
          },
          "paper_bgcolor": "white",
          "plot_bgcolor": "#E5ECF6",
          "polar": {
           "angularaxis": {
            "gridcolor": "white",
            "linecolor": "white",
            "ticks": ""
           },
           "bgcolor": "#E5ECF6",
           "radialaxis": {
            "gridcolor": "white",
            "linecolor": "white",
            "ticks": ""
           }
          },
          "scene": {
           "xaxis": {
            "backgroundcolor": "#E5ECF6",
            "gridcolor": "white",
            "gridwidth": 2,
            "linecolor": "white",
            "showbackground": true,
            "ticks": "",
            "zerolinecolor": "white"
           },
           "yaxis": {
            "backgroundcolor": "#E5ECF6",
            "gridcolor": "white",
            "gridwidth": 2,
            "linecolor": "white",
            "showbackground": true,
            "ticks": "",
            "zerolinecolor": "white"
           },
           "zaxis": {
            "backgroundcolor": "#E5ECF6",
            "gridcolor": "white",
            "gridwidth": 2,
            "linecolor": "white",
            "showbackground": true,
            "ticks": "",
            "zerolinecolor": "white"
           }
          },
          "shapedefaults": {
           "line": {
            "color": "#2a3f5f"
           }
          },
          "ternary": {
           "aaxis": {
            "gridcolor": "white",
            "linecolor": "white",
            "ticks": ""
           },
           "baxis": {
            "gridcolor": "white",
            "linecolor": "white",
            "ticks": ""
           },
           "bgcolor": "#E5ECF6",
           "caxis": {
            "gridcolor": "white",
            "linecolor": "white",
            "ticks": ""
           }
          },
          "title": {
           "x": 0.05
          },
          "xaxis": {
           "automargin": true,
           "gridcolor": "white",
           "linecolor": "white",
           "ticks": "",
           "title": {
            "standoff": 15
           },
           "zerolinecolor": "white",
           "zerolinewidth": 2
          },
          "yaxis": {
           "automargin": true,
           "gridcolor": "white",
           "linecolor": "white",
           "ticks": "",
           "title": {
            "standoff": 15
           },
           "zerolinecolor": "white",
           "zerolinewidth": 2
          }
         }
        },
        "title": {
         "text": "Cost Landscape",
         "x": 0.5,
         "y": 0.9
        },
        "width": 600,
        "xaxis": {
         "range": [
          0.6,
          0.9
         ],
         "title": {
          "text": "Negative electrode active material volume fraction"
         },
         "type": "linear"
        },
        "yaxis": {
         "range": [
          0.5,
          0.8
         ],
         "title": {
          "text": "Positive electrode active material volume fraction"
         },
         "type": "linear"
        }
       }
      },
      "image/png": "[encoded data removed]",
      "text/html": [
       "<div>                            <div id=\"58da1306-aab3-40eb-8730-eeef3362ae21\" class=\"plotly-graph-div\" style=\"height:600px; width:600px;\"></div>            <script type=\"text/javascript\">                require([\"plotly\"], function(Plotly) {                    window.PLOTLYENV=window.PLOTLYENV || {};                                    if (document.getElementById(\"58da1306-aab3-40eb-8730-eeef3362ae21\")) {                    Plotly.newPlot(                        \"58da1306-aab3-40eb-8730-eeef3362ae21\",                        [{\"x\":[0.6,0.6214285714285714,0.6428571428571428,0.6642857142857143,0.6857142857142857,0.7071428571428572,0.7285714285714285,0.75,0.7714285714285715,0.7928571428571429,0.8142857142857143,0.8357142857142857,0.8571428571428572,0.8785714285714286,0.9],\"y\":[0.5,0.5214285714285715,0.5428571428571428,0.5642857142857143,0.5857142857142857,0.6071428571428572,0.6285714285714286,0.65,0.6714285714285715,0.6928571428571428,0.7142857142857143,0.7357142857142858,0.7571428571428571,0.7785714285714287,0.8],\"z\":[[2.518483144840509,2.377262683817391,2.2616905831213607,2.1644032125649146,2.079803742522767,2.0041691075835706,1.9351473883638337,1.8712593119892753,1.8115540016362952,1.7553894717506613,1.7023132237717462,1.651995269709941,1.6041763730045082,1.5586481956033906,1.5152368819434148],[1.8287473605061617,1.7090492814774738,1.6115179690455983,1.5296941605106102,1.4587596877969635,1.3955409128475922,1.3380430821667986,1.2850137507962007,1.2356423934195848,1.1893794358124832,1.1458401590243896,1.1047346907717182,1.0658372551800062,1.0289854573949235,0.9939619191786375],[1.3017199818605016,1.201234276564807,1.1198476425162438,1.0519023826422074,0.9932611201556445,0.9412315167752294,0.8941319398513997,0.85090901618777,0.8108737987161752,0.7735644520613016,0.7386482491471413,0.7058752003325777,0.6750659517183902,0.6460231047667887,0.618613031522361],[0.900735579154189,0.8174639300842939,0.750593861441417,0.6951707929426605,0.6476532189068392,0.6057701888475753,0.5681157309554523,0.5338053309351255,0.5022663600789157,0.4731063307276756,0.44604205762882265,0.420858067281644,0.39739705247841983,0.3754760236259347,0.35501441578524845],[0.598185412517215,0.5304734930980259,0.476767564696257,0.43273749042533005,0.39536852734341166,0.36276209388587566,0.33375409987923566,0.30761323246247696,0.2838656662438443,0.262182891946944,0.24232525122167767,0.22411941996630155,0.2073935473661337,0.19202749540066755,0.17793155989035705],[0.3737884208665301,0.3202940651907955,0.27864760247712417,0.24508221747853431,0.21705596599670912,0.19300435462487284,0.17197780373819185,0.15338610451509388,0.13684156432913852,0.1220738525078768,0.10889097723011368,0.09711894920257726,0.08663888198245101,0.07733827781517877,0.06913353936053125],[0.21280537973200825,0.17243257626818517,0.14193589574205373,0.11806441700302277,0.09870699266662081,0.08260233752866344,0.06899787412139419,0.05742912890290986,0.04758849148885914,0.03926364103222851,0.03227884429484433,0.02650899362754497,0.021843191729575336,0.018193533981926278,0.015475906878293757],[0.10423884595834633,0.07608726832339154,0.05597965225254225,0.04115430358362984,0.02989488734582022,0.021218758381584032,0.014556826836498102,0.009559288787587935,0.005992709324731413,0.003689731061462786,0.0025153044924100844,0.0023645041054539944,0.003146765509954847,0.004782734113435378,0.007202404081658567],[0.039668691473452214,0.02297498156208481,0.012620306597562664,0.006287007026677996,0.0026333371526606588,0.0009362334470703203,0.0007983928920754467,0.001977012433501772,0.00430612398421098,0.0076650154844730665,0.011952630158676883,0.01708404781092645,0.022987579523243807,0.029592464512403268,0.036841460384429356],[0.012440831382263488,0.006556745052816221,0.005401289844358328,0.007074186652664861,0.010591953905527418,0.015477569656963255,0.02148722157484142,0.028500867373142842,0.03638761419034056,0.04508823243883624,0.05452684241142537,0.0646438192910587,0.07537239455830853,0.086662828419682,0.09846573637946737],[0.017134081755175574,0.02149440080845006,0.029051235564333762,0.03830099534622837,0.048605294478661354,0.05971750224933562,0.07154200661991442,0.08406295587024805,0.0972133280632493,0.11096389976975082,0.12527181738565207,0.14009902103820435,0.15539046317799632,0.17110964229864264,0.18721665967535703],[0.04921174375001043,0.06331454804954591,0.07913832282878049,0.09558901088862652,0.11233014638836059,0.12934497959748534,0.14669225775385128,0.16442323687439345,0.18255440762372,0.20108763433865628,0.22000663611713506,0.23929370790939075,0.25890543720089365,0.278817678054451,0.29899955966049496],[0.1047922689868204,0.1281844268816947,0.15188550121562108,0.17517904314248509,0.19803621126646975,0.22065551313262968,0.24323574337720946,0.2658984475367472,0.28877302217024425,0.31184149042764076,0.3351325150873826,0.3586478975285074,0.3823549396537118,0.40624189554002593,0.43028623643746144],[0.18049623396177658,0.21276269907514728,0.24397721290100916,0.2737883590239779,0.3024640659335579,0.3304108628784123,0.35796238744071907,0.38532436598600583,0.41268589194499117,0.44005889829857675,0.4674988602016171,0.495025961475323,0.5226187771478782,0.5502765965143669,0.5779850802582551],[0.2733424453843406,0.3140983105000469,0.35248789769545097,0.388513400195036,0.42272954411349783,0.45574435586116613,0.4880218808073551,0.5198495806582729,0.5514728637248935,0.5829337598662178,0.6143131695305581,0.645648796132726,0.6769303662243025,0.7081675706235988,0.739353909675269]],\"type\":\"contour\"}],                        {\"template\":{\"data\":{\"histogram2dcontour\":[{\"type\":\"histogram2dcontour\",\"colorbar\":{\"outlinewidth\":0,\"ticks\":\"\"},\"colorscale\":[[0.0,\"#0d0887\"],[0.1111111111111111,\"#46039f\"],[0.2222222222222222,\"#7201a8\"],[0.3333333333333333,\"#9c179e\"],[0.4444444444444444,\"#bd3786\"],[0.5555555555555556,\"#d8576b\"],[0.6666666666666666,\"#ed7953\"],[0.7777777777777778,\"#fb9f3a\"],[0.8888888888888888,\"#fdca26\"],[1.0,\"#f0f921\"]]}],\"choropleth\":[{\"type\":\"choropleth\",\"colorbar\":{\"outlinewidth\":0,\"ticks\":\"\"}}],\"histogram2d\":[{\"type\":\"histogram2d\",\"colorbar\":{\"outlinewidth\":0,\"ticks\":\"\"},\"colorscale\":[[0.0,\"#0d0887\"],[0.1111111111111111,\"#46039f\"],[0.2222222222222222,\"#7201a8\"],[0.3333333333333333,\"#9c179e\"],[0.4444444444444444,\"#bd3786\"],[0.5555555555555556,\"#d8576b\"],[0.6666666666666666,\"#ed7953\"],[0.7777777777777778,\"#fb9f3a\"],[0.8888888888888888,\"#fdca26\"],[1.0,\"#f0f921\"]]}],\"heatmap\":[{\"type\":\"heatmap\",\"colorbar\":{\"outlinewidth\":0,\"ticks\":\"\"},\"colorscale\":[[0.0,\"#0d0887\"],[0.1111111111111111,\"#46039f\"],[0.2222222222222222,\"#7201a8\"],[0.3333333333333333,\"#9c179e\"],[0.4444444444444444,\"#bd3786\"],[0.5555555555555556,\"#d8576b\"],[0.6666666666666666,\"#ed7953\"],[0.7777777777777778,\"#fb9f3a\"],[0.8888888888888888,\"#fdca26\"],[1.0,\"#f0f921\"]]}],\"heatmapgl\":[{\"type\":\"heatmapgl\",\"colorbar\":{\"outlinewidth\":0,\"ticks\":\"\"},\"colorscale\":[[0.0,\"#0d0887\"],[0.1111111111111111,\"#46039f\"],[0.2222222222222222,\"#7201a8\"],[0.3333333333333333,\"#9c179e\"],[0.4444444444444444,\"#bd3786\"],[0.5555555555555556,\"#d8576b\"],[0.6666666666666666,\"#ed7953\"],[0.7777777777777778,\"#fb9f3a\"],[0.8888888888888888,\"#fdca26\"],[1.0,\"#f0f921\"]]}],\"contourcarpet\":[{\"type\":\"contourcarpet\",\"colorbar\":{\"outlinewidth\":0,\"ticks\":\"\"}}],\"contour\":[{\"type\":\"contour\",\"colorbar\":{\"outlinewidth\":0,\"ticks\":\"\"},\"colorscale\":[[0.0,\"#0d0887\"],[0.1111111111111111,\"#46039f\"],[0.2222222222222222,\"#7201a8\"],[0.3333333333333333,\"#9c179e\"],[0.4444444444444444,\"#bd3786\"],[0.5555555555555556,\"#d8576b\"],[0.6666666666666666,\"#ed7953\"],[0.7777777777777778,\"#fb9f3a\"],[0.8888888888888888,\"#fdca26\"],[1.0,\"#f0f921\"]]}],\"surface\":[{\"type\":\"surface\",\"colorbar\":{\"outlinewidth\":0,\"ticks\":\"\"},\"colorscale\":[[0.0,\"#0d0887\"],[0.1111111111111111,\"#46039f\"],[0.2222222222222222,\"#7201a8\"],[0.3333333333333333,\"#9c179e\"],[0.4444444444444444,\"#bd3786\"],[0.5555555555555556,\"#d8576b\"],[0.6666666666666666,\"#ed7953\"],[0.7777777777777778,\"#fb9f3a\"],[0.8888888888888888,\"#fdca26\"],[1.0,\"#f0f921\"]]}],\"mesh3d\":[{\"type\":\"mesh3d\",\"colorbar\":{\"outlinewidth\":0,\"ticks\":\"\"}}],\"scatter\":[{\"fillpattern\":{\"fillmode\":\"overlay\",\"size\":10,\"solidity\":0.2},\"type\":\"scatter\"}],\"parcoords\":[{\"type\":\"parcoords\",\"line\":{\"colorbar\":{\"outlinewidth\":0,\"ticks\":\"\"}}}],\"scatterpolargl\":[{\"type\":\"scatterpolargl\",\"marker\":{\"colorbar\":{\"outlinewidth\":0,\"ticks\":\"\"}}}],\"bar\":[{\"error_x\":{\"color\":\"#2a3f5f\"},\"error_y\":{\"color\":\"#2a3f5f\"},\"marker\":{\"line\":{\"color\":\"#E5ECF6\",\"width\":0.5},\"pattern\":{\"fillmode\":\"overlay\",\"size\":10,\"solidity\":0.2}},\"type\":\"bar\"}],\"scattergeo\":[{\"type\":\"scattergeo\",\"marker\":{\"colorbar\":{\"outlinewidth\":0,\"ticks\":\"\"}}}],\"scatterpolar\":[{\"type\":\"scatterpolar\",\"marker\":{\"colorbar\":{\"outlinewidth\":0,\"ticks\":\"\"}}}],\"histogram\":[{\"marker\":{\"pattern\":{\"fillmode\":\"overlay\",\"size\":10,\"solidity\":0.2}},\"type\":\"histogram\"}],\"scattergl\":[{\"type\":\"scattergl\",\"marker\":{\"colorbar\":{\"outlinewidth\":0,\"ticks\":\"\"}}}],\"scatter3d\":[{\"type\":\"scatter3d\",\"line\":{\"colorbar\":{\"outlinewidth\":0,\"ticks\":\"\"}},\"marker\":{\"colorbar\":{\"outlinewidth\":0,\"ticks\":\"\"}}}],\"scattermapbox\":[{\"type\":\"scattermapbox\",\"marker\":{\"colorbar\":{\"outlinewidth\":0,\"ticks\":\"\"}}}],\"scatterternary\":[{\"type\":\"scatterternary\",\"marker\":{\"colorbar\":{\"outlinewidth\":0,\"ticks\":\"\"}}}],\"scattercarpet\":[{\"type\":\"scattercarpet\",\"marker\":{\"colorbar\":{\"outlinewidth\":0,\"ticks\":\"\"}}}],\"carpet\":[{\"aaxis\":{\"endlinecolor\":\"#2a3f5f\",\"gridcolor\":\"white\",\"linecolor\":\"white\",\"minorgridcolor\":\"white\",\"startlinecolor\":\"#2a3f5f\"},\"baxis\":{\"endlinecolor\":\"#2a3f5f\",\"gridcolor\":\"white\",\"linecolor\":\"white\",\"minorgridcolor\":\"white\",\"startlinecolor\":\"#2a3f5f\"},\"type\":\"carpet\"}],\"table\":[{\"cells\":{\"fill\":{\"color\":\"#EBF0F8\"},\"line\":{\"color\":\"white\"}},\"header\":{\"fill\":{\"color\":\"#C8D4E3\"},\"line\":{\"color\":\"white\"}},\"type\":\"table\"}],\"barpolar\":[{\"marker\":{\"line\":{\"color\":\"#E5ECF6\",\"width\":0.5},\"pattern\":{\"fillmode\":\"overlay\",\"size\":10,\"solidity\":0.2}},\"type\":\"barpolar\"}],\"pie\":[{\"automargin\":true,\"type\":\"pie\"}]},\"layout\":{\"autotypenumbers\":\"strict\",\"colorway\":[\"#636efa\",\"#EF553B\",\"#00cc96\",\"#ab63fa\",\"#FFA15A\",\"#19d3f3\",\"#FF6692\",\"#B6E880\",\"#FF97FF\",\"#FECB52\"],\"font\":{\"color\":\"#2a3f5f\"},\"hovermode\":\"closest\",\"hoverlabel\":{\"align\":\"left\"},\"paper_bgcolor\":\"white\",\"plot_bgcolor\":\"#E5ECF6\",\"polar\":{\"bgcolor\":\"#E5ECF6\",\"angularaxis\":{\"gridcolor\":\"white\",\"linecolor\":\"white\",\"ticks\":\"\"},\"radialaxis\":{\"gridcolor\":\"white\",\"linecolor\":\"white\",\"ticks\":\"\"}},\"ternary\":{\"bgcolor\":\"#E5ECF6\",\"aaxis\":{\"gridcolor\":\"white\",\"linecolor\":\"white\",\"ticks\":\"\"},\"baxis\":{\"gridcolor\":\"white\",\"linecolor\":\"white\",\"ticks\":\"\"},\"caxis\":{\"gridcolor\":\"white\",\"linecolor\":\"white\",\"ticks\":\"\"}},\"coloraxis\":{\"colorbar\":{\"outlinewidth\":0,\"ticks\":\"\"}},\"colorscale\":{\"sequential\":[[0.0,\"#0d0887\"],[0.1111111111111111,\"#46039f\"],[0.2222222222222222,\"#7201a8\"],[0.3333333333333333,\"#9c179e\"],[0.4444444444444444,\"#bd3786\"],[0.5555555555555556,\"#d8576b\"],[0.6666666666666666,\"#ed7953\"],[0.7777777777777778,\"#fb9f3a\"],[0.8888888888888888,\"#fdca26\"],[1.0,\"#f0f921\"]],\"sequentialminus\":[[0.0,\"#0d0887\"],[0.1111111111111111,\"#46039f\"],[0.2222222222222222,\"#7201a8\"],[0.3333333333333333,\"#9c179e\"],[0.4444444444444444,\"#bd3786\"],[0.5555555555555556,\"#d8576b\"],[0.6666666666666666,\"#ed7953\"],[0.7777777777777778,\"#fb9f3a\"],[0.8888888888888888,\"#fdca26\"],[1.0,\"#f0f921\"]],\"diverging\":[[0,\"#8e0152\"],[0.1,\"#c51b7d\"],[0.2,\"#de77ae\"],[0.3,\"#f1b6da\"],[0.4,\"#fde0ef\"],[0.5,\"#f7f7f7\"],[0.6,\"#e6f5d0\"],[0.7,\"#b8e186\"],[0.8,\"#7fbc41\"],[0.9,\"#4d9221\"],[1,\"#276419\"]]},\"xaxis\":{\"gridcolor\":\"white\",\"linecolor\":\"white\",\"ticks\":\"\",\"title\":{\"standoff\":15},\"zerolinecolor\":\"white\",\"automargin\":true,\"zerolinewidth\":2},\"yaxis\":{\"gridcolor\":\"white\",\"linecolor\":\"white\",\"ticks\":\"\",\"title\":{\"standoff\":15},\"zerolinecolor\":\"white\",\"automargin\":true,\"zerolinewidth\":2},\"scene\":{\"xaxis\":{\"backgroundcolor\":\"#E5ECF6\",\"gridcolor\":\"white\",\"linecolor\":\"white\",\"showbackground\":true,\"ticks\":\"\",\"zerolinecolor\":\"white\",\"gridwidth\":2},\"yaxis\":{\"backgroundcolor\":\"#E5ECF6\",\"gridcolor\":\"white\",\"linecolor\":\"white\",\"showbackground\":true,\"ticks\":\"\",\"zerolinecolor\":\"white\",\"gridwidth\":2},\"zaxis\":{\"backgroundcolor\":\"#E5ECF6\",\"gridcolor\":\"white\",\"linecolor\":\"white\",\"showbackground\":true,\"ticks\":\"\",\"zerolinecolor\":\"white\",\"gridwidth\":2}},\"shapedefaults\":{\"line\":{\"color\":\"#2a3f5f\"}},\"annotationdefaults\":{\"arrowcolor\":\"#2a3f5f\",\"arrowhead\":0,\"arrowwidth\":1},\"geo\":{\"bgcolor\":\"white\",\"landcolor\":\"#E5ECF6\",\"subunitcolor\":\"white\",\"showland\":true,\"showlakes\":true,\"lakecolor\":\"white\"},\"title\":{\"x\":0.05},\"mapbox\":{\"style\":\"light\"}}},\"title\":{\"text\":\"Cost Landscape\",\"x\":0.5,\"y\":0.9},\"xaxis\":{\"title\":{\"text\":\"Negative electrode active material volume fraction\"},\"range\":[0.6,0.9]},\"yaxis\":{\"title\":{\"text\":\"Positive electrode active material volume fraction\"},\"range\":[0.5,0.8]},\"width\":600,\"height\":600},                        {\"responsive\": true}                    ).then(function(){\n",
       "                            \n",
       "var gd = document.getElementById('58da1306-aab3-40eb-8730-eeef3362ae21');\n",
       "var x = new MutationObserver(function (mutations, observer) {{\n",
       "        var display = window.getComputedStyle(gd).display;\n",
       "        if (!display || display === 'none') {{\n",
       "            console.log([gd, 'removed!']);\n",
       "            Plotly.purge(gd);\n",
       "            observer.disconnect();\n",
       "        }}\n",
       "}});\n",
       "\n",
       "// Listen for the removal of the full notebook cells\n",
       "var notebookContainer = gd.closest('#notebook-container');\n",
       "if (notebookContainer) {{\n",
       "    x.observe(notebookContainer, {childList: true});\n",
       "}}\n",
       "\n",
       "// Listen for the clearing of the current output cell\n",
       "var outputEl = gd.closest('.output');\n",
       "if (outputEl) {{\n",
       "    x.observe(outputEl, {childList: true});\n",
       "}}\n",
       "\n",
       "                        })                };                });            </script>        </div>"
      ]
     },
     "metadata": {},
     "output_type": "display_data"
    },
    {
     "data": {
      "application/vnd.plotly.v1+json": {
       "config": {
        "plotlyServerURL": "https://plot.ly"
       },
       "data": [
        {
         "autocontour": true,
         "contours": {
          "end": 2.4000000000000004,
          "size": 0.2,
          "start": 0.2
         },
         "type": "contour",
         "x": [
          0.6,
          0.6214285714285714,
          0.6428571428571428,
          0.6642857142857143,
          0.6857142857142857,
          0.7071428571428572,
          0.7285714285714285,
          0.75,
          0.7714285714285715,
          0.7928571428571429,
          0.8142857142857143,
          0.8357142857142857,
          0.8571428571428572,
          0.8785714285714286,
          0.9
         ],
         "y": [
          0.5,
          0.5214285714285715,
          0.5428571428571428,
          0.5642857142857143,
          0.5857142857142857,
          0.6071428571428572,
          0.6285714285714286,
          0.65,
          0.6714285714285715,
          0.6928571428571428,
          0.7142857142857143,
          0.7357142857142858,
          0.7571428571428571,
          0.7785714285714287,
          0.8
         ],
         "z": [
          [
           2.518483144840509,
           2.377262683817391,
           2.2616905831213607,
           2.164403212564914,
           2.079803742522767,
           2.0041691075835706,
           1.9351473883638337,
           1.8712593119892753,
           1.8115540016362952,
           1.7553894717506613,
           1.7023132237717462,
           1.651995269709941,
           1.6041763730045082,
           1.5586481956033906,
           1.5152368819434148
          ],
          [
           1.8287473605061615,
           1.7090492814774738,
           1.6115179690455983,
           1.5296941605106102,
           1.4587596877969635,
           1.3955409128475922,
           1.3380430821667986,
           1.2850137507962007,
           1.2356423934195848,
           1.1893794358124832,
           1.1458401590243896,
           1.1047346907717182,
           1.0658372551800062,
           1.0289854573949235,
           0.9939619191786376
          ],
          [
           1.3017199818605016,
           1.201234276564807,
           1.1198476425162438,
           1.0519023826422074,
           0.9932611201556444,
           0.9412315167752294,
           0.8941319398513997,
           0.85090901618777,
           0.8108737987161752,
           0.7735644520613016,
           0.7386482491471413,
           0.7058752003325777,
           0.6750659517183902,
           0.6460231047667887,
           0.618613031522361
          ],
          [
           0.900735579154189,
           0.8174639300842939,
           0.750593861441417,
           0.6951707929426605,
           0.6476532189068392,
           0.6057701888475753,
           0.5681157309554523,
           0.5338053309351255,
           0.5022663600789157,
           0.4731063307276756,
           0.44604205762882265,
           0.420858067281644,
           0.39739705247841983,
           0.3754760236259347,
           0.35501441578524845
          ],
          [
           0.598185412517215,
           0.5304734930980259,
           0.476767564696257,
           0.4327374904253301,
           0.39536852734341166,
           0.36276209388587566,
           0.33375409987923566,
           0.30761323246247696,
           0.2838656662438443,
           0.262182891946944,
           0.24232525122167767,
           0.22411941996630155,
           0.2073935473661337,
           0.19202749540066755,
           0.17793155989035703
          ],
          [
           0.3737884208665301,
           0.3202940651907955,
           0.27864760247712417,
           0.24508221747853431,
           0.21705596599670912,
           0.19300435462487284,
           0.17197780373819185,
           0.15338610451509388,
           0.13684156432913852,
           0.1220738525078768,
           0.10889097723011368,
           0.09711894920257726,
           0.08663888198245101,
           0.07733827781517877,
           0.06913353936053125
          ],
          [
           0.21280537973200825,
           0.17243257626818517,
           0.14193589574205373,
           0.11806441700302275,
           0.0987069926666208,
           0.08260233752866344,
           0.06899787412139419,
           0.05742912890290986,
           0.04758849148885914,
           0.03926364103222851,
           0.03227884429484433,
           0.02650899362754497,
           0.021843191729575336,
           0.01819353398192628,
           0.015475906878293757
          ],
          [
           0.10423884595834632,
           0.07608726832339154,
           0.05597965225254225,
           0.04115430358362984,
           0.02989488734582022,
           0.021218758381584032,
           0.014556826836498102,
           0.009559288787587937,
           0.005992709324731413,
           0.003689731061462786,
           0.0025153044924100844,
           0.0023645041054539944,
           0.003146765509954847,
           0.004782734113435378,
           0.007202404081658567
          ],
          [
           0.039668691473452214,
           0.02297498156208481,
           0.012620306597562664,
           0.006287007026677996,
           0.0026333371526606588,
           0.0009362334470703204,
           0.0007983928920754467,
           0.001977012433501772,
           0.00430612398421098,
           0.007665015484473067,
           0.011952630158676885,
           0.01708404781092645,
           0.022987579523243807,
           0.029592464512403268,
           0.03684146038442936
          ],
          [
           0.012440831382263488,
           0.006556745052816221,
           0.005401289844358328,
           0.007074186652664861,
           0.010591953905527418,
           0.015477569656963256,
           0.02148722157484142,
           0.02850086737314284,
           0.03638761419034056,
           0.04508823243883624,
           0.05452684241142537,
           0.0646438192910587,
           0.07537239455830853,
           0.086662828419682,
           0.09846573637946736
          ],
          [
           0.017134081755175574,
           0.02149440080845006,
           0.02905123556433376,
           0.03830099534622837,
           0.048605294478661354,
           0.05971750224933562,
           0.07154200661991442,
           0.08406295587024805,
           0.0972133280632493,
           0.11096389976975082,
           0.12527181738565207,
           0.14009902103820435,
           0.15539046317799632,
           0.17110964229864264,
           0.18721665967535703
          ],
          [
           0.04921174375001043,
           0.06331454804954591,
           0.07913832282878049,
           0.09558901088862652,
           0.1123301463883606,
           0.12934497959748534,
           0.14669225775385128,
           0.16442323687439345,
           0.18255440762372,
           0.20108763433865628,
           0.22000663611713503,
           0.23929370790939075,
           0.25890543720089365,
           0.278817678054451,
           0.29899955966049496
          ],
          [
           0.1047922689868204,
           0.1281844268816947,
           0.15188550121562108,
           0.17517904314248509,
           0.19803621126646975,
           0.22065551313262968,
           0.24323574337720943,
           0.2658984475367472,
           0.28877302217024425,
           0.31184149042764076,
           0.3351325150873826,
           0.3586478975285074,
           0.3823549396537118,
           0.40624189554002593,
           0.43028623643746144
          ],
          [
           0.18049623396177655,
           0.21276269907514728,
           0.24397721290100916,
           0.2737883590239779,
           0.3024640659335579,
           0.3304108628784123,
           0.35796238744071907,
           0.38532436598600583,
           0.4126858919449912,
           0.4400588982985767,
           0.4674988602016171,
           0.495025961475323,
           0.5226187771478782,
           0.5502765965143669,
           0.5779850802582551
          ],
          [
           0.2733424453843406,
           0.3140983105000469,
           0.35248789769545097,
           0.388513400195036,
           0.42272954411349783,
           0.4557443558611662,
           0.4880218808073551,
           0.5198495806582729,
           0.5514728637248935,
           0.5829337598662178,
           0.6143131695305581,
           0.645648796132726,
           0.6769303662243025,
           0.7081675706235988,
           0.739353909675269
          ]
         ]
        },
        {
         "marker": {
          "color": "red",
          "line": {
           "color": "midnightblue",
           "width": 1
          },
          "showscale": false,
          "size": 12,
          "symbol": "x"
         },
         "mode": "markers",
         "showlegend": false,
         "type": "scatter",
         "x": [
          0.7002826287477735
         ],
         "y": [
          0.6289336137120225
         ]
        },
        {
         "marker": {
          "color": [
           0,
           0.003703703703703704,
           0.007407407407407408,
           0.011111111111111112,
           0.014814814814814815,
           0.018518518518518517,
           0.022222222222222223,
           0.025925925925925925,
           0.02962962962962963,
           0.03333333333333333,
           0.037037037037037035,
           0.040740740740740744,
           0.044444444444444446,
           0.04814814814814815,
           0.05185185185185185,
           0.05555555555555555,
           0.05925925925925926,
           0.06296296296296296,
           0.06666666666666667,
           0.07037037037037037,
           0.07407407407407407,
           0.07777777777777778,
           0.08148148148148149,
           0.08518518518518518,
           0.08888888888888889,
           0.0925925925925926,
           0.0962962962962963,
           0.1,
           0.1037037037037037,
           0.1074074074074074,
           0.1111111111111111,
           0.1148148148148148,
           0.11851851851851852,
           0.12222222222222222,
           0.1259259259259259,
           0.12962962962962962,
           0.13333333333333333,
           0.13703703703703704,
           0.14074074074074075,
           0.14444444444444443,
           0.14814814814814814,
           0.15185185185185185,
           0.15555555555555556,
           0.15925925925925927,
           0.16296296296296298,
           0.16666666666666666,
           0.17037037037037037,
           0.17407407407407408,
           0.17777777777777778,
           0.1814814814814815,
           0.18518518518518515,
           0.18888888888888888,
           0.1925925925925926,
           0.1962962962962963,
           0.2,
           0.2037037037037037,
           0.2074074074074074,
           0.2111111111111111,
           0.2148148148148148,
           0.21851851851851853,
           0.2222222222222222,
           0.22592592592592592,
           0.22962962962962963,
           0.23333333333333336,
           0.23703703703703705,
           0.24074074074074073,
           0.24444444444444444,
           0.24814814814814817,
           0.2518518518518518,
           0.25555555555555554,
           0.25925925925925924,
           0.26296296296296295,
           0.26666666666666666,
           0.27037037037037037,
           0.2740740740740741,
           0.2777777777777778,
           0.2814814814814815,
           0.2851851851851852,
           0.28888888888888886,
           0.29259259259259257,
           0.2962962962962963,
           0.3,
           0.3037037037037037,
           0.3074074074074074,
           0.3111111111111111,
           0.3148148148148148,
           0.31851851851851853,
           0.32222222222222224,
           0.32592592592592595,
           0.3296296296296296,
           0.3333333333333333,
           0.337037037037037,
           0.34074074074074073,
           0.34444444444444444,
           0.34814814814814815,
           0.35185185185185186,
           0.35555555555555557,
           0.3592592592592593,
           0.362962962962963,
           0.36666666666666664,
           0.3703703703703703,
           0.37407407407407406,
           0.37777777777777777,
           0.3814814814814815,
           0.3851851851851852,
           0.3888888888888889,
           0.3925925925925926,
           0.3962962962962963,
           0.4,
           0.4037037037037038,
           0.4074074074074074,
           0.4111111111111111,
           0.4148148148148148,
           0.4185185185185185,
           0.4222222222222222,
           0.42592592592592593,
           0.4296296296296296,
           0.43333333333333335,
           0.43703703703703706,
           0.4407407407407408,
           0.4444444444444444,
           0.4481481481481482,
           0.45185185185185184,
           0.45555555555555555,
           0.45925925925925926,
           0.46296296296296297,
           0.4666666666666667,
           0.4703703703703704,
           0.4740740740740741,
           0.4777777777777778,
           0.48148148148148145,
           0.4851851851851851,
           0.4888888888888889,
           0.4925925925925926,
           0.4962962962962963,
           0.5,
           0.5037037037037037,
           0.5074074074074074,
           0.5111111111111111,
           0.5148148148148148,
           0.5185185185185185,
           0.5222222222222223,
           0.5259259259259259,
           0.5296296296296297,
           0.5333333333333333,
           0.5370370370370371,
           0.5407407407407407,
           0.5444444444444444,
           0.5481481481481482,
           0.5518518518518518,
           0.5555555555555556,
           0.5592592592592592,
           0.562962962962963,
           0.5666666666666667,
           0.5703703703703704,
           0.5740740740740741,
           0.5777777777777777,
           0.5814814814814815,
           0.5851851851851851,
           0.5888888888888889,
           0.5925925925925926,
           0.5962962962962963,
           0.6,
           0.6037037037037037,
           0.6074074074074074,
           0.6111111111111112,
           0.6148148148148148,
           0.6185185185185185,
           0.6222222222222222,
           0.6259259259259259,
           0.6296296296296297,
           0.6333333333333333,
           0.6370370370370371,
           0.6407407407407407,
           0.6444444444444445,
           0.6481481481481481,
           0.6518518518518519,
           0.6555555555555556,
           0.6592592592592592,
           0.662962962962963,
           0.6666666666666666,
           0.6703703703703704,
           0.674074074074074,
           0.6777777777777778,
           0.6814814814814815,
           0.6851851851851852,
           0.6888888888888889,
           0.6925925925925925,
           0.6962962962962963,
           0.7,
           0.7037037037037037,
           0.7074074074074074,
           0.7111111111111111,
           0.7148148148148148,
           0.7185185185185186,
           0.7222222222222222,
           0.725925925925926,
           0.7296296296296296,
           0.7333333333333333,
           0.737037037037037,
           0.7407407407407407,
           0.7444444444444445,
           0.7481481481481481,
           0.7518518518518519,
           0.7555555555555555,
           0.7592592592592593,
           0.762962962962963,
           0.7666666666666667,
           0.7703703703703704,
           0.774074074074074,
           0.7777777777777778,
           0.7814814814814814,
           0.7851851851851852,
           0.7888888888888889,
           0.7925925925925926,
           0.7962962962962963,
           0.8,
           0.8037037037037037,
           0.8074074074074075,
           0.8111111111111111,
           0.8148148148148148,
           0.8185185185185185,
           0.8222222222222222,
           0.825925925925926,
           0.8296296296296296,
           0.8333333333333334,
           0.837037037037037,
           0.8407407407407408,
           0.8444444444444444,
           0.8481481481481481,
           0.8518518518518519,
           0.8555555555555555,
           0.8592592592592593,
           0.8629629629629629,
           0.8666666666666667,
           0.8703703703703703,
           0.8740740740740741,
           0.8777777777777778,
           0.8814814814814815,
           0.8851851851851852,
           0.8888888888888888,
           0.8925925925925926,
           0.8962962962962963,
           0.9,
           0.9037037037037036,
           0.9074074074074074,
           0.9111111111111112,
           0.9148148148148147,
           0.9185185185185184,
           0.9222222222222224,
           0.925925925925926,
           0.9296296296296296,
           0.9333333333333332,
           0.937037037037037,
           0.9407407407407408,
           0.9444444444444444,
           0.9481481481481482,
           0.9518518518518518,
           0.9555555555555556,
           0.9592592592592591,
           0.9629629629629628,
           0.9666666666666668,
           0.9703703703703704,
           0.974074074074074,
           0.9777777777777776,
           0.9814814814814816,
           0.9851851851851852,
           0.9888888888888888,
           0.9925925925925926,
           0.9962962962962963
          ],
          "colorscale": [
           [
            0,
            "rgb(255,255,229)"
           ],
           [
            0.125,
            "rgb(255,247,188)"
           ],
           [
            0.25,
            "rgb(254,227,145)"
           ],
           [
            0.375,
            "rgb(254,196,79)"
           ],
           [
            0.5,
            "rgb(254,153,41)"
           ],
           [
            0.625,
            "rgb(236,112,20)"
           ],
           [
            0.75,
            "rgb(204,76,2)"
           ],
           [
            0.875,
            "rgb(153,52,4)"
           ],
           [
            1,
            "rgb(102,37,6)"
           ]
          ],
          "showscale": false
         },
         "mode": "markers",
         "showlegend": false,
         "type": "scatter",
         "x": [
          0.6398015275435182,
          0.7834095929218652,
          0.6889740628400505,
          0.6234041886887529,
          0.7472987116338267,
          0.7542734972117308,
          0.6419412905618748,
          0.6783026187078912,
          0.657028445816533,
          0.6967436629809198,
          0.6298077120656006,
          0.6285843263077633,
          0.6000082474714872,
          0.6955322817007007,
          0.6273696391708145,
          0.6307723252620865,
          0.62684229429316,
          0.720746888362131,
          0.6081882553336139,
          0.6115269780187048,
          0.6284493312020082,
          0.6000173662755234,
          0.6633457814593835,
          0.6632885397594831,
          0.6604271664950124,
          0.6297456058567239,
          0.6324599880964914,
          0.6541468730138755,
          0.6850966649271291,
          0.6545813391925616,
          0.7140024010556135,
          0.7002798068515736,
          0.72475831743897,
          0.6562000954444471,
          0.6617569374762292,
          0.6588597524568218,
          0.6599370948477885,
          0.7327244109948049,
          0.6543755422656028,
          0.7368598036834967,
          0.7118995283656964,
          0.7035529116587953,
          0.6856404670642229,
          0.7874619507069341,
          0.8347447119266668,
          0.7952661687473195,
          0.6948326989106055,
          0.8025459058164388,
          0.8023909087739224,
          0.8413035783556975,
          0.8429791769481227,
          0.8215793054323863,
          0.7941168566652124,
          0.817385311535264,
          0.7534210439836811,
          0.7320027540875633,
          0.7622205415933236,
          0.886417585811722,
          0.897026581135707,
          0.6955344176974225,
          0.8123340502097736,
          0.7661303864763724,
          0.8412559369392237,
          0.8364931415088712,
          0.777957172464202,
          0.8541148070899864,
          0.7897906812886395,
          0.6963974015685278,
          0.7771182959883609,
          0.8019974308187632,
          0.702078244365795,
          0.8014441837617875,
          0.7079450888854993,
          0.7962642768613842,
          0.7920638353800669,
          0.7151501223496658,
          0.7358391924764545,
          0.8278533733855753,
          0.7124869250307805,
          0.7348553088810768,
          0.8334840060589617,
          0.7764289301575326,
          0.7950577181630605,
          0.7112830158837191,
          0.7073896226812689,
          0.7076645262323324,
          0.7718085894819768,
          0.705975703768142,
          0.7354747372075696,
          0.6985759536543132,
          0.7460830864135181,
          0.7247593868054502,
          0.7735310256261346,
          0.7831005245852658,
          0.7812987523660673,
          0.7223483312511143,
          0.7335383532528784,
          0.7163899486916715,
          0.7666854163887278,
          0.7385206791820437,
          0.7488601755959889,
          0.688862834317936,
          0.7864848324486302,
          0.7461617845028201,
          0.765284356969859,
          0.7387961110973175,
          0.7335658164518817,
          0.7537842940548691,
          0.7237328418295452,
          0.7277991422014717,
          0.7387787764987062,
          0.760473896200636,
          0.7503729941476718,
          0.7521471891571413,
          0.7355964234728628,
          0.7383871844071798,
          0.7531484988934661,
          0.740356135309568,
          0.7468489281830667,
          0.7345480428291439,
          0.7487886779669092,
          0.7542891622629306,
          0.7610346667506344,
          0.7612010243545771,
          0.7544357417241132,
          0.7504001610339999,
          0.7605611505635547,
          0.7462336979565392,
          0.7535933763121919,
          0.7530969385922034,
          0.7379769125400184,
          0.7563100179542935,
          0.7445989047200426,
          0.7543521697854405,
          0.762457507449366,
          0.7512750946862986,
          0.741423365873329,
          0.7504272616178943,
          0.7522380364202639,
          0.75091364504222,
          0.7486358306117241,
          0.7548234842165206,
          0.7491469720681629,
          0.7511279374636878,
          0.749617610198614,
          0.7476003179328695,
          0.750369931117366,
          0.7505338022181203,
          0.7557962768784904,
          0.7505013731989336,
          0.7510182106587123,
          0.7471308643958997,
          0.7488343565008274,
          0.7456332985972772,
          0.7488412049790049,
          0.7457285567260475,
          0.74644808903075,
          0.7491314652326265,
          0.747010573156756,
          0.7474520922932261,
          0.7479037960827083,
          0.7500150908726078,
          0.7488982363745749,
          0.747762947592885,
          0.7467598497113074,
          0.7472612506053942,
          0.7478758656395419,
          0.7470499147889761,
          0.7471624119426061,
          0.7470474410663344,
          0.7478240506600677,
          0.7465744939982786,
          0.7459454081731658,
          0.7468805778707786,
          0.7480630920647846,
          0.7477703696516877,
          0.7475196775453345,
          0.7475242762120593,
          0.7482347575908042,
          0.7472334260505487,
          0.7479783710356227,
          0.7476575108918704,
          0.7472096081229995,
          0.7476071873145033,
          0.7482627819086766,
          0.7468358374676501,
          0.7476295273469726,
          0.7490225577596015,
          0.7477172724799762,
          0.747616043551513,
          0.7481017866390718,
          0.7471080442096341,
          0.7493568325560195,
          0.7485598082286591,
          0.7483784427338819,
          0.7484127359500952,
          0.7486014010276004,
          0.7479954563835443,
          0.7488198011011512,
          0.7491198277272945,
          0.748693537617128,
          0.7487474786682461,
          0.7485752495166857,
          0.7481632082523264,
          0.7477266089741006,
          0.7483368402303322,
          0.7484268685148276,
          0.7481922079026848,
          0.7493528562192566,
          0.7483799110710669,
          0.7487127986092711,
          0.7483236735870027,
          0.7477307374624874,
          0.7486634891082754,
          0.7482956807831075,
          0.7478639505717516,
          0.7482378234432122,
          0.7487357950590608,
          0.7486533009128502,
          0.7481760029573876,
          0.7486264880466273,
          0.7483535704545061,
          0.7482922086763294,
          0.7484060675803813,
          0.7481509890902289,
          0.7484112159780258,
          0.7483750819870393,
          0.7480772713357768,
          0.7483113624023876,
          0.7482820913661309,
          0.7485009616053125,
          0.7485332052828106,
          0.7484031692818295,
          0.7484242230474862,
          0.7483692816489709,
          0.7483280482902646,
          0.7484428906915788,
          0.7487108739170031,
          0.7481733095129082,
          0.7483352377665545,
          0.7484229556050997,
          0.7484036943462062,
          0.7483616558227326,
          0.7482549728604215,
          0.7483062330471475,
          0.7484845018869662,
          0.7484487561250316,
          0.7483313571673764,
          0.7485076603749453,
          0.7483740195947701,
          0.748401446465961,
          0.7483269710153728,
          0.7484050342172691,
          0.7484242559277622,
          0.7483524836989649,
          0.7483750599216641,
          0.7484270226816604,
          0.7483871326274112,
          0.7483925316918323,
          0.7484135477756078,
          0.7483685303108918,
          0.748501183840965,
          0.7483650572896052,
          0.7483830039428074,
          0.7483992351657923,
          0.7484111602741179,
          0.7483917677990026,
          0.7483812339565569,
          0.7483626840080347,
          0.7483911546398662
         ],
         "y": [
          0.6866247125275846,
          0.6364681188248305,
          0.5965886968516367,
          0.6660258705915133,
          0.6275061144028632,
          0.6251617498111561,
          0.7224532880184631,
          0.7289160363994348,
          0.6921773962251418,
          0.7247545300658802,
          0.7513856087780815,
          0.7457382219315379,
          0.7551685099493607,
          0.7291443806578158,
          0.7141548194405872,
          0.6911229225038843,
          0.7379516621622741,
          0.777837703980055,
          0.7244504679650009,
          0.7405112034190808,
          0.7358836789335765,
          0.7618219511988441,
          0.6789817528741565,
          0.6062001211285537,
          0.6812043266013955,
          0.7171132005802143,
          0.6912206493419717,
          0.704799341642163,
          0.673393157300267,
          0.7271980744258015,
          0.6267825752981799,
          0.65064092344774,
          0.6645867985746339,
          0.6576987664651354,
          0.6451723623049832,
          0.6590833200623419,
          0.6557180749586652,
          0.6560449254838345,
          0.7086741013446526,
          0.6583204160621425,
          0.655458336737195,
          0.6754402827422513,
          0.6627891780499229,
          0.6122181344142449,
          0.6190393862793186,
          0.6327593476579223,
          0.6876139439226782,
          0.6541649558877185,
          0.6827332407704083,
          0.6695668123835893,
          0.6850739771093443,
          0.6789816929663839,
          0.6464750422700254,
          0.6720816961016086,
          0.684156303444881,
          0.6930852293129227,
          0.6729842890286399,
          0.6416090211669931,
          0.6054191915997689,
          0.7108972355420703,
          0.6634112094769272,
          0.6965684039931663,
          0.6705679216656908,
          0.6647212704943212,
          0.6743705450429236,
          0.6796222826430791,
          0.6648926425657091,
          0.6843896794096097,
          0.663393745371838,
          0.6719560998632164,
          0.6704958017029286,
          0.6713995372611415,
          0.6865789272728248,
          0.6613975280534948,
          0.6487240007030157,
          0.6572931584836466,
          0.6649620068994143,
          0.6438688820893349,
          0.6431741769524745,
          0.669850019657571,
          0.6510573948035685,
          0.6587605572070525,
          0.6486461016541625,
          0.675347235111066,
          0.6665524995451028,
          0.6676514809150907,
          0.6627022880306225,
          0.673111201247168,
          0.6725887016058728,
          0.6813413519664382,
          0.664105160941047,
          0.6704285631714935,
          0.6688202571784456,
          0.6633635281486342,
          0.6596094305535337,
          0.671138842517764,
          0.6622915956065181,
          0.6735121042943643,
          0.6610407345486717,
          0.6648508765352975,
          0.6634148928140992,
          0.6712742574261868,
          0.6570256845566627,
          0.655982173199172,
          0.6644327312955974,
          0.6648430371466058,
          0.6649466158716633,
          0.6619684165487295,
          0.6701474383426015,
          0.6680603990093963,
          0.663447440652594,
          0.661192268845853,
          0.6625732936964915,
          0.6638259137461971,
          0.6651175061786415,
          0.6650030296750225,
          0.6643850470998328,
          0.6671390370924041,
          0.6669547812689007,
          0.6665640967095965,
          0.6670199908935588,
          0.6641144723053162,
          0.6616517648553679,
          0.6619798163188976,
          0.6652469537054858,
          0.665559230383553,
          0.6636038597672236,
          0.6657726366056322,
          0.6656908689848722,
          0.6649733441888416,
          0.666677149058746,
          0.6642536625484553,
          0.6658443295180828,
          0.6647784419019307,
          0.6638785235127931,
          0.664951668500953,
          0.6671028090189277,
          0.666462202880858,
          0.6647186789448336,
          0.6650992718608973,
          0.6653319061675408,
          0.6647323965249505,
          0.6651551078313285,
          0.6651359109079447,
          0.6649806996007741,
          0.6655800530882241,
          0.6650007852076433,
          0.6648729582161904,
          0.6640339073691309,
          0.664672015602371,
          0.6649434347783275,
          0.6655710089879313,
          0.6653605701103825,
          0.6659282565219087,
          0.66504257049908,
          0.6657906447125375,
          0.665833633713905,
          0.6652979035939126,
          0.6655029692593243,
          0.665499891041223,
          0.6653441858383358,
          0.6648585438657062,
          0.6650941474079926,
          0.6654039515308926,
          0.6654785379461289,
          0.6654551644037424,
          0.6651415185563612,
          0.6655312723276966,
          0.6654249030854259,
          0.6655020713129259,
          0.6653743390492347,
          0.6656016009088621,
          0.6657180017816687,
          0.665405097520238,
          0.6653710793901598,
          0.6654091789027219,
          0.6653870490445738,
          0.6654036972679006,
          0.66528133178443,
          0.6655620122986592,
          0.6654323213327458,
          0.6653827612241039,
          0.6655412482977183,
          0.6654376175394979,
          0.6653550965428916,
          0.6654583400678383,
          0.6654056986341513,
          0.6652311851087725,
          0.6654622272063525,
          0.6654564489996346,
          0.6653835515309753,
          0.6654821989523526,
          0.6652229912957907,
          0.6652764289062365,
          0.6654017645039588,
          0.6653045979399675,
          0.665242483389746,
          0.6653987728744556,
          0.665165960429941,
          0.6651956556742828,
          0.66519189292382,
          0.6652412952558492,
          0.6652914481091496,
          0.6652919685255246,
          0.6653646478766847,
          0.6652504140171038,
          0.665295111186783,
          0.6653282212163226,
          0.6652176823014453,
          0.6653463973182714,
          0.6652751221814872,
          0.665291188620783,
          0.6654153860961469,
          0.6652640830162271,
          0.6652783081891461,
          0.6653750149169088,
          0.6653186330948742,
          0.6652642754668254,
          0.6652795334642339,
          0.6653256117377516,
          0.665277889323846,
          0.6653283422013764,
          0.6653483767376702,
          0.6653080069734126,
          0.6653507557805092,
          0.6653190165995263,
          0.6652955586006951,
          0.6653872185139995,
          0.6652951711597194,
          0.6653177348777891,
          0.6652715218218141,
          0.6652898470208235,
          0.6653248057191449,
          0.6652830190388519,
          0.6653002347245491,
          0.6653123105541945,
          0.6652892680387847,
          0.6652438219377682,
          0.6653507444170728,
          0.6653069663336174,
          0.6653054732960361,
          0.6653110395250771,
          0.6653082035178534,
          0.66531554077811,
          0.6653140342751883,
          0.6652885269663483,
          0.6653011382384398,
          0.6653224538116091,
          0.6652855278194739,
          0.6653043695107316,
          0.6653078611733345,
          0.665317028873498,
          0.6653013957364677,
          0.6653034696571328,
          0.6653040571988419,
          0.6653187178674982,
          0.6652995202187427,
          0.6653087345226069,
          0.6653076618229143,
          0.6652966224697726,
          0.665306351273456,
          0.6652898404082866,
          0.6653087998780384,
          0.6653117191814542,
          0.6653049245675259,
          0.6653030637117724,
          0.6653081968224175,
          0.665312646971721,
          0.6653104757573955,
          0.6653054543409095
         ]
        }
       ],
       "layout": {
        "height": 600,
        "template": {
         "data": {
          "bar": [
           {
            "error_x": {
             "color": "#2a3f5f"
            },
            "error_y": {
             "color": "#2a3f5f"
            },
            "marker": {
             "line": {
              "color": "#E5ECF6",
              "width": 0.5
             },
             "pattern": {
              "fillmode": "overlay",
              "size": 10,
              "solidity": 0.2
             }
            },
            "type": "bar"
           }
          ],
          "barpolar": [
           {
            "marker": {
             "line": {
              "color": "#E5ECF6",
              "width": 0.5
             },
             "pattern": {
              "fillmode": "overlay",
              "size": 10,
              "solidity": 0.2
             }
            },
            "type": "barpolar"
           }
          ],
          "carpet": [
           {
            "aaxis": {
             "endlinecolor": "#2a3f5f",
             "gridcolor": "white",
             "linecolor": "white",
             "minorgridcolor": "white",
             "startlinecolor": "#2a3f5f"
            },
            "baxis": {
             "endlinecolor": "#2a3f5f",
             "gridcolor": "white",
             "linecolor": "white",
             "minorgridcolor": "white",
             "startlinecolor": "#2a3f5f"
            },
            "type": "carpet"
           }
          ],
          "choropleth": [
           {
            "colorbar": {
             "outlinewidth": 0,
             "ticks": ""
            },
            "type": "choropleth"
           }
          ],
          "contour": [
           {
            "colorbar": {
             "outlinewidth": 0,
             "ticks": ""
            },
            "colorscale": [
             [
              0,
              "#0d0887"
             ],
             [
              0.1111111111111111,
              "#46039f"
             ],
             [
              0.2222222222222222,
              "#7201a8"
             ],
             [
              0.3333333333333333,
              "#9c179e"
             ],
             [
              0.4444444444444444,
              "#bd3786"
             ],
             [
              0.5555555555555556,
              "#d8576b"
             ],
             [
              0.6666666666666666,
              "#ed7953"
             ],
             [
              0.7777777777777778,
              "#fb9f3a"
             ],
             [
              0.8888888888888888,
              "#fdca26"
             ],
             [
              1,
              "#f0f921"
             ]
            ],
            "type": "contour"
           }
          ],
          "contourcarpet": [
           {
            "colorbar": {
             "outlinewidth": 0,
             "ticks": ""
            },
            "type": "contourcarpet"
           }
          ],
          "heatmap": [
           {
            "colorbar": {
             "outlinewidth": 0,
             "ticks": ""
            },
            "colorscale": [
             [
              0,
              "#0d0887"
             ],
             [
              0.1111111111111111,
              "#46039f"
             ],
             [
              0.2222222222222222,
              "#7201a8"
             ],
             [
              0.3333333333333333,
              "#9c179e"
             ],
             [
              0.4444444444444444,
              "#bd3786"
             ],
             [
              0.5555555555555556,
              "#d8576b"
             ],
             [
              0.6666666666666666,
              "#ed7953"
             ],
             [
              0.7777777777777778,
              "#fb9f3a"
             ],
             [
              0.8888888888888888,
              "#fdca26"
             ],
             [
              1,
              "#f0f921"
             ]
            ],
            "type": "heatmap"
           }
          ],
          "heatmapgl": [
           {
            "colorbar": {
             "outlinewidth": 0,
             "ticks": ""
            },
            "colorscale": [
             [
              0,
              "#0d0887"
             ],
             [
              0.1111111111111111,
              "#46039f"
             ],
             [
              0.2222222222222222,
              "#7201a8"
             ],
             [
              0.3333333333333333,
              "#9c179e"
             ],
             [
              0.4444444444444444,
              "#bd3786"
             ],
             [
              0.5555555555555556,
              "#d8576b"
             ],
             [
              0.6666666666666666,
              "#ed7953"
             ],
             [
              0.7777777777777778,
              "#fb9f3a"
             ],
             [
              0.8888888888888888,
              "#fdca26"
             ],
             [
              1,
              "#f0f921"
             ]
            ],
            "type": "heatmapgl"
           }
          ],
          "histogram": [
           {
            "marker": {
             "pattern": {
              "fillmode": "overlay",
              "size": 10,
              "solidity": 0.2
             }
            },
            "type": "histogram"
           }
          ],
          "histogram2d": [
           {
            "colorbar": {
             "outlinewidth": 0,
             "ticks": ""
            },
            "colorscale": [
             [
              0,
              "#0d0887"
             ],
             [
              0.1111111111111111,
              "#46039f"
             ],
             [
              0.2222222222222222,
              "#7201a8"
             ],
             [
              0.3333333333333333,
              "#9c179e"
             ],
             [
              0.4444444444444444,
              "#bd3786"
             ],
             [
              0.5555555555555556,
              "#d8576b"
             ],
             [
              0.6666666666666666,
              "#ed7953"
             ],
             [
              0.7777777777777778,
              "#fb9f3a"
             ],
             [
              0.8888888888888888,
              "#fdca26"
             ],
             [
              1,
              "#f0f921"
             ]
            ],
            "type": "histogram2d"
           }
          ],
          "histogram2dcontour": [
           {
            "colorbar": {
             "outlinewidth": 0,
             "ticks": ""
            },
            "colorscale": [
             [
              0,
              "#0d0887"
             ],
             [
              0.1111111111111111,
              "#46039f"
             ],
             [
              0.2222222222222222,
              "#7201a8"
             ],
             [
              0.3333333333333333,
              "#9c179e"
             ],
             [
              0.4444444444444444,
              "#bd3786"
             ],
             [
              0.5555555555555556,
              "#d8576b"
             ],
             [
              0.6666666666666666,
              "#ed7953"
             ],
             [
              0.7777777777777778,
              "#fb9f3a"
             ],
             [
              0.8888888888888888,
              "#fdca26"
             ],
             [
              1,
              "#f0f921"
             ]
            ],
            "type": "histogram2dcontour"
           }
          ],
          "mesh3d": [
           {
            "colorbar": {
             "outlinewidth": 0,
             "ticks": ""
            },
            "type": "mesh3d"
           }
          ],
          "parcoords": [
           {
            "line": {
             "colorbar": {
              "outlinewidth": 0,
              "ticks": ""
             }
            },
            "type": "parcoords"
           }
          ],
          "pie": [
           {
            "automargin": true,
            "type": "pie"
           }
          ],
          "scatter": [
           {
            "fillpattern": {
             "fillmode": "overlay",
             "size": 10,
             "solidity": 0.2
            },
            "type": "scatter"
           }
          ],
          "scatter3d": [
           {
            "line": {
             "colorbar": {
              "outlinewidth": 0,
              "ticks": ""
             }
            },
            "marker": {
             "colorbar": {
              "outlinewidth": 0,
              "ticks": ""
             }
            },
            "type": "scatter3d"
           }
          ],
          "scattercarpet": [
           {
            "marker": {
             "colorbar": {
              "outlinewidth": 0,
              "ticks": ""
             }
            },
            "type": "scattercarpet"
           }
          ],
          "scattergeo": [
           {
            "marker": {
             "colorbar": {
              "outlinewidth": 0,
              "ticks": ""
             }
            },
            "type": "scattergeo"
           }
          ],
          "scattergl": [
           {
            "marker": {
             "colorbar": {
              "outlinewidth": 0,
              "ticks": ""
             }
            },
            "type": "scattergl"
           }
          ],
          "scattermapbox": [
           {
            "marker": {
             "colorbar": {
              "outlinewidth": 0,
              "ticks": ""
             }
            },
            "type": "scattermapbox"
           }
          ],
          "scatterpolar": [
           {
            "marker": {
             "colorbar": {
              "outlinewidth": 0,
              "ticks": ""
             }
            },
            "type": "scatterpolar"
           }
          ],
          "scatterpolargl": [
           {
            "marker": {
             "colorbar": {
              "outlinewidth": 0,
              "ticks": ""
             }
            },
            "type": "scatterpolargl"
           }
          ],
          "scatterternary": [
           {
            "marker": {
             "colorbar": {
              "outlinewidth": 0,
              "ticks": ""
             }
            },
            "type": "scatterternary"
           }
          ],
          "surface": [
           {
            "colorbar": {
             "outlinewidth": 0,
             "ticks": ""
            },
            "colorscale": [
             [
              0,
              "#0d0887"
             ],
             [
              0.1111111111111111,
              "#46039f"
             ],
             [
              0.2222222222222222,
              "#7201a8"
             ],
             [
              0.3333333333333333,
              "#9c179e"
             ],
             [
              0.4444444444444444,
              "#bd3786"
             ],
             [
              0.5555555555555556,
              "#d8576b"
             ],
             [
              0.6666666666666666,
              "#ed7953"
             ],
             [
              0.7777777777777778,
              "#fb9f3a"
             ],
             [
              0.8888888888888888,
              "#fdca26"
             ],
             [
              1,
              "#f0f921"
             ]
            ],
            "type": "surface"
           }
          ],
          "table": [
           {
            "cells": {
             "fill": {
              "color": "#EBF0F8"
             },
             "line": {
              "color": "white"
             }
            },
            "header": {
             "fill": {
              "color": "#C8D4E3"
             },
             "line": {
              "color": "white"
             }
            },
            "type": "table"
           }
          ]
         },
         "layout": {
          "annotationdefaults": {
           "arrowcolor": "#2a3f5f",
           "arrowhead": 0,
           "arrowwidth": 1
          },
          "autotypenumbers": "strict",
          "coloraxis": {
           "colorbar": {
            "outlinewidth": 0,
            "ticks": ""
           }
          },
          "colorscale": {
           "diverging": [
            [
             0,
             "#8e0152"
            ],
            [
             0.1,
             "#c51b7d"
            ],
            [
             0.2,
             "#de77ae"
            ],
            [
             0.3,
             "#f1b6da"
            ],
            [
             0.4,
             "#fde0ef"
            ],
            [
             0.5,
             "#f7f7f7"
            ],
            [
             0.6,
             "#e6f5d0"
            ],
            [
             0.7,
             "#b8e186"
            ],
            [
             0.8,
             "#7fbc41"
            ],
            [
             0.9,
             "#4d9221"
            ],
            [
             1,
             "#276419"
            ]
           ],
           "sequential": [
            [
             0,
             "#0d0887"
            ],
            [
             0.1111111111111111,
             "#46039f"
            ],
            [
             0.2222222222222222,
             "#7201a8"
            ],
            [
             0.3333333333333333,
             "#9c179e"
            ],
            [
             0.4444444444444444,
             "#bd3786"
            ],
            [
             0.5555555555555556,
             "#d8576b"
            ],
            [
             0.6666666666666666,
             "#ed7953"
            ],
            [
             0.7777777777777778,
             "#fb9f3a"
            ],
            [
             0.8888888888888888,
             "#fdca26"
            ],
            [
             1,
             "#f0f921"
            ]
           ],
           "sequentialminus": [
            [
             0,
             "#0d0887"
            ],
            [
             0.1111111111111111,
             "#46039f"
            ],
            [
             0.2222222222222222,
             "#7201a8"
            ],
            [
             0.3333333333333333,
             "#9c179e"
            ],
            [
             0.4444444444444444,
             "#bd3786"
            ],
            [
             0.5555555555555556,
             "#d8576b"
            ],
            [
             0.6666666666666666,
             "#ed7953"
            ],
            [
             0.7777777777777778,
             "#fb9f3a"
            ],
            [
             0.8888888888888888,
             "#fdca26"
            ],
            [
             1,
             "#f0f921"
            ]
           ]
          },
          "colorway": [
           "#636efa",
           "#EF553B",
           "#00cc96",
           "#ab63fa",
           "#FFA15A",
           "#19d3f3",
           "#FF6692",
           "#B6E880",
           "#FF97FF",
           "#FECB52"
          ],
          "font": {
           "color": "#2a3f5f"
          },
          "geo": {
           "bgcolor": "white",
           "lakecolor": "white",
           "landcolor": "#E5ECF6",
           "showlakes": true,
           "showland": true,
           "subunitcolor": "white"
          },
          "hoverlabel": {
           "align": "left"
          },
          "hovermode": "closest",
          "mapbox": {
           "style": "light"
          },
          "paper_bgcolor": "white",
          "plot_bgcolor": "#E5ECF6",
          "polar": {
           "angularaxis": {
            "gridcolor": "white",
            "linecolor": "white",
            "ticks": ""
           },
           "bgcolor": "#E5ECF6",
           "radialaxis": {
            "gridcolor": "white",
            "linecolor": "white",
            "ticks": ""
           }
          },
          "scene": {
           "xaxis": {
            "backgroundcolor": "#E5ECF6",
            "gridcolor": "white",
            "gridwidth": 2,
            "linecolor": "white",
            "showbackground": true,
            "ticks": "",
            "zerolinecolor": "white"
           },
           "yaxis": {
            "backgroundcolor": "#E5ECF6",
            "gridcolor": "white",
            "gridwidth": 2,
            "linecolor": "white",
            "showbackground": true,
            "ticks": "",
            "zerolinecolor": "white"
           },
           "zaxis": {
            "backgroundcolor": "#E5ECF6",
            "gridcolor": "white",
            "gridwidth": 2,
            "linecolor": "white",
            "showbackground": true,
            "ticks": "",
            "zerolinecolor": "white"
           }
          },
          "shapedefaults": {
           "line": {
            "color": "#2a3f5f"
           }
          },
          "ternary": {
           "aaxis": {
            "gridcolor": "white",
            "linecolor": "white",
            "ticks": ""
           },
           "baxis": {
            "gridcolor": "white",
            "linecolor": "white",
            "ticks": ""
           },
           "bgcolor": "#E5ECF6",
           "caxis": {
            "gridcolor": "white",
            "linecolor": "white",
            "ticks": ""
           }
          },
          "title": {
           "x": 0.05
          },
          "xaxis": {
           "automargin": true,
           "gridcolor": "white",
           "linecolor": "white",
           "ticks": "",
           "title": {
            "standoff": 15
           },
           "zerolinecolor": "white",
           "zerolinewidth": 2
          },
          "yaxis": {
           "automargin": true,
           "gridcolor": "white",
           "linecolor": "white",
           "ticks": "",
           "title": {
            "standoff": 15
           },
           "zerolinecolor": "white",
           "zerolinewidth": 2
          }
         }
        },
        "title": {
         "text": "Cost Landscape",
         "x": 0.5,
         "y": 0.9
        },
        "width": 600,
        "xaxis": {
         "range": [
          0.6,
          0.9
         ],
         "title": {
          "text": "Negative electrode active material volume fraction"
         },
         "type": "linear"
        },
        "yaxis": {
         "range": [
          0.5,
          0.8
         ],
         "title": {
          "text": "Positive electrode active material volume fraction"
         },
         "type": "linear"
        }
       }
      },
      "image/png": "[encoded data removed]",
      "text/html": [
       "<div>                            <div id=\"901fe16c-52cb-43dc-bd48-299a492c18ae\" class=\"plotly-graph-div\" style=\"height:600px; width:600px;\"></div>            <script type=\"text/javascript\">                require([\"plotly\"], function(Plotly) {                    window.PLOTLYENV=window.PLOTLYENV || {};                                    if (document.getElementById(\"901fe16c-52cb-43dc-bd48-299a492c18ae\")) {                    Plotly.newPlot(                        \"901fe16c-52cb-43dc-bd48-299a492c18ae\",                        [{\"x\":[0.6,0.6214285714285714,0.6428571428571428,0.6642857142857143,0.6857142857142857,0.7071428571428572,0.7285714285714285,0.75,0.7714285714285715,0.7928571428571429,0.8142857142857143,0.8357142857142857,0.8571428571428572,0.8785714285714286,0.9],\"y\":[0.5,0.5214285714285715,0.5428571428571428,0.5642857142857143,0.5857142857142857,0.6071428571428572,0.6285714285714286,0.65,0.6714285714285715,0.6928571428571428,0.7142857142857143,0.7357142857142858,0.7571428571428571,0.7785714285714287,0.8],\"z\":[[2.518483144840509,2.377262683817391,2.2616905831213607,2.1644032125649146,2.079803742522767,2.0041691075835706,1.9351473883638337,1.8712593119892753,1.8115540016362952,1.7553894717506613,1.7023132237717462,1.651995269709941,1.6041763730045082,1.5586481956033906,1.5152368819434148],[1.8287473605061617,1.7090492814774738,1.6115179690455983,1.5296941605106102,1.4587596877969635,1.3955409128475922,1.3380430821667986,1.2850137507962007,1.2356423934195848,1.1893794358124832,1.1458401590243896,1.1047346907717182,1.0658372551800062,1.0289854573949235,0.9939619191786375],[1.3017199818605016,1.201234276564807,1.1198476425162438,1.0519023826422074,0.9932611201556445,0.9412315167752294,0.8941319398513997,0.85090901618777,0.8108737987161752,0.7735644520613016,0.7386482491471413,0.7058752003325777,0.6750659517183902,0.6460231047667887,0.618613031522361],[0.900735579154189,0.8174639300842939,0.750593861441417,0.6951707929426605,0.6476532189068392,0.6057701888475753,0.5681157309554523,0.5338053309351255,0.5022663600789157,0.4731063307276756,0.44604205762882265,0.420858067281644,0.39739705247841983,0.3754760236259347,0.35501441578524845],[0.598185412517215,0.5304734930980259,0.476767564696257,0.43273749042533005,0.39536852734341166,0.36276209388587566,0.33375409987923566,0.30761323246247696,0.2838656662438443,0.262182891946944,0.24232525122167767,0.22411941996630155,0.2073935473661337,0.19202749540066755,0.17793155989035705],[0.3737884208665301,0.3202940651907955,0.27864760247712417,0.24508221747853431,0.21705596599670912,0.19300435462487284,0.17197780373819185,0.15338610451509388,0.13684156432913852,0.1220738525078768,0.10889097723011368,0.09711894920257726,0.08663888198245101,0.07733827781517877,0.06913353936053125],[0.21280537973200825,0.17243257626818517,0.14193589574205373,0.11806441700302277,0.09870699266662081,0.08260233752866344,0.06899787412139419,0.05742912890290986,0.04758849148885914,0.03926364103222851,0.03227884429484433,0.02650899362754497,0.021843191729575336,0.018193533981926278,0.015475906878293757],[0.10423884595834633,0.07608726832339154,0.05597965225254225,0.04115430358362984,0.02989488734582022,0.021218758381584032,0.014556826836498102,0.009559288787587935,0.005992709324731413,0.003689731061462786,0.0025153044924100844,0.0023645041054539944,0.003146765509954847,0.004782734113435378,0.007202404081658567],[0.039668691473452214,0.02297498156208481,0.012620306597562664,0.006287007026677996,0.0026333371526606588,0.0009362334470703203,0.0007983928920754467,0.001977012433501772,0.00430612398421098,0.0076650154844730665,0.011952630158676883,0.01708404781092645,0.022987579523243807,0.029592464512403268,0.036841460384429356],[0.012440831382263488,0.006556745052816221,0.005401289844358328,0.007074186652664861,0.010591953905527418,0.015477569656963255,0.02148722157484142,0.028500867373142842,0.03638761419034056,0.04508823243883624,0.05452684241142537,0.0646438192910587,0.07537239455830853,0.086662828419682,0.09846573637946737],[0.017134081755175574,0.02149440080845006,0.029051235564333762,0.03830099534622837,0.048605294478661354,0.05971750224933562,0.07154200661991442,0.08406295587024805,0.0972133280632493,0.11096389976975082,0.12527181738565207,0.14009902103820435,0.15539046317799632,0.17110964229864264,0.18721665967535703],[0.04921174375001043,0.06331454804954591,0.07913832282878049,0.09558901088862652,0.11233014638836059,0.12934497959748534,0.14669225775385128,0.16442323687439345,0.18255440762372,0.20108763433865628,0.22000663611713506,0.23929370790939075,0.25890543720089365,0.278817678054451,0.29899955966049496],[0.1047922689868204,0.1281844268816947,0.15188550121562108,0.17517904314248509,0.19803621126646975,0.22065551313262968,0.24323574337720946,0.2658984475367472,0.28877302217024425,0.31184149042764076,0.3351325150873826,0.3586478975285074,0.3823549396537118,0.40624189554002593,0.43028623643746144],[0.18049623396177658,0.21276269907514728,0.24397721290100916,0.2737883590239779,0.3024640659335579,0.3304108628784123,0.35796238744071907,0.38532436598600583,0.41268589194499117,0.44005889829857675,0.4674988602016171,0.495025961475323,0.5226187771478782,0.5502765965143669,0.5779850802582551],[0.2733424453843406,0.3140983105000469,0.35248789769545097,0.388513400195036,0.42272954411349783,0.45574435586116613,0.4880218808073551,0.5198495806582729,0.5514728637248935,0.5829337598662178,0.6143131695305581,0.645648796132726,0.6769303662243025,0.7081675706235988,0.739353909675269]],\"type\":\"contour\"},{\"marker\":{\"color\":\"red\",\"line\":{\"color\":\"midnightblue\",\"width\":1},\"showscale\":false,\"size\":12,\"symbol\":\"x\"},\"mode\":\"markers\",\"showlegend\":false,\"x\":[0.7002826287477735],\"y\":[0.6289336137120225],\"type\":\"scatter\"},{\"marker\":{\"color\":[0.0,0.003703703703703704,0.007407407407407408,0.011111111111111112,0.014814814814814815,0.018518518518518517,0.022222222222222223,0.025925925925925925,0.02962962962962963,0.03333333333333333,0.037037037037037035,0.040740740740740744,0.044444444444444446,0.04814814814814815,0.05185185185185185,0.05555555555555555,0.05925925925925926,0.06296296296296296,0.06666666666666667,0.07037037037037037,0.07407407407407407,0.07777777777777778,0.08148148148148149,0.08518518518518518,0.08888888888888889,0.09259259259259259,0.0962962962962963,0.1,0.1037037037037037,0.10740740740740741,0.1111111111111111,0.11481481481481481,0.11851851851851852,0.12222222222222222,0.1259259259259259,0.12962962962962962,0.13333333333333333,0.13703703703703704,0.14074074074074075,0.14444444444444443,0.14814814814814814,0.15185185185185185,0.15555555555555556,0.15925925925925927,0.16296296296296298,0.16666666666666666,0.17037037037037037,0.17407407407407408,0.17777777777777778,0.1814814814814815,0.18518518518518517,0.18888888888888888,0.1925925925925926,0.1962962962962963,0.2,0.2037037037037037,0.2074074074074074,0.2111111111111111,0.21481481481481482,0.21851851851851853,0.2222222222222222,0.22592592592592592,0.22962962962962963,0.23333333333333334,0.23703703703703705,0.24074074074074073,0.24444444444444444,0.24814814814814815,0.2518518518518518,0.25555555555555554,0.25925925925925924,0.26296296296296295,0.26666666666666666,0.27037037037037037,0.2740740740740741,0.2777777777777778,0.2814814814814815,0.2851851851851852,0.28888888888888886,0.29259259259259257,0.2962962962962963,0.3,0.3037037037037037,0.3074074074074074,0.3111111111111111,0.3148148148148148,0.31851851851851853,0.32222222222222224,0.32592592592592595,0.3296296296296296,0.3333333333333333,0.337037037037037,0.34074074074074073,0.34444444444444444,0.34814814814814815,0.35185185185185186,0.35555555555555557,0.3592592592592593,0.362962962962963,0.36666666666666664,0.37037037037037035,0.37407407407407406,0.37777777777777777,0.3814814814814815,0.3851851851851852,0.3888888888888889,0.3925925925925926,0.3962962962962963,0.4,0.40370370370370373,0.4074074074074074,0.4111111111111111,0.4148148148148148,0.4185185185185185,0.4222222222222222,0.42592592592592593,0.42962962962962964,0.43333333333333335,0.43703703703703706,0.44074074074074077,0.4444444444444444,0.44814814814814813,0.45185185185185184,0.45555555555555555,0.45925925925925926,0.46296296296296297,0.4666666666666667,0.4703703703703704,0.4740740740740741,0.4777777777777778,0.48148148148148145,0.48518518518518516,0.4888888888888889,0.4925925925925926,0.4962962962962963,0.5,0.5037037037037037,0.5074074074074074,0.5111111111111111,0.5148148148148148,0.5185185185185185,0.5222222222222223,0.5259259259259259,0.5296296296296297,0.5333333333333333,0.5370370370370371,0.5407407407407407,0.5444444444444444,0.5481481481481482,0.5518518518518518,0.5555555555555556,0.5592592592592592,0.562962962962963,0.5666666666666667,0.5703703703703704,0.5740740740740741,0.5777777777777777,0.5814814814814815,0.5851851851851851,0.5888888888888889,0.5925925925925926,0.5962962962962963,0.6,0.6037037037037037,0.6074074074074074,0.6111111111111112,0.6148148148148148,0.6185185185185185,0.6222222222222222,0.6259259259259259,0.6296296296296297,0.6333333333333333,0.6370370370370371,0.6407407407407407,0.6444444444444445,0.6481481481481481,0.6518518518518519,0.6555555555555556,0.6592592592592592,0.662962962962963,0.6666666666666666,0.6703703703703704,0.674074074074074,0.6777777777777778,0.6814814814814815,0.6851851851851852,0.6888888888888889,0.6925925925925925,0.6962962962962963,0.7,0.7037037037037037,0.7074074074074074,0.7111111111111111,0.7148148148148148,0.7185185185185186,0.7222222222222222,0.725925925925926,0.7296296296296296,0.7333333333333333,0.737037037037037,0.7407407407407407,0.7444444444444445,0.7481481481481481,0.7518518518518519,0.7555555555555555,0.7592592592592593,0.762962962962963,0.7666666666666667,0.7703703703703704,0.774074074074074,0.7777777777777778,0.7814814814814814,0.7851851851851852,0.7888888888888889,0.7925925925925926,0.7962962962962963,0.8,0.8037037037037037,0.8074074074074075,0.8111111111111111,0.8148148148148148,0.8185185185185185,0.8222222222222222,0.825925925925926,0.8296296296296296,0.8333333333333334,0.837037037037037,0.8407407407407408,0.8444444444444444,0.8481481481481481,0.8518518518518519,0.8555555555555555,0.8592592592592593,0.8629629629629629,0.8666666666666667,0.8703703703703703,0.8740740740740741,0.8777777777777778,0.8814814814814815,0.8851851851851852,0.8888888888888888,0.8925925925925926,0.8962962962962963,0.9,0.9037037037037037,0.9074074074074074,0.9111111111111111,0.9148148148148149,0.9185185185185185,0.9222222222222223,0.9259259259259259,0.9296296296296296,0.9333333333333333,0.937037037037037,0.9407407407407408,0.9444444444444444,0.9481481481481482,0.9518518518518518,0.9555555555555556,0.9592592592592593,0.9629629629629629,0.9666666666666667,0.9703703703703703,0.9740740740740741,0.9777777777777777,0.9814814814814815,0.9851851851851852,0.9888888888888889,0.9925925925925926,0.9962962962962963],\"colorscale\":[[0.0,\"rgb(255,255,229)\"],[0.125,\"rgb(255,247,188)\"],[0.25,\"rgb(254,227,145)\"],[0.375,\"rgb(254,196,79)\"],[0.5,\"rgb(254,153,41)\"],[0.625,\"rgb(236,112,20)\"],[0.75,\"rgb(204,76,2)\"],[0.875,\"rgb(153,52,4)\"],[1.0,\"rgb(102,37,6)\"]],\"showscale\":false},\"mode\":\"markers\",\"showlegend\":false,\"x\":[0.6398015275435182,0.7834095929218652,0.6889740628400505,0.6234041886887529,0.7472987116338267,0.7542734972117308,0.6419412905618748,0.6783026187078912,0.657028445816533,0.6967436629809198,0.6298077120656006,0.6285843263077633,0.6000082474714872,0.6955322817007007,0.6273696391708145,0.6307723252620865,0.62684229429316,0.720746888362131,0.6081882553336139,0.6115269780187048,0.6284493312020082,0.6000173662755234,0.6633457814593835,0.6632885397594831,0.6604271664950124,0.6297456058567239,0.6324599880964914,0.6541468730138755,0.6850966649271291,0.6545813391925616,0.7140024010556135,0.7002798068515736,0.72475831743897,0.6562000954444471,0.6617569374762292,0.6588597524568218,0.6599370948477885,0.7327244109948049,0.6543755422656028,0.7368598036834967,0.7118995283656964,0.7035529116587953,0.6856404670642229,0.7874619507069341,0.8347447119266668,0.7952661687473195,0.6948326989106055,0.8025459058164388,0.8023909087739224,0.8413035783556975,0.8429791769481227,0.8215793054323863,0.7941168566652124,0.817385311535264,0.7534210439836811,0.7320027540875633,0.7622205415933236,0.886417585811722,0.897026581135707,0.6955344176974225,0.8123340502097736,0.7661303864763724,0.8412559369392237,0.8364931415088712,0.777957172464202,0.8541148070899864,0.7897906812886395,0.6963974015685278,0.7771182959883609,0.8019974308187632,0.702078244365795,0.8014441837617875,0.7079450888854993,0.7962642768613842,0.7920638353800669,0.7151501223496658,0.7358391924764545,0.8278533733855753,0.7124869250307805,0.7348553088810768,0.8334840060589617,0.7764289301575326,0.7950577181630605,0.7112830158837191,0.7073896226812689,0.7076645262323324,0.7718085894819768,0.705975703768142,0.7354747372075696,0.6985759536543132,0.7460830864135181,0.7247593868054502,0.7735310256261346,0.7831005245852658,0.7812987523660673,0.7223483312511143,0.7335383532528784,0.7163899486916715,0.7666854163887278,0.7385206791820437,0.7488601755959889,0.688862834317936,0.7864848324486302,0.7461617845028201,0.765284356969859,0.7387961110973175,0.7335658164518817,0.7537842940548691,0.7237328418295452,0.7277991422014717,0.7387787764987062,0.760473896200636,0.7503729941476718,0.7521471891571413,0.7355964234728628,0.7383871844071798,0.7531484988934661,0.740356135309568,0.7468489281830667,0.7345480428291439,0.7487886779669092,0.7542891622629306,0.7610346667506344,0.7612010243545771,0.7544357417241132,0.7504001610339999,0.7605611505635547,0.7462336979565392,0.7535933763121919,0.7530969385922034,0.7379769125400184,0.7563100179542935,0.7445989047200426,0.7543521697854405,0.762457507449366,0.7512750946862986,0.741423365873329,0.7504272616178943,0.7522380364202639,0.75091364504222,0.7486358306117241,0.7548234842165206,0.7491469720681629,0.7511279374636878,0.749617610198614,0.7476003179328695,0.750369931117366,0.7505338022181203,0.7557962768784904,0.7505013731989336,0.7510182106587123,0.7471308643958997,0.7488343565008274,0.7456332985972772,0.7488412049790049,0.7457285567260475,0.74644808903075,0.7491314652326265,0.747010573156756,0.7474520922932261,0.7479037960827083,0.7500150908726078,0.7488982363745749,0.747762947592885,0.7467598497113074,0.7472612506053942,0.7478758656395419,0.7470499147889761,0.7471624119426061,0.7470474410663344,0.7478240506600677,0.7465744939982786,0.7459454081731658,0.7468805778707786,0.7480630920647846,0.7477703696516877,0.7475196775453345,0.7475242762120593,0.7482347575908042,0.7472334260505487,0.7479783710356227,0.7476575108918704,0.7472096081229995,0.7476071873145033,0.7482627819086766,0.7468358374676501,0.7476295273469726,0.7490225577596015,0.7477172724799762,0.747616043551513,0.7481017866390718,0.7471080442096341,0.7493568325560195,0.7485598082286591,0.7483784427338819,0.7484127359500952,0.7486014010276004,0.7479954563835443,0.7488198011011512,0.7491198277272945,0.748693537617128,0.7487474786682461,0.7485752495166857,0.7481632082523264,0.7477266089741006,0.7483368402303322,0.7484268685148276,0.7481922079026848,0.7493528562192566,0.7483799110710669,0.7487127986092711,0.7483236735870027,0.7477307374624874,0.7486634891082754,0.7482956807831075,0.7478639505717516,0.7482378234432122,0.7487357950590608,0.7486533009128502,0.7481760029573876,0.7486264880466273,0.7483535704545061,0.7482922086763294,0.7484060675803813,0.7481509890902289,0.7484112159780258,0.7483750819870393,0.7480772713357768,0.7483113624023876,0.7482820913661309,0.7485009616053125,0.7485332052828106,0.7484031692818295,0.7484242230474862,0.7483692816489709,0.7483280482902646,0.7484428906915788,0.7487108739170031,0.7481733095129082,0.7483352377665545,0.7484229556050997,0.7484036943462062,0.7483616558227326,0.7482549728604215,0.7483062330471475,0.7484845018869662,0.7484487561250316,0.7483313571673764,0.7485076603749453,0.7483740195947701,0.748401446465961,0.7483269710153728,0.7484050342172691,0.7484242559277622,0.7483524836989649,0.7483750599216641,0.7484270226816604,0.7483871326274112,0.7483925316918323,0.7484135477756078,0.7483685303108918,0.748501183840965,0.7483650572896052,0.7483830039428074,0.7483992351657923,0.7484111602741179,0.7483917677990026,0.7483812339565569,0.7483626840080347,0.7483911546398662],\"y\":[0.6866247125275846,0.6364681188248305,0.5965886968516367,0.6660258705915133,0.6275061144028632,0.6251617498111561,0.7224532880184631,0.7289160363994348,0.6921773962251418,0.7247545300658802,0.7513856087780815,0.7457382219315379,0.7551685099493607,0.7291443806578158,0.7141548194405872,0.6911229225038843,0.7379516621622741,0.777837703980055,0.7244504679650009,0.7405112034190808,0.7358836789335765,0.7618219511988441,0.6789817528741565,0.6062001211285537,0.6812043266013955,0.7171132005802143,0.6912206493419717,0.704799341642163,0.673393157300267,0.7271980744258015,0.6267825752981799,0.65064092344774,0.6645867985746339,0.6576987664651354,0.6451723623049832,0.6590833200623419,0.6557180749586652,0.6560449254838345,0.7086741013446526,0.6583204160621425,0.655458336737195,0.6754402827422513,0.6627891780499229,0.6122181344142449,0.6190393862793186,0.6327593476579223,0.6876139439226782,0.6541649558877185,0.6827332407704083,0.6695668123835893,0.6850739771093443,0.6789816929663839,0.6464750422700254,0.6720816961016086,0.684156303444881,0.6930852293129227,0.6729842890286399,0.6416090211669931,0.6054191915997689,0.7108972355420703,0.6634112094769272,0.6965684039931663,0.6705679216656908,0.6647212704943212,0.6743705450429236,0.6796222826430791,0.6648926425657091,0.6843896794096097,0.663393745371838,0.6719560998632164,0.6704958017029286,0.6713995372611415,0.6865789272728248,0.6613975280534948,0.6487240007030157,0.6572931584836466,0.6649620068994143,0.6438688820893349,0.6431741769524745,0.669850019657571,0.6510573948035685,0.6587605572070525,0.6486461016541625,0.675347235111066,0.6665524995451028,0.6676514809150907,0.6627022880306225,0.673111201247168,0.6725887016058728,0.6813413519664382,0.664105160941047,0.6704285631714935,0.6688202571784456,0.6633635281486342,0.6596094305535337,0.671138842517764,0.6622915956065181,0.6735121042943643,0.6610407345486717,0.6648508765352975,0.6634148928140992,0.6712742574261868,0.6570256845566627,0.655982173199172,0.6644327312955974,0.6648430371466058,0.6649466158716633,0.6619684165487295,0.6701474383426015,0.6680603990093963,0.663447440652594,0.661192268845853,0.6625732936964915,0.6638259137461971,0.6651175061786415,0.6650030296750225,0.6643850470998328,0.6671390370924041,0.6669547812689007,0.6665640967095965,0.6670199908935588,0.6641144723053162,0.6616517648553679,0.6619798163188976,0.6652469537054858,0.665559230383553,0.6636038597672236,0.6657726366056322,0.6656908689848722,0.6649733441888416,0.666677149058746,0.6642536625484553,0.6658443295180828,0.6647784419019307,0.6638785235127931,0.664951668500953,0.6671028090189277,0.666462202880858,0.6647186789448336,0.6650992718608973,0.6653319061675408,0.6647323965249505,0.6651551078313285,0.6651359109079447,0.6649806996007741,0.6655800530882241,0.6650007852076433,0.6648729582161904,0.6640339073691309,0.664672015602371,0.6649434347783275,0.6655710089879313,0.6653605701103825,0.6659282565219087,0.66504257049908,0.6657906447125375,0.665833633713905,0.6652979035939126,0.6655029692593243,0.665499891041223,0.6653441858383358,0.6648585438657062,0.6650941474079926,0.6654039515308926,0.6654785379461289,0.6654551644037424,0.6651415185563612,0.6655312723276966,0.6654249030854259,0.6655020713129259,0.6653743390492347,0.6656016009088621,0.6657180017816687,0.665405097520238,0.6653710793901598,0.6654091789027219,0.6653870490445738,0.6654036972679006,0.66528133178443,0.6655620122986592,0.6654323213327458,0.6653827612241039,0.6655412482977183,0.6654376175394979,0.6653550965428916,0.6654583400678383,0.6654056986341513,0.6652311851087725,0.6654622272063525,0.6654564489996346,0.6653835515309753,0.6654821989523526,0.6652229912957907,0.6652764289062365,0.6654017645039588,0.6653045979399675,0.665242483389746,0.6653987728744556,0.665165960429941,0.6651956556742828,0.66519189292382,0.6652412952558492,0.6652914481091496,0.6652919685255246,0.6653646478766847,0.6652504140171038,0.665295111186783,0.6653282212163226,0.6652176823014453,0.6653463973182714,0.6652751221814872,0.665291188620783,0.6654153860961469,0.6652640830162271,0.6652783081891461,0.6653750149169088,0.6653186330948742,0.6652642754668254,0.6652795334642339,0.6653256117377516,0.665277889323846,0.6653283422013764,0.6653483767376702,0.6653080069734126,0.6653507557805092,0.6653190165995263,0.6652955586006951,0.6653872185139995,0.6652951711597194,0.6653177348777891,0.6652715218218141,0.6652898470208235,0.6653248057191449,0.6652830190388519,0.6653002347245491,0.6653123105541945,0.6652892680387847,0.6652438219377682,0.6653507444170728,0.6653069663336174,0.6653054732960361,0.6653110395250771,0.6653082035178534,0.66531554077811,0.6653140342751883,0.6652885269663483,0.6653011382384398,0.6653224538116091,0.6652855278194739,0.6653043695107316,0.6653078611733345,0.665317028873498,0.6653013957364677,0.6653034696571328,0.6653040571988419,0.6653187178674982,0.6652995202187427,0.6653087345226069,0.6653076618229143,0.6652966224697726,0.665306351273456,0.6652898404082866,0.6653087998780384,0.6653117191814542,0.6653049245675259,0.6653030637117724,0.6653081968224175,0.665312646971721,0.6653104757573955,0.6653054543409095],\"type\":\"scatter\"}],                        {\"template\":{\"data\":{\"histogram2dcontour\":[{\"type\":\"histogram2dcontour\",\"colorbar\":{\"outlinewidth\":0,\"ticks\":\"\"},\"colorscale\":[[0.0,\"#0d0887\"],[0.1111111111111111,\"#46039f\"],[0.2222222222222222,\"#7201a8\"],[0.3333333333333333,\"#9c179e\"],[0.4444444444444444,\"#bd3786\"],[0.5555555555555556,\"#d8576b\"],[0.6666666666666666,\"#ed7953\"],[0.7777777777777778,\"#fb9f3a\"],[0.8888888888888888,\"#fdca26\"],[1.0,\"#f0f921\"]]}],\"choropleth\":[{\"type\":\"choropleth\",\"colorbar\":{\"outlinewidth\":0,\"ticks\":\"\"}}],\"histogram2d\":[{\"type\":\"histogram2d\",\"colorbar\":{\"outlinewidth\":0,\"ticks\":\"\"},\"colorscale\":[[0.0,\"#0d0887\"],[0.1111111111111111,\"#46039f\"],[0.2222222222222222,\"#7201a8\"],[0.3333333333333333,\"#9c179e\"],[0.4444444444444444,\"#bd3786\"],[0.5555555555555556,\"#d8576b\"],[0.6666666666666666,\"#ed7953\"],[0.7777777777777778,\"#fb9f3a\"],[0.8888888888888888,\"#fdca26\"],[1.0,\"#f0f921\"]]}],\"heatmap\":[{\"type\":\"heatmap\",\"colorbar\":{\"outlinewidth\":0,\"ticks\":\"\"},\"colorscale\":[[0.0,\"#0d0887\"],[0.1111111111111111,\"#46039f\"],[0.2222222222222222,\"#7201a8\"],[0.3333333333333333,\"#9c179e\"],[0.4444444444444444,\"#bd3786\"],[0.5555555555555556,\"#d8576b\"],[0.6666666666666666,\"#ed7953\"],[0.7777777777777778,\"#fb9f3a\"],[0.8888888888888888,\"#fdca26\"],[1.0,\"#f0f921\"]]}],\"heatmapgl\":[{\"type\":\"heatmapgl\",\"colorbar\":{\"outlinewidth\":0,\"ticks\":\"\"},\"colorscale\":[[0.0,\"#0d0887\"],[0.1111111111111111,\"#46039f\"],[0.2222222222222222,\"#7201a8\"],[0.3333333333333333,\"#9c179e\"],[0.4444444444444444,\"#bd3786\"],[0.5555555555555556,\"#d8576b\"],[0.6666666666666666,\"#ed7953\"],[0.7777777777777778,\"#fb9f3a\"],[0.8888888888888888,\"#fdca26\"],[1.0,\"#f0f921\"]]}],\"contourcarpet\":[{\"type\":\"contourcarpet\",\"colorbar\":{\"outlinewidth\":0,\"ticks\":\"\"}}],\"contour\":[{\"type\":\"contour\",\"colorbar\":{\"outlinewidth\":0,\"ticks\":\"\"},\"colorscale\":[[0.0,\"#0d0887\"],[0.1111111111111111,\"#46039f\"],[0.2222222222222222,\"#7201a8\"],[0.3333333333333333,\"#9c179e\"],[0.4444444444444444,\"#bd3786\"],[0.5555555555555556,\"#d8576b\"],[0.6666666666666666,\"#ed7953\"],[0.7777777777777778,\"#fb9f3a\"],[0.8888888888888888,\"#fdca26\"],[1.0,\"#f0f921\"]]}],\"surface\":[{\"type\":\"surface\",\"colorbar\":{\"outlinewidth\":0,\"ticks\":\"\"},\"colorscale\":[[0.0,\"#0d0887\"],[0.1111111111111111,\"#46039f\"],[0.2222222222222222,\"#7201a8\"],[0.3333333333333333,\"#9c179e\"],[0.4444444444444444,\"#bd3786\"],[0.5555555555555556,\"#d8576b\"],[0.6666666666666666,\"#ed7953\"],[0.7777777777777778,\"#fb9f3a\"],[0.8888888888888888,\"#fdca26\"],[1.0,\"#f0f921\"]]}],\"mesh3d\":[{\"type\":\"mesh3d\",\"colorbar\":{\"outlinewidth\":0,\"ticks\":\"\"}}],\"scatter\":[{\"fillpattern\":{\"fillmode\":\"overlay\",\"size\":10,\"solidity\":0.2},\"type\":\"scatter\"}],\"parcoords\":[{\"type\":\"parcoords\",\"line\":{\"colorbar\":{\"outlinewidth\":0,\"ticks\":\"\"}}}],\"scatterpolargl\":[{\"type\":\"scatterpolargl\",\"marker\":{\"colorbar\":{\"outlinewidth\":0,\"ticks\":\"\"}}}],\"bar\":[{\"error_x\":{\"color\":\"#2a3f5f\"},\"error_y\":{\"color\":\"#2a3f5f\"},\"marker\":{\"line\":{\"color\":\"#E5ECF6\",\"width\":0.5},\"pattern\":{\"fillmode\":\"overlay\",\"size\":10,\"solidity\":0.2}},\"type\":\"bar\"}],\"scattergeo\":[{\"type\":\"scattergeo\",\"marker\":{\"colorbar\":{\"outlinewidth\":0,\"ticks\":\"\"}}}],\"scatterpolar\":[{\"type\":\"scatterpolar\",\"marker\":{\"colorbar\":{\"outlinewidth\":0,\"ticks\":\"\"}}}],\"histogram\":[{\"marker\":{\"pattern\":{\"fillmode\":\"overlay\",\"size\":10,\"solidity\":0.2}},\"type\":\"histogram\"}],\"scattergl\":[{\"type\":\"scattergl\",\"marker\":{\"colorbar\":{\"outlinewidth\":0,\"ticks\":\"\"}}}],\"scatter3d\":[{\"type\":\"scatter3d\",\"line\":{\"colorbar\":{\"outlinewidth\":0,\"ticks\":\"\"}},\"marker\":{\"colorbar\":{\"outlinewidth\":0,\"ticks\":\"\"}}}],\"scattermapbox\":[{\"type\":\"scattermapbox\",\"marker\":{\"colorbar\":{\"outlinewidth\":0,\"ticks\":\"\"}}}],\"scatterternary\":[{\"type\":\"scatterternary\",\"marker\":{\"colorbar\":{\"outlinewidth\":0,\"ticks\":\"\"}}}],\"scattercarpet\":[{\"type\":\"scattercarpet\",\"marker\":{\"colorbar\":{\"outlinewidth\":0,\"ticks\":\"\"}}}],\"carpet\":[{\"aaxis\":{\"endlinecolor\":\"#2a3f5f\",\"gridcolor\":\"white\",\"linecolor\":\"white\",\"minorgridcolor\":\"white\",\"startlinecolor\":\"#2a3f5f\"},\"baxis\":{\"endlinecolor\":\"#2a3f5f\",\"gridcolor\":\"white\",\"linecolor\":\"white\",\"minorgridcolor\":\"white\",\"startlinecolor\":\"#2a3f5f\"},\"type\":\"carpet\"}],\"table\":[{\"cells\":{\"fill\":{\"color\":\"#EBF0F8\"},\"line\":{\"color\":\"white\"}},\"header\":{\"fill\":{\"color\":\"#C8D4E3\"},\"line\":{\"color\":\"white\"}},\"type\":\"table\"}],\"barpolar\":[{\"marker\":{\"line\":{\"color\":\"#E5ECF6\",\"width\":0.5},\"pattern\":{\"fillmode\":\"overlay\",\"size\":10,\"solidity\":0.2}},\"type\":\"barpolar\"}],\"pie\":[{\"automargin\":true,\"type\":\"pie\"}]},\"layout\":{\"autotypenumbers\":\"strict\",\"colorway\":[\"#636efa\",\"#EF553B\",\"#00cc96\",\"#ab63fa\",\"#FFA15A\",\"#19d3f3\",\"#FF6692\",\"#B6E880\",\"#FF97FF\",\"#FECB52\"],\"font\":{\"color\":\"#2a3f5f\"},\"hovermode\":\"closest\",\"hoverlabel\":{\"align\":\"left\"},\"paper_bgcolor\":\"white\",\"plot_bgcolor\":\"#E5ECF6\",\"polar\":{\"bgcolor\":\"#E5ECF6\",\"angularaxis\":{\"gridcolor\":\"white\",\"linecolor\":\"white\",\"ticks\":\"\"},\"radialaxis\":{\"gridcolor\":\"white\",\"linecolor\":\"white\",\"ticks\":\"\"}},\"ternary\":{\"bgcolor\":\"#E5ECF6\",\"aaxis\":{\"gridcolor\":\"white\",\"linecolor\":\"white\",\"ticks\":\"\"},\"baxis\":{\"gridcolor\":\"white\",\"linecolor\":\"white\",\"ticks\":\"\"},\"caxis\":{\"gridcolor\":\"white\",\"linecolor\":\"white\",\"ticks\":\"\"}},\"coloraxis\":{\"colorbar\":{\"outlinewidth\":0,\"ticks\":\"\"}},\"colorscale\":{\"sequential\":[[0.0,\"#0d0887\"],[0.1111111111111111,\"#46039f\"],[0.2222222222222222,\"#7201a8\"],[0.3333333333333333,\"#9c179e\"],[0.4444444444444444,\"#bd3786\"],[0.5555555555555556,\"#d8576b\"],[0.6666666666666666,\"#ed7953\"],[0.7777777777777778,\"#fb9f3a\"],[0.8888888888888888,\"#fdca26\"],[1.0,\"#f0f921\"]],\"sequentialminus\":[[0.0,\"#0d0887\"],[0.1111111111111111,\"#46039f\"],[0.2222222222222222,\"#7201a8\"],[0.3333333333333333,\"#9c179e\"],[0.4444444444444444,\"#bd3786\"],[0.5555555555555556,\"#d8576b\"],[0.6666666666666666,\"#ed7953\"],[0.7777777777777778,\"#fb9f3a\"],[0.8888888888888888,\"#fdca26\"],[1.0,\"#f0f921\"]],\"diverging\":[[0,\"#8e0152\"],[0.1,\"#c51b7d\"],[0.2,\"#de77ae\"],[0.3,\"#f1b6da\"],[0.4,\"#fde0ef\"],[0.5,\"#f7f7f7\"],[0.6,\"#e6f5d0\"],[0.7,\"#b8e186\"],[0.8,\"#7fbc41\"],[0.9,\"#4d9221\"],[1,\"#276419\"]]},\"xaxis\":{\"gridcolor\":\"white\",\"linecolor\":\"white\",\"ticks\":\"\",\"title\":{\"standoff\":15},\"zerolinecolor\":\"white\",\"automargin\":true,\"zerolinewidth\":2},\"yaxis\":{\"gridcolor\":\"white\",\"linecolor\":\"white\",\"ticks\":\"\",\"title\":{\"standoff\":15},\"zerolinecolor\":\"white\",\"automargin\":true,\"zerolinewidth\":2},\"scene\":{\"xaxis\":{\"backgroundcolor\":\"#E5ECF6\",\"gridcolor\":\"white\",\"linecolor\":\"white\",\"showbackground\":true,\"ticks\":\"\",\"zerolinecolor\":\"white\",\"gridwidth\":2},\"yaxis\":{\"backgroundcolor\":\"#E5ECF6\",\"gridcolor\":\"white\",\"linecolor\":\"white\",\"showbackground\":true,\"ticks\":\"\",\"zerolinecolor\":\"white\",\"gridwidth\":2},\"zaxis\":{\"backgroundcolor\":\"#E5ECF6\",\"gridcolor\":\"white\",\"linecolor\":\"white\",\"showbackground\":true,\"ticks\":\"\",\"zerolinecolor\":\"white\",\"gridwidth\":2}},\"shapedefaults\":{\"line\":{\"color\":\"#2a3f5f\"}},\"annotationdefaults\":{\"arrowcolor\":\"#2a3f5f\",\"arrowhead\":0,\"arrowwidth\":1},\"geo\":{\"bgcolor\":\"white\",\"landcolor\":\"#E5ECF6\",\"subunitcolor\":\"white\",\"showland\":true,\"showlakes\":true,\"lakecolor\":\"white\"},\"title\":{\"x\":0.05},\"mapbox\":{\"style\":\"light\"}}},\"title\":{\"text\":\"Cost Landscape\",\"x\":0.5,\"y\":0.9},\"xaxis\":{\"title\":{\"text\":\"Negative electrode active material volume fraction\"},\"range\":[0.6,0.9]},\"yaxis\":{\"title\":{\"text\":\"Positive electrode active material volume fraction\"},\"range\":[0.5,0.8]},\"width\":600,\"height\":600},                        {\"responsive\": true}                    ).then(function(){\n",
       "                            \n",
       "var gd = document.getElementById('901fe16c-52cb-43dc-bd48-299a492c18ae');\n",
       "var x = new MutationObserver(function (mutations, observer) {{\n",
       "        var display = window.getComputedStyle(gd).display;\n",
       "        if (!display || display === 'none') {{\n",
       "            console.log([gd, 'removed!']);\n",
       "            Plotly.purge(gd);\n",
       "            observer.disconnect();\n",
       "        }}\n",
       "}});\n",
       "\n",
       "// Listen for the removal of the full notebook cells\n",
       "var notebookContainer = gd.closest('#notebook-container');\n",
       "if (notebookContainer) {{\n",
       "    x.observe(notebookContainer, {childList: true});\n",
       "}}\n",
       "\n",
       "// Listen for the clearing of the current output cell\n",
       "var outputEl = gd.closest('.output');\n",
       "if (outputEl) {{\n",
       "    x.observe(outputEl, {childList: true});\n",
       "}}\n",
       "\n",
       "                        })                };                });            </script>        </div>"
      ]
     },
     "metadata": {},
     "output_type": "display_data"
    }
   ],
   "source": [
    "# Plot the cost landscape\n",
    "pybop.plot_cost2d(cost, steps=15)\n",
    "# Plot the cost landscape with optimisation path and updated bounds\n",
    "bounds = np.array([[0.6, 0.9], [0.5, 0.8]])\n",
    "pybop.plot_cost2d(cost, optim=optim, bounds=bounds, steps=15);"
   ]
  },
  {
   "cell_type": "markdown",
   "metadata": {},
   "source": [
    "### Conclusion\n",
    "\n",
    "This notebook illustrates how to perform parameter estimation using CMA-ES in PyBOP, providing insights into the optimisation process through various visualisations."
   ]
  }
 ],
 "metadata": {
  "colab": {
   "provenance": []
  },
  "kernelspec": {
   "display_name": "Python 3 (ipykernel)",
   "language": "python",
   "name": "python3"
  },
  "language_info": {
   "codemirror_mode": {
    "name": "ipython",
    "version": 3
   },
   "file_extension": ".py",
   "mimetype": "text/x-python",
   "name": "python",
   "nbconvert_exporter": "python",
   "pygments_lexer": "ipython3",
   "version": "3.11.4"
  },
  "widgets": {
   "application/vnd.jupyter.widget-state+json": {
    "06f2374f91c8455bb63252092512f2ed": {
     "model_module": "@jupyter-widgets/base",
     "model_module_version": "2.0.0",
     "model_name": "LayoutModel",
     "state": {
      "_model_module": "@jupyter-widgets/base",
      "_model_module_version": "2.0.0",
      "_model_name": "LayoutModel",
      "_view_count": null,
      "_view_module": "@jupyter-widgets/base",
      "_view_module_version": "2.0.0",
      "_view_name": "LayoutView",
      "align_content": null,
      "align_items": null,
      "align_self": null,
      "border_bottom": null,
      "border_left": null,
      "border_right": null,
      "border_top": null,
      "bottom": null,
      "display": null,
      "flex": null,
      "flex_flow": null,
      "grid_area": null,
      "grid_auto_columns": null,
      "grid_auto_flow": null,
      "grid_auto_rows": null,
      "grid_column": null,
      "grid_gap": null,
      "grid_row": null,
      "grid_template_areas": null,
      "grid_template_columns": null,
      "grid_template_rows": null,
      "height": null,
      "justify_content": null,
      "justify_items": null,
      "left": null,
      "margin": null,
      "max_height": null,
      "max_width": null,
      "min_height": null,
      "min_width": null,
      "object_fit": null,
      "object_position": null,
      "order": null,
      "overflow": null,
      "padding": null,
      "right": null,
      "top": null,
      "visibility": null,
      "width": null
     }
    },
    "423bffea3a1c42b49a9ad71218e5811b": {
     "model_module": "@jupyter-widgets/base",
     "model_module_version": "2.0.0",
     "model_name": "LayoutModel",
     "state": {
      "_model_module": "@jupyter-widgets/base",
      "_model_module_version": "2.0.0",
      "_model_name": "LayoutModel",
      "_view_count": null,
      "_view_module": "@jupyter-widgets/base",
      "_view_module_version": "2.0.0",
      "_view_name": "LayoutView",
      "align_content": null,
      "align_items": null,
      "align_self": null,
      "border_bottom": null,
      "border_left": null,
      "border_right": null,
      "border_top": null,
      "bottom": null,
      "display": null,
      "flex": null,
      "flex_flow": null,
      "grid_area": null,
      "grid_auto_columns": null,
      "grid_auto_flow": null,
      "grid_auto_rows": null,
      "grid_column": null,
      "grid_gap": null,
      "grid_row": null,
      "grid_template_areas": null,
      "grid_template_columns": null,
      "grid_template_rows": null,
      "height": null,
      "justify_content": null,
      "justify_items": null,
      "left": null,
      "margin": null,
      "max_height": null,
      "max_width": null,
      "min_height": null,
      "min_width": null,
      "object_fit": null,
      "object_position": null,
      "order": null,
      "overflow": null,
      "padding": null,
      "right": null,
      "top": null,
      "visibility": null,
      "width": null
     }
    },
    "56ff19291e464d63b23e63b8e2ac9ea3": {
     "model_module": "@jupyter-widgets/controls",
     "model_module_version": "2.0.0",
     "model_name": "SliderStyleModel",
     "state": {
      "_model_module": "@jupyter-widgets/controls",
      "_model_module_version": "2.0.0",
      "_model_name": "SliderStyleModel",
      "_view_count": null,
      "_view_module": "@jupyter-widgets/base",
      "_view_module_version": "2.0.0",
      "_view_name": "StyleView",
      "description_width": "",
      "handle_color": null
     }
    },
    "646a8670cb204a31bb56bc2380898093": {
     "model_module": "@jupyter-widgets/base",
     "model_module_version": "2.0.0",
     "model_name": "LayoutModel",
     "state": {
      "_model_module": "@jupyter-widgets/base",
      "_model_module_version": "2.0.0",
      "_model_name": "LayoutModel",
      "_view_count": null,
      "_view_module": "@jupyter-widgets/base",
      "_view_module_version": "2.0.0",
      "_view_name": "LayoutView",
      "align_content": null,
      "align_items": null,
      "align_self": null,
      "border_bottom": null,
      "border_left": null,
      "border_right": null,
      "border_top": null,
      "bottom": null,
      "display": null,
      "flex": null,
      "flex_flow": null,
      "grid_area": null,
      "grid_auto_columns": null,
      "grid_auto_flow": null,
      "grid_auto_rows": null,
      "grid_column": null,
      "grid_gap": null,
      "grid_row": null,
      "grid_template_areas": null,
      "grid_template_columns": null,
      "grid_template_rows": null,
      "height": null,
      "justify_content": null,
      "justify_items": null,
      "left": null,
      "margin": null,
      "max_height": null,
      "max_width": null,
      "min_height": null,
      "min_width": null,
      "object_fit": null,
      "object_position": null,
      "order": null,
      "overflow": null,
      "padding": null,
      "right": null,
      "top": null,
      "visibility": null,
      "width": null
     }
    },
    "7d46516469314b88be3500e2afcafcf6": {
     "model_module": "@jupyter-widgets/output",
     "model_module_version": "1.0.0",
     "model_name": "OutputModel",
     "state": {
      "_dom_classes": [],
      "_model_module": "@jupyter-widgets/output",
      "_model_module_version": "1.0.0",
      "_model_name": "OutputModel",
      "_view_count": null,
      "_view_module": "@jupyter-widgets/output",
      "_view_module_version": "1.0.0",
      "_view_name": "OutputView",
      "layout": "IPY_MODEL_646a8670cb204a31bb56bc2380898093",
      "msg_id": "",
      "outputs": [],
      "tabbable": null,
      "tooltip": null
     }
    },
    "8d003c14da5f4fa68284b28c15cee6e6": {
     "model_module": "@jupyter-widgets/controls",
     "model_module_version": "2.0.0",
     "model_name": "VBoxModel",
     "state": {
      "_dom_classes": [
       "widget-interact"
      ],
      "_model_module": "@jupyter-widgets/controls",
      "_model_module_version": "2.0.0",
      "_model_name": "VBoxModel",
      "_view_count": null,
      "_view_module": "@jupyter-widgets/controls",
      "_view_module_version": "2.0.0",
      "_view_name": "VBoxView",
      "box_style": "",
      "children": [
       "IPY_MODEL_aef2fa7adcc14ad0854b73d5910ae3b4",
       "IPY_MODEL_7d46516469314b88be3500e2afcafcf6"
      ],
      "layout": "IPY_MODEL_423bffea3a1c42b49a9ad71218e5811b",
      "tabbable": null,
      "tooltip": null
     }
    },
    "aef2fa7adcc14ad0854b73d5910ae3b4": {
     "model_module": "@jupyter-widgets/controls",
     "model_module_version": "2.0.0",
     "model_name": "FloatSliderModel",
     "state": {
      "_dom_classes": [],
      "_model_module": "@jupyter-widgets/controls",
      "_model_module_version": "2.0.0",
      "_model_name": "FloatSliderModel",
      "_view_count": null,
      "_view_module": "@jupyter-widgets/controls",
      "_view_module_version": "2.0.0",
      "_view_name": "FloatSliderView",
      "behavior": "drag-tap",
      "continuous_update": true,
      "description": "t",
      "description_allow_html": false,
      "disabled": false,
      "layout": "IPY_MODEL_06f2374f91c8455bb63252092512f2ed",
      "max": 1.1333333333333333,
      "min": 0,
      "orientation": "horizontal",
      "readout": true,
      "readout_format": ".2f",
      "step": 0.011333333333333332,
      "style": "IPY_MODEL_56ff19291e464d63b23e63b8e2ac9ea3",
      "tabbable": null,
      "tooltip": null,
      "value": 0
     }
    }
   }
  }
 },
 "nbformat": 4,
 "nbformat_minor": 4
}
