{
 "cells": [
  {
   "cell_type": "markdown",
   "metadata": {},
   "source": [
    "## Monte Carlo Sampling Introduction"
   ]
  },
  {
   "cell_type": "code",
   "execution_count": 1,
   "metadata": {},
   "outputs": [],
   "source": [
    "import numpy as np\n",
    "\n",
    "import pybop"
   ]
  },
  {
   "cell_type": "code",
   "execution_count": 2,
   "metadata": {},
   "outputs": [],
   "source": [
    "# Parameter set and model definition\n",
    "parameter_set = pybop.ParameterSet.pybamm(\"Chen2020\")\n",
    "model = pybop.lithium_ion.SPM(parameter_set=parameter_set)"
   ]
  },
  {
   "cell_type": "code",
   "execution_count": 3,
   "metadata": {},
   "outputs": [],
   "source": [
    "# Fitting parameters\n",
    "parameters = [\n",
    "    pybop.Parameter(\n",
    "        \"Negative electrode active material volume fraction\",\n",
    "        prior=pybop.GaussianLogPrior(0.68, 0.05),\n",
    "    ),\n",
    "    pybop.Parameter(\n",
    "        \"Positive electrode active material volume fraction\",\n",
    "        prior=pybop.GaussianLogPrior(0.58, 0.05),\n",
    "    ),\n",
    "]\n",
    "\n",
    "# Generate data\n",
    "init_soc = 0.5\n",
    "sigma = 0.003\n",
    "experiment = pybop.Experiment(\n",
    "    [\n",
    "        (\n",
    "            \"Discharge at 0.5C for 3 minutes (3 second period)\",\n",
    "            \"Charge at 0.5C for 3 minutes (3 second period)\",\n",
    "        ),\n",
    "    ]\n",
    "    * 2\n",
    ")\n",
    "values = model.predict(init_soc=init_soc, experiment=experiment)\n",
    "\n",
    "\n",
    "def noise(sigma):\n",
    "    return np.random.normal(0, sigma, len(values[\"Voltage [V]\"].data))\n",
    "\n",
    "\n",
    "# Form dataset\n",
    "dataset = pybop.Dataset(\n",
    "    {\n",
    "        \"Time [s]\": values[\"Time [s]\"].data,\n",
    "        \"Current function [A]\": values[\"Current [A]\"].data,\n",
    "        \"Voltage [V]\": values[\"Voltage [V]\"].data + noise(sigma),\n",
    "        \"Bulk open-circuit voltage [V]\": values[\"Bulk open-circuit voltage [V]\"].data\n",
    "        + noise(sigma),\n",
    "    }\n",
    ")\n",
    "\n",
    "signal = [\"Voltage [V]\", \"Bulk open-circuit voltage [V]\"]"
   ]
  },
  {
   "cell_type": "code",
   "execution_count": 4,
   "metadata": {},
   "outputs": [
    {
     "ename": "ValueError",
     "evalue": "An error occurred when constructing the Prior class: 'tuple' object has no attribute 'prior'",
     "output_type": "error",
     "traceback": [
      "\u001b[0;31m---------------------------------------------------------------------------\u001b[0m",
      "\u001b[0;31mAttributeError\u001b[0m                            Traceback (most recent call last)",
      "File \u001b[0;32m~/Documents/Git/PyBOP/pybop/costs/_likelihoods.py:297\u001b[0m, in \u001b[0;36mLogPosterior.__init__\u001b[0;34m(self, log_likelihood, log_prior, sigma)\u001b[0m\n\u001b[1;32m    295\u001b[0m \u001b[38;5;28;01mtry\u001b[39;00m:\n\u001b[1;32m    296\u001b[0m     \u001b[38;5;28mself\u001b[39m\u001b[38;5;241m.\u001b[39m_prior \u001b[38;5;241m=\u001b[39m [\n\u001b[0;32m--> 297\u001b[0m         \u001b[43mparam\u001b[49m\u001b[38;5;241;43m.\u001b[39;49m\u001b[43mprior\u001b[49m\n\u001b[1;32m    298\u001b[0m         \u001b[38;5;28;01mfor\u001b[39;00m param \u001b[38;5;129;01min\u001b[39;00m \u001b[38;5;28menumerate\u001b[39m(log_likelihood\u001b[38;5;241m.\u001b[39mproblem\u001b[38;5;241m.\u001b[39mparameters)\n\u001b[1;32m    299\u001b[0m     ]  \u001b[38;5;66;03m# Update for parameters class\u001b[39;00m\n\u001b[1;32m    300\u001b[0m \u001b[38;5;28;01mexcept\u001b[39;00m \u001b[38;5;167;01mException\u001b[39;00m \u001b[38;5;28;01mas\u001b[39;00m e:\n",
      "\u001b[0;31mAttributeError\u001b[0m: 'tuple' object has no attribute 'prior'",
      "\nDuring handling of the above exception, another exception occurred:\n",
      "\u001b[0;31mValueError\u001b[0m                                Traceback (most recent call last)",
      "Cell \u001b[0;32mIn[4], line 6\u001b[0m\n\u001b[1;32m      2\u001b[0m problem \u001b[38;5;241m=\u001b[39m pybop\u001b[38;5;241m.\u001b[39mFittingProblem(\n\u001b[1;32m      3\u001b[0m     model, parameters, dataset, signal\u001b[38;5;241m=\u001b[39msignal, init_soc\u001b[38;5;241m=\u001b[39minit_soc\n\u001b[1;32m      4\u001b[0m )\n\u001b[1;32m      5\u001b[0m cost \u001b[38;5;241m=\u001b[39m pybop\u001b[38;5;241m.\u001b[39mGaussianLogLikelihoodKnownSigma(problem, sigma\u001b[38;5;241m=\u001b[39m[\u001b[38;5;241m0.05\u001b[39m, \u001b[38;5;241m0.05\u001b[39m])\n\u001b[0;32m----> 6\u001b[0m posteriors \u001b[38;5;241m=\u001b[39m \u001b[43mpybop\u001b[49m\u001b[38;5;241;43m.\u001b[39;49m\u001b[43mLogPosterior\u001b[49m\u001b[43m(\u001b[49m\u001b[43mcost\u001b[49m\u001b[43m)\u001b[49m\n\u001b[1;32m      7\u001b[0m optim \u001b[38;5;241m=\u001b[39m pybop\u001b[38;5;241m.\u001b[39mMCMC(cost, num_warmup\u001b[38;5;241m=\u001b[39m\u001b[38;5;241m250\u001b[39m, num_samples\u001b[38;5;241m=\u001b[39m\u001b[38;5;241m500\u001b[39m, num_chains\u001b[38;5;241m=\u001b[39m\u001b[38;5;241m4\u001b[39m)\n\u001b[1;32m      8\u001b[0m optim\u001b[38;5;241m.\u001b[39mset_max_iterations(\u001b[38;5;241m100\u001b[39m)\n",
      "File \u001b[0;32m~/Documents/Git/PyBOP/pybop/costs/_likelihoods.py:301\u001b[0m, in \u001b[0;36mLogPosterior.__init__\u001b[0;34m(self, log_likelihood, log_prior, sigma)\u001b[0m\n\u001b[1;32m    296\u001b[0m     \u001b[38;5;28mself\u001b[39m\u001b[38;5;241m.\u001b[39m_prior \u001b[38;5;241m=\u001b[39m [\n\u001b[1;32m    297\u001b[0m         param\u001b[38;5;241m.\u001b[39mprior\n\u001b[1;32m    298\u001b[0m         \u001b[38;5;28;01mfor\u001b[39;00m param \u001b[38;5;129;01min\u001b[39;00m \u001b[38;5;28menumerate\u001b[39m(log_likelihood\u001b[38;5;241m.\u001b[39mproblem\u001b[38;5;241m.\u001b[39mparameters)\n\u001b[1;32m    299\u001b[0m     ]  \u001b[38;5;66;03m# Update for parameters class\u001b[39;00m\n\u001b[1;32m    300\u001b[0m \u001b[38;5;28;01mexcept\u001b[39;00m \u001b[38;5;167;01mException\u001b[39;00m \u001b[38;5;28;01mas\u001b[39;00m e:\n\u001b[0;32m--> 301\u001b[0m     \u001b[38;5;28;01mraise\u001b[39;00m \u001b[38;5;167;01mValueError\u001b[39;00m(\n\u001b[1;32m    302\u001b[0m         \u001b[38;5;124mf\u001b[39m\u001b[38;5;124m\"\u001b[39m\u001b[38;5;124mAn error occurred when constructing the Prior class: \u001b[39m\u001b[38;5;132;01m{\u001b[39;00me\u001b[38;5;132;01m}\u001b[39;00m\u001b[38;5;124m\"\u001b[39m\n\u001b[1;32m    303\u001b[0m     )\n",
      "\u001b[0;31mValueError\u001b[0m: An error occurred when constructing the Prior class: 'tuple' object has no attribute 'prior'"
     ]
    }
   ],
   "source": [
    "# Generate problem, cost function, and optimisation class\n",
    "problem = pybop.FittingProblem(\n",
    "    model, parameters, dataset, signal=signal, init_soc=init_soc\n",
    ")\n",
    "cost = pybop.GaussianLogLikelihoodKnownSigma(problem, sigma=[0.05, 0.05])\n",
    "posterior = pybop.LogPosterior(cost)\n",
    "optim = pybop.MCMC(posterior, num_warmup=250, num_samples=500, num_chains=4)\n",
    "optim.set_max_iterations(100)\n",
    "optim.set_max_unchanged_iterations(45)\n",
    "\n",
    "# Run optimisation\n",
    "x, final_cost = optim.run()\n",
    "print(\"Estimated parameters:\", x)\n",
    "\n",
    "# Plot the timeseries output\n",
    "pybop.quick_plot(problem, parameter_values=x, title=\"Optimised Comparison\")\n",
    "\n",
    "# Plot convergence\n",
    "pybop.plot_convergence(optim)\n",
    "\n",
    "# Plot the parameter traces\n",
    "pybop.plot_parameters(optim)\n",
    "\n",
    "# Plot the cost landscape with optimisation path\n",
    "bounds = np.array([[0.5, 0.8], [0.4, 0.7]])\n",
    "pybop.plot2d(optim, bounds=bounds, steps=15)"
   ]
  },
  {
   "cell_type": "code",
   "execution_count": null,
   "metadata": {},
   "outputs": [],
   "source": []
  }
 ],
 "metadata": {
  "kernelspec": {
   "display_name": "pybop-3.12",
   "language": "python",
   "name": "python3"
  },
  "language_info": {
   "codemirror_mode": {
    "name": "ipython",
    "version": 3
   },
   "file_extension": ".py",
   "mimetype": "text/x-python",
   "name": "python",
   "nbconvert_exporter": "python",
   "pygments_lexer": "ipython3",
   "version": "3.12.2"
  }
 },
 "nbformat": 4,
 "nbformat_minor": 2
}
