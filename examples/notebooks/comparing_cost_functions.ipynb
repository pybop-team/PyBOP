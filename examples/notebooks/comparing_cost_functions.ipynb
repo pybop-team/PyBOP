{
 "cells": [
  {
   "cell_type": "markdown",
   "metadata": {},
   "source": [
    "## Investigating different cost functions\n",
    "\n",
    "In this notebook, we take a look at the different fitting cost functions offered in PyBOP. Cost functions for fitting problems conventionally describe the distance between two points (the target and the prediction) which is to be minimised via PyBOP's optimisation algorithms. \n",
    "\n",
    "First, we install and import the required packages below."
   ]
  },
  {
   "cell_type": "code",
   "execution_count": null,
   "metadata": {},
   "outputs": [
    {
     "name": "stdout",
     "output_type": "stream",
     "text": [
      "/Users/engs2510/Documents/Git/Second_PyBOP/.nox/notebooks-overwrite/bin/python3: No module named pip\r\n"
     ]
    },
    {
     "name": "stdout",
     "output_type": "stream",
     "text": [
      "Note: you may need to restart the kernel to use updated packages.\n"
     ]
    },
    {
     "name": "stdout",
     "output_type": "stream",
     "text": [
      "/Users/engs2510/Documents/Git/Second_PyBOP/.nox/notebooks-overwrite/bin/python3: No module named pip\r\n"
     ]
    },
    {
     "name": "stdout",
     "output_type": "stream",
     "text": [
      "Note: you may need to restart the kernel to use updated packages.\n"
     ]
    }
   ],
   "source": [
    "%pip install --upgrade pip ipywidgets -q\n",
    "%pip install pybop -q\n",
    "\n",
    "import numpy as np\n",
    "\n",
    "import pybop\n",
    "\n",
    "go = pybop.plot.PlotlyManager().go\n",
    "pybop.plot.PlotlyManager().pio.renderers.default = \"notebook_connected\""
   ]
  },
  {
   "cell_type": "markdown",
   "metadata": {},
   "source": [
    "Let's fix the random seed in order to generate consistent output during development, although this does not need to be done in practice."
   ]
  },
  {
   "cell_type": "code",
   "execution_count": null,
   "metadata": {},
   "outputs": [],
   "source": [
    "np.random.seed(8)"
   ]
  },
  {
   "cell_type": "markdown",
   "metadata": {},
   "source": [
    "For this notebook, we need to construct parameters, a model and a problem class before we can compare differing cost functions. We start with two parameters, but this is an arbitrary selection and can be expanded given the model and data in question."
   ]
  },
  {
   "cell_type": "code",
   "execution_count": null,
   "metadata": {},
   "outputs": [],
   "source": [
    "parameters = pybop.Parameters(\n",
    "    pybop.Parameter(\n",
    "        \"Positive electrode thickness [m]\",\n",
    "        prior=pybop.Gaussian(7.56e-05, 0.5e-05),\n",
    "        bounds=[65e-06, 10e-05],\n",
    "    ),\n",
    "    pybop.Parameter(\n",
    "        \"Positive particle radius [m]\",\n",
    "        prior=pybop.Gaussian(5.22e-06, 0.5e-06),\n",
    "        bounds=[2e-06, 9e-06],\n",
    "    ),\n",
    ")"
   ]
  },
  {
   "cell_type": "markdown",
   "metadata": {},
   "source": [
    "Next, we will construct the Single Particle Model (SPM) with the Chen2020 parameter set, but like the above, this is an arbitrary selection and can be replaced with any PyBOP model."
   ]
  },
  {
   "cell_type": "code",
   "execution_count": null,
   "metadata": {},
   "outputs": [],
   "source": [
    "parameter_set = pybop.ParameterSet.pybamm(\"Chen2020\")\n",
    "model = pybop.lithium_ion.SPM(parameter_set=parameter_set)"
   ]
  },
  {
   "cell_type": "markdown",
   "metadata": {},
   "source": [
    "Next, as we will need reference data to compare our model predictions to (via the cost function), we will create synthetic data from the model constructed above. "
   ]
  },
  {
   "cell_type": "code",
   "execution_count": null,
   "metadata": {},
   "outputs": [],
   "source": [
    "t_eval = np.arange(0, 900, 10)\n",
    "values = model.predict(t_eval=t_eval)"
   ]
  },
  {
   "cell_type": "markdown",
   "metadata": {},
   "source": [
    "We can then construct the PyBOP dataset class with the synthetic data as,"
   ]
  },
  {
   "cell_type": "code",
   "execution_count": null,
   "metadata": {},
   "outputs": [],
   "source": [
    "dataset = pybop.Dataset(\n",
    "    {\n",
    "        \"Time [s]\": t_eval,\n",
    "        \"Current function [A]\": values[\"Current [A]\"].data,\n",
    "        \"Voltage [V]\": values[\"Voltage [V]\"].data,\n",
    "    }\n",
    ")"
   ]
  },
  {
   "cell_type": "markdown",
   "metadata": {},
   "source": [
    "Now, we can put this all together and construct the problem class. In this situation, we are going to compare differing fitting cost functions, so we construct the `FittingProblem`."
   ]
  },
  {
   "cell_type": "code",
   "execution_count": null,
   "metadata": {},
   "outputs": [],
   "source": [
    "problem = pybop.FittingProblem(model, parameters, dataset)"
   ]
  },
  {
   "cell_type": "markdown",
   "metadata": {},
   "source": [
    "### Sum of Squared Errors and Root Mean Squared Error\n",
    "\n",
    "First, let's start with two commonly-used cost functions: the sum of squared errors (SSE) and the root mean squared error (RMSE). Constructing these classes is very concise in PyBOP, and only requires the problem class."
   ]
  },
  {
   "cell_type": "code",
   "execution_count": null,
   "metadata": {},
   "outputs": [],
   "source": [
    "cost_SSE = pybop.SumSquaredError(problem)\n",
    "cost_RMSE = pybop.RootMeanSquaredError(problem)"
   ]
  },
  {
   "cell_type": "markdown",
   "metadata": {},
   "source": [
    "Now, we can investigate how these functions differ when fitting the parameters. To acquire the cost value for each of these, we can simply use the call method of the constructed class, such as:"
   ]
  },
  {
   "cell_type": "code",
   "execution_count": null,
   "metadata": {},
   "outputs": [
    {
     "data": {
      "text/plain": [
       "2.0269652551213878e-10"
      ]
     },
     "execution_count": null,
     "metadata": {},
     "output_type": "execute_result"
    }
   ],
   "source": [
    "cost_SSE([7.56e-05, 5.22e-06])"
   ]
  },
  {
   "cell_type": "markdown",
   "metadata": {},
   "source": [
    "Alternatively, we can use the `Parameters` class for this,"
   ]
  },
  {
   "cell_type": "code",
   "execution_count": null,
   "metadata": {},
   "outputs": [
    {
     "name": "stdout",
     "output_type": "stream",
     "text": [
      "[7.56e-05 5.22e-06]\n"
     ]
    },
    {
     "data": {
      "text/plain": [
       "2.0269652551213878e-10"
      ]
     },
     "execution_count": null,
     "metadata": {},
     "output_type": "execute_result"
    }
   ],
   "source": [
    "print(parameters.current_value())\n",
    "cost_SSE(parameters.current_value())"
   ]
  },
  {
   "cell_type": "markdown",
   "metadata": {},
   "source": [
    "If we want to generate a random sample of candidate solutions from the parameter class prior, we can also do that as:"
   ]
  },
  {
   "cell_type": "code",
   "execution_count": null,
   "metadata": {},
   "outputs": [
    {
     "name": "stdout",
     "output_type": "stream",
     "text": [
      "[8.19241247e-05 5.09035035e-06]\n"
     ]
    },
    {
     "data": {
      "text/plain": [
       "0.030472774516224807"
      ]
     },
     "execution_count": null,
     "metadata": {},
     "output_type": "execute_result"
    }
   ],
   "source": [
    "sample = parameters.rvs()\n",
    "print(sample)\n",
    "cost_SSE(sample)"
   ]
  },
  {
   "cell_type": "markdown",
   "metadata": {},
   "source": [
    "#### Comparing RMSE and SSE\n",
    "\n",
    "Now, let's vary one of the parameters, and keep a fixed value for the other, to create a scatter plot comparing the cost values for the RMSE and SSE functions."
   ]
  },
  {
   "cell_type": "code",
   "execution_count": null,
   "metadata": {},
   "outputs": [
    {
     "data": {
      "text/html": [
       "        <script type=\"text/javascript\">\n",
       "        window.PlotlyConfig = {MathJaxConfig: 'local'};\n",
       "        if (window.MathJax && window.MathJax.Hub && window.MathJax.Hub.Config) {window.MathJax.Hub.Config({SVG: {font: \"STIX-Web\"}});}\n",
       "        if (typeof require !== 'undefined') {\n",
       "        require.undef(\"plotly\");\n",
       "        requirejs.config({\n",
       "            paths: {\n",
       "                'plotly': ['https://cdn.plot.ly/plotly-2.35.2.min']\n",
       "            }\n",
       "        });\n",
       "        require(['plotly'], function(Plotly) {\n",
       "            window._Plotly = Plotly;\n",
       "        });\n",
       "        }\n",
       "        </script>\n",
       "        "
      ]
     },
     "metadata": {},
     "output_type": "display_data"
    },
    {
     "data": {
      "text/html": [
       "<div>                            <div id=\"e980e8a6-4312-47ab-b387-45b7dfe7d63b\" class=\"plotly-graph-div\" style=\"height:525px; width:100%;\"></div>            <script type=\"text/javascript\">                require([\"plotly\"], function(Plotly) {                    window.PLOTLYENV=window.PLOTLYENV || {};                                    if (document.getElementById(\"e980e8a6-4312-47ab-b387-45b7dfe7d63b\")) {                    Plotly.newPlot(                        \"e980e8a6-4312-47ab-b387-45b7dfe7d63b\",                        [{\"mode\":\"lines\",\"name\":\"SSE\",\"x\":[4.72e-06,4.733513513513514e-06,4.747027027027027e-06,4.7605405405405405e-06,4.7740540540540536e-06,4.7875675675675674e-06,4.8010810810810805e-06,4.814594594594594e-06,4.828108108108108e-06,4.841621621621621e-06,4.855135135135135e-06,4.868648648648648e-06,4.882162162162162e-06,4.895675675675675e-06,4.909189189189189e-06,4.922702702702703e-06,4.936216216216216e-06,4.94972972972973e-06,4.963243243243243e-06,4.976756756756757e-06,4.99027027027027e-06,5.003783783783784e-06,5.017297297297298e-06,5.030810810810811e-06,5.0443243243243245e-06,5.057837837837838e-06,5.0713513513513515e-06,5.0848648648648645e-06,5.098378378378378e-06,5.1118918918918914e-06,5.125405405405405e-06,5.138918918918919e-06,5.152432432432432e-06,5.165945945945946e-06,5.179459459459459e-06,5.192972972972973e-06,5.206486486486487e-06,5.22e-06,5.233513513513514e-06,5.247027027027027e-06,5.260540540540541e-06,5.274054054054054e-06,5.287567567567568e-06,5.301081081081081e-06,5.314594594594595e-06,5.3281081081081086e-06,5.341621621621622e-06,5.3551351351351355e-06,5.3686486486486485e-06,5.382162162162162e-06,5.3956756756756755e-06,5.409189189189189e-06,5.422702702702702e-06,5.436216216216216e-06,5.44972972972973e-06,5.463243243243243e-06,5.476756756756757e-06,5.49027027027027e-06,5.503783783783784e-06,5.517297297297298e-06,5.530810810810811e-06,5.544324324324325e-06,5.557837837837838e-06,5.571351351351352e-06,5.584864864864865e-06,5.598378378378379e-06,5.611891891891892e-06,5.625405405405406e-06,5.6389189189189195e-06,5.6524324324324325e-06,5.6659459459459464e-06,5.6794594594594595e-06,5.692972972972973e-06,5.706486486486487e-06,5.72e-06],\"y\":[0.015143741552824526,0.014340458356152469,0.01355873826146157,0.012798618530813216,0.012060135180898728,0.011343323014354948,0.010648215602735055,0.009974845350605985,0.009323243503126352,0.008693559395392682,0.00808558049898175,0.007499456895648617,0.006935215488518418,0.006392882033977926,0.005872481266207667,0.005374036914877945,0.004897571733058024,0.004443107504793922,0.004010665074200657,0.003600264373489917,0.003211924439990445,0.0028456634393149243,0.0025019457112473746,0.0021798665165266053,0.0018799153278695724,0.0016021070513256863,0.0013464558145258045,0.0011129750128532265,0.0009016773148066044,0.0007125747016512165,0.0005456784705499993,0.0004009992653489331,0.00027854709347219946,0.00017833134873801855,0.00010036083215855073,4.46437726065314e-05,1.1187847526511543e-05,2.0269652551213878e-10,1.1087470608335684e-05,4.445579054355208e-05,0.00010011083737232372,0.00017805783732190782,0.00027830158555572224,0.0004008464635438582,0.0005456964642875055,0.0007128552076339416,0.0009023259614108618,0.001114111660491411,0.0013482149262682814,0.001604638085493006,0.001883383189530844,0.0021844520328705972,0.002507846171094289,0.002853566940728412,0.0032216154034568206,0.00361199255534503,0.0040246991908863,0.004460197104255383,0.004917586473271046,0.005397306799770686,0.005899358283012888,0.006423741218539732,0.0069704557944259525,0.0075395021626017975,0.008130880502427922,0.008744590935676418,0.009380633589859726,0.010039008603634837,0.010719716203447322,0.011422756652173594,0.012148130288640159,0.012895837543610948,0.013665878955559256,0.014458255188309323,0.015272967040401838],\"type\":\"scatter\"},{\"mode\":\"lines\",\"name\":\"RMSE\",\"x\":[4.72e-06,4.733513513513514e-06,4.747027027027027e-06,4.7605405405405405e-06,4.7740540540540536e-06,4.7875675675675674e-06,4.8010810810810805e-06,4.814594594594594e-06,4.828108108108108e-06,4.841621621621621e-06,4.855135135135135e-06,4.868648648648648e-06,4.882162162162162e-06,4.895675675675675e-06,4.909189189189189e-06,4.922702702702703e-06,4.936216216216216e-06,4.94972972972973e-06,4.963243243243243e-06,4.976756756756757e-06,4.99027027027027e-06,5.003783783783784e-06,5.017297297297298e-06,5.030810810810811e-06,5.0443243243243245e-06,5.057837837837838e-06,5.0713513513513515e-06,5.0848648648648645e-06,5.098378378378378e-06,5.1118918918918914e-06,5.125405405405405e-06,5.138918918918919e-06,5.152432432432432e-06,5.165945945945946e-06,5.179459459459459e-06,5.192972972972973e-06,5.206486486486487e-06,5.22e-06,5.233513513513514e-06,5.247027027027027e-06,5.260540540540541e-06,5.274054054054054e-06,5.287567567567568e-06,5.301081081081081e-06,5.314594594594595e-06,5.3281081081081086e-06,5.341621621621622e-06,5.3551351351351355e-06,5.3686486486486485e-06,5.382162162162162e-06,5.3956756756756755e-06,5.409189189189189e-06,5.422702702702702e-06,5.436216216216216e-06,5.44972972972973e-06,5.463243243243243e-06,5.476756756756757e-06,5.49027027027027e-06,5.503783783783784e-06,5.517297297297298e-06,5.530810810810811e-06,5.544324324324325e-06,5.557837837837838e-06,5.571351351351352e-06,5.584864864864865e-06,5.598378378378379e-06,5.611891891891892e-06,5.625405405405406e-06,5.6389189189189195e-06,5.6524324324324325e-06,5.6659459459459464e-06,5.6794594594594595e-06,5.692972972972973e-06,5.706486486486487e-06,5.72e-06],\"y\":[0.012971653519555,0.01262293255069803,0.012274064011140442,0.011925052308673169,0.01157590177955851,0.011226616693453182,0.010877201234557361,0.010527659521789882,0.010177995602238275,0.009828280846274797,0.009478385058754443,0.009128378762986349,0.008778265766791688,0.008428049750669174,0.008077734326328878,0.007727323034299887,0.007376819348516318,0.007026226666168471,0.0066755483122284565,0.006324787544512567,0.005973947550257465,0.00562303144745383,0.005272513327781875,0.00492145700707807,0.004570333476611931,0.004219145584022231,0.0038678960897880685,0.003516587697143712,0.0031652230302436028,0.0028138046636206854,0.002462335094422003,0.00211081675963735,0.001759252030053301,0.0014076432184408193,0.0010559925934007445,0.0007043024335115908,0.0003525754060640636,1.5007276957534776e-06,0.00035099019625966263,0.0007028180619916436,0.0010546765558550467,0.0014065633347588244,0.0017584765678018074,0.0021104145552312127,0.0024623756918145025,0.002814358438108925,0.003166361321087068,0.0035183829311069264,0.003870421921112135,0.0042224770053883535,0.004574546959391284,0.004926630618802038,0.0052787268783867965,0.005630834693136249,0.005982953008763798,0.006335080947781549,0.006687217650019825,0.007039726244878958,0.007391877278676346,0.00774403483676356,0.00809619820451611,0.008448366849765654,0.008800540257674811,0.009152717970697615,0.009504899615127115,0.009857084838202204,0.0102092733389577,0.010561464862432061,0.010913659231260675,0.011265856308221066,0.011618056009046225,0.01197025830205428,0.012322463207744381,0.012674670799279308,0.01302688119936014],\"type\":\"scatter\"}],                        {\"template\":{\"data\":{\"histogram2dcontour\":[{\"type\":\"histogram2dcontour\",\"colorbar\":{\"outlinewidth\":0,\"ticks\":\"\"},\"colorscale\":[[0.0,\"#0d0887\"],[0.1111111111111111,\"#46039f\"],[0.2222222222222222,\"#7201a8\"],[0.3333333333333333,\"#9c179e\"],[0.4444444444444444,\"#bd3786\"],[0.5555555555555556,\"#d8576b\"],[0.6666666666666666,\"#ed7953\"],[0.7777777777777778,\"#fb9f3a\"],[0.8888888888888888,\"#fdca26\"],[1.0,\"#f0f921\"]]}],\"choropleth\":[{\"type\":\"choropleth\",\"colorbar\":{\"outlinewidth\":0,\"ticks\":\"\"}}],\"histogram2d\":[{\"type\":\"histogram2d\",\"colorbar\":{\"outlinewidth\":0,\"ticks\":\"\"},\"colorscale\":[[0.0,\"#0d0887\"],[0.1111111111111111,\"#46039f\"],[0.2222222222222222,\"#7201a8\"],[0.3333333333333333,\"#9c179e\"],[0.4444444444444444,\"#bd3786\"],[0.5555555555555556,\"#d8576b\"],[0.6666666666666666,\"#ed7953\"],[0.7777777777777778,\"#fb9f3a\"],[0.8888888888888888,\"#fdca26\"],[1.0,\"#f0f921\"]]}],\"heatmap\":[{\"type\":\"heatmap\",\"colorbar\":{\"outlinewidth\":0,\"ticks\":\"\"},\"colorscale\":[[0.0,\"#0d0887\"],[0.1111111111111111,\"#46039f\"],[0.2222222222222222,\"#7201a8\"],[0.3333333333333333,\"#9c179e\"],[0.4444444444444444,\"#bd3786\"],[0.5555555555555556,\"#d8576b\"],[0.6666666666666666,\"#ed7953\"],[0.7777777777777778,\"#fb9f3a\"],[0.8888888888888888,\"#fdca26\"],[1.0,\"#f0f921\"]]}],\"heatmapgl\":[{\"type\":\"heatmapgl\",\"colorbar\":{\"outlinewidth\":0,\"ticks\":\"\"},\"colorscale\":[[0.0,\"#0d0887\"],[0.1111111111111111,\"#46039f\"],[0.2222222222222222,\"#7201a8\"],[0.3333333333333333,\"#9c179e\"],[0.4444444444444444,\"#bd3786\"],[0.5555555555555556,\"#d8576b\"],[0.6666666666666666,\"#ed7953\"],[0.7777777777777778,\"#fb9f3a\"],[0.8888888888888888,\"#fdca26\"],[1.0,\"#f0f921\"]]}],\"contourcarpet\":[{\"type\":\"contourcarpet\",\"colorbar\":{\"outlinewidth\":0,\"ticks\":\"\"}}],\"contour\":[{\"type\":\"contour\",\"colorbar\":{\"outlinewidth\":0,\"ticks\":\"\"},\"colorscale\":[[0.0,\"#0d0887\"],[0.1111111111111111,\"#46039f\"],[0.2222222222222222,\"#7201a8\"],[0.3333333333333333,\"#9c179e\"],[0.4444444444444444,\"#bd3786\"],[0.5555555555555556,\"#d8576b\"],[0.6666666666666666,\"#ed7953\"],[0.7777777777777778,\"#fb9f3a\"],[0.8888888888888888,\"#fdca26\"],[1.0,\"#f0f921\"]]}],\"surface\":[{\"type\":\"surface\",\"colorbar\":{\"outlinewidth\":0,\"ticks\":\"\"},\"colorscale\":[[0.0,\"#0d0887\"],[0.1111111111111111,\"#46039f\"],[0.2222222222222222,\"#7201a8\"],[0.3333333333333333,\"#9c179e\"],[0.4444444444444444,\"#bd3786\"],[0.5555555555555556,\"#d8576b\"],[0.6666666666666666,\"#ed7953\"],[0.7777777777777778,\"#fb9f3a\"],[0.8888888888888888,\"#fdca26\"],[1.0,\"#f0f921\"]]}],\"mesh3d\":[{\"type\":\"mesh3d\",\"colorbar\":{\"outlinewidth\":0,\"ticks\":\"\"}}],\"scatter\":[{\"fillpattern\":{\"fillmode\":\"overlay\",\"size\":10,\"solidity\":0.2},\"type\":\"scatter\"}],\"parcoords\":[{\"type\":\"parcoords\",\"line\":{\"colorbar\":{\"outlinewidth\":0,\"ticks\":\"\"}}}],\"scatterpolargl\":[{\"type\":\"scatterpolargl\",\"marker\":{\"colorbar\":{\"outlinewidth\":0,\"ticks\":\"\"}}}],\"bar\":[{\"error_x\":{\"color\":\"#2a3f5f\"},\"error_y\":{\"color\":\"#2a3f5f\"},\"marker\":{\"line\":{\"color\":\"#E5ECF6\",\"width\":0.5},\"pattern\":{\"fillmode\":\"overlay\",\"size\":10,\"solidity\":0.2}},\"type\":\"bar\"}],\"scattergeo\":[{\"type\":\"scattergeo\",\"marker\":{\"colorbar\":{\"outlinewidth\":0,\"ticks\":\"\"}}}],\"scatterpolar\":[{\"type\":\"scatterpolar\",\"marker\":{\"colorbar\":{\"outlinewidth\":0,\"ticks\":\"\"}}}],\"histogram\":[{\"marker\":{\"pattern\":{\"fillmode\":\"overlay\",\"size\":10,\"solidity\":0.2}},\"type\":\"histogram\"}],\"scattergl\":[{\"type\":\"scattergl\",\"marker\":{\"colorbar\":{\"outlinewidth\":0,\"ticks\":\"\"}}}],\"scatter3d\":[{\"type\":\"scatter3d\",\"line\":{\"colorbar\":{\"outlinewidth\":0,\"ticks\":\"\"}},\"marker\":{\"colorbar\":{\"outlinewidth\":0,\"ticks\":\"\"}}}],\"scattermapbox\":[{\"type\":\"scattermapbox\",\"marker\":{\"colorbar\":{\"outlinewidth\":0,\"ticks\":\"\"}}}],\"scatterternary\":[{\"type\":\"scatterternary\",\"marker\":{\"colorbar\":{\"outlinewidth\":0,\"ticks\":\"\"}}}],\"scattercarpet\":[{\"type\":\"scattercarpet\",\"marker\":{\"colorbar\":{\"outlinewidth\":0,\"ticks\":\"\"}}}],\"carpet\":[{\"aaxis\":{\"endlinecolor\":\"#2a3f5f\",\"gridcolor\":\"white\",\"linecolor\":\"white\",\"minorgridcolor\":\"white\",\"startlinecolor\":\"#2a3f5f\"},\"baxis\":{\"endlinecolor\":\"#2a3f5f\",\"gridcolor\":\"white\",\"linecolor\":\"white\",\"minorgridcolor\":\"white\",\"startlinecolor\":\"#2a3f5f\"},\"type\":\"carpet\"}],\"table\":[{\"cells\":{\"fill\":{\"color\":\"#EBF0F8\"},\"line\":{\"color\":\"white\"}},\"header\":{\"fill\":{\"color\":\"#C8D4E3\"},\"line\":{\"color\":\"white\"}},\"type\":\"table\"}],\"barpolar\":[{\"marker\":{\"line\":{\"color\":\"#E5ECF6\",\"width\":0.5},\"pattern\":{\"fillmode\":\"overlay\",\"size\":10,\"solidity\":0.2}},\"type\":\"barpolar\"}],\"pie\":[{\"automargin\":true,\"type\":\"pie\"}]},\"layout\":{\"autotypenumbers\":\"strict\",\"colorway\":[\"#636efa\",\"#EF553B\",\"#00cc96\",\"#ab63fa\",\"#FFA15A\",\"#19d3f3\",\"#FF6692\",\"#B6E880\",\"#FF97FF\",\"#FECB52\"],\"font\":{\"color\":\"#2a3f5f\"},\"hovermode\":\"closest\",\"hoverlabel\":{\"align\":\"left\"},\"paper_bgcolor\":\"white\",\"plot_bgcolor\":\"#E5ECF6\",\"polar\":{\"bgcolor\":\"#E5ECF6\",\"angularaxis\":{\"gridcolor\":\"white\",\"linecolor\":\"white\",\"ticks\":\"\"},\"radialaxis\":{\"gridcolor\":\"white\",\"linecolor\":\"white\",\"ticks\":\"\"}},\"ternary\":{\"bgcolor\":\"#E5ECF6\",\"aaxis\":{\"gridcolor\":\"white\",\"linecolor\":\"white\",\"ticks\":\"\"},\"baxis\":{\"gridcolor\":\"white\",\"linecolor\":\"white\",\"ticks\":\"\"},\"caxis\":{\"gridcolor\":\"white\",\"linecolor\":\"white\",\"ticks\":\"\"}},\"coloraxis\":{\"colorbar\":{\"outlinewidth\":0,\"ticks\":\"\"}},\"colorscale\":{\"sequential\":[[0.0,\"#0d0887\"],[0.1111111111111111,\"#46039f\"],[0.2222222222222222,\"#7201a8\"],[0.3333333333333333,\"#9c179e\"],[0.4444444444444444,\"#bd3786\"],[0.5555555555555556,\"#d8576b\"],[0.6666666666666666,\"#ed7953\"],[0.7777777777777778,\"#fb9f3a\"],[0.8888888888888888,\"#fdca26\"],[1.0,\"#f0f921\"]],\"sequentialminus\":[[0.0,\"#0d0887\"],[0.1111111111111111,\"#46039f\"],[0.2222222222222222,\"#7201a8\"],[0.3333333333333333,\"#9c179e\"],[0.4444444444444444,\"#bd3786\"],[0.5555555555555556,\"#d8576b\"],[0.6666666666666666,\"#ed7953\"],[0.7777777777777778,\"#fb9f3a\"],[0.8888888888888888,\"#fdca26\"],[1.0,\"#f0f921\"]],\"diverging\":[[0,\"#8e0152\"],[0.1,\"#c51b7d\"],[0.2,\"#de77ae\"],[0.3,\"#f1b6da\"],[0.4,\"#fde0ef\"],[0.5,\"#f7f7f7\"],[0.6,\"#e6f5d0\"],[0.7,\"#b8e186\"],[0.8,\"#7fbc41\"],[0.9,\"#4d9221\"],[1,\"#276419\"]]},\"xaxis\":{\"gridcolor\":\"white\",\"linecolor\":\"white\",\"ticks\":\"\",\"title\":{\"standoff\":15},\"zerolinecolor\":\"white\",\"automargin\":true,\"zerolinewidth\":2},\"yaxis\":{\"gridcolor\":\"white\",\"linecolor\":\"white\",\"ticks\":\"\",\"title\":{\"standoff\":15},\"zerolinecolor\":\"white\",\"automargin\":true,\"zerolinewidth\":2},\"scene\":{\"xaxis\":{\"backgroundcolor\":\"#E5ECF6\",\"gridcolor\":\"white\",\"linecolor\":\"white\",\"showbackground\":true,\"ticks\":\"\",\"zerolinecolor\":\"white\",\"gridwidth\":2},\"yaxis\":{\"backgroundcolor\":\"#E5ECF6\",\"gridcolor\":\"white\",\"linecolor\":\"white\",\"showbackground\":true,\"ticks\":\"\",\"zerolinecolor\":\"white\",\"gridwidth\":2},\"zaxis\":{\"backgroundcolor\":\"#E5ECF6\",\"gridcolor\":\"white\",\"linecolor\":\"white\",\"showbackground\":true,\"ticks\":\"\",\"zerolinecolor\":\"white\",\"gridwidth\":2}},\"shapedefaults\":{\"line\":{\"color\":\"#2a3f5f\"}},\"annotationdefaults\":{\"arrowcolor\":\"#2a3f5f\",\"arrowhead\":0,\"arrowwidth\":1},\"geo\":{\"bgcolor\":\"white\",\"landcolor\":\"#E5ECF6\",\"subunitcolor\":\"white\",\"showland\":true,\"showlakes\":true,\"lakecolor\":\"white\"},\"title\":{\"x\":0.05},\"mapbox\":{\"style\":\"light\"}}}},                        {\"responsive\": true}                    ).then(function(){\n",
       "                            \n",
       "var gd = document.getElementById('e980e8a6-4312-47ab-b387-45b7dfe7d63b');\n",
       "var x = new MutationObserver(function (mutations, observer) {{\n",
       "        var display = window.getComputedStyle(gd).display;\n",
       "        if (!display || display === 'none') {{\n",
       "            console.log([gd, 'removed!']);\n",
       "            Plotly.purge(gd);\n",
       "            observer.disconnect();\n",
       "        }}\n",
       "}});\n",
       "\n",
       "// Listen for the removal of the full notebook cells\n",
       "var notebookContainer = gd.closest('#notebook-container');\n",
       "if (notebookContainer) {{\n",
       "    x.observe(notebookContainer, {childList: true});\n",
       "}}\n",
       "\n",
       "// Listen for the clearing of the current output cell\n",
       "var outputEl = gd.closest('.output');\n",
       "if (outputEl) {{\n",
       "    x.observe(outputEl, {childList: true});\n",
       "}}\n",
       "\n",
       "                        })                };                });            </script>        </div>"
      ]
     },
     "metadata": {},
     "output_type": "display_data"
    }
   ],
   "source": [
    "x_range = np.linspace(4.72e-06, 5.72e-06, 75)\n",
    "y_SSE = []\n",
    "y_RMSE = []\n",
    "for i in x_range:\n",
    "    y_SSE.append(cost_SSE([7.56e-05, i]))\n",
    "    y_RMSE.append(cost_RMSE([7.56e-05, i]))\n",
    "\n",
    "fig = go.Figure()\n",
    "fig.add_trace(go.Scatter(x=x_range, y=y_SSE, mode=\"lines\", name=\"SSE\"))\n",
    "fig.add_trace(go.Scatter(x=x_range, y=y_RMSE, mode=\"lines\", name=\"RMSE\"))\n",
    "fig.show()"
   ]
  },
  {
   "cell_type": "markdown",
   "metadata": {},
   "source": [
    "In this situation, it's clear that the curvature of the SSE cost is greater than that of the RMSE. This can improve the rate of convergence for certain optimisation algorithms. However, with incorrect hyperparameter values, larger gradients can also result in the algorithm not converging due to sampling locations outside of the \"cost valley\", e.g. infeasible parameter values."
   ]
  },
  {
   "cell_type": "markdown",
   "metadata": {},
   "source": [
    "### Minkowski distance\n",
    "\n",
    "Next, let's investigate the Minkowski distance. The Minkowski cost takes a general form, which allows for hyperparameter calibration on the cost function itself, given by\n",
    "\n",
    "$\\mathcal{L_p} = \\displaystyle \\Big(\\sum_i  |\\hat{y_i}-y_i|^p\\Big)^{1/p}$\n",
    "\n",
    "where $p ≥ 0$ is the order of the Minkowski distance.\n",
    "\n",
    "For $p = 1$, it is the Manhattan distance.  \n",
    "For $p = 2$, it is the Euclidean distance.  \n",
    "For $p ≥ 1$, the Minkowski distance is a metric, but for $0<p<1$, note that the Minkowski distance is not a metric because the triangle inequality does not hold [[1]](https://en.wikipedia.org/wiki/Minkowski_distance), [[2]](https://docs.scipy.org/doc/scipy/reference/generated/scipy.spatial.distance.minkowski.html#scipy.spatial.distance.minkowski).\n",
    "\n",
    "The Minkowski distance is related to the previous two cost function as follows. The RMSE can be computed by dividing the Euclidean distance by the square root of the length of the target vector, while the SSE is the square of the Euclidean distance.\n",
    "\n",
    "PyBOP offers a Minkowski class, which we will construct below. This class has an optional argument of `p` which designates the order in the above equation. This value can be a float, with the only requirement that it is not negative. First, let's confirm the relationship between the SSE, RMSE and the Minkowski distance with a `p` value of 2."
   ]
  },
  {
   "cell_type": "code",
   "execution_count": null,
   "metadata": {},
   "outputs": [],
   "source": [
    "cost_minkowski = pybop.Minkowski(problem, p=2)"
   ]
  },
  {
   "cell_type": "code",
   "execution_count": null,
   "metadata": {},
   "outputs": [
    {
     "data": {
      "text/html": [
       "<div>                            <div id=\"0f3a3984-d910-4ab5-9552-850c5838c1aa\" class=\"plotly-graph-div\" style=\"height:525px; width:100%;\"></div>            <script type=\"text/javascript\">                require([\"plotly\"], function(Plotly) {                    window.PLOTLYENV=window.PLOTLYENV || {};                                    if (document.getElementById(\"0f3a3984-d910-4ab5-9552-850c5838c1aa\")) {                    Plotly.newPlot(                        \"0f3a3984-d910-4ab5-9552-850c5838c1aa\",                        [{\"mode\":\"lines\",\"name\":\"RMSE*N\",\"x\":[4.72e-06,4.733513513513514e-06,4.747027027027027e-06,4.7605405405405405e-06,4.7740540540540536e-06,4.7875675675675674e-06,4.8010810810810805e-06,4.814594594594594e-06,4.828108108108108e-06,4.841621621621621e-06,4.855135135135135e-06,4.868648648648648e-06,4.882162162162162e-06,4.895675675675675e-06,4.909189189189189e-06,4.922702702702703e-06,4.936216216216216e-06,4.94972972972973e-06,4.963243243243243e-06,4.976756756756757e-06,4.99027027027027e-06,5.003783783783784e-06,5.017297297297298e-06,5.030810810810811e-06,5.0443243243243245e-06,5.057837837837838e-06,5.0713513513513515e-06,5.0848648648648645e-06,5.098378378378378e-06,5.1118918918918914e-06,5.125405405405405e-06,5.138918918918919e-06,5.152432432432432e-06,5.165945945945946e-06,5.179459459459459e-06,5.192972972972973e-06,5.206486486486487e-06,5.22e-06,5.233513513513514e-06,5.247027027027027e-06,5.260540540540541e-06,5.274054054054054e-06,5.287567567567568e-06,5.301081081081081e-06,5.314594594594595e-06,5.3281081081081086e-06,5.341621621621622e-06,5.3551351351351355e-06,5.3686486486486485e-06,5.382162162162162e-06,5.3956756756756755e-06,5.409189189189189e-06,5.422702702702702e-06,5.436216216216216e-06,5.44972972972973e-06,5.463243243243243e-06,5.476756756756757e-06,5.49027027027027e-06,5.503783783783784e-06,5.517297297297298e-06,5.530810810810811e-06,5.544324324324325e-06,5.557837837837838e-06,5.571351351351352e-06,5.584864864864865e-06,5.598378378378379e-06,5.611891891891892e-06,5.625405405405406e-06,5.6389189189189195e-06,5.6524324324324325e-06,5.6659459459459464e-06,5.6794594594594595e-06,5.692972972972973e-06,5.706486486486487e-06,5.72e-06],\"y\":[0.12305991042099992,0.11975165283265392,0.11644199526571833,0.11313097953616956,0.10981864678140378,0.1065050375069412,0.10319019140758998,0.0998741475588452,0.09655694435475033,0.0932392588741067,0.08991985597731877,0.08659940470724159,0.0832779411880386,0.07995550033598643,0.07663211641477526,0.0733078230128132,0.06998265308673303,0.06665663886511172,0.06332981189140434,0.060002203071969934,0.05667384264359039,0.05334476018612254,0.05001945332815399,0.04668904064688634,0.04335799035782877,0.040026329476054716,0.036694084189768314,0.03336128014410158,0.030027942233969422,0.026694094883535885,0.023359761782817894,0.0200249660511306,0.016689730179730272,0.013354076109488763,0.010018025362243336,0.006681599554487787,0.00334482399036355,1.4237152998831572e-05,0.0033297853697101384,0.006667517569797029,0.010005540333851226,0.013343831433359304,0.016682373498867666,0.02002115040510555,0.02336014692349998,0.026699348449614677,0.030038741009084616,0.03337831122887153,0.03671804632967666,0.0400579341141428,0.04339796296522273,0.04673812183721761,0.0500784002449588,0.0534187882746175,0.05675927592435284,0.06009985486958375,0.06344051695002415,0.06678470711364529,0.07012550515519332,0.07346636509158927,0.07680728014330991,0.0801482452617631,0.08348925556277259,0.0868303067056762,0.09017139514517851,0.09351251753469382,0.09685367101901572,0.10019485317936663,0.10353606233311811,0.10687729717846346,0.11021855691597564,0.11355984124509398,0.11690115036029053,0.12024248495564836,0.12358384619521211],\"type\":\"scatter\"},{\"line\":{\"dash\":\"dash\"},\"mode\":\"lines\",\"name\":\"sqrt(SSE)\",\"x\":[4.72e-06,4.733513513513514e-06,4.747027027027027e-06,4.7605405405405405e-06,4.7740540540540536e-06,4.7875675675675674e-06,4.8010810810810805e-06,4.814594594594594e-06,4.828108108108108e-06,4.841621621621621e-06,4.855135135135135e-06,4.868648648648648e-06,4.882162162162162e-06,4.895675675675675e-06,4.909189189189189e-06,4.922702702702703e-06,4.936216216216216e-06,4.94972972972973e-06,4.963243243243243e-06,4.976756756756757e-06,4.99027027027027e-06,5.003783783783784e-06,5.017297297297298e-06,5.030810810810811e-06,5.0443243243243245e-06,5.057837837837838e-06,5.0713513513513515e-06,5.0848648648648645e-06,5.098378378378378e-06,5.1118918918918914e-06,5.125405405405405e-06,5.138918918918919e-06,5.152432432432432e-06,5.165945945945946e-06,5.179459459459459e-06,5.192972972972973e-06,5.206486486486487e-06,5.22e-06,5.233513513513514e-06,5.247027027027027e-06,5.260540540540541e-06,5.274054054054054e-06,5.287567567567568e-06,5.301081081081081e-06,5.314594594594595e-06,5.3281081081081086e-06,5.341621621621622e-06,5.3551351351351355e-06,5.3686486486486485e-06,5.382162162162162e-06,5.3956756756756755e-06,5.409189189189189e-06,5.422702702702702e-06,5.436216216216216e-06,5.44972972972973e-06,5.463243243243243e-06,5.476756756756757e-06,5.49027027027027e-06,5.503783783783784e-06,5.517297297297298e-06,5.530810810810811e-06,5.544324324324325e-06,5.557837837837838e-06,5.571351351351352e-06,5.584864864864865e-06,5.598378378378379e-06,5.611891891891892e-06,5.625405405405406e-06,5.6389189189189195e-06,5.6524324324324325e-06,5.6659459459459464e-06,5.6794594594594595e-06,5.692972972972973e-06,5.706486486486487e-06,5.72e-06],\"y\":[0.12305991042099992,0.11975165283265392,0.11644199526571833,0.11313097953616956,0.10981864678140378,0.10650503750694118,0.10319019140758998,0.0998741475588452,0.09655694435475033,0.09323925887410668,0.08991985597731877,0.08659940470724159,0.08327794118803862,0.07995550033598643,0.07663211641477526,0.0733078230128132,0.06998265308673303,0.06665663886511172,0.06332981189140433,0.06000220307196993,0.05667384264359039,0.05334476018612254,0.05001945332815398,0.046689040646886344,0.043357990357828766,0.04002632947605471,0.03669408418976831,0.033361280144101585,0.030027942233969422,0.02669409488353588,0.02335976178281789,0.0200249660511306,0.016689730179730272,0.013354076109488763,0.010018025362243336,0.006681599554487787,0.00334482399036355,1.423715299883157e-05,0.0033297853697101384,0.006667517569797029,0.010005540333851226,0.013343831433359304,0.016682373498867666,0.02002115040510555,0.02336014692349998,0.026699348449614677,0.030038741009084616,0.03337831122887153,0.03671804632967666,0.0400579341141428,0.04339796296522273,0.04673812183721761,0.0500784002449588,0.0534187882746175,0.05675927592435285,0.06009985486958375,0.06344051695002415,0.06678470711364529,0.07012550515519334,0.07346636509158927,0.0768072801433099,0.0801482452617631,0.08348925556277258,0.08683030670567621,0.09017139514517851,0.09351251753469382,0.09685367101901572,0.10019485317936663,0.10353606233311813,0.10687729717846346,0.11021855691597562,0.11355984124509398,0.11690115036029054,0.12024248495564836,0.1235838461952121],\"type\":\"scatter\"},{\"line\":{\"dash\":\"dot\"},\"mode\":\"lines\",\"name\":\"Minkowski\",\"x\":[4.72e-06,4.733513513513514e-06,4.747027027027027e-06,4.7605405405405405e-06,4.7740540540540536e-06,4.7875675675675674e-06,4.8010810810810805e-06,4.814594594594594e-06,4.828108108108108e-06,4.841621621621621e-06,4.855135135135135e-06,4.868648648648648e-06,4.882162162162162e-06,4.895675675675675e-06,4.909189189189189e-06,4.922702702702703e-06,4.936216216216216e-06,4.94972972972973e-06,4.963243243243243e-06,4.976756756756757e-06,4.99027027027027e-06,5.003783783783784e-06,5.017297297297298e-06,5.030810810810811e-06,5.0443243243243245e-06,5.057837837837838e-06,5.0713513513513515e-06,5.0848648648648645e-06,5.098378378378378e-06,5.1118918918918914e-06,5.125405405405405e-06,5.138918918918919e-06,5.152432432432432e-06,5.165945945945946e-06,5.179459459459459e-06,5.192972972972973e-06,5.206486486486487e-06,5.22e-06,5.233513513513514e-06,5.247027027027027e-06,5.260540540540541e-06,5.274054054054054e-06,5.287567567567568e-06,5.301081081081081e-06,5.314594594594595e-06,5.3281081081081086e-06,5.341621621621622e-06,5.3551351351351355e-06,5.3686486486486485e-06,5.382162162162162e-06,5.3956756756756755e-06,5.409189189189189e-06,5.422702702702702e-06,5.436216216216216e-06,5.44972972972973e-06,5.463243243243243e-06,5.476756756756757e-06,5.49027027027027e-06,5.503783783783784e-06,5.517297297297298e-06,5.530810810810811e-06,5.544324324324325e-06,5.557837837837838e-06,5.571351351351352e-06,5.584864864864865e-06,5.598378378378379e-06,5.611891891891892e-06,5.625405405405406e-06,5.6389189189189195e-06,5.6524324324324325e-06,5.6659459459459464e-06,5.6794594594594595e-06,5.692972972972973e-06,5.706486486486487e-06,5.72e-06],\"y\":[0.12305991042099992,0.11975165283265392,0.11644199526571833,0.11313097953616956,0.10981864678140378,0.10650503750694118,0.10319019140758998,0.0998741475588452,0.09655694435475033,0.09323925887410668,0.08991985597731877,0.08659940470724159,0.08327794118803862,0.07995550033598643,0.07663211641477526,0.0733078230128132,0.06998265308673303,0.06665663886511172,0.06332981189140433,0.06000220307196993,0.05667384264359039,0.05334476018612254,0.05001945332815398,0.046689040646886344,0.043357990357828766,0.04002632947605471,0.03669408418976831,0.033361280144101585,0.030027942233969422,0.02669409488353588,0.02335976178281789,0.0200249660511306,0.016689730179730272,0.013354076109488763,0.010018025362243336,0.006681599554487787,0.00334482399036355,1.423715299883157e-05,0.0033297853697101384,0.006667517569797029,0.010005540333851226,0.013343831433359304,0.016682373498867666,0.02002115040510555,0.02336014692349998,0.026699348449614677,0.030038741009084616,0.03337831122887153,0.03671804632967666,0.0400579341141428,0.04339796296522273,0.04673812183721761,0.0500784002449588,0.0534187882746175,0.05675927592435285,0.06009985486958375,0.06344051695002415,0.06678470711364529,0.07012550515519334,0.07346636509158927,0.0768072801433099,0.0801482452617631,0.08348925556277258,0.08683030670567621,0.09017139514517851,0.09351251753469382,0.09685367101901572,0.10019485317936663,0.10353606233311813,0.10687729717846346,0.11021855691597562,0.11355984124509398,0.11690115036029053,0.12024248495564836,0.1235838461952121],\"type\":\"scatter\"}],                        {\"template\":{\"data\":{\"histogram2dcontour\":[{\"type\":\"histogram2dcontour\",\"colorbar\":{\"outlinewidth\":0,\"ticks\":\"\"},\"colorscale\":[[0.0,\"#0d0887\"],[0.1111111111111111,\"#46039f\"],[0.2222222222222222,\"#7201a8\"],[0.3333333333333333,\"#9c179e\"],[0.4444444444444444,\"#bd3786\"],[0.5555555555555556,\"#d8576b\"],[0.6666666666666666,\"#ed7953\"],[0.7777777777777778,\"#fb9f3a\"],[0.8888888888888888,\"#fdca26\"],[1.0,\"#f0f921\"]]}],\"choropleth\":[{\"type\":\"choropleth\",\"colorbar\":{\"outlinewidth\":0,\"ticks\":\"\"}}],\"histogram2d\":[{\"type\":\"histogram2d\",\"colorbar\":{\"outlinewidth\":0,\"ticks\":\"\"},\"colorscale\":[[0.0,\"#0d0887\"],[0.1111111111111111,\"#46039f\"],[0.2222222222222222,\"#7201a8\"],[0.3333333333333333,\"#9c179e\"],[0.4444444444444444,\"#bd3786\"],[0.5555555555555556,\"#d8576b\"],[0.6666666666666666,\"#ed7953\"],[0.7777777777777778,\"#fb9f3a\"],[0.8888888888888888,\"#fdca26\"],[1.0,\"#f0f921\"]]}],\"heatmap\":[{\"type\":\"heatmap\",\"colorbar\":{\"outlinewidth\":0,\"ticks\":\"\"},\"colorscale\":[[0.0,\"#0d0887\"],[0.1111111111111111,\"#46039f\"],[0.2222222222222222,\"#7201a8\"],[0.3333333333333333,\"#9c179e\"],[0.4444444444444444,\"#bd3786\"],[0.5555555555555556,\"#d8576b\"],[0.6666666666666666,\"#ed7953\"],[0.7777777777777778,\"#fb9f3a\"],[0.8888888888888888,\"#fdca26\"],[1.0,\"#f0f921\"]]}],\"heatmapgl\":[{\"type\":\"heatmapgl\",\"colorbar\":{\"outlinewidth\":0,\"ticks\":\"\"},\"colorscale\":[[0.0,\"#0d0887\"],[0.1111111111111111,\"#46039f\"],[0.2222222222222222,\"#7201a8\"],[0.3333333333333333,\"#9c179e\"],[0.4444444444444444,\"#bd3786\"],[0.5555555555555556,\"#d8576b\"],[0.6666666666666666,\"#ed7953\"],[0.7777777777777778,\"#fb9f3a\"],[0.8888888888888888,\"#fdca26\"],[1.0,\"#f0f921\"]]}],\"contourcarpet\":[{\"type\":\"contourcarpet\",\"colorbar\":{\"outlinewidth\":0,\"ticks\":\"\"}}],\"contour\":[{\"type\":\"contour\",\"colorbar\":{\"outlinewidth\":0,\"ticks\":\"\"},\"colorscale\":[[0.0,\"#0d0887\"],[0.1111111111111111,\"#46039f\"],[0.2222222222222222,\"#7201a8\"],[0.3333333333333333,\"#9c179e\"],[0.4444444444444444,\"#bd3786\"],[0.5555555555555556,\"#d8576b\"],[0.6666666666666666,\"#ed7953\"],[0.7777777777777778,\"#fb9f3a\"],[0.8888888888888888,\"#fdca26\"],[1.0,\"#f0f921\"]]}],\"surface\":[{\"type\":\"surface\",\"colorbar\":{\"outlinewidth\":0,\"ticks\":\"\"},\"colorscale\":[[0.0,\"#0d0887\"],[0.1111111111111111,\"#46039f\"],[0.2222222222222222,\"#7201a8\"],[0.3333333333333333,\"#9c179e\"],[0.4444444444444444,\"#bd3786\"],[0.5555555555555556,\"#d8576b\"],[0.6666666666666666,\"#ed7953\"],[0.7777777777777778,\"#fb9f3a\"],[0.8888888888888888,\"#fdca26\"],[1.0,\"#f0f921\"]]}],\"mesh3d\":[{\"type\":\"mesh3d\",\"colorbar\":{\"outlinewidth\":0,\"ticks\":\"\"}}],\"scatter\":[{\"fillpattern\":{\"fillmode\":\"overlay\",\"size\":10,\"solidity\":0.2},\"type\":\"scatter\"}],\"parcoords\":[{\"type\":\"parcoords\",\"line\":{\"colorbar\":{\"outlinewidth\":0,\"ticks\":\"\"}}}],\"scatterpolargl\":[{\"type\":\"scatterpolargl\",\"marker\":{\"colorbar\":{\"outlinewidth\":0,\"ticks\":\"\"}}}],\"bar\":[{\"error_x\":{\"color\":\"#2a3f5f\"},\"error_y\":{\"color\":\"#2a3f5f\"},\"marker\":{\"line\":{\"color\":\"#E5ECF6\",\"width\":0.5},\"pattern\":{\"fillmode\":\"overlay\",\"size\":10,\"solidity\":0.2}},\"type\":\"bar\"}],\"scattergeo\":[{\"type\":\"scattergeo\",\"marker\":{\"colorbar\":{\"outlinewidth\":0,\"ticks\":\"\"}}}],\"scatterpolar\":[{\"type\":\"scatterpolar\",\"marker\":{\"colorbar\":{\"outlinewidth\":0,\"ticks\":\"\"}}}],\"histogram\":[{\"marker\":{\"pattern\":{\"fillmode\":\"overlay\",\"size\":10,\"solidity\":0.2}},\"type\":\"histogram\"}],\"scattergl\":[{\"type\":\"scattergl\",\"marker\":{\"colorbar\":{\"outlinewidth\":0,\"ticks\":\"\"}}}],\"scatter3d\":[{\"type\":\"scatter3d\",\"line\":{\"colorbar\":{\"outlinewidth\":0,\"ticks\":\"\"}},\"marker\":{\"colorbar\":{\"outlinewidth\":0,\"ticks\":\"\"}}}],\"scattermapbox\":[{\"type\":\"scattermapbox\",\"marker\":{\"colorbar\":{\"outlinewidth\":0,\"ticks\":\"\"}}}],\"scatterternary\":[{\"type\":\"scatterternary\",\"marker\":{\"colorbar\":{\"outlinewidth\":0,\"ticks\":\"\"}}}],\"scattercarpet\":[{\"type\":\"scattercarpet\",\"marker\":{\"colorbar\":{\"outlinewidth\":0,\"ticks\":\"\"}}}],\"carpet\":[{\"aaxis\":{\"endlinecolor\":\"#2a3f5f\",\"gridcolor\":\"white\",\"linecolor\":\"white\",\"minorgridcolor\":\"white\",\"startlinecolor\":\"#2a3f5f\"},\"baxis\":{\"endlinecolor\":\"#2a3f5f\",\"gridcolor\":\"white\",\"linecolor\":\"white\",\"minorgridcolor\":\"white\",\"startlinecolor\":\"#2a3f5f\"},\"type\":\"carpet\"}],\"table\":[{\"cells\":{\"fill\":{\"color\":\"#EBF0F8\"},\"line\":{\"color\":\"white\"}},\"header\":{\"fill\":{\"color\":\"#C8D4E3\"},\"line\":{\"color\":\"white\"}},\"type\":\"table\"}],\"barpolar\":[{\"marker\":{\"line\":{\"color\":\"#E5ECF6\",\"width\":0.5},\"pattern\":{\"fillmode\":\"overlay\",\"size\":10,\"solidity\":0.2}},\"type\":\"barpolar\"}],\"pie\":[{\"automargin\":true,\"type\":\"pie\"}]},\"layout\":{\"autotypenumbers\":\"strict\",\"colorway\":[\"#636efa\",\"#EF553B\",\"#00cc96\",\"#ab63fa\",\"#FFA15A\",\"#19d3f3\",\"#FF6692\",\"#B6E880\",\"#FF97FF\",\"#FECB52\"],\"font\":{\"color\":\"#2a3f5f\"},\"hovermode\":\"closest\",\"hoverlabel\":{\"align\":\"left\"},\"paper_bgcolor\":\"white\",\"plot_bgcolor\":\"#E5ECF6\",\"polar\":{\"bgcolor\":\"#E5ECF6\",\"angularaxis\":{\"gridcolor\":\"white\",\"linecolor\":\"white\",\"ticks\":\"\"},\"radialaxis\":{\"gridcolor\":\"white\",\"linecolor\":\"white\",\"ticks\":\"\"}},\"ternary\":{\"bgcolor\":\"#E5ECF6\",\"aaxis\":{\"gridcolor\":\"white\",\"linecolor\":\"white\",\"ticks\":\"\"},\"baxis\":{\"gridcolor\":\"white\",\"linecolor\":\"white\",\"ticks\":\"\"},\"caxis\":{\"gridcolor\":\"white\",\"linecolor\":\"white\",\"ticks\":\"\"}},\"coloraxis\":{\"colorbar\":{\"outlinewidth\":0,\"ticks\":\"\"}},\"colorscale\":{\"sequential\":[[0.0,\"#0d0887\"],[0.1111111111111111,\"#46039f\"],[0.2222222222222222,\"#7201a8\"],[0.3333333333333333,\"#9c179e\"],[0.4444444444444444,\"#bd3786\"],[0.5555555555555556,\"#d8576b\"],[0.6666666666666666,\"#ed7953\"],[0.7777777777777778,\"#fb9f3a\"],[0.8888888888888888,\"#fdca26\"],[1.0,\"#f0f921\"]],\"sequentialminus\":[[0.0,\"#0d0887\"],[0.1111111111111111,\"#46039f\"],[0.2222222222222222,\"#7201a8\"],[0.3333333333333333,\"#9c179e\"],[0.4444444444444444,\"#bd3786\"],[0.5555555555555556,\"#d8576b\"],[0.6666666666666666,\"#ed7953\"],[0.7777777777777778,\"#fb9f3a\"],[0.8888888888888888,\"#fdca26\"],[1.0,\"#f0f921\"]],\"diverging\":[[0,\"#8e0152\"],[0.1,\"#c51b7d\"],[0.2,\"#de77ae\"],[0.3,\"#f1b6da\"],[0.4,\"#fde0ef\"],[0.5,\"#f7f7f7\"],[0.6,\"#e6f5d0\"],[0.7,\"#b8e186\"],[0.8,\"#7fbc41\"],[0.9,\"#4d9221\"],[1,\"#276419\"]]},\"xaxis\":{\"gridcolor\":\"white\",\"linecolor\":\"white\",\"ticks\":\"\",\"title\":{\"standoff\":15},\"zerolinecolor\":\"white\",\"automargin\":true,\"zerolinewidth\":2},\"yaxis\":{\"gridcolor\":\"white\",\"linecolor\":\"white\",\"ticks\":\"\",\"title\":{\"standoff\":15},\"zerolinecolor\":\"white\",\"automargin\":true,\"zerolinewidth\":2},\"scene\":{\"xaxis\":{\"backgroundcolor\":\"#E5ECF6\",\"gridcolor\":\"white\",\"linecolor\":\"white\",\"showbackground\":true,\"ticks\":\"\",\"zerolinecolor\":\"white\",\"gridwidth\":2},\"yaxis\":{\"backgroundcolor\":\"#E5ECF6\",\"gridcolor\":\"white\",\"linecolor\":\"white\",\"showbackground\":true,\"ticks\":\"\",\"zerolinecolor\":\"white\",\"gridwidth\":2},\"zaxis\":{\"backgroundcolor\":\"#E5ECF6\",\"gridcolor\":\"white\",\"linecolor\":\"white\",\"showbackground\":true,\"ticks\":\"\",\"zerolinecolor\":\"white\",\"gridwidth\":2}},\"shapedefaults\":{\"line\":{\"color\":\"#2a3f5f\"}},\"annotationdefaults\":{\"arrowcolor\":\"#2a3f5f\",\"arrowhead\":0,\"arrowwidth\":1},\"geo\":{\"bgcolor\":\"white\",\"landcolor\":\"#E5ECF6\",\"subunitcolor\":\"white\",\"showland\":true,\"showlakes\":true,\"lakecolor\":\"white\"},\"title\":{\"x\":0.05},\"mapbox\":{\"style\":\"light\"}}}},                        {\"responsive\": true}                    ).then(function(){\n",
       "                            \n",
       "var gd = document.getElementById('0f3a3984-d910-4ab5-9552-850c5838c1aa');\n",
       "var x = new MutationObserver(function (mutations, observer) {{\n",
       "        var display = window.getComputedStyle(gd).display;\n",
       "        if (!display || display === 'none') {{\n",
       "            console.log([gd, 'removed!']);\n",
       "            Plotly.purge(gd);\n",
       "            observer.disconnect();\n",
       "        }}\n",
       "}});\n",
       "\n",
       "// Listen for the removal of the full notebook cells\n",
       "var notebookContainer = gd.closest('#notebook-container');\n",
       "if (notebookContainer) {{\n",
       "    x.observe(notebookContainer, {childList: true});\n",
       "}}\n",
       "\n",
       "// Listen for the clearing of the current output cell\n",
       "var outputEl = gd.closest('.output');\n",
       "if (outputEl) {{\n",
       "    x.observe(outputEl, {childList: true});\n",
       "}}\n",
       "\n",
       "                        })                };                });            </script>        </div>"
      ]
     },
     "metadata": {},
     "output_type": "display_data"
    }
   ],
   "source": [
    "y_minkowski = []\n",
    "for i in x_range:\n",
    "    y_minkowski.append(cost_minkowski([7.56e-05, i]))\n",
    "\n",
    "fig = go.Figure()\n",
    "fig.add_trace(\n",
    "    go.Scatter(\n",
    "        x=x_range,\n",
    "        y=np.asarray(y_RMSE) * np.sqrt(len(t_eval)),\n",
    "        mode=\"lines\",\n",
    "        name=\"RMSE*N\",\n",
    "    )\n",
    ")\n",
    "fig.add_trace(\n",
    "    go.Scatter(\n",
    "        x=x_range,\n",
    "        y=np.sqrt(y_SSE),\n",
    "        mode=\"lines\",\n",
    "        line=dict(dash=\"dash\"),\n",
    "        name=\"sqrt(SSE)\",\n",
    "    )\n",
    ")\n",
    "fig.add_trace(\n",
    "    go.Scatter(\n",
    "        x=x_range, y=y_minkowski, mode=\"lines\", line=dict(dash=\"dot\"), name=\"Minkowski\"\n",
    "    )\n",
    ")\n",
    "fig.show()"
   ]
  },
  {
   "cell_type": "markdown",
   "metadata": {},
   "source": [
    "As expected, these lines lie on top of one another. Now, let's take a look at how the Minkowski cost changes for different orders, `p`."
   ]
  },
  {
   "cell_type": "code",
   "execution_count": null,
   "metadata": {},
   "outputs": [],
   "source": [
    "p_orders = np.append(0.75, np.linspace(1, 3, 5))\n",
    "y_minkowski = tuple(\n",
    "    [pybop.Minkowski(problem, p=j)([7.56e-05, i]) for i in x_range] for j in p_orders\n",
    ")"
   ]
  },
  {
   "cell_type": "code",
   "execution_count": null,
   "metadata": {},
   "outputs": [
    {
     "data": {
      "text/html": [
       "<div>                            <div id=\"35be3532-c500-4ec9-ade6-464ce2d8a9d5\" class=\"plotly-graph-div\" style=\"height:525px; width:100%;\"></div>            <script type=\"text/javascript\">                require([\"plotly\"], function(Plotly) {                    window.PLOTLYENV=window.PLOTLYENV || {};                                    if (document.getElementById(\"35be3532-c500-4ec9-ade6-464ce2d8a9d5\")) {                    Plotly.newPlot(                        \"35be3532-c500-4ec9-ade6-464ce2d8a9d5\",                        [{\"mode\":\"lines\",\"name\":\"Minkowski 0.75\",\"x\":[4.72e-06,4.733513513513514e-06,4.747027027027027e-06,4.7605405405405405e-06,4.7740540540540536e-06,4.7875675675675674e-06,4.8010810810810805e-06,4.814594594594594e-06,4.828108108108108e-06,4.841621621621621e-06,4.855135135135135e-06,4.868648648648648e-06,4.882162162162162e-06,4.895675675675675e-06,4.909189189189189e-06,4.922702702702703e-06,4.936216216216216e-06,4.94972972972973e-06,4.963243243243243e-06,4.976756756756757e-06,4.99027027027027e-06,5.003783783783784e-06,5.017297297297298e-06,5.030810810810811e-06,5.0443243243243245e-06,5.057837837837838e-06,5.0713513513513515e-06,5.0848648648648645e-06,5.098378378378378e-06,5.1118918918918914e-06,5.125405405405405e-06,5.138918918918919e-06,5.152432432432432e-06,5.165945945945946e-06,5.179459459459459e-06,5.192972972972973e-06,5.206486486486487e-06,5.22e-06,5.233513513513514e-06,5.247027027027027e-06,5.260540540540541e-06,5.274054054054054e-06,5.287567567567568e-06,5.301081081081081e-06,5.314594594594595e-06,5.3281081081081086e-06,5.341621621621622e-06,5.3551351351351355e-06,5.3686486486486485e-06,5.382162162162162e-06,5.3956756756756755e-06,5.409189189189189e-06,5.422702702702702e-06,5.436216216216216e-06,5.44972972972973e-06,5.463243243243243e-06,5.476756756756757e-06,5.49027027027027e-06,5.503783783783784e-06,5.517297297297298e-06,5.530810810810811e-06,5.544324324324325e-06,5.557837837837838e-06,5.571351351351352e-06,5.584864864864865e-06,5.598378378378379e-06,5.611891891891892e-06,5.625405405405406e-06,5.6389189189189195e-06,5.6524324324324325e-06,5.6659459459459464e-06,5.6794594594594595e-06,5.692972972972973e-06,5.706486486486487e-06,5.72e-06],\"y\":[4.687177829349646,4.5615883394733405,4.435924520229612,4.310187717128359,4.184379257325575,4.058500451118225,3.932552585938228,3.806536932661168,3.6804547434842667,3.554329270421729,3.4281179092967045,3.3018436499865507,3.175507687158349,3.0491111763899923,2.922655255210904,2.7961410423099347,2.669569638985962,2.542942125767996,2.4162595638477358,2.289522996687517,2.1627334477711915,2.0358919234280286,1.9091423260547138,1.7822007793726071,1.6552101540834137,1.5281713832896537,1.4010853659458926,1.2739530070146803,1.1467751784744942,1.0195527392274326,0.8922865266247292,0.7649773614806785,0.6376260448646879,0.5102333591484789,0.38280006694282104,0.25532690660252216,0.12781456118014933,0.00020779483844043632,0.1273240734309465,0.2549495617734584,0.38261136412487634,0.510308889047383,0.6380415212353053,0.7658086537395665,0.8936096984477089,1.0214440827363973,1.149311250596976,1.2772106621292585,1.4051417950770706,1.5331041439476711,1.6610972200735152,1.7891205513788158,1.9171736820670926,2.0452561730387493,2.1733675807113806,2.3015075137573415,2.429675583291197,2.557981586286943,2.6862046670955735,2.8144548195079926,2.942731692145739,3.0710349908134673,3.199364424301726,3.3277197172413135,3.4561006189032812,3.5845068827784696,3.7129382766726633,3.8413945809256305,3.969875598192493,4.098381141880318,4.226911040115866,4.3554651356404355,4.484043285694956,4.612645362183047,4.74127125069739],\"type\":\"scatter\"},{\"mode\":\"lines\",\"name\":\"Minkowski 1.0\",\"x\":[4.72e-06,4.733513513513514e-06,4.747027027027027e-06,4.7605405405405405e-06,4.7740540540540536e-06,4.7875675675675674e-06,4.8010810810810805e-06,4.814594594594594e-06,4.828108108108108e-06,4.841621621621621e-06,4.855135135135135e-06,4.868648648648648e-06,4.882162162162162e-06,4.895675675675675e-06,4.909189189189189e-06,4.922702702702703e-06,4.936216216216216e-06,4.94972972972973e-06,4.963243243243243e-06,4.976756756756757e-06,4.99027027027027e-06,5.003783783783784e-06,5.017297297297298e-06,5.030810810810811e-06,5.0443243243243245e-06,5.057837837837838e-06,5.0713513513513515e-06,5.0848648648648645e-06,5.098378378378378e-06,5.1118918918918914e-06,5.125405405405405e-06,5.138918918918919e-06,5.152432432432432e-06,5.165945945945946e-06,5.179459459459459e-06,5.192972972972973e-06,5.206486486486487e-06,5.22e-06,5.233513513513514e-06,5.247027027027027e-06,5.260540540540541e-06,5.274054054054054e-06,5.287567567567568e-06,5.301081081081081e-06,5.314594594594595e-06,5.3281081081081086e-06,5.341621621621622e-06,5.3551351351351355e-06,5.3686486486486485e-06,5.382162162162162e-06,5.3956756756756755e-06,5.409189189189189e-06,5.422702702702702e-06,5.436216216216216e-06,5.44972972972973e-06,5.463243243243243e-06,5.476756756756757e-06,5.49027027027027e-06,5.503783783783784e-06,5.517297297297298e-06,5.530810810810811e-06,5.544324324324325e-06,5.557837837837838e-06,5.571351351351352e-06,5.584864864864865e-06,5.598378378378379e-06,5.611891891891892e-06,5.625405405405406e-06,5.6389189189189195e-06,5.6524324324324325e-06,5.6659459459459464e-06,5.6794594594594595e-06,5.692972972972973e-06,5.706486486486487e-06,5.72e-06],\"y\":[1.0770396736029757,1.048164076723217,1.0192721591886698,0.9903642504347858,0.9614406752127107,0.9325017539506635,0.9035478013181328,0.8745791277404416,0.8455960388934085,0.8166040734859319,0.787593104329591,0.7585686070509614,0.729530872253648,0.7004801811420838,0.6714168103408773,0.6423410317073772,0.61325311267951,0.5841533154753966,0.555041897436864,0.525919111414638,0.4967852053357742,0.4676404226530928,0.438519496245787,0.40935390401608496,0.3801781347895856,0.3509924136305518,0.3217969580508684,0.2925919849500609,0.2633777040649634,0.23415432182124674,0.2049220392576654,0.17568105325427386,0.14643155585571144,0.11717373458713887,0.08790777247566384,0.05863384806765115,0.02935213561458827,6.941204691646163e-05,0.029233976425764308,0.058538048405669674,0.08784925661735032,0.1171674495303705,0.1464924793849116,0.1758242021545593,0.20516247893535455,0.23450717483290306,0.2638581592211593,0.29321530560685405,0.3225784918563388,0.35194760003177583,0.3813225163992957,0.41070313136912473,0.4400893394175043,0.4694810391830111,0.49887812836128775,0.5282805173766061,0.5576881174411201,0.5871274312066785,0.6165451592716744,0.6459678569568643,0.6753954450548609,0.7048278581092009,0.7342650315454837,0.7637069047349421,0.7931534230787816,0.8226045331487191,0.8520601850845613,0.8815203321650218,0.9109849331561626,0.940453949531717,0.9699273464251852,0.9994050926033862,1.028887160437503,1.0583735259408198,1.0878641685344057],\"type\":\"scatter\"},{\"mode\":\"lines\",\"name\":\"Minkowski 1.5\",\"x\":[4.72e-06,4.733513513513514e-06,4.747027027027027e-06,4.7605405405405405e-06,4.7740540540540536e-06,4.7875675675675674e-06,4.8010810810810805e-06,4.814594594594594e-06,4.828108108108108e-06,4.841621621621621e-06,4.855135135135135e-06,4.868648648648648e-06,4.882162162162162e-06,4.895675675675675e-06,4.909189189189189e-06,4.922702702702703e-06,4.936216216216216e-06,4.94972972972973e-06,4.963243243243243e-06,4.976756756756757e-06,4.99027027027027e-06,5.003783783783784e-06,5.017297297297298e-06,5.030810810810811e-06,5.0443243243243245e-06,5.057837837837838e-06,5.0713513513513515e-06,5.0848648648648645e-06,5.098378378378378e-06,5.1118918918918914e-06,5.125405405405405e-06,5.138918918918919e-06,5.152432432432432e-06,5.165945945945946e-06,5.179459459459459e-06,5.192972972972973e-06,5.206486486486487e-06,5.22e-06,5.233513513513514e-06,5.247027027027027e-06,5.260540540540541e-06,5.274054054054054e-06,5.287567567567568e-06,5.301081081081081e-06,5.314594594594595e-06,5.3281081081081086e-06,5.341621621621622e-06,5.3551351351351355e-06,5.3686486486486485e-06,5.382162162162162e-06,5.3956756756756755e-06,5.409189189189189e-06,5.422702702702702e-06,5.436216216216216e-06,5.44972972972973e-06,5.463243243243243e-06,5.476756756756757e-06,5.49027027027027e-06,5.503783783783784e-06,5.517297297297298e-06,5.530810810810811e-06,5.544324324324325e-06,5.557837837837838e-06,5.571351351351352e-06,5.584864864864865e-06,5.598378378378379e-06,5.611891891891892e-06,5.625405405405406e-06,5.6389189189189195e-06,5.6524324324324325e-06,5.6659459459459464e-06,5.6794594594594595e-06,5.692972972972973e-06,5.706486486486487e-06,5.72e-06],\"y\":[0.25175686275487674,0.24499797119402142,0.23823572663777487,0.2314702119417476,0.22470150869439823,0.21792969730802683,0.21115485666465386,0.2043770644925854,0.19759639724267278,0.1908142092983043,0.18402802906029744,0.17723919516717676,0.1704477798821773,0.1636538531120887,0.15685748353672285,0.15005873856348112,0.14325768441350678,0.13645438592780626,0.12964890665230855,0.12284130893309654,0.11603165383874749,0.10922000121102407,0.10241508602252,0.09559966880195186,0.08878242541731436,0.08196341085092577,0.07514267838437617,0.06832028053563918,0.06149626825352343,0.05467069160164221,0.04784359923655687,0.0410150387222629,0.03418505639465712,0.02735369747610277,0.020521006210622486,0.013687026383885251,0.0068518049657434335,2.3878819800240148e-05,0.006822288312465143,0.013661017377081437,0.020500848094012616,0.027341739386393928,0.034183655549261956,0.041026562594589144,0.04787042806823149,0.05471522063669267,0.06156091013061698,0.06840746750082581,0.07525486482939242,0.08210307530173155,0.0889520732057673,0.09580183391548859,0.1026523338704039,0.10950355059792613,0.11635546143174558,0.12320804694283753,0.1300612879720673,0.13692185835202256,0.1437763436933482,0.1506314334031317,0.15748711090263853,0.1643433630283502,0.17120017689613093,0.17805754065370072,0.18491544398642745,0.19177387692804806,0.19863283044551583,0.2054922963315921,0.2123522677905042,0.21921273874380398,0.2260737040677491,0.23293515958641303,0.23979710206415009,0.24665952921461531,0.25352243964240495],\"type\":\"scatter\"},{\"mode\":\"lines\",\"name\":\"Minkowski 2.0\",\"x\":[4.72e-06,4.733513513513514e-06,4.747027027027027e-06,4.7605405405405405e-06,4.7740540540540536e-06,4.7875675675675674e-06,4.8010810810810805e-06,4.814594594594594e-06,4.828108108108108e-06,4.841621621621621e-06,4.855135135135135e-06,4.868648648648648e-06,4.882162162162162e-06,4.895675675675675e-06,4.909189189189189e-06,4.922702702702703e-06,4.936216216216216e-06,4.94972972972973e-06,4.963243243243243e-06,4.976756756756757e-06,4.99027027027027e-06,5.003783783783784e-06,5.017297297297298e-06,5.030810810810811e-06,5.0443243243243245e-06,5.057837837837838e-06,5.0713513513513515e-06,5.0848648648648645e-06,5.098378378378378e-06,5.1118918918918914e-06,5.125405405405405e-06,5.138918918918919e-06,5.152432432432432e-06,5.165945945945946e-06,5.179459459459459e-06,5.192972972972973e-06,5.206486486486487e-06,5.22e-06,5.233513513513514e-06,5.247027027027027e-06,5.260540540540541e-06,5.274054054054054e-06,5.287567567567568e-06,5.301081081081081e-06,5.314594594594595e-06,5.3281081081081086e-06,5.341621621621622e-06,5.3551351351351355e-06,5.3686486486486485e-06,5.382162162162162e-06,5.3956756756756755e-06,5.409189189189189e-06,5.422702702702702e-06,5.436216216216216e-06,5.44972972972973e-06,5.463243243243243e-06,5.476756756756757e-06,5.49027027027027e-06,5.503783783783784e-06,5.517297297297298e-06,5.530810810810811e-06,5.544324324324325e-06,5.557837837837838e-06,5.571351351351352e-06,5.584864864864865e-06,5.598378378378379e-06,5.611891891891892e-06,5.625405405405406e-06,5.6389189189189195e-06,5.6524324324324325e-06,5.6659459459459464e-06,5.6794594594594595e-06,5.692972972972973e-06,5.706486486486487e-06,5.72e-06],\"y\":[0.12305991042099992,0.11975165283265392,0.11644199526571833,0.11313097953616956,0.10981864678140378,0.10650503750694118,0.10319019140758998,0.0998741475588452,0.09655694435475033,0.09323925887410668,0.08991985597731877,0.08659940470724159,0.08327794118803862,0.07995550033598643,0.07663211641477526,0.0733078230128132,0.06998265308673303,0.06665663886511172,0.06332981189140433,0.06000220307196993,0.05667384264359039,0.05334476018612254,0.05001945332815398,0.046689040646886344,0.043357990357828766,0.04002632947605471,0.03669408418976831,0.033361280144101585,0.030027942233969422,0.02669409488353588,0.02335976178281789,0.0200249660511306,0.016689730179730272,0.013354076109488763,0.010018025362243336,0.006681599554487787,0.00334482399036355,1.423715299883157e-05,0.0033297853697101384,0.006667517569797029,0.010005540333851226,0.013343831433359304,0.016682373498867666,0.02002115040510555,0.02336014692349998,0.026699348449614677,0.030038741009084616,0.03337831122887153,0.03671804632967666,0.0400579341141428,0.04339796296522273,0.04673812183721761,0.0500784002449588,0.0534187882746175,0.05675927592435285,0.06009985486958375,0.06344051695002415,0.06678470711364529,0.07012550515519334,0.07346636509158927,0.0768072801433099,0.0801482452617631,0.08348925556277258,0.08683030670567621,0.09017139514517851,0.09351251753469382,0.09685367101901572,0.10019485317936663,0.10353606233311813,0.10687729717846346,0.11021855691597562,0.11355984124509398,0.11690115036029053,0.12024248495564836,0.1235838461952121],\"type\":\"scatter\"},{\"mode\":\"lines\",\"name\":\"Minkowski 2.5\",\"x\":[4.72e-06,4.733513513513514e-06,4.747027027027027e-06,4.7605405405405405e-06,4.7740540540540536e-06,4.7875675675675674e-06,4.8010810810810805e-06,4.814594594594594e-06,4.828108108108108e-06,4.841621621621621e-06,4.855135135135135e-06,4.868648648648648e-06,4.882162162162162e-06,4.895675675675675e-06,4.909189189189189e-06,4.922702702702703e-06,4.936216216216216e-06,4.94972972972973e-06,4.963243243243243e-06,4.976756756756757e-06,4.99027027027027e-06,5.003783783783784e-06,5.017297297297298e-06,5.030810810810811e-06,5.0443243243243245e-06,5.057837837837838e-06,5.0713513513513515e-06,5.0848648648648645e-06,5.098378378378378e-06,5.1118918918918914e-06,5.125405405405405e-06,5.138918918918919e-06,5.152432432432432e-06,5.165945945945946e-06,5.179459459459459e-06,5.192972972972973e-06,5.206486486486487e-06,5.22e-06,5.233513513513514e-06,5.247027027027027e-06,5.260540540540541e-06,5.274054054054054e-06,5.287567567567568e-06,5.301081081081081e-06,5.314594594594595e-06,5.3281081081081086e-06,5.341621621621622e-06,5.3551351351351355e-06,5.3686486486486485e-06,5.382162162162162e-06,5.3956756756756755e-06,5.409189189189189e-06,5.422702702702702e-06,5.436216216216216e-06,5.44972972972973e-06,5.463243243243243e-06,5.476756756756757e-06,5.49027027027027e-06,5.503783783783784e-06,5.517297297297298e-06,5.530810810810811e-06,5.544324324324325e-06,5.557837837837838e-06,5.571351351351352e-06,5.584864864864865e-06,5.598378378378379e-06,5.611891891891892e-06,5.625405405405406e-06,5.6389189189189195e-06,5.6524324324324325e-06,5.6659459459459464e-06,5.6794594594594595e-06,5.692972972972973e-06,5.706486486486487e-06,5.72e-06],\"y\":[0.08050648663222902,0.07833958973364125,0.07617192105899727,0.07400350827960743,0.0718343785956664,0.0696645587678113,0.06749407499767128,0.06532295305630662,0.06315121824286882,0.06097931773943873,0.05880643560331153,0.056633013596718566,0.05445907543223434,0.05228464400657306,0.050109741765404295,0.04793439068826143,0.04575861231747792,0.04358242769488658,0.04140585739035669,0.039228921533708334,0.03705163979517786,0.03487403139019949,0.03269915835342591,0.03052097069499273,0.028342511034785852,0.026163796822784535,0.023984844962889117,0.021805671941408852,0.01962629375392646,0.01744672607015487,0.015266984059631908,0.013087082503539507,0.010907035762302673,0.008726857840981924,0.006546562518125157,0.004366163852944803,0.0021856797323690415,1.0516781891166415e-05,0.002175581426676346,0.00435627144356271,0.006537015040138287,0.008717796436406213,0.010898604492331189,0.013079429141296737,0.015260260991886685,0.017441091105447212,0.019621910987498013,0.02180271256379149,0.02398348816968525,0.026164230542476383,0.02834493281961002,0.030525588532349775,0.03270619159835526,0.034886736328666394,0.03706721697888218,0.039247628951207134,0.04142796777276037,0.04361058645776503,0.04579076092547918,0.047970851005554704,0.05015085318978316,0.052330765128749276,0.054510584596146536,0.05669030974163631,0.05886993925693471,0.06104947197965626,0.06322890708724056,0.06540824405981473,0.06758748288333669,0.06976662380888209,0.07194566743512687,0.07412461470605021,0.07630346690843164,0.07848222567500233,0.08066089296457535],\"type\":\"scatter\"},{\"mode\":\"lines\",\"name\":\"Minkowski 3.0\",\"x\":[4.72e-06,4.733513513513514e-06,4.747027027027027e-06,4.7605405405405405e-06,4.7740540540540536e-06,4.7875675675675674e-06,4.8010810810810805e-06,4.814594594594594e-06,4.828108108108108e-06,4.841621621621621e-06,4.855135135135135e-06,4.868648648648648e-06,4.882162162162162e-06,4.895675675675675e-06,4.909189189189189e-06,4.922702702702703e-06,4.936216216216216e-06,4.94972972972973e-06,4.963243243243243e-06,4.976756756756757e-06,4.99027027027027e-06,5.003783783783784e-06,5.017297297297298e-06,5.030810810810811e-06,5.0443243243243245e-06,5.057837837837838e-06,5.0713513513513515e-06,5.0848648648648645e-06,5.098378378378378e-06,5.1118918918918914e-06,5.125405405405405e-06,5.138918918918919e-06,5.152432432432432e-06,5.165945945945946e-06,5.179459459459459e-06,5.192972972972973e-06,5.206486486486487e-06,5.22e-06,5.233513513513514e-06,5.247027027027027e-06,5.260540540540541e-06,5.274054054054054e-06,5.287567567567568e-06,5.301081081081081e-06,5.314594594594595e-06,5.3281081081081086e-06,5.341621621621622e-06,5.3551351351351355e-06,5.3686486486486485e-06,5.382162162162162e-06,5.3956756756756755e-06,5.409189189189189e-06,5.422702702702702e-06,5.436216216216216e-06,5.44972972972973e-06,5.463243243243243e-06,5.476756756756757e-06,5.49027027027027e-06,5.503783783783784e-06,5.517297297297298e-06,5.530810810810811e-06,5.544324324324325e-06,5.557837837837838e-06,5.571351351351352e-06,5.584864864864865e-06,5.598378378378379e-06,5.611891891891892e-06,5.625405405405406e-06,5.6389189189189195e-06,5.6524324324324325e-06,5.6659459459459464e-06,5.6794594594594595e-06,5.692972972972973e-06,5.706486486486487e-06,5.72e-06],\"y\":[0.06082820115192493,0.05918926707067561,0.057549844875738755,0.055909955508649814,0.05426961954016155,0.05262885719461004,0.050987688258408236,0.04934613217875366,0.04770420803204156,0.04606225431416978,0.04441965318438008,0.04277673894830903,0.041133529427746084,0.039490041814451725,0.03784629294616976,0.03620229929505902,0.034558076989692633,0.032913641767290516,0.03126900899539914,0.029624193696143816,0.027979210532118128,0.026334073808859045,0.02469117382996431,0.023045785291672064,0.021400283767698446,0.019754682180490146,0.01810899303357491,0.016463228487600547,0.014817400328815738,0.013171520086951969,0.011525598903454063,0.0098796476189799,0.008233676752548923,0.006587696562009069,0.004941717173728876,0.0032957490949747006,0.0016498067981422441,8.627875440919356e-06,0.001642051409762329,0.0032878861516680577,0.004933676357086302,0.0065794092052316655,0.008225076477607278,0.009870670959281248,0.011516186008821509,0.013161615357983025,0.014806953094869358,0.016452193641844273,0.018097331744412477,0.019742362465017572,0.021387281181189707,0.023032083580484895,0.024676765654700533,0.02632132370509596,0.02796575399192492,0.02961005367356728,0.03125422001436733,0.032900096635674024,0.03454398398959554,0.03618773147768351,0.0378313371334011,0.03947479987974903,0.04111811874364639,0.04276129304948264,0.04440432254484706,0.046047207098745484,0.04768994684908186,0.04933254217389515,0.050974993849405584,0.05261730286292329,0.05425947047711352,0.05590149822831398,0.05754338792470146,0.05918514164881839,0.060826761742329524],\"type\":\"scatter\"}],                        {\"template\":{\"data\":{\"histogram2dcontour\":[{\"type\":\"histogram2dcontour\",\"colorbar\":{\"outlinewidth\":0,\"ticks\":\"\"},\"colorscale\":[[0.0,\"#0d0887\"],[0.1111111111111111,\"#46039f\"],[0.2222222222222222,\"#7201a8\"],[0.3333333333333333,\"#9c179e\"],[0.4444444444444444,\"#bd3786\"],[0.5555555555555556,\"#d8576b\"],[0.6666666666666666,\"#ed7953\"],[0.7777777777777778,\"#fb9f3a\"],[0.8888888888888888,\"#fdca26\"],[1.0,\"#f0f921\"]]}],\"choropleth\":[{\"type\":\"choropleth\",\"colorbar\":{\"outlinewidth\":0,\"ticks\":\"\"}}],\"histogram2d\":[{\"type\":\"histogram2d\",\"colorbar\":{\"outlinewidth\":0,\"ticks\":\"\"},\"colorscale\":[[0.0,\"#0d0887\"],[0.1111111111111111,\"#46039f\"],[0.2222222222222222,\"#7201a8\"],[0.3333333333333333,\"#9c179e\"],[0.4444444444444444,\"#bd3786\"],[0.5555555555555556,\"#d8576b\"],[0.6666666666666666,\"#ed7953\"],[0.7777777777777778,\"#fb9f3a\"],[0.8888888888888888,\"#fdca26\"],[1.0,\"#f0f921\"]]}],\"heatmap\":[{\"type\":\"heatmap\",\"colorbar\":{\"outlinewidth\":0,\"ticks\":\"\"},\"colorscale\":[[0.0,\"#0d0887\"],[0.1111111111111111,\"#46039f\"],[0.2222222222222222,\"#7201a8\"],[0.3333333333333333,\"#9c179e\"],[0.4444444444444444,\"#bd3786\"],[0.5555555555555556,\"#d8576b\"],[0.6666666666666666,\"#ed7953\"],[0.7777777777777778,\"#fb9f3a\"],[0.8888888888888888,\"#fdca26\"],[1.0,\"#f0f921\"]]}],\"heatmapgl\":[{\"type\":\"heatmapgl\",\"colorbar\":{\"outlinewidth\":0,\"ticks\":\"\"},\"colorscale\":[[0.0,\"#0d0887\"],[0.1111111111111111,\"#46039f\"],[0.2222222222222222,\"#7201a8\"],[0.3333333333333333,\"#9c179e\"],[0.4444444444444444,\"#bd3786\"],[0.5555555555555556,\"#d8576b\"],[0.6666666666666666,\"#ed7953\"],[0.7777777777777778,\"#fb9f3a\"],[0.8888888888888888,\"#fdca26\"],[1.0,\"#f0f921\"]]}],\"contourcarpet\":[{\"type\":\"contourcarpet\",\"colorbar\":{\"outlinewidth\":0,\"ticks\":\"\"}}],\"contour\":[{\"type\":\"contour\",\"colorbar\":{\"outlinewidth\":0,\"ticks\":\"\"},\"colorscale\":[[0.0,\"#0d0887\"],[0.1111111111111111,\"#46039f\"],[0.2222222222222222,\"#7201a8\"],[0.3333333333333333,\"#9c179e\"],[0.4444444444444444,\"#bd3786\"],[0.5555555555555556,\"#d8576b\"],[0.6666666666666666,\"#ed7953\"],[0.7777777777777778,\"#fb9f3a\"],[0.8888888888888888,\"#fdca26\"],[1.0,\"#f0f921\"]]}],\"surface\":[{\"type\":\"surface\",\"colorbar\":{\"outlinewidth\":0,\"ticks\":\"\"},\"colorscale\":[[0.0,\"#0d0887\"],[0.1111111111111111,\"#46039f\"],[0.2222222222222222,\"#7201a8\"],[0.3333333333333333,\"#9c179e\"],[0.4444444444444444,\"#bd3786\"],[0.5555555555555556,\"#d8576b\"],[0.6666666666666666,\"#ed7953\"],[0.7777777777777778,\"#fb9f3a\"],[0.8888888888888888,\"#fdca26\"],[1.0,\"#f0f921\"]]}],\"mesh3d\":[{\"type\":\"mesh3d\",\"colorbar\":{\"outlinewidth\":0,\"ticks\":\"\"}}],\"scatter\":[{\"fillpattern\":{\"fillmode\":\"overlay\",\"size\":10,\"solidity\":0.2},\"type\":\"scatter\"}],\"parcoords\":[{\"type\":\"parcoords\",\"line\":{\"colorbar\":{\"outlinewidth\":0,\"ticks\":\"\"}}}],\"scatterpolargl\":[{\"type\":\"scatterpolargl\",\"marker\":{\"colorbar\":{\"outlinewidth\":0,\"ticks\":\"\"}}}],\"bar\":[{\"error_x\":{\"color\":\"#2a3f5f\"},\"error_y\":{\"color\":\"#2a3f5f\"},\"marker\":{\"line\":{\"color\":\"#E5ECF6\",\"width\":0.5},\"pattern\":{\"fillmode\":\"overlay\",\"size\":10,\"solidity\":0.2}},\"type\":\"bar\"}],\"scattergeo\":[{\"type\":\"scattergeo\",\"marker\":{\"colorbar\":{\"outlinewidth\":0,\"ticks\":\"\"}}}],\"scatterpolar\":[{\"type\":\"scatterpolar\",\"marker\":{\"colorbar\":{\"outlinewidth\":0,\"ticks\":\"\"}}}],\"histogram\":[{\"marker\":{\"pattern\":{\"fillmode\":\"overlay\",\"size\":10,\"solidity\":0.2}},\"type\":\"histogram\"}],\"scattergl\":[{\"type\":\"scattergl\",\"marker\":{\"colorbar\":{\"outlinewidth\":0,\"ticks\":\"\"}}}],\"scatter3d\":[{\"type\":\"scatter3d\",\"line\":{\"colorbar\":{\"outlinewidth\":0,\"ticks\":\"\"}},\"marker\":{\"colorbar\":{\"outlinewidth\":0,\"ticks\":\"\"}}}],\"scattermapbox\":[{\"type\":\"scattermapbox\",\"marker\":{\"colorbar\":{\"outlinewidth\":0,\"ticks\":\"\"}}}],\"scatterternary\":[{\"type\":\"scatterternary\",\"marker\":{\"colorbar\":{\"outlinewidth\":0,\"ticks\":\"\"}}}],\"scattercarpet\":[{\"type\":\"scattercarpet\",\"marker\":{\"colorbar\":{\"outlinewidth\":0,\"ticks\":\"\"}}}],\"carpet\":[{\"aaxis\":{\"endlinecolor\":\"#2a3f5f\",\"gridcolor\":\"white\",\"linecolor\":\"white\",\"minorgridcolor\":\"white\",\"startlinecolor\":\"#2a3f5f\"},\"baxis\":{\"endlinecolor\":\"#2a3f5f\",\"gridcolor\":\"white\",\"linecolor\":\"white\",\"minorgridcolor\":\"white\",\"startlinecolor\":\"#2a3f5f\"},\"type\":\"carpet\"}],\"table\":[{\"cells\":{\"fill\":{\"color\":\"#EBF0F8\"},\"line\":{\"color\":\"white\"}},\"header\":{\"fill\":{\"color\":\"#C8D4E3\"},\"line\":{\"color\":\"white\"}},\"type\":\"table\"}],\"barpolar\":[{\"marker\":{\"line\":{\"color\":\"#E5ECF6\",\"width\":0.5},\"pattern\":{\"fillmode\":\"overlay\",\"size\":10,\"solidity\":0.2}},\"type\":\"barpolar\"}],\"pie\":[{\"automargin\":true,\"type\":\"pie\"}]},\"layout\":{\"autotypenumbers\":\"strict\",\"colorway\":[\"#636efa\",\"#EF553B\",\"#00cc96\",\"#ab63fa\",\"#FFA15A\",\"#19d3f3\",\"#FF6692\",\"#B6E880\",\"#FF97FF\",\"#FECB52\"],\"font\":{\"color\":\"#2a3f5f\"},\"hovermode\":\"closest\",\"hoverlabel\":{\"align\":\"left\"},\"paper_bgcolor\":\"white\",\"plot_bgcolor\":\"#E5ECF6\",\"polar\":{\"bgcolor\":\"#E5ECF6\",\"angularaxis\":{\"gridcolor\":\"white\",\"linecolor\":\"white\",\"ticks\":\"\"},\"radialaxis\":{\"gridcolor\":\"white\",\"linecolor\":\"white\",\"ticks\":\"\"}},\"ternary\":{\"bgcolor\":\"#E5ECF6\",\"aaxis\":{\"gridcolor\":\"white\",\"linecolor\":\"white\",\"ticks\":\"\"},\"baxis\":{\"gridcolor\":\"white\",\"linecolor\":\"white\",\"ticks\":\"\"},\"caxis\":{\"gridcolor\":\"white\",\"linecolor\":\"white\",\"ticks\":\"\"}},\"coloraxis\":{\"colorbar\":{\"outlinewidth\":0,\"ticks\":\"\"}},\"colorscale\":{\"sequential\":[[0.0,\"#0d0887\"],[0.1111111111111111,\"#46039f\"],[0.2222222222222222,\"#7201a8\"],[0.3333333333333333,\"#9c179e\"],[0.4444444444444444,\"#bd3786\"],[0.5555555555555556,\"#d8576b\"],[0.6666666666666666,\"#ed7953\"],[0.7777777777777778,\"#fb9f3a\"],[0.8888888888888888,\"#fdca26\"],[1.0,\"#f0f921\"]],\"sequentialminus\":[[0.0,\"#0d0887\"],[0.1111111111111111,\"#46039f\"],[0.2222222222222222,\"#7201a8\"],[0.3333333333333333,\"#9c179e\"],[0.4444444444444444,\"#bd3786\"],[0.5555555555555556,\"#d8576b\"],[0.6666666666666666,\"#ed7953\"],[0.7777777777777778,\"#fb9f3a\"],[0.8888888888888888,\"#fdca26\"],[1.0,\"#f0f921\"]],\"diverging\":[[0,\"#8e0152\"],[0.1,\"#c51b7d\"],[0.2,\"#de77ae\"],[0.3,\"#f1b6da\"],[0.4,\"#fde0ef\"],[0.5,\"#f7f7f7\"],[0.6,\"#e6f5d0\"],[0.7,\"#b8e186\"],[0.8,\"#7fbc41\"],[0.9,\"#4d9221\"],[1,\"#276419\"]]},\"xaxis\":{\"gridcolor\":\"white\",\"linecolor\":\"white\",\"ticks\":\"\",\"title\":{\"standoff\":15},\"zerolinecolor\":\"white\",\"automargin\":true,\"zerolinewidth\":2},\"yaxis\":{\"gridcolor\":\"white\",\"linecolor\":\"white\",\"ticks\":\"\",\"title\":{\"standoff\":15},\"zerolinecolor\":\"white\",\"automargin\":true,\"zerolinewidth\":2},\"scene\":{\"xaxis\":{\"backgroundcolor\":\"#E5ECF6\",\"gridcolor\":\"white\",\"linecolor\":\"white\",\"showbackground\":true,\"ticks\":\"\",\"zerolinecolor\":\"white\",\"gridwidth\":2},\"yaxis\":{\"backgroundcolor\":\"#E5ECF6\",\"gridcolor\":\"white\",\"linecolor\":\"white\",\"showbackground\":true,\"ticks\":\"\",\"zerolinecolor\":\"white\",\"gridwidth\":2},\"zaxis\":{\"backgroundcolor\":\"#E5ECF6\",\"gridcolor\":\"white\",\"linecolor\":\"white\",\"showbackground\":true,\"ticks\":\"\",\"zerolinecolor\":\"white\",\"gridwidth\":2}},\"shapedefaults\":{\"line\":{\"color\":\"#2a3f5f\"}},\"annotationdefaults\":{\"arrowcolor\":\"#2a3f5f\",\"arrowhead\":0,\"arrowwidth\":1},\"geo\":{\"bgcolor\":\"white\",\"landcolor\":\"#E5ECF6\",\"subunitcolor\":\"white\",\"showland\":true,\"showlakes\":true,\"lakecolor\":\"white\"},\"title\":{\"x\":0.05},\"mapbox\":{\"style\":\"light\"}}},\"yaxis\":{\"range\":[0,0.25352243964240495]}},                        {\"responsive\": true}                    ).then(function(){\n",
       "                            \n",
       "var gd = document.getElementById('35be3532-c500-4ec9-ade6-464ce2d8a9d5');\n",
       "var x = new MutationObserver(function (mutations, observer) {{\n",
       "        var display = window.getComputedStyle(gd).display;\n",
       "        if (!display || display === 'none') {{\n",
       "            console.log([gd, 'removed!']);\n",
       "            Plotly.purge(gd);\n",
       "            observer.disconnect();\n",
       "        }}\n",
       "}});\n",
       "\n",
       "// Listen for the removal of the full notebook cells\n",
       "var notebookContainer = gd.closest('#notebook-container');\n",
       "if (notebookContainer) {{\n",
       "    x.observe(notebookContainer, {childList: true});\n",
       "}}\n",
       "\n",
       "// Listen for the clearing of the current output cell\n",
       "var outputEl = gd.closest('.output');\n",
       "if (outputEl) {{\n",
       "    x.observe(outputEl, {childList: true});\n",
       "}}\n",
       "\n",
       "                        })                };                });            </script>        </div>"
      ]
     },
     "metadata": {},
     "output_type": "display_data"
    }
   ],
   "source": [
    "fig = go.Figure()\n",
    "for k, _ in enumerate(p_orders):\n",
    "    fig.add_trace(\n",
    "        go.Scatter(x=x_range, y=y_minkowski[k], mode=\"lines\", name=f\"Minkowski {_}\")\n",
    "    )\n",
    "fig.update_yaxes(range=[0, np.max(y_minkowski[2])])\n",
    "fig.show()"
   ]
  },
  {
   "cell_type": "markdown",
   "metadata": {},
   "source": [
    "As seen above, the Minkowski cost allows for a range of different cost functions to be created. This provides users with another hyperparameter to calibrate for optimisation algorithm convergence. This addition does expand the global search space, and should be carefully considered before deciding upon.\n",
    "\n",
    "### Sum of Power\n",
    "Next, we introduce a similar cost function, the `SumofPower` implementation. This cost function is the $p$-th power of the Minkowski distance of order $p$. It provides a generalised formulation for the Sum of Squared Errors (SSE) cost function, and is given by,\n",
    "\n",
    "$\\mathcal{L_p} = \\displaystyle \\sum_i  |\\hat{y_i}-y_i|^p$\n",
    "\n",
    "where $p ≥ 0$ is the power order. A few special cases include,\n",
    "\n",
    "$p = 1$: Sum of Absolute Differences\n",
    "$p = 2$: Sum of Squared Differences\n",
    "\n",
    "Next we repeat the above examples with the addition of the `SumofPower` class."
   ]
  },
  {
   "cell_type": "code",
   "execution_count": null,
   "metadata": {},
   "outputs": [],
   "source": [
    "cost_sumofpower = pybop.SumofPower(problem, p=2)"
   ]
  },
  {
   "cell_type": "code",
   "execution_count": null,
   "metadata": {},
   "outputs": [
    {
     "data": {
      "text/html": [
       "<div>                            <div id=\"448794cc-9ead-4220-91e2-eb6a5b63c4a4\" class=\"plotly-graph-div\" style=\"height:525px; width:100%;\"></div>            <script type=\"text/javascript\">                require([\"plotly\"], function(Plotly) {                    window.PLOTLYENV=window.PLOTLYENV || {};                                    if (document.getElementById(\"448794cc-9ead-4220-91e2-eb6a5b63c4a4\")) {                    Plotly.newPlot(                        \"448794cc-9ead-4220-91e2-eb6a5b63c4a4\",                        [{\"mode\":\"lines\",\"name\":\"RMSE*N\",\"x\":[4.72e-06,4.733513513513514e-06,4.747027027027027e-06,4.7605405405405405e-06,4.7740540540540536e-06,4.7875675675675674e-06,4.8010810810810805e-06,4.814594594594594e-06,4.828108108108108e-06,4.841621621621621e-06,4.855135135135135e-06,4.868648648648648e-06,4.882162162162162e-06,4.895675675675675e-06,4.909189189189189e-06,4.922702702702703e-06,4.936216216216216e-06,4.94972972972973e-06,4.963243243243243e-06,4.976756756756757e-06,4.99027027027027e-06,5.003783783783784e-06,5.017297297297298e-06,5.030810810810811e-06,5.0443243243243245e-06,5.057837837837838e-06,5.0713513513513515e-06,5.0848648648648645e-06,5.098378378378378e-06,5.1118918918918914e-06,5.125405405405405e-06,5.138918918918919e-06,5.152432432432432e-06,5.165945945945946e-06,5.179459459459459e-06,5.192972972972973e-06,5.206486486486487e-06,5.22e-06,5.233513513513514e-06,5.247027027027027e-06,5.260540540540541e-06,5.274054054054054e-06,5.287567567567568e-06,5.301081081081081e-06,5.314594594594595e-06,5.3281081081081086e-06,5.341621621621622e-06,5.3551351351351355e-06,5.3686486486486485e-06,5.382162162162162e-06,5.3956756756756755e-06,5.409189189189189e-06,5.422702702702702e-06,5.436216216216216e-06,5.44972972972973e-06,5.463243243243243e-06,5.476756756756757e-06,5.49027027027027e-06,5.503783783783784e-06,5.517297297297298e-06,5.530810810810811e-06,5.544324324324325e-06,5.557837837837838e-06,5.571351351351352e-06,5.584864864864865e-06,5.598378378378379e-06,5.611891891891892e-06,5.625405405405406e-06,5.6389189189189195e-06,5.6524324324324325e-06,5.6659459459459464e-06,5.6794594594594595e-06,5.692972972972973e-06,5.706486486486487e-06,5.72e-06],\"y\":[0.12305991042099992,0.11975165283265392,0.11644199526571833,0.11313097953616956,0.10981864678140378,0.1065050375069412,0.10319019140758998,0.0998741475588452,0.09655694435475033,0.0932392588741067,0.08991985597731877,0.08659940470724159,0.0832779411880386,0.07995550033598643,0.07663211641477526,0.0733078230128132,0.06998265308673303,0.06665663886511172,0.06332981189140434,0.060002203071969934,0.05667384264359039,0.05334476018612254,0.05001945332815399,0.04668904064688634,0.04335799035782877,0.040026329476054716,0.036694084189768314,0.03336128014410158,0.030027942233969422,0.026694094883535885,0.023359761782817894,0.0200249660511306,0.016689730179730272,0.013354076109488763,0.010018025362243336,0.006681599554487787,0.00334482399036355,1.4237152998831572e-05,0.0033297853697101384,0.006667517569797029,0.010005540333851226,0.013343831433359304,0.016682373498867666,0.02002115040510555,0.02336014692349998,0.026699348449614677,0.030038741009084616,0.03337831122887153,0.03671804632967666,0.0400579341141428,0.04339796296522273,0.04673812183721761,0.0500784002449588,0.0534187882746175,0.05675927592435284,0.06009985486958375,0.06344051695002415,0.06678470711364529,0.07012550515519332,0.07346636509158927,0.07680728014330991,0.0801482452617631,0.08348925556277259,0.0868303067056762,0.09017139514517851,0.09351251753469382,0.09685367101901572,0.10019485317936663,0.10353606233311811,0.10687729717846346,0.11021855691597564,0.11355984124509398,0.11690115036029053,0.12024248495564836,0.12358384619521211],\"type\":\"scatter\"},{\"line\":{\"dash\":\"dash\"},\"mode\":\"lines\",\"name\":\"SSE\",\"x\":[4.72e-06,4.733513513513514e-06,4.747027027027027e-06,4.7605405405405405e-06,4.7740540540540536e-06,4.7875675675675674e-06,4.8010810810810805e-06,4.814594594594594e-06,4.828108108108108e-06,4.841621621621621e-06,4.855135135135135e-06,4.868648648648648e-06,4.882162162162162e-06,4.895675675675675e-06,4.909189189189189e-06,4.922702702702703e-06,4.936216216216216e-06,4.94972972972973e-06,4.963243243243243e-06,4.976756756756757e-06,4.99027027027027e-06,5.003783783783784e-06,5.017297297297298e-06,5.030810810810811e-06,5.0443243243243245e-06,5.057837837837838e-06,5.0713513513513515e-06,5.0848648648648645e-06,5.098378378378378e-06,5.1118918918918914e-06,5.125405405405405e-06,5.138918918918919e-06,5.152432432432432e-06,5.165945945945946e-06,5.179459459459459e-06,5.192972972972973e-06,5.206486486486487e-06,5.22e-06,5.233513513513514e-06,5.247027027027027e-06,5.260540540540541e-06,5.274054054054054e-06,5.287567567567568e-06,5.301081081081081e-06,5.314594594594595e-06,5.3281081081081086e-06,5.341621621621622e-06,5.3551351351351355e-06,5.3686486486486485e-06,5.382162162162162e-06,5.3956756756756755e-06,5.409189189189189e-06,5.422702702702702e-06,5.436216216216216e-06,5.44972972972973e-06,5.463243243243243e-06,5.476756756756757e-06,5.49027027027027e-06,5.503783783783784e-06,5.517297297297298e-06,5.530810810810811e-06,5.544324324324325e-06,5.557837837837838e-06,5.571351351351352e-06,5.584864864864865e-06,5.598378378378379e-06,5.611891891891892e-06,5.625405405405406e-06,5.6389189189189195e-06,5.6524324324324325e-06,5.6659459459459464e-06,5.6794594594594595e-06,5.692972972972973e-06,5.706486486486487e-06,5.72e-06],\"y\":[0.015143741552824526,0.014340458356152469,0.01355873826146157,0.012798618530813216,0.012060135180898728,0.011343323014354948,0.010648215602735055,0.009974845350605985,0.009323243503126352,0.008693559395392682,0.00808558049898175,0.007499456895648617,0.006935215488518418,0.006392882033977926,0.005872481266207667,0.005374036914877945,0.004897571733058024,0.004443107504793922,0.004010665074200657,0.003600264373489917,0.003211924439990445,0.0028456634393149243,0.0025019457112473746,0.0021798665165266053,0.0018799153278695724,0.0016021070513256863,0.0013464558145258045,0.0011129750128532265,0.0009016773148066044,0.0007125747016512165,0.0005456784705499993,0.0004009992653489331,0.00027854709347219946,0.00017833134873801855,0.00010036083215855073,4.46437726065314e-05,1.1187847526511543e-05,2.0269652551213878e-10,1.1087470608335684e-05,4.445579054355208e-05,0.00010011083737232372,0.00017805783732190782,0.00027830158555572224,0.0004008464635438582,0.0005456964642875055,0.0007128552076339416,0.0009023259614108618,0.001114111660491411,0.0013482149262682814,0.001604638085493006,0.001883383189530844,0.0021844520328705972,0.002507846171094289,0.002853566940728412,0.0032216154034568206,0.00361199255534503,0.0040246991908863,0.004460197104255383,0.004917586473271046,0.005397306799770686,0.005899358283012888,0.006423741218539732,0.0069704557944259525,0.0075395021626017975,0.008130880502427922,0.008744590935676418,0.009380633589859726,0.010039008603634837,0.010719716203447322,0.011422756652173594,0.012148130288640159,0.012895837543610948,0.013665878955559256,0.014458255188309323,0.015272967040401838],\"type\":\"scatter\"},{\"line\":{\"dash\":\"dot\"},\"mode\":\"lines\",\"name\":\"Sum of Power\",\"x\":[4.72e-06,4.733513513513514e-06,4.747027027027027e-06,4.7605405405405405e-06,4.7740540540540536e-06,4.7875675675675674e-06,4.8010810810810805e-06,4.814594594594594e-06,4.828108108108108e-06,4.841621621621621e-06,4.855135135135135e-06,4.868648648648648e-06,4.882162162162162e-06,4.895675675675675e-06,4.909189189189189e-06,4.922702702702703e-06,4.936216216216216e-06,4.94972972972973e-06,4.963243243243243e-06,4.976756756756757e-06,4.99027027027027e-06,5.003783783783784e-06,5.017297297297298e-06,5.030810810810811e-06,5.0443243243243245e-06,5.057837837837838e-06,5.0713513513513515e-06,5.0848648648648645e-06,5.098378378378378e-06,5.1118918918918914e-06,5.125405405405405e-06,5.138918918918919e-06,5.152432432432432e-06,5.165945945945946e-06,5.179459459459459e-06,5.192972972972973e-06,5.206486486486487e-06,5.22e-06,5.233513513513514e-06,5.247027027027027e-06,5.260540540540541e-06,5.274054054054054e-06,5.287567567567568e-06,5.301081081081081e-06,5.314594594594595e-06,5.3281081081081086e-06,5.341621621621622e-06,5.3551351351351355e-06,5.3686486486486485e-06,5.382162162162162e-06,5.3956756756756755e-06,5.409189189189189e-06,5.422702702702702e-06,5.436216216216216e-06,5.44972972972973e-06,5.463243243243243e-06,5.476756756756757e-06,5.49027027027027e-06,5.503783783783784e-06,5.517297297297298e-06,5.530810810810811e-06,5.544324324324325e-06,5.557837837837838e-06,5.571351351351352e-06,5.584864864864865e-06,5.598378378378379e-06,5.611891891891892e-06,5.625405405405406e-06,5.6389189189189195e-06,5.6524324324324325e-06,5.6659459459459464e-06,5.6794594594594595e-06,5.692972972972973e-06,5.706486486486487e-06,5.72e-06],\"y\":[0.015143741552824526,0.014340458356152469,0.01355873826146157,0.012798618530813216,0.012060135180898728,0.011343323014354948,0.010648215602735055,0.009974845350605985,0.009323243503126352,0.008693559395392682,0.00808558049898175,0.007499456895648617,0.006935215488518418,0.006392882033977926,0.005872481266207667,0.005374036914877945,0.004897571733058024,0.004443107504793922,0.004010665074200657,0.003600264373489917,0.003211924439990445,0.0028456634393149243,0.0025019457112473746,0.0021798665165266053,0.0018799153278695724,0.0016021070513256863,0.0013464558145258045,0.0011129750128532265,0.0009016773148066044,0.0007125747016512165,0.0005456784705499993,0.0004009992653489331,0.00027854709347219946,0.00017833134873801855,0.00010036083215855073,4.46437726065314e-05,1.1187847526511543e-05,2.0269652551213878e-10,1.1087470608335684e-05,4.445579054355208e-05,0.00010011083737232372,0.00017805783732190782,0.00027830158555572224,0.0004008464635438582,0.0005456964642875055,0.0007128552076339416,0.0009023259614108618,0.001114111660491411,0.0013482149262682814,0.001604638085493006,0.001883383189530844,0.0021844520328705972,0.002507846171094289,0.002853566940728412,0.0032216154034568206,0.00361199255534503,0.0040246991908863,0.004460197104255383,0.004917586473271046,0.005397306799770686,0.005899358283012888,0.006423741218539732,0.0069704557944259525,0.0075395021626017975,0.008130880502427922,0.008744590935676418,0.009380633589859726,0.010039008603634837,0.010719716203447322,0.011422756652173594,0.012148130288640159,0.012895837543610948,0.013665878955559256,0.014458255188309323,0.015272967040401838],\"type\":\"scatter\"}],                        {\"template\":{\"data\":{\"histogram2dcontour\":[{\"type\":\"histogram2dcontour\",\"colorbar\":{\"outlinewidth\":0,\"ticks\":\"\"},\"colorscale\":[[0.0,\"#0d0887\"],[0.1111111111111111,\"#46039f\"],[0.2222222222222222,\"#7201a8\"],[0.3333333333333333,\"#9c179e\"],[0.4444444444444444,\"#bd3786\"],[0.5555555555555556,\"#d8576b\"],[0.6666666666666666,\"#ed7953\"],[0.7777777777777778,\"#fb9f3a\"],[0.8888888888888888,\"#fdca26\"],[1.0,\"#f0f921\"]]}],\"choropleth\":[{\"type\":\"choropleth\",\"colorbar\":{\"outlinewidth\":0,\"ticks\":\"\"}}],\"histogram2d\":[{\"type\":\"histogram2d\",\"colorbar\":{\"outlinewidth\":0,\"ticks\":\"\"},\"colorscale\":[[0.0,\"#0d0887\"],[0.1111111111111111,\"#46039f\"],[0.2222222222222222,\"#7201a8\"],[0.3333333333333333,\"#9c179e\"],[0.4444444444444444,\"#bd3786\"],[0.5555555555555556,\"#d8576b\"],[0.6666666666666666,\"#ed7953\"],[0.7777777777777778,\"#fb9f3a\"],[0.8888888888888888,\"#fdca26\"],[1.0,\"#f0f921\"]]}],\"heatmap\":[{\"type\":\"heatmap\",\"colorbar\":{\"outlinewidth\":0,\"ticks\":\"\"},\"colorscale\":[[0.0,\"#0d0887\"],[0.1111111111111111,\"#46039f\"],[0.2222222222222222,\"#7201a8\"],[0.3333333333333333,\"#9c179e\"],[0.4444444444444444,\"#bd3786\"],[0.5555555555555556,\"#d8576b\"],[0.6666666666666666,\"#ed7953\"],[0.7777777777777778,\"#fb9f3a\"],[0.8888888888888888,\"#fdca26\"],[1.0,\"#f0f921\"]]}],\"heatmapgl\":[{\"type\":\"heatmapgl\",\"colorbar\":{\"outlinewidth\":0,\"ticks\":\"\"},\"colorscale\":[[0.0,\"#0d0887\"],[0.1111111111111111,\"#46039f\"],[0.2222222222222222,\"#7201a8\"],[0.3333333333333333,\"#9c179e\"],[0.4444444444444444,\"#bd3786\"],[0.5555555555555556,\"#d8576b\"],[0.6666666666666666,\"#ed7953\"],[0.7777777777777778,\"#fb9f3a\"],[0.8888888888888888,\"#fdca26\"],[1.0,\"#f0f921\"]]}],\"contourcarpet\":[{\"type\":\"contourcarpet\",\"colorbar\":{\"outlinewidth\":0,\"ticks\":\"\"}}],\"contour\":[{\"type\":\"contour\",\"colorbar\":{\"outlinewidth\":0,\"ticks\":\"\"},\"colorscale\":[[0.0,\"#0d0887\"],[0.1111111111111111,\"#46039f\"],[0.2222222222222222,\"#7201a8\"],[0.3333333333333333,\"#9c179e\"],[0.4444444444444444,\"#bd3786\"],[0.5555555555555556,\"#d8576b\"],[0.6666666666666666,\"#ed7953\"],[0.7777777777777778,\"#fb9f3a\"],[0.8888888888888888,\"#fdca26\"],[1.0,\"#f0f921\"]]}],\"surface\":[{\"type\":\"surface\",\"colorbar\":{\"outlinewidth\":0,\"ticks\":\"\"},\"colorscale\":[[0.0,\"#0d0887\"],[0.1111111111111111,\"#46039f\"],[0.2222222222222222,\"#7201a8\"],[0.3333333333333333,\"#9c179e\"],[0.4444444444444444,\"#bd3786\"],[0.5555555555555556,\"#d8576b\"],[0.6666666666666666,\"#ed7953\"],[0.7777777777777778,\"#fb9f3a\"],[0.8888888888888888,\"#fdca26\"],[1.0,\"#f0f921\"]]}],\"mesh3d\":[{\"type\":\"mesh3d\",\"colorbar\":{\"outlinewidth\":0,\"ticks\":\"\"}}],\"scatter\":[{\"fillpattern\":{\"fillmode\":\"overlay\",\"size\":10,\"solidity\":0.2},\"type\":\"scatter\"}],\"parcoords\":[{\"type\":\"parcoords\",\"line\":{\"colorbar\":{\"outlinewidth\":0,\"ticks\":\"\"}}}],\"scatterpolargl\":[{\"type\":\"scatterpolargl\",\"marker\":{\"colorbar\":{\"outlinewidth\":0,\"ticks\":\"\"}}}],\"bar\":[{\"error_x\":{\"color\":\"#2a3f5f\"},\"error_y\":{\"color\":\"#2a3f5f\"},\"marker\":{\"line\":{\"color\":\"#E5ECF6\",\"width\":0.5},\"pattern\":{\"fillmode\":\"overlay\",\"size\":10,\"solidity\":0.2}},\"type\":\"bar\"}],\"scattergeo\":[{\"type\":\"scattergeo\",\"marker\":{\"colorbar\":{\"outlinewidth\":0,\"ticks\":\"\"}}}],\"scatterpolar\":[{\"type\":\"scatterpolar\",\"marker\":{\"colorbar\":{\"outlinewidth\":0,\"ticks\":\"\"}}}],\"histogram\":[{\"marker\":{\"pattern\":{\"fillmode\":\"overlay\",\"size\":10,\"solidity\":0.2}},\"type\":\"histogram\"}],\"scattergl\":[{\"type\":\"scattergl\",\"marker\":{\"colorbar\":{\"outlinewidth\":0,\"ticks\":\"\"}}}],\"scatter3d\":[{\"type\":\"scatter3d\",\"line\":{\"colorbar\":{\"outlinewidth\":0,\"ticks\":\"\"}},\"marker\":{\"colorbar\":{\"outlinewidth\":0,\"ticks\":\"\"}}}],\"scattermapbox\":[{\"type\":\"scattermapbox\",\"marker\":{\"colorbar\":{\"outlinewidth\":0,\"ticks\":\"\"}}}],\"scatterternary\":[{\"type\":\"scatterternary\",\"marker\":{\"colorbar\":{\"outlinewidth\":0,\"ticks\":\"\"}}}],\"scattercarpet\":[{\"type\":\"scattercarpet\",\"marker\":{\"colorbar\":{\"outlinewidth\":0,\"ticks\":\"\"}}}],\"carpet\":[{\"aaxis\":{\"endlinecolor\":\"#2a3f5f\",\"gridcolor\":\"white\",\"linecolor\":\"white\",\"minorgridcolor\":\"white\",\"startlinecolor\":\"#2a3f5f\"},\"baxis\":{\"endlinecolor\":\"#2a3f5f\",\"gridcolor\":\"white\",\"linecolor\":\"white\",\"minorgridcolor\":\"white\",\"startlinecolor\":\"#2a3f5f\"},\"type\":\"carpet\"}],\"table\":[{\"cells\":{\"fill\":{\"color\":\"#EBF0F8\"},\"line\":{\"color\":\"white\"}},\"header\":{\"fill\":{\"color\":\"#C8D4E3\"},\"line\":{\"color\":\"white\"}},\"type\":\"table\"}],\"barpolar\":[{\"marker\":{\"line\":{\"color\":\"#E5ECF6\",\"width\":0.5},\"pattern\":{\"fillmode\":\"overlay\",\"size\":10,\"solidity\":0.2}},\"type\":\"barpolar\"}],\"pie\":[{\"automargin\":true,\"type\":\"pie\"}]},\"layout\":{\"autotypenumbers\":\"strict\",\"colorway\":[\"#636efa\",\"#EF553B\",\"#00cc96\",\"#ab63fa\",\"#FFA15A\",\"#19d3f3\",\"#FF6692\",\"#B6E880\",\"#FF97FF\",\"#FECB52\"],\"font\":{\"color\":\"#2a3f5f\"},\"hovermode\":\"closest\",\"hoverlabel\":{\"align\":\"left\"},\"paper_bgcolor\":\"white\",\"plot_bgcolor\":\"#E5ECF6\",\"polar\":{\"bgcolor\":\"#E5ECF6\",\"angularaxis\":{\"gridcolor\":\"white\",\"linecolor\":\"white\",\"ticks\":\"\"},\"radialaxis\":{\"gridcolor\":\"white\",\"linecolor\":\"white\",\"ticks\":\"\"}},\"ternary\":{\"bgcolor\":\"#E5ECF6\",\"aaxis\":{\"gridcolor\":\"white\",\"linecolor\":\"white\",\"ticks\":\"\"},\"baxis\":{\"gridcolor\":\"white\",\"linecolor\":\"white\",\"ticks\":\"\"},\"caxis\":{\"gridcolor\":\"white\",\"linecolor\":\"white\",\"ticks\":\"\"}},\"coloraxis\":{\"colorbar\":{\"outlinewidth\":0,\"ticks\":\"\"}},\"colorscale\":{\"sequential\":[[0.0,\"#0d0887\"],[0.1111111111111111,\"#46039f\"],[0.2222222222222222,\"#7201a8\"],[0.3333333333333333,\"#9c179e\"],[0.4444444444444444,\"#bd3786\"],[0.5555555555555556,\"#d8576b\"],[0.6666666666666666,\"#ed7953\"],[0.7777777777777778,\"#fb9f3a\"],[0.8888888888888888,\"#fdca26\"],[1.0,\"#f0f921\"]],\"sequentialminus\":[[0.0,\"#0d0887\"],[0.1111111111111111,\"#46039f\"],[0.2222222222222222,\"#7201a8\"],[0.3333333333333333,\"#9c179e\"],[0.4444444444444444,\"#bd3786\"],[0.5555555555555556,\"#d8576b\"],[0.6666666666666666,\"#ed7953\"],[0.7777777777777778,\"#fb9f3a\"],[0.8888888888888888,\"#fdca26\"],[1.0,\"#f0f921\"]],\"diverging\":[[0,\"#8e0152\"],[0.1,\"#c51b7d\"],[0.2,\"#de77ae\"],[0.3,\"#f1b6da\"],[0.4,\"#fde0ef\"],[0.5,\"#f7f7f7\"],[0.6,\"#e6f5d0\"],[0.7,\"#b8e186\"],[0.8,\"#7fbc41\"],[0.9,\"#4d9221\"],[1,\"#276419\"]]},\"xaxis\":{\"gridcolor\":\"white\",\"linecolor\":\"white\",\"ticks\":\"\",\"title\":{\"standoff\":15},\"zerolinecolor\":\"white\",\"automargin\":true,\"zerolinewidth\":2},\"yaxis\":{\"gridcolor\":\"white\",\"linecolor\":\"white\",\"ticks\":\"\",\"title\":{\"standoff\":15},\"zerolinecolor\":\"white\",\"automargin\":true,\"zerolinewidth\":2},\"scene\":{\"xaxis\":{\"backgroundcolor\":\"#E5ECF6\",\"gridcolor\":\"white\",\"linecolor\":\"white\",\"showbackground\":true,\"ticks\":\"\",\"zerolinecolor\":\"white\",\"gridwidth\":2},\"yaxis\":{\"backgroundcolor\":\"#E5ECF6\",\"gridcolor\":\"white\",\"linecolor\":\"white\",\"showbackground\":true,\"ticks\":\"\",\"zerolinecolor\":\"white\",\"gridwidth\":2},\"zaxis\":{\"backgroundcolor\":\"#E5ECF6\",\"gridcolor\":\"white\",\"linecolor\":\"white\",\"showbackground\":true,\"ticks\":\"\",\"zerolinecolor\":\"white\",\"gridwidth\":2}},\"shapedefaults\":{\"line\":{\"color\":\"#2a3f5f\"}},\"annotationdefaults\":{\"arrowcolor\":\"#2a3f5f\",\"arrowhead\":0,\"arrowwidth\":1},\"geo\":{\"bgcolor\":\"white\",\"landcolor\":\"#E5ECF6\",\"subunitcolor\":\"white\",\"showland\":true,\"showlakes\":true,\"lakecolor\":\"white\"},\"title\":{\"x\":0.05},\"mapbox\":{\"style\":\"light\"}}}},                        {\"responsive\": true}                    ).then(function(){\n",
       "                            \n",
       "var gd = document.getElementById('448794cc-9ead-4220-91e2-eb6a5b63c4a4');\n",
       "var x = new MutationObserver(function (mutations, observer) {{\n",
       "        var display = window.getComputedStyle(gd).display;\n",
       "        if (!display || display === 'none') {{\n",
       "            console.log([gd, 'removed!']);\n",
       "            Plotly.purge(gd);\n",
       "            observer.disconnect();\n",
       "        }}\n",
       "}});\n",
       "\n",
       "// Listen for the removal of the full notebook cells\n",
       "var notebookContainer = gd.closest('#notebook-container');\n",
       "if (notebookContainer) {{\n",
       "    x.observe(notebookContainer, {childList: true});\n",
       "}}\n",
       "\n",
       "// Listen for the clearing of the current output cell\n",
       "var outputEl = gd.closest('.output');\n",
       "if (outputEl) {{\n",
       "    x.observe(outputEl, {childList: true});\n",
       "}}\n",
       "\n",
       "                        })                };                });            </script>        </div>"
      ]
     },
     "metadata": {},
     "output_type": "display_data"
    }
   ],
   "source": [
    "y_sumofpower = []\n",
    "for i in x_range:\n",
    "    y_sumofpower.append(cost_sumofpower([7.56e-05, i]))\n",
    "\n",
    "fig = go.Figure()\n",
    "fig.add_trace(\n",
    "    go.Scatter(\n",
    "        x=x_range,\n",
    "        y=np.asarray(y_RMSE) * np.sqrt(len(t_eval)),\n",
    "        mode=\"lines\",\n",
    "        name=\"RMSE*N\",\n",
    "    )\n",
    ")\n",
    "fig.add_trace(\n",
    "    go.Scatter(\n",
    "        x=x_range,\n",
    "        y=y_SSE,\n",
    "        mode=\"lines\",\n",
    "        line=dict(dash=\"dash\"),\n",
    "        name=\"SSE\",\n",
    "    )\n",
    ")\n",
    "fig.add_trace(\n",
    "    go.Scatter(\n",
    "        x=x_range,\n",
    "        y=y_sumofpower,\n",
    "        mode=\"lines\",\n",
    "        line=dict(dash=\"dot\"),\n",
    "        name=\"Sum of Power\",\n",
    "    )\n",
    ")\n",
    "fig.show()"
   ]
  },
  {
   "cell_type": "markdown",
   "metadata": {},
   "source": [
    "As expected, the `SumofPower` with order `p=2` equates to the `SSE` implementation. Next, we compare the `Minkowski` to the `SumofPower`,"
   ]
  },
  {
   "cell_type": "code",
   "execution_count": null,
   "metadata": {},
   "outputs": [],
   "source": [
    "p_orders = np.append(0.75, np.linspace(1, 2, 2))\n",
    "\n",
    "y_minkowski = tuple(\n",
    "    [pybop.Minkowski(problem, p=j)([7.56e-05, i]) for i in x_range] for j in p_orders\n",
    ")\n",
    "\n",
    "y_sumofpower = tuple(\n",
    "    [pybop.SumofPower(problem, p=j)([7.56e-05, i]) for i in x_range] for j in p_orders\n",
    ")"
   ]
  },
  {
   "cell_type": "code",
   "execution_count": null,
   "metadata": {},
   "outputs": [
    {
     "data": {
      "text/html": [
       "<div>                            <div id=\"27cfb7a1-6f8b-4752-89b0-aa7cc5a535bb\" class=\"plotly-graph-div\" style=\"height:525px; width:100%;\"></div>            <script type=\"text/javascript\">                require([\"plotly\"], function(Plotly) {                    window.PLOTLYENV=window.PLOTLYENV || {};                                    if (document.getElementById(\"27cfb7a1-6f8b-4752-89b0-aa7cc5a535bb\")) {                    Plotly.newPlot(                        \"27cfb7a1-6f8b-4752-89b0-aa7cc5a535bb\",                        [{\"mode\":\"lines\",\"name\":\"Minkowski 0.75\",\"x\":[4.72e-06,4.733513513513514e-06,4.747027027027027e-06,4.7605405405405405e-06,4.7740540540540536e-06,4.7875675675675674e-06,4.8010810810810805e-06,4.814594594594594e-06,4.828108108108108e-06,4.841621621621621e-06,4.855135135135135e-06,4.868648648648648e-06,4.882162162162162e-06,4.895675675675675e-06,4.909189189189189e-06,4.922702702702703e-06,4.936216216216216e-06,4.94972972972973e-06,4.963243243243243e-06,4.976756756756757e-06,4.99027027027027e-06,5.003783783783784e-06,5.017297297297298e-06,5.030810810810811e-06,5.0443243243243245e-06,5.057837837837838e-06,5.0713513513513515e-06,5.0848648648648645e-06,5.098378378378378e-06,5.1118918918918914e-06,5.125405405405405e-06,5.138918918918919e-06,5.152432432432432e-06,5.165945945945946e-06,5.179459459459459e-06,5.192972972972973e-06,5.206486486486487e-06,5.22e-06,5.233513513513514e-06,5.247027027027027e-06,5.260540540540541e-06,5.274054054054054e-06,5.287567567567568e-06,5.301081081081081e-06,5.314594594594595e-06,5.3281081081081086e-06,5.341621621621622e-06,5.3551351351351355e-06,5.3686486486486485e-06,5.382162162162162e-06,5.3956756756756755e-06,5.409189189189189e-06,5.422702702702702e-06,5.436216216216216e-06,5.44972972972973e-06,5.463243243243243e-06,5.476756756756757e-06,5.49027027027027e-06,5.503783783783784e-06,5.517297297297298e-06,5.530810810810811e-06,5.544324324324325e-06,5.557837837837838e-06,5.571351351351352e-06,5.584864864864865e-06,5.598378378378379e-06,5.611891891891892e-06,5.625405405405406e-06,5.6389189189189195e-06,5.6524324324324325e-06,5.6659459459459464e-06,5.6794594594594595e-06,5.692972972972973e-06,5.706486486486487e-06,5.72e-06],\"y\":[4.687177829349646,4.5615883394733405,4.435924520229612,4.310187717128359,4.184379257325575,4.058500451118225,3.932552585938228,3.806536932661168,3.6804547434842667,3.554329270421729,3.4281179092967045,3.3018436499865507,3.175507687158349,3.0491111763899923,2.922655255210904,2.7961410423099347,2.669569638985962,2.542942125767996,2.4162595638477358,2.289522996687517,2.1627334477711915,2.0358919234280286,1.9091423260547138,1.7822007793726071,1.6552101540834137,1.5281713832896537,1.4010853659458926,1.2739530070146803,1.1467751784744942,1.0195527392274326,0.8922865266247292,0.7649773614806785,0.6376260448646879,0.5102333591484789,0.38280006694282104,0.25532690660252216,0.12781456118014933,0.00020779483844043632,0.1273240734309465,0.2549495617734584,0.38261136412487634,0.510308889047383,0.6380415212353053,0.7658086537395665,0.8936096984477089,1.0214440827363973,1.149311250596976,1.2772106621292585,1.4051417950770706,1.5331041439476711,1.6610972200735152,1.7891205513788158,1.9171736820670926,2.0452561730387493,2.1733675807113806,2.3015075137573415,2.429675583291197,2.557981586286943,2.6862046670955735,2.8144548195079926,2.942731692145739,3.0710349908134673,3.199364424301726,3.3277197172413135,3.4561006189032812,3.5845068827784696,3.7129382766726633,3.8413945809256305,3.969875598192493,4.098381141880318,4.226911040115866,4.3554651356404355,4.484043285694956,4.612645362183047,4.74127125069739],\"type\":\"scatter\"},{\"line\":{\"dash\":\"dash\"},\"mode\":\"lines\",\"name\":\"Sum of Power 0.75\",\"x\":[4.72e-06,4.733513513513514e-06,4.747027027027027e-06,4.7605405405405405e-06,4.7740540540540536e-06,4.7875675675675674e-06,4.8010810810810805e-06,4.814594594594594e-06,4.828108108108108e-06,4.841621621621621e-06,4.855135135135135e-06,4.868648648648648e-06,4.882162162162162e-06,4.895675675675675e-06,4.909189189189189e-06,4.922702702702703e-06,4.936216216216216e-06,4.94972972972973e-06,4.963243243243243e-06,4.976756756756757e-06,4.99027027027027e-06,5.003783783783784e-06,5.017297297297298e-06,5.030810810810811e-06,5.0443243243243245e-06,5.057837837837838e-06,5.0713513513513515e-06,5.0848648648648645e-06,5.098378378378378e-06,5.1118918918918914e-06,5.125405405405405e-06,5.138918918918919e-06,5.152432432432432e-06,5.165945945945946e-06,5.179459459459459e-06,5.192972972972973e-06,5.206486486486487e-06,5.22e-06,5.233513513513514e-06,5.247027027027027e-06,5.260540540540541e-06,5.274054054054054e-06,5.287567567567568e-06,5.301081081081081e-06,5.314594594594595e-06,5.3281081081081086e-06,5.341621621621622e-06,5.3551351351351355e-06,5.3686486486486485e-06,5.382162162162162e-06,5.3956756756756755e-06,5.409189189189189e-06,5.422702702702702e-06,5.436216216216216e-06,5.44972972972973e-06,5.463243243243243e-06,5.476756756756757e-06,5.49027027027027e-06,5.503783783783784e-06,5.517297297297298e-06,5.530810810810811e-06,5.544324324324325e-06,5.557837837837838e-06,5.571351351351352e-06,5.584864864864865e-06,5.598378378378379e-06,5.611891891891892e-06,5.625405405405406e-06,5.6389189189189195e-06,5.6524324324324325e-06,5.6659459459459464e-06,5.6794594594594595e-06,5.692972972972973e-06,5.706486486486487e-06,5.72e-06],\"y\":[3.185543743020708,3.121311175822358,3.056596495420286,2.9913838091687572,2.9256561359132367,2.8593952996273146,2.792581804802114,2.725194701573535,2.657211426782165,2.5886196499666965,2.519369185734783,2.449443230102747,2.3788106616185885,2.3074374919040173,2.235286488885073,2.162316715864014,2.0884829823136504,2.0137351797376564,1.9380174784809647,1.861267343382125,1.783414312420869,1.704378470528669,1.6241596977264594,1.542472649144364,1.459284119799328,1.3744503211030106,1.2878000799936231,1.1991266530740703,1.1081759307355066,1.0146290017232424,0.918075190508006,0.8179682324069057,0.7135502064957174,0.6037075915519319,0.48666375619112134,0.35918851167864624,0.21376433593518665,0.0017307170284793852,0.2131488006498945,0.3587903075189438,0.48648381797388124,0.603774615486458,0.7138988894487996,0.8186347995215929,0.9190960617358928,1.0160403318521858,1.110013456055494,1.2014256549349058,1.290595402984898,1.377776405460281,1.46317505540557,1.5469622052242205,1.6292813787932376,1.7102546665436797,1.789987047614172,1.8685696810282295,1.9460823641541136,2.0226608124093612,2.098235953759942,2.172929875163762,2.246792677770856,2.3198695983856625,2.3922016383500764,2.4638261196935436,2.5347771491871263,2.6050859941340674,2.6747814166641484,2.743889953331735,2.812436161262593,2.88044281985171,2.9479311133314776,3.0149207879413327,3.0814302894843006,3.1474768843523218,3.213076765720591],\"type\":\"scatter\"},{\"mode\":\"lines\",\"name\":\"Minkowski 1.0\",\"x\":[4.72e-06,4.733513513513514e-06,4.747027027027027e-06,4.7605405405405405e-06,4.7740540540540536e-06,4.7875675675675674e-06,4.8010810810810805e-06,4.814594594594594e-06,4.828108108108108e-06,4.841621621621621e-06,4.855135135135135e-06,4.868648648648648e-06,4.882162162162162e-06,4.895675675675675e-06,4.909189189189189e-06,4.922702702702703e-06,4.936216216216216e-06,4.94972972972973e-06,4.963243243243243e-06,4.976756756756757e-06,4.99027027027027e-06,5.003783783783784e-06,5.017297297297298e-06,5.030810810810811e-06,5.0443243243243245e-06,5.057837837837838e-06,5.0713513513513515e-06,5.0848648648648645e-06,5.098378378378378e-06,5.1118918918918914e-06,5.125405405405405e-06,5.138918918918919e-06,5.152432432432432e-06,5.165945945945946e-06,5.179459459459459e-06,5.192972972972973e-06,5.206486486486487e-06,5.22e-06,5.233513513513514e-06,5.247027027027027e-06,5.260540540540541e-06,5.274054054054054e-06,5.287567567567568e-06,5.301081081081081e-06,5.314594594594595e-06,5.3281081081081086e-06,5.341621621621622e-06,5.3551351351351355e-06,5.3686486486486485e-06,5.382162162162162e-06,5.3956756756756755e-06,5.409189189189189e-06,5.422702702702702e-06,5.436216216216216e-06,5.44972972972973e-06,5.463243243243243e-06,5.476756756756757e-06,5.49027027027027e-06,5.503783783783784e-06,5.517297297297298e-06,5.530810810810811e-06,5.544324324324325e-06,5.557837837837838e-06,5.571351351351352e-06,5.584864864864865e-06,5.598378378378379e-06,5.611891891891892e-06,5.625405405405406e-06,5.6389189189189195e-06,5.6524324324324325e-06,5.6659459459459464e-06,5.6794594594594595e-06,5.692972972972973e-06,5.706486486486487e-06,5.72e-06],\"y\":[1.0770396736029757,1.048164076723217,1.0192721591886698,0.9903642504347858,0.9614406752127107,0.9325017539506635,0.9035478013181328,0.8745791277404416,0.8455960388934085,0.8166040734859319,0.787593104329591,0.7585686070509614,0.729530872253648,0.7004801811420838,0.6714168103408773,0.6423410317073772,0.61325311267951,0.5841533154753966,0.555041897436864,0.525919111414638,0.4967852053357742,0.4676404226530928,0.438519496245787,0.40935390401608496,0.3801781347895856,0.3509924136305518,0.3217969580508684,0.2925919849500609,0.2633777040649634,0.23415432182124674,0.2049220392576654,0.17568105325427386,0.14643155585571144,0.11717373458713887,0.08790777247566384,0.05863384806765115,0.02935213561458827,6.941204691646163e-05,0.029233976425764308,0.058538048405669674,0.08784925661735032,0.1171674495303705,0.1464924793849116,0.1758242021545593,0.20516247893535455,0.23450717483290306,0.2638581592211593,0.29321530560685405,0.3225784918563388,0.35194760003177583,0.3813225163992957,0.41070313136912473,0.4400893394175043,0.4694810391830111,0.49887812836128775,0.5282805173766061,0.5576881174411201,0.5871274312066785,0.6165451592716744,0.6459678569568643,0.6753954450548609,0.7048278581092009,0.7342650315454837,0.7637069047349421,0.7931534230787816,0.8226045331487191,0.8520601850845613,0.8815203321650218,0.9109849331561626,0.940453949531717,0.9699273464251852,0.9994050926033862,1.028887160437503,1.0583735259408198,1.0878641685344057],\"type\":\"scatter\"},{\"line\":{\"dash\":\"dash\"},\"mode\":\"lines\",\"name\":\"Sum of Power 1.0\",\"x\":[4.72e-06,4.733513513513514e-06,4.747027027027027e-06,4.7605405405405405e-06,4.7740540540540536e-06,4.7875675675675674e-06,4.8010810810810805e-06,4.814594594594594e-06,4.828108108108108e-06,4.841621621621621e-06,4.855135135135135e-06,4.868648648648648e-06,4.882162162162162e-06,4.895675675675675e-06,4.909189189189189e-06,4.922702702702703e-06,4.936216216216216e-06,4.94972972972973e-06,4.963243243243243e-06,4.976756756756757e-06,4.99027027027027e-06,5.003783783783784e-06,5.017297297297298e-06,5.030810810810811e-06,5.0443243243243245e-06,5.057837837837838e-06,5.0713513513513515e-06,5.0848648648648645e-06,5.098378378378378e-06,5.1118918918918914e-06,5.125405405405405e-06,5.138918918918919e-06,5.152432432432432e-06,5.165945945945946e-06,5.179459459459459e-06,5.192972972972973e-06,5.206486486486487e-06,5.22e-06,5.233513513513514e-06,5.247027027027027e-06,5.260540540540541e-06,5.274054054054054e-06,5.287567567567568e-06,5.301081081081081e-06,5.314594594594595e-06,5.3281081081081086e-06,5.341621621621622e-06,5.3551351351351355e-06,5.3686486486486485e-06,5.382162162162162e-06,5.3956756756756755e-06,5.409189189189189e-06,5.422702702702702e-06,5.436216216216216e-06,5.44972972972973e-06,5.463243243243243e-06,5.476756756756757e-06,5.49027027027027e-06,5.503783783783784e-06,5.517297297297298e-06,5.530810810810811e-06,5.544324324324325e-06,5.557837837837838e-06,5.571351351351352e-06,5.584864864864865e-06,5.598378378378379e-06,5.611891891891892e-06,5.625405405405406e-06,5.6389189189189195e-06,5.6524324324324325e-06,5.6659459459459464e-06,5.6794594594594595e-06,5.692972972972973e-06,5.706486486486487e-06,5.72e-06],\"y\":[1.0770396736029757,1.048164076723217,1.0192721591886698,0.9903642504347858,0.9614406752127107,0.9325017539506635,0.9035478013181328,0.8745791277404416,0.8455960388934085,0.8166040734859319,0.787593104329591,0.7585686070509614,0.729530872253648,0.7004801811420838,0.6714168103408773,0.6423410317073772,0.61325311267951,0.5841533154753966,0.555041897436864,0.525919111414638,0.4967852053357742,0.4676404226530928,0.438519496245787,0.40935390401608496,0.3801781347895856,0.3509924136305518,0.3217969580508684,0.2925919849500609,0.2633777040649634,0.23415432182124674,0.2049220392576654,0.17568105325427386,0.14643155585571144,0.11717373458713887,0.08790777247566384,0.05863384806765115,0.02935213561458827,6.941204691646163e-05,0.029233976425764308,0.058538048405669674,0.08784925661735032,0.1171674495303705,0.1464924793849116,0.1758242021545593,0.20516247893535455,0.23450717483290306,0.2638581592211593,0.29321530560685405,0.3225784918563388,0.35194760003177583,0.3813225163992957,0.41070313136912473,0.4400893394175043,0.4694810391830111,0.49887812836128775,0.5282805173766061,0.5576881174411201,0.5871274312066785,0.6165451592716744,0.6459678569568643,0.6753954450548609,0.7048278581092009,0.7342650315454837,0.7637069047349421,0.7931534230787816,0.8226045331487191,0.8520601850845613,0.8815203321650218,0.9109849331561626,0.940453949531717,0.9699273464251852,0.9994050926033862,1.028887160437503,1.0583735259408198,1.0878641685344057],\"type\":\"scatter\"},{\"mode\":\"lines\",\"name\":\"Minkowski 2.0\",\"x\":[4.72e-06,4.733513513513514e-06,4.747027027027027e-06,4.7605405405405405e-06,4.7740540540540536e-06,4.7875675675675674e-06,4.8010810810810805e-06,4.814594594594594e-06,4.828108108108108e-06,4.841621621621621e-06,4.855135135135135e-06,4.868648648648648e-06,4.882162162162162e-06,4.895675675675675e-06,4.909189189189189e-06,4.922702702702703e-06,4.936216216216216e-06,4.94972972972973e-06,4.963243243243243e-06,4.976756756756757e-06,4.99027027027027e-06,5.003783783783784e-06,5.017297297297298e-06,5.030810810810811e-06,5.0443243243243245e-06,5.057837837837838e-06,5.0713513513513515e-06,5.0848648648648645e-06,5.098378378378378e-06,5.1118918918918914e-06,5.125405405405405e-06,5.138918918918919e-06,5.152432432432432e-06,5.165945945945946e-06,5.179459459459459e-06,5.192972972972973e-06,5.206486486486487e-06,5.22e-06,5.233513513513514e-06,5.247027027027027e-06,5.260540540540541e-06,5.274054054054054e-06,5.287567567567568e-06,5.301081081081081e-06,5.314594594594595e-06,5.3281081081081086e-06,5.341621621621622e-06,5.3551351351351355e-06,5.3686486486486485e-06,5.382162162162162e-06,5.3956756756756755e-06,5.409189189189189e-06,5.422702702702702e-06,5.436216216216216e-06,5.44972972972973e-06,5.463243243243243e-06,5.476756756756757e-06,5.49027027027027e-06,5.503783783783784e-06,5.517297297297298e-06,5.530810810810811e-06,5.544324324324325e-06,5.557837837837838e-06,5.571351351351352e-06,5.584864864864865e-06,5.598378378378379e-06,5.611891891891892e-06,5.625405405405406e-06,5.6389189189189195e-06,5.6524324324324325e-06,5.6659459459459464e-06,5.6794594594594595e-06,5.692972972972973e-06,5.706486486486487e-06,5.72e-06],\"y\":[0.12305991042099992,0.11975165283265392,0.11644199526571833,0.11313097953616956,0.10981864678140378,0.10650503750694118,0.10319019140758998,0.0998741475588452,0.09655694435475033,0.09323925887410668,0.08991985597731877,0.08659940470724159,0.08327794118803862,0.07995550033598643,0.07663211641477526,0.0733078230128132,0.06998265308673303,0.06665663886511172,0.06332981189140433,0.06000220307196993,0.05667384264359039,0.05334476018612254,0.05001945332815398,0.046689040646886344,0.043357990357828766,0.04002632947605471,0.03669408418976831,0.033361280144101585,0.030027942233969422,0.02669409488353588,0.02335976178281789,0.0200249660511306,0.016689730179730272,0.013354076109488763,0.010018025362243336,0.006681599554487787,0.00334482399036355,1.423715299883157e-05,0.0033297853697101384,0.006667517569797029,0.010005540333851226,0.013343831433359304,0.016682373498867666,0.02002115040510555,0.02336014692349998,0.026699348449614677,0.030038741009084616,0.03337831122887153,0.03671804632967666,0.0400579341141428,0.04339796296522273,0.04673812183721761,0.0500784002449588,0.0534187882746175,0.05675927592435285,0.06009985486958375,0.06344051695002415,0.06678470711364529,0.07012550515519334,0.07346636509158927,0.0768072801433099,0.0801482452617631,0.08348925556277258,0.08683030670567621,0.09017139514517851,0.09351251753469382,0.09685367101901572,0.10019485317936663,0.10353606233311813,0.10687729717846346,0.11021855691597562,0.11355984124509398,0.11690115036029053,0.12024248495564836,0.1235838461952121],\"type\":\"scatter\"},{\"line\":{\"dash\":\"dash\"},\"mode\":\"lines\",\"name\":\"Sum of Power 2.0\",\"x\":[4.72e-06,4.733513513513514e-06,4.747027027027027e-06,4.7605405405405405e-06,4.7740540540540536e-06,4.7875675675675674e-06,4.8010810810810805e-06,4.814594594594594e-06,4.828108108108108e-06,4.841621621621621e-06,4.855135135135135e-06,4.868648648648648e-06,4.882162162162162e-06,4.895675675675675e-06,4.909189189189189e-06,4.922702702702703e-06,4.936216216216216e-06,4.94972972972973e-06,4.963243243243243e-06,4.976756756756757e-06,4.99027027027027e-06,5.003783783783784e-06,5.017297297297298e-06,5.030810810810811e-06,5.0443243243243245e-06,5.057837837837838e-06,5.0713513513513515e-06,5.0848648648648645e-06,5.098378378378378e-06,5.1118918918918914e-06,5.125405405405405e-06,5.138918918918919e-06,5.152432432432432e-06,5.165945945945946e-06,5.179459459459459e-06,5.192972972972973e-06,5.206486486486487e-06,5.22e-06,5.233513513513514e-06,5.247027027027027e-06,5.260540540540541e-06,5.274054054054054e-06,5.287567567567568e-06,5.301081081081081e-06,5.314594594594595e-06,5.3281081081081086e-06,5.341621621621622e-06,5.3551351351351355e-06,5.3686486486486485e-06,5.382162162162162e-06,5.3956756756756755e-06,5.409189189189189e-06,5.422702702702702e-06,5.436216216216216e-06,5.44972972972973e-06,5.463243243243243e-06,5.476756756756757e-06,5.49027027027027e-06,5.503783783783784e-06,5.517297297297298e-06,5.530810810810811e-06,5.544324324324325e-06,5.557837837837838e-06,5.571351351351352e-06,5.584864864864865e-06,5.598378378378379e-06,5.611891891891892e-06,5.625405405405406e-06,5.6389189189189195e-06,5.6524324324324325e-06,5.6659459459459464e-06,5.6794594594594595e-06,5.692972972972973e-06,5.706486486486487e-06,5.72e-06],\"y\":[0.015143741552824526,0.014340458356152469,0.01355873826146157,0.012798618530813216,0.012060135180898728,0.011343323014354948,0.010648215602735055,0.009974845350605985,0.009323243503126352,0.008693559395392682,0.00808558049898175,0.007499456895648617,0.006935215488518418,0.006392882033977926,0.005872481266207667,0.005374036914877945,0.004897571733058024,0.004443107504793922,0.004010665074200657,0.003600264373489917,0.003211924439990445,0.0028456634393149243,0.0025019457112473746,0.0021798665165266053,0.0018799153278695724,0.0016021070513256863,0.0013464558145258045,0.0011129750128532265,0.0009016773148066044,0.0007125747016512165,0.0005456784705499993,0.0004009992653489331,0.00027854709347219946,0.00017833134873801855,0.00010036083215855073,4.46437726065314e-05,1.1187847526511543e-05,2.0269652551213878e-10,1.1087470608335684e-05,4.445579054355208e-05,0.00010011083737232372,0.00017805783732190782,0.00027830158555572224,0.0004008464635438582,0.0005456964642875055,0.0007128552076339416,0.0009023259614108618,0.001114111660491411,0.0013482149262682814,0.001604638085493006,0.001883383189530844,0.0021844520328705972,0.002507846171094289,0.002853566940728412,0.0032216154034568206,0.00361199255534503,0.0040246991908863,0.004460197104255383,0.004917586473271046,0.005397306799770686,0.005899358283012888,0.006423741218539732,0.0069704557944259525,0.0075395021626017975,0.008130880502427922,0.008744590935676418,0.009380633589859726,0.010039008603634837,0.010719716203447322,0.011422756652173594,0.012148130288640159,0.012895837543610948,0.013665878955559256,0.014458255188309323,0.015272967040401838],\"type\":\"scatter\"}],                        {\"template\":{\"data\":{\"histogram2dcontour\":[{\"type\":\"histogram2dcontour\",\"colorbar\":{\"outlinewidth\":0,\"ticks\":\"\"},\"colorscale\":[[0.0,\"#0d0887\"],[0.1111111111111111,\"#46039f\"],[0.2222222222222222,\"#7201a8\"],[0.3333333333333333,\"#9c179e\"],[0.4444444444444444,\"#bd3786\"],[0.5555555555555556,\"#d8576b\"],[0.6666666666666666,\"#ed7953\"],[0.7777777777777778,\"#fb9f3a\"],[0.8888888888888888,\"#fdca26\"],[1.0,\"#f0f921\"]]}],\"choropleth\":[{\"type\":\"choropleth\",\"colorbar\":{\"outlinewidth\":0,\"ticks\":\"\"}}],\"histogram2d\":[{\"type\":\"histogram2d\",\"colorbar\":{\"outlinewidth\":0,\"ticks\":\"\"},\"colorscale\":[[0.0,\"#0d0887\"],[0.1111111111111111,\"#46039f\"],[0.2222222222222222,\"#7201a8\"],[0.3333333333333333,\"#9c179e\"],[0.4444444444444444,\"#bd3786\"],[0.5555555555555556,\"#d8576b\"],[0.6666666666666666,\"#ed7953\"],[0.7777777777777778,\"#fb9f3a\"],[0.8888888888888888,\"#fdca26\"],[1.0,\"#f0f921\"]]}],\"heatmap\":[{\"type\":\"heatmap\",\"colorbar\":{\"outlinewidth\":0,\"ticks\":\"\"},\"colorscale\":[[0.0,\"#0d0887\"],[0.1111111111111111,\"#46039f\"],[0.2222222222222222,\"#7201a8\"],[0.3333333333333333,\"#9c179e\"],[0.4444444444444444,\"#bd3786\"],[0.5555555555555556,\"#d8576b\"],[0.6666666666666666,\"#ed7953\"],[0.7777777777777778,\"#fb9f3a\"],[0.8888888888888888,\"#fdca26\"],[1.0,\"#f0f921\"]]}],\"heatmapgl\":[{\"type\":\"heatmapgl\",\"colorbar\":{\"outlinewidth\":0,\"ticks\":\"\"},\"colorscale\":[[0.0,\"#0d0887\"],[0.1111111111111111,\"#46039f\"],[0.2222222222222222,\"#7201a8\"],[0.3333333333333333,\"#9c179e\"],[0.4444444444444444,\"#bd3786\"],[0.5555555555555556,\"#d8576b\"],[0.6666666666666666,\"#ed7953\"],[0.7777777777777778,\"#fb9f3a\"],[0.8888888888888888,\"#fdca26\"],[1.0,\"#f0f921\"]]}],\"contourcarpet\":[{\"type\":\"contourcarpet\",\"colorbar\":{\"outlinewidth\":0,\"ticks\":\"\"}}],\"contour\":[{\"type\":\"contour\",\"colorbar\":{\"outlinewidth\":0,\"ticks\":\"\"},\"colorscale\":[[0.0,\"#0d0887\"],[0.1111111111111111,\"#46039f\"],[0.2222222222222222,\"#7201a8\"],[0.3333333333333333,\"#9c179e\"],[0.4444444444444444,\"#bd3786\"],[0.5555555555555556,\"#d8576b\"],[0.6666666666666666,\"#ed7953\"],[0.7777777777777778,\"#fb9f3a\"],[0.8888888888888888,\"#fdca26\"],[1.0,\"#f0f921\"]]}],\"surface\":[{\"type\":\"surface\",\"colorbar\":{\"outlinewidth\":0,\"ticks\":\"\"},\"colorscale\":[[0.0,\"#0d0887\"],[0.1111111111111111,\"#46039f\"],[0.2222222222222222,\"#7201a8\"],[0.3333333333333333,\"#9c179e\"],[0.4444444444444444,\"#bd3786\"],[0.5555555555555556,\"#d8576b\"],[0.6666666666666666,\"#ed7953\"],[0.7777777777777778,\"#fb9f3a\"],[0.8888888888888888,\"#fdca26\"],[1.0,\"#f0f921\"]]}],\"mesh3d\":[{\"type\":\"mesh3d\",\"colorbar\":{\"outlinewidth\":0,\"ticks\":\"\"}}],\"scatter\":[{\"fillpattern\":{\"fillmode\":\"overlay\",\"size\":10,\"solidity\":0.2},\"type\":\"scatter\"}],\"parcoords\":[{\"type\":\"parcoords\",\"line\":{\"colorbar\":{\"outlinewidth\":0,\"ticks\":\"\"}}}],\"scatterpolargl\":[{\"type\":\"scatterpolargl\",\"marker\":{\"colorbar\":{\"outlinewidth\":0,\"ticks\":\"\"}}}],\"bar\":[{\"error_x\":{\"color\":\"#2a3f5f\"},\"error_y\":{\"color\":\"#2a3f5f\"},\"marker\":{\"line\":{\"color\":\"#E5ECF6\",\"width\":0.5},\"pattern\":{\"fillmode\":\"overlay\",\"size\":10,\"solidity\":0.2}},\"type\":\"bar\"}],\"scattergeo\":[{\"type\":\"scattergeo\",\"marker\":{\"colorbar\":{\"outlinewidth\":0,\"ticks\":\"\"}}}],\"scatterpolar\":[{\"type\":\"scatterpolar\",\"marker\":{\"colorbar\":{\"outlinewidth\":0,\"ticks\":\"\"}}}],\"histogram\":[{\"marker\":{\"pattern\":{\"fillmode\":\"overlay\",\"size\":10,\"solidity\":0.2}},\"type\":\"histogram\"}],\"scattergl\":[{\"type\":\"scattergl\",\"marker\":{\"colorbar\":{\"outlinewidth\":0,\"ticks\":\"\"}}}],\"scatter3d\":[{\"type\":\"scatter3d\",\"line\":{\"colorbar\":{\"outlinewidth\":0,\"ticks\":\"\"}},\"marker\":{\"colorbar\":{\"outlinewidth\":0,\"ticks\":\"\"}}}],\"scattermapbox\":[{\"type\":\"scattermapbox\",\"marker\":{\"colorbar\":{\"outlinewidth\":0,\"ticks\":\"\"}}}],\"scatterternary\":[{\"type\":\"scatterternary\",\"marker\":{\"colorbar\":{\"outlinewidth\":0,\"ticks\":\"\"}}}],\"scattercarpet\":[{\"type\":\"scattercarpet\",\"marker\":{\"colorbar\":{\"outlinewidth\":0,\"ticks\":\"\"}}}],\"carpet\":[{\"aaxis\":{\"endlinecolor\":\"#2a3f5f\",\"gridcolor\":\"white\",\"linecolor\":\"white\",\"minorgridcolor\":\"white\",\"startlinecolor\":\"#2a3f5f\"},\"baxis\":{\"endlinecolor\":\"#2a3f5f\",\"gridcolor\":\"white\",\"linecolor\":\"white\",\"minorgridcolor\":\"white\",\"startlinecolor\":\"#2a3f5f\"},\"type\":\"carpet\"}],\"table\":[{\"cells\":{\"fill\":{\"color\":\"#EBF0F8\"},\"line\":{\"color\":\"white\"}},\"header\":{\"fill\":{\"color\":\"#C8D4E3\"},\"line\":{\"color\":\"white\"}},\"type\":\"table\"}],\"barpolar\":[{\"marker\":{\"line\":{\"color\":\"#E5ECF6\",\"width\":0.5},\"pattern\":{\"fillmode\":\"overlay\",\"size\":10,\"solidity\":0.2}},\"type\":\"barpolar\"}],\"pie\":[{\"automargin\":true,\"type\":\"pie\"}]},\"layout\":{\"autotypenumbers\":\"strict\",\"colorway\":[\"#636efa\",\"#EF553B\",\"#00cc96\",\"#ab63fa\",\"#FFA15A\",\"#19d3f3\",\"#FF6692\",\"#B6E880\",\"#FF97FF\",\"#FECB52\"],\"font\":{\"color\":\"#2a3f5f\"},\"hovermode\":\"closest\",\"hoverlabel\":{\"align\":\"left\"},\"paper_bgcolor\":\"white\",\"plot_bgcolor\":\"#E5ECF6\",\"polar\":{\"bgcolor\":\"#E5ECF6\",\"angularaxis\":{\"gridcolor\":\"white\",\"linecolor\":\"white\",\"ticks\":\"\"},\"radialaxis\":{\"gridcolor\":\"white\",\"linecolor\":\"white\",\"ticks\":\"\"}},\"ternary\":{\"bgcolor\":\"#E5ECF6\",\"aaxis\":{\"gridcolor\":\"white\",\"linecolor\":\"white\",\"ticks\":\"\"},\"baxis\":{\"gridcolor\":\"white\",\"linecolor\":\"white\",\"ticks\":\"\"},\"caxis\":{\"gridcolor\":\"white\",\"linecolor\":\"white\",\"ticks\":\"\"}},\"coloraxis\":{\"colorbar\":{\"outlinewidth\":0,\"ticks\":\"\"}},\"colorscale\":{\"sequential\":[[0.0,\"#0d0887\"],[0.1111111111111111,\"#46039f\"],[0.2222222222222222,\"#7201a8\"],[0.3333333333333333,\"#9c179e\"],[0.4444444444444444,\"#bd3786\"],[0.5555555555555556,\"#d8576b\"],[0.6666666666666666,\"#ed7953\"],[0.7777777777777778,\"#fb9f3a\"],[0.8888888888888888,\"#fdca26\"],[1.0,\"#f0f921\"]],\"sequentialminus\":[[0.0,\"#0d0887\"],[0.1111111111111111,\"#46039f\"],[0.2222222222222222,\"#7201a8\"],[0.3333333333333333,\"#9c179e\"],[0.4444444444444444,\"#bd3786\"],[0.5555555555555556,\"#d8576b\"],[0.6666666666666666,\"#ed7953\"],[0.7777777777777778,\"#fb9f3a\"],[0.8888888888888888,\"#fdca26\"],[1.0,\"#f0f921\"]],\"diverging\":[[0,\"#8e0152\"],[0.1,\"#c51b7d\"],[0.2,\"#de77ae\"],[0.3,\"#f1b6da\"],[0.4,\"#fde0ef\"],[0.5,\"#f7f7f7\"],[0.6,\"#e6f5d0\"],[0.7,\"#b8e186\"],[0.8,\"#7fbc41\"],[0.9,\"#4d9221\"],[1,\"#276419\"]]},\"xaxis\":{\"gridcolor\":\"white\",\"linecolor\":\"white\",\"ticks\":\"\",\"title\":{\"standoff\":15},\"zerolinecolor\":\"white\",\"automargin\":true,\"zerolinewidth\":2},\"yaxis\":{\"gridcolor\":\"white\",\"linecolor\":\"white\",\"ticks\":\"\",\"title\":{\"standoff\":15},\"zerolinecolor\":\"white\",\"automargin\":true,\"zerolinewidth\":2},\"scene\":{\"xaxis\":{\"backgroundcolor\":\"#E5ECF6\",\"gridcolor\":\"white\",\"linecolor\":\"white\",\"showbackground\":true,\"ticks\":\"\",\"zerolinecolor\":\"white\",\"gridwidth\":2},\"yaxis\":{\"backgroundcolor\":\"#E5ECF6\",\"gridcolor\":\"white\",\"linecolor\":\"white\",\"showbackground\":true,\"ticks\":\"\",\"zerolinecolor\":\"white\",\"gridwidth\":2},\"zaxis\":{\"backgroundcolor\":\"#E5ECF6\",\"gridcolor\":\"white\",\"linecolor\":\"white\",\"showbackground\":true,\"ticks\":\"\",\"zerolinecolor\":\"white\",\"gridwidth\":2}},\"shapedefaults\":{\"line\":{\"color\":\"#2a3f5f\"}},\"annotationdefaults\":{\"arrowcolor\":\"#2a3f5f\",\"arrowhead\":0,\"arrowwidth\":1},\"geo\":{\"bgcolor\":\"white\",\"landcolor\":\"#E5ECF6\",\"subunitcolor\":\"white\",\"showland\":true,\"showlakes\":true,\"lakecolor\":\"white\"},\"title\":{\"x\":0.05},\"mapbox\":{\"style\":\"light\"}}},\"yaxis\":{\"range\":[0,2.5]}},                        {\"responsive\": true}                    ).then(function(){\n",
       "                            \n",
       "var gd = document.getElementById('27cfb7a1-6f8b-4752-89b0-aa7cc5a535bb');\n",
       "var x = new MutationObserver(function (mutations, observer) {{\n",
       "        var display = window.getComputedStyle(gd).display;\n",
       "        if (!display || display === 'none') {{\n",
       "            console.log([gd, 'removed!']);\n",
       "            Plotly.purge(gd);\n",
       "            observer.disconnect();\n",
       "        }}\n",
       "}});\n",
       "\n",
       "// Listen for the removal of the full notebook cells\n",
       "var notebookContainer = gd.closest('#notebook-container');\n",
       "if (notebookContainer) {{\n",
       "    x.observe(notebookContainer, {childList: true});\n",
       "}}\n",
       "\n",
       "// Listen for the clearing of the current output cell\n",
       "var outputEl = gd.closest('.output');\n",
       "if (outputEl) {{\n",
       "    x.observe(outputEl, {childList: true});\n",
       "}}\n",
       "\n",
       "                        })                };                });            </script>        </div>"
      ]
     },
     "metadata": {},
     "output_type": "display_data"
    }
   ],
   "source": [
    "fig = go.Figure()\n",
    "for k, _ in enumerate(p_orders):\n",
    "    fig.add_trace(\n",
    "        go.Scatter(x=x_range, y=y_minkowski[k], mode=\"lines\", name=f\"Minkowski {_}\")\n",
    "    )\n",
    "    fig.add_trace(\n",
    "        go.Scatter(\n",
    "            x=x_range,\n",
    "            y=y_sumofpower[k],\n",
    "            mode=\"lines\",\n",
    "            line=dict(dash=\"dash\"),\n",
    "            name=f\"Sum of Power {_}\",\n",
    "        )\n",
    "    )\n",
    "fig.update_yaxes(range=[0, 2.5])\n",
    "fig.show()"
   ]
  },
  {
   "cell_type": "markdown",
   "metadata": {},
   "source": [
    "The figure demonstrates the distinct behaviour of the `Minkowski` distance and the `SumofPower` function. One notable difference is the effect of the `1/p` exponent in the `Minkowski` distance, which has a linearising impact on the response. This linearisation can enhance the robustness of certain optimisation algorithms, potentially making them less sensitive to outliers or extreme values. However, this increased robustness may come at the cost of a slower convergence rate, as the linearised response might require more iterations to reach the optimal solution. In contrast, the `SumofPower` function does not exhibit this linearising effect, which can lead to faster convergence in some cases but may be more susceptible to the influence of outliers or extreme values.\n",
    "\n",
    "In this notebook, we've shown the different fitting cost functions offered in PyBOP. Selection between these functions can affect the optimisation result in the case that the optimiser hyperparameter values are not properly calibrated. "
   ]
  }
 ],
 "metadata": {
  "kernelspec": {
   "display_name": "pybop-3.12",
   "language": "python",
   "name": "python3"
  },
  "language_info": {
   "codemirror_mode": {
    "name": "ipython",
    "version": 3
   },
   "file_extension": ".py",
   "mimetype": "text/x-python",
   "name": "python",
   "nbconvert_exporter": "python",
   "pygments_lexer": "ipython3",
   "version": "3.12.2"
  }
 },
 "nbformat": 4,
 "nbformat_minor": 2
}
