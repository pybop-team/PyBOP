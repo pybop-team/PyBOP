{
 "cells": [
  {
   "cell_type": "markdown",
   "id": "0",
   "metadata": {},
   "source": [
    "## LG M50 Single Pulse Parameter Identification\n",
    "\n",
    "This example presents an experimental parameter identification method for a two-RC circuit model. The data for this notebook is located within the same directory and was obtained from WDWidanage/Simscape-Battery-Library [[1]](https://github.com/WDWidanage/Simscape-Battery-Library/tree/a3842b91b3ccda006bc9be5d59c8bcbd167ceef7/Examples/parameterEstimation_TECMD/Data).\n",
    "\n",
    "\n",
    "### Setting up the Environment\n",
    "\n",
    "Before we begin, we need to ensure that we have all the necessary tools. We will install PyBOP for the fitting and Pandas for the data ingestion and manipulation:"
   ]
  },
  {
   "cell_type": "code",
   "execution_count": null,
   "id": "1",
   "metadata": {},
   "outputs": [
    {
     "name": "stdout",
     "output_type": "stream",
     "text": [
      "Note: you may need to restart the kernel to use updated packages.\n",
      "Note: you may need to restart the kernel to use updated packages.\n",
      "Note: you may need to restart the kernel to use updated packages.\n"
     ]
    }
   ],
   "source": [
    "%pip install --upgrade pip ipywidgets -q\n",
    "%pip install pybop[plot] -q\n",
    "%pip install pandas -q"
   ]
  },
  {
   "cell_type": "markdown",
   "id": "2",
   "metadata": {},
   "source": [
    "### Importing Libraries\n",
    "\n",
    "With the environment set up, we can now import PyBOP alongside other libraries we will need:"
   ]
  },
  {
   "cell_type": "code",
   "execution_count": null,
   "id": "3",
   "metadata": {},
   "outputs": [],
   "source": [
    "import pandas as pd\n",
    "import plotly.graph_objects as go\n",
    "import pybamm\n",
    "from scipy.io import loadmat\n",
    "\n",
    "import pybop"
   ]
  },
  {
   "cell_type": "markdown",
   "id": "4",
   "metadata": {},
   "source": [
    "## Importing Data\n",
    "\n",
    "The data is imported as a dictionary with the following key level:\n",
    "- [\"LGM50_5Ah_Pulse\"]\n",
    "    - Temperature-> [\"T0\"]\n",
    "        - State of Charge ->[\"SoC3\"]\n",
    "            - Cell number -> [\"Cell1\"]\n",
    "                - Corresponding data -> [\"data\"]\n",
    "\n",
    "Using SciPy's `loadmat`, we import the data from the MAT containers:"
   ]
  },
  {
   "cell_type": "code",
   "execution_count": null,
   "id": "5",
   "metadata": {},
   "outputs": [],
   "source": [
    "ocp = loadmat(\"data/LGM50_5Ah_OCV.mat\", simplify_cells=True, mat_dtype=False)\n",
    "pulse_data = loadmat(\"data/LGM50_5Ah_Pulse.mat\", simplify_cells=True, mat_dtype=False)\n",
    "rate_data = loadmat(\"data/LGM50_5Ah_RateTest.mat\", simplify_cells=True, mat_dtype=False)"
   ]
  },
  {
   "cell_type": "markdown",
   "id": "6",
   "metadata": {},
   "source": [
    "### Convert to Dataframes\n",
    "\n",
    "Next, we construct a dataframe from a selected pulse. In this case, we select the data for zero degrees (`T0`) with a state-of-charge of 90% (`SoC9`) and the 19th cell (`Cell19`). This can be extended to multiple pulses, or a different selection.\n",
    "\n",
    "Additionally, we apply two filters to the dataframe to ensure the data contains only monotonically increasing time samples without duplicates."
   ]
  },
  {
   "cell_type": "code",
   "execution_count": null,
   "id": "7",
   "metadata": {},
   "outputs": [],
   "source": [
    "df = pd.DataFrame(pulse_data[\"LGM50_5Ah_Pulse\"][\"T0\"][\"SoC9\"][\"Cell19\"][\"data\"])\n",
    "df[\"ProgTime\"] = df[\"ProgTime\"] - df[\"ProgTime\"].min()\n",
    "df.drop_duplicates(subset=[\"ProgTime\"], inplace=True)"
   ]
  },
  {
   "cell_type": "markdown",
   "id": "8",
   "metadata": {},
   "source": [
    "A plot of time vs voltage confirms the data looks correct for fitting. In this situation, we would prefer to have additional samples from the relaxation, but as we will show below, PyBOP is still able to identify parameter values that fit this system."
   ]
  },
  {
   "cell_type": "code",
   "execution_count": null,
   "id": "9",
   "metadata": {},
   "outputs": [
    {
     "data": {
      "application/vnd.plotly.v1+json": {
       "config": {
        "plotlyServerURL": "https://plot.ly"
       },
       "data": [
        {
         "type": "scatter",
         "x": [
          0,
          0.01800000004004687,
          0.12100000004284084,
          0.25100000004749745,
          0.34300000010989606,
          0.4190000001108274,
          0.5600000000558794,
          0.6170000000856817,
          0.7250000000931323,
          0.8570000000763685,
          0.9250000000465661,
          1.0330000000540167,
          1.1739999999990687,
          1.2300000000977889,
          1.343000000109896,
          1.4170000000158325,
          1.5370000000111759,
          1.6480000000447035,
          1.7160000000149012,
          1.8209999999962747,
          1.922000000020489,
          2.0010000000474975,
          2.1510000000707805,
          2.2290000000502914,
          2.4300000000512227,
          2.4980000000214204,
          2.534000000101514,
          2.7020000000484288,
          2.7989999999990687,
          2.8380000001052395,
          3.002000000094995,
          3.103000000002794,
          3.1440000000875443,
          3.2660000000614673,
          3.3570000000763685,
          3.4860000000335276,
          3.525000000023283,
          3.7220000000670552,
          3.762000000104308,
          3.8320000000530854,
          4.0230000000447035,
          4.069000000017695,
          4.14000000001397,
          4.282000000006519,
          4.3600000001024455,
          4.44800000009127,
          4.5070000000996515,
          4.633000000030734,
          4.726000000024214,
          4.94800000009127,
          4.990000000107102,
          5.033000000054017,
          5.134000000078231,
          5.24800000002142,
          5.339000000036322,
          5.474000000045635,
          5.57300000009127,
          5.614000000059605,
          5.7570000000996515,
          5.875,
          5.926000000094064,
          6.0670000000391155,
          6.182000000029802,
          6.2350000001024455,
          6.341000000014901,
          6.512000000104308,
          6.579000000027008,
          6.618000000016764,
          6.7730000000447035,
          6.856000000028871,
          6.927000000025146,
          7.066000000108033,
          7.1510000000707805,
          7.238000000012107,
          7.3080000000773,
          7.4610000000102445,
          7.546000000089407,
          7.753000000026077,
          7.815000000060536,
          7.853000000002794,
          7.923999999999069,
          8.051000000094064,
          8.160000000032596,
          8.23300000000745,
          8.318000000086613,
          8.427000000025146,
          8.53900000010617,
          8.660000000032596,
          8.747000000090338,
          8.852000000071712,
          8.989000000059605,
          9.078000000095926,
          9.127000000094995,
          9.274000000092201,
          9.361000000033528,
          9.434000000008382,
          9.524000000092201,
          9.63600000005681,
          9.754000000073574,
          9.83800000010524,
          9.949000000022352,
          10.016000000061467,
          10.065000000060536,
          10.085000000079162,
          11.104000000050291,
          12.092000000062399,
          13.12100000004284,
          14.091000000014901,
          15.08800000010524,
          16.113000000012107,
          17.14000000001397,
          18.087000000057742,
          19.101000000024214,
          20.10800000000745
         ],
         "y": [
          4.08078,
          3.96745,
          3.96156,
          3.96156,
          3.95955,
          3.959,
          3.95889,
          3.95855,
          3.95755,
          3.95755,
          3.95722,
          3.95644,
          3.95644,
          3.95611,
          3.95533,
          3.95511,
          3.95511,
          3.95433,
          3.95422,
          3.95422,
          3.95355,
          3.95333,
          3.95322,
          3.95266,
          3.95255,
          3.95221,
          3.95188,
          3.95166,
          3.95166,
          3.95121,
          3.95099,
          3.95088,
          3.95055,
          3.95032,
          3.9501,
          3.94999,
          3.94977,
          3.94955,
          3.94932,
          3.9491,
          3.94888,
          3.94866,
          3.94843,
          3.94832,
          3.9481,
          3.94788,
          3.94777,
          3.94766,
          3.94743,
          3.9471,
          3.94699,
          3.94677,
          3.94665,
          3.94665,
          3.94621,
          3.9461,
          3.9461,
          3.94588,
          3.94565,
          3.94554,
          3.94532,
          3.94521,
          3.9451,
          3.94488,
          3.94476,
          3.94454,
          3.94443,
          3.94421,
          3.9441,
          3.94399,
          3.94376,
          3.94365,
          3.94354,
          3.94332,
          3.94321,
          3.94321,
          3.94287,
          3.94276,
          3.94265,
          3.94243,
          3.94232,
          3.94221,
          3.9421,
          3.94187,
          3.94176,
          3.94176,
          3.94154,
          3.94143,
          3.94132,
          3.9411,
          3.94098,
          3.94087,
          3.94076,
          3.94054,
          3.94054,
          3.94043,
          3.94021,
          3.94021,
          3.93998,
          3.93987,
          3.93987,
          3.93976,
          3.93954,
          3.93943,
          4.06199,
          4.06411,
          4.06544,
          4.06644,
          4.06744,
          4.06822,
          4.06878,
          4.06922,
          4.06978,
          4.07011
         ]
        }
       ],
       "layout": {
        "template": {
         "data": {
          "bar": [
           {
            "error_x": {
             "color": "#2a3f5f"
            },
            "error_y": {
             "color": "#2a3f5f"
            },
            "marker": {
             "line": {
              "color": "#E5ECF6",
              "width": 0.5
             },
             "pattern": {
              "fillmode": "overlay",
              "size": 10,
              "solidity": 0.2
             }
            },
            "type": "bar"
           }
          ],
          "barpolar": [
           {
            "marker": {
             "line": {
              "color": "#E5ECF6",
              "width": 0.5
             },
             "pattern": {
              "fillmode": "overlay",
              "size": 10,
              "solidity": 0.2
             }
            },
            "type": "barpolar"
           }
          ],
          "carpet": [
           {
            "aaxis": {
             "endlinecolor": "#2a3f5f",
             "gridcolor": "white",
             "linecolor": "white",
             "minorgridcolor": "white",
             "startlinecolor": "#2a3f5f"
            },
            "baxis": {
             "endlinecolor": "#2a3f5f",
             "gridcolor": "white",
             "linecolor": "white",
             "minorgridcolor": "white",
             "startlinecolor": "#2a3f5f"
            },
            "type": "carpet"
           }
          ],
          "choropleth": [
           {
            "colorbar": {
             "outlinewidth": 0,
             "ticks": ""
            },
            "type": "choropleth"
           }
          ],
          "contour": [
           {
            "colorbar": {
             "outlinewidth": 0,
             "ticks": ""
            },
            "colorscale": [
             [
              0,
              "#0d0887"
             ],
             [
              0.1111111111111111,
              "#46039f"
             ],
             [
              0.2222222222222222,
              "#7201a8"
             ],
             [
              0.3333333333333333,
              "#9c179e"
             ],
             [
              0.4444444444444444,
              "#bd3786"
             ],
             [
              0.5555555555555556,
              "#d8576b"
             ],
             [
              0.6666666666666666,
              "#ed7953"
             ],
             [
              0.7777777777777778,
              "#fb9f3a"
             ],
             [
              0.8888888888888888,
              "#fdca26"
             ],
             [
              1,
              "#f0f921"
             ]
            ],
            "type": "contour"
           }
          ],
          "contourcarpet": [
           {
            "colorbar": {
             "outlinewidth": 0,
             "ticks": ""
            },
            "type": "contourcarpet"
           }
          ],
          "heatmap": [
           {
            "colorbar": {
             "outlinewidth": 0,
             "ticks": ""
            },
            "colorscale": [
             [
              0,
              "#0d0887"
             ],
             [
              0.1111111111111111,
              "#46039f"
             ],
             [
              0.2222222222222222,
              "#7201a8"
             ],
             [
              0.3333333333333333,
              "#9c179e"
             ],
             [
              0.4444444444444444,
              "#bd3786"
             ],
             [
              0.5555555555555556,
              "#d8576b"
             ],
             [
              0.6666666666666666,
              "#ed7953"
             ],
             [
              0.7777777777777778,
              "#fb9f3a"
             ],
             [
              0.8888888888888888,
              "#fdca26"
             ],
             [
              1,
              "#f0f921"
             ]
            ],
            "type": "heatmap"
           }
          ],
          "heatmapgl": [
           {
            "colorbar": {
             "outlinewidth": 0,
             "ticks": ""
            },
            "colorscale": [
             [
              0,
              "#0d0887"
             ],
             [
              0.1111111111111111,
              "#46039f"
             ],
             [
              0.2222222222222222,
              "#7201a8"
             ],
             [
              0.3333333333333333,
              "#9c179e"
             ],
             [
              0.4444444444444444,
              "#bd3786"
             ],
             [
              0.5555555555555556,
              "#d8576b"
             ],
             [
              0.6666666666666666,
              "#ed7953"
             ],
             [
              0.7777777777777778,
              "#fb9f3a"
             ],
             [
              0.8888888888888888,
              "#fdca26"
             ],
             [
              1,
              "#f0f921"
             ]
            ],
            "type": "heatmapgl"
           }
          ],
          "histogram": [
           {
            "marker": {
             "pattern": {
              "fillmode": "overlay",
              "size": 10,
              "solidity": 0.2
             }
            },
            "type": "histogram"
           }
          ],
          "histogram2d": [
           {
            "colorbar": {
             "outlinewidth": 0,
             "ticks": ""
            },
            "colorscale": [
             [
              0,
              "#0d0887"
             ],
             [
              0.1111111111111111,
              "#46039f"
             ],
             [
              0.2222222222222222,
              "#7201a8"
             ],
             [
              0.3333333333333333,
              "#9c179e"
             ],
             [
              0.4444444444444444,
              "#bd3786"
             ],
             [
              0.5555555555555556,
              "#d8576b"
             ],
             [
              0.6666666666666666,
              "#ed7953"
             ],
             [
              0.7777777777777778,
              "#fb9f3a"
             ],
             [
              0.8888888888888888,
              "#fdca26"
             ],
             [
              1,
              "#f0f921"
             ]
            ],
            "type": "histogram2d"
           }
          ],
          "histogram2dcontour": [
           {
            "colorbar": {
             "outlinewidth": 0,
             "ticks": ""
            },
            "colorscale": [
             [
              0,
              "#0d0887"
             ],
             [
              0.1111111111111111,
              "#46039f"
             ],
             [
              0.2222222222222222,
              "#7201a8"
             ],
             [
              0.3333333333333333,
              "#9c179e"
             ],
             [
              0.4444444444444444,
              "#bd3786"
             ],
             [
              0.5555555555555556,
              "#d8576b"
             ],
             [
              0.6666666666666666,
              "#ed7953"
             ],
             [
              0.7777777777777778,
              "#fb9f3a"
             ],
             [
              0.8888888888888888,
              "#fdca26"
             ],
             [
              1,
              "#f0f921"
             ]
            ],
            "type": "histogram2dcontour"
           }
          ],
          "mesh3d": [
           {
            "colorbar": {
             "outlinewidth": 0,
             "ticks": ""
            },
            "type": "mesh3d"
           }
          ],
          "parcoords": [
           {
            "line": {
             "colorbar": {
              "outlinewidth": 0,
              "ticks": ""
             }
            },
            "type": "parcoords"
           }
          ],
          "pie": [
           {
            "automargin": true,
            "type": "pie"
           }
          ],
          "scatter": [
           {
            "fillpattern": {
             "fillmode": "overlay",
             "size": 10,
             "solidity": 0.2
            },
            "type": "scatter"
           }
          ],
          "scatter3d": [
           {
            "line": {
             "colorbar": {
              "outlinewidth": 0,
              "ticks": ""
             }
            },
            "marker": {
             "colorbar": {
              "outlinewidth": 0,
              "ticks": ""
             }
            },
            "type": "scatter3d"
           }
          ],
          "scattercarpet": [
           {
            "marker": {
             "colorbar": {
              "outlinewidth": 0,
              "ticks": ""
             }
            },
            "type": "scattercarpet"
           }
          ],
          "scattergeo": [
           {
            "marker": {
             "colorbar": {
              "outlinewidth": 0,
              "ticks": ""
             }
            },
            "type": "scattergeo"
           }
          ],
          "scattergl": [
           {
            "marker": {
             "colorbar": {
              "outlinewidth": 0,
              "ticks": ""
             }
            },
            "type": "scattergl"
           }
          ],
          "scattermapbox": [
           {
            "marker": {
             "colorbar": {
              "outlinewidth": 0,
              "ticks": ""
             }
            },
            "type": "scattermapbox"
           }
          ],
          "scatterpolar": [
           {
            "marker": {
             "colorbar": {
              "outlinewidth": 0,
              "ticks": ""
             }
            },
            "type": "scatterpolar"
           }
          ],
          "scatterpolargl": [
           {
            "marker": {
             "colorbar": {
              "outlinewidth": 0,
              "ticks": ""
             }
            },
            "type": "scatterpolargl"
           }
          ],
          "scatterternary": [
           {
            "marker": {
             "colorbar": {
              "outlinewidth": 0,
              "ticks": ""
             }
            },
            "type": "scatterternary"
           }
          ],
          "surface": [
           {
            "colorbar": {
             "outlinewidth": 0,
             "ticks": ""
            },
            "colorscale": [
             [
              0,
              "#0d0887"
             ],
             [
              0.1111111111111111,
              "#46039f"
             ],
             [
              0.2222222222222222,
              "#7201a8"
             ],
             [
              0.3333333333333333,
              "#9c179e"
             ],
             [
              0.4444444444444444,
              "#bd3786"
             ],
             [
              0.5555555555555556,
              "#d8576b"
             ],
             [
              0.6666666666666666,
              "#ed7953"
             ],
             [
              0.7777777777777778,
              "#fb9f3a"
             ],
             [
              0.8888888888888888,
              "#fdca26"
             ],
             [
              1,
              "#f0f921"
             ]
            ],
            "type": "surface"
           }
          ],
          "table": [
           {
            "cells": {
             "fill": {
              "color": "#EBF0F8"
             },
             "line": {
              "color": "white"
             }
            },
            "header": {
             "fill": {
              "color": "#C8D4E3"
             },
             "line": {
              "color": "white"
             }
            },
            "type": "table"
           }
          ]
         },
         "layout": {
          "annotationdefaults": {
           "arrowcolor": "#2a3f5f",
           "arrowhead": 0,
           "arrowwidth": 1
          },
          "autotypenumbers": "strict",
          "coloraxis": {
           "colorbar": {
            "outlinewidth": 0,
            "ticks": ""
           }
          },
          "colorscale": {
           "diverging": [
            [
             0,
             "#8e0152"
            ],
            [
             0.1,
             "#c51b7d"
            ],
            [
             0.2,
             "#de77ae"
            ],
            [
             0.3,
             "#f1b6da"
            ],
            [
             0.4,
             "#fde0ef"
            ],
            [
             0.5,
             "#f7f7f7"
            ],
            [
             0.6,
             "#e6f5d0"
            ],
            [
             0.7,
             "#b8e186"
            ],
            [
             0.8,
             "#7fbc41"
            ],
            [
             0.9,
             "#4d9221"
            ],
            [
             1,
             "#276419"
            ]
           ],
           "sequential": [
            [
             0,
             "#0d0887"
            ],
            [
             0.1111111111111111,
             "#46039f"
            ],
            [
             0.2222222222222222,
             "#7201a8"
            ],
            [
             0.3333333333333333,
             "#9c179e"
            ],
            [
             0.4444444444444444,
             "#bd3786"
            ],
            [
             0.5555555555555556,
             "#d8576b"
            ],
            [
             0.6666666666666666,
             "#ed7953"
            ],
            [
             0.7777777777777778,
             "#fb9f3a"
            ],
            [
             0.8888888888888888,
             "#fdca26"
            ],
            [
             1,
             "#f0f921"
            ]
           ],
           "sequentialminus": [
            [
             0,
             "#0d0887"
            ],
            [
             0.1111111111111111,
             "#46039f"
            ],
            [
             0.2222222222222222,
             "#7201a8"
            ],
            [
             0.3333333333333333,
             "#9c179e"
            ],
            [
             0.4444444444444444,
             "#bd3786"
            ],
            [
             0.5555555555555556,
             "#d8576b"
            ],
            [
             0.6666666666666666,
             "#ed7953"
            ],
            [
             0.7777777777777778,
             "#fb9f3a"
            ],
            [
             0.8888888888888888,
             "#fdca26"
            ],
            [
             1,
             "#f0f921"
            ]
           ]
          },
          "colorway": [
           "#636efa",
           "#EF553B",
           "#00cc96",
           "#ab63fa",
           "#FFA15A",
           "#19d3f3",
           "#FF6692",
           "#B6E880",
           "#FF97FF",
           "#FECB52"
          ],
          "font": {
           "color": "#2a3f5f"
          },
          "geo": {
           "bgcolor": "white",
           "lakecolor": "white",
           "landcolor": "#E5ECF6",
           "showlakes": true,
           "showland": true,
           "subunitcolor": "white"
          },
          "hoverlabel": {
           "align": "left"
          },
          "hovermode": "closest",
          "mapbox": {
           "style": "light"
          },
          "paper_bgcolor": "white",
          "plot_bgcolor": "#E5ECF6",
          "polar": {
           "angularaxis": {
            "gridcolor": "white",
            "linecolor": "white",
            "ticks": ""
           },
           "bgcolor": "#E5ECF6",
           "radialaxis": {
            "gridcolor": "white",
            "linecolor": "white",
            "ticks": ""
           }
          },
          "scene": {
           "xaxis": {
            "backgroundcolor": "#E5ECF6",
            "gridcolor": "white",
            "gridwidth": 2,
            "linecolor": "white",
            "showbackground": true,
            "ticks": "",
            "zerolinecolor": "white"
           },
           "yaxis": {
            "backgroundcolor": "#E5ECF6",
            "gridcolor": "white",
            "gridwidth": 2,
            "linecolor": "white",
            "showbackground": true,
            "ticks": "",
            "zerolinecolor": "white"
           },
           "zaxis": {
            "backgroundcolor": "#E5ECF6",
            "gridcolor": "white",
            "gridwidth": 2,
            "linecolor": "white",
            "showbackground": true,
            "ticks": "",
            "zerolinecolor": "white"
           }
          },
          "shapedefaults": {
           "line": {
            "color": "#2a3f5f"
           }
          },
          "ternary": {
           "aaxis": {
            "gridcolor": "white",
            "linecolor": "white",
            "ticks": ""
           },
           "baxis": {
            "gridcolor": "white",
            "linecolor": "white",
            "ticks": ""
           },
           "bgcolor": "#E5ECF6",
           "caxis": {
            "gridcolor": "white",
            "linecolor": "white",
            "ticks": ""
           }
          },
          "title": {
           "x": 0.05
          },
          "xaxis": {
           "automargin": true,
           "gridcolor": "white",
           "linecolor": "white",
           "ticks": "",
           "title": {
            "standoff": 15
           },
           "zerolinecolor": "white",
           "zerolinewidth": 2
          },
          "yaxis": {
           "automargin": true,
           "gridcolor": "white",
           "linecolor": "white",
           "ticks": "",
           "title": {
            "standoff": 15
           },
           "zerolinecolor": "white",
           "zerolinewidth": 2
          }
         }
        }
       }
      },
      "text/html": [
       "<div>                            <div id=\"ed09eb33-9ac8-4505-b970-8972271009eb\" class=\"plotly-graph-div\" style=\"height:525px; width:100%;\"></div>            <script type=\"text/javascript\">                require([\"plotly\"], function(Plotly) {                    window.PLOTLYENV=window.PLOTLYENV || {};                                    if (document.getElementById(\"ed09eb33-9ac8-4505-b970-8972271009eb\")) {                    Plotly.newPlot(                        \"ed09eb33-9ac8-4505-b970-8972271009eb\",                        [{\"x\":[0.0,0.01800000004004687,0.12100000004284084,0.25100000004749745,0.34300000010989606,0.4190000001108274,0.5600000000558794,0.6170000000856817,0.7250000000931323,0.8570000000763685,0.9250000000465661,1.0330000000540167,1.1739999999990687,1.2300000000977889,1.343000000109896,1.4170000000158325,1.5370000000111759,1.6480000000447035,1.7160000000149012,1.8209999999962747,1.922000000020489,2.0010000000474975,2.1510000000707805,2.2290000000502914,2.4300000000512227,2.4980000000214204,2.534000000101514,2.7020000000484288,2.7989999999990687,2.8380000001052395,3.002000000094995,3.103000000002794,3.1440000000875443,3.2660000000614673,3.3570000000763685,3.4860000000335276,3.525000000023283,3.7220000000670552,3.762000000104308,3.8320000000530854,4.0230000000447035,4.069000000017695,4.14000000001397,4.282000000006519,4.3600000001024455,4.44800000009127,4.5070000000996515,4.633000000030734,4.726000000024214,4.94800000009127,4.990000000107102,5.033000000054017,5.134000000078231,5.24800000002142,5.339000000036322,5.474000000045635,5.57300000009127,5.614000000059605,5.7570000000996515,5.875,5.926000000094064,6.0670000000391155,6.182000000029802,6.2350000001024455,6.341000000014901,6.512000000104308,6.579000000027008,6.618000000016764,6.7730000000447035,6.856000000028871,6.927000000025146,7.066000000108033,7.1510000000707805,7.238000000012107,7.3080000000773,7.4610000000102445,7.546000000089407,7.753000000026077,7.815000000060536,7.853000000002794,7.923999999999069,8.051000000094064,8.160000000032596,8.23300000000745,8.318000000086613,8.427000000025146,8.53900000010617,8.660000000032596,8.747000000090338,8.852000000071712,8.989000000059605,9.078000000095926,9.127000000094995,9.274000000092201,9.361000000033528,9.434000000008382,9.524000000092201,9.63600000005681,9.754000000073574,9.83800000010524,9.949000000022352,10.016000000061467,10.065000000060536,10.085000000079162,11.104000000050291,12.092000000062399,13.12100000004284,14.091000000014901,15.08800000010524,16.113000000012107,17.14000000001397,18.087000000057742,19.101000000024214,20.10800000000745],\"y\":[4.08078,3.96745,3.96156,3.96156,3.95955,3.959,3.95889,3.95855,3.95755,3.95755,3.95722,3.95644,3.95644,3.95611,3.95533,3.95511,3.95511,3.95433,3.95422,3.95422,3.95355,3.95333,3.95322,3.95266,3.95255,3.95221,3.95188,3.95166,3.95166,3.95121,3.95099,3.95088,3.95055,3.95032,3.9501,3.94999,3.94977,3.94955,3.94932,3.9491,3.94888,3.94866,3.94843,3.94832,3.9481,3.94788,3.94777,3.94766,3.94743,3.9471,3.94699,3.94677,3.94665,3.94665,3.94621,3.9461,3.9461,3.94588,3.94565,3.94554,3.94532,3.94521,3.9451,3.94488,3.94476,3.94454,3.94443,3.94421,3.9441,3.94399,3.94376,3.94365,3.94354,3.94332,3.94321,3.94321,3.94287,3.94276,3.94265,3.94243,3.94232,3.94221,3.9421,3.94187,3.94176,3.94176,3.94154,3.94143,3.94132,3.9411,3.94098,3.94087,3.94076,3.94054,3.94054,3.94043,3.94021,3.94021,3.93998,3.93987,3.93987,3.93976,3.93954,3.93943,4.06199,4.06411,4.06544,4.06644,4.06744,4.06822,4.06878,4.06922,4.06978,4.07011],\"type\":\"scatter\"}],                        {\"template\":{\"data\":{\"histogram2dcontour\":[{\"type\":\"histogram2dcontour\",\"colorbar\":{\"outlinewidth\":0,\"ticks\":\"\"},\"colorscale\":[[0.0,\"#0d0887\"],[0.1111111111111111,\"#46039f\"],[0.2222222222222222,\"#7201a8\"],[0.3333333333333333,\"#9c179e\"],[0.4444444444444444,\"#bd3786\"],[0.5555555555555556,\"#d8576b\"],[0.6666666666666666,\"#ed7953\"],[0.7777777777777778,\"#fb9f3a\"],[0.8888888888888888,\"#fdca26\"],[1.0,\"#f0f921\"]]}],\"choropleth\":[{\"type\":\"choropleth\",\"colorbar\":{\"outlinewidth\":0,\"ticks\":\"\"}}],\"histogram2d\":[{\"type\":\"histogram2d\",\"colorbar\":{\"outlinewidth\":0,\"ticks\":\"\"},\"colorscale\":[[0.0,\"#0d0887\"],[0.1111111111111111,\"#46039f\"],[0.2222222222222222,\"#7201a8\"],[0.3333333333333333,\"#9c179e\"],[0.4444444444444444,\"#bd3786\"],[0.5555555555555556,\"#d8576b\"],[0.6666666666666666,\"#ed7953\"],[0.7777777777777778,\"#fb9f3a\"],[0.8888888888888888,\"#fdca26\"],[1.0,\"#f0f921\"]]}],\"heatmap\":[{\"type\":\"heatmap\",\"colorbar\":{\"outlinewidth\":0,\"ticks\":\"\"},\"colorscale\":[[0.0,\"#0d0887\"],[0.1111111111111111,\"#46039f\"],[0.2222222222222222,\"#7201a8\"],[0.3333333333333333,\"#9c179e\"],[0.4444444444444444,\"#bd3786\"],[0.5555555555555556,\"#d8576b\"],[0.6666666666666666,\"#ed7953\"],[0.7777777777777778,\"#fb9f3a\"],[0.8888888888888888,\"#fdca26\"],[1.0,\"#f0f921\"]]}],\"heatmapgl\":[{\"type\":\"heatmapgl\",\"colorbar\":{\"outlinewidth\":0,\"ticks\":\"\"},\"colorscale\":[[0.0,\"#0d0887\"],[0.1111111111111111,\"#46039f\"],[0.2222222222222222,\"#7201a8\"],[0.3333333333333333,\"#9c179e\"],[0.4444444444444444,\"#bd3786\"],[0.5555555555555556,\"#d8576b\"],[0.6666666666666666,\"#ed7953\"],[0.7777777777777778,\"#fb9f3a\"],[0.8888888888888888,\"#fdca26\"],[1.0,\"#f0f921\"]]}],\"contourcarpet\":[{\"type\":\"contourcarpet\",\"colorbar\":{\"outlinewidth\":0,\"ticks\":\"\"}}],\"contour\":[{\"type\":\"contour\",\"colorbar\":{\"outlinewidth\":0,\"ticks\":\"\"},\"colorscale\":[[0.0,\"#0d0887\"],[0.1111111111111111,\"#46039f\"],[0.2222222222222222,\"#7201a8\"],[0.3333333333333333,\"#9c179e\"],[0.4444444444444444,\"#bd3786\"],[0.5555555555555556,\"#d8576b\"],[0.6666666666666666,\"#ed7953\"],[0.7777777777777778,\"#fb9f3a\"],[0.8888888888888888,\"#fdca26\"],[1.0,\"#f0f921\"]]}],\"surface\":[{\"type\":\"surface\",\"colorbar\":{\"outlinewidth\":0,\"ticks\":\"\"},\"colorscale\":[[0.0,\"#0d0887\"],[0.1111111111111111,\"#46039f\"],[0.2222222222222222,\"#7201a8\"],[0.3333333333333333,\"#9c179e\"],[0.4444444444444444,\"#bd3786\"],[0.5555555555555556,\"#d8576b\"],[0.6666666666666666,\"#ed7953\"],[0.7777777777777778,\"#fb9f3a\"],[0.8888888888888888,\"#fdca26\"],[1.0,\"#f0f921\"]]}],\"mesh3d\":[{\"type\":\"mesh3d\",\"colorbar\":{\"outlinewidth\":0,\"ticks\":\"\"}}],\"scatter\":[{\"fillpattern\":{\"fillmode\":\"overlay\",\"size\":10,\"solidity\":0.2},\"type\":\"scatter\"}],\"parcoords\":[{\"type\":\"parcoords\",\"line\":{\"colorbar\":{\"outlinewidth\":0,\"ticks\":\"\"}}}],\"scatterpolargl\":[{\"type\":\"scatterpolargl\",\"marker\":{\"colorbar\":{\"outlinewidth\":0,\"ticks\":\"\"}}}],\"bar\":[{\"error_x\":{\"color\":\"#2a3f5f\"},\"error_y\":{\"color\":\"#2a3f5f\"},\"marker\":{\"line\":{\"color\":\"#E5ECF6\",\"width\":0.5},\"pattern\":{\"fillmode\":\"overlay\",\"size\":10,\"solidity\":0.2}},\"type\":\"bar\"}],\"scattergeo\":[{\"type\":\"scattergeo\",\"marker\":{\"colorbar\":{\"outlinewidth\":0,\"ticks\":\"\"}}}],\"scatterpolar\":[{\"type\":\"scatterpolar\",\"marker\":{\"colorbar\":{\"outlinewidth\":0,\"ticks\":\"\"}}}],\"histogram\":[{\"marker\":{\"pattern\":{\"fillmode\":\"overlay\",\"size\":10,\"solidity\":0.2}},\"type\":\"histogram\"}],\"scattergl\":[{\"type\":\"scattergl\",\"marker\":{\"colorbar\":{\"outlinewidth\":0,\"ticks\":\"\"}}}],\"scatter3d\":[{\"type\":\"scatter3d\",\"line\":{\"colorbar\":{\"outlinewidth\":0,\"ticks\":\"\"}},\"marker\":{\"colorbar\":{\"outlinewidth\":0,\"ticks\":\"\"}}}],\"scattermapbox\":[{\"type\":\"scattermapbox\",\"marker\":{\"colorbar\":{\"outlinewidth\":0,\"ticks\":\"\"}}}],\"scatterternary\":[{\"type\":\"scatterternary\",\"marker\":{\"colorbar\":{\"outlinewidth\":0,\"ticks\":\"\"}}}],\"scattercarpet\":[{\"type\":\"scattercarpet\",\"marker\":{\"colorbar\":{\"outlinewidth\":0,\"ticks\":\"\"}}}],\"carpet\":[{\"aaxis\":{\"endlinecolor\":\"#2a3f5f\",\"gridcolor\":\"white\",\"linecolor\":\"white\",\"minorgridcolor\":\"white\",\"startlinecolor\":\"#2a3f5f\"},\"baxis\":{\"endlinecolor\":\"#2a3f5f\",\"gridcolor\":\"white\",\"linecolor\":\"white\",\"minorgridcolor\":\"white\",\"startlinecolor\":\"#2a3f5f\"},\"type\":\"carpet\"}],\"table\":[{\"cells\":{\"fill\":{\"color\":\"#EBF0F8\"},\"line\":{\"color\":\"white\"}},\"header\":{\"fill\":{\"color\":\"#C8D4E3\"},\"line\":{\"color\":\"white\"}},\"type\":\"table\"}],\"barpolar\":[{\"marker\":{\"line\":{\"color\":\"#E5ECF6\",\"width\":0.5},\"pattern\":{\"fillmode\":\"overlay\",\"size\":10,\"solidity\":0.2}},\"type\":\"barpolar\"}],\"pie\":[{\"automargin\":true,\"type\":\"pie\"}]},\"layout\":{\"autotypenumbers\":\"strict\",\"colorway\":[\"#636efa\",\"#EF553B\",\"#00cc96\",\"#ab63fa\",\"#FFA15A\",\"#19d3f3\",\"#FF6692\",\"#B6E880\",\"#FF97FF\",\"#FECB52\"],\"font\":{\"color\":\"#2a3f5f\"},\"hovermode\":\"closest\",\"hoverlabel\":{\"align\":\"left\"},\"paper_bgcolor\":\"white\",\"plot_bgcolor\":\"#E5ECF6\",\"polar\":{\"bgcolor\":\"#E5ECF6\",\"angularaxis\":{\"gridcolor\":\"white\",\"linecolor\":\"white\",\"ticks\":\"\"},\"radialaxis\":{\"gridcolor\":\"white\",\"linecolor\":\"white\",\"ticks\":\"\"}},\"ternary\":{\"bgcolor\":\"#E5ECF6\",\"aaxis\":{\"gridcolor\":\"white\",\"linecolor\":\"white\",\"ticks\":\"\"},\"baxis\":{\"gridcolor\":\"white\",\"linecolor\":\"white\",\"ticks\":\"\"},\"caxis\":{\"gridcolor\":\"white\",\"linecolor\":\"white\",\"ticks\":\"\"}},\"coloraxis\":{\"colorbar\":{\"outlinewidth\":0,\"ticks\":\"\"}},\"colorscale\":{\"sequential\":[[0.0,\"#0d0887\"],[0.1111111111111111,\"#46039f\"],[0.2222222222222222,\"#7201a8\"],[0.3333333333333333,\"#9c179e\"],[0.4444444444444444,\"#bd3786\"],[0.5555555555555556,\"#d8576b\"],[0.6666666666666666,\"#ed7953\"],[0.7777777777777778,\"#fb9f3a\"],[0.8888888888888888,\"#fdca26\"],[1.0,\"#f0f921\"]],\"sequentialminus\":[[0.0,\"#0d0887\"],[0.1111111111111111,\"#46039f\"],[0.2222222222222222,\"#7201a8\"],[0.3333333333333333,\"#9c179e\"],[0.4444444444444444,\"#bd3786\"],[0.5555555555555556,\"#d8576b\"],[0.6666666666666666,\"#ed7953\"],[0.7777777777777778,\"#fb9f3a\"],[0.8888888888888888,\"#fdca26\"],[1.0,\"#f0f921\"]],\"diverging\":[[0,\"#8e0152\"],[0.1,\"#c51b7d\"],[0.2,\"#de77ae\"],[0.3,\"#f1b6da\"],[0.4,\"#fde0ef\"],[0.5,\"#f7f7f7\"],[0.6,\"#e6f5d0\"],[0.7,\"#b8e186\"],[0.8,\"#7fbc41\"],[0.9,\"#4d9221\"],[1,\"#276419\"]]},\"xaxis\":{\"gridcolor\":\"white\",\"linecolor\":\"white\",\"ticks\":\"\",\"title\":{\"standoff\":15},\"zerolinecolor\":\"white\",\"automargin\":true,\"zerolinewidth\":2},\"yaxis\":{\"gridcolor\":\"white\",\"linecolor\":\"white\",\"ticks\":\"\",\"title\":{\"standoff\":15},\"zerolinecolor\":\"white\",\"automargin\":true,\"zerolinewidth\":2},\"scene\":{\"xaxis\":{\"backgroundcolor\":\"#E5ECF6\",\"gridcolor\":\"white\",\"linecolor\":\"white\",\"showbackground\":true,\"ticks\":\"\",\"zerolinecolor\":\"white\",\"gridwidth\":2},\"yaxis\":{\"backgroundcolor\":\"#E5ECF6\",\"gridcolor\":\"white\",\"linecolor\":\"white\",\"showbackground\":true,\"ticks\":\"\",\"zerolinecolor\":\"white\",\"gridwidth\":2},\"zaxis\":{\"backgroundcolor\":\"#E5ECF6\",\"gridcolor\":\"white\",\"linecolor\":\"white\",\"showbackground\":true,\"ticks\":\"\",\"zerolinecolor\":\"white\",\"gridwidth\":2}},\"shapedefaults\":{\"line\":{\"color\":\"#2a3f5f\"}},\"annotationdefaults\":{\"arrowcolor\":\"#2a3f5f\",\"arrowhead\":0,\"arrowwidth\":1},\"geo\":{\"bgcolor\":\"white\",\"landcolor\":\"#E5ECF6\",\"subunitcolor\":\"white\",\"showland\":true,\"showlakes\":true,\"lakecolor\":\"white\"},\"title\":{\"x\":0.05},\"mapbox\":{\"style\":\"light\"}}}},                        {\"responsive\": true}                    ).then(function(){\n",
       "                            \n",
       "var gd = document.getElementById('ed09eb33-9ac8-4505-b970-8972271009eb');\n",
       "var x = new MutationObserver(function (mutations, observer) {{\n",
       "        var display = window.getComputedStyle(gd).display;\n",
       "        if (!display || display === 'none') {{\n",
       "            console.log([gd, 'removed!']);\n",
       "            Plotly.purge(gd);\n",
       "            observer.disconnect();\n",
       "        }}\n",
       "}});\n",
       "\n",
       "// Listen for the removal of the full notebook cells\n",
       "var notebookContainer = gd.closest('#notebook-container');\n",
       "if (notebookContainer) {{\n",
       "    x.observe(notebookContainer, {childList: true});\n",
       "}}\n",
       "\n",
       "// Listen for the clearing of the current output cell\n",
       "var outputEl = gd.closest('.output');\n",
       "if (outputEl) {{\n",
       "    x.observe(outputEl, {childList: true});\n",
       "}}\n",
       "\n",
       "                        })                };                });            </script>        </div>"
      ]
     },
     "metadata": {},
     "output_type": "display_data"
    }
   ],
   "source": [
    "go.Figure(\n",
    "    data=go.Scatter(\n",
    "        x=df[\"ProgTime\"],\n",
    "        y=df[\"Voltage\"],\n",
    "    )\n",
    ")"
   ]
  },
  {
   "cell_type": "markdown",
   "id": "10",
   "metadata": {},
   "source": [
    "Next, we construct the OCV function from the imported `OCV` data. This is completed with a wrapper method on the `pybamm.Interpolant` function,"
   ]
  },
  {
   "cell_type": "code",
   "execution_count": null,
   "id": "11",
   "metadata": {},
   "outputs": [],
   "source": [
    "def ocv_LGM50(sto):\n",
    "    name = \"OCV\"\n",
    "    x = (ocp[\"LGM50_5Ah_OCV\"][\"T25\"][\"refSoC\"].reshape(-1) / 100,)\n",
    "    y = ocp[\"LGM50_5Ah_OCV\"][\"T25\"][\"meanOCV\"].reshape(-1)\n",
    "    return pybamm.Interpolant(x, y, sto, name)"
   ]
  },
  {
   "cell_type": "markdown",
   "id": "12",
   "metadata": {},
   "source": [
    "We can construct the two RC parameter set with initial values as listed. Note, the initial SOC is shifted slightly to better match the zero degree data."
   ]
  },
  {
   "cell_type": "code",
   "execution_count": null,
   "id": "13",
   "metadata": {},
   "outputs": [],
   "source": [
    "params = pybop.ParameterSet(\n",
    "    params_dict={\n",
    "        \"chemistry\": \"ecm\",\n",
    "        \"Initial SoC\": 0.9 - 0.01,\n",
    "        \"Initial temperature [K]\": 25 + 273.15,\n",
    "        \"Cell capacity [A.h]\": 5,\n",
    "        \"Nominal cell capacity [A.h]\": 5,\n",
    "        \"Ambient temperature [K]\": 25 + 273.15,\n",
    "        \"Current function [A]\": 4.85,\n",
    "        \"Upper voltage cut-off [V]\": 4.2,\n",
    "        \"Lower voltage cut-off [V]\": 3.0,\n",
    "        \"Cell thermal mass [J/K]\": 1000,\n",
    "        \"Cell-jig heat transfer coefficient [W/K]\": 10,\n",
    "        \"Jig thermal mass [J/K]\": 500,\n",
    "        \"Jig-air heat transfer coefficient [W/K]\": 10,\n",
    "        \"Open-circuit voltage [V]\": ocv_LGM50,\n",
    "        \"R0 [Ohm]\": 0.005,\n",
    "        \"Element-1 initial overpotential [V]\": 0,\n",
    "        \"Element-2 initial overpotential [V]\": 0,\n",
    "        \"R1 [Ohm]\": 0.0001,\n",
    "        \"R2 [Ohm]\": 0.0001,\n",
    "        \"C1 [F]\": 3000,\n",
    "        \"C2 [F]\": 6924,\n",
    "        \"Entropic change [V/K]\": 0.0004,\n",
    "    }\n",
    ")"
   ]
  },
  {
   "cell_type": "markdown",
   "id": "14",
   "metadata": {},
   "source": [
    "## Identifying the Parameters\n",
    "\n",
    "Now that the initial parameter set is defined, we can start the PyBOP fitting process. First, we construct the model class with two RC elements and the corresponding parameter set."
   ]
  },
  {
   "cell_type": "code",
   "execution_count": null,
   "id": "15",
   "metadata": {},
   "outputs": [],
   "source": [
    "model = pybop.empirical.Thevenin(\n",
    "    parameter_set=params, options={\"number of rc elements\": 2}\n",
    ")"
   ]
  },
  {
   "cell_type": "markdown",
   "id": "16",
   "metadata": {},
   "source": [
    "In this example, we are going to try to fit all five parameters at once. To do this, we define a `pybop.Parameter` for each fitting parameter and compile them in pybop.Parameters,"
   ]
  },
  {
   "cell_type": "code",
   "execution_count": null,
   "id": "17",
   "metadata": {},
   "outputs": [],
   "source": [
    "parameters = pybop.Parameters(\n",
    "    pybop.Parameter(\n",
    "        \"R0 [Ohm]\",\n",
    "        prior=pybop.Gaussian(0.005, 0.0001),\n",
    "        bounds=[1e-6, 2e-1],\n",
    "    ),\n",
    "    pybop.Parameter(\n",
    "        \"R1 [Ohm]\",\n",
    "        prior=pybop.Gaussian(0.0001, 0.0001),\n",
    "        bounds=[1e-6, 1],\n",
    "    ),\n",
    "    pybop.Parameter(\n",
    "        \"R2 [Ohm]\",\n",
    "        prior=pybop.Gaussian(0.0001, 0.0001),\n",
    "        bounds=[1e-6, 1],\n",
    "    ),\n",
    "    pybop.Parameter(\n",
    "        \"C1 [F]\",\n",
    "        prior=pybop.Gaussian(3000, 2500),\n",
    "        bounds=[0.5, 1e4],\n",
    "    ),\n",
    "    pybop.Parameter(\n",
    "        \"C2 [F]\",\n",
    "        prior=pybop.Gaussian(3000, 2500),\n",
    "        bounds=[0.5, 1e4],\n",
    "    ),\n",
    ")"
   ]
  },
  {
   "cell_type": "markdown",
   "id": "18",
   "metadata": {},
   "source": [
    "We can now form the `pybop.Dataset` from the experimental data. In this situation, the applied current convention is different between the experimental data and PyBOP's convention. This is solved by negating the vector on construction."
   ]
  },
  {
   "cell_type": "code",
   "execution_count": null,
   "id": "19",
   "metadata": {},
   "outputs": [],
   "source": [
    "dataset = pybop.Dataset(\n",
    "    {\n",
    "        \"Time [s]\": df[\"ProgTime\"].values,\n",
    "        \"Current function [A]\": -df[\"Current\"].values,\n",
    "        \"Voltage [V]\": df[\"Voltage\"].values,\n",
    "    }\n",
    ")"
   ]
  },
  {
   "cell_type": "markdown",
   "id": "20",
   "metadata": {},
   "source": [
    "The `FittingProblem` class provides us with a class to hold all of the objects we need to evaluate our selected `SumSquaredError` cost function. "
   ]
  },
  {
   "cell_type": "code",
   "execution_count": null,
   "id": "21",
   "metadata": {},
   "outputs": [],
   "source": [
    "problem = pybop.FittingProblem(model, parameters, dataset)\n",
    "cost = pybop.SumSquaredError(problem)"
   ]
  },
  {
   "cell_type": "markdown",
   "id": "22",
   "metadata": {},
   "source": [
    "The cost function can be interrogated manually via the `cost([params])` API. In this example, that would look like the following,"
   ]
  },
  {
   "cell_type": "code",
   "execution_count": null,
   "id": "23",
   "metadata": {},
   "outputs": [
    {
     "data": {
      "text/plain": [
       "1.1767544040154971"
      ]
     },
     "execution_count": null,
     "metadata": {},
     "output_type": "execute_result"
    }
   ],
   "source": [
    "cost([0.01, 0.01, 0.01, 20000, 20000])"
   ]
  },
  {
   "cell_type": "markdown",
   "id": "24",
   "metadata": {},
   "source": [
    "Next, we construct the optimisation class with our algorithm of choice and run it. In this case, we select the PSO method as it provides global optimisation capability. After optimisation, we can compare the initial parameters to the identified parameters."
   ]
  },
  {
   "cell_type": "code",
   "execution_count": null,
   "id": "25",
   "metadata": {},
   "outputs": [
    {
     "name": "stdout",
     "output_type": "stream",
     "text": [
      "Initial parameters: [5.04543261e-03 1.00999900e-04 1.00999900e-04 2.57219690e+03\n",
      " 4.50191255e+03]\n",
      "Estimated parameters: [3.62039354e-02 1.29958318e-02 1.69974284e-02 9.31018906e+00\n",
      " 9.61944051e+02]\n"
     ]
    }
   ],
   "source": [
    "optim = pybop.PSO(cost, max_unchanged_iterations=55, threshold=1e-6)\n",
    "x, final_cost = optim.run()\n",
    "print(\"Initial parameters:\", optim.x0)\n",
    "print(\"Estimated parameters:\", x)"
   ]
  },
  {
   "cell_type": "markdown",
   "id": "26",
   "metadata": {},
   "source": [
    "## Plotting and Visualisation\n",
    "\n",
    "PyBOP provides various plotting utilities to visualise the results of the optimisation. The `quick_plot` method provides a fast scatter of two variables. For this example, we plot the identified parameter set to the target dataset. The default plot is voltage vs time as shown below."
   ]
  },
  {
   "cell_type": "code",
   "execution_count": null,
   "id": "27",
   "metadata": {},
   "outputs": [
    {
     "data": {
      "image/svg+xml": [
       "<svg class=\"main-svg\" xmlns=\"http://www.w3.org/2000/svg\" xmlns:xlink=\"http://www.w3.org/1999/xlink\" width=\"700\" height=\"500\" style=\"\" viewBox=\"0 0 700 500\"><rect x=\"0\" y=\"0\" width=\"700\" height=\"500\" style=\"fill: rgb(255, 255, 255); fill-opacity: 1;\"/><defs id=\"defs-233de5\"><g class=\"clips\"><clipPath id=\"clip233de5xyplot\" class=\"plotclip\"><rect width=\"492\" height=\"320\"/></clipPath><clipPath class=\"axesclip\" id=\"clip233de5x\"><rect x=\"80\" y=\"0\" width=\"492\" height=\"500\"/></clipPath><clipPath class=\"axesclip\" id=\"clip233de5y\"><rect x=\"0\" y=\"100\" width=\"700\" height=\"320\"/></clipPath><clipPath class=\"axesclip\" id=\"clip233de5xy\"><rect x=\"80\" y=\"100\" width=\"492\" height=\"320\"/></clipPath></g><g class=\"gradients\"/><g class=\"patterns\"/></defs><g class=\"bglayer\"><rect class=\"bg\" x=\"80\" y=\"100\" width=\"492\" height=\"320\" style=\"fill: rgb(229, 236, 246); fill-opacity: 1; stroke-width: 0;\"/></g><g class=\"layer-below\"><g class=\"imagelayer\"/><g class=\"shapelayer\"/></g><g class=\"cartesianlayer\"><g class=\"subplot xy\"><g class=\"layer-subplot\"><g class=\"shapelayer\"/><g class=\"imagelayer\"/></g><g class=\"minor-gridlayer\"><g class=\"x\"/><g class=\"y\"/></g><g class=\"gridlayer\"><g class=\"x\"><path class=\"xgrid crisp\" transform=\"translate(216.59,0)\" d=\"M0,100v320\" style=\"stroke: rgb(255, 255, 255); stroke-opacity: 1; stroke-width: 1px;\"/><path class=\"xgrid crisp\" transform=\"translate(324.83000000000004,0)\" d=\"M0,100v320\" style=\"stroke: rgb(255, 255, 255); stroke-opacity: 1; stroke-width: 1px;\"/><path class=\"xgrid crisp\" transform=\"translate(433.07,0)\" d=\"M0,100v320\" style=\"stroke: rgb(255, 255, 255); stroke-opacity: 1; stroke-width: 1px;\"/><path class=\"xgrid crisp\" transform=\"translate(541.31,0)\" d=\"M0,100v320\" style=\"stroke: rgb(255, 255, 255); stroke-opacity: 1; stroke-width: 1px;\"/></g><g class=\"y\"><path class=\"ygrid crisp\" transform=\"translate(0,359.68)\" d=\"M80,0h492\" style=\"stroke: rgb(255, 255, 255); stroke-opacity: 1; stroke-width: 1px;\"/><path class=\"ygrid crisp\" transform=\"translate(0,275.21000000000004)\" d=\"M80,0h492\" style=\"stroke: rgb(255, 255, 255); stroke-opacity: 1; stroke-width: 1px;\"/><path class=\"ygrid crisp\" transform=\"translate(0,190.75)\" d=\"M80,0h492\" style=\"stroke: rgb(255, 255, 255); stroke-opacity: 1; stroke-width: 1px;\"/><path class=\"ygrid crisp\" transform=\"translate(0,106.29)\" d=\"M80,0h492\" style=\"stroke: rgb(255, 255, 255); stroke-opacity: 1; stroke-width: 1px;\"/></g></g><g class=\"zerolinelayer\"><path class=\"xzl zl crisp\" transform=\"translate(108.35,0)\" d=\"M0,100v320\" style=\"stroke: rgb(255, 255, 255); stroke-opacity: 1; stroke-width: 2px;\"/></g><g class=\"layer-between\"><g class=\"shapelayer\"/><g class=\"imagelayer\"/></g><path class=\"xlines-below\"/><path class=\"ylines-below\"/><g class=\"overlines-below\"/><g class=\"xaxislayer-below\"/><g class=\"yaxislayer-below\"/><g class=\"overaxes-below\"/><g class=\"overplot\"><g class=\"xy\" transform=\"translate(80,100)\" clip-path=\"url(#clip233de5xyplot)\"><g class=\"scatterlayer mlayer\"><g class=\"trace scatter traced824b5\" style=\"stroke-miterlimit: 2; opacity: 1;\"><g class=\"fills\"><g><path class=\"js-fill\" d=\"M28.35,16L28.74,16L30.97,186.85L33.78,211.74L35.78,218.97L37.42,222.09L40.47,224.9L44.04,226.37L46.9,227.11L71.67,231.93L74.92,232.53L109.79,238.64L111.31,238.87L171.62,248.11L174.97,248.56L246.24,257.59L246.67,100.41L268.73,47.85L290.12,46.03L377.17,39.7L399.4,38.32L463.65,34.78L463.65,81.19L377.17,86.11L354.98,87.58L268.73,94.26L246.67,146.83L246.24,304L245.18,303.88L135.46,289.15L130.66,288.4L80.95,280.04L76.6,279.27L41.71,271.93L40.47,271.31L37.42,268.5L35.78,265.39L33.78,258.15L30.97,233.27L28.35,62.41Z\" style=\"fill: rgb(255, 229, 204); fill-opacity: 0.8; stroke-width: 0;\"/></g></g><g class=\"errorbars\"/><g class=\"lines\"><path class=\"js-line\" d=\"M28.35,16L28.74,16L30.97,186.85L33.78,211.74L35.78,218.97L37.42,222.09L40.47,224.9L44.04,226.37L46.9,227.11L71.67,231.93L74.92,232.53L109.79,238.64L111.31,238.87L171.62,248.11L174.97,248.56L246.24,257.59L246.67,100.41L268.73,47.85L290.12,46.03L377.17,39.7L399.4,38.32L463.65,34.78L463.65,81.19L377.17,86.11L354.98,87.58L268.73,94.26L246.67,146.83L246.24,304L245.18,303.88L135.46,289.15L130.66,288.4L80.95,280.04L76.6,279.27L41.71,271.93L40.47,271.31L37.42,268.5L35.78,265.39L33.78,258.15L30.97,233.27L28.35,62.41\" style=\"vector-effect: none; fill: none; stroke: rgb(255, 255, 255); stroke-opacity: 0; stroke-width: 2px; opacity: 1;\"/></g><g class=\"points\"/><g class=\"text\"/></g><g class=\"trace scatter traceeb3442\" style=\"stroke-miterlimit: 2; opacity: 1;\"><g class=\"fills\"/><g class=\"errorbars\"/><g class=\"lines\"/><g class=\"points\"><path class=\"point\" transform=\"translate(28.35,38.76)\" d=\"M3,0A3,3 0 1,1 0,-3A3,3 0 0,1 3,0Z\" style=\"opacity: 1; stroke-width: 0px; fill: rgb(239, 85, 59); fill-opacity: 1;\"/><path class=\"point\" transform=\"translate(28.74,230.2)\" d=\"M3,0A3,3 0 1,1 0,-3A3,3 0 0,1 3,0Z\" style=\"opacity: 1; stroke-width: 0px; fill: rgb(239, 85, 59); fill-opacity: 1;\"/><path class=\"point\" transform=\"translate(30.97,240.15)\" d=\"M3,0A3,3 0 1,1 0,-3A3,3 0 0,1 3,0Z\" style=\"opacity: 1; stroke-width: 0px; fill: rgb(239, 85, 59); fill-opacity: 1;\"/><path class=\"point\" transform=\"translate(33.78,240.15)\" d=\"M3,0A3,3 0 1,1 0,-3A3,3 0 0,1 3,0Z\" style=\"opacity: 1; stroke-width: 0px; fill: rgb(239, 85, 59); fill-opacity: 1;\"/><path class=\"point\" transform=\"translate(35.78,243.54)\" d=\"M3,0A3,3 0 1,1 0,-3A3,3 0 0,1 3,0Z\" style=\"opacity: 1; stroke-width: 0px; fill: rgb(239, 85, 59); fill-opacity: 1;\"/><path class=\"point\" transform=\"translate(37.42,244.47)\" d=\"M3,0A3,3 0 1,1 0,-3A3,3 0 0,1 3,0Z\" style=\"opacity: 1; stroke-width: 0px; fill: rgb(239, 85, 59); fill-opacity: 1;\"/><path class=\"point\" transform=\"translate(40.47,244.66)\" d=\"M3,0A3,3 0 1,1 0,-3A3,3 0 0,1 3,0Z\" style=\"opacity: 1; stroke-width: 0px; fill: rgb(239, 85, 59); fill-opacity: 1;\"/><path class=\"point\" transform=\"translate(41.71,245.23)\" d=\"M3,0A3,3 0 1,1 0,-3A3,3 0 0,1 3,0Z\" style=\"opacity: 1; stroke-width: 0px; fill: rgb(239, 85, 59); fill-opacity: 1;\"/><path class=\"point\" transform=\"translate(44.04,246.92)\" d=\"M3,0A3,3 0 1,1 0,-3A3,3 0 0,1 3,0Z\" style=\"opacity: 1; stroke-width: 0px; fill: rgb(239, 85, 59); fill-opacity: 1;\"/><path class=\"point\" transform=\"translate(46.9,246.92)\" d=\"M3,0A3,3 0 1,1 0,-3A3,3 0 0,1 3,0Z\" style=\"opacity: 1; stroke-width: 0px; fill: rgb(239, 85, 59); fill-opacity: 1;\"/><path class=\"point\" transform=\"translate(48.37,247.48)\" d=\"M3,0A3,3 0 1,1 0,-3A3,3 0 0,1 3,0Z\" style=\"opacity: 1; stroke-width: 0px; fill: rgb(239, 85, 59); fill-opacity: 1;\"/><path class=\"point\" transform=\"translate(50.71,248.8)\" d=\"M3,0A3,3 0 1,1 0,-3A3,3 0 0,1 3,0Z\" style=\"opacity: 1; stroke-width: 0px; fill: rgb(239, 85, 59); fill-opacity: 1;\"/><path class=\"point\" transform=\"translate(53.76,248.8)\" d=\"M3,0A3,3 0 1,1 0,-3A3,3 0 0,1 3,0Z\" style=\"opacity: 1; stroke-width: 0px; fill: rgb(239, 85, 59); fill-opacity: 1;\"/><path class=\"point\" transform=\"translate(54.98,249.36)\" d=\"M3,0A3,3 0 1,1 0,-3A3,3 0 0,1 3,0Z\" style=\"opacity: 1; stroke-width: 0px; fill: rgb(239, 85, 59); fill-opacity: 1;\"/><path class=\"point\" transform=\"translate(57.42,250.67)\" d=\"M3,0A3,3 0 1,1 0,-3A3,3 0 0,1 3,0Z\" style=\"opacity: 1; stroke-width: 0px; fill: rgb(239, 85, 59); fill-opacity: 1;\"/><path class=\"point\" transform=\"translate(59.03,251.04)\" d=\"M3,0A3,3 0 1,1 0,-3A3,3 0 0,1 3,0Z\" style=\"opacity: 1; stroke-width: 0px; fill: rgb(239, 85, 59); fill-opacity: 1;\"/><path class=\"point\" transform=\"translate(61.62,251.04)\" d=\"M3,0A3,3 0 1,1 0,-3A3,3 0 0,1 3,0Z\" style=\"opacity: 1; stroke-width: 0px; fill: rgb(239, 85, 59); fill-opacity: 1;\"/><path class=\"point\" transform=\"translate(64.03,252.36)\" d=\"M3,0A3,3 0 1,1 0,-3A3,3 0 0,1 3,0Z\" style=\"opacity: 1; stroke-width: 0px; fill: rgb(239, 85, 59); fill-opacity: 1;\"/><path class=\"point\" transform=\"translate(65.5,252.55)\" d=\"M3,0A3,3 0 1,1 0,-3A3,3 0 0,1 3,0Z\" style=\"opacity: 1; stroke-width: 0px; fill: rgb(239, 85, 59); fill-opacity: 1;\"/><path class=\"point\" transform=\"translate(67.77,252.55)\" d=\"M3,0A3,3 0 1,1 0,-3A3,3 0 0,1 3,0Z\" style=\"opacity: 1; stroke-width: 0px; fill: rgb(239, 85, 59); fill-opacity: 1;\"/><path class=\"point\" transform=\"translate(69.96,253.68)\" d=\"M3,0A3,3 0 1,1 0,-3A3,3 0 0,1 3,0Z\" style=\"opacity: 1; stroke-width: 0px; fill: rgb(239, 85, 59); fill-opacity: 1;\"/><path class=\"point\" transform=\"translate(71.67,254.05)\" d=\"M3,0A3,3 0 1,1 0,-3A3,3 0 0,1 3,0Z\" style=\"opacity: 1; stroke-width: 0px; fill: rgb(239, 85, 59); fill-opacity: 1;\"/><path class=\"point\" transform=\"translate(74.92,254.24)\" d=\"M3,0A3,3 0 1,1 0,-3A3,3 0 0,1 3,0Z\" style=\"opacity: 1; stroke-width: 0px; fill: rgb(239, 85, 59); fill-opacity: 1;\"/><path class=\"point\" transform=\"translate(76.6,255.18)\" d=\"M3,0A3,3 0 1,1 0,-3A3,3 0 0,1 3,0Z\" style=\"opacity: 1; stroke-width: 0px; fill: rgb(239, 85, 59); fill-opacity: 1;\"/><path class=\"point\" transform=\"translate(80.95,255.37)\" d=\"M3,0A3,3 0 1,1 0,-3A3,3 0 0,1 3,0Z\" style=\"opacity: 1; stroke-width: 0px; fill: rgb(239, 85, 59); fill-opacity: 1;\"/><path class=\"point\" transform=\"translate(82.43,255.94)\" d=\"M3,0A3,3 0 1,1 0,-3A3,3 0 0,1 3,0Z\" style=\"opacity: 1; stroke-width: 0px; fill: rgb(239, 85, 59); fill-opacity: 1;\"/><path class=\"point\" transform=\"translate(83.21,256.5)\" d=\"M3,0A3,3 0 1,1 0,-3A3,3 0 0,1 3,0Z\" style=\"opacity: 1; stroke-width: 0px; fill: rgb(239, 85, 59); fill-opacity: 1;\"/><path class=\"point\" transform=\"translate(86.84,256.87)\" d=\"M3,0A3,3 0 1,1 0,-3A3,3 0 0,1 3,0Z\" style=\"opacity: 1; stroke-width: 0px; fill: rgb(239, 85, 59); fill-opacity: 1;\"/><path class=\"point\" transform=\"translate(88.94,256.87)\" d=\"M3,0A3,3 0 1,1 0,-3A3,3 0 0,1 3,0Z\" style=\"opacity: 1; stroke-width: 0px; fill: rgb(239, 85, 59); fill-opacity: 1;\"/><path class=\"point\" transform=\"translate(89.79,257.63)\" d=\"M3,0A3,3 0 1,1 0,-3A3,3 0 0,1 3,0Z\" style=\"opacity: 1; stroke-width: 0px; fill: rgb(239, 85, 59); fill-opacity: 1;\"/><path class=\"point\" transform=\"translate(93.34,258)\" d=\"M3,0A3,3 0 1,1 0,-3A3,3 0 0,1 3,0Z\" style=\"opacity: 1; stroke-width: 0px; fill: rgb(239, 85, 59); fill-opacity: 1;\"/><path class=\"point\" transform=\"translate(95.52,258.19)\" d=\"M3,0A3,3 0 1,1 0,-3A3,3 0 0,1 3,0Z\" style=\"opacity: 1; stroke-width: 0px; fill: rgb(239, 85, 59); fill-opacity: 1;\"/><path class=\"point\" transform=\"translate(96.41,258.75)\" d=\"M3,0A3,3 0 1,1 0,-3A3,3 0 0,1 3,0Z\" style=\"opacity: 1; stroke-width: 0px; fill: rgb(239, 85, 59); fill-opacity: 1;\"/><path class=\"point\" transform=\"translate(99.05,259.14)\" d=\"M3,0A3,3 0 1,1 0,-3A3,3 0 0,1 3,0Z\" style=\"opacity: 1; stroke-width: 0px; fill: rgb(239, 85, 59); fill-opacity: 1;\"/><path class=\"point\" transform=\"translate(101.02,259.51)\" d=\"M3,0A3,3 0 1,1 0,-3A3,3 0 0,1 3,0Z\" style=\"opacity: 1; stroke-width: 0px; fill: rgb(239, 85, 59); fill-opacity: 1;\"/><path class=\"point\" transform=\"translate(103.82,259.69)\" d=\"M3,0A3,3 0 1,1 0,-3A3,3 0 0,1 3,0Z\" style=\"opacity: 1; stroke-width: 0px; fill: rgb(239, 85, 59); fill-opacity: 1;\"/><path class=\"point\" transform=\"translate(104.66,260.07)\" d=\"M3,0A3,3 0 1,1 0,-3A3,3 0 0,1 3,0Z\" style=\"opacity: 1; stroke-width: 0px; fill: rgb(239, 85, 59); fill-opacity: 1;\"/><path class=\"point\" transform=\"translate(108.92,260.44)\" d=\"M3,0A3,3 0 1,1 0,-3A3,3 0 0,1 3,0Z\" style=\"opacity: 1; stroke-width: 0px; fill: rgb(239, 85, 59); fill-opacity: 1;\"/><path class=\"point\" transform=\"translate(109.79,260.83)\" d=\"M3,0A3,3 0 1,1 0,-3A3,3 0 0,1 3,0Z\" style=\"opacity: 1; stroke-width: 0px; fill: rgb(239, 85, 59); fill-opacity: 1;\"/><path class=\"point\" transform=\"translate(111.31,261.2)\" d=\"M3,0A3,3 0 1,1 0,-3A3,3 0 0,1 3,0Z\" style=\"opacity: 1; stroke-width: 0px; fill: rgb(239, 85, 59); fill-opacity: 1;\"/><path class=\"point\" transform=\"translate(115.44,261.57)\" d=\"M3,0A3,3 0 1,1 0,-3A3,3 0 0,1 3,0Z\" style=\"opacity: 1; stroke-width: 0px; fill: rgb(239, 85, 59); fill-opacity: 1;\"/><path class=\"point\" transform=\"translate(116.44,261.94)\" d=\"M3,0A3,3 0 1,1 0,-3A3,3 0 0,1 3,0Z\" style=\"opacity: 1; stroke-width: 0px; fill: rgb(239, 85, 59); fill-opacity: 1;\"/><path class=\"point\" transform=\"translate(117.97,262.33)\" d=\"M3,0A3,3 0 1,1 0,-3A3,3 0 0,1 3,0Z\" style=\"opacity: 1; stroke-width: 0px; fill: rgb(239, 85, 59); fill-opacity: 1;\"/><path class=\"point\" transform=\"translate(121.05,262.51)\" d=\"M3,0A3,3 0 1,1 0,-3A3,3 0 0,1 3,0Z\" style=\"opacity: 1; stroke-width: 0px; fill: rgb(239, 85, 59); fill-opacity: 1;\"/><path class=\"point\" transform=\"translate(122.74,262.89)\" d=\"M3,0A3,3 0 1,1 0,-3A3,3 0 0,1 3,0Z\" style=\"opacity: 1; stroke-width: 0px; fill: rgb(239, 85, 59); fill-opacity: 1;\"/><path class=\"point\" transform=\"translate(124.64,263.26)\" d=\"M3,0A3,3 0 1,1 0,-3A3,3 0 0,1 3,0Z\" style=\"opacity: 1; stroke-width: 0px; fill: rgb(239, 85, 59); fill-opacity: 1;\"/><path class=\"point\" transform=\"translate(125.92,263.44)\" d=\"M3,0A3,3 0 1,1 0,-3A3,3 0 0,1 3,0Z\" style=\"opacity: 1; stroke-width: 0px; fill: rgb(239, 85, 59); fill-opacity: 1;\"/><path class=\"point\" transform=\"translate(128.65,263.63)\" d=\"M3,0A3,3 0 1,1 0,-3A3,3 0 0,1 3,0Z\" style=\"opacity: 1; stroke-width: 0px; fill: rgb(239, 85, 59); fill-opacity: 1;\"/><path class=\"point\" transform=\"translate(130.66,264.02)\" d=\"M3,0A3,3 0 1,1 0,-3A3,3 0 0,1 3,0Z\" style=\"opacity: 1; stroke-width: 0px; fill: rgb(239, 85, 59); fill-opacity: 1;\"/><path class=\"point\" transform=\"translate(135.46,264.58)\" d=\"M3,0A3,3 0 1,1 0,-3A3,3 0 0,1 3,0Z\" style=\"opacity: 1; stroke-width: 0px; fill: rgb(239, 85, 59); fill-opacity: 1;\"/><path class=\"point\" transform=\"translate(136.37,264.76)\" d=\"M3,0A3,3 0 1,1 0,-3A3,3 0 0,1 3,0Z\" style=\"opacity: 1; stroke-width: 0px; fill: rgb(239, 85, 59); fill-opacity: 1;\"/><path class=\"point\" transform=\"translate(137.3,265.13)\" d=\"M3,0A3,3 0 1,1 0,-3A3,3 0 0,1 3,0Z\" style=\"opacity: 1; stroke-width: 0px; fill: rgb(239, 85, 59); fill-opacity: 1;\"/><path class=\"point\" transform=\"translate(139.49,265.34)\" d=\"M3,0A3,3 0 1,1 0,-3A3,3 0 0,1 3,0Z\" style=\"opacity: 1; stroke-width: 0px; fill: rgb(239, 85, 59); fill-opacity: 1;\"/><path class=\"point\" transform=\"translate(141.96,265.34)\" d=\"M3,0A3,3 0 1,1 0,-3A3,3 0 0,1 3,0Z\" style=\"opacity: 1; stroke-width: 0px; fill: rgb(239, 85, 59); fill-opacity: 1;\"/><path class=\"point\" transform=\"translate(143.93,266.08)\" d=\"M3,0A3,3 0 1,1 0,-3A3,3 0 0,1 3,0Z\" style=\"opacity: 1; stroke-width: 0px; fill: rgb(239, 85, 59); fill-opacity: 1;\"/><path class=\"point\" transform=\"translate(146.85,266.27)\" d=\"M3,0A3,3 0 1,1 0,-3A3,3 0 0,1 3,0Z\" style=\"opacity: 1; stroke-width: 0px; fill: rgb(239, 85, 59); fill-opacity: 1;\"/><path class=\"point\" transform=\"translate(148.99,266.27)\" d=\"M3,0A3,3 0 1,1 0,-3A3,3 0 0,1 3,0Z\" style=\"opacity: 1; stroke-width: 0px; fill: rgb(239, 85, 59); fill-opacity: 1;\"/><path class=\"point\" transform=\"translate(149.88,266.64)\" d=\"M3,0A3,3 0 1,1 0,-3A3,3 0 0,1 3,0Z\" style=\"opacity: 1; stroke-width: 0px; fill: rgb(239, 85, 59); fill-opacity: 1;\"/><path class=\"point\" transform=\"translate(152.98,267.03)\" d=\"M3,0A3,3 0 1,1 0,-3A3,3 0 0,1 3,0Z\" style=\"opacity: 1; stroke-width: 0px; fill: rgb(239, 85, 59); fill-opacity: 1;\"/><path class=\"point\" transform=\"translate(155.53,267.21)\" d=\"M3,0A3,3 0 1,1 0,-3A3,3 0 0,1 3,0Z\" style=\"opacity: 1; stroke-width: 0px; fill: rgb(239, 85, 59); fill-opacity: 1;\"/><path class=\"point\" transform=\"translate(156.64,267.58)\" d=\"M3,0A3,3 0 1,1 0,-3A3,3 0 0,1 3,0Z\" style=\"opacity: 1; stroke-width: 0px; fill: rgb(239, 85, 59); fill-opacity: 1;\"/><path class=\"point\" transform=\"translate(159.69,267.77)\" d=\"M3,0A3,3 0 1,1 0,-3A3,3 0 0,1 3,0Z\" style=\"opacity: 1; stroke-width: 0px; fill: rgb(239, 85, 59); fill-opacity: 1;\"/><path class=\"point\" transform=\"translate(162.18,267.95)\" d=\"M3,0A3,3 0 1,1 0,-3A3,3 0 0,1 3,0Z\" style=\"opacity: 1; stroke-width: 0px; fill: rgb(239, 85, 59); fill-opacity: 1;\"/><path class=\"point\" transform=\"translate(163.33,268.33)\" d=\"M3,0A3,3 0 1,1 0,-3A3,3 0 0,1 3,0Z\" style=\"opacity: 1; stroke-width: 0px; fill: rgb(239, 85, 59); fill-opacity: 1;\"/><path class=\"point\" transform=\"translate(165.62,268.53)\" d=\"M3,0A3,3 0 1,1 0,-3A3,3 0 0,1 3,0Z\" style=\"opacity: 1; stroke-width: 0px; fill: rgb(239, 85, 59); fill-opacity: 1;\"/><path class=\"point\" transform=\"translate(169.32,268.9)\" d=\"M3,0A3,3 0 1,1 0,-3A3,3 0 0,1 3,0Z\" style=\"opacity: 1; stroke-width: 0px; fill: rgb(239, 85, 59); fill-opacity: 1;\"/><path class=\"point\" transform=\"translate(170.77,269.09)\" d=\"M3,0A3,3 0 1,1 0,-3A3,3 0 0,1 3,0Z\" style=\"opacity: 1; stroke-width: 0px; fill: rgb(239, 85, 59); fill-opacity: 1;\"/><path class=\"point\" transform=\"translate(171.62,269.46)\" d=\"M3,0A3,3 0 1,1 0,-3A3,3 0 0,1 3,0Z\" style=\"opacity: 1; stroke-width: 0px; fill: rgb(239, 85, 59); fill-opacity: 1;\"/><path class=\"point\" transform=\"translate(174.97,269.64)\" d=\"M3,0A3,3 0 1,1 0,-3A3,3 0 0,1 3,0Z\" style=\"opacity: 1; stroke-width: 0px; fill: rgb(239, 85, 59); fill-opacity: 1;\"/><path class=\"point\" transform=\"translate(176.77,269.83)\" d=\"M3,0A3,3 0 1,1 0,-3A3,3 0 0,1 3,0Z\" style=\"opacity: 1; stroke-width: 0px; fill: rgb(239, 85, 59); fill-opacity: 1;\"/><path class=\"point\" transform=\"translate(178.31,270.22)\" d=\"M3,0A3,3 0 1,1 0,-3A3,3 0 0,1 3,0Z\" style=\"opacity: 1; stroke-width: 0px; fill: rgb(239, 85, 59); fill-opacity: 1;\"/><path class=\"point\" transform=\"translate(181.32,270.4)\" d=\"M3,0A3,3 0 1,1 0,-3A3,3 0 0,1 3,0Z\" style=\"opacity: 1; stroke-width: 0px; fill: rgb(239, 85, 59); fill-opacity: 1;\"/><path class=\"point\" transform=\"translate(183.16,270.59)\" d=\"M3,0A3,3 0 1,1 0,-3A3,3 0 0,1 3,0Z\" style=\"opacity: 1; stroke-width: 0px; fill: rgb(239, 85, 59); fill-opacity: 1;\"/><path class=\"point\" transform=\"translate(185.04,270.96)\" d=\"M3,0A3,3 0 1,1 0,-3A3,3 0 0,1 3,0Z\" style=\"opacity: 1; stroke-width: 0px; fill: rgb(239, 85, 59); fill-opacity: 1;\"/><path class=\"point\" transform=\"translate(186.55,271.15)\" d=\"M3,0A3,3 0 1,1 0,-3A3,3 0 0,1 3,0Z\" style=\"opacity: 1; stroke-width: 0px; fill: rgb(239, 85, 59); fill-opacity: 1;\"/><path class=\"point\" transform=\"translate(189.87,271.15)\" d=\"M3,0A3,3 0 1,1 0,-3A3,3 0 0,1 3,0Z\" style=\"opacity: 1; stroke-width: 0px; fill: rgb(239, 85, 59); fill-opacity: 1;\"/><path class=\"point\" transform=\"translate(191.71,271.72)\" d=\"M3,0A3,3 0 1,1 0,-3A3,3 0 0,1 3,0Z\" style=\"opacity: 1; stroke-width: 0px; fill: rgb(239, 85, 59); fill-opacity: 1;\"/><path class=\"point\" transform=\"translate(196.19,271.91)\" d=\"M3,0A3,3 0 1,1 0,-3A3,3 0 0,1 3,0Z\" style=\"opacity: 1; stroke-width: 0px; fill: rgb(239, 85, 59); fill-opacity: 1;\"/><path class=\"point\" transform=\"translate(197.53,272.09)\" d=\"M3,0A3,3 0 1,1 0,-3A3,3 0 0,1 3,0Z\" style=\"opacity: 1; stroke-width: 0px; fill: rgb(239, 85, 59); fill-opacity: 1;\"/><path class=\"point\" transform=\"translate(198.35,272.46)\" d=\"M3,0A3,3 0 1,1 0,-3A3,3 0 0,1 3,0Z\" style=\"opacity: 1; stroke-width: 0px; fill: rgb(239, 85, 59); fill-opacity: 1;\"/><path class=\"point\" transform=\"translate(199.89,272.65)\" d=\"M3,0A3,3 0 1,1 0,-3A3,3 0 0,1 3,0Z\" style=\"opacity: 1; stroke-width: 0px; fill: rgb(239, 85, 59); fill-opacity: 1;\"/><path class=\"point\" transform=\"translate(202.64,272.84)\" d=\"M3,0A3,3 0 1,1 0,-3A3,3 0 0,1 3,0Z\" style=\"opacity: 1; stroke-width: 0px; fill: rgb(239, 85, 59); fill-opacity: 1;\"/><path class=\"point\" transform=\"translate(205,273.02)\" d=\"M3,0A3,3 0 1,1 0,-3A3,3 0 0,1 3,0Z\" style=\"opacity: 1; stroke-width: 0px; fill: rgb(239, 85, 59); fill-opacity: 1;\"/><path class=\"point\" transform=\"translate(206.58,273.41)\" d=\"M3,0A3,3 0 1,1 0,-3A3,3 0 0,1 3,0Z\" style=\"opacity: 1; stroke-width: 0px; fill: rgb(239, 85, 59); fill-opacity: 1;\"/><path class=\"point\" transform=\"translate(208.42,273.6)\" d=\"M3,0A3,3 0 1,1 0,-3A3,3 0 0,1 3,0Z\" style=\"opacity: 1; stroke-width: 0px; fill: rgb(239, 85, 59); fill-opacity: 1;\"/><path class=\"point\" transform=\"translate(210.78,273.6)\" d=\"M3,0A3,3 0 1,1 0,-3A3,3 0 0,1 3,0Z\" style=\"opacity: 1; stroke-width: 0px; fill: rgb(239, 85, 59); fill-opacity: 1;\"/><path class=\"point\" transform=\"translate(213.2,273.97)\" d=\"M3,0A3,3 0 1,1 0,-3A3,3 0 0,1 3,0Z\" style=\"opacity: 1; stroke-width: 0px; fill: rgb(239, 85, 59); fill-opacity: 1;\"/><path class=\"point\" transform=\"translate(215.82,274.15)\" d=\"M3,0A3,3 0 1,1 0,-3A3,3 0 0,1 3,0Z\" style=\"opacity: 1; stroke-width: 0px; fill: rgb(239, 85, 59); fill-opacity: 1;\"/><path class=\"point\" transform=\"translate(217.71,274.34)\" d=\"M3,0A3,3 0 1,1 0,-3A3,3 0 0,1 3,0Z\" style=\"opacity: 1; stroke-width: 0px; fill: rgb(239, 85, 59); fill-opacity: 1;\"/><path class=\"point\" transform=\"translate(219.98,274.71)\" d=\"M3,0A3,3 0 1,1 0,-3A3,3 0 0,1 3,0Z\" style=\"opacity: 1; stroke-width: 0px; fill: rgb(239, 85, 59); fill-opacity: 1;\"/><path class=\"point\" transform=\"translate(222.94,274.91)\" d=\"M3,0A3,3 0 1,1 0,-3A3,3 0 0,1 3,0Z\" style=\"opacity: 1; stroke-width: 0px; fill: rgb(239, 85, 59); fill-opacity: 1;\"/><path class=\"point\" transform=\"translate(224.87,275.1)\" d=\"M3,0A3,3 0 1,1 0,-3A3,3 0 0,1 3,0Z\" style=\"opacity: 1; stroke-width: 0px; fill: rgb(239, 85, 59); fill-opacity: 1;\"/><path class=\"point\" transform=\"translate(225.93,275.29)\" d=\"M3,0A3,3 0 1,1 0,-3A3,3 0 0,1 3,0Z\" style=\"opacity: 1; stroke-width: 0px; fill: rgb(239, 85, 59); fill-opacity: 1;\"/><path class=\"point\" transform=\"translate(229.11,275.66)\" d=\"M3,0A3,3 0 1,1 0,-3A3,3 0 0,1 3,0Z\" style=\"opacity: 1; stroke-width: 0px; fill: rgb(239, 85, 59); fill-opacity: 1;\"/><path class=\"point\" transform=\"translate(231,275.66)\" d=\"M3,0A3,3 0 1,1 0,-3A3,3 0 0,1 3,0Z\" style=\"opacity: 1; stroke-width: 0px; fill: rgb(239, 85, 59); fill-opacity: 1;\"/><path class=\"point\" transform=\"translate(232.58,275.84)\" d=\"M3,0A3,3 0 1,1 0,-3A3,3 0 0,1 3,0Z\" style=\"opacity: 1; stroke-width: 0px; fill: rgb(239, 85, 59); fill-opacity: 1;\"/><path class=\"point\" transform=\"translate(234.53,276.21)\" d=\"M3,0A3,3 0 1,1 0,-3A3,3 0 0,1 3,0Z\" style=\"opacity: 1; stroke-width: 0px; fill: rgb(239, 85, 59); fill-opacity: 1;\"/><path class=\"point\" transform=\"translate(236.95,276.21)\" d=\"M3,0A3,3 0 1,1 0,-3A3,3 0 0,1 3,0Z\" style=\"opacity: 1; stroke-width: 0px; fill: rgb(239, 85, 59); fill-opacity: 1;\"/><path class=\"point\" transform=\"translate(239.51,276.6)\" d=\"M3,0A3,3 0 1,1 0,-3A3,3 0 0,1 3,0Z\" style=\"opacity: 1; stroke-width: 0px; fill: rgb(239, 85, 59); fill-opacity: 1;\"/><path class=\"point\" transform=\"translate(241.32,276.79)\" d=\"M3,0A3,3 0 1,1 0,-3A3,3 0 0,1 3,0Z\" style=\"opacity: 1; stroke-width: 0px; fill: rgb(239, 85, 59); fill-opacity: 1;\"/><path class=\"point\" transform=\"translate(243.73,276.79)\" d=\"M3,0A3,3 0 1,1 0,-3A3,3 0 0,1 3,0Z\" style=\"opacity: 1; stroke-width: 0px; fill: rgb(239, 85, 59); fill-opacity: 1;\"/><path class=\"point\" transform=\"translate(245.18,276.97)\" d=\"M3,0A3,3 0 1,1 0,-3A3,3 0 0,1 3,0Z\" style=\"opacity: 1; stroke-width: 0px; fill: rgb(239, 85, 59); fill-opacity: 1;\"/><path class=\"point\" transform=\"translate(246.24,277.35)\" d=\"M3,0A3,3 0 1,1 0,-3A3,3 0 0,1 3,0Z\" style=\"opacity: 1; stroke-width: 0px; fill: rgb(239, 85, 59); fill-opacity: 1;\"/><path class=\"point\" transform=\"translate(246.67,277.53)\" d=\"M3,0A3,3 0 1,1 0,-3A3,3 0 0,1 3,0Z\" style=\"opacity: 1; stroke-width: 0px; fill: rgb(239, 85, 59); fill-opacity: 1;\"/><path class=\"point\" transform=\"translate(268.73,70.5)\" d=\"M3,0A3,3 0 1,1 0,-3A3,3 0 0,1 3,0Z\" style=\"opacity: 1; stroke-width: 0px; fill: rgb(239, 85, 59); fill-opacity: 1;\"/><path class=\"point\" transform=\"translate(290.12,66.92)\" d=\"M3,0A3,3 0 1,1 0,-3A3,3 0 0,1 3,0Z\" style=\"opacity: 1; stroke-width: 0px; fill: rgb(239, 85, 59); fill-opacity: 1;\"/><path class=\"point\" transform=\"translate(312.39,64.67)\" d=\"M3,0A3,3 0 1,1 0,-3A3,3 0 0,1 3,0Z\" style=\"opacity: 1; stroke-width: 0px; fill: rgb(239, 85, 59); fill-opacity: 1;\"/><path class=\"point\" transform=\"translate(333.39,62.98)\" d=\"M3,0A3,3 0 1,1 0,-3A3,3 0 0,1 3,0Z\" style=\"opacity: 1; stroke-width: 0px; fill: rgb(239, 85, 59); fill-opacity: 1;\"/><path class=\"point\" transform=\"translate(354.98,61.29)\" d=\"M3,0A3,3 0 1,1 0,-3A3,3 0 0,1 3,0Z\" style=\"opacity: 1; stroke-width: 0px; fill: rgb(239, 85, 59); fill-opacity: 1;\"/><path class=\"point\" transform=\"translate(377.17,59.97)\" d=\"M3,0A3,3 0 1,1 0,-3A3,3 0 0,1 3,0Z\" style=\"opacity: 1; stroke-width: 0px; fill: rgb(239, 85, 59); fill-opacity: 1;\"/><path class=\"point\" transform=\"translate(399.4,59.03)\" d=\"M3,0A3,3 0 1,1 0,-3A3,3 0 0,1 3,0Z\" style=\"opacity: 1; stroke-width: 0px; fill: rgb(239, 85, 59); fill-opacity: 1;\"/><path class=\"point\" transform=\"translate(419.9,58.29)\" d=\"M3,0A3,3 0 1,1 0,-3A3,3 0 0,1 3,0Z\" style=\"opacity: 1; stroke-width: 0px; fill: rgb(239, 85, 59); fill-opacity: 1;\"/><path class=\"point\" transform=\"translate(441.85,57.34)\" d=\"M3,0A3,3 0 1,1 0,-3A3,3 0 0,1 3,0Z\" style=\"opacity: 1; stroke-width: 0px; fill: rgb(239, 85, 59); fill-opacity: 1;\"/><path class=\"point\" transform=\"translate(463.65,56.78)\" d=\"M3,0A3,3 0 1,1 0,-3A3,3 0 0,1 3,0Z\" style=\"opacity: 1; stroke-width: 0px; fill: rgb(239, 85, 59); fill-opacity: 1;\"/></g><g class=\"text\"/></g><g class=\"trace scatter trace55f679\" style=\"stroke-miterlimit: 2; opacity: 1;\"><g class=\"fills\"/><g class=\"errorbars\"/><g class=\"lines\"><path class=\"js-line\" d=\"M28.35,39.21L28.74,39.21L30.97,210.06L33.78,234.94L35.78,242.18L37.42,245.3L40.47,248.1L46.9,250.32L48.37,250.64L89.79,258.4L93.34,259.02L159.69,269.59L162.18,269.95L246.24,280.79L246.67,123.62L268.73,71.06L290.12,69.24L399.4,61.53L419.9,60.33L463.65,57.99\" style=\"vector-effect: none; fill: none; stroke: rgb(0, 204, 150); stroke-opacity: 1; stroke-width: 4px; opacity: 1;\"/></g><g class=\"points\"/><g class=\"text\"/></g></g></g></g><path class=\"xlines-above crisp\" d=\"M0,0\" style=\"fill: none;\"/><path class=\"ylines-above crisp\" d=\"M0,0\" style=\"fill: none;\"/><g class=\"overlines-above\"/><g class=\"xaxislayer-above\"><g class=\"xtick\"><text text-anchor=\"middle\" x=\"0\" y=\"433\" transform=\"translate(108.35,0)\" style=\"font-family: 'Open Sans', verdana, arial, sans-serif; font-size: 12px; fill: rgb(42, 63, 95); fill-opacity: 1; white-space: pre; opacity: 1;\">0</text></g><g class=\"xtick\"><text text-anchor=\"middle\" x=\"0\" y=\"433\" style=\"font-family: 'Open Sans', verdana, arial, sans-serif; font-size: 12px; fill: rgb(42, 63, 95); fill-opacity: 1; white-space: pre; opacity: 1;\" transform=\"translate(216.59,0)\">5</text></g><g class=\"xtick\"><text text-anchor=\"middle\" x=\"0\" y=\"433\" style=\"font-family: 'Open Sans', verdana, arial, sans-serif; font-size: 12px; fill: rgb(42, 63, 95); fill-opacity: 1; white-space: pre; opacity: 1;\" transform=\"translate(324.83000000000004,0)\">10</text></g><g class=\"xtick\"><text text-anchor=\"middle\" x=\"0\" y=\"433\" style=\"font-family: 'Open Sans', verdana, arial, sans-serif; font-size: 12px; fill: rgb(42, 63, 95); fill-opacity: 1; white-space: pre; opacity: 1;\" transform=\"translate(433.07,0)\">15</text></g><g class=\"xtick\"><text text-anchor=\"middle\" x=\"0\" y=\"433\" style=\"font-family: 'Open Sans', verdana, arial, sans-serif; font-size: 12px; fill: rgb(42, 63, 95); fill-opacity: 1; white-space: pre; opacity: 1;\" transform=\"translate(541.31,0)\">20</text></g></g><g class=\"yaxislayer-above\"><g class=\"ytick\"><text text-anchor=\"end\" x=\"79\" y=\"4.199999999999999\" transform=\"translate(0,359.68)\" style=\"font-family: 'Open Sans', verdana, arial, sans-serif; font-size: 12px; fill: rgb(42, 63, 95); fill-opacity: 1; white-space: pre; opacity: 1;\">3.95</text></g><g class=\"ytick\"><text text-anchor=\"end\" x=\"79\" y=\"4.199999999999999\" style=\"font-family: 'Open Sans', verdana, arial, sans-serif; font-size: 12px; fill: rgb(42, 63, 95); fill-opacity: 1; white-space: pre; opacity: 1;\" transform=\"translate(0,275.21000000000004)\">4</text></g><g class=\"ytick\"><text text-anchor=\"end\" x=\"79\" y=\"4.199999999999999\" style=\"font-family: 'Open Sans', verdana, arial, sans-serif; font-size: 12px; fill: rgb(42, 63, 95); fill-opacity: 1; white-space: pre; opacity: 1;\" transform=\"translate(0,190.75)\">4.05</text></g><g class=\"ytick\"><text text-anchor=\"end\" x=\"79\" y=\"4.199999999999999\" style=\"font-family: 'Open Sans', verdana, arial, sans-serif; font-size: 12px; fill: rgb(42, 63, 95); fill-opacity: 1; white-space: pre; opacity: 1;\" transform=\"translate(0,106.29)\">4.1</text></g></g><g class=\"overaxes-above\"/></g></g><g class=\"polarlayer\"/><g class=\"smithlayer\"/><g class=\"ternarylayer\"/><g class=\"geolayer\"/><g class=\"funnelarealayer\"/><g class=\"pielayer\"/><g class=\"iciclelayer\"/><g class=\"treemaplayer\"/><g class=\"sunburstlayer\"/><g class=\"glimages\"/><defs id=\"topdefs-233de5\"><g class=\"clips\"/><clipPath id=\"legend233de5\"><rect width=\"106\" height=\"48\" x=\"0\" y=\"0\"/></clipPath></defs><g class=\"layer-above\"><g class=\"imagelayer\"/><g class=\"shapelayer\"/></g><g class=\"infolayer\"><g class=\"legend\" pointer-events=\"all\" transform=\"translate(581.84,100)\"><rect class=\"bg\" shape-rendering=\"crispEdges\" width=\"106\" height=\"48\" x=\"0\" y=\"0\" style=\"stroke: rgb(68, 68, 68); stroke-opacity: 1; fill: rgb(255, 255, 255); fill-opacity: 1; stroke-width: 0px;\"/><g class=\"scrollbox\" transform=\"\" clip-path=\"url(#legend233de5)\"><g class=\"groups\"><g class=\"traces\" transform=\"translate(0,14.5)\" style=\"opacity: 1;\"><text class=\"legendtext\" text-anchor=\"start\" x=\"40\" y=\"4.680000000000001\" style=\"font-family: 'Open Sans', verdana, arial, sans-serif; font-size: 12px; fill: rgb(42, 63, 95); fill-opacity: 1; white-space: pre;\">Reference</text><g class=\"layers\" style=\"opacity: 1;\"><g class=\"legendfill\"/><g class=\"legendlines\"/><g class=\"legendsymbols\"><g class=\"legendpoints\"><path class=\"scatterpts\" transform=\"translate(20,0)\" d=\"M3,0A3,3 0 1,1 0,-3A3,3 0 0,1 3,0Z\" style=\"opacity: 1; stroke-width: 0px; fill: rgb(239, 85, 59); fill-opacity: 1;\"/></g></g></g><rect class=\"legendtoggle\" x=\"0\" y=\"-9.5\" width=\"100.4375\" height=\"19\" style=\"fill: rgb(0, 0, 0); fill-opacity: 0;\"/></g><g class=\"traces\" transform=\"translate(0,33.5)\" style=\"opacity: 1;\"><text class=\"legendtext\" text-anchor=\"start\" x=\"40\" y=\"4.680000000000001\" style=\"font-family: 'Open Sans', verdana, arial, sans-serif; font-size: 12px; fill: rgb(42, 63, 95); fill-opacity: 1; white-space: pre;\">Model</text><g class=\"layers\" style=\"opacity: 1;\"><g class=\"legendfill\"/><g class=\"legendlines\"><path class=\"js-line\" d=\"M5,0h30\" style=\"fill: none; stroke: rgb(0, 204, 150); stroke-opacity: 1; stroke-width: 4px;\"/></g><g class=\"legendsymbols\"><g class=\"legendpoints\"/></g></g><rect class=\"legendtoggle\" x=\"0\" y=\"-9.5\" width=\"100.4375\" height=\"19\" style=\"fill: rgb(0, 0, 0); fill-opacity: 0;\"/></g></g></g><rect class=\"scrollbar\" rx=\"20\" ry=\"3\" width=\"0\" height=\"0\" x=\"0\" y=\"0\" style=\"fill: rgb(128, 139, 164); fill-opacity: 1;\"/></g><g class=\"g-gtitle\"><text class=\"gtitle\" x=\"35\" y=\"50\" text-anchor=\"start\" dy=\"0em\" style=\"opacity: 1; font-family: 'Open Sans', verdana, arial, sans-serif; font-size: 17px; fill: rgb(42, 63, 95); fill-opacity: 1; white-space: pre;\">Optimised Comparison</text></g><g class=\"g-xtitle\"><text class=\"xtitle\" x=\"326\" y=\"460.3\" text-anchor=\"middle\" style=\"opacity: 1; font-family: 'Open Sans', verdana, arial, sans-serif; font-size: 14px; fill: rgb(42, 63, 95); fill-opacity: 1; white-space: pre;\">Time / s</text></g><g class=\"g-ytitle\"><text class=\"ytitle\" transform=\"rotate(-90,32.88125,260)\" x=\"32.88125\" y=\"260\" text-anchor=\"middle\" style=\"opacity: 1; font-family: 'Open Sans', verdana, arial, sans-serif; font-size: 14px; fill: rgb(42, 63, 95); fill-opacity: 1; white-space: pre;\">Voltage  / V</text></g></g></svg>"
      ]
     },
     "metadata": {},
     "output_type": "display_data"
    }
   ],
   "source": [
    "pybop.quick_plot(problem, problem_inputs=x, title=\"Optimised Comparison\");"
   ]
  },
  {
   "cell_type": "markdown",
   "id": "28",
   "metadata": {},
   "source": [
    "### Convergence and Parameter Trajectories\n",
    "\n",
    "To assess the optimisation process, we can plot the convergence of the cost function and the trajectories of the parameters:"
   ]
  },
  {
   "cell_type": "code",
   "execution_count": null,
   "id": "29",
   "metadata": {},
   "outputs": [
    {
     "data": {
      "image/svg+xml": [
       "<svg class=\"main-svg\" xmlns=\"http://www.w3.org/2000/svg\" xmlns:xlink=\"http://www.w3.org/1999/xlink\" width=\"700\" height=\"500\" style=\"\" viewBox=\"0 0 700 500\"><rect x=\"0\" y=\"0\" width=\"700\" height=\"500\" style=\"fill: rgb(255, 255, 255); fill-opacity: 1;\"/><defs id=\"defs-46d1d6\"><g class=\"clips\"><clipPath id=\"clip46d1d6xyplot\" class=\"plotclip\"><rect width=\"540\" height=\"320\"/></clipPath><clipPath class=\"axesclip\" id=\"clip46d1d6x\"><rect x=\"80\" y=\"0\" width=\"540\" height=\"500\"/></clipPath><clipPath class=\"axesclip\" id=\"clip46d1d6y\"><rect x=\"0\" y=\"100\" width=\"700\" height=\"320\"/></clipPath><clipPath class=\"axesclip\" id=\"clip46d1d6xy\"><rect x=\"80\" y=\"100\" width=\"540\" height=\"320\"/></clipPath></g><g class=\"gradients\"/><g class=\"patterns\"/></defs><g class=\"bglayer\"><rect class=\"bg\" x=\"80\" y=\"100\" width=\"540\" height=\"320\" style=\"fill: rgb(229, 236, 246); fill-opacity: 1; stroke-width: 0;\"/></g><g class=\"layer-below\"><g class=\"imagelayer\"/><g class=\"shapelayer\"/></g><g class=\"cartesianlayer\"><g class=\"subplot xy\"><g class=\"layer-subplot\"><g class=\"shapelayer\"/><g class=\"imagelayer\"/></g><g class=\"minor-gridlayer\"><g class=\"x\"/><g class=\"y\"/></g><g class=\"gridlayer\"><g class=\"x\"><path class=\"xgrid crisp\" transform=\"translate(169.09,0)\" d=\"M0,100v320\" style=\"stroke: rgb(255, 255, 255); stroke-opacity: 1; stroke-width: 1px;\"/><path class=\"xgrid crisp\" transform=\"translate(260,0)\" d=\"M0,100v320\" style=\"stroke: rgb(255, 255, 255); stroke-opacity: 1; stroke-width: 1px;\"/><path class=\"xgrid crisp\" transform=\"translate(350.91,0)\" d=\"M0,100v320\" style=\"stroke: rgb(255, 255, 255); stroke-opacity: 1; stroke-width: 1px;\"/><path class=\"xgrid crisp\" transform=\"translate(441.82,0)\" d=\"M0,100v320\" style=\"stroke: rgb(255, 255, 255); stroke-opacity: 1; stroke-width: 1px;\"/><path class=\"xgrid crisp\" transform=\"translate(532.73,0)\" d=\"M0,100v320\" style=\"stroke: rgb(255, 255, 255); stroke-opacity: 1; stroke-width: 1px;\"/></g><g class=\"y\"><path class=\"ygrid crisp\" transform=\"translate(0,412.52)\" d=\"M80,0h540\" style=\"stroke: rgb(255, 255, 255); stroke-opacity: 1; stroke-width: 1px;\"/><path class=\"ygrid crisp\" transform=\"translate(0,359.11)\" d=\"M80,0h540\" style=\"stroke: rgb(255, 255, 255); stroke-opacity: 1; stroke-width: 1px;\"/><path class=\"ygrid crisp\" transform=\"translate(0,305.7)\" d=\"M80,0h540\" style=\"stroke: rgb(255, 255, 255); stroke-opacity: 1; stroke-width: 1px;\"/><path class=\"ygrid crisp\" transform=\"translate(0,252.29)\" d=\"M80,0h540\" style=\"stroke: rgb(255, 255, 255); stroke-opacity: 1; stroke-width: 1px;\"/><path class=\"ygrid crisp\" transform=\"translate(0,198.87)\" d=\"M80,0h540\" style=\"stroke: rgb(255, 255, 255); stroke-opacity: 1; stroke-width: 1px;\"/><path class=\"ygrid crisp\" transform=\"translate(0,145.46)\" d=\"M80,0h540\" style=\"stroke: rgb(255, 255, 255); stroke-opacity: 1; stroke-width: 1px;\"/></g></g><g class=\"zerolinelayer\"/><g class=\"layer-between\"><g class=\"shapelayer\"/><g class=\"imagelayer\"/></g><path class=\"xlines-below\"/><path class=\"ylines-below\"/><g class=\"overlines-below\"/><g class=\"xaxislayer-below\"/><g class=\"yaxislayer-below\"/><g class=\"overaxes-below\"/><g class=\"overplot\"><g class=\"xy\" transform=\"translate(80,100)\" clip-path=\"url(#clip46d1d6xyplot)\"><g class=\"scatterlayer mlayer\"><g class=\"trace scatter trace7b0c14\" style=\"stroke-miterlimit: 2; opacity: 1;\"><g class=\"fills\"/><g class=\"errorbars\"/><g class=\"lines\"><path class=\"js-line\" d=\"M0,16L3.64,16.52L5.45,210.9L7.27,222.62L9.09,256.04L10.91,256.49L12.73,261.78L16.36,261.86L18.18,265.78L23.64,265.84L25.45,269.69L43.64,270.32L45.45,270.88L58.18,271.84L60,271.94L70.91,272.77L72.73,273.19L105.45,274.62L107.27,274.62L130.91,275.34L132.73,275.34L136.36,275.92L138.18,275.92L140,275.92L141.82,277.19L180,278.14L181.82,278.32L183.64,278.32L185.45,279.36L207.27,279.39L209.09,282.24L236.36,282.24L238.18,284.15L247.27,285.03L249.09,285.77L272.73,286.32L274.55,287.15L281.82,287.15L283.64,288.62L305.45,289.24L307.27,289.63L327.27,290.49L329.09,290.75L341.82,291.05L343.64,292.42L352.73,293.02L354.55,293.5L369.09,293.62L370.91,295.89L389.09,296.87L390.91,297.35L423.64,297.72L425.45,300.57L434.55,300.57L436.36,301.72L438.18,301.72L440,303.11L540,304\" style=\"vector-effect: none; fill: none; stroke: rgb(99, 110, 250); stroke-opacity: 1; stroke-width: 4px; opacity: 1;\"/></g><g class=\"points\"/><g class=\"text\"/></g></g></g></g><path class=\"xlines-above crisp\" d=\"M0,0\" style=\"fill: none;\"/><path class=\"ylines-above crisp\" d=\"M0,0\" style=\"fill: none;\"/><g class=\"overlines-above\"/><g class=\"xaxislayer-above\"><g class=\"xtick\"><text text-anchor=\"middle\" x=\"0\" y=\"433\" transform=\"translate(169.09,0)\" style=\"font-family: 'Open Sans', verdana, arial, sans-serif; font-size: 12px; fill: rgb(42, 63, 95); fill-opacity: 1; white-space: pre; opacity: 1;\">50</text></g><g class=\"xtick\"><text text-anchor=\"middle\" x=\"0\" y=\"433\" style=\"font-family: 'Open Sans', verdana, arial, sans-serif; font-size: 12px; fill: rgb(42, 63, 95); fill-opacity: 1; white-space: pre; opacity: 1;\" transform=\"translate(260,0)\">100</text></g><g class=\"xtick\"><text text-anchor=\"middle\" x=\"0\" y=\"433\" style=\"font-family: 'Open Sans', verdana, arial, sans-serif; font-size: 12px; fill: rgb(42, 63, 95); fill-opacity: 1; white-space: pre; opacity: 1;\" transform=\"translate(350.91,0)\">150</text></g><g class=\"xtick\"><text text-anchor=\"middle\" x=\"0\" y=\"433\" style=\"font-family: 'Open Sans', verdana, arial, sans-serif; font-size: 12px; fill: rgb(42, 63, 95); fill-opacity: 1; white-space: pre; opacity: 1;\" transform=\"translate(441.82,0)\">200</text></g><g class=\"xtick\"><text text-anchor=\"middle\" x=\"0\" y=\"433\" style=\"font-family: 'Open Sans', verdana, arial, sans-serif; font-size: 12px; fill: rgb(42, 63, 95); fill-opacity: 1; white-space: pre; opacity: 1;\" transform=\"translate(532.73,0)\">250</text></g></g><g class=\"yaxislayer-above\"><g class=\"ytick\"><text text-anchor=\"end\" x=\"79\" y=\"4.199999999999999\" transform=\"translate(0,412.52)\" style=\"font-family: 'Open Sans', verdana, arial, sans-serif; font-size: 12px; fill: rgb(42, 63, 95); fill-opacity: 1; white-space: pre; opacity: 1;\">0.02</text></g><g class=\"ytick\"><text text-anchor=\"end\" x=\"79\" y=\"4.199999999999999\" style=\"font-family: 'Open Sans', verdana, arial, sans-serif; font-size: 12px; fill: rgb(42, 63, 95); fill-opacity: 1; white-space: pre; opacity: 1;\" transform=\"translate(0,359.11)\">0.03</text></g><g class=\"ytick\"><text text-anchor=\"end\" x=\"79\" y=\"4.199999999999999\" style=\"font-family: 'Open Sans', verdana, arial, sans-serif; font-size: 12px; fill: rgb(42, 63, 95); fill-opacity: 1; white-space: pre; opacity: 1;\" transform=\"translate(0,305.7)\">0.04</text></g><g class=\"ytick\"><text text-anchor=\"end\" x=\"79\" y=\"4.199999999999999\" style=\"font-family: 'Open Sans', verdana, arial, sans-serif; font-size: 12px; fill: rgb(42, 63, 95); fill-opacity: 1; white-space: pre; opacity: 1;\" transform=\"translate(0,252.29)\">0.05</text></g><g class=\"ytick\"><text text-anchor=\"end\" x=\"79\" y=\"4.199999999999999\" style=\"font-family: 'Open Sans', verdana, arial, sans-serif; font-size: 12px; fill: rgb(42, 63, 95); fill-opacity: 1; white-space: pre; opacity: 1;\" transform=\"translate(0,198.87)\">0.06</text></g><g class=\"ytick\"><text text-anchor=\"end\" x=\"79\" y=\"4.199999999999999\" style=\"font-family: 'Open Sans', verdana, arial, sans-serif; font-size: 12px; fill: rgb(42, 63, 95); fill-opacity: 1; white-space: pre; opacity: 1;\" transform=\"translate(0,145.46)\">0.07</text></g></g><g class=\"overaxes-above\"/></g></g><g class=\"polarlayer\"/><g class=\"smithlayer\"/><g class=\"ternarylayer\"/><g class=\"geolayer\"/><g class=\"funnelarealayer\"/><g class=\"pielayer\"/><g class=\"iciclelayer\"/><g class=\"treemaplayer\"/><g class=\"sunburstlayer\"/><g class=\"glimages\"/><defs id=\"topdefs-46d1d6\"><g class=\"clips\"/></defs><g class=\"layer-above\"><g class=\"imagelayer\"/><g class=\"shapelayer\"/></g><g class=\"infolayer\"><g class=\"g-gtitle\"><text class=\"gtitle\" x=\"35\" y=\"50\" text-anchor=\"start\" dy=\"0em\" style=\"opacity: 1; font-family: 'Open Sans', verdana, arial, sans-serif; font-size: 17px; fill: rgb(42, 63, 95); fill-opacity: 1; white-space: pre;\">Convergence</text></g><g class=\"g-xtitle\"><text class=\"xtitle\" x=\"350\" y=\"460.3\" text-anchor=\"middle\" style=\"opacity: 1; font-family: 'Open Sans', verdana, arial, sans-serif; font-size: 14px; fill: rgb(42, 63, 95); fill-opacity: 1; white-space: pre;\">Iteration</text></g><g class=\"g-ytitle\"><text class=\"ytitle\" transform=\"rotate(-90,32.88125,260)\" x=\"32.88125\" y=\"260\" text-anchor=\"middle\" style=\"opacity: 1; font-family: 'Open Sans', verdana, arial, sans-serif; font-size: 14px; fill: rgb(42, 63, 95); fill-opacity: 1; white-space: pre;\">Cost</text></g></g></svg>"
      ]
     },
     "metadata": {},
     "output_type": "display_data"
    },
    {
     "data": {
      "image/svg+xml": [
       "<svg class=\"main-svg\" xmlns=\"http://www.w3.org/2000/svg\" xmlns:xlink=\"http://www.w3.org/1999/xlink\" width=\"1024\" height=\"576\" style=\"\" viewBox=\"0 0 1024 576\"><rect x=\"0\" y=\"0\" width=\"1024\" height=\"576\" style=\"fill: rgb(255, 255, 255); fill-opacity: 1;\"/><defs id=\"defs-a35ccf\"><g class=\"clips\"><clipPath id=\"clipa35ccfxyplot\" class=\"plotclip\"><rect width=\"249.60000000000002\" height=\"168.29999999999998\"/></clipPath><clipPath id=\"clipa35ccfx2y2plot\" class=\"plotclip\"><rect width=\"249.60000000000002\" height=\"168.29999999999998\"/></clipPath><clipPath id=\"clipa35ccfx3y3plot\" class=\"plotclip\"><rect width=\"249.59999999999997\" height=\"168.29999999999998\"/></clipPath><clipPath id=\"clipa35ccfx4y4plot\" class=\"plotclip\"><rect width=\"249.60000000000002\" height=\"168.3\"/></clipPath><clipPath id=\"clipa35ccfx5y5plot\" class=\"plotclip\"><rect width=\"249.60000000000002\" height=\"168.3\"/></clipPath><clipPath class=\"axesclip\" id=\"clipa35ccfx\"><rect x=\"80\" y=\"0\" width=\"249.60000000000002\" height=\"576\"/></clipPath><clipPath class=\"axesclip\" id=\"clipa35ccfy\"><rect x=\"0\" y=\"327.7\" width=\"1024\" height=\"168.29999999999998\"/></clipPath><clipPath class=\"axesclip\" id=\"clipa35ccfxy\"><rect x=\"80\" y=\"327.7\" width=\"249.60000000000002\" height=\"168.29999999999998\"/></clipPath><clipPath class=\"axesclip\" id=\"clipa35ccfy2\"><rect x=\"0\" y=\"327.7\" width=\"1024\" height=\"168.29999999999998\"/></clipPath><clipPath class=\"axesclip\" id=\"clipa35ccfxy2\"><rect x=\"80\" y=\"327.7\" width=\"249.60000000000002\" height=\"168.29999999999998\"/></clipPath><clipPath class=\"axesclip\" id=\"clipa35ccfy3\"><rect x=\"0\" y=\"327.7\" width=\"1024\" height=\"168.29999999999998\"/></clipPath><clipPath class=\"axesclip\" id=\"clipa35ccfxy3\"><rect x=\"80\" y=\"327.7\" width=\"249.60000000000002\" height=\"168.29999999999998\"/></clipPath><clipPath class=\"axesclip\" id=\"clipa35ccfy4\"><rect x=\"0\" y=\"100\" width=\"1024\" height=\"168.3\"/></clipPath><clipPath class=\"axesclip\" id=\"clipa35ccfxy4\"><rect x=\"80\" y=\"100\" width=\"249.60000000000002\" height=\"168.3\"/></clipPath><clipPath class=\"axesclip\" id=\"clipa35ccfy5\"><rect x=\"0\" y=\"100\" width=\"1024\" height=\"168.3\"/></clipPath><clipPath class=\"axesclip\" id=\"clipa35ccfxy5\"><rect x=\"80\" y=\"100\" width=\"249.60000000000002\" height=\"168.3\"/></clipPath><clipPath class=\"axesclip\" id=\"clipa35ccfx2\"><rect x=\"387.2\" y=\"0\" width=\"249.60000000000002\" height=\"576\"/></clipPath><clipPath class=\"axesclip\" id=\"clipa35ccfx2y\"><rect x=\"387.2\" y=\"327.7\" width=\"249.60000000000002\" height=\"168.29999999999998\"/></clipPath><clipPath class=\"axesclip\" id=\"clipa35ccfx2y2\"><rect x=\"387.2\" y=\"327.7\" width=\"249.60000000000002\" height=\"168.29999999999998\"/></clipPath><clipPath class=\"axesclip\" id=\"clipa35ccfx2y3\"><rect x=\"387.2\" y=\"327.7\" width=\"249.60000000000002\" height=\"168.29999999999998\"/></clipPath><clipPath class=\"axesclip\" id=\"clipa35ccfx2y4\"><rect x=\"387.2\" y=\"100\" width=\"249.60000000000002\" height=\"168.3\"/></clipPath><clipPath class=\"axesclip\" id=\"clipa35ccfx2y5\"><rect x=\"387.2\" y=\"100\" width=\"249.60000000000002\" height=\"168.3\"/></clipPath><clipPath class=\"axesclip\" id=\"clipa35ccfx3\"><rect x=\"694.4\" y=\"0\" width=\"249.59999999999997\" height=\"576\"/></clipPath><clipPath class=\"axesclip\" id=\"clipa35ccfx3y\"><rect x=\"694.4\" y=\"327.7\" width=\"249.59999999999997\" height=\"168.29999999999998\"/></clipPath><clipPath class=\"axesclip\" id=\"clipa35ccfx3y2\"><rect x=\"694.4\" y=\"327.7\" width=\"249.59999999999997\" height=\"168.29999999999998\"/></clipPath><clipPath class=\"axesclip\" id=\"clipa35ccfx3y3\"><rect x=\"694.4\" y=\"327.7\" width=\"249.59999999999997\" height=\"168.29999999999998\"/></clipPath><clipPath class=\"axesclip\" id=\"clipa35ccfx3y4\"><rect x=\"694.4\" y=\"100\" width=\"249.59999999999997\" height=\"168.3\"/></clipPath><clipPath class=\"axesclip\" id=\"clipa35ccfx3y5\"><rect x=\"694.4\" y=\"100\" width=\"249.59999999999997\" height=\"168.3\"/></clipPath><clipPath class=\"axesclip\" id=\"clipa35ccfx4\"><rect x=\"80\" y=\"0\" width=\"249.60000000000002\" height=\"576\"/></clipPath><clipPath class=\"axesclip\" id=\"clipa35ccfx4y\"><rect x=\"80\" y=\"327.7\" width=\"249.60000000000002\" height=\"168.29999999999998\"/></clipPath><clipPath class=\"axesclip\" id=\"clipa35ccfx4y2\"><rect x=\"80\" y=\"327.7\" width=\"249.60000000000002\" height=\"168.29999999999998\"/></clipPath><clipPath class=\"axesclip\" id=\"clipa35ccfx4y3\"><rect x=\"80\" y=\"327.7\" width=\"249.60000000000002\" height=\"168.29999999999998\"/></clipPath><clipPath class=\"axesclip\" id=\"clipa35ccfx4y4\"><rect x=\"80\" y=\"100\" width=\"249.60000000000002\" height=\"168.3\"/></clipPath><clipPath class=\"axesclip\" id=\"clipa35ccfx4y5\"><rect x=\"80\" y=\"100\" width=\"249.60000000000002\" height=\"168.3\"/></clipPath><clipPath class=\"axesclip\" id=\"clipa35ccfx5\"><rect x=\"387.2\" y=\"0\" width=\"249.60000000000002\" height=\"576\"/></clipPath><clipPath class=\"axesclip\" id=\"clipa35ccfx5y\"><rect x=\"387.2\" y=\"327.7\" width=\"249.60000000000002\" height=\"168.29999999999998\"/></clipPath><clipPath class=\"axesclip\" id=\"clipa35ccfx5y2\"><rect x=\"387.2\" y=\"327.7\" width=\"249.60000000000002\" height=\"168.29999999999998\"/></clipPath><clipPath class=\"axesclip\" id=\"clipa35ccfx5y3\"><rect x=\"387.2\" y=\"327.7\" width=\"249.60000000000002\" height=\"168.29999999999998\"/></clipPath><clipPath class=\"axesclip\" id=\"clipa35ccfx5y4\"><rect x=\"387.2\" y=\"100\" width=\"249.60000000000002\" height=\"168.3\"/></clipPath><clipPath class=\"axesclip\" id=\"clipa35ccfx5y5\"><rect x=\"387.2\" y=\"100\" width=\"249.60000000000002\" height=\"168.3\"/></clipPath></g><g class=\"gradients\"/><g class=\"patterns\"/></defs><g class=\"bglayer\"><rect class=\"bg\" x=\"80\" y=\"327.7\" width=\"249.60000000000002\" height=\"168.29999999999998\" style=\"fill: rgb(229, 236, 246); fill-opacity: 1; stroke-width: 0;\"/><rect class=\"bg\" x=\"387.2\" y=\"327.7\" width=\"249.60000000000002\" height=\"168.29999999999998\" style=\"fill: rgb(229, 236, 246); fill-opacity: 1; stroke-width: 0;\"/><rect class=\"bg\" x=\"694.4\" y=\"327.7\" width=\"249.59999999999997\" height=\"168.29999999999998\" style=\"fill: rgb(229, 236, 246); fill-opacity: 1; stroke-width: 0;\"/><rect class=\"bg\" x=\"80\" y=\"100\" width=\"249.60000000000002\" height=\"168.3\" style=\"fill: rgb(229, 236, 246); fill-opacity: 1; stroke-width: 0;\"/><rect class=\"bg\" x=\"387.2\" y=\"100\" width=\"249.60000000000002\" height=\"168.3\" style=\"fill: rgb(229, 236, 246); fill-opacity: 1; stroke-width: 0;\"/></g><g class=\"layer-below\"><g class=\"imagelayer\"/><g class=\"shapelayer\"/></g><g class=\"cartesianlayer\"><g class=\"subplot xy\"><g class=\"layer-subplot\"><g class=\"shapelayer\"/><g class=\"imagelayer\"/></g><g class=\"minor-gridlayer\"><g class=\"x\"/><g class=\"y\"/></g><g class=\"gridlayer\"><g class=\"x\"><path class=\"xgrid crisp\" transform=\"translate(140.46,0)\" d=\"M0,327.7v168.29999999999998\" style=\"stroke: rgb(255, 255, 255); stroke-opacity: 1; stroke-width: 1px;\"/><path class=\"xgrid crisp\" transform=\"translate(201.04000000000002,0)\" d=\"M0,327.7v168.29999999999998\" style=\"stroke: rgb(255, 255, 255); stroke-opacity: 1; stroke-width: 1px;\"/><path class=\"xgrid crisp\" transform=\"translate(261.63,0)\" d=\"M0,327.7v168.29999999999998\" style=\"stroke: rgb(255, 255, 255); stroke-opacity: 1; stroke-width: 1px;\"/><path class=\"xgrid crisp\" transform=\"translate(322.21000000000004,0)\" d=\"M0,327.7v168.29999999999998\" style=\"stroke: rgb(255, 255, 255); stroke-opacity: 1; stroke-width: 1px;\"/></g><g class=\"y\"><path class=\"ygrid crisp\" transform=\"translate(0,446)\" d=\"M80,0h249.60000000000002\" style=\"stroke: rgb(255, 255, 255); stroke-opacity: 1; stroke-width: 1px;\"/><path class=\"ygrid crisp\" transform=\"translate(0,402.96)\" d=\"M80,0h249.60000000000002\" style=\"stroke: rgb(255, 255, 255); stroke-opacity: 1; stroke-width: 1px;\"/><path class=\"ygrid crisp\" transform=\"translate(0,359.91999999999996)\" d=\"M80,0h249.60000000000002\" style=\"stroke: rgb(255, 255, 255); stroke-opacity: 1; stroke-width: 1px;\"/></g></g><g class=\"zerolinelayer\"><path class=\"yzl zl crisp\" transform=\"translate(0,489.03999999999996)\" d=\"M80,0h249.60000000000002\" style=\"stroke: rgb(255, 255, 255); stroke-opacity: 1; stroke-width: 2px;\"/></g><g class=\"layer-between\"><g class=\"shapelayer\"/><g class=\"imagelayer\"/></g><path class=\"xlines-below\"/><path class=\"ylines-below\"/><g class=\"overlines-below\"/><g class=\"xaxislayer-below\"/><g class=\"yaxislayer-below\"/><g class=\"overaxes-below\"/><g class=\"overplot\"><g class=\"xy\" transform=\"translate(80,327.7)\" clip-path=\"url(#clipa35ccfxyplot)\"><g class=\"scatterlayer mlayer\"><g class=\"trace scatter tracef8c13d\" style=\"stroke-miterlimit: 2; opacity: 1;\"><g class=\"fills\"/><g class=\"errorbars\"/><g class=\"lines\"><path class=\"js-line\" d=\"M0,157L0.12,8.42L0.73,83.4L0.85,137.54L0.97,157L1.21,103.14L1.33,151.96L1.45,88.24L1.94,153.4L2.18,130.94L2.3,135.61L2.42,157.97L2.54,99.54L2.79,144.89L2.91,95.47L3.15,150.1L3.27,92.78L3.39,91.49L3.51,127.28L3.76,132.41L3.88,64.9L4,121.75L4.12,93.47L4.24,135.4L4.6,115.12L4.73,130.47L5.45,112.34L5.57,118.96L5.69,118.39L5.82,115.78L5.94,137.69L6.3,103.55L6.79,117.42L6.91,115.91L7.03,115.52L7.15,106.03L7.63,97.56L8,129.76L8.12,118.22L8.24,118.09L8.36,103.96L9.21,137.6L9.33,118.66L9.45,120.37L9.57,106.72L9.94,153.07L10.06,103.69L10.3,118.14L10.42,118.86L10.54,148.09L11.03,89.27L11.15,119.21L11.27,119.09L11.39,120.23L11.51,95.59L11.87,127.18L12.24,120.43L12.36,109.71L12.6,129.58L13.09,124.05L13.21,118.92L13.57,111.89L13.69,127.19L13.81,119.01L13.93,97.81L14.78,125.38L14.9,118.92L15.15,122.21L15.27,117.01L15.63,119.04L15.75,131.88L15.99,109.98L16.6,119.09L16.72,119.16L16.84,111.57L16.96,128.15L17.45,119.13L17.57,119.15L17.81,114.26L18.3,116.83L18.42,119.08L18.66,109.33L18.78,119.31L18.9,118.85L19.02,126.49L19.27,119.09L19.75,119.31L19.87,127.02L20.84,109.88L20.96,119.25L21.08,119.42L21.2,117.99L21.33,112.97L21.81,119.16L21.93,119.19L22.05,116.24L22.42,119.32L22.54,128.1L22.78,119.08L23.26,119.38L23.38,133.25L24.23,113.77L24.35,119.44L24.6,120.29L24.72,117.46L25.08,119.42L25.2,113.56L25.32,119.25L25.44,115.52L25.93,126.57L26.29,119.31L26.41,119.45L26.66,123.94L26.78,119.36L27.14,122.84L27.26,119.57L27.63,119.31L27.75,119.5L27.87,117.56L28.11,113.17L28.47,120.03L28.59,113.14L29.32,119.53L29.44,119.22L29.56,114.25L30.29,132.74L30.41,119.59L30.53,119.34L30.65,119.44L30.78,124.68L31.26,109.46L31.62,119.49L31.75,119.43L31.87,119.65L31.99,95.4L32.59,119.7L32.84,119.63L32.96,119.34L33.32,119.5L33.44,119.1L33.56,121.04L34.05,117.5L34.41,118.9L34.53,136.2L35.38,119.28L35.5,133.53L35.62,119.52L36.35,119.54L36.47,117.28L37.08,119.83L37.2,119.61L37.32,117.29L37.8,123.53L38.17,119.75L38.29,118.51L38.77,125.06L39.02,119.76L39.14,119.41L39.26,119.94L39.5,119.65L39.62,109.61L40.47,121.57L40.59,119.84L40.83,120.45L41.32,119.72L41.44,119.81L41.56,120.3L41.92,119.85L42.04,115.19L42.29,119.87L42.89,119.8L43.01,119.41L43.62,119.95L43.86,119.74L43.98,119.83L45.68,119.85L45.8,118.89L46.53,119.95L46.65,119.83L46.77,120.12L47.74,119.87L47.86,119.98L49.31,119.81L49.44,119.96L50.16,119.75L50.28,119.9L50.4,119.92L50.65,119.59L51.37,120.14L51.5,119.79L52.95,119.97L53.07,119.68L53.8,119.94L53.92,119.77L55.01,120.09L55.13,119.72L55.86,120.32L55.98,119.41L56.1,120.2L56.71,120.06L56.83,119.75L56.95,120.25L57.19,119.42L57.55,119.92L57.67,119.98L57.8,120.27L57.92,119.56L58.16,120.08L58.28,119.41L59.01,120.58L59.13,119.58L60.1,121L60.22,119.98L60.82,119.63L60.95,121.25L61.31,120.75L61.43,120.24L61.55,120.01L61.67,120.25L61.79,121.32L62.16,119.81L62.64,119.88L62.76,120.62L62.88,120.48L63.01,120.96L63.13,121.56L63.25,120.27L63.73,121.92L63.85,122L64.82,118.22L64.94,120.31L65.07,121.24L65.19,121.91L65.43,120.03L65.55,120.49L65.67,119.67L65.79,122.19L66.28,119.63L66.4,121.15L66.52,118.42L67,121.92L67.37,121.63L67.49,119.78L67.61,118.63L67.73,121.38L68.09,119.6L68.22,120.27L68.82,121.18L68.94,120.46L69.06,119.92L69.43,123.33L69.79,120.55L69.91,120.65L70.64,121.52L70.76,120.78L71,118.22L71.12,121.63L71.49,120.82L71.61,121.27L71.85,121.39L72.09,120.25L72.34,121.28L72.46,123.57L73.18,120.2L73.3,122.05L73.43,119.48L74.03,121.5L74.15,120.41L74.52,121.41L74.76,119.73L74.88,121.13L75,118.49L75.73,121.92L75.85,121.23L75.97,120.11L76.09,122.67L76.33,119.26L76.82,122.28L76.94,120.99L77.06,123.26L77.3,119.77L77.67,121.1L77.79,119.72L77.91,121.55L78.39,118.05L78.51,121.17L78.64,118.73L79.12,118.03L79.48,121.79L79.61,120.82L80.09,122.94L80.45,122.18L80.57,121.19L80.7,125.13L80.94,119.99L81.18,121.31L81.3,119.35L81.91,124.38L82.15,121.31L82.27,118.74L82.51,116.69L82.76,122.72L83.12,121.22L83.24,123.06L83.85,115.44L84.09,121.47L84.21,123.61L84.45,123.96L85.18,116.93L85.3,120.19L85.54,120.16L85.91,121.36L86.03,118.8L86.27,123.9L86.88,121.13L87,122.25L87.24,122.65L87.36,118.86L87.48,121.08L87.6,124.51L87.84,124.7L88.09,117.96L88.45,121.48L88.57,120.47L88.69,123.39L89.06,116.24L89.3,123.02L89.42,122.04L89.54,116.95L90.03,125.08L90.15,122.8L90.27,122.94L90.39,122.68L90.51,118.91L90.99,125.18L91.24,119.25L91.36,120.14L91.48,123.34L91.96,119.17L92.09,119.79L92.21,120.25L92.33,119.96L92.45,123.5L92.69,123.87L92.93,118.3L93.05,119.78L93.18,122.87L93.3,125.84L93.42,118.81L94.02,125.17L94.15,123.09L94.27,124.99L94.39,119.91L94.63,120.56L94.75,117.54L94.87,126.08L95.24,114.91L95.48,120.95L95.6,121.49L95.96,119.53L96.33,125.07L96.45,121.1L96.69,126.06L96.81,119.98L97.3,123.89L97.42,123.84L97.66,121.08L97.78,122.35L97.9,124.82L98.39,117.52L98.63,119.95L98.75,122.08L98.87,123.12L98.99,122.45L99.11,115.82L99.72,131.02L99.96,122.27L100.08,123.17L100.2,129.11L100.69,121.59L100.81,128.67L100.93,122.14L101.05,124.77L101.29,117.46L101.66,123.44L101.78,123.9L102.02,121.71L102.26,122.46L102.38,125.22L102.63,127.6L102.99,117.43L103.23,120.3L103.35,122.88L103.47,123.93L103.72,122.19L103.84,119.44L104.57,124.23L104.69,121.38L104.81,122.39L105.05,120.94L105.41,123.71L105.53,126.3L106.38,118.98L106.5,128.29L107.35,121.32L107.47,121.15L107.84,123.82L108.08,123.04L108.2,118.74L108.56,116.52L108.69,130.4L108.93,121.2L109.05,122.43L109.17,123.21L109.29,119.39L109.41,131.3L110.26,111.8L110.38,122.53L110.62,124.4L110.74,120.07L110.99,124.31L111.11,111.57L111.59,123.12L111.71,123.23L111.84,116.95L112.2,125.04L112.44,123.68L112.56,123.34L113.29,114.72L113.41,124.32L113.65,125.77L113.77,120.01L114.02,123.36L114.14,126.14L114.26,110.64L114.86,120.08L114.99,120.61L115.23,123.5L115.59,119.57L115.71,120.88L115.83,120.49L116.44,127.89L116.68,123.3L116.8,125.06L116.92,121.79L117.29,130.14L117.41,128.77L117.53,125.7L117.77,127.78L118.38,119.69L118.5,123.36L118.62,124.35L118.86,123.07L118.98,119.68L119.71,127.32L119.83,123.39L119.95,123.14L120.2,123.5L120.32,126.8L120.44,126.36L120.56,115.53L121.17,123.51L121.41,123.26L121.53,119.59L122.01,123.49L122.26,119.75L122.38,121.83L123.1,121.18L123.22,126.79L123.35,123.45L123.71,123.01L123.83,126.66L123.95,114.87L124.56,123.06L124.68,117.53L125.16,123.54L125.41,121.32L125.53,121.69L125.65,124.5L125.89,121.3L126.25,123.11L126.38,121.1L126.5,126.45L127.1,122.4L127.22,124.62L128.07,120.58L128.19,124.27L128.31,120.05L128.92,124.33L129.04,123.78L129.16,125.45L129.53,121.63L129.65,120.61L130.49,127.32L130.62,124.35L131.1,122.4L131.34,124.11L131.46,124.67L132.31,119.96L132.43,124.77L132.55,123.11L133.16,123.85L133.28,123.57L133.89,125.42L134.01,123.62L134.13,123.77L134.49,124.5L134.61,122.43L135.22,124.34L135.34,119.58L135.7,124.97L136.19,124.46L136.31,118.44L137.28,129.61L137.4,123.85L137.64,123.13L137.76,124.13L137.89,124.49L138.01,125.72L138.25,123.86L138.61,124.39L138.73,124.3L138.98,125.38L139.1,122.88L139.46,124.36L139.58,124.54L139.7,122.43L139.82,125.39L140.19,124.48L140.31,125.95L140.67,122.06L140.79,126.36L141.04,124.28L141.16,124.54L141.28,125.45L141.52,123.19L141.76,124.55L141.88,124.15L142.01,124.49L142.13,122.15L142.49,126.65L142.61,119.52L142.97,124.4L143.1,124.56L143.58,123.82L143.7,125.03L144.07,124.28L144.19,119.48L144.91,127.49L145.03,124.21L145.16,123.38L145.28,121.15L145.64,124.67L145.76,122.59L145.88,124.29L146,124.08L146.13,126.62L146.25,120.25L146.85,123.47L146.97,124.23L147.34,129.66L147.46,124.55L147.58,123.09L147.7,126.99L148.06,124.74L148.18,133.23L148.55,122.97L149.03,126.58L149.15,124.93L149.28,125.79L149.4,120.74L149.76,125.15L149.88,117.21L150.24,124.22L150.37,124.45L150.49,124.33L150.61,125.03L150.73,125.84L150.85,126.61L150.97,124.38L151.09,124.71L151.21,123.95L151.82,127.81L151.94,124.78L152.06,123.61L152.3,126.15L152.91,125.61L153.03,124.78L153.15,120.6L153.27,125.03L153.76,124.14L153.88,124.61L154.24,125.03L154.49,121.77L154.61,124.11L154.73,125.91L154.85,127.06L154.97,124.2L155.33,126.99L155.45,121.83L156.18,128.46L156.3,125.68L156.42,126.03L156.55,117.96L157.15,124.53L157.27,125.73L157.39,129.99L157.76,124.21L157.88,125.78L158,123.87L158.12,124.73L158.24,132.77L159.21,118.4L159.33,127.51L159.45,126.56L159.57,128.21L159.7,131.02L159.94,132.11L160.18,122.05L160.54,122.9L160.66,124.72L161.03,128.5L161.15,124.76L161.51,122.07L162,126.32L162.12,126.31L162.36,130.66L162.48,127.17L162.6,121.79L162.85,119.09L163.21,127.64L163.45,126.56L163.57,125L163.69,126.46L163.82,117.27L164.54,141.55L164.66,124.13L164.78,126.33L164.91,126.45L165.03,124.27L165.15,126.81L165.27,125.84L165.39,157.46L166.24,118.71L166.36,126.33L166.6,129L167.09,109.19L167.21,127.85L167.57,128.03L168.06,115.77L168.18,121.38L168.3,126.33L168.54,122.21L168.9,142.25L169.03,122.99L169.27,129.09L169.87,126.86L169.99,126.7L170.24,128.91L170.36,126.25L170.48,103.15L170.96,128.54L171.33,122.77L171.45,126.89L171.81,127.32L171.93,122.2L172.05,126.8L172.18,138.42L172.3,120.68L172.78,126.17L172.9,121.94L173.14,138.98L173.51,127.07L173.63,125.59L173.75,126.57L173.87,135.01L174.11,102.43L174.48,127.59L174.6,127.25L174.84,92.12L174.96,126.11L175.08,127.21L175.33,128.76L175.45,127.49L175.57,118.56L175.81,141.24L176.3,126.56L176.42,126.27L176.54,124.44L176.66,127.28L176.78,151.62L177.39,125.86L177.63,127.41L177.75,121.69L177.87,133.52L178.48,127.5L178.6,110.23L179.2,128.37L179.45,127.27L179.57,125.59L179.69,122.34L180.17,127.82L180.29,127.36L180.41,143.61L181.02,125.61L181.14,128.77L181.26,127.48L181.38,135.89L181.75,126.41L182.23,126.51L182.35,126.62L182.72,126.06L182.84,128.34L183.08,127.3L183.2,123.72L183.57,128.37L184.05,127.89L184.17,125.71L185.02,132.92L185.14,128.43L185.26,127.14L185.5,129.65L185.87,127.33L185.99,128.97L186.11,122.84L186.72,126.37L186.84,127.45L187.44,127.82L187.68,125.81L187.81,127.48L187.93,130.61L188.29,126.81L188.53,127.42L188.65,126.92L188.78,122.65L189.14,129.98L189.26,127.79L189.38,128.94L189.74,120.74L189.87,126.91L189.99,128.33L190.11,131.9L190.35,126.99L190.59,128.11L190.71,126.03L191.08,122.57L191.44,132.54L191.56,128.23L191.68,125.47L191.8,134.24L192.41,130.72L192.53,128.78L192.65,133.1L193.02,127.39L193.14,127.87L193.26,119.16L193.86,131.2L194.11,128.49L194.23,122.58L195.08,129.59L195.2,130L195.32,129.25L195.44,129.4L195.56,136.06L195.8,115.99L196.17,131.63L196.29,138.32L196.53,122.41L197.01,126.92L197.14,130.24L197.26,136.69L197.38,126.57L197.86,129.39L197.98,123.9L198.59,138.64L198.71,129L198.83,127.26L199.44,130.78L199.56,142.85L199.8,120.04L200.41,130.26L200.53,129.11L200.77,130.45L201.01,124.39L201.13,130.04L201.26,129.43L201.38,128.05L201.5,134.61L201.86,128.92L201.98,138.89L202.1,118.56L202.71,130.88L202.83,133.01L203.44,123.48L203.56,127.57L203.68,131.41L203.92,138.92L204.28,123.49L204.53,128.15L204.65,128.03L204.77,147.88L205.13,127.72L205.37,128.67L205.5,130.62L205.62,130.17L205.74,133.65L206.34,107.68L206.47,130.31L206.59,130.04L206.71,130.13L206.83,127.15L207.31,136.13L207.56,130.08L207.68,122.21L208.28,137.2L208.53,130.48L208.65,129.76L209.01,127.4L209.25,130.21L209.37,130.59L209.49,132.17L209.62,126.98L209.86,131.95L209.98,119.07L210.83,135.67L210.95,139.12L211.31,126.9L211.8,131.58L211.92,144.57L212.77,115.02L212.89,129.85L213.13,131.18L213.25,127.95L213.49,131.26L213.61,112.03L213.98,137.39L214.46,135.21L214.58,130.57L214.7,130.13L214.83,133.82L215.07,123.6L215.19,123.73L215.31,141.44L216.04,106.5L216.16,129.94L216.28,130.21L216.52,125.11L216.64,148.07L217.01,129.95L217.49,129.98L217.61,122.09L217.85,149.09L218.22,130.42L218.34,130.02L218.7,108.88L218.82,130.44L219.07,115.78L219.19,129.86L219.43,123.71L219.55,96.5L220.4,152.78L220.52,130.03L220.64,130.2L220.76,138.16L221.61,116.3L221.73,126.67L221.97,130.15L222.34,92L222.46,127.13L222.58,136.14L222.94,120.92L223.43,130.21L223.55,130.18L224.03,150.86L224.16,129.13L224.28,90.67L224.64,139.54L225.12,130.16L225.25,130.15L225.37,130.52L225.49,130.15L225.61,115.45L226.58,157.17L226.7,130.2L226.94,120.6L227.18,129.99L227.31,149.52L228.27,102.41L228.4,130.17L228.64,141.28L228.88,130.29L229,113.25L229.85,140.29L229.97,130.19L230.21,106.97L230.33,129.19L230.46,155.71L230.82,122.98L231.3,133.08L231.43,122.99L231.79,150.75L232.03,130.18L232.15,127.36L232.27,127.64L232.39,97.76L233.24,133.38L233.36,130.17L233.61,102.96L233.97,140.27L234.09,149.81L235.06,101.8L235.18,130.18L235.42,129.79L235.54,130.19L235.67,131.16L235.79,127.96L235.91,159.89L236.27,123.38L236.76,130L236.88,153.91L237.73,88.09L237.85,130.17L238.09,128.88L238.33,130.21L238.45,133.35L238.57,127.83L238.7,76.86L239.06,133.7L239.54,127.63L239.66,148.42L240.03,123.26L240.51,127.97L240.63,130.18L240.88,129.41L241.12,129.95L241.24,133.3L241.36,127.57L241.48,155.71L241.97,130.19L242.09,130.08L242.21,127.84L242.33,48.36L242.69,131.35L243.18,130.42L243.3,138.04L243.66,124.12L243.91,130.05L244.03,147.16L244.15,125.43L244.75,130.14L244.87,133.08L245,124.99L245.12,62.07L245.48,133.69L245.97,130.32L246.09,102.21L246.81,140.94L246.93,130.16L247.06,130.23L247.18,123.93L247.42,130.16L247.54,157.32L248.15,124.55L248.39,129.95L248.51,145.21L249.48,111.5L249.6,129.7\" style=\"vector-effect: none; fill: none; stroke: rgb(99, 110, 250); stroke-opacity: 1; stroke-width: 2px; opacity: 1;\"/></g><g class=\"points\"/><g class=\"text\"/></g></g></g></g><path class=\"xlines-above crisp\" d=\"M0,0\" style=\"fill: none;\"/><path class=\"ylines-above crisp\" d=\"M0,0\" style=\"fill: none;\"/><g class=\"overlines-above\"/><g class=\"xaxislayer-above\"><g class=\"xtick\"><text text-anchor=\"middle\" x=\"0\" y=\"509\" transform=\"translate(140.46,0)\" style=\"font-family: 'Open Sans', verdana, arial, sans-serif; font-size: 12px; fill: rgb(42, 63, 95); fill-opacity: 1; white-space: pre; opacity: 1;\">500</text></g><g class=\"xtick\"><text text-anchor=\"middle\" x=\"0\" y=\"509\" style=\"font-family: 'Open Sans', verdana, arial, sans-serif; font-size: 12px; fill: rgb(42, 63, 95); fill-opacity: 1; white-space: pre; opacity: 1;\" transform=\"translate(201.04000000000002,0)\">1000</text></g><g class=\"xtick\"><text text-anchor=\"middle\" x=\"0\" y=\"509\" style=\"font-family: 'Open Sans', verdana, arial, sans-serif; font-size: 12px; fill: rgb(42, 63, 95); fill-opacity: 1; white-space: pre; opacity: 1;\" transform=\"translate(261.63,0)\">1500</text></g><g class=\"xtick\"><text text-anchor=\"middle\" x=\"0\" y=\"509\" style=\"font-family: 'Open Sans', verdana, arial, sans-serif; font-size: 12px; fill: rgb(42, 63, 95); fill-opacity: 1; white-space: pre; opacity: 1;\" transform=\"translate(322.21000000000004,0)\">2000</text></g></g><g class=\"yaxislayer-above\"><g class=\"ytick\"><text text-anchor=\"end\" x=\"79\" y=\"4.199999999999999\" transform=\"translate(0,489.03999999999996)\" style=\"font-family: 'Open Sans', verdana, arial, sans-serif; font-size: 12px; fill: rgb(42, 63, 95); fill-opacity: 1; white-space: pre; opacity: 1;\">0</text></g><g class=\"ytick\"><text text-anchor=\"end\" x=\"79\" y=\"4.199999999999999\" style=\"font-family: 'Open Sans', verdana, arial, sans-serif; font-size: 12px; fill: rgb(42, 63, 95); fill-opacity: 1; white-space: pre; opacity: 1;\" transform=\"translate(0,446)\">0.05</text></g><g class=\"ytick\"><text text-anchor=\"end\" x=\"79\" y=\"4.199999999999999\" style=\"font-family: 'Open Sans', verdana, arial, sans-serif; font-size: 12px; fill: rgb(42, 63, 95); fill-opacity: 1; white-space: pre; opacity: 1;\" transform=\"translate(0,402.96)\">0.1</text></g><g class=\"ytick\"><text text-anchor=\"end\" x=\"79\" y=\"4.199999999999999\" style=\"font-family: 'Open Sans', verdana, arial, sans-serif; font-size: 12px; fill: rgb(42, 63, 95); fill-opacity: 1; white-space: pre; opacity: 1;\" transform=\"translate(0,359.91999999999996)\">0.15</text></g></g><g class=\"overaxes-above\"/></g><g class=\"subplot x2y2\"><g class=\"layer-subplot\"><g class=\"shapelayer\"/><g class=\"imagelayer\"/></g><g class=\"minor-gridlayer\"><g class=\"x2\"/><g class=\"y2\"/></g><g class=\"gridlayer\"><g class=\"x2\"><path class=\"x2grid crisp\" transform=\"translate(447.65999999999997,0)\" d=\"M0,327.7v168.29999999999998\" style=\"stroke: rgb(255, 255, 255); stroke-opacity: 1; stroke-width: 1px;\"/><path class=\"x2grid crisp\" transform=\"translate(508.24,0)\" d=\"M0,327.7v168.29999999999998\" style=\"stroke: rgb(255, 255, 255); stroke-opacity: 1; stroke-width: 1px;\"/><path class=\"x2grid crisp\" transform=\"translate(568.8299999999999,0)\" d=\"M0,327.7v168.29999999999998\" style=\"stroke: rgb(255, 255, 255); stroke-opacity: 1; stroke-width: 1px;\"/><path class=\"x2grid crisp\" transform=\"translate(629.41,0)\" d=\"M0,327.7v168.29999999999998\" style=\"stroke: rgb(255, 255, 255); stroke-opacity: 1; stroke-width: 1px;\"/></g><g class=\"y2\"><path class=\"y2grid crisp\" transform=\"translate(0,452.88)\" d=\"M387.2,0h249.60000000000002\" style=\"stroke: rgb(255, 255, 255); stroke-opacity: 1; stroke-width: 1px;\"/><path class=\"y2grid crisp\" transform=\"translate(0,418.18)\" d=\"M387.2,0h249.60000000000002\" style=\"stroke: rgb(255, 255, 255); stroke-opacity: 1; stroke-width: 1px;\"/><path class=\"y2grid crisp\" transform=\"translate(0,383.46999999999997)\" d=\"M387.2,0h249.60000000000002\" style=\"stroke: rgb(255, 255, 255); stroke-opacity: 1; stroke-width: 1px;\"/><path class=\"y2grid crisp\" transform=\"translate(0,348.76)\" d=\"M387.2,0h249.60000000000002\" style=\"stroke: rgb(255, 255, 255); stroke-opacity: 1; stroke-width: 1px;\"/></g></g><g class=\"zerolinelayer\"><path class=\"y2zl zl crisp\" transform=\"translate(0,487.59)\" d=\"M387.2,0h249.60000000000002\" style=\"stroke: rgb(255, 255, 255); stroke-opacity: 1; stroke-width: 2px;\"/></g><g class=\"layer-between\"><g class=\"shapelayer\"/><g class=\"imagelayer\"/></g><path class=\"xlines-below\"/><path class=\"ylines-below\"/><g class=\"overlines-below\"/><g class=\"xaxislayer-below\"/><g class=\"yaxislayer-below\"/><g class=\"overaxes-below\"/><g class=\"overplot\"><g class=\"x2y2\" transform=\"translate(387.2,327.7)\" clip-path=\"url(#clipa35ccfx2y2plot)\"><g class=\"scatterlayer mlayer\"><g class=\"trace scatter tracef481c3\" style=\"stroke-miterlimit: 2; opacity: 1;\"><g class=\"fills\"/><g class=\"errorbars\"/><g class=\"lines\"><path class=\"js-line\" d=\"M0,159.87L0.36,8.42L0.85,29.27L0.97,159.87L1.82,103.31L1.94,123.76L2.18,112.83L2.42,143.17L2.54,81.36L2.67,85.49L2.79,131.28L3.15,114.05L3.27,134.1L3.39,68.77L3.51,55.92L3.63,132.27L3.88,78.66L4.24,89.53L4.36,109.15L4.48,85.35L4.85,137.36L4.97,107.83L5.09,128.98L5.21,96.71L5.45,141.37L5.82,126.16L5.94,125.96L6.18,103.41L6.3,138.1L6.42,64.19L7.03,131.36L7.15,101.63L7.39,65.18L7.75,145.29L8,123.98L8.12,106.86L8.48,159.39L8.97,138.19L9.09,143.4L9.57,157.41L9.69,107.27L9.81,144.57L9.94,135L10.3,75.33L10.42,157.67L10.54,157.33L10.66,157.61L10.78,62.17L11.39,123.1L11.51,129.54L12.36,159.42L12.48,149.58L12.72,153.34L12.84,141.98L12.96,99.52L13.45,154.38L13.57,92.17L13.81,147.53L13.93,100.19L14.06,155.46L14.66,147.96L14.78,70.33L15.27,152.36L15.63,145.53L15.75,117.61L16.48,150.94L16.6,150.88L16.72,148.47L16.84,90.41L16.96,158.27L17.45,150.82L17.57,141.7L17.69,72.79L17.93,159.07L18.3,143.61L18.42,153.63L18.54,151.06L18.9,157.55L19.02,133.42L19.75,159.4L19.87,156.24L19.99,154.36L20.11,159.65L20.23,155.95L20.36,137.25L20.6,158.27L21.08,153.86L21.2,134.47L21.45,158.33L22.05,157.2L22.17,158.35L22.29,159.18L22.42,155.49L22.54,148.55L22.9,144.36L23.26,159.55L23.38,157.87L23.51,158.84L23.75,150.28L24.11,159.67L24.23,157.24L24.35,158.99L25.2,151.07L25.32,158.1L25.57,158.36L25.81,155.93L25.93,145.18L26.41,159.35L26.78,158.95L26.9,158.46L27.5,159.86L27.75,158.96L27.87,159.11L28.11,157.72L28.35,158.87L28.47,145.57L28.84,159.1L29.32,158.35L29.44,153.35L29.81,159.74L30.29,158.14L30.41,157.61L30.53,159.2L31.14,157.62L31.26,158L31.5,159.68L32.11,159L32.23,151.98L32.96,159.32L33.08,158.73L33.2,159.01L33.44,157.69L33.68,159.19L33.81,159.44L33.93,157.51L34.53,157.75L34.65,159.19L34.77,159.08L34.9,156.36L35.38,159.36L35.74,159.04L35.86,158.68L35.99,151.51L36.47,159.61L36.59,159.2L36.71,159.03L37.32,159.64L37.68,159.5L37.8,158.55L38.05,159.17L38.17,157.88L38.29,156.49L38.65,159.78L39.02,159.5L39.14,157.1L39.38,159.32L39.62,156.45L39.86,159.13L39.98,157.8L40.23,159.7L40.83,159.49L40.95,159.25L41.32,159.19L41.44,158.23L41.92,159.69L42.04,156.82L42.17,159.08L42.29,158.78L42.65,159.57L43.01,156.06L43.13,159.38L43.38,158.85L43.62,159.54L43.74,159.2L43.86,159.09L44.1,158.83L44.35,159.57L44.47,159.06L44.59,158.89L44.83,159.58L44.95,157.69L45.32,158.6L45.44,159.08L45.68,159.71L45.8,158.8L46.04,159.5L46.16,157.88L46.41,159.78L46.89,159.38L47.01,158.47L47.74,159.81L47.86,159.48L47.98,158.75L48.34,159.53L48.71,158.84L48.83,158.88L49.07,158.48L49.8,159.36L49.92,159.29L50.28,158.61L50.53,159.61L50.65,159.52L51.01,159.75L51.25,159.12L51.37,159.52L51.5,159.57L52.22,158.6L52.46,159.03L52.59,159.08L52.71,157.68L53.31,159.03L53.43,159.02L53.68,158.07L53.92,159.84L54.04,159.8L54.16,158.96L54.77,159.11L54.89,159.27L55.61,159.67L55.74,159.06L56.1,159.81L56.46,158.18L56.58,158.97L56.95,159.69L57.31,158.89L57.43,158.15L58.4,159.82L58.52,159.13L58.77,159.38L58.89,158.1L59.25,159.85L59.73,159.37L59.86,159.81L60.7,158L60.82,159.31L61.19,159.75L61.43,158.22L61.67,159.02L61.79,159.45L62.28,159.05L62.4,159.81L62.64,159.87L62.88,158.56L63.25,158.81L63.37,159.44L63.49,159.6L63.73,158.93L63.85,157.85L64.46,159.75L64.7,159.22L64.82,159.71L65.55,159.35L65.67,159.58L65.91,158.37L66.03,159.04L66.16,159.73L66.76,158.16L66.88,159.11L67,159.64L67.13,158.35L67.73,159.32L67.85,159.64L68.22,158.87L68.58,159.27L68.7,159.77L68.94,158.62L69.43,158.88L69.55,159.77L70.28,156.94L70.4,158.63L70.52,159.31L71,159.5L71.12,157.32L71.25,159.17L71.37,159L71.61,159.69L71.97,159.36L72.09,158.67L72.21,159.43L72.82,158.75L72.94,158.81L73.06,157.66L73.3,159.12L73.55,158.33L73.67,159.39L74.27,157.57L74.4,159.63L75.24,158.75L75.36,158.58L75.61,159.86L76.21,159.11L76.33,159.04L76.58,157.43L76.82,159.51L76.94,158.59L77.06,158.89L77.3,159.21L77.55,157.91L77.91,158.3L78.03,158.91L78.39,159.87L78.51,158.74L78.76,158.75L78.88,158.88L79.24,159.75L79.36,158.44L79.61,159.13L79.73,158.96L79.85,159.15L80.09,158.62L80.21,158.22L80.57,159.26L80.94,158.99L81.06,157.97L81.42,157.53L81.91,159.23L82.03,159.3L82.63,158.03L82.76,159.06L82.88,159L83,159.74L83.12,158.28L83.48,158.58L83.6,158.48L83.97,159.8L84.21,159.42L84.33,157.82L85.06,159.58L85.18,158.5L85.3,158.71L85.78,159.16L85.91,157.37L86.03,158.9L86.39,159.86L86.63,158.06L86.75,159.18L87.12,158.19L87.24,159.77L87.36,159.72L87.6,159.75L87.72,157.96L88.33,159.65L88.57,159.07L88.69,157.95L88.94,159.09L89.42,158.41L89.54,158.38L89.9,157.95L90.03,159.41L90.27,158.55L90.39,158.07L90.99,159.74L91.24,159.37L91.36,158.37L91.6,157.6L92.09,159.4L92.21,158.94L92.69,157.78L92.93,158.45L93.05,158.89L93.42,158.19L93.78,159.31L93.9,158.31L94.63,159.44L94.99,159.27L95.11,158.8L95.36,159.45L95.48,157.15L95.72,158.44L95.84,159.66L95.96,159.81L96.08,159.38L96.21,158.36L96.33,159.73L96.45,156.92L97.05,159.55L97.17,158.88L97.66,158.99L97.78,158.01L98.63,159.68L98.75,158.6L99.11,159.73L99.36,159.25L99.48,156.67L99.6,159.83L100.2,157.78L100.32,157.56L100.57,156.83L101.17,159.56L101.29,159.19L101.78,158.27L101.9,159.58L102.02,159.45L102.14,159.87L102.26,159.34L102.38,159.77L102.51,157.84L102.75,159.22L102.99,157.36L103.35,159.09L103.47,157.23L104.08,159.5L104.32,158.82L104.44,158.88L104.81,159.85L105.29,159.19L105.41,157.83L105.66,156.48L106.02,159.52L106.26,159.03L106.38,158.51L106.75,157.8L106.87,159.17L106.99,158.77L107.11,158.98L107.23,159.63L107.47,156.8L107.84,159.18L107.96,159.05L108.08,159.68L108.44,159.01L108.56,156.1L108.93,159.48L109.41,158.86L109.53,158.76L110.14,159.42L110.38,157.34L110.5,158.76L111.11,158.94L111.23,157.88L111.59,159.45L111.84,157L112.08,159.15L112.2,159.28L112.68,158.02L113.05,158.98L113.17,158.75L113.65,158.28L114.14,159.54L114.26,158.92L114.5,158.83L115.11,159.27L115.23,159.15L115.59,157.69L115.71,159.11L115.83,159.31L116.32,158.72L116.44,157.42L116.92,159.49L117.17,159.24L117.29,158.7L117.77,158.1L118.38,159.41L118.5,159.13L119.47,158.43L119.59,157.23L120.2,159.52L120.44,159.04L120.56,159.13L120.8,158.3L120.92,159.29L121.04,158.94L121.17,159.88L122.13,157.84L122.26,159.41L122.5,159.53L122.98,158.41L123.1,158.62L123.22,159.18L123.59,159.38L123.71,157.94L124.32,159.57L124.56,159.02L124.68,158.83L124.92,158.35L125.04,159.25L125.28,158.96L125.41,159.36L126.38,158.29L126.5,159.54L127.1,157.89L127.34,159.26L127.47,158.92L127.71,159.1L128.31,158.21L128.43,158.71L128.56,158.72L128.8,159.54L129.28,159.14L129.4,158.77L129.65,159.24L130.25,158.07L130.37,158.92L130.98,159.01L131.1,158.18L132.07,159.2L132.19,158.86L132.43,158.59L133.04,159.7L133.16,158.87L133.52,158.88L133.65,159.49L134.61,158.17L134.74,158.8L134.86,158.42L135.46,158.74L135.58,159.22L135.7,158.48L136.31,158.8L136.43,158.94L136.67,158.64L137.28,159.8L137.4,158.39L138.13,159.46L138.25,158.62L138.86,159.76L138.98,159.41L139.1,158.58L139.22,158.46L139.58,158.92L139.7,157.66L139.95,159.07L140.43,158.85L140.55,158.37L140.91,159.58L141.28,159.38L141.4,158.76L141.52,157.81L141.64,159.09L142.13,158.84L142.25,158.83L142.49,159.46L142.61,158.35L142.97,158.79L143.1,158.81L143.22,159.88L143.34,157.58L143.82,158.76L143.94,158.63L144.19,159.66L144.31,157.65L144.55,159.23L145.03,158.83L145.16,158.51L146.13,159.78L146.25,158.44L146.37,158.23L146.49,158.8L146.73,158.84L146.85,159.04L147.34,158.53L147.46,158.72L147.58,156.71L147.82,159.46L148.31,158.73L148.43,157.71L149.28,159.39L149.4,158.71L149.52,157.82L150.12,158.88L150.24,159.89L150.85,158.42L150.97,158.71L151.09,159.43L152.18,157.12L152.3,158.28L152.43,159.09L153.03,156.09L153.15,158.72L153.52,158.4L153.76,158.68L153.88,159.53L154.36,158.34L154.73,158.68L154.85,159.26L155.58,157.9L155.94,158.62L156.06,158.58L156.3,158.67L156.42,157.18L157.39,159.87L157.51,158.46L158.12,159.86L158.24,159.37L158.36,158.78L159.09,158.18L159.21,158.32L159.33,158.9L160.18,157.91L160.3,158.74L160.91,158.28L161.03,159.07L161.63,158.22L161.76,158.91L161.88,159.26L162.36,157.89L162.6,158.66L162.72,159.2L163.33,158.14L163.45,158.77L163.57,158.79L164.06,158.41L164.18,159.36L164.54,159.55L164.91,158.41L165.03,159.68L165.87,156.01L166,158.4L166.84,159.27L166.97,158.52L167.09,158.16L167.45,158.4L167.57,159.65L167.81,157.59L168.42,158.42L168.54,159.39L168.66,158.19L169.27,158.43L169.39,158.97L170.12,157.88L170.24,158.46L170.36,158.57L170.96,159.04L171.33,157.77L171.45,158.39L171.69,159.5L171.81,157.81L172.3,159.01L172.42,158.38L172.66,159.81L172.78,157.76L173.27,159.06L173.39,158.32L173.87,159.72L174.11,158.81L174.24,158.74L174.72,156.84L174.96,158.38L175.08,158.32L175.33,157.82L175.45,158.48L175.57,156.29L176.3,158.64L176.42,158.2L176.54,158.76L176.9,157.79L177.14,158.28L177.26,159.19L177.51,159.57L178.11,157.58L178.23,158.3L178.48,158.16L178.6,158.91L178.72,157.87L179.08,156.61L179.57,158.35L179.69,156.75L180.54,158.49L180.66,158.41L180.9,158.78L181.38,158.02L181.51,158.44L181.63,158.31L181.75,158.77L182.11,158.12L182.23,158.48L182.35,157.73L182.72,157.53L183.08,158.25L183.2,157.71L184.17,158.97L184.29,158.34L184.41,158.12L187.32,158.53L187.44,157.56L187.93,158.78L188.29,158.62L188.41,158.24L188.53,158.03L188.78,158.85L188.9,158.93L189.02,157.79L189.14,159.14L189.62,158.17L189.74,158.82L189.87,159.19L189.99,158.27L190.23,158.58L190.35,158.29L190.71,158.39L190.83,155.97L191.56,159.1L191.68,158.14L191.8,157.23L192.65,159.22L192.77,157.89L193.26,158.76L193.38,156.74L193.86,158.76L194.23,157.82L194.35,156.3L194.59,156.16L194.71,158.23L195.2,158.09L195.32,158.13L195.56,156.33L195.92,157.49L196.05,157.45L196.41,158.63L196.65,157.57L196.77,157.57L196.89,158.5L197.38,157.75L197.5,156.92L197.98,155.58L198.35,157.58L198.47,156.7L199.32,158.45L199.44,157.6L199.8,159.67L200.04,157.64L200.16,156.89L200.29,159.65L201.01,159.03L201.13,157.94L201.26,157.53L201.38,158.6L201.5,155.57L202.1,158.2L202.35,157.48L202.47,159.02L202.83,156.24L202.95,157.65L203.07,159.49L203.44,157.37L203.92,157.81L204.04,157.69L204.41,159.08L204.53,157.49L204.65,158.67L204.77,156.18L205.37,158.98L205.62,157.59L205.74,158.04L206.1,155.4L206.34,159.69L206.47,157.66L206.59,157.52L206.71,157.88L206.83,155.57L207.68,159.01L207.8,158.97L207.92,157.18L208.16,156.98L208.65,159.68L208.77,159.39L208.89,157.75L209.01,159.1L209.13,157.26L209.49,158.8L209.62,155.07L209.98,159.13L210.46,157.95L210.58,157.93L210.71,156.22L210.95,158.5L211.31,157.68L211.43,159.16L211.92,156.07L212.16,157.65L212.28,158.03L212.52,157.27L212.64,158.71L213.01,157.67L213.13,159.41L213.25,155.9L213.86,157.67L213.98,159.44L214.34,156.64L214.7,157.65L214.83,159.68L215.31,156.99L215.67,157.72L215.79,157.1L215.92,159.81L216.4,157.07L216.52,155.75L216.64,155.85L216.76,158.3L217.01,157.63L217.49,158.36L217.61,157.17L217.85,156.64L217.98,157.66L218.22,159.84L218.7,157.81L218.82,157.67L219.07,158.1L219.19,157.59L219.31,156.7L219.43,159.86L219.91,157.34L220.04,154.23L220.16,154.76L220.28,159.04L220.52,157.6L220.76,157.8L220.88,151.99L221.37,159.03L221.61,158.47L221.73,155.04L222.58,159.51L222.7,157.7L222.94,157.91L223.06,151.45L223.31,159.48L223.91,157.75L224.03,156.89L224.16,157.25L224.28,153.71L224.64,158.81L225.12,157.63L225.25,157.65L225.37,159.04L225.73,158.84L225.85,154.83L226.58,159.45L226.7,157.64L226.82,157.62L226.94,158.95L227.31,155.09L227.55,157.65L227.67,158.37L227.79,158.55L227.91,158.34L228.03,156.87L228.27,159.68L228.52,157.65L228.64,157.93L229,158.61L229.12,158.53L229.24,154.78L229.73,158.76L230.09,157.63L230.21,158.13L230.33,157.33L230.46,158.78L230.82,157.82L230.94,158.91L231.18,156.15L231.67,157.65L231.79,158.51L232.03,158.02L232.15,156.88L232.76,159.04L233.24,158.14L233.36,157.63L233.61,158.89L233.73,157.12L233.85,157.25L233.97,156.26L234.58,158.82L234.82,158.21L234.94,157.17L235.06,156.85L235.18,157.64L235.3,157.63L235.42,158.63L235.54,159.31L235.79,157.01L235.91,157.27L236.03,157.64L236.39,157.4L236.51,159.09L236.64,156.69L236.88,158.53L237.24,158.03L237.36,156.96L237.6,155.66L237.73,158.81L238.21,157.83L238.33,156.99L238.45,156.09L238.57,158.71L238.94,157.63L239.06,157.58L239.18,158.84L239.42,156.5L239.79,157.64L239.91,157.61L240.27,158.56L240.51,156.87L240.63,157.63L240.75,157.73L241,156.41L241.24,159.25L241.36,156.88L241.48,158.4L242.09,157.91L242.21,155.65L242.81,159.53L242.94,157.2L243.06,155.55L243.18,159.62L243.78,158.79L243.91,157.16L244.15,158.38L244.51,158.24L244.63,154.77L245.48,158.21L245.6,156.31L246.33,159.18L246.45,157.55L247.06,157.64L247.18,157.17L247.54,155.96L247.78,158.01L247.9,157.65L248.02,157.68L248.27,157.21L248.39,157.63L248.51,155.11L249.12,158.55L249.36,158.17L249.48,155.97L249.6,157.8\" style=\"vector-effect: none; fill: none; stroke: rgb(239, 85, 59); stroke-opacity: 1; stroke-width: 2px; opacity: 1;\"/></g><g class=\"points\"/><g class=\"text\"/></g></g></g></g><path class=\"xlines-above crisp\" d=\"M0,0\" style=\"fill: none;\"/><path class=\"ylines-above crisp\" d=\"M0,0\" style=\"fill: none;\"/><g class=\"overlines-above\"/><g class=\"xaxislayer-above\"><g class=\"x2tick\"><text text-anchor=\"middle\" x=\"0\" y=\"509\" transform=\"translate(447.65999999999997,0)\" style=\"font-family: 'Open Sans', verdana, arial, sans-serif; font-size: 12px; fill: rgb(42, 63, 95); fill-opacity: 1; white-space: pre; opacity: 1;\">500</text></g><g class=\"x2tick\"><text text-anchor=\"middle\" x=\"0\" y=\"509\" style=\"font-family: 'Open Sans', verdana, arial, sans-serif; font-size: 12px; fill: rgb(42, 63, 95); fill-opacity: 1; white-space: pre; opacity: 1;\" transform=\"translate(508.24,0)\">1000</text></g><g class=\"x2tick\"><text text-anchor=\"middle\" x=\"0\" y=\"509\" style=\"font-family: 'Open Sans', verdana, arial, sans-serif; font-size: 12px; fill: rgb(42, 63, 95); fill-opacity: 1; white-space: pre; opacity: 1;\" transform=\"translate(568.8299999999999,0)\">1500</text></g><g class=\"x2tick\"><text text-anchor=\"middle\" x=\"0\" y=\"509\" style=\"font-family: 'Open Sans', verdana, arial, sans-serif; font-size: 12px; fill: rgb(42, 63, 95); fill-opacity: 1; white-space: pre; opacity: 1;\" transform=\"translate(629.41,0)\">2000</text></g></g><g class=\"yaxislayer-above\"><g class=\"y2tick\"><text text-anchor=\"end\" x=\"386.2\" y=\"4.199999999999999\" transform=\"translate(0,487.59)\" style=\"font-family: 'Open Sans', verdana, arial, sans-serif; font-size: 12px; fill: rgb(42, 63, 95); fill-opacity: 1; white-space: pre; opacity: 1;\">0</text></g><g class=\"y2tick\"><text text-anchor=\"end\" x=\"386.2\" y=\"4.199999999999999\" style=\"font-family: 'Open Sans', verdana, arial, sans-serif; font-size: 12px; fill: rgb(42, 63, 95); fill-opacity: 1; white-space: pre; opacity: 1;\" transform=\"translate(0,452.88)\">0.2</text></g><g class=\"y2tick\"><text text-anchor=\"end\" x=\"386.2\" y=\"4.199999999999999\" style=\"font-family: 'Open Sans', verdana, arial, sans-serif; font-size: 12px; fill: rgb(42, 63, 95); fill-opacity: 1; white-space: pre; opacity: 1;\" transform=\"translate(0,418.18)\">0.4</text></g><g class=\"y2tick\"><text text-anchor=\"end\" x=\"386.2\" y=\"4.199999999999999\" style=\"font-family: 'Open Sans', verdana, arial, sans-serif; font-size: 12px; fill: rgb(42, 63, 95); fill-opacity: 1; white-space: pre; opacity: 1;\" transform=\"translate(0,383.46999999999997)\">0.6</text></g><g class=\"y2tick\"><text text-anchor=\"end\" x=\"386.2\" y=\"4.199999999999999\" style=\"font-family: 'Open Sans', verdana, arial, sans-serif; font-size: 12px; fill: rgb(42, 63, 95); fill-opacity: 1; white-space: pre; opacity: 1;\" transform=\"translate(0,348.76)\">0.8</text></g></g><g class=\"overaxes-above\"/></g><g class=\"subplot x3y3\"><g class=\"layer-subplot\"><g class=\"shapelayer\"/><g class=\"imagelayer\"/></g><g class=\"minor-gridlayer\"><g class=\"x3\"/><g class=\"y3\"/></g><g class=\"gridlayer\"><g class=\"x3\"><path class=\"x3grid crisp\" transform=\"translate(754.86,0)\" d=\"M0,327.7v168.29999999999998\" style=\"stroke: rgb(255, 255, 255); stroke-opacity: 1; stroke-width: 1px;\"/><path class=\"x3grid crisp\" transform=\"translate(815.4399999999999,0)\" d=\"M0,327.7v168.29999999999998\" style=\"stroke: rgb(255, 255, 255); stroke-opacity: 1; stroke-width: 1px;\"/><path class=\"x3grid crisp\" transform=\"translate(876.03,0)\" d=\"M0,327.7v168.29999999999998\" style=\"stroke: rgb(255, 255, 255); stroke-opacity: 1; stroke-width: 1px;\"/><path class=\"x3grid crisp\" transform=\"translate(936.61,0)\" d=\"M0,327.7v168.29999999999998\" style=\"stroke: rgb(255, 255, 255); stroke-opacity: 1; stroke-width: 1px;\"/></g><g class=\"y3\"><path class=\"y3grid crisp\" transform=\"translate(0,411.77)\" d=\"M694.4,0h249.59999999999997\" style=\"stroke: rgb(255, 255, 255); stroke-opacity: 1; stroke-width: 1px;\"/><path class=\"y3grid crisp\" transform=\"translate(0,335.95)\" d=\"M694.4,0h249.59999999999997\" style=\"stroke: rgb(255, 255, 255); stroke-opacity: 1; stroke-width: 1px;\"/></g></g><g class=\"zerolinelayer\"><path class=\"y3zl zl crisp\" transform=\"translate(0,487.59)\" d=\"M694.4,0h249.59999999999997\" style=\"stroke: rgb(255, 255, 255); stroke-opacity: 1; stroke-width: 2px;\"/></g><g class=\"layer-between\"><g class=\"shapelayer\"/><g class=\"imagelayer\"/></g><path class=\"xlines-below\"/><path class=\"ylines-below\"/><g class=\"overlines-below\"/><g class=\"xaxislayer-below\"/><g class=\"yaxislayer-below\"/><g class=\"overaxes-below\"/><g class=\"overplot\"><g class=\"x3y3\" transform=\"translate(694.4,327.7)\" clip-path=\"url(#clipa35ccfx3y3plot)\"><g class=\"scatterlayer mlayer\"><g class=\"trace scatter trace435e9a\" style=\"stroke-miterlimit: 2; opacity: 1;\"><g class=\"fills\"/><g class=\"errorbars\"/><g class=\"lines\"><path class=\"js-line\" d=\"M0,159.87L0.48,12.11L0.73,136.44L0.85,107.34L0.97,159.87L1.09,87.96L1.7,154.94L1.82,141.08L1.94,137.7L2.06,139.25L2.18,104.13L2.3,158.22L2.54,39.98L3.03,158.01L3.15,154.99L4,30.41L4.12,36.78L4.48,154.84L4.97,149.9L5.09,33.73L5.21,92.55L5.45,23.6L5.69,48.8L5.82,15.86L6.54,145.24L6.66,37.66L7.51,144.66L7.63,71.51L8.6,158.14L8.72,131.47L8.85,132.36L8.97,97.11L9.09,28.97L9.33,157.57L9.69,57.9L9.81,82.77L9.94,154.55L10.42,15.3L10.66,139.74L10.78,127.29L10.9,128.99L11.03,68.01L11.15,156.88L11.51,16.23L11.75,131.64L11.87,27.21L12.12,102.96L12.24,54.72L12.36,20.55L13.33,116.96L13.45,37.4L13.93,159.59L14.06,19.05L14.18,82.2L14.3,87.69L14.42,144.33L14.54,28.27L15.02,118.91L15.15,122.66L15.39,90.46L15.51,152.15L15.63,144.66L15.75,52.54L15.87,56.59L15.99,154.2L16.11,155.24L16.24,89.99L16.48,41.73L16.72,136.3L16.84,28.83L17.33,144.11L17.69,132.32L17.81,151.53L17.93,137.24L18.05,26.27L18.66,156.49L18.78,10.2L18.9,46.9L19.02,45.21L19.14,93.05L19.27,107.18L19.39,21.94L19.63,87.98L19.75,12.65L20.11,47L20.23,52.23L20.36,15.45L20.48,156.24L20.96,37.36L21.08,94.72L21.2,132.57L21.45,48.01L21.81,97.07L21.93,61.73L22.29,91.12L22.54,29.81L22.66,121.43L22.9,153.19L23.38,14.03L23.51,64.14L23.63,61.26L23.75,109.27L24.23,23.94L24.35,24.69L24.48,123.94L24.96,8.41L25.2,55.93L25.32,87.28L25.69,10.91L26.05,65.94L26.17,113.72L26.66,13.02L26.9,50.36L27.02,115.61L27.38,16.17L27.87,24.02L27.99,30.36L28.11,102.44L28.72,36.86L28.84,73.32L28.96,73.46L29.08,23.13L29.2,18.36L29.32,83.4L29.44,12.03L29.81,132.59L30.05,29.77L30.17,53.1L30.29,103.67L30.41,23.77L30.78,48.13L30.9,26.53L31.26,32L31.38,13.85L31.5,60.69L31.75,69.94L31.99,15.27L32.35,28.07L32.47,73.63L32.59,21.84L32.96,151.58L33.32,27.44L33.44,10.01L33.56,97.2L34.17,41.72L34.29,14.73L34.53,116.13L35.14,76.83L35.26,89.01L35.38,111.66L35.5,12.79L35.62,71.38L35.74,13.24L36.23,110.83L36.47,75.6L36.59,64.06L36.83,23.93L36.96,84.11L37.2,58.23L37.32,113.75L37.8,130.54L38.05,13.27L38.17,109.72L38.89,11.21L39.02,143.83L39.14,12.4L39.74,65.98L39.86,80.83L39.98,49.98L40.23,125.05L40.35,150.77L40.47,156.11L40.59,95.71L41.07,151.46L41.2,129.33L41.32,15.93L41.56,127.96L42.04,42.56L42.17,56.21L42.29,148.03L42.77,24.31L42.89,106.2L43.01,76L43.5,148.46L43.62,19.92L43.98,148.77L44.35,114.46L44.47,34.13L45.32,134.3L45.44,115.75L45.68,143.94L46.16,39.65L46.29,40.01L46.41,35.25L46.53,140.57L47.01,9.26L47.13,85.6L47.25,33.74L47.86,159.49L48.1,118.24L48.22,111.29L48.47,89.41L48.71,144.88L48.95,132.56L49.07,112.36L49.44,145.03L50.04,21.83L50.16,24.89L50.28,92.03L50.4,131.18L50.77,36.42L50.89,122.98L51.01,11.98L51.13,8.9L51.25,125.67L51.37,129.09L51.5,156.96L51.62,96.63L52.22,155.04L52.34,136.06L52.46,134.66L52.59,20.19L52.95,144.61L53.31,113.68L53.43,59.91L53.68,141.5L54.04,93.19L54.16,35.81L54.4,13.99L55.01,158.87L55.13,97.28L55.25,148.64L55.61,33.57L55.86,141.19L55.98,137.35L56.1,97.75L56.22,141.26L56.58,139.79L56.71,145.95L57.19,34.15L57.31,157.82L57.43,75.01L57.55,139.82L57.67,151.58L57.8,114.76L57.92,12.21L58.64,154.7L58.77,147.6L58.89,101.25L59.13,129.01L59.25,41.3L59.37,139.79L59.61,159.19L59.73,133.15L59.98,141.83L60.1,125.61L60.46,141.46L60.58,153.89L61.43,35.98L61.55,145.1L61.92,29.09L62.04,155.24L62.4,40.53L62.52,134.94L62.64,69.24L62.76,153.6L63.25,142.1L63.37,149.22L63.49,149.82L63.61,158.06L64.22,49.39L64.34,144.74L64.46,154.08L64.58,151.11L64.7,60.43L65.07,159.26L65.43,81.22L65.55,128.21L65.67,105.75L65.79,154.6L66.16,140.01L66.28,142.59L66.88,157.21L67,96.87L67.49,53.1L67.85,154.16L67.97,103.07L68.34,142.56L68.46,29.98L68.82,157.97L69.19,130.71L69.31,110.19L69.67,159.82L70.15,148.3L70.28,147.21L70.52,124.65L70.76,158.14L71,156.77L71.12,154.51L71.25,156.68L71.37,113.83L71.97,159.4L72.21,157.2L72.34,138.79L72.46,135.27L72.58,159.73L73.18,128.41L73.3,148.12L73.43,151.42L73.55,156.15L73.67,95.19L74.4,156.02L74.52,91.16L75,159.88L75.36,156.3L75.49,159.11L75.85,147.2L75.97,149.67L76.09,159.42L76.21,158.95L76.33,149.73L76.82,159.24L77.18,155.03L77.3,152.7L77.42,159.78L77.55,149.22L77.67,156.31L77.79,89.8L78.27,158.57L78.51,158.37L78.64,131.63L78.88,159.72L79.36,158.9L79.48,148.16L79.61,159.85L80.33,157.43L80.45,138.4L80.82,158.64L81.18,156.77L81.3,103.52L81.79,159.79L82.15,157.32L82.27,153.31L82.39,150.52L82.76,159.24L82.88,150.83L83,154.34L83.12,157.92L83.24,124.78L84.09,159.78L84.21,98.83L84.57,159.33L85.06,155.19L85.18,145.36L85.91,159.61L86.03,159.31L86.15,158.4L86.27,159.14L86.39,150.31L86.51,159.6L87.12,159.44L87.24,157.62L87.48,159.38L87.6,111L87.84,157.32L87.97,159.86L88.21,144.84L88.33,149.45L88.45,158.54L88.57,107.7L88.69,159.62L89.18,152.52L89.3,155.62L89.42,157.06L89.54,120.14L90.27,159.35L90.39,158.33L90.51,120.83L91.36,159.83L91.48,152.9L91.84,159.56L92.21,152.33L92.33,156.83L92.45,119.75L93.05,158.98L93.3,157.16L93.42,135.2L93.54,159.6L94.27,159.03L94.39,124.01L95.24,159.68L95.36,143L95.48,157.81L96.08,153.49L96.21,155.23L96.33,129.93L96.93,157.48L97.05,148L97.17,152.3L97.3,106.51L98.02,159.08L98.14,158.77L98.26,154.08L98.75,158.64L98.87,146.85L98.99,156.59L99.36,142.51L99.48,149.56L99.6,107.36L99.96,158.47L100.45,153.46L100.57,159.04L100.93,147.06L101.42,152.49L101.54,158.06L101.66,158.56L101.78,154.9L101.9,155.56L102.02,152.05L102.14,145.02L102.26,134.83L102.51,159.31L102.87,138.28L102.99,155.65L103.11,124.14L103.72,159.38L103.84,153.59L104.2,157.21L104.69,117.74L104.81,149.14L104.93,159.82L105.29,144.51L105.41,154.75L105.53,144.42L105.66,157.92L106.38,156.53L106.5,142.26L106.99,158.71L107.23,158.45L107.35,113.28L107.96,158.86L108.08,158.47L108.2,113.21L108.32,159.31L108.93,157.63L109.05,149.2L110.02,157.4L110.14,156.27L110.26,81.8L110.87,159.48L110.99,156.31L111.11,116.48L111.59,158.66L111.71,157.89L111.84,159.15L112.2,158.92L112.32,155.32L112.44,103.32L112.56,159.84L113.05,159.29L113.17,156.52L113.29,77.9L113.41,157.05L113.9,156.86L114.02,159.31L114.26,148.31L114.74,155.63L114.86,158.1L114.99,154.54L115.11,159.52L115.47,157.02L115.59,159.55L115.71,134.95L116.32,158.71L116.44,155.22L116.68,154.8L116.8,156.08L116.92,148.85L117.17,157.59L117.29,155.83L117.41,113.32L117.89,157.17L118.14,156.49L118.26,144.49L118.62,159.01L119.11,155.91L119.23,158.56L119.59,158.96L119.95,143.01L120.07,156.92L120.2,159.16L120.32,157.83L120.44,115.08L121.04,157.2L121.29,156.51L121.41,85.49L121.89,159.28L122.26,157.22L122.38,127.62L122.98,159.06L123.22,152.69L123.35,157.6L123.71,159.74L123.83,82.75L124.44,157.75L124.68,156.35L124.8,155.64L125.16,155.94L125.28,149.88L125.41,156.17L125.65,157.49L125.77,155.53L125.89,151.43L126.01,159.34L126.62,156.45L126.74,157.68L126.86,156.4L127.1,159.15L127.22,136.17L127.47,157.53L127.83,155.49L127.95,97.18L128.8,158.1L128.92,144.57L129.53,159.7L129.77,156.85L129.89,153.13L130.01,151.79L130.13,156.53L130.25,153.87L130.37,159.08L131.1,154.37L131.22,117.35L131.59,159.85L132.07,157.83L132.19,133.41L133.04,159.15L133.16,154.39L133.28,154.1L133.4,156.5L133.65,158.76L133.77,145.31L134.01,155.16L134.13,156.42L134.37,158.83L134.49,140.12L135.22,159.46L135.34,155.98L135.46,143.33L136.31,158.81L136.43,155.22L136.67,158.51L137.04,156.34L137.16,153.82L137.52,151.93L137.64,159.1L137.89,157.11L138.01,154.67L138.98,159.51L139.1,158.21L139.7,151.99L139.95,155.29L140.07,156.78L140.19,156.51L140.31,157.01L140.43,154.29L140.67,157.61L141.16,156.94L141.28,156.45L141.4,157.88L141.52,154.44L142.01,157.07L142.13,156.63L142.25,157.7L142.37,154.73L142.85,156.78L142.97,155.7L143.1,151.45L143.46,158.76L143.58,156.06L143.7,156.42L143.94,156.56L144.07,158.54L145.03,153.87L145.16,157.24L145.4,156.11L145.76,156.91L145.88,150.72L146.85,157.08L146.97,155.84L147.22,155.72L147.46,157.56L147.82,156.31L147.94,156.48L148.31,158.74L148.43,156.3L148.55,157.47L148.67,156.01L149.15,158.93L149.28,155.81L149.76,155.31L150,158.6L150.12,155.73L150.61,156.44L150.73,153.42L151.34,156.55L151.58,156.47L151.7,158.47L152.06,155.01L152.55,156.47L152.67,157.92L153.52,153.66L153.64,156.72L154.36,154.02L154.49,156.17L154.61,154.02L154.73,156.83L155.21,156.49L155.33,157.66L155.45,153.33L156.06,156.57L156.18,156.57L156.3,158.03L156.42,156.21L156.79,156.46L156.91,154.08L157.39,156.82L157.76,156.41L157.88,156.07L158.12,155.44L158.48,156.59L158.61,158.5L159.09,154.8L159.45,156.59L159.57,155.46L160.18,156.93L160.42,156.6L160.54,153.44L161.15,157.81L161.39,156.94L161.51,156.53L162,153.94L162.12,156.6L162.24,158.06L162.48,158.93L162.6,154.85L163.09,156.6L163.21,156.22L163.33,156.45L163.45,159.28L164.3,153.17L164.42,158.86L165.15,153.53L165.27,156.08L165.39,157.88L165.75,159.16L165.87,156.4L166,159.7L166.72,154.34L166.84,155.57L166.97,155.83L167.33,156.6L167.45,155.08L167.57,156.45L167.69,148.1L167.81,158.66L168.42,155.97L168.54,156.77L168.66,159.68L169.03,156.01L169.27,158.67L169.39,156.57L169.63,158.16L169.75,156.07L169.87,156.51L169.99,158.26L170.48,158.94L170.84,147.66L170.96,158.38L171.09,155.62L171.81,155.87L171.93,156.7L172.05,156.89L172.18,155.45L172.78,159.3L172.9,153.22L173.51,157.74L173.63,156.54L173.75,152.37L174.11,158.86L174.48,156.5L174.6,152.12L174.72,157.89L175.33,156.45L175.45,155.89L175.57,155.41L175.69,156.43L175.81,155.5L175.93,157.86L176.54,154.06L176.66,156.78L176.78,156.52L177.51,154.28L177.63,157.1L177.75,158.11L177.87,154.7L178.11,156.54L178.23,153.68L178.96,158.16L179.08,156.98L179.2,153.44L179.69,158.82L179.93,155.36L180.05,156.82L180.41,155.52L180.54,157.75L180.66,157.52L180.78,154.16L181.02,159.67L181.63,157.41L181.75,156.56L181.99,155.93L182.11,157.91L182.35,156.18L182.47,155.82L182.6,159.2L182.84,155.63L183.2,157.24L183.32,156.15L183.69,154.21L183.81,157.56L184.17,157.48L184.29,157.29L184.78,155.06L184.9,157.64L185.14,155.69L185.26,157.12L185.62,155.54L185.87,157.8L185.99,157.46L186.35,159.67L186.59,154.35L186.72,158.47L187.08,158.5L187.56,151.78L187.68,159.29L188.17,154.27L188.41,157.83L188.53,158.24L188.78,153.12L189.02,156.7L189.14,157L189.5,157.2L189.74,154.46L189.87,157.61L189.99,158.29L190.35,156.16L190.47,155.83L190.71,159.12L190.83,154.75L191.44,159.54L191.56,157.24L191.68,156.22L191.93,153.95L192.17,158.26L192.53,157.19L192.65,156.13L193.02,159.66L193.26,153.08L193.38,157.77L193.62,156.96L193.99,159.1L194.11,156.37L194.35,153.78L194.83,158.61L194.95,154.67L195.2,158.83L195.56,157.82L195.68,150.23L196.05,158.27L196.53,155.12L196.65,157.48L196.89,155.62L197.26,157.49L197.38,159.23L198.1,155.2L198.23,159.56L198.71,150.9L198.95,154.57L199.07,158.29L199.8,155.81L199.92,157.61L200.04,158.46L200.16,156.4L200.65,157.56L200.77,158.88L201.38,146.98L201.5,158.88L201.62,156.26L202.1,155.08L202.35,159.14L202.47,157.48L202.83,157.84L202.95,158.5L203.31,152.88L203.68,156.03L203.8,158L204.04,157.55L204.16,150.54L205.01,158.08L205.13,156.75L205.25,157.04L205.37,153.26L205.62,154.88L205.74,157.14L205.86,156.72L205.98,157.48L206.1,158.63L206.22,152.98L206.83,156L206.95,156.36L207.43,158.4L207.56,149.74L208.16,159.79L208.4,157.98L208.53,154.73L209.13,153.25L209.37,157.95L209.49,156.79L209.74,156.39L209.86,152.03L210.71,157.19L210.83,156.95L210.95,159.15L211.19,154.89L211.55,156.42L211.68,157.25L211.8,159.28L212.28,155.88L212.4,156.26L212.64,150.12L213.01,157.84L213.13,156.59L213.25,156.31L213.49,155.68L213.61,156.26L213.74,153.17L213.86,158.07L214.46,157.74L214.58,156.65L214.95,156.42L215.07,158L215.19,150.27L215.79,156.26L215.92,152.07L216.64,157.11L216.76,155.55L217.01,155.04L217.13,155.98L217.25,157.24L217.49,156.24L217.73,157.54L217.85,159.76L218.58,150.8L218.7,154.25L218.82,157.82L219.43,154.3L219.55,153.71L220.28,157.3L220.4,156.74L220.52,155.65L220.64,155.83L220.76,157.48L221.01,156.32L221.13,156.73L221.25,158.05L221.61,158.78L221.73,153.39L222.1,156.07L222.22,156.33L222.34,158.81L222.46,151.33L222.94,156.14L223.06,156.08L223.55,153.57L223.67,157.89L223.79,156.44L223.91,156.35L224.03,155.95L224.16,158.3L224.28,158.54L224.4,157.31L224.52,156.31L224.64,156.94L224.88,155.84L225,154.57L225.25,159.07L225.61,158.87L225.73,153.56L226.09,158.72L226.46,155.08L226.58,154.48L226.7,157.96L226.82,153.62L227.31,156.41L227.43,157.26L227.55,154.13L227.91,158.06L228.15,155.66L228.27,159.44L229.12,153.2L229.24,157.84L229.37,157.76L229.49,156.73L229.61,158.47L229.73,154.28L229.97,158.11L230.09,149.92L230.33,158.96L230.7,147.17L230.82,157.72L230.94,155.93L231.06,158.35L231.18,155.03L231.55,156.24L231.67,154.38L232.15,159.07L232.64,158.83L232.76,156.77L233.12,154.3L233.36,157.53L233.49,159.77L234.33,154.43L234.45,157.04L234.7,158.95L235.06,155.56L235.18,156.66L235.54,158.14L235.67,158.86L235.79,158.71L235.91,157.01L236.15,159.15L236.39,155.72L236.51,154.2L237,158.11L237.24,157.21L237.36,156.71L237.48,153.12L238.09,157.25L238.21,157.63L238.33,158.42L238.57,155.89L238.7,156.86L238.82,156.3L239.3,159.89L239.54,157.93L239.66,156.19L240.15,155.9L240.39,158.29L240.51,152.97L240.63,158.14L241.24,157.51L241.36,152.84L241.97,158.67L242.21,157L242.33,155.96L242.81,159.86L243.06,158.38L243.18,155.57L243.54,157.74L243.66,157.28L243.78,151.75L243.91,158.59L244.51,157.27L244.63,152.69L245.24,158.06L245.48,157.29L245.6,157.38L245.72,156.15L245.84,157.66L246.21,157.51L246.33,159.14L246.45,156.03L246.57,159.44L247.06,159.08L247.18,157.28L247.54,158.94L247.66,156.62L248.02,158.94L248.15,157.26L248.27,155.83L248.51,154.96L248.87,158.05L248.99,153.68L249.48,158.28L249.6,157.03\" style=\"vector-effect: none; fill: none; stroke: rgb(0, 204, 150); stroke-opacity: 1; stroke-width: 2px; opacity: 1;\"/></g><g class=\"points\"/><g class=\"text\"/></g></g></g></g><path class=\"xlines-above crisp\" d=\"M0,0\" style=\"fill: none;\"/><path class=\"ylines-above crisp\" d=\"M0,0\" style=\"fill: none;\"/><g class=\"overlines-above\"/><g class=\"xaxislayer-above\"><g class=\"x3tick\"><text text-anchor=\"middle\" x=\"0\" y=\"509\" transform=\"translate(754.86,0)\" style=\"font-family: 'Open Sans', verdana, arial, sans-serif; font-size: 12px; fill: rgb(42, 63, 95); fill-opacity: 1; white-space: pre; opacity: 1;\">500</text></g><g class=\"x3tick\"><text text-anchor=\"middle\" x=\"0\" y=\"509\" style=\"font-family: 'Open Sans', verdana, arial, sans-serif; font-size: 12px; fill: rgb(42, 63, 95); fill-opacity: 1; white-space: pre; opacity: 1;\" transform=\"translate(815.4399999999999,0)\">1000</text></g><g class=\"x3tick\"><text text-anchor=\"middle\" x=\"0\" y=\"509\" style=\"font-family: 'Open Sans', verdana, arial, sans-serif; font-size: 12px; fill: rgb(42, 63, 95); fill-opacity: 1; white-space: pre; opacity: 1;\" transform=\"translate(876.03,0)\">1500</text></g><g class=\"x3tick\"><text text-anchor=\"middle\" x=\"0\" y=\"509\" style=\"font-family: 'Open Sans', verdana, arial, sans-serif; font-size: 12px; fill: rgb(42, 63, 95); fill-opacity: 1; white-space: pre; opacity: 1;\" transform=\"translate(936.61,0)\">2000</text></g></g><g class=\"yaxislayer-above\"><g class=\"y3tick\"><text text-anchor=\"end\" x=\"693.4\" y=\"4.199999999999999\" transform=\"translate(0,487.59)\" style=\"font-family: 'Open Sans', verdana, arial, sans-serif; font-size: 12px; fill: rgb(42, 63, 95); fill-opacity: 1; white-space: pre; opacity: 1;\">0</text></g><g class=\"y3tick\"><text text-anchor=\"end\" x=\"693.4\" y=\"4.199999999999999\" style=\"font-family: 'Open Sans', verdana, arial, sans-serif; font-size: 12px; fill: rgb(42, 63, 95); fill-opacity: 1; white-space: pre; opacity: 1;\" transform=\"translate(0,411.77)\">0.5</text></g><g class=\"y3tick\"><text text-anchor=\"end\" x=\"693.4\" y=\"4.199999999999999\" style=\"font-family: 'Open Sans', verdana, arial, sans-serif; font-size: 12px; fill: rgb(42, 63, 95); fill-opacity: 1; white-space: pre; opacity: 1;\" transform=\"translate(0,335.95)\">1</text></g></g><g class=\"overaxes-above\"/></g><g class=\"subplot x4y4\"><g class=\"layer-subplot\"><g class=\"shapelayer\"/><g class=\"imagelayer\"/></g><g class=\"minor-gridlayer\"><g class=\"x4\"/><g class=\"y4\"/></g><g class=\"gridlayer\"><g class=\"x4\"><path class=\"x4grid crisp\" transform=\"translate(140.46,0)\" d=\"M0,100v168.3\" style=\"stroke: rgb(255, 255, 255); stroke-opacity: 1; stroke-width: 1px;\"/><path class=\"x4grid crisp\" transform=\"translate(201.04000000000002,0)\" d=\"M0,100v168.3\" style=\"stroke: rgb(255, 255, 255); stroke-opacity: 1; stroke-width: 1px;\"/><path class=\"x4grid crisp\" transform=\"translate(261.63,0)\" d=\"M0,100v168.3\" style=\"stroke: rgb(255, 255, 255); stroke-opacity: 1; stroke-width: 1px;\"/><path class=\"x4grid crisp\" transform=\"translate(322.21000000000004,0)\" d=\"M0,100v168.3\" style=\"stroke: rgb(255, 255, 255); stroke-opacity: 1; stroke-width: 1px;\"/></g><g class=\"y4\"><path class=\"y4grid crisp\" transform=\"translate(0,179.45999999999998)\" d=\"M80,0h249.60000000000002\" style=\"stroke: rgb(255, 255, 255); stroke-opacity: 1; stroke-width: 1px;\"/></g></g><g class=\"zerolinelayer\"><path class=\"y4zl zl crisp\" transform=\"translate(0,259.89)\" d=\"M80,0h249.60000000000002\" style=\"stroke: rgb(255, 255, 255); stroke-opacity: 1; stroke-width: 2px;\"/></g><g class=\"layer-between\"><g class=\"shapelayer\"/><g class=\"imagelayer\"/></g><path class=\"xlines-below\"/><path class=\"ylines-below\"/><g class=\"overlines-below\"/><g class=\"xaxislayer-below\"/><g class=\"yaxislayer-below\"/><g class=\"overaxes-below\"/><g class=\"overplot\"><g class=\"x4y4\" transform=\"translate(80,100)\" clip-path=\"url(#clipa35ccfx4y4plot)\"><g class=\"scatterlayer mlayer\"><g class=\"trace scatter trace91a8bd\" style=\"stroke-miterlimit: 2; opacity: 1;\"><g class=\"fills\"/><g class=\"errorbars\"/><g class=\"lines\"><path class=\"js-line\" d=\"M0,118.52L0.12,144.57L0.48,63.48L0.61,20.56L0.73,28.56L0.85,105.94L1.09,121.86L1.45,92.98L1.58,25.07L1.82,108.16L1.94,19.79L2.3,37.82L2.42,8.65L2.54,12.89L2.67,109.12L3.27,39.08L3.51,79.82L3.63,143.28L4,143.55L4.12,52.43L4.36,74.98L4.48,125.73L4.6,132.26L4.73,69.34L5.57,158.5L5.69,76.58L5.82,77.38L5.94,112.5L6.3,142.5L6.66,8.42L6.79,70.67L7.15,9.77L7.27,115.1L7.39,15.06L8.12,28.4L8.24,73.68L8.36,27.26L8.72,115.73L8.97,74.68L9.09,93.8L9.45,154.1L9.57,64.75L9.69,81.29L9.81,78.92L10.18,78.54L10.3,129.72L10.42,102.36L10.54,58.19L10.9,110.38L11.27,80.62L11.39,72.48L12.24,124.34L12.36,104.27L12.6,75.92L12.96,137.94L13.09,99.8L13.21,113.38L13.69,95.1L13.81,104.15L13.93,74.82L14.66,102.21L14.78,50.33L15.39,113.31L15.63,103.87L15.75,57.04L15.99,125.6L16.6,107.78L16.72,114.75L16.84,112.03L16.96,89.56L17.57,114.97L17.81,103.52L17.93,97.72L18.3,95.14L18.78,120L18.9,110.61L19.02,96.9L19.39,112.96L19.51,104.04L19.63,113.14L19.75,108.9L19.87,74.59L20.23,127.72L20.72,127.02L20.84,96.15L20.96,96.49L21.08,107.39L21.45,101.49L21.57,127.72L21.81,83.94L22.17,135.07L22.29,104.64L22.42,126.4L22.54,92.42L22.66,138.72L23.14,120.82L23.26,133.04L23.51,145.93L23.87,114.22L23.99,123.64L24.11,120.17L24.23,116.76L24.35,119.48L24.48,65.74L24.96,134.83L25.2,68.82L25.32,72.77L25.81,144.59L26.05,118.82L26.17,86.33L26.9,141.91L27.02,114.77L27.14,122.09L27.63,127.29L27.75,111.29L27.87,136.08L27.99,136.59L28.11,90.94L28.59,80.59L28.96,144.68L29.08,147.71L29.69,95.18L29.81,125.89L29.93,140.13L30.17,154.18L30.78,97.85L30.9,133.76L31.14,131.84L31.26,150.56L31.38,135.67L31.5,75.77L31.99,58.72L32.11,144.15L32.35,133.74L32.47,107.96L32.71,26.78L33.08,144.5L33.32,132.56L33.44,134.99L33.56,80.3L34.17,135.99L34.29,144.99L34.53,151.82L34.9,117.54L35.02,64.61L35.62,158.14L35.86,127.5L35.99,102.12L36.71,149.42L36.83,143.32L36.96,139.09L37.08,123.07L37.56,144.19L37.68,141.02L37.8,136.68L37.92,158.9L38.29,103.69L38.53,148.53L38.65,139.8L38.89,154.28L39.02,123.8L39.14,106.26L39.62,157.47L39.74,105.61L39.98,138.78L40.11,133.8L40.23,132.12L40.35,137.63L40.47,124.74L40.59,85.27L40.83,154.76L41.07,139.76L41.2,136.95L41.32,128.85L41.56,146.2L41.68,139.08L41.8,148.27L42.04,71.96L42.17,126.95L42.29,129.33L42.41,113.43L42.53,145.81L43.01,121.55L43.13,121.18L43.5,92.2L43.62,142.5L43.98,135.68L44.1,143.31L44.59,152.17L44.95,104.35L45.07,139.48L45.19,134.46L45.32,142.93L45.44,156.05L45.8,73.28L46.04,132.3L46.16,142.36L46.65,106.49L46.89,136.46L47.01,132.75L47.13,118.47L47.25,142.07L47.74,130.67L47.86,121.81L48.47,140.24L48.59,134.47L48.71,136.84L48.83,158.72L49.44,137.71L49.56,139.38L49.68,148.68L50.04,133.5L50.28,140.21L50.4,141.03L50.53,141.29L50.65,121.86L51.37,141.03L51.5,130.67L52.22,147.63L52.34,138.05L52.46,142.81L52.71,141.9L52.83,147.08L52.95,134.71L53.55,152.72L53.68,143.7L53.8,141.21L54.4,140.08L54.52,146.32L54.65,144.52L54.77,139.04L54.89,149.79L55.25,130.08L55.37,140.83L55.49,125.15L55.61,144.55L56.22,137.27L56.34,128.74L57.07,154.68L57.19,141.28L57.31,144.23L57.67,145.92L58.04,125.71L58.16,138.44L58.28,149.98L59.13,117.67L59.25,139.5L59.37,143.7L59.49,125.06L59.73,136.96L59.86,132.13L60.7,156.48L60.82,138.9L61.19,157.95L61.43,142.42L61.55,124.39L61.92,146.84L62.4,140.37L62.52,138.55L62.64,145.82L62.76,139.08L62.88,112.09L63.37,147.29L63.73,143.44L63.85,158.26L64.82,122.46L64.94,139.18L65.07,150.23L65.55,136.28L65.67,141.32L65.79,131.88L65.91,127.98L66.03,142.17L66.16,140.71L66.28,151.21L66.52,154.8L66.76,110.51L67,139.98L67.13,153.54L67.73,122.17L67.97,143.9L68.09,141.01L68.58,157.8L68.7,151.42L68.82,142.95L69.06,135.66L69.55,157.64L69.67,142.95L69.79,145.68L70.15,141.4L70.28,117.17L71,150.12L71.12,110.48L71.61,145.92L71.97,142.93L72.09,145.24L72.21,134.74L72.82,139.95L72.94,143.17L73.18,141.61L73.43,145.98L73.67,142.49L73.79,151.65L74.27,131.38L74.52,144.41L74.64,145.31L75.12,129.56L75.24,142.92L75.36,144.04L75.49,139.5L76.09,143.66L76.21,144.73L76.46,142.12L76.58,154.37L77.3,142.43L77.42,143.06L77.55,134.34L77.91,144.13L78.39,141.88L78.51,142.92L78.76,143.77L78.88,142.4L79,141.54L79.24,137.91L79.36,142.95L79.48,142.58L79.61,143.86L79.97,141.71L80.09,143.04L80.21,147.06L81.06,129.73L81.18,142.98L81.54,142.49L82.03,151.16L82.15,142.97L82.27,145.04L82.76,142.27L82.88,141.82L83,152.11L83.24,141.28L83.6,144.36L83.73,141.64L84.45,144.68L84.57,144.01L84.69,141.95L84.94,135.8L85.18,146.95L85.42,142.34L85.54,143.12L85.66,130.74L86.27,143.37L86.39,142.38L86.75,142.06L87,146.33L87.12,143.76L87.24,142.71L87.36,142.26L87.48,144.58L87.6,143.7L87.72,144.04L87.84,149.43L88.09,141.3L88.21,143.39L88.33,134.33L88.69,146.32L89.18,143.92L89.3,131.82L89.42,149.04L90.03,148.25L90.15,143.57L90.39,141.12L90.75,150.18L90.99,147L91.12,143.88L91.24,147.46L91.36,141.54L91.84,143.3L91.96,136.77L92.21,124.01L92.33,152.98L92.69,142.33L92.81,143.93L92.93,132.09L93.3,155.76L93.42,146.62L93.54,148.92L93.9,156.35L94.02,142.09L94.15,155.82L94.27,136.47L94.87,157.9L94.99,144.09L95.24,142.97L95.6,156.01L95.72,149.89L95.84,144.26L95.96,157.27L96.57,154.36L96.69,155.04L97.17,157.88L97.42,139.54L97.54,142.92L97.66,149.7L97.9,156.41L98.02,132.28L98.39,149.41L98.51,151.57L98.99,157.13L99.11,148.61L99.36,155.93L99.48,155.35L99.6,154.48L99.72,145.3L99.84,131.72L100.32,157.95L100.45,151.64L100.69,126.71L100.81,144.52L100.93,158.32L101.05,125.98L101.54,156.86L101.66,143.35L101.78,119.48L101.9,159.22L102.26,155.6L102.38,151.44L102.51,132.06L102.87,156.23L103.11,152.71L103.23,157.43L103.47,141.66L103.72,144.43L103.84,151.16L104.08,159.6L104.32,141.29L104.69,157.16L104.81,151.18L105.05,157.4L105.17,148.66L105.53,155.13L105.66,150L106.02,159.42L106.26,155.55L106.38,142.46L107.11,155.95L107.23,143.94L107.72,140.28L107.84,159.81L108.08,155.01L108.2,155.64L108.69,157.47L108.93,146.39L109.05,146.74L109.17,155.6L109.41,157.22L109.9,140.86L110.02,156.37L110.62,147.21L110.74,158.43L110.99,147.47L111.11,154.23L111.23,158.64L111.47,149.09L111.59,158.05L111.71,156.49L111.84,142.42L112.08,159.06L112.68,153.59L112.8,147.97L112.93,136.01L113.29,159.33L113.41,153.15L113.53,155.17L113.65,137.26L113.77,159.44L114.26,152.48L114.38,149.87L114.62,139.72L115.23,158.86L115.35,155L115.59,153.58L115.71,158.8L115.95,158.06L116.08,151.7L116.2,150.81L116.32,156.77L116.44,146.21L117.05,156.68L117.17,156.35L117.77,122.47L117.89,159.77L118.26,149.17L118.38,157.46L118.5,159.56L118.62,130.04L119.23,159.57L119.35,154.5L119.47,156.24L119.59,141.79L120.07,157.64L120.2,155.37L120.32,146.47L121.04,159.16L121.17,157.35L121.29,154.05L121.65,157.36L121.77,127.25L122.62,159.02L122.74,140.77L123.47,159.15L123.59,155.44L123.71,143.95L124.19,158.44L124.32,158.25L124.44,143.91L125.04,159.57L125.16,158.03L125.28,159.52L125.41,150.94L125.77,159.8L125.89,149.64L126.25,158.27L126.38,158.99L126.62,159.78L126.74,145.96L126.86,159.07L126.98,159.41L127.1,156.15L127.34,152.54L127.59,158.71L127.71,158.34L127.83,136.41L128.68,159.62L128.8,130.59L129.28,159.36L129.53,136.97L129.65,151.24L129.77,159.86L130.37,159.24L130.49,144.47L130.74,159.51L131.22,158.67L131.34,154.87L131.46,156.94L131.59,142.16L131.71,159.85L132.43,157.69L132.55,156.17L132.92,159.06L133.04,151.24L133.52,159.43L133.89,158.74L134.01,159.04L134.13,159.14L134.37,158.45L134.49,159.65L134.86,148.52L134.98,159.72L135.22,158.18L135.34,159.77L135.46,159.02L135.58,152.15L135.83,141.89L136.07,158.88L136.19,158.23L136.31,144.38L136.8,143.52L137.16,159.42L137.28,144.43L138.13,159.64L138.25,159.75L138.49,157.54L138.73,158.47L138.86,141.7L138.98,159L139.7,157.85L139.82,140.61L140.31,159.43L140.67,158.09L140.79,158.47L141.16,159.69L141.28,156.99L141.52,155.92L141.88,159.77L142.01,159.32L142.13,158.59L142.25,159.37L142.37,152.19L142.73,159.8L143.1,159.28L143.22,151.13L143.46,147.49L143.94,159.19L144.07,159.05L144.19,157.1L144.31,157.93L144.43,151.08L144.79,159.71L145.16,158.92L145.28,153.67L145.52,159.86L145.88,159.29L146,142.2L146.37,159.86L146.85,156.64L146.97,158.72L147.22,159.31L147.34,158.38L147.7,158.6L147.82,158.2L148.43,159.74L148.55,158.91L148.67,158.39L149.03,159.66L149.52,159.33L149.64,159.36L149.88,159.65L150,159L150.12,146.52L150.49,159.59L150.97,158.97L151.09,147.99L151.7,159.4L151.94,159.24L152.06,155.78L152.18,159.79L152.79,159.49L152.91,159.01L153.52,157.23L153.64,158.59L153.76,158.92L153.88,156.98L154.36,159.47L154.49,158.43L154.61,159.07L155.45,146.36L155.58,159.02L155.7,157.11L156.18,159.61L156.3,159.13L156.42,159.72L156.55,155.61L157.15,159.16L157.27,159L157.64,159.72L157.76,158.62L157.88,159.26L158,150.07L158.73,159.06L158.85,158.94L158.97,143.35L159.7,159.45L159.82,158.82L159.94,142.32L160.54,159.38L160.79,158.73L160.91,159.66L161.76,157.4L161.88,158.84L162,158.03L162.48,159.42L162.6,148.64L162.85,159.6L163.45,158.78L163.57,142.63L164.06,159.73L164.42,156.98L164.54,155.15L165.27,159L165.39,154.1L166,159.34L166.12,157.98L166.24,157.63L166.6,159.23L166.72,159.02L166.84,153.28L167.45,159.63L167.69,158.54L167.81,149.27L167.93,159.58L168.66,158.82L168.78,159L168.9,156.98L169.03,159.12L169.51,158.93L169.63,159.54L169.99,159.33L170.24,159.78L170.36,159.38L170.48,157.57L170.96,154.01L171.09,159.77L171.21,156.64L171.93,156.42L172.05,159.88L172.18,156.63L172.42,159.39L173.02,159.09L173.14,159.68L173.63,159.67L173.75,158.81L174.11,156.73L174.36,159.88L174.48,159.85L174.6,159.36L174.72,155.23L175.33,159.86L175.45,159.74L175.57,157.53L176.42,159.84L176.54,158.22L176.78,157.7L177.26,159.62L177.39,158.24L178.11,159.8L178.23,158.77L178.72,158.49L178.84,159.83L179.08,159.52L179.2,159.62L179.32,159.83L179.45,159.45L179.57,157.18L180.17,159.66L180.29,159.48L180.41,157.02L180.9,159.87L181.26,159.45L181.38,158.85L181.51,159.88L181.87,158.18L182.11,159.39L182.23,159.59L182.35,158.31L182.47,159.79L182.96,159.79L183.08,159.5L183.2,157.57L183.57,159.72L183.69,159.47L183.81,159.85L184.17,158.05L184.29,159.02L184.41,159.51L184.53,159.87L185.02,159.1L185.14,159.04L185.26,159.75L185.62,158.74L185.87,159.37L185.99,158.91L186.23,159.88L186.72,159.33L186.84,159.37L187.56,159.87L187.68,159.53L187.81,159.54L187.93,158.45L188.41,159.65L188.53,159.59L188.65,159.32L188.9,159.77L189.26,157.85L189.38,159.53L189.62,158.79L189.87,159.88L190.23,159.28L190.35,159.37L190.59,159.86L190.83,159.13L191.08,159.55L191.2,159.35L191.44,158.83L191.8,159.54L191.93,158.71L192.17,159.51L192.65,159.35L192.77,158.49L193.38,159.73L193.62,159.44L193.74,158.83L194.11,159.71L194.59,159.55L194.71,159.44L194.95,159.35L195.08,159.79L195.2,158.41L196.05,159.59L196.17,158.98L196.89,159.87L197.01,159.8L197.14,159.5L197.38,158.46L197.98,159.83L198.1,159.76L198.23,159.58L198.95,159.7L199.07,159.62L199.68,158.8L199.8,159.45L199.92,159.55L200.04,159.68L200.16,158.12L200.89,159.89L201.01,159.67L201.13,159.84L201.86,159.53L201.98,158.3L202.35,159.54L202.47,157.67L202.83,159.42L202.95,158.86L203.19,159.65L203.31,159.42L203.44,157.23L204.16,159.81L204.28,158.76L205.13,159.88L205.25,159.71L205.5,159.43L205.86,159.76L205.98,159.53L206.1,158.82L206.22,158.73L206.34,159.36L206.47,159.71L207.07,158.7L207.31,159.33L207.43,159.82L207.68,158.53L208.16,159.06L208.28,159.65L209.49,159.67L209.62,159.76L209.86,159.31L210.46,159.71L210.58,159.67L210.71,158.78L211.19,159.85L211.31,159.75L211.43,159.67L212.28,158.87L212.4,159.71L213.13,158.02L213.25,159.75L213.98,158.59L214.1,159.75L214.34,159.05L214.83,159.65L214.95,159.59L215.55,159.13L215.79,159.81L215.92,159.52L216.04,159.75L216.16,159.31L216.28,159.6L216.4,158.1L217.01,159.88L217.13,159.75L217.25,158.45L217.98,159.86L218.1,159.73L218.22,159.71L218.95,159.44L219.07,159.83L219.67,159.19L219.79,159.69L219.91,157.72L220.64,159.84L220.76,159.6L220.88,159.69L221.73,158.79L221.85,159.51L221.97,159.67L222.1,159.11L222.22,159.88L222.7,159.3L222.82,159.79L222.94,158.48L223.67,158.59L223.79,159.72L224.76,159.29L224.88,159.59L225.12,159.88L225.73,158.5L225.85,159.55L226.34,159.87L226.7,159.59L226.82,159.7L226.94,157.05L227.31,159.83L227.55,159.83L227.67,158.65L228.4,159.87L228.52,159.72L228.64,159.65L229.61,159.69L229.73,159.74L230.09,159.72L230.21,158.17L230.82,157.49L230.94,159.79L231.06,159.46L231.3,158.61L231.55,159.78L231.67,159.73L231.79,157.25L232.39,159.65L232.52,159.79L232.76,158.04L233.24,159.66L233.36,159.63L234.33,159.75L234.45,159.77L235.79,158.74L235.91,159.18L236.03,159.77L237.24,159.44L237.36,159.79L238.7,159.42L238.82,159.81L238.94,159.83L240.51,159.06L240.63,159.67L241.97,159.84L242.09,159.85L243.18,159.4L243.3,159.41L244.03,159.58L244.15,159.57L247.06,159.87L247.18,159.3L247.66,159.77L248.02,159.49L248.15,159.13L248.99,159.84L249.12,159.64L249.36,159.86L249.6,159.64\" style=\"vector-effect: none; fill: none; stroke: rgb(171, 99, 250); stroke-opacity: 1; stroke-width: 2px; opacity: 1;\"/></g><g class=\"points\"/><g class=\"text\"/></g></g></g></g><path class=\"xlines-above crisp\" d=\"M0,0\" style=\"fill: none;\"/><path class=\"ylines-above crisp\" d=\"M0,0\" style=\"fill: none;\"/><g class=\"overlines-above\"/><g class=\"xaxislayer-above\"><g class=\"x4tick\"><text text-anchor=\"middle\" x=\"0\" y=\"281.3\" transform=\"translate(140.46,0)\" style=\"font-family: 'Open Sans', verdana, arial, sans-serif; font-size: 12px; fill: rgb(42, 63, 95); fill-opacity: 1; white-space: pre; opacity: 1;\">500</text></g><g class=\"x4tick\"><text text-anchor=\"middle\" x=\"0\" y=\"281.3\" style=\"font-family: 'Open Sans', verdana, arial, sans-serif; font-size: 12px; fill: rgb(42, 63, 95); fill-opacity: 1; white-space: pre; opacity: 1;\" transform=\"translate(201.04000000000002,0)\">1000</text></g><g class=\"x4tick\"><text text-anchor=\"middle\" x=\"0\" y=\"281.3\" style=\"font-family: 'Open Sans', verdana, arial, sans-serif; font-size: 12px; fill: rgb(42, 63, 95); fill-opacity: 1; white-space: pre; opacity: 1;\" transform=\"translate(261.63,0)\">1500</text></g><g class=\"x4tick\"><text text-anchor=\"middle\" x=\"0\" y=\"281.3\" style=\"font-family: 'Open Sans', verdana, arial, sans-serif; font-size: 12px; fill: rgb(42, 63, 95); fill-opacity: 1; white-space: pre; opacity: 1;\" transform=\"translate(322.21000000000004,0)\">2000</text></g></g><g class=\"yaxislayer-above\"><g class=\"y4tick\"><text text-anchor=\"end\" x=\"79\" y=\"4.199999999999999\" transform=\"translate(0,259.89)\" style=\"font-family: 'Open Sans', verdana, arial, sans-serif; font-size: 12px; fill: rgb(42, 63, 95); fill-opacity: 1; white-space: pre; opacity: 1;\">0</text></g><g class=\"y4tick\"><text text-anchor=\"end\" x=\"79\" y=\"4.199999999999999\" style=\"font-family: 'Open Sans', verdana, arial, sans-serif; font-size: 12px; fill: rgb(42, 63, 95); fill-opacity: 1; white-space: pre; opacity: 1;\" transform=\"translate(0,179.45999999999998)\">5k</text></g></g><g class=\"overaxes-above\"/></g><g class=\"subplot x5y5\"><g class=\"layer-subplot\"><g class=\"shapelayer\"/><g class=\"imagelayer\"/></g><g class=\"minor-gridlayer\"><g class=\"x5\"/><g class=\"y5\"/></g><g class=\"gridlayer\"><g class=\"x5\"><path class=\"x5grid crisp\" transform=\"translate(447.65999999999997,0)\" d=\"M0,100v168.3\" style=\"stroke: rgb(255, 255, 255); stroke-opacity: 1; stroke-width: 1px;\"/><path class=\"x5grid crisp\" transform=\"translate(508.24,0)\" d=\"M0,100v168.3\" style=\"stroke: rgb(255, 255, 255); stroke-opacity: 1; stroke-width: 1px;\"/><path class=\"x5grid crisp\" transform=\"translate(568.8299999999999,0)\" d=\"M0,100v168.3\" style=\"stroke: rgb(255, 255, 255); stroke-opacity: 1; stroke-width: 1px;\"/><path class=\"x5grid crisp\" transform=\"translate(629.41,0)\" d=\"M0,100v168.3\" style=\"stroke: rgb(255, 255, 255); stroke-opacity: 1; stroke-width: 1px;\"/></g><g class=\"y5\"><path class=\"y5grid crisp\" transform=\"translate(0,223.09)\" d=\"M387.2,0h249.60000000000002\" style=\"stroke: rgb(255, 255, 255); stroke-opacity: 1; stroke-width: 1px;\"/><path class=\"y5grid crisp\" transform=\"translate(0,186.16)\" d=\"M387.2,0h249.60000000000002\" style=\"stroke: rgb(255, 255, 255); stroke-opacity: 1; stroke-width: 1px;\"/><path class=\"y5grid crisp\" transform=\"translate(0,149.22)\" d=\"M387.2,0h249.60000000000002\" style=\"stroke: rgb(255, 255, 255); stroke-opacity: 1; stroke-width: 1px;\"/><path class=\"y5grid crisp\" transform=\"translate(0,112.28)\" d=\"M387.2,0h249.60000000000002\" style=\"stroke: rgb(255, 255, 255); stroke-opacity: 1; stroke-width: 1px;\"/></g></g><g class=\"zerolinelayer\"><path class=\"y5zl zl crisp\" transform=\"translate(0,260.03)\" d=\"M387.2,0h249.60000000000002\" style=\"stroke: rgb(255, 255, 255); stroke-opacity: 1; stroke-width: 2px;\"/></g><g class=\"layer-between\"><g class=\"shapelayer\"/><g class=\"imagelayer\"/></g><path class=\"xlines-below\"/><path class=\"ylines-below\"/><g class=\"overlines-below\"/><g class=\"xaxislayer-below\"/><g class=\"yaxislayer-below\"/><g class=\"overaxes-below\"/><g class=\"overplot\"><g class=\"x5y5\" transform=\"translate(387.2,100)\" clip-path=\"url(#clipa35ccfx5y5plot)\"><g class=\"scatterlayer mlayer\"><g class=\"trace scatter tracebb8a8f\" style=\"stroke-miterlimit: 2; opacity: 1;\"><g class=\"fills\"/><g class=\"errorbars\"/><g class=\"lines\"><path class=\"js-line\" d=\"M0,76.89L0.12,8.41L0.61,94.52L0.73,114.58L0.85,110.58L0.97,73.38L1.45,33.34L1.58,81.31L1.7,73.25L1.82,93.82L1.94,82.18L2.3,108.97L2.42,85.86L2.54,110.68L2.67,111.83L2.79,81.88L2.91,51.4L3.15,82.21L3.27,68.3L3.39,128.03L3.88,55.13L4,113.04L4.73,71.28L4.85,99.59L4.97,78.21L5.21,120.14L5.57,101.4L5.69,106.18L5.94,123.79L6.06,85.67L6.18,71.02L7.03,123.22L7.15,56.48L7.75,120.66L8,110.37L8.12,114.34L8.48,122.61L8.72,102.16L8.97,106.54L9.09,123.01L9.45,127.01L9.57,112.17L9.69,118.46L9.81,126.36L10.06,129.62L10.54,104.16L10.66,122.48L10.78,43.22L11.27,122.92L11.39,112.37L11.51,98.84L12.24,155.73L12.36,130.24L12.48,127.89L12.96,80.47L13.09,128.87L13.33,87.92L13.45,123.77L13.57,55.62L14.06,125.73L14.18,72.05L14.3,122.88L14.42,120.37L14.66,125.26L14.9,125.2L15.02,127.03L15.15,86.29L15.75,123.73L15.87,123.79L15.99,148.46L16.48,113.82L16.6,124.23L16.72,124.14L16.84,41.93L17.08,126.1L17.45,124.83L17.57,125.82L17.69,79.65L18.17,126.21L18.3,121.1L18.42,127.66L18.54,127.83L18.66,130.08L18.78,126.17L19.27,126.64L19.39,132.27L19.87,119.43L20.11,125.03L20.23,126.67L20.36,78.41L20.96,127.4L21.08,126.93L21.2,68.22L21.81,128.42L21.93,126.9L22.29,123.5L22.42,126.18L22.66,127.21L23.02,122.69L23.14,126.31L23.26,126.2L23.63,125.99L23.75,153.88L23.87,126.17L23.99,125.7L24.11,126.26L24.23,121.07L24.6,157.51L24.72,123.65L24.96,126.45L25.08,126.25L25.2,111.5L25.93,129.34L26.05,126.02L26.17,124.88L26.29,126.25L26.9,125.56L27.02,120.21L27.14,127.79L27.75,126.05L27.87,122.94L28.11,121.59L28.47,145.27L28.59,126.62L28.84,125.06L29.32,125.49L29.44,88.5L29.56,126.84L30.29,123.35L30.41,125.72L30.53,124.77L30.65,125.84L30.78,117.54L31.02,126.3L31.14,102.58L31.62,125.94L31.75,126.32L32.23,121.05L32.59,140.92L32.71,127.29L32.96,125.08L33.32,125.33L33.44,90.38L34.05,128.43L34.29,125.32L34.41,79.81L34.65,126L35.26,125.47L35.38,101.08L35.62,127.32L36.23,126.41L36.35,122.23L36.59,127.1L37.2,126.5L37.32,125.93L37.44,126.14L37.56,125.01L37.68,131.47L38.29,123.16L38.53,124.72L38.65,124.46L39.02,125.83L39.14,123.07L39.74,128.66L39.86,124.66L39.98,123.11L40.35,131.02L40.71,126.24L40.83,123.31L41.07,123.06L41.2,131.51L41.44,124.91L41.56,124.03L41.68,123.85L41.8,124.82L41.92,126.18L42.17,124.79L42.29,128.77L42.41,137.95L43.26,129.64L43.38,131.06L43.5,137.73L43.98,126.29L44.1,129.91L44.23,129.47L44.35,133L44.59,121.5L44.83,131.72L44.95,122.78L45.68,133.46L45.8,124.91L46.04,134.57L46.53,131.51L46.65,130.02L47.01,132.34L47.13,124.67L47.5,137.56L47.74,130.45L47.86,120.89L48.22,133.25L48.71,132.5L48.83,117.85L49.19,132.8L49.56,130.01L49.68,116.64L49.8,130.89L50.53,130.42L50.65,135.96L50.89,125.85L51.37,131.07L51.5,134.2L52.22,120.27L52.34,124.84L52.46,129.2L52.59,130.22L52.71,118.64L53.07,112.79L53.19,136.61L53.43,126.61L53.55,121.57L53.68,116.92L53.92,126.47L54.04,137.17L54.65,119.27L54.77,126.37L54.89,134.44L55.01,136.13L55.13,121.37L55.86,132.51L55.98,114.61L56.95,144.17L57.07,121.13L57.67,120.68L57.8,135.2L57.92,119.1L58.4,116.61L58.77,133.94L58.89,109.22L59.86,139.07L59.98,125.08L60.7,139.27L60.82,132.74L61.43,146.25L61.55,128.29L61.79,141.37L61.92,125.9L62.28,133.62L62.4,133.16L62.52,133.44L62.64,124.52L63.37,144.13L63.49,131.36L63.61,131.52L64.22,155.46L64.46,138.65L64.58,131.88L64.7,147.63L65.19,120.18L65.43,147.23L65.55,131.44L65.67,126.53L66.03,141.67L66.16,141.43L66.52,138.26L66.64,153.26L67.13,134.1L67.37,141.38L67.49,141.54L67.61,142.08L67.73,141.08L67.85,132.9L68.09,123.08L68.22,126.43L68.34,136.75L68.58,112.61L69.19,116.47L69.31,115.17L69.43,155.61L70.03,120.75L70.15,129.75L70.4,135.93L70.52,131.43L70.64,146.32L71,117.33L71.37,128.01L71.49,143.85L72.34,127.16L72.46,153.47L73.18,123.89L73.3,152.86L73.67,124.45L74.15,134.68L74.27,135.56L74.4,133.58L74.52,137.91L74.64,151.96L75,114.26L75.36,148.92L75.49,148.44L75.85,114.25L76.21,147.6L76.33,134.32L76.46,149.6L76.82,114.84L76.94,127.23L77.06,128.04L77.18,155.65L77.79,132.28L77.91,128.9L78.03,126.79L78.15,133.59L78.27,141.03L78.39,98.98L78.64,151.97L79,125.95L79.12,137.27L79.61,126.71L79.85,132.03L79.97,136.61L80.09,152.75L80.45,112.05L80.57,130.1L80.7,126.23L81.3,151.61L81.42,131.01L81.54,129.62L82.27,159.88L82.39,131.17L82.88,127.33L83,144.7L83.12,134.98L83.24,107.14L83.48,152.05L84.09,142.17L84.21,102.67L84.82,144.77L85.06,140.8L85.18,126.87L85.3,128.25L85.42,145.65L86.03,131.78L86.15,145.92L86.63,137.93L86.75,150.25L87,140.4L87.12,138.48L87.36,134.16L87.48,142.37L87.6,106.01L87.84,149.34L88.45,139.23L88.57,145.05L88.69,121.4L89.3,140.17L89.42,138.19L89.54,149.45L89.66,125.67L90.15,140.24L90.27,142.18L90.51,128.94L90.63,146.49L90.75,145.92L90.87,141L91.48,123.62L91.6,146.72L92.57,124.64L92.69,136.69L92.81,144.84L93.42,143.2L93.54,126.16L93.78,144.24L94.27,139.81L94.39,128.44L94.51,157.41L95.11,140.23L95.24,142.39L95.36,133.93L95.72,146.95L95.96,142.5L96.08,140.91L96.33,141.48L96.45,129.02L96.57,137.1L96.69,154.47L97.42,124.12L97.54,138.79L97.66,139.26L98.26,145.99L98.39,127.75L98.51,139.69L98.63,133.88L98.99,143.22L99.11,138.62L99.23,144.19L99.48,138.27L99.6,140.64L99.72,152.35L100.32,138.93L100.57,139.52L100.69,140.77L100.81,140.88L100.93,143.2L101.17,141.76L101.29,135.13L101.54,145.26L102.14,144.6L102.26,139.93L102.51,123.11L102.63,145.59L103.23,122.68L103.35,139.79L103.47,139.49L103.6,141.29L103.84,139L103.96,144.41L104.08,153.32L104.2,138.45L104.81,152.49L104.93,144.06L105.17,144.71L105.66,125.02L105.78,143.63L106.5,138.3L106.63,143.18L106.75,144.06L106.87,139.53L107.11,141.6L107.23,141.59L107.35,141.36L107.47,154.81L108.08,139.91L108.32,141.03L108.44,141.27L108.56,138.29L108.93,141.95L109.05,140.24L109.17,142.08L109.29,139.42L109.65,143.35L109.78,139.64L109.9,143.81L110.14,139.92L110.26,140.28L110.38,152.96L110.74,140.12L111.11,141.27L111.23,155.53L111.59,141.8L112.08,142.29L112.2,142.95L112.44,141.13L112.8,144.58L112.93,142.83L113.05,141.73L113.17,139.78L113.29,141.68L113.41,116.71L113.65,142.68L114.26,142.07L114.38,138.63L114.99,150.39L115.11,142.34L115.23,137.15L115.83,150.59L115.95,141.64L116.08,140.68L116.44,136.01L116.92,142.84L117.05,142.6L117.53,132.32L117.77,141.95L117.89,142.55L118.26,140.83L118.38,150.66L118.5,142.89L118.62,141.79L118.74,141.59L118.86,146.99L119.11,147.79L119.71,133.91L119.83,139.48L119.95,143.09L120.2,137.43L120.44,141.81L120.56,125.3L120.68,144.13L121.41,143.07L121.53,133.39L121.65,144.14L122.26,140.38L122.38,142L122.62,140.73L123.22,152.88L123.35,139.23L123.47,138.62L123.59,143.61L123.83,139.95L123.95,119.59L124.07,142.41L124.56,140.75L124.68,111.71L125.41,145.63L125.53,141.76L125.65,147.98L126.13,141.52L126.38,145.5L126.5,155.94L127.34,112.67L127.47,140.77L127.71,141.8L127.83,132.74L127.95,141.02L128.07,107.8L128.19,143.34L128.92,141.34L129.04,143.68L129.28,143.74L129.53,140.74L129.65,155.05L130.25,138.9L130.49,143.29L130.62,139.5L130.74,139.24L130.86,141.08L130.98,141.79L131.1,139.35L131.22,140.54L131.34,124.94L131.95,142.1L132.19,140.54L132.31,131.71L132.68,143.79L133.04,141.87L133.16,139.15L133.89,155.01L134.01,135.91L134.49,141.52L134.61,110.1L135.22,142.55L135.46,141.72L135.58,126.22L135.7,146.27L136.31,140.07L136.43,141.3L136.55,154.28L136.67,137.7L137.16,139.76L137.28,143.65L137.4,144.02L137.52,137.25L137.64,141.84L137.89,141.14L138.01,125.54L138.13,147.51L138.73,141.33L138.86,114.8L138.98,141.75L139.7,135.83L139.82,140.29L139.95,141.67L140.43,141.17L140.55,151.06L141.52,136.63L141.64,143.42L142.37,134.96L142.49,136.36L142.61,141.44L142.97,140.86L143.1,141.18L143.22,144.56L143.34,137.16L143.94,141.04L144.07,141.17L144.19,136.21L144.31,143.62L144.79,140.73L144.91,141.23L145.03,140.98L145.16,143.86L145.4,139.44L145.88,141.19L146,145.08L146.13,139.84L146.73,141L146.85,141.33L147.22,142.26L147.34,140.6L147.58,142.73L147.7,140.96L147.82,138.53L148.67,143.01L148.79,140.89L148.91,140.01L149.03,141.73L149.4,141.31L149.52,145.84L150.49,135.73L150.61,141.41L150.73,142.32L150.85,138.88L150.97,140.97L151.09,136.94L151.46,136.76L151.7,141.83L151.94,140.99L152.06,139.83L152.43,149.56L152.55,141.27L152.67,140.84L153.27,152.83L153.39,141.85L153.52,142.29L153.64,142.69L153.76,141.86L153.88,140.66L154.12,148.61L154.24,141.53L154.36,142.28L154.49,138.52L154.61,141.39L154.73,136.75L154.97,136.16L155.21,141.51L155.58,141.18L155.7,140.8L155.82,135.48L156.18,144.52L156.42,141.71L156.55,142.42L156.67,148.92L157.03,138.7L157.27,141.56L157.39,141.74L157.64,142.12L157.76,141.39L157.88,140.97L158.36,132.9L158.48,141.87L158.61,141.69L158.85,139.81L159.33,153.07L159.45,141.86L159.82,142.91L159.94,150.3L160.3,135.41L160.66,139.04L160.79,145.89L161.15,126.12L161.39,142.25L161.51,140.4L161.76,140.92L161.88,140.3L162,148.12L162.6,137.38L162.85,141.47L162.97,157.53L163.57,140.93L163.82,142.56L163.94,142.21L164.06,142.45L164.18,141.62L164.3,139.8L164.42,145.47L164.54,142.13L164.66,96.81L165.51,142.51L165.63,142.21L165.87,141.44L166.24,141.72L166.36,142.19L166.48,142.34L166.6,142.19L166.72,143.68L167.21,132.5L167.45,142.45L167.57,142.56L168.18,115.31L168.3,142.19L168.42,142.29L168.54,141.44L168.66,135.16L169.03,133.53L169.15,142.2L169.51,142.19L169.63,141.99L169.75,153.7L170.12,141.31L170.36,142.28L170.48,141.23L170.6,151.3L171.21,140.77L171.33,129.12L171.57,142.41L171.81,128.32L172.18,141.06L172.3,126.56L173.14,142.24L173.27,135.67L173.75,152.5L174.24,150.69L174.36,142.14L174.6,158.79L174.84,140.17L175.08,142.19L175.2,142.24L175.33,141.91L175.45,148.33L175.57,136.51L176.17,142.32L176.3,141.8L176.42,107.13L177.02,142.2L177.14,142.19L177.26,142.51L177.39,140.79L177.51,138.54L177.87,138.26L178.23,153.87L178.35,140.22L178.72,150.97L178.84,142.19L178.96,141.97L179.08,141.54L179.2,151.23L179.57,137.14L180.05,141.77L180.17,142.48L180.29,142.2L180.41,135.75L180.9,142.33L181.02,133.76L181.26,142.2L181.38,140.63L181.99,139.05L182.35,146.13L182.47,142.19L182.6,142.43L182.72,141.52L182.84,146.67L182.96,141.06L183.57,141.95L183.69,143.29L184.17,140.37L184.41,141.68L184.53,142.32L184.66,125.4L185.14,142.33L185.26,142.21L185.38,142.58L185.5,142.45L185.62,149.5L185.75,138.95L186.47,141.21L186.59,157.89L187.56,127.88L187.68,144.99L187.93,146.13L188.17,141.26L188.53,142.07L188.65,143.17L188.9,142.22L189.26,147.88L189.38,142.16L189.5,142.25L189.62,143.42L189.74,138.84L190.11,141.7L190.23,154.96L191.08,139.26L191.2,143.42L191.32,142.2L191.44,149.21L191.93,131.54L192.17,142.12L192.29,145.46L192.53,140.44L192.77,159.54L192.89,143.48L193.02,142.14L193.26,136.76L193.74,150.95L193.86,139.63L194.11,142.42L194.23,121.99L195.2,159.31L195.32,141.42L195.56,144.17L195.68,129.68L195.8,145.98L196.05,135.27L196.29,147.08L196.41,139.38L196.53,147.14L196.89,148.91L197.14,137.26L197.26,146.01L197.38,142.63L197.5,143.8L197.74,138.89L197.86,138.4L198.1,130.41L198.23,138.63L198.35,138.15L198.47,139.8L198.71,125.29L198.83,140.55L199.07,135.88L199.2,144.29L199.44,136.25L199.56,150.86L199.92,139.33L200.04,141.07L200.41,136.83L200.53,152.08L200.65,141.05L200.77,138.36L200.89,142.89L201.01,132.86L201.26,140.74L201.38,115.16L201.5,142.92L202.22,140.42L202.35,136.92L202.83,146.29L203.07,137.18L203.19,140.87L203.31,137.63L203.44,156.39L204.28,123.39L204.41,143.31L204.53,145.85L204.65,114.47L204.77,142.88L205.37,111.26L205.5,137.39L205.74,148.38L205.98,131.96L206.1,130.01L206.71,157.19L206.83,141.73L206.95,136.1L207.07,138.04L207.19,154.73L207.68,131.93L207.92,142.59L208.04,149.93L208.65,112.95L208.77,142.18L208.89,141.49L209.25,142.23L209.49,112.07L209.62,141.08L209.74,140.37L209.98,147.12L210.46,141.09L210.58,140.16L210.71,135.14L210.83,154.28L211.19,140.82L211.31,157.21L211.8,123.78L212.16,140.88L212.28,144.11L212.4,140.91L212.52,142.29L212.64,110.23L213.49,158.49L213.61,131.25L214.34,129.83L214.46,147.05L214.58,138.88L215.07,143.86L215.19,66.05L215.31,148.62L215.92,105.31L216.04,132.14L216.76,152.83L216.89,125.3L217.73,159.89L217.85,149.92L218.58,100.12L218.7,158.04L219.43,103.41L219.55,130.73L219.67,141.22L219.91,138.76L220.04,140.89L220.16,153.2L220.4,124.73L220.76,144.15L220.88,140.72L221.01,141.28L221.13,158.36L221.61,111.52L221.97,141.02L222.1,136.64L222.22,141.21L222.46,126.4L222.58,125.08L223.19,157.25L223.43,142.18L223.55,141.03L224.28,154.21L224.4,142.27L224.52,141.1L224.64,148.25L225,131.25L225.49,141.47L225.61,143.72L225.73,134.16L226.34,142.16L226.46,143.8L226.58,120.61L227.18,141.51L227.31,140.21L227.67,145.08L227.91,140.96L228.03,138.52L228.15,135.51L228.27,157.33L229.12,127.63L229.24,129.64L229.37,141.73L229.49,141.58L229.61,142.83L229.85,134.28L230.09,144.72L230.21,141.19L230.33,145.1L230.46,150.3L230.58,142.32L230.94,144.56L231.06,140.69L231.43,156.44L231.55,142.12L231.67,141.62L231.79,145.52L232.03,140.64L232.15,145.01L232.27,125.3L232.52,142.29L233,142.22L233.12,129.39L233.24,128.23L233.36,142.4L233.73,140.81L233.97,143.56L234.09,134.4L234.33,144.39L234.82,141.95L234.94,134.21L235.06,147.51L235.67,141.48L235.79,129.83L235.91,148.79L236.51,143.32L236.64,143.59L236.76,138.38L237.36,138.64L237.48,143.54L237.6,143.8L237.73,139.14L237.97,146.06L238.21,138.88L238.45,143.14L238.57,135.51L239.18,147.27L239.42,142.67L239.54,125.9L240.15,148.72L240.39,142.51L240.51,134.68L240.75,134.56L241.24,144.95L241.36,137.95L241.72,149.47L241.97,135.58L242.21,146.28L242.33,140.66L243.06,144.37L243.18,131.53L243.78,149.28L244.03,141.14L244.15,139.36L244.39,130.97L244.51,142.94L244.87,141.63L245,137.34L245.36,159.13L245.6,131.4L245.72,142.53L245.84,143.72L246.33,137.58L246.45,143.29L246.57,145.47L247.06,127.89L247.18,141.99L247.3,151.02L248.02,128.11L248.15,142.85L248.27,155.59L248.39,140.43L248.99,151.47L249.12,143.28L249.24,143.15L249.36,141.81L249.48,147.68L249.6,138.96\" style=\"vector-effect: none; fill: none; stroke: rgb(255, 161, 90); stroke-opacity: 1; stroke-width: 2px; opacity: 1;\"/></g><g class=\"points\"/><g class=\"text\"/></g></g></g></g><path class=\"xlines-above crisp\" d=\"M0,0\" style=\"fill: none;\"/><path class=\"ylines-above crisp\" d=\"M0,0\" style=\"fill: none;\"/><g class=\"overlines-above\"/><g class=\"xaxislayer-above\"><g class=\"x5tick\"><text text-anchor=\"middle\" x=\"0\" y=\"281.3\" transform=\"translate(447.65999999999997,0)\" style=\"font-family: 'Open Sans', verdana, arial, sans-serif; font-size: 12px; fill: rgb(42, 63, 95); fill-opacity: 1; white-space: pre; opacity: 1;\">500</text></g><g class=\"x5tick\"><text text-anchor=\"middle\" x=\"0\" y=\"281.3\" style=\"font-family: 'Open Sans', verdana, arial, sans-serif; font-size: 12px; fill: rgb(42, 63, 95); fill-opacity: 1; white-space: pre; opacity: 1;\" transform=\"translate(508.24,0)\">1000</text></g><g class=\"x5tick\"><text text-anchor=\"middle\" x=\"0\" y=\"281.3\" style=\"font-family: 'Open Sans', verdana, arial, sans-serif; font-size: 12px; fill: rgb(42, 63, 95); fill-opacity: 1; white-space: pre; opacity: 1;\" transform=\"translate(568.8299999999999,0)\">1500</text></g><g class=\"x5tick\"><text text-anchor=\"middle\" x=\"0\" y=\"281.3\" style=\"font-family: 'Open Sans', verdana, arial, sans-serif; font-size: 12px; fill: rgb(42, 63, 95); fill-opacity: 1; white-space: pre; opacity: 1;\" transform=\"translate(629.41,0)\">2000</text></g></g><g class=\"yaxislayer-above\"><g class=\"y5tick\"><text text-anchor=\"end\" x=\"386.2\" y=\"4.199999999999999\" transform=\"translate(0,260.03)\" style=\"font-family: 'Open Sans', verdana, arial, sans-serif; font-size: 12px; fill: rgb(42, 63, 95); fill-opacity: 1; white-space: pre; opacity: 1;\">0</text></g><g class=\"y5tick\"><text text-anchor=\"end\" x=\"386.2\" y=\"4.199999999999999\" style=\"font-family: 'Open Sans', verdana, arial, sans-serif; font-size: 12px; fill: rgb(42, 63, 95); fill-opacity: 1; white-space: pre; opacity: 1;\" transform=\"translate(0,223.09)\">2000</text></g><g class=\"y5tick\"><text text-anchor=\"end\" x=\"386.2\" y=\"4.199999999999999\" style=\"font-family: 'Open Sans', verdana, arial, sans-serif; font-size: 12px; fill: rgb(42, 63, 95); fill-opacity: 1; white-space: pre; opacity: 1;\" transform=\"translate(0,186.16)\">4000</text></g><g class=\"y5tick\"><text text-anchor=\"end\" x=\"386.2\" y=\"4.199999999999999\" style=\"font-family: 'Open Sans', verdana, arial, sans-serif; font-size: 12px; fill: rgb(42, 63, 95); fill-opacity: 1; white-space: pre; opacity: 1;\" transform=\"translate(0,149.22)\">6000</text></g><g class=\"y5tick\"><text text-anchor=\"end\" x=\"386.2\" y=\"4.199999999999999\" style=\"font-family: 'Open Sans', verdana, arial, sans-serif; font-size: 12px; fill: rgb(42, 63, 95); fill-opacity: 1; white-space: pre; opacity: 1;\" transform=\"translate(0,112.28)\">8000</text></g></g><g class=\"overaxes-above\"/></g></g><g class=\"polarlayer\"/><g class=\"smithlayer\"/><g class=\"ternarylayer\"/><g class=\"geolayer\"/><g class=\"funnelarealayer\"/><g class=\"pielayer\"/><g class=\"iciclelayer\"/><g class=\"treemaplayer\"/><g class=\"sunburstlayer\"/><g class=\"glimages\"/><defs id=\"topdefs-a35ccf\"><g class=\"clips\"/><clipPath id=\"legenda35ccf\"><rect width=\"471\" height=\"29\" x=\"0\" y=\"0\"/></clipPath></defs><g class=\"layer-above\"><g class=\"imagelayer\"/><g class=\"shapelayer\"/></g><g class=\"infolayer\"><g class=\"legend\" pointer-events=\"all\" transform=\"translate(473,63.08)\"><rect class=\"bg\" shape-rendering=\"crispEdges\" width=\"471\" height=\"29\" x=\"0\" y=\"0\" style=\"stroke: rgb(68, 68, 68); stroke-opacity: 1; fill: rgb(255, 255, 255); fill-opacity: 1; stroke-width: 0px;\"/><g class=\"scrollbox\" transform=\"\" clip-path=\"url(#legenda35ccf)\"><g class=\"groups\"><g class=\"traces\" transform=\"translate(0,14.5)\" style=\"opacity: 1;\"><text class=\"legendtext\" text-anchor=\"start\" x=\"40\" y=\"4.680000000000001\" style=\"font-family: 'Open Sans', verdana, arial, sans-serif; font-size: 12px; fill: rgb(42, 63, 95); fill-opacity: 1; white-space: pre;\">R0 [Ohm]</text><g class=\"layers\" style=\"opacity: 1;\"><g class=\"legendfill\"/><g class=\"legendlines\"><path class=\"js-line\" d=\"M5,0h30\" style=\"fill: none; stroke: rgb(99, 110, 250); stroke-opacity: 1; stroke-width: 2px;\"/></g><g class=\"legendsymbols\"><g class=\"legendpoints\"/></g></g><rect class=\"legendtoggle\" x=\"0\" y=\"-9.5\" width=\"100.390625\" height=\"19\" style=\"fill: rgb(0, 0, 0); fill-opacity: 0;\"/></g><g class=\"traces\" transform=\"translate(102.890625,14.5)\" style=\"opacity: 1;\"><text class=\"legendtext\" text-anchor=\"start\" x=\"40\" y=\"4.680000000000001\" style=\"font-family: 'Open Sans', verdana, arial, sans-serif; font-size: 12px; fill: rgb(42, 63, 95); fill-opacity: 1; white-space: pre;\">R1 [Ohm]</text><g class=\"layers\" style=\"opacity: 1;\"><g class=\"legendfill\"/><g class=\"legendlines\"><path class=\"js-line\" d=\"M5,0h30\" style=\"fill: none; stroke: rgb(239, 85, 59); stroke-opacity: 1; stroke-width: 2px;\"/></g><g class=\"legendsymbols\"><g class=\"legendpoints\"/></g></g><rect class=\"legendtoggle\" x=\"0\" y=\"-9.5\" width=\"100.390625\" height=\"19\" style=\"fill: rgb(0, 0, 0); fill-opacity: 0;\"/></g><g class=\"traces\" transform=\"translate(205.78125,14.5)\" style=\"opacity: 1;\"><text class=\"legendtext\" text-anchor=\"start\" x=\"40\" y=\"4.680000000000001\" style=\"font-family: 'Open Sans', verdana, arial, sans-serif; font-size: 12px; fill: rgb(42, 63, 95); fill-opacity: 1; white-space: pre;\">R2 [Ohm]</text><g class=\"layers\" style=\"opacity: 1;\"><g class=\"legendfill\"/><g class=\"legendlines\"><path class=\"js-line\" d=\"M5,0h30\" style=\"fill: none; stroke: rgb(0, 204, 150); stroke-opacity: 1; stroke-width: 2px;\"/></g><g class=\"legendsymbols\"><g class=\"legendpoints\"/></g></g><rect class=\"legendtoggle\" x=\"0\" y=\"-9.5\" width=\"100.390625\" height=\"19\" style=\"fill: rgb(0, 0, 0); fill-opacity: 0;\"/></g><g class=\"traces\" transform=\"translate(308.671875,14.5)\" style=\"opacity: 1;\"><text class=\"legendtext\" text-anchor=\"start\" x=\"40\" y=\"4.680000000000001\" style=\"font-family: 'Open Sans', verdana, arial, sans-serif; font-size: 12px; fill: rgb(42, 63, 95); fill-opacity: 1; white-space: pre;\">C1 [F]</text><g class=\"layers\" style=\"opacity: 1;\"><g class=\"legendfill\"/><g class=\"legendlines\"><path class=\"js-line\" d=\"M5,0h30\" style=\"fill: none; stroke: rgb(171, 99, 250); stroke-opacity: 1; stroke-width: 2px;\"/></g><g class=\"legendsymbols\"><g class=\"legendpoints\"/></g></g><rect class=\"legendtoggle\" x=\"0\" y=\"-9.5\" width=\"78.59375\" height=\"19\" style=\"fill: rgb(0, 0, 0); fill-opacity: 0;\"/></g><g class=\"traces\" transform=\"translate(389.765625,14.5)\" style=\"opacity: 1;\"><text class=\"legendtext\" text-anchor=\"start\" x=\"40\" y=\"4.680000000000001\" style=\"font-family: 'Open Sans', verdana, arial, sans-serif; font-size: 12px; fill: rgb(42, 63, 95); fill-opacity: 1; white-space: pre;\">C2 [F]</text><g class=\"layers\" style=\"opacity: 1;\"><g class=\"legendfill\"/><g class=\"legendlines\"><path class=\"js-line\" d=\"M5,0h30\" style=\"fill: none; stroke: rgb(255, 161, 90); stroke-opacity: 1; stroke-width: 2px;\"/></g><g class=\"legendsymbols\"><g class=\"legendpoints\"/></g></g><rect class=\"legendtoggle\" x=\"0\" y=\"-9.5\" width=\"78.59375\" height=\"19\" style=\"fill: rgb(0, 0, 0); fill-opacity: 0;\"/></g></g></g><rect class=\"scrollbar\" rx=\"20\" ry=\"3\" width=\"0\" height=\"0\" x=\"0\" y=\"0\" style=\"fill: rgb(128, 139, 164); fill-opacity: 1;\"/></g><g class=\"g-gtitle\"><text class=\"gtitle\" x=\"51.2\" y=\"50\" text-anchor=\"start\" dy=\"0em\" style=\"opacity: 1; font-family: 'Open Sans', verdana, arial, sans-serif; font-size: 17px; fill: rgb(42, 63, 95); fill-opacity: 1; white-space: pre;\">Parameter Convergence</text></g><g class=\"g-xtitle\"><text class=\"xtitle\" x=\"204.8\" y=\"536.3\" text-anchor=\"middle\" style=\"opacity: 1; font-family: 'Open Sans', verdana, arial, sans-serif; font-size: 14px; fill: rgb(42, 63, 95); fill-opacity: 1; white-space: pre;\">Function Call</text></g><g class=\"g-x2title\"><text class=\"x2title\" x=\"512\" y=\"536.3\" text-anchor=\"middle\" style=\"opacity: 1; font-family: 'Open Sans', verdana, arial, sans-serif; font-size: 14px; fill: rgb(42, 63, 95); fill-opacity: 1; white-space: pre;\">Function Call</text></g><g class=\"g-x3title\"><text class=\"x3title\" x=\"819.1999999999999\" y=\"536.3\" text-anchor=\"middle\" style=\"opacity: 1; font-family: 'Open Sans', verdana, arial, sans-serif; font-size: 14px; fill: rgb(42, 63, 95); fill-opacity: 1; white-space: pre;\">Function Call</text></g><g class=\"g-x4title\"><text class=\"x4title\" x=\"204.8\" y=\"308.6125\" text-anchor=\"middle\" style=\"opacity: 1; font-family: 'Open Sans', verdana, arial, sans-serif; font-size: 14px; fill: rgb(42, 63, 95); fill-opacity: 1; white-space: pre;\">Function Call</text></g><g class=\"g-x5title\"><text class=\"x5title\" x=\"512\" y=\"308.6125\" text-anchor=\"middle\" style=\"opacity: 1; font-family: 'Open Sans', verdana, arial, sans-serif; font-size: 14px; fill: rgb(42, 63, 95); fill-opacity: 1; white-space: pre;\">Function Call</text></g><g class=\"g-ytitle\"><text class=\"ytitle\" transform=\"rotate(-90,32.88125,411.84999999999997)\" x=\"32.88125\" y=\"411.84999999999997\" text-anchor=\"middle\" style=\"opacity: 1; font-family: 'Open Sans', verdana, arial, sans-serif; font-size: 14px; fill: rgb(42, 63, 95); fill-opacity: 1; white-space: pre;\">R0 [Ohm]</text></g><g class=\"g-y2title\"><text class=\"y2title\" transform=\"rotate(-90,347.709375,411.84999999999997)\" x=\"347.709375\" y=\"411.84999999999997\" text-anchor=\"middle\" style=\"opacity: 1; font-family: 'Open Sans', verdana, arial, sans-serif; font-size: 14px; fill: rgb(42, 63, 95); fill-opacity: 1; white-space: pre;\">R1 [Ohm]</text></g><g class=\"g-y3title\"><text class=\"y3title\" transform=\"rotate(-90,654.9125,411.84999999999997)\" x=\"654.9125\" y=\"411.84999999999997\" text-anchor=\"middle\" style=\"opacity: 1; font-family: 'Open Sans', verdana, arial, sans-serif; font-size: 14px; fill: rgb(42, 63, 95); fill-opacity: 1; white-space: pre;\">R2 [Ohm]</text></g><g class=\"g-y4title\"><text class=\"y4title\" transform=\"rotate(-90,45.00625,184.15)\" x=\"45.00625\" y=\"184.15\" text-anchor=\"middle\" style=\"opacity: 1; font-family: 'Open Sans', verdana, arial, sans-serif; font-size: 14px; fill: rgb(42, 63, 95); fill-opacity: 1; white-space: pre;\">C1 [F]</text></g><g class=\"g-y5title\"><text class=\"y5title\" transform=\"rotate(-90,336.25625,184.15)\" x=\"336.25625\" y=\"184.15\" text-anchor=\"middle\" style=\"opacity: 1; font-family: 'Open Sans', verdana, arial, sans-serif; font-size: 14px; fill: rgb(42, 63, 95); fill-opacity: 1; white-space: pre;\">C2 [F]</text></g></g></svg>"
      ]
     },
     "metadata": {},
     "output_type": "display_data"
    }
   ],
   "source": [
    "pybop.plot_convergence(optim)\n",
    "pybop.plot_parameters(optim);"
   ]
  },
  {
   "cell_type": "markdown",
   "id": "30",
   "metadata": {},
   "source": [
    "## Validating the Fit\n",
    "\n",
    "We've identified parameters from a single discharge pulse. Now, let's ask ourselves how well these parameters extrapolate to other operational conditions. To accomplish this, let's load a new pulse dataset at 80% SOC and compare it to our identified forward model."
   ]
  },
  {
   "cell_type": "code",
   "execution_count": null,
   "id": "31",
   "metadata": {},
   "outputs": [],
   "source": [
    "df_pulse_two = pd.DataFrame(\n",
    "    pulse_data[\"LGM50_5Ah_Pulse\"][\"T0\"][\"SoC8\"][\"Cell19\"][\"data\"]\n",
    ")\n",
    "df_pulse_two[\"ProgTime\"] = df_pulse_two[\"ProgTime\"] - df_pulse_two[\"ProgTime\"].min()\n",
    "df_pulse_two.drop_duplicates(subset=[\"ProgTime\"], inplace=True)"
   ]
  },
  {
   "cell_type": "markdown",
   "id": "32",
   "metadata": {},
   "source": [
    "Next, we construct a new `pybop.Dataset` from the second pulse data,"
   ]
  },
  {
   "cell_type": "code",
   "execution_count": null,
   "id": "33",
   "metadata": {},
   "outputs": [],
   "source": [
    "dataset_two_pulse = pybop.Dataset(\n",
    "    {\n",
    "        \"Time [s]\": df_pulse_two[\"ProgTime\"].values,\n",
    "        \"Current function [A]\": -df_pulse_two[\"Current\"].values,\n",
    "        \"Voltage [V]\": df_pulse_two[\"Voltage\"].values,\n",
    "    }\n",
    ")"
   ]
  },
  {
   "cell_type": "markdown",
   "id": "34",
   "metadata": {},
   "source": [
    "Now that we have a new dataset, we update the target within the problem class as well as the `Initial SoC` value. Once that has been completed, we rebuild the model."
   ]
  },
  {
   "cell_type": "code",
   "execution_count": null,
   "id": "35",
   "metadata": {},
   "outputs": [],
   "source": [
    "problem.set_target(dataset_two_pulse)\n",
    "model.parameter_set[\"Initial SoC\"] = 0.8 - 0.0075\n",
    "model.rebuild(dataset_two_pulse)"
   ]
  },
  {
   "cell_type": "markdown",
   "id": "36",
   "metadata": {},
   "source": [
    "Let's plot the parameterised forward model against the new pulse data:"
   ]
  },
  {
   "cell_type": "code",
   "execution_count": null,
   "id": "37",
   "metadata": {},
   "outputs": [
    {
     "data": {
      "image/svg+xml": [
       "<svg class=\"main-svg\" xmlns=\"http://www.w3.org/2000/svg\" xmlns:xlink=\"http://www.w3.org/1999/xlink\" width=\"700\" height=\"500\" style=\"\" viewBox=\"0 0 700 500\"><rect x=\"0\" y=\"0\" width=\"700\" height=\"500\" style=\"fill: rgb(255, 255, 255); fill-opacity: 1;\"/><defs id=\"defs-2ea3e5\"><g class=\"clips\"><clipPath id=\"clip2ea3e5xyplot\" class=\"plotclip\"><rect width=\"492\" height=\"320\"/></clipPath><clipPath class=\"axesclip\" id=\"clip2ea3e5x\"><rect x=\"80\" y=\"0\" width=\"492\" height=\"500\"/></clipPath><clipPath class=\"axesclip\" id=\"clip2ea3e5y\"><rect x=\"0\" y=\"100\" width=\"700\" height=\"320\"/></clipPath><clipPath class=\"axesclip\" id=\"clip2ea3e5xy\"><rect x=\"80\" y=\"100\" width=\"492\" height=\"320\"/></clipPath></g><g class=\"gradients\"/><g class=\"patterns\"/></defs><g class=\"bglayer\"><rect class=\"bg\" x=\"80\" y=\"100\" width=\"492\" height=\"320\" style=\"fill: rgb(229, 236, 246); fill-opacity: 1; stroke-width: 0;\"/></g><g class=\"layer-below\"><g class=\"imagelayer\"/><g class=\"shapelayer\"/></g><g class=\"cartesianlayer\"><g class=\"subplot xy\"><g class=\"layer-subplot\"><g class=\"shapelayer\"/><g class=\"imagelayer\"/></g><g class=\"minor-gridlayer\"><g class=\"x\"/><g class=\"y\"/></g><g class=\"gridlayer\"><g class=\"x\"><path class=\"xgrid crisp\" transform=\"translate(216.59,0)\" d=\"M0,100v320\" style=\"stroke: rgb(255, 255, 255); stroke-opacity: 1; stroke-width: 1px;\"/><path class=\"xgrid crisp\" transform=\"translate(324.83000000000004,0)\" d=\"M0,100v320\" style=\"stroke: rgb(255, 255, 255); stroke-opacity: 1; stroke-width: 1px;\"/><path class=\"xgrid crisp\" transform=\"translate(433.07,0)\" d=\"M0,100v320\" style=\"stroke: rgb(255, 255, 255); stroke-opacity: 1; stroke-width: 1px;\"/><path class=\"xgrid crisp\" transform=\"translate(541.31,0)\" d=\"M0,100v320\" style=\"stroke: rgb(255, 255, 255); stroke-opacity: 1; stroke-width: 1px;\"/></g><g class=\"y\"><path class=\"ygrid crisp\" transform=\"translate(0,378.3)\" d=\"M80,0h492\" style=\"stroke: rgb(255, 255, 255); stroke-opacity: 1; stroke-width: 1px;\"/><path class=\"ygrid crisp\" transform=\"translate(0,295.16999999999996)\" d=\"M80,0h492\" style=\"stroke: rgb(255, 255, 255); stroke-opacity: 1; stroke-width: 1px;\"/><path class=\"ygrid crisp\" transform=\"translate(0,212.03)\" d=\"M80,0h492\" style=\"stroke: rgb(255, 255, 255); stroke-opacity: 1; stroke-width: 1px;\"/><path class=\"ygrid crisp\" transform=\"translate(0,128.9)\" d=\"M80,0h492\" style=\"stroke: rgb(255, 255, 255); stroke-opacity: 1; stroke-width: 1px;\"/></g></g><g class=\"zerolinelayer\"><path class=\"xzl zl crisp\" transform=\"translate(108.35,0)\" d=\"M0,100v320\" style=\"stroke: rgb(255, 255, 255); stroke-opacity: 1; stroke-width: 2px;\"/></g><g class=\"layer-between\"><g class=\"shapelayer\"/><g class=\"imagelayer\"/></g><path class=\"xlines-below\"/><path class=\"ylines-below\"/><g class=\"overlines-below\"/><g class=\"xaxislayer-below\"/><g class=\"yaxislayer-below\"/><g class=\"overaxes-below\"/><g class=\"overplot\"><g class=\"xy\" transform=\"translate(80,100)\" clip-path=\"url(#clip2ea3e5xyplot)\"><g class=\"scatterlayer mlayer\"><g class=\"trace scatter traceaa58e0\" style=\"stroke-miterlimit: 2; opacity: 1;\"><g class=\"fills\"><g><path class=\"js-fill\" d=\"M28.35,16L28.74,16L30.97,152.56L33.78,206.58L35.78,214.78L37.42,218.32L40.47,221.46L44.04,223.04L46.9,223.81L69.96,228.44L71.67,228.76L130.66,239.09L135.46,239.87L213.2,251.13L215.82,251.47L245.18,255.13L246.24,220.81L246.67,98.96L268.73,48.83L354.98,42.27L377.17,40.83L463.65,35.99L463.65,84.86L354.98,91.14L333.39,92.63L268.73,97.7L246.67,147.82L246.24,269.68L245.18,304L186.55,296.38L185.04,296.18L128.65,287.63L125.92,287.19L83.21,279.77L82.43,279.63L44.04,271.91L41.71,271.01L40.47,270.33L37.42,267.19L35.78,263.65L33.78,255.45L30.97,201.43L28.74,64.87L28.35,64.87Z\" style=\"fill: rgb(255, 229, 204); fill-opacity: 0.8; stroke-width: 0;\"/></g></g><g class=\"errorbars\"/><g class=\"lines\"><path class=\"js-line\" d=\"M28.35,16L28.74,16L30.97,152.56L33.78,206.58L35.78,214.78L37.42,218.32L40.47,221.46L44.04,223.04L46.9,223.81L69.96,228.44L71.67,228.76L130.66,239.09L135.46,239.87L213.2,251.13L215.82,251.47L245.18,255.13L246.24,220.81L246.67,98.96L268.73,48.83L354.98,42.27L377.17,40.83L463.65,35.99L463.65,84.86L354.98,91.14L333.39,92.63L268.73,97.7L246.67,147.82L246.24,269.68L245.18,304L186.55,296.38L185.04,296.18L128.65,287.63L125.92,287.19L83.21,279.77L82.43,279.63L44.04,271.91L41.71,271.01L40.47,270.33L37.42,267.19L35.78,263.65L33.78,255.45L30.97,201.43L28.74,64.87L28.35,64.87\" style=\"vector-effect: none; fill: none; stroke: rgb(255, 255, 255); stroke-opacity: 0; stroke-width: 2px; opacity: 1;\"/></g><g class=\"points\"/><g class=\"text\"/></g><g class=\"trace scatter traceaf1ecb\" style=\"stroke-miterlimit: 2; opacity: 1;\"><g class=\"fills\"/><g class=\"errorbars\"/><g class=\"lines\"/><g class=\"points\"><path class=\"point\" transform=\"translate(28.35,41)\" d=\"M3,0A3,3 0 1,1 0,-3A3,3 0 0,1 3,0Z\" style=\"opacity: 1; stroke-width: 0px; fill: rgb(239, 85, 59); fill-opacity: 1;\"/><path class=\"point\" transform=\"translate(28.74,218.18)\" d=\"M3,0A3,3 0 1,1 0,-3A3,3 0 0,1 3,0Z\" style=\"opacity: 1; stroke-width: 0px; fill: rgb(239, 85, 59); fill-opacity: 1;\"/><path class=\"point\" transform=\"translate(30.97,222.8)\" d=\"M3,0A3,3 0 1,1 0,-3A3,3 0 0,1 3,0Z\" style=\"opacity: 1; stroke-width: 0px; fill: rgb(239, 85, 59); fill-opacity: 1;\"/><path class=\"point\" transform=\"translate(33.78,223.35)\" d=\"M3,0A3,3 0 1,1 0,-3A3,3 0 0,1 3,0Z\" style=\"opacity: 1; stroke-width: 0px; fill: rgb(239, 85, 59); fill-opacity: 1;\"/><path class=\"point\" transform=\"translate(35.78,225.2)\" d=\"M3,0A3,3 0 1,1 0,-3A3,3 0 0,1 3,0Z\" style=\"opacity: 1; stroke-width: 0px; fill: rgb(239, 85, 59); fill-opacity: 1;\"/><path class=\"point\" transform=\"translate(37.42,225.94)\" d=\"M3,0A3,3 0 1,1 0,-3A3,3 0 0,1 3,0Z\" style=\"opacity: 1; stroke-width: 0px; fill: rgb(239, 85, 59); fill-opacity: 1;\"/><path class=\"point\" transform=\"translate(40.47,225.94)\" d=\"M3,0A3,3 0 1,1 0,-3A3,3 0 0,1 3,0Z\" style=\"opacity: 1; stroke-width: 0px; fill: rgb(239, 85, 59); fill-opacity: 1;\"/><path class=\"point\" transform=\"translate(41.71,227.42)\" d=\"M3,0A3,3 0 1,1 0,-3A3,3 0 0,1 3,0Z\" style=\"opacity: 1; stroke-width: 0px; fill: rgb(239, 85, 59); fill-opacity: 1;\"/><path class=\"point\" transform=\"translate(44.04,228.15)\" d=\"M3,0A3,3 0 1,1 0,-3A3,3 0 0,1 3,0Z\" style=\"opacity: 1; stroke-width: 0px; fill: rgb(239, 85, 59); fill-opacity: 1;\"/><path class=\"point\" transform=\"translate(46.9,228.15)\" d=\"M3,0A3,3 0 1,1 0,-3A3,3 0 0,1 3,0Z\" style=\"opacity: 1; stroke-width: 0px; fill: rgb(239, 85, 59); fill-opacity: 1;\"/><path class=\"point\" transform=\"translate(48.37,229.45)\" d=\"M3,0A3,3 0 1,1 0,-3A3,3 0 0,1 3,0Z\" style=\"opacity: 1; stroke-width: 0px; fill: rgb(239, 85, 59); fill-opacity: 1;\"/><path class=\"point\" transform=\"translate(50.71,230.18)\" d=\"M3,0A3,3 0 1,1 0,-3A3,3 0 0,1 3,0Z\" style=\"opacity: 1; stroke-width: 0px; fill: rgb(239, 85, 59); fill-opacity: 1;\"/><path class=\"point\" transform=\"translate(53.76,230.57)\" d=\"M3,0A3,3 0 1,1 0,-3A3,3 0 0,1 3,0Z\" style=\"opacity: 1; stroke-width: 0px; fill: rgb(239, 85, 59); fill-opacity: 1;\"/><path class=\"point\" transform=\"translate(54.98,231.3)\" d=\"M3,0A3,3 0 1,1 0,-3A3,3 0 0,1 3,0Z\" style=\"opacity: 1; stroke-width: 0px; fill: rgb(239, 85, 59); fill-opacity: 1;\"/><path class=\"point\" transform=\"translate(57.42,231.85)\" d=\"M3,0A3,3 0 1,1 0,-3A3,3 0 0,1 3,0Z\" style=\"opacity: 1; stroke-width: 0px; fill: rgb(239, 85, 59); fill-opacity: 1;\"/><path class=\"point\" transform=\"translate(59.03,232.41)\" d=\"M3,0A3,3 0 1,1 0,-3A3,3 0 0,1 3,0Z\" style=\"opacity: 1; stroke-width: 0px; fill: rgb(239, 85, 59); fill-opacity: 1;\"/><path class=\"point\" transform=\"translate(61.62,232.78)\" d=\"M3,0A3,3 0 1,1 0,-3A3,3 0 0,1 3,0Z\" style=\"opacity: 1; stroke-width: 0px; fill: rgb(239, 85, 59); fill-opacity: 1;\"/><path class=\"point\" transform=\"translate(64.03,233.33)\" d=\"M3,0A3,3 0 1,1 0,-3A3,3 0 0,1 3,0Z\" style=\"opacity: 1; stroke-width: 0px; fill: rgb(239, 85, 59); fill-opacity: 1;\"/><path class=\"point\" transform=\"translate(65.5,233.71)\" d=\"M3,0A3,3 0 1,1 0,-3A3,3 0 0,1 3,0Z\" style=\"opacity: 1; stroke-width: 0px; fill: rgb(239, 85, 59); fill-opacity: 1;\"/><path class=\"point\" transform=\"translate(67.77,233.89)\" d=\"M3,0A3,3 0 1,1 0,-3A3,3 0 0,1 3,0Z\" style=\"opacity: 1; stroke-width: 0px; fill: rgb(239, 85, 59); fill-opacity: 1;\"/><path class=\"point\" transform=\"translate(69.96,234.99)\" d=\"M3,0A3,3 0 1,1 0,-3A3,3 0 0,1 3,0Z\" style=\"opacity: 1; stroke-width: 0px; fill: rgb(239, 85, 59); fill-opacity: 1;\"/><path class=\"point\" transform=\"translate(71.67,235.19)\" d=\"M3,0A3,3 0 1,1 0,-3A3,3 0 0,1 3,0Z\" style=\"opacity: 1; stroke-width: 0px; fill: rgb(239, 85, 59); fill-opacity: 1;\"/><path class=\"point\" transform=\"translate(74.92,235.55)\" d=\"M3,0A3,3 0 1,1 0,-3A3,3 0 0,1 3,0Z\" style=\"opacity: 1; stroke-width: 0px; fill: rgb(239, 85, 59); fill-opacity: 1;\"/><path class=\"point\" transform=\"translate(76.6,236.47)\" d=\"M3,0A3,3 0 1,1 0,-3A3,3 0 0,1 3,0Z\" style=\"opacity: 1; stroke-width: 0px; fill: rgb(239, 85, 59); fill-opacity: 1;\"/><path class=\"point\" transform=\"translate(80.95,236.47)\" d=\"M3,0A3,3 0 1,1 0,-3A3,3 0 0,1 3,0Z\" style=\"opacity: 1; stroke-width: 0px; fill: rgb(239, 85, 59); fill-opacity: 1;\"/><path class=\"point\" transform=\"translate(82.43,236.85)\" d=\"M3,0A3,3 0 1,1 0,-3A3,3 0 0,1 3,0Z\" style=\"opacity: 1; stroke-width: 0px; fill: rgb(239, 85, 59); fill-opacity: 1;\"/><path class=\"point\" transform=\"translate(83.21,237.58)\" d=\"M3,0A3,3 0 1,1 0,-3A3,3 0 0,1 3,0Z\" style=\"opacity: 1; stroke-width: 0px; fill: rgb(239, 85, 59); fill-opacity: 1;\"/><path class=\"point\" transform=\"translate(86.84,237.95)\" d=\"M3,0A3,3 0 1,1 0,-3A3,3 0 0,1 3,0Z\" style=\"opacity: 1; stroke-width: 0px; fill: rgb(239, 85, 59); fill-opacity: 1;\"/><path class=\"point\" transform=\"translate(88.94,238.33)\" d=\"M3,0A3,3 0 1,1 0,-3A3,3 0 0,1 3,0Z\" style=\"opacity: 1; stroke-width: 0px; fill: rgb(239, 85, 59); fill-opacity: 1;\"/><path class=\"point\" transform=\"translate(89.79,238.7)\" d=\"M3,0A3,3 0 1,1 0,-3A3,3 0 0,1 3,0Z\" style=\"opacity: 1; stroke-width: 0px; fill: rgb(239, 85, 59); fill-opacity: 1;\"/><path class=\"point\" transform=\"translate(93.34,239.25)\" d=\"M3,0A3,3 0 1,1 0,-3A3,3 0 0,1 3,0Z\" style=\"opacity: 1; stroke-width: 0px; fill: rgb(239, 85, 59); fill-opacity: 1;\"/><path class=\"point\" transform=\"translate(95.52,239.43)\" d=\"M3,0A3,3 0 1,1 0,-3A3,3 0 0,1 3,0Z\" style=\"opacity: 1; stroke-width: 0px; fill: rgb(239, 85, 59); fill-opacity: 1;\"/><path class=\"point\" transform=\"translate(96.41,239.99)\" d=\"M3,0A3,3 0 1,1 0,-3A3,3 0 0,1 3,0Z\" style=\"opacity: 1; stroke-width: 0px; fill: rgb(239, 85, 59); fill-opacity: 1;\"/><path class=\"point\" transform=\"translate(99.05,240.54)\" d=\"M3,0A3,3 0 1,1 0,-3A3,3 0 0,1 3,0Z\" style=\"opacity: 1; stroke-width: 0px; fill: rgb(239, 85, 59); fill-opacity: 1;\"/><path class=\"point\" transform=\"translate(101.02,240.54)\" d=\"M3,0A3,3 0 1,1 0,-3A3,3 0 0,1 3,0Z\" style=\"opacity: 1; stroke-width: 0px; fill: rgb(239, 85, 59); fill-opacity: 1;\"/><path class=\"point\" transform=\"translate(103.82,240.72)\" d=\"M3,0A3,3 0 1,1 0,-3A3,3 0 0,1 3,0Z\" style=\"opacity: 1; stroke-width: 0px; fill: rgb(239, 85, 59); fill-opacity: 1;\"/><path class=\"point\" transform=\"translate(104.66,241.66)\" d=\"M3,0A3,3 0 1,1 0,-3A3,3 0 0,1 3,0Z\" style=\"opacity: 1; stroke-width: 0px; fill: rgb(239, 85, 59); fill-opacity: 1;\"/><path class=\"point\" transform=\"translate(108.92,241.66)\" d=\"M3,0A3,3 0 1,1 0,-3A3,3 0 0,1 3,0Z\" style=\"opacity: 1; stroke-width: 0px; fill: rgb(239, 85, 59); fill-opacity: 1;\"/><path class=\"point\" transform=\"translate(109.79,241.84)\" d=\"M3,0A3,3 0 1,1 0,-3A3,3 0 0,1 3,0Z\" style=\"opacity: 1; stroke-width: 0px; fill: rgb(239, 85, 59); fill-opacity: 1;\"/><path class=\"point\" transform=\"translate(111.31,242.75)\" d=\"M3,0A3,3 0 1,1 0,-3A3,3 0 0,1 3,0Z\" style=\"opacity: 1; stroke-width: 0px; fill: rgb(239, 85, 59); fill-opacity: 1;\"/><path class=\"point\" transform=\"translate(115.44,242.95)\" d=\"M3,0A3,3 0 1,1 0,-3A3,3 0 0,1 3,0Z\" style=\"opacity: 1; stroke-width: 0px; fill: rgb(239, 85, 59); fill-opacity: 1;\"/><path class=\"point\" transform=\"translate(116.44,243.14)\" d=\"M3,0A3,3 0 1,1 0,-3A3,3 0 0,1 3,0Z\" style=\"opacity: 1; stroke-width: 0px; fill: rgb(239, 85, 59); fill-opacity: 1;\"/><path class=\"point\" transform=\"translate(117.97,243.68)\" d=\"M3,0A3,3 0 1,1 0,-3A3,3 0 0,1 3,0Z\" style=\"opacity: 1; stroke-width: 0px; fill: rgb(239, 85, 59); fill-opacity: 1;\"/><path class=\"point\" transform=\"translate(121.05,244.05)\" d=\"M3,0A3,3 0 1,1 0,-3A3,3 0 0,1 3,0Z\" style=\"opacity: 1; stroke-width: 0px; fill: rgb(239, 85, 59); fill-opacity: 1;\"/><path class=\"point\" transform=\"translate(122.74,244.05)\" d=\"M3,0A3,3 0 1,1 0,-3A3,3 0 0,1 3,0Z\" style=\"opacity: 1; stroke-width: 0px; fill: rgb(239, 85, 59); fill-opacity: 1;\"/><path class=\"point\" transform=\"translate(124.64,244.8)\" d=\"M3,0A3,3 0 1,1 0,-3A3,3 0 0,1 3,0Z\" style=\"opacity: 1; stroke-width: 0px; fill: rgb(239, 85, 59); fill-opacity: 1;\"/><path class=\"point\" transform=\"translate(125.92,244.8)\" d=\"M3,0A3,3 0 1,1 0,-3A3,3 0 0,1 3,0Z\" style=\"opacity: 1; stroke-width: 0px; fill: rgb(239, 85, 59); fill-opacity: 1;\"/><path class=\"point\" transform=\"translate(128.65,245.35)\" d=\"M3,0A3,3 0 1,1 0,-3A3,3 0 0,1 3,0Z\" style=\"opacity: 1; stroke-width: 0px; fill: rgb(239, 85, 59); fill-opacity: 1;\"/><path class=\"point\" transform=\"translate(130.66,245.35)\" d=\"M3,0A3,3 0 1,1 0,-3A3,3 0 0,1 3,0Z\" style=\"opacity: 1; stroke-width: 0px; fill: rgb(239, 85, 59); fill-opacity: 1;\"/><path class=\"point\" transform=\"translate(135.46,246.1)\" d=\"M3,0A3,3 0 1,1 0,-3A3,3 0 0,1 3,0Z\" style=\"opacity: 1; stroke-width: 0px; fill: rgb(239, 85, 59); fill-opacity: 1;\"/><path class=\"point\" transform=\"translate(136.37,246.1)\" d=\"M3,0A3,3 0 1,1 0,-3A3,3 0 0,1 3,0Z\" style=\"opacity: 1; stroke-width: 0px; fill: rgb(239, 85, 59); fill-opacity: 1;\"/><path class=\"point\" transform=\"translate(137.3,246.46)\" d=\"M3,0A3,3 0 1,1 0,-3A3,3 0 0,1 3,0Z\" style=\"opacity: 1; stroke-width: 0px; fill: rgb(239, 85, 59); fill-opacity: 1;\"/><path class=\"point\" transform=\"translate(139.49,247.01)\" d=\"M3,0A3,3 0 1,1 0,-3A3,3 0 0,1 3,0Z\" style=\"opacity: 1; stroke-width: 0px; fill: rgb(239, 85, 59); fill-opacity: 1;\"/><path class=\"point\" transform=\"translate(141.96,247.01)\" d=\"M3,0A3,3 0 1,1 0,-3A3,3 0 0,1 3,0Z\" style=\"opacity: 1; stroke-width: 0px; fill: rgb(239, 85, 59); fill-opacity: 1;\"/><path class=\"point\" transform=\"translate(143.93,247.38)\" d=\"M3,0A3,3 0 1,1 0,-3A3,3 0 0,1 3,0Z\" style=\"opacity: 1; stroke-width: 0px; fill: rgb(239, 85, 59); fill-opacity: 1;\"/><path class=\"point\" transform=\"translate(146.85,247.94)\" d=\"M3,0A3,3 0 1,1 0,-3A3,3 0 0,1 3,0Z\" style=\"opacity: 1; stroke-width: 0px; fill: rgb(239, 85, 59); fill-opacity: 1;\"/><path class=\"point\" transform=\"translate(148.99,247.94)\" d=\"M3,0A3,3 0 1,1 0,-3A3,3 0 0,1 3,0Z\" style=\"opacity: 1; stroke-width: 0px; fill: rgb(239, 85, 59); fill-opacity: 1;\"/><path class=\"point\" transform=\"translate(149.88,248.49)\" d=\"M3,0A3,3 0 1,1 0,-3A3,3 0 0,1 3,0Z\" style=\"opacity: 1; stroke-width: 0px; fill: rgb(239, 85, 59); fill-opacity: 1;\"/><path class=\"point\" transform=\"translate(152.98,248.67)\" d=\"M3,0A3,3 0 1,1 0,-3A3,3 0 0,1 3,0Z\" style=\"opacity: 1; stroke-width: 0px; fill: rgb(239, 85, 59); fill-opacity: 1;\"/><path class=\"point\" transform=\"translate(155.53,249.04)\" d=\"M3,0A3,3 0 1,1 0,-3A3,3 0 0,1 3,0Z\" style=\"opacity: 1; stroke-width: 0px; fill: rgb(239, 85, 59); fill-opacity: 1;\"/><path class=\"point\" transform=\"translate(156.64,249.24)\" d=\"M3,0A3,3 0 1,1 0,-3A3,3 0 0,1 3,0Z\" style=\"opacity: 1; stroke-width: 0px; fill: rgb(239, 85, 59); fill-opacity: 1;\"/><path class=\"point\" transform=\"translate(159.69,249.6)\" d=\"M3,0A3,3 0 1,1 0,-3A3,3 0 0,1 3,0Z\" style=\"opacity: 1; stroke-width: 0px; fill: rgb(239, 85, 59); fill-opacity: 1;\"/><path class=\"point\" transform=\"translate(162.18,249.97)\" d=\"M3,0A3,3 0 1,1 0,-3A3,3 0 0,1 3,0Z\" style=\"opacity: 1; stroke-width: 0px; fill: rgb(239, 85, 59); fill-opacity: 1;\"/><path class=\"point\" transform=\"translate(163.33,250.15)\" d=\"M3,0A3,3 0 1,1 0,-3A3,3 0 0,1 3,0Z\" style=\"opacity: 1; stroke-width: 0px; fill: rgb(239, 85, 59); fill-opacity: 1;\"/><path class=\"point\" transform=\"translate(165.62,250.52)\" d=\"M3,0A3,3 0 1,1 0,-3A3,3 0 0,1 3,0Z\" style=\"opacity: 1; stroke-width: 0px; fill: rgb(239, 85, 59); fill-opacity: 1;\"/><path class=\"point\" transform=\"translate(169.32,250.9)\" d=\"M3,0A3,3 0 1,1 0,-3A3,3 0 0,1 3,0Z\" style=\"opacity: 1; stroke-width: 0px; fill: rgb(239, 85, 59); fill-opacity: 1;\"/><path class=\"point\" transform=\"translate(170.77,251.08)\" d=\"M3,0A3,3 0 1,1 0,-3A3,3 0 0,1 3,0Z\" style=\"opacity: 1; stroke-width: 0px; fill: rgb(239, 85, 59); fill-opacity: 1;\"/><path class=\"point\" transform=\"translate(171.62,251.27)\" d=\"M3,0A3,3 0 1,1 0,-3A3,3 0 0,1 3,0Z\" style=\"opacity: 1; stroke-width: 0px; fill: rgb(239, 85, 59); fill-opacity: 1;\"/><path class=\"point\" transform=\"translate(174.97,251.63)\" d=\"M3,0A3,3 0 1,1 0,-3A3,3 0 0,1 3,0Z\" style=\"opacity: 1; stroke-width: 0px; fill: rgb(239, 85, 59); fill-opacity: 1;\"/><path class=\"point\" transform=\"translate(176.77,251.63)\" d=\"M3,0A3,3 0 1,1 0,-3A3,3 0 0,1 3,0Z\" style=\"opacity: 1; stroke-width: 0px; fill: rgb(239, 85, 59); fill-opacity: 1;\"/><path class=\"point\" transform=\"translate(178.31,252.2)\" d=\"M3,0A3,3 0 1,1 0,-3A3,3 0 0,1 3,0Z\" style=\"opacity: 1; stroke-width: 0px; fill: rgb(239, 85, 59); fill-opacity: 1;\"/><path class=\"point\" transform=\"translate(181.32,252.38)\" d=\"M3,0A3,3 0 1,1 0,-3A3,3 0 0,1 3,0Z\" style=\"opacity: 1; stroke-width: 0px; fill: rgb(239, 85, 59); fill-opacity: 1;\"/><path class=\"point\" transform=\"translate(183.16,252.56)\" d=\"M3,0A3,3 0 1,1 0,-3A3,3 0 0,1 3,0Z\" style=\"opacity: 1; stroke-width: 0px; fill: rgb(239, 85, 59); fill-opacity: 1;\"/><path class=\"point\" transform=\"translate(185.04,253.11)\" d=\"M3,0A3,3 0 1,1 0,-3A3,3 0 0,1 3,0Z\" style=\"opacity: 1; stroke-width: 0px; fill: rgb(239, 85, 59); fill-opacity: 1;\"/><path class=\"point\" transform=\"translate(186.55,253.29)\" d=\"M3,0A3,3 0 1,1 0,-3A3,3 0 0,1 3,0Z\" style=\"opacity: 1; stroke-width: 0px; fill: rgb(239, 85, 59); fill-opacity: 1;\"/><path class=\"point\" transform=\"translate(189.87,253.29)\" d=\"M3,0A3,3 0 1,1 0,-3A3,3 0 0,1 3,0Z\" style=\"opacity: 1; stroke-width: 0px; fill: rgb(239, 85, 59); fill-opacity: 1;\"/><path class=\"point\" transform=\"translate(191.71,253.86)\" d=\"M3,0A3,3 0 1,1 0,-3A3,3 0 0,1 3,0Z\" style=\"opacity: 1; stroke-width: 0px; fill: rgb(239, 85, 59); fill-opacity: 1;\"/><path class=\"point\" transform=\"translate(196.19,254.04)\" d=\"M3,0A3,3 0 1,1 0,-3A3,3 0 0,1 3,0Z\" style=\"opacity: 1; stroke-width: 0px; fill: rgb(239, 85, 59); fill-opacity: 1;\"/><path class=\"point\" transform=\"translate(197.53,254.23)\" d=\"M3,0A3,3 0 1,1 0,-3A3,3 0 0,1 3,0Z\" style=\"opacity: 1; stroke-width: 0px; fill: rgb(239, 85, 59); fill-opacity: 1;\"/><path class=\"point\" transform=\"translate(198.35,254.41)\" d=\"M3,0A3,3 0 1,1 0,-3A3,3 0 0,1 3,0Z\" style=\"opacity: 1; stroke-width: 0px; fill: rgb(239, 85, 59); fill-opacity: 1;\"/><path class=\"point\" transform=\"translate(199.89,254.77)\" d=\"M3,0A3,3 0 1,1 0,-3A3,3 0 0,1 3,0Z\" style=\"opacity: 1; stroke-width: 0px; fill: rgb(239, 85, 59); fill-opacity: 1;\"/><path class=\"point\" transform=\"translate(202.64,254.96)\" d=\"M3,0A3,3 0 1,1 0,-3A3,3 0 0,1 3,0Z\" style=\"opacity: 1; stroke-width: 0px; fill: rgb(239, 85, 59); fill-opacity: 1;\"/><path class=\"point\" transform=\"translate(205,255.14)\" d=\"M3,0A3,3 0 1,1 0,-3A3,3 0 0,1 3,0Z\" style=\"opacity: 1; stroke-width: 0px; fill: rgb(239, 85, 59); fill-opacity: 1;\"/><path class=\"point\" transform=\"translate(206.58,255.52)\" d=\"M3,0A3,3 0 1,1 0,-3A3,3 0 0,1 3,0Z\" style=\"opacity: 1; stroke-width: 0px; fill: rgb(239, 85, 59); fill-opacity: 1;\"/><path class=\"point\" transform=\"translate(208.42,255.52)\" d=\"M3,0A3,3 0 1,1 0,-3A3,3 0 0,1 3,0Z\" style=\"opacity: 1; stroke-width: 0px; fill: rgb(239, 85, 59); fill-opacity: 1;\"/><path class=\"point\" transform=\"translate(210.78,255.71)\" d=\"M3,0A3,3 0 1,1 0,-3A3,3 0 0,1 3,0Z\" style=\"opacity: 1; stroke-width: 0px; fill: rgb(239, 85, 59); fill-opacity: 1;\"/><path class=\"point\" transform=\"translate(213.2,255.89)\" d=\"M3,0A3,3 0 1,1 0,-3A3,3 0 0,1 3,0Z\" style=\"opacity: 1; stroke-width: 0px; fill: rgb(239, 85, 59); fill-opacity: 1;\"/><path class=\"point\" transform=\"translate(215.82,256.44)\" d=\"M3,0A3,3 0 1,1 0,-3A3,3 0 0,1 3,0Z\" style=\"opacity: 1; stroke-width: 0px; fill: rgb(239, 85, 59); fill-opacity: 1;\"/><path class=\"point\" transform=\"translate(217.71,256.44)\" d=\"M3,0A3,3 0 1,1 0,-3A3,3 0 0,1 3,0Z\" style=\"opacity: 1; stroke-width: 0px; fill: rgb(239, 85, 59); fill-opacity: 1;\"/><path class=\"point\" transform=\"translate(219.98,256.82)\" d=\"M3,0A3,3 0 1,1 0,-3A3,3 0 0,1 3,0Z\" style=\"opacity: 1; stroke-width: 0px; fill: rgb(239, 85, 59); fill-opacity: 1;\"/><path class=\"point\" transform=\"translate(222.94,257)\" d=\"M3,0A3,3 0 1,1 0,-3A3,3 0 0,1 3,0Z\" style=\"opacity: 1; stroke-width: 0px; fill: rgb(239, 85, 59); fill-opacity: 1;\"/><path class=\"point\" transform=\"translate(224.87,257.19)\" d=\"M3,0A3,3 0 1,1 0,-3A3,3 0 0,1 3,0Z\" style=\"opacity: 1; stroke-width: 0px; fill: rgb(239, 85, 59); fill-opacity: 1;\"/><path class=\"point\" transform=\"translate(225.93,257.55)\" d=\"M3,0A3,3 0 1,1 0,-3A3,3 0 0,1 3,0Z\" style=\"opacity: 1; stroke-width: 0px; fill: rgb(239, 85, 59); fill-opacity: 1;\"/><path class=\"point\" transform=\"translate(229.11,257.73)\" d=\"M3,0A3,3 0 1,1 0,-3A3,3 0 0,1 3,0Z\" style=\"opacity: 1; stroke-width: 0px; fill: rgb(239, 85, 59); fill-opacity: 1;\"/><path class=\"point\" transform=\"translate(231,257.92)\" d=\"M3,0A3,3 0 1,1 0,-3A3,3 0 0,1 3,0Z\" style=\"opacity: 1; stroke-width: 0px; fill: rgb(239, 85, 59); fill-opacity: 1;\"/><path class=\"point\" transform=\"translate(232.58,258.1)\" d=\"M3,0A3,3 0 1,1 0,-3A3,3 0 0,1 3,0Z\" style=\"opacity: 1; stroke-width: 0px; fill: rgb(239, 85, 59); fill-opacity: 1;\"/><path class=\"point\" transform=\"translate(234.53,258.48)\" d=\"M3,0A3,3 0 1,1 0,-3A3,3 0 0,1 3,0Z\" style=\"opacity: 1; stroke-width: 0px; fill: rgb(239, 85, 59); fill-opacity: 1;\"/><path class=\"point\" transform=\"translate(236.95,258.67)\" d=\"M3,0A3,3 0 1,1 0,-3A3,3 0 0,1 3,0Z\" style=\"opacity: 1; stroke-width: 0px; fill: rgb(239, 85, 59); fill-opacity: 1;\"/><path class=\"point\" transform=\"translate(239.51,259.03)\" d=\"M3,0A3,3 0 1,1 0,-3A3,3 0 0,1 3,0Z\" style=\"opacity: 1; stroke-width: 0px; fill: rgb(239, 85, 59); fill-opacity: 1;\"/><path class=\"point\" transform=\"translate(241.32,259.21)\" d=\"M3,0A3,3 0 1,1 0,-3A3,3 0 0,1 3,0Z\" style=\"opacity: 1; stroke-width: 0px; fill: rgb(239, 85, 59); fill-opacity: 1;\"/><path class=\"point\" transform=\"translate(243.73,259.21)\" d=\"M3,0A3,3 0 1,1 0,-3A3,3 0 0,1 3,0Z\" style=\"opacity: 1; stroke-width: 0px; fill: rgb(239, 85, 59); fill-opacity: 1;\"/><path class=\"point\" transform=\"translate(245.18,259.4)\" d=\"M3,0A3,3 0 1,1 0,-3A3,3 0 0,1 3,0Z\" style=\"opacity: 1; stroke-width: 0px; fill: rgb(239, 85, 59); fill-opacity: 1;\"/><path class=\"point\" transform=\"translate(246.24,259.76)\" d=\"M3,0A3,3 0 1,1 0,-3A3,3 0 0,1 3,0Z\" style=\"opacity: 1; stroke-width: 0px; fill: rgb(239, 85, 59); fill-opacity: 1;\"/><path class=\"point\" transform=\"translate(246.67,260.33)\" d=\"M3,0A3,3 0 1,1 0,-3A3,3 0 0,1 3,0Z\" style=\"opacity: 1; stroke-width: 0px; fill: rgb(239, 85, 59); fill-opacity: 1;\"/><path class=\"point\" transform=\"translate(268.73,74.09)\" d=\"M3,0A3,3 0 1,1 0,-3A3,3 0 0,1 3,0Z\" style=\"opacity: 1; stroke-width: 0px; fill: rgb(239, 85, 59); fill-opacity: 1;\"/><path class=\"point\" transform=\"translate(290.12,70.95)\" d=\"M3,0A3,3 0 1,1 0,-3A3,3 0 0,1 3,0Z\" style=\"opacity: 1; stroke-width: 0px; fill: rgb(239, 85, 59); fill-opacity: 1;\"/><path class=\"point\" transform=\"translate(312.39,68.74)\" d=\"M3,0A3,3 0 1,1 0,-3A3,3 0 0,1 3,0Z\" style=\"opacity: 1; stroke-width: 0px; fill: rgb(239, 85, 59); fill-opacity: 1;\"/><path class=\"point\" transform=\"translate(333.39,66.89)\" d=\"M3,0A3,3 0 1,1 0,-3A3,3 0 0,1 3,0Z\" style=\"opacity: 1; stroke-width: 0px; fill: rgb(239, 85, 59); fill-opacity: 1;\"/><path class=\"point\" transform=\"translate(354.98,65.59)\" d=\"M3,0A3,3 0 1,1 0,-3A3,3 0 0,1 3,0Z\" style=\"opacity: 1; stroke-width: 0px; fill: rgb(239, 85, 59); fill-opacity: 1;\"/><path class=\"point\" transform=\"translate(377.17,64.48)\" d=\"M3,0A3,3 0 1,1 0,-3A3,3 0 0,1 3,0Z\" style=\"opacity: 1; stroke-width: 0px; fill: rgb(239, 85, 59); fill-opacity: 1;\"/><path class=\"point\" transform=\"translate(399.4,63.18)\" d=\"M3,0A3,3 0 1,1 0,-3A3,3 0 0,1 3,0Z\" style=\"opacity: 1; stroke-width: 0px; fill: rgb(239, 85, 59); fill-opacity: 1;\"/><path class=\"point\" transform=\"translate(419.9,62.45)\" d=\"M3,0A3,3 0 1,1 0,-3A3,3 0 0,1 3,0Z\" style=\"opacity: 1; stroke-width: 0px; fill: rgb(239, 85, 59); fill-opacity: 1;\"/><path class=\"point\" transform=\"translate(441.85,61.89)\" d=\"M3,0A3,3 0 1,1 0,-3A3,3 0 0,1 3,0Z\" style=\"opacity: 1; stroke-width: 0px; fill: rgb(239, 85, 59); fill-opacity: 1;\"/><path class=\"point\" transform=\"translate(463.65,60.97)\" d=\"M3,0A3,3 0 1,1 0,-3A3,3 0 0,1 3,0Z\" style=\"opacity: 1; stroke-width: 0px; fill: rgb(239, 85, 59); fill-opacity: 1;\"/></g><g class=\"text\"/></g><g class=\"trace scatter tracee3a5e4\" style=\"stroke-miterlimit: 2; opacity: 1;\"><g class=\"fills\"/><g class=\"errorbars\"/><g class=\"lines\"><path class=\"js-line\" d=\"M28.35,40.43L28.74,40.43L30.97,176.99L33.78,231.01L35.78,239.21L37.42,242.76L40.47,245.9L44.04,247.47L46.9,248.24L76.6,254.11L80.95,254.92L137.3,264.59L139.49,264.94L210.78,275.26L213.2,275.56L245.18,279.57L246.24,245.25L246.67,123.39L268.73,73.27L354.98,66.71L377.17,65.26L463.65,60.43\" style=\"vector-effect: none; fill: none; stroke: rgb(0, 204, 150); stroke-opacity: 1; stroke-width: 4px; opacity: 1;\"/></g><g class=\"points\"/><g class=\"text\"/></g></g></g></g><path class=\"xlines-above crisp\" d=\"M0,0\" style=\"fill: none;\"/><path class=\"ylines-above crisp\" d=\"M0,0\" style=\"fill: none;\"/><g class=\"overlines-above\"/><g class=\"xaxislayer-above\"><g class=\"xtick\"><text text-anchor=\"middle\" x=\"0\" y=\"433\" transform=\"translate(108.35,0)\" style=\"font-family: 'Open Sans', verdana, arial, sans-serif; font-size: 12px; fill: rgb(42, 63, 95); fill-opacity: 1; white-space: pre; opacity: 1;\">0</text></g><g class=\"xtick\"><text text-anchor=\"middle\" x=\"0\" y=\"433\" style=\"font-family: 'Open Sans', verdana, arial, sans-serif; font-size: 12px; fill: rgb(42, 63, 95); fill-opacity: 1; white-space: pre; opacity: 1;\" transform=\"translate(216.59,0)\">5</text></g><g class=\"xtick\"><text text-anchor=\"middle\" x=\"0\" y=\"433\" style=\"font-family: 'Open Sans', verdana, arial, sans-serif; font-size: 12px; fill: rgb(42, 63, 95); fill-opacity: 1; white-space: pre; opacity: 1;\" transform=\"translate(324.83000000000004,0)\">10</text></g><g class=\"xtick\"><text text-anchor=\"middle\" x=\"0\" y=\"433\" style=\"font-family: 'Open Sans', verdana, arial, sans-serif; font-size: 12px; fill: rgb(42, 63, 95); fill-opacity: 1; white-space: pre; opacity: 1;\" transform=\"translate(433.07,0)\">15</text></g><g class=\"xtick\"><text text-anchor=\"middle\" x=\"0\" y=\"433\" style=\"font-family: 'Open Sans', verdana, arial, sans-serif; font-size: 12px; fill: rgb(42, 63, 95); fill-opacity: 1; white-space: pre; opacity: 1;\" transform=\"translate(541.31,0)\">20</text></g></g><g class=\"yaxislayer-above\"><g class=\"ytick\"><text text-anchor=\"end\" x=\"79\" y=\"4.199999999999999\" transform=\"translate(0,378.3)\" style=\"font-family: 'Open Sans', verdana, arial, sans-serif; font-size: 12px; fill: rgb(42, 63, 95); fill-opacity: 1; white-space: pre; opacity: 1;\">3.85</text></g><g class=\"ytick\"><text text-anchor=\"end\" x=\"79\" y=\"4.199999999999999\" style=\"font-family: 'Open Sans', verdana, arial, sans-serif; font-size: 12px; fill: rgb(42, 63, 95); fill-opacity: 1; white-space: pre; opacity: 1;\" transform=\"translate(0,295.16999999999996)\">3.9</text></g><g class=\"ytick\"><text text-anchor=\"end\" x=\"79\" y=\"4.199999999999999\" style=\"font-family: 'Open Sans', verdana, arial, sans-serif; font-size: 12px; fill: rgb(42, 63, 95); fill-opacity: 1; white-space: pre; opacity: 1;\" transform=\"translate(0,212.03)\">3.95</text></g><g class=\"ytick\"><text text-anchor=\"end\" x=\"79\" y=\"4.199999999999999\" style=\"font-family: 'Open Sans', verdana, arial, sans-serif; font-size: 12px; fill: rgb(42, 63, 95); fill-opacity: 1; white-space: pre; opacity: 1;\" transform=\"translate(0,128.9)\">4</text></g></g><g class=\"overaxes-above\"/></g></g><g class=\"polarlayer\"/><g class=\"smithlayer\"/><g class=\"ternarylayer\"/><g class=\"geolayer\"/><g class=\"funnelarealayer\"/><g class=\"pielayer\"/><g class=\"iciclelayer\"/><g class=\"treemaplayer\"/><g class=\"sunburstlayer\"/><g class=\"glimages\"/><defs id=\"topdefs-2ea3e5\"><g class=\"clips\"/><clipPath id=\"legend2ea3e5\"><rect width=\"106\" height=\"48\" x=\"0\" y=\"0\"/></clipPath></defs><g class=\"layer-above\"><g class=\"imagelayer\"/><g class=\"shapelayer\"/></g><g class=\"infolayer\"><g class=\"legend\" pointer-events=\"all\" transform=\"translate(581.84,100)\"><rect class=\"bg\" shape-rendering=\"crispEdges\" width=\"106\" height=\"48\" x=\"0\" y=\"0\" style=\"stroke: rgb(68, 68, 68); stroke-opacity: 1; fill: rgb(255, 255, 255); fill-opacity: 1; stroke-width: 0px;\"/><g class=\"scrollbox\" transform=\"\" clip-path=\"url(#legend2ea3e5)\"><g class=\"groups\"><g class=\"traces\" transform=\"translate(0,14.5)\" style=\"opacity: 1;\"><text class=\"legendtext\" text-anchor=\"start\" x=\"40\" y=\"4.680000000000001\" style=\"font-family: 'Open Sans', verdana, arial, sans-serif; font-size: 12px; fill: rgb(42, 63, 95); fill-opacity: 1; white-space: pre;\">Reference</text><g class=\"layers\" style=\"opacity: 1;\"><g class=\"legendfill\"/><g class=\"legendlines\"/><g class=\"legendsymbols\"><g class=\"legendpoints\"><path class=\"scatterpts\" transform=\"translate(20,0)\" d=\"M3,0A3,3 0 1,1 0,-3A3,3 0 0,1 3,0Z\" style=\"opacity: 1; stroke-width: 0px; fill: rgb(239, 85, 59); fill-opacity: 1;\"/></g></g></g><rect class=\"legendtoggle\" x=\"0\" y=\"-9.5\" width=\"100.4375\" height=\"19\" style=\"fill: rgb(0, 0, 0); fill-opacity: 0;\"/></g><g class=\"traces\" transform=\"translate(0,33.5)\" style=\"opacity: 1;\"><text class=\"legendtext\" text-anchor=\"start\" x=\"40\" y=\"4.680000000000001\" style=\"font-family: 'Open Sans', verdana, arial, sans-serif; font-size: 12px; fill: rgb(42, 63, 95); fill-opacity: 1; white-space: pre;\">Model</text><g class=\"layers\" style=\"opacity: 1;\"><g class=\"legendfill\"/><g class=\"legendlines\"><path class=\"js-line\" d=\"M5,0h30\" style=\"fill: none; stroke: rgb(0, 204, 150); stroke-opacity: 1; stroke-width: 4px;\"/></g><g class=\"legendsymbols\"><g class=\"legendpoints\"/></g></g><rect class=\"legendtoggle\" x=\"0\" y=\"-9.5\" width=\"100.4375\" height=\"19\" style=\"fill: rgb(0, 0, 0); fill-opacity: 0;\"/></g></g></g><rect class=\"scrollbar\" rx=\"20\" ry=\"3\" width=\"0\" height=\"0\" x=\"0\" y=\"0\" style=\"fill: rgb(128, 139, 164); fill-opacity: 1;\"/></g><g class=\"g-gtitle\"><text class=\"gtitle\" x=\"35\" y=\"50\" text-anchor=\"start\" dy=\"0em\" style=\"opacity: 1; font-family: 'Open Sans', verdana, arial, sans-serif; font-size: 17px; fill: rgb(42, 63, 95); fill-opacity: 1; white-space: pre;\">Parameter Extrapolation</text></g><g class=\"g-xtitle\"><text class=\"xtitle\" x=\"326\" y=\"460.3\" text-anchor=\"middle\" style=\"opacity: 1; font-family: 'Open Sans', verdana, arial, sans-serif; font-size: 14px; fill: rgb(42, 63, 95); fill-opacity: 1; white-space: pre;\">Time / s</text></g><g class=\"g-ytitle\"><text class=\"ytitle\" transform=\"rotate(-90,32.88125,260)\" x=\"32.88125\" y=\"260\" text-anchor=\"middle\" style=\"opacity: 1; font-family: 'Open Sans', verdana, arial, sans-serif; font-size: 14px; fill: rgb(42, 63, 95); fill-opacity: 1; white-space: pre;\">Voltage  / V</text></g></g></svg>"
      ]
     },
     "metadata": {},
     "output_type": "display_data"
    }
   ],
   "source": [
    "pybop.quick_plot(problem, problem_inputs=x, title=\"Parameter Extrapolation\");"
   ]
  },
  {
   "cell_type": "markdown",
   "id": "38",
   "metadata": {},
   "source": [
    "As expected, when identifying parameters from a single pulse, extrapolation to different operating conditions is challenging. To solve this issue, parameter identification with various pulse datasets is recommended."
   ]
  },
  {
   "cell_type": "markdown",
   "id": "39",
   "metadata": {},
   "source": [
    "### Conclusion\n",
    "\n",
    "This notebook illustrates how to perform circuit model parameter identification using PSO in PyBOP, providing insights into the optimisation process through various visualisations."
   ]
  }
 ],
 "metadata": {
  "kernelspec": {
   "display_name": "Python 3 (ipykernel)",
   "language": "python",
   "name": "python3"
  },
  "language_info": {
   "codemirror_mode": {
    "name": "ipython",
    "version": 3
   },
   "file_extension": ".py",
   "mimetype": "text/x-python",
   "name": "python",
   "nbconvert_exporter": "python",
   "pygments_lexer": "ipython3",
   "version": "3.11.9"
  }
 },
 "nbformat": 4,
 "nbformat_minor": 5
}
