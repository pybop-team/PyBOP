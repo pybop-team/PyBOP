{
 "cells": [
  {
   "cell_type": "markdown",
   "id": "00940c64-4748-4b08-9a35-ea98ce311e71",
   "metadata": {},
   "source": [
    "## LG M50 Single Pulse Parameter Identification\n",
    "\n",
    "This example presents an experimental parameter identification method for a two-RC circuit model. The data for this notebook is located within the same directory and was obtained from [[1]](https://github.com/WDWidanage/Simscape-Battery-Library/tree/main/Examples/parameterEstimation_TECMD/Data).\n",
    "\n",
    "\n",
    "### Setting up the Environment\n",
    "\n",
    "Before we begin, we need to ensure that we have all the necessary tools. We will install PyBOP for the fitting and Pandas for the data ingestion and manipulation:"
   ]
  },
  {
   "cell_type": "code",
   "execution_count": 1,
   "id": "dd0e1a20-1ba3-4ff5-8f6a-f9c6f25c2a4a",
   "metadata": {},
   "outputs": [
    {
     "name": "stdout",
     "output_type": "stream",
     "text": [
      "Requirement already satisfied: pip in /Users/engs2510/.pyenv/versions/3.11.7/envs/pybop/lib/python3.11/site-packages (24.0)\n",
      "Requirement already satisfied: ipywidgets in /Users/engs2510/.pyenv/versions/3.11.7/envs/pybop/lib/python3.11/site-packages (8.1.2)\n",
      "Requirement already satisfied: comm>=0.1.3 in /Users/engs2510/.pyenv/versions/3.11.7/envs/pybop/lib/python3.11/site-packages (from ipywidgets) (0.2.1)\n",
      "Requirement already satisfied: ipython>=6.1.0 in /Users/engs2510/.pyenv/versions/3.11.7/envs/pybop/lib/python3.11/site-packages (from ipywidgets) (8.22.1)\n",
      "Requirement already satisfied: traitlets>=4.3.1 in /Users/engs2510/.pyenv/versions/3.11.7/envs/pybop/lib/python3.11/site-packages (from ipywidgets) (5.14.1)\n",
      "Requirement already satisfied: widgetsnbextension~=4.0.10 in /Users/engs2510/.pyenv/versions/3.11.7/envs/pybop/lib/python3.11/site-packages (from ipywidgets) (4.0.10)\n",
      "Requirement already satisfied: jupyterlab-widgets~=3.0.10 in /Users/engs2510/.pyenv/versions/3.11.7/envs/pybop/lib/python3.11/site-packages (from ipywidgets) (3.0.10)\n",
      "Requirement already satisfied: decorator in /Users/engs2510/.pyenv/versions/3.11.7/envs/pybop/lib/python3.11/site-packages (from ipython>=6.1.0->ipywidgets) (5.1.1)\n",
      "Requirement already satisfied: jedi>=0.16 in /Users/engs2510/.pyenv/versions/3.11.7/envs/pybop/lib/python3.11/site-packages (from ipython>=6.1.0->ipywidgets) (0.19.1)\n",
      "Requirement already satisfied: matplotlib-inline in /Users/engs2510/.pyenv/versions/3.11.7/envs/pybop/lib/python3.11/site-packages (from ipython>=6.1.0->ipywidgets) (0.1.6)\n",
      "Requirement already satisfied: prompt-toolkit<3.1.0,>=3.0.41 in /Users/engs2510/.pyenv/versions/3.11.7/envs/pybop/lib/python3.11/site-packages (from ipython>=6.1.0->ipywidgets) (3.0.43)\n",
      "Requirement already satisfied: pygments>=2.4.0 in /Users/engs2510/.pyenv/versions/3.11.7/envs/pybop/lib/python3.11/site-packages (from ipython>=6.1.0->ipywidgets) (2.17.2)\n",
      "Requirement already satisfied: stack-data in /Users/engs2510/.pyenv/versions/3.11.7/envs/pybop/lib/python3.11/site-packages (from ipython>=6.1.0->ipywidgets) (0.6.3)\n",
      "Requirement already satisfied: pexpect>4.3 in /Users/engs2510/.pyenv/versions/3.11.7/envs/pybop/lib/python3.11/site-packages (from ipython>=6.1.0->ipywidgets) (4.9.0)\n",
      "Requirement already satisfied: parso<0.9.0,>=0.8.3 in /Users/engs2510/.pyenv/versions/3.11.7/envs/pybop/lib/python3.11/site-packages (from jedi>=0.16->ipython>=6.1.0->ipywidgets) (0.8.3)\n",
      "Requirement already satisfied: ptyprocess>=0.5 in /Users/engs2510/.pyenv/versions/3.11.7/envs/pybop/lib/python3.11/site-packages (from pexpect>4.3->ipython>=6.1.0->ipywidgets) (0.7.0)\n",
      "Requirement already satisfied: wcwidth in /Users/engs2510/.pyenv/versions/3.11.7/envs/pybop/lib/python3.11/site-packages (from prompt-toolkit<3.1.0,>=3.0.41->ipython>=6.1.0->ipywidgets) (0.2.13)\n",
      "Requirement already satisfied: executing>=1.2.0 in /Users/engs2510/.pyenv/versions/3.11.7/envs/pybop/lib/python3.11/site-packages (from stack-data->ipython>=6.1.0->ipywidgets) (2.0.1)\n",
      "Requirement already satisfied: asttokens>=2.1.0 in /Users/engs2510/.pyenv/versions/3.11.7/envs/pybop/lib/python3.11/site-packages (from stack-data->ipython>=6.1.0->ipywidgets) (2.4.1)\n",
      "Requirement already satisfied: pure-eval in /Users/engs2510/.pyenv/versions/3.11.7/envs/pybop/lib/python3.11/site-packages (from stack-data->ipython>=6.1.0->ipywidgets) (0.2.2)\n",
      "Requirement already satisfied: six>=1.12.0 in /Users/engs2510/.pyenv/versions/3.11.7/envs/pybop/lib/python3.11/site-packages (from asttokens>=2.1.0->stack-data->ipython>=6.1.0->ipywidgets) (1.16.0)\n",
      "Note: you may need to restart the kernel to use updated packages.\n",
      "zsh:1: no matches found: pybop[plot]\n",
      "Note: you may need to restart the kernel to use updated packages.\n",
      "Note: you may need to restart the kernel to use updated packages.\n"
     ]
    }
   ],
   "source": [
    "%pip install --upgrade pip ipywidgets\n",
    "%pip install pybop[plot] -q\n",
    "%pip install pandas -q"
   ]
  },
  {
   "cell_type": "markdown",
   "id": "90efc3d3-bf00-423d-ba81-246e4763b499",
   "metadata": {},
   "source": [
    "### Importing Libraries\n",
    "\n",
    "With the environment set up, we can now import PyBOP alongside other libraries we will need:"
   ]
  },
  {
   "cell_type": "code",
   "execution_count": 2,
   "id": "d6afb8f9-3872-4a7e-a76d-0b50855fe089",
   "metadata": {},
   "outputs": [],
   "source": [
    "import pandas as pd\n",
    "import plotly.graph_objects as go\n",
    "import pybamm\n",
    "from scipy.io import loadmat\n",
    "\n",
    "import pybop"
   ]
  },
  {
   "cell_type": "markdown",
   "id": "a976f817-f0b3-421e-8cd3-a49be9128068",
   "metadata": {},
   "source": [
    "### Importing Data\n",
    "\n",
    "The data is imported as a dictionary with the following key level:\n",
    "- [\"LGM50_5Ah_Pulse\"]\n",
    "    - Temperature-> [\"T0\"]\n",
    "        - State of Charge ->[\"SoC3\"]\n",
    "            - Cell number -> [\"Cell1\"]\n",
    "                - Corresponding data -> [\"data\"]\n",
    "\n",
    "Using SciPy's `loadmat`, we import the data from the MAT containers:"
   ]
  },
  {
   "cell_type": "code",
   "execution_count": 3,
   "id": "705e7986",
   "metadata": {},
   "outputs": [],
   "source": [
    "ocp = loadmat(\"data/LGM50_5Ah_OCV.mat\", simplify_cells=True, mat_dtype=False)\n",
    "pulse_data = loadmat(\"data/LGM50_5Ah_Pulse.mat\", simplify_cells=True, mat_dtype=False)\n",
    "rate_data = loadmat(\"data/LGM50_5Ah_RateTest.mat\", simplify_cells=True, mat_dtype=False)"
   ]
  },
  {
   "cell_type": "markdown",
   "id": "609b0fc7",
   "metadata": {},
   "source": [
    "# Convert to Dataframes\n",
    "\n",
    "Next, we construct a dataframe from a selected pulse. In this case, we select the data for zero degrees (`T0`) with a state-of-charge of 90% (`SoC9`) and the 19th cell (`Cell19`). This can be extended to multiple pulses, or a different selection.\n",
    "\n",
    "Additionally, we apply two filters to the dataframe to ensure the data contains only monotonically increasing time samples without duplicates."
   ]
  },
  {
   "cell_type": "code",
   "execution_count": 4,
   "id": "cc48c662",
   "metadata": {},
   "outputs": [],
   "source": [
    "df = pd.DataFrame(pulse_data[\"LGM50_5Ah_Pulse\"][\"T0\"][\"SoC9\"][\"Cell19\"][\"data\"])\n",
    "df[\"ProgTime\"] = df[\"ProgTime\"] - df[\"ProgTime\"].min()\n",
    "df.drop_duplicates(subset=[\"ProgTime\"], inplace=True)"
   ]
  },
  {
   "cell_type": "markdown",
   "id": "34aeb1d2",
   "metadata": {},
   "source": [
    "A plot of time vs voltage confirms the data looks correct for fitting. In this situation, we would prefer to have additional samples from the relaxation, but as we will show below, PyBOP is still able to identify parameter values that fit this system."
   ]
  },
  {
   "cell_type": "code",
   "execution_count": 5,
   "id": "c4189ca7",
   "metadata": {},
   "outputs": [
    {
     "data": {
      "application/vnd.plotly.v1+json": {
       "config": {
        "plotlyServerURL": "https://plot.ly"
       },
       "data": [
        {
         "type": "scatter",
         "x": [
          0,
          0.01800000004004687,
          0.12100000004284084,
          0.25100000004749745,
          0.34300000010989606,
          0.4190000001108274,
          0.5600000000558794,
          0.6170000000856817,
          0.7250000000931323,
          0.8570000000763685,
          0.9250000000465661,
          1.0330000000540167,
          1.1739999999990687,
          1.2300000000977889,
          1.343000000109896,
          1.4170000000158325,
          1.5370000000111759,
          1.6480000000447035,
          1.7160000000149012,
          1.8209999999962747,
          1.922000000020489,
          2.0010000000474975,
          2.1510000000707805,
          2.2290000000502914,
          2.4300000000512227,
          2.4980000000214204,
          2.534000000101514,
          2.7020000000484288,
          2.7989999999990687,
          2.8380000001052395,
          3.002000000094995,
          3.103000000002794,
          3.1440000000875443,
          3.2660000000614673,
          3.3570000000763685,
          3.4860000000335276,
          3.525000000023283,
          3.7220000000670552,
          3.762000000104308,
          3.8320000000530854,
          4.0230000000447035,
          4.069000000017695,
          4.14000000001397,
          4.282000000006519,
          4.3600000001024455,
          4.44800000009127,
          4.5070000000996515,
          4.633000000030734,
          4.726000000024214,
          4.94800000009127,
          4.990000000107102,
          5.033000000054017,
          5.134000000078231,
          5.24800000002142,
          5.339000000036322,
          5.474000000045635,
          5.57300000009127,
          5.614000000059605,
          5.7570000000996515,
          5.875,
          5.926000000094064,
          6.0670000000391155,
          6.182000000029802,
          6.2350000001024455,
          6.341000000014901,
          6.512000000104308,
          6.579000000027008,
          6.618000000016764,
          6.7730000000447035,
          6.856000000028871,
          6.927000000025146,
          7.066000000108033,
          7.1510000000707805,
          7.238000000012107,
          7.3080000000773,
          7.4610000000102445,
          7.546000000089407,
          7.753000000026077,
          7.815000000060536,
          7.853000000002794,
          7.923999999999069,
          8.051000000094064,
          8.160000000032596,
          8.23300000000745,
          8.318000000086613,
          8.427000000025146,
          8.53900000010617,
          8.660000000032596,
          8.747000000090338,
          8.852000000071712,
          8.989000000059605,
          9.078000000095926,
          9.127000000094995,
          9.274000000092201,
          9.361000000033528,
          9.434000000008382,
          9.524000000092201,
          9.63600000005681,
          9.754000000073574,
          9.83800000010524,
          9.949000000022352,
          10.016000000061467,
          10.065000000060536,
          10.085000000079162,
          11.104000000050291,
          12.092000000062399,
          13.12100000004284,
          14.091000000014901,
          15.08800000010524,
          16.113000000012107,
          17.14000000001397,
          18.087000000057742,
          19.101000000024214,
          20.10800000000745
         ],
         "y": [
          4.08078,
          3.96745,
          3.96156,
          3.96156,
          3.95955,
          3.959,
          3.95889,
          3.95855,
          3.95755,
          3.95755,
          3.95722,
          3.95644,
          3.95644,
          3.95611,
          3.95533,
          3.95511,
          3.95511,
          3.95433,
          3.95422,
          3.95422,
          3.95355,
          3.95333,
          3.95322,
          3.95266,
          3.95255,
          3.95221,
          3.95188,
          3.95166,
          3.95166,
          3.95121,
          3.95099,
          3.95088,
          3.95055,
          3.95032,
          3.9501,
          3.94999,
          3.94977,
          3.94955,
          3.94932,
          3.9491,
          3.94888,
          3.94866,
          3.94843,
          3.94832,
          3.9481,
          3.94788,
          3.94777,
          3.94766,
          3.94743,
          3.9471,
          3.94699,
          3.94677,
          3.94665,
          3.94665,
          3.94621,
          3.9461,
          3.9461,
          3.94588,
          3.94565,
          3.94554,
          3.94532,
          3.94521,
          3.9451,
          3.94488,
          3.94476,
          3.94454,
          3.94443,
          3.94421,
          3.9441,
          3.94399,
          3.94376,
          3.94365,
          3.94354,
          3.94332,
          3.94321,
          3.94321,
          3.94287,
          3.94276,
          3.94265,
          3.94243,
          3.94232,
          3.94221,
          3.9421,
          3.94187,
          3.94176,
          3.94176,
          3.94154,
          3.94143,
          3.94132,
          3.9411,
          3.94098,
          3.94087,
          3.94076,
          3.94054,
          3.94054,
          3.94043,
          3.94021,
          3.94021,
          3.93998,
          3.93987,
          3.93987,
          3.93976,
          3.93954,
          3.93943,
          4.06199,
          4.06411,
          4.06544,
          4.06644,
          4.06744,
          4.06822,
          4.06878,
          4.06922,
          4.06978,
          4.07011
         ]
        }
       ],
       "layout": {
        "template": {
         "data": {
          "bar": [
           {
            "error_x": {
             "color": "#2a3f5f"
            },
            "error_y": {
             "color": "#2a3f5f"
            },
            "marker": {
             "line": {
              "color": "#E5ECF6",
              "width": 0.5
             },
             "pattern": {
              "fillmode": "overlay",
              "size": 10,
              "solidity": 0.2
             }
            },
            "type": "bar"
           }
          ],
          "barpolar": [
           {
            "marker": {
             "line": {
              "color": "#E5ECF6",
              "width": 0.5
             },
             "pattern": {
              "fillmode": "overlay",
              "size": 10,
              "solidity": 0.2
             }
            },
            "type": "barpolar"
           }
          ],
          "carpet": [
           {
            "aaxis": {
             "endlinecolor": "#2a3f5f",
             "gridcolor": "white",
             "linecolor": "white",
             "minorgridcolor": "white",
             "startlinecolor": "#2a3f5f"
            },
            "baxis": {
             "endlinecolor": "#2a3f5f",
             "gridcolor": "white",
             "linecolor": "white",
             "minorgridcolor": "white",
             "startlinecolor": "#2a3f5f"
            },
            "type": "carpet"
           }
          ],
          "choropleth": [
           {
            "colorbar": {
             "outlinewidth": 0,
             "ticks": ""
            },
            "type": "choropleth"
           }
          ],
          "contour": [
           {
            "colorbar": {
             "outlinewidth": 0,
             "ticks": ""
            },
            "colorscale": [
             [
              0,
              "#0d0887"
             ],
             [
              0.1111111111111111,
              "#46039f"
             ],
             [
              0.2222222222222222,
              "#7201a8"
             ],
             [
              0.3333333333333333,
              "#9c179e"
             ],
             [
              0.4444444444444444,
              "#bd3786"
             ],
             [
              0.5555555555555556,
              "#d8576b"
             ],
             [
              0.6666666666666666,
              "#ed7953"
             ],
             [
              0.7777777777777778,
              "#fb9f3a"
             ],
             [
              0.8888888888888888,
              "#fdca26"
             ],
             [
              1,
              "#f0f921"
             ]
            ],
            "type": "contour"
           }
          ],
          "contourcarpet": [
           {
            "colorbar": {
             "outlinewidth": 0,
             "ticks": ""
            },
            "type": "contourcarpet"
           }
          ],
          "heatmap": [
           {
            "colorbar": {
             "outlinewidth": 0,
             "ticks": ""
            },
            "colorscale": [
             [
              0,
              "#0d0887"
             ],
             [
              0.1111111111111111,
              "#46039f"
             ],
             [
              0.2222222222222222,
              "#7201a8"
             ],
             [
              0.3333333333333333,
              "#9c179e"
             ],
             [
              0.4444444444444444,
              "#bd3786"
             ],
             [
              0.5555555555555556,
              "#d8576b"
             ],
             [
              0.6666666666666666,
              "#ed7953"
             ],
             [
              0.7777777777777778,
              "#fb9f3a"
             ],
             [
              0.8888888888888888,
              "#fdca26"
             ],
             [
              1,
              "#f0f921"
             ]
            ],
            "type": "heatmap"
           }
          ],
          "heatmapgl": [
           {
            "colorbar": {
             "outlinewidth": 0,
             "ticks": ""
            },
            "colorscale": [
             [
              0,
              "#0d0887"
             ],
             [
              0.1111111111111111,
              "#46039f"
             ],
             [
              0.2222222222222222,
              "#7201a8"
             ],
             [
              0.3333333333333333,
              "#9c179e"
             ],
             [
              0.4444444444444444,
              "#bd3786"
             ],
             [
              0.5555555555555556,
              "#d8576b"
             ],
             [
              0.6666666666666666,
              "#ed7953"
             ],
             [
              0.7777777777777778,
              "#fb9f3a"
             ],
             [
              0.8888888888888888,
              "#fdca26"
             ],
             [
              1,
              "#f0f921"
             ]
            ],
            "type": "heatmapgl"
           }
          ],
          "histogram": [
           {
            "marker": {
             "pattern": {
              "fillmode": "overlay",
              "size": 10,
              "solidity": 0.2
             }
            },
            "type": "histogram"
           }
          ],
          "histogram2d": [
           {
            "colorbar": {
             "outlinewidth": 0,
             "ticks": ""
            },
            "colorscale": [
             [
              0,
              "#0d0887"
             ],
             [
              0.1111111111111111,
              "#46039f"
             ],
             [
              0.2222222222222222,
              "#7201a8"
             ],
             [
              0.3333333333333333,
              "#9c179e"
             ],
             [
              0.4444444444444444,
              "#bd3786"
             ],
             [
              0.5555555555555556,
              "#d8576b"
             ],
             [
              0.6666666666666666,
              "#ed7953"
             ],
             [
              0.7777777777777778,
              "#fb9f3a"
             ],
             [
              0.8888888888888888,
              "#fdca26"
             ],
             [
              1,
              "#f0f921"
             ]
            ],
            "type": "histogram2d"
           }
          ],
          "histogram2dcontour": [
           {
            "colorbar": {
             "outlinewidth": 0,
             "ticks": ""
            },
            "colorscale": [
             [
              0,
              "#0d0887"
             ],
             [
              0.1111111111111111,
              "#46039f"
             ],
             [
              0.2222222222222222,
              "#7201a8"
             ],
             [
              0.3333333333333333,
              "#9c179e"
             ],
             [
              0.4444444444444444,
              "#bd3786"
             ],
             [
              0.5555555555555556,
              "#d8576b"
             ],
             [
              0.6666666666666666,
              "#ed7953"
             ],
             [
              0.7777777777777778,
              "#fb9f3a"
             ],
             [
              0.8888888888888888,
              "#fdca26"
             ],
             [
              1,
              "#f0f921"
             ]
            ],
            "type": "histogram2dcontour"
           }
          ],
          "mesh3d": [
           {
            "colorbar": {
             "outlinewidth": 0,
             "ticks": ""
            },
            "type": "mesh3d"
           }
          ],
          "parcoords": [
           {
            "line": {
             "colorbar": {
              "outlinewidth": 0,
              "ticks": ""
             }
            },
            "type": "parcoords"
           }
          ],
          "pie": [
           {
            "automargin": true,
            "type": "pie"
           }
          ],
          "scatter": [
           {
            "fillpattern": {
             "fillmode": "overlay",
             "size": 10,
             "solidity": 0.2
            },
            "type": "scatter"
           }
          ],
          "scatter3d": [
           {
            "line": {
             "colorbar": {
              "outlinewidth": 0,
              "ticks": ""
             }
            },
            "marker": {
             "colorbar": {
              "outlinewidth": 0,
              "ticks": ""
             }
            },
            "type": "scatter3d"
           }
          ],
          "scattercarpet": [
           {
            "marker": {
             "colorbar": {
              "outlinewidth": 0,
              "ticks": ""
             }
            },
            "type": "scattercarpet"
           }
          ],
          "scattergeo": [
           {
            "marker": {
             "colorbar": {
              "outlinewidth": 0,
              "ticks": ""
             }
            },
            "type": "scattergeo"
           }
          ],
          "scattergl": [
           {
            "marker": {
             "colorbar": {
              "outlinewidth": 0,
              "ticks": ""
             }
            },
            "type": "scattergl"
           }
          ],
          "scattermapbox": [
           {
            "marker": {
             "colorbar": {
              "outlinewidth": 0,
              "ticks": ""
             }
            },
            "type": "scattermapbox"
           }
          ],
          "scatterpolar": [
           {
            "marker": {
             "colorbar": {
              "outlinewidth": 0,
              "ticks": ""
             }
            },
            "type": "scatterpolar"
           }
          ],
          "scatterpolargl": [
           {
            "marker": {
             "colorbar": {
              "outlinewidth": 0,
              "ticks": ""
             }
            },
            "type": "scatterpolargl"
           }
          ],
          "scatterternary": [
           {
            "marker": {
             "colorbar": {
              "outlinewidth": 0,
              "ticks": ""
             }
            },
            "type": "scatterternary"
           }
          ],
          "surface": [
           {
            "colorbar": {
             "outlinewidth": 0,
             "ticks": ""
            },
            "colorscale": [
             [
              0,
              "#0d0887"
             ],
             [
              0.1111111111111111,
              "#46039f"
             ],
             [
              0.2222222222222222,
              "#7201a8"
             ],
             [
              0.3333333333333333,
              "#9c179e"
             ],
             [
              0.4444444444444444,
              "#bd3786"
             ],
             [
              0.5555555555555556,
              "#d8576b"
             ],
             [
              0.6666666666666666,
              "#ed7953"
             ],
             [
              0.7777777777777778,
              "#fb9f3a"
             ],
             [
              0.8888888888888888,
              "#fdca26"
             ],
             [
              1,
              "#f0f921"
             ]
            ],
            "type": "surface"
           }
          ],
          "table": [
           {
            "cells": {
             "fill": {
              "color": "#EBF0F8"
             },
             "line": {
              "color": "white"
             }
            },
            "header": {
             "fill": {
              "color": "#C8D4E3"
             },
             "line": {
              "color": "white"
             }
            },
            "type": "table"
           }
          ]
         },
         "layout": {
          "annotationdefaults": {
           "arrowcolor": "#2a3f5f",
           "arrowhead": 0,
           "arrowwidth": 1
          },
          "autotypenumbers": "strict",
          "coloraxis": {
           "colorbar": {
            "outlinewidth": 0,
            "ticks": ""
           }
          },
          "colorscale": {
           "diverging": [
            [
             0,
             "#8e0152"
            ],
            [
             0.1,
             "#c51b7d"
            ],
            [
             0.2,
             "#de77ae"
            ],
            [
             0.3,
             "#f1b6da"
            ],
            [
             0.4,
             "#fde0ef"
            ],
            [
             0.5,
             "#f7f7f7"
            ],
            [
             0.6,
             "#e6f5d0"
            ],
            [
             0.7,
             "#b8e186"
            ],
            [
             0.8,
             "#7fbc41"
            ],
            [
             0.9,
             "#4d9221"
            ],
            [
             1,
             "#276419"
            ]
           ],
           "sequential": [
            [
             0,
             "#0d0887"
            ],
            [
             0.1111111111111111,
             "#46039f"
            ],
            [
             0.2222222222222222,
             "#7201a8"
            ],
            [
             0.3333333333333333,
             "#9c179e"
            ],
            [
             0.4444444444444444,
             "#bd3786"
            ],
            [
             0.5555555555555556,
             "#d8576b"
            ],
            [
             0.6666666666666666,
             "#ed7953"
            ],
            [
             0.7777777777777778,
             "#fb9f3a"
            ],
            [
             0.8888888888888888,
             "#fdca26"
            ],
            [
             1,
             "#f0f921"
            ]
           ],
           "sequentialminus": [
            [
             0,
             "#0d0887"
            ],
            [
             0.1111111111111111,
             "#46039f"
            ],
            [
             0.2222222222222222,
             "#7201a8"
            ],
            [
             0.3333333333333333,
             "#9c179e"
            ],
            [
             0.4444444444444444,
             "#bd3786"
            ],
            [
             0.5555555555555556,
             "#d8576b"
            ],
            [
             0.6666666666666666,
             "#ed7953"
            ],
            [
             0.7777777777777778,
             "#fb9f3a"
            ],
            [
             0.8888888888888888,
             "#fdca26"
            ],
            [
             1,
             "#f0f921"
            ]
           ]
          },
          "colorway": [
           "#636efa",
           "#EF553B",
           "#00cc96",
           "#ab63fa",
           "#FFA15A",
           "#19d3f3",
           "#FF6692",
           "#B6E880",
           "#FF97FF",
           "#FECB52"
          ],
          "font": {
           "color": "#2a3f5f"
          },
          "geo": {
           "bgcolor": "white",
           "lakecolor": "white",
           "landcolor": "#E5ECF6",
           "showlakes": true,
           "showland": true,
           "subunitcolor": "white"
          },
          "hoverlabel": {
           "align": "left"
          },
          "hovermode": "closest",
          "mapbox": {
           "style": "light"
          },
          "paper_bgcolor": "white",
          "plot_bgcolor": "#E5ECF6",
          "polar": {
           "angularaxis": {
            "gridcolor": "white",
            "linecolor": "white",
            "ticks": ""
           },
           "bgcolor": "#E5ECF6",
           "radialaxis": {
            "gridcolor": "white",
            "linecolor": "white",
            "ticks": ""
           }
          },
          "scene": {
           "xaxis": {
            "backgroundcolor": "#E5ECF6",
            "gridcolor": "white",
            "gridwidth": 2,
            "linecolor": "white",
            "showbackground": true,
            "ticks": "",
            "zerolinecolor": "white"
           },
           "yaxis": {
            "backgroundcolor": "#E5ECF6",
            "gridcolor": "white",
            "gridwidth": 2,
            "linecolor": "white",
            "showbackground": true,
            "ticks": "",
            "zerolinecolor": "white"
           },
           "zaxis": {
            "backgroundcolor": "#E5ECF6",
            "gridcolor": "white",
            "gridwidth": 2,
            "linecolor": "white",
            "showbackground": true,
            "ticks": "",
            "zerolinecolor": "white"
           }
          },
          "shapedefaults": {
           "line": {
            "color": "#2a3f5f"
           }
          },
          "ternary": {
           "aaxis": {
            "gridcolor": "white",
            "linecolor": "white",
            "ticks": ""
           },
           "baxis": {
            "gridcolor": "white",
            "linecolor": "white",
            "ticks": ""
           },
           "bgcolor": "#E5ECF6",
           "caxis": {
            "gridcolor": "white",
            "linecolor": "white",
            "ticks": ""
           }
          },
          "title": {
           "x": 0.05
          },
          "xaxis": {
           "automargin": true,
           "gridcolor": "white",
           "linecolor": "white",
           "ticks": "",
           "title": {
            "standoff": 15
           },
           "zerolinecolor": "white",
           "zerolinewidth": 2
          },
          "yaxis": {
           "automargin": true,
           "gridcolor": "white",
           "linecolor": "white",
           "ticks": "",
           "title": {
            "standoff": 15
           },
           "zerolinecolor": "white",
           "zerolinewidth": 2
          }
         }
        }
       }
      }
     },
     "metadata": {},
     "output_type": "display_data"
    }
   ],
   "source": [
    "go.Figure(\n",
    "    data=go.Scatter(\n",
    "        x=df[\"ProgTime\"],\n",
    "        y=df[\"Voltage\"],\n",
    "    )\n",
    ")"
   ]
  },
  {
   "cell_type": "markdown",
   "id": "e2d000fd",
   "metadata": {},
   "source": [
    "Next, we construct the OCV function from the imported `OCV` data. This is completed with a wrapper method on the `pybamm.Interpolant` function,"
   ]
  },
  {
   "cell_type": "code",
   "execution_count": 6,
   "id": "4c9514d0",
   "metadata": {},
   "outputs": [],
   "source": [
    "def ocv_LGM50(sto):\n",
    "    name = \"OCV\"\n",
    "    x = (ocp[\"LGM50_5Ah_OCV\"][\"T25\"][\"refSoC\"].reshape(-1) / 100,)\n",
    "    y = ocp[\"LGM50_5Ah_OCV\"][\"T25\"][\"meanOCV\"].reshape(-1)\n",
    "    return pybamm.Interpolant(x, y, sto, name)"
   ]
  },
  {
   "cell_type": "markdown",
   "id": "be2d2cbe",
   "metadata": {},
   "source": [
    "We can construct the two RC parameter set with initial values as listed. Note, the initial SOC is shifted slightly to better match the zero degree data."
   ]
  },
  {
   "cell_type": "code",
   "execution_count": 7,
   "id": "8d4a0635-51da-4998-8b48-deda13a49e39",
   "metadata": {},
   "outputs": [],
   "source": [
    "params = pybop.ParameterSet(\n",
    "    params_dict={\n",
    "        \"chemistry\": \"ecm\",\n",
    "        \"Initial SoC\": 0.9 - 0.01,\n",
    "        \"Initial temperature [K]\": 25 + 273.15,\n",
    "        \"Cell capacity [A.h]\": 5,\n",
    "        \"Nominal cell capacity [A.h]\": 5,\n",
    "        \"Ambient temperature [K]\": 25 + 273.15,\n",
    "        \"Current function [A]\": 4.85,\n",
    "        \"Upper voltage cut-off [V]\": 4.2,\n",
    "        \"Lower voltage cut-off [V]\": 3.0,\n",
    "        \"Cell thermal mass [J/K]\": 1000,\n",
    "        \"Cell-jig heat transfer coefficient [W/K]\": 10,\n",
    "        \"Jig thermal mass [J/K]\": 500,\n",
    "        \"Jig-air heat transfer coefficient [W/K]\": 10,\n",
    "        \"Open-circuit voltage [V]\": ocv_LGM50,\n",
    "        \"R0 [Ohm]\": 0.005,\n",
    "        \"Element-1 initial overpotential [V]\": 0,\n",
    "        \"Element-2 initial overpotential [V]\": 0,\n",
    "        \"R1 [Ohm]\": 0.0001,\n",
    "        \"R2 [Ohm]\": 0.0001,\n",
    "        \"C1 [F]\": 3000,\n",
    "        \"C2 [F]\": 6924,\n",
    "        \"Entropic change [V/K]\": 0.0004,\n",
    "    }\n",
    ")"
   ]
  },
  {
   "cell_type": "markdown",
   "id": "017695fd-ee78-4113-af18-2fea04cf6126",
   "metadata": {},
   "source": [
    "Now that the initial parameter set is defined, we can start the PyBOP fitting process. First, we construct the model class with two RC elements and the corresponding parameter set."
   ]
  },
  {
   "cell_type": "code",
   "execution_count": 8,
   "id": "e84b6dd0-8f9e-4b68-b7cb-f3bcb9988802",
   "metadata": {},
   "outputs": [],
   "source": [
    "model = pybop.empirical.Thevenin(\n",
    "    parameter_set=params, options={\"number of rc elements\": 2}\n",
    ")"
   ]
  },
  {
   "cell_type": "markdown",
   "id": "bf63b4f9-de38-4e70-9472-1de4973a0954",
   "metadata": {},
   "source": [
    "In this example, we are going to try to fit all five parameters at once. To do this, we define a `pybop.parameter` for each fitting parameter as,"
   ]
  },
  {
   "cell_type": "code",
   "execution_count": 9,
   "id": "e75da7e3-8815-4159-a5ad-600a235b028c",
   "metadata": {},
   "outputs": [],
   "source": [
    "parameters = [\n",
    "    pybop.Parameter(\n",
    "        \"R0 [Ohm]\",\n",
    "        prior=pybop.Gaussian(0.005, 0.0001),\n",
    "        bounds=[1e-6, 2e-1],\n",
    "    ),\n",
    "    pybop.Parameter(\n",
    "        \"R1 [Ohm]\",\n",
    "        prior=pybop.Gaussian(0.0001, 0.0001),\n",
    "        bounds=[1e-6, 1],\n",
    "    ),\n",
    "    pybop.Parameter(\n",
    "        \"R2 [Ohm]\",\n",
    "        prior=pybop.Gaussian(0.0001, 0.0001),\n",
    "        bounds=[1e-6, 1],\n",
    "    ),\n",
    "    pybop.Parameter(\n",
    "        \"C1 [F]\",\n",
    "        prior=pybop.Gaussian(3000, 2500),\n",
    "        bounds=[0.5, 1e4],\n",
    "    ),\n",
    "    pybop.Parameter(\n",
    "        \"C2 [F]\",\n",
    "        prior=pybop.Gaussian(3000, 2500),\n",
    "        bounds=[0.5, 1e4],\n",
    "    ),\n",
    "]"
   ]
  },
  {
   "cell_type": "markdown",
   "id": "3ab5afb4-5007-4cef-9802-c25dc077e466",
   "metadata": {},
   "source": [
    "We can now form the `pybop.Dataset` from the experimental data. In this situation, the applied current convention is different between the experimental data and PyBOP's convention. This is solved by negating the vector on construction."
   ]
  },
  {
   "cell_type": "code",
   "execution_count": 10,
   "id": "c346b106-99a9-46bc-8b5d-d330ed911660",
   "metadata": {},
   "outputs": [],
   "source": [
    "dataset = pybop.Dataset(\n",
    "    {\n",
    "        \"Time [s]\": df[\"ProgTime\"].values,\n",
    "        \"Current function [A]\": -df[\"Current\"].values,\n",
    "        \"Voltage [V]\": df[\"Voltage\"].values,\n",
    "    }\n",
    ")"
   ]
  },
  {
   "cell_type": "markdown",
   "id": "8ce6c438-a402-4b1b-ad8a-598ceee74f2f",
   "metadata": {},
   "source": [
    "The `FittingProblem` class provides us with a class to holds all of the objects we need to evaluate our selected `SumSquaredError` cost function. "
   ]
  },
  {
   "cell_type": "code",
   "execution_count": 11,
   "id": "62369a4d-96e5-49d2-8951-4468b3fc5831",
   "metadata": {},
   "outputs": [],
   "source": [
    "problem = pybop.FittingProblem(model, parameters, dataset)\n",
    "cost = pybop.SumSquaredError(problem)"
   ]
  },
  {
   "cell_type": "markdown",
   "id": "ab62ee34-85ee-4b5a-ab25-3bd7dd47f312",
   "metadata": {},
   "source": [
    "The cost function can be interrogated manually via the `cost([params])` API. In this example, that would look like the following,"
   ]
  },
  {
   "cell_type": "code",
   "execution_count": 12,
   "id": "f69b34f5-0b46-4646-acbe-991046997b98",
   "metadata": {},
   "outputs": [
    {
     "data": {
      "text/plain": [
       "1.176754404015497"
      ]
     },
     "execution_count": 12,
     "metadata": {},
     "output_type": "execute_result"
    }
   ],
   "source": [
    "cost([0.01, 0.01, 0.01, 20000, 20000])"
   ]
  },
  {
   "cell_type": "markdown",
   "id": "b3bf0a04",
   "metadata": {},
   "source": [
    "## Parameter Identification"
   ]
  },
  {
   "cell_type": "markdown",
   "id": "3ef5b0da-f755-43c6-8904-79d7ee0f218c",
   "metadata": {},
   "source": [
    "Next, we construct the optimisation class with our algorithm of choice and run it. In this case, we select the PSO method as it provides global optimisation capability. After optimisation, we can compare the initial parameters to the identified parameters."
   ]
  },
  {
   "cell_type": "code",
   "execution_count": 13,
   "id": "6244882e-11ad-4bfe-a512-f1c687a06a08",
   "metadata": {},
   "outputs": [
    {
     "name": "stdout",
     "output_type": "stream",
     "text": [
      "Initial parameters: [5.10349443e-03 1.18997711e-04 1.00999900e-04 1.35636122e+03\n",
      " 4.49058237e+03]\n",
      "Estimated parameters: [1.10641425e-06 1.54364316e-02 4.88718550e-02 9.34901630e+02\n",
      " 6.02790580e-01]\n"
     ]
    }
   ],
   "source": [
    "optim = pybop.Optimisation(cost, optimiser=pybop.PSO)\n",
    "optim.set_max_unchanged_iterations(iterations=55, threshold=1e-6)\n",
    "x, final_cost = optim.run()\n",
    "print(\"Initial parameters:\", cost.x0)\n",
    "print(\"Estimated parameters:\", x)"
   ]
  },
  {
   "cell_type": "markdown",
   "id": "93ee37a3-67f6-4c6a-a05d-507700cfa9da",
   "metadata": {},
   "source": [
    "## Plotting and Visualisation\n",
    "\n",
    "PyBOP provides various plotting utilities to visualise the results of the optimisation. The `quick_plot` method provides a fast scatter of two variables. For this exmaple, we plot the identified parameter set to the target dataset. The default plot is voltage vs time as shown below."
   ]
  },
  {
   "cell_type": "code",
   "execution_count": 14,
   "id": "2cec5659-31fa-4164-82f0-4467a4894729",
   "metadata": {},
   "outputs": [
    {
     "data": {
      "image/svg+xml": [
       "<svg class=\"main-svg\" xmlns=\"http://www.w3.org/2000/svg\" xmlns:xlink=\"http://www.w3.org/1999/xlink\" width=\"700\" height=\"500\" style=\"\" viewBox=\"0 0 700 500\"><rect x=\"0\" y=\"0\" width=\"700\" height=\"500\" style=\"fill: rgb(255, 255, 255); fill-opacity: 1;\"/><defs id=\"defs-3da9e7\"><g class=\"clips\"><clipPath id=\"clip3da9e7xyplot\" class=\"plotclip\"><rect width=\"492\" height=\"320\"/></clipPath><clipPath class=\"axesclip\" id=\"clip3da9e7x\"><rect x=\"80\" y=\"0\" width=\"492\" height=\"500\"/></clipPath><clipPath class=\"axesclip\" id=\"clip3da9e7y\"><rect x=\"0\" y=\"100\" width=\"700\" height=\"320\"/></clipPath><clipPath class=\"axesclip\" id=\"clip3da9e7xy\"><rect x=\"80\" y=\"100\" width=\"492\" height=\"320\"/></clipPath></g><g class=\"gradients\"/><g class=\"patterns\"/></defs><g class=\"bglayer\"><rect class=\"bg\" x=\"80\" y=\"100\" width=\"492\" height=\"320\" style=\"fill: rgb(229, 236, 246); fill-opacity: 1; stroke-width: 0;\"/></g><g class=\"layer-below\"><g class=\"imagelayer\"/><g class=\"shapelayer\"/></g><g class=\"cartesianlayer\"><g class=\"subplot xy\"><g class=\"layer-subplot\"><g class=\"shapelayer\"/><g class=\"imagelayer\"/></g><g class=\"minor-gridlayer\"><g class=\"x\"/><g class=\"y\"/></g><g class=\"gridlayer\"><g class=\"x\"><path class=\"xgrid crisp\" transform=\"translate(216.59,0)\" d=\"M0,100v320\" style=\"stroke: rgb(255, 255, 255); stroke-opacity: 1; stroke-width: 1px;\"/><path class=\"xgrid crisp\" transform=\"translate(324.83000000000004,0)\" d=\"M0,100v320\" style=\"stroke: rgb(255, 255, 255); stroke-opacity: 1; stroke-width: 1px;\"/><path class=\"xgrid crisp\" transform=\"translate(433.07,0)\" d=\"M0,100v320\" style=\"stroke: rgb(255, 255, 255); stroke-opacity: 1; stroke-width: 1px;\"/><path class=\"xgrid crisp\" transform=\"translate(541.31,0)\" d=\"M0,100v320\" style=\"stroke: rgb(255, 255, 255); stroke-opacity: 1; stroke-width: 1px;\"/></g><g class=\"y\"><path class=\"ygrid crisp\" transform=\"translate(0,363.98)\" d=\"M80,0h492\" style=\"stroke: rgb(255, 255, 255); stroke-opacity: 1; stroke-width: 1px;\"/><path class=\"ygrid crisp\" transform=\"translate(0,276.59000000000003)\" d=\"M80,0h492\" style=\"stroke: rgb(255, 255, 255); stroke-opacity: 1; stroke-width: 1px;\"/><path class=\"ygrid crisp\" transform=\"translate(0,189.19)\" d=\"M80,0h492\" style=\"stroke: rgb(255, 255, 255); stroke-opacity: 1; stroke-width: 1px;\"/><path class=\"ygrid crisp\" transform=\"translate(0,101.8)\" d=\"M80,0h492\" style=\"stroke: rgb(255, 255, 255); stroke-opacity: 1; stroke-width: 1px;\"/></g></g><g class=\"zerolinelayer\"><path class=\"xzl zl crisp\" transform=\"translate(108.35,0)\" d=\"M0,100v320\" style=\"stroke: rgb(255, 255, 255); stroke-opacity: 1; stroke-width: 2px;\"/></g><path class=\"xlines-below\"/><path class=\"ylines-below\"/><g class=\"overlines-below\"/><g class=\"xaxislayer-below\"/><g class=\"yaxislayer-below\"/><g class=\"overaxes-below\"/><g class=\"plot\" transform=\"translate(80,100)\" clip-path=\"url(#clip3da9e7xyplot)\"><g class=\"scatterlayer mlayer\"><g class=\"trace scatter trace7f2412\" style=\"stroke-miterlimit: 2; opacity: 1;\"><g class=\"fills\"><g><path class=\"js-fill\" d=\"M28.35,16L28.74,16L30.97,170.39L33.78,229.46L35.78,230.68L48.37,233.49L50.71,233.98L104.66,244.24L108.92,244.98L163.33,253.62L165.62,253.95L219.98,261.18L222.94,261.54L246.24,264.29L246.67,205.79L268.73,48.44L290.12,46.36L354.98,40.86L377.17,39.23L463.65,33.86L463.65,73.57L377.17,78.94L354.98,80.57L268.73,88.15L246.67,245.5L246.24,304L245.18,303.87L155.53,292.18L152.98,291.79L95.52,282.33L93.34,281.94L40.47,271.51L37.42,270.84L33.78,269.17L30.97,210.11L28.35,55.71Z\" style=\"fill: rgb(255, 229, 204); fill-opacity: 0.8; stroke-width: 0;\"/></g></g><g class=\"errorbars\"/><g class=\"lines\"><path class=\"js-line\" d=\"M28.35,16L28.74,16L30.97,170.39L33.78,229.46L35.78,230.68L48.37,233.49L50.71,233.98L104.66,244.24L108.92,244.98L163.33,253.62L165.62,253.95L219.98,261.18L222.94,261.54L246.24,264.29L246.67,205.79L268.73,48.44L290.12,46.36L354.98,40.86L377.17,39.23L463.65,33.86L463.65,73.57L377.17,78.94L354.98,80.57L268.73,88.15L246.67,245.5L246.24,304L245.18,303.87L155.53,292.18L152.98,291.79L95.52,282.33L93.34,281.94L40.47,271.51L37.42,270.84L33.78,269.17L30.97,210.11L28.35,55.71\" style=\"vector-effect: none; fill: none; stroke: rgb(255, 255, 255); stroke-opacity: 0; stroke-width: 2px; opacity: 1;\"/></g><g class=\"points\"/><g class=\"text\"/></g><g class=\"trace scatter trace4e2285\" style=\"stroke-miterlimit: 2; opacity: 1;\"><g class=\"fills\"/><g class=\"errorbars\"/><g class=\"lines\"/><g class=\"points\"><path class=\"point\" transform=\"translate(28.35,35.39)\" d=\"M3,0A3,3 0 1,1 0,-3A3,3 0 0,1 3,0Z\" style=\"opacity: 1; stroke-width: 0px; fill: rgb(239, 85, 59); fill-opacity: 1;\"/><path class=\"point\" transform=\"translate(28.74,233.48)\" d=\"M3,0A3,3 0 1,1 0,-3A3,3 0 0,1 3,0Z\" style=\"opacity: 1; stroke-width: 0px; fill: rgb(239, 85, 59); fill-opacity: 1;\"/><path class=\"point\" transform=\"translate(30.97,243.77)\" d=\"M3,0A3,3 0 1,1 0,-3A3,3 0 0,1 3,0Z\" style=\"opacity: 1; stroke-width: 0px; fill: rgb(239, 85, 59); fill-opacity: 1;\"/><path class=\"point\" transform=\"translate(33.78,243.77)\" d=\"M3,0A3,3 0 1,1 0,-3A3,3 0 0,1 3,0Z\" style=\"opacity: 1; stroke-width: 0px; fill: rgb(239, 85, 59); fill-opacity: 1;\"/><path class=\"point\" transform=\"translate(35.78,247.29)\" d=\"M3,0A3,3 0 1,1 0,-3A3,3 0 0,1 3,0Z\" style=\"opacity: 1; stroke-width: 0px; fill: rgb(239, 85, 59); fill-opacity: 1;\"/><path class=\"point\" transform=\"translate(37.42,248.25)\" d=\"M3,0A3,3 0 1,1 0,-3A3,3 0 0,1 3,0Z\" style=\"opacity: 1; stroke-width: 0px; fill: rgb(239, 85, 59); fill-opacity: 1;\"/><path class=\"point\" transform=\"translate(40.47,248.44)\" d=\"M3,0A3,3 0 1,1 0,-3A3,3 0 0,1 3,0Z\" style=\"opacity: 1; stroke-width: 0px; fill: rgb(239, 85, 59); fill-opacity: 1;\"/><path class=\"point\" transform=\"translate(41.71,249.04)\" d=\"M3,0A3,3 0 1,1 0,-3A3,3 0 0,1 3,0Z\" style=\"opacity: 1; stroke-width: 0px; fill: rgb(239, 85, 59); fill-opacity: 1;\"/><path class=\"point\" transform=\"translate(44.04,250.78)\" d=\"M3,0A3,3 0 1,1 0,-3A3,3 0 0,1 3,0Z\" style=\"opacity: 1; stroke-width: 0px; fill: rgb(239, 85, 59); fill-opacity: 1;\"/><path class=\"point\" transform=\"translate(46.9,250.78)\" d=\"M3,0A3,3 0 1,1 0,-3A3,3 0 0,1 3,0Z\" style=\"opacity: 1; stroke-width: 0px; fill: rgb(239, 85, 59); fill-opacity: 1;\"/><path class=\"point\" transform=\"translate(48.37,251.36)\" d=\"M3,0A3,3 0 1,1 0,-3A3,3 0 0,1 3,0Z\" style=\"opacity: 1; stroke-width: 0px; fill: rgb(239, 85, 59); fill-opacity: 1;\"/><path class=\"point\" transform=\"translate(50.71,252.72)\" d=\"M3,0A3,3 0 1,1 0,-3A3,3 0 0,1 3,0Z\" style=\"opacity: 1; stroke-width: 0px; fill: rgb(239, 85, 59); fill-opacity: 1;\"/><path class=\"point\" transform=\"translate(53.76,252.72)\" d=\"M3,0A3,3 0 1,1 0,-3A3,3 0 0,1 3,0Z\" style=\"opacity: 1; stroke-width: 0px; fill: rgb(239, 85, 59); fill-opacity: 1;\"/><path class=\"point\" transform=\"translate(54.98,253.3)\" d=\"M3,0A3,3 0 1,1 0,-3A3,3 0 0,1 3,0Z\" style=\"opacity: 1; stroke-width: 0px; fill: rgb(239, 85, 59); fill-opacity: 1;\"/><path class=\"point\" transform=\"translate(57.42,254.66)\" d=\"M3,0A3,3 0 1,1 0,-3A3,3 0 0,1 3,0Z\" style=\"opacity: 1; stroke-width: 0px; fill: rgb(239, 85, 59); fill-opacity: 1;\"/><path class=\"point\" transform=\"translate(59.03,255.05)\" d=\"M3,0A3,3 0 1,1 0,-3A3,3 0 0,1 3,0Z\" style=\"opacity: 1; stroke-width: 0px; fill: rgb(239, 85, 59); fill-opacity: 1;\"/><path class=\"point\" transform=\"translate(61.62,255.05)\" d=\"M3,0A3,3 0 1,1 0,-3A3,3 0 0,1 3,0Z\" style=\"opacity: 1; stroke-width: 0px; fill: rgb(239, 85, 59); fill-opacity: 1;\"/><path class=\"point\" transform=\"translate(64.03,256.41)\" d=\"M3,0A3,3 0 1,1 0,-3A3,3 0 0,1 3,0Z\" style=\"opacity: 1; stroke-width: 0px; fill: rgb(239, 85, 59); fill-opacity: 1;\"/><path class=\"point\" transform=\"translate(65.5,256.6)\" d=\"M3,0A3,3 0 1,1 0,-3A3,3 0 0,1 3,0Z\" style=\"opacity: 1; stroke-width: 0px; fill: rgb(239, 85, 59); fill-opacity: 1;\"/><path class=\"point\" transform=\"translate(67.77,256.6)\" d=\"M3,0A3,3 0 1,1 0,-3A3,3 0 0,1 3,0Z\" style=\"opacity: 1; stroke-width: 0px; fill: rgb(239, 85, 59); fill-opacity: 1;\"/><path class=\"point\" transform=\"translate(69.96,257.78)\" d=\"M3,0A3,3 0 1,1 0,-3A3,3 0 0,1 3,0Z\" style=\"opacity: 1; stroke-width: 0px; fill: rgb(239, 85, 59); fill-opacity: 1;\"/><path class=\"point\" transform=\"translate(71.67,258.16)\" d=\"M3,0A3,3 0 1,1 0,-3A3,3 0 0,1 3,0Z\" style=\"opacity: 1; stroke-width: 0px; fill: rgb(239, 85, 59); fill-opacity: 1;\"/><path class=\"point\" transform=\"translate(74.92,258.35)\" d=\"M3,0A3,3 0 1,1 0,-3A3,3 0 0,1 3,0Z\" style=\"opacity: 1; stroke-width: 0px; fill: rgb(239, 85, 59); fill-opacity: 1;\"/><path class=\"point\" transform=\"translate(76.6,259.33)\" d=\"M3,0A3,3 0 1,1 0,-3A3,3 0 0,1 3,0Z\" style=\"opacity: 1; stroke-width: 0px; fill: rgb(239, 85, 59); fill-opacity: 1;\"/><path class=\"point\" transform=\"translate(80.95,259.52)\" d=\"M3,0A3,3 0 1,1 0,-3A3,3 0 0,1 3,0Z\" style=\"opacity: 1; stroke-width: 0px; fill: rgb(239, 85, 59); fill-opacity: 1;\"/><path class=\"point\" transform=\"translate(82.43,260.12)\" d=\"M3,0A3,3 0 1,1 0,-3A3,3 0 0,1 3,0Z\" style=\"opacity: 1; stroke-width: 0px; fill: rgb(239, 85, 59); fill-opacity: 1;\"/><path class=\"point\" transform=\"translate(83.21,260.69)\" d=\"M3,0A3,3 0 1,1 0,-3A3,3 0 0,1 3,0Z\" style=\"opacity: 1; stroke-width: 0px; fill: rgb(239, 85, 59); fill-opacity: 1;\"/><path class=\"point\" transform=\"translate(86.84,261.08)\" d=\"M3,0A3,3 0 1,1 0,-3A3,3 0 0,1 3,0Z\" style=\"opacity: 1; stroke-width: 0px; fill: rgb(239, 85, 59); fill-opacity: 1;\"/><path class=\"point\" transform=\"translate(88.94,261.08)\" d=\"M3,0A3,3 0 1,1 0,-3A3,3 0 0,1 3,0Z\" style=\"opacity: 1; stroke-width: 0px; fill: rgb(239, 85, 59); fill-opacity: 1;\"/><path class=\"point\" transform=\"translate(89.79,261.87)\" d=\"M3,0A3,3 0 1,1 0,-3A3,3 0 0,1 3,0Z\" style=\"opacity: 1; stroke-width: 0px; fill: rgb(239, 85, 59); fill-opacity: 1;\"/><path class=\"point\" transform=\"translate(93.34,262.25)\" d=\"M3,0A3,3 0 1,1 0,-3A3,3 0 0,1 3,0Z\" style=\"opacity: 1; stroke-width: 0px; fill: rgb(239, 85, 59); fill-opacity: 1;\"/><path class=\"point\" transform=\"translate(95.52,262.44)\" d=\"M3,0A3,3 0 1,1 0,-3A3,3 0 0,1 3,0Z\" style=\"opacity: 1; stroke-width: 0px; fill: rgb(239, 85, 59); fill-opacity: 1;\"/><path class=\"point\" transform=\"translate(96.41,263.02)\" d=\"M3,0A3,3 0 1,1 0,-3A3,3 0 0,1 3,0Z\" style=\"opacity: 1; stroke-width: 0px; fill: rgb(239, 85, 59); fill-opacity: 1;\"/><path class=\"point\" transform=\"translate(99.05,263.42)\" d=\"M3,0A3,3 0 1,1 0,-3A3,3 0 0,1 3,0Z\" style=\"opacity: 1; stroke-width: 0px; fill: rgb(239, 85, 59); fill-opacity: 1;\"/><path class=\"point\" transform=\"translate(101.02,263.81)\" d=\"M3,0A3,3 0 1,1 0,-3A3,3 0 0,1 3,0Z\" style=\"opacity: 1; stroke-width: 0px; fill: rgb(239, 85, 59); fill-opacity: 1;\"/><path class=\"point\" transform=\"translate(103.82,264)\" d=\"M3,0A3,3 0 1,1 0,-3A3,3 0 0,1 3,0Z\" style=\"opacity: 1; stroke-width: 0px; fill: rgb(239, 85, 59); fill-opacity: 1;\"/><path class=\"point\" transform=\"translate(104.66,264.38)\" d=\"M3,0A3,3 0 1,1 0,-3A3,3 0 0,1 3,0Z\" style=\"opacity: 1; stroke-width: 0px; fill: rgb(239, 85, 59); fill-opacity: 1;\"/><path class=\"point\" transform=\"translate(108.92,264.77)\" d=\"M3,0A3,3 0 1,1 0,-3A3,3 0 0,1 3,0Z\" style=\"opacity: 1; stroke-width: 0px; fill: rgb(239, 85, 59); fill-opacity: 1;\"/><path class=\"point\" transform=\"translate(109.79,265.17)\" d=\"M3,0A3,3 0 1,1 0,-3A3,3 0 0,1 3,0Z\" style=\"opacity: 1; stroke-width: 0px; fill: rgb(239, 85, 59); fill-opacity: 1;\"/><path class=\"point\" transform=\"translate(111.31,265.55)\" d=\"M3,0A3,3 0 1,1 0,-3A3,3 0 0,1 3,0Z\" style=\"opacity: 1; stroke-width: 0px; fill: rgb(239, 85, 59); fill-opacity: 1;\"/><path class=\"point\" transform=\"translate(115.44,265.94)\" d=\"M3,0A3,3 0 1,1 0,-3A3,3 0 0,1 3,0Z\" style=\"opacity: 1; stroke-width: 0px; fill: rgb(239, 85, 59); fill-opacity: 1;\"/><path class=\"point\" transform=\"translate(116.44,266.32)\" d=\"M3,0A3,3 0 1,1 0,-3A3,3 0 0,1 3,0Z\" style=\"opacity: 1; stroke-width: 0px; fill: rgb(239, 85, 59); fill-opacity: 1;\"/><path class=\"point\" transform=\"translate(117.97,266.72)\" d=\"M3,0A3,3 0 1,1 0,-3A3,3 0 0,1 3,0Z\" style=\"opacity: 1; stroke-width: 0px; fill: rgb(239, 85, 59); fill-opacity: 1;\"/><path class=\"point\" transform=\"translate(121.05,266.92)\" d=\"M3,0A3,3 0 1,1 0,-3A3,3 0 0,1 3,0Z\" style=\"opacity: 1; stroke-width: 0px; fill: rgb(239, 85, 59); fill-opacity: 1;\"/><path class=\"point\" transform=\"translate(122.74,267.3)\" d=\"M3,0A3,3 0 1,1 0,-3A3,3 0 0,1 3,0Z\" style=\"opacity: 1; stroke-width: 0px; fill: rgb(239, 85, 59); fill-opacity: 1;\"/><path class=\"point\" transform=\"translate(124.64,267.69)\" d=\"M3,0A3,3 0 1,1 0,-3A3,3 0 0,1 3,0Z\" style=\"opacity: 1; stroke-width: 0px; fill: rgb(239, 85, 59); fill-opacity: 1;\"/><path class=\"point\" transform=\"translate(125.92,267.88)\" d=\"M3,0A3,3 0 1,1 0,-3A3,3 0 0,1 3,0Z\" style=\"opacity: 1; stroke-width: 0px; fill: rgb(239, 85, 59); fill-opacity: 1;\"/><path class=\"point\" transform=\"translate(128.65,268.07)\" d=\"M3,0A3,3 0 1,1 0,-3A3,3 0 0,1 3,0Z\" style=\"opacity: 1; stroke-width: 0px; fill: rgb(239, 85, 59); fill-opacity: 1;\"/><path class=\"point\" transform=\"translate(130.66,268.47)\" d=\"M3,0A3,3 0 1,1 0,-3A3,3 0 0,1 3,0Z\" style=\"opacity: 1; stroke-width: 0px; fill: rgb(239, 85, 59); fill-opacity: 1;\"/><path class=\"point\" transform=\"translate(135.46,269.05)\" d=\"M3,0A3,3 0 1,1 0,-3A3,3 0 0,1 3,0Z\" style=\"opacity: 1; stroke-width: 0px; fill: rgb(239, 85, 59); fill-opacity: 1;\"/><path class=\"point\" transform=\"translate(136.37,269.24)\" d=\"M3,0A3,3 0 1,1 0,-3A3,3 0 0,1 3,0Z\" style=\"opacity: 1; stroke-width: 0px; fill: rgb(239, 85, 59); fill-opacity: 1;\"/><path class=\"point\" transform=\"translate(137.3,269.63)\" d=\"M3,0A3,3 0 1,1 0,-3A3,3 0 0,1 3,0Z\" style=\"opacity: 1; stroke-width: 0px; fill: rgb(239, 85, 59); fill-opacity: 1;\"/><path class=\"point\" transform=\"translate(139.49,269.84)\" d=\"M3,0A3,3 0 1,1 0,-3A3,3 0 0,1 3,0Z\" style=\"opacity: 1; stroke-width: 0px; fill: rgb(239, 85, 59); fill-opacity: 1;\"/><path class=\"point\" transform=\"translate(141.96,269.84)\" d=\"M3,0A3,3 0 1,1 0,-3A3,3 0 0,1 3,0Z\" style=\"opacity: 1; stroke-width: 0px; fill: rgb(239, 85, 59); fill-opacity: 1;\"/><path class=\"point\" transform=\"translate(143.93,270.6)\" d=\"M3,0A3,3 0 1,1 0,-3A3,3 0 0,1 3,0Z\" style=\"opacity: 1; stroke-width: 0px; fill: rgb(239, 85, 59); fill-opacity: 1;\"/><path class=\"point\" transform=\"translate(146.85,270.8)\" d=\"M3,0A3,3 0 1,1 0,-3A3,3 0 0,1 3,0Z\" style=\"opacity: 1; stroke-width: 0px; fill: rgb(239, 85, 59); fill-opacity: 1;\"/><path class=\"point\" transform=\"translate(148.99,270.8)\" d=\"M3,0A3,3 0 1,1 0,-3A3,3 0 0,1 3,0Z\" style=\"opacity: 1; stroke-width: 0px; fill: rgb(239, 85, 59); fill-opacity: 1;\"/><path class=\"point\" transform=\"translate(149.88,271.18)\" d=\"M3,0A3,3 0 1,1 0,-3A3,3 0 0,1 3,0Z\" style=\"opacity: 1; stroke-width: 0px; fill: rgb(239, 85, 59); fill-opacity: 1;\"/><path class=\"point\" transform=\"translate(152.98,271.58)\" d=\"M3,0A3,3 0 1,1 0,-3A3,3 0 0,1 3,0Z\" style=\"opacity: 1; stroke-width: 0px; fill: rgb(239, 85, 59); fill-opacity: 1;\"/><path class=\"point\" transform=\"translate(155.53,271.78)\" d=\"M3,0A3,3 0 1,1 0,-3A3,3 0 0,1 3,0Z\" style=\"opacity: 1; stroke-width: 0px; fill: rgb(239, 85, 59); fill-opacity: 1;\"/><path class=\"point\" transform=\"translate(156.64,272.16)\" d=\"M3,0A3,3 0 1,1 0,-3A3,3 0 0,1 3,0Z\" style=\"opacity: 1; stroke-width: 0px; fill: rgb(239, 85, 59); fill-opacity: 1;\"/><path class=\"point\" transform=\"translate(159.69,272.35)\" d=\"M3,0A3,3 0 1,1 0,-3A3,3 0 0,1 3,0Z\" style=\"opacity: 1; stroke-width: 0px; fill: rgb(239, 85, 59); fill-opacity: 1;\"/><path class=\"point\" transform=\"translate(162.18,272.54)\" d=\"M3,0A3,3 0 1,1 0,-3A3,3 0 0,1 3,0Z\" style=\"opacity: 1; stroke-width: 0px; fill: rgb(239, 85, 59); fill-opacity: 1;\"/><path class=\"point\" transform=\"translate(163.33,272.93)\" d=\"M3,0A3,3 0 1,1 0,-3A3,3 0 0,1 3,0Z\" style=\"opacity: 1; stroke-width: 0px; fill: rgb(239, 85, 59); fill-opacity: 1;\"/><path class=\"point\" transform=\"translate(165.62,273.14)\" d=\"M3,0A3,3 0 1,1 0,-3A3,3 0 0,1 3,0Z\" style=\"opacity: 1; stroke-width: 0px; fill: rgb(239, 85, 59); fill-opacity: 1;\"/><path class=\"point\" transform=\"translate(169.32,273.52)\" d=\"M3,0A3,3 0 1,1 0,-3A3,3 0 0,1 3,0Z\" style=\"opacity: 1; stroke-width: 0px; fill: rgb(239, 85, 59); fill-opacity: 1;\"/><path class=\"point\" transform=\"translate(170.77,273.72)\" d=\"M3,0A3,3 0 1,1 0,-3A3,3 0 0,1 3,0Z\" style=\"opacity: 1; stroke-width: 0px; fill: rgb(239, 85, 59); fill-opacity: 1;\"/><path class=\"point\" transform=\"translate(171.62,274.1)\" d=\"M3,0A3,3 0 1,1 0,-3A3,3 0 0,1 3,0Z\" style=\"opacity: 1; stroke-width: 0px; fill: rgb(239, 85, 59); fill-opacity: 1;\"/><path class=\"point\" transform=\"translate(174.97,274.29)\" d=\"M3,0A3,3 0 1,1 0,-3A3,3 0 0,1 3,0Z\" style=\"opacity: 1; stroke-width: 0px; fill: rgb(239, 85, 59); fill-opacity: 1;\"/><path class=\"point\" transform=\"translate(176.77,274.49)\" d=\"M3,0A3,3 0 1,1 0,-3A3,3 0 0,1 3,0Z\" style=\"opacity: 1; stroke-width: 0px; fill: rgb(239, 85, 59); fill-opacity: 1;\"/><path class=\"point\" transform=\"translate(178.31,274.89)\" d=\"M3,0A3,3 0 1,1 0,-3A3,3 0 0,1 3,0Z\" style=\"opacity: 1; stroke-width: 0px; fill: rgb(239, 85, 59); fill-opacity: 1;\"/><path class=\"point\" transform=\"translate(181.32,275.08)\" d=\"M3,0A3,3 0 1,1 0,-3A3,3 0 0,1 3,0Z\" style=\"opacity: 1; stroke-width: 0px; fill: rgb(239, 85, 59); fill-opacity: 1;\"/><path class=\"point\" transform=\"translate(183.16,275.27)\" d=\"M3,0A3,3 0 1,1 0,-3A3,3 0 0,1 3,0Z\" style=\"opacity: 1; stroke-width: 0px; fill: rgb(239, 85, 59); fill-opacity: 1;\"/><path class=\"point\" transform=\"translate(185.04,275.66)\" d=\"M3,0A3,3 0 1,1 0,-3A3,3 0 0,1 3,0Z\" style=\"opacity: 1; stroke-width: 0px; fill: rgb(239, 85, 59); fill-opacity: 1;\"/><path class=\"point\" transform=\"translate(186.55,275.85)\" d=\"M3,0A3,3 0 1,1 0,-3A3,3 0 0,1 3,0Z\" style=\"opacity: 1; stroke-width: 0px; fill: rgb(239, 85, 59); fill-opacity: 1;\"/><path class=\"point\" transform=\"translate(189.87,275.85)\" d=\"M3,0A3,3 0 1,1 0,-3A3,3 0 0,1 3,0Z\" style=\"opacity: 1; stroke-width: 0px; fill: rgb(239, 85, 59); fill-opacity: 1;\"/><path class=\"point\" transform=\"translate(191.71,276.44)\" d=\"M3,0A3,3 0 1,1 0,-3A3,3 0 0,1 3,0Z\" style=\"opacity: 1; stroke-width: 0px; fill: rgb(239, 85, 59); fill-opacity: 1;\"/><path class=\"point\" transform=\"translate(196.19,276.63)\" d=\"M3,0A3,3 0 1,1 0,-3A3,3 0 0,1 3,0Z\" style=\"opacity: 1; stroke-width: 0px; fill: rgb(239, 85, 59); fill-opacity: 1;\"/><path class=\"point\" transform=\"translate(197.53,276.83)\" d=\"M3,0A3,3 0 1,1 0,-3A3,3 0 0,1 3,0Z\" style=\"opacity: 1; stroke-width: 0px; fill: rgb(239, 85, 59); fill-opacity: 1;\"/><path class=\"point\" transform=\"translate(198.35,277.21)\" d=\"M3,0A3,3 0 1,1 0,-3A3,3 0 0,1 3,0Z\" style=\"opacity: 1; stroke-width: 0px; fill: rgb(239, 85, 59); fill-opacity: 1;\"/><path class=\"point\" transform=\"translate(199.89,277.4)\" d=\"M3,0A3,3 0 1,1 0,-3A3,3 0 0,1 3,0Z\" style=\"opacity: 1; stroke-width: 0px; fill: rgb(239, 85, 59); fill-opacity: 1;\"/><path class=\"point\" transform=\"translate(202.64,277.6)\" d=\"M3,0A3,3 0 1,1 0,-3A3,3 0 0,1 3,0Z\" style=\"opacity: 1; stroke-width: 0px; fill: rgb(239, 85, 59); fill-opacity: 1;\"/><path class=\"point\" transform=\"translate(205,277.79)\" d=\"M3,0A3,3 0 1,1 0,-3A3,3 0 0,1 3,0Z\" style=\"opacity: 1; stroke-width: 0px; fill: rgb(239, 85, 59); fill-opacity: 1;\"/><path class=\"point\" transform=\"translate(206.58,278.19)\" d=\"M3,0A3,3 0 1,1 0,-3A3,3 0 0,1 3,0Z\" style=\"opacity: 1; stroke-width: 0px; fill: rgb(239, 85, 59); fill-opacity: 1;\"/><path class=\"point\" transform=\"translate(208.42,278.38)\" d=\"M3,0A3,3 0 1,1 0,-3A3,3 0 0,1 3,0Z\" style=\"opacity: 1; stroke-width: 0px; fill: rgb(239, 85, 59); fill-opacity: 1;\"/><path class=\"point\" transform=\"translate(210.78,278.38)\" d=\"M3,0A3,3 0 1,1 0,-3A3,3 0 0,1 3,0Z\" style=\"opacity: 1; stroke-width: 0px; fill: rgb(239, 85, 59); fill-opacity: 1;\"/><path class=\"point\" transform=\"translate(213.2,278.77)\" d=\"M3,0A3,3 0 1,1 0,-3A3,3 0 0,1 3,0Z\" style=\"opacity: 1; stroke-width: 0px; fill: rgb(239, 85, 59); fill-opacity: 1;\"/><path class=\"point\" transform=\"translate(215.82,278.96)\" d=\"M3,0A3,3 0 1,1 0,-3A3,3 0 0,1 3,0Z\" style=\"opacity: 1; stroke-width: 0px; fill: rgb(239, 85, 59); fill-opacity: 1;\"/><path class=\"point\" transform=\"translate(217.71,279.15)\" d=\"M3,0A3,3 0 1,1 0,-3A3,3 0 0,1 3,0Z\" style=\"opacity: 1; stroke-width: 0px; fill: rgb(239, 85, 59); fill-opacity: 1;\"/><path class=\"point\" transform=\"translate(219.98,279.54)\" d=\"M3,0A3,3 0 1,1 0,-3A3,3 0 0,1 3,0Z\" style=\"opacity: 1; stroke-width: 0px; fill: rgb(239, 85, 59); fill-opacity: 1;\"/><path class=\"point\" transform=\"translate(222.94,279.75)\" d=\"M3,0A3,3 0 1,1 0,-3A3,3 0 0,1 3,0Z\" style=\"opacity: 1; stroke-width: 0px; fill: rgb(239, 85, 59); fill-opacity: 1;\"/><path class=\"point\" transform=\"translate(224.87,279.94)\" d=\"M3,0A3,3 0 1,1 0,-3A3,3 0 0,1 3,0Z\" style=\"opacity: 1; stroke-width: 0px; fill: rgb(239, 85, 59); fill-opacity: 1;\"/><path class=\"point\" transform=\"translate(225.93,280.13)\" d=\"M3,0A3,3 0 1,1 0,-3A3,3 0 0,1 3,0Z\" style=\"opacity: 1; stroke-width: 0px; fill: rgb(239, 85, 59); fill-opacity: 1;\"/><path class=\"point\" transform=\"translate(229.11,280.52)\" d=\"M3,0A3,3 0 1,1 0,-3A3,3 0 0,1 3,0Z\" style=\"opacity: 1; stroke-width: 0px; fill: rgb(239, 85, 59); fill-opacity: 1;\"/><path class=\"point\" transform=\"translate(231,280.52)\" d=\"M3,0A3,3 0 1,1 0,-3A3,3 0 0,1 3,0Z\" style=\"opacity: 1; stroke-width: 0px; fill: rgb(239, 85, 59); fill-opacity: 1;\"/><path class=\"point\" transform=\"translate(232.58,280.71)\" d=\"M3,0A3,3 0 1,1 0,-3A3,3 0 0,1 3,0Z\" style=\"opacity: 1; stroke-width: 0px; fill: rgb(239, 85, 59); fill-opacity: 1;\"/><path class=\"point\" transform=\"translate(234.53,281.09)\" d=\"M3,0A3,3 0 1,1 0,-3A3,3 0 0,1 3,0Z\" style=\"opacity: 1; stroke-width: 0px; fill: rgb(239, 85, 59); fill-opacity: 1;\"/><path class=\"point\" transform=\"translate(236.95,281.09)\" d=\"M3,0A3,3 0 1,1 0,-3A3,3 0 0,1 3,0Z\" style=\"opacity: 1; stroke-width: 0px; fill: rgb(239, 85, 59); fill-opacity: 1;\"/><path class=\"point\" transform=\"translate(239.51,281.49)\" d=\"M3,0A3,3 0 1,1 0,-3A3,3 0 0,1 3,0Z\" style=\"opacity: 1; stroke-width: 0px; fill: rgb(239, 85, 59); fill-opacity: 1;\"/><path class=\"point\" transform=\"translate(241.32,281.69)\" d=\"M3,0A3,3 0 1,1 0,-3A3,3 0 0,1 3,0Z\" style=\"opacity: 1; stroke-width: 0px; fill: rgb(239, 85, 59); fill-opacity: 1;\"/><path class=\"point\" transform=\"translate(243.73,281.69)\" d=\"M3,0A3,3 0 1,1 0,-3A3,3 0 0,1 3,0Z\" style=\"opacity: 1; stroke-width: 0px; fill: rgb(239, 85, 59); fill-opacity: 1;\"/><path class=\"point\" transform=\"translate(245.18,281.88)\" d=\"M3,0A3,3 0 1,1 0,-3A3,3 0 0,1 3,0Z\" style=\"opacity: 1; stroke-width: 0px; fill: rgb(239, 85, 59); fill-opacity: 1;\"/><path class=\"point\" transform=\"translate(246.24,282.26)\" d=\"M3,0A3,3 0 1,1 0,-3A3,3 0 0,1 3,0Z\" style=\"opacity: 1; stroke-width: 0px; fill: rgb(239, 85, 59); fill-opacity: 1;\"/><path class=\"point\" transform=\"translate(246.67,282.46)\" d=\"M3,0A3,3 0 1,1 0,-3A3,3 0 0,1 3,0Z\" style=\"opacity: 1; stroke-width: 0px; fill: rgb(239, 85, 59); fill-opacity: 1;\"/><path class=\"point\" transform=\"translate(268.73,68.23)\" d=\"M3,0A3,3 0 1,1 0,-3A3,3 0 0,1 3,0Z\" style=\"opacity: 1; stroke-width: 0px; fill: rgb(239, 85, 59); fill-opacity: 1;\"/><path class=\"point\" transform=\"translate(290.12,64.53)\" d=\"M3,0A3,3 0 1,1 0,-3A3,3 0 0,1 3,0Z\" style=\"opacity: 1; stroke-width: 0px; fill: rgb(239, 85, 59); fill-opacity: 1;\"/><path class=\"point\" transform=\"translate(312.39,62.2)\" d=\"M3,0A3,3 0 1,1 0,-3A3,3 0 0,1 3,0Z\" style=\"opacity: 1; stroke-width: 0px; fill: rgb(239, 85, 59); fill-opacity: 1;\"/><path class=\"point\" transform=\"translate(333.39,60.46)\" d=\"M3,0A3,3 0 1,1 0,-3A3,3 0 0,1 3,0Z\" style=\"opacity: 1; stroke-width: 0px; fill: rgb(239, 85, 59); fill-opacity: 1;\"/><path class=\"point\" transform=\"translate(354.98,58.71)\" d=\"M3,0A3,3 0 1,1 0,-3A3,3 0 0,1 3,0Z\" style=\"opacity: 1; stroke-width: 0px; fill: rgb(239, 85, 59); fill-opacity: 1;\"/><path class=\"point\" transform=\"translate(377.17,57.34)\" d=\"M3,0A3,3 0 1,1 0,-3A3,3 0 0,1 3,0Z\" style=\"opacity: 1; stroke-width: 0px; fill: rgb(239, 85, 59); fill-opacity: 1;\"/><path class=\"point\" transform=\"translate(399.4,56.37)\" d=\"M3,0A3,3 0 1,1 0,-3A3,3 0 0,1 3,0Z\" style=\"opacity: 1; stroke-width: 0px; fill: rgb(239, 85, 59); fill-opacity: 1;\"/><path class=\"point\" transform=\"translate(419.9,55.6)\" d=\"M3,0A3,3 0 1,1 0,-3A3,3 0 0,1 3,0Z\" style=\"opacity: 1; stroke-width: 0px; fill: rgb(239, 85, 59); fill-opacity: 1;\"/><path class=\"point\" transform=\"translate(441.85,54.62)\" d=\"M3,0A3,3 0 1,1 0,-3A3,3 0 0,1 3,0Z\" style=\"opacity: 1; stroke-width: 0px; fill: rgb(239, 85, 59); fill-opacity: 1;\"/><path class=\"point\" transform=\"translate(463.65,54.04)\" d=\"M3,0A3,3 0 1,1 0,-3A3,3 0 0,1 3,0Z\" style=\"opacity: 1; stroke-width: 0px; fill: rgb(239, 85, 59); fill-opacity: 1;\"/></g><g class=\"text\"/></g><g class=\"trace scatter tracece06b0\" style=\"stroke-miterlimit: 2; opacity: 1;\"><g class=\"fills\"/><g class=\"errorbars\"/><g class=\"lines\"><path class=\"js-line\" d=\"M28.35,35.86L28.74,35.86L30.97,190.25L33.78,249.32L35.78,250.54L54.98,254.71L57.42,255.23L130.66,268.46L135.46,269.23L210.78,279.89L213.2,280.2L246.24,284.14L246.67,225.64L268.73,68.3L290.12,66.22L377.17,59.08L399.4,57.56L463.65,53.72\" style=\"vector-effect: none; fill: none; stroke: rgb(0, 204, 150); stroke-opacity: 1; stroke-width: 4px; opacity: 1;\"/></g><g class=\"points\"/><g class=\"text\"/></g></g></g><g class=\"overplot\"/><path class=\"xlines-above crisp\" d=\"M0,0\" style=\"fill: none;\"/><path class=\"ylines-above crisp\" d=\"M0,0\" style=\"fill: none;\"/><g class=\"overlines-above\"/><g class=\"xaxislayer-above\"><g class=\"xtick\"><text text-anchor=\"middle\" x=\"0\" y=\"433\" transform=\"translate(108.35,0)\" style=\"font-family: 'Open Sans', verdana, arial, sans-serif; font-size: 12px; fill: rgb(42, 63, 95); fill-opacity: 1; white-space: pre; opacity: 1;\">0</text></g><g class=\"xtick\"><text text-anchor=\"middle\" x=\"0\" y=\"433\" style=\"font-family: 'Open Sans', verdana, arial, sans-serif; font-size: 12px; fill: rgb(42, 63, 95); fill-opacity: 1; white-space: pre; opacity: 1;\" transform=\"translate(216.59,0)\">5</text></g><g class=\"xtick\"><text text-anchor=\"middle\" x=\"0\" y=\"433\" style=\"font-family: 'Open Sans', verdana, arial, sans-serif; font-size: 12px; fill: rgb(42, 63, 95); fill-opacity: 1; white-space: pre; opacity: 1;\" transform=\"translate(324.83000000000004,0)\">10</text></g><g class=\"xtick\"><text text-anchor=\"middle\" x=\"0\" y=\"433\" style=\"font-family: 'Open Sans', verdana, arial, sans-serif; font-size: 12px; fill: rgb(42, 63, 95); fill-opacity: 1; white-space: pre; opacity: 1;\" transform=\"translate(433.07,0)\">15</text></g><g class=\"xtick\"><text text-anchor=\"middle\" x=\"0\" y=\"433\" style=\"font-family: 'Open Sans', verdana, arial, sans-serif; font-size: 12px; fill: rgb(42, 63, 95); fill-opacity: 1; white-space: pre; opacity: 1;\" transform=\"translate(541.31,0)\">20</text></g></g><g class=\"yaxislayer-above\"><g class=\"ytick\"><text text-anchor=\"end\" x=\"79\" y=\"4.199999999999999\" transform=\"translate(0,363.98)\" style=\"font-family: 'Open Sans', verdana, arial, sans-serif; font-size: 12px; fill: rgb(42, 63, 95); fill-opacity: 1; white-space: pre; opacity: 1;\">3.95</text></g><g class=\"ytick\"><text text-anchor=\"end\" x=\"79\" y=\"4.199999999999999\" style=\"font-family: 'Open Sans', verdana, arial, sans-serif; font-size: 12px; fill: rgb(42, 63, 95); fill-opacity: 1; white-space: pre; opacity: 1;\" transform=\"translate(0,276.59000000000003)\">4</text></g><g class=\"ytick\"><text text-anchor=\"end\" x=\"79\" y=\"4.199999999999999\" style=\"font-family: 'Open Sans', verdana, arial, sans-serif; font-size: 12px; fill: rgb(42, 63, 95); fill-opacity: 1; white-space: pre; opacity: 1;\" transform=\"translate(0,189.19)\">4.05</text></g><g class=\"ytick\"><text text-anchor=\"end\" x=\"79\" y=\"4.199999999999999\" style=\"font-family: 'Open Sans', verdana, arial, sans-serif; font-size: 12px; fill: rgb(42, 63, 95); fill-opacity: 1; white-space: pre; opacity: 1;\" transform=\"translate(0,101.8)\">4.1</text></g></g><g class=\"overaxes-above\"/></g></g><g class=\"polarlayer\"/><g class=\"smithlayer\"/><g class=\"ternarylayer\"/><g class=\"geolayer\"/><g class=\"funnelarealayer\"/><g class=\"pielayer\"/><g class=\"iciclelayer\"/><g class=\"treemaplayer\"/><g class=\"sunburstlayer\"/><g class=\"glimages\"/><defs id=\"topdefs-3da9e7\"><g class=\"clips\"/><clipPath id=\"legend3da9e7\"><rect width=\"106\" height=\"48\" x=\"0\" y=\"0\"/></clipPath></defs><g class=\"layer-above\"><g class=\"imagelayer\"/><g class=\"shapelayer\"/></g><g class=\"infolayer\"><g class=\"legend\" pointer-events=\"all\" transform=\"translate(581.84,100)\"><rect class=\"bg\" shape-rendering=\"crispEdges\" style=\"stroke: rgb(68, 68, 68); stroke-opacity: 1; fill: rgb(255, 255, 255); fill-opacity: 1; stroke-width: 0px;\" width=\"106\" height=\"48\" x=\"0\" y=\"0\"/><g class=\"scrollbox\" transform=\"\" clip-path=\"url(#legend3da9e7)\"><g class=\"groups\"><g class=\"traces\" transform=\"translate(0,14.5)\" style=\"opacity: 1;\"><text class=\"legendtext\" text-anchor=\"start\" x=\"40\" y=\"4.680000000000001\" style=\"font-family: 'Open Sans', verdana, arial, sans-serif; font-size: 12px; fill: rgb(42, 63, 95); fill-opacity: 1; white-space: pre;\">Reference</text><g class=\"layers\" style=\"opacity: 1;\"><g class=\"legendfill\"/><g class=\"legendlines\"/><g class=\"legendsymbols\"><g class=\"legendpoints\"><path class=\"scatterpts\" transform=\"translate(20,0)\" d=\"M3,0A3,3 0 1,1 0,-3A3,3 0 0,1 3,0Z\" style=\"opacity: 1; stroke-width: 0px; fill: rgb(239, 85, 59); fill-opacity: 1;\"/></g></g></g><rect class=\"legendtoggle\" x=\"0\" y=\"-9.5\" width=\"100.125\" height=\"19\" style=\"fill: rgb(0, 0, 0); fill-opacity: 0;\"/></g><g class=\"traces\" transform=\"translate(0,33.5)\" style=\"opacity: 1;\"><text class=\"legendtext\" text-anchor=\"start\" x=\"40\" y=\"4.680000000000001\" style=\"font-family: 'Open Sans', verdana, arial, sans-serif; font-size: 12px; fill: rgb(42, 63, 95); fill-opacity: 1; white-space: pre;\">Model</text><g class=\"layers\" style=\"opacity: 1;\"><g class=\"legendfill\"/><g class=\"legendlines\"><path class=\"js-line\" d=\"M5,0h30\" style=\"fill: none; stroke: rgb(0, 204, 150); stroke-opacity: 1; stroke-width: 4px;\"/></g><g class=\"legendsymbols\"><g class=\"legendpoints\"/></g></g><rect class=\"legendtoggle\" x=\"0\" y=\"-9.5\" width=\"100.125\" height=\"19\" style=\"fill: rgb(0, 0, 0); fill-opacity: 0;\"/></g></g></g><rect class=\"scrollbar\" rx=\"20\" ry=\"3\" width=\"0\" height=\"0\" style=\"fill: rgb(128, 139, 164); fill-opacity: 1;\" x=\"0\" y=\"0\"/></g><g class=\"g-gtitle\"><text class=\"gtitle\" x=\"35\" y=\"50\" text-anchor=\"start\" dy=\"0em\" style=\"font-family: 'Open Sans', verdana, arial, sans-serif; font-size: 17px; fill: rgb(42, 63, 95); opacity: 1; font-weight: normal; white-space: pre;\">Optimised Comparison</text></g><g class=\"g-xtitle\"><text class=\"xtitle\" x=\"326\" y=\"459.8\" text-anchor=\"middle\" style=\"font-family: 'Open Sans', verdana, arial, sans-serif; font-size: 14px; fill: rgb(42, 63, 95); opacity: 1; font-weight: normal; white-space: pre;\">Time / s</text></g><g class=\"g-ytitle\"><text class=\"ytitle\" transform=\"rotate(-90,27.434375000000003,260)\" x=\"27.434375000000003\" y=\"260\" text-anchor=\"middle\" style=\"font-family: 'Open Sans', verdana, arial, sans-serif; font-size: 14px; fill: rgb(42, 63, 95); opacity: 1; font-weight: normal; white-space: pre;\">Voltage  / V</text></g></g></svg>"
      ]
     },
     "metadata": {},
     "output_type": "display_data"
    }
   ],
   "source": [
    "pybop.quick_plot(problem, parameter_values=x, title=\"Optimised Comparison\");"
   ]
  },
  {
   "cell_type": "markdown",
   "id": "7d265967-e6e5-440c-badf-156a43943c88",
   "metadata": {},
   "source": [
    "### Convergence and Parameter Trajectories\n",
    "\n",
    "To assess the optimisation process, we can plot the convergence of the cost function and the trajectories of the parameters:"
   ]
  },
  {
   "cell_type": "code",
   "execution_count": 15,
   "id": "f66e0b0f-4861-42dd-bb7f-8734fcca3328",
   "metadata": {},
   "outputs": [
    {
     "data": {
      "image/svg+xml": [
       "<svg class=\"main-svg\" xmlns=\"http://www.w3.org/2000/svg\" xmlns:xlink=\"http://www.w3.org/1999/xlink\" width=\"700\" height=\"500\" style=\"\" viewBox=\"0 0 700 500\"><rect x=\"0\" y=\"0\" width=\"700\" height=\"500\" style=\"fill: rgb(255, 255, 255); fill-opacity: 1;\"/><defs id=\"defs-94392b\"><g class=\"clips\"><clipPath id=\"clip94392bxyplot\" class=\"plotclip\"><rect width=\"540\" height=\"320\"/></clipPath><clipPath class=\"axesclip\" id=\"clip94392bx\"><rect x=\"80\" y=\"0\" width=\"540\" height=\"500\"/></clipPath><clipPath class=\"axesclip\" id=\"clip94392by\"><rect x=\"0\" y=\"100\" width=\"700\" height=\"320\"/></clipPath><clipPath class=\"axesclip\" id=\"clip94392bxy\"><rect x=\"80\" y=\"100\" width=\"540\" height=\"320\"/></clipPath></g><g class=\"gradients\"/><g class=\"patterns\"/></defs><g class=\"bglayer\"><rect class=\"bg\" x=\"80\" y=\"100\" width=\"540\" height=\"320\" style=\"fill: rgb(229, 236, 246); fill-opacity: 1; stroke-width: 0;\"/></g><g class=\"layer-below\"><g class=\"imagelayer\"/><g class=\"shapelayer\"/></g><g class=\"cartesianlayer\"><g class=\"subplot xy\"><g class=\"layer-subplot\"><g class=\"shapelayer\"/><g class=\"imagelayer\"/></g><g class=\"minor-gridlayer\"><g class=\"x\"/><g class=\"y\"/></g><g class=\"gridlayer\"><g class=\"x\"><path class=\"xgrid crisp\" transform=\"translate(204.23000000000002,0)\" d=\"M0,100v320\" style=\"stroke: rgb(255, 255, 255); stroke-opacity: 1; stroke-width: 1px;\"/><path class=\"xgrid crisp\" transform=\"translate(329.09000000000003,0)\" d=\"M0,100v320\" style=\"stroke: rgb(255, 255, 255); stroke-opacity: 1; stroke-width: 1px;\"/><path class=\"xgrid crisp\" transform=\"translate(453.94,0)\" d=\"M0,100v320\" style=\"stroke: rgb(255, 255, 255); stroke-opacity: 1; stroke-width: 1px;\"/><path class=\"xgrid crisp\" transform=\"translate(578.8,0)\" d=\"M0,100v320\" style=\"stroke: rgb(255, 255, 255); stroke-opacity: 1; stroke-width: 1px;\"/></g><g class=\"y\"><path class=\"ygrid crisp\" transform=\"translate(0,383.66)\" d=\"M80,0h540\" style=\"stroke: rgb(255, 255, 255); stroke-opacity: 1; stroke-width: 1px;\"/><path class=\"ygrid crisp\" transform=\"translate(0,344.25)\" d=\"M80,0h540\" style=\"stroke: rgb(255, 255, 255); stroke-opacity: 1; stroke-width: 1px;\"/><path class=\"ygrid crisp\" transform=\"translate(0,304.84000000000003)\" d=\"M80,0h540\" style=\"stroke: rgb(255, 255, 255); stroke-opacity: 1; stroke-width: 1px;\"/><path class=\"ygrid crisp\" transform=\"translate(0,265.44)\" d=\"M80,0h540\" style=\"stroke: rgb(255, 255, 255); stroke-opacity: 1; stroke-width: 1px;\"/><path class=\"ygrid crisp\" transform=\"translate(0,226.03)\" d=\"M80,0h540\" style=\"stroke: rgb(255, 255, 255); stroke-opacity: 1; stroke-width: 1px;\"/><path class=\"ygrid crisp\" transform=\"translate(0,186.62)\" d=\"M80,0h540\" style=\"stroke: rgb(255, 255, 255); stroke-opacity: 1; stroke-width: 1px;\"/><path class=\"ygrid crisp\" transform=\"translate(0,147.21)\" d=\"M80,0h540\" style=\"stroke: rgb(255, 255, 255); stroke-opacity: 1; stroke-width: 1px;\"/><path class=\"ygrid crisp\" transform=\"translate(0,107.8)\" d=\"M80,0h540\" style=\"stroke: rgb(255, 255, 255); stroke-opacity: 1; stroke-width: 1px;\"/></g></g><g class=\"zerolinelayer\"/><path class=\"xlines-below\"/><path class=\"ylines-below\"/><g class=\"overlines-below\"/><g class=\"xaxislayer-below\"/><g class=\"yaxislayer-below\"/><g class=\"overaxes-below\"/><g class=\"plot\" transform=\"translate(80,100)\" clip-path=\"url(#clip94392bxyplot)\"><g class=\"scatterlayer mlayer\"><g class=\"trace scatter traced88c88\" style=\"stroke-miterlimit: 2; opacity: 1;\"><g class=\"fills\"/><g class=\"errorbars\"/><g class=\"lines\"><path class=\"js-line\" d=\"M0,250.36L0.62,184.3L1.25,248.15L1.87,16L2.5,62.86L3.12,243.88L4.99,251.08L5.62,251.23L6.24,248.11L6.87,252.37L7.49,252.01L8.12,250.07L8.74,252.24L9.36,250.13L11.24,252.39L11.86,252.02L13.11,251.02L13.73,249.3L14.36,251.94L14.98,249.65L16.86,252.33L17.48,252.18L18.73,252.42L19.35,250.11L20.6,252.25L21.23,251.61L21.85,251.23L22.47,252.1L24.35,252.43L24.97,250.67L26.22,252.41L26.84,252.33L29.97,252.35L30.59,252.08L35.58,252.9L36.21,252.55L39.33,254.24L39.95,253.33L40.58,254.83L41.2,253.85L41.83,255.21L42.45,254.02L43.08,255.15L45.57,255.57L46.2,255.76L50.57,255.07L51.19,254.88L51.82,253.59L52.44,255.48L53.06,255.93L53.69,253.64L54.94,255.85L55.56,254.84L56.81,256.7L57.43,254.1L58.06,257.26L58.68,255.82L59.31,257.18L59.93,256.48L60.55,257.31L61.18,255.17L61.8,257.11L62.43,256.13L63.05,257.33L65.55,255.56L66.17,257L66.8,256.56L67.42,254.47L68.05,253.68L68.67,256.49L69.92,257.16L70.54,256.97L71.79,257.43L72.42,256.44L74.29,257.33L74.91,257.26L78.03,256.23L78.66,257.43L83.03,257.58L83.65,257.57L87.4,257.66L88.02,256.59L89.9,257.82L90.52,257.85L91.14,257.45L91.77,258.35L93.02,258.31L93.64,258.56L94.27,258.46L94.89,259.38L96.14,258.18L96.76,255.45L97.39,258.96L98.01,258.75L98.64,259.12L99.26,251.94L99.88,260.02L101.13,259.7L101.76,256.39L102.38,259.2L103.01,254.21L103.63,259.85L104.25,257.41L104.88,259.61L106.75,258.58L107.38,259.79L108.62,257.96L109.25,259.44L111.12,259.05L111.75,256.59L112.37,249.63L112.99,258.57L114.87,260.15L115.49,259.54L117.99,260.88L118.61,260.32L120.49,260.02L121.11,261.15L121.73,260.18L122.36,261.15L122.98,260.97L123.61,262.5L124.23,262.05L124.86,259.68L125.48,266.33L126.1,259.58L127.98,262.98L128.6,267.08L129.23,265.4L129.85,260.07L130.47,267.94L131.1,257.21L133.6,274.39L134.22,268.18L134.84,272.02L135.47,262.74L136.09,270.5L136.72,269.01L137.34,273.32L137.97,270.31L138.59,273L139.21,267.21L139.84,271.84L140.46,270.92L141.09,272.84L141.71,268.3L142.34,273.36L144.21,259.1L144.83,271.78L145.46,256.11L146.08,272.88L146.71,263.41L147.33,272.98L147.95,272.87L148.58,270.7L149.83,269.36L150.45,272.7L151.08,266.75L151.7,272.76L152.32,273.26L152.95,272.45L153.57,270.58L154.2,273.11L155.45,273.09L156.07,274.28L156.69,270.83L157.32,274.08L159.82,270.9L160.44,272.88L161.06,270.51L161.69,271.73L162.31,274.37L162.94,271.48L163.56,274.45L164.18,272.38L164.81,274.12L165.43,273.29L166.06,274.59L166.68,274.38L167.31,272.89L167.93,274.35L168.55,271.34L169.8,273.92L170.43,272.9L171.05,271.47L171.68,273.59L172.92,271.67L173.55,274.5L174.17,274.53L174.8,269.8L176.67,274.16L177.29,274.21L178.54,273.03L179.17,273.41L180.42,274.76L181.04,273.23L181.66,273.85L182.29,270.57L182.91,274.52L183.54,265.06L184.16,276.47L184.79,274.61L185.41,270.28L186.66,276.52L187.28,274.13L187.91,275.62L188.53,274.07L189.78,271.13L190.4,273.6L191.03,269.65L191.65,274.16L193.53,277.31L194.15,275.39L196.02,282.18L196.65,277.04L197.27,284.89L197.9,275.4L198.52,272.55L199.14,278.94L199.77,257.29L200.39,284.05L201.02,252.43L201.64,279.76L202.27,278L202.89,279.89L203.51,287.31L204.14,200.9L204.76,287.28L205.39,140.48L206.01,283.89L206.64,240.72L207.26,259.17L207.88,280.53L208.51,267.84L209.13,279.56L209.76,276.12L210.38,286.15L211.63,292.3L212.25,282.62L212.88,292.92L213.5,292.06L214.13,293L215.38,288L216,292.04L216.62,296.04L217.25,293.02L219.12,285.68L219.75,292.84L220.37,291.23L220.99,276.51L221.62,274.76L222.24,267.27L222.87,295.97L223.49,285.39L224.12,291.72L225.36,291.88L225.99,294.66L226.61,294.78L227.24,281.96L228.49,295.46L229.11,294.02L229.73,295.32L230.36,279.99L230.98,284.77L231.61,277.6L232.23,294.98L232.86,292.13L233.48,279.44L234.73,296.35L235.35,248.57L235.98,290.07L236.6,247.77L238.47,293L239.1,222.92L241.6,296.17L242.22,288.66L243.47,294.75L244.09,294L244.72,295.03L245.34,290.48L245.97,295.8L247.21,288.59L247.84,292.13L248.46,291.8L249.09,295.06L249.71,287.95L250.34,293.45L250.96,290.36L251.58,295.34L252.83,294.77L253.46,296.07L255.95,296.35L256.58,296.67L257.2,296.73L257.83,295.71L258.45,291.78L259.08,297.84L259.7,294.31L260.32,296.68L261.57,292.46L262.2,282.02L264.07,299.01L264.69,296.39L265.94,298.11L266.57,290.26L267.82,298.48L268.44,300.22L269.06,299.32L269.69,300.56L270.31,299.53L270.94,300.76L271.56,298.18L272.18,299.39L272.81,299.18L273.43,264.42L274.06,297.52L275.31,300.03L275.93,299.3L276.55,281.46L277.18,300.82L277.8,298.72L278.43,300.92L280.92,301.13L281.55,299.35L282.17,295.06L282.8,301.56L284.05,299.16L284.67,300.58L285.29,299.08L285.92,286.12L287.17,301.37L287.79,301.43L288.42,299.45L289.04,301.25L289.66,296.4L290.29,301.7L290.91,292.65L291.54,301.75L292.16,299.06L292.79,301.57L294.03,302.47L294.66,301.61L295.28,302.14L295.91,292.29L297.78,302.2L298.4,301.68L299.03,300.44L299.65,301.5L300.28,299.57L300.9,302.3L302.77,302.12L303.4,301.82L305.9,302.05L306.52,301.42L308.39,301.78L309.02,301.53L310.27,302.02L310.89,300.61L311.51,301.49L312.14,300.61L312.76,302.78L313.39,301.04L315.26,302.91L315.88,302.43L317.76,303.22L318.38,302.55L319.63,301.83L320.25,303.32L322.13,302.24L322.75,303.38L324,301.8L324.62,302.83L325.25,301.75L325.87,302.36L326.5,302.88L328.37,301.55L328.99,301.44L330.24,303.5L330.87,302.68L332.74,302.69L333.36,303.31L333.99,302.87L334.61,303.8L338.36,302.42L338.98,303.75L341.48,303.24L342.1,303.85L343.35,303.34L343.98,303.86L344.6,302.77L345.23,303.34L345.85,303.43L348.35,303.4L348.97,303.78L361.46,303.86L362.08,302.67L363.33,303.84L363.95,303.85L414.52,303.81L415.14,303.64L418.27,303.88L418.89,303.83L424.51,303.81L425.13,303.94L427.01,303.37L427.63,300.74L428.88,303.76L429.5,303.76L433.25,303.82L433.87,303.59L435.75,303.26L436.37,303.66L438.87,303.77L439.49,303.78L450.1,303.91L450.73,303.93L540,303.99\" style=\"vector-effect: none; fill: none; stroke: rgb(99, 110, 250); stroke-opacity: 1; stroke-width: 4px; opacity: 1;\"/></g><g class=\"points\"/><g class=\"text\"/></g></g></g><g class=\"overplot\"/><path class=\"xlines-above crisp\" d=\"M0,0\" style=\"fill: none;\"/><path class=\"ylines-above crisp\" d=\"M0,0\" style=\"fill: none;\"/><g class=\"overlines-above\"/><g class=\"xaxislayer-above\"><g class=\"xtick\"><text text-anchor=\"middle\" x=\"0\" y=\"433\" transform=\"translate(204.23000000000002,0)\" style=\"font-family: 'Open Sans', verdana, arial, sans-serif; font-size: 12px; fill: rgb(42, 63, 95); fill-opacity: 1; white-space: pre; opacity: 1;\">200</text></g><g class=\"xtick\"><text text-anchor=\"middle\" x=\"0\" y=\"433\" style=\"font-family: 'Open Sans', verdana, arial, sans-serif; font-size: 12px; fill: rgb(42, 63, 95); fill-opacity: 1; white-space: pre; opacity: 1;\" transform=\"translate(329.09000000000003,0)\">400</text></g><g class=\"xtick\"><text text-anchor=\"middle\" x=\"0\" y=\"433\" style=\"font-family: 'Open Sans', verdana, arial, sans-serif; font-size: 12px; fill: rgb(42, 63, 95); fill-opacity: 1; white-space: pre; opacity: 1;\" transform=\"translate(453.94,0)\">600</text></g><g class=\"xtick\"><text text-anchor=\"middle\" x=\"0\" y=\"433\" style=\"font-family: 'Open Sans', verdana, arial, sans-serif; font-size: 12px; fill: rgb(42, 63, 95); fill-opacity: 1; white-space: pre; opacity: 1;\" transform=\"translate(578.8,0)\">800</text></g></g><g class=\"yaxislayer-above\"><g class=\"ytick\"><text text-anchor=\"end\" x=\"79\" y=\"4.199999999999999\" transform=\"translate(0,383.66)\" style=\"font-family: 'Open Sans', verdana, arial, sans-serif; font-size: 12px; fill: rgb(42, 63, 95); fill-opacity: 1; white-space: pre; opacity: 1;\">0.02</text></g><g class=\"ytick\"><text text-anchor=\"end\" x=\"79\" y=\"4.199999999999999\" style=\"font-family: 'Open Sans', verdana, arial, sans-serif; font-size: 12px; fill: rgb(42, 63, 95); fill-opacity: 1; white-space: pre; opacity: 1;\" transform=\"translate(0,344.25)\">0.03</text></g><g class=\"ytick\"><text text-anchor=\"end\" x=\"79\" y=\"4.199999999999999\" style=\"font-family: 'Open Sans', verdana, arial, sans-serif; font-size: 12px; fill: rgb(42, 63, 95); fill-opacity: 1; white-space: pre; opacity: 1;\" transform=\"translate(0,304.84000000000003)\">0.04</text></g><g class=\"ytick\"><text text-anchor=\"end\" x=\"79\" y=\"4.199999999999999\" style=\"font-family: 'Open Sans', verdana, arial, sans-serif; font-size: 12px; fill: rgb(42, 63, 95); fill-opacity: 1; white-space: pre; opacity: 1;\" transform=\"translate(0,265.44)\">0.05</text></g><g class=\"ytick\"><text text-anchor=\"end\" x=\"79\" y=\"4.199999999999999\" style=\"font-family: 'Open Sans', verdana, arial, sans-serif; font-size: 12px; fill: rgb(42, 63, 95); fill-opacity: 1; white-space: pre; opacity: 1;\" transform=\"translate(0,226.03)\">0.06</text></g><g class=\"ytick\"><text text-anchor=\"end\" x=\"79\" y=\"4.199999999999999\" style=\"font-family: 'Open Sans', verdana, arial, sans-serif; font-size: 12px; fill: rgb(42, 63, 95); fill-opacity: 1; white-space: pre; opacity: 1;\" transform=\"translate(0,186.62)\">0.07</text></g><g class=\"ytick\"><text text-anchor=\"end\" x=\"79\" y=\"4.199999999999999\" style=\"font-family: 'Open Sans', verdana, arial, sans-serif; font-size: 12px; fill: rgb(42, 63, 95); fill-opacity: 1; white-space: pre; opacity: 1;\" transform=\"translate(0,147.21)\">0.08</text></g><g class=\"ytick\"><text text-anchor=\"end\" x=\"79\" y=\"4.199999999999999\" style=\"font-family: 'Open Sans', verdana, arial, sans-serif; font-size: 12px; fill: rgb(42, 63, 95); fill-opacity: 1; white-space: pre; opacity: 1;\" transform=\"translate(0,107.8)\">0.09</text></g></g><g class=\"overaxes-above\"/></g></g><g class=\"polarlayer\"/><g class=\"smithlayer\"/><g class=\"ternarylayer\"/><g class=\"geolayer\"/><g class=\"funnelarealayer\"/><g class=\"pielayer\"/><g class=\"iciclelayer\"/><g class=\"treemaplayer\"/><g class=\"sunburstlayer\"/><g class=\"glimages\"/><defs id=\"topdefs-94392b\"><g class=\"clips\"/></defs><g class=\"layer-above\"><g class=\"imagelayer\"/><g class=\"shapelayer\"/></g><g class=\"infolayer\"><g class=\"g-gtitle\"><text class=\"gtitle\" x=\"35\" y=\"50\" text-anchor=\"start\" dy=\"0em\" style=\"font-family: 'Open Sans', verdana, arial, sans-serif; font-size: 17px; fill: rgb(42, 63, 95); opacity: 1; font-weight: normal; white-space: pre;\">Convergence</text></g><g class=\"g-xtitle\"><text class=\"xtitle\" x=\"350\" y=\"459.8\" text-anchor=\"middle\" style=\"font-family: 'Open Sans', verdana, arial, sans-serif; font-size: 14px; fill: rgb(42, 63, 95); opacity: 1; font-weight: normal; white-space: pre;\">Iteration</text></g><g class=\"g-ytitle\"><text class=\"ytitle\" transform=\"rotate(-90,27.434375000000003,260)\" x=\"27.434375000000003\" y=\"260\" text-anchor=\"middle\" style=\"font-family: 'Open Sans', verdana, arial, sans-serif; font-size: 14px; fill: rgb(42, 63, 95); opacity: 1; font-weight: normal; white-space: pre;\">Cost</text></g></g></svg>"
      ]
     },
     "metadata": {},
     "output_type": "display_data"
    },
    {
     "data": {
      "image/svg+xml": [
       "<svg class=\"main-svg\" xmlns=\"http://www.w3.org/2000/svg\" xmlns:xlink=\"http://www.w3.org/1999/xlink\" width=\"1024\" height=\"576\" style=\"\" viewBox=\"0 0 1024 576\"><rect x=\"0\" y=\"0\" width=\"1024\" height=\"576\" style=\"fill: rgb(255, 255, 255); fill-opacity: 1;\"/><defs id=\"defs-68c9b7\"><g class=\"clips\"><clipPath id=\"clip68c9b7xyplot\" class=\"plotclip\"><rect width=\"249.60000000000002\" height=\"168.29999999999998\"/></clipPath><clipPath id=\"clip68c9b7x2y2plot\" class=\"plotclip\"><rect width=\"249.60000000000002\" height=\"168.29999999999998\"/></clipPath><clipPath id=\"clip68c9b7x3y3plot\" class=\"plotclip\"><rect width=\"249.59999999999997\" height=\"168.29999999999998\"/></clipPath><clipPath id=\"clip68c9b7x4y4plot\" class=\"plotclip\"><rect width=\"249.60000000000002\" height=\"168.3\"/></clipPath><clipPath id=\"clip68c9b7x5y5plot\" class=\"plotclip\"><rect width=\"249.60000000000002\" height=\"168.3\"/></clipPath><clipPath class=\"axesclip\" id=\"clip68c9b7x\"><rect x=\"80\" y=\"0\" width=\"249.60000000000002\" height=\"576\"/></clipPath><clipPath class=\"axesclip\" id=\"clip68c9b7y\"><rect x=\"0\" y=\"327.7\" width=\"1024\" height=\"168.29999999999998\"/></clipPath><clipPath class=\"axesclip\" id=\"clip68c9b7xy\"><rect x=\"80\" y=\"327.7\" width=\"249.60000000000002\" height=\"168.29999999999998\"/></clipPath><clipPath class=\"axesclip\" id=\"clip68c9b7y2\"><rect x=\"0\" y=\"327.7\" width=\"1024\" height=\"168.29999999999998\"/></clipPath><clipPath class=\"axesclip\" id=\"clip68c9b7xy2\"><rect x=\"80\" y=\"327.7\" width=\"249.60000000000002\" height=\"168.29999999999998\"/></clipPath><clipPath class=\"axesclip\" id=\"clip68c9b7y3\"><rect x=\"0\" y=\"327.7\" width=\"1024\" height=\"168.29999999999998\"/></clipPath><clipPath class=\"axesclip\" id=\"clip68c9b7xy3\"><rect x=\"80\" y=\"327.7\" width=\"249.60000000000002\" height=\"168.29999999999998\"/></clipPath><clipPath class=\"axesclip\" id=\"clip68c9b7y4\"><rect x=\"0\" y=\"100\" width=\"1024\" height=\"168.3\"/></clipPath><clipPath class=\"axesclip\" id=\"clip68c9b7xy4\"><rect x=\"80\" y=\"100\" width=\"249.60000000000002\" height=\"168.3\"/></clipPath><clipPath class=\"axesclip\" id=\"clip68c9b7y5\"><rect x=\"0\" y=\"100\" width=\"1024\" height=\"168.3\"/></clipPath><clipPath class=\"axesclip\" id=\"clip68c9b7xy5\"><rect x=\"80\" y=\"100\" width=\"249.60000000000002\" height=\"168.3\"/></clipPath><clipPath class=\"axesclip\" id=\"clip68c9b7x2\"><rect x=\"387.2\" y=\"0\" width=\"249.60000000000002\" height=\"576\"/></clipPath><clipPath class=\"axesclip\" id=\"clip68c9b7x2y\"><rect x=\"387.2\" y=\"327.7\" width=\"249.60000000000002\" height=\"168.29999999999998\"/></clipPath><clipPath class=\"axesclip\" id=\"clip68c9b7x2y2\"><rect x=\"387.2\" y=\"327.7\" width=\"249.60000000000002\" height=\"168.29999999999998\"/></clipPath><clipPath class=\"axesclip\" id=\"clip68c9b7x2y3\"><rect x=\"387.2\" y=\"327.7\" width=\"249.60000000000002\" height=\"168.29999999999998\"/></clipPath><clipPath class=\"axesclip\" id=\"clip68c9b7x2y4\"><rect x=\"387.2\" y=\"100\" width=\"249.60000000000002\" height=\"168.3\"/></clipPath><clipPath class=\"axesclip\" id=\"clip68c9b7x2y5\"><rect x=\"387.2\" y=\"100\" width=\"249.60000000000002\" height=\"168.3\"/></clipPath><clipPath class=\"axesclip\" id=\"clip68c9b7x3\"><rect x=\"694.4\" y=\"0\" width=\"249.59999999999997\" height=\"576\"/></clipPath><clipPath class=\"axesclip\" id=\"clip68c9b7x3y\"><rect x=\"694.4\" y=\"327.7\" width=\"249.59999999999997\" height=\"168.29999999999998\"/></clipPath><clipPath class=\"axesclip\" id=\"clip68c9b7x3y2\"><rect x=\"694.4\" y=\"327.7\" width=\"249.59999999999997\" height=\"168.29999999999998\"/></clipPath><clipPath class=\"axesclip\" id=\"clip68c9b7x3y3\"><rect x=\"694.4\" y=\"327.7\" width=\"249.59999999999997\" height=\"168.29999999999998\"/></clipPath><clipPath class=\"axesclip\" id=\"clip68c9b7x3y4\"><rect x=\"694.4\" y=\"100\" width=\"249.59999999999997\" height=\"168.3\"/></clipPath><clipPath class=\"axesclip\" id=\"clip68c9b7x3y5\"><rect x=\"694.4\" y=\"100\" width=\"249.59999999999997\" height=\"168.3\"/></clipPath><clipPath class=\"axesclip\" id=\"clip68c9b7x4\"><rect x=\"80\" y=\"0\" width=\"249.60000000000002\" height=\"576\"/></clipPath><clipPath class=\"axesclip\" id=\"clip68c9b7x4y\"><rect x=\"80\" y=\"327.7\" width=\"249.60000000000002\" height=\"168.29999999999998\"/></clipPath><clipPath class=\"axesclip\" id=\"clip68c9b7x4y2\"><rect x=\"80\" y=\"327.7\" width=\"249.60000000000002\" height=\"168.29999999999998\"/></clipPath><clipPath class=\"axesclip\" id=\"clip68c9b7x4y3\"><rect x=\"80\" y=\"327.7\" width=\"249.60000000000002\" height=\"168.29999999999998\"/></clipPath><clipPath class=\"axesclip\" id=\"clip68c9b7x4y4\"><rect x=\"80\" y=\"100\" width=\"249.60000000000002\" height=\"168.3\"/></clipPath><clipPath class=\"axesclip\" id=\"clip68c9b7x4y5\"><rect x=\"80\" y=\"100\" width=\"249.60000000000002\" height=\"168.3\"/></clipPath><clipPath class=\"axesclip\" id=\"clip68c9b7x5\"><rect x=\"387.2\" y=\"0\" width=\"249.60000000000002\" height=\"576\"/></clipPath><clipPath class=\"axesclip\" id=\"clip68c9b7x5y\"><rect x=\"387.2\" y=\"327.7\" width=\"249.60000000000002\" height=\"168.29999999999998\"/></clipPath><clipPath class=\"axesclip\" id=\"clip68c9b7x5y2\"><rect x=\"387.2\" y=\"327.7\" width=\"249.60000000000002\" height=\"168.29999999999998\"/></clipPath><clipPath class=\"axesclip\" id=\"clip68c9b7x5y3\"><rect x=\"387.2\" y=\"327.7\" width=\"249.60000000000002\" height=\"168.29999999999998\"/></clipPath><clipPath class=\"axesclip\" id=\"clip68c9b7x5y4\"><rect x=\"387.2\" y=\"100\" width=\"249.60000000000002\" height=\"168.3\"/></clipPath><clipPath class=\"axesclip\" id=\"clip68c9b7x5y5\"><rect x=\"387.2\" y=\"100\" width=\"249.60000000000002\" height=\"168.3\"/></clipPath></g><g class=\"gradients\"/><g class=\"patterns\"/></defs><g class=\"bglayer\"><rect class=\"bg\" x=\"80\" y=\"327.7\" width=\"249.60000000000002\" height=\"168.29999999999998\" style=\"fill: rgb(229, 236, 246); fill-opacity: 1; stroke-width: 0;\"/><rect class=\"bg\" x=\"387.2\" y=\"327.7\" width=\"249.60000000000002\" height=\"168.29999999999998\" style=\"fill: rgb(229, 236, 246); fill-opacity: 1; stroke-width: 0;\"/><rect class=\"bg\" x=\"694.4\" y=\"327.7\" width=\"249.59999999999997\" height=\"168.29999999999998\" style=\"fill: rgb(229, 236, 246); fill-opacity: 1; stroke-width: 0;\"/><rect class=\"bg\" x=\"80\" y=\"100\" width=\"249.60000000000002\" height=\"168.3\" style=\"fill: rgb(229, 236, 246); fill-opacity: 1; stroke-width: 0;\"/><rect class=\"bg\" x=\"387.2\" y=\"100\" width=\"249.60000000000002\" height=\"168.3\" style=\"fill: rgb(229, 236, 246); fill-opacity: 1; stroke-width: 0;\"/></g><g class=\"layer-below\"><g class=\"imagelayer\"/><g class=\"shapelayer\"/></g><g class=\"cartesianlayer\"><g class=\"subplot xy\"><g class=\"layer-subplot\"><g class=\"shapelayer\"/><g class=\"imagelayer\"/></g><g class=\"minor-gridlayer\"><g class=\"x\"/><g class=\"y\"/></g><g class=\"gridlayer\"><g class=\"x\"><path class=\"xgrid crisp\" transform=\"translate(163.69,0)\" d=\"M0,327.7v168.29999999999998\" style=\"stroke: rgb(255, 255, 255); stroke-opacity: 1; stroke-width: 1px;\"/><path class=\"xgrid crisp\" transform=\"translate(247.38,0)\" d=\"M0,327.7v168.29999999999998\" style=\"stroke: rgb(255, 255, 255); stroke-opacity: 1; stroke-width: 1px;\"/></g><g class=\"y\"><path class=\"ygrid crisp\" transform=\"translate(0,445.5)\" d=\"M80,0h249.60000000000002\" style=\"stroke: rgb(255, 255, 255); stroke-opacity: 1; stroke-width: 1px;\"/><path class=\"ygrid crisp\" transform=\"translate(0,403.41999999999996)\" d=\"M80,0h249.60000000000002\" style=\"stroke: rgb(255, 255, 255); stroke-opacity: 1; stroke-width: 1px;\"/><path class=\"ygrid crisp\" transform=\"translate(0,361.34)\" d=\"M80,0h249.60000000000002\" style=\"stroke: rgb(255, 255, 255); stroke-opacity: 1; stroke-width: 1px;\"/></g></g><g class=\"zerolinelayer\"><path class=\"xzl zl crisp\" transform=\"translate(80,0)\" d=\"M0,327.7v168.29999999999998\" style=\"stroke: rgb(255, 255, 255); stroke-opacity: 1; stroke-width: 2px;\"/><path class=\"yzl zl crisp\" transform=\"translate(0,487.59)\" d=\"M80,0h249.60000000000002\" style=\"stroke: rgb(255, 255, 255); stroke-opacity: 1; stroke-width: 2px;\"/></g><path class=\"xlines-below\"/><path class=\"ylines-below\"/><g class=\"overlines-below\"/><g class=\"xaxislayer-below\"/><g class=\"yaxislayer-below\"/><g class=\"overaxes-below\"/><g class=\"plot\" transform=\"translate(80,327.7)\" clip-path=\"url(#clip68c9b7xyplot)\"><g class=\"scatterlayer mlayer\"><g class=\"trace scatter trace5938a3\" style=\"stroke-miterlimit: 2; opacity: 1;\"><g class=\"fills\"/><g class=\"errorbars\"/><g class=\"lines\"><path class=\"js-line\" d=\"M0,155.59L0.13,43L0.75,120.24L0.8,146.94L0.88,94.64L1.21,152.41L1.55,117.57L1.59,124.01L1.72,127.53L2.09,99.13L2.34,115.1L2.39,123.18L2.72,130.65L2.76,95.76L3.14,119.27L3.18,123.09L3.39,104.19L3.81,120L3.85,136.58L3.89,105.09L4.6,119.44L4.64,110.58L5.31,134.23L5.4,117.97L5.44,118.8L5.57,118.29L5.61,130.73L5.82,119.34L5.86,117.14L5.94,108.54L6.03,119.88L6.19,110.83L6.23,103.5L6.57,145.52L7.03,119.93L7.07,116.75L7.16,103.52L7.41,120.7L7.45,119.24L7.49,104.05L7.78,137.74L8.29,125.24L8.33,119.65L8.41,119.83L8.58,108.17L8.62,109.1L8.66,120.08L8.95,133.4L9.04,118.02L9.12,120.39L9.16,132L9.83,99.11L9.96,119.6L10,119.32L10.04,119.15L10.13,121.54L10.17,91.58L10.21,128.92L10.92,117.97L10.96,113.93L11.59,111.16L11.63,123.58L11.72,118.55L11.76,119.39L12.18,122.92L12.22,114.36L12.43,119.08L12.47,124.42L13.14,116.83L13.26,119.59L13.31,118.84L13.47,116.14L13.77,124.64L13.98,118.86L14.02,117.47L14.1,124.07L14.65,118.63L14.69,113.89L14.98,121.3L15.48,119.16L15.52,119.69L15.86,117.07L16.07,119.78L16.28,118.84L16.32,119.4L16.36,118.45L16.49,122.41L16.74,121.78L16.78,126.39L17.07,106.54L17.57,119.05L17.62,119.17L17.74,118.82L17.83,120.5L17.91,120.29L17.95,132.31L18.62,92.08L18.7,119.29L18.75,119.26L18.91,118.66L18.96,77.74L19.46,154.72L19.75,119.33L19.79,103.15L20.13,92.74L20.42,140.87L20.55,119.2L20.59,119.03L20.63,119.44L20.67,155.56L21.26,40.53L21.42,119.76L21.47,119.45L21.8,118.38L22.05,121.05L22.09,119.37L22.14,101.95L22.39,21.47L22.72,152.05L22.89,118.95L22.93,119.12L22.97,118.23L23.31,120.78L23.52,118.81L23.56,34.97L24.35,120.01L24.4,119.2L24.69,50.73L24.94,151.57L25.15,119.36L25.19,119.41L25.4,119.72L25.65,118.71L25.86,119.35L25.9,118.94L25.94,118.78L25.99,8.41L26.61,142.92L26.74,119.7L26.78,119.49L26.82,120.14L27.16,118.67L27.2,94.1L27.53,71.83L27.87,120.33L27.99,119.73L28.04,119.71L28.2,143.46L28.62,119.24L28.66,87.74L28.96,80.96L29.29,158.29L29.46,119.7L29.5,119.35L29.71,119.89L29.75,65.09L30.42,146.46L30.5,119.47L30.55,119.87L30.67,119.4L30.71,131.18L31.3,103.66L31.47,119.77L31.51,119.72L31.55,120.16L31.59,119.41L31.63,112.04L32.22,126.93L32.43,119.78L32.47,119.83L32.89,113.67L33.22,119.53L33.27,119.45L33.48,118.06L33.68,120.48L34.06,120.08L34.1,119.73L34.61,119.37L34.77,119.79L34.81,120.13L35.4,119.6L35.57,119.81L35.61,119.77L36.2,119.49L36.49,119.71L36.53,119.69L36.74,119.55L37.2,119.88L37.32,119.76L37.37,119.78L37.49,119.37L38.12,119.77L38.16,119.82L38.92,119.66L38.96,119.71L39,119.81L40.59,119.46L40.71,119.77L40.76,120.11L40.97,119.71L41.51,120.15L41.55,119.9L42.14,120.25L42.3,119.39L42.35,120.09L42.81,120.51L42.85,119.8L43.02,120.04L43.06,119.69L43.43,119.1L43.85,120.79L43.89,120.27L43.94,120.04L44.35,119.74L44.48,120.9L44.65,119.87L44.69,119.91L45.32,121.49L45.44,120.74L45.48,120.84L45.53,119.45L45.99,121.35L46.24,120.01L46.28,120.54L46.78,121.65L46.99,120.21L47.03,120.07L47.37,119.58L47.58,122.37L47.79,122.07L47.83,120.53L48.33,123.92L48.5,119.3L48.58,121.34L48.62,117.4L49.04,123.54L49.38,121.32L49.42,121.08L49.71,119.54L49.92,123.53L50.17,119.9L50.21,121.4L50.25,122.39L50.76,117.94L50.92,120.43L50.97,118.59L51.09,126.41L51.3,118.14L51.68,121.06L51.72,114.13L51.93,122.5L52.05,113.19L52.47,121.87L52.51,121.42L52.85,125.15L53.18,117.57L53.23,122L53.27,121.39L53.31,121.8L53.39,120.76L53.48,121.1L53.52,115.75L54.1,132.68L54.27,120.8L54.31,119.44L54.4,132.03L54.65,121.12L54.69,113.24L55.28,130.04L55.49,123.85L55.53,121.57L55.61,120.26L55.65,122.34L55.78,121.42L55.82,116.3L56.41,115.7L56.45,131.33L56.57,122.21L56.62,120.2L56.99,125.79L57.03,113.01L57.33,125.33L57.37,110.13L58.04,138.8L58.12,123.05L58.16,120.78L58.21,120.06L58.29,123.72L58.33,110.4L58.75,125.94L59.08,123.67L59.13,123.64L59.54,127.52L59.67,121.59L59.75,125.9L59.8,127.4L59.92,118.8L60.26,124.04L60.3,127.54L60.42,140.43L60.59,121.9L60.67,126.64L60.72,149.72L61.43,119.07L61.51,126.83L61.55,127.36L61.68,120.46L61.76,130.43L61.97,126.89L62.01,136.02L62.35,111.32L62.81,121.09L62.85,122.36L63.1,121.18L63.23,134.02L63.6,127.5L63.64,127.97L63.77,130.43L63.81,117.81L64.06,123.25L64.11,127.87L64.23,123.23L64.31,135.87L64.44,129.16L64.48,120.59L64.65,134.26L65.19,128.32L65.23,115.7L65.32,129.75L65.53,129.14L65.57,116.79L65.99,137.68L66.36,128.77L66.41,129.97L66.83,134.92L66.91,123.72L67.08,125.43L67.12,143.23L67.54,121.22L67.87,126.46L67.91,128.45L68.29,121.25L68.42,134.43L68.58,129.12L68.62,131.96L68.88,135.92L69.29,115.24L69.34,129.26L69.38,131.31L69.63,120.63L69.71,125.69L69.75,128.51L69.88,123.84L69.92,131.63L69.96,141.79L70.21,122.88L70.76,126.68L70.8,123.83L71.09,135.77L71.26,128.44L71.3,127.2L71.34,125.18L71.89,132.91L72.01,129.21L72.06,132.53L72.22,133.78L72.68,124.78L72.85,126.68L72.89,127.98L73.1,124.69L73.23,134.91L73.6,128.58L73.65,128.21L73.9,125.03L74.06,132.71L74.36,132.47L74.4,128.09L74.69,122.65L74.82,129.8L74.98,128.37L75.03,128.76L75.28,132.3L75.44,124.37L75.61,128.72L75.65,134.93L75.95,116.36L76.41,128.09L76.45,130.5L77.12,133.41L77.16,122.48L77.24,127.14L77.29,126.4L77.7,123.4L78.08,136.36L78.12,128.34L78.21,125.24L78.67,131.33L78.71,121.09L79.5,130.57L79.55,129.03L79.71,130.35L80.22,125.73L80.26,127.93L80.3,128.84L80.59,127.02L80.8,133.97L81.01,128.7L81.05,128.54L81.18,130.45L81.43,122.73L81.76,127.46L81.81,128.38L82.06,135.48L82.31,127.73L82.39,127.98L82.43,133.77L82.73,120.14L83.19,128.64L83.23,129.69L83.31,135.54L83.94,125.43L83.98,130.79L84.27,123.47L84.61,134.41L84.69,128.67L84.73,132.9L84.99,133.51L85.53,125.9L85.57,131.76L85.65,124.21L86.12,129.48L86.16,133.11L86.28,134.11L86.91,123.25L86.95,125.2L86.99,128.62L87.24,135.57L87.29,123.42L87.5,127.96L87.54,124.07L87.91,118.17L88.33,132.94L88.37,132.08L88.42,136.18L88.46,124.96L89.09,132.99L89.13,122.83L89.42,140.57L89.71,119.04L89.88,131.13L89.92,130.63L89.96,107.15L90.59,159.87L90.63,148.34L90.68,130.76L90.72,134.42L90.93,90.88L91.26,118.92L91.3,115.28L91.55,143.5L92.1,129.79L92.14,131.04L92.18,130.58L92.22,138.74L92.27,132.44L92.31,141.81L92.94,116.72L93.06,140.59L93.1,136.75L93.27,155.56L93.69,127.44L93.86,139.55L93.9,135.96L94.15,129.24L94.4,146.38L94.65,140.67L94.69,135.27L94.78,131.67L94.82,148.55L95.2,135.22L95.24,147.08L95.45,105.94L95.78,152.67L96.03,123.95L96.07,156.06L96.33,158.63L96.87,119.66L96.91,123.44L97.12,153.76L97.62,119.27L97.66,150.63L97.71,137.71L98,127.05L98.17,156.36L98.5,149.79L98.54,144L98.63,139.84L98.79,150.88L98.84,146.05L98.88,140.03L99.17,135.64L99.3,153.42L99.34,139.32L99.38,126.02L99.63,151.73L100.13,137.6L100.17,139.1L100.26,134.58L100.68,153.66L100.93,148.17L100.97,143.45L101.14,151.17L101.18,133.22L101.43,145.74L101.47,121.14L101.93,154.73L102.27,148.99L102.31,146.44L102.39,154.68L102.69,131.1L102.94,135.56L102.98,134.63L103.4,154.09L103.77,145.39L103.82,145.26L104.11,132.25L104.23,152.65L104.48,138.9L104.53,158.56L104.82,137.78L105.32,147.2L105.36,146.92L105.61,133.39L106.03,154.9L106.07,136.52L106.12,145.69L106.2,159.42L106.74,140.19L106.83,143.72L106.87,141.89L107,137.82L107.5,154.78L107.54,137.22L107.66,153.58L108.25,133.57L108.29,143.63L108.33,149.93L108.38,149.69L108.42,138.07L108.5,133.96L109.05,159.81L109.21,147.44L109.25,143.16L109.63,136.21L109.88,154.58L109.92,140.93L109.97,131.48L110.22,159.27L110.76,150.76L110.8,135.52L110.84,159.03L111.1,132.68L111.56,145.08L111.6,144.69L111.64,158.42L112.06,131.67L112.31,141.18L112.35,139.55L112.85,154.98L112.94,134.96L113.1,143.21L113.15,156.16L113.31,157.61L113.9,133.86L113.94,147.17L114.03,155.63L114.32,131.18L114.44,146.39L114.49,151.86L114.65,134.92L115.07,158.72L115.24,145.87L115.28,144.63L115.36,132.86L115.91,157.7L115.95,143.73L116.33,136.49L116.41,157.45L116.62,147.32L116.66,129.77L116.7,158.9L117.41,144.86L117.46,159.29L118.21,130.86L118.25,148.02L118.54,120.47L118.63,159.87L118.96,144.2L119,144.98L119.13,138.3L119.38,155.18L119.72,149.73L119.76,120.66L119.97,159.02L120.51,144.62L120.55,147.74L120.64,154.22L121.01,120.56L121.31,140.27L121.35,158.45L121.64,159.3L121.85,135.92L122.18,145.18L122.23,156.86L122.52,143.58L122.81,159.56L122.98,150.01L123.02,156.86L123.65,159.77L123.69,117.1L123.77,156.82L123.82,158.8L123.94,158.99L124.03,127.08L124.53,151.13L124.57,159.44L124.61,138.08L124.74,159.79L125.32,153.52L125.36,158.87L125.7,159.84L125.95,115.3L126.12,149.28L126.16,154.97L126.2,156.12L126.24,119.45L126.91,159.86L127,153.77L127.04,149.09L127.25,114.44L127.54,159.23L127.79,155.63L127.83,157.23L127.96,152.72L128.25,159.81L128.29,146.78L128.38,138.3L128.63,159.69L129.05,154.96L129.09,155.83L129.26,150.07L129.72,159.79L129.84,156.4L129.88,156.44L129.93,142.4L130.09,159.33L130.6,156.7L130.64,157.22L130.72,157.74L130.8,146.89L130.85,159.58L131.43,147.31L131.64,156.4L131.68,157.78L131.77,145.87L131.85,158.17L132.06,156.48L132.1,129.51L132.23,159.54L132.85,153.88L132.9,158.11L132.94,158.89L133.06,155.46L133.11,111.97L133.86,158.66L133.9,153.22L134.11,159.82L134.28,128.12L134.65,157.57L134.7,156.84L134.82,159.25L134.86,154.11L135.11,157.73L135.16,148.8L135.49,141.03L135.66,159.59L135.99,159.02L136.04,155.3L136.33,159.57L136.58,148.22L136.79,158.22L136.83,157.28L136.87,159.19L137.33,154.56L137.58,158.94L137.63,158.05L138.13,159.68L138.38,153.99L138.42,157.91L138.46,154.23L139.13,159.58L139.17,155.38L139.22,157.31L139.42,159.8L139.51,154.34L139.72,158.31L139.76,154.13L140.14,159.57L140.55,158.55L140.6,157.59L140.93,153.14L141.14,159.3L141.35,157.39L141.39,157.61L141.52,159.17L141.77,155.63L142.14,157.55L142.19,157.8L142.27,159.12L142.31,155.81L142.9,157.09L142.94,156.93L143.06,159.58L143.4,156.02L143.65,158.47L143.69,155.67L143.73,159.5L144.24,155.35L144.45,158.74L144.49,159.35L144.53,153.55L145.12,159.42L145.24,158.72L145.28,159.26L145.87,154.71L146.08,157.94L146.12,158.79L146.2,154.59L146.79,159.73L146.87,158.44L146.91,158.39L147.17,157.6L147.25,158.92L147.29,158.73L147.33,155.66L147.46,159.67L148.09,158.07L148.13,158.61L148.46,157.71L148.55,159.39L148.76,158.64L148.8,156.37L149.38,159.86L149.55,159.37L149.59,158.08L149.72,159.87L150.3,157.69L150.35,159.77L150.39,158.67L150.76,157.71L150.89,159.87L151.18,159.44L151.22,159L151.35,159.86L151.64,157.49L151.89,157.98L151.94,159.72L152.1,159.86L152.15,157.85L152.69,158.58L152.73,159.12L152.98,157.91L153.15,159.87L153.23,159.05L153.27,155.66L153.4,159.87L154.07,159.75L154.11,159.87L154.2,159.7L154.24,157.39L154.28,156.47L154.45,159.87L154.86,159.33L154.91,159.88L154.99,159.73L155.03,157.27L155.58,159.87L155.79,158.9L155.83,159.88L155.99,158.71L156.62,158.95L156.66,159.84L156.79,159.88L157.04,157.82L157.42,159.63L157.46,159.87L157.63,158.11L157.67,159.59L157.71,159.88L157.88,157.52L158.46,158.49L158.51,159.88L158.84,158.12L158.88,159.59L158.92,159.87L159.13,159.88L159.26,157.71L159.68,157.99L159.72,159.88L159.93,159.36L160.05,159.82L160.1,157.61L160.22,159.88L160.39,155.8L160.76,159.46L160.81,159.88L160.97,159.37L161.43,159.83L161.48,157.41L161.81,156.93L162.19,159.88L162.27,159.86L162.31,157.57L162.94,155.8L163.07,159.88L163.11,159.8L163.19,159.88L163.74,156.2L163.82,159.88L163.86,159.88L164.03,155.18L164.11,159.72L164.15,159.88L164.32,159.75L164.36,158.71L164.95,155.75L165.07,159.88L165.12,159.81L165.16,158.91L165.2,157.86L165.24,159.88L165.87,159.88L165.91,159.85L166.04,159.88L166.29,154.95L166.62,159.88L166.67,159.88L167.13,159.17L167.17,159.72L167.21,159.88L167.38,159.88L167.42,158.45L167.46,157.06L167.5,159.88L168.09,158.8L168.13,159.88L168.67,159.23L168.72,155.45L169.47,159.88L169.51,159.61L169.59,159.88L170.18,155.93L170.22,159.88L170.26,159.87L170.47,158.78L170.51,159.88L170.68,159.85L170.72,159.08L171.31,157.96L171.44,159.88L171.52,159.87L171.56,159.76L171.69,159.88L172.23,159.13L172.31,159.88L172.36,159.86L172.52,156.43L172.57,159.88L173.11,159.87L173.15,159.88L173.95,158.46L173.99,159.88L174.16,158.16L174.41,159.66L174.45,159.83L174.7,159.83L174.74,158.79L175.49,159.88L175.54,159.87L175.7,157.63L175.83,159.88L175.87,159.86L176,158.01L176.46,159.88L176.5,159.87L177.29,156.6L177.34,159.88L177.59,159.86L177.63,158.87L178.13,158.52L178.42,159.88L178.47,157.84L179.22,159.88L179.26,159.85L179.72,158.64L179.85,159.88L179.89,159.88L180.01,158.57L180.47,159.88L180.52,159.88L180.98,158.08L181.27,159.25L181.31,159.88L181.9,159.82L181.94,157.28L182.73,159.88L182.77,159.62L183.07,159.07L183.24,159.88L183.28,159.69L183.32,157.85L184.03,159.88L184.07,159.69L184.11,159.87L184.2,159.88L184.49,156.55L184.83,159.3L184.87,159.88L185.54,159.69L185.58,156.53L185.91,153.73L186.37,159.88L186.42,159.88L187,159.29L187.04,155.43L187.8,159.88L187.84,159.88L188.34,159.32L188.38,156.54L189.14,159.88L189.18,159.88L190.1,159.32L190.14,158.81L190.93,159.88L190.98,159.09L191.81,159.88L191.86,159.74L191.98,159.88L192.19,159.21L192.57,159.85L192.61,159.88L249.6,159.88\" style=\"vector-effect: none; fill: none; stroke: rgb(99, 110, 250); stroke-opacity: 1; stroke-width: 2px; opacity: 1;\"/></g><g class=\"points\"/><g class=\"text\"/></g></g></g><g class=\"overplot\"/><path class=\"xlines-above crisp\" d=\"M0,0\" style=\"fill: none;\"/><path class=\"ylines-above crisp\" d=\"M0,0\" style=\"fill: none;\"/><g class=\"overlines-above\"/><g class=\"xaxislayer-above\"><g class=\"xtick\"><text text-anchor=\"middle\" x=\"0\" y=\"509\" transform=\"translate(80,0)\" style=\"font-family: 'Open Sans', verdana, arial, sans-serif; font-size: 12px; fill: rgb(42, 63, 95); fill-opacity: 1; white-space: pre; opacity: 1;\">0</text></g><g class=\"xtick\"><text text-anchor=\"middle\" x=\"0\" y=\"509\" style=\"font-family: 'Open Sans', verdana, arial, sans-serif; font-size: 12px; fill: rgb(42, 63, 95); fill-opacity: 1; white-space: pre; opacity: 1;\" transform=\"translate(163.69,0)\">2000</text></g><g class=\"xtick\"><text text-anchor=\"middle\" x=\"0\" y=\"509\" style=\"font-family: 'Open Sans', verdana, arial, sans-serif; font-size: 12px; fill: rgb(42, 63, 95); fill-opacity: 1; white-space: pre; opacity: 1;\" transform=\"translate(247.38,0)\">4000</text></g></g><g class=\"yaxislayer-above\"><g class=\"ytick\"><text text-anchor=\"end\" x=\"79\" y=\"4.199999999999999\" transform=\"translate(0,487.59)\" style=\"font-family: 'Open Sans', verdana, arial, sans-serif; font-size: 12px; fill: rgb(42, 63, 95); fill-opacity: 1; white-space: pre; opacity: 1;\">0</text></g><g class=\"ytick\"><text text-anchor=\"end\" x=\"79\" y=\"4.199999999999999\" style=\"font-family: 'Open Sans', verdana, arial, sans-serif; font-size: 12px; fill: rgb(42, 63, 95); fill-opacity: 1; white-space: pre; opacity: 1;\" transform=\"translate(0,445.5)\">0.05</text></g><g class=\"ytick\"><text text-anchor=\"end\" x=\"79\" y=\"4.199999999999999\" style=\"font-family: 'Open Sans', verdana, arial, sans-serif; font-size: 12px; fill: rgb(42, 63, 95); fill-opacity: 1; white-space: pre; opacity: 1;\" transform=\"translate(0,403.41999999999996)\">0.1</text></g><g class=\"ytick\"><text text-anchor=\"end\" x=\"79\" y=\"4.199999999999999\" style=\"font-family: 'Open Sans', verdana, arial, sans-serif; font-size: 12px; fill: rgb(42, 63, 95); fill-opacity: 1; white-space: pre; opacity: 1;\" transform=\"translate(0,361.34)\">0.15</text></g></g><g class=\"overaxes-above\"/></g><g class=\"subplot x2y2\"><g class=\"layer-subplot\"><g class=\"shapelayer\"/><g class=\"imagelayer\"/></g><g class=\"minor-gridlayer\"><g class=\"x2\"/><g class=\"y2\"/></g><g class=\"gridlayer\"><g class=\"x2\"><path class=\"x2grid crisp\" transform=\"translate(470.89,0)\" d=\"M0,327.7v168.29999999999998\" style=\"stroke: rgb(255, 255, 255); stroke-opacity: 1; stroke-width: 1px;\"/><path class=\"x2grid crisp\" transform=\"translate(554.5799999999999,0)\" d=\"M0,327.7v168.29999999999998\" style=\"stroke: rgb(255, 255, 255); stroke-opacity: 1; stroke-width: 1px;\"/></g><g class=\"y2\"><path class=\"y2grid crisp\" transform=\"translate(0,411.84)\" d=\"M387.2,0h249.60000000000002\" style=\"stroke: rgb(255, 255, 255); stroke-opacity: 1; stroke-width: 1px;\"/><path class=\"y2grid crisp\" transform=\"translate(0,336.07)\" d=\"M387.2,0h249.60000000000002\" style=\"stroke: rgb(255, 255, 255); stroke-opacity: 1; stroke-width: 1px;\"/></g></g><g class=\"zerolinelayer\"><path class=\"x2zl zl crisp\" transform=\"translate(387.2,0)\" d=\"M0,327.7v168.29999999999998\" style=\"stroke: rgb(255, 255, 255); stroke-opacity: 1; stroke-width: 2px;\"/><path class=\"y2zl zl crisp\" transform=\"translate(0,487.6)\" d=\"M387.2,0h249.60000000000002\" style=\"stroke: rgb(255, 255, 255); stroke-opacity: 1; stroke-width: 2px;\"/></g><path class=\"xlines-below\"/><path class=\"ylines-below\"/><g class=\"overlines-below\"/><g class=\"xaxislayer-below\"/><g class=\"yaxislayer-below\"/><g class=\"overaxes-below\"/><g class=\"plot\" transform=\"translate(387.2,327.7)\" clip-path=\"url(#clip68c9b7x2y2plot)\"><g class=\"scatterlayer mlayer\"><g class=\"trace scatter trace9c19b5\" style=\"stroke-miterlimit: 2; opacity: 1;\"><g class=\"fills\"/><g class=\"errorbars\"/><g class=\"lines\"><path class=\"js-line\" d=\"M0,159.89L0.25,27.24L0.75,112.54L0.8,95.63L1,26.38L1.26,137.31L1.46,83.65L1.51,33.88L1.84,17.91L1.92,142.23L2.26,90.29L2.3,42.29L2.51,14.06L2.85,117.22L3.05,78.28L3.1,26.74L3.56,155.32L3.85,77.65L3.89,67.4L3.93,65.59L3.98,81.72L4.02,38.39L4.48,81.19L4.81,78.49L4.85,57.02L5.1,42.99L5.36,76.5L5.61,73.69L5.65,18.68L5.98,124.45L6.4,74.55L6.44,68.4L6.86,18.38L6.9,80.06L7.11,77.27L7.16,74.41L7.32,112.59L7.78,18.83L7.91,52.85L7.95,76.62L8.37,111.56L8.54,55.68L8.58,71.32L8.62,142.39L9.21,41.21L9.37,72.31L9.41,69.1L9.54,33.86L9.62,109.8L10.21,97.29L10.25,66.83L10.71,35.48L10.75,117.49L10.92,71.52L10.96,36.11L11.59,157.27L11.76,109.56L11.8,74.46L11.88,14.11L12.05,158.32L12.43,92.12L12.47,27.45L12.64,155.3L12.8,24.88L13.22,107.62L13.26,33.33L13.31,139.51L13.81,33L14.02,90.5L14.06,137.14L14.23,154.26L14.81,20.3L14.85,146.62L15.31,63.15L15.61,98.29L15.65,103.81L15.86,27.36L16.03,153.18L16.11,103.22L16.15,27.3L16.44,146.83L16.91,139.48L16.95,102.35L17.28,154.72L17.53,12.83L17.7,77.64L17.74,84.66L18.12,139.61L18.24,37.14L18.45,79.8L18.5,119.51L18.75,145.58L18.96,23.56L19.33,53.26L19.37,100.94L19.96,59.15L20,141.39L20.04,83.13L20.09,113.94L20.13,43.55L20.8,88.3L20.84,135.58L21.09,61.73L21.63,72.22L21.68,119.02L22.26,28.92L22.47,74.16L22.51,60.73L22.6,146.47L22.72,41.91L23.22,84.93L23.27,61.1L23.43,9.23L23.68,127.82L23.93,65.87L23.98,157.34L24.27,15.31L24.73,70.3L24.77,100.47L25.06,159.14L25.52,21.69L25.57,118.24L26.4,16.36L26.45,68.64L26.74,38.87L27.11,154.82L27.16,55.22L27.2,11.81L27.24,14.04L27.28,67.43L27.41,122.15L27.66,21.15L28.04,34.91L28.08,39.14L28.12,113.76L28.24,15.67L28.79,18.79L28.83,37.84L29.21,149.63L29.33,9.79L29.58,88.42L29.63,52.83L29.83,74.47L29.92,25.53L29.96,36.38L30,145.55L30.34,156.52L30.67,8.41L30.76,60.74L30.8,49.97L31.13,14.6L31.22,153.15L31.51,25.85L31.55,118.32L32.05,11.92L32.39,38.13L32.43,61.67L32.55,11.13L32.81,153.55L33.18,87.72L33.22,58.05L33.43,108.09L33.68,9.16L33.85,56.57L33.89,130.68L34.14,15.27L34.35,138.49L34.61,136.21L34.65,148.73L34.73,159.75L35.23,17.38L35.4,95.79L35.44,117.26L35.48,26.81L35.94,156.6L36.2,92.15L36.24,65.95L36.32,155.91L36.99,134.4L37.03,118.4L37.2,151.54L37.24,45.22L37.7,131.9L37.74,71.51L37.79,39.79L37.83,155.93L38.41,115.28L38.45,143.13L38.5,149.65L38.58,115.09L38.71,131.34L38.75,66.01L38.87,159.12L38.96,13.66L39.5,119.59L39.54,130.7L39.67,96.23L39.79,142.66L39.84,141.81L39.88,92.59L40.25,149.61L40.46,44.14L40.63,126.72L40.67,44.04L40.84,134L41.34,10.92L41.38,43.63L41.43,48.1L41.47,13.95L42.05,142.85L42.1,74.91L42.14,116.13L42.39,152.42L42.81,27.16L42.85,102.27L42.89,125.41L43.14,50.83L43.27,134.41L43.48,129.86L43.52,60.76L43.64,47.53L44.27,146.5L44.31,125.05L44.56,10.27L44.61,150.13L45.07,62.33L45.11,142.28L45.69,12.14L45.78,154.28L45.9,53.64L45.94,44.97L46.15,19.75L46.36,115.86L46.57,70.81L46.61,109.4L47.12,23.07L47.41,58.02L47.45,43.16L47.91,153.06L48.12,15.89L48.2,61.52L48.25,43.97L48.41,11.47L49.04,131.96L49.08,107.84L49.59,9.71L49.71,113.7L49.84,52.59L49.88,58.69L50.09,18.4L50.3,142.74L50.63,107.34L50.67,33.47L50.92,11.29L51.13,157.72L51.43,64.59L51.47,58.72L51.55,61.79L51.59,147.44L52.26,13.34L52.31,47.29L52.35,135.2L52.89,136.18L53.02,17.13L53.14,57.97L53.18,42.69L53.23,156.87L53.27,23.63L53.94,125.05L53.98,33.89L54.15,151.33L54.48,12.08L54.69,49.51L54.73,29.93L54.86,19L55.4,136.04L55.44,60.24L55.49,30.51L55.61,152.64L56.03,14.23L56.24,110.77L56.28,45.65L56.66,147.98L56.91,10.71L57.03,92.43L57.08,115.32L57.58,119.95L57.7,11.46L57.87,28.86L57.91,149.17L58.04,25.26L58.71,31.27L58.75,16.03L59.33,135.41L59.46,14.44L59.5,49.5L59.54,50.02L59.59,9.16L59.96,149.09L60.21,23.42L60.26,79.54L60.3,147.55L60.51,10.14L61.01,99.28L61.05,145.22L61.13,29.37L61.8,55.36L61.85,75.95L62.43,130.61L62.6,12.95L62.64,109.77L62.98,14.13L63.23,112.26L63.39,74.81L63.44,67.13L63.81,15.14L64.11,122.72L64.19,89.4L64.23,60.19L64.31,153.82L64.69,23.16L64.86,73.65L64.9,91.42L65.32,158.51L65.65,18.27L65.7,85.59L65.9,10.13L66.16,135.62L66.45,55.37L66.49,84.85L66.62,142.17L66.7,16.98L67.2,84.83L67.24,35.16L67.41,21.04L67.45,133.11L68,130.62L68.04,20.18L68.29,11.31L68.62,114.76L68.79,84.82L68.83,47.96L68.88,48.35L68.92,79.24L69.08,12.04L69.34,92.78L69.54,85.59L69.59,59.44L69.67,100.87L69.75,12.11L70.3,46.54L70.34,51.91L70.59,22.34L71.13,136.07L71.18,86.03L71.55,8.52L71.6,89.43L71.89,87.77L71.93,112.47L72.35,129.41L72.56,28.56L72.73,35.51L72.77,102.96L72.85,13.06L73.02,104.3L73.39,83.98L73.44,108.18L73.81,137.17L73.9,49.19L74.19,83.73L74.23,92.55L74.69,25.19L74.94,110.06L74.98,83.29L75.03,82.35L75.32,8.92L75.7,142.14L75.74,97.95L75.78,65.4L75.95,145.04L76.24,9.7L76.57,94.72L76.62,100.35L76.87,9.55L76.91,129.3L77.33,91.99L77.37,106.68L77.45,19.2L77.79,130.83L78.08,47.61L78.12,151.77L78.42,25.79L78.88,68.9L78.92,120.04L79.5,40.89L79.55,151.71L79.67,100.45L79.71,81.68L79.84,26.41L79.92,109.88L80.3,66.01L80.34,51L80.42,32.5L81.05,152.44L81.09,71.14L81.14,72.05L81.18,79.1L81.39,31.11L81.6,57.86L81.64,17.51L82.31,139.59L82.43,81.1L82.47,78.22L82.52,77.04L82.56,51.43L82.93,27.27L83.19,145.06L83.23,15.08L83.86,134.29L83.98,79.88L84.02,72.34L84.11,16.85L84.15,158.11L84.78,14.85L84.94,67.48L84.99,110.43L85.11,28.2L85.4,123.98L85.7,56.12L85.74,127.36L86.41,21.12L86.49,69.42L86.53,71.75L86.62,11.76L86.99,116.53L87.2,85.22L87.24,20.26L87.45,90.7L88,84.5L88.04,76.77L88.42,43.06L88.58,93.44L88.63,77.92L88.67,24.58L88.96,100.14L89,10.81L89.46,93.85L89.5,77.08L89.59,122.22L89.88,16.36L90.26,59.08L90.3,99.22L90.43,9.84L90.93,106.74L91.09,58.22L91.14,63.05L91.47,90.03L91.72,22.91L91.85,74.21L91.89,64.12L91.93,74.59L92.31,10.67L92.48,69.18L92.52,23.58L92.85,9.36L93.14,153.89L93.23,18.22L93.27,13.23L93.69,150.88L93.73,33.95L94.11,12.76L94.36,127.31L94.4,125.45L94.44,25.87L94.61,152.01L94.65,9.16L95.2,103.87L95.24,50.92L95.61,8.76L95.91,146.87L95.95,14.68L96.7,154.1L96.74,38.69L96.79,13.75L96.99,158.81L97.25,98.85L97.29,154.87L97.58,18.46L97.83,150.61L97.87,157.27L98.58,27.64L98.63,133.19L98.67,149.21L98.96,157.61L99.04,39.79L99.38,149.14L99.42,158.61L99.76,159.51L100.26,31.75L100.3,99.99L100.34,157.25L100.38,34.89L100.84,158.84L101.05,156.85L101.1,159.2L101.6,15.87L101.89,61.54L101.93,105.88L101.97,158.14L102.43,16.45L102.64,115.3L102.69,54.61L102.94,31.16L103.23,159.11L103.44,85.14L103.48,114.86L103.9,143.68L104.07,34.23L104.11,36.68L104.36,152.37L104.78,26.86L104.86,132.25L104.9,97.49L105.24,42.77L105.53,159.18L105.61,109.22L105.66,122.39L106.16,149.18L106.37,38.58L106.41,96.23L106.45,128.32L106.49,152.64L106.74,28.49L107.16,116.43L107.2,113.17L107.46,142.34L107.54,14.03L107.92,117.58L107.96,118.43L108,150.85L108.5,19.2L108.71,138.17L108.75,115.35L108.92,152.85L109.09,21.63L109.46,118.37L109.51,141.63L109.67,142.34L110.3,15.34L110.34,123.31L110.51,136.57L110.97,13.72L111.05,105.91L111.1,126.74L111.14,157.92L111.39,30.3L111.81,121.96L111.85,83.26L111.89,79.67L111.93,138.71L111.97,152.23L112.64,16.76L112.77,58.11L112.81,146.5L113.52,9.84L113.56,126.72L113.82,137.62L114.11,45.73L114.23,97.75L114.28,124.31L114.74,159.44L114.82,48.43L114.99,110.7L115.03,91.38L115.15,48.38L115.57,150.66L115.74,136.6L115.78,41.64L116.45,153.52L116.58,128.94L116.62,108.3L116.91,28.34L117.33,157.05L117.37,56.29L117.41,91.87L117.46,88.67L117.5,126.27L117.54,153.95L117.62,17.39L117.67,155.23L118.21,39.08L118.25,129.85L118.29,149.88L118.54,70.56L118.96,144.27L119,119.54L119.09,130.75L119.13,96.5L119.21,48.98L119.84,150.98L119.88,132.67L119.93,102.9L120.01,128.6L120.05,34.95L120.51,155.05L120.68,33.04L120.8,110.13L120.85,140.38L120.93,141.25L120.97,107.62L121.01,70.92L121.05,137.77L121.6,8.68L121.72,79.1L121.77,85.34L122.14,11.62L122.27,146.7L122.52,32.76L122.56,40.25L122.77,16.28L122.98,121.28L123.11,48.92L123.15,151.28L123.4,9.92L123.9,139.26L123.94,42.77L124.32,120.84L124.4,13.66L124.49,25.82L124.53,153.75L125.16,10.96L125.28,49.14L125.32,58.56L125.78,94.65L125.99,10.9L126.03,82.29L126.29,27.99L126.66,141.9L126.7,113.24L126.75,118.2L127,9.32L127.33,152.65L127.54,71.81L127.58,139.27L128.08,157.02L128.42,14.97L128.46,24.96L128.55,18.99L129.17,131.84L129.26,63.18L129.3,23.61L129.47,21.95L129.84,100.18L130.05,50.72L130.09,28.42L130.89,143.12L130.93,112.77L130.97,115.84L131.01,24.41L131.22,151.22L131.6,17.17L131.77,93.27L131.81,31.39L132.1,17.05L132.31,157.65L132.6,143.57L132.65,156.75L132.81,79.29L133.27,92.32L133.32,116.89L133.78,64.67L133.82,155.59L134.03,95.21L134.07,107.83L134.11,158.61L134.28,22.57L134.78,91.91L134.82,90.2L135.03,50.81L135.2,152.28L135.49,104.19L135.53,29.11L135.66,159.55L136.29,137.62L136.33,156.26L136.5,69.06L136.62,158.87L137.08,98.56L137.12,109.33L137.21,158.46L137.25,94.96L137.29,140.58L137.33,17.41L137.37,157.93L138.09,144.79L138.13,148.28L138.59,25.55L138.8,159.09L138.88,124.47L138.92,140.69L139.01,21.05L139.68,158.77L139.72,156.91L139.76,16.6L139.93,157.3L140.47,155.49L140.51,156.21L140.85,157.55L141.06,77.74L141.31,117.66L141.35,159.06L141.98,116.48L142.1,155.77L142.14,151.12L142.27,159.7L142.4,109.28L142.6,151.29L142.65,155.11L142.73,159.65L142.77,104.27L143.4,134.46L143.44,140.09L143.82,75.81L143.99,159.67L144.19,155.15L144.24,110.47L144.28,159.05L144.91,76.37L144.99,145.05L145.03,158.39L145.16,158.4L145.2,62.29L145.49,155.8L145.53,152.92L145.62,157.95L145.66,120.42L145.78,159.52L146.04,84.88L146.45,158.09L146.5,150.94L146.54,144.14L146.87,159.5L147.21,157.52L147.25,152.32L147.37,117.61L147.63,159.23L147.96,156.42L148,151.35L148.5,134.24L148.8,159.75L148.84,158.35L149.43,144.69L149.55,159.59L149.59,159.66L149.76,114.27L150.18,154.31L150.22,157.4L150.43,158.36L150.93,105.56L150.97,153.46L151.02,153.69L151.39,157.45L151.64,96.62L151.73,154.67L151.77,159.58L151.98,131.49L152.35,149.72L152.4,158.22L152.65,128.44L152.86,159.53L152.98,153.99L153.02,155.58L153.32,158.91L153.4,150.26L153.65,158.01L153.69,139.38L154.32,158.49L154.45,156.5L154.49,155.03L154.57,154.02L154.91,159.8L155.07,154.28L155.12,152.2L155.53,159.19L155.74,148.17L155.91,157.65L155.95,155.44L155.99,151.19L156.58,159.46L156.66,157.16L156.71,156.84L156.83,158.98L157.38,152.96L157.5,154.11L157.54,156.52L158.17,158.93L158.21,152.79L158.25,158.52L158.42,154.04L158.46,159.82L158.63,155.47L158.67,152.36L158.92,159.45L159.47,156.5L159.51,156.9L160.1,159.59L160.14,151.53L160.22,156.55L160.26,157.17L160.35,159.81L160.64,152.31L161.02,157.46L161.06,155.17L161.48,159.8L161.52,153.41L161.81,159.19L161.85,155.43L161.94,159.37L162.19,152.1L162.56,158.02L162.61,153.94L162.77,159.65L163.36,157.82L163.4,156.13L163.74,150.87L164.2,159.85L164.24,157.02L164.7,158.25L164.95,152.41L164.99,158.3L165.2,153.2L165.33,158.55L165.74,156.11L165.79,156.77L165.87,155.14L166.25,157.84L166.29,152.12L166.41,158.92L167.04,155.53L167.08,157.01L167.46,152.91L167.63,158.69L167.71,156.99L167.75,153.85L167.79,150.9L167.96,159.32L168.42,156.89L168.46,157.17L168.55,156.09L168.67,158.05L168.72,159.27L168.97,155.56L169.47,155.98L169.51,157.05L169.85,156.08L169.89,158.98L170.14,157.44L170.18,158.76L170.47,153.62L170.93,156.98L170.97,157.82L171.06,153.96L171.48,158.76L171.69,157.11L171.73,156.79L171.81,156.48L171.94,158.3L172.06,156.98L172.1,154.29L172.36,159.17L172.52,151.28L172.86,157.03L172.9,156.98L172.94,157.5L173.44,156.03L173.53,157.42L173.57,155.57L173.95,145.57L174.03,159L174.28,156.98L174.32,157.73L174.91,158.09L175.03,150.28L175.08,156.9L175.12,157.39L175.37,155.73L175.45,157.85L175.66,156.44L175.7,159.58L176,149.82L176.5,156.07L176.54,157.12L176.92,155.3L176.96,159.77L177.17,157.09L177.21,156.11L177.63,153.22L177.84,159.77L177.92,156.67L177.96,156.97L178,151.5L178.09,159.15L178.67,156.33L178.72,157.95L179.09,151.28L179.39,159.65L179.47,156.81L179.51,156.97L179.89,157.66L180.01,151.1L180.14,156.97L180.18,158.88L180.35,155.97L180.68,159.7L180.93,157.59L180.98,159.83L181.6,150.73L181.73,156.98L181.77,157.16L182.11,155.61L182.23,159.52L182.48,157.07L182.52,157.3L182.73,158.31L183.07,151.95L183.28,156.64L183.32,159.64L184.03,154.89L184.07,157.1L184.11,157.79L184.49,150.43L184.7,159.1L184.83,152.56L184.87,156.96L184.91,159.44L185.2,154.81L185.54,157.11L185.58,148.37L185.79,159.07L186.33,156.98L186.37,156.98L186.79,154.06L186.92,159.08L187.08,157.01L187.13,159.68L187.38,153.73L187.92,156.59L187.96,157.09L188.26,159.83L188.38,153.47L188.68,158.13L188.72,154.38L188.8,159.36L188.93,153.81L189.47,157.11L189.51,157.08L189.72,154.53L189.8,158L189.97,157.27L190.01,153.64L190.22,159.59L190.73,156.95L190.77,152.14L190.98,158.23L191.1,150.29L191.52,157.23L191.56,157.65L191.69,159.58L192.02,156.08L192.23,157.4L192.27,159.4L192.86,153.92L193.03,157.26L193.07,157.27L193.19,155.91L193.4,158.91L193.74,158.49L193.78,155.66L194.07,154.49L194.45,158.87L194.58,157.36L194.62,157.19L194.99,159.17L195.08,155.14L195.29,157.37L195.33,157.84L195.7,159.68L195.87,153.6L196.08,155.82L196.12,157.36L196.29,154.91L196.92,159.62L196.96,158.79L197,157.64L197.21,159.68L197.76,150.23L197.8,157.03L197.84,155.58L198.47,159.78L198.51,157.43L198.55,157.36L198.68,155.69L198.72,158.16L198.76,157.58L198.8,159.85L199.3,151.99L199.55,158.53L199.6,158.51L199.68,155.37L199.89,159.62L200.14,157.24L200.18,152.46L200.27,159.19L200.94,157.05L200.98,157.76L201.02,159.24L201.31,154.84L201.73,158.57L201.77,156.71L201.98,159.34L202.27,156.14L202.57,158.74L202.61,156.29L202.86,158.8L203.15,155.17L203.36,157.56L203.4,156.7L203.45,154.51L204.07,159.04L204.12,158.02L204.16,157.95L204.32,158.48L204.87,153.42L204.95,156.74L204.99,159.07L205.2,159.32L205.66,153.01L205.75,156.81L205.79,157.53L205.96,153.02L206.33,159.76L206.46,157.53L206.5,153.64L206.58,159.46L207.25,157.5L207.3,157.59L207.42,158.48L207.59,152.9L207.63,157.19L207.67,158.11L207.92,154.7L208.22,158.97L208.43,156.37L208.47,157.16L208.76,154.24L208.93,158.1L209.01,157.59L209.05,153.52L209.26,158.67L209.81,157.29L209.85,157.43L210.02,158.84L210.6,155.85L210.64,157.36L210.73,156.33L211.4,158.76L211.44,157.15L212.02,156.3L212.07,157.98L212.19,157.43L212.23,157.39L212.32,157.2L212.94,158.8L212.99,157.08L213.32,155.88L213.57,158.31L213.78,157.53L213.82,157.74L214.33,155.76L214.58,159.85L214.62,157.61L214.74,158.08L215.12,154.18L215.16,157.57L215.37,154.41L215.58,158.12L215.66,157.22L215.71,157.53L215.83,156.51L216,158.85L216.21,157.52L216.25,156.11L216.63,159.79L217.05,157.84L217.09,157.59L217.3,157.12L217.42,159.88L217.71,157.59L217.76,153.54L218.3,159.71L218.55,157.59L218.59,157.97L218.76,158.72L219.26,155.19L219.35,155.25L219.39,157.63L219.64,155.17L219.85,159.24L220.1,157.59L220.14,157.55L220.18,159.15L220.81,154.62L220.85,157.59L220.89,157.45L221.15,154.4L221.27,158.68L221.56,157.6L221.61,159.41L222.19,155.11L222.4,156.02L222.44,157.58L222.69,157.92L222.74,154.64L222.82,157.6L222.86,159.87L223.07,156.03L223.61,159.55L223.66,157.59L223.74,158.97L224.2,156.72L224.24,155.27L225,159.72L225.04,157.59L225.08,157.7L225.62,154.12L225.79,157.82L225.83,158.21L226.29,159.8L226.46,155.55L226.5,157.36L226.54,159.67L227.17,155.39L227.34,157.59L227.38,157.27L227.72,159.3L227.92,156.15L228.13,158.2L228.18,157.54L228.22,156.83L228.47,158.7L228.85,157.18L228.89,158.36L229.1,156.99L229.64,157.55L229.68,158.65L230.27,155.85L230.35,159.1L230.44,157.59L230.48,157.63L230.6,156.05L230.73,157.71L230.85,157.52L230.9,158.82L231.27,155.36L231.57,157.59L231.61,159.8L231.86,156.78L232.4,157.59L232.44,156.28L233.07,159.17L233.2,157.57L233.24,157.45L233.32,157.58L233.36,159.76L234.03,154.24L234.12,157.58L234.16,157.59L234.62,159.71L234.66,157.38L234.83,157.5L234.87,157.09L234.95,154.91L235.67,157.98L235.71,157.57L235.88,159.43L236.17,157.25L236.46,157.58L236.5,156.37L237.05,159L237.3,157.87L237.34,157.58L237.55,157.68L237.63,155.67L237.93,157.58L237.97,151.77L238.34,157.8L238.76,157.79L238.8,157.57L239.01,157.74L239.31,155.32L239.52,157.58L239.56,157.71L239.89,158.55L240.35,156.64L240.39,157.83L240.6,156.84L241.19,157.58L241.23,158.28L241.78,156.41L241.98,157.56L242.03,157.72L242.53,157.55L242.57,156.79L242.86,156.18L243.24,158.41L243.41,157.56L243.45,156.47L243.78,156.16L244.03,158.99L244.2,157.6L244.24,157.57L244.54,158.33L244.83,157.42L244.96,157.56L245,157.5L245.12,158.32L245.37,155.85L245.75,157.56L245.79,157.62L245.88,157.17L245.96,158.82L246.42,157.56L246.46,158.28L246.55,155.03L247.09,157.55L247.13,158.5L247.42,159.35L247.72,154.35L247.93,157.57L247.97,158.01L248.09,159.79L248.76,153.64L248.8,157.8L249.06,154.98L249.22,157.57L249.27,157.71L249.35,159.15L249.39,157.41L249.6,157.57\" style=\"vector-effect: none; fill: none; stroke: rgb(239, 85, 59); stroke-opacity: 1; stroke-width: 2px; opacity: 1;\"/></g><g class=\"points\"/><g class=\"text\"/></g></g></g><g class=\"overplot\"/><path class=\"xlines-above crisp\" d=\"M0,0\" style=\"fill: none;\"/><path class=\"ylines-above crisp\" d=\"M0,0\" style=\"fill: none;\"/><g class=\"overlines-above\"/><g class=\"xaxislayer-above\"><g class=\"x2tick\"><text text-anchor=\"middle\" x=\"0\" y=\"509\" transform=\"translate(387.2,0)\" style=\"font-family: 'Open Sans', verdana, arial, sans-serif; font-size: 12px; fill: rgb(42, 63, 95); fill-opacity: 1; white-space: pre; opacity: 1;\">0</text></g><g class=\"x2tick\"><text text-anchor=\"middle\" x=\"0\" y=\"509\" style=\"font-family: 'Open Sans', verdana, arial, sans-serif; font-size: 12px; fill: rgb(42, 63, 95); fill-opacity: 1; white-space: pre; opacity: 1;\" transform=\"translate(470.89,0)\">2000</text></g><g class=\"x2tick\"><text text-anchor=\"middle\" x=\"0\" y=\"509\" style=\"font-family: 'Open Sans', verdana, arial, sans-serif; font-size: 12px; fill: rgb(42, 63, 95); fill-opacity: 1; white-space: pre; opacity: 1;\" transform=\"translate(554.5799999999999,0)\">4000</text></g></g><g class=\"yaxislayer-above\"><g class=\"y2tick\"><text text-anchor=\"end\" x=\"386.2\" y=\"4.199999999999999\" transform=\"translate(0,487.6)\" style=\"font-family: 'Open Sans', verdana, arial, sans-serif; font-size: 12px; fill: rgb(42, 63, 95); fill-opacity: 1; white-space: pre; opacity: 1;\">0</text></g><g class=\"y2tick\"><text text-anchor=\"end\" x=\"386.2\" y=\"4.199999999999999\" style=\"font-family: 'Open Sans', verdana, arial, sans-serif; font-size: 12px; fill: rgb(42, 63, 95); fill-opacity: 1; white-space: pre; opacity: 1;\" transform=\"translate(0,411.84)\">0.5</text></g><g class=\"y2tick\"><text text-anchor=\"end\" x=\"386.2\" y=\"4.199999999999999\" style=\"font-family: 'Open Sans', verdana, arial, sans-serif; font-size: 12px; fill: rgb(42, 63, 95); fill-opacity: 1; white-space: pre; opacity: 1;\" transform=\"translate(0,336.07)\">1</text></g></g><g class=\"overaxes-above\"/></g><g class=\"subplot x3y3\"><g class=\"layer-subplot\"><g class=\"shapelayer\"/><g class=\"imagelayer\"/></g><g class=\"minor-gridlayer\"><g class=\"x3\"/><g class=\"y3\"/></g><g class=\"gridlayer\"><g class=\"x3\"><path class=\"x3grid crisp\" transform=\"translate(778.0899999999999,0)\" d=\"M0,327.7v168.29999999999998\" style=\"stroke: rgb(255, 255, 255); stroke-opacity: 1; stroke-width: 1px;\"/><path class=\"x3grid crisp\" transform=\"translate(861.78,0)\" d=\"M0,327.7v168.29999999999998\" style=\"stroke: rgb(255, 255, 255); stroke-opacity: 1; stroke-width: 1px;\"/></g><g class=\"y3\"><path class=\"y3grid crisp\" transform=\"translate(0,411.85)\" d=\"M694.4,0h249.59999999999997\" style=\"stroke: rgb(255, 255, 255); stroke-opacity: 1; stroke-width: 1px;\"/><path class=\"y3grid crisp\" transform=\"translate(0,336.09999999999997)\" d=\"M694.4,0h249.59999999999997\" style=\"stroke: rgb(255, 255, 255); stroke-opacity: 1; stroke-width: 1px;\"/></g></g><g class=\"zerolinelayer\"><path class=\"x3zl zl crisp\" transform=\"translate(694.4,0)\" d=\"M0,327.7v168.29999999999998\" style=\"stroke: rgb(255, 255, 255); stroke-opacity: 1; stroke-width: 2px;\"/><path class=\"y3zl zl crisp\" transform=\"translate(0,487.6)\" d=\"M694.4,0h249.59999999999997\" style=\"stroke: rgb(255, 255, 255); stroke-opacity: 1; stroke-width: 2px;\"/></g><path class=\"xlines-below\"/><path class=\"ylines-below\"/><g class=\"overlines-below\"/><g class=\"xaxislayer-below\"/><g class=\"yaxislayer-below\"/><g class=\"overaxes-below\"/><g class=\"plot\" transform=\"translate(694.4,327.7)\" clip-path=\"url(#clip68c9b7x3y3plot)\"><g class=\"scatterlayer mlayer\"><g class=\"trace scatter trace402cd6\" style=\"stroke-miterlimit: 2; opacity: 1;\"><g class=\"fills\"/><g class=\"errorbars\"/><g class=\"lines\"><path class=\"js-line\" d=\"M0,159.88L0.04,21.93L0.75,74.82L0.8,41.82L1.05,10.73L1.55,142.6L1.59,112.33L1.63,73.73L1.67,75.35L1.72,43.06L1.8,152.13L2.05,17.33L2.39,18.1L2.43,149.08L2.55,10.71L2.72,159.22L3.18,135.04L3.22,127.41L3.51,147.69L4.02,15.08L4.06,93.55L4.14,154.31L4.56,10.01L4.81,29.73L4.85,33.52L4.98,13.74L5.4,61.87L5.57,18.54L5.61,154.41L5.69,10.05L6.36,33.66L6.4,65.53L6.82,157.29L7.03,9.51L7.11,18.87L7.16,81.91L7.49,8.41L7.95,8.83L7.99,26.9L8.08,142.08L8.49,13.11L8.54,20.14L8.58,113.66L8.75,11.87L9.16,124.92L9.37,14.21L9.41,16.05L9.46,17.96L9.5,84.51L9.83,98.59L9.88,11.46L10.29,13.57L10.34,36.44L10.42,133.45L10.96,13.36L11.05,40.31L11.09,38.07L11.13,18.02L11.59,146.65L11.67,94.15L11.72,100.57L11.8,110.26L11.84,148.7L11.88,15.43L12.55,52.13L12.6,126.26L13.01,23.76L13.14,139.64L13.35,30.62L13.39,50.23L13.64,157.18L14.06,31.73L14.19,141.16L14.23,137.49L14.27,154.58L14.56,34.73L14.85,138.64L14.9,40.14L15.31,158.43L15.52,12.32L15.57,108L16.07,45.17L16.15,146.48L16.28,144.75L16.32,78.98L16.7,60.28L17.11,147.24L17.16,143.56L17.2,144.14L17.24,53.92L17.62,39.24L17.7,149.7L17.99,145.75L18.03,138.77L18.08,147.24L18.12,110.67L18.16,33.24L18.45,14.17L18.87,156.52L18.91,41.42L18.96,135.66L19,158.44L19.37,87.35L19.62,139.42L19.67,91.47L20.09,15.9L20.34,159.39L20.42,150.7L20.46,153.39L20.59,128.83L20.8,159.86L21.05,159.32L21.09,126.05L21.42,94.57L21.51,157.99L21.55,52.61L21.84,14.56L21.97,159.68L22.3,156.72L22.34,130.58L22.43,159.81L22.89,32.54L23.01,68.95L23.06,156.88L23.14,159.3L23.18,147.46L23.27,155.75L23.31,98.88L23.6,159.76L23.85,40.11L24.06,146.69L24.1,159.03L24.31,159.68L24.65,71.15L24.86,141.92L24.9,158.26L25.15,51.35L25.36,159.44L25.65,153.55L25.69,158.89L25.73,159.47L25.78,158.79L25.82,149.66L25.9,157.72L25.94,44.92L26.53,159.79L26.57,9.89L26.74,158.58L26.78,159.32L26.91,148.79L26.95,159.17L26.99,159.04L27.07,159.82L27.11,156.97L27.16,158.57L27.2,122.29L27.45,159.11L27.83,21.89L27.95,158.37L27.99,158.53L28.16,142.49L28.24,158.98L28.66,157.84L28.71,158.07L28.79,158.5L28.83,153.65L28.87,158.67L28.96,99.71L29.21,158.44L29.25,82.46L29.67,159.79L30.04,140.55L30.09,125.65L30.71,122.25L30.84,159.6L30.88,158.61L30.92,158.28L31.22,158.97L31.3,119.4L31.63,121.84L31.68,158.6L31.76,159.16L31.84,157.95L31.89,159.13L31.93,150.73L32.22,144.32L32.47,158.64L32.51,147.59L32.55,118.62L32.89,107.42L33.01,159.64L33.35,158.99L33.39,158.36L33.48,154.91L33.64,158.65L33.68,134.14L34.31,158.93L34.48,158.63L34.52,153.48L34.56,158.76L34.81,130.81L35.11,138.26L35.15,136.56L35.27,158.88L35.94,158.43L35.99,158.16L36.15,155.98L36.32,158.82L36.36,158.63L36.4,153.49L36.45,153.14L36.49,158.22L36.57,158.68L36.7,158.65L36.74,145.24L37.16,159.05L37.49,158.17L37.53,157.95L37.7,156.09L37.79,158.15L37.83,158.29L37.99,153.18L38.04,154L38.08,158.14L38.25,159.34L38.29,149.8L38.92,159.68L39.08,159.2L39.12,151.28L39.38,150.14L39.75,159.22L39.92,157.99L39.96,157.4L40.34,150.41L40.55,159.17L40.59,150.61L40.92,148.27L41.3,159.5L41.38,158.89L41.43,158.57L41.55,153.95L41.72,157.64L41.76,159.02L41.84,159.74L42.1,149.4L42.47,157.04L42.51,158.15L42.97,159.83L43.06,153.75L43.22,157.74L43.27,157.84L43.43,151.45L44.06,159.08L44.1,157.75L44.27,159.45L44.35,155.84L44.61,158L44.65,155.4L45.28,159.54L45.44,157.93L45.48,158.48L45.69,159.74L45.9,155.3L46.24,157.83L46.28,159.36L46.74,159.46L47.03,156.29L47.07,158.21L47.12,157.78L47.16,159.61L47.83,156.9L47.87,158.17L47.91,157.97L48.04,159.2L48.08,157.65L48.46,159.1L48.5,157.72L48.62,157.2L49.25,159.82L49.29,157.74L49.5,155.95L49.92,158.95L50,158.07L50.05,156.48L50.51,159.48L50.8,158.64L50.84,156.4L51.47,159.25L51.59,158.51L51.64,158.19L52.1,159.88L52.14,157.25L52.43,159.13L52.47,156.33L53.06,155.2L53.1,159.59L53.23,158.43L53.27,158.13L53.43,157.25L53.73,159.46L53.98,158.5L54.02,158.07L54.27,156.68L54.31,159.47L54.77,158.21L54.82,157.88L54.94,156.85L55.44,159.85L55.57,158.01L55.61,157.92L56.07,156.43L56.36,158.84L56.41,158.08L56.45,157.33L56.7,159.78L57.12,158.23L57.16,158.2L57.24,157.93L57.28,154.97L57.62,154.74L57.95,158.96L58.04,156.48L58.08,158.17L58.67,159.25L58.87,156.31L58.92,158.79L59.17,159.6L59.59,157.76L59.63,157.9L59.67,156.13L60.21,159.77L60.34,157.88L60.38,158.04L60.63,158.2L60.72,155.72L61.13,157.8L61.18,158.23L61.26,157.6L61.3,159.11L61.93,157.92L61.97,158.2L62.01,157.45L62.6,158.71L62.72,157.85L62.77,158.18L62.85,158.31L63.23,156.94L63.44,158.2L63.48,158.22L63.81,158.9L63.98,157.88L64.02,158.91L64.61,156.86L64.77,158.16L64.82,158.38L65.07,159.35L65.65,156.55L65.7,158.08L65.82,159.63L65.99,157.09L66.41,157.97L66.45,158.05L66.62,157.64L66.78,158.2L66.83,159.7L67.37,157.14L67.62,158.06L67.66,158.04L68,158.59L68.29,157.64L68.37,158.04L68.42,158.07L68.62,157.76L69.08,158.29L69.21,158.07L69.25,158L69.59,158.23L69.63,156.9L69.96,158L70.01,158.06L71.05,158.1L71.09,157.63L71.68,158.44L71.85,158.06L71.89,158.02L71.93,158.33L71.97,157.83L72.64,158.06L72.68,158.02L73.69,158.09L73.73,158.07L74.48,157.96L74.52,158.14L74.57,157.82L75.11,158.38L75.24,158.06L75.28,158.21L76.07,157.87L76.16,158.06L76.2,158.12L81.39,158.06L81.43,158.14L83.02,158.17L83.06,157.42L83.65,158.32L83.81,158.07L83.86,158.07L84.32,157.55L84.57,158.19L84.61,158.15L84.65,157.97L85.24,158.63L85.45,158.03L85.49,157.85L85.91,155.47L86.16,158.36L86.2,159.76L86.83,155.26L86.99,157.91L87.04,157.94L87.12,158.26L87.16,153.52L87.33,157.82L87.37,158.05L87.5,156.73L87.83,159.56L88.04,157.85L88.08,158.91L88.21,156.92L88.84,157.5L88.88,158.21L89,158.74L89.59,157.06L89.67,157.67L89.71,158.11L89.76,157.07L90.3,159.33L90.47,157.69L90.51,157.87L90.72,158.24L90.97,157.06L91.22,157.64L91.26,158.53L91.89,156.9L91.97,157.85L92.02,158.98L92.22,156.36L92.31,159.3L92.77,157.71L92.81,158.51L93.31,158.69L93.35,155.05L93.56,156.46L93.61,156.61L93.73,153.85L93.9,159.76L94.27,159.16L94.32,154.96L94.78,153.15L94.82,159.33L95.03,154.98L95.07,155.64L95.4,159.43L95.45,150.92L95.78,159.06L95.82,154.13L96.37,159.51L96.53,152.94L96.58,157.24L96.62,155.5L96.79,156.58L96.91,152.96L97.08,155.03L97.12,158.02L97.66,151.17L97.87,155.73L97.92,156.55L98.17,153.34L98.46,157.69L98.67,156.27L98.71,155.29L99.21,157.73L99.3,152.87L99.42,154.56L99.46,156.73L99.63,153.66L99.97,158.21L100.26,155.22L100.3,155.79L100.47,152.39L100.64,156.4L101.01,154.95L101.05,158.46L101.6,151.6L101.81,154.29L101.85,155.06L101.93,153.77L102.18,157.34L102.48,155.21L102.52,157.92L102.89,153.5L103.27,154.81L103.31,155.97L103.86,157.91L104.11,150.41L104.15,153.98L104.65,158.51L104.9,154.55L104.94,152.88L105.28,149.19L105.57,156.08L105.61,148.02L106.41,156.76L106.45,154.52L106.74,148.63L107.04,155.16L107.16,154.25L107.2,154.14L107.33,153.52L107.58,158.07L108.04,155.54L108.08,154.54L108.25,150.31L108.79,157.11L108.84,154.5L109.13,158.87L109.55,150.81L109.59,154.25L109.63,154.56L109.72,153.83L110.13,159.75L110.34,157.61L110.38,154.48L110.43,151.58L110.47,159L111.1,154.56L111.14,155.45L111.26,151.5L111.43,156.57L111.72,153.98L111.77,156.39L111.89,159.39L112.44,149.73L112.52,154.39L112.56,154.55L112.6,159.21L113.23,152.16L113.27,157.78L113.31,153.88L113.36,152.32L113.52,159.72L114.03,154.44L114.07,154.55L114.57,159.2L114.82,151.74L114.86,156.06L115.15,153.97L115.41,158.12L115.62,154.55L115.66,156.84L115.99,158.27L116.41,152.88L116.45,154.86L116.62,157.14L116.7,153.4L117.21,154.24L117.25,156.46L117.54,157.3L117.96,151.85L118,154.68L118.04,154.72L118.29,153.41L118.54,156.79L118.75,154.48L118.8,154.57L118.88,158.02L119.05,154.75L119.09,154.57L119.21,152.16L119.46,156.83L119.84,153.6L119.88,154.43L120.01,154.54L120.05,156.44L120.09,152.94L120.68,157.76L120.8,154.68L120.85,154.46L121.01,156.22L121.39,153.27L121.52,153.84L121.56,153.56L121.85,157.25L122.35,151.41L122.39,151.59L122.44,152.71L122.6,153.31L122.65,151.43L122.69,157.9L123.4,152.48L123.48,152.97L123.52,153.84L123.61,151.22L123.69,157.88L123.86,153.57L123.9,157.19L124.44,159.31L124.7,149.31L124.74,152.15L124.9,153.93L124.95,152.73L124.99,147.15L125.41,156.15L125.78,154.91L125.83,152.98L126.12,147.23L126.24,158.06L126.54,152.93L126.58,158.13L126.7,149.73L127.33,153.64L127.37,153.33L127.5,151.03L127.58,158.34L128.04,153.02L128.08,155.09L128.38,148.13L128.8,154.2L128.84,157.44L129.51,150.76L129.63,151.88L129.67,152.74L129.8,151.17L129.93,157.62L130.34,152.85L130.39,155.29L131.01,149.51L131.22,152.63L131.26,153.01L131.39,157.19L131.68,152.33L131.93,152.74L131.98,149.44L132.06,148.47L132.1,155.43L132.73,153.71L132.77,152.33L132.81,156.87L133.4,146.48L133.52,152.77L133.57,152.58L133.69,151.72L133.73,153.44L133.78,150.65L133.98,157.03L134.57,154L134.61,152.76L134.74,153.36L134.78,151.67L134.82,155.42L135.37,152.16L135.49,155.59L135.57,152.73L135.62,152.67L135.83,154.27L136.29,152.44L136.33,152.47L136.58,155.21L136.62,152.31L136.96,153.6L137,152.79L137.5,152.15L137.58,154.03L137.71,153.67L137.75,152.53L138.09,152.44L138.46,153.36L138.59,153.18L138.63,152.83L138.67,153.49L139.01,151.93L139.3,152.74L139.34,151.84L139.84,153.79L140.09,152.8L140.14,152.59L140.64,152.03L140.89,153.09L140.93,152.75L140.97,152.71L141.06,153.18L141.43,152.34L141.73,152.7L141.77,152.77L142.52,152.87L142.56,152.41L143.15,153.21L143.32,152.73L143.36,152.64L143.4,153.38L143.99,152.43L144.11,152.7L144.15,152.64L144.49,153.29L144.74,152.38L144.91,152.8L144.95,152.92L145.07,152.15L145.62,153.33L145.7,152.73L145.74,153.34L146.08,151.77L146.5,152.25L146.54,152.63L147.08,153.17L147.17,152.66L147.21,151.83L147.84,153.63L148,152.77L148.04,152.27L148.38,151.56L148.67,153.38L148.8,152.66L148.84,152.92L149.26,154.1L149.51,152.33L149.55,152.62L149.59,153.28L149.89,150.92L150.35,152.68L150.39,152.47L150.72,152.53L150.76,153.46L151.27,150.41L151.52,152.22L151.56,152.59L151.64,152.22L151.81,153.49L152.1,152.67L152.15,154.14L152.77,152.33L152.94,152.58L152.98,152.63L153.02,153.34L153.27,151.58L153.69,152.59L153.74,152.54L153.86,152.37L154.49,152.53L154.53,152.49L154.57,152.53L155.28,152.26L155.41,152.46L155.45,153.03L155.7,153.37L155.95,151.73L156.2,152.96L156.25,152.82L156.71,151.79L157.04,152.07L157.08,152.39L157.25,152.08L157.63,153.48L157.84,152.97L157.88,152.4L158.63,153.05L158.76,152.45L158.8,152.21L159.59,153.32L159.64,152.41L159.68,152.19L159.89,152.08L160.39,153.38L160.47,152.43L160.51,152.42L160.64,153.41L160.89,152.77L160.93,152.49L161.14,152.54L161.48,151.35L161.69,152.46L161.73,152.62L161.77,153.19L162.31,150.88L162.44,152.43L162.48,152.42L162.56,150.7L163.11,153.6L163.19,152.51L163.23,152.65L163.36,150.62L163.69,151.58L163.74,153.07L163.95,155.03L164.28,151.41L164.49,152.43L164.53,152.51L164.61,150.14L164.87,155.93L165.28,152.43L165.33,152.38L165.7,147.34L165.91,157.66L166.08,152.19L166.12,152.43L166.2,158.31L166.5,148.03L166.79,152.44L166.83,147.45L167.54,153.75L167.59,152.43L167.63,152.33L167.71,155.76L167.79,152.18L168.3,152.36L168.34,148.96L169.09,153.12L169.13,152.43L169.26,154.91L169.8,151.86L169.85,152.55L169.89,152.51L170.14,151.22L170.35,152.83L170.6,152.43L170.64,152.63L170.68,153.73L171.27,150.97L171.35,152.44L171.39,151.95L171.56,155.34L172.02,152.89L172.06,152.43L172.31,152.93L172.44,150.2L172.65,152.43L172.69,152.62L172.77,150.58L172.82,153.08L172.94,152.5L172.98,157.27L173.53,149.98L173.78,152.51L173.82,152.43L173.86,155.64L174.41,146.45L174.57,152.43L174.62,152.45L174.99,152.24L175.03,152.87L175.12,152.18L175.24,152.43L175.28,159.7L175.91,143.22L176.08,150.97L176.12,152.43L176.25,145.95L176.67,153L176.83,152.44L176.87,155.75L177.54,148.2L177.63,153.46L177.67,152.41L177.75,152.56L177.8,150.59L177.92,149.66L178.55,156.82L178.59,152.43L179.09,153.21L179.18,148.3L179.26,152.55L179.3,153.09L179.47,148.43L179.8,155L180.01,151.16L180.06,152.43L180.1,157.34L180.43,145.2L180.81,152.43L180.85,152.42L180.98,150.54L181.06,159.54L181.31,152.43L181.35,145.51L181.69,142.86L182.02,159.44L182.11,152.48L182.15,152.42L182.23,151.64L182.31,155.68L182.57,152.43L182.61,140.85L183.4,155.98L183.44,152.43L183.61,152.06L183.7,153.36L183.82,152.41L183.86,152.18L183.9,150.92L184.16,153.11L184.53,152.43L184.57,154.44L184.91,155.08L185.33,151.27L185.37,152.43L185.41,152.42L185.54,152.77L185.66,151.4L186.21,152L186.25,152.43L186.29,153.51L186.79,151.34L187,153.08L187.04,152.32L187.34,151.87L187.55,152.71L187.59,152.58L187.63,151.82L187.67,152.52L188.3,152.17L188.34,150.1L188.97,154.12L189.09,152.44L189.14,152.47L189.22,152.66L189.3,152.27L189.47,152.25L189.51,150.22L189.8,148.64L189.89,152.57L190.27,152.44L190.31,152.47L190.64,152.23L191.06,152.6L191.1,152.5L191.14,152.44L191.31,151.48L191.77,152.45L191.86,152.38L191.9,153.93L192.19,154L192.52,151.09L192.69,152.4L192.73,152.45L193.03,152.52L193.07,151.22L193.65,155L193.86,152.46L193.91,152.51L194.07,152.55L194.32,150.22L194.58,152.48L194.62,155L195.24,150.27L195.41,152.43L195.45,152.48L195.75,152.41L195.79,152.49L195.83,154.66L196.42,152.22L196.58,152.5L196.63,152.56L196.75,151.65L197.34,152.75L197.38,152.51L197.42,152.5L197.67,152.93L198.17,152.44L198.22,152.32L198.3,152.19L199.01,152.7L199.05,152.57L199.09,152.86L199.43,152.25L199.76,152.49L199.81,152.47L200.31,152.75L200.43,152.28L200.48,152.55L200.52,152.74L200.6,152.78L201.35,152.11L201.4,152.84L201.56,152.11L202.15,152.39L202.19,152.6L202.94,152.33L202.99,152.5L203.03,152.51L203.15,152.84L203.45,152.02L203.78,152.5L203.82,152.64L204.62,151.7L204.7,152.44L204.74,152.5L204.78,151.92L205.2,153.18L205.41,152.46L205.45,153.47L206,149.64L206.21,153.2L206.25,152.5L206.33,152.29L206.5,152.75L206.54,152.48L206.58,155.37L207.13,149.22L207.34,152.5L207.38,152.38L207.71,156.32L207.92,152.12L207.97,152.51L208.01,149.25L208.76,152.97L208.8,152.49L208.84,151.58L209.05,153.16L209.18,151.4L209.6,152.61L209.64,152.37L209.81,153.58L210.02,152.74L210.06,152.47L210.14,154.02L210.39,151.41L210.68,152.49L210.73,149.91L211.35,153.72L211.52,152.5L211.56,152.88L211.69,153.49L212.32,151.6L212.36,152.5L212.4,152.54L212.9,153.12L212.99,152.47L213.03,152.23L213.24,151.93L213.57,152.71L213.82,152.54L213.87,152.62L214.07,152.89L214.49,151.68L214.62,152.52L214.66,152.68L214.87,152.04L215.46,152.51L215.5,152.5L215.54,152.1L215.96,152.62L216.21,152.53L216.25,152.6L217.55,152.46L217.59,152.53L219.97,152.55L220.02,152.99L220.77,152.45L220.81,152.5L221.9,152.34L221.94,152.88L222.61,152.24L222.69,152.45L222.74,152.52L222.95,152.18L223.28,153.13L223.53,152.4L223.57,152.28L223.91,152.11L224.2,153.28L224.41,153.12L224.45,152.84L224.95,151.94L225.2,152.53L225.25,152.52L225.62,152.84L226,152.32L226.04,152.48L226.25,152.9L226.84,152.5L226.88,152.5L227.13,152.16L227.67,152.9L227.72,152.49L229.31,152.49L229.35,152.42L231.23,152.5L231.27,152.3L231.82,152.64L232.03,152.54L232.07,152.29L232.86,152.5L232.9,152.41L233.53,152.55L233.66,152.5L233.7,152.37L234.62,152.51L234.66,152.48L234.87,152.25L235.41,152.5L235.46,152.29L235.5,152.29L236.04,152.7L236.25,152.5L236.29,152.5L236.42,152.35L236.67,152.66L237,152.5L237.05,152.42L237.3,152.74L238.22,152.14L238.26,152.5L241.11,152.59L241.15,152.2L241.4,152.76L241.94,152.46L241.98,152.56L242.49,153.08L242.61,152.26L242.74,152.39L242.78,153.36L243.37,151.8L243.53,152.5L243.57,152.52L243.95,153.14L244.08,152.31L244.16,152.5L244.2,153.41L244.75,150.01L244.96,152.5L245,152.42L245.29,157.59L245.58,148.7L245.75,152.5L245.79,152.58L245.88,141.82L246.46,157.76L246.5,152.49L246.55,152.46L246.71,152.16L246.84,152.79L247.01,152.46L247.05,147.61L247.76,152.72L247.84,152.5L247.88,152.49L247.97,153.59L248.3,151.01L248.6,152.49L248.64,150.62L249.27,154.66L249.43,152.5L249.47,152.52L249.56,151.49L249.6,152.46\" style=\"vector-effect: none; fill: none; stroke: rgb(0, 204, 150); stroke-opacity: 1; stroke-width: 2px; opacity: 1;\"/></g><g class=\"points\"/><g class=\"text\"/></g></g></g><g class=\"overplot\"/><path class=\"xlines-above crisp\" d=\"M0,0\" style=\"fill: none;\"/><path class=\"ylines-above crisp\" d=\"M0,0\" style=\"fill: none;\"/><g class=\"overlines-above\"/><g class=\"xaxislayer-above\"><g class=\"x3tick\"><text text-anchor=\"middle\" x=\"0\" y=\"509\" transform=\"translate(694.4,0)\" style=\"font-family: 'Open Sans', verdana, arial, sans-serif; font-size: 12px; fill: rgb(42, 63, 95); fill-opacity: 1; white-space: pre; opacity: 1;\">0</text></g><g class=\"x3tick\"><text text-anchor=\"middle\" x=\"0\" y=\"509\" style=\"font-family: 'Open Sans', verdana, arial, sans-serif; font-size: 12px; fill: rgb(42, 63, 95); fill-opacity: 1; white-space: pre; opacity: 1;\" transform=\"translate(778.0899999999999,0)\">2000</text></g><g class=\"x3tick\"><text text-anchor=\"middle\" x=\"0\" y=\"509\" style=\"font-family: 'Open Sans', verdana, arial, sans-serif; font-size: 12px; fill: rgb(42, 63, 95); fill-opacity: 1; white-space: pre; opacity: 1;\" transform=\"translate(861.78,0)\">4000</text></g></g><g class=\"yaxislayer-above\"><g class=\"y3tick\"><text text-anchor=\"end\" x=\"693.4\" y=\"4.199999999999999\" transform=\"translate(0,487.6)\" style=\"font-family: 'Open Sans', verdana, arial, sans-serif; font-size: 12px; fill: rgb(42, 63, 95); fill-opacity: 1; white-space: pre; opacity: 1;\">0</text></g><g class=\"y3tick\"><text text-anchor=\"end\" x=\"693.4\" y=\"4.199999999999999\" style=\"font-family: 'Open Sans', verdana, arial, sans-serif; font-size: 12px; fill: rgb(42, 63, 95); fill-opacity: 1; white-space: pre; opacity: 1;\" transform=\"translate(0,411.85)\">0.5</text></g><g class=\"y3tick\"><text text-anchor=\"end\" x=\"693.4\" y=\"4.199999999999999\" style=\"font-family: 'Open Sans', verdana, arial, sans-serif; font-size: 12px; fill: rgb(42, 63, 95); fill-opacity: 1; white-space: pre; opacity: 1;\" transform=\"translate(0,336.09999999999997)\">1</text></g></g><g class=\"overaxes-above\"/></g><g class=\"subplot x4y4\"><g class=\"layer-subplot\"><g class=\"shapelayer\"/><g class=\"imagelayer\"/></g><g class=\"minor-gridlayer\"><g class=\"x4\"/><g class=\"y4\"/></g><g class=\"gridlayer\"><g class=\"x4\"><path class=\"x4grid crisp\" transform=\"translate(163.69,0)\" d=\"M0,100v168.3\" style=\"stroke: rgb(255, 255, 255); stroke-opacity: 1; stroke-width: 1px;\"/><path class=\"x4grid crisp\" transform=\"translate(247.38,0)\" d=\"M0,100v168.3\" style=\"stroke: rgb(255, 255, 255); stroke-opacity: 1; stroke-width: 1px;\"/></g><g class=\"y4\"><path class=\"y4grid crisp\" transform=\"translate(0,184.22)\" d=\"M80,0h249.60000000000002\" style=\"stroke: rgb(255, 255, 255); stroke-opacity: 1; stroke-width: 1px;\"/><path class=\"y4grid crisp\" transform=\"translate(0,108.41)\" d=\"M80,0h249.60000000000002\" style=\"stroke: rgb(255, 255, 255); stroke-opacity: 1; stroke-width: 1px;\"/></g></g><g class=\"zerolinelayer\"><path class=\"x4zl zl crisp\" transform=\"translate(80,0)\" d=\"M0,100v168.3\" style=\"stroke: rgb(255, 255, 255); stroke-opacity: 1; stroke-width: 2px;\"/><path class=\"y4zl zl crisp\" transform=\"translate(0,260.02)\" d=\"M80,0h249.60000000000002\" style=\"stroke: rgb(255, 255, 255); stroke-opacity: 1; stroke-width: 2px;\"/></g><path class=\"xlines-below\"/><path class=\"ylines-below\"/><g class=\"overlines-below\"/><g class=\"xaxislayer-below\"/><g class=\"yaxislayer-below\"/><g class=\"overaxes-below\"/><g class=\"plot\" transform=\"translate(80,100)\" clip-path=\"url(#clip68c9b7x4y4plot)\"><g class=\"scatterlayer mlayer\"><g class=\"trace scatter trace849e4c\" style=\"stroke-miterlimit: 2; opacity: 1;\"><g class=\"fills\"/><g class=\"errorbars\"/><g class=\"lines\"><path class=\"js-line\" d=\"M0,139.46L0.13,50.57L0.25,154.41L0.59,119.28L0.63,93.44L0.84,21.09L0.92,118.81L1.3,65.57L1.34,61.66L1.42,118.46L1.72,93.05L1.76,46.05L2.05,16.44L2.22,149.75L2.51,111.28L2.55,58.68L2.64,29.85L2.8,104.28L3.18,59.44L3.22,62.72L3.68,136.36L3.81,13.87L3.93,22.54L3.98,59.27L4.39,68.27L4.6,18.82L4.73,35.04L4.77,153.19L4.9,15.96L5.52,36.01L5.57,20.85L5.98,110.02L6.11,11.86L6.32,47.41L6.36,25.43L6.44,23.74L6.53,57.26L6.74,41.66L6.78,25.13L6.82,104.58L7.41,8.94L7.53,28.96L7.57,67L7.82,14.27L8.29,63.49L8.33,58.79L8.41,25.01L8.45,11.47L8.49,10.71L8.54,23.68L8.58,67.3L8.7,71.07L9.29,12.98L9.33,51.75L9.37,37.55L9.62,105.84L9.71,27.41L9.75,13.21L10.08,10.4L10.42,111.77L10.5,80.08L10.54,43.2L11,109.46L11.17,10.53L11.26,37.5L11.3,47.76L11.67,159.44L11.93,18.12L12.01,49.04L12.05,39.12L12.34,9.42L12.55,113.37L12.76,59.42L12.8,89.52L12.89,159.1L13.52,15.38L13.56,47.61L13.6,71.6L13.64,38.53L14.02,139.18L14.27,65.62L14.31,128.8L14.65,13.85L14.98,132.21L15.06,31.06L15.11,45.2L15.23,17.28L15.69,127.87L15.9,93.99L15.94,32.87L16.07,123.9L16.19,74.74L16.24,9.98L16.4,9.55L16.49,104.97L16.65,33.54L16.7,30.22L16.74,31.46L16.78,62.49L16.91,12.98L16.95,113.26L17.24,81.82L17.28,97.14L17.37,30.13L17.95,125.99L18.08,35.36L18.12,20.29L18.33,18.88L18.41,95.42L18.87,62.83L18.91,30.09L18.96,9.91L19.46,107.65L19.5,27.01L19.54,108.85L19.79,43.44L20.17,126.9L20.29,105.37L20.34,79.37L20.38,74.05L20.42,143.38L20.46,20.92L21.26,148.37L21.3,16.21L21.42,153.23L21.59,11.45L22.05,140.77L22.09,81.98L22.34,38.68L22.43,152.97L22.55,118.96L22.6,61.73L22.64,63.83L22.68,21.81L23.27,158.17L23.43,40.34L23.47,13.79L23.6,155.11L24.23,139.79L24.27,37.97L24.31,159.57L24.56,16.06L25.02,56.97L25.06,53.24L25.15,45.39L25.48,157.48L25.82,82.99L25.86,57.63L26.36,156.93L26.65,114.12L26.7,158.74L27.41,22.51L27.49,36.53L27.53,52.02L27.83,10.6L27.95,156.22L28.24,134.63L28.29,65.83L28.5,150.56L28.91,34.42L29.04,106.35L29.08,91.66L29.17,50.6L29.37,150.37L29.75,95.77L29.79,61.81L29.96,147.57L30.04,29.12L30.46,91.49L30.5,153.69L30.63,25.31L31.3,81.28L31.34,81.47L31.76,156.86L31.8,20.44L32.09,146.95L32.14,43.34L32.47,28.86L32.51,118.85L32.89,80.76L32.93,67.49L33.1,152.48L33.39,8.41L33.73,112.5L33.77,75.07L33.85,157.93L34.23,60.46L34.4,106.8L34.44,92.43L34.48,152.59L34.86,17.21L35.19,95.97L35.23,82.3L35.65,132.66L35.69,42.67L35.86,126.38L35.9,148.82L36.53,41.91L36.66,122.9L36.7,146.37L36.74,21.12L37.2,155.39L37.45,54.63L37.49,107.99L37.53,131L37.99,26.03L38.2,101.43L38.25,87.44L38.41,147.48L38.71,26.6L38.92,104.77L38.96,55.33L39.08,120.35L39.46,16.85L39.5,100.51L39.54,111.93L39.84,11.23L40.09,82.15L40.13,64.67L40.55,132.6L40.67,9.53L40.88,19.23L40.92,62.43L41.22,20.75L41.34,124.3L41.55,87.3L41.59,133.68L41.63,143.09L41.72,20.54L41.84,27.68L41.89,17.25L41.93,151.48L42.01,8.6L42.64,52.6L42.68,37.73L42.72,9.54L42.81,109.87L43.43,29.37L43.48,36.82L43.6,101.9L43.98,9.15L44.23,10.08L44.27,20.12L44.31,8.82L44.56,127.47L44.86,28.78L44.9,69.57L45.19,12.03L45.36,116.71L45.61,34.18L45.65,148.21L46.45,11.11L46.49,27.08L46.61,11.49L46.78,77.9L47.16,37.13L47.2,10.48L47.87,131.83L47.95,60.87L48,9.33L48.54,9.23L48.58,119.87L48.75,102.32L48.79,42.67L49.08,107.89L49.38,19.87L49.54,70.62L49.59,78.76L49.75,9.02L49.96,124.55L50.3,103.5L50.34,92.91L50.38,18.33L50.76,124.1L51.09,32.54L51.13,34.6L51.72,155.68L51.93,103.53L51.97,57.82L52.05,118.79L52.39,13.34L52.72,35.73L52.77,69.6L53.02,32.07L53.56,110.14L53.6,76.29L54.15,98.76L54.19,22.19L54.31,49.95L54.36,76.59L54.48,34.82L54.77,106.26L54.86,68.96L54.9,16.36L55.57,128.06L55.65,43.3L55.69,48.34L55.82,79.17L55.99,40.99L56.07,74.52L56.11,75.15L56.24,22.96L56.41,94.32L56.82,78.94L56.87,59.63L56.91,58.83L56.95,77.21L57.37,104.09L57.45,26.76L57.66,77.46L57.7,86.8L58.12,96.05L58.41,11.79L58.46,159.43L58.87,29.91L59.21,43.84L59.25,99.66L59.29,158.53L59.96,46.5L60,117.36L60.05,128.14L60.09,128.98L60.13,71.6L60.3,155.62L60.67,8.46L60.88,86.93L60.92,53.1L60.97,147.24L61.01,24.71L61.64,83.4L61.68,11.03L62.26,155.08L62.47,133.64L62.52,126.44L62.56,150.59L62.81,14.75L63.14,104.8L63.18,51.88L63.85,158.46L63.9,136.68L63.94,38.97L64.06,151.02L64.57,11.83L64.69,139.56L64.73,128.9L64.82,59.13L65.07,154.49L65.28,87.37L65.32,136.99L65.61,44.39L65.86,152.73L66.07,151.19L66.11,134.12L66.16,132.88L66.2,143.46L66.24,16.77L66.32,100.16L66.36,143.47L66.53,156.54L66.57,14.72L66.74,139.65L66.78,158.59L66.83,31.9L67.54,127.36L67.58,142.55L67.62,154.41L68,49.64L68.16,112.83L68.21,99.56L68.25,14.17L68.79,152.3L68.92,141.98L68.96,136.97L69,139.99L69.04,107.23L69.08,54.29L69.25,19.89L69.8,157.12L69.88,154.15L69.92,148.09L69.96,158.47L70.47,118.79L70.51,142.94L70.55,62.02L71.05,154.03L71.3,128.45L71.34,88.05L71.39,70.37L71.85,152.47L71.89,118.06L71.93,145.01L72.14,146.99L72.31,66.83L72.68,141.46L72.73,139.8L72.85,159.66L73.44,108.97L73.48,142.66L73.69,130.61L74.06,146.71L74.23,140.77L74.27,142.64L74.48,113.63L74.52,152.63L74.78,133.57L74.82,105.62L74.9,103.4L75.28,148.66L75.57,142.45L75.61,129.82L75.78,151.95L76.32,135.02L76.37,77.8L76.62,152.06L77.16,135.73L77.2,138.14L77.54,107.06L77.87,156.31L77.96,130.85L78,140.56L78.16,158.97L78.21,130.43L78.25,122.17L78.54,105.93L78.83,158.15L79,156.25L79.04,137.97L79.38,149.12L79.63,79.88L79.71,135.83L79.75,143.56L79.84,140.92L79.88,144.34L79.96,105.72L80.17,155.83L80.59,140.36L80.63,143.72L80.68,147.23L80.8,123.15L81.05,131.19L81.09,116.37L81.39,153.39L81.85,142.75L81.89,143.67L82.31,129.54L82.35,158.8L82.56,142.96L82.6,136.55L82.68,159.48L83.02,117.32L83.19,138.29L83.23,148.17L83.86,127.16L83.94,154.74L83.98,142.14L84.02,143.52L84.15,132.27L84.19,151.09L84.23,135.98L84.27,108.04L84.53,158.17L85.03,141.82L85.07,143.4L85.19,153.11L85.49,125.65L85.78,150.93L85.82,156.4L86.45,125.52L86.58,142.14L86.62,140.58L86.7,159.33L87.12,132.32L87.33,138.38L87.37,101.85L87.71,82.93L88,154.04L88.17,141.82L88.21,140.8L88.25,141.42L88.29,159.21L88.54,76.67L89.04,141L89.09,133.42L89.13,132.47L89.17,142.19L89.34,140.81L89.38,145.34L89.71,146.18L89.88,111.14L90.22,134.09L90.26,130.17L90.51,154.47L91.01,141L91.05,138.54L91.18,126.3L91.81,150.18L91.89,147.16L91.93,140.31L92.02,148.77L92.31,129.62L92.52,134.08L92.56,141.3L92.73,126.34L92.94,153.55L93.31,142.76L93.35,148.23L93.4,149.17L93.44,141.09L93.48,128.43L93.86,125.2L94.11,143.69L94.23,141.62L94.27,142.12L94.36,150.82L94.86,126.68L95.07,136.62L95.11,137.99L95.15,124.77L95.49,151.14L95.78,142.8L95.82,156.23L96.41,126.93L96.58,143.35L96.62,143.85L96.66,122.64L97.16,159.84L97.33,144.16L97.37,155.06L97.66,105.06L98.12,144.91L98.17,142.01L98.21,158.66L98.67,133.65L98.88,136.78L98.92,138.56L99.04,134.49L99.25,153.68L99.51,143.2L99.55,158.7L99.84,103.08L100.3,135.67L100.34,142.99L100.59,150.53L100.97,117.26L101.05,143.33L101.1,142.11L101.14,126.08L101.51,153.63L101.85,141.79L101.89,142.23L101.93,140.91L102.02,141.68L102.06,103.19L102.23,141.78L102.39,86.82L102.81,141L102.85,138.02L103.23,154.74L103.56,133.98L103.61,139.6L103.82,129.29L104.15,142.86L104.32,142.01L104.36,148.37L104.99,129.49L105.15,133.77L105.2,139.79L105.24,130L105.74,145.8L105.95,137.77L105.99,130.22L106.45,122.32L106.66,144.62L106.74,135.52L106.79,117.02L107.12,151.68L107.54,132.39L107.58,139.48L107.62,153.09L107.96,126.07L108.33,142.49L108.38,137.37L108.42,125.52L108.71,150.2L109.09,140.15L109.13,137.86L109.55,149.97L109.67,129.77L109.84,143.92L109.88,140.53L110.13,128.36L110.59,144.9L110.64,142.66L110.68,133.21L110.97,150.51L111.14,125.54L111.43,138.64L111.47,141.9L111.51,142.37L111.56,132.64L111.72,155.79L111.85,129.01L112.1,139.23L112.14,121.96L112.44,105.62L112.73,154.14L112.9,138.4L112.94,138.36L113.06,147.27L113.15,136L113.27,136.34L113.31,128.95L113.36,157.71L113.94,118.82L114.07,140.88L114.11,133.4L114.23,117.93L114.65,152L114.95,144.88L114.99,140.48L115.07,140.89L115.11,136.99L115.49,115.45L115.7,143.94L115.74,124.68L116.08,150.35L116.49,140.82L116.54,141.07L116.58,140.89L116.62,136.88L117,125.58L117.04,143.99L117.41,139.73L117.46,137.4L117.62,150.22L118,135.76L118.25,141.29L118.29,133.09L118.63,131.59L119.05,147.51L119.09,140.68L119.13,138.25L119.21,148.78L119.59,137.3L119.63,130.13L120.3,149.31L120.39,136.54L120.43,140.18L120.55,144.76L120.89,131.63L121.22,132.72L121.26,142.34L121.31,142.55L121.35,139.84L121.39,138L121.52,152.31L122.02,127.8L122.1,139.37L122.14,139.18L122.27,131.76L122.6,153.82L122.85,148.3L122.9,138.59L123.02,122.53L123.4,142.58L123.57,134.67L123.61,150.66L123.69,133.72L124.4,139.27L124.44,139.38L124.61,135.8L124.7,141.64L125.16,139.58L125.2,139.2L125.32,136.84L125.66,141.89L125.99,141.86L126.03,137.03L126.16,143.07L126.66,130.41L126.75,134.62L126.79,135.85L127.08,133.31L127.37,144.44L127.46,138.09L127.5,131.64L128.08,150.89L128.34,145.44L128.38,139.89L128.75,146.1L128.92,132.18L129.13,136.81L129.17,139.39L129.34,145.2L129.72,135.46L129.84,139.16L129.88,140.33L130.05,131.68L130.43,145.09L130.55,141.58L130.6,143.03L130.93,135.46L131.35,140.62L131.39,141.12L131.89,145.7L132.19,130.51L132.23,140.11L132.44,129.14L132.9,146.54L132.98,142.7L133.02,138.24L133.15,134.67L133.19,145.2L133.65,143.79L133.69,136.13L133.78,147.23L134.03,128.56L134.36,141.3L134.4,133.57L134.91,128.44L135.07,159.88L135.16,139.87L135.2,145.47L135.74,93.77L135.95,123.98L135.99,138.39L136.24,150.65L136.37,128.05L136.62,138.92L136.66,136.54L136.79,119.33L136.96,142.01L137,116.72L137.25,157.66L137.79,139.66L137.83,148.17L138.21,131.49L138.59,136.96L138.63,150.12L138.92,121.21L139.42,135.76L139.47,137.98L140.01,131.95L140.26,144.94L140.3,129.95L140.81,145.66L141.1,140.16L141.14,140.38L141.18,140.54L141.27,139.05L141.31,131.65L141.43,128.57L141.89,141.9L142.06,140.73L142.1,137.64L142.27,145.46L142.69,134.96L142.81,139.65L142.86,134.74L142.94,129.19L143.44,143.73L143.57,140.65L143.61,133.93L144.36,142.21L144.4,139.13L144.53,143.11L144.95,136.27L145.2,142.22L145.24,140.78L145.66,137.29L145.74,148.98L145.91,141.23L145.95,142.21L146.08,149.22L146.66,130.71L146.71,140.43L146.75,142.04L146.91,143.66L147.12,133.47L147.17,141.03L147.21,157.88L147.84,126.29L148,142.41L148.04,143.05L148.34,158.44L148.5,132.58L148.76,143.63L148.8,147.52L148.92,125.73L149.55,142.11L149.59,153.07L150.18,124.4L150.3,158.02L150.35,141.73L150.39,141.48L150.76,158.05L150.93,116.68L151.14,123.3L151.18,141.67L151.48,126.59L151.64,151.27L151.94,139L151.98,141.01L152.15,152.63L152.48,142.01L152.52,141.18L152.65,136.06L152.77,146.6L152.98,143.95L153.02,128.32L153.27,151.35L153.78,142.47L153.82,138.32L153.94,143.98L153.99,128.33L154.28,152.04L154.78,143.1L154.82,143.07L154.95,144.6L154.99,142.7L155.03,132.7L155.28,147.51L155.79,136.65L155.83,142.91L155.99,139.27L156.12,143.87L156.2,143.6L156.25,139.86L156.37,146.37L157,142.51L157.04,141.38L157.33,139.57L157.92,146.59L157.96,142.95L158.46,138.23L158.55,145.51L158.59,142.95L158.63,139.82L158.92,145.99L159.43,142.95L159.47,144.96L159.55,140.51L160.22,142.95L160.26,143.2L160.39,139.58L160.43,143.63L160.47,142.96L160.51,147.21L160.85,149.99L161.35,139.29L161.39,142.91L161.64,139.74L161.85,143.56L161.89,142.96L161.94,156.35L162.61,136.73L162.69,142.55L162.73,142.97L162.94,136.18L162.98,144.44L163.36,142.78L163.4,145.68L164.03,136.88L164.15,142.97L164.2,147.44L164.36,137.35L164.53,148.86L164.91,142.62L164.95,147.62L165.33,138.44L165.62,150.11L165.74,143.52L165.79,146.02L165.87,152.28L166.58,140.63L166.62,140.75L166.75,135.45L167.33,157.75L167.38,142.97L167.42,142.5L167.5,139.61L167.54,143L167.79,140.83L167.84,148.18L168.13,149.7L168.26,137.26L168.59,142.99L168.63,142.98L168.72,143.73L168.76,136.56L168.88,150.42L169.18,135.55L169.51,143.03L169.55,142.01L170.05,150.28L170.18,137.08L170.26,142.97L170.31,142.96L170.35,131.8L170.89,154.11L171.02,141.78L171.06,148.37L171.69,154.14L171.81,128.37L171.85,142.82L171.9,142.46L171.94,136.11L172.27,111.33L172.36,146.95L172.52,145.57L172.57,154.22L172.69,157.78L173.36,119.36L173.4,142L173.78,156.93L174.03,109.27L174.11,140.49L174.16,138.72L174.49,128.16L174.62,159.02L174.91,138.32L174.95,142.92L175.08,150.91L175.2,121.04L175.49,142.98L175.54,126.74L175.87,153.23L176.33,143.04L176.37,147.8L176.71,159.17L176.92,138.92L177.13,143.19L177.17,143.02L177.25,147.81L177.29,142.52L177.34,122.32L177.88,157.1L178.09,134.79L178.13,144.11L178.3,145.86L178.51,129.39L178.59,142.98L178.63,146.26L178.84,132L179.13,158.31L179.39,144.11L179.43,152.18L179.76,121.61L180.18,145.37L180.22,143.01L180.31,144.94L180.35,137.04L180.39,150.53L180.77,136.85L181.1,142.98L181.14,142.97L181.27,138.23L181.31,149.68L181.6,142.59L181.65,152.13L182.27,123.8L182.44,142.96L182.48,144.9L182.52,144.18L182.57,157.31L183.11,121.6L183.36,142.51L183.4,141.6L183.65,153.84L183.7,140.7L184.07,148.29L184.11,141.83L184.2,132.99L184.45,150.41L184.49,141.23L184.53,126.48L184.87,154.32L185.24,145.32L185.29,109.19L185.54,151.58L186.04,143.03L186.08,142.91L186.25,136.19L186.46,146.43L186.5,117.29L187.08,153.31L187.29,145.84L187.34,143.26L187.59,150.5L187.71,132.92L188.05,138.23L188.09,153.49L188.42,157.44L188.76,126.72L188.84,143.21L188.88,143.63L188.93,143.14L188.97,143.51L189.01,154.29L189.26,158.48L189.55,132.98L189.85,134.65L189.89,143.81L190.06,146.98L190.18,138.48L190.43,140.98L190.47,157.83L190.73,129.38L191.23,142.28L191.27,147.38L191.39,153.95L191.98,137.63L192.06,143.44L192.11,143.24L192.27,139.38L192.61,148.83L192.78,143.78L192.82,146.73L192.86,148.76L193.4,140.46L193.49,145.66L193.53,143.5L193.57,141.16L194.11,147.32L194.2,143.67L194.24,146.72L194.37,139.24L194.41,134.03L195.16,147.95L195.2,143.65L195.33,152.35L195.62,135.42L195.66,148.39L195.87,130.13L196.25,155.76L196.42,144.55L196.46,145.95L196.5,154.16L196.83,128.06L197.04,145.33L197.09,117.3L197.5,156.25L197.84,144.94L197.88,143.12L198.09,150.75L198.22,137L198.34,142.97L198.38,114.65L198.68,156.55L199.18,145.13L199.22,146.81L199.26,114.84L199.85,159.83L199.97,144.88L200.01,149.92L200.43,128.12L200.48,159.55L200.73,152.75L200.77,149.45L201.23,153.33L201.56,130.75L201.6,148.65L201.9,155.74L202.27,141.24L202.36,146.99L202.4,145.36L202.78,132.04L203.15,158.35L203.19,146.77L203.28,143.53L203.36,149.2L203.4,143.89L203.45,158.62L203.7,158.73L203.99,138.89L204.24,139.25L204.28,147.29L204.32,157.8L204.87,130.37L204.99,151.31L205.04,144.46L205.2,150.28L205.37,133.22L205.62,146.17L205.66,132.1L205.96,118.2L206.33,152.03L206.42,150.95L206.46,139.47L206.5,139.7L206.54,145.81L206.79,155.41L206.88,133.85L207.25,147.75L207.3,145.65L207.34,144.95L207.38,119.01L208.13,157.04L208.17,145.33L208.76,130.26L208.93,158.77L208.97,140.19L209.39,159.16L209.6,128.16L209.68,145.79L209.72,141.84L210.31,155.74L210.48,119.9L210.52,141.45L210.6,158.56L210.98,141.83L211.02,123.02L211.1,158.46L211.31,111.28L211.81,144.02L211.86,145.73L212.23,133.05L212.4,159.25L212.57,137.46L212.61,139.58L212.74,149.48L212.86,136.33L213.4,145.79L213.45,139.68L213.74,157.61L214.24,145.8L214.28,134.23L215.04,153.83L215.08,145.19L215.29,142.43L215.41,148.72L215.54,143.09L215.58,138.19L215.87,131.79L215.92,153.35L216.25,145.54L216.29,145.63L216.33,145.79L216.38,159.89L216.84,130.19L217.13,140.92L217.17,153.81L217.51,132.28L217.76,159.6L217.92,145.79L217.97,147.94L218.3,142.94L218.34,159.5L218.59,143.42L218.64,137.2L218.68,153.28L219.39,146.57L219.43,146.04L219.47,145.79L219.51,150.48L219.6,157.67L220.14,135.37L220.27,145.49L220.31,145.94L220.52,155.37L220.81,134.42L221.06,145.79L221.1,143.37L221.36,150.22L221.48,116.01L221.82,146.56L221.86,146.89L222.4,123.2L222.44,155L222.57,146.1L222.61,153.19L223.07,155.66L223.28,138.4L223.36,148.12L223.41,148.53L223.74,135.13L223.78,148.96L224.08,134.8L224.28,152.79L224.49,145.79L224.54,155.56L225.12,140.89L225.33,144.07L225.37,145.79L225.54,147.04L225.62,142.56L225.67,145.79L225.71,151.4L226.29,139.13L226.46,143.46L226.5,145.78L226.75,142.7L226.84,156.3L227.21,145.45L227.26,146.31L227.3,147.35L227.72,143.5L227.97,145.79L228.01,146.08L228.18,147.71L228.59,140.59L228.76,147.19L228.8,145.79L228.93,149.13L229.18,142.03L229.22,153.71L229.51,153.72L229.56,142.01L229.98,145.79L230.02,148.88L230.39,134.66L230.73,155.62L230.77,146.05L230.81,145.89L230.85,158.83L231.48,135.58L231.52,146.2L231.57,145.79L231.61,143.08L232.07,157.18L232.28,146.12L232.32,147.29L232.49,140.42L232.65,148.12L232.74,146.59L232.78,140.26L233.11,157.58L233.53,145.95L233.57,142.8L233.74,132.32L234.24,149.06L234.33,145.84L234.37,144.7L234.66,148.24L234.95,146.34L235,138.5L235.67,147.07L235.79,146.15L235.83,145.81L235.92,150.37L236.54,139.64L236.59,148.03L237.09,149.31L237.13,143.34L237.34,145.78L237.38,145.75L237.67,143.65L237.72,150.68L237.93,145.81L237.97,143.9L238.39,140.97L238.47,147.13L238.51,145.77L238.55,148.63L238.89,152.93L239.18,140.24L239.31,143.14L239.35,147.42L239.39,135.65L239.98,156.1L240.1,145.93L240.14,144.01L240.19,141.06L240.65,150.45L240.85,145.93L240.9,143.76L240.98,152.86L241.27,139.32L241.61,145.66L241.65,146.13L241.82,156.79L241.94,145.58L242.03,146.22L242.07,145.86L242.11,147.65L242.32,129.89L242.61,146.42L242.65,129.31L242.9,153.98L243.41,145.86L243.45,129.27L244.08,159.04L244.24,145.85L244.29,141.54L244.83,147.3L244.87,125.97L245.08,145.82L245.12,144.33L245.16,121.64L245.46,150.52L245.83,145.87L245.88,147.04L246.25,133.07L246.55,143.89L246.59,155.79L247.17,132.48L247.38,145.79L247.42,145.79L247.76,157.11L248.09,139.25L248.14,145.51L248.18,145.59L248.3,146.51L248.39,145.3L248.43,133.46L248.76,156.77L249.22,145.85L249.27,145.7L249.35,144.79L249.56,146.12L249.6,145.87\" style=\"vector-effect: none; fill: none; stroke: rgb(171, 99, 250); stroke-opacity: 1; stroke-width: 2px; opacity: 1;\"/></g><g class=\"points\"/><g class=\"text\"/></g></g></g><g class=\"overplot\"/><path class=\"xlines-above crisp\" d=\"M0,0\" style=\"fill: none;\"/><path class=\"ylines-above crisp\" d=\"M0,0\" style=\"fill: none;\"/><g class=\"overlines-above\"/><g class=\"xaxislayer-above\"><g class=\"x4tick\"><text text-anchor=\"middle\" x=\"0\" y=\"281.3\" transform=\"translate(80,0)\" style=\"font-family: 'Open Sans', verdana, arial, sans-serif; font-size: 12px; fill: rgb(42, 63, 95); fill-opacity: 1; white-space: pre; opacity: 1;\">0</text></g><g class=\"x4tick\"><text text-anchor=\"middle\" x=\"0\" y=\"281.3\" style=\"font-family: 'Open Sans', verdana, arial, sans-serif; font-size: 12px; fill: rgb(42, 63, 95); fill-opacity: 1; white-space: pre; opacity: 1;\" transform=\"translate(163.69,0)\">2000</text></g><g class=\"x4tick\"><text text-anchor=\"middle\" x=\"0\" y=\"281.3\" style=\"font-family: 'Open Sans', verdana, arial, sans-serif; font-size: 12px; fill: rgb(42, 63, 95); fill-opacity: 1; white-space: pre; opacity: 1;\" transform=\"translate(247.38,0)\">4000</text></g></g><g class=\"yaxislayer-above\"><g class=\"y4tick\"><text text-anchor=\"end\" x=\"79\" y=\"4.199999999999999\" transform=\"translate(0,260.02)\" style=\"font-family: 'Open Sans', verdana, arial, sans-serif; font-size: 12px; fill: rgb(42, 63, 95); fill-opacity: 1; white-space: pre; opacity: 1;\">0</text></g><g class=\"y4tick\"><text text-anchor=\"end\" x=\"79\" y=\"4.199999999999999\" style=\"font-family: 'Open Sans', verdana, arial, sans-serif; font-size: 12px; fill: rgb(42, 63, 95); fill-opacity: 1; white-space: pre; opacity: 1;\" transform=\"translate(0,184.22)\">5k</text></g><g class=\"y4tick\"><text text-anchor=\"end\" x=\"79\" y=\"4.199999999999999\" style=\"font-family: 'Open Sans', verdana, arial, sans-serif; font-size: 12px; fill: rgb(42, 63, 95); fill-opacity: 1; white-space: pre; opacity: 1;\" transform=\"translate(0,108.41)\">10k</text></g></g><g class=\"overaxes-above\"/></g><g class=\"subplot x5y5\"><g class=\"layer-subplot\"><g class=\"shapelayer\"/><g class=\"imagelayer\"/></g><g class=\"minor-gridlayer\"><g class=\"x5\"/><g class=\"y5\"/></g><g class=\"gridlayer\"><g class=\"x5\"><path class=\"x5grid crisp\" transform=\"translate(470.89,0)\" d=\"M0,100v168.3\" style=\"stroke: rgb(255, 255, 255); stroke-opacity: 1; stroke-width: 1px;\"/><path class=\"x5grid crisp\" transform=\"translate(554.5799999999999,0)\" d=\"M0,100v168.3\" style=\"stroke: rgb(255, 255, 255); stroke-opacity: 1; stroke-width: 1px;\"/></g><g class=\"y5\"><path class=\"y5grid crisp\" transform=\"translate(0,180.56)\" d=\"M387.2,0h249.60000000000002\" style=\"stroke: rgb(255, 255, 255); stroke-opacity: 1; stroke-width: 1px;\"/><path class=\"y5grid crisp\" transform=\"translate(0,101.22)\" d=\"M387.2,0h249.60000000000002\" style=\"stroke: rgb(255, 255, 255); stroke-opacity: 1; stroke-width: 1px;\"/></g></g><g class=\"zerolinelayer\"><path class=\"x5zl zl crisp\" transform=\"translate(387.2,0)\" d=\"M0,100v168.3\" style=\"stroke: rgb(255, 255, 255); stroke-opacity: 1; stroke-width: 2px;\"/><path class=\"y5zl zl crisp\" transform=\"translate(0,259.89)\" d=\"M387.2,0h249.60000000000002\" style=\"stroke: rgb(255, 255, 255); stroke-opacity: 1; stroke-width: 2px;\"/></g><path class=\"xlines-below\"/><path class=\"ylines-below\"/><g class=\"overlines-below\"/><g class=\"xaxislayer-below\"/><g class=\"yaxislayer-below\"/><g class=\"overaxes-below\"/><g class=\"plot\" transform=\"translate(387.2,100)\" clip-path=\"url(#clip68c9b7x5y5plot)\"><g class=\"scatterlayer mlayer\"><g class=\"trace scatter traced83802\" style=\"stroke-miterlimit: 2; opacity: 1;\"><g class=\"fills\"/><g class=\"errorbars\"/><g class=\"lines\"><path class=\"js-line\" d=\"M0,88.64L0.04,8.41L0.13,147.15L0.71,128.87L0.75,137.4L0.92,76.15L1.21,144.76L1.51,125.47L1.55,150.64L1.67,114.12L2.3,134.92L2.34,143.32L2.51,83.68L3.01,145.23L3.1,133.16L3.14,154.11L3.51,123.87L3.89,140.06L3.93,133.87L4.23,145.4L4.27,128.35L4.69,141.43L4.73,124.88L5.4,151.84L5.52,139.59L5.57,134.42L6.23,150.57L6.28,130.73L6.32,140.42L6.36,138.5L6.57,118.29L7.11,151.68L7.16,141.75L7.2,158.32L7.78,124.69L7.87,139.77L7.91,140.75L8.33,132.98L8.54,149.16L8.58,140.41L8.62,148.49L9.21,121.43L9.37,141.35L9.41,139.88L9.79,148.38L9.92,130.63L10.08,138.09L10.13,143.03L10.46,127.69L10.8,142.94L10.84,142.41L10.96,144.16L11.63,132.18L11.67,136.13L11.72,134.86L11.76,127.59L12.01,153.85L12.43,139.64L12.47,138.85L12.51,144.1L12.64,121.87L13.18,137.99L13.22,136.59L13.26,151.46L13.93,123.5L13.98,135.02L14.06,128.6L14.35,149.42L14.52,136.5L14.56,153.29L15.15,130.26L15.31,139.9L15.36,134.42L15.73,143.71L15.9,133.3L16.15,139.76L16.19,137.03L16.32,130.87L16.91,147.75L16.95,138.68L16.99,138.26L17.32,127.27L17.62,151.2L17.74,144.06L17.78,135.67L17.91,152.93L17.95,132.41L18.24,145.36L18.29,134.78L18.91,128.01L19.08,157.99L19.12,139.86L19.21,140.43L19.25,132.92L19.29,140.43L19.33,111.59L19.79,145.26L20.09,138.51L20.13,137.49L20.25,153.29L20.42,129.82L20.84,144.33L20.88,138.55L21.26,153.91L21.47,133.59L21.63,140.63L21.68,146.49L22.26,149.72L22.3,137.11L22.47,140.63L22.51,145.42L23.14,152.16L23.31,133.25L23.35,140.64L23.43,158.43L23.85,135.61L24.06,139.65L24.1,140.13L24.14,150.28L24.44,134.92L24.81,140.87L24.86,139.61L24.94,145.39L25.06,139.49L25.11,145.22L25.15,136.57L25.61,136.38L25.78,152.06L25.9,145.34L25.94,140.43L26.24,147.67L26.28,138.54L26.36,140.65L26.4,137.67L26.86,137.05L27.03,154.76L27.11,139.21L27.16,138.01L27.45,153.8L27.53,145.83L27.58,138.39L27.78,159.39L28.08,142.74L28.12,118.27L28.87,159.15L28.91,141.57L29.33,159.06L29.5,131.9L29.54,153.91L29.58,153.78L29.79,121.76L30.3,147.2L30.34,151.67L30.38,128.09L30.96,159.73L31.09,142L31.13,146.55L31.26,159.09L31.3,127.42L31.34,117.26L31.72,155.14L32.14,152.64L32.18,136.37L32.64,120.27L32.68,158.41L32.93,155.25L32.97,143.31L33.31,131.27L33.73,158.74L33.77,130.49L34.31,159.87L34.52,145.63L34.56,140.63L34.65,145.5L34.69,149.84L34.86,155.38L34.9,126.02L34.94,155.89L35.19,158.64L35.48,122.43L35.73,143.66L35.78,148.6L35.99,131.88L36.15,151.05L36.49,144.18L36.53,158.08L36.82,129.46L37.28,149.06L37.32,148.34L37.45,159.07L37.49,129.37L37.74,154.93L37.79,131.75L38.12,157.12L38.58,148.58L38.62,158.91L39.42,124.68L39.46,146.7L39.5,153.93L40.09,136.86L40.21,148.64L40.25,148.62L40.34,156.8L40.97,142.67L41.01,149.1L41.38,140.56L41.63,154.59L41.72,147.54L41.76,150.58L41.84,158.57L42.35,141.25L42.39,135.48L42.89,155.19L43.18,149.33L43.22,145.78L43.48,140.73L43.85,153.4L43.98,148.93L44.02,147.75L44.56,158.36L44.69,137.14L44.73,153.62L44.77,146.52L45.32,159.28L45.48,142.82L45.53,143.46L46.2,159.52L46.28,147.46L46.32,152.47L46.36,158.2L46.87,138.36L47.07,153.14L47.12,153.25L47.16,135.62L47.66,157.77L47.83,156.89L47.87,154.22L48.08,156.7L48.46,135.17L48.66,142.43L48.71,153.23L49.08,157.33L49.17,147.32L49.42,155.81L49.46,155.61L49.63,141.57L49.71,156.1L50.17,153.66L50.21,156.34L50.63,159.09L50.97,140.32L51.01,151.93L51.05,150.56L51.09,158.21L51.72,145.12L51.8,155.35L51.84,151.41L52.26,145.75L52.51,156.22L52.56,153.72L52.6,139.44L53.23,158.49L53.35,147.67L53.39,150.74L53.81,136.51L54.23,157.92L54.27,150.4L54.4,156.37L54.65,138.22L54.94,151.82L54.98,145.54L55.11,158.09L55.74,151.02L55.78,141.28L56.24,159.06L56.53,150.34L56.57,151.69L56.74,157.84L56.87,150.55L57.28,153.65L57.33,152.09L57.45,159.45L57.79,145.24L58.08,155.54L58.12,142.23L58.29,159.72L58.87,159.09L58.92,155.57L59.17,152.41L59.42,159.77L59.67,156.09L59.71,156.08L60,159.83L60.13,153.32L60.46,159.18L60.51,157.68L60.67,159.35L60.88,153.01L60.92,157.15L60.97,158.81L61.05,159.77L61.68,142.61L61.72,158.56L61.76,159.75L61.93,141.4L62.1,159.12L62.14,159.77L62.26,151.19L62.81,155.32L62.85,159.8L63.14,148.36L63.56,159.84L63.6,159.74L63.64,159.69L63.81,154.02L63.9,159.84L64.36,159.23L64.4,159.48L64.65,159.82L64.82,154.07L64.86,157.83L64.9,159.85L64.94,159.68L64.98,159.7L65.03,151.45L65.15,159.73L65.78,159.68L65.82,151.74L65.95,159.84L65.99,146.26L66.57,157.51L66.62,157.57L66.83,147.74L66.95,159.74L67.08,156.47L67.12,141.32L67.79,159.79L67.87,159.63L67.91,159.36L68.12,159.81L68.54,148.67L68.62,158.46L68.67,159.28L68.79,159.44L68.83,158.39L68.88,158.81L68.92,159.84L69.54,150.51L69.63,157.59L69.67,159.24L69.71,159.46L69.84,156.04L69.88,153.13L70.05,159.88L70.67,159.73L70.72,159.86L70.76,159.38L70.8,148.82L71.47,159.85L71.55,159.41L71.6,159.64L72.1,159.82L72.22,154.96L72.35,159.47L72.39,159.73L72.47,159.33L72.56,159.77L72.6,155.14L72.64,159.87L73.35,159.33L73.39,155.63L73.44,153.73L73.81,159.87L74.02,159.62L74.06,159.58L74.23,158.85L74.4,159.82L74.44,159.59L74.48,156.44L74.94,159.88L75.24,159.87L75.28,159.8L75.44,158.58L75.65,159.42L75.7,159.77L75.78,157.57L76.11,159.23L76.16,159.88L76.66,157.13L76.7,159.82L76.74,157.49L77.12,159.85L77.45,159.42L77.5,159.82L77.62,159.19L77.83,159.83L77.87,157.55L78.21,156.1L78.33,159.86L78.63,159.65L78.67,159.85L79.29,158.28L79.46,159.34L79.5,159.72L79.63,158.45L79.75,159.85L80.26,159.56L80.3,159.54L80.63,159.88L80.76,158.76L81.01,159.79L81.05,159.76L81.18,159.86L81.3,159.35L81.76,159.71L81.81,159.81L81.89,159.85L82.56,159.22L82.6,159.82L83.44,159.38L83.56,159.64L83.6,159.67L83.77,158.86L84.48,159.8L84.53,159.71L85.24,159.8L85.32,159.66L85.36,159.15L85.95,159.88L86.12,159.78L86.16,159.69L86.87,159.84L86.91,159.74L86.95,159.47L87.45,159.16L87.66,159.81L87.71,159.74L87.75,159.31L88.46,159.85L88.54,159.81L88.58,159.7L89.04,159.88L89.21,159.29L89.25,159.8L89.3,159.18L89.76,159.88L90.05,159.77L90.09,159.71L90.22,159.38L90.63,159.82L90.72,159.71L90.76,159.26L91.18,159.88L91.51,159.36L91.55,159.68L91.76,159.86L92.31,159.61L92.35,159.72L92.43,159.77L93.02,159.42L93.1,159.46L93.14,159.86L93.61,159.49L93.98,159.65L94.02,159.79L94.15,159.48L94.78,159.68L94.82,159.69L95.91,159.86L95.95,159.6L96.7,159.85L96.74,159.78L96.79,159.73L103.65,159.8L103.69,159.88L104.82,159.82L104.86,159.86L115.11,159.79L115.15,159.71L115.91,159.87L115.95,159.84L115.99,159.74L117,159.87L117.04,159.84L249.6,159.88\" style=\"vector-effect: none; fill: none; stroke: rgb(255, 161, 90); stroke-opacity: 1; stroke-width: 2px; opacity: 1;\"/></g><g class=\"points\"/><g class=\"text\"/></g></g></g><g class=\"overplot\"/><path class=\"xlines-above crisp\" d=\"M0,0\" style=\"fill: none;\"/><path class=\"ylines-above crisp\" d=\"M0,0\" style=\"fill: none;\"/><g class=\"overlines-above\"/><g class=\"xaxislayer-above\"><g class=\"x5tick\"><text text-anchor=\"middle\" x=\"0\" y=\"281.3\" transform=\"translate(387.2,0)\" style=\"font-family: 'Open Sans', verdana, arial, sans-serif; font-size: 12px; fill: rgb(42, 63, 95); fill-opacity: 1; white-space: pre; opacity: 1;\">0</text></g><g class=\"x5tick\"><text text-anchor=\"middle\" x=\"0\" y=\"281.3\" style=\"font-family: 'Open Sans', verdana, arial, sans-serif; font-size: 12px; fill: rgb(42, 63, 95); fill-opacity: 1; white-space: pre; opacity: 1;\" transform=\"translate(470.89,0)\">2000</text></g><g class=\"x5tick\"><text text-anchor=\"middle\" x=\"0\" y=\"281.3\" style=\"font-family: 'Open Sans', verdana, arial, sans-serif; font-size: 12px; fill: rgb(42, 63, 95); fill-opacity: 1; white-space: pre; opacity: 1;\" transform=\"translate(554.5799999999999,0)\">4000</text></g></g><g class=\"yaxislayer-above\"><g class=\"y5tick\"><text text-anchor=\"end\" x=\"386.2\" y=\"4.199999999999999\" transform=\"translate(0,259.89)\" style=\"font-family: 'Open Sans', verdana, arial, sans-serif; font-size: 12px; fill: rgb(42, 63, 95); fill-opacity: 1; white-space: pre; opacity: 1;\">0</text></g><g class=\"y5tick\"><text text-anchor=\"end\" x=\"386.2\" y=\"4.199999999999999\" style=\"font-family: 'Open Sans', verdana, arial, sans-serif; font-size: 12px; fill: rgb(42, 63, 95); fill-opacity: 1; white-space: pre; opacity: 1;\" transform=\"translate(0,180.56)\">5k</text></g><g class=\"y5tick\"><text text-anchor=\"end\" x=\"386.2\" y=\"4.199999999999999\" style=\"font-family: 'Open Sans', verdana, arial, sans-serif; font-size: 12px; fill: rgb(42, 63, 95); fill-opacity: 1; white-space: pre; opacity: 1;\" transform=\"translate(0,101.22)\">10k</text></g></g><g class=\"overaxes-above\"/></g></g><g class=\"polarlayer\"/><g class=\"smithlayer\"/><g class=\"ternarylayer\"/><g class=\"geolayer\"/><g class=\"funnelarealayer\"/><g class=\"pielayer\"/><g class=\"iciclelayer\"/><g class=\"treemaplayer\"/><g class=\"sunburstlayer\"/><g class=\"glimages\"/><defs id=\"topdefs-68c9b7\"><g class=\"clips\"/><clipPath id=\"legend68c9b7\"><rect width=\"481\" height=\"29\" x=\"0\" y=\"0\"/></clipPath></defs><g class=\"layer-above\"><g class=\"imagelayer\"/><g class=\"shapelayer\"/></g><g class=\"infolayer\"><g class=\"legend\" pointer-events=\"all\" transform=\"translate(463,63.08)\"><rect class=\"bg\" shape-rendering=\"crispEdges\" style=\"stroke: rgb(68, 68, 68); stroke-opacity: 1; fill: rgb(255, 255, 255); fill-opacity: 1; stroke-width: 0px;\" width=\"481\" height=\"29\" x=\"0\" y=\"0\"/><g class=\"scrollbox\" transform=\"\" clip-path=\"url(#legend68c9b7)\"><g class=\"groups\"><g class=\"traces\" transform=\"translate(0,14.5)\" style=\"opacity: 1;\"><text class=\"legendtext\" text-anchor=\"start\" x=\"40\" y=\"4.680000000000001\" style=\"font-family: 'Open Sans', verdana, arial, sans-serif; font-size: 12px; fill: rgb(42, 63, 95); fill-opacity: 1; white-space: pre;\">R0 [Ohm]</text><g class=\"layers\" style=\"opacity: 1;\"><g class=\"legendfill\"/><g class=\"legendlines\"><path class=\"js-line\" d=\"M5,0h30\" style=\"fill: none; stroke: rgb(99, 110, 250); stroke-opacity: 1; stroke-width: 2px;\"/></g><g class=\"legendsymbols\"><g class=\"legendpoints\"/></g></g><rect class=\"legendtoggle\" x=\"0\" y=\"-9.5\" width=\"102.3125\" height=\"19\" style=\"fill: rgb(0, 0, 0); fill-opacity: 0;\"/></g><g class=\"traces\" transform=\"translate(104.8125,14.5)\" style=\"opacity: 1;\"><text class=\"legendtext\" text-anchor=\"start\" x=\"40\" y=\"4.680000000000001\" style=\"font-family: 'Open Sans', verdana, arial, sans-serif; font-size: 12px; fill: rgb(42, 63, 95); fill-opacity: 1; white-space: pre;\">R1 [Ohm]</text><g class=\"layers\" style=\"opacity: 1;\"><g class=\"legendfill\"/><g class=\"legendlines\"><path class=\"js-line\" d=\"M5,0h30\" style=\"fill: none; stroke: rgb(239, 85, 59); stroke-opacity: 1; stroke-width: 2px;\"/></g><g class=\"legendsymbols\"><g class=\"legendpoints\"/></g></g><rect class=\"legendtoggle\" x=\"0\" y=\"-9.5\" width=\"102.3125\" height=\"19\" style=\"fill: rgb(0, 0, 0); fill-opacity: 0;\"/></g><g class=\"traces\" transform=\"translate(209.625,14.5)\" style=\"opacity: 1;\"><text class=\"legendtext\" text-anchor=\"start\" x=\"40\" y=\"4.680000000000001\" style=\"font-family: 'Open Sans', verdana, arial, sans-serif; font-size: 12px; fill: rgb(42, 63, 95); fill-opacity: 1; white-space: pre;\">R2 [Ohm]</text><g class=\"layers\" style=\"opacity: 1;\"><g class=\"legendfill\"/><g class=\"legendlines\"><path class=\"js-line\" d=\"M5,0h30\" style=\"fill: none; stroke: rgb(0, 204, 150); stroke-opacity: 1; stroke-width: 2px;\"/></g><g class=\"legendsymbols\"><g class=\"legendpoints\"/></g></g><rect class=\"legendtoggle\" x=\"0\" y=\"-9.5\" width=\"102.3125\" height=\"19\" style=\"fill: rgb(0, 0, 0); fill-opacity: 0;\"/></g><g class=\"traces\" transform=\"translate(314.4375,14.5)\" style=\"opacity: 1;\"><text class=\"legendtext\" text-anchor=\"start\" x=\"40\" y=\"4.680000000000001\" style=\"font-family: 'Open Sans', verdana, arial, sans-serif; font-size: 12px; fill: rgb(42, 63, 95); fill-opacity: 1; white-space: pre;\">C1 [F]</text><g class=\"layers\" style=\"opacity: 1;\"><g class=\"legendfill\"/><g class=\"legendlines\"><path class=\"js-line\" d=\"M5,0h30\" style=\"fill: none; stroke: rgb(171, 99, 250); stroke-opacity: 1; stroke-width: 2px;\"/></g><g class=\"legendsymbols\"><g class=\"legendpoints\"/></g></g><rect class=\"legendtoggle\" x=\"0\" y=\"-9.5\" width=\"80.53125\" height=\"19\" style=\"fill: rgb(0, 0, 0); fill-opacity: 0;\"/></g><g class=\"traces\" transform=\"translate(397.46875,14.5)\" style=\"opacity: 1;\"><text class=\"legendtext\" text-anchor=\"start\" x=\"40\" y=\"4.680000000000001\" style=\"font-family: 'Open Sans', verdana, arial, sans-serif; font-size: 12px; fill: rgb(42, 63, 95); fill-opacity: 1; white-space: pre;\">C2 [F]</text><g class=\"layers\" style=\"opacity: 1;\"><g class=\"legendfill\"/><g class=\"legendlines\"><path class=\"js-line\" d=\"M5,0h30\" style=\"fill: none; stroke: rgb(255, 161, 90); stroke-opacity: 1; stroke-width: 2px;\"/></g><g class=\"legendsymbols\"><g class=\"legendpoints\"/></g></g><rect class=\"legendtoggle\" x=\"0\" y=\"-9.5\" width=\"80.53125\" height=\"19\" style=\"fill: rgb(0, 0, 0); fill-opacity: 0;\"/></g></g></g><rect class=\"scrollbar\" rx=\"20\" ry=\"3\" width=\"0\" height=\"0\" style=\"fill: rgb(128, 139, 164); fill-opacity: 1;\" x=\"0\" y=\"0\"/></g><g class=\"g-gtitle\"><text class=\"gtitle\" x=\"51.2\" y=\"50\" text-anchor=\"start\" dy=\"0em\" style=\"font-family: 'Open Sans', verdana, arial, sans-serif; font-size: 17px; fill: rgb(42, 63, 95); opacity: 1; font-weight: normal; white-space: pre;\">Parameter Convergence</text></g><g class=\"g-xtitle\"><text class=\"xtitle\" x=\"204.8\" y=\"535.8\" text-anchor=\"middle\" style=\"font-family: 'Open Sans', verdana, arial, sans-serif; font-size: 14px; fill: rgb(42, 63, 95); opacity: 1; font-weight: normal; white-space: pre;\">Function Call</text></g><g class=\"g-x2title\"><text class=\"x2title\" x=\"512\" y=\"535.8\" text-anchor=\"middle\" style=\"font-family: 'Open Sans', verdana, arial, sans-serif; font-size: 14px; fill: rgb(42, 63, 95); opacity: 1; font-weight: normal; white-space: pre;\">Function Call</text></g><g class=\"g-x3title\"><text class=\"x3title\" x=\"819.1999999999999\" y=\"535.8\" text-anchor=\"middle\" style=\"font-family: 'Open Sans', verdana, arial, sans-serif; font-size: 14px; fill: rgb(42, 63, 95); opacity: 1; font-weight: normal; white-space: pre;\">Function Call</text></g><g class=\"g-x4title\"><text class=\"x4title\" x=\"204.8\" y=\"308.1125\" text-anchor=\"middle\" style=\"font-family: 'Open Sans', verdana, arial, sans-serif; font-size: 14px; fill: rgb(42, 63, 95); opacity: 1; font-weight: normal; white-space: pre;\">Function Call</text></g><g class=\"g-x5title\"><text class=\"x5title\" x=\"512\" y=\"308.1125\" text-anchor=\"middle\" style=\"font-family: 'Open Sans', verdana, arial, sans-serif; font-size: 14px; fill: rgb(42, 63, 95); opacity: 1; font-weight: normal; white-space: pre;\">Function Call</text></g><g class=\"g-ytitle\"><text class=\"ytitle\" transform=\"rotate(-90,27.434375000000003,411.84999999999997)\" x=\"27.434375000000003\" y=\"411.84999999999997\" text-anchor=\"middle\" style=\"font-family: 'Open Sans', verdana, arial, sans-serif; font-size: 14px; fill: rgb(42, 63, 95); opacity: 1; font-weight: normal; white-space: pre;\">R0 [Ohm]</text></g><g class=\"g-y2title\"><text class=\"y2title\" transform=\"rotate(-90,342.2625,411.84999999999997)\" x=\"342.2625\" y=\"411.84999999999997\" text-anchor=\"middle\" style=\"font-family: 'Open Sans', verdana, arial, sans-serif; font-size: 14px; fill: rgb(42, 63, 95); opacity: 1; font-weight: normal; white-space: pre;\">R1 [Ohm]</text></g><g class=\"g-y3title\"><text class=\"y3title\" transform=\"rotate(-90,649.465625,411.84999999999997)\" x=\"649.465625\" y=\"411.84999999999997\" text-anchor=\"middle\" style=\"font-family: 'Open Sans', verdana, arial, sans-serif; font-size: 14px; fill: rgb(42, 63, 95); opacity: 1; font-weight: normal; white-space: pre;\">R2 [Ohm]</text></g><g class=\"g-y4title\"><text class=\"y4title\" transform=\"rotate(-90,32.340625,184.15)\" x=\"32.340625\" y=\"184.15\" text-anchor=\"middle\" style=\"font-family: 'Open Sans', verdana, arial, sans-serif; font-size: 14px; fill: rgb(42, 63, 95); opacity: 1; font-weight: normal; white-space: pre;\">C1 [F]</text></g><g class=\"g-y5title\"><text class=\"y5title\" transform=\"rotate(-90,339.528125,184.15)\" x=\"339.528125\" y=\"184.15\" text-anchor=\"middle\" style=\"font-family: 'Open Sans', verdana, arial, sans-serif; font-size: 14px; fill: rgb(42, 63, 95); opacity: 1; font-weight: normal; white-space: pre;\">C2 [F]</text></g></g></svg>"
      ]
     },
     "metadata": {},
     "output_type": "display_data"
    }
   ],
   "source": [
    "pybop.plot_convergence(optim)\n",
    "pybop.plot_parameters(optim);"
   ]
  },
  {
   "cell_type": "markdown",
   "id": "d483bbe5",
   "metadata": {},
   "source": [
    "## Fit Validation\n",
    "\n",
    "We've identified parameters from a single discharge pulse. Now, let's ask ourselves how well these parameters extrapolate to other operational conditions. To accomplish this, let's construct a new pulse dataset at 80% SOC and compare it to our identified forward model."
   ]
  },
  {
   "cell_type": "code",
   "execution_count": 16,
   "id": "10b36ce3",
   "metadata": {},
   "outputs": [],
   "source": [
    "df_pulse_two = pd.DataFrame(\n",
    "    pulse_data[\"LGM50_5Ah_Pulse\"][\"T0\"][\"SoC8\"][\"Cell19\"][\"data\"]\n",
    ")\n",
    "df_pulse_two[\"ProgTime\"] = df_pulse_two[\"ProgTime\"] - df_pulse_two[\"ProgTime\"].min()\n",
    "df_pulse_two.drop_duplicates(subset=[\"ProgTime\"], inplace=True)"
   ]
  },
  {
   "cell_type": "markdown",
   "id": "0035483a",
   "metadata": {},
   "source": [
    "Next, we construct a new `pybop.Dataset` from the second pulse data,"
   ]
  },
  {
   "cell_type": "code",
   "execution_count": 17,
   "id": "f19eb048",
   "metadata": {},
   "outputs": [],
   "source": [
    "dataset_two_pulse = pybop.Dataset(\n",
    "    {\n",
    "        \"Time [s]\": df_pulse_two[\"ProgTime\"].values,\n",
    "        \"Current function [A]\": -df_pulse_two[\"Current\"].values,\n",
    "        \"Voltage [V]\": df_pulse_two[\"Voltage\"].values,\n",
    "    }\n",
    ")"
   ]
  },
  {
   "cell_type": "markdown",
   "id": "db5360da",
   "metadata": {},
   "source": [
    "Now that we have a new dataset, we update the target within the problem class as well as the `Initial SoC` value. Once that has been completed, we rebuild the model."
   ]
  },
  {
   "cell_type": "code",
   "execution_count": 18,
   "id": "0aa12385",
   "metadata": {},
   "outputs": [],
   "source": [
    "problem.set_target(dataset_two_pulse)\n",
    "model.parameter_set[\"Initial SoC\"] = 0.8 - 0.0075\n",
    "model.rebuild(dataset_two_pulse)"
   ]
  },
  {
   "cell_type": "markdown",
   "id": "22a1a39d",
   "metadata": {},
   "source": [
    "Let's plot the parameterised forward model against the new pulse data:"
   ]
  },
  {
   "cell_type": "code",
   "execution_count": 20,
   "id": "11fc77a6",
   "metadata": {},
   "outputs": [
    {
     "data": {
      "image/svg+xml": [
       "<svg class=\"main-svg\" xmlns=\"http://www.w3.org/2000/svg\" xmlns:xlink=\"http://www.w3.org/1999/xlink\" width=\"700\" height=\"500\" style=\"\" viewBox=\"0 0 700 500\"><rect x=\"0\" y=\"0\" width=\"700\" height=\"500\" style=\"fill: rgb(255, 255, 255); fill-opacity: 1;\"/><defs id=\"defs-4c6dd5\"><g class=\"clips\"><clipPath id=\"clip4c6dd5xyplot\" class=\"plotclip\"><rect width=\"492\" height=\"320\"/></clipPath><clipPath class=\"axesclip\" id=\"clip4c6dd5x\"><rect x=\"80\" y=\"0\" width=\"492\" height=\"500\"/></clipPath><clipPath class=\"axesclip\" id=\"clip4c6dd5y\"><rect x=\"0\" y=\"100\" width=\"700\" height=\"320\"/></clipPath><clipPath class=\"axesclip\" id=\"clip4c6dd5xy\"><rect x=\"80\" y=\"100\" width=\"492\" height=\"320\"/></clipPath></g><g class=\"gradients\"/><g class=\"patterns\"/></defs><g class=\"bglayer\"><rect class=\"bg\" x=\"80\" y=\"100\" width=\"492\" height=\"320\" style=\"fill: rgb(229, 236, 246); fill-opacity: 1; stroke-width: 0;\"/></g><g class=\"layer-below\"><g class=\"imagelayer\"/><g class=\"shapelayer\"/></g><g class=\"cartesianlayer\"><g class=\"subplot xy\"><g class=\"layer-subplot\"><g class=\"shapelayer\"/><g class=\"imagelayer\"/></g><g class=\"minor-gridlayer\"><g class=\"x\"/><g class=\"y\"/></g><g class=\"gridlayer\"><g class=\"x\"><path class=\"xgrid crisp\" transform=\"translate(216.59,0)\" d=\"M0,100v320\" style=\"stroke: rgb(255, 255, 255); stroke-opacity: 1; stroke-width: 1px;\"/><path class=\"xgrid crisp\" transform=\"translate(324.83000000000004,0)\" d=\"M0,100v320\" style=\"stroke: rgb(255, 255, 255); stroke-opacity: 1; stroke-width: 1px;\"/><path class=\"xgrid crisp\" transform=\"translate(433.07,0)\" d=\"M0,100v320\" style=\"stroke: rgb(255, 255, 255); stroke-opacity: 1; stroke-width: 1px;\"/><path class=\"xgrid crisp\" transform=\"translate(541.31,0)\" d=\"M0,100v320\" style=\"stroke: rgb(255, 255, 255); stroke-opacity: 1; stroke-width: 1px;\"/></g><g class=\"y\"><path class=\"ygrid crisp\" transform=\"translate(0,382.32)\" d=\"M80,0h492\" style=\"stroke: rgb(255, 255, 255); stroke-opacity: 1; stroke-width: 1px;\"/><path class=\"ygrid crisp\" transform=\"translate(0,296.94)\" d=\"M80,0h492\" style=\"stroke: rgb(255, 255, 255); stroke-opacity: 1; stroke-width: 1px;\"/><path class=\"ygrid crisp\" transform=\"translate(0,211.56)\" d=\"M80,0h492\" style=\"stroke: rgb(255, 255, 255); stroke-opacity: 1; stroke-width: 1px;\"/><path class=\"ygrid crisp\" transform=\"translate(0,126.17)\" d=\"M80,0h492\" style=\"stroke: rgb(255, 255, 255); stroke-opacity: 1; stroke-width: 1px;\"/></g></g><g class=\"zerolinelayer\"><path class=\"xzl zl crisp\" transform=\"translate(108.35,0)\" d=\"M0,100v320\" style=\"stroke: rgb(255, 255, 255); stroke-opacity: 1; stroke-width: 2px;\"/></g><path class=\"xlines-below\"/><path class=\"ylines-below\"/><g class=\"overlines-below\"/><g class=\"xaxislayer-below\"/><g class=\"yaxislayer-below\"/><g class=\"overaxes-below\"/><g class=\"plot\" transform=\"translate(80,100)\" clip-path=\"url(#clip4c6dd5xyplot)\"><g class=\"scatterlayer mlayer\"><g class=\"trace scatter trace833cf5\" style=\"stroke-miterlimit: 2; opacity: 1;\"><g class=\"fills\"><g><path class=\"js-fill\" d=\"M28.35,16L28.74,16L30.97,129.84L33.78,224.01L35.78,225.71L50.71,229.03L53.76,229.66L108.92,240.22L109.79,240.37L159.69,248.51L162.18,248.89L225.93,257.62L229.11,258.02L245.18,259.96L246.24,256.28L246.67,184.19L268.73,49.21L333.39,43.49L354.98,41.82L441.85,36.19L463.65,35L463.65,79.04L441.85,80.23L354.98,85.87L333.39,87.53L268.73,93.26L246.67,228.23L246.24,300.32L245.18,304L183.16,296L181.32,295.72L135.46,288.77L130.66,287.96L80.95,279.13L76.6,278.29L35.78,269.76L33.78,268.05L30.97,173.88L28.74,60.04L28.35,60.04Z\" style=\"fill: rgb(255, 229, 204); fill-opacity: 0.8; stroke-width: 0;\"/></g></g><g class=\"errorbars\"/><g class=\"lines\"><path class=\"js-line\" d=\"M28.35,16L28.74,16L30.97,129.84L33.78,224.01L35.78,225.71L50.71,229.03L53.76,229.66L108.92,240.22L109.79,240.37L159.69,248.51L162.18,248.89L225.93,257.62L229.11,258.02L245.18,259.96L246.24,256.28L246.67,184.19L268.73,49.21L333.39,43.49L354.98,41.82L441.85,36.19L463.65,35L463.65,79.04L441.85,80.23L354.98,85.87L333.39,87.53L268.73,93.26L246.67,228.23L246.24,300.32L245.18,304L183.16,296L181.32,295.72L135.46,288.77L130.66,287.96L80.95,279.13L76.6,278.29L35.78,269.76L33.78,268.05L30.97,173.88L28.74,60.04L28.35,60.04\" style=\"vector-effect: none; fill: none; stroke: rgb(255, 255, 255); stroke-opacity: 0; stroke-width: 2px; opacity: 1;\"/></g><g class=\"points\"/><g class=\"text\"/></g><g class=\"trace scatter tracefc4bec\" style=\"stroke-miterlimit: 2; opacity: 1;\"><g class=\"fills\"/><g class=\"errorbars\"/><g class=\"lines\"/><g class=\"points\"><path class=\"point\" transform=\"translate(28.35,38.61)\" d=\"M3,0A3,3 0 1,1 0,-3A3,3 0 0,1 3,0Z\" style=\"opacity: 1; stroke-width: 0px; fill: rgb(239, 85, 59); fill-opacity: 1;\"/><path class=\"point\" transform=\"translate(28.74,220.57)\" d=\"M3,0A3,3 0 1,1 0,-3A3,3 0 0,1 3,0Z\" style=\"opacity: 1; stroke-width: 0px; fill: rgb(239, 85, 59); fill-opacity: 1;\"/><path class=\"point\" transform=\"translate(30.97,225.32)\" d=\"M3,0A3,3 0 1,1 0,-3A3,3 0 0,1 3,0Z\" style=\"opacity: 1; stroke-width: 0px; fill: rgb(239, 85, 59); fill-opacity: 1;\"/><path class=\"point\" transform=\"translate(33.78,225.88)\" d=\"M3,0A3,3 0 1,1 0,-3A3,3 0 0,1 3,0Z\" style=\"opacity: 1; stroke-width: 0px; fill: rgb(239, 85, 59); fill-opacity: 1;\"/><path class=\"point\" transform=\"translate(35.78,227.78)\" d=\"M3,0A3,3 0 1,1 0,-3A3,3 0 0,1 3,0Z\" style=\"opacity: 1; stroke-width: 0px; fill: rgb(239, 85, 59); fill-opacity: 1;\"/><path class=\"point\" transform=\"translate(37.42,228.55)\" d=\"M3,0A3,3 0 1,1 0,-3A3,3 0 0,1 3,0Z\" style=\"opacity: 1; stroke-width: 0px; fill: rgb(239, 85, 59); fill-opacity: 1;\"/><path class=\"point\" transform=\"translate(40.47,228.55)\" d=\"M3,0A3,3 0 1,1 0,-3A3,3 0 0,1 3,0Z\" style=\"opacity: 1; stroke-width: 0px; fill: rgb(239, 85, 59); fill-opacity: 1;\"/><path class=\"point\" transform=\"translate(41.71,230.07)\" d=\"M3,0A3,3 0 1,1 0,-3A3,3 0 0,1 3,0Z\" style=\"opacity: 1; stroke-width: 0px; fill: rgb(239, 85, 59); fill-opacity: 1;\"/><path class=\"point\" transform=\"translate(44.04,230.82)\" d=\"M3,0A3,3 0 1,1 0,-3A3,3 0 0,1 3,0Z\" style=\"opacity: 1; stroke-width: 0px; fill: rgb(239, 85, 59); fill-opacity: 1;\"/><path class=\"point\" transform=\"translate(46.9,230.82)\" d=\"M3,0A3,3 0 1,1 0,-3A3,3 0 0,1 3,0Z\" style=\"opacity: 1; stroke-width: 0px; fill: rgb(239, 85, 59); fill-opacity: 1;\"/><path class=\"point\" transform=\"translate(48.37,232.15)\" d=\"M3,0A3,3 0 1,1 0,-3A3,3 0 0,1 3,0Z\" style=\"opacity: 1; stroke-width: 0px; fill: rgb(239, 85, 59); fill-opacity: 1;\"/><path class=\"point\" transform=\"translate(50.71,232.9)\" d=\"M3,0A3,3 0 1,1 0,-3A3,3 0 0,1 3,0Z\" style=\"opacity: 1; stroke-width: 0px; fill: rgb(239, 85, 59); fill-opacity: 1;\"/><path class=\"point\" transform=\"translate(53.76,233.29)\" d=\"M3,0A3,3 0 1,1 0,-3A3,3 0 0,1 3,0Z\" style=\"opacity: 1; stroke-width: 0px; fill: rgb(239, 85, 59); fill-opacity: 1;\"/><path class=\"point\" transform=\"translate(54.98,234.05)\" d=\"M3,0A3,3 0 1,1 0,-3A3,3 0 0,1 3,0Z\" style=\"opacity: 1; stroke-width: 0px; fill: rgb(239, 85, 59); fill-opacity: 1;\"/><path class=\"point\" transform=\"translate(57.42,234.61)\" d=\"M3,0A3,3 0 1,1 0,-3A3,3 0 0,1 3,0Z\" style=\"opacity: 1; stroke-width: 0px; fill: rgb(239, 85, 59); fill-opacity: 1;\"/><path class=\"point\" transform=\"translate(59.03,235.19)\" d=\"M3,0A3,3 0 1,1 0,-3A3,3 0 0,1 3,0Z\" style=\"opacity: 1; stroke-width: 0px; fill: rgb(239, 85, 59); fill-opacity: 1;\"/><path class=\"point\" transform=\"translate(61.62,235.57)\" d=\"M3,0A3,3 0 1,1 0,-3A3,3 0 0,1 3,0Z\" style=\"opacity: 1; stroke-width: 0px; fill: rgb(239, 85, 59); fill-opacity: 1;\"/><path class=\"point\" transform=\"translate(64.03,236.13)\" d=\"M3,0A3,3 0 1,1 0,-3A3,3 0 0,1 3,0Z\" style=\"opacity: 1; stroke-width: 0px; fill: rgb(239, 85, 59); fill-opacity: 1;\"/><path class=\"point\" transform=\"translate(65.5,236.52)\" d=\"M3,0A3,3 0 1,1 0,-3A3,3 0 0,1 3,0Z\" style=\"opacity: 1; stroke-width: 0px; fill: rgb(239, 85, 59); fill-opacity: 1;\"/><path class=\"point\" transform=\"translate(67.77,236.71)\" d=\"M3,0A3,3 0 1,1 0,-3A3,3 0 0,1 3,0Z\" style=\"opacity: 1; stroke-width: 0px; fill: rgb(239, 85, 59); fill-opacity: 1;\"/><path class=\"point\" transform=\"translate(69.96,237.84)\" d=\"M3,0A3,3 0 1,1 0,-3A3,3 0 0,1 3,0Z\" style=\"opacity: 1; stroke-width: 0px; fill: rgb(239, 85, 59); fill-opacity: 1;\"/><path class=\"point\" transform=\"translate(71.67,238.04)\" d=\"M3,0A3,3 0 1,1 0,-3A3,3 0 0,1 3,0Z\" style=\"opacity: 1; stroke-width: 0px; fill: rgb(239, 85, 59); fill-opacity: 1;\"/><path class=\"point\" transform=\"translate(74.92,238.42)\" d=\"M3,0A3,3 0 1,1 0,-3A3,3 0 0,1 3,0Z\" style=\"opacity: 1; stroke-width: 0px; fill: rgb(239, 85, 59); fill-opacity: 1;\"/><path class=\"point\" transform=\"translate(76.6,239.36)\" d=\"M3,0A3,3 0 1,1 0,-3A3,3 0 0,1 3,0Z\" style=\"opacity: 1; stroke-width: 0px; fill: rgb(239, 85, 59); fill-opacity: 1;\"/><path class=\"point\" transform=\"translate(80.95,239.36)\" d=\"M3,0A3,3 0 1,1 0,-3A3,3 0 0,1 3,0Z\" style=\"opacity: 1; stroke-width: 0px; fill: rgb(239, 85, 59); fill-opacity: 1;\"/><path class=\"point\" transform=\"translate(82.43,239.75)\" d=\"M3,0A3,3 0 1,1 0,-3A3,3 0 0,1 3,0Z\" style=\"opacity: 1; stroke-width: 0px; fill: rgb(239, 85, 59); fill-opacity: 1;\"/><path class=\"point\" transform=\"translate(83.21,240.5)\" d=\"M3,0A3,3 0 1,1 0,-3A3,3 0 0,1 3,0Z\" style=\"opacity: 1; stroke-width: 0px; fill: rgb(239, 85, 59); fill-opacity: 1;\"/><path class=\"point\" transform=\"translate(86.84,240.88)\" d=\"M3,0A3,3 0 1,1 0,-3A3,3 0 0,1 3,0Z\" style=\"opacity: 1; stroke-width: 0px; fill: rgb(239, 85, 59); fill-opacity: 1;\"/><path class=\"point\" transform=\"translate(88.94,241.27)\" d=\"M3,0A3,3 0 1,1 0,-3A3,3 0 0,1 3,0Z\" style=\"opacity: 1; stroke-width: 0px; fill: rgb(239, 85, 59); fill-opacity: 1;\"/><path class=\"point\" transform=\"translate(89.79,241.64)\" d=\"M3,0A3,3 0 1,1 0,-3A3,3 0 0,1 3,0Z\" style=\"opacity: 1; stroke-width: 0px; fill: rgb(239, 85, 59); fill-opacity: 1;\"/><path class=\"point\" transform=\"translate(93.34,242.21)\" d=\"M3,0A3,3 0 1,1 0,-3A3,3 0 0,1 3,0Z\" style=\"opacity: 1; stroke-width: 0px; fill: rgb(239, 85, 59); fill-opacity: 1;\"/><path class=\"point\" transform=\"translate(95.52,242.4)\" d=\"M3,0A3,3 0 1,1 0,-3A3,3 0 0,1 3,0Z\" style=\"opacity: 1; stroke-width: 0px; fill: rgb(239, 85, 59); fill-opacity: 1;\"/><path class=\"point\" transform=\"translate(96.41,242.98)\" d=\"M3,0A3,3 0 1,1 0,-3A3,3 0 0,1 3,0Z\" style=\"opacity: 1; stroke-width: 0px; fill: rgb(239, 85, 59); fill-opacity: 1;\"/><path class=\"point\" transform=\"translate(99.05,243.54)\" d=\"M3,0A3,3 0 1,1 0,-3A3,3 0 0,1 3,0Z\" style=\"opacity: 1; stroke-width: 0px; fill: rgb(239, 85, 59); fill-opacity: 1;\"/><path class=\"point\" transform=\"translate(101.02,243.54)\" d=\"M3,0A3,3 0 1,1 0,-3A3,3 0 0,1 3,0Z\" style=\"opacity: 1; stroke-width: 0px; fill: rgb(239, 85, 59); fill-opacity: 1;\"/><path class=\"point\" transform=\"translate(103.82,243.73)\" d=\"M3,0A3,3 0 1,1 0,-3A3,3 0 0,1 3,0Z\" style=\"opacity: 1; stroke-width: 0px; fill: rgb(239, 85, 59); fill-opacity: 1;\"/><path class=\"point\" transform=\"translate(104.66,244.68)\" d=\"M3,0A3,3 0 1,1 0,-3A3,3 0 0,1 3,0Z\" style=\"opacity: 1; stroke-width: 0px; fill: rgb(239, 85, 59); fill-opacity: 1;\"/><path class=\"point\" transform=\"translate(108.92,244.68)\" d=\"M3,0A3,3 0 1,1 0,-3A3,3 0 0,1 3,0Z\" style=\"opacity: 1; stroke-width: 0px; fill: rgb(239, 85, 59); fill-opacity: 1;\"/><path class=\"point\" transform=\"translate(109.79,244.87)\" d=\"M3,0A3,3 0 1,1 0,-3A3,3 0 0,1 3,0Z\" style=\"opacity: 1; stroke-width: 0px; fill: rgb(239, 85, 59); fill-opacity: 1;\"/><path class=\"point\" transform=\"translate(111.31,245.81)\" d=\"M3,0A3,3 0 1,1 0,-3A3,3 0 0,1 3,0Z\" style=\"opacity: 1; stroke-width: 0px; fill: rgb(239, 85, 59); fill-opacity: 1;\"/><path class=\"point\" transform=\"translate(115.44,246.02)\" d=\"M3,0A3,3 0 1,1 0,-3A3,3 0 0,1 3,0Z\" style=\"opacity: 1; stroke-width: 0px; fill: rgb(239, 85, 59); fill-opacity: 1;\"/><path class=\"point\" transform=\"translate(116.44,246.2)\" d=\"M3,0A3,3 0 1,1 0,-3A3,3 0 0,1 3,0Z\" style=\"opacity: 1; stroke-width: 0px; fill: rgb(239, 85, 59); fill-opacity: 1;\"/><path class=\"point\" transform=\"translate(117.97,246.77)\" d=\"M3,0A3,3 0 1,1 0,-3A3,3 0 0,1 3,0Z\" style=\"opacity: 1; stroke-width: 0px; fill: rgb(239, 85, 59); fill-opacity: 1;\"/><path class=\"point\" transform=\"translate(121.05,247.14)\" d=\"M3,0A3,3 0 1,1 0,-3A3,3 0 0,1 3,0Z\" style=\"opacity: 1; stroke-width: 0px; fill: rgb(239, 85, 59); fill-opacity: 1;\"/><path class=\"point\" transform=\"translate(122.74,247.14)\" d=\"M3,0A3,3 0 1,1 0,-3A3,3 0 0,1 3,0Z\" style=\"opacity: 1; stroke-width: 0px; fill: rgb(239, 85, 59); fill-opacity: 1;\"/><path class=\"point\" transform=\"translate(124.64,247.91)\" d=\"M3,0A3,3 0 1,1 0,-3A3,3 0 0,1 3,0Z\" style=\"opacity: 1; stroke-width: 0px; fill: rgb(239, 85, 59); fill-opacity: 1;\"/><path class=\"point\" transform=\"translate(125.92,247.91)\" d=\"M3,0A3,3 0 1,1 0,-3A3,3 0 0,1 3,0Z\" style=\"opacity: 1; stroke-width: 0px; fill: rgb(239, 85, 59); fill-opacity: 1;\"/><path class=\"point\" transform=\"translate(128.65,248.48)\" d=\"M3,0A3,3 0 1,1 0,-3A3,3 0 0,1 3,0Z\" style=\"opacity: 1; stroke-width: 0px; fill: rgb(239, 85, 59); fill-opacity: 1;\"/><path class=\"point\" transform=\"translate(130.66,248.48)\" d=\"M3,0A3,3 0 1,1 0,-3A3,3 0 0,1 3,0Z\" style=\"opacity: 1; stroke-width: 0px; fill: rgb(239, 85, 59); fill-opacity: 1;\"/><path class=\"point\" transform=\"translate(135.46,249.24)\" d=\"M3,0A3,3 0 1,1 0,-3A3,3 0 0,1 3,0Z\" style=\"opacity: 1; stroke-width: 0px; fill: rgb(239, 85, 59); fill-opacity: 1;\"/><path class=\"point\" transform=\"translate(136.37,249.24)\" d=\"M3,0A3,3 0 1,1 0,-3A3,3 0 0,1 3,0Z\" style=\"opacity: 1; stroke-width: 0px; fill: rgb(239, 85, 59); fill-opacity: 1;\"/><path class=\"point\" transform=\"translate(137.3,249.62)\" d=\"M3,0A3,3 0 1,1 0,-3A3,3 0 0,1 3,0Z\" style=\"opacity: 1; stroke-width: 0px; fill: rgb(239, 85, 59); fill-opacity: 1;\"/><path class=\"point\" transform=\"translate(139.49,250.18)\" d=\"M3,0A3,3 0 1,1 0,-3A3,3 0 0,1 3,0Z\" style=\"opacity: 1; stroke-width: 0px; fill: rgb(239, 85, 59); fill-opacity: 1;\"/><path class=\"point\" transform=\"translate(141.96,250.18)\" d=\"M3,0A3,3 0 1,1 0,-3A3,3 0 0,1 3,0Z\" style=\"opacity: 1; stroke-width: 0px; fill: rgb(239, 85, 59); fill-opacity: 1;\"/><path class=\"point\" transform=\"translate(143.93,250.56)\" d=\"M3,0A3,3 0 1,1 0,-3A3,3 0 0,1 3,0Z\" style=\"opacity: 1; stroke-width: 0px; fill: rgb(239, 85, 59); fill-opacity: 1;\"/><path class=\"point\" transform=\"translate(146.85,251.14)\" d=\"M3,0A3,3 0 1,1 0,-3A3,3 0 0,1 3,0Z\" style=\"opacity: 1; stroke-width: 0px; fill: rgb(239, 85, 59); fill-opacity: 1;\"/><path class=\"point\" transform=\"translate(148.99,251.14)\" d=\"M3,0A3,3 0 1,1 0,-3A3,3 0 0,1 3,0Z\" style=\"opacity: 1; stroke-width: 0px; fill: rgb(239, 85, 59); fill-opacity: 1;\"/><path class=\"point\" transform=\"translate(149.88,251.7)\" d=\"M3,0A3,3 0 1,1 0,-3A3,3 0 0,1 3,0Z\" style=\"opacity: 1; stroke-width: 0px; fill: rgb(239, 85, 59); fill-opacity: 1;\"/><path class=\"point\" transform=\"translate(152.98,251.89)\" d=\"M3,0A3,3 0 1,1 0,-3A3,3 0 0,1 3,0Z\" style=\"opacity: 1; stroke-width: 0px; fill: rgb(239, 85, 59); fill-opacity: 1;\"/><path class=\"point\" transform=\"translate(155.53,252.27)\" d=\"M3,0A3,3 0 1,1 0,-3A3,3 0 0,1 3,0Z\" style=\"opacity: 1; stroke-width: 0px; fill: rgb(239, 85, 59); fill-opacity: 1;\"/><path class=\"point\" transform=\"translate(156.64,252.47)\" d=\"M3,0A3,3 0 1,1 0,-3A3,3 0 0,1 3,0Z\" style=\"opacity: 1; stroke-width: 0px; fill: rgb(239, 85, 59); fill-opacity: 1;\"/><path class=\"point\" transform=\"translate(159.69,252.85)\" d=\"M3,0A3,3 0 1,1 0,-3A3,3 0 0,1 3,0Z\" style=\"opacity: 1; stroke-width: 0px; fill: rgb(239, 85, 59); fill-opacity: 1;\"/><path class=\"point\" transform=\"translate(162.18,253.22)\" d=\"M3,0A3,3 0 1,1 0,-3A3,3 0 0,1 3,0Z\" style=\"opacity: 1; stroke-width: 0px; fill: rgb(239, 85, 59); fill-opacity: 1;\"/><path class=\"point\" transform=\"translate(163.33,253.41)\" d=\"M3,0A3,3 0 1,1 0,-3A3,3 0 0,1 3,0Z\" style=\"opacity: 1; stroke-width: 0px; fill: rgb(239, 85, 59); fill-opacity: 1;\"/><path class=\"point\" transform=\"translate(165.62,253.79)\" d=\"M3,0A3,3 0 1,1 0,-3A3,3 0 0,1 3,0Z\" style=\"opacity: 1; stroke-width: 0px; fill: rgb(239, 85, 59); fill-opacity: 1;\"/><path class=\"point\" transform=\"translate(169.32,254.18)\" d=\"M3,0A3,3 0 1,1 0,-3A3,3 0 0,1 3,0Z\" style=\"opacity: 1; stroke-width: 0px; fill: rgb(239, 85, 59); fill-opacity: 1;\"/><path class=\"point\" transform=\"translate(170.77,254.37)\" d=\"M3,0A3,3 0 1,1 0,-3A3,3 0 0,1 3,0Z\" style=\"opacity: 1; stroke-width: 0px; fill: rgb(239, 85, 59); fill-opacity: 1;\"/><path class=\"point\" transform=\"translate(171.62,254.55)\" d=\"M3,0A3,3 0 1,1 0,-3A3,3 0 0,1 3,0Z\" style=\"opacity: 1; stroke-width: 0px; fill: rgb(239, 85, 59); fill-opacity: 1;\"/><path class=\"point\" transform=\"translate(174.97,254.93)\" d=\"M3,0A3,3 0 1,1 0,-3A3,3 0 0,1 3,0Z\" style=\"opacity: 1; stroke-width: 0px; fill: rgb(239, 85, 59); fill-opacity: 1;\"/><path class=\"point\" transform=\"translate(176.77,254.93)\" d=\"M3,0A3,3 0 1,1 0,-3A3,3 0 0,1 3,0Z\" style=\"opacity: 1; stroke-width: 0px; fill: rgb(239, 85, 59); fill-opacity: 1;\"/><path class=\"point\" transform=\"translate(178.31,255.51)\" d=\"M3,0A3,3 0 1,1 0,-3A3,3 0 0,1 3,0Z\" style=\"opacity: 1; stroke-width: 0px; fill: rgb(239, 85, 59); fill-opacity: 1;\"/><path class=\"point\" transform=\"translate(181.32,255.7)\" d=\"M3,0A3,3 0 1,1 0,-3A3,3 0 0,1 3,0Z\" style=\"opacity: 1; stroke-width: 0px; fill: rgb(239, 85, 59); fill-opacity: 1;\"/><path class=\"point\" transform=\"translate(183.16,255.89)\" d=\"M3,0A3,3 0 1,1 0,-3A3,3 0 0,1 3,0Z\" style=\"opacity: 1; stroke-width: 0px; fill: rgb(239, 85, 59); fill-opacity: 1;\"/><path class=\"point\" transform=\"translate(185.04,256.45)\" d=\"M3,0A3,3 0 1,1 0,-3A3,3 0 0,1 3,0Z\" style=\"opacity: 1; stroke-width: 0px; fill: rgb(239, 85, 59); fill-opacity: 1;\"/><path class=\"point\" transform=\"translate(186.55,256.64)\" d=\"M3,0A3,3 0 1,1 0,-3A3,3 0 0,1 3,0Z\" style=\"opacity: 1; stroke-width: 0px; fill: rgb(239, 85, 59); fill-opacity: 1;\"/><path class=\"point\" transform=\"translate(189.87,256.64)\" d=\"M3,0A3,3 0 1,1 0,-3A3,3 0 0,1 3,0Z\" style=\"opacity: 1; stroke-width: 0px; fill: rgb(239, 85, 59); fill-opacity: 1;\"/><path class=\"point\" transform=\"translate(191.71,257.22)\" d=\"M3,0A3,3 0 1,1 0,-3A3,3 0 0,1 3,0Z\" style=\"opacity: 1; stroke-width: 0px; fill: rgb(239, 85, 59); fill-opacity: 1;\"/><path class=\"point\" transform=\"translate(196.19,257.41)\" d=\"M3,0A3,3 0 1,1 0,-3A3,3 0 0,1 3,0Z\" style=\"opacity: 1; stroke-width: 0px; fill: rgb(239, 85, 59); fill-opacity: 1;\"/><path class=\"point\" transform=\"translate(197.53,257.59)\" d=\"M3,0A3,3 0 1,1 0,-3A3,3 0 0,1 3,0Z\" style=\"opacity: 1; stroke-width: 0px; fill: rgb(239, 85, 59); fill-opacity: 1;\"/><path class=\"point\" transform=\"translate(198.35,257.78)\" d=\"M3,0A3,3 0 1,1 0,-3A3,3 0 0,1 3,0Z\" style=\"opacity: 1; stroke-width: 0px; fill: rgb(239, 85, 59); fill-opacity: 1;\"/><path class=\"point\" transform=\"translate(199.89,258.16)\" d=\"M3,0A3,3 0 1,1 0,-3A3,3 0 0,1 3,0Z\" style=\"opacity: 1; stroke-width: 0px; fill: rgb(239, 85, 59); fill-opacity: 1;\"/><path class=\"point\" transform=\"translate(202.64,258.35)\" d=\"M3,0A3,3 0 1,1 0,-3A3,3 0 0,1 3,0Z\" style=\"opacity: 1; stroke-width: 0px; fill: rgb(239, 85, 59); fill-opacity: 1;\"/><path class=\"point\" transform=\"translate(205,258.53)\" d=\"M3,0A3,3 0 1,1 0,-3A3,3 0 0,1 3,0Z\" style=\"opacity: 1; stroke-width: 0px; fill: rgb(239, 85, 59); fill-opacity: 1;\"/><path class=\"point\" transform=\"translate(206.58,258.93)\" d=\"M3,0A3,3 0 1,1 0,-3A3,3 0 0,1 3,0Z\" style=\"opacity: 1; stroke-width: 0px; fill: rgb(239, 85, 59); fill-opacity: 1;\"/><path class=\"point\" transform=\"translate(208.42,258.93)\" d=\"M3,0A3,3 0 1,1 0,-3A3,3 0 0,1 3,0Z\" style=\"opacity: 1; stroke-width: 0px; fill: rgb(239, 85, 59); fill-opacity: 1;\"/><path class=\"point\" transform=\"translate(210.78,259.11)\" d=\"M3,0A3,3 0 1,1 0,-3A3,3 0 0,1 3,0Z\" style=\"opacity: 1; stroke-width: 0px; fill: rgb(239, 85, 59); fill-opacity: 1;\"/><path class=\"point\" transform=\"translate(213.2,259.3)\" d=\"M3,0A3,3 0 1,1 0,-3A3,3 0 0,1 3,0Z\" style=\"opacity: 1; stroke-width: 0px; fill: rgb(239, 85, 59); fill-opacity: 1;\"/><path class=\"point\" transform=\"translate(215.82,259.87)\" d=\"M3,0A3,3 0 1,1 0,-3A3,3 0 0,1 3,0Z\" style=\"opacity: 1; stroke-width: 0px; fill: rgb(239, 85, 59); fill-opacity: 1;\"/><path class=\"point\" transform=\"translate(217.71,259.87)\" d=\"M3,0A3,3 0 1,1 0,-3A3,3 0 0,1 3,0Z\" style=\"opacity: 1; stroke-width: 0px; fill: rgb(239, 85, 59); fill-opacity: 1;\"/><path class=\"point\" transform=\"translate(219.98,260.26)\" d=\"M3,0A3,3 0 1,1 0,-3A3,3 0 0,1 3,0Z\" style=\"opacity: 1; stroke-width: 0px; fill: rgb(239, 85, 59); fill-opacity: 1;\"/><path class=\"point\" transform=\"translate(222.94,260.45)\" d=\"M3,0A3,3 0 1,1 0,-3A3,3 0 0,1 3,0Z\" style=\"opacity: 1; stroke-width: 0px; fill: rgb(239, 85, 59); fill-opacity: 1;\"/><path class=\"point\" transform=\"translate(224.87,260.63)\" d=\"M3,0A3,3 0 1,1 0,-3A3,3 0 0,1 3,0Z\" style=\"opacity: 1; stroke-width: 0px; fill: rgb(239, 85, 59); fill-opacity: 1;\"/><path class=\"point\" transform=\"translate(225.93,261.01)\" d=\"M3,0A3,3 0 1,1 0,-3A3,3 0 0,1 3,0Z\" style=\"opacity: 1; stroke-width: 0px; fill: rgb(239, 85, 59); fill-opacity: 1;\"/><path class=\"point\" transform=\"translate(229.11,261.2)\" d=\"M3,0A3,3 0 1,1 0,-3A3,3 0 0,1 3,0Z\" style=\"opacity: 1; stroke-width: 0px; fill: rgb(239, 85, 59); fill-opacity: 1;\"/><path class=\"point\" transform=\"translate(231,261.39)\" d=\"M3,0A3,3 0 1,1 0,-3A3,3 0 0,1 3,0Z\" style=\"opacity: 1; stroke-width: 0px; fill: rgb(239, 85, 59); fill-opacity: 1;\"/><path class=\"point\" transform=\"translate(232.58,261.57)\" d=\"M3,0A3,3 0 1,1 0,-3A3,3 0 0,1 3,0Z\" style=\"opacity: 1; stroke-width: 0px; fill: rgb(239, 85, 59); fill-opacity: 1;\"/><path class=\"point\" transform=\"translate(234.53,261.97)\" d=\"M3,0A3,3 0 1,1 0,-3A3,3 0 0,1 3,0Z\" style=\"opacity: 1; stroke-width: 0px; fill: rgb(239, 85, 59); fill-opacity: 1;\"/><path class=\"point\" transform=\"translate(236.95,262.15)\" d=\"M3,0A3,3 0 1,1 0,-3A3,3 0 0,1 3,0Z\" style=\"opacity: 1; stroke-width: 0px; fill: rgb(239, 85, 59); fill-opacity: 1;\"/><path class=\"point\" transform=\"translate(239.51,262.53)\" d=\"M3,0A3,3 0 1,1 0,-3A3,3 0 0,1 3,0Z\" style=\"opacity: 1; stroke-width: 0px; fill: rgb(239, 85, 59); fill-opacity: 1;\"/><path class=\"point\" transform=\"translate(241.32,262.72)\" d=\"M3,0A3,3 0 1,1 0,-3A3,3 0 0,1 3,0Z\" style=\"opacity: 1; stroke-width: 0px; fill: rgb(239, 85, 59); fill-opacity: 1;\"/><path class=\"point\" transform=\"translate(243.73,262.72)\" d=\"M3,0A3,3 0 1,1 0,-3A3,3 0 0,1 3,0Z\" style=\"opacity: 1; stroke-width: 0px; fill: rgb(239, 85, 59); fill-opacity: 1;\"/><path class=\"point\" transform=\"translate(245.18,262.91)\" d=\"M3,0A3,3 0 1,1 0,-3A3,3 0 0,1 3,0Z\" style=\"opacity: 1; stroke-width: 0px; fill: rgb(239, 85, 59); fill-opacity: 1;\"/><path class=\"point\" transform=\"translate(246.24,263.28)\" d=\"M3,0A3,3 0 1,1 0,-3A3,3 0 0,1 3,0Z\" style=\"opacity: 1; stroke-width: 0px; fill: rgb(239, 85, 59); fill-opacity: 1;\"/><path class=\"point\" transform=\"translate(246.67,263.86)\" d=\"M3,0A3,3 0 1,1 0,-3A3,3 0 0,1 3,0Z\" style=\"opacity: 1; stroke-width: 0px; fill: rgb(239, 85, 59); fill-opacity: 1;\"/><path class=\"point\" transform=\"translate(268.73,72.59)\" d=\"M3,0A3,3 0 1,1 0,-3A3,3 0 0,1 3,0Z\" style=\"opacity: 1; stroke-width: 0px; fill: rgb(239, 85, 59); fill-opacity: 1;\"/><path class=\"point\" transform=\"translate(290.12,69.36)\" d=\"M3,0A3,3 0 1,1 0,-3A3,3 0 0,1 3,0Z\" style=\"opacity: 1; stroke-width: 0px; fill: rgb(239, 85, 59); fill-opacity: 1;\"/><path class=\"point\" transform=\"translate(312.39,67.09)\" d=\"M3,0A3,3 0 1,1 0,-3A3,3 0 0,1 3,0Z\" style=\"opacity: 1; stroke-width: 0px; fill: rgb(239, 85, 59); fill-opacity: 1;\"/><path class=\"point\" transform=\"translate(333.39,65.19)\" d=\"M3,0A3,3 0 1,1 0,-3A3,3 0 0,1 3,0Z\" style=\"opacity: 1; stroke-width: 0px; fill: rgb(239, 85, 59); fill-opacity: 1;\"/><path class=\"point\" transform=\"translate(354.98,63.86)\" d=\"M3,0A3,3 0 1,1 0,-3A3,3 0 0,1 3,0Z\" style=\"opacity: 1; stroke-width: 0px; fill: rgb(239, 85, 59); fill-opacity: 1;\"/><path class=\"point\" transform=\"translate(377.17,62.72)\" d=\"M3,0A3,3 0 1,1 0,-3A3,3 0 0,1 3,0Z\" style=\"opacity: 1; stroke-width: 0px; fill: rgb(239, 85, 59); fill-opacity: 1;\"/><path class=\"point\" transform=\"translate(399.4,61.39)\" d=\"M3,0A3,3 0 1,1 0,-3A3,3 0 0,1 3,0Z\" style=\"opacity: 1; stroke-width: 0px; fill: rgb(239, 85, 59); fill-opacity: 1;\"/><path class=\"point\" transform=\"translate(419.9,60.63)\" d=\"M3,0A3,3 0 1,1 0,-3A3,3 0 0,1 3,0Z\" style=\"opacity: 1; stroke-width: 0px; fill: rgb(239, 85, 59); fill-opacity: 1;\"/><path class=\"point\" transform=\"translate(441.85,60.05)\" d=\"M3,0A3,3 0 1,1 0,-3A3,3 0 0,1 3,0Z\" style=\"opacity: 1; stroke-width: 0px; fill: rgb(239, 85, 59); fill-opacity: 1;\"/><path class=\"point\" transform=\"translate(463.65,59.11)\" d=\"M3,0A3,3 0 1,1 0,-3A3,3 0 0,1 3,0Z\" style=\"opacity: 1; stroke-width: 0px; fill: rgb(239, 85, 59); fill-opacity: 1;\"/></g><g class=\"text\"/></g><g class=\"trace scatter trace05f4da\" style=\"stroke-miterlimit: 2; opacity: 1;\"><g class=\"fills\"/><g class=\"errorbars\"/><g class=\"lines\"><path class=\"js-line\" d=\"M28.35,38.02L28.74,38.02L30.97,151.86L33.78,246.03L35.78,247.74L50.71,251.05L53.76,251.68L95.52,259.84L96.41,260L149.88,269.02L152.98,269.5L206.58,277.18L208.42,277.41L245.18,281.98L246.24,278.3L246.67,206.21L268.73,71.24L333.39,65.51L354.98,63.85L441.85,58.21L463.65,57.02\" style=\"vector-effect: none; fill: none; stroke: rgb(0, 204, 150); stroke-opacity: 1; stroke-width: 2px; opacity: 1;\"/></g><g class=\"points\"/><g class=\"text\"/></g></g></g><g class=\"overplot\"/><path class=\"xlines-above crisp\" d=\"M0,0\" style=\"fill: none;\"/><path class=\"ylines-above crisp\" d=\"M0,0\" style=\"fill: none;\"/><g class=\"overlines-above\"/><g class=\"xaxislayer-above\"><g class=\"xtick\"><text text-anchor=\"middle\" x=\"0\" y=\"433\" transform=\"translate(108.35,0)\" style=\"font-family: 'Open Sans', verdana, arial, sans-serif; font-size: 12px; fill: rgb(42, 63, 95); fill-opacity: 1; white-space: pre; opacity: 1;\">0</text></g><g class=\"xtick\"><text text-anchor=\"middle\" x=\"0\" y=\"433\" style=\"font-family: 'Open Sans', verdana, arial, sans-serif; font-size: 12px; fill: rgb(42, 63, 95); fill-opacity: 1; white-space: pre; opacity: 1;\" transform=\"translate(216.59,0)\">5</text></g><g class=\"xtick\"><text text-anchor=\"middle\" x=\"0\" y=\"433\" style=\"font-family: 'Open Sans', verdana, arial, sans-serif; font-size: 12px; fill: rgb(42, 63, 95); fill-opacity: 1; white-space: pre; opacity: 1;\" transform=\"translate(324.83000000000004,0)\">10</text></g><g class=\"xtick\"><text text-anchor=\"middle\" x=\"0\" y=\"433\" style=\"font-family: 'Open Sans', verdana, arial, sans-serif; font-size: 12px; fill: rgb(42, 63, 95); fill-opacity: 1; white-space: pre; opacity: 1;\" transform=\"translate(433.07,0)\">15</text></g><g class=\"xtick\"><text text-anchor=\"middle\" x=\"0\" y=\"433\" style=\"font-family: 'Open Sans', verdana, arial, sans-serif; font-size: 12px; fill: rgb(42, 63, 95); fill-opacity: 1; white-space: pre; opacity: 1;\" transform=\"translate(541.31,0)\">20</text></g></g><g class=\"yaxislayer-above\"><g class=\"ytick\"><text text-anchor=\"end\" x=\"79\" y=\"4.199999999999999\" transform=\"translate(0,382.32)\" style=\"font-family: 'Open Sans', verdana, arial, sans-serif; font-size: 12px; fill: rgb(42, 63, 95); fill-opacity: 1; white-space: pre; opacity: 1;\">3.85</text></g><g class=\"ytick\"><text text-anchor=\"end\" x=\"79\" y=\"4.199999999999999\" style=\"font-family: 'Open Sans', verdana, arial, sans-serif; font-size: 12px; fill: rgb(42, 63, 95); fill-opacity: 1; white-space: pre; opacity: 1;\" transform=\"translate(0,296.94)\">3.9</text></g><g class=\"ytick\"><text text-anchor=\"end\" x=\"79\" y=\"4.199999999999999\" style=\"font-family: 'Open Sans', verdana, arial, sans-serif; font-size: 12px; fill: rgb(42, 63, 95); fill-opacity: 1; white-space: pre; opacity: 1;\" transform=\"translate(0,211.56)\">3.95</text></g><g class=\"ytick\"><text text-anchor=\"end\" x=\"79\" y=\"4.199999999999999\" style=\"font-family: 'Open Sans', verdana, arial, sans-serif; font-size: 12px; fill: rgb(42, 63, 95); fill-opacity: 1; white-space: pre; opacity: 1;\" transform=\"translate(0,126.17)\">4</text></g></g><g class=\"overaxes-above\"/></g></g><g class=\"polarlayer\"/><g class=\"smithlayer\"/><g class=\"ternarylayer\"/><g class=\"geolayer\"/><g class=\"funnelarealayer\"/><g class=\"pielayer\"/><g class=\"iciclelayer\"/><g class=\"treemaplayer\"/><g class=\"sunburstlayer\"/><g class=\"glimages\"/><defs id=\"topdefs-4c6dd5\"><g class=\"clips\"/><clipPath id=\"legend4c6dd5\"><rect width=\"106\" height=\"48\" x=\"0\" y=\"0\"/></clipPath></defs><g class=\"layer-above\"><g class=\"imagelayer\"/><g class=\"shapelayer\"/></g><g class=\"infolayer\"><g class=\"legend\" pointer-events=\"all\" transform=\"translate(581.84,100)\"><rect class=\"bg\" shape-rendering=\"crispEdges\" width=\"106\" height=\"48\" x=\"0\" y=\"0\" style=\"stroke: rgb(68, 68, 68); stroke-opacity: 1; fill: rgb(255, 255, 255); fill-opacity: 1; stroke-width: 0px;\"/><g class=\"scrollbox\" transform=\"\" clip-path=\"url(#legend4c6dd5)\"><g class=\"groups\"><g class=\"traces\" transform=\"translate(0,14.5)\" style=\"opacity: 1;\"><text class=\"legendtext\" text-anchor=\"start\" x=\"40\" y=\"4.680000000000001\" style=\"font-family: 'Open Sans', verdana, arial, sans-serif; font-size: 12px; fill: rgb(42, 63, 95); fill-opacity: 1; white-space: pre;\">Reference</text><g class=\"layers\" style=\"opacity: 1;\"><g class=\"legendfill\"/><g class=\"legendlines\"/><g class=\"legendsymbols\"><g class=\"legendpoints\"><path class=\"scatterpts\" transform=\"translate(20,0)\" d=\"M3,0A3,3 0 1,1 0,-3A3,3 0 0,1 3,0Z\" style=\"opacity: 1; stroke-width: 0px; fill: rgb(239, 85, 59); fill-opacity: 1;\"/></g></g></g><rect class=\"legendtoggle\" x=\"0\" y=\"-9.5\" width=\"100.125\" height=\"19\" style=\"fill: rgb(0, 0, 0); fill-opacity: 0;\"/></g><g class=\"traces\" transform=\"translate(0,33.5)\" style=\"opacity: 1;\"><text class=\"legendtext\" text-anchor=\"start\" x=\"40\" y=\"4.680000000000001\" style=\"font-family: 'Open Sans', verdana, arial, sans-serif; font-size: 12px; fill: rgb(42, 63, 95); fill-opacity: 1; white-space: pre;\">Model</text><g class=\"layers\" style=\"opacity: 1;\"><g class=\"legendfill\"/><g class=\"legendlines\"><path class=\"js-line\" d=\"M5,0h30\" style=\"fill: none; stroke: rgb(0, 204, 150); stroke-opacity: 1; stroke-width: 2px;\"/></g><g class=\"legendsymbols\"><g class=\"legendpoints\"/></g></g><rect class=\"legendtoggle\" x=\"0\" y=\"-9.5\" width=\"100.125\" height=\"19\" style=\"fill: rgb(0, 0, 0); fill-opacity: 0;\"/></g></g></g><rect class=\"scrollbar\" rx=\"20\" ry=\"3\" width=\"0\" height=\"0\" x=\"0\" y=\"0\" style=\"fill: rgb(128, 139, 164); fill-opacity: 1;\"/></g><g class=\"g-gtitle\"><text class=\"gtitle\" x=\"35\" y=\"50\" text-anchor=\"start\" dy=\"0em\" style=\"font-family: 'Open Sans', verdana, arial, sans-serif; font-size: 17px; fill: rgb(42, 63, 95); opacity: 1; font-weight: normal; white-space: pre;\">Parameter Extrapolation</text></g><g class=\"g-xtitle\"><text class=\"xtitle\" x=\"326\" y=\"459.8\" text-anchor=\"middle\" style=\"font-family: 'Open Sans', verdana, arial, sans-serif; font-size: 14px; fill: rgb(42, 63, 95); opacity: 1; font-weight: normal; white-space: pre;\">Time / s</text></g><g class=\"g-ytitle\"><text class=\"ytitle\" transform=\"rotate(-90,27.434375000000003,260)\" x=\"27.434375000000003\" y=\"260\" text-anchor=\"middle\" style=\"font-family: 'Open Sans', verdana, arial, sans-serif; font-size: 14px; fill: rgb(42, 63, 95); opacity: 1; font-weight: normal; white-space: pre;\">Voltage  / V</text></g></g></svg>"
      ]
     },
     "metadata": {},
     "output_type": "display_data"
    }
   ],
   "source": [
    "pybop.quick_plot(problem, parameter_values=x, title=\"Parameter Extrapolation\");"
   ]
  },
  {
   "cell_type": "markdown",
   "id": "f7056d7d",
   "metadata": {},
   "source": [
    "As expected, when identifying parameters from a single pulse, extrapolation to different operating conditions is challenging. To solve this issue, parameter identification with various pulse datasets is recommended."
   ]
  },
  {
   "cell_type": "markdown",
   "id": "c544a81c-1215-4794-b7db-c57c46125c77",
   "metadata": {},
   "source": [
    "### Conclusion\n",
    "\n",
    "This notebook illustrates how to perform circuit model parameter identification using PSO in PyBOP, providing insights into the optimisation process through various visualisations."
   ]
  }
 ],
 "metadata": {
  "kernelspec": {
   "display_name": "Python 3 (ipykernel)",
   "language": "python",
   "name": "python3"
  },
  "language_info": {
   "codemirror_mode": {
    "name": "ipython",
    "version": 3
   },
   "file_extension": ".py",
   "mimetype": "text/x-python",
   "name": "python",
   "nbconvert_exporter": "python",
   "pygments_lexer": "ipython3",
   "version": "3.11.7"
  }
 },
 "nbformat": 4,
 "nbformat_minor": 5
}
