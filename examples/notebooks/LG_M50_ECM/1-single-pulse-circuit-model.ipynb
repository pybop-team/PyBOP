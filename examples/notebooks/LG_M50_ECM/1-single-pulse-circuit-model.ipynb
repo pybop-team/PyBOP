{
 "cells": [
  {
   "cell_type": "markdown",
   "id": "0",
   "metadata": {},
   "source": [
    "## LG M50 Single Pulse Parameter Identification\n",
    "\n",
    "This example presents an experimental parameter identification method for a two-RC circuit model. The data for this notebook is located within the same directory and was obtained from WDWidanage/Simscape-Battery-Library [[1]](https://github.com/WDWidanage/Simscape-Battery-Library/tree/a3842b91b3ccda006bc9be5d59c8bcbd167ceef7/Examples/parameterEstimation_TECMD/Data).\n",
    "\n",
    "\n",
    "### Setting up the Environment\n",
    "\n",
    "Before we begin, we need to ensure that we have all the necessary tools. We will install PyBOP for the fitting and Pandas for the data ingestion and manipulation:"
   ]
  },
  {
   "cell_type": "code",
   "execution_count": null,
   "id": "1",
   "metadata": {},
   "outputs": [
    {
     "name": "stdout",
     "output_type": "stream",
     "text": [
      "Note: you may need to restart the kernel to use updated packages.\n",
      "Note: you may need to restart the kernel to use updated packages.\n",
      "Note: you may need to restart the kernel to use updated packages.\n"
     ]
    }
   ],
   "source": [
    "%pip install --upgrade pip ipywidgets -q\n",
    "%pip install pybop[plot] -q\n",
    "%pip install pandas -q"
   ]
  },
  {
   "cell_type": "markdown",
   "id": "2",
   "metadata": {},
   "source": [
    "### Importing Libraries\n",
    "\n",
    "With the environment set up, we can now import PyBOP alongside other libraries we will need:"
   ]
  },
  {
   "cell_type": "code",
   "execution_count": null,
   "id": "3",
   "metadata": {},
   "outputs": [],
   "source": [
    "import pandas as pd\n",
    "import plotly.graph_objects as go\n",
    "import pybamm\n",
    "from scipy.io import loadmat\n",
    "\n",
    "import pybop"
   ]
  },
  {
   "cell_type": "markdown",
   "id": "4",
   "metadata": {},
   "source": [
    "## Importing Data\n",
    "\n",
    "The data is imported as a dictionary with the following key level:\n",
    "- [\"LGM50_5Ah_Pulse\"]\n",
    "    - Temperature-> [\"T0\"]\n",
    "        - State of Charge ->[\"SoC3\"]\n",
    "            - Cell number -> [\"Cell1\"]\n",
    "                - Corresponding data -> [\"data\"]\n",
    "\n",
    "Using SciPy's `loadmat`, we import the data from the MAT containers:"
   ]
  },
  {
   "cell_type": "code",
   "execution_count": null,
   "id": "5",
   "metadata": {},
   "outputs": [],
   "source": [
    "ocp = loadmat(\"data/LGM50_5Ah_OCV.mat\", simplify_cells=True, mat_dtype=False)\n",
    "pulse_data = loadmat(\"data/LGM50_5Ah_Pulse.mat\", simplify_cells=True, mat_dtype=False)\n",
    "rate_data = loadmat(\"data/LGM50_5Ah_RateTest.mat\", simplify_cells=True, mat_dtype=False)"
   ]
  },
  {
   "cell_type": "markdown",
   "id": "6",
   "metadata": {},
   "source": [
    "### Convert to Dataframes\n",
    "\n",
    "Next, we construct a dataframe from a selected pulse. In this case, we select the data for zero degrees (`T0`) with a state-of-charge of 90% (`SoC9`) and the 19th cell (`Cell19`). This can be extended to multiple pulses, or a different selection.\n",
    "\n",
    "Additionally, we apply two filters to the dataframe to ensure the data contains only monotonically increasing time samples without duplicates."
   ]
  },
  {
   "cell_type": "code",
   "execution_count": null,
   "id": "7",
   "metadata": {},
   "outputs": [],
   "source": [
    "df = pd.DataFrame(pulse_data[\"LGM50_5Ah_Pulse\"][\"T0\"][\"SoC9\"][\"Cell19\"][\"data\"])\n",
    "df[\"ProgTime\"] = df[\"ProgTime\"] - df[\"ProgTime\"].min()\n",
    "df.drop_duplicates(subset=[\"ProgTime\"], inplace=True)"
   ]
  },
  {
   "cell_type": "markdown",
   "id": "8",
   "metadata": {},
   "source": [
    "A plot of time vs voltage confirms the data looks correct for fitting. In this situation, we would prefer to have additional samples from the relaxation, but as we will show below, PyBOP is still able to identify parameter values that fit this system."
   ]
  },
  {
   "cell_type": "code",
   "execution_count": null,
   "id": "9",
   "metadata": {},
   "outputs": [
    {
     "data": {
      "application/vnd.plotly.v1+json": {
       "config": {
        "plotlyServerURL": "https://plot.ly"
       },
       "data": [
        {
         "type": "scatter",
         "x": [
          0,
          0.01800000004004687,
          0.12100000004284084,
          0.25100000004749745,
          0.34300000010989606,
          0.4190000001108274,
          0.5600000000558794,
          0.6170000000856817,
          0.7250000000931323,
          0.8570000000763685,
          0.9250000000465661,
          1.0330000000540167,
          1.1739999999990687,
          1.2300000000977889,
          1.343000000109896,
          1.4170000000158325,
          1.5370000000111759,
          1.6480000000447035,
          1.7160000000149012,
          1.8209999999962747,
          1.922000000020489,
          2.0010000000474975,
          2.1510000000707805,
          2.2290000000502914,
          2.4300000000512227,
          2.4980000000214204,
          2.534000000101514,
          2.7020000000484288,
          2.7989999999990687,
          2.8380000001052395,
          3.002000000094995,
          3.103000000002794,
          3.1440000000875443,
          3.2660000000614673,
          3.3570000000763685,
          3.4860000000335276,
          3.525000000023283,
          3.7220000000670552,
          3.762000000104308,
          3.8320000000530854,
          4.0230000000447035,
          4.069000000017695,
          4.14000000001397,
          4.282000000006519,
          4.3600000001024455,
          4.44800000009127,
          4.5070000000996515,
          4.633000000030734,
          4.726000000024214,
          4.94800000009127,
          4.990000000107102,
          5.033000000054017,
          5.134000000078231,
          5.24800000002142,
          5.339000000036322,
          5.474000000045635,
          5.57300000009127,
          5.614000000059605,
          5.7570000000996515,
          5.875,
          5.926000000094064,
          6.0670000000391155,
          6.182000000029802,
          6.2350000001024455,
          6.341000000014901,
          6.512000000104308,
          6.579000000027008,
          6.618000000016764,
          6.7730000000447035,
          6.856000000028871,
          6.927000000025146,
          7.066000000108033,
          7.1510000000707805,
          7.238000000012107,
          7.3080000000773,
          7.4610000000102445,
          7.546000000089407,
          7.753000000026077,
          7.815000000060536,
          7.853000000002794,
          7.923999999999069,
          8.051000000094064,
          8.160000000032596,
          8.23300000000745,
          8.318000000086613,
          8.427000000025146,
          8.53900000010617,
          8.660000000032596,
          8.747000000090338,
          8.852000000071712,
          8.989000000059605,
          9.078000000095926,
          9.127000000094995,
          9.274000000092201,
          9.361000000033528,
          9.434000000008382,
          9.524000000092201,
          9.63600000005681,
          9.754000000073574,
          9.83800000010524,
          9.949000000022352,
          10.016000000061467,
          10.065000000060536,
          10.085000000079162,
          11.104000000050291,
          12.092000000062399,
          13.12100000004284,
          14.091000000014901,
          15.08800000010524,
          16.113000000012107,
          17.14000000001397,
          18.087000000057742,
          19.101000000024214,
          20.10800000000745
         ],
         "y": [
          4.08078,
          3.96745,
          3.96156,
          3.96156,
          3.95955,
          3.959,
          3.95889,
          3.95855,
          3.95755,
          3.95755,
          3.95722,
          3.95644,
          3.95644,
          3.95611,
          3.95533,
          3.95511,
          3.95511,
          3.95433,
          3.95422,
          3.95422,
          3.95355,
          3.95333,
          3.95322,
          3.95266,
          3.95255,
          3.95221,
          3.95188,
          3.95166,
          3.95166,
          3.95121,
          3.95099,
          3.95088,
          3.95055,
          3.95032,
          3.9501,
          3.94999,
          3.94977,
          3.94955,
          3.94932,
          3.9491,
          3.94888,
          3.94866,
          3.94843,
          3.94832,
          3.9481,
          3.94788,
          3.94777,
          3.94766,
          3.94743,
          3.9471,
          3.94699,
          3.94677,
          3.94665,
          3.94665,
          3.94621,
          3.9461,
          3.9461,
          3.94588,
          3.94565,
          3.94554,
          3.94532,
          3.94521,
          3.9451,
          3.94488,
          3.94476,
          3.94454,
          3.94443,
          3.94421,
          3.9441,
          3.94399,
          3.94376,
          3.94365,
          3.94354,
          3.94332,
          3.94321,
          3.94321,
          3.94287,
          3.94276,
          3.94265,
          3.94243,
          3.94232,
          3.94221,
          3.9421,
          3.94187,
          3.94176,
          3.94176,
          3.94154,
          3.94143,
          3.94132,
          3.9411,
          3.94098,
          3.94087,
          3.94076,
          3.94054,
          3.94054,
          3.94043,
          3.94021,
          3.94021,
          3.93998,
          3.93987,
          3.93987,
          3.93976,
          3.93954,
          3.93943,
          4.06199,
          4.06411,
          4.06544,
          4.06644,
          4.06744,
          4.06822,
          4.06878,
          4.06922,
          4.06978,
          4.07011
         ]
        }
       ],
       "layout": {
        "template": {
         "data": {
          "bar": [
           {
            "error_x": {
             "color": "#2a3f5f"
            },
            "error_y": {
             "color": "#2a3f5f"
            },
            "marker": {
             "line": {
              "color": "#E5ECF6",
              "width": 0.5
             },
             "pattern": {
              "fillmode": "overlay",
              "size": 10,
              "solidity": 0.2
             }
            },
            "type": "bar"
           }
          ],
          "barpolar": [
           {
            "marker": {
             "line": {
              "color": "#E5ECF6",
              "width": 0.5
             },
             "pattern": {
              "fillmode": "overlay",
              "size": 10,
              "solidity": 0.2
             }
            },
            "type": "barpolar"
           }
          ],
          "carpet": [
           {
            "aaxis": {
             "endlinecolor": "#2a3f5f",
             "gridcolor": "white",
             "linecolor": "white",
             "minorgridcolor": "white",
             "startlinecolor": "#2a3f5f"
            },
            "baxis": {
             "endlinecolor": "#2a3f5f",
             "gridcolor": "white",
             "linecolor": "white",
             "minorgridcolor": "white",
             "startlinecolor": "#2a3f5f"
            },
            "type": "carpet"
           }
          ],
          "choropleth": [
           {
            "colorbar": {
             "outlinewidth": 0,
             "ticks": ""
            },
            "type": "choropleth"
           }
          ],
          "contour": [
           {
            "colorbar": {
             "outlinewidth": 0,
             "ticks": ""
            },
            "colorscale": [
             [
              0,
              "#0d0887"
             ],
             [
              0.1111111111111111,
              "#46039f"
             ],
             [
              0.2222222222222222,
              "#7201a8"
             ],
             [
              0.3333333333333333,
              "#9c179e"
             ],
             [
              0.4444444444444444,
              "#bd3786"
             ],
             [
              0.5555555555555556,
              "#d8576b"
             ],
             [
              0.6666666666666666,
              "#ed7953"
             ],
             [
              0.7777777777777778,
              "#fb9f3a"
             ],
             [
              0.8888888888888888,
              "#fdca26"
             ],
             [
              1,
              "#f0f921"
             ]
            ],
            "type": "contour"
           }
          ],
          "contourcarpet": [
           {
            "colorbar": {
             "outlinewidth": 0,
             "ticks": ""
            },
            "type": "contourcarpet"
           }
          ],
          "heatmap": [
           {
            "colorbar": {
             "outlinewidth": 0,
             "ticks": ""
            },
            "colorscale": [
             [
              0,
              "#0d0887"
             ],
             [
              0.1111111111111111,
              "#46039f"
             ],
             [
              0.2222222222222222,
              "#7201a8"
             ],
             [
              0.3333333333333333,
              "#9c179e"
             ],
             [
              0.4444444444444444,
              "#bd3786"
             ],
             [
              0.5555555555555556,
              "#d8576b"
             ],
             [
              0.6666666666666666,
              "#ed7953"
             ],
             [
              0.7777777777777778,
              "#fb9f3a"
             ],
             [
              0.8888888888888888,
              "#fdca26"
             ],
             [
              1,
              "#f0f921"
             ]
            ],
            "type": "heatmap"
           }
          ],
          "heatmapgl": [
           {
            "colorbar": {
             "outlinewidth": 0,
             "ticks": ""
            },
            "colorscale": [
             [
              0,
              "#0d0887"
             ],
             [
              0.1111111111111111,
              "#46039f"
             ],
             [
              0.2222222222222222,
              "#7201a8"
             ],
             [
              0.3333333333333333,
              "#9c179e"
             ],
             [
              0.4444444444444444,
              "#bd3786"
             ],
             [
              0.5555555555555556,
              "#d8576b"
             ],
             [
              0.6666666666666666,
              "#ed7953"
             ],
             [
              0.7777777777777778,
              "#fb9f3a"
             ],
             [
              0.8888888888888888,
              "#fdca26"
             ],
             [
              1,
              "#f0f921"
             ]
            ],
            "type": "heatmapgl"
           }
          ],
          "histogram": [
           {
            "marker": {
             "pattern": {
              "fillmode": "overlay",
              "size": 10,
              "solidity": 0.2
             }
            },
            "type": "histogram"
           }
          ],
          "histogram2d": [
           {
            "colorbar": {
             "outlinewidth": 0,
             "ticks": ""
            },
            "colorscale": [
             [
              0,
              "#0d0887"
             ],
             [
              0.1111111111111111,
              "#46039f"
             ],
             [
              0.2222222222222222,
              "#7201a8"
             ],
             [
              0.3333333333333333,
              "#9c179e"
             ],
             [
              0.4444444444444444,
              "#bd3786"
             ],
             [
              0.5555555555555556,
              "#d8576b"
             ],
             [
              0.6666666666666666,
              "#ed7953"
             ],
             [
              0.7777777777777778,
              "#fb9f3a"
             ],
             [
              0.8888888888888888,
              "#fdca26"
             ],
             [
              1,
              "#f0f921"
             ]
            ],
            "type": "histogram2d"
           }
          ],
          "histogram2dcontour": [
           {
            "colorbar": {
             "outlinewidth": 0,
             "ticks": ""
            },
            "colorscale": [
             [
              0,
              "#0d0887"
             ],
             [
              0.1111111111111111,
              "#46039f"
             ],
             [
              0.2222222222222222,
              "#7201a8"
             ],
             [
              0.3333333333333333,
              "#9c179e"
             ],
             [
              0.4444444444444444,
              "#bd3786"
             ],
             [
              0.5555555555555556,
              "#d8576b"
             ],
             [
              0.6666666666666666,
              "#ed7953"
             ],
             [
              0.7777777777777778,
              "#fb9f3a"
             ],
             [
              0.8888888888888888,
              "#fdca26"
             ],
             [
              1,
              "#f0f921"
             ]
            ],
            "type": "histogram2dcontour"
           }
          ],
          "mesh3d": [
           {
            "colorbar": {
             "outlinewidth": 0,
             "ticks": ""
            },
            "type": "mesh3d"
           }
          ],
          "parcoords": [
           {
            "line": {
             "colorbar": {
              "outlinewidth": 0,
              "ticks": ""
             }
            },
            "type": "parcoords"
           }
          ],
          "pie": [
           {
            "automargin": true,
            "type": "pie"
           }
          ],
          "scatter": [
           {
            "fillpattern": {
             "fillmode": "overlay",
             "size": 10,
             "solidity": 0.2
            },
            "type": "scatter"
           }
          ],
          "scatter3d": [
           {
            "line": {
             "colorbar": {
              "outlinewidth": 0,
              "ticks": ""
             }
            },
            "marker": {
             "colorbar": {
              "outlinewidth": 0,
              "ticks": ""
             }
            },
            "type": "scatter3d"
           }
          ],
          "scattercarpet": [
           {
            "marker": {
             "colorbar": {
              "outlinewidth": 0,
              "ticks": ""
             }
            },
            "type": "scattercarpet"
           }
          ],
          "scattergeo": [
           {
            "marker": {
             "colorbar": {
              "outlinewidth": 0,
              "ticks": ""
             }
            },
            "type": "scattergeo"
           }
          ],
          "scattergl": [
           {
            "marker": {
             "colorbar": {
              "outlinewidth": 0,
              "ticks": ""
             }
            },
            "type": "scattergl"
           }
          ],
          "scattermapbox": [
           {
            "marker": {
             "colorbar": {
              "outlinewidth": 0,
              "ticks": ""
             }
            },
            "type": "scattermapbox"
           }
          ],
          "scatterpolar": [
           {
            "marker": {
             "colorbar": {
              "outlinewidth": 0,
              "ticks": ""
             }
            },
            "type": "scatterpolar"
           }
          ],
          "scatterpolargl": [
           {
            "marker": {
             "colorbar": {
              "outlinewidth": 0,
              "ticks": ""
             }
            },
            "type": "scatterpolargl"
           }
          ],
          "scatterternary": [
           {
            "marker": {
             "colorbar": {
              "outlinewidth": 0,
              "ticks": ""
             }
            },
            "type": "scatterternary"
           }
          ],
          "surface": [
           {
            "colorbar": {
             "outlinewidth": 0,
             "ticks": ""
            },
            "colorscale": [
             [
              0,
              "#0d0887"
             ],
             [
              0.1111111111111111,
              "#46039f"
             ],
             [
              0.2222222222222222,
              "#7201a8"
             ],
             [
              0.3333333333333333,
              "#9c179e"
             ],
             [
              0.4444444444444444,
              "#bd3786"
             ],
             [
              0.5555555555555556,
              "#d8576b"
             ],
             [
              0.6666666666666666,
              "#ed7953"
             ],
             [
              0.7777777777777778,
              "#fb9f3a"
             ],
             [
              0.8888888888888888,
              "#fdca26"
             ],
             [
              1,
              "#f0f921"
             ]
            ],
            "type": "surface"
           }
          ],
          "table": [
           {
            "cells": {
             "fill": {
              "color": "#EBF0F8"
             },
             "line": {
              "color": "white"
             }
            },
            "header": {
             "fill": {
              "color": "#C8D4E3"
             },
             "line": {
              "color": "white"
             }
            },
            "type": "table"
           }
          ]
         },
         "layout": {
          "annotationdefaults": {
           "arrowcolor": "#2a3f5f",
           "arrowhead": 0,
           "arrowwidth": 1
          },
          "autotypenumbers": "strict",
          "coloraxis": {
           "colorbar": {
            "outlinewidth": 0,
            "ticks": ""
           }
          },
          "colorscale": {
           "diverging": [
            [
             0,
             "#8e0152"
            ],
            [
             0.1,
             "#c51b7d"
            ],
            [
             0.2,
             "#de77ae"
            ],
            [
             0.3,
             "#f1b6da"
            ],
            [
             0.4,
             "#fde0ef"
            ],
            [
             0.5,
             "#f7f7f7"
            ],
            [
             0.6,
             "#e6f5d0"
            ],
            [
             0.7,
             "#b8e186"
            ],
            [
             0.8,
             "#7fbc41"
            ],
            [
             0.9,
             "#4d9221"
            ],
            [
             1,
             "#276419"
            ]
           ],
           "sequential": [
            [
             0,
             "#0d0887"
            ],
            [
             0.1111111111111111,
             "#46039f"
            ],
            [
             0.2222222222222222,
             "#7201a8"
            ],
            [
             0.3333333333333333,
             "#9c179e"
            ],
            [
             0.4444444444444444,
             "#bd3786"
            ],
            [
             0.5555555555555556,
             "#d8576b"
            ],
            [
             0.6666666666666666,
             "#ed7953"
            ],
            [
             0.7777777777777778,
             "#fb9f3a"
            ],
            [
             0.8888888888888888,
             "#fdca26"
            ],
            [
             1,
             "#f0f921"
            ]
           ],
           "sequentialminus": [
            [
             0,
             "#0d0887"
            ],
            [
             0.1111111111111111,
             "#46039f"
            ],
            [
             0.2222222222222222,
             "#7201a8"
            ],
            [
             0.3333333333333333,
             "#9c179e"
            ],
            [
             0.4444444444444444,
             "#bd3786"
            ],
            [
             0.5555555555555556,
             "#d8576b"
            ],
            [
             0.6666666666666666,
             "#ed7953"
            ],
            [
             0.7777777777777778,
             "#fb9f3a"
            ],
            [
             0.8888888888888888,
             "#fdca26"
            ],
            [
             1,
             "#f0f921"
            ]
           ]
          },
          "colorway": [
           "#636efa",
           "#EF553B",
           "#00cc96",
           "#ab63fa",
           "#FFA15A",
           "#19d3f3",
           "#FF6692",
           "#B6E880",
           "#FF97FF",
           "#FECB52"
          ],
          "font": {
           "color": "#2a3f5f"
          },
          "geo": {
           "bgcolor": "white",
           "lakecolor": "white",
           "landcolor": "#E5ECF6",
           "showlakes": true,
           "showland": true,
           "subunitcolor": "white"
          },
          "hoverlabel": {
           "align": "left"
          },
          "hovermode": "closest",
          "mapbox": {
           "style": "light"
          },
          "paper_bgcolor": "white",
          "plot_bgcolor": "#E5ECF6",
          "polar": {
           "angularaxis": {
            "gridcolor": "white",
            "linecolor": "white",
            "ticks": ""
           },
           "bgcolor": "#E5ECF6",
           "radialaxis": {
            "gridcolor": "white",
            "linecolor": "white",
            "ticks": ""
           }
          },
          "scene": {
           "xaxis": {
            "backgroundcolor": "#E5ECF6",
            "gridcolor": "white",
            "gridwidth": 2,
            "linecolor": "white",
            "showbackground": true,
            "ticks": "",
            "zerolinecolor": "white"
           },
           "yaxis": {
            "backgroundcolor": "#E5ECF6",
            "gridcolor": "white",
            "gridwidth": 2,
            "linecolor": "white",
            "showbackground": true,
            "ticks": "",
            "zerolinecolor": "white"
           },
           "zaxis": {
            "backgroundcolor": "#E5ECF6",
            "gridcolor": "white",
            "gridwidth": 2,
            "linecolor": "white",
            "showbackground": true,
            "ticks": "",
            "zerolinecolor": "white"
           }
          },
          "shapedefaults": {
           "line": {
            "color": "#2a3f5f"
           }
          },
          "ternary": {
           "aaxis": {
            "gridcolor": "white",
            "linecolor": "white",
            "ticks": ""
           },
           "baxis": {
            "gridcolor": "white",
            "linecolor": "white",
            "ticks": ""
           },
           "bgcolor": "#E5ECF6",
           "caxis": {
            "gridcolor": "white",
            "linecolor": "white",
            "ticks": ""
           }
          },
          "title": {
           "x": 0.05
          },
          "xaxis": {
           "automargin": true,
           "gridcolor": "white",
           "linecolor": "white",
           "ticks": "",
           "title": {
            "standoff": 15
           },
           "zerolinecolor": "white",
           "zerolinewidth": 2
          },
          "yaxis": {
           "automargin": true,
           "gridcolor": "white",
           "linecolor": "white",
           "ticks": "",
           "title": {
            "standoff": 15
           },
           "zerolinecolor": "white",
           "zerolinewidth": 2
          }
         }
        }
       }
      },
      "text/html": [
       "<div>                            <div id=\"5c8c9521-7729-4494-a6b9-4c82d2f3e13b\" class=\"plotly-graph-div\" style=\"height:525px; width:100%;\"></div>            <script type=\"text/javascript\">                require([\"plotly\"], function(Plotly) {                    window.PLOTLYENV=window.PLOTLYENV || {};                                    if (document.getElementById(\"5c8c9521-7729-4494-a6b9-4c82d2f3e13b\")) {                    Plotly.newPlot(                        \"5c8c9521-7729-4494-a6b9-4c82d2f3e13b\",                        [{\"x\":[0.0,0.01800000004004687,0.12100000004284084,0.25100000004749745,0.34300000010989606,0.4190000001108274,0.5600000000558794,0.6170000000856817,0.7250000000931323,0.8570000000763685,0.9250000000465661,1.0330000000540167,1.1739999999990687,1.2300000000977889,1.343000000109896,1.4170000000158325,1.5370000000111759,1.6480000000447035,1.7160000000149012,1.8209999999962747,1.922000000020489,2.0010000000474975,2.1510000000707805,2.2290000000502914,2.4300000000512227,2.4980000000214204,2.534000000101514,2.7020000000484288,2.7989999999990687,2.8380000001052395,3.002000000094995,3.103000000002794,3.1440000000875443,3.2660000000614673,3.3570000000763685,3.4860000000335276,3.525000000023283,3.7220000000670552,3.762000000104308,3.8320000000530854,4.0230000000447035,4.069000000017695,4.14000000001397,4.282000000006519,4.3600000001024455,4.44800000009127,4.5070000000996515,4.633000000030734,4.726000000024214,4.94800000009127,4.990000000107102,5.033000000054017,5.134000000078231,5.24800000002142,5.339000000036322,5.474000000045635,5.57300000009127,5.614000000059605,5.7570000000996515,5.875,5.926000000094064,6.0670000000391155,6.182000000029802,6.2350000001024455,6.341000000014901,6.512000000104308,6.579000000027008,6.618000000016764,6.7730000000447035,6.856000000028871,6.927000000025146,7.066000000108033,7.1510000000707805,7.238000000012107,7.3080000000773,7.4610000000102445,7.546000000089407,7.753000000026077,7.815000000060536,7.853000000002794,7.923999999999069,8.051000000094064,8.160000000032596,8.23300000000745,8.318000000086613,8.427000000025146,8.53900000010617,8.660000000032596,8.747000000090338,8.852000000071712,8.989000000059605,9.078000000095926,9.127000000094995,9.274000000092201,9.361000000033528,9.434000000008382,9.524000000092201,9.63600000005681,9.754000000073574,9.83800000010524,9.949000000022352,10.016000000061467,10.065000000060536,10.085000000079162,11.104000000050291,12.092000000062399,13.12100000004284,14.091000000014901,15.08800000010524,16.113000000012107,17.14000000001397,18.087000000057742,19.101000000024214,20.10800000000745],\"y\":[4.08078,3.96745,3.96156,3.96156,3.95955,3.959,3.95889,3.95855,3.95755,3.95755,3.95722,3.95644,3.95644,3.95611,3.95533,3.95511,3.95511,3.95433,3.95422,3.95422,3.95355,3.95333,3.95322,3.95266,3.95255,3.95221,3.95188,3.95166,3.95166,3.95121,3.95099,3.95088,3.95055,3.95032,3.9501,3.94999,3.94977,3.94955,3.94932,3.9491,3.94888,3.94866,3.94843,3.94832,3.9481,3.94788,3.94777,3.94766,3.94743,3.9471,3.94699,3.94677,3.94665,3.94665,3.94621,3.9461,3.9461,3.94588,3.94565,3.94554,3.94532,3.94521,3.9451,3.94488,3.94476,3.94454,3.94443,3.94421,3.9441,3.94399,3.94376,3.94365,3.94354,3.94332,3.94321,3.94321,3.94287,3.94276,3.94265,3.94243,3.94232,3.94221,3.9421,3.94187,3.94176,3.94176,3.94154,3.94143,3.94132,3.9411,3.94098,3.94087,3.94076,3.94054,3.94054,3.94043,3.94021,3.94021,3.93998,3.93987,3.93987,3.93976,3.93954,3.93943,4.06199,4.06411,4.06544,4.06644,4.06744,4.06822,4.06878,4.06922,4.06978,4.07011],\"type\":\"scatter\"}],                        {\"template\":{\"data\":{\"histogram2dcontour\":[{\"type\":\"histogram2dcontour\",\"colorbar\":{\"outlinewidth\":0,\"ticks\":\"\"},\"colorscale\":[[0.0,\"#0d0887\"],[0.1111111111111111,\"#46039f\"],[0.2222222222222222,\"#7201a8\"],[0.3333333333333333,\"#9c179e\"],[0.4444444444444444,\"#bd3786\"],[0.5555555555555556,\"#d8576b\"],[0.6666666666666666,\"#ed7953\"],[0.7777777777777778,\"#fb9f3a\"],[0.8888888888888888,\"#fdca26\"],[1.0,\"#f0f921\"]]}],\"choropleth\":[{\"type\":\"choropleth\",\"colorbar\":{\"outlinewidth\":0,\"ticks\":\"\"}}],\"histogram2d\":[{\"type\":\"histogram2d\",\"colorbar\":{\"outlinewidth\":0,\"ticks\":\"\"},\"colorscale\":[[0.0,\"#0d0887\"],[0.1111111111111111,\"#46039f\"],[0.2222222222222222,\"#7201a8\"],[0.3333333333333333,\"#9c179e\"],[0.4444444444444444,\"#bd3786\"],[0.5555555555555556,\"#d8576b\"],[0.6666666666666666,\"#ed7953\"],[0.7777777777777778,\"#fb9f3a\"],[0.8888888888888888,\"#fdca26\"],[1.0,\"#f0f921\"]]}],\"heatmap\":[{\"type\":\"heatmap\",\"colorbar\":{\"outlinewidth\":0,\"ticks\":\"\"},\"colorscale\":[[0.0,\"#0d0887\"],[0.1111111111111111,\"#46039f\"],[0.2222222222222222,\"#7201a8\"],[0.3333333333333333,\"#9c179e\"],[0.4444444444444444,\"#bd3786\"],[0.5555555555555556,\"#d8576b\"],[0.6666666666666666,\"#ed7953\"],[0.7777777777777778,\"#fb9f3a\"],[0.8888888888888888,\"#fdca26\"],[1.0,\"#f0f921\"]]}],\"heatmapgl\":[{\"type\":\"heatmapgl\",\"colorbar\":{\"outlinewidth\":0,\"ticks\":\"\"},\"colorscale\":[[0.0,\"#0d0887\"],[0.1111111111111111,\"#46039f\"],[0.2222222222222222,\"#7201a8\"],[0.3333333333333333,\"#9c179e\"],[0.4444444444444444,\"#bd3786\"],[0.5555555555555556,\"#d8576b\"],[0.6666666666666666,\"#ed7953\"],[0.7777777777777778,\"#fb9f3a\"],[0.8888888888888888,\"#fdca26\"],[1.0,\"#f0f921\"]]}],\"contourcarpet\":[{\"type\":\"contourcarpet\",\"colorbar\":{\"outlinewidth\":0,\"ticks\":\"\"}}],\"contour\":[{\"type\":\"contour\",\"colorbar\":{\"outlinewidth\":0,\"ticks\":\"\"},\"colorscale\":[[0.0,\"#0d0887\"],[0.1111111111111111,\"#46039f\"],[0.2222222222222222,\"#7201a8\"],[0.3333333333333333,\"#9c179e\"],[0.4444444444444444,\"#bd3786\"],[0.5555555555555556,\"#d8576b\"],[0.6666666666666666,\"#ed7953\"],[0.7777777777777778,\"#fb9f3a\"],[0.8888888888888888,\"#fdca26\"],[1.0,\"#f0f921\"]]}],\"surface\":[{\"type\":\"surface\",\"colorbar\":{\"outlinewidth\":0,\"ticks\":\"\"},\"colorscale\":[[0.0,\"#0d0887\"],[0.1111111111111111,\"#46039f\"],[0.2222222222222222,\"#7201a8\"],[0.3333333333333333,\"#9c179e\"],[0.4444444444444444,\"#bd3786\"],[0.5555555555555556,\"#d8576b\"],[0.6666666666666666,\"#ed7953\"],[0.7777777777777778,\"#fb9f3a\"],[0.8888888888888888,\"#fdca26\"],[1.0,\"#f0f921\"]]}],\"mesh3d\":[{\"type\":\"mesh3d\",\"colorbar\":{\"outlinewidth\":0,\"ticks\":\"\"}}],\"scatter\":[{\"fillpattern\":{\"fillmode\":\"overlay\",\"size\":10,\"solidity\":0.2},\"type\":\"scatter\"}],\"parcoords\":[{\"type\":\"parcoords\",\"line\":{\"colorbar\":{\"outlinewidth\":0,\"ticks\":\"\"}}}],\"scatterpolargl\":[{\"type\":\"scatterpolargl\",\"marker\":{\"colorbar\":{\"outlinewidth\":0,\"ticks\":\"\"}}}],\"bar\":[{\"error_x\":{\"color\":\"#2a3f5f\"},\"error_y\":{\"color\":\"#2a3f5f\"},\"marker\":{\"line\":{\"color\":\"#E5ECF6\",\"width\":0.5},\"pattern\":{\"fillmode\":\"overlay\",\"size\":10,\"solidity\":0.2}},\"type\":\"bar\"}],\"scattergeo\":[{\"type\":\"scattergeo\",\"marker\":{\"colorbar\":{\"outlinewidth\":0,\"ticks\":\"\"}}}],\"scatterpolar\":[{\"type\":\"scatterpolar\",\"marker\":{\"colorbar\":{\"outlinewidth\":0,\"ticks\":\"\"}}}],\"histogram\":[{\"marker\":{\"pattern\":{\"fillmode\":\"overlay\",\"size\":10,\"solidity\":0.2}},\"type\":\"histogram\"}],\"scattergl\":[{\"type\":\"scattergl\",\"marker\":{\"colorbar\":{\"outlinewidth\":0,\"ticks\":\"\"}}}],\"scatter3d\":[{\"type\":\"scatter3d\",\"line\":{\"colorbar\":{\"outlinewidth\":0,\"ticks\":\"\"}},\"marker\":{\"colorbar\":{\"outlinewidth\":0,\"ticks\":\"\"}}}],\"scattermapbox\":[{\"type\":\"scattermapbox\",\"marker\":{\"colorbar\":{\"outlinewidth\":0,\"ticks\":\"\"}}}],\"scatterternary\":[{\"type\":\"scatterternary\",\"marker\":{\"colorbar\":{\"outlinewidth\":0,\"ticks\":\"\"}}}],\"scattercarpet\":[{\"type\":\"scattercarpet\",\"marker\":{\"colorbar\":{\"outlinewidth\":0,\"ticks\":\"\"}}}],\"carpet\":[{\"aaxis\":{\"endlinecolor\":\"#2a3f5f\",\"gridcolor\":\"white\",\"linecolor\":\"white\",\"minorgridcolor\":\"white\",\"startlinecolor\":\"#2a3f5f\"},\"baxis\":{\"endlinecolor\":\"#2a3f5f\",\"gridcolor\":\"white\",\"linecolor\":\"white\",\"minorgridcolor\":\"white\",\"startlinecolor\":\"#2a3f5f\"},\"type\":\"carpet\"}],\"table\":[{\"cells\":{\"fill\":{\"color\":\"#EBF0F8\"},\"line\":{\"color\":\"white\"}},\"header\":{\"fill\":{\"color\":\"#C8D4E3\"},\"line\":{\"color\":\"white\"}},\"type\":\"table\"}],\"barpolar\":[{\"marker\":{\"line\":{\"color\":\"#E5ECF6\",\"width\":0.5},\"pattern\":{\"fillmode\":\"overlay\",\"size\":10,\"solidity\":0.2}},\"type\":\"barpolar\"}],\"pie\":[{\"automargin\":true,\"type\":\"pie\"}]},\"layout\":{\"autotypenumbers\":\"strict\",\"colorway\":[\"#636efa\",\"#EF553B\",\"#00cc96\",\"#ab63fa\",\"#FFA15A\",\"#19d3f3\",\"#FF6692\",\"#B6E880\",\"#FF97FF\",\"#FECB52\"],\"font\":{\"color\":\"#2a3f5f\"},\"hovermode\":\"closest\",\"hoverlabel\":{\"align\":\"left\"},\"paper_bgcolor\":\"white\",\"plot_bgcolor\":\"#E5ECF6\",\"polar\":{\"bgcolor\":\"#E5ECF6\",\"angularaxis\":{\"gridcolor\":\"white\",\"linecolor\":\"white\",\"ticks\":\"\"},\"radialaxis\":{\"gridcolor\":\"white\",\"linecolor\":\"white\",\"ticks\":\"\"}},\"ternary\":{\"bgcolor\":\"#E5ECF6\",\"aaxis\":{\"gridcolor\":\"white\",\"linecolor\":\"white\",\"ticks\":\"\"},\"baxis\":{\"gridcolor\":\"white\",\"linecolor\":\"white\",\"ticks\":\"\"},\"caxis\":{\"gridcolor\":\"white\",\"linecolor\":\"white\",\"ticks\":\"\"}},\"coloraxis\":{\"colorbar\":{\"outlinewidth\":0,\"ticks\":\"\"}},\"colorscale\":{\"sequential\":[[0.0,\"#0d0887\"],[0.1111111111111111,\"#46039f\"],[0.2222222222222222,\"#7201a8\"],[0.3333333333333333,\"#9c179e\"],[0.4444444444444444,\"#bd3786\"],[0.5555555555555556,\"#d8576b\"],[0.6666666666666666,\"#ed7953\"],[0.7777777777777778,\"#fb9f3a\"],[0.8888888888888888,\"#fdca26\"],[1.0,\"#f0f921\"]],\"sequentialminus\":[[0.0,\"#0d0887\"],[0.1111111111111111,\"#46039f\"],[0.2222222222222222,\"#7201a8\"],[0.3333333333333333,\"#9c179e\"],[0.4444444444444444,\"#bd3786\"],[0.5555555555555556,\"#d8576b\"],[0.6666666666666666,\"#ed7953\"],[0.7777777777777778,\"#fb9f3a\"],[0.8888888888888888,\"#fdca26\"],[1.0,\"#f0f921\"]],\"diverging\":[[0,\"#8e0152\"],[0.1,\"#c51b7d\"],[0.2,\"#de77ae\"],[0.3,\"#f1b6da\"],[0.4,\"#fde0ef\"],[0.5,\"#f7f7f7\"],[0.6,\"#e6f5d0\"],[0.7,\"#b8e186\"],[0.8,\"#7fbc41\"],[0.9,\"#4d9221\"],[1,\"#276419\"]]},\"xaxis\":{\"gridcolor\":\"white\",\"linecolor\":\"white\",\"ticks\":\"\",\"title\":{\"standoff\":15},\"zerolinecolor\":\"white\",\"automargin\":true,\"zerolinewidth\":2},\"yaxis\":{\"gridcolor\":\"white\",\"linecolor\":\"white\",\"ticks\":\"\",\"title\":{\"standoff\":15},\"zerolinecolor\":\"white\",\"automargin\":true,\"zerolinewidth\":2},\"scene\":{\"xaxis\":{\"backgroundcolor\":\"#E5ECF6\",\"gridcolor\":\"white\",\"linecolor\":\"white\",\"showbackground\":true,\"ticks\":\"\",\"zerolinecolor\":\"white\",\"gridwidth\":2},\"yaxis\":{\"backgroundcolor\":\"#E5ECF6\",\"gridcolor\":\"white\",\"linecolor\":\"white\",\"showbackground\":true,\"ticks\":\"\",\"zerolinecolor\":\"white\",\"gridwidth\":2},\"zaxis\":{\"backgroundcolor\":\"#E5ECF6\",\"gridcolor\":\"white\",\"linecolor\":\"white\",\"showbackground\":true,\"ticks\":\"\",\"zerolinecolor\":\"white\",\"gridwidth\":2}},\"shapedefaults\":{\"line\":{\"color\":\"#2a3f5f\"}},\"annotationdefaults\":{\"arrowcolor\":\"#2a3f5f\",\"arrowhead\":0,\"arrowwidth\":1},\"geo\":{\"bgcolor\":\"white\",\"landcolor\":\"#E5ECF6\",\"subunitcolor\":\"white\",\"showland\":true,\"showlakes\":true,\"lakecolor\":\"white\"},\"title\":{\"x\":0.05},\"mapbox\":{\"style\":\"light\"}}}},                        {\"responsive\": true}                    ).then(function(){\n",
       "                            \n",
       "var gd = document.getElementById('5c8c9521-7729-4494-a6b9-4c82d2f3e13b');\n",
       "var x = new MutationObserver(function (mutations, observer) {{\n",
       "        var display = window.getComputedStyle(gd).display;\n",
       "        if (!display || display === 'none') {{\n",
       "            console.log([gd, 'removed!']);\n",
       "            Plotly.purge(gd);\n",
       "            observer.disconnect();\n",
       "        }}\n",
       "}});\n",
       "\n",
       "// Listen for the removal of the full notebook cells\n",
       "var notebookContainer = gd.closest('#notebook-container');\n",
       "if (notebookContainer) {{\n",
       "    x.observe(notebookContainer, {childList: true});\n",
       "}}\n",
       "\n",
       "// Listen for the clearing of the current output cell\n",
       "var outputEl = gd.closest('.output');\n",
       "if (outputEl) {{\n",
       "    x.observe(outputEl, {childList: true});\n",
       "}}\n",
       "\n",
       "                        })                };                });            </script>        </div>"
      ]
     },
     "metadata": {},
     "output_type": "display_data"
    }
   ],
   "source": [
    "go.Figure(\n",
    "    data=go.Scatter(\n",
    "        x=df[\"ProgTime\"],\n",
    "        y=df[\"Voltage\"],\n",
    "    )\n",
    ")"
   ]
  },
  {
   "cell_type": "markdown",
   "id": "10",
   "metadata": {},
   "source": [
    "Next, we construct the OCV function from the imported `OCV` data. This is completed with a wrapper method on the `pybamm.Interpolant` function,"
   ]
  },
  {
   "cell_type": "code",
   "execution_count": null,
   "id": "11",
   "metadata": {},
   "outputs": [],
   "source": [
    "def ocv_LGM50(sto):\n",
    "    name = \"OCV\"\n",
    "    x = (ocp[\"LGM50_5Ah_OCV\"][\"T25\"][\"refSoC\"].reshape(-1) / 100,)\n",
    "    y = ocp[\"LGM50_5Ah_OCV\"][\"T25\"][\"meanOCV\"].reshape(-1)\n",
    "    return pybamm.Interpolant(x, y, sto, name)"
   ]
  },
  {
   "cell_type": "markdown",
   "id": "12",
   "metadata": {},
   "source": [
    "We can construct the two RC parameter set with initial values as listed. Note, the initial SOC is shifted slightly to better match the zero degree data."
   ]
  },
  {
   "cell_type": "code",
   "execution_count": null,
   "id": "13",
   "metadata": {},
   "outputs": [],
   "source": [
    "params = pybop.ParameterSet(\n",
    "    params_dict={\n",
    "        \"chemistry\": \"ecm\",\n",
    "        \"Initial SoC\": 0.9 - 0.01,\n",
    "        \"Initial temperature [K]\": 25 + 273.15,\n",
    "        \"Cell capacity [A.h]\": 5,\n",
    "        \"Nominal cell capacity [A.h]\": 5,\n",
    "        \"Ambient temperature [K]\": 25 + 273.15,\n",
    "        \"Current function [A]\": 4.85,\n",
    "        \"Upper voltage cut-off [V]\": 4.2,\n",
    "        \"Lower voltage cut-off [V]\": 3.0,\n",
    "        \"Cell thermal mass [J/K]\": 1000,\n",
    "        \"Cell-jig heat transfer coefficient [W/K]\": 10,\n",
    "        \"Jig thermal mass [J/K]\": 500,\n",
    "        \"Jig-air heat transfer coefficient [W/K]\": 10,\n",
    "        \"Open-circuit voltage [V]\": ocv_LGM50,\n",
    "        \"R0 [Ohm]\": 0.005,\n",
    "        \"Element-1 initial overpotential [V]\": 0,\n",
    "        \"Element-2 initial overpotential [V]\": 0,\n",
    "        \"R1 [Ohm]\": 0.0001,\n",
    "        \"R2 [Ohm]\": 0.0001,\n",
    "        \"C1 [F]\": 3000,\n",
    "        \"C2 [F]\": 6924,\n",
    "        \"Entropic change [V/K]\": 0.0004,\n",
    "    }\n",
    ")"
   ]
  },
  {
   "cell_type": "markdown",
   "id": "14",
   "metadata": {},
   "source": [
    "## Identifying the Parameters\n",
    "\n",
    "Now that the initial parameter set is defined, we can start the PyBOP fitting process. First, we construct the model class with two RC elements and the corresponding parameter set."
   ]
  },
  {
   "cell_type": "code",
   "execution_count": null,
   "id": "15",
   "metadata": {},
   "outputs": [],
   "source": [
    "model = pybop.empirical.Thevenin(\n",
    "    parameter_set=params, options={\"number of rc elements\": 2}\n",
    ")"
   ]
  },
  {
   "cell_type": "markdown",
   "id": "16",
   "metadata": {},
   "source": [
    "In this example, we are going to try to fit all five parameters at once. To do this, we define a `pybop.Parameter` for each fitting parameter and compile them in pybop.Parameters,"
   ]
  },
  {
   "cell_type": "code",
   "execution_count": null,
   "id": "17",
   "metadata": {},
   "outputs": [],
   "source": [
    "parameters = pybop.Parameters(\n",
    "    pybop.Parameter(\n",
    "        \"R0 [Ohm]\",\n",
    "        prior=pybop.Gaussian(0.005, 0.0001),\n",
    "        bounds=[1e-6, 2e-1],\n",
    "    ),\n",
    "    pybop.Parameter(\n",
    "        \"R1 [Ohm]\",\n",
    "        prior=pybop.Gaussian(0.0001, 0.0001),\n",
    "        bounds=[1e-6, 1],\n",
    "    ),\n",
    "    pybop.Parameter(\n",
    "        \"R2 [Ohm]\",\n",
    "        prior=pybop.Gaussian(0.0001, 0.0001),\n",
    "        bounds=[1e-6, 1],\n",
    "    ),\n",
    "    pybop.Parameter(\n",
    "        \"C1 [F]\",\n",
    "        prior=pybop.Gaussian(3000, 2500),\n",
    "        bounds=[0.5, 1e4],\n",
    "    ),\n",
    "    pybop.Parameter(\n",
    "        \"C2 [F]\",\n",
    "        prior=pybop.Gaussian(3000, 2500),\n",
    "        bounds=[0.5, 1e4],\n",
    "    ),\n",
    ")"
   ]
  },
  {
   "cell_type": "markdown",
   "id": "18",
   "metadata": {},
   "source": [
    "We can now form the `pybop.Dataset` from the experimental data. In this situation, the applied current convention is different between the experimental data and PyBOP's convention. This is solved by negating the vector on construction."
   ]
  },
  {
   "cell_type": "code",
   "execution_count": null,
   "id": "19",
   "metadata": {},
   "outputs": [],
   "source": [
    "dataset = pybop.Dataset(\n",
    "    {\n",
    "        \"Time [s]\": df[\"ProgTime\"].values,\n",
    "        \"Current function [A]\": -df[\"Current\"].values,\n",
    "        \"Voltage [V]\": df[\"Voltage\"].values,\n",
    "    }\n",
    ")"
   ]
  },
  {
   "cell_type": "markdown",
   "id": "20",
   "metadata": {},
   "source": [
    "The `FittingProblem` class provides us with a class to hold all of the objects we need to evaluate our selected `SumSquaredError` cost function. "
   ]
  },
  {
   "cell_type": "code",
   "execution_count": null,
   "id": "21",
   "metadata": {},
   "outputs": [],
   "source": [
    "problem = pybop.FittingProblem(model, parameters, dataset)\n",
    "cost = pybop.SumSquaredError(problem)"
   ]
  },
  {
   "cell_type": "markdown",
   "id": "22",
   "metadata": {},
   "source": [
    "The cost function can be interrogated manually via the `cost([params])` API. In this example, that would look like the following,"
   ]
  },
  {
   "cell_type": "code",
   "execution_count": null,
   "id": "23",
   "metadata": {},
   "outputs": [
    {
     "data": {
      "text/plain": [
       "1.1767544040154971"
      ]
     },
     "execution_count": null,
     "metadata": {},
     "output_type": "execute_result"
    }
   ],
   "source": [
    "cost([0.01, 0.01, 0.01, 20000, 20000])"
   ]
  },
  {
   "cell_type": "markdown",
   "id": "24",
   "metadata": {},
   "source": [
    "Next, we construct the optimisation class with our algorithm of choice and run it. In this case, we select the PSO method as it provides global optimisation capability. After optimisation, we can compare the initial parameters to the identified parameters."
   ]
  },
  {
   "cell_type": "code",
   "execution_count": null,
   "id": "25",
   "metadata": {},
   "outputs": [
    {
     "name": "stdout",
     "output_type": "stream",
     "text": [
      "Initial parameters: [5.05414542e-03 1.35460316e-04 1.71734500e-04 2.91654402e+03\n",
      " 1.46187129e+03]\n",
      "Estimated parameters: [4.89715897e-02 7.07824902e-04 4.36641265e-01 7.63336402e+03\n",
      " 1.28972010e+03]\n"
     ]
    }
   ],
   "source": [
    "optim = pybop.PSO(cost, max_unchanged_iterations=55, threshold=1e-6)\n",
    "x, final_cost = optim.run()\n",
    "print(\"Initial parameters:\", optim.x0)\n",
    "print(\"Estimated parameters:\", x)"
   ]
  },
  {
   "cell_type": "markdown",
   "id": "26",
   "metadata": {},
   "source": [
    "## Plotting and Visualisation\n",
    "\n",
    "PyBOP provides various plotting utilities to visualise the results of the optimisation. The `quick_plot` method provides a fast scatter of two variables. For this example, we plot the identified parameter set to the target dataset. The default plot is voltage vs time as shown below."
   ]
  },
  {
   "cell_type": "code",
   "execution_count": null,
   "id": "27",
   "metadata": {},
   "outputs": [
    {
     "data": {
      "image/svg+xml": [
       "<svg class=\"main-svg\" xmlns=\"http://www.w3.org/2000/svg\" xmlns:xlink=\"http://www.w3.org/1999/xlink\" width=\"700\" height=\"500\" style=\"\" viewBox=\"0 0 700 500\"><rect x=\"0\" y=\"0\" width=\"700\" height=\"500\" style=\"fill: rgb(255, 255, 255); fill-opacity: 1;\"/><defs id=\"defs-2bc0d0\"><g class=\"clips\"><clipPath id=\"clip2bc0d0xyplot\" class=\"plotclip\"><rect width=\"492\" height=\"320\"/></clipPath><clipPath class=\"axesclip\" id=\"clip2bc0d0x\"><rect x=\"80\" y=\"0\" width=\"492\" height=\"500\"/></clipPath><clipPath class=\"axesclip\" id=\"clip2bc0d0y\"><rect x=\"0\" y=\"100\" width=\"700\" height=\"320\"/></clipPath><clipPath class=\"axesclip\" id=\"clip2bc0d0xy\"><rect x=\"80\" y=\"100\" width=\"492\" height=\"320\"/></clipPath></g><g class=\"gradients\"/><g class=\"patterns\"/></defs><g class=\"bglayer\"><rect class=\"bg\" x=\"80\" y=\"100\" width=\"492\" height=\"320\" style=\"fill: rgb(229, 236, 246); fill-opacity: 1; stroke-width: 0;\"/></g><g class=\"layer-below\"><g class=\"imagelayer\"/><g class=\"shapelayer\"/></g><g class=\"cartesianlayer\"><g class=\"subplot xy\"><g class=\"layer-subplot\"><g class=\"shapelayer\"/><g class=\"imagelayer\"/></g><g class=\"minor-gridlayer\"><g class=\"x\"/><g class=\"y\"/></g><g class=\"gridlayer\"><g class=\"x\"><path class=\"xgrid crisp\" transform=\"translate(216.59,0)\" d=\"M0,100v320\" style=\"stroke: rgb(255, 255, 255); stroke-opacity: 1; stroke-width: 1px;\"/><path class=\"xgrid crisp\" transform=\"translate(324.83000000000004,0)\" d=\"M0,100v320\" style=\"stroke: rgb(255, 255, 255); stroke-opacity: 1; stroke-width: 1px;\"/><path class=\"xgrid crisp\" transform=\"translate(433.07,0)\" d=\"M0,100v320\" style=\"stroke: rgb(255, 255, 255); stroke-opacity: 1; stroke-width: 1px;\"/><path class=\"xgrid crisp\" transform=\"translate(541.31,0)\" d=\"M0,100v320\" style=\"stroke: rgb(255, 255, 255); stroke-opacity: 1; stroke-width: 1px;\"/></g><g class=\"y\"><path class=\"ygrid crisp\" transform=\"translate(0,356.61)\" d=\"M80,0h492\" style=\"stroke: rgb(255, 255, 255); stroke-opacity: 1; stroke-width: 1px;\"/><path class=\"ygrid crisp\" transform=\"translate(0,274.27)\" d=\"M80,0h492\" style=\"stroke: rgb(255, 255, 255); stroke-opacity: 1; stroke-width: 1px;\"/><path class=\"ygrid crisp\" transform=\"translate(0,191.93)\" d=\"M80,0h492\" style=\"stroke: rgb(255, 255, 255); stroke-opacity: 1; stroke-width: 1px;\"/><path class=\"ygrid crisp\" transform=\"translate(0,109.59)\" d=\"M80,0h492\" style=\"stroke: rgb(255, 255, 255); stroke-opacity: 1; stroke-width: 1px;\"/></g></g><g class=\"zerolinelayer\"><path class=\"xzl zl crisp\" transform=\"translate(108.35,0)\" d=\"M0,100v320\" style=\"stroke: rgb(255, 255, 255); stroke-opacity: 1; stroke-width: 2px;\"/></g><g class=\"layer-between\"><g class=\"shapelayer\"/><g class=\"imagelayer\"/></g><path class=\"xlines-below\"/><path class=\"ylines-below\"/><g class=\"overlines-below\"/><g class=\"xaxislayer-below\"/><g class=\"yaxislayer-below\"/><g class=\"overaxes-below\"/><g class=\"overplot\"><g class=\"xy\" transform=\"translate(80,100)\" clip-path=\"url(#clip2bc0d0xyplot)\"><g class=\"scatterlayer mlayer\"><g class=\"trace scatter trace4c7c03\" style=\"stroke-miterlimit: 2; opacity: 1;\"><g class=\"fills\"><g><path class=\"js-fill\" d=\"M28.35,16L28.74,16L30.97,217.58L117.97,232.47L121.05,232.97L246.24,252.64L246.67,51.06L354.98,49.3L377.17,49.08L463.65,48.44L463.65,99.8L290.12,101.55L268.73,101.94L246.67,102.42L246.24,304L189.87,295.27L186.55,294.76L44.04,271.43L41.71,271L30.97,268.95L28.74,67.36L28.35,67.36Z\" style=\"fill: rgb(255, 229, 204); fill-opacity: 0.8; stroke-width: 0;\"/></g></g><g class=\"errorbars\"/><g class=\"lines\"><path class=\"js-line\" d=\"M28.35,16L28.74,16L30.97,217.58L117.97,232.47L121.05,232.97L246.24,252.64L246.67,51.06L354.98,49.3L377.17,49.08L463.65,48.44L463.65,99.8L290.12,101.55L268.73,101.94L246.67,102.42L246.24,304L189.87,295.27L186.55,294.76L44.04,271.43L41.71,271L30.97,268.95L28.74,67.36L28.35,67.36\" style=\"vector-effect: none; fill: none; stroke: rgb(255, 255, 255); stroke-opacity: 0; stroke-width: 2px; opacity: 1;\"/></g><g class=\"points\"/><g class=\"text\"/></g><g class=\"trace scatter traceaaf674\" style=\"stroke-miterlimit: 2; opacity: 1;\"><g class=\"fills\"/><g class=\"errorbars\"/><g class=\"lines\"/><g class=\"points\"><path class=\"point\" transform=\"translate(28.35,41.24)\" d=\"M3,0A3,3 0 1,1 0,-3A3,3 0 0,1 3,0Z\" style=\"opacity: 1; stroke-width: 0px; fill: rgb(239, 85, 59); fill-opacity: 1;\"/><path class=\"point\" transform=\"translate(28.74,227.87)\" d=\"M3,0A3,3 0 1,1 0,-3A3,3 0 0,1 3,0Z\" style=\"opacity: 1; stroke-width: 0px; fill: rgb(239, 85, 59); fill-opacity: 1;\"/><path class=\"point\" transform=\"translate(30.97,237.57)\" d=\"M3,0A3,3 0 1,1 0,-3A3,3 0 0,1 3,0Z\" style=\"opacity: 1; stroke-width: 0px; fill: rgb(239, 85, 59); fill-opacity: 1;\"/><path class=\"point\" transform=\"translate(33.78,237.57)\" d=\"M3,0A3,3 0 1,1 0,-3A3,3 0 0,1 3,0Z\" style=\"opacity: 1; stroke-width: 0px; fill: rgb(239, 85, 59); fill-opacity: 1;\"/><path class=\"point\" transform=\"translate(35.78,240.88)\" d=\"M3,0A3,3 0 1,1 0,-3A3,3 0 0,1 3,0Z\" style=\"opacity: 1; stroke-width: 0px; fill: rgb(239, 85, 59); fill-opacity: 1;\"/><path class=\"point\" transform=\"translate(37.42,241.79)\" d=\"M3,0A3,3 0 1,1 0,-3A3,3 0 0,1 3,0Z\" style=\"opacity: 1; stroke-width: 0px; fill: rgb(239, 85, 59); fill-opacity: 1;\"/><path class=\"point\" transform=\"translate(40.47,241.97)\" d=\"M3,0A3,3 0 1,1 0,-3A3,3 0 0,1 3,0Z\" style=\"opacity: 1; stroke-width: 0px; fill: rgb(239, 85, 59); fill-opacity: 1;\"/><path class=\"point\" transform=\"translate(41.71,242.53)\" d=\"M3,0A3,3 0 1,1 0,-3A3,3 0 0,1 3,0Z\" style=\"opacity: 1; stroke-width: 0px; fill: rgb(239, 85, 59); fill-opacity: 1;\"/><path class=\"point\" transform=\"translate(44.04,244.18)\" d=\"M3,0A3,3 0 1,1 0,-3A3,3 0 0,1 3,0Z\" style=\"opacity: 1; stroke-width: 0px; fill: rgb(239, 85, 59); fill-opacity: 1;\"/><path class=\"point\" transform=\"translate(46.9,244.18)\" d=\"M3,0A3,3 0 1,1 0,-3A3,3 0 0,1 3,0Z\" style=\"opacity: 1; stroke-width: 0px; fill: rgb(239, 85, 59); fill-opacity: 1;\"/><path class=\"point\" transform=\"translate(48.37,244.72)\" d=\"M3,0A3,3 0 1,1 0,-3A3,3 0 0,1 3,0Z\" style=\"opacity: 1; stroke-width: 0px; fill: rgb(239, 85, 59); fill-opacity: 1;\"/><path class=\"point\" transform=\"translate(50.71,246)\" d=\"M3,0A3,3 0 1,1 0,-3A3,3 0 0,1 3,0Z\" style=\"opacity: 1; stroke-width: 0px; fill: rgb(239, 85, 59); fill-opacity: 1;\"/><path class=\"point\" transform=\"translate(53.76,246)\" d=\"M3,0A3,3 0 1,1 0,-3A3,3 0 0,1 3,0Z\" style=\"opacity: 1; stroke-width: 0px; fill: rgb(239, 85, 59); fill-opacity: 1;\"/><path class=\"point\" transform=\"translate(54.98,246.55)\" d=\"M3,0A3,3 0 1,1 0,-3A3,3 0 0,1 3,0Z\" style=\"opacity: 1; stroke-width: 0px; fill: rgb(239, 85, 59); fill-opacity: 1;\"/><path class=\"point\" transform=\"translate(57.42,247.83)\" d=\"M3,0A3,3 0 1,1 0,-3A3,3 0 0,1 3,0Z\" style=\"opacity: 1; stroke-width: 0px; fill: rgb(239, 85, 59); fill-opacity: 1;\"/><path class=\"point\" transform=\"translate(59.03,248.19)\" d=\"M3,0A3,3 0 1,1 0,-3A3,3 0 0,1 3,0Z\" style=\"opacity: 1; stroke-width: 0px; fill: rgb(239, 85, 59); fill-opacity: 1;\"/><path class=\"point\" transform=\"translate(61.62,248.19)\" d=\"M3,0A3,3 0 1,1 0,-3A3,3 0 0,1 3,0Z\" style=\"opacity: 1; stroke-width: 0px; fill: rgb(239, 85, 59); fill-opacity: 1;\"/><path class=\"point\" transform=\"translate(64.03,249.48)\" d=\"M3,0A3,3 0 1,1 0,-3A3,3 0 0,1 3,0Z\" style=\"opacity: 1; stroke-width: 0px; fill: rgb(239, 85, 59); fill-opacity: 1;\"/><path class=\"point\" transform=\"translate(65.5,249.66)\" d=\"M3,0A3,3 0 1,1 0,-3A3,3 0 0,1 3,0Z\" style=\"opacity: 1; stroke-width: 0px; fill: rgb(239, 85, 59); fill-opacity: 1;\"/><path class=\"point\" transform=\"translate(67.77,249.66)\" d=\"M3,0A3,3 0 1,1 0,-3A3,3 0 0,1 3,0Z\" style=\"opacity: 1; stroke-width: 0px; fill: rgb(239, 85, 59); fill-opacity: 1;\"/><path class=\"point\" transform=\"translate(69.96,250.76)\" d=\"M3,0A3,3 0 1,1 0,-3A3,3 0 0,1 3,0Z\" style=\"opacity: 1; stroke-width: 0px; fill: rgb(239, 85, 59); fill-opacity: 1;\"/><path class=\"point\" transform=\"translate(71.67,251.13)\" d=\"M3,0A3,3 0 1,1 0,-3A3,3 0 0,1 3,0Z\" style=\"opacity: 1; stroke-width: 0px; fill: rgb(239, 85, 59); fill-opacity: 1;\"/><path class=\"point\" transform=\"translate(74.92,251.31)\" d=\"M3,0A3,3 0 1,1 0,-3A3,3 0 0,1 3,0Z\" style=\"opacity: 1; stroke-width: 0px; fill: rgb(239, 85, 59); fill-opacity: 1;\"/><path class=\"point\" transform=\"translate(76.6,252.23)\" d=\"M3,0A3,3 0 1,1 0,-3A3,3 0 0,1 3,0Z\" style=\"opacity: 1; stroke-width: 0px; fill: rgb(239, 85, 59); fill-opacity: 1;\"/><path class=\"point\" transform=\"translate(80.95,252.41)\" d=\"M3,0A3,3 0 1,1 0,-3A3,3 0 0,1 3,0Z\" style=\"opacity: 1; stroke-width: 0px; fill: rgb(239, 85, 59); fill-opacity: 1;\"/><path class=\"point\" transform=\"translate(82.43,252.97)\" d=\"M3,0A3,3 0 1,1 0,-3A3,3 0 0,1 3,0Z\" style=\"opacity: 1; stroke-width: 0px; fill: rgb(239, 85, 59); fill-opacity: 1;\"/><path class=\"point\" transform=\"translate(83.21,253.51)\" d=\"M3,0A3,3 0 1,1 0,-3A3,3 0 0,1 3,0Z\" style=\"opacity: 1; stroke-width: 0px; fill: rgb(239, 85, 59); fill-opacity: 1;\"/><path class=\"point\" transform=\"translate(86.84,253.88)\" d=\"M3,0A3,3 0 1,1 0,-3A3,3 0 0,1 3,0Z\" style=\"opacity: 1; stroke-width: 0px; fill: rgb(239, 85, 59); fill-opacity: 1;\"/><path class=\"point\" transform=\"translate(88.94,253.88)\" d=\"M3,0A3,3 0 1,1 0,-3A3,3 0 0,1 3,0Z\" style=\"opacity: 1; stroke-width: 0px; fill: rgb(239, 85, 59); fill-opacity: 1;\"/><path class=\"point\" transform=\"translate(89.79,254.62)\" d=\"M3,0A3,3 0 1,1 0,-3A3,3 0 0,1 3,0Z\" style=\"opacity: 1; stroke-width: 0px; fill: rgb(239, 85, 59); fill-opacity: 1;\"/><path class=\"point\" transform=\"translate(93.34,254.98)\" d=\"M3,0A3,3 0 1,1 0,-3A3,3 0 0,1 3,0Z\" style=\"opacity: 1; stroke-width: 0px; fill: rgb(239, 85, 59); fill-opacity: 1;\"/><path class=\"point\" transform=\"translate(95.52,255.16)\" d=\"M3,0A3,3 0 1,1 0,-3A3,3 0 0,1 3,0Z\" style=\"opacity: 1; stroke-width: 0px; fill: rgb(239, 85, 59); fill-opacity: 1;\"/><path class=\"point\" transform=\"translate(96.41,255.7)\" d=\"M3,0A3,3 0 1,1 0,-3A3,3 0 0,1 3,0Z\" style=\"opacity: 1; stroke-width: 0px; fill: rgb(239, 85, 59); fill-opacity: 1;\"/><path class=\"point\" transform=\"translate(99.05,256.08)\" d=\"M3,0A3,3 0 1,1 0,-3A3,3 0 0,1 3,0Z\" style=\"opacity: 1; stroke-width: 0px; fill: rgb(239, 85, 59); fill-opacity: 1;\"/><path class=\"point\" transform=\"translate(101.02,256.44)\" d=\"M3,0A3,3 0 1,1 0,-3A3,3 0 0,1 3,0Z\" style=\"opacity: 1; stroke-width: 0px; fill: rgb(239, 85, 59); fill-opacity: 1;\"/><path class=\"point\" transform=\"translate(103.82,256.63)\" d=\"M3,0A3,3 0 1,1 0,-3A3,3 0 0,1 3,0Z\" style=\"opacity: 1; stroke-width: 0px; fill: rgb(239, 85, 59); fill-opacity: 1;\"/><path class=\"point\" transform=\"translate(104.66,256.99)\" d=\"M3,0A3,3 0 1,1 0,-3A3,3 0 0,1 3,0Z\" style=\"opacity: 1; stroke-width: 0px; fill: rgb(239, 85, 59); fill-opacity: 1;\"/><path class=\"point\" transform=\"translate(108.92,257.35)\" d=\"M3,0A3,3 0 1,1 0,-3A3,3 0 0,1 3,0Z\" style=\"opacity: 1; stroke-width: 0px; fill: rgb(239, 85, 59); fill-opacity: 1;\"/><path class=\"point\" transform=\"translate(109.79,257.73)\" d=\"M3,0A3,3 0 1,1 0,-3A3,3 0 0,1 3,0Z\" style=\"opacity: 1; stroke-width: 0px; fill: rgb(239, 85, 59); fill-opacity: 1;\"/><path class=\"point\" transform=\"translate(111.31,258.09)\" d=\"M3,0A3,3 0 1,1 0,-3A3,3 0 0,1 3,0Z\" style=\"opacity: 1; stroke-width: 0px; fill: rgb(239, 85, 59); fill-opacity: 1;\"/><path class=\"point\" transform=\"translate(115.44,258.45)\" d=\"M3,0A3,3 0 1,1 0,-3A3,3 0 0,1 3,0Z\" style=\"opacity: 1; stroke-width: 0px; fill: rgb(239, 85, 59); fill-opacity: 1;\"/><path class=\"point\" transform=\"translate(116.44,258.82)\" d=\"M3,0A3,3 0 1,1 0,-3A3,3 0 0,1 3,0Z\" style=\"opacity: 1; stroke-width: 0px; fill: rgb(239, 85, 59); fill-opacity: 1;\"/><path class=\"point\" transform=\"translate(117.97,259.19)\" d=\"M3,0A3,3 0 1,1 0,-3A3,3 0 0,1 3,0Z\" style=\"opacity: 1; stroke-width: 0px; fill: rgb(239, 85, 59); fill-opacity: 1;\"/><path class=\"point\" transform=\"translate(121.05,259.38)\" d=\"M3,0A3,3 0 1,1 0,-3A3,3 0 0,1 3,0Z\" style=\"opacity: 1; stroke-width: 0px; fill: rgb(239, 85, 59); fill-opacity: 1;\"/><path class=\"point\" transform=\"translate(122.74,259.74)\" d=\"M3,0A3,3 0 1,1 0,-3A3,3 0 0,1 3,0Z\" style=\"opacity: 1; stroke-width: 0px; fill: rgb(239, 85, 59); fill-opacity: 1;\"/><path class=\"point\" transform=\"translate(124.64,260.1)\" d=\"M3,0A3,3 0 1,1 0,-3A3,3 0 0,1 3,0Z\" style=\"opacity: 1; stroke-width: 0px; fill: rgb(239, 85, 59); fill-opacity: 1;\"/><path class=\"point\" transform=\"translate(125.92,260.28)\" d=\"M3,0A3,3 0 1,1 0,-3A3,3 0 0,1 3,0Z\" style=\"opacity: 1; stroke-width: 0px; fill: rgb(239, 85, 59); fill-opacity: 1;\"/><path class=\"point\" transform=\"translate(128.65,260.46)\" d=\"M3,0A3,3 0 1,1 0,-3A3,3 0 0,1 3,0Z\" style=\"opacity: 1; stroke-width: 0px; fill: rgb(239, 85, 59); fill-opacity: 1;\"/><path class=\"point\" transform=\"translate(130.66,260.84)\" d=\"M3,0A3,3 0 1,1 0,-3A3,3 0 0,1 3,0Z\" style=\"opacity: 1; stroke-width: 0px; fill: rgb(239, 85, 59); fill-opacity: 1;\"/><path class=\"point\" transform=\"translate(135.46,261.39)\" d=\"M3,0A3,3 0 1,1 0,-3A3,3 0 0,1 3,0Z\" style=\"opacity: 1; stroke-width: 0px; fill: rgb(239, 85, 59); fill-opacity: 1;\"/><path class=\"point\" transform=\"translate(136.37,261.57)\" d=\"M3,0A3,3 0 1,1 0,-3A3,3 0 0,1 3,0Z\" style=\"opacity: 1; stroke-width: 0px; fill: rgb(239, 85, 59); fill-opacity: 1;\"/><path class=\"point\" transform=\"translate(137.3,261.93)\" d=\"M3,0A3,3 0 1,1 0,-3A3,3 0 0,1 3,0Z\" style=\"opacity: 1; stroke-width: 0px; fill: rgb(239, 85, 59); fill-opacity: 1;\"/><path class=\"point\" transform=\"translate(139.49,262.13)\" d=\"M3,0A3,3 0 1,1 0,-3A3,3 0 0,1 3,0Z\" style=\"opacity: 1; stroke-width: 0px; fill: rgb(239, 85, 59); fill-opacity: 1;\"/><path class=\"point\" transform=\"translate(141.96,262.13)\" d=\"M3,0A3,3 0 1,1 0,-3A3,3 0 0,1 3,0Z\" style=\"opacity: 1; stroke-width: 0px; fill: rgb(239, 85, 59); fill-opacity: 1;\"/><path class=\"point\" transform=\"translate(143.93,262.85)\" d=\"M3,0A3,3 0 1,1 0,-3A3,3 0 0,1 3,0Z\" style=\"opacity: 1; stroke-width: 0px; fill: rgb(239, 85, 59); fill-opacity: 1;\"/><path class=\"point\" transform=\"translate(146.85,263.03)\" d=\"M3,0A3,3 0 1,1 0,-3A3,3 0 0,1 3,0Z\" style=\"opacity: 1; stroke-width: 0px; fill: rgb(239, 85, 59); fill-opacity: 1;\"/><path class=\"point\" transform=\"translate(148.99,263.03)\" d=\"M3,0A3,3 0 1,1 0,-3A3,3 0 0,1 3,0Z\" style=\"opacity: 1; stroke-width: 0px; fill: rgb(239, 85, 59); fill-opacity: 1;\"/><path class=\"point\" transform=\"translate(149.88,263.39)\" d=\"M3,0A3,3 0 1,1 0,-3A3,3 0 0,1 3,0Z\" style=\"opacity: 1; stroke-width: 0px; fill: rgb(239, 85, 59); fill-opacity: 1;\"/><path class=\"point\" transform=\"translate(152.98,263.77)\" d=\"M3,0A3,3 0 1,1 0,-3A3,3 0 0,1 3,0Z\" style=\"opacity: 1; stroke-width: 0px; fill: rgb(239, 85, 59); fill-opacity: 1;\"/><path class=\"point\" transform=\"translate(155.53,263.95)\" d=\"M3,0A3,3 0 1,1 0,-3A3,3 0 0,1 3,0Z\" style=\"opacity: 1; stroke-width: 0px; fill: rgb(239, 85, 59); fill-opacity: 1;\"/><path class=\"point\" transform=\"translate(156.64,264.32)\" d=\"M3,0A3,3 0 1,1 0,-3A3,3 0 0,1 3,0Z\" style=\"opacity: 1; stroke-width: 0px; fill: rgb(239, 85, 59); fill-opacity: 1;\"/><path class=\"point\" transform=\"translate(159.69,264.5)\" d=\"M3,0A3,3 0 1,1 0,-3A3,3 0 0,1 3,0Z\" style=\"opacity: 1; stroke-width: 0px; fill: rgb(239, 85, 59); fill-opacity: 1;\"/><path class=\"point\" transform=\"translate(162.18,264.68)\" d=\"M3,0A3,3 0 1,1 0,-3A3,3 0 0,1 3,0Z\" style=\"opacity: 1; stroke-width: 0px; fill: rgb(239, 85, 59); fill-opacity: 1;\"/><path class=\"point\" transform=\"translate(163.33,265.04)\" d=\"M3,0A3,3 0 1,1 0,-3A3,3 0 0,1 3,0Z\" style=\"opacity: 1; stroke-width: 0px; fill: rgb(239, 85, 59); fill-opacity: 1;\"/><path class=\"point\" transform=\"translate(165.62,265.24)\" d=\"M3,0A3,3 0 1,1 0,-3A3,3 0 0,1 3,0Z\" style=\"opacity: 1; stroke-width: 0px; fill: rgb(239, 85, 59); fill-opacity: 1;\"/><path class=\"point\" transform=\"translate(169.32,265.6)\" d=\"M3,0A3,3 0 1,1 0,-3A3,3 0 0,1 3,0Z\" style=\"opacity: 1; stroke-width: 0px; fill: rgb(239, 85, 59); fill-opacity: 1;\"/><path class=\"point\" transform=\"translate(170.77,265.78)\" d=\"M3,0A3,3 0 1,1 0,-3A3,3 0 0,1 3,0Z\" style=\"opacity: 1; stroke-width: 0px; fill: rgb(239, 85, 59); fill-opacity: 1;\"/><path class=\"point\" transform=\"translate(171.62,266.14)\" d=\"M3,0A3,3 0 1,1 0,-3A3,3 0 0,1 3,0Z\" style=\"opacity: 1; stroke-width: 0px; fill: rgb(239, 85, 59); fill-opacity: 1;\"/><path class=\"point\" transform=\"translate(174.97,266.33)\" d=\"M3,0A3,3 0 1,1 0,-3A3,3 0 0,1 3,0Z\" style=\"opacity: 1; stroke-width: 0px; fill: rgb(239, 85, 59); fill-opacity: 1;\"/><path class=\"point\" transform=\"translate(176.77,266.51)\" d=\"M3,0A3,3 0 1,1 0,-3A3,3 0 0,1 3,0Z\" style=\"opacity: 1; stroke-width: 0px; fill: rgb(239, 85, 59); fill-opacity: 1;\"/><path class=\"point\" transform=\"translate(178.31,266.89)\" d=\"M3,0A3,3 0 1,1 0,-3A3,3 0 0,1 3,0Z\" style=\"opacity: 1; stroke-width: 0px; fill: rgb(239, 85, 59); fill-opacity: 1;\"/><path class=\"point\" transform=\"translate(181.32,267.07)\" d=\"M3,0A3,3 0 1,1 0,-3A3,3 0 0,1 3,0Z\" style=\"opacity: 1; stroke-width: 0px; fill: rgb(239, 85, 59); fill-opacity: 1;\"/><path class=\"point\" transform=\"translate(183.16,267.25)\" d=\"M3,0A3,3 0 1,1 0,-3A3,3 0 0,1 3,0Z\" style=\"opacity: 1; stroke-width: 0px; fill: rgb(239, 85, 59); fill-opacity: 1;\"/><path class=\"point\" transform=\"translate(185.04,267.61)\" d=\"M3,0A3,3 0 1,1 0,-3A3,3 0 0,1 3,0Z\" style=\"opacity: 1; stroke-width: 0px; fill: rgb(239, 85, 59); fill-opacity: 1;\"/><path class=\"point\" transform=\"translate(186.55,267.79)\" d=\"M3,0A3,3 0 1,1 0,-3A3,3 0 0,1 3,0Z\" style=\"opacity: 1; stroke-width: 0px; fill: rgb(239, 85, 59); fill-opacity: 1;\"/><path class=\"point\" transform=\"translate(189.87,267.79)\" d=\"M3,0A3,3 0 1,1 0,-3A3,3 0 0,1 3,0Z\" style=\"opacity: 1; stroke-width: 0px; fill: rgb(239, 85, 59); fill-opacity: 1;\"/><path class=\"point\" transform=\"translate(191.71,268.35)\" d=\"M3,0A3,3 0 1,1 0,-3A3,3 0 0,1 3,0Z\" style=\"opacity: 1; stroke-width: 0px; fill: rgb(239, 85, 59); fill-opacity: 1;\"/><path class=\"point\" transform=\"translate(196.19,268.53)\" d=\"M3,0A3,3 0 1,1 0,-3A3,3 0 0,1 3,0Z\" style=\"opacity: 1; stroke-width: 0px; fill: rgb(239, 85, 59); fill-opacity: 1;\"/><path class=\"point\" transform=\"translate(197.53,268.71)\" d=\"M3,0A3,3 0 1,1 0,-3A3,3 0 0,1 3,0Z\" style=\"opacity: 1; stroke-width: 0px; fill: rgb(239, 85, 59); fill-opacity: 1;\"/><path class=\"point\" transform=\"translate(198.35,269.08)\" d=\"M3,0A3,3 0 1,1 0,-3A3,3 0 0,1 3,0Z\" style=\"opacity: 1; stroke-width: 0px; fill: rgb(239, 85, 59); fill-opacity: 1;\"/><path class=\"point\" transform=\"translate(199.89,269.26)\" d=\"M3,0A3,3 0 1,1 0,-3A3,3 0 0,1 3,0Z\" style=\"opacity: 1; stroke-width: 0px; fill: rgb(239, 85, 59); fill-opacity: 1;\"/><path class=\"point\" transform=\"translate(202.64,269.44)\" d=\"M3,0A3,3 0 1,1 0,-3A3,3 0 0,1 3,0Z\" style=\"opacity: 1; stroke-width: 0px; fill: rgb(239, 85, 59); fill-opacity: 1;\"/><path class=\"point\" transform=\"translate(205,269.62)\" d=\"M3,0A3,3 0 1,1 0,-3A3,3 0 0,1 3,0Z\" style=\"opacity: 1; stroke-width: 0px; fill: rgb(239, 85, 59); fill-opacity: 1;\"/><path class=\"point\" transform=\"translate(206.58,270)\" d=\"M3,0A3,3 0 1,1 0,-3A3,3 0 0,1 3,0Z\" style=\"opacity: 1; stroke-width: 0px; fill: rgb(239, 85, 59); fill-opacity: 1;\"/><path class=\"point\" transform=\"translate(208.42,270.18)\" d=\"M3,0A3,3 0 1,1 0,-3A3,3 0 0,1 3,0Z\" style=\"opacity: 1; stroke-width: 0px; fill: rgb(239, 85, 59); fill-opacity: 1;\"/><path class=\"point\" transform=\"translate(210.78,270.18)\" d=\"M3,0A3,3 0 1,1 0,-3A3,3 0 0,1 3,0Z\" style=\"opacity: 1; stroke-width: 0px; fill: rgb(239, 85, 59); fill-opacity: 1;\"/><path class=\"point\" transform=\"translate(213.2,270.54)\" d=\"M3,0A3,3 0 1,1 0,-3A3,3 0 0,1 3,0Z\" style=\"opacity: 1; stroke-width: 0px; fill: rgb(239, 85, 59); fill-opacity: 1;\"/><path class=\"point\" transform=\"translate(215.82,270.72)\" d=\"M3,0A3,3 0 1,1 0,-3A3,3 0 0,1 3,0Z\" style=\"opacity: 1; stroke-width: 0px; fill: rgb(239, 85, 59); fill-opacity: 1;\"/><path class=\"point\" transform=\"translate(217.71,270.9)\" d=\"M3,0A3,3 0 1,1 0,-3A3,3 0 0,1 3,0Z\" style=\"opacity: 1; stroke-width: 0px; fill: rgb(239, 85, 59); fill-opacity: 1;\"/><path class=\"point\" transform=\"translate(219.98,271.27)\" d=\"M3,0A3,3 0 1,1 0,-3A3,3 0 0,1 3,0Z\" style=\"opacity: 1; stroke-width: 0px; fill: rgb(239, 85, 59); fill-opacity: 1;\"/><path class=\"point\" transform=\"translate(222.94,271.46)\" d=\"M3,0A3,3 0 1,1 0,-3A3,3 0 0,1 3,0Z\" style=\"opacity: 1; stroke-width: 0px; fill: rgb(239, 85, 59); fill-opacity: 1;\"/><path class=\"point\" transform=\"translate(224.87,271.64)\" d=\"M3,0A3,3 0 1,1 0,-3A3,3 0 0,1 3,0Z\" style=\"opacity: 1; stroke-width: 0px; fill: rgb(239, 85, 59); fill-opacity: 1;\"/><path class=\"point\" transform=\"translate(225.93,271.83)\" d=\"M3,0A3,3 0 1,1 0,-3A3,3 0 0,1 3,0Z\" style=\"opacity: 1; stroke-width: 0px; fill: rgb(239, 85, 59); fill-opacity: 1;\"/><path class=\"point\" transform=\"translate(229.11,272.19)\" d=\"M3,0A3,3 0 1,1 0,-3A3,3 0 0,1 3,0Z\" style=\"opacity: 1; stroke-width: 0px; fill: rgb(239, 85, 59); fill-opacity: 1;\"/><path class=\"point\" transform=\"translate(231,272.19)\" d=\"M3,0A3,3 0 1,1 0,-3A3,3 0 0,1 3,0Z\" style=\"opacity: 1; stroke-width: 0px; fill: rgb(239, 85, 59); fill-opacity: 1;\"/><path class=\"point\" transform=\"translate(232.58,272.37)\" d=\"M3,0A3,3 0 1,1 0,-3A3,3 0 0,1 3,0Z\" style=\"opacity: 1; stroke-width: 0px; fill: rgb(239, 85, 59); fill-opacity: 1;\"/><path class=\"point\" transform=\"translate(234.53,272.73)\" d=\"M3,0A3,3 0 1,1 0,-3A3,3 0 0,1 3,0Z\" style=\"opacity: 1; stroke-width: 0px; fill: rgb(239, 85, 59); fill-opacity: 1;\"/><path class=\"point\" transform=\"translate(236.95,272.73)\" d=\"M3,0A3,3 0 1,1 0,-3A3,3 0 0,1 3,0Z\" style=\"opacity: 1; stroke-width: 0px; fill: rgb(239, 85, 59); fill-opacity: 1;\"/><path class=\"point\" transform=\"translate(239.51,273.11)\" d=\"M3,0A3,3 0 1,1 0,-3A3,3 0 0,1 3,0Z\" style=\"opacity: 1; stroke-width: 0px; fill: rgb(239, 85, 59); fill-opacity: 1;\"/><path class=\"point\" transform=\"translate(241.32,273.29)\" d=\"M3,0A3,3 0 1,1 0,-3A3,3 0 0,1 3,0Z\" style=\"opacity: 1; stroke-width: 0px; fill: rgb(239, 85, 59); fill-opacity: 1;\"/><path class=\"point\" transform=\"translate(243.73,273.29)\" d=\"M3,0A3,3 0 1,1 0,-3A3,3 0 0,1 3,0Z\" style=\"opacity: 1; stroke-width: 0px; fill: rgb(239, 85, 59); fill-opacity: 1;\"/><path class=\"point\" transform=\"translate(245.18,273.47)\" d=\"M3,0A3,3 0 1,1 0,-3A3,3 0 0,1 3,0Z\" style=\"opacity: 1; stroke-width: 0px; fill: rgb(239, 85, 59); fill-opacity: 1;\"/><path class=\"point\" transform=\"translate(246.24,273.83)\" d=\"M3,0A3,3 0 1,1 0,-3A3,3 0 0,1 3,0Z\" style=\"opacity: 1; stroke-width: 0px; fill: rgb(239, 85, 59); fill-opacity: 1;\"/><path class=\"point\" transform=\"translate(246.67,274.02)\" d=\"M3,0A3,3 0 1,1 0,-3A3,3 0 0,1 3,0Z\" style=\"opacity: 1; stroke-width: 0px; fill: rgb(239, 85, 59); fill-opacity: 1;\"/><path class=\"point\" transform=\"translate(268.73,72.19)\" d=\"M3,0A3,3 0 1,1 0,-3A3,3 0 0,1 3,0Z\" style=\"opacity: 1; stroke-width: 0px; fill: rgb(239, 85, 59); fill-opacity: 1;\"/><path class=\"point\" transform=\"translate(290.12,68.7)\" d=\"M3,0A3,3 0 1,1 0,-3A3,3 0 0,1 3,0Z\" style=\"opacity: 1; stroke-width: 0px; fill: rgb(239, 85, 59); fill-opacity: 1;\"/><path class=\"point\" transform=\"translate(312.39,66.51)\" d=\"M3,0A3,3 0 1,1 0,-3A3,3 0 0,1 3,0Z\" style=\"opacity: 1; stroke-width: 0px; fill: rgb(239, 85, 59); fill-opacity: 1;\"/><path class=\"point\" transform=\"translate(333.39,64.86)\" d=\"M3,0A3,3 0 1,1 0,-3A3,3 0 0,1 3,0Z\" style=\"opacity: 1; stroke-width: 0px; fill: rgb(239, 85, 59); fill-opacity: 1;\"/><path class=\"point\" transform=\"translate(354.98,63.21)\" d=\"M3,0A3,3 0 1,1 0,-3A3,3 0 0,1 3,0Z\" style=\"opacity: 1; stroke-width: 0px; fill: rgb(239, 85, 59); fill-opacity: 1;\"/><path class=\"point\" transform=\"translate(377.17,61.93)\" d=\"M3,0A3,3 0 1,1 0,-3A3,3 0 0,1 3,0Z\" style=\"opacity: 1; stroke-width: 0px; fill: rgb(239, 85, 59); fill-opacity: 1;\"/><path class=\"point\" transform=\"translate(399.4,61.01)\" d=\"M3,0A3,3 0 1,1 0,-3A3,3 0 0,1 3,0Z\" style=\"opacity: 1; stroke-width: 0px; fill: rgb(239, 85, 59); fill-opacity: 1;\"/><path class=\"point\" transform=\"translate(419.9,60.28)\" d=\"M3,0A3,3 0 1,1 0,-3A3,3 0 0,1 3,0Z\" style=\"opacity: 1; stroke-width: 0px; fill: rgb(239, 85, 59); fill-opacity: 1;\"/><path class=\"point\" transform=\"translate(441.85,59.36)\" d=\"M3,0A3,3 0 1,1 0,-3A3,3 0 0,1 3,0Z\" style=\"opacity: 1; stroke-width: 0px; fill: rgb(239, 85, 59); fill-opacity: 1;\"/><path class=\"point\" transform=\"translate(463.65,58.82)\" d=\"M3,0A3,3 0 1,1 0,-3A3,3 0 0,1 3,0Z\" style=\"opacity: 1; stroke-width: 0px; fill: rgb(239, 85, 59); fill-opacity: 1;\"/></g><g class=\"text\"/></g><g class=\"trace scatter trace9e4edd\" style=\"stroke-miterlimit: 2; opacity: 1;\"><g class=\"fills\"/><g class=\"errorbars\"/><g class=\"lines\"><path class=\"js-line\" d=\"M28.35,41.68L28.74,41.68L30.97,243.27L155.53,264.21L156.64,264.36L246.24,278.32L246.67,76.74L377.17,74.76L399.4,74.56L463.65,74.12\" style=\"vector-effect: none; fill: none; stroke: rgb(0, 204, 150); stroke-opacity: 1; stroke-width: 4px; opacity: 1;\"/></g><g class=\"points\"/><g class=\"text\"/></g></g></g></g><path class=\"xlines-above crisp\" d=\"M0,0\" style=\"fill: none;\"/><path class=\"ylines-above crisp\" d=\"M0,0\" style=\"fill: none;\"/><g class=\"overlines-above\"/><g class=\"xaxislayer-above\"><g class=\"xtick\"><text text-anchor=\"middle\" x=\"0\" y=\"433\" transform=\"translate(108.35,0)\" style=\"font-family: 'Open Sans', verdana, arial, sans-serif; font-size: 12px; fill: rgb(42, 63, 95); fill-opacity: 1; white-space: pre; opacity: 1;\">0</text></g><g class=\"xtick\"><text text-anchor=\"middle\" x=\"0\" y=\"433\" style=\"font-family: 'Open Sans', verdana, arial, sans-serif; font-size: 12px; fill: rgb(42, 63, 95); fill-opacity: 1; white-space: pre; opacity: 1;\" transform=\"translate(216.59,0)\">5</text></g><g class=\"xtick\"><text text-anchor=\"middle\" x=\"0\" y=\"433\" style=\"font-family: 'Open Sans', verdana, arial, sans-serif; font-size: 12px; fill: rgb(42, 63, 95); fill-opacity: 1; white-space: pre; opacity: 1;\" transform=\"translate(324.83000000000004,0)\">10</text></g><g class=\"xtick\"><text text-anchor=\"middle\" x=\"0\" y=\"433\" style=\"font-family: 'Open Sans', verdana, arial, sans-serif; font-size: 12px; fill: rgb(42, 63, 95); fill-opacity: 1; white-space: pre; opacity: 1;\" transform=\"translate(433.07,0)\">15</text></g><g class=\"xtick\"><text text-anchor=\"middle\" x=\"0\" y=\"433\" style=\"font-family: 'Open Sans', verdana, arial, sans-serif; font-size: 12px; fill: rgb(42, 63, 95); fill-opacity: 1; white-space: pre; opacity: 1;\" transform=\"translate(541.31,0)\">20</text></g></g><g class=\"yaxislayer-above\"><g class=\"ytick\"><text text-anchor=\"end\" x=\"79\" y=\"4.199999999999999\" transform=\"translate(0,356.61)\" style=\"font-family: 'Open Sans', verdana, arial, sans-serif; font-size: 12px; fill: rgb(42, 63, 95); fill-opacity: 1; white-space: pre; opacity: 1;\">3.95</text></g><g class=\"ytick\"><text text-anchor=\"end\" x=\"79\" y=\"4.199999999999999\" style=\"font-family: 'Open Sans', verdana, arial, sans-serif; font-size: 12px; fill: rgb(42, 63, 95); fill-opacity: 1; white-space: pre; opacity: 1;\" transform=\"translate(0,274.27)\">4</text></g><g class=\"ytick\"><text text-anchor=\"end\" x=\"79\" y=\"4.199999999999999\" style=\"font-family: 'Open Sans', verdana, arial, sans-serif; font-size: 12px; fill: rgb(42, 63, 95); fill-opacity: 1; white-space: pre; opacity: 1;\" transform=\"translate(0,191.93)\">4.05</text></g><g class=\"ytick\"><text text-anchor=\"end\" x=\"79\" y=\"4.199999999999999\" style=\"font-family: 'Open Sans', verdana, arial, sans-serif; font-size: 12px; fill: rgb(42, 63, 95); fill-opacity: 1; white-space: pre; opacity: 1;\" transform=\"translate(0,109.59)\">4.1</text></g></g><g class=\"overaxes-above\"/></g></g><g class=\"polarlayer\"/><g class=\"smithlayer\"/><g class=\"ternarylayer\"/><g class=\"geolayer\"/><g class=\"funnelarealayer\"/><g class=\"pielayer\"/><g class=\"iciclelayer\"/><g class=\"treemaplayer\"/><g class=\"sunburstlayer\"/><g class=\"glimages\"/><defs id=\"topdefs-2bc0d0\"><g class=\"clips\"/><clipPath id=\"legend2bc0d0\"><rect width=\"106\" height=\"48\" x=\"0\" y=\"0\"/></clipPath></defs><g class=\"layer-above\"><g class=\"imagelayer\"/><g class=\"shapelayer\"/></g><g class=\"infolayer\"><g class=\"legend\" pointer-events=\"all\" transform=\"translate(581.84,100)\"><rect class=\"bg\" shape-rendering=\"crispEdges\" width=\"106\" height=\"48\" x=\"0\" y=\"0\" style=\"stroke: rgb(68, 68, 68); stroke-opacity: 1; fill: rgb(255, 255, 255); fill-opacity: 1; stroke-width: 0px;\"/><g class=\"scrollbox\" transform=\"\" clip-path=\"url(#legend2bc0d0)\"><g class=\"groups\"><g class=\"traces\" transform=\"translate(0,14.5)\" style=\"opacity: 1;\"><text class=\"legendtext\" text-anchor=\"start\" x=\"40\" y=\"4.680000000000001\" style=\"font-family: 'Open Sans', verdana, arial, sans-serif; font-size: 12px; fill: rgb(42, 63, 95); fill-opacity: 1; white-space: pre;\">Reference</text><g class=\"layers\" style=\"opacity: 1;\"><g class=\"legendfill\"/><g class=\"legendlines\"/><g class=\"legendsymbols\"><g class=\"legendpoints\"><path class=\"scatterpts\" transform=\"translate(20,0)\" d=\"M3,0A3,3 0 1,1 0,-3A3,3 0 0,1 3,0Z\" style=\"opacity: 1; stroke-width: 0px; fill: rgb(239, 85, 59); fill-opacity: 1;\"/></g></g></g><rect class=\"legendtoggle\" x=\"0\" y=\"-9.5\" width=\"100.4375\" height=\"19\" style=\"fill: rgb(0, 0, 0); fill-opacity: 0;\"/></g><g class=\"traces\" transform=\"translate(0,33.5)\" style=\"opacity: 1;\"><text class=\"legendtext\" text-anchor=\"start\" x=\"40\" y=\"4.680000000000001\" style=\"font-family: 'Open Sans', verdana, arial, sans-serif; font-size: 12px; fill: rgb(42, 63, 95); fill-opacity: 1; white-space: pre;\">Model</text><g class=\"layers\" style=\"opacity: 1;\"><g class=\"legendfill\"/><g class=\"legendlines\"><path class=\"js-line\" d=\"M5,0h30\" style=\"fill: none; stroke: rgb(0, 204, 150); stroke-opacity: 1; stroke-width: 4px;\"/></g><g class=\"legendsymbols\"><g class=\"legendpoints\"/></g></g><rect class=\"legendtoggle\" x=\"0\" y=\"-9.5\" width=\"100.4375\" height=\"19\" style=\"fill: rgb(0, 0, 0); fill-opacity: 0;\"/></g></g></g><rect class=\"scrollbar\" rx=\"20\" ry=\"3\" width=\"0\" height=\"0\" x=\"0\" y=\"0\" style=\"fill: rgb(128, 139, 164); fill-opacity: 1;\"/></g><g class=\"g-gtitle\"><text class=\"gtitle\" x=\"35\" y=\"50\" text-anchor=\"start\" dy=\"0em\" style=\"opacity: 1; font-family: 'Open Sans', verdana, arial, sans-serif; font-size: 17px; fill: rgb(42, 63, 95); fill-opacity: 1; white-space: pre;\">Optimised Comparison</text></g><g class=\"g-xtitle\"><text class=\"xtitle\" x=\"326\" y=\"460.3\" text-anchor=\"middle\" style=\"opacity: 1; font-family: 'Open Sans', verdana, arial, sans-serif; font-size: 14px; fill: rgb(42, 63, 95); fill-opacity: 1; white-space: pre;\">Time / s</text></g><g class=\"g-ytitle\"><text class=\"ytitle\" transform=\"rotate(-90,32.88125,260)\" x=\"32.88125\" y=\"260\" text-anchor=\"middle\" style=\"opacity: 1; font-family: 'Open Sans', verdana, arial, sans-serif; font-size: 14px; fill: rgb(42, 63, 95); fill-opacity: 1; white-space: pre;\">Voltage  / V</text></g></g></svg>"
      ]
     },
     "metadata": {},
     "output_type": "display_data"
    }
   ],
   "source": [
    "pybop.quick_plot(problem, problem_inputs=x, title=\"Optimised Comparison\");"
   ]
  },
  {
   "cell_type": "markdown",
   "id": "28",
   "metadata": {},
   "source": [
    "### Convergence and Parameter Trajectories\n",
    "\n",
    "To assess the optimisation process, we can plot the convergence of the cost function and the trajectories of the parameters:"
   ]
  },
  {
   "cell_type": "code",
   "execution_count": null,
   "id": "29",
   "metadata": {},
   "outputs": [
    {
     "data": {
      "image/svg+xml": [
       "<svg class=\"main-svg\" xmlns=\"http://www.w3.org/2000/svg\" xmlns:xlink=\"http://www.w3.org/1999/xlink\" width=\"700\" height=\"500\" style=\"\" viewBox=\"0 0 700 500\"><rect x=\"0\" y=\"0\" width=\"700\" height=\"500\" style=\"fill: rgb(255, 255, 255); fill-opacity: 1;\"/><defs id=\"defs-a686e2\"><g class=\"clips\"><clipPath id=\"clipa686e2xyplot\" class=\"plotclip\"><rect width=\"540\" height=\"320\"/></clipPath><clipPath class=\"axesclip\" id=\"clipa686e2x\"><rect x=\"80\" y=\"0\" width=\"540\" height=\"500\"/></clipPath><clipPath class=\"axesclip\" id=\"clipa686e2y\"><rect x=\"0\" y=\"100\" width=\"700\" height=\"320\"/></clipPath><clipPath class=\"axesclip\" id=\"clipa686e2xy\"><rect x=\"80\" y=\"100\" width=\"540\" height=\"320\"/></clipPath></g><g class=\"gradients\"/><g class=\"patterns\"/></defs><g class=\"bglayer\"><rect class=\"bg\" x=\"80\" y=\"100\" width=\"540\" height=\"320\" style=\"fill: rgb(229, 236, 246); fill-opacity: 1; stroke-width: 0;\"/></g><g class=\"layer-below\"><g class=\"imagelayer\"/><g class=\"shapelayer\"/></g><g class=\"cartesianlayer\"><g class=\"subplot xy\"><g class=\"layer-subplot\"><g class=\"shapelayer\"/><g class=\"imagelayer\"/></g><g class=\"minor-gridlayer\"><g class=\"x\"/><g class=\"y\"/></g><g class=\"gridlayer\"><g class=\"x\"><path class=\"xgrid crisp\" transform=\"translate(205.12,0)\" d=\"M0,100v320\" style=\"stroke: rgb(255, 255, 255); stroke-opacity: 1; stroke-width: 1px;\"/><path class=\"xgrid crisp\" transform=\"translate(336.83,0)\" d=\"M0,100v320\" style=\"stroke: rgb(255, 255, 255); stroke-opacity: 1; stroke-width: 1px;\"/><path class=\"xgrid crisp\" transform=\"translate(468.54,0)\" d=\"M0,100v320\" style=\"stroke: rgb(255, 255, 255); stroke-opacity: 1; stroke-width: 1px;\"/><path class=\"xgrid crisp\" transform=\"translate(600.24,0)\" d=\"M0,100v320\" style=\"stroke: rgb(255, 255, 255); stroke-opacity: 1; stroke-width: 1px;\"/></g><g class=\"y\"><path class=\"ygrid crisp\" transform=\"translate(0,396.11)\" d=\"M80,0h540\" style=\"stroke: rgb(255, 255, 255); stroke-opacity: 1; stroke-width: 1px;\"/><path class=\"ygrid crisp\" transform=\"translate(0,353.72)\" d=\"M80,0h540\" style=\"stroke: rgb(255, 255, 255); stroke-opacity: 1; stroke-width: 1px;\"/><path class=\"ygrid crisp\" transform=\"translate(0,311.33000000000004)\" d=\"M80,0h540\" style=\"stroke: rgb(255, 255, 255); stroke-opacity: 1; stroke-width: 1px;\"/><path class=\"ygrid crisp\" transform=\"translate(0,268.94)\" d=\"M80,0h540\" style=\"stroke: rgb(255, 255, 255); stroke-opacity: 1; stroke-width: 1px;\"/><path class=\"ygrid crisp\" transform=\"translate(0,226.54000000000002)\" d=\"M80,0h540\" style=\"stroke: rgb(255, 255, 255); stroke-opacity: 1; stroke-width: 1px;\"/><path class=\"ygrid crisp\" transform=\"translate(0,184.15)\" d=\"M80,0h540\" style=\"stroke: rgb(255, 255, 255); stroke-opacity: 1; stroke-width: 1px;\"/><path class=\"ygrid crisp\" transform=\"translate(0,141.76)\" d=\"M80,0h540\" style=\"stroke: rgb(255, 255, 255); stroke-opacity: 1; stroke-width: 1px;\"/></g></g><g class=\"zerolinelayer\"/><g class=\"layer-between\"><g class=\"shapelayer\"/><g class=\"imagelayer\"/></g><path class=\"xlines-below\"/><path class=\"ylines-below\"/><g class=\"overlines-below\"/><g class=\"xaxislayer-below\"/><g class=\"yaxislayer-below\"/><g class=\"overaxes-below\"/><g class=\"overplot\"><g class=\"xy\" transform=\"translate(80,100)\" clip-path=\"url(#clipa686e2xyplot)\"><g class=\"scatterlayer mlayer\"><g class=\"trace scatter tracee33c62\" style=\"stroke-miterlimit: 2; opacity: 1;\"><g class=\"fills\"/><g class=\"errorbars\"/><g class=\"lines\"><path class=\"js-line\" d=\"M0,16L13.17,16L19.76,143.61L26.34,143.61L32.93,213.73L92.2,213.73L98.78,252.84L164.63,252.84L171.22,266.99L177.8,292.67L184.39,296.85L223.9,296.85L230.49,297.88L256.83,298.27L263.41,301.9L270,303.04L276.59,303.04L540,304\" style=\"vector-effect: none; fill: none; stroke: rgb(99, 110, 250); stroke-opacity: 1; stroke-width: 4px; opacity: 1;\"/></g><g class=\"points\"/><g class=\"text\"/></g></g></g></g><path class=\"xlines-above crisp\" d=\"M0,0\" style=\"fill: none;\"/><path class=\"ylines-above crisp\" d=\"M0,0\" style=\"fill: none;\"/><g class=\"overlines-above\"/><g class=\"xaxislayer-above\"><g class=\"xtick\"><text text-anchor=\"middle\" x=\"0\" y=\"433\" transform=\"translate(205.12,0)\" style=\"font-family: 'Open Sans', verdana, arial, sans-serif; font-size: 12px; fill: rgb(42, 63, 95); fill-opacity: 1; white-space: pre; opacity: 1;\">20</text></g><g class=\"xtick\"><text text-anchor=\"middle\" x=\"0\" y=\"433\" style=\"font-family: 'Open Sans', verdana, arial, sans-serif; font-size: 12px; fill: rgb(42, 63, 95); fill-opacity: 1; white-space: pre; opacity: 1;\" transform=\"translate(336.83,0)\">40</text></g><g class=\"xtick\"><text text-anchor=\"middle\" x=\"0\" y=\"433\" style=\"font-family: 'Open Sans', verdana, arial, sans-serif; font-size: 12px; fill: rgb(42, 63, 95); fill-opacity: 1; white-space: pre; opacity: 1;\" transform=\"translate(468.54,0)\">60</text></g><g class=\"xtick\"><text text-anchor=\"middle\" x=\"0\" y=\"433\" style=\"font-family: 'Open Sans', verdana, arial, sans-serif; font-size: 12px; fill: rgb(42, 63, 95); fill-opacity: 1; white-space: pre; opacity: 1;\" transform=\"translate(600.24,0)\">80</text></g></g><g class=\"yaxislayer-above\"><g class=\"ytick\"><text text-anchor=\"end\" x=\"79\" y=\"4.199999999999999\" transform=\"translate(0,396.11)\" style=\"font-family: 'Open Sans', verdana, arial, sans-serif; font-size: 12px; fill: rgb(42, 63, 95); fill-opacity: 1; white-space: pre; opacity: 1;\">0.028</text></g><g class=\"ytick\"><text text-anchor=\"end\" x=\"79\" y=\"4.199999999999999\" style=\"font-family: 'Open Sans', verdana, arial, sans-serif; font-size: 12px; fill: rgb(42, 63, 95); fill-opacity: 1; white-space: pre; opacity: 1;\" transform=\"translate(0,353.72)\">0.029</text></g><g class=\"ytick\"><text text-anchor=\"end\" x=\"79\" y=\"4.199999999999999\" style=\"font-family: 'Open Sans', verdana, arial, sans-serif; font-size: 12px; fill: rgb(42, 63, 95); fill-opacity: 1; white-space: pre; opacity: 1;\" transform=\"translate(0,311.33000000000004)\">0.03</text></g><g class=\"ytick\"><text text-anchor=\"end\" x=\"79\" y=\"4.199999999999999\" style=\"font-family: 'Open Sans', verdana, arial, sans-serif; font-size: 12px; fill: rgb(42, 63, 95); fill-opacity: 1; white-space: pre; opacity: 1;\" transform=\"translate(0,268.94)\">0.031</text></g><g class=\"ytick\"><text text-anchor=\"end\" x=\"79\" y=\"4.199999999999999\" style=\"font-family: 'Open Sans', verdana, arial, sans-serif; font-size: 12px; fill: rgb(42, 63, 95); fill-opacity: 1; white-space: pre; opacity: 1;\" transform=\"translate(0,226.54000000000002)\">0.032</text></g><g class=\"ytick\"><text text-anchor=\"end\" x=\"79\" y=\"4.199999999999999\" style=\"font-family: 'Open Sans', verdana, arial, sans-serif; font-size: 12px; fill: rgb(42, 63, 95); fill-opacity: 1; white-space: pre; opacity: 1;\" transform=\"translate(0,184.15)\">0.033</text></g><g class=\"ytick\"><text text-anchor=\"end\" x=\"79\" y=\"4.199999999999999\" style=\"font-family: 'Open Sans', verdana, arial, sans-serif; font-size: 12px; fill: rgb(42, 63, 95); fill-opacity: 1; white-space: pre; opacity: 1;\" transform=\"translate(0,141.76)\">0.034</text></g></g><g class=\"overaxes-above\"/></g></g><g class=\"polarlayer\"/><g class=\"smithlayer\"/><g class=\"ternarylayer\"/><g class=\"geolayer\"/><g class=\"funnelarealayer\"/><g class=\"pielayer\"/><g class=\"iciclelayer\"/><g class=\"treemaplayer\"/><g class=\"sunburstlayer\"/><g class=\"glimages\"/><defs id=\"topdefs-a686e2\"><g class=\"clips\"/></defs><g class=\"layer-above\"><g class=\"imagelayer\"/><g class=\"shapelayer\"/></g><g class=\"infolayer\"><g class=\"g-gtitle\"><text class=\"gtitle\" x=\"35\" y=\"50\" text-anchor=\"start\" dy=\"0em\" style=\"opacity: 1; font-family: 'Open Sans', verdana, arial, sans-serif; font-size: 17px; fill: rgb(42, 63, 95); fill-opacity: 1; white-space: pre;\">Convergence</text></g><g class=\"g-xtitle\"><text class=\"xtitle\" x=\"350\" y=\"460.3\" text-anchor=\"middle\" style=\"opacity: 1; font-family: 'Open Sans', verdana, arial, sans-serif; font-size: 14px; fill: rgb(42, 63, 95); fill-opacity: 1; white-space: pre;\">Iteration</text></g><g class=\"g-ytitle\"><text class=\"ytitle\" transform=\"rotate(-90,25.240625,260)\" x=\"25.240625\" y=\"260\" text-anchor=\"middle\" style=\"opacity: 1; font-family: 'Open Sans', verdana, arial, sans-serif; font-size: 14px; fill: rgb(42, 63, 95); fill-opacity: 1; white-space: pre;\">Cost</text></g></g></svg>"
      ]
     },
     "metadata": {},
     "output_type": "display_data"
    },
    {
     "data": {
      "image/svg+xml": [
       "<svg class=\"main-svg\" xmlns=\"http://www.w3.org/2000/svg\" xmlns:xlink=\"http://www.w3.org/1999/xlink\" width=\"1024\" height=\"576\" style=\"\" viewBox=\"0 0 1024 576\"><rect x=\"0\" y=\"0\" width=\"1024\" height=\"576\" style=\"fill: rgb(255, 255, 255); fill-opacity: 1;\"/><defs id=\"defs-984421\"><g class=\"clips\"><clipPath id=\"clip984421xyplot\" class=\"plotclip\"><rect width=\"249.60000000000002\" height=\"168.29999999999998\"/></clipPath><clipPath id=\"clip984421x2y2plot\" class=\"plotclip\"><rect width=\"249.60000000000002\" height=\"168.29999999999998\"/></clipPath><clipPath id=\"clip984421x3y3plot\" class=\"plotclip\"><rect width=\"249.59999999999997\" height=\"168.29999999999998\"/></clipPath><clipPath id=\"clip984421x4y4plot\" class=\"plotclip\"><rect width=\"249.60000000000002\" height=\"168.3\"/></clipPath><clipPath id=\"clip984421x5y5plot\" class=\"plotclip\"><rect width=\"249.60000000000002\" height=\"168.3\"/></clipPath><clipPath class=\"axesclip\" id=\"clip984421x\"><rect x=\"80\" y=\"0\" width=\"249.60000000000002\" height=\"576\"/></clipPath><clipPath class=\"axesclip\" id=\"clip984421y\"><rect x=\"0\" y=\"327.7\" width=\"1024\" height=\"168.29999999999998\"/></clipPath><clipPath class=\"axesclip\" id=\"clip984421xy\"><rect x=\"80\" y=\"327.7\" width=\"249.60000000000002\" height=\"168.29999999999998\"/></clipPath><clipPath class=\"axesclip\" id=\"clip984421y2\"><rect x=\"0\" y=\"327.7\" width=\"1024\" height=\"168.29999999999998\"/></clipPath><clipPath class=\"axesclip\" id=\"clip984421xy2\"><rect x=\"80\" y=\"327.7\" width=\"249.60000000000002\" height=\"168.29999999999998\"/></clipPath><clipPath class=\"axesclip\" id=\"clip984421y3\"><rect x=\"0\" y=\"327.7\" width=\"1024\" height=\"168.29999999999998\"/></clipPath><clipPath class=\"axesclip\" id=\"clip984421xy3\"><rect x=\"80\" y=\"327.7\" width=\"249.60000000000002\" height=\"168.29999999999998\"/></clipPath><clipPath class=\"axesclip\" id=\"clip984421y4\"><rect x=\"0\" y=\"100\" width=\"1024\" height=\"168.3\"/></clipPath><clipPath class=\"axesclip\" id=\"clip984421xy4\"><rect x=\"80\" y=\"100\" width=\"249.60000000000002\" height=\"168.3\"/></clipPath><clipPath class=\"axesclip\" id=\"clip984421y5\"><rect x=\"0\" y=\"100\" width=\"1024\" height=\"168.3\"/></clipPath><clipPath class=\"axesclip\" id=\"clip984421xy5\"><rect x=\"80\" y=\"100\" width=\"249.60000000000002\" height=\"168.3\"/></clipPath><clipPath class=\"axesclip\" id=\"clip984421x2\"><rect x=\"387.2\" y=\"0\" width=\"249.60000000000002\" height=\"576\"/></clipPath><clipPath class=\"axesclip\" id=\"clip984421x2y\"><rect x=\"387.2\" y=\"327.7\" width=\"249.60000000000002\" height=\"168.29999999999998\"/></clipPath><clipPath class=\"axesclip\" id=\"clip984421x2y2\"><rect x=\"387.2\" y=\"327.7\" width=\"249.60000000000002\" height=\"168.29999999999998\"/></clipPath><clipPath class=\"axesclip\" id=\"clip984421x2y3\"><rect x=\"387.2\" y=\"327.7\" width=\"249.60000000000002\" height=\"168.29999999999998\"/></clipPath><clipPath class=\"axesclip\" id=\"clip984421x2y4\"><rect x=\"387.2\" y=\"100\" width=\"249.60000000000002\" height=\"168.3\"/></clipPath><clipPath class=\"axesclip\" id=\"clip984421x2y5\"><rect x=\"387.2\" y=\"100\" width=\"249.60000000000002\" height=\"168.3\"/></clipPath><clipPath class=\"axesclip\" id=\"clip984421x3\"><rect x=\"694.4\" y=\"0\" width=\"249.59999999999997\" height=\"576\"/></clipPath><clipPath class=\"axesclip\" id=\"clip984421x3y\"><rect x=\"694.4\" y=\"327.7\" width=\"249.59999999999997\" height=\"168.29999999999998\"/></clipPath><clipPath class=\"axesclip\" id=\"clip984421x3y2\"><rect x=\"694.4\" y=\"327.7\" width=\"249.59999999999997\" height=\"168.29999999999998\"/></clipPath><clipPath class=\"axesclip\" id=\"clip984421x3y3\"><rect x=\"694.4\" y=\"327.7\" width=\"249.59999999999997\" height=\"168.29999999999998\"/></clipPath><clipPath class=\"axesclip\" id=\"clip984421x3y4\"><rect x=\"694.4\" y=\"100\" width=\"249.59999999999997\" height=\"168.3\"/></clipPath><clipPath class=\"axesclip\" id=\"clip984421x3y5\"><rect x=\"694.4\" y=\"100\" width=\"249.59999999999997\" height=\"168.3\"/></clipPath><clipPath class=\"axesclip\" id=\"clip984421x4\"><rect x=\"80\" y=\"0\" width=\"249.60000000000002\" height=\"576\"/></clipPath><clipPath class=\"axesclip\" id=\"clip984421x4y\"><rect x=\"80\" y=\"327.7\" width=\"249.60000000000002\" height=\"168.29999999999998\"/></clipPath><clipPath class=\"axesclip\" id=\"clip984421x4y2\"><rect x=\"80\" y=\"327.7\" width=\"249.60000000000002\" height=\"168.29999999999998\"/></clipPath><clipPath class=\"axesclip\" id=\"clip984421x4y3\"><rect x=\"80\" y=\"327.7\" width=\"249.60000000000002\" height=\"168.29999999999998\"/></clipPath><clipPath class=\"axesclip\" id=\"clip984421x4y4\"><rect x=\"80\" y=\"100\" width=\"249.60000000000002\" height=\"168.3\"/></clipPath><clipPath class=\"axesclip\" id=\"clip984421x4y5\"><rect x=\"80\" y=\"100\" width=\"249.60000000000002\" height=\"168.3\"/></clipPath><clipPath class=\"axesclip\" id=\"clip984421x5\"><rect x=\"387.2\" y=\"0\" width=\"249.60000000000002\" height=\"576\"/></clipPath><clipPath class=\"axesclip\" id=\"clip984421x5y\"><rect x=\"387.2\" y=\"327.7\" width=\"249.60000000000002\" height=\"168.29999999999998\"/></clipPath><clipPath class=\"axesclip\" id=\"clip984421x5y2\"><rect x=\"387.2\" y=\"327.7\" width=\"249.60000000000002\" height=\"168.29999999999998\"/></clipPath><clipPath class=\"axesclip\" id=\"clip984421x5y3\"><rect x=\"387.2\" y=\"327.7\" width=\"249.60000000000002\" height=\"168.29999999999998\"/></clipPath><clipPath class=\"axesclip\" id=\"clip984421x5y4\"><rect x=\"387.2\" y=\"100\" width=\"249.60000000000002\" height=\"168.3\"/></clipPath><clipPath class=\"axesclip\" id=\"clip984421x5y5\"><rect x=\"387.2\" y=\"100\" width=\"249.60000000000002\" height=\"168.3\"/></clipPath></g><g class=\"gradients\"/><g class=\"patterns\"/></defs><g class=\"bglayer\"><rect class=\"bg\" x=\"80\" y=\"327.7\" width=\"249.60000000000002\" height=\"168.29999999999998\" style=\"fill: rgb(229, 236, 246); fill-opacity: 1; stroke-width: 0;\"/><rect class=\"bg\" x=\"387.2\" y=\"327.7\" width=\"249.60000000000002\" height=\"168.29999999999998\" style=\"fill: rgb(229, 236, 246); fill-opacity: 1; stroke-width: 0;\"/><rect class=\"bg\" x=\"694.4\" y=\"327.7\" width=\"249.59999999999997\" height=\"168.29999999999998\" style=\"fill: rgb(229, 236, 246); fill-opacity: 1; stroke-width: 0;\"/><rect class=\"bg\" x=\"80\" y=\"100\" width=\"249.60000000000002\" height=\"168.3\" style=\"fill: rgb(229, 236, 246); fill-opacity: 1; stroke-width: 0;\"/><rect class=\"bg\" x=\"387.2\" y=\"100\" width=\"249.60000000000002\" height=\"168.3\" style=\"fill: rgb(229, 236, 246); fill-opacity: 1; stroke-width: 0;\"/></g><g class=\"layer-below\"><g class=\"imagelayer\"/><g class=\"shapelayer\"/></g><g class=\"cartesianlayer\"><g class=\"subplot xy\"><g class=\"layer-subplot\"><g class=\"shapelayer\"/><g class=\"imagelayer\"/></g><g class=\"minor-gridlayer\"><g class=\"x\"/><g class=\"y\"/></g><g class=\"gridlayer\"><g class=\"x\"><path class=\"xgrid crisp\" transform=\"translate(172.32,0)\" d=\"M0,327.7v168.29999999999998\" style=\"stroke: rgb(255, 255, 255); stroke-opacity: 1; stroke-width: 1px;\"/><path class=\"xgrid crisp\" transform=\"translate(265.11,0)\" d=\"M0,327.7v168.29999999999998\" style=\"stroke: rgb(255, 255, 255); stroke-opacity: 1; stroke-width: 1px;\"/></g><g class=\"y\"><path class=\"ygrid crisp\" transform=\"translate(0,447.23)\" d=\"M80,0h249.60000000000002\" style=\"stroke: rgb(255, 255, 255); stroke-opacity: 1; stroke-width: 1px;\"/><path class=\"ygrid crisp\" transform=\"translate(0,406.79999999999995)\" d=\"M80,0h249.60000000000002\" style=\"stroke: rgb(255, 255, 255); stroke-opacity: 1; stroke-width: 1px;\"/><path class=\"ygrid crisp\" transform=\"translate(0,366.36)\" d=\"M80,0h249.60000000000002\" style=\"stroke: rgb(255, 255, 255); stroke-opacity: 1; stroke-width: 1px;\"/></g></g><g class=\"zerolinelayer\"><path class=\"yzl zl crisp\" transform=\"translate(0,487.66999999999996)\" d=\"M80,0h249.60000000000002\" style=\"stroke: rgb(255, 255, 255); stroke-opacity: 1; stroke-width: 2px;\"/></g><g class=\"layer-between\"><g class=\"shapelayer\"/><g class=\"imagelayer\"/></g><path class=\"xlines-below\"/><path class=\"ylines-below\"/><g class=\"overlines-below\"/><g class=\"xaxislayer-below\"/><g class=\"yaxislayer-below\"/><g class=\"overaxes-below\"/><g class=\"overplot\"><g class=\"xy\" transform=\"translate(80,327.7)\" clip-path=\"url(#clip984421xyplot)\"><g class=\"scatterlayer mlayer\"><g class=\"trace scatter tracef8bb8b\" style=\"stroke-miterlimit: 2; opacity: 1;\"><g class=\"fills\"/><g class=\"errorbars\"/><g class=\"lines\"><path class=\"js-line\" d=\"M0,155.88L0.46,86.88L0.93,129.23L1.86,100.34L2.32,128.95L3.25,8.42L3.71,155.88L4.64,134.18L5.1,142.63L5.57,154.26L6.03,142.52L6.5,125.32L6.96,127.01L7.42,136.78L7.89,159.89L8.35,132.73L8.81,146.93L9.28,127.18L9.74,114.42L10.21,118.53L10.67,119.77L11.13,121.44L11.6,135.02L12.06,72.84L12.53,115.6L12.99,108.44L13.45,114.94L13.92,44.97L14.38,72.94L14.85,115.89L15.31,120.39L15.77,108.62L16.24,153.55L16.7,125.81L17.17,127.45L17.63,51.5L18.56,139.94L19.02,122.26L19.49,135.43L19.95,87.63L20.41,125.06L20.88,108.18L21.34,131.86L21.81,116.61L22.27,118.32L22.73,132.78L23.2,99.22L23.66,105.2L24.12,109.01L24.59,158.27L25.05,128.64L25.52,97.95L25.98,115.31L26.44,85.7L26.91,152.06L27.37,107.5L27.84,98.57L28.3,100.61L28.76,136.47L29.23,124.06L29.69,138.94L30.16,146.61L30.62,138.08L31.55,122.94L32.01,74.44L32.48,151.34L32.94,124.44L33.4,151.07L33.87,127.77L34.33,139.02L34.8,148.1L35.26,147.82L35.72,77.37L36.65,132.95L37.12,93.62L37.58,93.25L38.04,103.25L38.97,153.33L39.43,67.34L39.9,115.65L40.36,113.65L40.83,103.52L41.75,136.76L42.22,137.76L43.15,106.96L43.61,157.07L44.07,152.21L44.54,130.47L45.47,64.74L45.93,159.37L46.39,124.95L46.86,149.4L47.79,106.59L48.25,52.95L48.71,37.27L49.18,119.21L50.11,154.53L50.57,105.09L51.5,124.48L51.96,112.91L52.43,118.64L52.89,87.26L54.28,159.54L54.74,117.38L55.67,82.79L56.14,107.61L56.6,121.29L57.06,116.01L57.53,152.34L57.99,118.09L58.46,125.94L58.92,125.83L59.38,143.18L59.85,124.88L60.31,126.29L60.78,119.87L61.7,156.02L62.17,94.44L63.1,125.65L63.56,101.29L64.02,134.44L64.49,95.37L66.34,128.06L66.81,123.22L67.74,90.31L68.2,135.45L68.66,114.93L69.13,117.19L69.59,146.06L70.98,99.49L71.45,138.98L71.91,115.65L72.37,122.23L72.84,121.9L73.3,123.78L73.77,120.83L74.69,150.5L75.16,97.85L75.62,123.74L76.09,120.89L76.55,90.26L77.48,138.32L77.94,120.7L78.87,126.91L79.33,109.25L79.8,116.06L80.26,81.58L80.73,132.88L81.19,119.34L81.65,113.71L82.12,126.5L82.58,119.97L83.05,78.31L83.97,117.31L84.44,115.35L84.9,118.58L85.37,129.32L86.29,104.57L86.76,118.54L87.22,124.08L87.68,120.19L88.15,123.79L88.61,143.54L89.08,124.91L89.54,130.2L90,125.77L90.47,114.56L90.93,115.59L91.4,119.32L91.86,123.65L92.32,110.91L92.79,145.91L93.25,124.45L93.72,109.48L94.18,119.68L94.64,117.53L95.11,113.76L95.57,112.81L96.04,126.54L96.5,119.88L96.96,125.01L97.43,123.66L97.89,126.89L98.36,125.88L98.82,121.54L99.28,120.99L99.75,118.09L100.21,122.07L100.68,105.77L101.6,123.81L102.07,108.41L102.99,128.83L103.46,121.43L104.39,107.11L104.85,120.12L105.31,120.35L105.78,119.59L106.24,127.25L106.71,120.1L107.17,123.63L107.63,120.3L108.1,116.74L108.56,130.66L109.03,120L109.49,131.08L109.95,121.66L110.42,126.3L110.88,119.29L111.35,120.54L111.81,126.22L112.27,117.47L112.74,120.3L113.2,123.41L113.67,120.79L114.13,122.84L115.52,120.26L115.99,116.28L116.45,111.11L116.91,119.6L117.84,120.11L118.3,114.31L119.23,125.43L119.7,124.89L120.16,116.55L121.09,120.3L121.55,117.68L122.02,118.21L122.48,119.99L123.41,120.32L123.87,117.48L124.34,107.2L124.8,121.27L125.26,122.95L125.73,120.84L126.19,121.67L126.66,120.33L127.12,121.47L127.58,111.53L128.51,126.1L128.98,120.74L129.44,120.7L129.9,118.21L130.83,123.78L131.3,122.78L131.76,120.62L132.22,120.1L132.69,118.09L133.15,120.32L133.61,119.99L134.08,118.39L134.54,120.33L135.01,117.88L135.47,117.96L135.93,120.61L136.4,120.09L136.86,121.37L137.33,120.33L137.79,122.27L138.25,115.88L138.72,120.94L139.18,127.69L139.65,120.19L140.11,121.67L140.57,120.8L141.04,120.32L141.5,115.79L141.97,118.88L142.89,121.42L143.36,120.32L144.29,112.89L144.75,120.44L145.21,118.48L145.68,120.62L146.14,120.32L146.61,120.92L147.07,119.14L147.53,120.2L148,120.33L148.46,121.84L148.92,119.06L149.39,130.96L149.85,121.96L150.32,116.67L150.78,120.32L151.24,121.76L151.71,119.91L152.17,131.65L152.64,120.37L153.1,121.51L153.56,120.68L154.03,120.32L154.96,120.41L155.42,117.79L156.35,124.48L156.81,120.32L157.28,119L157.74,120.8L158.2,120.07L158.67,114.98L159.13,120.41L159.6,119.1L160.06,118.43L161.45,121.07L161.92,119.95L162.38,117.82L162.84,120.28L163.31,118.16L163.77,120.32L164.23,121.31L164.7,119.94L165.16,125.99L165.63,120.29L166.09,120.89L166.55,120.39L167.02,120.32L167.48,120.95L167.95,120.21L168.41,120.27L168.87,127.3L169.8,120.32L170.27,119.57L171.19,120.37L171.66,116.76L172.59,120.48L173.05,120.33L173.51,122.17L173.98,120.67L174.44,120.39L174.91,113.49L175.37,120.31L175.83,120.12L176.3,119.25L177.23,121.91L177.69,120.32L178.15,121.64L178.62,120.32L179.08,121.36L179.54,120.3L180.01,121.39L180.47,120.2L180.94,120.33L181.4,128.62L181.86,120.33L182.33,121.63L182.79,120.32L183.26,119.09L183.72,120.32L184.18,117.43L184.65,120.44L186.5,120.32L186.97,115.46L187.9,120.3L188.36,121.06L188.82,120.35L189.29,128.43L190.22,120.27L190.68,119.78L191.61,120.35L192.07,127.12L192.54,120.31L193,121.32L193.46,120.34L193.93,119.66L194.39,120.36L196.71,120.71L197.17,114.63L197.64,120.37L198.1,120.33L198.57,121.1L199.96,120.24L200.42,120.32L201.81,120.1L202.28,120.33L202.74,124.23L203.21,120.32L203.67,121.03L204.13,120.25L205.06,120.32L205.53,121.08L206.45,120.29L206.92,120.4L207.38,121L207.85,120.33L208.31,115.54L208.77,120.32L210.17,120.38L210.63,121.11L211.56,120.29L212.02,120.32L212.48,119.77L212.95,120.32L213.41,120.93L214.8,120.32L215.27,120.2L216.2,120.26L216.66,119.81L218.05,121.2L218.52,120.78L219.44,120.5L219.91,120.91L220.37,120.32L220.84,116.63L221.76,120.62L222.23,120.51L223.16,120.4L223.62,120.81L224.08,120.32L224.55,118.03L225.01,120.33L225.48,119.94L225.94,120.48L227.79,120.32L228.26,122.68L228.72,120.33L229.19,120.87L229.65,120.59L231.04,120.32L231.51,120.32L231.97,121.38L232.43,120.49L233.36,120.74L233.83,121.22L234.75,119.47L235.22,120.32L236.15,120.39L236.61,120.46L237.07,120.23L237.54,121.49L238.47,117.73L238.93,120.33L241.25,119.6L241.71,120.32L242.18,118.95L242.64,120.34L244.5,120.93L244.96,118.28L245.89,122.43L246.35,120.33L248.21,120.2L248.67,124.06L249.6,120.33\" style=\"vector-effect: none; fill: none; stroke: rgb(99, 110, 250); stroke-opacity: 1; stroke-width: 2px; opacity: 1;\"/></g><g class=\"points\"/><g class=\"text\"/></g></g></g></g><path class=\"xlines-above crisp\" d=\"M0,0\" style=\"fill: none;\"/><path class=\"ylines-above crisp\" d=\"M0,0\" style=\"fill: none;\"/><g class=\"overlines-above\"/><g class=\"xaxislayer-above\"><g class=\"xtick\"><text text-anchor=\"middle\" x=\"0\" y=\"509\" transform=\"translate(172.32,0)\" style=\"font-family: 'Open Sans', verdana, arial, sans-serif; font-size: 12px; fill: rgb(42, 63, 95); fill-opacity: 1; white-space: pre; opacity: 1;\">200</text></g><g class=\"xtick\"><text text-anchor=\"middle\" x=\"0\" y=\"509\" style=\"font-family: 'Open Sans', verdana, arial, sans-serif; font-size: 12px; fill: rgb(42, 63, 95); fill-opacity: 1; white-space: pre; opacity: 1;\" transform=\"translate(265.11,0)\">400</text></g></g><g class=\"yaxislayer-above\"><g class=\"ytick\"><text text-anchor=\"end\" x=\"79\" y=\"4.199999999999999\" transform=\"translate(0,487.66999999999996)\" style=\"font-family: 'Open Sans', verdana, arial, sans-serif; font-size: 12px; fill: rgb(42, 63, 95); fill-opacity: 1; white-space: pre; opacity: 1;\">0</text></g><g class=\"ytick\"><text text-anchor=\"end\" x=\"79\" y=\"4.199999999999999\" style=\"font-family: 'Open Sans', verdana, arial, sans-serif; font-size: 12px; fill: rgb(42, 63, 95); fill-opacity: 1; white-space: pre; opacity: 1;\" transform=\"translate(0,447.23)\">0.05</text></g><g class=\"ytick\"><text text-anchor=\"end\" x=\"79\" y=\"4.199999999999999\" style=\"font-family: 'Open Sans', verdana, arial, sans-serif; font-size: 12px; fill: rgb(42, 63, 95); fill-opacity: 1; white-space: pre; opacity: 1;\" transform=\"translate(0,406.79999999999995)\">0.1</text></g><g class=\"ytick\"><text text-anchor=\"end\" x=\"79\" y=\"4.199999999999999\" style=\"font-family: 'Open Sans', verdana, arial, sans-serif; font-size: 12px; fill: rgb(42, 63, 95); fill-opacity: 1; white-space: pre; opacity: 1;\" transform=\"translate(0,366.36)\">0.15</text></g></g><g class=\"overaxes-above\"/></g><g class=\"subplot x2y2\"><g class=\"layer-subplot\"><g class=\"shapelayer\"/><g class=\"imagelayer\"/></g><g class=\"minor-gridlayer\"><g class=\"x2\"/><g class=\"y2\"/></g><g class=\"gridlayer\"><g class=\"x2\"><path class=\"x2grid crisp\" transform=\"translate(479.52,0)\" d=\"M0,327.7v168.29999999999998\" style=\"stroke: rgb(255, 255, 255); stroke-opacity: 1; stroke-width: 1px;\"/><path class=\"x2grid crisp\" transform=\"translate(572.31,0)\" d=\"M0,327.7v168.29999999999998\" style=\"stroke: rgb(255, 255, 255); stroke-opacity: 1; stroke-width: 1px;\"/></g><g class=\"y2\"><path class=\"y2grid crisp\" transform=\"translate(0,411.59)\" d=\"M387.2,0h249.60000000000002\" style=\"stroke: rgb(255, 255, 255); stroke-opacity: 1; stroke-width: 1px;\"/><path class=\"y2grid crisp\" transform=\"translate(0,335.57)\" d=\"M387.2,0h249.60000000000002\" style=\"stroke: rgb(255, 255, 255); stroke-opacity: 1; stroke-width: 1px;\"/></g></g><g class=\"zerolinelayer\"><path class=\"y2zl zl crisp\" transform=\"translate(0,487.6)\" d=\"M387.2,0h249.60000000000002\" style=\"stroke: rgb(255, 255, 255); stroke-opacity: 1; stroke-width: 2px;\"/></g><g class=\"layer-between\"><g class=\"shapelayer\"/><g class=\"imagelayer\"/></g><path class=\"xlines-below\"/><path class=\"ylines-below\"/><g class=\"overlines-below\"/><g class=\"xaxislayer-below\"/><g class=\"yaxislayer-below\"/><g class=\"overaxes-below\"/><g class=\"overplot\"><g class=\"x2y2\" transform=\"translate(387.2,327.7)\" clip-path=\"url(#clip984421x2y2plot)\"><g class=\"scatterlayer mlayer\"><g class=\"trace scatter trace661091\" style=\"stroke-miterlimit: 2; opacity: 1;\"><g class=\"fills\"/><g class=\"errorbars\"/><g class=\"lines\"><path class=\"js-line\" d=\"M0,159.88L0.93,57.35L1.39,81.01L2.32,134.34L2.78,38.13L3.71,159.88L4.18,98.99L4.64,147.22L5.1,130.57L5.57,133.29L6.03,154.22L6.5,39.5L6.96,157.05L7.42,136.09L7.89,85.31L8.81,112.12L9.28,88.48L9.74,60.96L10.21,74.66L10.67,80.84L11.13,29.32L11.6,66.08L12.06,71.3L12.53,19.32L13.92,57.63L14.38,57.77L15.31,113.16L15.77,88.36L16.24,113.98L16.7,56L17.17,57.88L17.63,131.57L18.09,121.45L18.56,82.38L19.02,151.66L19.49,122.85L19.95,54.67L20.88,154.57L21.34,114.42L21.81,144.25L22.27,85.47L22.73,150.4L23.2,30.18L24.12,40.91L24.59,150.2L25.05,91.41L25.52,128.03L26.44,20.41L26.91,38.88L27.37,25.55L27.84,79.92L28.3,66.62L28.76,23.68L29.23,104.23L29.69,76.67L30.16,111.01L30.62,45.13L31.08,106.63L31.55,158.01L32.01,77.72L32.48,65.9L32.94,144.84L33.4,133.71L33.87,147.82L34.33,117.36L34.8,12.5L36.19,155.55L36.65,111.96L37.12,49.28L37.58,78.96L38.04,100.32L38.51,135.42L38.97,89.27L39.43,125.48L39.9,71.56L40.36,71.8L40.83,135.57L41.75,80.34L42.22,84.15L42.68,11.58L43.15,68.43L43.61,158.97L44.07,125.1L44.54,75.51L45,96.45L45.47,83.07L45.93,75.06L46.39,8.42L46.86,85.85L47.32,34.94L47.79,111.44L48.25,77.07L48.71,96.47L49.18,151.99L49.64,144.07L50.11,97.81L51.03,19.04L51.5,95.51L51.96,154.03L52.43,24.08L52.89,30.82L53.35,102.48L54.28,139.21L54.74,107.65L55.21,134.04L55.67,51.22L56.14,134.12L56.6,47.82L57.53,157.71L57.99,45.63L58.92,155.09L59.38,71.4L60.78,133.28L61.24,46.16L61.7,122.21L62.17,93.21L62.63,143.61L63.56,87.9L64.02,119.39L64.49,15.46L64.95,130.72L65.42,154.88L65.88,119.73L66.34,101.45L66.81,107.84L67.27,155.84L67.74,67.63L68.2,85.71L68.66,72.34L69.59,149.04L70.06,116.38L70.98,141.04L71.45,138.73L71.91,53.47L72.84,120.07L73.3,120.05L73.77,116.79L74.23,134.83L74.69,154.03L75.16,81.98L76.09,158.16L76.55,35.45L77.01,120.52L77.48,48.78L77.94,35.64L78.41,111.27L78.87,148.6L79.33,106.6L79.8,111.14L80.26,31.97L80.73,133.79L81.19,113.66L81.65,156.91L82.12,149.96L82.58,107.24L83.05,136.85L83.51,136.45L83.97,78.09L84.9,159.64L85.37,41.79L85.83,139.14L86.29,133.36L86.76,146.68L87.22,147.05L87.68,158.95L89.08,59.78L89.54,107.76L90,81.81L90.47,149.43L90.93,122.29L91.4,154.11L92.32,33.89L92.79,38.74L93.25,36.52L94.18,156.52L94.64,143.59L95.11,87.67L95.57,132.25L96.04,128.47L96.5,112.04L96.96,148.73L97.43,142.93L97.89,121.44L98.82,74.12L99.28,28.81L100.21,152.36L100.68,112.46L101.14,157.96L101.6,104.1L102.07,113.68L102.53,53.94L103.46,82.94L103.92,159.01L104.39,112.41L104.85,157.02L105.31,80.88L105.78,132.29L106.24,122.67L106.71,132.93L107.63,159.2L108.1,71.85L109.03,141.44L109.49,67.57L110.88,152.57L111.35,119.27L111.81,156.92L112.27,146.02L112.74,159.04L113.2,142.54L113.67,98.27L114.13,128.42L114.59,88.16L115.06,158.68L115.52,158.25L115.99,95L116.45,12.18L116.91,127.86L117.38,121.51L117.84,132.12L118.3,14.8L118.77,158.16L119.23,104.45L119.7,144.81L120.16,140.21L120.62,159.63L121.09,159.61L121.55,129.24L122.94,157.2L123.41,159.75L124.34,56.62L124.8,83.81L125.73,149.6L126.19,157.03L126.66,159.7L127.12,72.33L127.58,80.65L128.05,54.8L129.44,158.68L129.9,50.55L130.37,159.73L130.83,87.82L131.3,146.67L131.76,145.4L132.22,157.45L132.69,26.05L133.15,159.78L133.61,159.04L134.08,133.59L134.54,159.78L135.01,68.66L135.47,73.39L135.93,53.16L136.4,159.79L136.86,156.68L137.33,159.74L137.79,129.65L138.25,19.9L139.18,138.58L139.65,158.44L140.11,157.78L140.57,154.03L141.04,159.73L141.5,100.36L142.43,158.01L142.89,86.14L143.36,159.8L143.82,125.77L144.29,141.87L145.21,159.65L145.68,125.99L146.14,159.85L146.61,79.66L148,159.72L148.46,134.9L149.85,158.72L150.32,152.44L150.78,159.61L151.24,152L151.71,33.6L152.17,146.47L153.1,159.63L153.56,124.84L154.03,159.78L154.49,132.67L154.96,13.87L155.42,158.86L155.88,157.76L156.35,110.17L156.81,159.82L157.28,82.67L157.74,36.9L158.2,136.32L159.13,159.24L159.6,158.84L160.06,118.3L160.52,159.69L161.45,89.96L161.92,132.4L162.84,158.69L163.31,144.45L163.77,159.68L164.23,157.59L164.7,148.88L165.16,145.88L165.63,158.38L166.09,159.53L166.55,146.49L167.02,159.76L167.48,140.44L167.95,87.18L168.41,158.05L168.87,156.2L169.34,159.44L169.8,159.79L170.27,36.02L170.73,27.7L171.19,152.25L171.66,159.54L172.12,158.42L172.59,145.26L173.05,159.74L173.51,26.94L174.44,152.85L174.91,140.08L175.37,159.74L175.83,157.41L176.3,133.7L176.76,159.69L177.23,85.07L177.69,155.8L178.15,131.5L178.62,159.28L179.08,125.03L179.54,159.74L180.01,142.74L180.47,78.92L180.94,159.05L181.4,144.71L181.86,159.7L182.33,143.54L182.79,159.78L183.72,101.7L184.18,151.51L185.11,159.65L185.58,47.75L186.5,146.06L186.97,119.27L187.9,159.68L188.36,121.54L188.82,154.32L189.29,117.64L190.22,159.31L190.68,145.56L191.14,159.84L191.61,158.94L192.07,159.37L192.54,159.44L193,123.56L193.46,159.85L193.93,80.11L194.86,159.87L195.32,157.64L195.78,159.78L196.25,37.62L197.17,145.36L197.64,156.64L198.1,159.58L198.57,141.59L199.03,92.12L199.49,154.74L199.96,106.46L200.42,159.85L200.89,159.23L201.35,159.7L201.81,109.94L202.28,158.57L202.74,153.77L203.21,159.54L203.67,111.8L204.13,159.89L204.6,146.38L205.06,159.76L205.53,158.22L205.99,77.55L206.45,159.69L206.92,19.04L207.85,157.9L208.31,97.42L208.77,159.85L209.24,156.81L209.7,152.69L210.17,159.66L210.63,141.07L211.09,157.43L211.56,152.41L212.02,159.8L212.48,158.04L212.95,159.65L213.41,63.87L213.88,133.11L214.8,159.67L215.27,159.46L215.73,96.49L216.2,159.71L216.66,88.73L217.12,159.87L217.59,159.67L218.05,157.95L218.52,125.15L218.98,159.78L219.44,99.84L219.91,139.92L220.37,159.66L220.84,147.41L221.3,159.75L221.76,157.63L222.23,149.93L222.69,159.76L223.16,47.77L223.62,159.69L224.08,159.54L224.55,127.13L225.01,159.8L225.48,157.76L225.94,100.2L226.4,159.66L226.87,60.67L227.79,159.59L228.26,149.29L229.19,159.85L229.65,58.49L230.11,159.62L230.58,155.11L231.04,159.79L231.51,159.67L231.97,158.23L232.43,136.38L232.9,159.81L233.36,148.14L233.83,106.33L234.29,159.86L234.75,136.18L235.22,159.71L235.68,156.43L236.15,157L236.61,159.87L237.07,151.2L237.54,122.15L238,159.41L238.47,110.58L238.93,159.85L239.39,158.91L239.86,63.59L240.32,159.64L240.79,152.57L241.25,150.6L241.71,159.46L242.18,149.76L243.1,159.79L243.57,11.65L244.03,159.51L244.5,156.49L244.96,111.29L245.42,159.74L245.89,155.74L246.35,159.66L246.82,115.19L247.28,159.88L247.74,158.93L248.21,129.55L249.14,159.67L249.6,159.37\" style=\"vector-effect: none; fill: none; stroke: rgb(239, 85, 59); stroke-opacity: 1; stroke-width: 2px; opacity: 1;\"/></g><g class=\"points\"/><g class=\"text\"/></g></g></g></g><path class=\"xlines-above crisp\" d=\"M0,0\" style=\"fill: none;\"/><path class=\"ylines-above crisp\" d=\"M0,0\" style=\"fill: none;\"/><g class=\"overlines-above\"/><g class=\"xaxislayer-above\"><g class=\"x2tick\"><text text-anchor=\"middle\" x=\"0\" y=\"509\" transform=\"translate(479.52,0)\" style=\"font-family: 'Open Sans', verdana, arial, sans-serif; font-size: 12px; fill: rgb(42, 63, 95); fill-opacity: 1; white-space: pre; opacity: 1;\">200</text></g><g class=\"x2tick\"><text text-anchor=\"middle\" x=\"0\" y=\"509\" style=\"font-family: 'Open Sans', verdana, arial, sans-serif; font-size: 12px; fill: rgb(42, 63, 95); fill-opacity: 1; white-space: pre; opacity: 1;\" transform=\"translate(572.31,0)\">400</text></g></g><g class=\"yaxislayer-above\"><g class=\"y2tick\"><text text-anchor=\"end\" x=\"386.2\" y=\"4.199999999999999\" transform=\"translate(0,487.6)\" style=\"font-family: 'Open Sans', verdana, arial, sans-serif; font-size: 12px; fill: rgb(42, 63, 95); fill-opacity: 1; white-space: pre; opacity: 1;\">0</text></g><g class=\"y2tick\"><text text-anchor=\"end\" x=\"386.2\" y=\"4.199999999999999\" style=\"font-family: 'Open Sans', verdana, arial, sans-serif; font-size: 12px; fill: rgb(42, 63, 95); fill-opacity: 1; white-space: pre; opacity: 1;\" transform=\"translate(0,411.59)\">0.5</text></g><g class=\"y2tick\"><text text-anchor=\"end\" x=\"386.2\" y=\"4.199999999999999\" style=\"font-family: 'Open Sans', verdana, arial, sans-serif; font-size: 12px; fill: rgb(42, 63, 95); fill-opacity: 1; white-space: pre; opacity: 1;\" transform=\"translate(0,335.57)\">1</text></g></g><g class=\"overaxes-above\"/></g><g class=\"subplot x3y3\"><g class=\"layer-subplot\"><g class=\"shapelayer\"/><g class=\"imagelayer\"/></g><g class=\"minor-gridlayer\"><g class=\"x3\"/><g class=\"y3\"/></g><g class=\"gridlayer\"><g class=\"x3\"><path class=\"x3grid crisp\" transform=\"translate(786.72,0)\" d=\"M0,327.7v168.29999999999998\" style=\"stroke: rgb(255, 255, 255); stroke-opacity: 1; stroke-width: 1px;\"/><path class=\"x3grid crisp\" transform=\"translate(879.51,0)\" d=\"M0,327.7v168.29999999999998\" style=\"stroke: rgb(255, 255, 255); stroke-opacity: 1; stroke-width: 1px;\"/></g><g class=\"y3\"><path class=\"y3grid crisp\" transform=\"translate(0,410.01)\" d=\"M694.4,0h249.59999999999997\" style=\"stroke: rgb(255, 255, 255); stroke-opacity: 1; stroke-width: 1px;\"/><path class=\"y3grid crisp\" transform=\"translate(0,332.40999999999997)\" d=\"M694.4,0h249.59999999999997\" style=\"stroke: rgb(255, 255, 255); stroke-opacity: 1; stroke-width: 1px;\"/></g></g><g class=\"zerolinelayer\"><path class=\"y3zl zl crisp\" transform=\"translate(0,487.61)\" d=\"M694.4,0h249.59999999999997\" style=\"stroke: rgb(255, 255, 255); stroke-opacity: 1; stroke-width: 2px;\"/></g><g class=\"layer-between\"><g class=\"shapelayer\"/><g class=\"imagelayer\"/></g><path class=\"xlines-below\"/><path class=\"ylines-below\"/><g class=\"overlines-below\"/><g class=\"xaxislayer-below\"/><g class=\"yaxislayer-below\"/><g class=\"overaxes-below\"/><g class=\"overplot\"><g class=\"x3y3\" transform=\"translate(694.4,327.7)\" clip-path=\"url(#clip984421x3y3plot)\"><g class=\"scatterlayer mlayer\"><g class=\"trace scatter trace8b475b\" style=\"stroke-miterlimit: 2; opacity: 1;\"><g class=\"fills\"/><g class=\"errorbars\"/><g class=\"lines\"><path class=\"js-line\" d=\"M0,159.89L1.39,72.28L1.86,34.5L2.32,149.97L2.78,103.09L3.25,66.62L3.71,159.88L4.18,114.2L4.64,111.91L6.03,151.5L6.5,135.41L6.96,69.86L7.42,92.73L7.89,77.56L9.28,19.29L9.74,31.14L10.21,39L10.67,90.99L11.13,39.77L11.6,44.58L12.06,64.22L12.53,59.17L12.99,95.69L14.38,67.85L14.85,91.68L15.31,95.29L15.77,94.97L16.24,133L17.17,143.43L17.63,91.2L18.09,110.41L18.56,92.18L19.02,109.94L19.49,63.47L19.95,109.87L20.41,92.81L20.88,94.91L21.34,104.15L21.81,92.36L22.73,68.73L23.2,8.41L24.12,92.05L24.59,79.03L25.05,39.95L25.52,92.29L25.98,61.26L26.44,110.67L26.91,26.78L27.37,42.31L27.84,126.53L28.3,77.89L28.76,91.76L29.23,102.71L30.16,43.97L30.62,88.26L31.08,150.38L31.55,87.84L32.01,78.97L32.48,93.62L32.94,111.49L33.4,54.57L34.33,140.45L34.8,122.9L35.26,89.06L35.72,90.38L36.19,90.45L37.12,55.38L37.58,98.59L38.04,71.65L38.51,90.31L38.97,53.03L39.43,91.6L39.9,84.66L40.36,100.67L41.75,47.22L42.22,93.99L42.68,113.2L43.15,69.52L43.61,17.95L44.07,84L44.54,102.02L45,95.81L45.47,86.74L46.39,109.18L46.86,55.87L47.32,122.32L47.79,97.06L48.25,68.68L49.64,112.13L50.11,96.31L50.57,90.53L51.03,123.29L51.5,49.02L51.96,126.8L52.89,89.46L53.35,110.69L54.28,62.58L54.74,85.95L55.21,61.16L55.67,123.69L56.14,81.66L56.6,94.3L57.06,89.68L57.53,90.81L57.99,93.99L58.46,45.87L58.92,96.19L59.85,73.72L60.31,90.55L60.78,94.83L61.24,56.5L62.63,104.01L63.1,91.62L63.56,77.76L64.02,99.04L64.49,104.54L64.95,89.52L65.42,104.17L65.88,91.31L66.34,93.52L66.81,91.6L67.74,111.84L68.2,89.16L68.66,97.37L69.13,90.32L69.59,15.5L70.06,91.71L70.52,93.16L70.98,76.79L71.45,113.33L71.91,87.67L72.37,89.22L72.84,107.08L74.23,55.83L74.69,100.35L75.62,86.26L76.09,91.02L76.55,122.52L77.01,87.48L77.48,55.4L77.94,97.23L78.87,92.22L79.33,47.83L80.26,94.28L80.73,84.38L81.19,96.63L81.65,91.45L82.12,22.78L82.58,91.84L83.05,91.74L83.51,117.33L83.97,80.82L84.44,95.06L84.9,90.84L85.37,145.46L85.83,92.07L86.29,95.33L86.76,94.15L87.22,90.35L87.68,91.91L88.15,90.03L89.08,63.11L89.54,100.94L90.47,90.58L90.93,111L92.32,79.25L92.79,78.89L93.25,97.49L93.72,92.66L94.18,91.9L94.64,91.33L95.11,87.21L95.57,138.65L96.04,70.63L96.5,92.43L96.96,64.6L97.89,123.58L98.36,74.63L99.75,96.95L100.21,89.71L100.68,119.6L101.14,91.94L101.6,91.19L102.07,68.6L103.46,91.47L103.92,93.29L104.39,44.91L104.85,91.96L106.24,87.8L106.71,91.53L107.17,27.18L107.63,91.91L108.1,89.32L108.56,96.35L109.03,84.01L109.49,129.33L109.95,93.19L110.42,93.95L110.88,87.86L111.35,93.73L111.81,89.84L112.27,115.84L112.74,91.95L113.2,91.51L113.67,88.55L114.13,88.21L114.59,94.26L115.99,88.26L116.45,58.89L116.91,91.3L117.38,89.15L117.84,96.24L118.3,22.16L118.77,91.95L119.23,88.06L119.7,60.72L120.62,90.39L121.09,91.94L121.55,93.09L122.02,92.07L122.94,90.48L123.41,91.94L124.34,105.43L124.8,84.02L126.19,93.34L126.66,91.94L127.12,92.96L127.58,98.08L128.05,87.35L128.51,92.8L128.98,83.48L129.44,91L129.9,81.63L130.37,91.94L130.83,88.73L131.3,76.2L131.76,90.65L132.22,85.21L132.69,58.78L133.15,91.94L133.61,89.78L134.08,82.53L135.47,99.87L135.93,82.36L136.86,92.38L137.33,91.94L137.79,93.64L138.25,108.94L138.72,82.58L139.18,92.12L139.65,92.27L140.11,91.83L140.57,97.36L141.04,91.94L141.5,102.23L142.89,72.71L143.36,91.94L143.82,86.04L144.29,89.16L144.75,85.84L145.21,90.38L145.68,87.48L146.61,93.76L147.07,91.93L147.53,91.02L148,91.94L148.46,97.03L148.92,87.66L149.39,93.08L149.85,92.29L150.32,94.28L150.78,91.94L151.24,92.74L151.71,102.87L152.17,89.7L152.64,90.73L153.1,91.65L153.56,90.68L154.03,91.94L154.49,89.14L154.96,100.52L155.88,79.89L156.35,89.17L157.28,93.12L157.74,85.98L158.2,98.32L158.67,91.79L159.13,91.77L160.06,90.81L160.52,91.94L160.99,95.04L161.45,76.16L162.38,91.93L162.84,92.35L163.77,91.94L164.23,93.17L164.7,86.77L165.16,89.77L165.63,89.9L166.09,93.02L166.55,91.77L167.02,91.94L167.48,91.09L167.95,95.47L168.41,88.54L168.87,89.66L169.34,86.33L170.27,95.2L170.73,89.55L171.66,91.78L172.12,91.52L173.05,91.94L173.51,91.61L173.98,85.77L174.44,95.05L175.83,90.84L176.3,92.47L177.69,90.21L178.15,88.99L178.62,95.7L179.08,92.49L179.54,91.94L180.01,92.48L180.47,94.72L180.94,89.59L181.4,90.73L181.86,93.05L182.79,91.94L183.26,94.3L183.72,81.48L184.18,93.42L184.65,91.79L185.11,91.94L185.58,92.05L186.04,84.76L186.5,92.69L186.97,92.84L187.43,91.16L187.9,91.94L188.36,90.17L188.82,92.28L189.29,89.67L189.75,93.8L190.22,91.84L190.68,92.21L191.61,90.83L192.07,88.3L192.54,93.91L193,91.8L193.46,91.94L193.93,97.69L194.39,86.31L194.86,92.55L195.32,91.08L195.78,91.94L196.25,96.44L196.71,78.1L197.64,91.63L198.1,91.94L199.03,93.51L199.49,91.69L199.96,88.53L200.42,91.94L201.35,91.94L201.81,96.15L202.74,91.03L203.21,92.73L204.13,91.94L204.6,84.7L205.06,92.53L205.53,90.85L205.99,91.88L206.45,91.94L206.92,93.48L207.38,79.82L207.85,91.37L208.31,86.74L208.77,92.31L209.7,91.93L210.17,91.94L210.63,93.41L211.09,92.13L211.56,89.63L212.02,91.59L212.48,90.89L212.95,91.94L213.41,93.07L213.88,96.27L215.27,90.75L215.73,92.06L216.2,91.94L216.66,78.75L217.59,92.81L218.05,92.57L219.44,92.06L219.91,100.65L220.37,92.13L220.84,92.17L221.3,91.5L221.76,93.08L222.23,92.11L222.69,91.94L223.16,92.12L223.62,105.39L224.55,90.29L225.01,90.36L225.48,92.53L225.94,91.86L226.4,91.94L226.87,95L227.33,67.95L227.79,91.78L228.26,89.45L228.72,91.93L229.19,92.77L229.65,91.86L230.11,91.94L230.58,43.9L231.51,92.9L231.97,91.9L232.9,91.94L233.36,90.28L233.83,84.59L234.29,92.72L234.75,89.14L235.22,91.8L235.68,93.25L236.15,92.05L236.61,91.94L237.07,88.14L237.54,127.48L238,92.36L238.47,94.51L238.93,90.77L239.39,93.45L239.86,91.81L240.32,91.94L241.25,94.51L241.71,91.62L242.18,95.32L242.64,92.63L244.03,91.94L244.5,89.81L244.96,42.37L245.42,91.4L246.35,94.48L246.82,91.97L247.28,92.1L247.74,89.58L248.21,135.28L248.67,92.75L249.14,89.46L249.6,92.45\" style=\"vector-effect: none; fill: none; stroke: rgb(0, 204, 150); stroke-opacity: 1; stroke-width: 2px; opacity: 1;\"/></g><g class=\"points\"/><g class=\"text\"/></g></g></g></g><path class=\"xlines-above crisp\" d=\"M0,0\" style=\"fill: none;\"/><path class=\"ylines-above crisp\" d=\"M0,0\" style=\"fill: none;\"/><g class=\"overlines-above\"/><g class=\"xaxislayer-above\"><g class=\"x3tick\"><text text-anchor=\"middle\" x=\"0\" y=\"509\" transform=\"translate(786.72,0)\" style=\"font-family: 'Open Sans', verdana, arial, sans-serif; font-size: 12px; fill: rgb(42, 63, 95); fill-opacity: 1; white-space: pre; opacity: 1;\">200</text></g><g class=\"x3tick\"><text text-anchor=\"middle\" x=\"0\" y=\"509\" style=\"font-family: 'Open Sans', verdana, arial, sans-serif; font-size: 12px; fill: rgb(42, 63, 95); fill-opacity: 1; white-space: pre; opacity: 1;\" transform=\"translate(879.51,0)\">400</text></g></g><g class=\"yaxislayer-above\"><g class=\"y3tick\"><text text-anchor=\"end\" x=\"693.4\" y=\"4.199999999999999\" transform=\"translate(0,487.61)\" style=\"font-family: 'Open Sans', verdana, arial, sans-serif; font-size: 12px; fill: rgb(42, 63, 95); fill-opacity: 1; white-space: pre; opacity: 1;\">0</text></g><g class=\"y3tick\"><text text-anchor=\"end\" x=\"693.4\" y=\"4.199999999999999\" style=\"font-family: 'Open Sans', verdana, arial, sans-serif; font-size: 12px; fill: rgb(42, 63, 95); fill-opacity: 1; white-space: pre; opacity: 1;\" transform=\"translate(0,410.01)\">0.5</text></g><g class=\"y3tick\"><text text-anchor=\"end\" x=\"693.4\" y=\"4.199999999999999\" style=\"font-family: 'Open Sans', verdana, arial, sans-serif; font-size: 12px; fill: rgb(42, 63, 95); fill-opacity: 1; white-space: pre; opacity: 1;\" transform=\"translate(0,332.40999999999997)\">1</text></g></g><g class=\"overaxes-above\"/></g><g class=\"subplot x4y4\"><g class=\"layer-subplot\"><g class=\"shapelayer\"/><g class=\"imagelayer\"/></g><g class=\"minor-gridlayer\"><g class=\"x4\"/><g class=\"y4\"/></g><g class=\"gridlayer\"><g class=\"x4\"><path class=\"x4grid crisp\" transform=\"translate(172.32,0)\" d=\"M0,100v168.3\" style=\"stroke: rgb(255, 255, 255); stroke-opacity: 1; stroke-width: 1px;\"/><path class=\"x4grid crisp\" transform=\"translate(265.11,0)\" d=\"M0,100v168.3\" style=\"stroke: rgb(255, 255, 255); stroke-opacity: 1; stroke-width: 1px;\"/></g><g class=\"y4\"><path class=\"y4grid crisp\" transform=\"translate(0,243.93)\" d=\"M80,0h249.60000000000002\" style=\"stroke: rgb(255, 255, 255); stroke-opacity: 1; stroke-width: 1px;\"/><path class=\"y4grid crisp\" transform=\"translate(0,209.9)\" d=\"M80,0h249.60000000000002\" style=\"stroke: rgb(255, 255, 255); stroke-opacity: 1; stroke-width: 1px;\"/><path class=\"y4grid crisp\" transform=\"translate(0,175.87)\" d=\"M80,0h249.60000000000002\" style=\"stroke: rgb(255, 255, 255); stroke-opacity: 1; stroke-width: 1px;\"/><path class=\"y4grid crisp\" transform=\"translate(0,141.84)\" d=\"M80,0h249.60000000000002\" style=\"stroke: rgb(255, 255, 255); stroke-opacity: 1; stroke-width: 1px;\"/><path class=\"y4grid crisp\" transform=\"translate(0,107.81)\" d=\"M80,0h249.60000000000002\" style=\"stroke: rgb(255, 255, 255); stroke-opacity: 1; stroke-width: 1px;\"/></g></g><g class=\"zerolinelayer\"/><g class=\"layer-between\"><g class=\"shapelayer\"/><g class=\"imagelayer\"/></g><path class=\"xlines-below\"/><path class=\"ylines-below\"/><g class=\"overlines-below\"/><g class=\"xaxislayer-below\"/><g class=\"yaxislayer-below\"/><g class=\"overaxes-below\"/><g class=\"overplot\"><g class=\"x4y4\" transform=\"translate(80,100)\" clip-path=\"url(#clip984421x4y4plot)\"><g class=\"scatterlayer mlayer\"><g class=\"trace scatter trace50de56\" style=\"stroke-miterlimit: 2; opacity: 1;\"><g class=\"fills\"/><g class=\"errorbars\"/><g class=\"lines\"><path class=\"js-line\" d=\"M0,128.34L0.46,104.99L0.93,106.51L1.39,30.02L2.78,159.89L3.25,74.48L3.71,127.59L4.18,124.8L4.64,125.52L5.1,46.9L5.57,128.38L6.03,119.59L6.5,157.78L7.89,54.83L8.35,107.54L9.28,33.1L9.74,48.69L10.67,11.53L11.13,71.07L11.6,18.27L12.06,30.75L12.53,12.4L12.99,17.12L13.45,13.19L13.92,126.76L14.38,60.97L14.85,14.68L16.24,52.57L16.7,14.75L17.17,109.37L17.63,22.06L18.09,80.49L18.56,14.61L19.02,37.64L19.49,36.4L19.95,17.07L20.41,10.17L20.88,10.51L21.34,24.91L21.81,37.83L22.27,32.7L22.73,36.09L23.2,21.88L23.66,41.39L24.12,73.32L24.59,63.24L25.05,13.69L25.52,33.61L25.98,29.13L26.44,27.42L26.91,34.09L27.37,20.66L27.84,134.29L28.3,26.53L28.76,20.26L29.23,32.15L30.16,39.26L30.62,8.41L31.08,108.22L31.55,29.11L32.01,51.87L32.48,24.16L33.4,35.9L33.87,30.6L34.8,102.61L35.26,45.33L35.72,26.7L36.19,36.06L36.65,33.34L37.58,25.82L38.04,84.15L39.43,11.9L39.9,31.83L40.36,32.02L40.83,127.03L41.75,23.54L42.22,23.8L42.68,30.82L43.15,32.28L43.61,38.45L44.07,41.12L44.54,153.32L45.93,27.74L46.39,34.82L46.86,35.14L47.32,103.89L47.79,23.7L48.25,50.81L48.71,10.82L49.18,36.14L49.64,34.7L50.11,29.41L50.57,25.49L51.03,75.48L51.96,32L52.43,31.96L52.89,17.67L53.35,33.08L53.82,17.94L54.28,28.11L54.74,35.85L55.21,30.07L55.67,40.4L56.14,29.63L56.6,31.04L57.06,69.59L57.99,35.72L58.46,35.99L58.92,40.54L59.38,18.77L59.85,30.09L60.31,20.07L60.78,36.18L61.24,34.53L61.7,39.47L62.17,9.46L62.63,36.58L63.1,90.87L63.56,37.95L64.49,26.11L64.95,32.39L65.42,39.15L65.88,22.43L66.34,30.69L66.81,21.45L67.74,28.01L68.2,55.03L69.13,29.38L69.59,33.22L70.06,56.13L70.52,35.91L70.98,32.32L71.45,39.16L71.91,52.01L72.37,29.82L72.84,43.49L73.3,18.05L74.23,38.92L74.69,35.81L75.16,40.95L75.62,35.08L76.09,93.74L76.55,50.39L77.48,34.14L77.94,31.67L78.41,28.2L78.87,59.87L80.26,23.02L80.73,66.88L81.19,33.94L81.65,41.79L82.12,29.9L82.58,55.28L83.05,20.91L83.51,35.42L83.97,79.69L84.9,29.29L85.37,33.44L85.83,44.88L86.29,43.44L86.76,36.1L87.22,26.98L87.68,46.75L88.15,68.27L88.61,44.18L89.08,49L89.54,38.73L90.47,72.51L90.93,36.63L91.86,52.75L92.32,47.33L92.79,98.89L93.25,52.54L93.72,18.15L94.18,46.78L95.11,23.41L95.57,33.59L96.04,113.68L96.5,20L96.96,60.87L97.43,18.06L97.89,62.21L98.36,45.35L98.82,38.18L99.28,25.44L99.75,44.32L100.68,55.01L101.14,47.46L101.6,59.63L102.07,44.61L102.53,46.89L102.99,28.86L103.46,56.4L103.92,42.55L104.39,43.13L104.85,47.76L105.31,41.28L106.24,64.9L106.71,48.86L107.17,38.98L107.63,47.62L108.1,24.64L108.56,32.69L109.03,66.13L109.95,27.16L110.42,33.28L110.88,49.07L111.81,31.61L112.27,53.43L112.74,48L113.2,33.88L113.67,48.7L114.13,39.76L114.59,34.19L115.06,36.92L115.52,48.19L115.99,71.35L116.45,38.77L117.38,79.54L117.84,43L118.3,15.83L118.77,48.01L119.7,33.02L120.16,76.25L121.55,13.96L122.02,19.15L122.48,50.65L122.94,46.99L123.41,47.87L123.87,63.88L124.34,51.68L124.8,50.61L125.26,98.09L126.19,51.46L126.66,47.89L127.12,56.21L127.58,45.27L128.05,48.54L128.51,124.25L129.44,48.22L129.9,41.44L130.37,47.89L130.83,37.33L131.3,41.39L131.76,68.25L132.69,39.53L133.15,47.84L134.08,45.87L134.54,47.86L135.01,58.03L135.47,38.98L135.93,50.53L136.4,47.63L136.86,49.12L137.33,47.9L137.79,42.27L138.72,51.13L139.18,88.92L139.65,48.11L140.11,49.17L140.57,49.53L141.04,47.88L141.5,48.35L141.97,104.69L142.89,44.6L143.36,47.86L144.29,20.03L144.75,48.02L145.21,47.2L145.68,42.65L146.61,51.91L147.07,49.1L147.53,47.53L148,47.9L148.46,55.03L148.92,48.5L149.39,68.35L149.85,48.47L150.32,50.07L150.78,47.9L151.71,47.55L152.17,94.62L152.64,47.95L153.1,48.85L153.56,46.57L154.49,48.53L154.96,53.33L155.42,87.43L155.88,48.05L156.35,43.67L156.81,47.86L157.74,51.87L158.2,50L158.67,45.24L159.13,47.9L159.6,46.32L160.99,49.64L161.45,49.6L161.92,47.55L162.38,40.54L163.31,49.44L163.77,47.91L164.23,49.61L164.7,49.09L165.16,47.78L165.63,47.87L166.09,49.27L166.55,49.18L167.02,47.88L167.48,48.04L167.95,49.78L168.41,48.91L168.87,71.39L169.8,47.85L170.27,47.12L170.73,49.87L171.19,48.35L171.66,74.57L172.12,47.87L172.59,48.33L173.05,47.86L173.51,56.76L173.98,49.06L174.44,46.91L174.91,28.81L175.37,47.85L175.83,47.39L176.3,47.73L176.76,47.9L177.23,51.16L178.15,39.38L178.62,47.79L179.54,47.9L180.01,46.43L180.47,46.26L180.94,48.43L181.4,57.26L181.86,47.79L183.26,48.34L183.72,45.55L184.18,49.26L184.65,48.29L185.11,47.85L185.58,54.03L186.04,48.34L186.5,49.16L186.97,31.01L188.36,54.94L188.82,48.57L189.29,51.15L189.75,47.81L191.61,47.42L192.07,52.24L192.54,47.86L193,48.32L193.46,47.85L193.93,45.77L194.39,46.43L194.86,47.9L195.78,47.88L196.25,47.73L196.71,49.3L197.17,35.36L197.64,48.25L198.1,47.91L198.57,49.63L199.03,49.78L199.49,48.92L199.96,37.56L200.42,47.86L201.35,47.85L201.81,46.06L202.28,49.01L202.74,48.38L203.21,47.83L206.45,47.9L206.92,47.58L207.38,49.95L207.85,47.66L209.24,49.01L209.7,48.28L210.63,48.21L211.09,49.05L211.56,34.72L212.02,47.85L212.95,47.87L213.41,52.75L213.88,46.39L214.34,49.25L214.8,47.88L216.2,47.91L216.66,50.07L217.59,47.87L218.05,48.33L218.52,47.57L218.98,47.89L219.44,45.55L219.91,50.58L220.37,47.64L220.84,44.16L221.76,48.58L222.23,47.91L222.69,47.84L223.16,50.59L224.08,47.44L224.55,50.72L225.01,47.86L225.48,48.31L225.94,48.27L226.4,47.89L226.87,53.83L227.33,46.28L227.79,48.02L228.26,47.36L229.65,48.15L230.11,47.92L230.58,50.67L231.04,48.19L231.51,47.87L231.97,48.48L233.36,46.65L233.83,46.39L234.29,46.83L234.75,41.13L235.68,48.19L236.15,47.69L236.61,47.83L237.07,41.14L237.54,47.61L238,46.29L238.47,39.43L239.39,48.01L239.86,48.22L240.32,47.87L240.79,43.39L241.25,49.34L241.71,48.32L242.18,43.94L243.1,48.08L243.57,48.43L244.03,47.94L244.5,55.07L244.96,47.74L245.42,48.89L245.89,49.01L246.35,47.88L246.82,48.11L247.28,48.03L247.74,56.47L248.21,46.93L248.67,34.82L249.14,47.93L249.6,48.21\" style=\"vector-effect: none; fill: none; stroke: rgb(171, 99, 250); stroke-opacity: 1; stroke-width: 2px; opacity: 1;\"/></g><g class=\"points\"/><g class=\"text\"/></g></g></g></g><path class=\"xlines-above crisp\" d=\"M0,0\" style=\"fill: none;\"/><path class=\"ylines-above crisp\" d=\"M0,0\" style=\"fill: none;\"/><g class=\"overlines-above\"/><g class=\"xaxislayer-above\"><g class=\"x4tick\"><text text-anchor=\"middle\" x=\"0\" y=\"281.3\" transform=\"translate(172.32,0)\" style=\"font-family: 'Open Sans', verdana, arial, sans-serif; font-size: 12px; fill: rgb(42, 63, 95); fill-opacity: 1; white-space: pre; opacity: 1;\">200</text></g><g class=\"x4tick\"><text text-anchor=\"middle\" x=\"0\" y=\"281.3\" style=\"font-family: 'Open Sans', verdana, arial, sans-serif; font-size: 12px; fill: rgb(42, 63, 95); fill-opacity: 1; white-space: pre; opacity: 1;\" transform=\"translate(265.11,0)\">400</text></g></g><g class=\"yaxislayer-above\"><g class=\"y4tick\"><text text-anchor=\"end\" x=\"79\" y=\"4.199999999999999\" transform=\"translate(0,243.93)\" style=\"font-family: 'Open Sans', verdana, arial, sans-serif; font-size: 12px; fill: rgb(42, 63, 95); fill-opacity: 1; white-space: pre; opacity: 1;\">2k</text></g><g class=\"y4tick\"><text text-anchor=\"end\" x=\"79\" y=\"4.199999999999999\" style=\"font-family: 'Open Sans', verdana, arial, sans-serif; font-size: 12px; fill: rgb(42, 63, 95); fill-opacity: 1; white-space: pre; opacity: 1;\" transform=\"translate(0,209.9)\">4k</text></g><g class=\"y4tick\"><text text-anchor=\"end\" x=\"79\" y=\"4.199999999999999\" style=\"font-family: 'Open Sans', verdana, arial, sans-serif; font-size: 12px; fill: rgb(42, 63, 95); fill-opacity: 1; white-space: pre; opacity: 1;\" transform=\"translate(0,175.87)\">6k</text></g><g class=\"y4tick\"><text text-anchor=\"end\" x=\"79\" y=\"4.199999999999999\" style=\"font-family: 'Open Sans', verdana, arial, sans-serif; font-size: 12px; fill: rgb(42, 63, 95); fill-opacity: 1; white-space: pre; opacity: 1;\" transform=\"translate(0,141.84)\">8k</text></g><g class=\"y4tick\"><text text-anchor=\"end\" x=\"79\" y=\"4.199999999999999\" style=\"font-family: 'Open Sans', verdana, arial, sans-serif; font-size: 12px; fill: rgb(42, 63, 95); fill-opacity: 1; white-space: pre; opacity: 1;\" transform=\"translate(0,107.81)\">10k</text></g></g><g class=\"overaxes-above\"/></g><g class=\"subplot x5y5\"><g class=\"layer-subplot\"><g class=\"shapelayer\"/><g class=\"imagelayer\"/></g><g class=\"minor-gridlayer\"><g class=\"x5\"/><g class=\"y5\"/></g><g class=\"gridlayer\"><g class=\"x5\"><path class=\"x5grid crisp\" transform=\"translate(479.52,0)\" d=\"M0,100v168.3\" style=\"stroke: rgb(255, 255, 255); stroke-opacity: 1; stroke-width: 1px;\"/><path class=\"x5grid crisp\" transform=\"translate(572.31,0)\" d=\"M0,100v168.3\" style=\"stroke: rgb(255, 255, 255); stroke-opacity: 1; stroke-width: 1px;\"/></g><g class=\"y5\"><path class=\"y5grid crisp\" transform=\"translate(0,215.87)\" d=\"M387.2,0h249.60000000000002\" style=\"stroke: rgb(255, 255, 255); stroke-opacity: 1; stroke-width: 1px;\"/><path class=\"y5grid crisp\" transform=\"translate(0,171.54000000000002)\" d=\"M387.2,0h249.60000000000002\" style=\"stroke: rgb(255, 255, 255); stroke-opacity: 1; stroke-width: 1px;\"/><path class=\"y5grid crisp\" transform=\"translate(0,127.2)\" d=\"M387.2,0h249.60000000000002\" style=\"stroke: rgb(255, 255, 255); stroke-opacity: 1; stroke-width: 1px;\"/></g></g><g class=\"zerolinelayer\"><path class=\"y5zl zl crisp\" transform=\"translate(0,260.2)\" d=\"M387.2,0h249.60000000000002\" style=\"stroke: rgb(255, 255, 255); stroke-opacity: 1; stroke-width: 2px;\"/></g><g class=\"layer-between\"><g class=\"shapelayer\"/><g class=\"imagelayer\"/></g><path class=\"xlines-below\"/><path class=\"ylines-below\"/><g class=\"overlines-below\"/><g class=\"xaxislayer-below\"/><g class=\"yaxislayer-below\"/><g class=\"overaxes-below\"/><g class=\"overplot\"><g class=\"x5y5\" transform=\"translate(387.2,100)\" clip-path=\"url(#clip984421x5y5plot)\"><g class=\"scatterlayer mlayer\"><g class=\"trace scatter traced1d058\" style=\"stroke-miterlimit: 2; opacity: 1;\"><g class=\"fills\"/><g class=\"errorbars\"/><g class=\"lines\"><path class=\"js-line\" d=\"M0,127.8L0.46,159.89L0.93,82.23L1.39,79.87L1.86,132.92L3.25,54.08L3.71,122.97L4.18,128.79L4.64,117.13L5.1,120.53L5.57,117.72L6.03,115.78L6.5,103.98L7.42,58.6L7.89,110.6L8.35,72.42L8.81,119.39L9.74,89.4L10.21,36.27L10.67,88.56L11.13,53.92L11.6,103.51L12.06,60.58L12.53,54.21L12.99,31.89L13.45,72.69L13.92,54.4L14.38,67.3L14.85,114.51L15.31,111.79L15.77,35.16L16.24,121.69L16.7,88.5L17.17,119.63L17.63,79.27L18.09,81.64L18.56,107.82L19.02,127.08L19.49,117.44L19.95,88.93L20.41,96.62L20.88,91.09L21.34,46.35L21.81,72.02L22.27,129.7L22.73,157.45L23.2,98.02L24.12,82.51L24.59,95.99L25.05,73.7L25.52,94.18L26.44,70.27L26.91,114.52L27.37,85.58L27.84,87.85L28.3,76.01L28.76,129.72L29.23,84.53L29.69,23.46L30.16,108.18L30.62,110.65L31.08,122.24L32.01,43.45L32.48,105.63L32.94,99.83L33.4,64.47L34.8,132.14L35.26,28.69L36.19,138.13L36.65,134.61L37.12,125.32L37.58,78.26L38.04,101.87L38.51,126.44L38.97,56.19L39.43,87.45L39.9,127.39L40.36,152.47L40.83,97.16L41.29,144.64L41.75,108.48L42.22,87.89L42.68,106.96L43.15,55.47L43.61,73.57L44.07,89.26L44.54,129.57L45,75.64L45.47,56.21L45.93,109.53L46.39,104.4L46.86,40.24L47.32,115.74L47.79,79.09L48.25,60.29L49.18,114.1L49.64,52.99L50.11,138.46L50.57,93.08L51.03,99.79L51.5,56.82L51.96,105.31L52.43,123.69L52.89,92.94L53.35,93.92L53.82,140.87L54.28,55.8L54.74,117.25L55.21,129.82L55.67,93.77L56.14,94.74L56.6,114.81L57.06,137.51L57.53,106.4L57.99,115.44L58.46,68.98L58.92,151.65L59.38,70.35L59.85,134.43L60.31,102.57L60.78,113.59L61.24,107.22L61.7,83.43L63.1,113.24L63.56,40.87L64.02,113.17L64.49,109.71L64.95,121.97L65.42,87.34L65.88,126.63L66.34,91.18L66.81,102.6L67.27,95.98L67.74,136.55L68.2,52.25L68.66,135.97L69.13,127.2L69.59,109.68L70.52,115.33L70.98,76.72L71.45,126.81L71.91,44.3L72.37,143.39L72.84,91.42L73.3,116.15L73.77,113.53L74.23,125.35L74.69,116.34L75.16,90.77L75.62,130.05L76.09,106.23L76.55,13.42L77.48,123.56L77.94,109.44L78.87,102.76L79.33,22.99L79.8,80.02L80.26,59.86L80.73,101.78L81.19,128.24L81.65,109.02L82.12,39.19L82.58,116.36L83.05,98.78L83.51,119.4L83.97,33.39L84.44,107.63L84.9,116.07L85.37,142.58L85.83,134.28L86.29,26.25L87.22,121.3L87.68,127.76L88.15,113.64L88.61,121.3L89.08,118.13L89.54,140.68L90,133.6L90.47,117.25L90.93,110.31L91.4,123.76L91.86,130.35L92.32,130.23L92.79,77.79L93.25,148.28L93.72,129.31L94.18,130.17L94.64,135.66L95.11,132.07L95.57,132.51L96.04,69.81L96.5,114.19L96.96,111.37L97.43,111.34L97.89,99.47L98.36,44.63L98.82,120.99L99.28,48.29L99.75,125.59L100.21,125.25L100.68,71.24L101.6,127.11L102.07,125.79L102.53,114.97L102.99,119.53L103.46,152.6L103.92,131.17L104.39,69.92L104.85,131.35L105.31,121.18L105.78,112.89L106.24,100.31L106.71,140.38L107.17,107.83L107.63,130.95L108.1,125.23L108.56,129.43L109.49,91.44L109.95,128.05L110.42,67.96L110.88,131.21L111.81,110.77L112.27,13.05L112.74,130.56L113.2,129.35L113.67,138.05L114.13,153.03L114.59,115.05L115.52,130.82L115.99,120.26L116.45,142.2L116.91,130.83L117.38,86.44L118.3,153.01L118.77,130.16L119.23,130.09L119.7,120L120.16,27.84L120.62,136.2L121.09,130.3L121.55,140.02L122.02,8.41L122.48,131.36L122.94,121.8L123.41,130.53L123.87,143.29L124.34,99.49L124.8,143.45L125.26,72.06L125.73,135.89L126.19,121.47L126.66,130.3L127.12,128.09L127.58,106.89L128.05,115.01L128.51,157.09L129.9,87.67L130.37,130.53L131.3,102.95L131.76,136.79L132.22,127.35L132.69,94.67L133.15,130.75L133.61,124.28L134.08,98.1L135.01,137.54L135.47,121.09L135.93,149.51L136.4,123.96L138.25,141.2L138.72,121.96L139.18,149.27L139.65,133.18L140.11,124.57L140.57,141L141.04,131.09L141.5,127.77L141.97,129.02L142.43,127.06L142.89,121.41L143.36,131.52L143.82,118.16L144.29,123.49L144.75,127.67L145.21,135.54L145.68,102.8L147.07,149.5L147.53,126.09L148.46,138.16L148.92,149.21L149.39,148.36L149.85,117.24L150.32,116.34L150.78,131.91L151.24,133.01L151.71,127.21L152.17,110.21L152.64,127.4L153.1,122.43L153.56,138.1L154.49,125.69L154.96,128.16L155.42,113.98L155.88,131.07L156.35,150.4L156.81,130.01L157.28,138.28L157.74,131.02L158.2,104.09L158.67,148.05L159.13,132.02L159.6,134.55L160.06,140.95L160.52,131.67L160.99,136.45L161.45,133.97L161.92,108.46L162.38,154.44L162.84,130.35L163.31,134.18L163.77,132.31L164.23,132.4L164.7,130.98L165.16,138.77L165.63,131.3L166.55,126.79L167.02,130.82L167.48,127.1L167.95,131.44L168.41,142.27L168.87,127.57L169.34,130.9L169.8,129.91L170.27,127.95L171.19,132.35L171.66,123.45L172.12,130.02L172.59,129.37L173.05,131.69L173.51,132.27L173.98,130.91L174.44,121.32L174.91,126.97L175.37,130.86L175.83,130.99L176.3,134.35L176.76,132.06L177.23,135.91L177.69,147.1L178.15,136.5L178.62,130.9L179.08,134.8L179.54,130.55L180.01,130.8L180.47,130.64L180.94,148.16L181.4,136.05L181.86,131.07L182.33,132.15L182.79,130L183.26,126.67L183.72,130.92L184.18,128.66L184.65,130.37L185.58,134.99L186.04,131.18L186.5,114.64L186.97,141.5L187.43,130.77L187.9,131.79L188.36,135.37L188.82,119.4L189.29,146.39L189.75,130.69L190.22,131.2L190.68,130.13L191.14,129.44L191.61,125.44L192.07,143.79L192.54,130.75L193,132.16L193.46,127.95L194.39,131.14L194.86,130.81L195.32,130.06L195.78,137.25L196.25,136.48L196.71,131.36L198.1,130.17L198.57,135.19L199.49,123.36L199.96,145.65L201.35,123.68L201.81,130.31L202.28,128.56L202.74,142.7L204.13,126.39L204.6,132.28L205.53,130.6L205.99,130.65L206.45,136.37L206.92,131L207.38,133.08L207.85,129.94L208.31,127.31L208.77,130.6L209.24,130.66L209.7,129.02L210.17,141.17L210.63,126.03L211.09,128.54L211.56,139.68L212.95,122.32L213.41,132.59L213.88,127.23L214.34,128.64L214.8,131.48L215.27,130.47L215.73,131.66L216.2,110.43L216.66,133.21L217.12,130.12L217.59,130.87L218.05,130.04L218.98,139L219.44,131.33L219.91,137.58L220.37,129.78L220.84,132.8L221.3,130.54L221.76,130.31L222.23,132.06L222.69,150.26L223.16,131.08L223.62,127.31L224.08,131.37L224.55,126.83L225.01,130.28L225.48,132.05L225.94,128.7L226.4,119.09L226.87,132.39L227.33,123.89L227.79,130.39L228.26,130.37L228.72,131.23L229.19,131.19L229.65,130L230.11,115.66L230.58,135.27L231.04,130.29L231.51,131.76L231.97,128.45L232.9,139.08L233.36,131.16L233.83,138.28L234.29,130.77L234.75,135.45L235.22,130.45L235.68,128.86L236.15,132.01L236.61,142.67L237.07,130.11L237.54,116.93L238,130.98L238.47,133.84L238.93,130.05L239.39,131.61L239.86,128.74L240.32,141.43L240.79,130.85L241.25,123.67L241.71,130.51L242.18,134.78L242.64,131.51L243.1,131.61L243.57,130.82L244.03,120.32L244.5,132L244.96,145.57L245.42,130.35L245.89,133.19L246.35,132.9L246.82,131.84L247.28,126.24L247.74,132.28L248.21,134.59L248.67,131.09L249.14,130.43L249.6,131.61\" style=\"vector-effect: none; fill: none; stroke: rgb(255, 161, 90); stroke-opacity: 1; stroke-width: 2px; opacity: 1;\"/></g><g class=\"points\"/><g class=\"text\"/></g></g></g></g><path class=\"xlines-above crisp\" d=\"M0,0\" style=\"fill: none;\"/><path class=\"ylines-above crisp\" d=\"M0,0\" style=\"fill: none;\"/><g class=\"overlines-above\"/><g class=\"xaxislayer-above\"><g class=\"x5tick\"><text text-anchor=\"middle\" x=\"0\" y=\"281.3\" transform=\"translate(479.52,0)\" style=\"font-family: 'Open Sans', verdana, arial, sans-serif; font-size: 12px; fill: rgb(42, 63, 95); fill-opacity: 1; white-space: pre; opacity: 1;\">200</text></g><g class=\"x5tick\"><text text-anchor=\"middle\" x=\"0\" y=\"281.3\" style=\"font-family: 'Open Sans', verdana, arial, sans-serif; font-size: 12px; fill: rgb(42, 63, 95); fill-opacity: 1; white-space: pre; opacity: 1;\" transform=\"translate(572.31,0)\">400</text></g></g><g class=\"yaxislayer-above\"><g class=\"y5tick\"><text text-anchor=\"end\" x=\"386.2\" y=\"4.199999999999999\" transform=\"translate(0,260.2)\" style=\"font-family: 'Open Sans', verdana, arial, sans-serif; font-size: 12px; fill: rgb(42, 63, 95); fill-opacity: 1; white-space: pre; opacity: 1;\">0</text></g><g class=\"y5tick\"><text text-anchor=\"end\" x=\"386.2\" y=\"4.199999999999999\" style=\"font-family: 'Open Sans', verdana, arial, sans-serif; font-size: 12px; fill: rgb(42, 63, 95); fill-opacity: 1; white-space: pre; opacity: 1;\" transform=\"translate(0,215.87)\">2000</text></g><g class=\"y5tick\"><text text-anchor=\"end\" x=\"386.2\" y=\"4.199999999999999\" style=\"font-family: 'Open Sans', verdana, arial, sans-serif; font-size: 12px; fill: rgb(42, 63, 95); fill-opacity: 1; white-space: pre; opacity: 1;\" transform=\"translate(0,171.54000000000002)\">4000</text></g><g class=\"y5tick\"><text text-anchor=\"end\" x=\"386.2\" y=\"4.199999999999999\" style=\"font-family: 'Open Sans', verdana, arial, sans-serif; font-size: 12px; fill: rgb(42, 63, 95); fill-opacity: 1; white-space: pre; opacity: 1;\" transform=\"translate(0,127.2)\">6000</text></g></g><g class=\"overaxes-above\"/></g></g><g class=\"polarlayer\"/><g class=\"smithlayer\"/><g class=\"ternarylayer\"/><g class=\"geolayer\"/><g class=\"funnelarealayer\"/><g class=\"pielayer\"/><g class=\"iciclelayer\"/><g class=\"treemaplayer\"/><g class=\"sunburstlayer\"/><g class=\"glimages\"/><defs id=\"topdefs-984421\"><g class=\"clips\"/><clipPath id=\"legend984421\"><rect width=\"471\" height=\"29\" x=\"0\" y=\"0\"/></clipPath></defs><g class=\"layer-above\"><g class=\"imagelayer\"/><g class=\"shapelayer\"/></g><g class=\"infolayer\"><g class=\"legend\" pointer-events=\"all\" transform=\"translate(473,63.08)\"><rect class=\"bg\" shape-rendering=\"crispEdges\" width=\"471\" height=\"29\" x=\"0\" y=\"0\" style=\"stroke: rgb(68, 68, 68); stroke-opacity: 1; fill: rgb(255, 255, 255); fill-opacity: 1; stroke-width: 0px;\"/><g class=\"scrollbox\" transform=\"\" clip-path=\"url(#legend984421)\"><g class=\"groups\"><g class=\"traces\" transform=\"translate(0,14.5)\" style=\"opacity: 1;\"><text class=\"legendtext\" text-anchor=\"start\" x=\"40\" y=\"4.680000000000001\" style=\"font-family: 'Open Sans', verdana, arial, sans-serif; font-size: 12px; fill: rgb(42, 63, 95); fill-opacity: 1; white-space: pre;\">R0 [Ohm]</text><g class=\"layers\" style=\"opacity: 1;\"><g class=\"legendfill\"/><g class=\"legendlines\"><path class=\"js-line\" d=\"M5,0h30\" style=\"fill: none; stroke: rgb(99, 110, 250); stroke-opacity: 1; stroke-width: 2px;\"/></g><g class=\"legendsymbols\"><g class=\"legendpoints\"/></g></g><rect class=\"legendtoggle\" x=\"0\" y=\"-9.5\" width=\"100.390625\" height=\"19\" style=\"fill: rgb(0, 0, 0); fill-opacity: 0;\"/></g><g class=\"traces\" transform=\"translate(102.890625,14.5)\" style=\"opacity: 1;\"><text class=\"legendtext\" text-anchor=\"start\" x=\"40\" y=\"4.680000000000001\" style=\"font-family: 'Open Sans', verdana, arial, sans-serif; font-size: 12px; fill: rgb(42, 63, 95); fill-opacity: 1; white-space: pre;\">R1 [Ohm]</text><g class=\"layers\" style=\"opacity: 1;\"><g class=\"legendfill\"/><g class=\"legendlines\"><path class=\"js-line\" d=\"M5,0h30\" style=\"fill: none; stroke: rgb(239, 85, 59); stroke-opacity: 1; stroke-width: 2px;\"/></g><g class=\"legendsymbols\"><g class=\"legendpoints\"/></g></g><rect class=\"legendtoggle\" x=\"0\" y=\"-9.5\" width=\"100.390625\" height=\"19\" style=\"fill: rgb(0, 0, 0); fill-opacity: 0;\"/></g><g class=\"traces\" transform=\"translate(205.78125,14.5)\" style=\"opacity: 1;\"><text class=\"legendtext\" text-anchor=\"start\" x=\"40\" y=\"4.680000000000001\" style=\"font-family: 'Open Sans', verdana, arial, sans-serif; font-size: 12px; fill: rgb(42, 63, 95); fill-opacity: 1; white-space: pre;\">R2 [Ohm]</text><g class=\"layers\" style=\"opacity: 1;\"><g class=\"legendfill\"/><g class=\"legendlines\"><path class=\"js-line\" d=\"M5,0h30\" style=\"fill: none; stroke: rgb(0, 204, 150); stroke-opacity: 1; stroke-width: 2px;\"/></g><g class=\"legendsymbols\"><g class=\"legendpoints\"/></g></g><rect class=\"legendtoggle\" x=\"0\" y=\"-9.5\" width=\"100.390625\" height=\"19\" style=\"fill: rgb(0, 0, 0); fill-opacity: 0;\"/></g><g class=\"traces\" transform=\"translate(308.671875,14.5)\" style=\"opacity: 1;\"><text class=\"legendtext\" text-anchor=\"start\" x=\"40\" y=\"4.680000000000001\" style=\"font-family: 'Open Sans', verdana, arial, sans-serif; font-size: 12px; fill: rgb(42, 63, 95); fill-opacity: 1; white-space: pre;\">C1 [F]</text><g class=\"layers\" style=\"opacity: 1;\"><g class=\"legendfill\"/><g class=\"legendlines\"><path class=\"js-line\" d=\"M5,0h30\" style=\"fill: none; stroke: rgb(171, 99, 250); stroke-opacity: 1; stroke-width: 2px;\"/></g><g class=\"legendsymbols\"><g class=\"legendpoints\"/></g></g><rect class=\"legendtoggle\" x=\"0\" y=\"-9.5\" width=\"78.59375\" height=\"19\" style=\"fill: rgb(0, 0, 0); fill-opacity: 0;\"/></g><g class=\"traces\" transform=\"translate(389.765625,14.5)\" style=\"opacity: 1;\"><text class=\"legendtext\" text-anchor=\"start\" x=\"40\" y=\"4.680000000000001\" style=\"font-family: 'Open Sans', verdana, arial, sans-serif; font-size: 12px; fill: rgb(42, 63, 95); fill-opacity: 1; white-space: pre;\">C2 [F]</text><g class=\"layers\" style=\"opacity: 1;\"><g class=\"legendfill\"/><g class=\"legendlines\"><path class=\"js-line\" d=\"M5,0h30\" style=\"fill: none; stroke: rgb(255, 161, 90); stroke-opacity: 1; stroke-width: 2px;\"/></g><g class=\"legendsymbols\"><g class=\"legendpoints\"/></g></g><rect class=\"legendtoggle\" x=\"0\" y=\"-9.5\" width=\"78.59375\" height=\"19\" style=\"fill: rgb(0, 0, 0); fill-opacity: 0;\"/></g></g></g><rect class=\"scrollbar\" rx=\"20\" ry=\"3\" width=\"0\" height=\"0\" x=\"0\" y=\"0\" style=\"fill: rgb(128, 139, 164); fill-opacity: 1;\"/></g><g class=\"g-gtitle\"><text class=\"gtitle\" x=\"51.2\" y=\"50\" text-anchor=\"start\" dy=\"0em\" style=\"opacity: 1; font-family: 'Open Sans', verdana, arial, sans-serif; font-size: 17px; fill: rgb(42, 63, 95); fill-opacity: 1; white-space: pre;\">Parameter Convergence</text></g><g class=\"g-xtitle\"><text class=\"xtitle\" x=\"204.8\" y=\"536.3\" text-anchor=\"middle\" style=\"opacity: 1; font-family: 'Open Sans', verdana, arial, sans-serif; font-size: 14px; fill: rgb(42, 63, 95); fill-opacity: 1; white-space: pre;\">Function Call</text></g><g class=\"g-x2title\"><text class=\"x2title\" x=\"512\" y=\"536.3\" text-anchor=\"middle\" style=\"opacity: 1; font-family: 'Open Sans', verdana, arial, sans-serif; font-size: 14px; fill: rgb(42, 63, 95); fill-opacity: 1; white-space: pre;\">Function Call</text></g><g class=\"g-x3title\"><text class=\"x3title\" x=\"819.1999999999999\" y=\"536.3\" text-anchor=\"middle\" style=\"opacity: 1; font-family: 'Open Sans', verdana, arial, sans-serif; font-size: 14px; fill: rgb(42, 63, 95); fill-opacity: 1; white-space: pre;\">Function Call</text></g><g class=\"g-x4title\"><text class=\"x4title\" x=\"204.8\" y=\"308.6125\" text-anchor=\"middle\" style=\"opacity: 1; font-family: 'Open Sans', verdana, arial, sans-serif; font-size: 14px; fill: rgb(42, 63, 95); fill-opacity: 1; white-space: pre;\">Function Call</text></g><g class=\"g-x5title\"><text class=\"x5title\" x=\"512\" y=\"308.6125\" text-anchor=\"middle\" style=\"opacity: 1; font-family: 'Open Sans', verdana, arial, sans-serif; font-size: 14px; fill: rgb(42, 63, 95); fill-opacity: 1; white-space: pre;\">Function Call</text></g><g class=\"g-ytitle\"><text class=\"ytitle\" transform=\"rotate(-90,32.88125,411.84999999999997)\" x=\"32.88125\" y=\"411.84999999999997\" text-anchor=\"middle\" style=\"opacity: 1; font-family: 'Open Sans', verdana, arial, sans-serif; font-size: 14px; fill: rgb(42, 63, 95); fill-opacity: 1; white-space: pre;\">R0 [Ohm]</text></g><g class=\"g-y2title\"><text class=\"y2title\" transform=\"rotate(-90,347.709375,411.84999999999997)\" x=\"347.709375\" y=\"411.84999999999997\" text-anchor=\"middle\" style=\"opacity: 1; font-family: 'Open Sans', verdana, arial, sans-serif; font-size: 14px; fill: rgb(42, 63, 95); fill-opacity: 1; white-space: pre;\">R1 [Ohm]</text></g><g class=\"g-y3title\"><text class=\"y3title\" transform=\"rotate(-90,654.9125,411.84999999999997)\" x=\"654.9125\" y=\"411.84999999999997\" text-anchor=\"middle\" style=\"opacity: 1; font-family: 'Open Sans', verdana, arial, sans-serif; font-size: 14px; fill: rgb(42, 63, 95); fill-opacity: 1; white-space: pre;\">R2 [Ohm]</text></g><g class=\"g-y4title\"><text class=\"y4title\" transform=\"rotate(-90,37.38125,184.15)\" x=\"37.38125\" y=\"184.15\" text-anchor=\"middle\" style=\"opacity: 1; font-family: 'Open Sans', verdana, arial, sans-serif; font-size: 14px; fill: rgb(42, 63, 95); fill-opacity: 1; white-space: pre;\">C1 [F]</text></g><g class=\"g-y5title\"><text class=\"y5title\" transform=\"rotate(-90,336.25625,184.15)\" x=\"336.25625\" y=\"184.15\" text-anchor=\"middle\" style=\"opacity: 1; font-family: 'Open Sans', verdana, arial, sans-serif; font-size: 14px; fill: rgb(42, 63, 95); fill-opacity: 1; white-space: pre;\">C2 [F]</text></g></g></svg>"
      ]
     },
     "metadata": {},
     "output_type": "display_data"
    }
   ],
   "source": [
    "pybop.plot_convergence(optim)\n",
    "pybop.plot_parameters(optim);"
   ]
  },
  {
   "cell_type": "markdown",
   "id": "30",
   "metadata": {},
   "source": [
    "## Validating the Fit\n",
    "\n",
    "We've identified parameters from a single discharge pulse. Now, let's ask ourselves how well these parameters extrapolate to other operational conditions. To accomplish this, let's load a new pulse dataset at 80% SOC and compare it to our identified forward model."
   ]
  },
  {
   "cell_type": "code",
   "execution_count": null,
   "id": "31",
   "metadata": {},
   "outputs": [],
   "source": [
    "df_pulse_two = pd.DataFrame(\n",
    "    pulse_data[\"LGM50_5Ah_Pulse\"][\"T0\"][\"SoC8\"][\"Cell19\"][\"data\"]\n",
    ")\n",
    "df_pulse_two[\"ProgTime\"] = df_pulse_two[\"ProgTime\"] - df_pulse_two[\"ProgTime\"].min()\n",
    "df_pulse_two.drop_duplicates(subset=[\"ProgTime\"], inplace=True)"
   ]
  },
  {
   "cell_type": "markdown",
   "id": "32",
   "metadata": {},
   "source": [
    "Next, we construct a new `pybop.Dataset` from the second pulse data,"
   ]
  },
  {
   "cell_type": "code",
   "execution_count": null,
   "id": "33",
   "metadata": {},
   "outputs": [],
   "source": [
    "dataset_two_pulse = pybop.Dataset(\n",
    "    {\n",
    "        \"Time [s]\": df_pulse_two[\"ProgTime\"].values,\n",
    "        \"Current function [A]\": -df_pulse_two[\"Current\"].values,\n",
    "        \"Voltage [V]\": df_pulse_two[\"Voltage\"].values,\n",
    "    }\n",
    ")"
   ]
  },
  {
   "cell_type": "markdown",
   "id": "34",
   "metadata": {},
   "source": [
    "Now that we have a new dataset, we update the target within the problem class as well as the `Initial SoC` value. Once that has been completed, we rebuild the model."
   ]
  },
  {
   "cell_type": "code",
   "execution_count": null,
   "id": "35",
   "metadata": {},
   "outputs": [],
   "source": [
    "problem.set_target(dataset_two_pulse)\n",
    "model.parameter_set[\"Initial SoC\"] = 0.8 - 0.0075\n",
    "model.rebuild(dataset_two_pulse)"
   ]
  },
  {
   "cell_type": "markdown",
   "id": "36",
   "metadata": {},
   "source": [
    "Let's plot the parameterised forward model against the new pulse data:"
   ]
  },
  {
   "cell_type": "code",
   "execution_count": null,
   "id": "37",
   "metadata": {},
   "outputs": [
    {
     "data": {
      "image/svg+xml": [
       "<svg class=\"main-svg\" xmlns=\"http://www.w3.org/2000/svg\" xmlns:xlink=\"http://www.w3.org/1999/xlink\" width=\"700\" height=\"500\" style=\"\" viewBox=\"0 0 700 500\"><rect x=\"0\" y=\"0\" width=\"700\" height=\"500\" style=\"fill: rgb(255, 255, 255); fill-opacity: 1;\"/><defs id=\"defs-7fca3c\"><g class=\"clips\"><clipPath id=\"clip7fca3cxyplot\" class=\"plotclip\"><rect width=\"492\" height=\"320\"/></clipPath><clipPath class=\"axesclip\" id=\"clip7fca3cx\"><rect x=\"80\" y=\"0\" width=\"492\" height=\"500\"/></clipPath><clipPath class=\"axesclip\" id=\"clip7fca3cy\"><rect x=\"0\" y=\"100\" width=\"700\" height=\"320\"/></clipPath><clipPath class=\"axesclip\" id=\"clip7fca3cxy\"><rect x=\"80\" y=\"100\" width=\"492\" height=\"320\"/></clipPath></g><g class=\"gradients\"/><g class=\"patterns\"/></defs><g class=\"bglayer\"><rect class=\"bg\" x=\"80\" y=\"100\" width=\"492\" height=\"320\" style=\"fill: rgb(229, 236, 246); fill-opacity: 1; stroke-width: 0;\"/></g><g class=\"layer-below\"><g class=\"imagelayer\"/><g class=\"shapelayer\"/></g><g class=\"cartesianlayer\"><g class=\"subplot xy\"><g class=\"layer-subplot\"><g class=\"shapelayer\"/><g class=\"imagelayer\"/></g><g class=\"minor-gridlayer\"><g class=\"x\"/><g class=\"y\"/></g><g class=\"gridlayer\"><g class=\"x\"><path class=\"xgrid crisp\" transform=\"translate(216.59,0)\" d=\"M0,100v320\" style=\"stroke: rgb(255, 255, 255); stroke-opacity: 1; stroke-width: 1px;\"/><path class=\"xgrid crisp\" transform=\"translate(324.83000000000004,0)\" d=\"M0,100v320\" style=\"stroke: rgb(255, 255, 255); stroke-opacity: 1; stroke-width: 1px;\"/><path class=\"xgrid crisp\" transform=\"translate(433.07,0)\" d=\"M0,100v320\" style=\"stroke: rgb(255, 255, 255); stroke-opacity: 1; stroke-width: 1px;\"/><path class=\"xgrid crisp\" transform=\"translate(541.31,0)\" d=\"M0,100v320\" style=\"stroke: rgb(255, 255, 255); stroke-opacity: 1; stroke-width: 1px;\"/></g><g class=\"y\"><path class=\"ygrid crisp\" transform=\"translate(0,375.69)\" d=\"M80,0h492\" style=\"stroke: rgb(255, 255, 255); stroke-opacity: 1; stroke-width: 1px;\"/><path class=\"ygrid crisp\" transform=\"translate(0,294.01)\" d=\"M80,0h492\" style=\"stroke: rgb(255, 255, 255); stroke-opacity: 1; stroke-width: 1px;\"/><path class=\"ygrid crisp\" transform=\"translate(0,212.34)\" d=\"M80,0h492\" style=\"stroke: rgb(255, 255, 255); stroke-opacity: 1; stroke-width: 1px;\"/><path class=\"ygrid crisp\" transform=\"translate(0,130.66)\" d=\"M80,0h492\" style=\"stroke: rgb(255, 255, 255); stroke-opacity: 1; stroke-width: 1px;\"/></g></g><g class=\"zerolinelayer\"><path class=\"xzl zl crisp\" transform=\"translate(108.35,0)\" d=\"M0,100v320\" style=\"stroke: rgb(255, 255, 255); stroke-opacity: 1; stroke-width: 2px;\"/></g><g class=\"layer-between\"><g class=\"shapelayer\"/><g class=\"imagelayer\"/></g><path class=\"xlines-below\"/><path class=\"ylines-below\"/><g class=\"overlines-below\"/><g class=\"xaxislayer-below\"/><g class=\"yaxislayer-below\"/><g class=\"overaxes-below\"/><g class=\"overplot\"><g class=\"xy\" transform=\"translate(80,100)\" clip-path=\"url(#clip7fca3cxyplot)\"><g class=\"scatterlayer mlayer\"><g class=\"trace scatter traceba829c\" style=\"stroke-miterlimit: 2; opacity: 1;\"><g class=\"fills\"><g><path class=\"js-fill\" d=\"M28.35,16L28.74,16L30.97,181.34L33.78,216.52L35.78,216.92L69.96,223.04L71.67,223.34L205,245.59L206.58,245.85L245.18,252.01L246.24,206.73L246.67,52.23L268.73,51.76L377.17,50.26L399.4,50.07L463.65,49.63L463.65,101.62L290.12,103.35L268.73,103.75L246.67,104.22L246.24,258.72L245.18,304L243.73,303.77L111.31,282.14L109.79,281.88L33.78,268.51L30.97,233.33L28.35,67.99Z\" style=\"fill: rgb(255, 229, 204); fill-opacity: 0.8; stroke-width: 0;\"/></g></g><g class=\"errorbars\"/><g class=\"lines\"><path class=\"js-line\" d=\"M28.35,16L28.74,16L30.97,181.34L33.78,216.52L35.78,216.92L69.96,223.04L71.67,223.34L205,245.59L206.58,245.85L245.18,252.01L246.24,206.73L246.67,52.23L268.73,51.76L377.17,50.26L399.4,50.07L463.65,49.63L463.65,101.62L290.12,103.35L268.73,103.75L246.67,104.22L246.24,258.72L245.18,304L243.73,303.77L111.31,282.14L109.79,281.88L33.78,268.51L30.97,233.33L28.35,67.99\" style=\"vector-effect: none; fill: none; stroke: rgb(255, 255, 255); stroke-opacity: 0; stroke-width: 2px; opacity: 1;\"/></g><g class=\"points\"/><g class=\"text\"/></g><g class=\"trace scatter trace5f7554\" style=\"stroke-miterlimit: 2; opacity: 1;\"><g class=\"fills\"/><g class=\"errorbars\"/><g class=\"lines\"/><g class=\"points\"><path class=\"point\" transform=\"translate(28.35,42.55)\" d=\"M3,0A3,3 0 1,1 0,-3A3,3 0 0,1 3,0Z\" style=\"opacity: 1; stroke-width: 0px; fill: rgb(239, 85, 59); fill-opacity: 1;\"/><path class=\"point\" transform=\"translate(28.74,216.62)\" d=\"M3,0A3,3 0 1,1 0,-3A3,3 0 0,1 3,0Z\" style=\"opacity: 1; stroke-width: 0px; fill: rgb(239, 85, 59); fill-opacity: 1;\"/><path class=\"point\" transform=\"translate(30.97,221.16)\" d=\"M3,0A3,3 0 1,1 0,-3A3,3 0 0,1 3,0Z\" style=\"opacity: 1; stroke-width: 0px; fill: rgb(239, 85, 59); fill-opacity: 1;\"/><path class=\"point\" transform=\"translate(33.78,221.7)\" d=\"M3,0A3,3 0 1,1 0,-3A3,3 0 0,1 3,0Z\" style=\"opacity: 1; stroke-width: 0px; fill: rgb(239, 85, 59); fill-opacity: 1;\"/><path class=\"point\" transform=\"translate(35.78,223.52)\" d=\"M3,0A3,3 0 1,1 0,-3A3,3 0 0,1 3,0Z\" style=\"opacity: 1; stroke-width: 0px; fill: rgb(239, 85, 59); fill-opacity: 1;\"/><path class=\"point\" transform=\"translate(37.42,224.25)\" d=\"M3,0A3,3 0 1,1 0,-3A3,3 0 0,1 3,0Z\" style=\"opacity: 1; stroke-width: 0px; fill: rgb(239, 85, 59); fill-opacity: 1;\"/><path class=\"point\" transform=\"translate(40.47,224.25)\" d=\"M3,0A3,3 0 1,1 0,-3A3,3 0 0,1 3,0Z\" style=\"opacity: 1; stroke-width: 0px; fill: rgb(239, 85, 59); fill-opacity: 1;\"/><path class=\"point\" transform=\"translate(41.71,225.71)\" d=\"M3,0A3,3 0 1,1 0,-3A3,3 0 0,1 3,0Z\" style=\"opacity: 1; stroke-width: 0px; fill: rgb(239, 85, 59); fill-opacity: 1;\"/><path class=\"point\" transform=\"translate(44.04,226.42)\" d=\"M3,0A3,3 0 1,1 0,-3A3,3 0 0,1 3,0Z\" style=\"opacity: 1; stroke-width: 0px; fill: rgb(239, 85, 59); fill-opacity: 1;\"/><path class=\"point\" transform=\"translate(46.9,226.42)\" d=\"M3,0A3,3 0 1,1 0,-3A3,3 0 0,1 3,0Z\" style=\"opacity: 1; stroke-width: 0px; fill: rgb(239, 85, 59); fill-opacity: 1;\"/><path class=\"point\" transform=\"translate(48.37,227.7)\" d=\"M3,0A3,3 0 1,1 0,-3A3,3 0 0,1 3,0Z\" style=\"opacity: 1; stroke-width: 0px; fill: rgb(239, 85, 59); fill-opacity: 1;\"/><path class=\"point\" transform=\"translate(50.71,228.42)\" d=\"M3,0A3,3 0 1,1 0,-3A3,3 0 0,1 3,0Z\" style=\"opacity: 1; stroke-width: 0px; fill: rgb(239, 85, 59); fill-opacity: 1;\"/><path class=\"point\" transform=\"translate(53.76,228.79)\" d=\"M3,0A3,3 0 1,1 0,-3A3,3 0 0,1 3,0Z\" style=\"opacity: 1; stroke-width: 0px; fill: rgb(239, 85, 59); fill-opacity: 1;\"/><path class=\"point\" transform=\"translate(54.98,229.51)\" d=\"M3,0A3,3 0 1,1 0,-3A3,3 0 0,1 3,0Z\" style=\"opacity: 1; stroke-width: 0px; fill: rgb(239, 85, 59); fill-opacity: 1;\"/><path class=\"point\" transform=\"translate(57.42,230.05)\" d=\"M3,0A3,3 0 1,1 0,-3A3,3 0 0,1 3,0Z\" style=\"opacity: 1; stroke-width: 0px; fill: rgb(239, 85, 59); fill-opacity: 1;\"/><path class=\"point\" transform=\"translate(59.03,230.61)\" d=\"M3,0A3,3 0 1,1 0,-3A3,3 0 0,1 3,0Z\" style=\"opacity: 1; stroke-width: 0px; fill: rgb(239, 85, 59); fill-opacity: 1;\"/><path class=\"point\" transform=\"translate(61.62,230.97)\" d=\"M3,0A3,3 0 1,1 0,-3A3,3 0 0,1 3,0Z\" style=\"opacity: 1; stroke-width: 0px; fill: rgb(239, 85, 59); fill-opacity: 1;\"/><path class=\"point\" transform=\"translate(64.03,231.5)\" d=\"M3,0A3,3 0 1,1 0,-3A3,3 0 0,1 3,0Z\" style=\"opacity: 1; stroke-width: 0px; fill: rgb(239, 85, 59); fill-opacity: 1;\"/><path class=\"point\" transform=\"translate(65.5,231.88)\" d=\"M3,0A3,3 0 1,1 0,-3A3,3 0 0,1 3,0Z\" style=\"opacity: 1; stroke-width: 0px; fill: rgb(239, 85, 59); fill-opacity: 1;\"/><path class=\"point\" transform=\"translate(67.77,232.06)\" d=\"M3,0A3,3 0 1,1 0,-3A3,3 0 0,1 3,0Z\" style=\"opacity: 1; stroke-width: 0px; fill: rgb(239, 85, 59); fill-opacity: 1;\"/><path class=\"point\" transform=\"translate(69.96,233.14)\" d=\"M3,0A3,3 0 1,1 0,-3A3,3 0 0,1 3,0Z\" style=\"opacity: 1; stroke-width: 0px; fill: rgb(239, 85, 59); fill-opacity: 1;\"/><path class=\"point\" transform=\"translate(71.67,233.33)\" d=\"M3,0A3,3 0 1,1 0,-3A3,3 0 0,1 3,0Z\" style=\"opacity: 1; stroke-width: 0px; fill: rgb(239, 85, 59); fill-opacity: 1;\"/><path class=\"point\" transform=\"translate(74.92,233.69)\" d=\"M3,0A3,3 0 1,1 0,-3A3,3 0 0,1 3,0Z\" style=\"opacity: 1; stroke-width: 0px; fill: rgb(239, 85, 59); fill-opacity: 1;\"/><path class=\"point\" transform=\"translate(76.6,234.59)\" d=\"M3,0A3,3 0 1,1 0,-3A3,3 0 0,1 3,0Z\" style=\"opacity: 1; stroke-width: 0px; fill: rgb(239, 85, 59); fill-opacity: 1;\"/><path class=\"point\" transform=\"translate(80.95,234.59)\" d=\"M3,0A3,3 0 1,1 0,-3A3,3 0 0,1 3,0Z\" style=\"opacity: 1; stroke-width: 0px; fill: rgb(239, 85, 59); fill-opacity: 1;\"/><path class=\"point\" transform=\"translate(82.43,234.97)\" d=\"M3,0A3,3 0 1,1 0,-3A3,3 0 0,1 3,0Z\" style=\"opacity: 1; stroke-width: 0px; fill: rgb(239, 85, 59); fill-opacity: 1;\"/><path class=\"point\" transform=\"translate(83.21,235.69)\" d=\"M3,0A3,3 0 1,1 0,-3A3,3 0 0,1 3,0Z\" style=\"opacity: 1; stroke-width: 0px; fill: rgb(239, 85, 59); fill-opacity: 1;\"/><path class=\"point\" transform=\"translate(86.84,236.05)\" d=\"M3,0A3,3 0 1,1 0,-3A3,3 0 0,1 3,0Z\" style=\"opacity: 1; stroke-width: 0px; fill: rgb(239, 85, 59); fill-opacity: 1;\"/><path class=\"point\" transform=\"translate(88.94,236.42)\" d=\"M3,0A3,3 0 1,1 0,-3A3,3 0 0,1 3,0Z\" style=\"opacity: 1; stroke-width: 0px; fill: rgb(239, 85, 59); fill-opacity: 1;\"/><path class=\"point\" transform=\"translate(89.79,236.78)\" d=\"M3,0A3,3 0 1,1 0,-3A3,3 0 0,1 3,0Z\" style=\"opacity: 1; stroke-width: 0px; fill: rgb(239, 85, 59); fill-opacity: 1;\"/><path class=\"point\" transform=\"translate(93.34,237.32)\" d=\"M3,0A3,3 0 1,1 0,-3A3,3 0 0,1 3,0Z\" style=\"opacity: 1; stroke-width: 0px; fill: rgb(239, 85, 59); fill-opacity: 1;\"/><path class=\"point\" transform=\"translate(95.52,237.5)\" d=\"M3,0A3,3 0 1,1 0,-3A3,3 0 0,1 3,0Z\" style=\"opacity: 1; stroke-width: 0px; fill: rgb(239, 85, 59); fill-opacity: 1;\"/><path class=\"point\" transform=\"translate(96.41,238.05)\" d=\"M3,0A3,3 0 1,1 0,-3A3,3 0 0,1 3,0Z\" style=\"opacity: 1; stroke-width: 0px; fill: rgb(239, 85, 59); fill-opacity: 1;\"/><path class=\"point\" transform=\"translate(99.05,238.59)\" d=\"M3,0A3,3 0 1,1 0,-3A3,3 0 0,1 3,0Z\" style=\"opacity: 1; stroke-width: 0px; fill: rgb(239, 85, 59); fill-opacity: 1;\"/><path class=\"point\" transform=\"translate(101.02,238.59)\" d=\"M3,0A3,3 0 1,1 0,-3A3,3 0 0,1 3,0Z\" style=\"opacity: 1; stroke-width: 0px; fill: rgb(239, 85, 59); fill-opacity: 1;\"/><path class=\"point\" transform=\"translate(103.82,238.77)\" d=\"M3,0A3,3 0 1,1 0,-3A3,3 0 0,1 3,0Z\" style=\"opacity: 1; stroke-width: 0px; fill: rgb(239, 85, 59); fill-opacity: 1;\"/><path class=\"point\" transform=\"translate(104.66,239.69)\" d=\"M3,0A3,3 0 1,1 0,-3A3,3 0 0,1 3,0Z\" style=\"opacity: 1; stroke-width: 0px; fill: rgb(239, 85, 59); fill-opacity: 1;\"/><path class=\"point\" transform=\"translate(108.92,239.69)\" d=\"M3,0A3,3 0 1,1 0,-3A3,3 0 0,1 3,0Z\" style=\"opacity: 1; stroke-width: 0px; fill: rgb(239, 85, 59); fill-opacity: 1;\"/><path class=\"point\" transform=\"translate(109.79,239.87)\" d=\"M3,0A3,3 0 1,1 0,-3A3,3 0 0,1 3,0Z\" style=\"opacity: 1; stroke-width: 0px; fill: rgb(239, 85, 59); fill-opacity: 1;\"/><path class=\"point\" transform=\"translate(111.31,240.77)\" d=\"M3,0A3,3 0 1,1 0,-3A3,3 0 0,1 3,0Z\" style=\"opacity: 1; stroke-width: 0px; fill: rgb(239, 85, 59); fill-opacity: 1;\"/><path class=\"point\" transform=\"translate(115.44,240.96)\" d=\"M3,0A3,3 0 1,1 0,-3A3,3 0 0,1 3,0Z\" style=\"opacity: 1; stroke-width: 0px; fill: rgb(239, 85, 59); fill-opacity: 1;\"/><path class=\"point\" transform=\"translate(116.44,241.14)\" d=\"M3,0A3,3 0 1,1 0,-3A3,3 0 0,1 3,0Z\" style=\"opacity: 1; stroke-width: 0px; fill: rgb(239, 85, 59); fill-opacity: 1;\"/><path class=\"point\" transform=\"translate(117.97,241.68)\" d=\"M3,0A3,3 0 1,1 0,-3A3,3 0 0,1 3,0Z\" style=\"opacity: 1; stroke-width: 0px; fill: rgb(239, 85, 59); fill-opacity: 1;\"/><path class=\"point\" transform=\"translate(121.05,242.04)\" d=\"M3,0A3,3 0 1,1 0,-3A3,3 0 0,1 3,0Z\" style=\"opacity: 1; stroke-width: 0px; fill: rgb(239, 85, 59); fill-opacity: 1;\"/><path class=\"point\" transform=\"translate(122.74,242.04)\" d=\"M3,0A3,3 0 1,1 0,-3A3,3 0 0,1 3,0Z\" style=\"opacity: 1; stroke-width: 0px; fill: rgb(239, 85, 59); fill-opacity: 1;\"/><path class=\"point\" transform=\"translate(124.64,242.78)\" d=\"M3,0A3,3 0 1,1 0,-3A3,3 0 0,1 3,0Z\" style=\"opacity: 1; stroke-width: 0px; fill: rgb(239, 85, 59); fill-opacity: 1;\"/><path class=\"point\" transform=\"translate(125.92,242.78)\" d=\"M3,0A3,3 0 1,1 0,-3A3,3 0 0,1 3,0Z\" style=\"opacity: 1; stroke-width: 0px; fill: rgb(239, 85, 59); fill-opacity: 1;\"/><path class=\"point\" transform=\"translate(128.65,243.31)\" d=\"M3,0A3,3 0 1,1 0,-3A3,3 0 0,1 3,0Z\" style=\"opacity: 1; stroke-width: 0px; fill: rgb(239, 85, 59); fill-opacity: 1;\"/><path class=\"point\" transform=\"translate(130.66,243.31)\" d=\"M3,0A3,3 0 1,1 0,-3A3,3 0 0,1 3,0Z\" style=\"opacity: 1; stroke-width: 0px; fill: rgb(239, 85, 59); fill-opacity: 1;\"/><path class=\"point\" transform=\"translate(135.46,244.05)\" d=\"M3,0A3,3 0 1,1 0,-3A3,3 0 0,1 3,0Z\" style=\"opacity: 1; stroke-width: 0px; fill: rgb(239, 85, 59); fill-opacity: 1;\"/><path class=\"point\" transform=\"translate(136.37,244.05)\" d=\"M3,0A3,3 0 1,1 0,-3A3,3 0 0,1 3,0Z\" style=\"opacity: 1; stroke-width: 0px; fill: rgb(239, 85, 59); fill-opacity: 1;\"/><path class=\"point\" transform=\"translate(137.3,244.41)\" d=\"M3,0A3,3 0 1,1 0,-3A3,3 0 0,1 3,0Z\" style=\"opacity: 1; stroke-width: 0px; fill: rgb(239, 85, 59); fill-opacity: 1;\"/><path class=\"point\" transform=\"translate(139.49,244.95)\" d=\"M3,0A3,3 0 1,1 0,-3A3,3 0 0,1 3,0Z\" style=\"opacity: 1; stroke-width: 0px; fill: rgb(239, 85, 59); fill-opacity: 1;\"/><path class=\"point\" transform=\"translate(141.96,244.95)\" d=\"M3,0A3,3 0 1,1 0,-3A3,3 0 0,1 3,0Z\" style=\"opacity: 1; stroke-width: 0px; fill: rgb(239, 85, 59); fill-opacity: 1;\"/><path class=\"point\" transform=\"translate(143.93,245.31)\" d=\"M3,0A3,3 0 1,1 0,-3A3,3 0 0,1 3,0Z\" style=\"opacity: 1; stroke-width: 0px; fill: rgb(239, 85, 59); fill-opacity: 1;\"/><path class=\"point\" transform=\"translate(146.85,245.86)\" d=\"M3,0A3,3 0 1,1 0,-3A3,3 0 0,1 3,0Z\" style=\"opacity: 1; stroke-width: 0px; fill: rgb(239, 85, 59); fill-opacity: 1;\"/><path class=\"point\" transform=\"translate(148.99,245.86)\" d=\"M3,0A3,3 0 1,1 0,-3A3,3 0 0,1 3,0Z\" style=\"opacity: 1; stroke-width: 0px; fill: rgb(239, 85, 59); fill-opacity: 1;\"/><path class=\"point\" transform=\"translate(149.88,246.4)\" d=\"M3,0A3,3 0 1,1 0,-3A3,3 0 0,1 3,0Z\" style=\"opacity: 1; stroke-width: 0px; fill: rgb(239, 85, 59); fill-opacity: 1;\"/><path class=\"point\" transform=\"translate(152.98,246.58)\" d=\"M3,0A3,3 0 1,1 0,-3A3,3 0 0,1 3,0Z\" style=\"opacity: 1; stroke-width: 0px; fill: rgb(239, 85, 59); fill-opacity: 1;\"/><path class=\"point\" transform=\"translate(155.53,246.94)\" d=\"M3,0A3,3 0 1,1 0,-3A3,3 0 0,1 3,0Z\" style=\"opacity: 1; stroke-width: 0px; fill: rgb(239, 85, 59); fill-opacity: 1;\"/><path class=\"point\" transform=\"translate(156.64,247.14)\" d=\"M3,0A3,3 0 1,1 0,-3A3,3 0 0,1 3,0Z\" style=\"opacity: 1; stroke-width: 0px; fill: rgb(239, 85, 59); fill-opacity: 1;\"/><path class=\"point\" transform=\"translate(159.69,247.5)\" d=\"M3,0A3,3 0 1,1 0,-3A3,3 0 0,1 3,0Z\" style=\"opacity: 1; stroke-width: 0px; fill: rgb(239, 85, 59); fill-opacity: 1;\"/><path class=\"point\" transform=\"translate(162.18,247.86)\" d=\"M3,0A3,3 0 1,1 0,-3A3,3 0 0,1 3,0Z\" style=\"opacity: 1; stroke-width: 0px; fill: rgb(239, 85, 59); fill-opacity: 1;\"/><path class=\"point\" transform=\"translate(163.33,248.04)\" d=\"M3,0A3,3 0 1,1 0,-3A3,3 0 0,1 3,0Z\" style=\"opacity: 1; stroke-width: 0px; fill: rgb(239, 85, 59); fill-opacity: 1;\"/><path class=\"point\" transform=\"translate(165.62,248.4)\" d=\"M3,0A3,3 0 1,1 0,-3A3,3 0 0,1 3,0Z\" style=\"opacity: 1; stroke-width: 0px; fill: rgb(239, 85, 59); fill-opacity: 1;\"/><path class=\"point\" transform=\"translate(169.32,248.77)\" d=\"M3,0A3,3 0 1,1 0,-3A3,3 0 0,1 3,0Z\" style=\"opacity: 1; stroke-width: 0px; fill: rgb(239, 85, 59); fill-opacity: 1;\"/><path class=\"point\" transform=\"translate(170.77,248.95)\" d=\"M3,0A3,3 0 1,1 0,-3A3,3 0 0,1 3,0Z\" style=\"opacity: 1; stroke-width: 0px; fill: rgb(239, 85, 59); fill-opacity: 1;\"/><path class=\"point\" transform=\"translate(171.62,249.13)\" d=\"M3,0A3,3 0 1,1 0,-3A3,3 0 0,1 3,0Z\" style=\"opacity: 1; stroke-width: 0px; fill: rgb(239, 85, 59); fill-opacity: 1;\"/><path class=\"point\" transform=\"translate(174.97,249.49)\" d=\"M3,0A3,3 0 1,1 0,-3A3,3 0 0,1 3,0Z\" style=\"opacity: 1; stroke-width: 0px; fill: rgb(239, 85, 59); fill-opacity: 1;\"/><path class=\"point\" transform=\"translate(176.77,249.49)\" d=\"M3,0A3,3 0 1,1 0,-3A3,3 0 0,1 3,0Z\" style=\"opacity: 1; stroke-width: 0px; fill: rgb(239, 85, 59); fill-opacity: 1;\"/><path class=\"point\" transform=\"translate(178.31,250.05)\" d=\"M3,0A3,3 0 1,1 0,-3A3,3 0 0,1 3,0Z\" style=\"opacity: 1; stroke-width: 0px; fill: rgb(239, 85, 59); fill-opacity: 1;\"/><path class=\"point\" transform=\"translate(181.32,250.22)\" d=\"M3,0A3,3 0 1,1 0,-3A3,3 0 0,1 3,0Z\" style=\"opacity: 1; stroke-width: 0px; fill: rgb(239, 85, 59); fill-opacity: 1;\"/><path class=\"point\" transform=\"translate(183.16,250.4)\" d=\"M3,0A3,3 0 1,1 0,-3A3,3 0 0,1 3,0Z\" style=\"opacity: 1; stroke-width: 0px; fill: rgb(239, 85, 59); fill-opacity: 1;\"/><path class=\"point\" transform=\"translate(185.04,250.94)\" d=\"M3,0A3,3 0 1,1 0,-3A3,3 0 0,1 3,0Z\" style=\"opacity: 1; stroke-width: 0px; fill: rgb(239, 85, 59); fill-opacity: 1;\"/><path class=\"point\" transform=\"translate(186.55,251.12)\" d=\"M3,0A3,3 0 1,1 0,-3A3,3 0 0,1 3,0Z\" style=\"opacity: 1; stroke-width: 0px; fill: rgb(239, 85, 59); fill-opacity: 1;\"/><path class=\"point\" transform=\"translate(189.87,251.12)\" d=\"M3,0A3,3 0 1,1 0,-3A3,3 0 0,1 3,0Z\" style=\"opacity: 1; stroke-width: 0px; fill: rgb(239, 85, 59); fill-opacity: 1;\"/><path class=\"point\" transform=\"translate(191.71,251.68)\" d=\"M3,0A3,3 0 1,1 0,-3A3,3 0 0,1 3,0Z\" style=\"opacity: 1; stroke-width: 0px; fill: rgb(239, 85, 59); fill-opacity: 1;\"/><path class=\"point\" transform=\"translate(196.19,251.86)\" d=\"M3,0A3,3 0 1,1 0,-3A3,3 0 0,1 3,0Z\" style=\"opacity: 1; stroke-width: 0px; fill: rgb(239, 85, 59); fill-opacity: 1;\"/><path class=\"point\" transform=\"translate(197.53,252.04)\" d=\"M3,0A3,3 0 1,1 0,-3A3,3 0 0,1 3,0Z\" style=\"opacity: 1; stroke-width: 0px; fill: rgb(239, 85, 59); fill-opacity: 1;\"/><path class=\"point\" transform=\"translate(198.35,252.22)\" d=\"M3,0A3,3 0 1,1 0,-3A3,3 0 0,1 3,0Z\" style=\"opacity: 1; stroke-width: 0px; fill: rgb(239, 85, 59); fill-opacity: 1;\"/><path class=\"point\" transform=\"translate(199.89,252.58)\" d=\"M3,0A3,3 0 1,1 0,-3A3,3 0 0,1 3,0Z\" style=\"opacity: 1; stroke-width: 0px; fill: rgb(239, 85, 59); fill-opacity: 1;\"/><path class=\"point\" transform=\"translate(202.64,252.76)\" d=\"M3,0A3,3 0 1,1 0,-3A3,3 0 0,1 3,0Z\" style=\"opacity: 1; stroke-width: 0px; fill: rgb(239, 85, 59); fill-opacity: 1;\"/><path class=\"point\" transform=\"translate(205,252.94)\" d=\"M3,0A3,3 0 1,1 0,-3A3,3 0 0,1 3,0Z\" style=\"opacity: 1; stroke-width: 0px; fill: rgb(239, 85, 59); fill-opacity: 1;\"/><path class=\"point\" transform=\"translate(206.58,253.31)\" d=\"M3,0A3,3 0 1,1 0,-3A3,3 0 0,1 3,0Z\" style=\"opacity: 1; stroke-width: 0px; fill: rgb(239, 85, 59); fill-opacity: 1;\"/><path class=\"point\" transform=\"translate(208.42,253.31)\" d=\"M3,0A3,3 0 1,1 0,-3A3,3 0 0,1 3,0Z\" style=\"opacity: 1; stroke-width: 0px; fill: rgb(239, 85, 59); fill-opacity: 1;\"/><path class=\"point\" transform=\"translate(210.78,253.49)\" d=\"M3,0A3,3 0 1,1 0,-3A3,3 0 0,1 3,0Z\" style=\"opacity: 1; stroke-width: 0px; fill: rgb(239, 85, 59); fill-opacity: 1;\"/><path class=\"point\" transform=\"translate(213.2,253.67)\" d=\"M3,0A3,3 0 1,1 0,-3A3,3 0 0,1 3,0Z\" style=\"opacity: 1; stroke-width: 0px; fill: rgb(239, 85, 59); fill-opacity: 1;\"/><path class=\"point\" transform=\"translate(215.82,254.21)\" d=\"M3,0A3,3 0 1,1 0,-3A3,3 0 0,1 3,0Z\" style=\"opacity: 1; stroke-width: 0px; fill: rgb(239, 85, 59); fill-opacity: 1;\"/><path class=\"point\" transform=\"translate(217.71,254.21)\" d=\"M3,0A3,3 0 1,1 0,-3A3,3 0 0,1 3,0Z\" style=\"opacity: 1; stroke-width: 0px; fill: rgb(239, 85, 59); fill-opacity: 1;\"/><path class=\"point\" transform=\"translate(219.98,254.59)\" d=\"M3,0A3,3 0 1,1 0,-3A3,3 0 0,1 3,0Z\" style=\"opacity: 1; stroke-width: 0px; fill: rgb(239, 85, 59); fill-opacity: 1;\"/><path class=\"point\" transform=\"translate(222.94,254.77)\" d=\"M3,0A3,3 0 1,1 0,-3A3,3 0 0,1 3,0Z\" style=\"opacity: 1; stroke-width: 0px; fill: rgb(239, 85, 59); fill-opacity: 1;\"/><path class=\"point\" transform=\"translate(224.87,254.95)\" d=\"M3,0A3,3 0 1,1 0,-3A3,3 0 0,1 3,0Z\" style=\"opacity: 1; stroke-width: 0px; fill: rgb(239, 85, 59); fill-opacity: 1;\"/><path class=\"point\" transform=\"translate(225.93,255.31)\" d=\"M3,0A3,3 0 1,1 0,-3A3,3 0 0,1 3,0Z\" style=\"opacity: 1; stroke-width: 0px; fill: rgb(239, 85, 59); fill-opacity: 1;\"/><path class=\"point\" transform=\"translate(229.11,255.48)\" d=\"M3,0A3,3 0 1,1 0,-3A3,3 0 0,1 3,0Z\" style=\"opacity: 1; stroke-width: 0px; fill: rgb(239, 85, 59); fill-opacity: 1;\"/><path class=\"point\" transform=\"translate(231,255.66)\" d=\"M3,0A3,3 0 1,1 0,-3A3,3 0 0,1 3,0Z\" style=\"opacity: 1; stroke-width: 0px; fill: rgb(239, 85, 59); fill-opacity: 1;\"/><path class=\"point\" transform=\"translate(232.58,255.84)\" d=\"M3,0A3,3 0 1,1 0,-3A3,3 0 0,1 3,0Z\" style=\"opacity: 1; stroke-width: 0px; fill: rgb(239, 85, 59); fill-opacity: 1;\"/><path class=\"point\" transform=\"translate(234.53,256.22)\" d=\"M3,0A3,3 0 1,1 0,-3A3,3 0 0,1 3,0Z\" style=\"opacity: 1; stroke-width: 0px; fill: rgb(239, 85, 59); fill-opacity: 1;\"/><path class=\"point\" transform=\"translate(236.95,256.4)\" d=\"M3,0A3,3 0 1,1 0,-3A3,3 0 0,1 3,0Z\" style=\"opacity: 1; stroke-width: 0px; fill: rgb(239, 85, 59); fill-opacity: 1;\"/><path class=\"point\" transform=\"translate(239.51,256.76)\" d=\"M3,0A3,3 0 1,1 0,-3A3,3 0 0,1 3,0Z\" style=\"opacity: 1; stroke-width: 0px; fill: rgb(239, 85, 59); fill-opacity: 1;\"/><path class=\"point\" transform=\"translate(241.32,256.94)\" d=\"M3,0A3,3 0 1,1 0,-3A3,3 0 0,1 3,0Z\" style=\"opacity: 1; stroke-width: 0px; fill: rgb(239, 85, 59); fill-opacity: 1;\"/><path class=\"point\" transform=\"translate(243.73,256.94)\" d=\"M3,0A3,3 0 1,1 0,-3A3,3 0 0,1 3,0Z\" style=\"opacity: 1; stroke-width: 0px; fill: rgb(239, 85, 59); fill-opacity: 1;\"/><path class=\"point\" transform=\"translate(245.18,257.12)\" d=\"M3,0A3,3 0 1,1 0,-3A3,3 0 0,1 3,0Z\" style=\"opacity: 1; stroke-width: 0px; fill: rgb(239, 85, 59); fill-opacity: 1;\"/><path class=\"point\" transform=\"translate(246.24,257.48)\" d=\"M3,0A3,3 0 1,1 0,-3A3,3 0 0,1 3,0Z\" style=\"opacity: 1; stroke-width: 0px; fill: rgb(239, 85, 59); fill-opacity: 1;\"/><path class=\"point\" transform=\"translate(246.67,258.03)\" d=\"M3,0A3,3 0 1,1 0,-3A3,3 0 0,1 3,0Z\" style=\"opacity: 1; stroke-width: 0px; fill: rgb(239, 85, 59); fill-opacity: 1;\"/><path class=\"point\" transform=\"translate(268.73,75.06)\" d=\"M3,0A3,3 0 1,1 0,-3A3,3 0 0,1 3,0Z\" style=\"opacity: 1; stroke-width: 0px; fill: rgb(239, 85, 59); fill-opacity: 1;\"/><path class=\"point\" transform=\"translate(290.12,71.97)\" d=\"M3,0A3,3 0 1,1 0,-3A3,3 0 0,1 3,0Z\" style=\"opacity: 1; stroke-width: 0px; fill: rgb(239, 85, 59); fill-opacity: 1;\"/><path class=\"point\" transform=\"translate(312.39,69.8)\" d=\"M3,0A3,3 0 1,1 0,-3A3,3 0 0,1 3,0Z\" style=\"opacity: 1; stroke-width: 0px; fill: rgb(239, 85, 59); fill-opacity: 1;\"/><path class=\"point\" transform=\"translate(333.39,67.99)\" d=\"M3,0A3,3 0 1,1 0,-3A3,3 0 0,1 3,0Z\" style=\"opacity: 1; stroke-width: 0px; fill: rgb(239, 85, 59); fill-opacity: 1;\"/><path class=\"point\" transform=\"translate(354.98,66.71)\" d=\"M3,0A3,3 0 1,1 0,-3A3,3 0 0,1 3,0Z\" style=\"opacity: 1; stroke-width: 0px; fill: rgb(239, 85, 59); fill-opacity: 1;\"/><path class=\"point\" transform=\"translate(377.17,65.62)\" d=\"M3,0A3,3 0 1,1 0,-3A3,3 0 0,1 3,0Z\" style=\"opacity: 1; stroke-width: 0px; fill: rgb(239, 85, 59); fill-opacity: 1;\"/><path class=\"point\" transform=\"translate(399.4,64.34)\" d=\"M3,0A3,3 0 1,1 0,-3A3,3 0 0,1 3,0Z\" style=\"opacity: 1; stroke-width: 0px; fill: rgb(239, 85, 59); fill-opacity: 1;\"/><path class=\"point\" transform=\"translate(419.9,63.63)\" d=\"M3,0A3,3 0 1,1 0,-3A3,3 0 0,1 3,0Z\" style=\"opacity: 1; stroke-width: 0px; fill: rgb(239, 85, 59); fill-opacity: 1;\"/><path class=\"point\" transform=\"translate(441.85,63.07)\" d=\"M3,0A3,3 0 1,1 0,-3A3,3 0 0,1 3,0Z\" style=\"opacity: 1; stroke-width: 0px; fill: rgb(239, 85, 59); fill-opacity: 1;\"/><path class=\"point\" transform=\"translate(463.65,62.17)\" d=\"M3,0A3,3 0 1,1 0,-3A3,3 0 0,1 3,0Z\" style=\"opacity: 1; stroke-width: 0px; fill: rgb(239, 85, 59); fill-opacity: 1;\"/></g><g class=\"text\"/></g><g class=\"trace scatter trace68355a\" style=\"stroke-miterlimit: 2; opacity: 1;\"><g class=\"fills\"/><g class=\"errorbars\"/><g class=\"lines\"><path class=\"js-line\" d=\"M28.35,41.99L28.74,41.99L30.97,207.34L33.78,242.51L35.78,242.92L76.6,250.19L80.95,250.95L245.18,278.01L246.24,232.72L246.67,78.23L268.73,77.75L419.9,75.9L441.85,75.76L463.65,75.62\" style=\"vector-effect: none; fill: none; stroke: rgb(0, 204, 150); stroke-opacity: 1; stroke-width: 4px; opacity: 1;\"/></g><g class=\"points\"/><g class=\"text\"/></g></g></g></g><path class=\"xlines-above crisp\" d=\"M0,0\" style=\"fill: none;\"/><path class=\"ylines-above crisp\" d=\"M0,0\" style=\"fill: none;\"/><g class=\"overlines-above\"/><g class=\"xaxislayer-above\"><g class=\"xtick\"><text text-anchor=\"middle\" x=\"0\" y=\"433\" transform=\"translate(108.35,0)\" style=\"font-family: 'Open Sans', verdana, arial, sans-serif; font-size: 12px; fill: rgb(42, 63, 95); fill-opacity: 1; white-space: pre; opacity: 1;\">0</text></g><g class=\"xtick\"><text text-anchor=\"middle\" x=\"0\" y=\"433\" style=\"font-family: 'Open Sans', verdana, arial, sans-serif; font-size: 12px; fill: rgb(42, 63, 95); fill-opacity: 1; white-space: pre; opacity: 1;\" transform=\"translate(216.59,0)\">5</text></g><g class=\"xtick\"><text text-anchor=\"middle\" x=\"0\" y=\"433\" style=\"font-family: 'Open Sans', verdana, arial, sans-serif; font-size: 12px; fill: rgb(42, 63, 95); fill-opacity: 1; white-space: pre; opacity: 1;\" transform=\"translate(324.83000000000004,0)\">10</text></g><g class=\"xtick\"><text text-anchor=\"middle\" x=\"0\" y=\"433\" style=\"font-family: 'Open Sans', verdana, arial, sans-serif; font-size: 12px; fill: rgb(42, 63, 95); fill-opacity: 1; white-space: pre; opacity: 1;\" transform=\"translate(433.07,0)\">15</text></g><g class=\"xtick\"><text text-anchor=\"middle\" x=\"0\" y=\"433\" style=\"font-family: 'Open Sans', verdana, arial, sans-serif; font-size: 12px; fill: rgb(42, 63, 95); fill-opacity: 1; white-space: pre; opacity: 1;\" transform=\"translate(541.31,0)\">20</text></g></g><g class=\"yaxislayer-above\"><g class=\"ytick\"><text text-anchor=\"end\" x=\"79\" y=\"4.199999999999999\" transform=\"translate(0,375.69)\" style=\"font-family: 'Open Sans', verdana, arial, sans-serif; font-size: 12px; fill: rgb(42, 63, 95); fill-opacity: 1; white-space: pre; opacity: 1;\">3.85</text></g><g class=\"ytick\"><text text-anchor=\"end\" x=\"79\" y=\"4.199999999999999\" style=\"font-family: 'Open Sans', verdana, arial, sans-serif; font-size: 12px; fill: rgb(42, 63, 95); fill-opacity: 1; white-space: pre; opacity: 1;\" transform=\"translate(0,294.01)\">3.9</text></g><g class=\"ytick\"><text text-anchor=\"end\" x=\"79\" y=\"4.199999999999999\" style=\"font-family: 'Open Sans', verdana, arial, sans-serif; font-size: 12px; fill: rgb(42, 63, 95); fill-opacity: 1; white-space: pre; opacity: 1;\" transform=\"translate(0,212.34)\">3.95</text></g><g class=\"ytick\"><text text-anchor=\"end\" x=\"79\" y=\"4.199999999999999\" style=\"font-family: 'Open Sans', verdana, arial, sans-serif; font-size: 12px; fill: rgb(42, 63, 95); fill-opacity: 1; white-space: pre; opacity: 1;\" transform=\"translate(0,130.66)\">4</text></g></g><g class=\"overaxes-above\"/></g></g><g class=\"polarlayer\"/><g class=\"smithlayer\"/><g class=\"ternarylayer\"/><g class=\"geolayer\"/><g class=\"funnelarealayer\"/><g class=\"pielayer\"/><g class=\"iciclelayer\"/><g class=\"treemaplayer\"/><g class=\"sunburstlayer\"/><g class=\"glimages\"/><defs id=\"topdefs-7fca3c\"><g class=\"clips\"/><clipPath id=\"legend7fca3c\"><rect width=\"106\" height=\"48\" x=\"0\" y=\"0\"/></clipPath></defs><g class=\"layer-above\"><g class=\"imagelayer\"/><g class=\"shapelayer\"/></g><g class=\"infolayer\"><g class=\"legend\" pointer-events=\"all\" transform=\"translate(581.84,100)\"><rect class=\"bg\" shape-rendering=\"crispEdges\" width=\"106\" height=\"48\" x=\"0\" y=\"0\" style=\"stroke: rgb(68, 68, 68); stroke-opacity: 1; fill: rgb(255, 255, 255); fill-opacity: 1; stroke-width: 0px;\"/><g class=\"scrollbox\" transform=\"\" clip-path=\"url(#legend7fca3c)\"><g class=\"groups\"><g class=\"traces\" transform=\"translate(0,14.5)\" style=\"opacity: 1;\"><text class=\"legendtext\" text-anchor=\"start\" x=\"40\" y=\"4.680000000000001\" style=\"font-family: 'Open Sans', verdana, arial, sans-serif; font-size: 12px; fill: rgb(42, 63, 95); fill-opacity: 1; white-space: pre;\">Reference</text><g class=\"layers\" style=\"opacity: 1;\"><g class=\"legendfill\"/><g class=\"legendlines\"/><g class=\"legendsymbols\"><g class=\"legendpoints\"><path class=\"scatterpts\" transform=\"translate(20,0)\" d=\"M3,0A3,3 0 1,1 0,-3A3,3 0 0,1 3,0Z\" style=\"opacity: 1; stroke-width: 0px; fill: rgb(239, 85, 59); fill-opacity: 1;\"/></g></g></g><rect class=\"legendtoggle\" x=\"0\" y=\"-9.5\" width=\"100.4375\" height=\"19\" style=\"fill: rgb(0, 0, 0); fill-opacity: 0;\"/></g><g class=\"traces\" transform=\"translate(0,33.5)\" style=\"opacity: 1;\"><text class=\"legendtext\" text-anchor=\"start\" x=\"40\" y=\"4.680000000000001\" style=\"font-family: 'Open Sans', verdana, arial, sans-serif; font-size: 12px; fill: rgb(42, 63, 95); fill-opacity: 1; white-space: pre;\">Model</text><g class=\"layers\" style=\"opacity: 1;\"><g class=\"legendfill\"/><g class=\"legendlines\"><path class=\"js-line\" d=\"M5,0h30\" style=\"fill: none; stroke: rgb(0, 204, 150); stroke-opacity: 1; stroke-width: 4px;\"/></g><g class=\"legendsymbols\"><g class=\"legendpoints\"/></g></g><rect class=\"legendtoggle\" x=\"0\" y=\"-9.5\" width=\"100.4375\" height=\"19\" style=\"fill: rgb(0, 0, 0); fill-opacity: 0;\"/></g></g></g><rect class=\"scrollbar\" rx=\"20\" ry=\"3\" width=\"0\" height=\"0\" x=\"0\" y=\"0\" style=\"fill: rgb(128, 139, 164); fill-opacity: 1;\"/></g><g class=\"g-gtitle\"><text class=\"gtitle\" x=\"35\" y=\"50\" text-anchor=\"start\" dy=\"0em\" style=\"opacity: 1; font-family: 'Open Sans', verdana, arial, sans-serif; font-size: 17px; fill: rgb(42, 63, 95); fill-opacity: 1; white-space: pre;\">Parameter Extrapolation</text></g><g class=\"g-xtitle\"><text class=\"xtitle\" x=\"326\" y=\"460.3\" text-anchor=\"middle\" style=\"opacity: 1; font-family: 'Open Sans', verdana, arial, sans-serif; font-size: 14px; fill: rgb(42, 63, 95); fill-opacity: 1; white-space: pre;\">Time / s</text></g><g class=\"g-ytitle\"><text class=\"ytitle\" transform=\"rotate(-90,32.88125,260)\" x=\"32.88125\" y=\"260\" text-anchor=\"middle\" style=\"opacity: 1; font-family: 'Open Sans', verdana, arial, sans-serif; font-size: 14px; fill: rgb(42, 63, 95); fill-opacity: 1; white-space: pre;\">Voltage  / V</text></g></g></svg>"
      ]
     },
     "metadata": {},
     "output_type": "display_data"
    }
   ],
   "source": [
    "pybop.quick_plot(problem, problem_inputs=x, title=\"Parameter Extrapolation\");"
   ]
  },
  {
   "cell_type": "markdown",
   "id": "38",
   "metadata": {},
   "source": [
    "As expected, when identifying parameters from a single pulse, extrapolation to different operating conditions is challenging. To solve this issue, parameter identification with various pulse datasets is recommended."
   ]
  },
  {
   "cell_type": "markdown",
   "id": "39",
   "metadata": {},
   "source": [
    "### Conclusion\n",
    "\n",
    "This notebook illustrates how to perform circuit model parameter identification using PSO in PyBOP, providing insights into the optimisation process through various visualisations."
   ]
  }
 ],
 "metadata": {
  "kernelspec": {
   "display_name": "Python 3 (ipykernel)",
   "language": "python",
   "name": "python3"
  },
  "language_info": {
   "codemirror_mode": {
    "name": "ipython",
    "version": 3
   },
   "file_extension": ".py",
   "mimetype": "text/x-python",
   "name": "python",
   "nbconvert_exporter": "python",
   "pygments_lexer": "ipython3",
   "version": "3.11.9"
  }
 },
 "nbformat": 4,
 "nbformat_minor": 5
}
