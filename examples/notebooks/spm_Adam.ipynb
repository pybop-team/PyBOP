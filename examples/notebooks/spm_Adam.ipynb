{
 "cells": [
  {
   "cell_type": "markdown",
   "metadata": {
    "id": "expmkveO04pw"
   },
   "source": [
    "## Parameter Estimation with Adam in PyBOP\n",
    "\n",
    "In this notebook, we demonstrate an example of parameter estimation for a single-particle model using the Adam optimiser [1]. The ADAM optimiser is an algorithm for gradient-based optimisation, combining the advantages of the Adaptive Gradient Algorithm (AdaGrad) and Root Mean Square Propagation (RMSProp).\n",
    "\n",
    "[[1]: Adam: A Method for Stochastic Optimization](https://arxiv.org/abs/1412.6980)\n",
    "\n",
    "### Setting up the Environment\n",
    "\n",
    "Before we begin, we need to ensure that we have all the necessary tools. We will install PyBOP from its development branch and upgrade some dependencies:"
   ]
  },
  {
   "cell_type": "code",
   "execution_count": 15,
   "metadata": {
    "colab": {
     "base_uri": "https://localhost:8080/"
    },
    "id": "X87NUGPW04py",
    "outputId": "0d785b07-7cff-4aeb-e60a-4ff5a669afbf"
   },
   "outputs": [
    {
     "name": "stdout",
     "output_type": "stream",
     "text": [
      "Requirement already satisfied: pip in /Users/bradyplanden/.pyenv/versions/pybop-env/lib/python3.11/site-packages (23.3.2)\n",
      "Requirement already satisfied: ipywidgets in /Users/bradyplanden/.pyenv/versions/pybop-env/lib/python3.11/site-packages (8.1.1)\n",
      "Requirement already satisfied: comm>=0.1.3 in /Users/bradyplanden/.pyenv/versions/pybop-env/lib/python3.11/site-packages (from ipywidgets) (0.2.0)\n",
      "Requirement already satisfied: ipython>=6.1.0 in /Users/bradyplanden/.pyenv/versions/pybop-env/lib/python3.11/site-packages (from ipywidgets) (8.18.1)\n",
      "Requirement already satisfied: traitlets>=4.3.1 in /Users/bradyplanden/.pyenv/versions/pybop-env/lib/python3.11/site-packages (from ipywidgets) (5.14.0)\n",
      "Requirement already satisfied: widgetsnbextension~=4.0.9 in /Users/bradyplanden/.pyenv/versions/pybop-env/lib/python3.11/site-packages (from ipywidgets) (4.0.9)\n",
      "Requirement already satisfied: jupyterlab-widgets~=3.0.9 in /Users/bradyplanden/.pyenv/versions/pybop-env/lib/python3.11/site-packages (from ipywidgets) (3.0.9)\n",
      "Requirement already satisfied: decorator in /Users/bradyplanden/.pyenv/versions/pybop-env/lib/python3.11/site-packages (from ipython>=6.1.0->ipywidgets) (5.1.1)\n",
      "Requirement already satisfied: jedi>=0.16 in /Users/bradyplanden/.pyenv/versions/pybop-env/lib/python3.11/site-packages (from ipython>=6.1.0->ipywidgets) (0.19.1)\n",
      "Requirement already satisfied: matplotlib-inline in /Users/bradyplanden/.pyenv/versions/pybop-env/lib/python3.11/site-packages (from ipython>=6.1.0->ipywidgets) (0.1.6)\n",
      "Requirement already satisfied: prompt-toolkit<3.1.0,>=3.0.41 in /Users/bradyplanden/.pyenv/versions/pybop-env/lib/python3.11/site-packages (from ipython>=6.1.0->ipywidgets) (3.0.41)\n",
      "Requirement already satisfied: pygments>=2.4.0 in /Users/bradyplanden/.pyenv/versions/pybop-env/lib/python3.11/site-packages (from ipython>=6.1.0->ipywidgets) (2.17.2)\n",
      "Requirement already satisfied: stack-data in /Users/bradyplanden/.pyenv/versions/pybop-env/lib/python3.11/site-packages (from ipython>=6.1.0->ipywidgets) (0.6.3)\n",
      "Requirement already satisfied: pexpect>4.3 in /Users/bradyplanden/.pyenv/versions/pybop-env/lib/python3.11/site-packages (from ipython>=6.1.0->ipywidgets) (4.9.0)\n",
      "Requirement already satisfied: parso<0.9.0,>=0.8.3 in /Users/bradyplanden/.pyenv/versions/pybop-env/lib/python3.11/site-packages (from jedi>=0.16->ipython>=6.1.0->ipywidgets) (0.8.3)\n",
      "Requirement already satisfied: ptyprocess>=0.5 in /Users/bradyplanden/.pyenv/versions/pybop-env/lib/python3.11/site-packages (from pexpect>4.3->ipython>=6.1.0->ipywidgets) (0.7.0)\n",
      "Requirement already satisfied: wcwidth in /Users/bradyplanden/.pyenv/versions/pybop-env/lib/python3.11/site-packages (from prompt-toolkit<3.1.0,>=3.0.41->ipython>=6.1.0->ipywidgets) (0.2.12)\n",
      "Requirement already satisfied: executing>=1.2.0 in /Users/bradyplanden/.pyenv/versions/pybop-env/lib/python3.11/site-packages (from stack-data->ipython>=6.1.0->ipywidgets) (2.0.1)\n",
      "Requirement already satisfied: asttokens>=2.1.0 in /Users/bradyplanden/.pyenv/versions/pybop-env/lib/python3.11/site-packages (from stack-data->ipython>=6.1.0->ipywidgets) (2.4.1)\n",
      "Requirement already satisfied: pure-eval in /Users/bradyplanden/.pyenv/versions/pybop-env/lib/python3.11/site-packages (from stack-data->ipython>=6.1.0->ipywidgets) (0.2.2)\n",
      "Requirement already satisfied: six>=1.12.0 in /Users/bradyplanden/.pyenv/versions/pybop-env/lib/python3.11/site-packages (from asttokens>=2.1.0->stack-data->ipython>=6.1.0->ipywidgets) (1.16.0)\n",
      "Note: you may need to restart the kernel to use updated packages.\n",
      "Note: you may need to restart the kernel to use updated packages.\n"
     ]
    }
   ],
   "source": [
    "%pip install --upgrade pip ipywidgets\n",
    "%pip install pybop -q"
   ]
  },
  {
   "cell_type": "markdown",
   "metadata": {
    "id": "jAvD5fk104p0"
   },
   "source": [
    "### Importing Libraries\n",
    "\n",
    "With the environment set up, we can now import PyBOP alongside other libraries we will need:"
   ]
  },
  {
   "cell_type": "code",
   "execution_count": 16,
   "metadata": {
    "id": "SQdt4brD04p1"
   },
   "outputs": [],
   "source": [
    "import pybop\n",
    "import numpy as np"
   ]
  },
  {
   "cell_type": "markdown",
   "metadata": {
    "id": "5XU-dMtU04p2"
   },
   "source": [
    "### Generate Synthetic Data\n",
    "\n",
    "To demonstrate parameter estimation, we first need some data. We will generate synthetic data using the PyBOP forward model, which requires defining a parameter set and the model itself.\n",
    "\n",
    "#### Defining Parameters and Model\n",
    "\n",
    "We start by creating an example parameter set and then instantiate the single-particle model (SPM):"
   ]
  },
  {
   "cell_type": "code",
   "execution_count": 17,
   "metadata": {},
   "outputs": [],
   "source": [
    "parameter_set = pybop.ParameterSet.pybamm(\"Chen2020\")\n",
    "model = pybop.lithium_ion.SPM(parameter_set=parameter_set)"
   ]
  },
  {
   "cell_type": "markdown",
   "metadata": {},
   "source": [
    "### Simulating Forward Model\n",
    "\n",
    "We can then simulate the model using the `predict` method, with a default constant current to generate voltage data."
   ]
  },
  {
   "cell_type": "code",
   "execution_count": 18,
   "metadata": {
    "id": "sBasxv8U04p3"
   },
   "outputs": [],
   "source": [
    "t_eval = np.arange(0, 900, 2)\n",
    "values = model.predict(t_eval=t_eval)"
   ]
  },
  {
   "cell_type": "markdown",
   "metadata": {},
   "source": [
    "### Adding Noise to Voltage Data\n",
    "\n",
    "To make the parameter estimation more realistic, we add Gaussian noise to the data."
   ]
  },
  {
   "cell_type": "code",
   "execution_count": 19,
   "metadata": {},
   "outputs": [],
   "source": [
    "sigma = 0.001\n",
    "corrupt_values = values[\"Voltage [V]\"].data + np.random.normal(0, sigma, len(t_eval))"
   ]
  },
  {
   "cell_type": "markdown",
   "metadata": {
    "id": "X8-tubYY04p_"
   },
   "source": [
    "## Identify the Parameters"
   ]
  },
  {
   "cell_type": "markdown",
   "metadata": {
    "id": "PQqhvSZN04p_"
   },
   "source": [
    "We will now set up the parameter estimation process by defining the datasets for optimisation and selecting the model parameters we wish to estimate."
   ]
  },
  {
   "cell_type": "markdown",
   "metadata": {},
   "source": [
    "### Creating Optimisation Dataset\n",
    "\n",
    "The dataset for optimisation is composed of time, current, and the noisy voltage data:"
   ]
  },
  {
   "cell_type": "code",
   "execution_count": 20,
   "metadata": {
    "id": "zuvGHWID04p_"
   },
   "outputs": [],
   "source": [
    "dataset = pybop.Dataset(\n",
    "    {\n",
    "        \"Time [s]\": t_eval,\n",
    "        \"Current function [A]\": values[\"Current [A]\"].data,\n",
    "        \"Voltage [V]\": corrupt_values,\n",
    "    }\n",
    ")"
   ]
  },
  {
   "cell_type": "markdown",
   "metadata": {
    "id": "ffS3CF_704qA"
   },
   "source": [
    "### Defining Parameters to Estimate\n",
    "\n",
    "We select the parameters for estimation and set up their prior distributions and bounds:"
   ]
  },
  {
   "cell_type": "code",
   "execution_count": 21,
   "metadata": {
    "id": "WPCybXIJ04qA"
   },
   "outputs": [],
   "source": [
    "parameters = [\n",
    "    pybop.Parameter(\n",
    "        \"Negative electrode active material volume fraction\",\n",
    "        prior=pybop.Gaussian(0.6, 0.02),\n",
    "        bounds=[0.5, 0.8],\n",
    "    ),\n",
    "    pybop.Parameter(\n",
    "        \"Positive electrode active material volume fraction\",\n",
    "        prior=pybop.Gaussian(0.48, 0.02),\n",
    "        bounds=[0.4, 0.7],\n",
    "    ),\n",
    "]"
   ]
  },
  {
   "cell_type": "markdown",
   "metadata": {
    "id": "n4OHa-aF04qA"
   },
   "source": [
    "### Setting up the Optimisation Problem\n",
    "\n",
    "With the datasets and parameters defined, we can set up the optimisation problem, its cost function, and the optimiser."
   ]
  },
  {
   "cell_type": "code",
   "execution_count": 22,
   "metadata": {
    "id": "etMzRtx404qA"
   },
   "outputs": [
    {
     "name": "stdout",
     "output_type": "stream",
     "text": [
      "NOTE: Boundaries ignored by Adam\n"
     ]
    }
   ],
   "source": [
    "problem = pybop.FittingProblem(model, parameters, dataset)\n",
    "cost = pybop.SumSquaredError(problem)\n",
    "optim = pybop.Optimisation(cost, optimiser=pybop.Adam)\n",
    "optim.set_max_iterations(150)"
   ]
  },
  {
   "cell_type": "markdown",
   "metadata": {
    "id": "caprp-bV04qB"
   },
   "source": [
    "### Running the Optimisation\n",
    "\n",
    "We proceed to run the Adam optimisation algorithm to estimate the parameters:"
   ]
  },
  {
   "cell_type": "code",
   "execution_count": 23,
   "metadata": {
    "id": "-9OVt0EQ04qB"
   },
   "outputs": [],
   "source": [
    "x, final_cost = optim.run()"
   ]
  },
  {
   "cell_type": "markdown",
   "metadata": {
    "id": "-4pZsDmS04qC"
   },
   "source": [
    "### Viewing the Estimated Parameters\n",
    "\n",
    "After the optimisation, we can examine the estimated parameter values:"
   ]
  },
  {
   "cell_type": "code",
   "execution_count": 24,
   "metadata": {
    "colab": {
     "base_uri": "https://localhost:8080/"
    },
    "id": "Hgz8SV4i04qC",
    "outputId": "e1e42ae7-5075-4c47-dd68-1b22ecc170f6"
   },
   "outputs": [
    {
     "data": {
      "text/plain": [
       "array([0.77574635, 0.66084088])"
      ]
     },
     "execution_count": 24,
     "metadata": {},
     "output_type": "execute_result"
    }
   ],
   "source": [
    "x  # This will output the estimated parameters"
   ]
  },
  {
   "cell_type": "markdown",
   "metadata": {
    "id": "KxKURtH704qC"
   },
   "source": [
    "## Plotting and Visualisation\n",
    "\n",
    "PyBOP provides various plotting utilities to visualise the results of the optimisation."
   ]
  },
  {
   "cell_type": "markdown",
   "metadata": {
    "id": "-cWCOiqR04qC"
   },
   "source": [
    "### Comparing System Response\n",
    "\n",
    "We can quickly plot the system's response using the estimated parameters compared to the target:"
   ]
  },
  {
   "cell_type": "code",
   "execution_count": 25,
   "metadata": {
    "colab": {
     "base_uri": "https://localhost:8080/",
     "height": 467
    },
    "id": "tJUJ80Ve04qD",
    "outputId": "855fbaa2-1e09-4935-eb1a-8caf7f99eb75"
   },
   "outputs": [
    {
     "data": {
      "application/vnd.plotly.v1+json": {
       "config": {
        "plotlyServerURL": "https://plot.ly"
       },
       "data": [
        {
         "fill": "toself",
         "fillcolor": "rgba(255,229,204,0.8)",
         "hoverinfo": "skip",
         "line": {
          "color": "rgba(255,255,255,0)"
         },
         "showlegend": false,
         "type": "scatter",
         "x": [
          0,
          2,
          4,
          6,
          8,
          10,
          12,
          14,
          16,
          18,
          20,
          22,
          24,
          26,
          28,
          30,
          32,
          34,
          36,
          38,
          40,
          42,
          44,
          46,
          48,
          50,
          52,
          54,
          56,
          58,
          60,
          62,
          64,
          66,
          68,
          70,
          72,
          74,
          76,
          78,
          80,
          82,
          84,
          86,
          88,
          90,
          92,
          94,
          96,
          98,
          100,
          102,
          104,
          106,
          108,
          110,
          112,
          114,
          116,
          118,
          120,
          122,
          124,
          126,
          128,
          130,
          132,
          134,
          136,
          138,
          140,
          142,
          144,
          146,
          148,
          150,
          152,
          154,
          156,
          158,
          160,
          162,
          164,
          166,
          168,
          170,
          172,
          174,
          176,
          178,
          180,
          182,
          184,
          186,
          188,
          190,
          192,
          194,
          196,
          198,
          200,
          202,
          204,
          206,
          208,
          210,
          212,
          214,
          216,
          218,
          220,
          222,
          224,
          226,
          228,
          230,
          232,
          234,
          236,
          238,
          240,
          242,
          244,
          246,
          248,
          250,
          252,
          254,
          256,
          258,
          260,
          262,
          264,
          266,
          268,
          270,
          272,
          274,
          276,
          278,
          280,
          282,
          284,
          286,
          288,
          290,
          292,
          294,
          296,
          298,
          300,
          302,
          304,
          306,
          308,
          310,
          312,
          314,
          316,
          318,
          320,
          322,
          324,
          326,
          328,
          330,
          332,
          334,
          336,
          338,
          340,
          342,
          344,
          346,
          348,
          350,
          352,
          354,
          356,
          358,
          360,
          362,
          364,
          366,
          368,
          370,
          372,
          374,
          376,
          378,
          380,
          382,
          384,
          386,
          388,
          390,
          392,
          394,
          396,
          398,
          400,
          402,
          404,
          406,
          408,
          410,
          412,
          414,
          416,
          418,
          420,
          422,
          424,
          426,
          428,
          430,
          432,
          434,
          436,
          438,
          440,
          442,
          444,
          446,
          448,
          450,
          452,
          454,
          456,
          458,
          460,
          462,
          464,
          466,
          468,
          470,
          472,
          474,
          476,
          478,
          480,
          482,
          484,
          486,
          488,
          490,
          492,
          494,
          496,
          498,
          500,
          502,
          504,
          506,
          508,
          510,
          512,
          514,
          516,
          518,
          520,
          522,
          524,
          526,
          528,
          530,
          532,
          534,
          536,
          538,
          540,
          542,
          544,
          546,
          548,
          550,
          552,
          554,
          556,
          558,
          560,
          562,
          564,
          566,
          568,
          570,
          572,
          574,
          576,
          578,
          580,
          582,
          584,
          586,
          588,
          590,
          592,
          594,
          596,
          598,
          600,
          602,
          604,
          606,
          608,
          610,
          612,
          614,
          616,
          618,
          620,
          622,
          624,
          626,
          628,
          630,
          632,
          634,
          636,
          638,
          640,
          642,
          644,
          646,
          648,
          650,
          652,
          654,
          656,
          658,
          660,
          662,
          664,
          666,
          668,
          670,
          672,
          674,
          676,
          678,
          680,
          682,
          684,
          686,
          688,
          690,
          692,
          694,
          696,
          698,
          700,
          702,
          704,
          706,
          708,
          710,
          712,
          714,
          716,
          718,
          720,
          722,
          724,
          726,
          728,
          730,
          732,
          734,
          736,
          738,
          740,
          742,
          744,
          746,
          748,
          750,
          752,
          754,
          756,
          758,
          760,
          762,
          764,
          766,
          768,
          770,
          772,
          774,
          776,
          778,
          780,
          782,
          784,
          786,
          788,
          790,
          792,
          794,
          796,
          798,
          800,
          802,
          804,
          806,
          808,
          810,
          812,
          814,
          816,
          818,
          820,
          822,
          824,
          826,
          828,
          830,
          832,
          834,
          836,
          838,
          840,
          842,
          844,
          846,
          848,
          850,
          852,
          854,
          856,
          858,
          860,
          862,
          864,
          866,
          868,
          870,
          872,
          874,
          876,
          878,
          880,
          882,
          884,
          886,
          888,
          890,
          892,
          894,
          896,
          898,
          898,
          896,
          894,
          892,
          890,
          888,
          886,
          884,
          882,
          880,
          878,
          876,
          874,
          872,
          870,
          868,
          866,
          864,
          862,
          860,
          858,
          856,
          854,
          852,
          850,
          848,
          846,
          844,
          842,
          840,
          838,
          836,
          834,
          832,
          830,
          828,
          826,
          824,
          822,
          820,
          818,
          816,
          814,
          812,
          810,
          808,
          806,
          804,
          802,
          800,
          798,
          796,
          794,
          792,
          790,
          788,
          786,
          784,
          782,
          780,
          778,
          776,
          774,
          772,
          770,
          768,
          766,
          764,
          762,
          760,
          758,
          756,
          754,
          752,
          750,
          748,
          746,
          744,
          742,
          740,
          738,
          736,
          734,
          732,
          730,
          728,
          726,
          724,
          722,
          720,
          718,
          716,
          714,
          712,
          710,
          708,
          706,
          704,
          702,
          700,
          698,
          696,
          694,
          692,
          690,
          688,
          686,
          684,
          682,
          680,
          678,
          676,
          674,
          672,
          670,
          668,
          666,
          664,
          662,
          660,
          658,
          656,
          654,
          652,
          650,
          648,
          646,
          644,
          642,
          640,
          638,
          636,
          634,
          632,
          630,
          628,
          626,
          624,
          622,
          620,
          618,
          616,
          614,
          612,
          610,
          608,
          606,
          604,
          602,
          600,
          598,
          596,
          594,
          592,
          590,
          588,
          586,
          584,
          582,
          580,
          578,
          576,
          574,
          572,
          570,
          568,
          566,
          564,
          562,
          560,
          558,
          556,
          554,
          552,
          550,
          548,
          546,
          544,
          542,
          540,
          538,
          536,
          534,
          532,
          530,
          528,
          526,
          524,
          522,
          520,
          518,
          516,
          514,
          512,
          510,
          508,
          506,
          504,
          502,
          500,
          498,
          496,
          494,
          492,
          490,
          488,
          486,
          484,
          482,
          480,
          478,
          476,
          474,
          472,
          470,
          468,
          466,
          464,
          462,
          460,
          458,
          456,
          454,
          452,
          450,
          448,
          446,
          444,
          442,
          440,
          438,
          436,
          434,
          432,
          430,
          428,
          426,
          424,
          422,
          420,
          418,
          416,
          414,
          412,
          410,
          408,
          406,
          404,
          402,
          400,
          398,
          396,
          394,
          392,
          390,
          388,
          386,
          384,
          382,
          380,
          378,
          376,
          374,
          372,
          370,
          368,
          366,
          364,
          362,
          360,
          358,
          356,
          354,
          352,
          350,
          348,
          346,
          344,
          342,
          340,
          338,
          336,
          334,
          332,
          330,
          328,
          326,
          324,
          322,
          320,
          318,
          316,
          314,
          312,
          310,
          308,
          306,
          304,
          302,
          300,
          298,
          296,
          294,
          292,
          290,
          288,
          286,
          284,
          282,
          280,
          278,
          276,
          274,
          272,
          270,
          268,
          266,
          264,
          262,
          260,
          258,
          256,
          254,
          252,
          250,
          248,
          246,
          244,
          242,
          240,
          238,
          236,
          234,
          232,
          230,
          228,
          226,
          224,
          222,
          220,
          218,
          216,
          214,
          212,
          210,
          208,
          206,
          204,
          202,
          200,
          198,
          196,
          194,
          192,
          190,
          188,
          186,
          184,
          182,
          180,
          178,
          176,
          174,
          172,
          170,
          168,
          166,
          164,
          162,
          160,
          158,
          156,
          154,
          152,
          150,
          148,
          146,
          144,
          142,
          140,
          138,
          136,
          134,
          132,
          130,
          128,
          126,
          124,
          122,
          120,
          118,
          116,
          114,
          112,
          110,
          108,
          106,
          104,
          102,
          100,
          98,
          96,
          94,
          92,
          90,
          88,
          86,
          84,
          82,
          80,
          78,
          76,
          74,
          72,
          70,
          68,
          66,
          64,
          62,
          60,
          58,
          56,
          54,
          52,
          50,
          48,
          46,
          44,
          42,
          40,
          38,
          36,
          34,
          32,
          30,
          28,
          26,
          24,
          22,
          20,
          18,
          16,
          14,
          12,
          10,
          8,
          6,
          4,
          2,
          0
         ],
         "y": [
          4.066105347613955,
          4.05761967457949,
          4.050305266153682,
          4.044049520593223,
          4.038660144671588,
          4.033974852750363,
          4.0298650397764995,
          4.026230238476654,
          4.022992962411548,
          4.020091969822013,
          4.0174794473235504,
          4.015116460194554,
          4.012970759322049,
          4.011015832840792,
          4.009229698412319,
          4.007593767737496,
          4.006092462136447,
          4.004712597988969,
          4.003442589466103,
          4.002272790978113,
          4.001193996752235,
          4.000198706561292,
          3.9992795559025303,
          3.998430419594829,
          3.997645454726415,
          3.996919580792493,
          3.9962480902354462,
          3.995626731286716,
          3.9950515369625506,
          3.9945190373928936,
          3.9940260309512303,
          3.993569166565743,
          3.993145841954449,
          3.992753515365953,
          3.992389597984289,
          3.992051764044457,
          3.9917379852991544,
          3.991446255707619,
          3.991174581762894,
          3.9909212723330696,
          3.990684682343621,
          3.9904632157889433,
          3.9902554257856866,
          3.99005994229812,
          3.989875469094177,
          3.989700786329245,
          3.9895347536225754,
          3.989376293490431,
          3.989224380171567,
          3.989078063511411,
          3.9889364449138274,
          3.988798651489605,
          3.988663887230116,
          3.988531405260823,
          3.988400501062998,
          3.988270514637151,
          3.9881407986791584,
          3.988010735746256,
          3.987879799374508,
          3.9877474741120578,
          3.987613279394087,
          3.987476763020187,
          3.987337436056881,
          3.987194936487739,
          3.987048893205018,
          3.986898961863952,
          3.9867448239566152,
          3.9865861531117206,
          3.9864226706003936,
          3.98625412702422,
          3.9860802848485863,
          3.985900926219853,
          3.9857158465879814,
          3.9855248523844296,
          3.985327782774646,
          3.985124486212421,
          3.9849148265913135,
          3.9846986826436295,
          3.984475936734279,
          3.9842464983176913,
          3.984010284723341,
          3.983767225574437,
          3.983517262355448,
          3.983260332035069,
          3.9829963922896376,
          3.9827254207536953,
          3.982447398156598,
          3.982162314833694,
          3.9818701704124657,
          3.981570973520072,
          3.981264741510914,
          3.980951474382314,
          3.980631158635882,
          3.980303864008748,
          3.979969630148205,
          3.979628503170707,
          3.9792805354370975,
          3.978925785341539,
          3.978564317113191,
          3.978196194375262,
          3.9778213975418666,
          3.97744005771284,
          3.9770522494329055,
          3.976658051019026,
          3.9762575443800303,
          3.9758508148462104,
          3.9754379510083906,
          3.975019044565837,
          3.9745941165176033,
          3.974163281934169,
          3.973726648379272,
          3.97328431036887,
          3.9728363644341855,
          3.9723829090540046,
          3.971924044596348,
          3.9714598732693753,
          3.9709904990807097,
          3.9705160278047456,
          3.970036566957552,
          3.969552225778609,
          3.969063115219157,
          3.968569260399729,
          3.968070724554464,
          3.967567688524227,
          3.9670602575722,
          3.966548537561305,
          3.9660326349329926,
          3.965512656690508,
          3.964988710386434,
          3.964460904114091,
          3.963929346502655,
          3.96339414671555,
          3.962855414451929,
          3.962313259951051,
          3.961767754539925,
          3.9612188325991777,
          3.960666739596147,
          3.960111574311669,
          3.95955343487421,
          3.9589924187280854,
          3.958428622603694,
          3.957862142489763,
          3.9572930736074023,
          3.956721510386125,
          3.956147546441324,
          3.9555712745534977,
          3.9549927866489503,
          3.954412173781957,
          3.9538294426936225,
          3.953244725630241,
          3.95265811552135,
          3.952069694286443,
          3.951479542438605,
          3.950887739057584,
          3.95029436176411,
          3.9496994866954247,
          3.9491031884820553,
          3.948505540225705,
          3.947906613478227,
          3.9473064782218095,
          3.946705202850093,
          3.946102892048,
          3.9454996180221342,
          3.944895423936502,
          3.9442903754186016,
          3.9436845367381466,
          3.9430779708041577,
          3.9424707391627423,
          3.941862901995463,
          3.941254518118402,
          3.940645644981682,
          3.940036338669627,
          3.939426653901507,
          3.9388166440326,
          3.938206379518894,
          3.937595956597897,
          3.936985385702924,
          3.9363747186177966,
          3.93576400608877,
          3.9351532978379886,
          3.9345426425771257,
          3.933932088021091,
          3.933321680901902,
          3.932711466982571,
          3.9321014910711583,
          3.931491797034768,
          3.930882427813606,
          3.9302734254351126,
          3.929664824849201,
          3.929056670274603,
          3.928449000964205,
          3.927841855099619,
          3.9272352699941626,
          3.926629282106008,
          3.926023927051314,
          3.925419239617293,
          3.92481525377518,
          3.924212002693152,
          3.923609518749162,
          3.92300783354367,
          3.922406977912265,
          3.92180695019909,
          3.9212077844753184,
          3.9206095222519672,
          3.920012189982373,
          3.919415813373683,
          3.918820417400911,
          3.918226026320851,
          3.917632663685814,
          3.917040352357309,
          3.9164491145195335,
          3.915858971692733,
          3.915269944746411,
          3.914682053912429,
          3.9140953187978726,
          3.9135097583978498,
          3.9129253911080784,
          3.912342234737331,
          3.9117603065197137,
          3.9111796231268063,
          3.9106002006795832,
          3.910022019737663,
          3.9094451054935297,
          3.908869485467374,
          3.9082951725291912,
          3.9077221790022545,
          3.9071505166736142,
          3.9065801968044926,
          3.906011230140434,
          3.90544362692142,
          3.904877396891752,
          3.904312549309818,
          3.9037490929576895,
          3.9031870361505994,
          3.902626386746231,
          3.902067152153907,
          3.9015093393435833,
          3.900952954854715,
          3.900398004804979,
          3.899844494898842,
          3.899292430436001,
          3.8987418094655824,
          3.898192639012096,
          3.8976449254008663,
          3.897098672186823,
          3.896553882550091,
          3.896010559303415,
          3.8954687048994296,
          3.894928321437872,
          3.894389410672585,
          3.8938519740184288,
          3.8933160125580617,
          3.8927815270485673,
          3.8922485179279818,
          3.891716985321699,
          3.8911869290487178,
          3.8906583486277815,
          3.8901312432834434,
          3.889605611951904,
          3.8890814532868583,
          3.888558765665103,
          3.888037559103256,
          3.88751782631511,
          3.8869995616573862,
          3.886482762793849,
          3.885967427154553,
          3.885453551941091,
          3.884941134131734,
          3.8844301704864552,
          3.883920657551824,
          3.88341259166586,
          3.882905968962703,
          3.882400785377208,
          3.8818970366494554,
          3.8813947183291577,
          3.880893825779903,
          3.8803943541834,
          3.879896298543549,
          3.8793996536904345,
          3.878904414284276,
          3.8784105748191697,
          3.8779181371921094,
          3.8774270919614007,
          3.876937431475285,
          3.876449149831608,
          3.875962240992266,
          3.87547669878667,
          3.8749925169152046,
          3.8745096889525774,
          3.8740282083510698,
          3.873548068443722,
          3.873069262447435,
          3.872591783465985,
          3.8721156244929698,
          3.8716407784146742,
          3.871167238012852,
          3.870694995967437,
          3.870224044859179,
          3.869754377172228,
          3.869285985296619,
          3.868819102685783,
          3.868353482170397,
          3.867889003119859,
          3.8674256881526654,
          3.866963641121012,
          3.8665027864318864,
          3.86604311816485,
          3.865584659800968,
          3.86512739904927,
          3.8646713236155215,
          3.864216426887926,
          3.8637627020923313,
          3.8633101427269785,
          3.862858741996774,
          3.862408493006559,
          3.861959388763258,
          3.861511347883145,
          3.861064424772097,
          3.8606186139827567,
          3.8601739082132447,
          3.8597303000729055,
          3.859287782084124,
          3.858846346684172,
          3.858405986226859,
          3.857966692984307,
          3.857528459148522,
          3.857091276833026,
          3.856655138074356,
          3.856219985419585,
          3.8557857795661254,
          3.8553525753644617,
          3.8549203646501136,
          3.8544891391868448,
          3.85405889066789,
          3.8536296107171264,
          3.8532012908902433,
          3.852773922675762,
          3.8523474974961487,
          3.851922006708752,
          3.8514974416068126,
          3.8510737934203263,
          3.8506509441732937,
          3.850228960148355,
          3.849807848115201,
          3.849387599143988,
          3.8489682042434974,
          3.848549654361756,
          3.848131940386609,
          3.847715053146278,
          3.847298983409854,
          3.846883721887722,
          3.846469259232008,
          3.846055586036934,
          3.845642657452216,
          3.845230409860326,
          3.844818905938204,
          3.844408136121077,
          3.843998090785414,
          3.8435887602490455,
          3.8431801347711914,
          3.842772204552508,
          3.8423649597350455,
          3.841958390402163,
          3.8415524865784496,
          3.84114723822953,
          3.840742635261905,
          3.8403385864908457,
          3.839935122884998,
          3.8395322582840574,
          3.839129982406645,
          3.8387282849085897,
          3.8383271553824856,
          3.8379265833571465,
          3.837526558297056,
          3.8371270696017783,
          3.83672810660528,
          3.8363296585752593,
          3.835931714712391,
          3.8355342451832577,
          3.8351371733633206,
          3.834740555795552,
          3.83434438094538,
          3.8339486372064977,
          3.8335533128997303,
          3.833158396271798,
          3.8327638754941216,
          3.832369738661495,
          3.831975973790735,
          3.831582568819311,
          3.8311895116038768,
          3.830796789918755,
          3.830404391454408,
          3.830012303815807,
          3.82962051452076,
          3.829229010998215,
          3.828837780586468,
          3.828446810531314,
          3.828056087984184,
          3.827665600000171,
          3.827275333536027,
          3.826885247009613,
          3.826495321536007,
          3.826105569818117,
          3.825715978057677,
          3.8253265323466574,
          3.82493721866482,
          3.82454802287719,
          3.824158930731434,
          3.8237699278552433,
          3.823380999753572,
          3.8229921318058535,
          3.822603309263136,
          3.822214517245152,
          3.821825740737311,
          3.8214369645876287,
          3.8210481735035886,
          3.820659352048901,
          3.8202704846402455,
          3.819881555543871,
          3.819492548872207,
          3.8191034485802913,
          3.8187142384622264,
          3.8183248961634098,
          3.817935408719801,
          3.8175457607697503,
          3.817155935380459,
          3.816765915438909,
          3.816375683647847,
          3.8159852225216344,
          3.815594514382027,
          3.8152035413539056,
          3.8148122853608775,
          3.814420728120873,
          3.8140288511415776,
          3.813636635715867,
          3.813244062917128,
          3.812851113594492,
          3.8124577683680343,
          3.812064007623869,
          3.8116698115091854,
          3.811275159927219,
          3.810880032532121,
          3.8104844087238186,
          3.8100882678568344,
          3.8096915912828138,
          3.809294356375235,
          3.808896541618072,
          3.8084981252148062,
          3.808099085082997,
          3.807699398848718,
          3.805461403432769,
          3.805861089667048,
          3.8062601297988574,
          3.8066585462021223,
          3.8070563609592862,
          3.807453595866865,
          3.8078502724408856,
          3.8082464133078697,
          3.808642037116172,
          3.8090371645112704,
          3.809431816093237,
          3.80982601220792,
          3.810219772952086,
          3.810613118178543,
          3.811006067501179,
          3.811398640299918,
          3.811790855725629,
          3.812182732704924,
          3.8125742899449286,
          3.812965545937957,
          3.8133565189660783,
          3.8137472271056856,
          3.8141376882318982,
          3.81452792002296,
          3.81491793996451,
          3.8153077653538015,
          3.815697413303852,
          3.816086900747461,
          3.8164762430462775,
          3.8168654531643424,
          3.8172545534562583,
          3.817643560127922,
          3.8180324892242967,
          3.818421356632952,
          3.81881017808764,
          3.81919896917168,
          3.8195877453213622,
          3.819976521829203,
          3.820365313847187,
          3.8207541363899047,
          3.8211430043376233,
          3.8215319324392945,
          3.821920935315485,
          3.822310027461241,
          3.822699223248871,
          3.8230885369307086,
          3.823477982641728,
          3.823867574402168,
          3.8242573261200583,
          3.824647251593664,
          3.825037338120078,
          3.825427604584222,
          3.8258180925682352,
          3.8262088151153657,
          3.826599785170519,
          3.8269910155822666,
          3.827382519104811,
          3.8277743083998583,
          3.8281663960384593,
          3.8285587945028063,
          3.828951516187928,
          3.829344573403362,
          3.8297379783747862,
          3.830131743245546,
          3.8305258800781727,
          3.8309204008558497,
          3.8313153174837815,
          3.831710641790549,
          3.832106385529431,
          3.832502560379603,
          3.832899177947372,
          3.833296249767309,
          3.833693719296442,
          3.8340916631593105,
          3.8344901111893313,
          3.8348890741858295,
          3.835288562881107,
          3.8356885879411977,
          3.8360891599665368,
          3.836490289492641,
          3.836891986990696,
          3.8372942628681086,
          3.837697127469049,
          3.838100591074897,
          3.838504639845956,
          3.838909242813582,
          3.839314491162501,
          3.839720394986214,
          3.8401269643190967,
          3.840534209136559,
          3.8409421393552425,
          3.8413507648330967,
          3.841760095369465,
          3.842170140705128,
          3.8425809105222553,
          3.8429924144443777,
          3.8434046620362663,
          3.843817590620985,
          3.8442312638160594,
          3.8446457264717737,
          3.845060987993905,
          3.845477057730329,
          3.84589394497066,
          3.846311658945807,
          3.846730208827549,
          3.847149603728039,
          3.847569852699252,
          3.847990964732406,
          3.848412948757345,
          3.848835798004378,
          3.849259446190864,
          3.849684011292803,
          3.8501095020802,
          3.850535927259813,
          3.8509632954742945,
          3.8513916153011776,
          3.851820895251941,
          3.852251143770896,
          3.8526823692341647,
          3.853114579948513,
          3.8535477841501766,
          3.853981990003636,
          3.854417142658407,
          3.854853281417077,
          3.855290463732574,
          3.8557286975683582,
          3.8561679908109103,
          3.856608351268223,
          3.857049786668175,
          3.8574923046569567,
          3.857935912797296,
          3.858380618566808,
          3.858826429356148,
          3.859273352467196,
          3.85972139334731,
          3.86017049759061,
          3.860620746580825,
          3.8610721473110297,
          3.8615247066763825,
          3.8619784314719774,
          3.8624333281995726,
          3.862889403633321,
          3.8633466643850194,
          3.863805122748901,
          3.8642647910159376,
          3.864725645705063,
          3.8651876927367166,
          3.86565100770391,
          3.866115486754448,
          3.8665811072698344,
          3.8670479898806702,
          3.867516381756279,
          3.86798604944323,
          3.868457000551488,
          3.868929242596903,
          3.8694027829987254,
          3.869877629077021,
          3.870353788050036,
          3.8708312670314866,
          3.871310073027773,
          3.871790212935121,
          3.8722716935366286,
          3.872754521499256,
          3.873238703370721,
          3.873724245576317,
          3.874211154415659,
          3.874699436059336,
          3.875189096545452,
          3.8756801417761606,
          3.876172579403221,
          3.8766664188683273,
          3.8771616582744857,
          3.8776583031276,
          3.878156358767451,
          3.8786558303639542,
          3.879156722913209,
          3.8796590412335066,
          3.8801627899612594,
          3.880667973546754,
          3.8811745962499113,
          3.881682662135875,
          3.8821921750705064,
          3.8827031387157858,
          3.8832155565251423,
          3.883729431738604,
          3.8842447673779,
          3.8847615662414374,
          3.885279830899161,
          3.885799563687307,
          3.8863207702491542,
          3.8868434578709095,
          3.8873676165359554,
          3.8878932478674946,
          3.8884203532118327,
          3.888948933632769,
          3.8894789899057503,
          3.890010522512033,
          3.8905435316326185,
          3.891078017142112,
          3.89161397860248,
          3.892151415256636,
          3.892690326021923,
          3.893230709483481,
          3.8937725638874663,
          3.894315887134143,
          3.894860676770874,
          3.8954069299849174,
          3.895954643596147,
          3.8965038140496335,
          3.897054435020052,
          3.8976064994828934,
          3.8981600093890303,
          3.8987149594387662,
          3.8992713439276345,
          3.899829156737958,
          3.9003883913302824,
          3.9009490407346505,
          3.9015110975417406,
          3.9020745538938697,
          3.902639401475803,
          3.9032056315054713,
          3.903773234724486,
          3.904342201388544,
          3.9049125212576654,
          3.9054841835863057,
          3.9060571771132424,
          3.906631490051425,
          3.907207110077581,
          3.9077840243217143,
          3.9083622052636344,
          3.9089416277108575,
          3.909522311103765,
          3.9101042393213823,
          3.9106873956921295,
          3.911271762981901,
          3.911857323381924,
          3.91244405849648,
          3.913031949330462,
          3.913620976276784,
          3.9142111191035847,
          3.91480235694136,
          3.9153946682698657,
          3.915988030904902,
          3.916582421984962,
          3.917177817957734,
          3.917774194566424,
          3.9183715268360184,
          3.9189697890593695,
          3.9195689547831414,
          3.920168982496316,
          3.9207698381277214,
          3.921371523333214,
          3.9219740072772034,
          3.9225772583592313,
          3.923181244201344,
          3.923785931635366,
          3.924391286690059,
          3.924997274578214,
          3.92560385968367,
          3.926211005548255,
          3.926818674858654,
          3.927426829433253,
          3.928035430019164,
          3.928644432397657,
          3.929253801618819,
          3.92986349565521,
          3.9304734715666223,
          3.931083685485953,
          3.931694092605142,
          3.932304647161176,
          3.93291530242204,
          3.933526010672822,
          3.934136723201848,
          3.9347473902869754,
          3.935357961181948,
          3.935968384102946,
          3.936578648616651,
          3.937188658485558,
          3.9377983432536783,
          3.938407649565733,
          3.939016522702454,
          3.9396249065795144,
          3.940232743746794,
          3.940839975388209,
          3.9414465413221977,
          3.942052380002653,
          3.942657428520554,
          3.9432616226061854,
          3.9438648966320513,
          3.944467207434144,
          3.9450684828058606,
          3.945668618062278,
          3.946267544809756,
          3.9468651930661065,
          3.947461491279476,
          3.948056366348162,
          3.948649743641635,
          3.949241547022656,
          3.949831698870494,
          3.950420120105401,
          3.951006730214292,
          3.9515914472776736,
          3.952174178366008,
          3.952754791233002,
          3.953333279137549,
          3.953909551025375,
          3.954483514970176,
          3.9550550781914535,
          3.9556241470738143,
          3.956190627187745,
          3.956754423312137,
          3.9573154394582617,
          3.95787357889572,
          3.958428744180198,
          3.958980837183229,
          3.959529759123976,
          3.960075264535102,
          3.96061741903598,
          3.961156151299601,
          3.961691351086706,
          3.962222908698142,
          3.9627507149704857,
          3.963274661274559,
          3.963794639517044,
          3.964310542145357,
          3.964822262156251,
          3.965329693108278,
          3.965832729138515,
          3.966331264983779,
          3.966825119803208,
          3.96731423036266,
          3.967798571541603,
          3.9682780323887967,
          3.968752503664761,
          3.9692218778534265,
          3.969686049180399,
          3.970144913638056,
          3.9705983690182367,
          3.971046314952922,
          3.9714886529633233,
          3.97192528651822,
          3.9723561211016545,
          3.972781049149888,
          3.9731999555924418,
          3.9736128194302616,
          3.9740195489640815,
          3.974420055603077,
          3.9748142540169566,
          3.975202062296891,
          3.9755834021259178,
          3.975958198959314,
          3.976326321697242,
          3.9766877899255904,
          3.9770425400211487,
          3.977390507754758,
          3.977731634732256,
          3.978065868592799,
          3.978393163219933,
          3.978713478966365,
          3.979026746094965,
          3.979332978104123,
          3.979632174996517,
          3.979924319417745,
          3.980209402740649,
          3.9804874253377465,
          3.980758396873689,
          3.981022336619119,
          3.9812792669394983,
          3.981529230158488,
          3.981772289307392,
          3.9820085029017425,
          3.98223794131833,
          3.9824606872276807,
          3.9826768311753646,
          3.982886490796472,
          3.983089787358697,
          3.9832868569684807,
          3.983477851172033,
          3.983662930803904,
          3.9838422894326375,
          3.9840161316082714,
          3.9841846751844447,
          3.984348157695772,
          3.9845068285406664,
          3.984660966448003,
          3.9848108977890697,
          3.98495694107179,
          3.985099440640932,
          3.9852387676042382,
          3.9853752839781382,
          3.985509478696109,
          3.985641803958559,
          3.985772740330307,
          3.9859028032632096,
          3.9860325192212023,
          3.9861625056470498,
          3.9862934098448743,
          3.986425891814167,
          3.986560656073656,
          3.9866984494978785,
          3.986840068095462,
          3.9869863847556184,
          3.9871382980744823,
          3.9872967582066265,
          3.987462790913296,
          3.987637473678228,
          3.987821946882171,
          3.9880174303697378,
          3.9882252203729944,
          3.988446686927672,
          3.9886832769171208,
          3.988936586346945,
          3.98920826029167,
          3.9894999898832055,
          3.989813768628508,
          3.99015160256834,
          3.990515519950004,
          3.9909078465385,
          3.991331171149794,
          3.991788035535282,
          3.9922810419769448,
          3.9928135415466017,
          3.993388735870767,
          3.9940100948194974,
          3.994681585376544,
          3.9954074593104663,
          3.99619242417888,
          3.9970415604865814,
          3.997960711145343,
          3.998956001336286,
          4.000034795562163,
          4.0012045940501535,
          4.002474602573019,
          4.003854466720497,
          4.005355772321546,
          4.006991702996369,
          4.008777837424843,
          4.010732763906099,
          4.012878464778605,
          4.015241451907601,
          4.017853974406063,
          4.020754966995598,
          4.023992243060705,
          4.02762704436055,
          4.031736857334414,
          4.036422149255638,
          4.041811525177273,
          4.048067270737732,
          4.05538167916354,
          4.063867352198005
         ]
        },
        {
         "mode": "markers",
         "name": "Target",
         "type": "scatter",
         "x": [
          0,
          2,
          4,
          6,
          8,
          10,
          12,
          14,
          16,
          18,
          20,
          22,
          24,
          26,
          28,
          30,
          32,
          34,
          36,
          38,
          40,
          42,
          44,
          46,
          48,
          50,
          52,
          54,
          56,
          58,
          60,
          62,
          64,
          66,
          68,
          70,
          72,
          74,
          76,
          78,
          80,
          82,
          84,
          86,
          88,
          90,
          92,
          94,
          96,
          98,
          100,
          102,
          104,
          106,
          108,
          110,
          112,
          114,
          116,
          118,
          120,
          122,
          124,
          126,
          128,
          130,
          132,
          134,
          136,
          138,
          140,
          142,
          144,
          146,
          148,
          150,
          152,
          154,
          156,
          158,
          160,
          162,
          164,
          166,
          168,
          170,
          172,
          174,
          176,
          178,
          180,
          182,
          184,
          186,
          188,
          190,
          192,
          194,
          196,
          198,
          200,
          202,
          204,
          206,
          208,
          210,
          212,
          214,
          216,
          218,
          220,
          222,
          224,
          226,
          228,
          230,
          232,
          234,
          236,
          238,
          240,
          242,
          244,
          246,
          248,
          250,
          252,
          254,
          256,
          258,
          260,
          262,
          264,
          266,
          268,
          270,
          272,
          274,
          276,
          278,
          280,
          282,
          284,
          286,
          288,
          290,
          292,
          294,
          296,
          298,
          300,
          302,
          304,
          306,
          308,
          310,
          312,
          314,
          316,
          318,
          320,
          322,
          324,
          326,
          328,
          330,
          332,
          334,
          336,
          338,
          340,
          342,
          344,
          346,
          348,
          350,
          352,
          354,
          356,
          358,
          360,
          362,
          364,
          366,
          368,
          370,
          372,
          374,
          376,
          378,
          380,
          382,
          384,
          386,
          388,
          390,
          392,
          394,
          396,
          398,
          400,
          402,
          404,
          406,
          408,
          410,
          412,
          414,
          416,
          418,
          420,
          422,
          424,
          426,
          428,
          430,
          432,
          434,
          436,
          438,
          440,
          442,
          444,
          446,
          448,
          450,
          452,
          454,
          456,
          458,
          460,
          462,
          464,
          466,
          468,
          470,
          472,
          474,
          476,
          478,
          480,
          482,
          484,
          486,
          488,
          490,
          492,
          494,
          496,
          498,
          500,
          502,
          504,
          506,
          508,
          510,
          512,
          514,
          516,
          518,
          520,
          522,
          524,
          526,
          528,
          530,
          532,
          534,
          536,
          538,
          540,
          542,
          544,
          546,
          548,
          550,
          552,
          554,
          556,
          558,
          560,
          562,
          564,
          566,
          568,
          570,
          572,
          574,
          576,
          578,
          580,
          582,
          584,
          586,
          588,
          590,
          592,
          594,
          596,
          598,
          600,
          602,
          604,
          606,
          608,
          610,
          612,
          614,
          616,
          618,
          620,
          622,
          624,
          626,
          628,
          630,
          632,
          634,
          636,
          638,
          640,
          642,
          644,
          646,
          648,
          650,
          652,
          654,
          656,
          658,
          660,
          662,
          664,
          666,
          668,
          670,
          672,
          674,
          676,
          678,
          680,
          682,
          684,
          686,
          688,
          690,
          692,
          694,
          696,
          698,
          700,
          702,
          704,
          706,
          708,
          710,
          712,
          714,
          716,
          718,
          720,
          722,
          724,
          726,
          728,
          730,
          732,
          734,
          736,
          738,
          740,
          742,
          744,
          746,
          748,
          750,
          752,
          754,
          756,
          758,
          760,
          762,
          764,
          766,
          768,
          770,
          772,
          774,
          776,
          778,
          780,
          782,
          784,
          786,
          788,
          790,
          792,
          794,
          796,
          798,
          800,
          802,
          804,
          806,
          808,
          810,
          812,
          814,
          816,
          818,
          820,
          822,
          824,
          826,
          828,
          830,
          832,
          834,
          836,
          838,
          840,
          842,
          844,
          846,
          848,
          850,
          852,
          854,
          856,
          858,
          860,
          862,
          864,
          866,
          868,
          870,
          872,
          874,
          876,
          878,
          880,
          882,
          884,
          886,
          888,
          890,
          892,
          894,
          896,
          898
         ],
         "y": [
          4.06471977983984,
          4.056677922810598,
          4.049512665172218,
          4.041068497084215,
          4.036598660233501,
          4.032776763904335,
          4.028326864358035,
          4.024243174890612,
          4.0216426679822375,
          4.016844471022015,
          4.0135313685128615,
          4.013141432819571,
          4.009891988112922,
          4.007899123024522,
          4.007868323326693,
          4.005657944431246,
          4.002345487711473,
          4.002758729939496,
          4.000157726928405,
          3.9991874898580826,
          3.997374111743748,
          3.9988713261186937,
          3.997425959156761,
          3.9950371425391857,
          3.995997001080973,
          3.9947535788371034,
          3.992532343873753,
          3.9935598421822673,
          3.99153015044207,
          3.993217112088624,
          3.99218417042831,
          3.989914613123058,
          3.990238626368865,
          3.9900450290576552,
          3.9902637650483985,
          3.991826831781326,
          3.988737597431456,
          3.9879845422283062,
          3.98897597312648,
          3.989024621890654,
          3.989902409976938,
          3.988510778343043,
          3.987687766152248,
          3.990055461780533,
          3.9867050736708944,
          3.9885362910836544,
          3.986542761164608,
          3.9875387464297143,
          3.989083006335263,
          3.986789910312208,
          3.988474712279941,
          3.9854252234139538,
          3.9859400860254577,
          3.9862474592002552,
          3.9859537253669655,
          3.9862526301468586,
          3.9849160338535854,
          3.984739644267952,
          3.985458965307637,
          3.986524295379048,
          3.985609738872625,
          3.9867779840571873,
          3.9847930020058393,
          3.9839311410395273,
          3.985395340527292,
          3.983192375780093,
          3.983712660926793,
          3.9834472860448313,
          3.984822089202456,
          3.984445749378283,
          3.982303797676741,
          3.983015644099083,
          3.983997133372148,
          3.9826080315069383,
          3.982803508651738,
          3.984442792095237,
          3.9813931406328047,
          3.984590064731354,
          3.9809965598703454,
          3.982257385539171,
          3.9820317260557014,
          3.9808220430696,
          3.981616256932131,
          3.9805860010343417,
          3.981743435806523,
          3.980188592708464,
          3.9809803419804672,
          3.9798904172071152,
          3.9792639100754186,
          3.978878157647422,
          3.978543559567428,
          3.97952178349528,
          3.979074659484582,
          3.9796825031238177,
          3.976573851271448,
          3.977424800394471,
          3.977308797014684,
          3.976255091912582,
          3.975421684862331,
          3.975915984010137,
          3.975796747642474,
          3.9755554324606455,
          3.974805341936603,
          3.9759866046275096,
          3.97416545075614,
          3.973353537140665,
          3.973326102790661,
          3.9744453073580273,
          3.973156396512306,
          3.973238119755639,
          3.971367064987546,
          3.970471887978706,
          3.971788398109534,
          3.972486789916292,
          3.9691270813525,
          3.9694969287928576,
          3.9695940940909025,
          3.969147363785802,
          3.968737687656958,
          3.9667576674120055,
          3.96708677397722,
          3.965866228038769,
          3.967444500269796,
          3.963923122717476,
          3.965810514918352,
          3.966489551497605,
          3.966321269415025,
          3.9624705465134578,
          3.963448030006705,
          3.962042978065472,
          3.9624469165617855,
          3.962268801492209,
          3.959332185733911,
          3.959773177530882,
          3.95988449267411,
          3.958998212257139,
          3.9605856892251983,
          3.958460449547634,
          3.958167320433053,
          3.9574605043958258,
          3.9575856535294935,
          3.956848276404944,
          3.958581453095677,
          3.9550415314813736,
          3.9537157240232386,
          3.9520912945319497,
          3.952290082900416,
          3.953986649014828,
          3.954801056158604,
          3.950232184994539,
          3.951962347701682,
          3.949797164492721,
          3.949795291108174,
          3.9498026875669434,
          3.949891480691493,
          3.946476310004648,
          3.947591052826918,
          3.9478458094727222,
          3.9484949949803863,
          3.945114639575653,
          3.946660046602848,
          3.945666714749035,
          3.9434785468443665,
          3.9441031114091887,
          3.942440372555646,
          3.942983505039562,
          3.941618252201682,
          3.9401657542837616,
          3.941181722083384,
          3.9418572811956087,
          3.938746531115573,
          3.9383077205734183,
          3.9385546716591873,
          3.936008865993196,
          3.9350744425392583,
          3.936160888112522,
          3.9364538272521488,
          3.933789767866229,
          3.9345754110165423,
          3.9344755172359127,
          3.933692774984267,
          3.932844238011166,
          3.9328422926231936,
          3.9293389346231886,
          3.9303742473549814,
          3.9296440230437617,
          3.930953431861552,
          3.9285052924572863,
          3.929520327948837,
          3.928093580275596,
          3.926995975056252,
          3.92800703294,
          3.9265360460862695,
          3.925403311536124,
          3.923121740478926,
          3.923388551929652,
          3.9250310773912864,
          3.9232542012497182,
          3.9237372557049826,
          3.921569109625307,
          3.922832071378313,
          3.9206360322317697,
          3.922023728102832,
          3.9206512907914575,
          3.9201744033248778,
          3.918346432542424,
          3.9175400245976,
          3.917378635838934,
          3.9161074803112146,
          3.915375687407393,
          3.9149006756098457,
          3.9160127346621465,
          3.913654969127839,
          3.91288856258806,
          3.914421571853833,
          3.912055483831779,
          3.911834402510157,
          3.91141701283952,
          3.9119382686759825,
          3.9097776478014863,
          3.91038711775684,
          3.90831842316204,
          3.9074725013590186,
          3.908014665261903,
          3.905999131680834,
          3.9073285921329903,
          3.904951094082055,
          3.904103815151253,
          3.904142205562916,
          3.906050108170741,
          3.9040749206900447,
          3.903206872948836,
          3.9008653017143247,
          3.9022310568350767,
          3.903755597789173,
          3.8989665427117326,
          3.901624514840595,
          3.8992419705610417,
          3.897969149569015,
          3.898681190882484,
          3.898741515737,
          3.896910969937301,
          3.896587971345469,
          3.8966196914196383,
          3.89634206169477,
          3.894249196371343,
          3.893363115697437,
          3.892841235957728,
          3.893752939847443,
          3.8930272462663185,
          3.894220172345729,
          3.8927989358216424,
          3.8902283832554887,
          3.8913831382699304,
          3.8919544760788343,
          3.8922411085000497,
          3.8903993150213423,
          3.8886217738201094,
          3.8891141026768463,
          3.889719559587516,
          3.888363070619392,
          3.886279230567264,
          3.886218192293992,
          3.8871186934211863,
          3.885061368963615,
          3.884986977390622,
          3.8855213189590905,
          3.8830926708453983,
          3.883146914286322,
          3.881705539531771,
          3.882579381124136,
          3.883014485009865,
          3.8822999585127698,
          3.880055382292792,
          3.8805911126906345,
          3.8797636063730274,
          3.8790218044128273,
          3.881341101215294,
          3.877874748717924,
          3.8789364202529937,
          3.8786820048385824,
          3.8779462704889993,
          3.876347263656867,
          3.8754087572400664,
          3.875352247726027,
          3.874907585427533,
          3.873872605694672,
          3.874748334995816,
          3.8730953926598497,
          3.872796102426632,
          3.8722385030161823,
          3.87204980189333,
          3.8716019742033487,
          3.8702424725417983,
          3.870072783587898,
          3.871332909693517,
          3.867984898158914,
          3.870037140498438,
          3.86911540469453,
          3.868646819356559,
          3.867993304638917,
          3.86791638415228,
          3.86743577097611,
          3.866890887525142,
          3.8664321773888424,
          3.8640246029975778,
          3.865058694237642,
          3.8655463512558783,
          3.864475934084604,
          3.862509020792936,
          3.8650476451842546,
          3.862218817880733,
          3.861739945256161,
          3.8623106381884367,
          3.861101428045842,
          3.859673180367587,
          3.8616925646065514,
          3.860680263907884,
          3.858617840391033,
          3.858503208285899,
          3.857136033407929,
          3.858641880718284,
          3.85871642245004,
          3.857365167019121,
          3.858120965533814,
          3.857888538019182,
          3.8567377332010406,
          3.856792004693668,
          3.855734831810397,
          3.8523546820187384,
          3.853171994170852,
          3.852661603230736,
          3.8524805652117102,
          3.852510115237965,
          3.852846394106592,
          3.8525172877326206,
          3.8532254252420257,
          3.851770725276331,
          3.850338929369217,
          3.849400279132487,
          3.8479984643438434,
          3.8500257518289938,
          3.849476220800347,
          3.850190412706914,
          3.8464142078176486,
          3.847983064170394,
          3.848675575347392,
          3.8469352616409216,
          3.846844354031986,
          3.8462264845921377,
          3.845120357264588,
          3.843659883998657,
          3.8442610261414702,
          3.84428929146349,
          3.8428199811979695,
          3.8431188436786594,
          3.841732653308266,
          3.8442684949715367,
          3.844278428024952,
          3.842222498784957,
          3.842113714590965,
          3.843128417537069,
          3.8410904549289087,
          3.8398375697887617,
          3.840754508263455,
          3.839724417770237,
          3.8375400103576953,
          3.838778798627743,
          3.8383708513850543,
          3.838162795001563,
          3.837011858881156,
          3.836673300692936,
          3.8349128211843047,
          3.8381333552660055,
          3.836456896021954,
          3.83463201394255,
          3.8361552409506534,
          3.833778786592612,
          3.8322901056906087,
          3.8329203591620855,
          3.8342007410275687,
          3.834488380358761,
          3.834072457265687,
          3.835031138576912,
          3.831372949235014,
          3.831921903649646,
          3.829994785594772,
          3.830573080128059,
          3.83089523284986,
          3.830810888251571,
          3.827830364033204,
          3.8286600125545127,
          3.8281790739491353,
          3.829373423391408,
          3.828288999799333,
          3.828311760797029,
          3.829894636070927,
          3.827730513202857,
          3.827054643058136,
          3.8249540880078534,
          3.8252647491194094,
          3.825684940836542,
          3.825091354146144,
          3.8250541691906137,
          3.825151058405714,
          3.823056484347142,
          3.8224706249937417,
          3.821979383895115,
          3.823730110607342,
          3.821309168643596,
          3.8232062294042257,
          3.8196581874029745,
          3.822611009695059,
          3.8199669535076377,
          3.822753854170101,
          3.8203362529570737,
          3.819710350471649,
          3.818113410746103,
          3.817963217544269,
          3.818362975405113,
          3.81668422989477,
          3.817205425810662,
          3.816372828615999,
          3.8149197941643735,
          3.8174152989101793,
          3.8147389404262304,
          3.8164347169274113,
          3.816846735645065,
          3.815524270886293,
          3.8161172712822062,
          3.814479619079187,
          3.81190421956377,
          3.81403883914785,
          3.8133495972845126,
          3.811167831293824,
          3.812006566236078,
          3.810675232840358,
          3.8121940034999895,
          3.809834869391101,
          3.8089541696239455,
          3.810372705757173,
          3.8102357537345393,
          3.80837679118511,
          3.8092578094856138,
          3.807744799370103,
          3.8082103635862334,
          3.808625010340719,
          3.807107704695925,
          3.805360563322404,
          3.805758309088908
         ]
        },
        {
         "line": {
          "width": 4
         },
         "mode": "lines",
         "name": "Model",
         "type": "scatter",
         "x": [
          0,
          2,
          4,
          6,
          8,
          10,
          12,
          14,
          16,
          18,
          20,
          22,
          24,
          26,
          28,
          30,
          32,
          34,
          36,
          38,
          40,
          42,
          44,
          46,
          48,
          50,
          52,
          54,
          56,
          58,
          60,
          62,
          64,
          66,
          68,
          70,
          72,
          74,
          76,
          78,
          80,
          82,
          84,
          86,
          88,
          90,
          92,
          94,
          96,
          98,
          100,
          102,
          104,
          106,
          108,
          110,
          112,
          114,
          116,
          118,
          120,
          122,
          124,
          126,
          128,
          130,
          132,
          134,
          136,
          138,
          140,
          142,
          144,
          146,
          148,
          150,
          152,
          154,
          156,
          158,
          160,
          162,
          164,
          166,
          168,
          170,
          172,
          174,
          176,
          178,
          180,
          182,
          184,
          186,
          188,
          190,
          192,
          194,
          196,
          198,
          200,
          202,
          204,
          206,
          208,
          210,
          212,
          214,
          216,
          218,
          220,
          222,
          224,
          226,
          228,
          230,
          232,
          234,
          236,
          238,
          240,
          242,
          244,
          246,
          248,
          250,
          252,
          254,
          256,
          258,
          260,
          262,
          264,
          266,
          268,
          270,
          272,
          274,
          276,
          278,
          280,
          282,
          284,
          286,
          288,
          290,
          292,
          294,
          296,
          298,
          300,
          302,
          304,
          306,
          308,
          310,
          312,
          314,
          316,
          318,
          320,
          322,
          324,
          326,
          328,
          330,
          332,
          334,
          336,
          338,
          340,
          342,
          344,
          346,
          348,
          350,
          352,
          354,
          356,
          358,
          360,
          362,
          364,
          366,
          368,
          370,
          372,
          374,
          376,
          378,
          380,
          382,
          384,
          386,
          388,
          390,
          392,
          394,
          396,
          398,
          400,
          402,
          404,
          406,
          408,
          410,
          412,
          414,
          416,
          418,
          420,
          422,
          424,
          426,
          428,
          430,
          432,
          434,
          436,
          438,
          440,
          442,
          444,
          446,
          448,
          450,
          452,
          454,
          456,
          458,
          460,
          462,
          464,
          466,
          468,
          470,
          472,
          474,
          476,
          478,
          480,
          482,
          484,
          486,
          488,
          490,
          492,
          494,
          496,
          498,
          500,
          502,
          504,
          506,
          508,
          510,
          512,
          514,
          516,
          518,
          520,
          522,
          524,
          526,
          528,
          530,
          532,
          534,
          536,
          538,
          540,
          542,
          544,
          546,
          548,
          550,
          552,
          554,
          556,
          558,
          560,
          562,
          564,
          566,
          568,
          570,
          572,
          574,
          576,
          578,
          580,
          582,
          584,
          586,
          588,
          590,
          592,
          594,
          596,
          598,
          600,
          602,
          604,
          606,
          608,
          610,
          612,
          614,
          616,
          618,
          620,
          622,
          624,
          626,
          628,
          630,
          632,
          634,
          636,
          638,
          640,
          642,
          644,
          646,
          648,
          650,
          652,
          654,
          656,
          658,
          660,
          662,
          664,
          666,
          668,
          670,
          672,
          674,
          676,
          678,
          680,
          682,
          684,
          686,
          688,
          690,
          692,
          694,
          696,
          698,
          700,
          702,
          704,
          706,
          708,
          710,
          712,
          714,
          716,
          718,
          720,
          722,
          724,
          726,
          728,
          730,
          732,
          734,
          736,
          738,
          740,
          742,
          744,
          746,
          748,
          750,
          752,
          754,
          756,
          758,
          760,
          762,
          764,
          766,
          768,
          770,
          772,
          774,
          776,
          778,
          780,
          782,
          784,
          786,
          788,
          790,
          792,
          794,
          796,
          798,
          800,
          802,
          804,
          806,
          808,
          810,
          812,
          814,
          816,
          818,
          820,
          822,
          824,
          826,
          828,
          830,
          832,
          834,
          836,
          838,
          840,
          842,
          844,
          846,
          848,
          850,
          852,
          854,
          856,
          858,
          860,
          862,
          864,
          866,
          868,
          870,
          872,
          874,
          876,
          878,
          880,
          882,
          884,
          886,
          888,
          890,
          892,
          894,
          896,
          898
         ],
         "y": [
          4.06498634990598,
          4.056500676871515,
          4.049186268445707,
          4.042930522885248,
          4.037541146963613,
          4.0328558550423885,
          4.028746042068525,
          4.0251112407686795,
          4.021873964703573,
          4.018972972114038,
          4.016360449615576,
          4.0139974624865795,
          4.011851761614074,
          4.0098968351328175,
          4.008110700704344,
          4.006474770029521,
          4.004973464428472,
          4.003593600280994,
          4.002323591758128,
          4.001153793270138,
          4.00007499904426,
          3.999079708853318,
          3.998160558194556,
          3.9973114218868546,
          3.9965264570184407,
          3.995800583084518,
          3.995129092527472,
          3.994507733578742,
          3.993932539254576,
          3.993400039684919,
          3.992907033243256,
          3.992450168857769,
          3.992026844246474,
          3.991634517657978,
          3.9912706002763145,
          3.990932766336482,
          3.99061898759118,
          3.990327257999645,
          3.990055584054919,
          3.989802274625095,
          3.989565684635646,
          3.989344218080969,
          3.989136428077712,
          3.9889409445901456,
          3.9887564713862025,
          3.98858178862127,
          3.988415755914601,
          3.9882572957824567,
          3.988105382463593,
          3.987959065803437,
          3.987817447205853,
          3.98767965378163,
          3.987544889522142,
          3.9874124075528488,
          3.987281503355024,
          3.987151516929177,
          3.987021800971184,
          3.986891738038282,
          3.9867608016665335,
          3.986628476404083,
          3.986494281686113,
          3.986357765312213,
          3.986218438348906,
          3.986075938779765,
          3.985929895497044,
          3.9857799641559777,
          3.985625826248641,
          3.985467155403746,
          3.985303672892419,
          3.985135129316246,
          3.984961287140612,
          3.9847819285118784,
          3.984596848880007,
          3.984405854676455,
          3.9842087850666714,
          3.9840054885044465,
          3.983795828883339,
          3.983579684935655,
          3.983356939026304,
          3.983127500609717,
          3.9828912870153665,
          3.9826482278664623,
          3.982398264647473,
          3.982141334327094,
          3.9818773945816632,
          3.981606423045721,
          3.981328400448624,
          3.98104331712572,
          3.980751172704491,
          3.9804519758120978,
          3.980145743802939,
          3.979832476674339,
          3.979512160927907,
          3.979184866300774,
          3.9788506324402304,
          3.978509505462733,
          3.978161537729123,
          3.9778067876335648,
          3.977445319405216,
          3.977077196667288,
          3.976702399833892,
          3.9763210600048655,
          3.975933251724931,
          3.975539053311051,
          3.975138546672056,
          3.974731817138236,
          3.974318953300416,
          3.973900046857862,
          3.973475118809629,
          3.9730442842261944,
          3.9726076506712977,
          3.972165312660896,
          3.971717366726211,
          3.97126391134603,
          3.9708050468883735,
          3.970340875561401,
          3.9698715013727353,
          3.969397030096771,
          3.9689175692495775,
          3.9684332280706345,
          3.9679441175111823,
          3.967450262691754,
          3.9669517268464896,
          3.966448690816253,
          3.965941259864225,
          3.965429539853331,
          3.964913637225018,
          3.9643936589825337,
          3.96386971267846,
          3.963341906406117,
          3.96281034879468,
          3.962275149007576,
          3.9617364167439546,
          3.961194262243077,
          3.9606487568319504,
          3.9600998348912033,
          3.959547741888173,
          3.958992576603694,
          3.958434437166236,
          3.957873421020111,
          3.95730962489572,
          3.956743144781789,
          3.956174075899428,
          3.95560251267815,
          3.95502854873335,
          3.9544522768455233,
          3.953873788940976,
          3.953293176073982,
          3.952710444985648,
          3.952125727922266,
          3.9515391178133754,
          3.950950696578469,
          3.9503605447306303,
          3.9497687413496094,
          3.949175364056136,
          3.9485804889874503,
          3.947984190774081,
          3.94738654251773,
          3.946787615770253,
          3.946187480513835,
          3.945586205142118,
          3.9449838943400257,
          3.94438062031416,
          3.943776426228528,
          3.943171377710627,
          3.942565539030172,
          3.9419589730961833,
          3.941351741454768,
          3.9407439042874888,
          3.940135520410428,
          3.9395266472737074,
          3.9389173409616527,
          3.938307656193533,
          3.937697646324626,
          3.93708738181092,
          3.9364769588899224,
          3.93586638799495,
          3.9352557209098222,
          3.934645008380796,
          3.934034300130014,
          3.933423644869151,
          3.932813090313117,
          3.932202683193927,
          3.9315924692745967,
          3.930982493363184,
          3.9303727993267934,
          3.929763430105631,
          3.929154427727138,
          3.928545827141227,
          3.927937672566629,
          3.92733000325623,
          3.9267228573916446,
          3.926116272286188,
          3.925510284398033,
          3.92490492934334,
          3.924300241909318,
          3.9236962560672057,
          3.9230930049851778,
          3.922490521041188,
          3.921888835835696,
          3.9212879802042906,
          3.920687952491116,
          3.920088786767344,
          3.919490524543993,
          3.918893192274399,
          3.918296815665709,
          3.917701419692937,
          3.9171070286128766,
          3.91651366597784,
          3.9159213546493343,
          3.915330116811559,
          3.914739973984758,
          3.914150947038437,
          3.9135630562044543,
          3.9129763210898982,
          3.9123907606898753,
          3.911806393400104,
          3.9112232370293567,
          3.9106413088117393,
          3.910060625418832,
          3.909481202971609,
          3.9089030220296888,
          3.908326107785555,
          3.9077504877594,
          3.907176174821217,
          3.90660318129428,
          3.90603151896564,
          3.9054611990965182,
          3.90489223243246,
          3.9043246292134457,
          3.903758399183778,
          3.903193551601844,
          3.902630095249715,
          3.902068038442625,
          3.901507389038257,
          3.900948154445933,
          3.900390341635609,
          3.899833957146741,
          3.899279007097005,
          3.898725497190868,
          3.898173432728026,
          3.897622811757608,
          3.897073641304122,
          3.896525927692892,
          3.895979674478848,
          3.895434884842117,
          3.8948915615954407,
          3.8943497071914552,
          3.8938093237298976,
          3.8932704129646103,
          3.8927329763104543,
          3.892197014850087,
          3.891662529340593,
          3.891129520220007,
          3.890597987613725,
          3.8900679313407434,
          3.889539350919807,
          3.889012245575469,
          3.88848661424393,
          3.887962455578884,
          3.887439767957129,
          3.886918561395282,
          3.886398828607136,
          3.885880563949412,
          3.8853637650858746,
          3.884848429446578,
          3.884334554233117,
          3.88382213642376,
          3.883311172778481,
          3.8828016598438495,
          3.8822935939578858,
          3.881786971254729,
          3.881281787669234,
          3.880778038941481,
          3.8802757206211833,
          3.8797748280719286,
          3.8792753564754254,
          3.8787773008355746,
          3.87828065598246,
          3.8777854165763017,
          3.877291577111195,
          3.876799139484135,
          3.8763080942534263,
          3.8758184337673103,
          3.8753301521236336,
          3.874843243284291,
          3.874357701078695,
          3.87387351920723,
          3.873390691244603,
          3.8729092106430953,
          3.8724290707357474,
          3.871950264739461,
          3.8714727857580105,
          3.8709966267849953,
          3.8705217807067,
          3.8700482403048775,
          3.8695759982594624,
          3.869105047151205,
          3.8686353794642536,
          3.868166987588645,
          3.867700104977809,
          3.867234484462422,
          3.866770005411885,
          3.866306690444691,
          3.8658446434130376,
          3.865383788723912,
          3.8649241204568754,
          3.864465662092994,
          3.8640084013412954,
          3.863552325907547,
          3.863097429179952,
          3.862643704384357,
          3.862191145019004,
          3.861739744288799,
          3.861289495298585,
          3.860840391055284,
          3.8603923501751702,
          3.8599454270641225,
          3.8594996162747823,
          3.8590549105052703,
          3.858611302364931,
          3.85816878437615,
          3.8577273489761974,
          3.8572869885188847,
          3.856847695276333,
          3.856409461440548,
          3.855972279125051,
          3.855536140366382,
          3.8551009877116105,
          3.854666781858151,
          3.8542335776564873,
          3.853801366942139,
          3.8533701414788704,
          3.852939892959915,
          3.852510613009152,
          3.852082293182269,
          3.851654924967787,
          3.8512284997881743,
          3.8508030090007774,
          3.850378443898838,
          3.849954795712352,
          3.8495319464653193,
          3.8491099624403806,
          3.848688850407226,
          3.848268601436014,
          3.847849206535523,
          3.8474306566537817,
          3.8470129426786346,
          3.846596055438304,
          3.846179985701879,
          3.845764724179748,
          3.845350261524034,
          3.844936588328959,
          3.844523659744241,
          3.844111412152352,
          3.8436999082302297,
          3.8432891384131023,
          3.842879093077439,
          3.842469762541071,
          3.842061137063217,
          3.841653206844534,
          3.841245962027071,
          3.840839392694189,
          3.840433488870475,
          3.840028240521556,
          3.83962363755393,
          3.8392195887828713,
          3.8388161251770234,
          3.838413260576083,
          3.8380109846986703,
          3.837609287200615,
          3.837208157674511,
          3.836807585649172,
          3.8364075605890817,
          3.836008071893804,
          3.8356091088973057,
          3.835210660867285,
          3.8348127170044166,
          3.834415247475283,
          3.834018175655346,
          3.8336215580875774,
          3.8332253832374055,
          3.8328296394985233,
          3.832434315191756,
          3.832039398563824,
          3.831644877786147,
          3.8312507409535206,
          3.830856976082761,
          3.830463571111336,
          3.8300705138959024,
          3.8296777922107808,
          3.8292853937464337,
          3.8288933061078327,
          3.828501516812785,
          3.828110013290241,
          3.8277187828784935,
          3.82732781282334,
          3.8269370902762097,
          3.826546602292197,
          3.826156335828053,
          3.8257662493016382,
          3.8253763238280327,
          3.8249865721101424,
          3.8245969803497024,
          3.824207534638683,
          3.823818220956846,
          3.823429025169216,
          3.823039933023459,
          3.822650930147269,
          3.8222620020455977,
          3.821873134097879,
          3.821484311555162,
          3.8210955195371774,
          3.8207067430293367,
          3.8203179668796543,
          3.819929175795614,
          3.8195403543409263,
          3.819151486932271,
          3.818762557835897,
          3.8183735511642327,
          3.817984450872317,
          3.817595240754252,
          3.817205898455435,
          3.816816411011826,
          3.816426763061776,
          3.816036937672485,
          3.815646917730934,
          3.815256685939873,
          3.81486622481366,
          3.814475516674053,
          3.814084543645931,
          3.813693287652903,
          3.813301730412898,
          3.8129098534336032,
          3.812517638007893,
          3.8121250652091536,
          3.811732115886518,
          3.81133877066006,
          3.810945009915894,
          3.810550813801211,
          3.810156162219245,
          3.809761034824146,
          3.809365411015844,
          3.80896927014886,
          3.808572593574839,
          3.8081753586672606,
          3.807777543910097,
          3.807379127506832,
          3.8069800873750226,
          3.806580401140744
         ]
        }
       ],
       "layout": {
        "autosize": false,
        "height": 576,
        "legend": {
         "font": {
          "size": 12
         },
         "x": 1,
         "xanchor": "right",
         "y": 1,
         "yanchor": "top"
        },
        "margin": {
         "b": 10,
         "l": 10,
         "pad": 4,
         "r": 10,
         "t": 75
        },
        "showlegend": true,
        "template": {
         "data": {
          "bar": [
           {
            "error_x": {
             "color": "#2a3f5f"
            },
            "error_y": {
             "color": "#2a3f5f"
            },
            "marker": {
             "line": {
              "color": "#E5ECF6",
              "width": 0.5
             },
             "pattern": {
              "fillmode": "overlay",
              "size": 10,
              "solidity": 0.2
             }
            },
            "type": "bar"
           }
          ],
          "barpolar": [
           {
            "marker": {
             "line": {
              "color": "#E5ECF6",
              "width": 0.5
             },
             "pattern": {
              "fillmode": "overlay",
              "size": 10,
              "solidity": 0.2
             }
            },
            "type": "barpolar"
           }
          ],
          "carpet": [
           {
            "aaxis": {
             "endlinecolor": "#2a3f5f",
             "gridcolor": "white",
             "linecolor": "white",
             "minorgridcolor": "white",
             "startlinecolor": "#2a3f5f"
            },
            "baxis": {
             "endlinecolor": "#2a3f5f",
             "gridcolor": "white",
             "linecolor": "white",
             "minorgridcolor": "white",
             "startlinecolor": "#2a3f5f"
            },
            "type": "carpet"
           }
          ],
          "choropleth": [
           {
            "colorbar": {
             "outlinewidth": 0,
             "ticks": ""
            },
            "type": "choropleth"
           }
          ],
          "contour": [
           {
            "colorbar": {
             "outlinewidth": 0,
             "ticks": ""
            },
            "colorscale": [
             [
              0,
              "#0d0887"
             ],
             [
              0.1111111111111111,
              "#46039f"
             ],
             [
              0.2222222222222222,
              "#7201a8"
             ],
             [
              0.3333333333333333,
              "#9c179e"
             ],
             [
              0.4444444444444444,
              "#bd3786"
             ],
             [
              0.5555555555555556,
              "#d8576b"
             ],
             [
              0.6666666666666666,
              "#ed7953"
             ],
             [
              0.7777777777777778,
              "#fb9f3a"
             ],
             [
              0.8888888888888888,
              "#fdca26"
             ],
             [
              1,
              "#f0f921"
             ]
            ],
            "type": "contour"
           }
          ],
          "contourcarpet": [
           {
            "colorbar": {
             "outlinewidth": 0,
             "ticks": ""
            },
            "type": "contourcarpet"
           }
          ],
          "heatmap": [
           {
            "colorbar": {
             "outlinewidth": 0,
             "ticks": ""
            },
            "colorscale": [
             [
              0,
              "#0d0887"
             ],
             [
              0.1111111111111111,
              "#46039f"
             ],
             [
              0.2222222222222222,
              "#7201a8"
             ],
             [
              0.3333333333333333,
              "#9c179e"
             ],
             [
              0.4444444444444444,
              "#bd3786"
             ],
             [
              0.5555555555555556,
              "#d8576b"
             ],
             [
              0.6666666666666666,
              "#ed7953"
             ],
             [
              0.7777777777777778,
              "#fb9f3a"
             ],
             [
              0.8888888888888888,
              "#fdca26"
             ],
             [
              1,
              "#f0f921"
             ]
            ],
            "type": "heatmap"
           }
          ],
          "heatmapgl": [
           {
            "colorbar": {
             "outlinewidth": 0,
             "ticks": ""
            },
            "colorscale": [
             [
              0,
              "#0d0887"
             ],
             [
              0.1111111111111111,
              "#46039f"
             ],
             [
              0.2222222222222222,
              "#7201a8"
             ],
             [
              0.3333333333333333,
              "#9c179e"
             ],
             [
              0.4444444444444444,
              "#bd3786"
             ],
             [
              0.5555555555555556,
              "#d8576b"
             ],
             [
              0.6666666666666666,
              "#ed7953"
             ],
             [
              0.7777777777777778,
              "#fb9f3a"
             ],
             [
              0.8888888888888888,
              "#fdca26"
             ],
             [
              1,
              "#f0f921"
             ]
            ],
            "type": "heatmapgl"
           }
          ],
          "histogram": [
           {
            "marker": {
             "pattern": {
              "fillmode": "overlay",
              "size": 10,
              "solidity": 0.2
             }
            },
            "type": "histogram"
           }
          ],
          "histogram2d": [
           {
            "colorbar": {
             "outlinewidth": 0,
             "ticks": ""
            },
            "colorscale": [
             [
              0,
              "#0d0887"
             ],
             [
              0.1111111111111111,
              "#46039f"
             ],
             [
              0.2222222222222222,
              "#7201a8"
             ],
             [
              0.3333333333333333,
              "#9c179e"
             ],
             [
              0.4444444444444444,
              "#bd3786"
             ],
             [
              0.5555555555555556,
              "#d8576b"
             ],
             [
              0.6666666666666666,
              "#ed7953"
             ],
             [
              0.7777777777777778,
              "#fb9f3a"
             ],
             [
              0.8888888888888888,
              "#fdca26"
             ],
             [
              1,
              "#f0f921"
             ]
            ],
            "type": "histogram2d"
           }
          ],
          "histogram2dcontour": [
           {
            "colorbar": {
             "outlinewidth": 0,
             "ticks": ""
            },
            "colorscale": [
             [
              0,
              "#0d0887"
             ],
             [
              0.1111111111111111,
              "#46039f"
             ],
             [
              0.2222222222222222,
              "#7201a8"
             ],
             [
              0.3333333333333333,
              "#9c179e"
             ],
             [
              0.4444444444444444,
              "#bd3786"
             ],
             [
              0.5555555555555556,
              "#d8576b"
             ],
             [
              0.6666666666666666,
              "#ed7953"
             ],
             [
              0.7777777777777778,
              "#fb9f3a"
             ],
             [
              0.8888888888888888,
              "#fdca26"
             ],
             [
              1,
              "#f0f921"
             ]
            ],
            "type": "histogram2dcontour"
           }
          ],
          "mesh3d": [
           {
            "colorbar": {
             "outlinewidth": 0,
             "ticks": ""
            },
            "type": "mesh3d"
           }
          ],
          "parcoords": [
           {
            "line": {
             "colorbar": {
              "outlinewidth": 0,
              "ticks": ""
             }
            },
            "type": "parcoords"
           }
          ],
          "pie": [
           {
            "automargin": true,
            "type": "pie"
           }
          ],
          "scatter": [
           {
            "fillpattern": {
             "fillmode": "overlay",
             "size": 10,
             "solidity": 0.2
            },
            "type": "scatter"
           }
          ],
          "scatter3d": [
           {
            "line": {
             "colorbar": {
              "outlinewidth": 0,
              "ticks": ""
             }
            },
            "marker": {
             "colorbar": {
              "outlinewidth": 0,
              "ticks": ""
             }
            },
            "type": "scatter3d"
           }
          ],
          "scattercarpet": [
           {
            "marker": {
             "colorbar": {
              "outlinewidth": 0,
              "ticks": ""
             }
            },
            "type": "scattercarpet"
           }
          ],
          "scattergeo": [
           {
            "marker": {
             "colorbar": {
              "outlinewidth": 0,
              "ticks": ""
             }
            },
            "type": "scattergeo"
           }
          ],
          "scattergl": [
           {
            "marker": {
             "colorbar": {
              "outlinewidth": 0,
              "ticks": ""
             }
            },
            "type": "scattergl"
           }
          ],
          "scattermapbox": [
           {
            "marker": {
             "colorbar": {
              "outlinewidth": 0,
              "ticks": ""
             }
            },
            "type": "scattermapbox"
           }
          ],
          "scatterpolar": [
           {
            "marker": {
             "colorbar": {
              "outlinewidth": 0,
              "ticks": ""
             }
            },
            "type": "scatterpolar"
           }
          ],
          "scatterpolargl": [
           {
            "marker": {
             "colorbar": {
              "outlinewidth": 0,
              "ticks": ""
             }
            },
            "type": "scatterpolargl"
           }
          ],
          "scatterternary": [
           {
            "marker": {
             "colorbar": {
              "outlinewidth": 0,
              "ticks": ""
             }
            },
            "type": "scatterternary"
           }
          ],
          "surface": [
           {
            "colorbar": {
             "outlinewidth": 0,
             "ticks": ""
            },
            "colorscale": [
             [
              0,
              "#0d0887"
             ],
             [
              0.1111111111111111,
              "#46039f"
             ],
             [
              0.2222222222222222,
              "#7201a8"
             ],
             [
              0.3333333333333333,
              "#9c179e"
             ],
             [
              0.4444444444444444,
              "#bd3786"
             ],
             [
              0.5555555555555556,
              "#d8576b"
             ],
             [
              0.6666666666666666,
              "#ed7953"
             ],
             [
              0.7777777777777778,
              "#fb9f3a"
             ],
             [
              0.8888888888888888,
              "#fdca26"
             ],
             [
              1,
              "#f0f921"
             ]
            ],
            "type": "surface"
           }
          ],
          "table": [
           {
            "cells": {
             "fill": {
              "color": "#EBF0F8"
             },
             "line": {
              "color": "white"
             }
            },
            "header": {
             "fill": {
              "color": "#C8D4E3"
             },
             "line": {
              "color": "white"
             }
            },
            "type": "table"
           }
          ]
         },
         "layout": {
          "annotationdefaults": {
           "arrowcolor": "#2a3f5f",
           "arrowhead": 0,
           "arrowwidth": 1
          },
          "autotypenumbers": "strict",
          "coloraxis": {
           "colorbar": {
            "outlinewidth": 0,
            "ticks": ""
           }
          },
          "colorscale": {
           "diverging": [
            [
             0,
             "#8e0152"
            ],
            [
             0.1,
             "#c51b7d"
            ],
            [
             0.2,
             "#de77ae"
            ],
            [
             0.3,
             "#f1b6da"
            ],
            [
             0.4,
             "#fde0ef"
            ],
            [
             0.5,
             "#f7f7f7"
            ],
            [
             0.6,
             "#e6f5d0"
            ],
            [
             0.7,
             "#b8e186"
            ],
            [
             0.8,
             "#7fbc41"
            ],
            [
             0.9,
             "#4d9221"
            ],
            [
             1,
             "#276419"
            ]
           ],
           "sequential": [
            [
             0,
             "#0d0887"
            ],
            [
             0.1111111111111111,
             "#46039f"
            ],
            [
             0.2222222222222222,
             "#7201a8"
            ],
            [
             0.3333333333333333,
             "#9c179e"
            ],
            [
             0.4444444444444444,
             "#bd3786"
            ],
            [
             0.5555555555555556,
             "#d8576b"
            ],
            [
             0.6666666666666666,
             "#ed7953"
            ],
            [
             0.7777777777777778,
             "#fb9f3a"
            ],
            [
             0.8888888888888888,
             "#fdca26"
            ],
            [
             1,
             "#f0f921"
            ]
           ],
           "sequentialminus": [
            [
             0,
             "#0d0887"
            ],
            [
             0.1111111111111111,
             "#46039f"
            ],
            [
             0.2222222222222222,
             "#7201a8"
            ],
            [
             0.3333333333333333,
             "#9c179e"
            ],
            [
             0.4444444444444444,
             "#bd3786"
            ],
            [
             0.5555555555555556,
             "#d8576b"
            ],
            [
             0.6666666666666666,
             "#ed7953"
            ],
            [
             0.7777777777777778,
             "#fb9f3a"
            ],
            [
             0.8888888888888888,
             "#fdca26"
            ],
            [
             1,
             "#f0f921"
            ]
           ]
          },
          "colorway": [
           "#636efa",
           "#EF553B",
           "#00cc96",
           "#ab63fa",
           "#FFA15A",
           "#19d3f3",
           "#FF6692",
           "#B6E880",
           "#FF97FF",
           "#FECB52"
          ],
          "font": {
           "color": "#2a3f5f"
          },
          "geo": {
           "bgcolor": "white",
           "lakecolor": "white",
           "landcolor": "#E5ECF6",
           "showlakes": true,
           "showland": true,
           "subunitcolor": "white"
          },
          "hoverlabel": {
           "align": "left"
          },
          "hovermode": "closest",
          "mapbox": {
           "style": "light"
          },
          "paper_bgcolor": "white",
          "plot_bgcolor": "#E5ECF6",
          "polar": {
           "angularaxis": {
            "gridcolor": "white",
            "linecolor": "white",
            "ticks": ""
           },
           "bgcolor": "#E5ECF6",
           "radialaxis": {
            "gridcolor": "white",
            "linecolor": "white",
            "ticks": ""
           }
          },
          "scene": {
           "xaxis": {
            "backgroundcolor": "#E5ECF6",
            "gridcolor": "white",
            "gridwidth": 2,
            "linecolor": "white",
            "showbackground": true,
            "ticks": "",
            "zerolinecolor": "white"
           },
           "yaxis": {
            "backgroundcolor": "#E5ECF6",
            "gridcolor": "white",
            "gridwidth": 2,
            "linecolor": "white",
            "showbackground": true,
            "ticks": "",
            "zerolinecolor": "white"
           },
           "zaxis": {
            "backgroundcolor": "#E5ECF6",
            "gridcolor": "white",
            "gridwidth": 2,
            "linecolor": "white",
            "showbackground": true,
            "ticks": "",
            "zerolinecolor": "white"
           }
          },
          "shapedefaults": {
           "line": {
            "color": "#2a3f5f"
           }
          },
          "ternary": {
           "aaxis": {
            "gridcolor": "white",
            "linecolor": "white",
            "ticks": ""
           },
           "baxis": {
            "gridcolor": "white",
            "linecolor": "white",
            "ticks": ""
           },
           "bgcolor": "#E5ECF6",
           "caxis": {
            "gridcolor": "white",
            "linecolor": "white",
            "ticks": ""
           }
          },
          "title": {
           "x": 0.05
          },
          "xaxis": {
           "automargin": true,
           "gridcolor": "white",
           "linecolor": "white",
           "ticks": "",
           "title": {
            "standoff": 15
           },
           "zerolinecolor": "white",
           "zerolinewidth": 2
          },
          "yaxis": {
           "automargin": true,
           "gridcolor": "white",
           "linecolor": "white",
           "ticks": "",
           "title": {
            "standoff": 15
           },
           "zerolinecolor": "white",
           "zerolinewidth": 2
          }
         }
        },
        "title": {
         "text": "Optimised Comparison",
         "x": 0.5
        },
        "width": 1024,
        "xaxis": {
         "autorange": true,
         "range": [
          -54.31794507575758,
          952.3179450757576
         ],
         "tickfont": {
          "size": 12
         },
         "title": {
          "font": {
           "size": 12
          },
          "text": "Time [s]"
         },
         "type": "linear"
        },
        "yaxis": {
         "autorange": true,
         "range": [
          3.788214475300354,
          4.0818658678618895
         ],
         "tickfont": {
          "size": 12
         },
         "title": {
          "font": {
           "size": 12
          },
          "text": "Voltage [V]"
         },
         "type": "linear"
        }
       }
      },
      "image/png": "[encoded data removed]",
      "text/html": [
       "<div>                            <div id=\"321eeaa9-48e9-4117-9a12-097c1d09b8f9\" class=\"plotly-graph-div\" style=\"height:576px; width:1024px;\"></div>            <script type=\"text/javascript\">                require([\"plotly\"], function(Plotly) {                    window.PLOTLYENV=window.PLOTLYENV || {};                                    if (document.getElementById(\"321eeaa9-48e9-4117-9a12-097c1d09b8f9\")) {                    Plotly.newPlot(                        \"321eeaa9-48e9-4117-9a12-097c1d09b8f9\",                        [{\"fill\":\"toself\",\"fillcolor\":\"rgba(255,229,204,0.8)\",\"hoverinfo\":\"skip\",\"line\":{\"color\":\"rgba(255,255,255,0)\"},\"showlegend\":false,\"x\":[0,2,4,6,8,10,12,14,16,18,20,22,24,26,28,30,32,34,36,38,40,42,44,46,48,50,52,54,56,58,60,62,64,66,68,70,72,74,76,78,80,82,84,86,88,90,92,94,96,98,100,102,104,106,108,110,112,114,116,118,120,122,124,126,128,130,132,134,136,138,140,142,144,146,148,150,152,154,156,158,160,162,164,166,168,170,172,174,176,178,180,182,184,186,188,190,192,194,196,198,200,202,204,206,208,210,212,214,216,218,220,222,224,226,228,230,232,234,236,238,240,242,244,246,248,250,252,254,256,258,260,262,264,266,268,270,272,274,276,278,280,282,284,286,288,290,292,294,296,298,300,302,304,306,308,310,312,314,316,318,320,322,324,326,328,330,332,334,336,338,340,342,344,346,348,350,352,354,356,358,360,362,364,366,368,370,372,374,376,378,380,382,384,386,388,390,392,394,396,398,400,402,404,406,408,410,412,414,416,418,420,422,424,426,428,430,432,434,436,438,440,442,444,446,448,450,452,454,456,458,460,462,464,466,468,470,472,474,476,478,480,482,484,486,488,490,492,494,496,498,500,502,504,506,508,510,512,514,516,518,520,522,524,526,528,530,532,534,536,538,540,542,544,546,548,550,552,554,556,558,560,562,564,566,568,570,572,574,576,578,580,582,584,586,588,590,592,594,596,598,600,602,604,606,608,610,612,614,616,618,620,622,624,626,628,630,632,634,636,638,640,642,644,646,648,650,652,654,656,658,660,662,664,666,668,670,672,674,676,678,680,682,684,686,688,690,692,694,696,698,700,702,704,706,708,710,712,714,716,718,720,722,724,726,728,730,732,734,736,738,740,742,744,746,748,750,752,754,756,758,760,762,764,766,768,770,772,774,776,778,780,782,784,786,788,790,792,794,796,798,800,802,804,806,808,810,812,814,816,818,820,822,824,826,828,830,832,834,836,838,840,842,844,846,848,850,852,854,856,858,860,862,864,866,868,870,872,874,876,878,880,882,884,886,888,890,892,894,896,898,898,896,894,892,890,888,886,884,882,880,878,876,874,872,870,868,866,864,862,860,858,856,854,852,850,848,846,844,842,840,838,836,834,832,830,828,826,824,822,820,818,816,814,812,810,808,806,804,802,800,798,796,794,792,790,788,786,784,782,780,778,776,774,772,770,768,766,764,762,760,758,756,754,752,750,748,746,744,742,740,738,736,734,732,730,728,726,724,722,720,718,716,714,712,710,708,706,704,702,700,698,696,694,692,690,688,686,684,682,680,678,676,674,672,670,668,666,664,662,660,658,656,654,652,650,648,646,644,642,640,638,636,634,632,630,628,626,624,622,620,618,616,614,612,610,608,606,604,602,600,598,596,594,592,590,588,586,584,582,580,578,576,574,572,570,568,566,564,562,560,558,556,554,552,550,548,546,544,542,540,538,536,534,532,530,528,526,524,522,520,518,516,514,512,510,508,506,504,502,500,498,496,494,492,490,488,486,484,482,480,478,476,474,472,470,468,466,464,462,460,458,456,454,452,450,448,446,444,442,440,438,436,434,432,430,428,426,424,422,420,418,416,414,412,410,408,406,404,402,400,398,396,394,392,390,388,386,384,382,380,378,376,374,372,370,368,366,364,362,360,358,356,354,352,350,348,346,344,342,340,338,336,334,332,330,328,326,324,322,320,318,316,314,312,310,308,306,304,302,300,298,296,294,292,290,288,286,284,282,280,278,276,274,272,270,268,266,264,262,260,258,256,254,252,250,248,246,244,242,240,238,236,234,232,230,228,226,224,222,220,218,216,214,212,210,208,206,204,202,200,198,196,194,192,190,188,186,184,182,180,178,176,174,172,170,168,166,164,162,160,158,156,154,152,150,148,146,144,142,140,138,136,134,132,130,128,126,124,122,120,118,116,114,112,110,108,106,104,102,100,98,96,94,92,90,88,86,84,82,80,78,76,74,72,70,68,66,64,62,60,58,56,54,52,50,48,46,44,42,40,38,36,34,32,30,28,26,24,22,20,18,16,14,12,10,8,6,4,2,0],\"y\":[4.066105347613955,4.05761967457949,4.050305266153682,4.044049520593223,4.038660144671588,4.033974852750363,4.0298650397764995,4.026230238476654,4.022992962411548,4.020091969822013,4.0174794473235504,4.015116460194554,4.012970759322049,4.011015832840792,4.009229698412319,4.007593767737496,4.006092462136447,4.004712597988969,4.003442589466103,4.002272790978113,4.001193996752235,4.000198706561292,3.9992795559025303,3.998430419594829,3.997645454726415,3.9969195807924924,3.9962480902354462,3.9956267312867157,3.9950515369625506,3.9945190373928936,3.9940260309512308,3.993569166565743,3.9931458419544485,3.9927535153659526,3.992389597984289,3.992051764044457,3.9917379852991544,3.991446255707619,3.991174581762894,3.9909212723330696,3.990684682343621,3.9904632157889433,3.9902554257856866,3.99005994229812,3.989875469094177,3.9897007863292444,3.9895347536225754,3.989376293490431,3.989224380171567,3.989078063511411,3.9889364449138274,3.9887986514896046,3.9886638872301163,3.988531405260823,3.988400501062998,3.9882705146371515,3.9881407986791584,3.9880107357462564,3.987879799374508,3.9877474741120573,3.9876132793940875,3.9874767630201875,3.9873374360568805,3.9871949364877395,3.987048893205018,3.9868989618639517,3.9867448239566152,3.9865861531117206,3.9864226706003936,3.98625412702422,3.9860802848485863,3.985900926219853,3.9857158465879814,3.9855248523844296,3.985327782774646,3.985124486212421,3.9849148265913135,3.9846986826436295,3.984475936734279,3.9842464983176913,3.984010284723341,3.983767225574437,3.9835172623554476,3.9832603320350684,3.9829963922896376,3.9827254207536953,3.982447398156598,3.982162314833694,3.9818701704124653,3.9815709735200717,3.981264741510914,3.980951474382314,3.980631158635882,3.9803038640087482,3.979969630148205,3.979628503170707,3.9792805354370975,3.978925785341539,3.978564317113191,3.978196194375262,3.9778213975418666,3.97744005771284,3.9770522494329055,3.976658051019026,3.9762575443800303,3.9758508148462104,3.9754379510083906,3.9750190445658364,3.9745941165176033,3.974163281934169,3.973726648379272,3.97328431036887,3.9728363644341855,3.9723829090540046,3.971924044596348,3.9714598732693753,3.9709904990807097,3.9705160278047456,3.970036566957552,3.969552225778609,3.969063115219157,3.9685692603997285,3.968070724554464,3.967567688524227,3.9670602575721996,3.966548537561305,3.9660326349329926,3.9655126566905077,3.964988710386434,3.9644609041140915,3.963929346502655,3.96339414671555,3.962855414451929,3.962313259951051,3.961767754539925,3.9612188325991777,3.960666739596147,3.9601115743116684,3.95955343487421,3.9589924187280854,3.958428622603694,3.9578621424897635,3.9572930736074023,3.9567215103861244,3.9561475464413243,3.9555712745534977,3.9549927866489507,3.9544121737819564,3.9538294426936225,3.9532447256302405,3.95265811552135,3.952069694286443,3.951479542438605,3.950887739057584,3.9502943617641106,3.9496994866954247,3.9491031884820553,3.9485055402257045,3.9479066134782275,3.9473064782218095,3.9467052028500924,3.946102892048,3.9454996180221342,3.944895423936502,3.9442903754186016,3.9436845367381466,3.9430779708041577,3.9424707391627427,3.941862901995463,3.9412545181184027,3.940645644981682,3.940036338669627,3.939426653901507,3.9388166440326,3.938206379518894,3.937595956597897,3.9369853857029242,3.9363747186177966,3.9357640060887706,3.9351532978379886,3.9345426425771253,3.933932088021091,3.9333216809019014,3.932711466982571,3.9321014910711587,3.931491797034768,3.930882427813606,3.9302734254351126,3.929664824849201,3.9290566702746035,3.9284490009642044,3.927841855099619,3.9272352699941626,3.9266292821060076,3.9260239270513146,3.9254192396172924,3.92481525377518,3.924212002693152,3.9236095187491626,3.92300783354367,3.922406977912265,3.92180695019909,3.9212077844753184,3.9206095222519672,3.920012189982373,3.919415813373683,3.918820417400911,3.918226026320851,3.917632663685814,3.917040352357309,3.9164491145195335,3.9158589716927326,3.9152699447464108,3.914682053912429,3.9140953187978726,3.9135097583978498,3.9129253911080784,3.912342234737331,3.9117603065197137,3.9111796231268063,3.9106002006795832,3.910022019737663,3.9094451054935293,3.908869485467374,3.9082951725291912,3.9077221790022545,3.9071505166736142,3.9065801968044926,3.906011230140434,3.90544362692142,3.9048773968917523,3.904312549309818,3.9037490929576895,3.9031870361505994,3.902626386746231,3.902067152153907,3.9015093393435833,3.9009529548547155,3.9003980048049796,3.899844494898842,3.899292430436001,3.8987418094655824,3.8981926390120964,3.8976449254008663,3.897098672186823,3.8965538825500916,3.896010559303415,3.8954687048994296,3.894928321437872,3.894389410672585,3.8938519740184288,3.8933160125580613,3.8927815270485673,3.8922485179279813,3.8917169853216995,3.8911869290487178,3.8906583486277815,3.8901312432834434,3.8896056119519042,3.8890814532868583,3.8885587656651035,3.8880375591032563,3.88751782631511,3.8869995616573862,3.886482762793849,3.8859674271545526,3.8854535519410915,3.884941134131734,3.8844301704864552,3.883920657551824,3.88341259166586,3.8829059689627035,3.8824007853772082,3.8818970366494554,3.8813947183291577,3.880893825779903,3.8803943541834,3.879896298543549,3.8793996536904345,3.878904414284276,3.8784105748191693,3.8779181371921094,3.8774270919614007,3.876937431475285,3.876449149831608,3.875962240992266,3.8754766987866693,3.8749925169152046,3.8745096889525774,3.8740282083510698,3.873548068443722,3.8730692624474354,3.872591783465985,3.8721156244929698,3.8716407784146742,3.871167238012852,3.870694995967437,3.870224044859179,3.869754377172228,3.8692859852966195,3.868819102685783,3.8683534821703964,3.867889003119859,3.8674256881526654,3.866963641121012,3.8665027864318864,3.86604311816485,3.865584659800968,3.86512739904927,3.8646713236155215,3.864216426887926,3.8637627020923313,3.8633101427269785,3.862858741996774,3.862408493006559,3.861959388763258,3.861511347883145,3.861064424772097,3.8606186139827567,3.8601739082132447,3.8597303000729055,3.8592877820841243,3.858846346684172,3.858405986226859,3.8579666929843075,3.857528459148522,3.857091276833026,3.8566551380743563,3.856219985419585,3.8557857795661254,3.8553525753644617,3.8549203646501136,3.8544891391868448,3.85405889066789,3.8536296107171264,3.8532012908902433,3.852773922675762,3.8523474974961487,3.851922006708752,3.8514974416068126,3.8510737934203267,3.8506509441732937,3.850228960148355,3.8498078481152005,3.8493875991439883,3.8489682042434974,3.8485496543617557,3.848131940386609,3.847715053146278,3.847298983409854,3.846883721887722,3.846469259232008,3.846055586036934,3.8456426574522156,3.845230409860326,3.844818905938204,3.844408136121077,3.843998090785414,3.8435887602490455,3.8431801347711914,3.8427722045525083,3.8423649597350455,3.8419583904021635,3.8415524865784496,3.84114723822953,3.8407426352619045,3.8403385864908457,3.839935122884998,3.8395322582840574,3.839129982406645,3.8387282849085893,3.8383271553824856,3.8379265833571465,3.8375265582970557,3.8371270696017783,3.83672810660528,3.8363296585752593,3.835931714712391,3.8355342451832573,3.8351371733633206,3.834740555795552,3.83434438094538,3.8339486372064977,3.8335533128997303,3.833158396271798,3.8327638754941216,3.832369738661495,3.8319759737907355,3.831582568819311,3.8311895116038768,3.830796789918755,3.830404391454408,3.830012303815807,3.8296205145207596,3.8292290109982154,3.828837780586468,3.828446810531314,3.828056087984184,3.827665600000171,3.8272753335360274,3.826885247009613,3.826495321536007,3.826105569818117,3.825715978057677,3.8253265323466574,3.8249372186648203,3.82454802287719,3.824158930731434,3.8237699278552433,3.823380999753572,3.8229921318058535,3.8226033092631364,3.822214517245152,3.821825740737311,3.8214369645876287,3.8210481735035886,3.820659352048901,3.8202704846402455,3.819881555543871,3.819492548872207,3.8191034485802913,3.8187142384622264,3.8183248961634093,3.8179354087198005,3.8175457607697503,3.817155935380459,3.8167659154389084,3.8163756836478475,3.8159852225216344,3.8155945143820276,3.8152035413539056,3.8148122853608775,3.814420728120873,3.8140288511415776,3.813636635715867,3.813244062917128,3.8128511135944922,3.8124577683680347,3.8120640076238685,3.8116698115091854,3.811275159927219,3.810880032532121,3.8104844087238186,3.8100882678568344,3.8096915912828133,3.809294356375235,3.8088965416180716,3.8084981252148062,3.808099085082997,3.807699398848718,3.805461403432769,3.805861089667048,3.8062601297988574,3.8066585462021227,3.8070563609592862,3.8074535958668645,3.8078502724408856,3.8082464133078697,3.808642037116172,3.8090371645112704,3.8094318160932366,3.8098260122079197,3.810219772952086,3.8106131181785434,3.811006067501179,3.811398640299918,3.811790855725629,3.8121827327049242,3.8125742899449286,3.812965545937957,3.8133565189660787,3.8137472271056856,3.8141376882318987,3.8145279200229596,3.81491793996451,3.8153077653538015,3.8156974133038517,3.8160869007474605,3.8164762430462775,3.8168654531643424,3.8172545534562583,3.817643560127922,3.8180324892242967,3.8184213566329523,3.81881017808764,3.81919896917168,3.8195877453213622,3.819976521829203,3.8203653138471876,3.8207541363899047,3.8211430043376233,3.8215319324392945,3.821920935315485,3.822310027461241,3.8226992232488715,3.8230885369307086,3.823477982641728,3.823867574402168,3.8242573261200583,3.8246472515936643,3.8250373381200786,3.825427604584222,3.8258180925682352,3.8262088151153653,3.826599785170519,3.8269910155822666,3.8273825191048108,3.8277743083998583,3.8281663960384593,3.8285587945028063,3.828951516187928,3.829344573403362,3.8297379783747867,3.830131743245546,3.8305258800781727,3.8309204008558493,3.8313153174837815,3.831710641790549,3.832106385529431,3.832502560379603,3.832899177947372,3.8332962497673084,3.833693719296442,3.8340916631593105,3.8344901111893313,3.8348890741858295,3.835288562881107,3.8356885879411977,3.8360891599665368,3.8364902894926405,3.8368919869906963,3.8372942628681086,3.837697127469049,3.838100591074897,3.8385046398459557,3.8389092428135814,3.839314491162501,3.8397203949862146,3.8401269643190967,3.8405342091365595,3.8409421393552425,3.8413507648330967,3.841760095369465,3.8421701407051283,3.8425809105222553,3.8429924144443772,3.8434046620362667,3.843817590620985,3.8442312638160594,3.8446457264717733,3.845060987993905,3.845477057730329,3.84589394497066,3.846311658945807,3.8467302088275486,3.8471496037280395,3.8475698526992517,3.847990964732406,3.848412948757345,3.848835798004378,3.849259446190864,3.849684011292803,3.8501095020802,3.850535927259813,3.8509632954742945,3.8513916153011776,3.851820895251941,3.852251143770896,3.8526823692341647,3.853114579948513,3.8535477841501766,3.853981990003636,3.8544171426584075,3.854853281417077,3.8552904637325733,3.8557286975683587,3.8561679908109103,3.856608351268223,3.8570497866681754,3.8574923046569567,3.857935912797296,3.858380618566808,3.858826429356148,3.8592733524671963,3.8597213933473093,3.86017049759061,3.860620746580825,3.8610721473110297,3.8615247066763825,3.8619784314719774,3.8624333281995726,3.862889403633321,3.8633466643850194,3.863805122748901,3.8642647910159376,3.864725645705063,3.8651876927367166,3.86565100770391,3.8661154867544476,3.8665811072698344,3.8670479898806707,3.867516381756279,3.86798604944323,3.868457000551488,3.868929242596903,3.8694027829987254,3.869877629077021,3.870353788050036,3.8708312670314866,3.871310073027773,3.871790212935121,3.8722716935366286,3.872754521499256,3.8732387033707205,3.8737242455763172,3.874211154415659,3.8746994360593363,3.875189096545452,3.8756801417761606,3.8761725794032205,3.8766664188683273,3.8771616582744857,3.8776583031276,3.878156358767451,3.8786558303639542,3.879156722913209,3.8796590412335066,3.8801627899612594,3.8806679735467546,3.8811745962499113,3.881682662135875,3.8821921750705064,3.8827031387157853,3.8832155565251427,3.8837294317386037,3.8842447673779,3.8847615662414374,3.885279830899161,3.8857995636873075,3.8863207702491547,3.8868434578709095,3.8873676165359554,3.8878932478674946,3.8884203532118327,3.888948933632769,3.8894789899057507,3.8900105225120325,3.8905435316326185,3.8910780171421124,3.89161397860248,3.8921514152566363,3.892690326021923,3.893230709483481,3.8937725638874663,3.894315887134143,3.894860676770874,3.8954069299849174,3.8959546435961476,3.8965038140496335,3.897054435020052,3.8976064994828934,3.8981600093890307,3.8987149594387667,3.8992713439276345,3.899829156737958,3.9003883913302824,3.9009490407346505,3.9015110975417406,3.9020745538938693,3.9026394014758035,3.9032056315054713,3.9037732347244853,3.904342201388544,3.9049125212576654,3.9054841835863057,3.9060571771132424,3.906631490051425,3.9072071100775805,3.9077840243217143,3.9083622052636344,3.9089416277108575,3.909522311103765,3.9101042393213823,3.9106873956921295,3.911271762981901,3.911857323381924,3.9124440584964804,3.913031949330462,3.9136209762767837,3.9142111191035847,3.9148023569413604,3.9153946682698653,3.915988030904902,3.916582421984962,3.917177817957734,3.9177741945664244,3.9183715268360184,3.9189697890593695,3.9195689547831414,3.920168982496316,3.9207698381277214,3.921371523333214,3.9219740072772034,3.9225772583592313,3.9231812442013436,3.923785931635366,3.9243912866900588,3.924997274578214,3.92560385968367,3.9262110055482555,3.9268186748586547,3.9274268294332524,3.9280354300191638,3.928644432397657,3.929253801618819,3.92986349565521,3.9304734715666223,3.9310836854859526,3.931694092605142,3.9323046471611764,3.93291530242204,3.933526010672822,3.934136723201848,3.9347473902869754,3.935357961181948,3.9359683841029454,3.936578648616651,3.937188658485558,3.9377983432536783,3.938407649565733,3.939016522702454,3.9396249065795144,3.940232743746794,3.940839975388209,3.9414465413221977,3.942052380002653,3.9426574285205533,3.9432616226061854,3.9438648966320513,3.9444672074341436,3.9450684828058606,3.9456686180622786,3.9462675448097557,3.9468651930661065,3.947461491279476,3.948056366348162,3.948649743641635,3.9492415470226563,3.949831698870494,3.950420120105401,3.9510067302142917,3.9515914472776736,3.9521741783660076,3.952754791233002,3.953333279137549,3.9539095510253754,3.9544835149701756,3.9550550781914535,3.9556241470738147,3.956190627187745,3.9567544233121366,3.9573154394582613,3.9578735788957196,3.958428744180198,3.958980837183229,3.959529759123976,3.960075264535102,3.96061741903598,3.961156151299601,3.961691351086706,3.9622229086981426,3.9627507149704853,3.963274661274559,3.963794639517044,3.9643105421453564,3.9648222621562508,3.965329693108278,3.965832729138515,3.9663312649837796,3.9668251198032083,3.96731423036266,3.967798571541603,3.9682780323887967,3.968752503664761,3.9692218778534265,3.969686049180399,3.9701449136380558,3.9705983690182367,3.9710463149529214,3.9714886529633233,3.97192528651822,3.9723561211016545,3.9727810491498876,3.9731999555924418,3.9736128194302616,3.9740195489640815,3.974420055603077,3.9748142540169566,3.975202062296891,3.9755834021259178,3.9759581989593133,3.976326321697242,3.9766877899255904,3.9770425400211487,3.977390507754758,3.977731634732256,3.9780658685927994,3.978393163219933,3.978713478966365,3.979026746094965,3.979332978104123,3.9796321749965164,3.979924319417745,3.980209402740649,3.9804874253377465,3.980758396873689,3.9810223366191195,3.9812792669394987,3.9815292301584884,3.981772289307392,3.9820085029017425,3.98223794131833,3.9824606872276807,3.9826768311753646,3.982886490796472,3.983089787358697,3.9832868569684807,3.9834778511720326,3.983662930803904,3.9838422894326375,3.9840161316082714,3.9841846751844447,3.9843481576957718,3.9845068285406664,3.984660966448003,3.9848108977890693,3.9849569410717907,3.9850994406409317,3.9852387676042387,3.9853752839781387,3.9855094786961085,3.985641803958559,3.9857727403303076,3.9859028032632096,3.9860325192212027,3.9861625056470493,3.9862934098448743,3.9864258918141675,3.9865606560736557,3.9866984494978785,3.986840068095462,3.9869863847556184,3.9871382980744823,3.9872967582066265,3.9874627909132956,3.987637473678228,3.987821946882171,3.9880174303697378,3.9882252203729944,3.9884466869276722,3.9886832769171208,3.988936586346945,3.98920826029167,3.9894999898832055,3.9898137686285082,3.99015160256834,3.9905155199500038,3.9909078465384997,3.991331171149794,3.991788035535282,3.9922810419769448,3.9928135415466017,3.993388735870767,3.9940100948194974,3.9946815853765436,3.9954074593104663,3.99619242417888,3.9970415604865814,3.9979607111453435,3.998956001336286,4.000034795562163,4.0012045940501535,4.002474602573019,4.003854466720497,4.005355772321546,4.006991702996369,4.008777837424843,4.010732763906099,4.012878464778605,4.015241451907601,4.017853974406063,4.020754966995598,4.023992243060705,4.02762704436055,4.031736857334414,4.036422149255638,4.041811525177273,4.048067270737732,4.05538167916354,4.063867352198005],\"type\":\"scatter\"},{\"mode\":\"markers\",\"name\":\"Target\",\"x\":[0,2,4,6,8,10,12,14,16,18,20,22,24,26,28,30,32,34,36,38,40,42,44,46,48,50,52,54,56,58,60,62,64,66,68,70,72,74,76,78,80,82,84,86,88,90,92,94,96,98,100,102,104,106,108,110,112,114,116,118,120,122,124,126,128,130,132,134,136,138,140,142,144,146,148,150,152,154,156,158,160,162,164,166,168,170,172,174,176,178,180,182,184,186,188,190,192,194,196,198,200,202,204,206,208,210,212,214,216,218,220,222,224,226,228,230,232,234,236,238,240,242,244,246,248,250,252,254,256,258,260,262,264,266,268,270,272,274,276,278,280,282,284,286,288,290,292,294,296,298,300,302,304,306,308,310,312,314,316,318,320,322,324,326,328,330,332,334,336,338,340,342,344,346,348,350,352,354,356,358,360,362,364,366,368,370,372,374,376,378,380,382,384,386,388,390,392,394,396,398,400,402,404,406,408,410,412,414,416,418,420,422,424,426,428,430,432,434,436,438,440,442,444,446,448,450,452,454,456,458,460,462,464,466,468,470,472,474,476,478,480,482,484,486,488,490,492,494,496,498,500,502,504,506,508,510,512,514,516,518,520,522,524,526,528,530,532,534,536,538,540,542,544,546,548,550,552,554,556,558,560,562,564,566,568,570,572,574,576,578,580,582,584,586,588,590,592,594,596,598,600,602,604,606,608,610,612,614,616,618,620,622,624,626,628,630,632,634,636,638,640,642,644,646,648,650,652,654,656,658,660,662,664,666,668,670,672,674,676,678,680,682,684,686,688,690,692,694,696,698,700,702,704,706,708,710,712,714,716,718,720,722,724,726,728,730,732,734,736,738,740,742,744,746,748,750,752,754,756,758,760,762,764,766,768,770,772,774,776,778,780,782,784,786,788,790,792,794,796,798,800,802,804,806,808,810,812,814,816,818,820,822,824,826,828,830,832,834,836,838,840,842,844,846,848,850,852,854,856,858,860,862,864,866,868,870,872,874,876,878,880,882,884,886,888,890,892,894,896,898],\"y\":[4.06471977983984,4.056677922810598,4.049512665172218,4.041068497084215,4.036598660233501,4.032776763904335,4.028326864358035,4.024243174890612,4.0216426679822375,4.016844471022015,4.0135313685128615,4.013141432819571,4.009891988112922,4.007899123024522,4.007868323326693,4.005657944431246,4.002345487711473,4.0027587299394956,4.000157726928405,3.9991874898580826,3.997374111743748,3.9988713261186937,3.9974259591567605,3.9950371425391857,3.995997001080973,3.9947535788371034,3.992532343873753,3.9935598421822673,3.99153015044207,3.993217112088624,3.99218417042831,3.989914613123058,3.990238626368865,3.9900450290576552,3.9902637650483985,3.991826831781326,3.988737597431456,3.9879845422283062,3.9889759731264802,3.9890246218906547,3.989902409976938,3.9885107783430436,3.9876877661522476,3.9900554617805324,3.9867050736708944,3.9885362910836544,3.9865427611646083,3.9875387464297143,3.989083006335263,3.986789910312208,3.9884747122799404,3.9854252234139538,3.9859400860254572,3.9862474592002552,3.9859537253669655,3.9862526301468586,3.9849160338535854,3.9847396442679517,3.9854589653076364,3.9865242953790476,3.985609738872625,3.9867779840571873,3.9847930020058393,3.9839311410395273,3.9853953405272917,3.983192375780093,3.9837126609267925,3.9834472860448313,3.9848220892024564,3.984445749378283,3.982303797676741,3.983015644099083,3.983997133372148,3.9826080315069383,3.982803508651738,3.984442792095237,3.9813931406328047,3.984590064731354,3.9809965598703454,3.982257385539171,3.9820317260557014,3.9808220430696,3.981616256932131,3.9805860010343417,3.9817434358065236,3.9801885927084637,3.9809803419804672,3.9798904172071152,3.9792639100754186,3.978878157647422,3.9785435595674277,3.9795217834952803,3.979074659484582,3.9796825031238177,3.976573851271448,3.977424800394471,3.977308797014684,3.976255091912582,3.975421684862331,3.9759159840101366,3.975796747642474,3.9755554324606455,3.974805341936603,3.9759866046275096,3.9741654507561397,3.973353537140665,3.973326102790661,3.9744453073580273,3.973156396512306,3.9732381197556395,3.971367064987546,3.970471887978706,3.971788398109534,3.972486789916292,3.9691270813525,3.9694969287928576,3.9695940940909025,3.969147363785802,3.968737687656958,3.9667576674120055,3.96708677397722,3.965866228038769,3.9674445002697962,3.963923122717476,3.9658105149183522,3.966489551497605,3.966321269415025,3.9624705465134578,3.963448030006705,3.9620429780654716,3.9624469165617855,3.962268801492209,3.959332185733911,3.959773177530882,3.95988449267411,3.9589982122571388,3.9605856892251983,3.958460449547634,3.9581673204330525,3.9574605043958253,3.9575856535294935,3.9568482764049437,3.958581453095677,3.9550415314813736,3.9537157240232386,3.9520912945319497,3.952290082900416,3.953986649014828,3.9548010561586042,3.950232184994539,3.951962347701682,3.949797164492721,3.949795291108174,3.9498026875669434,3.949891480691493,3.946476310004648,3.947591052826918,3.9478458094727222,3.9484949949803863,3.945114639575653,3.9466600466028483,3.9456667147490356,3.9434785468443665,3.9441031114091887,3.942440372555646,3.942983505039562,3.941618252201682,3.9401657542837616,3.941181722083384,3.9418572811956087,3.938746531115573,3.9383077205734187,3.9385546716591873,3.936008865993196,3.9350744425392583,3.936160888112522,3.9364538272521488,3.9337897678662292,3.9345754110165427,3.9344755172359127,3.933692774984267,3.932844238011166,3.9328422926231936,3.9293389346231886,3.9303742473549814,3.9296440230437617,3.9309534318615524,3.9285052924572863,3.929520327948837,3.928093580275596,3.926995975056252,3.9280070329399996,3.9265360460862695,3.925403311536124,3.9231217404789254,3.923388551929652,3.9250310773912864,3.9232542012497182,3.9237372557049826,3.921569109625307,3.922832071378313,3.9206360322317697,3.922023728102832,3.9206512907914575,3.9201744033248773,3.918346432542424,3.9175400245975998,3.9173786358389346,3.9161074803112146,3.915375687407393,3.9149006756098457,3.9160127346621465,3.913654969127839,3.91288856258806,3.914421571853833,3.912055483831779,3.911834402510157,3.9114170128395203,3.9119382686759825,3.9097776478014867,3.91038711775684,3.9083184231620396,3.9074725013590186,3.9080146652619034,3.9059991316808333,3.9073285921329903,3.904951094082055,3.9041038151512524,3.9041422055629162,3.906050108170741,3.9040749206900447,3.9032068729488363,3.9008653017143247,3.9022310568350767,3.903755597789173,3.8989665427117326,3.9016245148405955,3.8992419705610417,3.897969149569015,3.8986811908824843,3.898741515737,3.896910969937301,3.896587971345469,3.8966196914196383,3.89634206169477,3.8942491963713435,3.8933631156974364,3.8928412359577282,3.893752939847443,3.8930272462663185,3.894220172345729,3.8927989358216424,3.8902283832554887,3.8913831382699304,3.8919544760788347,3.8922411085000492,3.8903993150213427,3.8886217738201094,3.8891141026768468,3.8897195595875163,3.8883630706193917,3.886279230567264,3.8862181922939922,3.8871186934211863,3.8850613689636155,3.884986977390622,3.8855213189590905,3.8830926708453988,3.883146914286322,3.881705539531771,3.8825793811241356,3.883014485009865,3.8822999585127698,3.8800553822927917,3.8805911126906345,3.8797636063730274,3.8790218044128273,3.881341101215294,3.877874748717924,3.8789364202529937,3.8786820048385824,3.8779462704889993,3.876347263656867,3.8754087572400664,3.875352247726027,3.8749075854275326,3.873872605694672,3.874748334995816,3.8730953926598497,3.8727961024266317,3.8722385030161828,3.87204980189333,3.8716019742033487,3.8702424725417988,3.870072783587898,3.871332909693517,3.867984898158914,3.870037140498438,3.86911540469453,3.8686468193565595,3.8679933046389166,3.8679163841522803,3.86743577097611,3.866890887525142,3.8664321773888424,3.8640246029975778,3.865058694237642,3.8655463512558783,3.864475934084604,3.862509020792936,3.8650476451842546,3.8622188178807324,3.8617399452561605,3.8623106381884367,3.861101428045842,3.859673180367587,3.8616925646065514,3.8606802639078843,3.858617840391033,3.8585032082858994,3.8571360334079285,3.858641880718284,3.85871642245004,3.857365167019121,3.8581209655338133,3.857888538019182,3.8567377332010406,3.8567920046936677,3.8557348318103966,3.8523546820187384,3.853171994170852,3.8526616032307364,3.8524805652117107,3.852510115237965,3.852846394106592,3.8525172877326206,3.8532254252420257,3.851770725276331,3.850338929369217,3.849400279132487,3.8479984643438434,3.8500257518289938,3.849476220800347,3.850190412706914,3.8464142078176486,3.847983064170394,3.848675575347392,3.8469352616409216,3.846844354031986,3.8462264845921372,3.845120357264588,3.843659883998657,3.8442610261414707,3.84428929146349,3.8428199811979695,3.8431188436786594,3.841732653308266,3.8442684949715367,3.8442784280249516,3.8422224987849565,3.842113714590965,3.8431284175370686,3.8410904549289087,3.8398375697887617,3.840754508263455,3.839724417770237,3.8375400103576953,3.8387787986277435,3.8383708513850543,3.838162795001563,3.837011858881156,3.8366733006929357,3.8349128211843047,3.8381333552660055,3.836456896021954,3.83463201394255,3.8361552409506534,3.833778786592612,3.8322901056906087,3.8329203591620855,3.8342007410275687,3.834488380358761,3.834072457265687,3.8350311385769116,3.831372949235014,3.831921903649646,3.829994785594772,3.830573080128059,3.8308952328498598,3.830810888251571,3.827830364033204,3.8286600125545127,3.8281790739491353,3.8293734233914076,3.828288999799333,3.828311760797029,3.829894636070927,3.827730513202857,3.827054643058136,3.8249540880078534,3.8252647491194094,3.825684940836542,3.8250913541461444,3.8250541691906137,3.825151058405714,3.8230564843471426,3.8224706249937417,3.821979383895115,3.8237301106073414,3.8213091686435963,3.8232062294042257,3.8196581874029745,3.8226110096950596,3.8199669535076377,3.8227538541701005,3.8203362529570737,3.819710350471649,3.818113410746103,3.817963217544269,3.818362975405113,3.81668422989477,3.817205425810662,3.816372828615999,3.8149197941643735,3.8174152989101793,3.8147389404262304,3.8164347169274113,3.816846735645065,3.815524270886293,3.8161172712822062,3.814479619079187,3.81190421956377,3.81403883914785,3.8133495972845126,3.811167831293824,3.8120065662360774,3.810675232840358,3.8121940034999895,3.809834869391101,3.8089541696239455,3.8103727057571732,3.8102357537345393,3.80837679118511,3.8092578094856138,3.807744799370103,3.8082103635862334,3.808625010340719,3.8071077046959245,3.8053605633224037,3.805758309088908],\"type\":\"scatter\"},{\"line\":{\"width\":4},\"mode\":\"lines\",\"name\":\"Model\",\"x\":[0,2,4,6,8,10,12,14,16,18,20,22,24,26,28,30,32,34,36,38,40,42,44,46,48,50,52,54,56,58,60,62,64,66,68,70,72,74,76,78,80,82,84,86,88,90,92,94,96,98,100,102,104,106,108,110,112,114,116,118,120,122,124,126,128,130,132,134,136,138,140,142,144,146,148,150,152,154,156,158,160,162,164,166,168,170,172,174,176,178,180,182,184,186,188,190,192,194,196,198,200,202,204,206,208,210,212,214,216,218,220,222,224,226,228,230,232,234,236,238,240,242,244,246,248,250,252,254,256,258,260,262,264,266,268,270,272,274,276,278,280,282,284,286,288,290,292,294,296,298,300,302,304,306,308,310,312,314,316,318,320,322,324,326,328,330,332,334,336,338,340,342,344,346,348,350,352,354,356,358,360,362,364,366,368,370,372,374,376,378,380,382,384,386,388,390,392,394,396,398,400,402,404,406,408,410,412,414,416,418,420,422,424,426,428,430,432,434,436,438,440,442,444,446,448,450,452,454,456,458,460,462,464,466,468,470,472,474,476,478,480,482,484,486,488,490,492,494,496,498,500,502,504,506,508,510,512,514,516,518,520,522,524,526,528,530,532,534,536,538,540,542,544,546,548,550,552,554,556,558,560,562,564,566,568,570,572,574,576,578,580,582,584,586,588,590,592,594,596,598,600,602,604,606,608,610,612,614,616,618,620,622,624,626,628,630,632,634,636,638,640,642,644,646,648,650,652,654,656,658,660,662,664,666,668,670,672,674,676,678,680,682,684,686,688,690,692,694,696,698,700,702,704,706,708,710,712,714,716,718,720,722,724,726,728,730,732,734,736,738,740,742,744,746,748,750,752,754,756,758,760,762,764,766,768,770,772,774,776,778,780,782,784,786,788,790,792,794,796,798,800,802,804,806,808,810,812,814,816,818,820,822,824,826,828,830,832,834,836,838,840,842,844,846,848,850,852,854,856,858,860,862,864,866,868,870,872,874,876,878,880,882,884,886,888,890,892,894,896,898],\"y\":[4.06498634990598,4.056500676871515,4.049186268445707,4.042930522885248,4.037541146963613,4.0328558550423885,4.028746042068525,4.0251112407686795,4.021873964703573,4.018972972114038,4.016360449615576,4.0139974624865795,4.011851761614074,4.0098968351328175,4.008110700704344,4.006474770029521,4.004973464428472,4.003593600280994,4.002323591758128,4.001153793270138,4.00007499904426,3.999079708853318,3.998160558194556,3.9973114218868546,3.9965264570184407,3.995800583084518,3.995129092527472,3.9945077335787413,3.993932539254576,3.993400039684919,3.9929070332432564,3.9924501688577685,3.992026844246474,3.991634517657978,3.9912706002763145,3.9909327663364826,3.99061898759118,3.9903272579996445,3.9900555840549194,3.989802274625095,3.9895656846356466,3.989344218080969,3.989136428077712,3.9889409445901456,3.9887564713862025,3.98858178862127,3.988415755914601,3.9882572957824567,3.988105382463593,3.9879590658034365,3.987817447205853,3.98767965378163,3.987544889522142,3.9874124075528488,3.9872815033550237,3.987151516929177,3.987021800971184,3.986891738038282,3.9867608016665335,3.986628476404083,3.986494281686113,3.986357765312213,3.986218438348906,3.986075938779765,3.9859298954970437,3.9857799641559772,3.985625826248641,3.985467155403746,3.985303672892419,3.985135129316246,3.984961287140612,3.9847819285118784,3.984596848880007,3.984405854676455,3.9842087850666714,3.9840054885044465,3.983795828883339,3.983579684935655,3.9833569390263044,3.983127500609717,3.9828912870153665,3.9826482278664628,3.982398264647473,3.982141334327094,3.9818773945816632,3.981606423045721,3.9813284004486236,3.9810433171257196,3.980751172704491,3.9804519758120973,3.9801457438029395,3.9798324766743396,3.9795121609279076,3.979184866300774,3.9788506324402304,3.9785095054627324,3.978161537729123,3.9778067876335648,3.9774453194052164,3.9770771966672878,3.976702399833892,3.9763210600048655,3.975933251724931,3.9755390533110515,3.975138546672056,3.974731817138236,3.974318953300416,3.973900046857862,3.973475118809629,3.9730442842261944,3.9726076506712977,3.972165312660896,3.971717366726211,3.97126391134603,3.9708050468883735,3.970340875561401,3.9698715013727353,3.969397030096771,3.9689175692495775,3.9684332280706345,3.9679441175111827,3.967450262691754,3.9669517268464896,3.9664486908162524,3.965941259864225,3.965429539853331,3.964913637225018,3.9643936589825333,3.9638697126784597,3.963341906406117,3.9628103487946804,3.9622751490075756,3.9617364167439546,3.9611942622430765,3.9606487568319504,3.9600998348912033,3.9595477418881724,3.958992576603694,3.9584344371662357,3.957873421020111,3.9573096248957196,3.956743144781789,3.956174075899428,3.95560251267815,3.95502854873335,3.9544522768455233,3.9538737889409763,3.953293176073982,3.952710444985648,3.952125727922266,3.9515391178133754,3.9509506965784684,3.9503605447306307,3.9497687413496094,3.9491753640561362,3.9485804889874503,3.947984190774081,3.94738654251773,3.946787615770253,3.946187480513835,3.945586205142118,3.9449838943400257,3.94438062031416,3.9437764262285278,3.943171377710627,3.942565539030172,3.9419589730961833,3.9413517414547683,3.9407439042874888,3.9401355204104282,3.9395266472737074,3.9389173409616527,3.9383076561935324,3.9376976463246254,3.9370873818109198,3.9364769588899224,3.93586638799495,3.9352557209098222,3.9346450083807962,3.934034300130014,3.933423644869151,3.9328130903131164,3.932202683193927,3.9315924692745967,3.9309824933631843,3.9303727993267934,3.9297634301056314,3.929154427727138,3.928545827141227,3.927937672566629,3.92733000325623,3.9267228573916446,3.926116272286188,3.925510284398033,3.9249049293433402,3.924300241909318,3.9236962560672057,3.9230930049851778,3.9224905210411882,3.921888835835696,3.9212879802042906,3.920687952491116,3.920088786767344,3.919490524543993,3.918893192274399,3.9182968156657085,3.9177014196929365,3.9171070286128766,3.9165136659778397,3.9159213546493348,3.915330116811559,3.914739973984758,3.9141509470384364,3.9135630562044548,3.9129763210898982,3.9123907606898753,3.911806393400104,3.9112232370293567,3.9106413088117393,3.910060625418832,3.909481202971609,3.9089030220296888,3.908326107785555,3.9077504877593996,3.907176174821217,3.90660318129428,3.90603151896564,3.9054611990965182,3.9048922324324598,3.9043246292134457,3.903758399183778,3.9031935516018437,3.902630095249715,3.902068038442625,3.901507389038257,3.9009481544459326,3.900390341635609,3.899833957146741,3.899279007097005,3.898725497190868,3.8981734327280266,3.897622811757608,3.897073641304122,3.896525927692892,3.8959796744788484,3.895434884842117,3.8948915615954407,3.8943497071914552,3.8938093237298976,3.8932704129646107,3.8927329763104543,3.892197014850087,3.891662529340593,3.891129520220007,3.890597987613725,3.8900679313407434,3.889539350919807,3.889012245575469,3.88848661424393,3.887962455578884,3.887439767957129,3.886918561395282,3.8863988286071356,3.885880563949412,3.8853637650858746,3.884848429446578,3.884334554233117,3.8838221364237597,3.883311172778481,3.8828016598438495,3.8822935939578858,3.881786971254729,3.881281787669234,3.880778038941481,3.8802757206211833,3.8797748280719286,3.8792753564754254,3.8787773008355746,3.87828065598246,3.8777854165763017,3.877291577111195,3.876799139484135,3.8763080942534263,3.8758184337673107,3.8753301521236336,3.8748432432842916,3.874357701078695,3.87387351920723,3.873390691244603,3.8729092106430953,3.8724290707357474,3.871950264739461,3.8714727857580105,3.8709966267849953,3.8705217807067,3.8700482403048775,3.8695759982594624,3.8691050471512045,3.8686353794642536,3.868166987588645,3.867700104977809,3.867234484462422,3.8667700054118845,3.866306690444691,3.8658446434130376,3.865383788723912,3.8649241204568754,3.864465662092994,3.8640084013412954,3.863552325907547,3.863097429179952,3.862643704384357,3.862191145019004,3.8617397442887995,3.8612894952985846,3.8608403910552838,3.8603923501751707,3.8599454270641225,3.8594996162747823,3.8590549105052703,3.858611302364931,3.85816878437615,3.8577273489761974,3.8572869885188847,3.856847695276333,3.8564094614405477,3.8559722791250515,3.855536140366382,3.8551009877116105,3.854666781858151,3.8542335776564873,3.853801366942139,3.8533701414788704,3.8529398929599155,3.852510613009152,3.852082293182269,3.8516549249677876,3.8512284997881743,3.8508030090007774,3.850378443898838,3.8499547957123523,3.8495319464653193,3.8491099624403806,3.848688850407226,3.848268601436014,3.847849206535523,3.8474306566537813,3.8470129426786346,3.8465960554383036,3.8461799857018795,3.8457647241797477,3.845350261524034,3.8449365883289595,3.844523659744241,3.8441114121523516,3.8436999082302297,3.8432891384131027,3.8428790930774395,3.842469762541071,3.842061137063217,3.841653206844534,3.841245962027071,3.840839392694189,3.840433488870475,3.840028240521556,3.83962363755393,3.8392195887828713,3.8388161251770234,3.838413260576083,3.8380109846986707,3.837609287200615,3.837208157674511,3.836807585649172,3.8364075605890813,3.836008071893804,3.8356091088973057,3.835210660867285,3.8348127170044166,3.834415247475283,3.834018175655346,3.8336215580875774,3.8332253832374055,3.8328296394985233,3.832434315191756,3.8320393985638237,3.831644877786147,3.8312507409535206,3.830856976082761,3.8304635711113364,3.8300705138959024,3.8296777922107808,3.8292853937464337,3.8288933061078327,3.828501516812785,3.828110013290241,3.8277187828784935,3.8273278128233397,3.8269370902762097,3.8265466022921966,3.826156335828053,3.8257662493016387,3.8253763238280327,3.8249865721101424,3.8245969803497024,3.824207534638683,3.823818220956846,3.8234290251692156,3.8230399330234595,3.822650930147269,3.8222620020455977,3.821873134097879,3.821484311555162,3.8210955195371774,3.8207067430293367,3.8203179668796543,3.819929175795614,3.8195403543409268,3.819151486932271,3.8187625578358966,3.8183735511642327,3.817984450872317,3.817595240754252,3.817205898455435,3.816816411011826,3.816426763061776,3.8160369376724845,3.815646917730934,3.815256685939873,3.81486622481366,3.814475516674053,3.814084543645931,3.813693287652903,3.8133017304128987,3.8129098534336032,3.8125176380078925,3.8121250652091536,3.811732115886518,3.8113387706600603,3.810945009915894,3.810550813801211,3.810156162219245,3.8097610348241466,3.809365411015844,3.80896927014886,3.808572593574839,3.8081753586672606,3.807777543910097,3.807379127506832,3.8069800873750226,3.8065804011407436],\"type\":\"scatter\"}],                        {\"autosize\":false,\"height\":576,\"legend\":{\"font\":{\"size\":12},\"x\":1,\"xanchor\":\"right\",\"y\":1,\"yanchor\":\"top\"},\"margin\":{\"b\":10,\"l\":10,\"pad\":4,\"r\":10,\"t\":75},\"showlegend\":true,\"title\":{\"text\":\"Optimised Comparison\",\"x\":0.5},\"width\":1024,\"xaxis\":{\"tickfont\":{\"size\":12},\"title\":{\"font\":{\"size\":12},\"text\":\"Time [s]\"}},\"yaxis\":{\"tickfont\":{\"size\":12},\"title\":{\"font\":{\"size\":12},\"text\":\"Voltage [V]\"}},\"template\":{\"data\":{\"histogram2dcontour\":[{\"type\":\"histogram2dcontour\",\"colorbar\":{\"outlinewidth\":0,\"ticks\":\"\"},\"colorscale\":[[0.0,\"#0d0887\"],[0.1111111111111111,\"#46039f\"],[0.2222222222222222,\"#7201a8\"],[0.3333333333333333,\"#9c179e\"],[0.4444444444444444,\"#bd3786\"],[0.5555555555555556,\"#d8576b\"],[0.6666666666666666,\"#ed7953\"],[0.7777777777777778,\"#fb9f3a\"],[0.8888888888888888,\"#fdca26\"],[1.0,\"#f0f921\"]]}],\"choropleth\":[{\"type\":\"choropleth\",\"colorbar\":{\"outlinewidth\":0,\"ticks\":\"\"}}],\"histogram2d\":[{\"type\":\"histogram2d\",\"colorbar\":{\"outlinewidth\":0,\"ticks\":\"\"},\"colorscale\":[[0.0,\"#0d0887\"],[0.1111111111111111,\"#46039f\"],[0.2222222222222222,\"#7201a8\"],[0.3333333333333333,\"#9c179e\"],[0.4444444444444444,\"#bd3786\"],[0.5555555555555556,\"#d8576b\"],[0.6666666666666666,\"#ed7953\"],[0.7777777777777778,\"#fb9f3a\"],[0.8888888888888888,\"#fdca26\"],[1.0,\"#f0f921\"]]}],\"heatmap\":[{\"type\":\"heatmap\",\"colorbar\":{\"outlinewidth\":0,\"ticks\":\"\"},\"colorscale\":[[0.0,\"#0d0887\"],[0.1111111111111111,\"#46039f\"],[0.2222222222222222,\"#7201a8\"],[0.3333333333333333,\"#9c179e\"],[0.4444444444444444,\"#bd3786\"],[0.5555555555555556,\"#d8576b\"],[0.6666666666666666,\"#ed7953\"],[0.7777777777777778,\"#fb9f3a\"],[0.8888888888888888,\"#fdca26\"],[1.0,\"#f0f921\"]]}],\"heatmapgl\":[{\"type\":\"heatmapgl\",\"colorbar\":{\"outlinewidth\":0,\"ticks\":\"\"},\"colorscale\":[[0.0,\"#0d0887\"],[0.1111111111111111,\"#46039f\"],[0.2222222222222222,\"#7201a8\"],[0.3333333333333333,\"#9c179e\"],[0.4444444444444444,\"#bd3786\"],[0.5555555555555556,\"#d8576b\"],[0.6666666666666666,\"#ed7953\"],[0.7777777777777778,\"#fb9f3a\"],[0.8888888888888888,\"#fdca26\"],[1.0,\"#f0f921\"]]}],\"contourcarpet\":[{\"type\":\"contourcarpet\",\"colorbar\":{\"outlinewidth\":0,\"ticks\":\"\"}}],\"contour\":[{\"type\":\"contour\",\"colorbar\":{\"outlinewidth\":0,\"ticks\":\"\"},\"colorscale\":[[0.0,\"#0d0887\"],[0.1111111111111111,\"#46039f\"],[0.2222222222222222,\"#7201a8\"],[0.3333333333333333,\"#9c179e\"],[0.4444444444444444,\"#bd3786\"],[0.5555555555555556,\"#d8576b\"],[0.6666666666666666,\"#ed7953\"],[0.7777777777777778,\"#fb9f3a\"],[0.8888888888888888,\"#fdca26\"],[1.0,\"#f0f921\"]]}],\"surface\":[{\"type\":\"surface\",\"colorbar\":{\"outlinewidth\":0,\"ticks\":\"\"},\"colorscale\":[[0.0,\"#0d0887\"],[0.1111111111111111,\"#46039f\"],[0.2222222222222222,\"#7201a8\"],[0.3333333333333333,\"#9c179e\"],[0.4444444444444444,\"#bd3786\"],[0.5555555555555556,\"#d8576b\"],[0.6666666666666666,\"#ed7953\"],[0.7777777777777778,\"#fb9f3a\"],[0.8888888888888888,\"#fdca26\"],[1.0,\"#f0f921\"]]}],\"mesh3d\":[{\"type\":\"mesh3d\",\"colorbar\":{\"outlinewidth\":0,\"ticks\":\"\"}}],\"scatter\":[{\"fillpattern\":{\"fillmode\":\"overlay\",\"size\":10,\"solidity\":0.2},\"type\":\"scatter\"}],\"parcoords\":[{\"type\":\"parcoords\",\"line\":{\"colorbar\":{\"outlinewidth\":0,\"ticks\":\"\"}}}],\"scatterpolargl\":[{\"type\":\"scatterpolargl\",\"marker\":{\"colorbar\":{\"outlinewidth\":0,\"ticks\":\"\"}}}],\"bar\":[{\"error_x\":{\"color\":\"#2a3f5f\"},\"error_y\":{\"color\":\"#2a3f5f\"},\"marker\":{\"line\":{\"color\":\"#E5ECF6\",\"width\":0.5},\"pattern\":{\"fillmode\":\"overlay\",\"size\":10,\"solidity\":0.2}},\"type\":\"bar\"}],\"scattergeo\":[{\"type\":\"scattergeo\",\"marker\":{\"colorbar\":{\"outlinewidth\":0,\"ticks\":\"\"}}}],\"scatterpolar\":[{\"type\":\"scatterpolar\",\"marker\":{\"colorbar\":{\"outlinewidth\":0,\"ticks\":\"\"}}}],\"histogram\":[{\"marker\":{\"pattern\":{\"fillmode\":\"overlay\",\"size\":10,\"solidity\":0.2}},\"type\":\"histogram\"}],\"scattergl\":[{\"type\":\"scattergl\",\"marker\":{\"colorbar\":{\"outlinewidth\":0,\"ticks\":\"\"}}}],\"scatter3d\":[{\"type\":\"scatter3d\",\"line\":{\"colorbar\":{\"outlinewidth\":0,\"ticks\":\"\"}},\"marker\":{\"colorbar\":{\"outlinewidth\":0,\"ticks\":\"\"}}}],\"scattermapbox\":[{\"type\":\"scattermapbox\",\"marker\":{\"colorbar\":{\"outlinewidth\":0,\"ticks\":\"\"}}}],\"scatterternary\":[{\"type\":\"scatterternary\",\"marker\":{\"colorbar\":{\"outlinewidth\":0,\"ticks\":\"\"}}}],\"scattercarpet\":[{\"type\":\"scattercarpet\",\"marker\":{\"colorbar\":{\"outlinewidth\":0,\"ticks\":\"\"}}}],\"carpet\":[{\"aaxis\":{\"endlinecolor\":\"#2a3f5f\",\"gridcolor\":\"white\",\"linecolor\":\"white\",\"minorgridcolor\":\"white\",\"startlinecolor\":\"#2a3f5f\"},\"baxis\":{\"endlinecolor\":\"#2a3f5f\",\"gridcolor\":\"white\",\"linecolor\":\"white\",\"minorgridcolor\":\"white\",\"startlinecolor\":\"#2a3f5f\"},\"type\":\"carpet\"}],\"table\":[{\"cells\":{\"fill\":{\"color\":\"#EBF0F8\"},\"line\":{\"color\":\"white\"}},\"header\":{\"fill\":{\"color\":\"#C8D4E3\"},\"line\":{\"color\":\"white\"}},\"type\":\"table\"}],\"barpolar\":[{\"marker\":{\"line\":{\"color\":\"#E5ECF6\",\"width\":0.5},\"pattern\":{\"fillmode\":\"overlay\",\"size\":10,\"solidity\":0.2}},\"type\":\"barpolar\"}],\"pie\":[{\"automargin\":true,\"type\":\"pie\"}]},\"layout\":{\"autotypenumbers\":\"strict\",\"colorway\":[\"#636efa\",\"#EF553B\",\"#00cc96\",\"#ab63fa\",\"#FFA15A\",\"#19d3f3\",\"#FF6692\",\"#B6E880\",\"#FF97FF\",\"#FECB52\"],\"font\":{\"color\":\"#2a3f5f\"},\"hovermode\":\"closest\",\"hoverlabel\":{\"align\":\"left\"},\"paper_bgcolor\":\"white\",\"plot_bgcolor\":\"#E5ECF6\",\"polar\":{\"bgcolor\":\"#E5ECF6\",\"angularaxis\":{\"gridcolor\":\"white\",\"linecolor\":\"white\",\"ticks\":\"\"},\"radialaxis\":{\"gridcolor\":\"white\",\"linecolor\":\"white\",\"ticks\":\"\"}},\"ternary\":{\"bgcolor\":\"#E5ECF6\",\"aaxis\":{\"gridcolor\":\"white\",\"linecolor\":\"white\",\"ticks\":\"\"},\"baxis\":{\"gridcolor\":\"white\",\"linecolor\":\"white\",\"ticks\":\"\"},\"caxis\":{\"gridcolor\":\"white\",\"linecolor\":\"white\",\"ticks\":\"\"}},\"coloraxis\":{\"colorbar\":{\"outlinewidth\":0,\"ticks\":\"\"}},\"colorscale\":{\"sequential\":[[0.0,\"#0d0887\"],[0.1111111111111111,\"#46039f\"],[0.2222222222222222,\"#7201a8\"],[0.3333333333333333,\"#9c179e\"],[0.4444444444444444,\"#bd3786\"],[0.5555555555555556,\"#d8576b\"],[0.6666666666666666,\"#ed7953\"],[0.7777777777777778,\"#fb9f3a\"],[0.8888888888888888,\"#fdca26\"],[1.0,\"#f0f921\"]],\"sequentialminus\":[[0.0,\"#0d0887\"],[0.1111111111111111,\"#46039f\"],[0.2222222222222222,\"#7201a8\"],[0.3333333333333333,\"#9c179e\"],[0.4444444444444444,\"#bd3786\"],[0.5555555555555556,\"#d8576b\"],[0.6666666666666666,\"#ed7953\"],[0.7777777777777778,\"#fb9f3a\"],[0.8888888888888888,\"#fdca26\"],[1.0,\"#f0f921\"]],\"diverging\":[[0,\"#8e0152\"],[0.1,\"#c51b7d\"],[0.2,\"#de77ae\"],[0.3,\"#f1b6da\"],[0.4,\"#fde0ef\"],[0.5,\"#f7f7f7\"],[0.6,\"#e6f5d0\"],[0.7,\"#b8e186\"],[0.8,\"#7fbc41\"],[0.9,\"#4d9221\"],[1,\"#276419\"]]},\"xaxis\":{\"gridcolor\":\"white\",\"linecolor\":\"white\",\"ticks\":\"\",\"title\":{\"standoff\":15},\"zerolinecolor\":\"white\",\"automargin\":true,\"zerolinewidth\":2},\"yaxis\":{\"gridcolor\":\"white\",\"linecolor\":\"white\",\"ticks\":\"\",\"title\":{\"standoff\":15},\"zerolinecolor\":\"white\",\"automargin\":true,\"zerolinewidth\":2},\"scene\":{\"xaxis\":{\"backgroundcolor\":\"#E5ECF6\",\"gridcolor\":\"white\",\"linecolor\":\"white\",\"showbackground\":true,\"ticks\":\"\",\"zerolinecolor\":\"white\",\"gridwidth\":2},\"yaxis\":{\"backgroundcolor\":\"#E5ECF6\",\"gridcolor\":\"white\",\"linecolor\":\"white\",\"showbackground\":true,\"ticks\":\"\",\"zerolinecolor\":\"white\",\"gridwidth\":2},\"zaxis\":{\"backgroundcolor\":\"#E5ECF6\",\"gridcolor\":\"white\",\"linecolor\":\"white\",\"showbackground\":true,\"ticks\":\"\",\"zerolinecolor\":\"white\",\"gridwidth\":2}},\"shapedefaults\":{\"line\":{\"color\":\"#2a3f5f\"}},\"annotationdefaults\":{\"arrowcolor\":\"#2a3f5f\",\"arrowhead\":0,\"arrowwidth\":1},\"geo\":{\"bgcolor\":\"white\",\"landcolor\":\"#E5ECF6\",\"subunitcolor\":\"white\",\"showland\":true,\"showlakes\":true,\"lakecolor\":\"white\"},\"title\":{\"x\":0.05},\"mapbox\":{\"style\":\"light\"}}}},                        {\"responsive\": true}                    ).then(function(){\n",
       "                            \n",
       "var gd = document.getElementById('321eeaa9-48e9-4117-9a12-097c1d09b8f9');\n",
       "var x = new MutationObserver(function (mutations, observer) {{\n",
       "        var display = window.getComputedStyle(gd).display;\n",
       "        if (!display || display === 'none') {{\n",
       "            console.log([gd, 'removed!']);\n",
       "            Plotly.purge(gd);\n",
       "            observer.disconnect();\n",
       "        }}\n",
       "}});\n",
       "\n",
       "// Listen for the removal of the full notebook cells\n",
       "var notebookContainer = gd.closest('#notebook-container');\n",
       "if (notebookContainer) {{\n",
       "    x.observe(notebookContainer, {childList: true});\n",
       "}}\n",
       "\n",
       "// Listen for the clearing of the current output cell\n",
       "var outputEl = gd.closest('.output');\n",
       "if (outputEl) {{\n",
       "    x.observe(outputEl, {childList: true});\n",
       "}}\n",
       "\n",
       "                        })                };                });            </script>        </div>"
      ]
     },
     "metadata": {},
     "output_type": "display_data"
    }
   ],
   "source": [
    "pybop.quick_plot(x, cost, title=\"Optimised Comparison\");"
   ]
  },
  {
   "cell_type": "markdown",
   "metadata": {},
   "source": [
    "### Convergence and Parameter Trajectories\n",
    "\n",
    "To assess the optimisation process, we can plot the convergence of the cost function and the trajectories of the parameters:"
   ]
  },
  {
   "cell_type": "code",
   "execution_count": 26,
   "metadata": {
    "id": "N5XYkevi04qD"
   },
   "outputs": [
    {
     "data": {
      "application/vnd.plotly.v1+json": {
       "config": {
        "plotlyServerURL": "https://plot.ly"
       },
       "data": [
        {
         "line": {
          "width": 4
         },
         "mode": "lines",
         "name": "Adam",
         "type": "scatter",
         "x": [
          1,
          2,
          3,
          4,
          5,
          6,
          7,
          8,
          9,
          10,
          11,
          12,
          13,
          14,
          15,
          16,
          17,
          18,
          19,
          20,
          21,
          22,
          23,
          24,
          25,
          26,
          27,
          28,
          29,
          30,
          31,
          32,
          33,
          34,
          35,
          36,
          37,
          38,
          39
         ],
         "y": [
          3.941288396171724,
          0.06364156926607942,
          0.2813819172268491,
          0.9202563427715488,
          1.4272995127552168,
          1.7137803458809504,
          1.7931964237248592,
          1.6984304444111813,
          1.4652384310413316,
          1.13332180873225,
          0.751664281564622,
          0.38379705577664885,
          0.1072957467108006,
          0.0006045120596826991,
          0.10637472220988156,
          0.36788437831418297,
          0.5917166071111266,
          0.5858934742108703,
          0.3801330018594796,
          0.15208776185006112,
          0.02193171677180485,
          0.006019036752275078,
          0.06499136077582217,
          0.14852832373876432,
          0.2172199651451913,
          0.2487550925406304,
          0.23692952357875133,
          0.1885486628548571,
          0.11997814088145774,
          0.053100160191200355,
          0.009619938830684698,
          0.0034034801467778294,
          0.032321620056373984,
          0.07540567861713895,
          0.10257391975216956,
          0.09573648242760192,
          0.06221114322311953,
          0.025109533874789217,
          0.0036563079223506326
         ]
        }
       ],
       "layout": {
        "autosize": false,
        "height": 576,
        "legend": {
         "font": {
          "size": 12
         },
         "x": 1,
         "xanchor": "right",
         "y": 1,
         "yanchor": "top"
        },
        "margin": {
         "b": 10,
         "l": 10,
         "pad": 4,
         "r": 10,
         "t": 75
        },
        "showlegend": true,
        "template": {
         "data": {
          "bar": [
           {
            "error_x": {
             "color": "#2a3f5f"
            },
            "error_y": {
             "color": "#2a3f5f"
            },
            "marker": {
             "line": {
              "color": "#E5ECF6",
              "width": 0.5
             },
             "pattern": {
              "fillmode": "overlay",
              "size": 10,
              "solidity": 0.2
             }
            },
            "type": "bar"
           }
          ],
          "barpolar": [
           {
            "marker": {
             "line": {
              "color": "#E5ECF6",
              "width": 0.5
             },
             "pattern": {
              "fillmode": "overlay",
              "size": 10,
              "solidity": 0.2
             }
            },
            "type": "barpolar"
           }
          ],
          "carpet": [
           {
            "aaxis": {
             "endlinecolor": "#2a3f5f",
             "gridcolor": "white",
             "linecolor": "white",
             "minorgridcolor": "white",
             "startlinecolor": "#2a3f5f"
            },
            "baxis": {
             "endlinecolor": "#2a3f5f",
             "gridcolor": "white",
             "linecolor": "white",
             "minorgridcolor": "white",
             "startlinecolor": "#2a3f5f"
            },
            "type": "carpet"
           }
          ],
          "choropleth": [
           {
            "colorbar": {
             "outlinewidth": 0,
             "ticks": ""
            },
            "type": "choropleth"
           }
          ],
          "contour": [
           {
            "colorbar": {
             "outlinewidth": 0,
             "ticks": ""
            },
            "colorscale": [
             [
              0,
              "#0d0887"
             ],
             [
              0.1111111111111111,
              "#46039f"
             ],
             [
              0.2222222222222222,
              "#7201a8"
             ],
             [
              0.3333333333333333,
              "#9c179e"
             ],
             [
              0.4444444444444444,
              "#bd3786"
             ],
             [
              0.5555555555555556,
              "#d8576b"
             ],
             [
              0.6666666666666666,
              "#ed7953"
             ],
             [
              0.7777777777777778,
              "#fb9f3a"
             ],
             [
              0.8888888888888888,
              "#fdca26"
             ],
             [
              1,
              "#f0f921"
             ]
            ],
            "type": "contour"
           }
          ],
          "contourcarpet": [
           {
            "colorbar": {
             "outlinewidth": 0,
             "ticks": ""
            },
            "type": "contourcarpet"
           }
          ],
          "heatmap": [
           {
            "colorbar": {
             "outlinewidth": 0,
             "ticks": ""
            },
            "colorscale": [
             [
              0,
              "#0d0887"
             ],
             [
              0.1111111111111111,
              "#46039f"
             ],
             [
              0.2222222222222222,
              "#7201a8"
             ],
             [
              0.3333333333333333,
              "#9c179e"
             ],
             [
              0.4444444444444444,
              "#bd3786"
             ],
             [
              0.5555555555555556,
              "#d8576b"
             ],
             [
              0.6666666666666666,
              "#ed7953"
             ],
             [
              0.7777777777777778,
              "#fb9f3a"
             ],
             [
              0.8888888888888888,
              "#fdca26"
             ],
             [
              1,
              "#f0f921"
             ]
            ],
            "type": "heatmap"
           }
          ],
          "heatmapgl": [
           {
            "colorbar": {
             "outlinewidth": 0,
             "ticks": ""
            },
            "colorscale": [
             [
              0,
              "#0d0887"
             ],
             [
              0.1111111111111111,
              "#46039f"
             ],
             [
              0.2222222222222222,
              "#7201a8"
             ],
             [
              0.3333333333333333,
              "#9c179e"
             ],
             [
              0.4444444444444444,
              "#bd3786"
             ],
             [
              0.5555555555555556,
              "#d8576b"
             ],
             [
              0.6666666666666666,
              "#ed7953"
             ],
             [
              0.7777777777777778,
              "#fb9f3a"
             ],
             [
              0.8888888888888888,
              "#fdca26"
             ],
             [
              1,
              "#f0f921"
             ]
            ],
            "type": "heatmapgl"
           }
          ],
          "histogram": [
           {
            "marker": {
             "pattern": {
              "fillmode": "overlay",
              "size": 10,
              "solidity": 0.2
             }
            },
            "type": "histogram"
           }
          ],
          "histogram2d": [
           {
            "colorbar": {
             "outlinewidth": 0,
             "ticks": ""
            },
            "colorscale": [
             [
              0,
              "#0d0887"
             ],
             [
              0.1111111111111111,
              "#46039f"
             ],
             [
              0.2222222222222222,
              "#7201a8"
             ],
             [
              0.3333333333333333,
              "#9c179e"
             ],
             [
              0.4444444444444444,
              "#bd3786"
             ],
             [
              0.5555555555555556,
              "#d8576b"
             ],
             [
              0.6666666666666666,
              "#ed7953"
             ],
             [
              0.7777777777777778,
              "#fb9f3a"
             ],
             [
              0.8888888888888888,
              "#fdca26"
             ],
             [
              1,
              "#f0f921"
             ]
            ],
            "type": "histogram2d"
           }
          ],
          "histogram2dcontour": [
           {
            "colorbar": {
             "outlinewidth": 0,
             "ticks": ""
            },
            "colorscale": [
             [
              0,
              "#0d0887"
             ],
             [
              0.1111111111111111,
              "#46039f"
             ],
             [
              0.2222222222222222,
              "#7201a8"
             ],
             [
              0.3333333333333333,
              "#9c179e"
             ],
             [
              0.4444444444444444,
              "#bd3786"
             ],
             [
              0.5555555555555556,
              "#d8576b"
             ],
             [
              0.6666666666666666,
              "#ed7953"
             ],
             [
              0.7777777777777778,
              "#fb9f3a"
             ],
             [
              0.8888888888888888,
              "#fdca26"
             ],
             [
              1,
              "#f0f921"
             ]
            ],
            "type": "histogram2dcontour"
           }
          ],
          "mesh3d": [
           {
            "colorbar": {
             "outlinewidth": 0,
             "ticks": ""
            },
            "type": "mesh3d"
           }
          ],
          "parcoords": [
           {
            "line": {
             "colorbar": {
              "outlinewidth": 0,
              "ticks": ""
             }
            },
            "type": "parcoords"
           }
          ],
          "pie": [
           {
            "automargin": true,
            "type": "pie"
           }
          ],
          "scatter": [
           {
            "fillpattern": {
             "fillmode": "overlay",
             "size": 10,
             "solidity": 0.2
            },
            "type": "scatter"
           }
          ],
          "scatter3d": [
           {
            "line": {
             "colorbar": {
              "outlinewidth": 0,
              "ticks": ""
             }
            },
            "marker": {
             "colorbar": {
              "outlinewidth": 0,
              "ticks": ""
             }
            },
            "type": "scatter3d"
           }
          ],
          "scattercarpet": [
           {
            "marker": {
             "colorbar": {
              "outlinewidth": 0,
              "ticks": ""
             }
            },
            "type": "scattercarpet"
           }
          ],
          "scattergeo": [
           {
            "marker": {
             "colorbar": {
              "outlinewidth": 0,
              "ticks": ""
             }
            },
            "type": "scattergeo"
           }
          ],
          "scattergl": [
           {
            "marker": {
             "colorbar": {
              "outlinewidth": 0,
              "ticks": ""
             }
            },
            "type": "scattergl"
           }
          ],
          "scattermapbox": [
           {
            "marker": {
             "colorbar": {
              "outlinewidth": 0,
              "ticks": ""
             }
            },
            "type": "scattermapbox"
           }
          ],
          "scatterpolar": [
           {
            "marker": {
             "colorbar": {
              "outlinewidth": 0,
              "ticks": ""
             }
            },
            "type": "scatterpolar"
           }
          ],
          "scatterpolargl": [
           {
            "marker": {
             "colorbar": {
              "outlinewidth": 0,
              "ticks": ""
             }
            },
            "type": "scatterpolargl"
           }
          ],
          "scatterternary": [
           {
            "marker": {
             "colorbar": {
              "outlinewidth": 0,
              "ticks": ""
             }
            },
            "type": "scatterternary"
           }
          ],
          "surface": [
           {
            "colorbar": {
             "outlinewidth": 0,
             "ticks": ""
            },
            "colorscale": [
             [
              0,
              "#0d0887"
             ],
             [
              0.1111111111111111,
              "#46039f"
             ],
             [
              0.2222222222222222,
              "#7201a8"
             ],
             [
              0.3333333333333333,
              "#9c179e"
             ],
             [
              0.4444444444444444,
              "#bd3786"
             ],
             [
              0.5555555555555556,
              "#d8576b"
             ],
             [
              0.6666666666666666,
              "#ed7953"
             ],
             [
              0.7777777777777778,
              "#fb9f3a"
             ],
             [
              0.8888888888888888,
              "#fdca26"
             ],
             [
              1,
              "#f0f921"
             ]
            ],
            "type": "surface"
           }
          ],
          "table": [
           {
            "cells": {
             "fill": {
              "color": "#EBF0F8"
             },
             "line": {
              "color": "white"
             }
            },
            "header": {
             "fill": {
              "color": "#C8D4E3"
             },
             "line": {
              "color": "white"
             }
            },
            "type": "table"
           }
          ]
         },
         "layout": {
          "annotationdefaults": {
           "arrowcolor": "#2a3f5f",
           "arrowhead": 0,
           "arrowwidth": 1
          },
          "autotypenumbers": "strict",
          "coloraxis": {
           "colorbar": {
            "outlinewidth": 0,
            "ticks": ""
           }
          },
          "colorscale": {
           "diverging": [
            [
             0,
             "#8e0152"
            ],
            [
             0.1,
             "#c51b7d"
            ],
            [
             0.2,
             "#de77ae"
            ],
            [
             0.3,
             "#f1b6da"
            ],
            [
             0.4,
             "#fde0ef"
            ],
            [
             0.5,
             "#f7f7f7"
            ],
            [
             0.6,
             "#e6f5d0"
            ],
            [
             0.7,
             "#b8e186"
            ],
            [
             0.8,
             "#7fbc41"
            ],
            [
             0.9,
             "#4d9221"
            ],
            [
             1,
             "#276419"
            ]
           ],
           "sequential": [
            [
             0,
             "#0d0887"
            ],
            [
             0.1111111111111111,
             "#46039f"
            ],
            [
             0.2222222222222222,
             "#7201a8"
            ],
            [
             0.3333333333333333,
             "#9c179e"
            ],
            [
             0.4444444444444444,
             "#bd3786"
            ],
            [
             0.5555555555555556,
             "#d8576b"
            ],
            [
             0.6666666666666666,
             "#ed7953"
            ],
            [
             0.7777777777777778,
             "#fb9f3a"
            ],
            [
             0.8888888888888888,
             "#fdca26"
            ],
            [
             1,
             "#f0f921"
            ]
           ],
           "sequentialminus": [
            [
             0,
             "#0d0887"
            ],
            [
             0.1111111111111111,
             "#46039f"
            ],
            [
             0.2222222222222222,
             "#7201a8"
            ],
            [
             0.3333333333333333,
             "#9c179e"
            ],
            [
             0.4444444444444444,
             "#bd3786"
            ],
            [
             0.5555555555555556,
             "#d8576b"
            ],
            [
             0.6666666666666666,
             "#ed7953"
            ],
            [
             0.7777777777777778,
             "#fb9f3a"
            ],
            [
             0.8888888888888888,
             "#fdca26"
            ],
            [
             1,
             "#f0f921"
            ]
           ]
          },
          "colorway": [
           "#636efa",
           "#EF553B",
           "#00cc96",
           "#ab63fa",
           "#FFA15A",
           "#19d3f3",
           "#FF6692",
           "#B6E880",
           "#FF97FF",
           "#FECB52"
          ],
          "font": {
           "color": "#2a3f5f"
          },
          "geo": {
           "bgcolor": "white",
           "lakecolor": "white",
           "landcolor": "#E5ECF6",
           "showlakes": true,
           "showland": true,
           "subunitcolor": "white"
          },
          "hoverlabel": {
           "align": "left"
          },
          "hovermode": "closest",
          "mapbox": {
           "style": "light"
          },
          "paper_bgcolor": "white",
          "plot_bgcolor": "#E5ECF6",
          "polar": {
           "angularaxis": {
            "gridcolor": "white",
            "linecolor": "white",
            "ticks": ""
           },
           "bgcolor": "#E5ECF6",
           "radialaxis": {
            "gridcolor": "white",
            "linecolor": "white",
            "ticks": ""
           }
          },
          "scene": {
           "xaxis": {
            "backgroundcolor": "#E5ECF6",
            "gridcolor": "white",
            "gridwidth": 2,
            "linecolor": "white",
            "showbackground": true,
            "ticks": "",
            "zerolinecolor": "white"
           },
           "yaxis": {
            "backgroundcolor": "#E5ECF6",
            "gridcolor": "white",
            "gridwidth": 2,
            "linecolor": "white",
            "showbackground": true,
            "ticks": "",
            "zerolinecolor": "white"
           },
           "zaxis": {
            "backgroundcolor": "#E5ECF6",
            "gridcolor": "white",
            "gridwidth": 2,
            "linecolor": "white",
            "showbackground": true,
            "ticks": "",
            "zerolinecolor": "white"
           }
          },
          "shapedefaults": {
           "line": {
            "color": "#2a3f5f"
           }
          },
          "ternary": {
           "aaxis": {
            "gridcolor": "white",
            "linecolor": "white",
            "ticks": ""
           },
           "baxis": {
            "gridcolor": "white",
            "linecolor": "white",
            "ticks": ""
           },
           "bgcolor": "#E5ECF6",
           "caxis": {
            "gridcolor": "white",
            "linecolor": "white",
            "ticks": ""
           }
          },
          "title": {
           "x": 0.05
          },
          "xaxis": {
           "automargin": true,
           "gridcolor": "white",
           "linecolor": "white",
           "ticks": "",
           "title": {
            "standoff": 15
           },
           "zerolinecolor": "white",
           "zerolinewidth": 2
          },
          "yaxis": {
           "automargin": true,
           "gridcolor": "white",
           "linecolor": "white",
           "ticks": "",
           "title": {
            "standoff": 15
           },
           "zerolinecolor": "white",
           "zerolinewidth": 2
          }
         }
        },
        "title": {
         "text": "Convergence",
         "x": 0.5
        },
        "width": 1024,
        "xaxis": {
         "autorange": true,
         "range": [
          1,
          39
         ],
         "tickfont": {
          "size": 12
         },
         "title": {
          "font": {
           "size": 12
          },
          "text": "Iteration"
         },
         "type": "linear"
        },
        "yaxis": {
         "autorange": true,
         "range": [
          -0.21832237039098631,
          4.160215278622393
         ],
         "tickfont": {
          "size": 12
         },
         "title": {
          "font": {
           "size": 12
          },
          "text": "Cost"
         },
         "type": "linear"
        }
       }
      },
      "image/png": "[encoded data removed]",
      "text/html": [
       "<div>                            <div id=\"8380c363-9015-4546-b8b8-81da5f007179\" class=\"plotly-graph-div\" style=\"height:576px; width:1024px;\"></div>            <script type=\"text/javascript\">                require([\"plotly\"], function(Plotly) {                    window.PLOTLYENV=window.PLOTLYENV || {};                                    if (document.getElementById(\"8380c363-9015-4546-b8b8-81da5f007179\")) {                    Plotly.newPlot(                        \"8380c363-9015-4546-b8b8-81da5f007179\",                        [{\"line\":{\"width\":4},\"mode\":\"lines\",\"name\":\"Adam\",\"x\":[1,2,3,4,5,6,7,8,9,10,11,12,13,14,15,16,17,18,19,20,21,22,23,24,25,26,27,28,29,30,31,32,33,34,35,36,37,38,39],\"y\":[3.941288396171724,0.06364156926607942,0.2813819172268491,0.9202563427715489,1.4272995127552168,1.7137803458809504,1.7931964237248592,1.6984304444111813,1.4652384310413316,1.13332180873225,0.751664281564622,0.38379705577664885,0.10729574671080061,0.0006045120596826991,0.10637472220988155,0.36788437831418297,0.5917166071111266,0.5858934742108703,0.3801330018594796,0.15208776185006112,0.021931716771804846,0.006019036752275078,0.06499136077582217,0.14852832373876432,0.21721996514519126,0.2487550925406304,0.23692952357875133,0.1885486628548571,0.11997814088145774,0.053100160191200355,0.009619938830684698,0.0034034801467778294,0.032321620056373984,0.07540567861713895,0.10257391975216956,0.09573648242760191,0.06221114322311953,0.025109533874789217,0.0036563079223506326],\"type\":\"scatter\"}],                        {\"autosize\":false,\"height\":576,\"legend\":{\"font\":{\"size\":12},\"x\":1,\"xanchor\":\"right\",\"y\":1,\"yanchor\":\"top\"},\"margin\":{\"b\":10,\"l\":10,\"pad\":4,\"r\":10,\"t\":75},\"showlegend\":true,\"title\":{\"text\":\"Convergence\",\"x\":0.5},\"width\":1024,\"xaxis\":{\"tickfont\":{\"size\":12},\"title\":{\"font\":{\"size\":12},\"text\":\"Iteration\"}},\"yaxis\":{\"tickfont\":{\"size\":12},\"title\":{\"font\":{\"size\":12},\"text\":\"Cost\"}},\"template\":{\"data\":{\"histogram2dcontour\":[{\"type\":\"histogram2dcontour\",\"colorbar\":{\"outlinewidth\":0,\"ticks\":\"\"},\"colorscale\":[[0.0,\"#0d0887\"],[0.1111111111111111,\"#46039f\"],[0.2222222222222222,\"#7201a8\"],[0.3333333333333333,\"#9c179e\"],[0.4444444444444444,\"#bd3786\"],[0.5555555555555556,\"#d8576b\"],[0.6666666666666666,\"#ed7953\"],[0.7777777777777778,\"#fb9f3a\"],[0.8888888888888888,\"#fdca26\"],[1.0,\"#f0f921\"]]}],\"choropleth\":[{\"type\":\"choropleth\",\"colorbar\":{\"outlinewidth\":0,\"ticks\":\"\"}}],\"histogram2d\":[{\"type\":\"histogram2d\",\"colorbar\":{\"outlinewidth\":0,\"ticks\":\"\"},\"colorscale\":[[0.0,\"#0d0887\"],[0.1111111111111111,\"#46039f\"],[0.2222222222222222,\"#7201a8\"],[0.3333333333333333,\"#9c179e\"],[0.4444444444444444,\"#bd3786\"],[0.5555555555555556,\"#d8576b\"],[0.6666666666666666,\"#ed7953\"],[0.7777777777777778,\"#fb9f3a\"],[0.8888888888888888,\"#fdca26\"],[1.0,\"#f0f921\"]]}],\"heatmap\":[{\"type\":\"heatmap\",\"colorbar\":{\"outlinewidth\":0,\"ticks\":\"\"},\"colorscale\":[[0.0,\"#0d0887\"],[0.1111111111111111,\"#46039f\"],[0.2222222222222222,\"#7201a8\"],[0.3333333333333333,\"#9c179e\"],[0.4444444444444444,\"#bd3786\"],[0.5555555555555556,\"#d8576b\"],[0.6666666666666666,\"#ed7953\"],[0.7777777777777778,\"#fb9f3a\"],[0.8888888888888888,\"#fdca26\"],[1.0,\"#f0f921\"]]}],\"heatmapgl\":[{\"type\":\"heatmapgl\",\"colorbar\":{\"outlinewidth\":0,\"ticks\":\"\"},\"colorscale\":[[0.0,\"#0d0887\"],[0.1111111111111111,\"#46039f\"],[0.2222222222222222,\"#7201a8\"],[0.3333333333333333,\"#9c179e\"],[0.4444444444444444,\"#bd3786\"],[0.5555555555555556,\"#d8576b\"],[0.6666666666666666,\"#ed7953\"],[0.7777777777777778,\"#fb9f3a\"],[0.8888888888888888,\"#fdca26\"],[1.0,\"#f0f921\"]]}],\"contourcarpet\":[{\"type\":\"contourcarpet\",\"colorbar\":{\"outlinewidth\":0,\"ticks\":\"\"}}],\"contour\":[{\"type\":\"contour\",\"colorbar\":{\"outlinewidth\":0,\"ticks\":\"\"},\"colorscale\":[[0.0,\"#0d0887\"],[0.1111111111111111,\"#46039f\"],[0.2222222222222222,\"#7201a8\"],[0.3333333333333333,\"#9c179e\"],[0.4444444444444444,\"#bd3786\"],[0.5555555555555556,\"#d8576b\"],[0.6666666666666666,\"#ed7953\"],[0.7777777777777778,\"#fb9f3a\"],[0.8888888888888888,\"#fdca26\"],[1.0,\"#f0f921\"]]}],\"surface\":[{\"type\":\"surface\",\"colorbar\":{\"outlinewidth\":0,\"ticks\":\"\"},\"colorscale\":[[0.0,\"#0d0887\"],[0.1111111111111111,\"#46039f\"],[0.2222222222222222,\"#7201a8\"],[0.3333333333333333,\"#9c179e\"],[0.4444444444444444,\"#bd3786\"],[0.5555555555555556,\"#d8576b\"],[0.6666666666666666,\"#ed7953\"],[0.7777777777777778,\"#fb9f3a\"],[0.8888888888888888,\"#fdca26\"],[1.0,\"#f0f921\"]]}],\"mesh3d\":[{\"type\":\"mesh3d\",\"colorbar\":{\"outlinewidth\":0,\"ticks\":\"\"}}],\"scatter\":[{\"fillpattern\":{\"fillmode\":\"overlay\",\"size\":10,\"solidity\":0.2},\"type\":\"scatter\"}],\"parcoords\":[{\"type\":\"parcoords\",\"line\":{\"colorbar\":{\"outlinewidth\":0,\"ticks\":\"\"}}}],\"scatterpolargl\":[{\"type\":\"scatterpolargl\",\"marker\":{\"colorbar\":{\"outlinewidth\":0,\"ticks\":\"\"}}}],\"bar\":[{\"error_x\":{\"color\":\"#2a3f5f\"},\"error_y\":{\"color\":\"#2a3f5f\"},\"marker\":{\"line\":{\"color\":\"#E5ECF6\",\"width\":0.5},\"pattern\":{\"fillmode\":\"overlay\",\"size\":10,\"solidity\":0.2}},\"type\":\"bar\"}],\"scattergeo\":[{\"type\":\"scattergeo\",\"marker\":{\"colorbar\":{\"outlinewidth\":0,\"ticks\":\"\"}}}],\"scatterpolar\":[{\"type\":\"scatterpolar\",\"marker\":{\"colorbar\":{\"outlinewidth\":0,\"ticks\":\"\"}}}],\"histogram\":[{\"marker\":{\"pattern\":{\"fillmode\":\"overlay\",\"size\":10,\"solidity\":0.2}},\"type\":\"histogram\"}],\"scattergl\":[{\"type\":\"scattergl\",\"marker\":{\"colorbar\":{\"outlinewidth\":0,\"ticks\":\"\"}}}],\"scatter3d\":[{\"type\":\"scatter3d\",\"line\":{\"colorbar\":{\"outlinewidth\":0,\"ticks\":\"\"}},\"marker\":{\"colorbar\":{\"outlinewidth\":0,\"ticks\":\"\"}}}],\"scattermapbox\":[{\"type\":\"scattermapbox\",\"marker\":{\"colorbar\":{\"outlinewidth\":0,\"ticks\":\"\"}}}],\"scatterternary\":[{\"type\":\"scatterternary\",\"marker\":{\"colorbar\":{\"outlinewidth\":0,\"ticks\":\"\"}}}],\"scattercarpet\":[{\"type\":\"scattercarpet\",\"marker\":{\"colorbar\":{\"outlinewidth\":0,\"ticks\":\"\"}}}],\"carpet\":[{\"aaxis\":{\"endlinecolor\":\"#2a3f5f\",\"gridcolor\":\"white\",\"linecolor\":\"white\",\"minorgridcolor\":\"white\",\"startlinecolor\":\"#2a3f5f\"},\"baxis\":{\"endlinecolor\":\"#2a3f5f\",\"gridcolor\":\"white\",\"linecolor\":\"white\",\"minorgridcolor\":\"white\",\"startlinecolor\":\"#2a3f5f\"},\"type\":\"carpet\"}],\"table\":[{\"cells\":{\"fill\":{\"color\":\"#EBF0F8\"},\"line\":{\"color\":\"white\"}},\"header\":{\"fill\":{\"color\":\"#C8D4E3\"},\"line\":{\"color\":\"white\"}},\"type\":\"table\"}],\"barpolar\":[{\"marker\":{\"line\":{\"color\":\"#E5ECF6\",\"width\":0.5},\"pattern\":{\"fillmode\":\"overlay\",\"size\":10,\"solidity\":0.2}},\"type\":\"barpolar\"}],\"pie\":[{\"automargin\":true,\"type\":\"pie\"}]},\"layout\":{\"autotypenumbers\":\"strict\",\"colorway\":[\"#636efa\",\"#EF553B\",\"#00cc96\",\"#ab63fa\",\"#FFA15A\",\"#19d3f3\",\"#FF6692\",\"#B6E880\",\"#FF97FF\",\"#FECB52\"],\"font\":{\"color\":\"#2a3f5f\"},\"hovermode\":\"closest\",\"hoverlabel\":{\"align\":\"left\"},\"paper_bgcolor\":\"white\",\"plot_bgcolor\":\"#E5ECF6\",\"polar\":{\"bgcolor\":\"#E5ECF6\",\"angularaxis\":{\"gridcolor\":\"white\",\"linecolor\":\"white\",\"ticks\":\"\"},\"radialaxis\":{\"gridcolor\":\"white\",\"linecolor\":\"white\",\"ticks\":\"\"}},\"ternary\":{\"bgcolor\":\"#E5ECF6\",\"aaxis\":{\"gridcolor\":\"white\",\"linecolor\":\"white\",\"ticks\":\"\"},\"baxis\":{\"gridcolor\":\"white\",\"linecolor\":\"white\",\"ticks\":\"\"},\"caxis\":{\"gridcolor\":\"white\",\"linecolor\":\"white\",\"ticks\":\"\"}},\"coloraxis\":{\"colorbar\":{\"outlinewidth\":0,\"ticks\":\"\"}},\"colorscale\":{\"sequential\":[[0.0,\"#0d0887\"],[0.1111111111111111,\"#46039f\"],[0.2222222222222222,\"#7201a8\"],[0.3333333333333333,\"#9c179e\"],[0.4444444444444444,\"#bd3786\"],[0.5555555555555556,\"#d8576b\"],[0.6666666666666666,\"#ed7953\"],[0.7777777777777778,\"#fb9f3a\"],[0.8888888888888888,\"#fdca26\"],[1.0,\"#f0f921\"]],\"sequentialminus\":[[0.0,\"#0d0887\"],[0.1111111111111111,\"#46039f\"],[0.2222222222222222,\"#7201a8\"],[0.3333333333333333,\"#9c179e\"],[0.4444444444444444,\"#bd3786\"],[0.5555555555555556,\"#d8576b\"],[0.6666666666666666,\"#ed7953\"],[0.7777777777777778,\"#fb9f3a\"],[0.8888888888888888,\"#fdca26\"],[1.0,\"#f0f921\"]],\"diverging\":[[0,\"#8e0152\"],[0.1,\"#c51b7d\"],[0.2,\"#de77ae\"],[0.3,\"#f1b6da\"],[0.4,\"#fde0ef\"],[0.5,\"#f7f7f7\"],[0.6,\"#e6f5d0\"],[0.7,\"#b8e186\"],[0.8,\"#7fbc41\"],[0.9,\"#4d9221\"],[1,\"#276419\"]]},\"xaxis\":{\"gridcolor\":\"white\",\"linecolor\":\"white\",\"ticks\":\"\",\"title\":{\"standoff\":15},\"zerolinecolor\":\"white\",\"automargin\":true,\"zerolinewidth\":2},\"yaxis\":{\"gridcolor\":\"white\",\"linecolor\":\"white\",\"ticks\":\"\",\"title\":{\"standoff\":15},\"zerolinecolor\":\"white\",\"automargin\":true,\"zerolinewidth\":2},\"scene\":{\"xaxis\":{\"backgroundcolor\":\"#E5ECF6\",\"gridcolor\":\"white\",\"linecolor\":\"white\",\"showbackground\":true,\"ticks\":\"\",\"zerolinecolor\":\"white\",\"gridwidth\":2},\"yaxis\":{\"backgroundcolor\":\"#E5ECF6\",\"gridcolor\":\"white\",\"linecolor\":\"white\",\"showbackground\":true,\"ticks\":\"\",\"zerolinecolor\":\"white\",\"gridwidth\":2},\"zaxis\":{\"backgroundcolor\":\"#E5ECF6\",\"gridcolor\":\"white\",\"linecolor\":\"white\",\"showbackground\":true,\"ticks\":\"\",\"zerolinecolor\":\"white\",\"gridwidth\":2}},\"shapedefaults\":{\"line\":{\"color\":\"#2a3f5f\"}},\"annotationdefaults\":{\"arrowcolor\":\"#2a3f5f\",\"arrowhead\":0,\"arrowwidth\":1},\"geo\":{\"bgcolor\":\"white\",\"landcolor\":\"#E5ECF6\",\"subunitcolor\":\"white\",\"showland\":true,\"showlakes\":true,\"lakecolor\":\"white\"},\"title\":{\"x\":0.05},\"mapbox\":{\"style\":\"light\"}}}},                        {\"responsive\": true}                    ).then(function(){\n",
       "                            \n",
       "var gd = document.getElementById('8380c363-9015-4546-b8b8-81da5f007179');\n",
       "var x = new MutationObserver(function (mutations, observer) {{\n",
       "        var display = window.getComputedStyle(gd).display;\n",
       "        if (!display || display === 'none') {{\n",
       "            console.log([gd, 'removed!']);\n",
       "            Plotly.purge(gd);\n",
       "            observer.disconnect();\n",
       "        }}\n",
       "}});\n",
       "\n",
       "// Listen for the removal of the full notebook cells\n",
       "var notebookContainer = gd.closest('#notebook-container');\n",
       "if (notebookContainer) {{\n",
       "    x.observe(notebookContainer, {childList: true});\n",
       "}}\n",
       "\n",
       "// Listen for the clearing of the current output cell\n",
       "var outputEl = gd.closest('.output');\n",
       "if (outputEl) {{\n",
       "    x.observe(outputEl, {childList: true});\n",
       "}}\n",
       "\n",
       "                        })                };                });            </script>        </div>"
      ]
     },
     "metadata": {},
     "output_type": "display_data"
    },
    {
     "data": {
      "application/vnd.plotly.v1+json": {
       "config": {
        "plotlyServerURL": "https://plot.ly"
       },
       "data": [
        {
         "name": "Negative electrode active material volume fraction",
         "type": "scatter",
         "x": [
          0,
          1,
          2,
          3,
          4,
          5,
          6,
          7,
          8,
          9,
          10,
          11,
          12,
          13,
          14,
          15,
          16,
          17,
          18,
          19,
          20,
          21,
          22,
          23,
          24,
          25,
          26,
          27,
          28,
          29,
          30,
          31,
          32,
          33,
          34,
          35,
          36,
          37,
          38
         ],
         "xaxis": "x",
         "y": [
          0.5854606983552765,
          0.7423651689898498,
          0.8534295929321716,
          0.929641049309509,
          0.97780539714648,
          1.00319194213445,
          1.0099773594523638,
          1.0015309777501544,
          0.9806647002030584,
          0.9498503015869976,
          0.9114165964729012,
          0.8677450294701005,
          0.8214793378491715,
          0.7757463500014091,
          0.7343301909504216,
          0.7016152836183076,
          0.6818702366758884,
          0.6773793580126345,
          0.6866524363240337,
          0.7053104783538886,
          0.7283672883752498,
          0.7515380920732153,
          0.771597195464243,
          0.7863729014298443,
          0.7946257570699398,
          0.7958920222704288,
          0.7903364351247087,
          0.778637204705584,
          0.7619095097721903,
          0.7416605917559185,
          0.7197604503711271,
          0.6983996939110517,
          0.6799909584812125,
          0.6669228472371665,
          0.6610453647308699,
          0.6629717504072878,
          0.6717320846673271,
          0.6851769130209538,
          0.7007531193703675
         ],
         "yaxis": "y"
        },
        {
         "name": "Positive electrode active material volume fraction",
         "type": "scatter",
         "x": [
          0,
          1,
          2,
          3,
          4,
          5,
          6,
          7,
          8,
          9,
          10,
          11,
          12,
          13,
          14,
          15,
          16,
          17,
          18,
          19,
          20,
          21,
          22,
          23,
          24,
          25,
          26,
          27,
          28,
          29,
          30,
          31,
          32,
          33,
          34,
          35,
          36,
          37,
          38
         ],
         "xaxis": "x2",
         "y": [
          0.47071341235858943,
          0.627617883115226,
          0.7401486418133868,
          0.8163569109209738,
          0.8638557811679324,
          0.8887212026453712,
          0.8954759535080488,
          0.8874771958293967,
          0.8673184555865409,
          0.8371651816089553,
          0.799041218553892,
          0.7551012720205535,
          0.7079231719213461,
          0.6608408774719994,
          0.6182756239957282,
          0.5857695837890812,
          0.5688340000925769,
          0.5699956355437192,
          0.5868697231746707,
          0.6139850025289205,
          0.6454996222512103,
          0.6765687585760977,
          0.7036991761074721,
          0.7246811357504079,
          0.7383681177820396,
          0.744430276159587,
          0.7431497316148101,
          0.7352822751177693,
          0.7219829153135375,
          0.7047762150107635,
          0.6855414999087588,
          0.6664650302254246,
          0.6498961973765655,
          0.6380375580122912,
          0.6324671472800969,
          0.633662656994411,
          0.6408302013997966,
          0.6521817962940387,
          0.6654721854392738
         ],
         "yaxis": "y2"
        }
       ],
       "layout": {
        "height": 576,
        "legend": {
         "orientation": "h",
         "x": 1,
         "xanchor": "right",
         "y": 1.02,
         "yanchor": "bottom"
        },
        "template": {
         "data": {
          "bar": [
           {
            "error_x": {
             "color": "#2a3f5f"
            },
            "error_y": {
             "color": "#2a3f5f"
            },
            "marker": {
             "line": {
              "color": "#E5ECF6",
              "width": 0.5
             },
             "pattern": {
              "fillmode": "overlay",
              "size": 10,
              "solidity": 0.2
             }
            },
            "type": "bar"
           }
          ],
          "barpolar": [
           {
            "marker": {
             "line": {
              "color": "#E5ECF6",
              "width": 0.5
             },
             "pattern": {
              "fillmode": "overlay",
              "size": 10,
              "solidity": 0.2
             }
            },
            "type": "barpolar"
           }
          ],
          "carpet": [
           {
            "aaxis": {
             "endlinecolor": "#2a3f5f",
             "gridcolor": "white",
             "linecolor": "white",
             "minorgridcolor": "white",
             "startlinecolor": "#2a3f5f"
            },
            "baxis": {
             "endlinecolor": "#2a3f5f",
             "gridcolor": "white",
             "linecolor": "white",
             "minorgridcolor": "white",
             "startlinecolor": "#2a3f5f"
            },
            "type": "carpet"
           }
          ],
          "choropleth": [
           {
            "colorbar": {
             "outlinewidth": 0,
             "ticks": ""
            },
            "type": "choropleth"
           }
          ],
          "contour": [
           {
            "colorbar": {
             "outlinewidth": 0,
             "ticks": ""
            },
            "colorscale": [
             [
              0,
              "#0d0887"
             ],
             [
              0.1111111111111111,
              "#46039f"
             ],
             [
              0.2222222222222222,
              "#7201a8"
             ],
             [
              0.3333333333333333,
              "#9c179e"
             ],
             [
              0.4444444444444444,
              "#bd3786"
             ],
             [
              0.5555555555555556,
              "#d8576b"
             ],
             [
              0.6666666666666666,
              "#ed7953"
             ],
             [
              0.7777777777777778,
              "#fb9f3a"
             ],
             [
              0.8888888888888888,
              "#fdca26"
             ],
             [
              1,
              "#f0f921"
             ]
            ],
            "type": "contour"
           }
          ],
          "contourcarpet": [
           {
            "colorbar": {
             "outlinewidth": 0,
             "ticks": ""
            },
            "type": "contourcarpet"
           }
          ],
          "heatmap": [
           {
            "colorbar": {
             "outlinewidth": 0,
             "ticks": ""
            },
            "colorscale": [
             [
              0,
              "#0d0887"
             ],
             [
              0.1111111111111111,
              "#46039f"
             ],
             [
              0.2222222222222222,
              "#7201a8"
             ],
             [
              0.3333333333333333,
              "#9c179e"
             ],
             [
              0.4444444444444444,
              "#bd3786"
             ],
             [
              0.5555555555555556,
              "#d8576b"
             ],
             [
              0.6666666666666666,
              "#ed7953"
             ],
             [
              0.7777777777777778,
              "#fb9f3a"
             ],
             [
              0.8888888888888888,
              "#fdca26"
             ],
             [
              1,
              "#f0f921"
             ]
            ],
            "type": "heatmap"
           }
          ],
          "heatmapgl": [
           {
            "colorbar": {
             "outlinewidth": 0,
             "ticks": ""
            },
            "colorscale": [
             [
              0,
              "#0d0887"
             ],
             [
              0.1111111111111111,
              "#46039f"
             ],
             [
              0.2222222222222222,
              "#7201a8"
             ],
             [
              0.3333333333333333,
              "#9c179e"
             ],
             [
              0.4444444444444444,
              "#bd3786"
             ],
             [
              0.5555555555555556,
              "#d8576b"
             ],
             [
              0.6666666666666666,
              "#ed7953"
             ],
             [
              0.7777777777777778,
              "#fb9f3a"
             ],
             [
              0.8888888888888888,
              "#fdca26"
             ],
             [
              1,
              "#f0f921"
             ]
            ],
            "type": "heatmapgl"
           }
          ],
          "histogram": [
           {
            "marker": {
             "pattern": {
              "fillmode": "overlay",
              "size": 10,
              "solidity": 0.2
             }
            },
            "type": "histogram"
           }
          ],
          "histogram2d": [
           {
            "colorbar": {
             "outlinewidth": 0,
             "ticks": ""
            },
            "colorscale": [
             [
              0,
              "#0d0887"
             ],
             [
              0.1111111111111111,
              "#46039f"
             ],
             [
              0.2222222222222222,
              "#7201a8"
             ],
             [
              0.3333333333333333,
              "#9c179e"
             ],
             [
              0.4444444444444444,
              "#bd3786"
             ],
             [
              0.5555555555555556,
              "#d8576b"
             ],
             [
              0.6666666666666666,
              "#ed7953"
             ],
             [
              0.7777777777777778,
              "#fb9f3a"
             ],
             [
              0.8888888888888888,
              "#fdca26"
             ],
             [
              1,
              "#f0f921"
             ]
            ],
            "type": "histogram2d"
           }
          ],
          "histogram2dcontour": [
           {
            "colorbar": {
             "outlinewidth": 0,
             "ticks": ""
            },
            "colorscale": [
             [
              0,
              "#0d0887"
             ],
             [
              0.1111111111111111,
              "#46039f"
             ],
             [
              0.2222222222222222,
              "#7201a8"
             ],
             [
              0.3333333333333333,
              "#9c179e"
             ],
             [
              0.4444444444444444,
              "#bd3786"
             ],
             [
              0.5555555555555556,
              "#d8576b"
             ],
             [
              0.6666666666666666,
              "#ed7953"
             ],
             [
              0.7777777777777778,
              "#fb9f3a"
             ],
             [
              0.8888888888888888,
              "#fdca26"
             ],
             [
              1,
              "#f0f921"
             ]
            ],
            "type": "histogram2dcontour"
           }
          ],
          "mesh3d": [
           {
            "colorbar": {
             "outlinewidth": 0,
             "ticks": ""
            },
            "type": "mesh3d"
           }
          ],
          "parcoords": [
           {
            "line": {
             "colorbar": {
              "outlinewidth": 0,
              "ticks": ""
             }
            },
            "type": "parcoords"
           }
          ],
          "pie": [
           {
            "automargin": true,
            "type": "pie"
           }
          ],
          "scatter": [
           {
            "fillpattern": {
             "fillmode": "overlay",
             "size": 10,
             "solidity": 0.2
            },
            "type": "scatter"
           }
          ],
          "scatter3d": [
           {
            "line": {
             "colorbar": {
              "outlinewidth": 0,
              "ticks": ""
             }
            },
            "marker": {
             "colorbar": {
              "outlinewidth": 0,
              "ticks": ""
             }
            },
            "type": "scatter3d"
           }
          ],
          "scattercarpet": [
           {
            "marker": {
             "colorbar": {
              "outlinewidth": 0,
              "ticks": ""
             }
            },
            "type": "scattercarpet"
           }
          ],
          "scattergeo": [
           {
            "marker": {
             "colorbar": {
              "outlinewidth": 0,
              "ticks": ""
             }
            },
            "type": "scattergeo"
           }
          ],
          "scattergl": [
           {
            "marker": {
             "colorbar": {
              "outlinewidth": 0,
              "ticks": ""
             }
            },
            "type": "scattergl"
           }
          ],
          "scattermapbox": [
           {
            "marker": {
             "colorbar": {
              "outlinewidth": 0,
              "ticks": ""
             }
            },
            "type": "scattermapbox"
           }
          ],
          "scatterpolar": [
           {
            "marker": {
             "colorbar": {
              "outlinewidth": 0,
              "ticks": ""
             }
            },
            "type": "scatterpolar"
           }
          ],
          "scatterpolargl": [
           {
            "marker": {
             "colorbar": {
              "outlinewidth": 0,
              "ticks": ""
             }
            },
            "type": "scatterpolargl"
           }
          ],
          "scatterternary": [
           {
            "marker": {
             "colorbar": {
              "outlinewidth": 0,
              "ticks": ""
             }
            },
            "type": "scatterternary"
           }
          ],
          "surface": [
           {
            "colorbar": {
             "outlinewidth": 0,
             "ticks": ""
            },
            "colorscale": [
             [
              0,
              "#0d0887"
             ],
             [
              0.1111111111111111,
              "#46039f"
             ],
             [
              0.2222222222222222,
              "#7201a8"
             ],
             [
              0.3333333333333333,
              "#9c179e"
             ],
             [
              0.4444444444444444,
              "#bd3786"
             ],
             [
              0.5555555555555556,
              "#d8576b"
             ],
             [
              0.6666666666666666,
              "#ed7953"
             ],
             [
              0.7777777777777778,
              "#fb9f3a"
             ],
             [
              0.8888888888888888,
              "#fdca26"
             ],
             [
              1,
              "#f0f921"
             ]
            ],
            "type": "surface"
           }
          ],
          "table": [
           {
            "cells": {
             "fill": {
              "color": "#EBF0F8"
             },
             "line": {
              "color": "white"
             }
            },
            "header": {
             "fill": {
              "color": "#C8D4E3"
             },
             "line": {
              "color": "white"
             }
            },
            "type": "table"
           }
          ]
         },
         "layout": {
          "annotationdefaults": {
           "arrowcolor": "#2a3f5f",
           "arrowhead": 0,
           "arrowwidth": 1
          },
          "autotypenumbers": "strict",
          "coloraxis": {
           "colorbar": {
            "outlinewidth": 0,
            "ticks": ""
           }
          },
          "colorscale": {
           "diverging": [
            [
             0,
             "#8e0152"
            ],
            [
             0.1,
             "#c51b7d"
            ],
            [
             0.2,
             "#de77ae"
            ],
            [
             0.3,
             "#f1b6da"
            ],
            [
             0.4,
             "#fde0ef"
            ],
            [
             0.5,
             "#f7f7f7"
            ],
            [
             0.6,
             "#e6f5d0"
            ],
            [
             0.7,
             "#b8e186"
            ],
            [
             0.8,
             "#7fbc41"
            ],
            [
             0.9,
             "#4d9221"
            ],
            [
             1,
             "#276419"
            ]
           ],
           "sequential": [
            [
             0,
             "#0d0887"
            ],
            [
             0.1111111111111111,
             "#46039f"
            ],
            [
             0.2222222222222222,
             "#7201a8"
            ],
            [
             0.3333333333333333,
             "#9c179e"
            ],
            [
             0.4444444444444444,
             "#bd3786"
            ],
            [
             0.5555555555555556,
             "#d8576b"
            ],
            [
             0.6666666666666666,
             "#ed7953"
            ],
            [
             0.7777777777777778,
             "#fb9f3a"
            ],
            [
             0.8888888888888888,
             "#fdca26"
            ],
            [
             1,
             "#f0f921"
            ]
           ],
           "sequentialminus": [
            [
             0,
             "#0d0887"
            ],
            [
             0.1111111111111111,
             "#46039f"
            ],
            [
             0.2222222222222222,
             "#7201a8"
            ],
            [
             0.3333333333333333,
             "#9c179e"
            ],
            [
             0.4444444444444444,
             "#bd3786"
            ],
            [
             0.5555555555555556,
             "#d8576b"
            ],
            [
             0.6666666666666666,
             "#ed7953"
            ],
            [
             0.7777777777777778,
             "#fb9f3a"
            ],
            [
             0.8888888888888888,
             "#fdca26"
            ],
            [
             1,
             "#f0f921"
            ]
           ]
          },
          "colorway": [
           "#636efa",
           "#EF553B",
           "#00cc96",
           "#ab63fa",
           "#FFA15A",
           "#19d3f3",
           "#FF6692",
           "#B6E880",
           "#FF97FF",
           "#FECB52"
          ],
          "font": {
           "color": "#2a3f5f"
          },
          "geo": {
           "bgcolor": "white",
           "lakecolor": "white",
           "landcolor": "#E5ECF6",
           "showlakes": true,
           "showland": true,
           "subunitcolor": "white"
          },
          "hoverlabel": {
           "align": "left"
          },
          "hovermode": "closest",
          "mapbox": {
           "style": "light"
          },
          "paper_bgcolor": "white",
          "plot_bgcolor": "#E5ECF6",
          "polar": {
           "angularaxis": {
            "gridcolor": "white",
            "linecolor": "white",
            "ticks": ""
           },
           "bgcolor": "#E5ECF6",
           "radialaxis": {
            "gridcolor": "white",
            "linecolor": "white",
            "ticks": ""
           }
          },
          "scene": {
           "xaxis": {
            "backgroundcolor": "#E5ECF6",
            "gridcolor": "white",
            "gridwidth": 2,
            "linecolor": "white",
            "showbackground": true,
            "ticks": "",
            "zerolinecolor": "white"
           },
           "yaxis": {
            "backgroundcolor": "#E5ECF6",
            "gridcolor": "white",
            "gridwidth": 2,
            "linecolor": "white",
            "showbackground": true,
            "ticks": "",
            "zerolinecolor": "white"
           },
           "zaxis": {
            "backgroundcolor": "#E5ECF6",
            "gridcolor": "white",
            "gridwidth": 2,
            "linecolor": "white",
            "showbackground": true,
            "ticks": "",
            "zerolinecolor": "white"
           }
          },
          "shapedefaults": {
           "line": {
            "color": "#2a3f5f"
           }
          },
          "ternary": {
           "aaxis": {
            "gridcolor": "white",
            "linecolor": "white",
            "ticks": ""
           },
           "baxis": {
            "gridcolor": "white",
            "linecolor": "white",
            "ticks": ""
           },
           "bgcolor": "#E5ECF6",
           "caxis": {
            "gridcolor": "white",
            "linecolor": "white",
            "ticks": ""
           }
          },
          "title": {
           "x": 0.05
          },
          "xaxis": {
           "automargin": true,
           "gridcolor": "white",
           "linecolor": "white",
           "ticks": "",
           "title": {
            "standoff": 15
           },
           "zerolinecolor": "white",
           "zerolinewidth": 2
          },
          "yaxis": {
           "automargin": true,
           "gridcolor": "white",
           "linecolor": "white",
           "ticks": "",
           "title": {
            "standoff": 15
           },
           "zerolinecolor": "white",
           "zerolinewidth": 2
          }
         }
        },
        "title": {
         "text": "Parameter Convergence"
        },
        "width": 1024,
        "xaxis": {
         "anchor": "y",
         "autorange": true,
         "domain": [
          0,
          0.45
         ],
         "range": [
          0,
          38
         ],
         "title": {
          "text": "Function Call"
         },
         "type": "linear"
        },
        "xaxis2": {
         "anchor": "y2",
         "autorange": true,
         "domain": [
          0.55,
          1
         ],
         "range": [
          0,
          38
         ],
         "title": {
          "text": "Function Call"
         },
         "type": "linear"
        },
        "yaxis": {
         "anchor": "x",
         "autorange": true,
         "domain": [
          0,
          1
         ],
         "range": [
          0.5618764394054383,
          1.033561618402202
         ],
         "title": {
          "text": "Negative electrode active material volume fraction"
         },
         "type": "linear"
        },
        "yaxis2": {
         "anchor": "x2",
         "autorange": true,
         "domain": [
          0,
          1
         ],
         "range": [
          0.44711549340584167,
          0.9190738724607964
         ],
         "title": {
          "text": "Positive electrode active material volume fraction"
         },
         "type": "linear"
        }
       }
      },
      "image/png": "[encoded data removed]",
      "text/html": [
       "<div>                            <div id=\"25c5b580-56f3-4480-9682-10424a00db02\" class=\"plotly-graph-div\" style=\"height:576px; width:1024px;\"></div>            <script type=\"text/javascript\">                require([\"plotly\"], function(Plotly) {                    window.PLOTLYENV=window.PLOTLYENV || {};                                    if (document.getElementById(\"25c5b580-56f3-4480-9682-10424a00db02\")) {                    Plotly.newPlot(                        \"25c5b580-56f3-4480-9682-10424a00db02\",                        [{\"name\":\"Negative electrode active material volume fraction\",\"x\":[0,1,2,3,4,5,6,7,8,9,10,11,12,13,14,15,16,17,18,19,20,21,22,23,24,25,26,27,28,29,30,31,32,33,34,35,36,37,38],\"y\":[0.5854606983552765,0.7423651689898498,0.8534295929321716,0.929641049309509,0.97780539714648,1.00319194213445,1.0099773594523638,1.0015309777501544,0.9806647002030584,0.9498503015869976,0.9114165964729012,0.8677450294701005,0.8214793378491715,0.7757463500014091,0.7343301909504216,0.7016152836183076,0.6818702366758884,0.6773793580126345,0.6866524363240337,0.7053104783538886,0.7283672883752498,0.7515380920732153,0.771597195464243,0.7863729014298443,0.7946257570699398,0.7958920222704288,0.7903364351247087,0.778637204705584,0.7619095097721903,0.7416605917559185,0.7197604503711271,0.6983996939110517,0.6799909584812125,0.6669228472371665,0.6610453647308699,0.6629717504072878,0.6717320846673271,0.6851769130209538,0.7007531193703675],\"type\":\"scatter\",\"xaxis\":\"x\",\"yaxis\":\"y\"},{\"name\":\"Positive electrode active material volume fraction\",\"x\":[0,1,2,3,4,5,6,7,8,9,10,11,12,13,14,15,16,17,18,19,20,21,22,23,24,25,26,27,28,29,30,31,32,33,34,35,36,37,38],\"y\":[0.47071341235858943,0.627617883115226,0.7401486418133868,0.8163569109209738,0.8638557811679324,0.8887212026453712,0.8954759535080488,0.8874771958293967,0.8673184555865409,0.8371651816089553,0.799041218553892,0.7551012720205535,0.7079231719213461,0.6608408774719994,0.6182756239957282,0.5857695837890812,0.5688340000925769,0.5699956355437192,0.5868697231746707,0.6139850025289205,0.6454996222512103,0.6765687585760977,0.7036991761074721,0.7246811357504079,0.7383681177820396,0.744430276159587,0.7431497316148101,0.7352822751177693,0.7219829153135375,0.7047762150107635,0.6855414999087588,0.6664650302254246,0.6498961973765655,0.6380375580122912,0.6324671472800969,0.633662656994411,0.6408302013997966,0.6521817962940387,0.6654721854392738],\"type\":\"scatter\",\"xaxis\":\"x2\",\"yaxis\":\"y2\"}],                        {\"template\":{\"data\":{\"histogram2dcontour\":[{\"type\":\"histogram2dcontour\",\"colorbar\":{\"outlinewidth\":0,\"ticks\":\"\"},\"colorscale\":[[0.0,\"#0d0887\"],[0.1111111111111111,\"#46039f\"],[0.2222222222222222,\"#7201a8\"],[0.3333333333333333,\"#9c179e\"],[0.4444444444444444,\"#bd3786\"],[0.5555555555555556,\"#d8576b\"],[0.6666666666666666,\"#ed7953\"],[0.7777777777777778,\"#fb9f3a\"],[0.8888888888888888,\"#fdca26\"],[1.0,\"#f0f921\"]]}],\"choropleth\":[{\"type\":\"choropleth\",\"colorbar\":{\"outlinewidth\":0,\"ticks\":\"\"}}],\"histogram2d\":[{\"type\":\"histogram2d\",\"colorbar\":{\"outlinewidth\":0,\"ticks\":\"\"},\"colorscale\":[[0.0,\"#0d0887\"],[0.1111111111111111,\"#46039f\"],[0.2222222222222222,\"#7201a8\"],[0.3333333333333333,\"#9c179e\"],[0.4444444444444444,\"#bd3786\"],[0.5555555555555556,\"#d8576b\"],[0.6666666666666666,\"#ed7953\"],[0.7777777777777778,\"#fb9f3a\"],[0.8888888888888888,\"#fdca26\"],[1.0,\"#f0f921\"]]}],\"heatmap\":[{\"type\":\"heatmap\",\"colorbar\":{\"outlinewidth\":0,\"ticks\":\"\"},\"colorscale\":[[0.0,\"#0d0887\"],[0.1111111111111111,\"#46039f\"],[0.2222222222222222,\"#7201a8\"],[0.3333333333333333,\"#9c179e\"],[0.4444444444444444,\"#bd3786\"],[0.5555555555555556,\"#d8576b\"],[0.6666666666666666,\"#ed7953\"],[0.7777777777777778,\"#fb9f3a\"],[0.8888888888888888,\"#fdca26\"],[1.0,\"#f0f921\"]]}],\"heatmapgl\":[{\"type\":\"heatmapgl\",\"colorbar\":{\"outlinewidth\":0,\"ticks\":\"\"},\"colorscale\":[[0.0,\"#0d0887\"],[0.1111111111111111,\"#46039f\"],[0.2222222222222222,\"#7201a8\"],[0.3333333333333333,\"#9c179e\"],[0.4444444444444444,\"#bd3786\"],[0.5555555555555556,\"#d8576b\"],[0.6666666666666666,\"#ed7953\"],[0.7777777777777778,\"#fb9f3a\"],[0.8888888888888888,\"#fdca26\"],[1.0,\"#f0f921\"]]}],\"contourcarpet\":[{\"type\":\"contourcarpet\",\"colorbar\":{\"outlinewidth\":0,\"ticks\":\"\"}}],\"contour\":[{\"type\":\"contour\",\"colorbar\":{\"outlinewidth\":0,\"ticks\":\"\"},\"colorscale\":[[0.0,\"#0d0887\"],[0.1111111111111111,\"#46039f\"],[0.2222222222222222,\"#7201a8\"],[0.3333333333333333,\"#9c179e\"],[0.4444444444444444,\"#bd3786\"],[0.5555555555555556,\"#d8576b\"],[0.6666666666666666,\"#ed7953\"],[0.7777777777777778,\"#fb9f3a\"],[0.8888888888888888,\"#fdca26\"],[1.0,\"#f0f921\"]]}],\"surface\":[{\"type\":\"surface\",\"colorbar\":{\"outlinewidth\":0,\"ticks\":\"\"},\"colorscale\":[[0.0,\"#0d0887\"],[0.1111111111111111,\"#46039f\"],[0.2222222222222222,\"#7201a8\"],[0.3333333333333333,\"#9c179e\"],[0.4444444444444444,\"#bd3786\"],[0.5555555555555556,\"#d8576b\"],[0.6666666666666666,\"#ed7953\"],[0.7777777777777778,\"#fb9f3a\"],[0.8888888888888888,\"#fdca26\"],[1.0,\"#f0f921\"]]}],\"mesh3d\":[{\"type\":\"mesh3d\",\"colorbar\":{\"outlinewidth\":0,\"ticks\":\"\"}}],\"scatter\":[{\"fillpattern\":{\"fillmode\":\"overlay\",\"size\":10,\"solidity\":0.2},\"type\":\"scatter\"}],\"parcoords\":[{\"type\":\"parcoords\",\"line\":{\"colorbar\":{\"outlinewidth\":0,\"ticks\":\"\"}}}],\"scatterpolargl\":[{\"type\":\"scatterpolargl\",\"marker\":{\"colorbar\":{\"outlinewidth\":0,\"ticks\":\"\"}}}],\"bar\":[{\"error_x\":{\"color\":\"#2a3f5f\"},\"error_y\":{\"color\":\"#2a3f5f\"},\"marker\":{\"line\":{\"color\":\"#E5ECF6\",\"width\":0.5},\"pattern\":{\"fillmode\":\"overlay\",\"size\":10,\"solidity\":0.2}},\"type\":\"bar\"}],\"scattergeo\":[{\"type\":\"scattergeo\",\"marker\":{\"colorbar\":{\"outlinewidth\":0,\"ticks\":\"\"}}}],\"scatterpolar\":[{\"type\":\"scatterpolar\",\"marker\":{\"colorbar\":{\"outlinewidth\":0,\"ticks\":\"\"}}}],\"histogram\":[{\"marker\":{\"pattern\":{\"fillmode\":\"overlay\",\"size\":10,\"solidity\":0.2}},\"type\":\"histogram\"}],\"scattergl\":[{\"type\":\"scattergl\",\"marker\":{\"colorbar\":{\"outlinewidth\":0,\"ticks\":\"\"}}}],\"scatter3d\":[{\"type\":\"scatter3d\",\"line\":{\"colorbar\":{\"outlinewidth\":0,\"ticks\":\"\"}},\"marker\":{\"colorbar\":{\"outlinewidth\":0,\"ticks\":\"\"}}}],\"scattermapbox\":[{\"type\":\"scattermapbox\",\"marker\":{\"colorbar\":{\"outlinewidth\":0,\"ticks\":\"\"}}}],\"scatterternary\":[{\"type\":\"scatterternary\",\"marker\":{\"colorbar\":{\"outlinewidth\":0,\"ticks\":\"\"}}}],\"scattercarpet\":[{\"type\":\"scattercarpet\",\"marker\":{\"colorbar\":{\"outlinewidth\":0,\"ticks\":\"\"}}}],\"carpet\":[{\"aaxis\":{\"endlinecolor\":\"#2a3f5f\",\"gridcolor\":\"white\",\"linecolor\":\"white\",\"minorgridcolor\":\"white\",\"startlinecolor\":\"#2a3f5f\"},\"baxis\":{\"endlinecolor\":\"#2a3f5f\",\"gridcolor\":\"white\",\"linecolor\":\"white\",\"minorgridcolor\":\"white\",\"startlinecolor\":\"#2a3f5f\"},\"type\":\"carpet\"}],\"table\":[{\"cells\":{\"fill\":{\"color\":\"#EBF0F8\"},\"line\":{\"color\":\"white\"}},\"header\":{\"fill\":{\"color\":\"#C8D4E3\"},\"line\":{\"color\":\"white\"}},\"type\":\"table\"}],\"barpolar\":[{\"marker\":{\"line\":{\"color\":\"#E5ECF6\",\"width\":0.5},\"pattern\":{\"fillmode\":\"overlay\",\"size\":10,\"solidity\":0.2}},\"type\":\"barpolar\"}],\"pie\":[{\"automargin\":true,\"type\":\"pie\"}]},\"layout\":{\"autotypenumbers\":\"strict\",\"colorway\":[\"#636efa\",\"#EF553B\",\"#00cc96\",\"#ab63fa\",\"#FFA15A\",\"#19d3f3\",\"#FF6692\",\"#B6E880\",\"#FF97FF\",\"#FECB52\"],\"font\":{\"color\":\"#2a3f5f\"},\"hovermode\":\"closest\",\"hoverlabel\":{\"align\":\"left\"},\"paper_bgcolor\":\"white\",\"plot_bgcolor\":\"#E5ECF6\",\"polar\":{\"bgcolor\":\"#E5ECF6\",\"angularaxis\":{\"gridcolor\":\"white\",\"linecolor\":\"white\",\"ticks\":\"\"},\"radialaxis\":{\"gridcolor\":\"white\",\"linecolor\":\"white\",\"ticks\":\"\"}},\"ternary\":{\"bgcolor\":\"#E5ECF6\",\"aaxis\":{\"gridcolor\":\"white\",\"linecolor\":\"white\",\"ticks\":\"\"},\"baxis\":{\"gridcolor\":\"white\",\"linecolor\":\"white\",\"ticks\":\"\"},\"caxis\":{\"gridcolor\":\"white\",\"linecolor\":\"white\",\"ticks\":\"\"}},\"coloraxis\":{\"colorbar\":{\"outlinewidth\":0,\"ticks\":\"\"}},\"colorscale\":{\"sequential\":[[0.0,\"#0d0887\"],[0.1111111111111111,\"#46039f\"],[0.2222222222222222,\"#7201a8\"],[0.3333333333333333,\"#9c179e\"],[0.4444444444444444,\"#bd3786\"],[0.5555555555555556,\"#d8576b\"],[0.6666666666666666,\"#ed7953\"],[0.7777777777777778,\"#fb9f3a\"],[0.8888888888888888,\"#fdca26\"],[1.0,\"#f0f921\"]],\"sequentialminus\":[[0.0,\"#0d0887\"],[0.1111111111111111,\"#46039f\"],[0.2222222222222222,\"#7201a8\"],[0.3333333333333333,\"#9c179e\"],[0.4444444444444444,\"#bd3786\"],[0.5555555555555556,\"#d8576b\"],[0.6666666666666666,\"#ed7953\"],[0.7777777777777778,\"#fb9f3a\"],[0.8888888888888888,\"#fdca26\"],[1.0,\"#f0f921\"]],\"diverging\":[[0,\"#8e0152\"],[0.1,\"#c51b7d\"],[0.2,\"#de77ae\"],[0.3,\"#f1b6da\"],[0.4,\"#fde0ef\"],[0.5,\"#f7f7f7\"],[0.6,\"#e6f5d0\"],[0.7,\"#b8e186\"],[0.8,\"#7fbc41\"],[0.9,\"#4d9221\"],[1,\"#276419\"]]},\"xaxis\":{\"gridcolor\":\"white\",\"linecolor\":\"white\",\"ticks\":\"\",\"title\":{\"standoff\":15},\"zerolinecolor\":\"white\",\"automargin\":true,\"zerolinewidth\":2},\"yaxis\":{\"gridcolor\":\"white\",\"linecolor\":\"white\",\"ticks\":\"\",\"title\":{\"standoff\":15},\"zerolinecolor\":\"white\",\"automargin\":true,\"zerolinewidth\":2},\"scene\":{\"xaxis\":{\"backgroundcolor\":\"#E5ECF6\",\"gridcolor\":\"white\",\"linecolor\":\"white\",\"showbackground\":true,\"ticks\":\"\",\"zerolinecolor\":\"white\",\"gridwidth\":2},\"yaxis\":{\"backgroundcolor\":\"#E5ECF6\",\"gridcolor\":\"white\",\"linecolor\":\"white\",\"showbackground\":true,\"ticks\":\"\",\"zerolinecolor\":\"white\",\"gridwidth\":2},\"zaxis\":{\"backgroundcolor\":\"#E5ECF6\",\"gridcolor\":\"white\",\"linecolor\":\"white\",\"showbackground\":true,\"ticks\":\"\",\"zerolinecolor\":\"white\",\"gridwidth\":2}},\"shapedefaults\":{\"line\":{\"color\":\"#2a3f5f\"}},\"annotationdefaults\":{\"arrowcolor\":\"#2a3f5f\",\"arrowhead\":0,\"arrowwidth\":1},\"geo\":{\"bgcolor\":\"white\",\"landcolor\":\"#E5ECF6\",\"subunitcolor\":\"white\",\"showland\":true,\"showlakes\":true,\"lakecolor\":\"white\"},\"title\":{\"x\":0.05},\"mapbox\":{\"style\":\"light\"}}},\"xaxis\":{\"anchor\":\"y\",\"domain\":[0.0,0.45],\"title\":{\"text\":\"Function Call\"}},\"yaxis\":{\"anchor\":\"x\",\"domain\":[0.0,1.0],\"title\":{\"text\":\"Negative electrode active material volume fraction\"}},\"xaxis2\":{\"anchor\":\"y2\",\"domain\":[0.55,1.0],\"title\":{\"text\":\"Function Call\"}},\"yaxis2\":{\"anchor\":\"x2\",\"domain\":[0.0,1.0],\"title\":{\"text\":\"Positive electrode active material volume fraction\"}},\"legend\":{\"orientation\":\"h\",\"yanchor\":\"bottom\",\"y\":1.02,\"xanchor\":\"right\",\"x\":1},\"title\":{\"text\":\"Parameter Convergence\"},\"width\":1024,\"height\":576},                        {\"responsive\": true}                    ).then(function(){\n",
       "                            \n",
       "var gd = document.getElementById('25c5b580-56f3-4480-9682-10424a00db02');\n",
       "var x = new MutationObserver(function (mutations, observer) {{\n",
       "        var display = window.getComputedStyle(gd).display;\n",
       "        if (!display || display === 'none') {{\n",
       "            console.log([gd, 'removed!']);\n",
       "            Plotly.purge(gd);\n",
       "            observer.disconnect();\n",
       "        }}\n",
       "}});\n",
       "\n",
       "// Listen for the removal of the full notebook cells\n",
       "var notebookContainer = gd.closest('#notebook-container');\n",
       "if (notebookContainer) {{\n",
       "    x.observe(notebookContainer, {childList: true});\n",
       "}}\n",
       "\n",
       "// Listen for the clearing of the current output cell\n",
       "var outputEl = gd.closest('.output');\n",
       "if (outputEl) {{\n",
       "    x.observe(outputEl, {childList: true});\n",
       "}}\n",
       "\n",
       "                        })                };                });            </script>        </div>"
      ]
     },
     "metadata": {},
     "output_type": "display_data"
    }
   ],
   "source": [
    "pybop.plot_convergence(optim)\n",
    "pybop.plot_parameters(optim);"
   ]
  },
  {
   "cell_type": "markdown",
   "metadata": {},
   "source": [
    "### Cost Landscape\n",
    "\n",
    "Finally, we can visualise the cost landscape and the path taken by the optimiser:"
   ]
  },
  {
   "cell_type": "code",
   "execution_count": 27,
   "metadata": {},
   "outputs": [
    {
     "data": {
      "application/vnd.plotly.v1+json": {
       "config": {
        "plotlyServerURL": "https://plot.ly"
       },
       "data": [
        {
         "autocontour": true,
         "contours": {
          "end": 11,
          "size": 1,
          "start": 0
         },
         "type": "contour",
         "x": [
          0.5,
          0.5214285714285715,
          0.5428571428571428,
          0.5642857142857143,
          0.5857142857142857,
          0.6071428571428572,
          0.6285714285714286,
          0.65,
          0.6714285714285715,
          0.6928571428571428,
          0.7142857142857143,
          0.7357142857142858,
          0.7571428571428571,
          0.7785714285714287,
          0.8
         ],
         "y": [
          0.4,
          0.42142857142857143,
          0.4428571428571429,
          0.4642857142857143,
          0.4857142857142857,
          0.5071428571428571,
          0.5285714285714286,
          0.55,
          0.5714285714285714,
          0.5928571428571429,
          0.6142857142857143,
          0.6357142857142857,
          0.6571428571428571,
          0.6785714285714286,
          0.7
         ],
         "z": [
          [
           11.317325195331104,
           10.799385589187947,
           10.31666638756394,
           9.883057716727594,
           9.510116511629889,
           9.200199172426604,
           8.945227580131789,
           8.732159801291358,
           8.5487584517189,
           8.385972204084299,
           8.237818780848327,
           8.100511440365228,
           7.971655956553089,
           7.849703814709127,
           7.733614278537722
          ],
          [
           9.003563141996004,
           8.542762359322026,
           8.113166815275902,
           7.727433188586863,
           7.396130084380547,
           7.121464817390969,
           6.896192920874701,
           6.708531930582358,
           6.547467460936703,
           6.404871338261234,
           6.2753826330588325,
           6.155610574872357,
           6.043413192616348,
           5.937404036473897,
           5.836650769127074
          ],
          [
           7.089519726306956,
           6.682566903838721,
           6.3035698583252575,
           5.963696129899983,
           5.672333592097081,
           5.4313776288575,
           5.234301822943923,
           5.070572679685353,
           4.930396287111636,
           4.80657382172268,
           4.694368191503139,
           4.590787658128111,
           4.493941787014133,
           4.4026059240796815,
           4.315954845085618
          ],
          [
           5.532888857818209,
           5.1753595613150045,
           4.843341486893465,
           4.546407809605274,
           4.292589507354568,
           4.083304584145494,
           3.9126091028488656,
           3.7711402860291,
           3.6502819976291634,
           3.543740089321247,
           3.44738816997106,
           3.3586241009953772,
           3.275803220363898,
           3.19785802702386,
           3.1240687555719626
          ],
          [
           4.288220747098139,
           3.975047310078134,
           3.6855807272047274,
           3.4278212596166404,
           3.208433263611018,
           3.028241868814694,
           2.8817504346112637,
           2.760648216317538,
           2.6574094626752727,
           2.5665862979823992,
           2.484626264527868,
           2.409293521212306,
           2.3391744195760396,
           2.273350504155583,
           2.2111967711888423
          ],
          [
           3.304924577773111,
           3.0310506831562822,
           2.7794509824983735,
           2.5567535374783046,
           2.3683043253546288,
           2.2143275910959797,
           2.089670353680372,
           1.9869434187417188,
           1.8995960336258009,
           1.822944282146426,
           1.7539547303876946,
           1.690723941645771,
           1.6320485191905,
           1.577143283312914,
           1.5254665502115454
          ],
          [
           2.532087304358739,
           2.292960395972122,
           2.074864134031268,
           1.8832524607988408,
           1.7223097605948567,
           1.591706037318632,
           1.4865674721786684,
           1.4003046009156404,
           1.3272219438941435,
           1.263308656021115,
           1.2059898037419594,
           1.153655845092357,
           1.105290661161252,
           1.0602214188147316,
           1.0179917323865184
          ],
          [
           1.9245215799798332,
           1.716313531060015,
           1.5279664488974425,
           1.3639464248559798,
           1.2274483707651234,
           1.1176779603683902,
           1.0299728786129223,
           0.9584740443657136,
           0.8982220624540715,
           0.845794026018493,
           0.7990161969562718,
           0.756537916512251,
           0.7175013737643661,
           0.68134138654197,
           0.6476696525053999
          ],
          [
           1.445904274845284,
           1.265505191792988,
           1.1038429223997674,
           0.9645150927743168,
           0.8498939177080013,
           0.7587910250720685,
           0.6867763740048892,
           0.6286031189001857,
           0.5799700964253598,
           0.5379703090679798,
           0.500782286383818,
           0.46728101163527913,
           0.43675011696847166,
           0.40871969013808274,
           0.3828595242161933
          ],
          [
           1.068788698615006,
           0.9137570383149892,
           0.7762796768081804,
           0.6593009948925758,
           0.5644670486255817,
           0.4902684703040405,
           0.4324991264436703,
           0.3864623843155822,
           0.3484432556177435,
           0.31599270423181713,
           0.28760219876733684,
           0.26234414363989667,
           0.2396332903994348,
           0.21907917547379924,
           0.2004062464751083
          ],
          [
           0.7727944671740535,
           0.6411441794790536,
           0.5259070806788964,
           0.42940908149585,
           0.3526879492798334,
           0.2939719388175035,
           0.24927395554618748,
           0.21440048023297892,
           0.18616682160130457,
           0.16253677239670242,
           0.1422829211842736,
           0.12465771196109296,
           0.10919103813635551,
           0.09556610838979004,
           0.08355629625908645
          ],
          [
           0.5429954129071154,
           0.4331331616075782,
           0.33855042026584115,
           0.2610239634113037,
           0.2010593981815332,
           0.15666735278148777,
           0.12407640835659188,
           0.09955950340767086,
           0.08041888827321525,
           0.06499637802044066,
           0.05231962628350627,
           0.04180838106462222,
           0.03309599208213115,
           0.025933451315075136,
           0.020142933346956098
          ],
          [
           0.3681424038781088,
           0.2787551581045782,
           0.2035271991808568,
           0.14373818029437513,
           0.09941867145177974,
           0.06839554452710131,
           0.047109826539373505,
           0.03227199982908735,
           0.02163746670353349,
           0.01389809182492236,
           0.008319271805119658,
           0.004473768140703515,
           0.0020918814879576464,
           0.000987827331901914,
           0.001019704651353527
          ],
          [
           0.2395678499685267,
           0.16955525851715195,
           0.11259382294251127,
           0.06950829068314826,
           0.0399059442338293,
           0.021450033210687676,
           0.010791258416710863,
           0.0050524551722287165,
           0.002417380817428643,
           0.0019040298761643856,
           0.003003074014954813,
           0.005432040255257906,
           0.009007646402358249,
           0.013600685562441725,
           0.01911642823007783
          ],
          [
           0.15039893292644935,
           0.09879925051482592,
           0.05917597350538621,
           0.031926162096480235,
           0.016249646998909892,
           0.009674444151677857,
           0.009053610656418527,
           0.011911829329879777,
           0.01682587836576159,
           0.023137210509581452,
           0.03054139369444544,
           0.03889679792237,
           0.04808926771317956,
           0.05806658026682753,
           0.06875860544456033
          ]
         ]
        }
       ],
       "layout": {
        "height": 600,
        "template": {
         "data": {
          "bar": [
           {
            "error_x": {
             "color": "#2a3f5f"
            },
            "error_y": {
             "color": "#2a3f5f"
            },
            "marker": {
             "line": {
              "color": "#E5ECF6",
              "width": 0.5
             },
             "pattern": {
              "fillmode": "overlay",
              "size": 10,
              "solidity": 0.2
             }
            },
            "type": "bar"
           }
          ],
          "barpolar": [
           {
            "marker": {
             "line": {
              "color": "#E5ECF6",
              "width": 0.5
             },
             "pattern": {
              "fillmode": "overlay",
              "size": 10,
              "solidity": 0.2
             }
            },
            "type": "barpolar"
           }
          ],
          "carpet": [
           {
            "aaxis": {
             "endlinecolor": "#2a3f5f",
             "gridcolor": "white",
             "linecolor": "white",
             "minorgridcolor": "white",
             "startlinecolor": "#2a3f5f"
            },
            "baxis": {
             "endlinecolor": "#2a3f5f",
             "gridcolor": "white",
             "linecolor": "white",
             "minorgridcolor": "white",
             "startlinecolor": "#2a3f5f"
            },
            "type": "carpet"
           }
          ],
          "choropleth": [
           {
            "colorbar": {
             "outlinewidth": 0,
             "ticks": ""
            },
            "type": "choropleth"
           }
          ],
          "contour": [
           {
            "colorbar": {
             "outlinewidth": 0,
             "ticks": ""
            },
            "colorscale": [
             [
              0,
              "#0d0887"
             ],
             [
              0.1111111111111111,
              "#46039f"
             ],
             [
              0.2222222222222222,
              "#7201a8"
             ],
             [
              0.3333333333333333,
              "#9c179e"
             ],
             [
              0.4444444444444444,
              "#bd3786"
             ],
             [
              0.5555555555555556,
              "#d8576b"
             ],
             [
              0.6666666666666666,
              "#ed7953"
             ],
             [
              0.7777777777777778,
              "#fb9f3a"
             ],
             [
              0.8888888888888888,
              "#fdca26"
             ],
             [
              1,
              "#f0f921"
             ]
            ],
            "type": "contour"
           }
          ],
          "contourcarpet": [
           {
            "colorbar": {
             "outlinewidth": 0,
             "ticks": ""
            },
            "type": "contourcarpet"
           }
          ],
          "heatmap": [
           {
            "colorbar": {
             "outlinewidth": 0,
             "ticks": ""
            },
            "colorscale": [
             [
              0,
              "#0d0887"
             ],
             [
              0.1111111111111111,
              "#46039f"
             ],
             [
              0.2222222222222222,
              "#7201a8"
             ],
             [
              0.3333333333333333,
              "#9c179e"
             ],
             [
              0.4444444444444444,
              "#bd3786"
             ],
             [
              0.5555555555555556,
              "#d8576b"
             ],
             [
              0.6666666666666666,
              "#ed7953"
             ],
             [
              0.7777777777777778,
              "#fb9f3a"
             ],
             [
              0.8888888888888888,
              "#fdca26"
             ],
             [
              1,
              "#f0f921"
             ]
            ],
            "type": "heatmap"
           }
          ],
          "heatmapgl": [
           {
            "colorbar": {
             "outlinewidth": 0,
             "ticks": ""
            },
            "colorscale": [
             [
              0,
              "#0d0887"
             ],
             [
              0.1111111111111111,
              "#46039f"
             ],
             [
              0.2222222222222222,
              "#7201a8"
             ],
             [
              0.3333333333333333,
              "#9c179e"
             ],
             [
              0.4444444444444444,
              "#bd3786"
             ],
             [
              0.5555555555555556,
              "#d8576b"
             ],
             [
              0.6666666666666666,
              "#ed7953"
             ],
             [
              0.7777777777777778,
              "#fb9f3a"
             ],
             [
              0.8888888888888888,
              "#fdca26"
             ],
             [
              1,
              "#f0f921"
             ]
            ],
            "type": "heatmapgl"
           }
          ],
          "histogram": [
           {
            "marker": {
             "pattern": {
              "fillmode": "overlay",
              "size": 10,
              "solidity": 0.2
             }
            },
            "type": "histogram"
           }
          ],
          "histogram2d": [
           {
            "colorbar": {
             "outlinewidth": 0,
             "ticks": ""
            },
            "colorscale": [
             [
              0,
              "#0d0887"
             ],
             [
              0.1111111111111111,
              "#46039f"
             ],
             [
              0.2222222222222222,
              "#7201a8"
             ],
             [
              0.3333333333333333,
              "#9c179e"
             ],
             [
              0.4444444444444444,
              "#bd3786"
             ],
             [
              0.5555555555555556,
              "#d8576b"
             ],
             [
              0.6666666666666666,
              "#ed7953"
             ],
             [
              0.7777777777777778,
              "#fb9f3a"
             ],
             [
              0.8888888888888888,
              "#fdca26"
             ],
             [
              1,
              "#f0f921"
             ]
            ],
            "type": "histogram2d"
           }
          ],
          "histogram2dcontour": [
           {
            "colorbar": {
             "outlinewidth": 0,
             "ticks": ""
            },
            "colorscale": [
             [
              0,
              "#0d0887"
             ],
             [
              0.1111111111111111,
              "#46039f"
             ],
             [
              0.2222222222222222,
              "#7201a8"
             ],
             [
              0.3333333333333333,
              "#9c179e"
             ],
             [
              0.4444444444444444,
              "#bd3786"
             ],
             [
              0.5555555555555556,
              "#d8576b"
             ],
             [
              0.6666666666666666,
              "#ed7953"
             ],
             [
              0.7777777777777778,
              "#fb9f3a"
             ],
             [
              0.8888888888888888,
              "#fdca26"
             ],
             [
              1,
              "#f0f921"
             ]
            ],
            "type": "histogram2dcontour"
           }
          ],
          "mesh3d": [
           {
            "colorbar": {
             "outlinewidth": 0,
             "ticks": ""
            },
            "type": "mesh3d"
           }
          ],
          "parcoords": [
           {
            "line": {
             "colorbar": {
              "outlinewidth": 0,
              "ticks": ""
             }
            },
            "type": "parcoords"
           }
          ],
          "pie": [
           {
            "automargin": true,
            "type": "pie"
           }
          ],
          "scatter": [
           {
            "fillpattern": {
             "fillmode": "overlay",
             "size": 10,
             "solidity": 0.2
            },
            "type": "scatter"
           }
          ],
          "scatter3d": [
           {
            "line": {
             "colorbar": {
              "outlinewidth": 0,
              "ticks": ""
             }
            },
            "marker": {
             "colorbar": {
              "outlinewidth": 0,
              "ticks": ""
             }
            },
            "type": "scatter3d"
           }
          ],
          "scattercarpet": [
           {
            "marker": {
             "colorbar": {
              "outlinewidth": 0,
              "ticks": ""
             }
            },
            "type": "scattercarpet"
           }
          ],
          "scattergeo": [
           {
            "marker": {
             "colorbar": {
              "outlinewidth": 0,
              "ticks": ""
             }
            },
            "type": "scattergeo"
           }
          ],
          "scattergl": [
           {
            "marker": {
             "colorbar": {
              "outlinewidth": 0,
              "ticks": ""
             }
            },
            "type": "scattergl"
           }
          ],
          "scattermapbox": [
           {
            "marker": {
             "colorbar": {
              "outlinewidth": 0,
              "ticks": ""
             }
            },
            "type": "scattermapbox"
           }
          ],
          "scatterpolar": [
           {
            "marker": {
             "colorbar": {
              "outlinewidth": 0,
              "ticks": ""
             }
            },
            "type": "scatterpolar"
           }
          ],
          "scatterpolargl": [
           {
            "marker": {
             "colorbar": {
              "outlinewidth": 0,
              "ticks": ""
             }
            },
            "type": "scatterpolargl"
           }
          ],
          "scatterternary": [
           {
            "marker": {
             "colorbar": {
              "outlinewidth": 0,
              "ticks": ""
             }
            },
            "type": "scatterternary"
           }
          ],
          "surface": [
           {
            "colorbar": {
             "outlinewidth": 0,
             "ticks": ""
            },
            "colorscale": [
             [
              0,
              "#0d0887"
             ],
             [
              0.1111111111111111,
              "#46039f"
             ],
             [
              0.2222222222222222,
              "#7201a8"
             ],
             [
              0.3333333333333333,
              "#9c179e"
             ],
             [
              0.4444444444444444,
              "#bd3786"
             ],
             [
              0.5555555555555556,
              "#d8576b"
             ],
             [
              0.6666666666666666,
              "#ed7953"
             ],
             [
              0.7777777777777778,
              "#fb9f3a"
             ],
             [
              0.8888888888888888,
              "#fdca26"
             ],
             [
              1,
              "#f0f921"
             ]
            ],
            "type": "surface"
           }
          ],
          "table": [
           {
            "cells": {
             "fill": {
              "color": "#EBF0F8"
             },
             "line": {
              "color": "white"
             }
            },
            "header": {
             "fill": {
              "color": "#C8D4E3"
             },
             "line": {
              "color": "white"
             }
            },
            "type": "table"
           }
          ]
         },
         "layout": {
          "annotationdefaults": {
           "arrowcolor": "#2a3f5f",
           "arrowhead": 0,
           "arrowwidth": 1
          },
          "autotypenumbers": "strict",
          "coloraxis": {
           "colorbar": {
            "outlinewidth": 0,
            "ticks": ""
           }
          },
          "colorscale": {
           "diverging": [
            [
             0,
             "#8e0152"
            ],
            [
             0.1,
             "#c51b7d"
            ],
            [
             0.2,
             "#de77ae"
            ],
            [
             0.3,
             "#f1b6da"
            ],
            [
             0.4,
             "#fde0ef"
            ],
            [
             0.5,
             "#f7f7f7"
            ],
            [
             0.6,
             "#e6f5d0"
            ],
            [
             0.7,
             "#b8e186"
            ],
            [
             0.8,
             "#7fbc41"
            ],
            [
             0.9,
             "#4d9221"
            ],
            [
             1,
             "#276419"
            ]
           ],
           "sequential": [
            [
             0,
             "#0d0887"
            ],
            [
             0.1111111111111111,
             "#46039f"
            ],
            [
             0.2222222222222222,
             "#7201a8"
            ],
            [
             0.3333333333333333,
             "#9c179e"
            ],
            [
             0.4444444444444444,
             "#bd3786"
            ],
            [
             0.5555555555555556,
             "#d8576b"
            ],
            [
             0.6666666666666666,
             "#ed7953"
            ],
            [
             0.7777777777777778,
             "#fb9f3a"
            ],
            [
             0.8888888888888888,
             "#fdca26"
            ],
            [
             1,
             "#f0f921"
            ]
           ],
           "sequentialminus": [
            [
             0,
             "#0d0887"
            ],
            [
             0.1111111111111111,
             "#46039f"
            ],
            [
             0.2222222222222222,
             "#7201a8"
            ],
            [
             0.3333333333333333,
             "#9c179e"
            ],
            [
             0.4444444444444444,
             "#bd3786"
            ],
            [
             0.5555555555555556,
             "#d8576b"
            ],
            [
             0.6666666666666666,
             "#ed7953"
            ],
            [
             0.7777777777777778,
             "#fb9f3a"
            ],
            [
             0.8888888888888888,
             "#fdca26"
            ],
            [
             1,
             "#f0f921"
            ]
           ]
          },
          "colorway": [
           "#636efa",
           "#EF553B",
           "#00cc96",
           "#ab63fa",
           "#FFA15A",
           "#19d3f3",
           "#FF6692",
           "#B6E880",
           "#FF97FF",
           "#FECB52"
          ],
          "font": {
           "color": "#2a3f5f"
          },
          "geo": {
           "bgcolor": "white",
           "lakecolor": "white",
           "landcolor": "#E5ECF6",
           "showlakes": true,
           "showland": true,
           "subunitcolor": "white"
          },
          "hoverlabel": {
           "align": "left"
          },
          "hovermode": "closest",
          "mapbox": {
           "style": "light"
          },
          "paper_bgcolor": "white",
          "plot_bgcolor": "#E5ECF6",
          "polar": {
           "angularaxis": {
            "gridcolor": "white",
            "linecolor": "white",
            "ticks": ""
           },
           "bgcolor": "#E5ECF6",
           "radialaxis": {
            "gridcolor": "white",
            "linecolor": "white",
            "ticks": ""
           }
          },
          "scene": {
           "xaxis": {
            "backgroundcolor": "#E5ECF6",
            "gridcolor": "white",
            "gridwidth": 2,
            "linecolor": "white",
            "showbackground": true,
            "ticks": "",
            "zerolinecolor": "white"
           },
           "yaxis": {
            "backgroundcolor": "#E5ECF6",
            "gridcolor": "white",
            "gridwidth": 2,
            "linecolor": "white",
            "showbackground": true,
            "ticks": "",
            "zerolinecolor": "white"
           },
           "zaxis": {
            "backgroundcolor": "#E5ECF6",
            "gridcolor": "white",
            "gridwidth": 2,
            "linecolor": "white",
            "showbackground": true,
            "ticks": "",
            "zerolinecolor": "white"
           }
          },
          "shapedefaults": {
           "line": {
            "color": "#2a3f5f"
           }
          },
          "ternary": {
           "aaxis": {
            "gridcolor": "white",
            "linecolor": "white",
            "ticks": ""
           },
           "baxis": {
            "gridcolor": "white",
            "linecolor": "white",
            "ticks": ""
           },
           "bgcolor": "#E5ECF6",
           "caxis": {
            "gridcolor": "white",
            "linecolor": "white",
            "ticks": ""
           }
          },
          "title": {
           "x": 0.05
          },
          "xaxis": {
           "automargin": true,
           "gridcolor": "white",
           "linecolor": "white",
           "ticks": "",
           "title": {
            "standoff": 15
           },
           "zerolinecolor": "white",
           "zerolinewidth": 2
          },
          "yaxis": {
           "automargin": true,
           "gridcolor": "white",
           "linecolor": "white",
           "ticks": "",
           "title": {
            "standoff": 15
           },
           "zerolinecolor": "white",
           "zerolinewidth": 2
          }
         }
        },
        "title": {
         "text": "Cost Landscape",
         "x": 0.5,
         "y": 0.9
        },
        "width": 600,
        "xaxis": {
         "range": [
          0.5,
          0.8
         ],
         "title": {
          "text": "Negative electrode active material volume fraction"
         },
         "type": "linear"
        },
        "yaxis": {
         "range": [
          0.4,
          0.7
         ],
         "title": {
          "text": "Positive electrode active material volume fraction"
         },
         "type": "linear"
        }
       }
      },
      "image/png": "[encoded data removed]",
      "text/html": [
       "<div>                            <div id=\"243f828c-72f9-4614-9288-bf21e2a6a768\" class=\"plotly-graph-div\" style=\"height:600px; width:600px;\"></div>            <script type=\"text/javascript\">                require([\"plotly\"], function(Plotly) {                    window.PLOTLYENV=window.PLOTLYENV || {};                                    if (document.getElementById(\"243f828c-72f9-4614-9288-bf21e2a6a768\")) {                    Plotly.newPlot(                        \"243f828c-72f9-4614-9288-bf21e2a6a768\",                        [{\"x\":[0.5,0.5214285714285715,0.5428571428571428,0.5642857142857143,0.5857142857142857,0.6071428571428572,0.6285714285714286,0.65,0.6714285714285715,0.6928571428571428,0.7142857142857143,0.7357142857142858,0.7571428571428571,0.7785714285714287,0.8],\"y\":[0.4,0.42142857142857143,0.4428571428571429,0.4642857142857143,0.4857142857142857,0.5071428571428571,0.5285714285714286,0.55,0.5714285714285714,0.5928571428571429,0.6142857142857143,0.6357142857142857,0.6571428571428571,0.6785714285714286,0.7],\"z\":[[11.317325195331103,10.799385589187949,10.316666387563941,9.883057716727594,9.510116511629889,9.200199172426604,8.945227580131789,8.732159801291358,8.5487584517189,8.385972204084299,8.237818780848327,8.100511440365228,7.971655956553089,7.849703814709127,7.733614278537722],[9.003563141996004,8.542762359322026,8.113166815275902,7.727433188586863,7.396130084380547,7.121464817390969,6.896192920874701,6.708531930582358,6.547467460936703,6.404871338261234,6.2753826330588325,6.155610574872357,6.043413192616348,5.937404036473897,5.836650769127074],[7.089519726306956,6.682566903838721,6.3035698583252575,5.963696129899983,5.672333592097081,5.4313776288575,5.234301822943923,5.070572679685353,4.930396287111636,4.80657382172268,4.694368191503139,4.590787658128111,4.493941787014133,4.4026059240796815,4.315954845085618],[5.532888857818209,5.1753595613150045,4.843341486893465,4.546407809605274,4.292589507354568,4.083304584145494,3.9126091028488656,3.7711402860291,3.6502819976291634,3.543740089321247,3.44738816997106,3.3586241009953772,3.275803220363898,3.19785802702386,3.1240687555719626],[4.288220747098139,3.975047310078134,3.6855807272047274,3.4278212596166404,3.208433263611018,3.028241868814694,2.8817504346112637,2.760648216317538,2.6574094626752727,2.5665862979823992,2.484626264527868,2.409293521212306,2.3391744195760396,2.273350504155583,2.2111967711888423],[3.304924577773111,3.0310506831562822,2.7794509824983735,2.5567535374783046,2.3683043253546288,2.2143275910959797,2.089670353680372,1.9869434187417188,1.8995960336258007,1.8229442821464261,1.7539547303876946,1.690723941645771,1.6320485191904999,1.577143283312914,1.5254665502115454],[2.532087304358739,2.292960395972122,2.074864134031268,1.8832524607988406,1.7223097605948567,1.591706037318632,1.4865674721786684,1.4003046009156404,1.3272219438941435,1.263308656021115,1.2059898037419594,1.153655845092357,1.1052906611612519,1.0602214188147316,1.0179917323865184],[1.9245215799798332,1.716313531060015,1.5279664488974425,1.3639464248559798,1.2274483707651234,1.1176779603683902,1.0299728786129223,0.9584740443657135,0.8982220624540715,0.845794026018493,0.7990161969562718,0.756537916512251,0.7175013737643661,0.68134138654197,0.6476696525053999],[1.445904274845284,1.265505191792988,1.1038429223997674,0.9645150927743169,0.8498939177080013,0.7587910250720685,0.6867763740048892,0.6286031189001857,0.5799700964253598,0.5379703090679798,0.500782286383818,0.46728101163527913,0.43675011696847166,0.40871969013808274,0.3828595242161933],[1.0687886986150061,0.9137570383149893,0.7762796768081804,0.6593009948925758,0.5644670486255817,0.4902684703040405,0.4324991264436703,0.3864623843155822,0.3484432556177435,0.31599270423181713,0.28760219876733684,0.26234414363989667,0.23963329039943482,0.21907917547379924,0.2004062464751083],[0.7727944671740535,0.6411441794790536,0.5259070806788964,0.42940908149585,0.3526879492798334,0.2939719388175035,0.24927395554618748,0.21440048023297892,0.18616682160130454,0.16253677239670242,0.1422829211842736,0.12465771196109295,0.10919103813635553,0.09556610838979004,0.08355629625908645],[0.5429954129071154,0.4331331616075782,0.33855042026584115,0.2610239634113037,0.20105939818153318,0.15666735278148775,0.12407640835659187,0.09955950340767086,0.08041888827321525,0.06499637802044066,0.05231962628350627,0.04180838106462222,0.03309599208213115,0.025933451315075136,0.020142933346956098],[0.36814240387810876,0.2787551581045782,0.20352719918085682,0.14373818029437513,0.09941867145177974,0.06839554452710131,0.047109826539373505,0.03227199982908735,0.02163746670353349,0.01389809182492236,0.008319271805119658,0.004473768140703515,0.0020918814879576464,0.0009878273319019139,0.001019704651353527],[0.2395678499685267,0.16955525851715197,0.11259382294251129,0.06950829068314826,0.0399059442338293,0.021450033210687676,0.010791258416710865,0.0050524551722287165,0.002417380817428643,0.0019040298761643858,0.003003074014954813,0.005432040255257906,0.009007646402358249,0.013600685562441723,0.01911642823007783],[0.15039893292644937,0.09879925051482591,0.05917597350538621,0.031926162096480235,0.016249646998909892,0.009674444151677855,0.009053610656418527,0.011911829329879777,0.01682587836576159,0.023137210509581452,0.030541393694445442,0.03889679792237,0.04808926771317956,0.05806658026682753,0.06875860544456033]],\"type\":\"contour\"}],                        {\"template\":{\"data\":{\"histogram2dcontour\":[{\"type\":\"histogram2dcontour\",\"colorbar\":{\"outlinewidth\":0,\"ticks\":\"\"},\"colorscale\":[[0.0,\"#0d0887\"],[0.1111111111111111,\"#46039f\"],[0.2222222222222222,\"#7201a8\"],[0.3333333333333333,\"#9c179e\"],[0.4444444444444444,\"#bd3786\"],[0.5555555555555556,\"#d8576b\"],[0.6666666666666666,\"#ed7953\"],[0.7777777777777778,\"#fb9f3a\"],[0.8888888888888888,\"#fdca26\"],[1.0,\"#f0f921\"]]}],\"choropleth\":[{\"type\":\"choropleth\",\"colorbar\":{\"outlinewidth\":0,\"ticks\":\"\"}}],\"histogram2d\":[{\"type\":\"histogram2d\",\"colorbar\":{\"outlinewidth\":0,\"ticks\":\"\"},\"colorscale\":[[0.0,\"#0d0887\"],[0.1111111111111111,\"#46039f\"],[0.2222222222222222,\"#7201a8\"],[0.3333333333333333,\"#9c179e\"],[0.4444444444444444,\"#bd3786\"],[0.5555555555555556,\"#d8576b\"],[0.6666666666666666,\"#ed7953\"],[0.7777777777777778,\"#fb9f3a\"],[0.8888888888888888,\"#fdca26\"],[1.0,\"#f0f921\"]]}],\"heatmap\":[{\"type\":\"heatmap\",\"colorbar\":{\"outlinewidth\":0,\"ticks\":\"\"},\"colorscale\":[[0.0,\"#0d0887\"],[0.1111111111111111,\"#46039f\"],[0.2222222222222222,\"#7201a8\"],[0.3333333333333333,\"#9c179e\"],[0.4444444444444444,\"#bd3786\"],[0.5555555555555556,\"#d8576b\"],[0.6666666666666666,\"#ed7953\"],[0.7777777777777778,\"#fb9f3a\"],[0.8888888888888888,\"#fdca26\"],[1.0,\"#f0f921\"]]}],\"heatmapgl\":[{\"type\":\"heatmapgl\",\"colorbar\":{\"outlinewidth\":0,\"ticks\":\"\"},\"colorscale\":[[0.0,\"#0d0887\"],[0.1111111111111111,\"#46039f\"],[0.2222222222222222,\"#7201a8\"],[0.3333333333333333,\"#9c179e\"],[0.4444444444444444,\"#bd3786\"],[0.5555555555555556,\"#d8576b\"],[0.6666666666666666,\"#ed7953\"],[0.7777777777777778,\"#fb9f3a\"],[0.8888888888888888,\"#fdca26\"],[1.0,\"#f0f921\"]]}],\"contourcarpet\":[{\"type\":\"contourcarpet\",\"colorbar\":{\"outlinewidth\":0,\"ticks\":\"\"}}],\"contour\":[{\"type\":\"contour\",\"colorbar\":{\"outlinewidth\":0,\"ticks\":\"\"},\"colorscale\":[[0.0,\"#0d0887\"],[0.1111111111111111,\"#46039f\"],[0.2222222222222222,\"#7201a8\"],[0.3333333333333333,\"#9c179e\"],[0.4444444444444444,\"#bd3786\"],[0.5555555555555556,\"#d8576b\"],[0.6666666666666666,\"#ed7953\"],[0.7777777777777778,\"#fb9f3a\"],[0.8888888888888888,\"#fdca26\"],[1.0,\"#f0f921\"]]}],\"surface\":[{\"type\":\"surface\",\"colorbar\":{\"outlinewidth\":0,\"ticks\":\"\"},\"colorscale\":[[0.0,\"#0d0887\"],[0.1111111111111111,\"#46039f\"],[0.2222222222222222,\"#7201a8\"],[0.3333333333333333,\"#9c179e\"],[0.4444444444444444,\"#bd3786\"],[0.5555555555555556,\"#d8576b\"],[0.6666666666666666,\"#ed7953\"],[0.7777777777777778,\"#fb9f3a\"],[0.8888888888888888,\"#fdca26\"],[1.0,\"#f0f921\"]]}],\"mesh3d\":[{\"type\":\"mesh3d\",\"colorbar\":{\"outlinewidth\":0,\"ticks\":\"\"}}],\"scatter\":[{\"fillpattern\":{\"fillmode\":\"overlay\",\"size\":10,\"solidity\":0.2},\"type\":\"scatter\"}],\"parcoords\":[{\"type\":\"parcoords\",\"line\":{\"colorbar\":{\"outlinewidth\":0,\"ticks\":\"\"}}}],\"scatterpolargl\":[{\"type\":\"scatterpolargl\",\"marker\":{\"colorbar\":{\"outlinewidth\":0,\"ticks\":\"\"}}}],\"bar\":[{\"error_x\":{\"color\":\"#2a3f5f\"},\"error_y\":{\"color\":\"#2a3f5f\"},\"marker\":{\"line\":{\"color\":\"#E5ECF6\",\"width\":0.5},\"pattern\":{\"fillmode\":\"overlay\",\"size\":10,\"solidity\":0.2}},\"type\":\"bar\"}],\"scattergeo\":[{\"type\":\"scattergeo\",\"marker\":{\"colorbar\":{\"outlinewidth\":0,\"ticks\":\"\"}}}],\"scatterpolar\":[{\"type\":\"scatterpolar\",\"marker\":{\"colorbar\":{\"outlinewidth\":0,\"ticks\":\"\"}}}],\"histogram\":[{\"marker\":{\"pattern\":{\"fillmode\":\"overlay\",\"size\":10,\"solidity\":0.2}},\"type\":\"histogram\"}],\"scattergl\":[{\"type\":\"scattergl\",\"marker\":{\"colorbar\":{\"outlinewidth\":0,\"ticks\":\"\"}}}],\"scatter3d\":[{\"type\":\"scatter3d\",\"line\":{\"colorbar\":{\"outlinewidth\":0,\"ticks\":\"\"}},\"marker\":{\"colorbar\":{\"outlinewidth\":0,\"ticks\":\"\"}}}],\"scattermapbox\":[{\"type\":\"scattermapbox\",\"marker\":{\"colorbar\":{\"outlinewidth\":0,\"ticks\":\"\"}}}],\"scatterternary\":[{\"type\":\"scatterternary\",\"marker\":{\"colorbar\":{\"outlinewidth\":0,\"ticks\":\"\"}}}],\"scattercarpet\":[{\"type\":\"scattercarpet\",\"marker\":{\"colorbar\":{\"outlinewidth\":0,\"ticks\":\"\"}}}],\"carpet\":[{\"aaxis\":{\"endlinecolor\":\"#2a3f5f\",\"gridcolor\":\"white\",\"linecolor\":\"white\",\"minorgridcolor\":\"white\",\"startlinecolor\":\"#2a3f5f\"},\"baxis\":{\"endlinecolor\":\"#2a3f5f\",\"gridcolor\":\"white\",\"linecolor\":\"white\",\"minorgridcolor\":\"white\",\"startlinecolor\":\"#2a3f5f\"},\"type\":\"carpet\"}],\"table\":[{\"cells\":{\"fill\":{\"color\":\"#EBF0F8\"},\"line\":{\"color\":\"white\"}},\"header\":{\"fill\":{\"color\":\"#C8D4E3\"},\"line\":{\"color\":\"white\"}},\"type\":\"table\"}],\"barpolar\":[{\"marker\":{\"line\":{\"color\":\"#E5ECF6\",\"width\":0.5},\"pattern\":{\"fillmode\":\"overlay\",\"size\":10,\"solidity\":0.2}},\"type\":\"barpolar\"}],\"pie\":[{\"automargin\":true,\"type\":\"pie\"}]},\"layout\":{\"autotypenumbers\":\"strict\",\"colorway\":[\"#636efa\",\"#EF553B\",\"#00cc96\",\"#ab63fa\",\"#FFA15A\",\"#19d3f3\",\"#FF6692\",\"#B6E880\",\"#FF97FF\",\"#FECB52\"],\"font\":{\"color\":\"#2a3f5f\"},\"hovermode\":\"closest\",\"hoverlabel\":{\"align\":\"left\"},\"paper_bgcolor\":\"white\",\"plot_bgcolor\":\"#E5ECF6\",\"polar\":{\"bgcolor\":\"#E5ECF6\",\"angularaxis\":{\"gridcolor\":\"white\",\"linecolor\":\"white\",\"ticks\":\"\"},\"radialaxis\":{\"gridcolor\":\"white\",\"linecolor\":\"white\",\"ticks\":\"\"}},\"ternary\":{\"bgcolor\":\"#E5ECF6\",\"aaxis\":{\"gridcolor\":\"white\",\"linecolor\":\"white\",\"ticks\":\"\"},\"baxis\":{\"gridcolor\":\"white\",\"linecolor\":\"white\",\"ticks\":\"\"},\"caxis\":{\"gridcolor\":\"white\",\"linecolor\":\"white\",\"ticks\":\"\"}},\"coloraxis\":{\"colorbar\":{\"outlinewidth\":0,\"ticks\":\"\"}},\"colorscale\":{\"sequential\":[[0.0,\"#0d0887\"],[0.1111111111111111,\"#46039f\"],[0.2222222222222222,\"#7201a8\"],[0.3333333333333333,\"#9c179e\"],[0.4444444444444444,\"#bd3786\"],[0.5555555555555556,\"#d8576b\"],[0.6666666666666666,\"#ed7953\"],[0.7777777777777778,\"#fb9f3a\"],[0.8888888888888888,\"#fdca26\"],[1.0,\"#f0f921\"]],\"sequentialminus\":[[0.0,\"#0d0887\"],[0.1111111111111111,\"#46039f\"],[0.2222222222222222,\"#7201a8\"],[0.3333333333333333,\"#9c179e\"],[0.4444444444444444,\"#bd3786\"],[0.5555555555555556,\"#d8576b\"],[0.6666666666666666,\"#ed7953\"],[0.7777777777777778,\"#fb9f3a\"],[0.8888888888888888,\"#fdca26\"],[1.0,\"#f0f921\"]],\"diverging\":[[0,\"#8e0152\"],[0.1,\"#c51b7d\"],[0.2,\"#de77ae\"],[0.3,\"#f1b6da\"],[0.4,\"#fde0ef\"],[0.5,\"#f7f7f7\"],[0.6,\"#e6f5d0\"],[0.7,\"#b8e186\"],[0.8,\"#7fbc41\"],[0.9,\"#4d9221\"],[1,\"#276419\"]]},\"xaxis\":{\"gridcolor\":\"white\",\"linecolor\":\"white\",\"ticks\":\"\",\"title\":{\"standoff\":15},\"zerolinecolor\":\"white\",\"automargin\":true,\"zerolinewidth\":2},\"yaxis\":{\"gridcolor\":\"white\",\"linecolor\":\"white\",\"ticks\":\"\",\"title\":{\"standoff\":15},\"zerolinecolor\":\"white\",\"automargin\":true,\"zerolinewidth\":2},\"scene\":{\"xaxis\":{\"backgroundcolor\":\"#E5ECF6\",\"gridcolor\":\"white\",\"linecolor\":\"white\",\"showbackground\":true,\"ticks\":\"\",\"zerolinecolor\":\"white\",\"gridwidth\":2},\"yaxis\":{\"backgroundcolor\":\"#E5ECF6\",\"gridcolor\":\"white\",\"linecolor\":\"white\",\"showbackground\":true,\"ticks\":\"\",\"zerolinecolor\":\"white\",\"gridwidth\":2},\"zaxis\":{\"backgroundcolor\":\"#E5ECF6\",\"gridcolor\":\"white\",\"linecolor\":\"white\",\"showbackground\":true,\"ticks\":\"\",\"zerolinecolor\":\"white\",\"gridwidth\":2}},\"shapedefaults\":{\"line\":{\"color\":\"#2a3f5f\"}},\"annotationdefaults\":{\"arrowcolor\":\"#2a3f5f\",\"arrowhead\":0,\"arrowwidth\":1},\"geo\":{\"bgcolor\":\"white\",\"landcolor\":\"#E5ECF6\",\"subunitcolor\":\"white\",\"showland\":true,\"showlakes\":true,\"lakecolor\":\"white\"},\"title\":{\"x\":0.05},\"mapbox\":{\"style\":\"light\"}}},\"title\":{\"text\":\"Cost Landscape\",\"x\":0.5,\"y\":0.9},\"xaxis\":{\"title\":{\"text\":\"Negative electrode active material volume fraction\"},\"range\":[0.5,0.8]},\"yaxis\":{\"title\":{\"text\":\"Positive electrode active material volume fraction\"},\"range\":[0.4,0.7]},\"width\":600,\"height\":600},                        {\"responsive\": true}                    ).then(function(){\n",
       "                            \n",
       "var gd = document.getElementById('243f828c-72f9-4614-9288-bf21e2a6a768');\n",
       "var x = new MutationObserver(function (mutations, observer) {{\n",
       "        var display = window.getComputedStyle(gd).display;\n",
       "        if (!display || display === 'none') {{\n",
       "            console.log([gd, 'removed!']);\n",
       "            Plotly.purge(gd);\n",
       "            observer.disconnect();\n",
       "        }}\n",
       "}});\n",
       "\n",
       "// Listen for the removal of the full notebook cells\n",
       "var notebookContainer = gd.closest('#notebook-container');\n",
       "if (notebookContainer) {{\n",
       "    x.observe(notebookContainer, {childList: true});\n",
       "}}\n",
       "\n",
       "// Listen for the clearing of the current output cell\n",
       "var outputEl = gd.closest('.output');\n",
       "if (outputEl) {{\n",
       "    x.observe(outputEl, {childList: true});\n",
       "}}\n",
       "\n",
       "                        })                };                });            </script>        </div>"
      ]
     },
     "metadata": {},
     "output_type": "display_data"
    },
    {
     "data": {
      "application/vnd.plotly.v1+json": {
       "config": {
        "plotlyServerURL": "https://plot.ly"
       },
       "data": [
        {
         "autocontour": true,
         "contours": {
          "end": 2.4000000000000004,
          "size": 0.2,
          "start": 0.2
         },
         "type": "contour",
         "x": [
          0.6,
          0.6214285714285714,
          0.6428571428571428,
          0.6642857142857143,
          0.6857142857142857,
          0.7071428571428572,
          0.7285714285714285,
          0.75,
          0.7714285714285715,
          0.7928571428571429,
          0.8142857142857143,
          0.8357142857142857,
          0.8571428571428572,
          0.8785714285714286,
          0.9
         ],
         "y": [
          0.5,
          0.5214285714285715,
          0.5428571428571428,
          0.5642857142857143,
          0.5857142857142857,
          0.6071428571428572,
          0.6285714285714286,
          0.65,
          0.6714285714285715,
          0.6928571428571428,
          0.7142857142857143,
          0.7357142857142858,
          0.7571428571428571,
          0.7785714285714287,
          0.8
         ],
         "z": [
          [
           2.512387532707103,
           2.371298813085517,
           2.2558321975617517,
           2.158630246032394,
           2.0741022900040287,
           1.998529830043667,
           1.9295639391341424,
           1.865727237318272,
           1.806070016754138,
           1.7499510347149512,
           1.6969182822430204,
           1.6466420920680112,
           1.5988634613863824,
           1.5533742166640172,
           1.5100006243691226
          ],
          [
           1.82357007063377,
           1.7040037722169434,
           1.6065779445659214,
           1.524839555358202,
           1.4539765997853684,
           1.390819997038458,
           1.3333779972526478,
           1.280400038127518,
           1.2310767688590611,
           1.184859360377806,
           1.1413635773941082,
           1.1002998747366666,
           1.0614427055575446,
           1.024629766954292,
           0.9896440179987216
          ],
          [
           1.2973902183702086,
           1.1970362940827597,
           1.1157551452027332,
           1.0478953052032811,
           0.9893255622025444,
           0.9373581297360792,
           0.8903143839801327,
           0.8471428320951687,
           0.8071557015664116,
           0.7698919043973902,
           0.7350191943562332,
           0.7022879123385447,
           0.6715188536256755,
           0.6425149398540935,
           0.615142653413343
          ],
          [
           0.8971894205780748,
           0.8140495530205606,
           0.7472849709488225,
           0.6919473241303125,
           0.6445012678060944,
           0.6026804105884203,
           0.5650817829045172,
           0.5308227535661557,
           0.4993318705618834,
           0.47021738927327217,
           0.4431966107246157,
           0.4180543837102393,
           0.39463355929050353,
           0.3727515270893397,
           0.3523276400633306
          ],
          [
           0.5953667443753835,
           0.5277866076308557,
           0.47418616656261287,
           0.43024151746787787,
           0.392944070248512,
           0.3603998098718084,
           0.3314476461442359,
           0.3053581497190951,
           0.2816586698394383,
           0.2600214447988958,
           0.24020729608549085,
           0.2220431491130888,
           0.2053575444825166,
           0.1900304869916861,
           0.17597227291494225
          ],
          [
           0.3716484274698599,
           0.3182858556996577,
           0.2767448813715213,
           0.2432649241330761,
           0.21531018816710276,
           0.19132074969446755,
           0.17035002887570982,
           0.15180970038039465,
           0.13531324737252673,
           0.12059108293607568,
           0.10745161258086793,
           0.09572135380931732,
           0.08528155318207993,
           0.07601994242902527,
           0.0678529261961639
          ],
          [
           0.21130104089725577,
           0.171060023569674,
           0.14066883291803392,
           0.11688278087161628,
           0.0975968734035832,
           0.08155439193482193,
           0.06800575909996628,
           0.05648838304744738,
           0.04669583409995397,
           0.03841643567820744,
           0.031475134422409415,
           0.025747053258806933,
           0.02112157946895544,
           0.017510851850942786,
           0.014830947841062106
          ],
          [
           0.1033316981411799,
           0.0753118501423817,
           0.05530978458387847,
           0.04056986238589816,
           0.029381963059514512,
           0.02076800803579361,
           0.01416190758396456,
           0.00921573993637305,
           0.00569724648267642,
           0.0034397168732752943,
           0.002308786826042704,
           0.002199754773989806,
           0.003022342694691581,
           0.004697242140656195,
           0.007154636194086497
          ],
          [
           0.039323755785290695,
           0.02276177589068047,
           0.01251265601669638,
           0.006264782564127162,
           0.0026825312880173267,
           0.0010476006543783277,
           0.0009656900885448692,
           0.0021956823802934513,
           0.004572773499663965,
           0.007977213626313791,
           0.012308325737615,
           0.01748151091980506,
           0.023425367785082973,
           0.030069184413234418,
           0.03735590490772675
          ],
          [
           0.012625818594881724,
           0.0068734625909305696,
           0.005823566258107555,
           0.00758178738606211,
           0.01117107045751473,
           0.016118858707746212,
           0.02218426343942576,
           0.02924946436830988,
           0.03718418679871344,
           0.04593035404612179,
           0.055412461703686064,
           0.06557126423060901,
           0.0763401046611927,
           0.08766947099463915,
           0.0995101040479805
          ],
          [
           0.01781882868165533,
           0.022310878521320715,
           0.02997327408702367,
           0.03930835528128833,
           0.04968417030931828,
           0.06085854994771867,
           0.07273880976258898,
           0.08531120322465058,
           0.09850966080911933,
           0.11230578227028136,
           0.1266571971617331,
           0.14152622440387644,
           0.15685793233581324,
           0.17261604460503727,
           0.18876078730843815
          ],
          [
           0.05036782610566616,
           0.06460236170512208,
           0.08053159777561539,
           0.09706770573038943,
           0.11388035717521051,
           0.13095736202330166,
           0.14836047035221037,
           0.1661428198289788,
           0.1843220764047806,
           0.20290085340844236,
           0.22186335196751877,
           0.24119224553950053,
           0.2608442413477098,
           0.28079541568480715,
           0.3010150226987527
          ],
          [
           0.10639274034152972,
           0.12991662993905695,
           0.15372316448357456,
           0.17710212663502636,
           0.2000308103874602,
           0.22271228420996347,
           0.24534834499911395,
           0.26806236516945575,
           0.29098508053972594,
           0.31409909942883674,
           0.3374336205756997,
           0.36099082292981893,
           0.3847381323547639,
           0.4086640220691059,
           0.4327460882743081
          ],
          [
           0.18251545369095343,
           0.2149136508995438,
           0.2462336241424864,
           0.27613019076807765,
           0.30487741302521115,
           0.3328863822608173,
           0.36049373767814186,
           0.3879070372485962,
           0.4153166994456581,
           0.44273525652518225,
           0.4702187149288315,
           0.4977876342538176,
           0.52542071794533,
           0.5531174713327137,
           0.5808636802299922
          ],
          [
           0.2757559638195207,
           0.316643561351556,
           0.35513860744586945,
           0.3912495306049447,
           0.4255371894499693,
           0.45861417382864017,
           0.4909475299913653,
           0.5228265555067318,
           0.5544979706808109,
           0.5860044176884744,
           0.6174273239338263,
           0.6488047668541456,
           0.6801266053728969,
           0.711402743898814,
           0.7426268079208163
          ]
         ]
        },
        {
         "marker": {
          "color": "red",
          "line": {
           "color": "midnightblue",
           "width": 1
          },
          "showscale": false,
          "size": 12,
          "symbol": "x"
         },
         "mode": "markers",
         "showlegend": false,
         "type": "scatter",
         "x": [
          0.5854606983552765
         ],
         "y": [
          0.47071341235858943
         ]
        },
        {
         "marker": {
          "color": [
           0,
           0.02564102564102564,
           0.05128205128205128,
           0.07692307692307693,
           0.10256410256410256,
           0.1282051282051282,
           0.15384615384615383,
           0.1794871794871795,
           0.20512820512820512,
           0.2307692307692308,
           0.2564102564102564,
           0.28205128205128205,
           0.3076923076923077,
           0.3333333333333333,
           0.358974358974359,
           0.38461538461538464,
           0.41025641025641024,
           0.4358974358974359,
           0.4615384615384616,
           0.4871794871794872,
           0.5128205128205128,
           0.5384615384615384,
           0.5641025641025641,
           0.5897435897435898,
           0.6153846153846154,
           0.6410256410256411,
           0.6666666666666666,
           0.6923076923076923,
           0.717948717948718,
           0.7435897435897436,
           0.7692307692307693,
           0.7948717948717948,
           0.8205128205128205,
           0.8461538461538461,
           0.8717948717948718,
           0.8974358974358975,
           0.9230769230769232,
           0.9487179487179488,
           0.9743589743589745
          ],
          "colorscale": [
           [
            0,
            "rgb(255,255,229)"
           ],
           [
            0.125,
            "rgb(255,247,188)"
           ],
           [
            0.25,
            "rgb(254,227,145)"
           ],
           [
            0.375,
            "rgb(254,196,79)"
           ],
           [
            0.5,
            "rgb(254,153,41)"
           ],
           [
            0.625,
            "rgb(236,112,20)"
           ],
           [
            0.75,
            "rgb(204,76,2)"
           ],
           [
            0.875,
            "rgb(153,52,4)"
           ],
           [
            1,
            "rgb(102,37,6)"
           ]
          ],
          "showscale": false
         },
         "mode": "markers",
         "showlegend": false,
         "type": "scatter",
         "x": [
          0.5854606983552765,
          0.7423651689898498,
          0.8534295929321716,
          0.929641049309509,
          0.97780539714648,
          1.00319194213445,
          1.0099773594523638,
          1.0015309777501544,
          0.9806647002030584,
          0.9498503015869976,
          0.9114165964729012,
          0.8677450294701005,
          0.8214793378491715,
          0.7757463500014091,
          0.7343301909504216,
          0.7016152836183076,
          0.6818702366758884,
          0.6773793580126345,
          0.6866524363240337,
          0.7053104783538886,
          0.7283672883752498,
          0.7515380920732153,
          0.771597195464243,
          0.7863729014298443,
          0.7946257570699398,
          0.7958920222704288,
          0.7903364351247087,
          0.778637204705584,
          0.7619095097721903,
          0.7416605917559185,
          0.7197604503711271,
          0.6983996939110517,
          0.6799909584812125,
          0.6669228472371665,
          0.6610453647308699,
          0.6629717504072878,
          0.6717320846673271,
          0.6851769130209538,
          0.7007531193703675
         ],
         "y": [
          0.47071341235858943,
          0.627617883115226,
          0.7401486418133868,
          0.8163569109209738,
          0.8638557811679324,
          0.8887212026453712,
          0.8954759535080488,
          0.8874771958293967,
          0.8673184555865409,
          0.8371651816089553,
          0.799041218553892,
          0.7551012720205535,
          0.7079231719213461,
          0.6608408774719994,
          0.6182756239957282,
          0.5857695837890812,
          0.5688340000925769,
          0.5699956355437192,
          0.5868697231746707,
          0.6139850025289205,
          0.6454996222512103,
          0.6765687585760977,
          0.7036991761074721,
          0.7246811357504079,
          0.7383681177820396,
          0.744430276159587,
          0.7431497316148101,
          0.7352822751177693,
          0.7219829153135375,
          0.7047762150107635,
          0.6855414999087588,
          0.6664650302254246,
          0.6498961973765655,
          0.6380375580122912,
          0.6324671472800969,
          0.633662656994411,
          0.6408302013997966,
          0.6521817962940387,
          0.6654721854392738
         ]
        }
       ],
       "layout": {
        "height": 600,
        "template": {
         "data": {
          "bar": [
           {
            "error_x": {
             "color": "#2a3f5f"
            },
            "error_y": {
             "color": "#2a3f5f"
            },
            "marker": {
             "line": {
              "color": "#E5ECF6",
              "width": 0.5
             },
             "pattern": {
              "fillmode": "overlay",
              "size": 10,
              "solidity": 0.2
             }
            },
            "type": "bar"
           }
          ],
          "barpolar": [
           {
            "marker": {
             "line": {
              "color": "#E5ECF6",
              "width": 0.5
             },
             "pattern": {
              "fillmode": "overlay",
              "size": 10,
              "solidity": 0.2
             }
            },
            "type": "barpolar"
           }
          ],
          "carpet": [
           {
            "aaxis": {
             "endlinecolor": "#2a3f5f",
             "gridcolor": "white",
             "linecolor": "white",
             "minorgridcolor": "white",
             "startlinecolor": "#2a3f5f"
            },
            "baxis": {
             "endlinecolor": "#2a3f5f",
             "gridcolor": "white",
             "linecolor": "white",
             "minorgridcolor": "white",
             "startlinecolor": "#2a3f5f"
            },
            "type": "carpet"
           }
          ],
          "choropleth": [
           {
            "colorbar": {
             "outlinewidth": 0,
             "ticks": ""
            },
            "type": "choropleth"
           }
          ],
          "contour": [
           {
            "colorbar": {
             "outlinewidth": 0,
             "ticks": ""
            },
            "colorscale": [
             [
              0,
              "#0d0887"
             ],
             [
              0.1111111111111111,
              "#46039f"
             ],
             [
              0.2222222222222222,
              "#7201a8"
             ],
             [
              0.3333333333333333,
              "#9c179e"
             ],
             [
              0.4444444444444444,
              "#bd3786"
             ],
             [
              0.5555555555555556,
              "#d8576b"
             ],
             [
              0.6666666666666666,
              "#ed7953"
             ],
             [
              0.7777777777777778,
              "#fb9f3a"
             ],
             [
              0.8888888888888888,
              "#fdca26"
             ],
             [
              1,
              "#f0f921"
             ]
            ],
            "type": "contour"
           }
          ],
          "contourcarpet": [
           {
            "colorbar": {
             "outlinewidth": 0,
             "ticks": ""
            },
            "type": "contourcarpet"
           }
          ],
          "heatmap": [
           {
            "colorbar": {
             "outlinewidth": 0,
             "ticks": ""
            },
            "colorscale": [
             [
              0,
              "#0d0887"
             ],
             [
              0.1111111111111111,
              "#46039f"
             ],
             [
              0.2222222222222222,
              "#7201a8"
             ],
             [
              0.3333333333333333,
              "#9c179e"
             ],
             [
              0.4444444444444444,
              "#bd3786"
             ],
             [
              0.5555555555555556,
              "#d8576b"
             ],
             [
              0.6666666666666666,
              "#ed7953"
             ],
             [
              0.7777777777777778,
              "#fb9f3a"
             ],
             [
              0.8888888888888888,
              "#fdca26"
             ],
             [
              1,
              "#f0f921"
             ]
            ],
            "type": "heatmap"
           }
          ],
          "heatmapgl": [
           {
            "colorbar": {
             "outlinewidth": 0,
             "ticks": ""
            },
            "colorscale": [
             [
              0,
              "#0d0887"
             ],
             [
              0.1111111111111111,
              "#46039f"
             ],
             [
              0.2222222222222222,
              "#7201a8"
             ],
             [
              0.3333333333333333,
              "#9c179e"
             ],
             [
              0.4444444444444444,
              "#bd3786"
             ],
             [
              0.5555555555555556,
              "#d8576b"
             ],
             [
              0.6666666666666666,
              "#ed7953"
             ],
             [
              0.7777777777777778,
              "#fb9f3a"
             ],
             [
              0.8888888888888888,
              "#fdca26"
             ],
             [
              1,
              "#f0f921"
             ]
            ],
            "type": "heatmapgl"
           }
          ],
          "histogram": [
           {
            "marker": {
             "pattern": {
              "fillmode": "overlay",
              "size": 10,
              "solidity": 0.2
             }
            },
            "type": "histogram"
           }
          ],
          "histogram2d": [
           {
            "colorbar": {
             "outlinewidth": 0,
             "ticks": ""
            },
            "colorscale": [
             [
              0,
              "#0d0887"
             ],
             [
              0.1111111111111111,
              "#46039f"
             ],
             [
              0.2222222222222222,
              "#7201a8"
             ],
             [
              0.3333333333333333,
              "#9c179e"
             ],
             [
              0.4444444444444444,
              "#bd3786"
             ],
             [
              0.5555555555555556,
              "#d8576b"
             ],
             [
              0.6666666666666666,
              "#ed7953"
             ],
             [
              0.7777777777777778,
              "#fb9f3a"
             ],
             [
              0.8888888888888888,
              "#fdca26"
             ],
             [
              1,
              "#f0f921"
             ]
            ],
            "type": "histogram2d"
           }
          ],
          "histogram2dcontour": [
           {
            "colorbar": {
             "outlinewidth": 0,
             "ticks": ""
            },
            "colorscale": [
             [
              0,
              "#0d0887"
             ],
             [
              0.1111111111111111,
              "#46039f"
             ],
             [
              0.2222222222222222,
              "#7201a8"
             ],
             [
              0.3333333333333333,
              "#9c179e"
             ],
             [
              0.4444444444444444,
              "#bd3786"
             ],
             [
              0.5555555555555556,
              "#d8576b"
             ],
             [
              0.6666666666666666,
              "#ed7953"
             ],
             [
              0.7777777777777778,
              "#fb9f3a"
             ],
             [
              0.8888888888888888,
              "#fdca26"
             ],
             [
              1,
              "#f0f921"
             ]
            ],
            "type": "histogram2dcontour"
           }
          ],
          "mesh3d": [
           {
            "colorbar": {
             "outlinewidth": 0,
             "ticks": ""
            },
            "type": "mesh3d"
           }
          ],
          "parcoords": [
           {
            "line": {
             "colorbar": {
              "outlinewidth": 0,
              "ticks": ""
             }
            },
            "type": "parcoords"
           }
          ],
          "pie": [
           {
            "automargin": true,
            "type": "pie"
           }
          ],
          "scatter": [
           {
            "fillpattern": {
             "fillmode": "overlay",
             "size": 10,
             "solidity": 0.2
            },
            "type": "scatter"
           }
          ],
          "scatter3d": [
           {
            "line": {
             "colorbar": {
              "outlinewidth": 0,
              "ticks": ""
             }
            },
            "marker": {
             "colorbar": {
              "outlinewidth": 0,
              "ticks": ""
             }
            },
            "type": "scatter3d"
           }
          ],
          "scattercarpet": [
           {
            "marker": {
             "colorbar": {
              "outlinewidth": 0,
              "ticks": ""
             }
            },
            "type": "scattercarpet"
           }
          ],
          "scattergeo": [
           {
            "marker": {
             "colorbar": {
              "outlinewidth": 0,
              "ticks": ""
             }
            },
            "type": "scattergeo"
           }
          ],
          "scattergl": [
           {
            "marker": {
             "colorbar": {
              "outlinewidth": 0,
              "ticks": ""
             }
            },
            "type": "scattergl"
           }
          ],
          "scattermapbox": [
           {
            "marker": {
             "colorbar": {
              "outlinewidth": 0,
              "ticks": ""
             }
            },
            "type": "scattermapbox"
           }
          ],
          "scatterpolar": [
           {
            "marker": {
             "colorbar": {
              "outlinewidth": 0,
              "ticks": ""
             }
            },
            "type": "scatterpolar"
           }
          ],
          "scatterpolargl": [
           {
            "marker": {
             "colorbar": {
              "outlinewidth": 0,
              "ticks": ""
             }
            },
            "type": "scatterpolargl"
           }
          ],
          "scatterternary": [
           {
            "marker": {
             "colorbar": {
              "outlinewidth": 0,
              "ticks": ""
             }
            },
            "type": "scatterternary"
           }
          ],
          "surface": [
           {
            "colorbar": {
             "outlinewidth": 0,
             "ticks": ""
            },
            "colorscale": [
             [
              0,
              "#0d0887"
             ],
             [
              0.1111111111111111,
              "#46039f"
             ],
             [
              0.2222222222222222,
              "#7201a8"
             ],
             [
              0.3333333333333333,
              "#9c179e"
             ],
             [
              0.4444444444444444,
              "#bd3786"
             ],
             [
              0.5555555555555556,
              "#d8576b"
             ],
             [
              0.6666666666666666,
              "#ed7953"
             ],
             [
              0.7777777777777778,
              "#fb9f3a"
             ],
             [
              0.8888888888888888,
              "#fdca26"
             ],
             [
              1,
              "#f0f921"
             ]
            ],
            "type": "surface"
           }
          ],
          "table": [
           {
            "cells": {
             "fill": {
              "color": "#EBF0F8"
             },
             "line": {
              "color": "white"
             }
            },
            "header": {
             "fill": {
              "color": "#C8D4E3"
             },
             "line": {
              "color": "white"
             }
            },
            "type": "table"
           }
          ]
         },
         "layout": {
          "annotationdefaults": {
           "arrowcolor": "#2a3f5f",
           "arrowhead": 0,
           "arrowwidth": 1
          },
          "autotypenumbers": "strict",
          "coloraxis": {
           "colorbar": {
            "outlinewidth": 0,
            "ticks": ""
           }
          },
          "colorscale": {
           "diverging": [
            [
             0,
             "#8e0152"
            ],
            [
             0.1,
             "#c51b7d"
            ],
            [
             0.2,
             "#de77ae"
            ],
            [
             0.3,
             "#f1b6da"
            ],
            [
             0.4,
             "#fde0ef"
            ],
            [
             0.5,
             "#f7f7f7"
            ],
            [
             0.6,
             "#e6f5d0"
            ],
            [
             0.7,
             "#b8e186"
            ],
            [
             0.8,
             "#7fbc41"
            ],
            [
             0.9,
             "#4d9221"
            ],
            [
             1,
             "#276419"
            ]
           ],
           "sequential": [
            [
             0,
             "#0d0887"
            ],
            [
             0.1111111111111111,
             "#46039f"
            ],
            [
             0.2222222222222222,
             "#7201a8"
            ],
            [
             0.3333333333333333,
             "#9c179e"
            ],
            [
             0.4444444444444444,
             "#bd3786"
            ],
            [
             0.5555555555555556,
             "#d8576b"
            ],
            [
             0.6666666666666666,
             "#ed7953"
            ],
            [
             0.7777777777777778,
             "#fb9f3a"
            ],
            [
             0.8888888888888888,
             "#fdca26"
            ],
            [
             1,
             "#f0f921"
            ]
           ],
           "sequentialminus": [
            [
             0,
             "#0d0887"
            ],
            [
             0.1111111111111111,
             "#46039f"
            ],
            [
             0.2222222222222222,
             "#7201a8"
            ],
            [
             0.3333333333333333,
             "#9c179e"
            ],
            [
             0.4444444444444444,
             "#bd3786"
            ],
            [
             0.5555555555555556,
             "#d8576b"
            ],
            [
             0.6666666666666666,
             "#ed7953"
            ],
            [
             0.7777777777777778,
             "#fb9f3a"
            ],
            [
             0.8888888888888888,
             "#fdca26"
            ],
            [
             1,
             "#f0f921"
            ]
           ]
          },
          "colorway": [
           "#636efa",
           "#EF553B",
           "#00cc96",
           "#ab63fa",
           "#FFA15A",
           "#19d3f3",
           "#FF6692",
           "#B6E880",
           "#FF97FF",
           "#FECB52"
          ],
          "font": {
           "color": "#2a3f5f"
          },
          "geo": {
           "bgcolor": "white",
           "lakecolor": "white",
           "landcolor": "#E5ECF6",
           "showlakes": true,
           "showland": true,
           "subunitcolor": "white"
          },
          "hoverlabel": {
           "align": "left"
          },
          "hovermode": "closest",
          "mapbox": {
           "style": "light"
          },
          "paper_bgcolor": "white",
          "plot_bgcolor": "#E5ECF6",
          "polar": {
           "angularaxis": {
            "gridcolor": "white",
            "linecolor": "white",
            "ticks": ""
           },
           "bgcolor": "#E5ECF6",
           "radialaxis": {
            "gridcolor": "white",
            "linecolor": "white",
            "ticks": ""
           }
          },
          "scene": {
           "xaxis": {
            "backgroundcolor": "#E5ECF6",
            "gridcolor": "white",
            "gridwidth": 2,
            "linecolor": "white",
            "showbackground": true,
            "ticks": "",
            "zerolinecolor": "white"
           },
           "yaxis": {
            "backgroundcolor": "#E5ECF6",
            "gridcolor": "white",
            "gridwidth": 2,
            "linecolor": "white",
            "showbackground": true,
            "ticks": "",
            "zerolinecolor": "white"
           },
           "zaxis": {
            "backgroundcolor": "#E5ECF6",
            "gridcolor": "white",
            "gridwidth": 2,
            "linecolor": "white",
            "showbackground": true,
            "ticks": "",
            "zerolinecolor": "white"
           }
          },
          "shapedefaults": {
           "line": {
            "color": "#2a3f5f"
           }
          },
          "ternary": {
           "aaxis": {
            "gridcolor": "white",
            "linecolor": "white",
            "ticks": ""
           },
           "baxis": {
            "gridcolor": "white",
            "linecolor": "white",
            "ticks": ""
           },
           "bgcolor": "#E5ECF6",
           "caxis": {
            "gridcolor": "white",
            "linecolor": "white",
            "ticks": ""
           }
          },
          "title": {
           "x": 0.05
          },
          "xaxis": {
           "automargin": true,
           "gridcolor": "white",
           "linecolor": "white",
           "ticks": "",
           "title": {
            "standoff": 15
           },
           "zerolinecolor": "white",
           "zerolinewidth": 2
          },
          "yaxis": {
           "automargin": true,
           "gridcolor": "white",
           "linecolor": "white",
           "ticks": "",
           "title": {
            "standoff": 15
           },
           "zerolinecolor": "white",
           "zerolinewidth": 2
          }
         }
        },
        "title": {
         "text": "Cost Landscape",
         "x": 0.5,
         "y": 0.9
        },
        "width": 600,
        "xaxis": {
         "range": [
          0.6,
          0.9
         ],
         "title": {
          "text": "Negative electrode active material volume fraction"
         },
         "type": "linear"
        },
        "yaxis": {
         "range": [
          0.5,
          0.8
         ],
         "title": {
          "text": "Positive electrode active material volume fraction"
         },
         "type": "linear"
        }
       }
      },
      "image/png": "[encoded data removed]",
      "text/html": [
       "<div>                            <div id=\"6894156d-37d9-407f-a67a-7ddb889c0640\" class=\"plotly-graph-div\" style=\"height:600px; width:600px;\"></div>            <script type=\"text/javascript\">                require([\"plotly\"], function(Plotly) {                    window.PLOTLYENV=window.PLOTLYENV || {};                                    if (document.getElementById(\"6894156d-37d9-407f-a67a-7ddb889c0640\")) {                    Plotly.newPlot(                        \"6894156d-37d9-407f-a67a-7ddb889c0640\",                        [{\"x\":[0.6,0.6214285714285714,0.6428571428571428,0.6642857142857143,0.6857142857142857,0.7071428571428572,0.7285714285714285,0.75,0.7714285714285715,0.7928571428571429,0.8142857142857143,0.8357142857142857,0.8571428571428572,0.8785714285714286,0.9],\"y\":[0.5,0.5214285714285715,0.5428571428571428,0.5642857142857143,0.5857142857142857,0.6071428571428572,0.6285714285714286,0.65,0.6714285714285715,0.6928571428571428,0.7142857142857143,0.7357142857142858,0.7571428571428571,0.7785714285714287,0.8],\"z\":[[2.512387532707103,2.371298813085517,2.2558321975617517,2.158630246032394,2.0741022900040287,1.9985298300436667,1.9295639391341426,1.865727237318272,1.8060700167541381,1.7499510347149512,1.6969182822430204,1.6466420920680112,1.5988634613863824,1.5533742166640172,1.5100006243691226],[1.82357007063377,1.7040037722169434,1.6065779445659214,1.524839555358202,1.4539765997853684,1.390819997038458,1.3333779972526478,1.280400038127518,1.2310767688590611,1.1848593603778061,1.1413635773941082,1.1002998747366666,1.0614427055575446,1.0246297669542919,0.9896440179987215],[1.2973902183702086,1.1970362940827597,1.1157551452027332,1.0478953052032813,0.9893255622025444,0.9373581297360793,0.8903143839801327,0.8471428320951687,0.8071557015664116,0.7698919043973902,0.7350191943562332,0.7022879123385447,0.6715188536256755,0.6425149398540935,0.615142653413343],[0.8971894205780748,0.8140495530205606,0.7472849709488225,0.6919473241303125,0.6445012678060944,0.6026804105884203,0.5650817829045172,0.5308227535661557,0.49933187056188333,0.47021738927327217,0.4431966107246157,0.4180543837102393,0.39463355929050353,0.3727515270893397,0.3523276400633306],[0.5953667443753835,0.5277866076308557,0.47418616656261287,0.43024151746787787,0.39294407024851197,0.3603998098718084,0.3314476461442359,0.3053581497190951,0.2816586698394383,0.2600214447988958,0.24020729608549085,0.22204314911308878,0.20535754448251659,0.19003048699168607,0.17597227291494225],[0.3716484274698599,0.3182858556996577,0.2767448813715213,0.2432649241330761,0.21531018816710276,0.19132074969446755,0.17035002887570982,0.15180970038039465,0.13531324737252673,0.12059108293607568,0.10745161258086791,0.09572135380931732,0.08528155318207993,0.07601994242902527,0.0678529261961639],[0.21130104089725577,0.171060023569674,0.14066883291803392,0.11688278087161627,0.0975968734035832,0.08155439193482193,0.06800575909996628,0.05648838304744738,0.04669583409995397,0.03841643567820744,0.031475134422409415,0.025747053258806933,0.021121579468955442,0.017510851850942786,0.014830947841062106],[0.1033316981411799,0.0753118501423817,0.05530978458387847,0.04056986238589816,0.029381963059514512,0.02076800803579361,0.014161907583964559,0.00921573993637305,0.00569724648267642,0.0034397168732752943,0.002308786826042704,0.0021997547739898054,0.003022342694691581,0.004697242140656195,0.007154636194086497],[0.039323755785290695,0.02276177589068047,0.01251265601669638,0.006264782564127162,0.0026825312880173267,0.0010476006543783277,0.0009656900885448693,0.0021956823802934513,0.004572773499663965,0.007977213626313791,0.012308325737614999,0.01748151091980506,0.023425367785082973,0.030069184413234414,0.03735590490772675],[0.012625818594881724,0.0068734625909305696,0.005823566258107555,0.00758178738606211,0.01117107045751473,0.016118858707746212,0.02218426343942576,0.02924946436830988,0.03718418679871344,0.04593035404612179,0.055412461703686064,0.06557126423060901,0.0763401046611927,0.08766947099463915,0.0995101040479805],[0.01781882868165533,0.022310878521320715,0.029973274087023674,0.03930835528128833,0.04968417030931828,0.06085854994771867,0.07273880976258898,0.08531120322465058,0.09850966080911933,0.11230578227028136,0.1266571971617331,0.14152622440387644,0.15685793233581324,0.17261604460503727,0.18876078730843815],[0.05036782610566616,0.06460236170512208,0.08053159777561539,0.09706770573038943,0.11388035717521051,0.13095736202330166,0.14836047035221037,0.1661428198289788,0.1843220764047806,0.20290085340844236,0.22186335196751877,0.24119224553950053,0.2608442413477098,0.28079541568480715,0.3010150226987527],[0.10639274034152973,0.12991662993905695,0.15372316448357456,0.17710212663502636,0.2000308103874602,0.22271228420996347,0.24534834499911395,0.26806236516945575,0.29098508053972594,0.31409909942883674,0.3374336205756997,0.36099082292981893,0.3847381323547639,0.4086640220691059,0.43274608827430805],[0.18251545369095346,0.2149136508995438,0.2462336241424864,0.27613019076807765,0.30487741302521115,0.3328863822608173,0.36049373767814186,0.3879070372485962,0.4153166994456581,0.44273525652518225,0.4702187149288315,0.49778763425381756,0.52542071794533,0.5531174713327137,0.5808636802299922],[0.2757559638195207,0.316643561351556,0.35513860744586945,0.3912495306049447,0.4255371894499693,0.45861417382864017,0.4909475299913653,0.5228265555067318,0.5544979706808109,0.5860044176884744,0.6174273239338263,0.6488047668541456,0.6801266053728969,0.711402743898814,0.7426268079208163]],\"type\":\"contour\"},{\"marker\":{\"color\":\"red\",\"line\":{\"color\":\"midnightblue\",\"width\":1},\"showscale\":false,\"size\":12,\"symbol\":\"x\"},\"mode\":\"markers\",\"showlegend\":false,\"x\":[0.5854606983552765],\"y\":[0.47071341235858943],\"type\":\"scatter\"},{\"marker\":{\"color\":[0.0,0.02564102564102564,0.05128205128205128,0.07692307692307693,0.10256410256410256,0.1282051282051282,0.15384615384615385,0.1794871794871795,0.20512820512820512,0.23076923076923078,0.2564102564102564,0.28205128205128205,0.3076923076923077,0.3333333333333333,0.358974358974359,0.38461538461538464,0.41025641025641024,0.4358974358974359,0.46153846153846156,0.48717948717948717,0.5128205128205128,0.5384615384615384,0.5641025641025641,0.5897435897435898,0.6153846153846154,0.6410256410256411,0.6666666666666666,0.6923076923076923,0.717948717948718,0.7435897435897436,0.7692307692307693,0.7948717948717948,0.8205128205128205,0.8461538461538461,0.8717948717948718,0.8974358974358975,0.9230769230769231,0.9487179487179487,0.9743589743589743],\"colorscale\":[[0.0,\"rgb(255,255,229)\"],[0.125,\"rgb(255,247,188)\"],[0.25,\"rgb(254,227,145)\"],[0.375,\"rgb(254,196,79)\"],[0.5,\"rgb(254,153,41)\"],[0.625,\"rgb(236,112,20)\"],[0.75,\"rgb(204,76,2)\"],[0.875,\"rgb(153,52,4)\"],[1.0,\"rgb(102,37,6)\"]],\"showscale\":false},\"mode\":\"markers\",\"showlegend\":false,\"x\":[0.5854606983552765,0.7423651689898498,0.8534295929321716,0.929641049309509,0.97780539714648,1.00319194213445,1.0099773594523638,1.0015309777501544,0.9806647002030584,0.9498503015869976,0.9114165964729012,0.8677450294701005,0.8214793378491715,0.7757463500014091,0.7343301909504216,0.7016152836183076,0.6818702366758884,0.6773793580126345,0.6866524363240337,0.7053104783538886,0.7283672883752498,0.7515380920732153,0.771597195464243,0.7863729014298443,0.7946257570699398,0.7958920222704288,0.7903364351247087,0.778637204705584,0.7619095097721903,0.7416605917559185,0.7197604503711271,0.6983996939110517,0.6799909584812125,0.6669228472371665,0.6610453647308699,0.6629717504072878,0.6717320846673271,0.6851769130209538,0.7007531193703675],\"y\":[0.47071341235858943,0.627617883115226,0.7401486418133868,0.8163569109209738,0.8638557811679324,0.8887212026453712,0.8954759535080488,0.8874771958293967,0.8673184555865409,0.8371651816089553,0.799041218553892,0.7551012720205535,0.7079231719213461,0.6608408774719994,0.6182756239957282,0.5857695837890812,0.5688340000925769,0.5699956355437192,0.5868697231746707,0.6139850025289205,0.6454996222512103,0.6765687585760977,0.7036991761074721,0.7246811357504079,0.7383681177820396,0.744430276159587,0.7431497316148101,0.7352822751177693,0.7219829153135375,0.7047762150107635,0.6855414999087588,0.6664650302254246,0.6498961973765655,0.6380375580122912,0.6324671472800969,0.633662656994411,0.6408302013997966,0.6521817962940387,0.6654721854392738],\"type\":\"scatter\"}],                        {\"template\":{\"data\":{\"histogram2dcontour\":[{\"type\":\"histogram2dcontour\",\"colorbar\":{\"outlinewidth\":0,\"ticks\":\"\"},\"colorscale\":[[0.0,\"#0d0887\"],[0.1111111111111111,\"#46039f\"],[0.2222222222222222,\"#7201a8\"],[0.3333333333333333,\"#9c179e\"],[0.4444444444444444,\"#bd3786\"],[0.5555555555555556,\"#d8576b\"],[0.6666666666666666,\"#ed7953\"],[0.7777777777777778,\"#fb9f3a\"],[0.8888888888888888,\"#fdca26\"],[1.0,\"#f0f921\"]]}],\"choropleth\":[{\"type\":\"choropleth\",\"colorbar\":{\"outlinewidth\":0,\"ticks\":\"\"}}],\"histogram2d\":[{\"type\":\"histogram2d\",\"colorbar\":{\"outlinewidth\":0,\"ticks\":\"\"},\"colorscale\":[[0.0,\"#0d0887\"],[0.1111111111111111,\"#46039f\"],[0.2222222222222222,\"#7201a8\"],[0.3333333333333333,\"#9c179e\"],[0.4444444444444444,\"#bd3786\"],[0.5555555555555556,\"#d8576b\"],[0.6666666666666666,\"#ed7953\"],[0.7777777777777778,\"#fb9f3a\"],[0.8888888888888888,\"#fdca26\"],[1.0,\"#f0f921\"]]}],\"heatmap\":[{\"type\":\"heatmap\",\"colorbar\":{\"outlinewidth\":0,\"ticks\":\"\"},\"colorscale\":[[0.0,\"#0d0887\"],[0.1111111111111111,\"#46039f\"],[0.2222222222222222,\"#7201a8\"],[0.3333333333333333,\"#9c179e\"],[0.4444444444444444,\"#bd3786\"],[0.5555555555555556,\"#d8576b\"],[0.6666666666666666,\"#ed7953\"],[0.7777777777777778,\"#fb9f3a\"],[0.8888888888888888,\"#fdca26\"],[1.0,\"#f0f921\"]]}],\"heatmapgl\":[{\"type\":\"heatmapgl\",\"colorbar\":{\"outlinewidth\":0,\"ticks\":\"\"},\"colorscale\":[[0.0,\"#0d0887\"],[0.1111111111111111,\"#46039f\"],[0.2222222222222222,\"#7201a8\"],[0.3333333333333333,\"#9c179e\"],[0.4444444444444444,\"#bd3786\"],[0.5555555555555556,\"#d8576b\"],[0.6666666666666666,\"#ed7953\"],[0.7777777777777778,\"#fb9f3a\"],[0.8888888888888888,\"#fdca26\"],[1.0,\"#f0f921\"]]}],\"contourcarpet\":[{\"type\":\"contourcarpet\",\"colorbar\":{\"outlinewidth\":0,\"ticks\":\"\"}}],\"contour\":[{\"type\":\"contour\",\"colorbar\":{\"outlinewidth\":0,\"ticks\":\"\"},\"colorscale\":[[0.0,\"#0d0887\"],[0.1111111111111111,\"#46039f\"],[0.2222222222222222,\"#7201a8\"],[0.3333333333333333,\"#9c179e\"],[0.4444444444444444,\"#bd3786\"],[0.5555555555555556,\"#d8576b\"],[0.6666666666666666,\"#ed7953\"],[0.7777777777777778,\"#fb9f3a\"],[0.8888888888888888,\"#fdca26\"],[1.0,\"#f0f921\"]]}],\"surface\":[{\"type\":\"surface\",\"colorbar\":{\"outlinewidth\":0,\"ticks\":\"\"},\"colorscale\":[[0.0,\"#0d0887\"],[0.1111111111111111,\"#46039f\"],[0.2222222222222222,\"#7201a8\"],[0.3333333333333333,\"#9c179e\"],[0.4444444444444444,\"#bd3786\"],[0.5555555555555556,\"#d8576b\"],[0.6666666666666666,\"#ed7953\"],[0.7777777777777778,\"#fb9f3a\"],[0.8888888888888888,\"#fdca26\"],[1.0,\"#f0f921\"]]}],\"mesh3d\":[{\"type\":\"mesh3d\",\"colorbar\":{\"outlinewidth\":0,\"ticks\":\"\"}}],\"scatter\":[{\"fillpattern\":{\"fillmode\":\"overlay\",\"size\":10,\"solidity\":0.2},\"type\":\"scatter\"}],\"parcoords\":[{\"type\":\"parcoords\",\"line\":{\"colorbar\":{\"outlinewidth\":0,\"ticks\":\"\"}}}],\"scatterpolargl\":[{\"type\":\"scatterpolargl\",\"marker\":{\"colorbar\":{\"outlinewidth\":0,\"ticks\":\"\"}}}],\"bar\":[{\"error_x\":{\"color\":\"#2a3f5f\"},\"error_y\":{\"color\":\"#2a3f5f\"},\"marker\":{\"line\":{\"color\":\"#E5ECF6\",\"width\":0.5},\"pattern\":{\"fillmode\":\"overlay\",\"size\":10,\"solidity\":0.2}},\"type\":\"bar\"}],\"scattergeo\":[{\"type\":\"scattergeo\",\"marker\":{\"colorbar\":{\"outlinewidth\":0,\"ticks\":\"\"}}}],\"scatterpolar\":[{\"type\":\"scatterpolar\",\"marker\":{\"colorbar\":{\"outlinewidth\":0,\"ticks\":\"\"}}}],\"histogram\":[{\"marker\":{\"pattern\":{\"fillmode\":\"overlay\",\"size\":10,\"solidity\":0.2}},\"type\":\"histogram\"}],\"scattergl\":[{\"type\":\"scattergl\",\"marker\":{\"colorbar\":{\"outlinewidth\":0,\"ticks\":\"\"}}}],\"scatter3d\":[{\"type\":\"scatter3d\",\"line\":{\"colorbar\":{\"outlinewidth\":0,\"ticks\":\"\"}},\"marker\":{\"colorbar\":{\"outlinewidth\":0,\"ticks\":\"\"}}}],\"scattermapbox\":[{\"type\":\"scattermapbox\",\"marker\":{\"colorbar\":{\"outlinewidth\":0,\"ticks\":\"\"}}}],\"scatterternary\":[{\"type\":\"scatterternary\",\"marker\":{\"colorbar\":{\"outlinewidth\":0,\"ticks\":\"\"}}}],\"scattercarpet\":[{\"type\":\"scattercarpet\",\"marker\":{\"colorbar\":{\"outlinewidth\":0,\"ticks\":\"\"}}}],\"carpet\":[{\"aaxis\":{\"endlinecolor\":\"#2a3f5f\",\"gridcolor\":\"white\",\"linecolor\":\"white\",\"minorgridcolor\":\"white\",\"startlinecolor\":\"#2a3f5f\"},\"baxis\":{\"endlinecolor\":\"#2a3f5f\",\"gridcolor\":\"white\",\"linecolor\":\"white\",\"minorgridcolor\":\"white\",\"startlinecolor\":\"#2a3f5f\"},\"type\":\"carpet\"}],\"table\":[{\"cells\":{\"fill\":{\"color\":\"#EBF0F8\"},\"line\":{\"color\":\"white\"}},\"header\":{\"fill\":{\"color\":\"#C8D4E3\"},\"line\":{\"color\":\"white\"}},\"type\":\"table\"}],\"barpolar\":[{\"marker\":{\"line\":{\"color\":\"#E5ECF6\",\"width\":0.5},\"pattern\":{\"fillmode\":\"overlay\",\"size\":10,\"solidity\":0.2}},\"type\":\"barpolar\"}],\"pie\":[{\"automargin\":true,\"type\":\"pie\"}]},\"layout\":{\"autotypenumbers\":\"strict\",\"colorway\":[\"#636efa\",\"#EF553B\",\"#00cc96\",\"#ab63fa\",\"#FFA15A\",\"#19d3f3\",\"#FF6692\",\"#B6E880\",\"#FF97FF\",\"#FECB52\"],\"font\":{\"color\":\"#2a3f5f\"},\"hovermode\":\"closest\",\"hoverlabel\":{\"align\":\"left\"},\"paper_bgcolor\":\"white\",\"plot_bgcolor\":\"#E5ECF6\",\"polar\":{\"bgcolor\":\"#E5ECF6\",\"angularaxis\":{\"gridcolor\":\"white\",\"linecolor\":\"white\",\"ticks\":\"\"},\"radialaxis\":{\"gridcolor\":\"white\",\"linecolor\":\"white\",\"ticks\":\"\"}},\"ternary\":{\"bgcolor\":\"#E5ECF6\",\"aaxis\":{\"gridcolor\":\"white\",\"linecolor\":\"white\",\"ticks\":\"\"},\"baxis\":{\"gridcolor\":\"white\",\"linecolor\":\"white\",\"ticks\":\"\"},\"caxis\":{\"gridcolor\":\"white\",\"linecolor\":\"white\",\"ticks\":\"\"}},\"coloraxis\":{\"colorbar\":{\"outlinewidth\":0,\"ticks\":\"\"}},\"colorscale\":{\"sequential\":[[0.0,\"#0d0887\"],[0.1111111111111111,\"#46039f\"],[0.2222222222222222,\"#7201a8\"],[0.3333333333333333,\"#9c179e\"],[0.4444444444444444,\"#bd3786\"],[0.5555555555555556,\"#d8576b\"],[0.6666666666666666,\"#ed7953\"],[0.7777777777777778,\"#fb9f3a\"],[0.8888888888888888,\"#fdca26\"],[1.0,\"#f0f921\"]],\"sequentialminus\":[[0.0,\"#0d0887\"],[0.1111111111111111,\"#46039f\"],[0.2222222222222222,\"#7201a8\"],[0.3333333333333333,\"#9c179e\"],[0.4444444444444444,\"#bd3786\"],[0.5555555555555556,\"#d8576b\"],[0.6666666666666666,\"#ed7953\"],[0.7777777777777778,\"#fb9f3a\"],[0.8888888888888888,\"#fdca26\"],[1.0,\"#f0f921\"]],\"diverging\":[[0,\"#8e0152\"],[0.1,\"#c51b7d\"],[0.2,\"#de77ae\"],[0.3,\"#f1b6da\"],[0.4,\"#fde0ef\"],[0.5,\"#f7f7f7\"],[0.6,\"#e6f5d0\"],[0.7,\"#b8e186\"],[0.8,\"#7fbc41\"],[0.9,\"#4d9221\"],[1,\"#276419\"]]},\"xaxis\":{\"gridcolor\":\"white\",\"linecolor\":\"white\",\"ticks\":\"\",\"title\":{\"standoff\":15},\"zerolinecolor\":\"white\",\"automargin\":true,\"zerolinewidth\":2},\"yaxis\":{\"gridcolor\":\"white\",\"linecolor\":\"white\",\"ticks\":\"\",\"title\":{\"standoff\":15},\"zerolinecolor\":\"white\",\"automargin\":true,\"zerolinewidth\":2},\"scene\":{\"xaxis\":{\"backgroundcolor\":\"#E5ECF6\",\"gridcolor\":\"white\",\"linecolor\":\"white\",\"showbackground\":true,\"ticks\":\"\",\"zerolinecolor\":\"white\",\"gridwidth\":2},\"yaxis\":{\"backgroundcolor\":\"#E5ECF6\",\"gridcolor\":\"white\",\"linecolor\":\"white\",\"showbackground\":true,\"ticks\":\"\",\"zerolinecolor\":\"white\",\"gridwidth\":2},\"zaxis\":{\"backgroundcolor\":\"#E5ECF6\",\"gridcolor\":\"white\",\"linecolor\":\"white\",\"showbackground\":true,\"ticks\":\"\",\"zerolinecolor\":\"white\",\"gridwidth\":2}},\"shapedefaults\":{\"line\":{\"color\":\"#2a3f5f\"}},\"annotationdefaults\":{\"arrowcolor\":\"#2a3f5f\",\"arrowhead\":0,\"arrowwidth\":1},\"geo\":{\"bgcolor\":\"white\",\"landcolor\":\"#E5ECF6\",\"subunitcolor\":\"white\",\"showland\":true,\"showlakes\":true,\"lakecolor\":\"white\"},\"title\":{\"x\":0.05},\"mapbox\":{\"style\":\"light\"}}},\"title\":{\"text\":\"Cost Landscape\",\"x\":0.5,\"y\":0.9},\"xaxis\":{\"title\":{\"text\":\"Negative electrode active material volume fraction\"},\"range\":[0.6,0.9]},\"yaxis\":{\"title\":{\"text\":\"Positive electrode active material volume fraction\"},\"range\":[0.5,0.8]},\"width\":600,\"height\":600},                        {\"responsive\": true}                    ).then(function(){\n",
       "                            \n",
       "var gd = document.getElementById('6894156d-37d9-407f-a67a-7ddb889c0640');\n",
       "var x = new MutationObserver(function (mutations, observer) {{\n",
       "        var display = window.getComputedStyle(gd).display;\n",
       "        if (!display || display === 'none') {{\n",
       "            console.log([gd, 'removed!']);\n",
       "            Plotly.purge(gd);\n",
       "            observer.disconnect();\n",
       "        }}\n",
       "}});\n",
       "\n",
       "// Listen for the removal of the full notebook cells\n",
       "var notebookContainer = gd.closest('#notebook-container');\n",
       "if (notebookContainer) {{\n",
       "    x.observe(notebookContainer, {childList: true});\n",
       "}}\n",
       "\n",
       "// Listen for the clearing of the current output cell\n",
       "var outputEl = gd.closest('.output');\n",
       "if (outputEl) {{\n",
       "    x.observe(outputEl, {childList: true});\n",
       "}}\n",
       "\n",
       "                        })                };                });            </script>        </div>"
      ]
     },
     "metadata": {},
     "output_type": "display_data"
    }
   ],
   "source": [
    "# Plot the cost landscape\n",
    "pybop.plot_cost2d(cost, steps=15)\n",
    "# Plot the cost landscape with optimisation path and updated bounds\n",
    "bounds = np.array([[0.6, 0.9], [0.5, 0.8]])\n",
    "pybop.plot_cost2d(cost, optim=optim, bounds=bounds, steps=15);"
   ]
  },
  {
   "cell_type": "markdown",
   "metadata": {},
   "source": [
    "### Conclusion\n",
    "\n",
    "This notebook illustrates how to perform parameter estimation using Adam in PyBOP, providing insights into the optimisation process through various visualisations."
   ]
  }
 ],
 "metadata": {
  "colab": {
   "provenance": []
  },
  "kernelspec": {
   "display_name": "Python 3 (ipykernel)",
   "language": "python",
   "name": "python3"
  },
  "language_info": {
   "codemirror_mode": {
    "name": "ipython",
    "version": 3
   },
   "file_extension": ".py",
   "mimetype": "text/x-python",
   "name": "python",
   "nbconvert_exporter": "python",
   "pygments_lexer": "ipython3",
   "version": "3.11.4"
  },
  "widgets": {
   "application/vnd.jupyter.widget-state+json": {
    "06f2374f91c8455bb63252092512f2ed": {
     "model_module": "@jupyter-widgets/base",
     "model_module_version": "2.0.0",
     "model_name": "LayoutModel",
     "state": {
      "_model_module": "@jupyter-widgets/base",
      "_model_module_version": "2.0.0",
      "_model_name": "LayoutModel",
      "_view_count": null,
      "_view_module": "@jupyter-widgets/base",
      "_view_module_version": "2.0.0",
      "_view_name": "LayoutView",
      "align_content": null,
      "align_items": null,
      "align_self": null,
      "border_bottom": null,
      "border_left": null,
      "border_right": null,
      "border_top": null,
      "bottom": null,
      "display": null,
      "flex": null,
      "flex_flow": null,
      "grid_area": null,
      "grid_auto_columns": null,
      "grid_auto_flow": null,
      "grid_auto_rows": null,
      "grid_column": null,
      "grid_gap": null,
      "grid_row": null,
      "grid_template_areas": null,
      "grid_template_columns": null,
      "grid_template_rows": null,
      "height": null,
      "justify_content": null,
      "justify_items": null,
      "left": null,
      "margin": null,
      "max_height": null,
      "max_width": null,
      "min_height": null,
      "min_width": null,
      "object_fit": null,
      "object_position": null,
      "order": null,
      "overflow": null,
      "padding": null,
      "right": null,
      "top": null,
      "visibility": null,
      "width": null
     }
    },
    "423bffea3a1c42b49a9ad71218e5811b": {
     "model_module": "@jupyter-widgets/base",
     "model_module_version": "2.0.0",
     "model_name": "LayoutModel",
     "state": {
      "_model_module": "@jupyter-widgets/base",
      "_model_module_version": "2.0.0",
      "_model_name": "LayoutModel",
      "_view_count": null,
      "_view_module": "@jupyter-widgets/base",
      "_view_module_version": "2.0.0",
      "_view_name": "LayoutView",
      "align_content": null,
      "align_items": null,
      "align_self": null,
      "border_bottom": null,
      "border_left": null,
      "border_right": null,
      "border_top": null,
      "bottom": null,
      "display": null,
      "flex": null,
      "flex_flow": null,
      "grid_area": null,
      "grid_auto_columns": null,
      "grid_auto_flow": null,
      "grid_auto_rows": null,
      "grid_column": null,
      "grid_gap": null,
      "grid_row": null,
      "grid_template_areas": null,
      "grid_template_columns": null,
      "grid_template_rows": null,
      "height": null,
      "justify_content": null,
      "justify_items": null,
      "left": null,
      "margin": null,
      "max_height": null,
      "max_width": null,
      "min_height": null,
      "min_width": null,
      "object_fit": null,
      "object_position": null,
      "order": null,
      "overflow": null,
      "padding": null,
      "right": null,
      "top": null,
      "visibility": null,
      "width": null
     }
    },
    "56ff19291e464d63b23e63b8e2ac9ea3": {
     "model_module": "@jupyter-widgets/controls",
     "model_module_version": "2.0.0",
     "model_name": "SliderStyleModel",
     "state": {
      "_model_module": "@jupyter-widgets/controls",
      "_model_module_version": "2.0.0",
      "_model_name": "SliderStyleModel",
      "_view_count": null,
      "_view_module": "@jupyter-widgets/base",
      "_view_module_version": "2.0.0",
      "_view_name": "StyleView",
      "description_width": "",
      "handle_color": null
     }
    },
    "646a8670cb204a31bb56bc2380898093": {
     "model_module": "@jupyter-widgets/base",
     "model_module_version": "2.0.0",
     "model_name": "LayoutModel",
     "state": {
      "_model_module": "@jupyter-widgets/base",
      "_model_module_version": "2.0.0",
      "_model_name": "LayoutModel",
      "_view_count": null,
      "_view_module": "@jupyter-widgets/base",
      "_view_module_version": "2.0.0",
      "_view_name": "LayoutView",
      "align_content": null,
      "align_items": null,
      "align_self": null,
      "border_bottom": null,
      "border_left": null,
      "border_right": null,
      "border_top": null,
      "bottom": null,
      "display": null,
      "flex": null,
      "flex_flow": null,
      "grid_area": null,
      "grid_auto_columns": null,
      "grid_auto_flow": null,
      "grid_auto_rows": null,
      "grid_column": null,
      "grid_gap": null,
      "grid_row": null,
      "grid_template_areas": null,
      "grid_template_columns": null,
      "grid_template_rows": null,
      "height": null,
      "justify_content": null,
      "justify_items": null,
      "left": null,
      "margin": null,
      "max_height": null,
      "max_width": null,
      "min_height": null,
      "min_width": null,
      "object_fit": null,
      "object_position": null,
      "order": null,
      "overflow": null,
      "padding": null,
      "right": null,
      "top": null,
      "visibility": null,
      "width": null
     }
    },
    "7d46516469314b88be3500e2afcafcf6": {
     "model_module": "@jupyter-widgets/output",
     "model_module_version": "1.0.0",
     "model_name": "OutputModel",
     "state": {
      "_dom_classes": [],
      "_model_module": "@jupyter-widgets/output",
      "_model_module_version": "1.0.0",
      "_model_name": "OutputModel",
      "_view_count": null,
      "_view_module": "@jupyter-widgets/output",
      "_view_module_version": "1.0.0",
      "_view_name": "OutputView",
      "layout": "IPY_MODEL_646a8670cb204a31bb56bc2380898093",
      "msg_id": "",
      "outputs": [],
      "tabbable": null,
      "tooltip": null
     }
    },
    "8d003c14da5f4fa68284b28c15cee6e6": {
     "model_module": "@jupyter-widgets/controls",
     "model_module_version": "2.0.0",
     "model_name": "VBoxModel",
     "state": {
      "_dom_classes": [
       "widget-interact"
      ],
      "_model_module": "@jupyter-widgets/controls",
      "_model_module_version": "2.0.0",
      "_model_name": "VBoxModel",
      "_view_count": null,
      "_view_module": "@jupyter-widgets/controls",
      "_view_module_version": "2.0.0",
      "_view_name": "VBoxView",
      "box_style": "",
      "children": [
       "IPY_MODEL_aef2fa7adcc14ad0854b73d5910ae3b4",
       "IPY_MODEL_7d46516469314b88be3500e2afcafcf6"
      ],
      "layout": "IPY_MODEL_423bffea3a1c42b49a9ad71218e5811b",
      "tabbable": null,
      "tooltip": null
     }
    },
    "aef2fa7adcc14ad0854b73d5910ae3b4": {
     "model_module": "@jupyter-widgets/controls",
     "model_module_version": "2.0.0",
     "model_name": "FloatSliderModel",
     "state": {
      "_dom_classes": [],
      "_model_module": "@jupyter-widgets/controls",
      "_model_module_version": "2.0.0",
      "_model_name": "FloatSliderModel",
      "_view_count": null,
      "_view_module": "@jupyter-widgets/controls",
      "_view_module_version": "2.0.0",
      "_view_name": "FloatSliderView",
      "behavior": "drag-tap",
      "continuous_update": true,
      "description": "t",
      "description_allow_html": false,
      "disabled": false,
      "layout": "IPY_MODEL_06f2374f91c8455bb63252092512f2ed",
      "max": 1.1333333333333333,
      "min": 0,
      "orientation": "horizontal",
      "readout": true,
      "readout_format": ".2f",
      "step": 0.011333333333333332,
      "style": "IPY_MODEL_56ff19291e464d63b23e63b8e2ac9ea3",
      "tabbable": null,
      "tooltip": null,
      "value": 0
     }
    }
   }
  }
 },
 "nbformat": 4,
 "nbformat_minor": 4
}
