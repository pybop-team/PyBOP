{
 "cells": [
  {
   "cell_type": "markdown",
   "metadata": {
    "id": "expmkveO04pw"
   },
   "source": [
    "## Parameter Estimation with SciPy's Differential Evolution Method in PyBOP\n",
    "\n",
    "In this notebook, we demonstrate an example of parameter estimation for a single-particle model using the Differential Evolution optimiser. The Differential Evolution (DE) algorithm is a stochastic population-based method that is well-suited for multi-dimensional functions. Unlike gradient-based methods, which require gradient information and can easily become trapped in local minima, DE relies on the concept of evolving a population of candidate solutions, using operations like mutation, crossover, and selection. This approach allows DE to search large areas of the solution space, which makes it highly effective for dealing with complex, nonlinear, and multimodal objective functions. \n",
    "\n",
    "### Setting up the Environment\n",
    "\n",
    "Before we begin, we need to ensure that we have all the necessary tools. We will install PyBOP from its development branch and upgrade some dependencies:"
   ]
  },
  {
   "cell_type": "code",
   "execution_count": 37,
   "metadata": {
    "colab": {
     "base_uri": "https://localhost:8080/"
    },
    "id": "X87NUGPW04py",
    "outputId": "0d785b07-7cff-4aeb-e60a-4ff5a669afbf"
   },
   "outputs": [
    {
     "name": "stdout",
     "output_type": "stream",
     "text": [
      "Requirement already satisfied: pip in /Users/bradyplanden/.pyenv/versions/pybop-env/lib/python3.11/site-packages (23.3.2)\n",
      "Requirement already satisfied: ipywidgets in /Users/bradyplanden/.pyenv/versions/pybop-env/lib/python3.11/site-packages (8.1.1)\n",
      "Requirement already satisfied: comm>=0.1.3 in /Users/bradyplanden/.pyenv/versions/pybop-env/lib/python3.11/site-packages (from ipywidgets) (0.2.0)\n",
      "Requirement already satisfied: ipython>=6.1.0 in /Users/bradyplanden/.pyenv/versions/pybop-env/lib/python3.11/site-packages (from ipywidgets) (8.18.1)\n",
      "Requirement already satisfied: traitlets>=4.3.1 in /Users/bradyplanden/.pyenv/versions/pybop-env/lib/python3.11/site-packages (from ipywidgets) (5.14.0)\n",
      "Requirement already satisfied: widgetsnbextension~=4.0.9 in /Users/bradyplanden/.pyenv/versions/pybop-env/lib/python3.11/site-packages (from ipywidgets) (4.0.9)\n",
      "Requirement already satisfied: jupyterlab-widgets~=3.0.9 in /Users/bradyplanden/.pyenv/versions/pybop-env/lib/python3.11/site-packages (from ipywidgets) (3.0.9)\n",
      "Requirement already satisfied: decorator in /Users/bradyplanden/.pyenv/versions/pybop-env/lib/python3.11/site-packages (from ipython>=6.1.0->ipywidgets) (5.1.1)\n",
      "Requirement already satisfied: jedi>=0.16 in /Users/bradyplanden/.pyenv/versions/pybop-env/lib/python3.11/site-packages (from ipython>=6.1.0->ipywidgets) (0.19.1)\n",
      "Requirement already satisfied: matplotlib-inline in /Users/bradyplanden/.pyenv/versions/pybop-env/lib/python3.11/site-packages (from ipython>=6.1.0->ipywidgets) (0.1.6)\n",
      "Requirement already satisfied: prompt-toolkit<3.1.0,>=3.0.41 in /Users/bradyplanden/.pyenv/versions/pybop-env/lib/python3.11/site-packages (from ipython>=6.1.0->ipywidgets) (3.0.41)\n",
      "Requirement already satisfied: pygments>=2.4.0 in /Users/bradyplanden/.pyenv/versions/pybop-env/lib/python3.11/site-packages (from ipython>=6.1.0->ipywidgets) (2.17.2)\n",
      "Requirement already satisfied: stack-data in /Users/bradyplanden/.pyenv/versions/pybop-env/lib/python3.11/site-packages (from ipython>=6.1.0->ipywidgets) (0.6.3)\n",
      "Requirement already satisfied: pexpect>4.3 in /Users/bradyplanden/.pyenv/versions/pybop-env/lib/python3.11/site-packages (from ipython>=6.1.0->ipywidgets) (4.9.0)\n",
      "Requirement already satisfied: parso<0.9.0,>=0.8.3 in /Users/bradyplanden/.pyenv/versions/pybop-env/lib/python3.11/site-packages (from jedi>=0.16->ipython>=6.1.0->ipywidgets) (0.8.3)\n",
      "Requirement already satisfied: ptyprocess>=0.5 in /Users/bradyplanden/.pyenv/versions/pybop-env/lib/python3.11/site-packages (from pexpect>4.3->ipython>=6.1.0->ipywidgets) (0.7.0)\n",
      "Requirement already satisfied: wcwidth in /Users/bradyplanden/.pyenv/versions/pybop-env/lib/python3.11/site-packages (from prompt-toolkit<3.1.0,>=3.0.41->ipython>=6.1.0->ipywidgets) (0.2.12)\n",
      "Requirement already satisfied: executing>=1.2.0 in /Users/bradyplanden/.pyenv/versions/pybop-env/lib/python3.11/site-packages (from stack-data->ipython>=6.1.0->ipywidgets) (2.0.1)\n",
      "Requirement already satisfied: asttokens>=2.1.0 in /Users/bradyplanden/.pyenv/versions/pybop-env/lib/python3.11/site-packages (from stack-data->ipython>=6.1.0->ipywidgets) (2.4.1)\n",
      "Requirement already satisfied: pure-eval in /Users/bradyplanden/.pyenv/versions/pybop-env/lib/python3.11/site-packages (from stack-data->ipython>=6.1.0->ipywidgets) (0.2.2)\n",
      "Requirement already satisfied: six>=1.12.0 in /Users/bradyplanden/.pyenv/versions/pybop-env/lib/python3.11/site-packages (from asttokens>=2.1.0->stack-data->ipython>=6.1.0->ipywidgets) (1.16.0)\n",
      "Note: you may need to restart the kernel to use updated packages.\n",
      "Note: you may need to restart the kernel to use updated packages.\n"
     ]
    }
   ],
   "source": [
    "%pip install --upgrade pip ipywidgets\n",
    "%pip install pybop -q"
   ]
  },
  {
   "cell_type": "markdown",
   "metadata": {
    "id": "jAvD5fk104p0"
   },
   "source": [
    "### Importing Libraries\n",
    "\n",
    "With the environment set up, we can now import PyBOP alongside other libraries we will need:"
   ]
  },
  {
   "cell_type": "code",
   "execution_count": 38,
   "metadata": {
    "id": "SQdt4brD04p1"
   },
   "outputs": [],
   "source": [
    "import pybop\n",
    "import numpy as np"
   ]
  },
  {
   "cell_type": "markdown",
   "metadata": {
    "id": "5XU-dMtU04p2"
   },
   "source": [
    "### Generate Synthetic Data\n",
    "\n",
    "To demonstrate parameter estimation, we first need some data. We will generate synthetic data using the PyBOP forward model, which requires defining a parameter set and the model itself.\n",
    "\n",
    "#### Defining Parameters and Model\n",
    "\n",
    "We start by creating an example parameter set and then instantiate the single-particle model (SPM):"
   ]
  },
  {
   "cell_type": "code",
   "execution_count": 39,
   "metadata": {},
   "outputs": [],
   "source": [
    "parameter_set = pybop.ParameterSet.pybamm(\"Chen2020\")\n",
    "model = pybop.lithium_ion.SPM(parameter_set=parameter_set)"
   ]
  },
  {
   "cell_type": "markdown",
   "metadata": {},
   "source": [
    "### Simulating Forward Model\n",
    "\n",
    "We can then simulate the model using the `predict` method, with a default constant current to generate voltage data."
   ]
  },
  {
   "cell_type": "code",
   "execution_count": 40,
   "metadata": {
    "id": "sBasxv8U04p3"
   },
   "outputs": [],
   "source": [
    "t_eval = np.arange(0, 900, 2)\n",
    "values = model.predict(t_eval=t_eval)"
   ]
  },
  {
   "cell_type": "markdown",
   "metadata": {},
   "source": [
    "### Adding Noise to Voltage Data\n",
    "\n",
    "To make the parameter estimation more realistic, we add Gaussian noise to the data."
   ]
  },
  {
   "cell_type": "code",
   "execution_count": 41,
   "metadata": {},
   "outputs": [],
   "source": [
    "sigma = 0.001\n",
    "corrupt_values = values[\"Voltage [V]\"].data + np.random.normal(0, sigma, len(t_eval))"
   ]
  },
  {
   "cell_type": "markdown",
   "metadata": {
    "id": "X8-tubYY04p_"
   },
   "source": [
    "## Identify the Parameters"
   ]
  },
  {
   "cell_type": "markdown",
   "metadata": {
    "id": "PQqhvSZN04p_"
   },
   "source": [
    "We will now set up the parameter estimation process by defining the datasets for optimisation and selecting the model parameters we wish to estimate."
   ]
  },
  {
   "cell_type": "markdown",
   "metadata": {},
   "source": [
    "### Creating Optimisation Dataset\n",
    "\n",
    "The dataset for optimisation is composed of time, current, and the noisy voltage data:"
   ]
  },
  {
   "cell_type": "code",
   "execution_count": 42,
   "metadata": {
    "id": "zuvGHWID04p_"
   },
   "outputs": [],
   "source": [
    "dataset = pybop.Dataset(\n",
    "    {\n",
    "        \"Time [s]\": t_eval,\n",
    "        \"Current function [A]\": values[\"Current [A]\"].data,\n",
    "        \"Voltage [V]\": corrupt_values,\n",
    "    }\n",
    ")"
   ]
  },
  {
   "cell_type": "markdown",
   "metadata": {
    "id": "ffS3CF_704qA"
   },
   "source": [
    "### Defining Parameters to Estimate\n",
    "\n",
    "We select the parameters for estimation and set up their prior distributions and bounds:"
   ]
  },
  {
   "cell_type": "code",
   "execution_count": 43,
   "metadata": {
    "id": "WPCybXIJ04qA"
   },
   "outputs": [],
   "source": [
    "parameters = [\n",
    "    pybop.Parameter(\n",
    "        \"Negative electrode active material volume fraction\",\n",
    "        prior=pybop.Gaussian(0.6, 0.02),\n",
    "        bounds=[0.5, 0.8],\n",
    "    ),\n",
    "    pybop.Parameter(\n",
    "        \"Positive electrode active material volume fraction\",\n",
    "        prior=pybop.Gaussian(0.48, 0.02),\n",
    "        bounds=[0.4, 0.7],\n",
    "    ),\n",
    "]"
   ]
  },
  {
   "cell_type": "markdown",
   "metadata": {
    "id": "n4OHa-aF04qA"
   },
   "source": [
    "### Setting up the Optimisation Problem\n",
    "\n",
    "With the datasets and parameters defined, we can set up the optimisation problem, its cost function, and the optimiser."
   ]
  },
  {
   "cell_type": "code",
   "execution_count": 44,
   "metadata": {
    "id": "etMzRtx404qA"
   },
   "outputs": [],
   "source": [
    "problem = pybop.FittingProblem(model, parameters, dataset)\n",
    "cost = pybop.SumSquaredError(problem)\n",
    "optim = pybop.Optimisation(cost, optimiser=pybop.SciPyDifferentialEvolution)\n",
    "optim.set_max_iterations(400)"
   ]
  },
  {
   "cell_type": "markdown",
   "metadata": {
    "id": "caprp-bV04qB"
   },
   "source": [
    "### Running the Optimisation\n",
    "\n",
    "We proceed to run the Differential Evolution optimisation algorithm to estimate the parameters:"
   ]
  },
  {
   "cell_type": "code",
   "execution_count": 45,
   "metadata": {
    "id": "-9OVt0EQ04qB"
   },
   "outputs": [
    {
     "name": "stdout",
     "output_type": "stream",
     "text": [
      "Ignoring x0. Initial conditions are not used for differential_evolution.\n"
     ]
    }
   ],
   "source": [
    "x, final_cost = optim.run()"
   ]
  },
  {
   "cell_type": "markdown",
   "metadata": {
    "id": "-4pZsDmS04qC"
   },
   "source": [
    "### Viewing the Estimated Parameters\n",
    "\n",
    "After the optimisation, we can examine the estimated parameter values:"
   ]
  },
  {
   "cell_type": "code",
   "execution_count": 46,
   "metadata": {
    "colab": {
     "base_uri": "https://localhost:8080/"
    },
    "id": "Hgz8SV4i04qC",
    "outputId": "e1e42ae7-5075-4c47-dd68-1b22ecc170f6"
   },
   "outputs": [
    {
     "data": {
      "text/plain": [
       "array([0.74999764, 0.66481528])"
      ]
     },
     "execution_count": 46,
     "metadata": {},
     "output_type": "execute_result"
    }
   ],
   "source": [
    "x  # This will output the estimated parameters"
   ]
  },
  {
   "cell_type": "markdown",
   "metadata": {
    "id": "KxKURtH704qC"
   },
   "source": [
    "## Plotting and Visualisation\n",
    "\n",
    "PyBOP provides various plotting utilities to visualise the results of the optimisation."
   ]
  },
  {
   "cell_type": "markdown",
   "metadata": {
    "id": "-cWCOiqR04qC"
   },
   "source": [
    "### Comparing System Response\n",
    "\n",
    "We can quickly plot the system's response using the estimated parameters compared to the target:"
   ]
  },
  {
   "cell_type": "code",
   "execution_count": 47,
   "metadata": {
    "colab": {
     "base_uri": "https://localhost:8080/",
     "height": 467
    },
    "id": "tJUJ80Ve04qD",
    "outputId": "855fbaa2-1e09-4935-eb1a-8caf7f99eb75"
   },
   "outputs": [
    {
     "data": {
      "application/vnd.plotly.v1+json": {
       "config": {
        "plotlyServerURL": "https://plot.ly"
       },
       "data": [
        {
         "fill": "toself",
         "fillcolor": "rgba(255,229,204,0.8)",
         "hoverinfo": "skip",
         "line": {
          "color": "rgba(255,255,255,0)"
         },
         "showlegend": false,
         "type": "scatter",
         "x": [
          0,
          2,
          4,
          6,
          8,
          10,
          12,
          14,
          16,
          18,
          20,
          22,
          24,
          26,
          28,
          30,
          32,
          34,
          36,
          38,
          40,
          42,
          44,
          46,
          48,
          50,
          52,
          54,
          56,
          58,
          60,
          62,
          64,
          66,
          68,
          70,
          72,
          74,
          76,
          78,
          80,
          82,
          84,
          86,
          88,
          90,
          92,
          94,
          96,
          98,
          100,
          102,
          104,
          106,
          108,
          110,
          112,
          114,
          116,
          118,
          120,
          122,
          124,
          126,
          128,
          130,
          132,
          134,
          136,
          138,
          140,
          142,
          144,
          146,
          148,
          150,
          152,
          154,
          156,
          158,
          160,
          162,
          164,
          166,
          168,
          170,
          172,
          174,
          176,
          178,
          180,
          182,
          184,
          186,
          188,
          190,
          192,
          194,
          196,
          198,
          200,
          202,
          204,
          206,
          208,
          210,
          212,
          214,
          216,
          218,
          220,
          222,
          224,
          226,
          228,
          230,
          232,
          234,
          236,
          238,
          240,
          242,
          244,
          246,
          248,
          250,
          252,
          254,
          256,
          258,
          260,
          262,
          264,
          266,
          268,
          270,
          272,
          274,
          276,
          278,
          280,
          282,
          284,
          286,
          288,
          290,
          292,
          294,
          296,
          298,
          300,
          302,
          304,
          306,
          308,
          310,
          312,
          314,
          316,
          318,
          320,
          322,
          324,
          326,
          328,
          330,
          332,
          334,
          336,
          338,
          340,
          342,
          344,
          346,
          348,
          350,
          352,
          354,
          356,
          358,
          360,
          362,
          364,
          366,
          368,
          370,
          372,
          374,
          376,
          378,
          380,
          382,
          384,
          386,
          388,
          390,
          392,
          394,
          396,
          398,
          400,
          402,
          404,
          406,
          408,
          410,
          412,
          414,
          416,
          418,
          420,
          422,
          424,
          426,
          428,
          430,
          432,
          434,
          436,
          438,
          440,
          442,
          444,
          446,
          448,
          450,
          452,
          454,
          456,
          458,
          460,
          462,
          464,
          466,
          468,
          470,
          472,
          474,
          476,
          478,
          480,
          482,
          484,
          486,
          488,
          490,
          492,
          494,
          496,
          498,
          500,
          502,
          504,
          506,
          508,
          510,
          512,
          514,
          516,
          518,
          520,
          522,
          524,
          526,
          528,
          530,
          532,
          534,
          536,
          538,
          540,
          542,
          544,
          546,
          548,
          550,
          552,
          554,
          556,
          558,
          560,
          562,
          564,
          566,
          568,
          570,
          572,
          574,
          576,
          578,
          580,
          582,
          584,
          586,
          588,
          590,
          592,
          594,
          596,
          598,
          600,
          602,
          604,
          606,
          608,
          610,
          612,
          614,
          616,
          618,
          620,
          622,
          624,
          626,
          628,
          630,
          632,
          634,
          636,
          638,
          640,
          642,
          644,
          646,
          648,
          650,
          652,
          654,
          656,
          658,
          660,
          662,
          664,
          666,
          668,
          670,
          672,
          674,
          676,
          678,
          680,
          682,
          684,
          686,
          688,
          690,
          692,
          694,
          696,
          698,
          700,
          702,
          704,
          706,
          708,
          710,
          712,
          714,
          716,
          718,
          720,
          722,
          724,
          726,
          728,
          730,
          732,
          734,
          736,
          738,
          740,
          742,
          744,
          746,
          748,
          750,
          752,
          754,
          756,
          758,
          760,
          762,
          764,
          766,
          768,
          770,
          772,
          774,
          776,
          778,
          780,
          782,
          784,
          786,
          788,
          790,
          792,
          794,
          796,
          798,
          800,
          802,
          804,
          806,
          808,
          810,
          812,
          814,
          816,
          818,
          820,
          822,
          824,
          826,
          828,
          830,
          832,
          834,
          836,
          838,
          840,
          842,
          844,
          846,
          848,
          850,
          852,
          854,
          856,
          858,
          860,
          862,
          864,
          866,
          868,
          870,
          872,
          874,
          876,
          878,
          880,
          882,
          884,
          886,
          888,
          890,
          892,
          894,
          896,
          898,
          898,
          896,
          894,
          892,
          890,
          888,
          886,
          884,
          882,
          880,
          878,
          876,
          874,
          872,
          870,
          868,
          866,
          864,
          862,
          860,
          858,
          856,
          854,
          852,
          850,
          848,
          846,
          844,
          842,
          840,
          838,
          836,
          834,
          832,
          830,
          828,
          826,
          824,
          822,
          820,
          818,
          816,
          814,
          812,
          810,
          808,
          806,
          804,
          802,
          800,
          798,
          796,
          794,
          792,
          790,
          788,
          786,
          784,
          782,
          780,
          778,
          776,
          774,
          772,
          770,
          768,
          766,
          764,
          762,
          760,
          758,
          756,
          754,
          752,
          750,
          748,
          746,
          744,
          742,
          740,
          738,
          736,
          734,
          732,
          730,
          728,
          726,
          724,
          722,
          720,
          718,
          716,
          714,
          712,
          710,
          708,
          706,
          704,
          702,
          700,
          698,
          696,
          694,
          692,
          690,
          688,
          686,
          684,
          682,
          680,
          678,
          676,
          674,
          672,
          670,
          668,
          666,
          664,
          662,
          660,
          658,
          656,
          654,
          652,
          650,
          648,
          646,
          644,
          642,
          640,
          638,
          636,
          634,
          632,
          630,
          628,
          626,
          624,
          622,
          620,
          618,
          616,
          614,
          612,
          610,
          608,
          606,
          604,
          602,
          600,
          598,
          596,
          594,
          592,
          590,
          588,
          586,
          584,
          582,
          580,
          578,
          576,
          574,
          572,
          570,
          568,
          566,
          564,
          562,
          560,
          558,
          556,
          554,
          552,
          550,
          548,
          546,
          544,
          542,
          540,
          538,
          536,
          534,
          532,
          530,
          528,
          526,
          524,
          522,
          520,
          518,
          516,
          514,
          512,
          510,
          508,
          506,
          504,
          502,
          500,
          498,
          496,
          494,
          492,
          490,
          488,
          486,
          484,
          482,
          480,
          478,
          476,
          474,
          472,
          470,
          468,
          466,
          464,
          462,
          460,
          458,
          456,
          454,
          452,
          450,
          448,
          446,
          444,
          442,
          440,
          438,
          436,
          434,
          432,
          430,
          428,
          426,
          424,
          422,
          420,
          418,
          416,
          414,
          412,
          410,
          408,
          406,
          404,
          402,
          400,
          398,
          396,
          394,
          392,
          390,
          388,
          386,
          384,
          382,
          380,
          378,
          376,
          374,
          372,
          370,
          368,
          366,
          364,
          362,
          360,
          358,
          356,
          354,
          352,
          350,
          348,
          346,
          344,
          342,
          340,
          338,
          336,
          334,
          332,
          330,
          328,
          326,
          324,
          322,
          320,
          318,
          316,
          314,
          312,
          310,
          308,
          306,
          304,
          302,
          300,
          298,
          296,
          294,
          292,
          290,
          288,
          286,
          284,
          282,
          280,
          278,
          276,
          274,
          272,
          270,
          268,
          266,
          264,
          262,
          260,
          258,
          256,
          254,
          252,
          250,
          248,
          246,
          244,
          242,
          240,
          238,
          236,
          234,
          232,
          230,
          228,
          226,
          224,
          222,
          220,
          218,
          216,
          214,
          212,
          210,
          208,
          206,
          204,
          202,
          200,
          198,
          196,
          194,
          192,
          190,
          188,
          186,
          184,
          182,
          180,
          178,
          176,
          174,
          172,
          170,
          168,
          166,
          164,
          162,
          160,
          158,
          156,
          154,
          152,
          150,
          148,
          146,
          144,
          142,
          140,
          138,
          136,
          134,
          132,
          130,
          128,
          126,
          124,
          122,
          120,
          118,
          116,
          114,
          112,
          110,
          108,
          106,
          104,
          102,
          100,
          98,
          96,
          94,
          92,
          90,
          88,
          86,
          84,
          82,
          80,
          78,
          76,
          74,
          72,
          70,
          68,
          66,
          64,
          62,
          60,
          58,
          56,
          54,
          52,
          50,
          48,
          46,
          44,
          42,
          40,
          38,
          36,
          34,
          32,
          30,
          28,
          26,
          24,
          22,
          20,
          18,
          16,
          14,
          12,
          10,
          8,
          6,
          4,
          2,
          0
         ],
         "y": [
          4.064458320501508,
          4.056052762158592,
          4.0487962686414525,
          4.042585833976561,
          4.037232835097531,
          4.03257712970519,
          4.028491518754141,
          4.024876559034254,
          4.021655606108165,
          4.018768293806505,
          4.0161666152952,
          4.013812407545703,
          4.011673680124297,
          4.009724155345706,
          4.007942048853279,
          4.0063088634324,
          4.004809540399291,
          4.003430513850505,
          4.002161003009127,
          4.00099071495522,
          3.999911206578099,
          3.998914490911029,
          3.997993673000907,
          3.997142440201619,
          3.9963551640380586,
          3.995626744209389,
          3.994952582500556,
          3.9943283869179536,
          3.993750347234406,
          3.9932150343474624,
          3.9927191146525662,
          3.9922594704301138,
          3.991833495066583,
          3.991438622892807,
          3.991072175007909,
          3.9907320620325617,
          3.990416208314984,
          3.990122486847953,
          3.989849085201429,
          3.9895942776052857,
          3.989356403748299,
          3.9891339051225514,
          3.9889253460706713,
          3.9887293622396625,
          3.9885446620475777,
          3.988370042887224,
          3.9882043692063527,
          3.988046556437383,
          3.987895599753707,
          3.9877505488709857,
          3.9876104877926246,
          3.987474563770338,
          3.987341987405048,
          3.987212010227377,
          3.987083929835911,
          3.986957062048655,
          3.986830746317142,
          3.986704419111199,
          3.9865775282169262,
          3.986449557410258,
          3.986320016059678,
          3.9861883901258057,
          3.986054281506057,
          3.9859172878067146,
          3.985777034320949,
          3.98563317306535,
          3.9854853411017994,
          3.98533324550752,
          3.9851766042405945,
          3.985015153703548,
          3.9848486507603735,
          3.9846768613849513,
          3.984499575648364,
          3.984316606562869,
          3.984127780152747,
          3.983932938572084,
          3.983731936157834,
          3.983524639327555,
          3.983310935992475,
          3.983090724224544,
          3.982863915043445,
          3.9826304286909298,
          3.9823901783417233,
          3.9821431200521817,
          3.9818892083244712,
          3.9816284081961326,
          3.9813606949008102,
          3.981086053552698,
          3.9808044788533095,
          3.98051597481893,
          3.980220475910093,
          3.97991803830976,
          3.9796086855171766,
          3.97929244540802,
          3.978969352848035,
          3.978639449466783,
          3.978302783445445,
          3.977959409317745,
          3.9776093142950497,
          3.9772525721505576,
          3.976889263121147,
          3.976519452983738,
          3.976143211705376,
          3.975760613258723,
          3.9753717354474314,
          3.974976659741225,
          3.9745754225298366,
          3.974168089731364,
          3.973754776343832,
          3.973335568596183,
          3.972910555189912,
          3.972479827221868,
          3.9720434781174503,
          3.9716016035738946,
          3.9711543015129434,
          3.970701672042251,
          3.9702438174253305,
          3.969780842058975,
          3.969312852458187,
          3.968839891663136,
          3.968361980209246,
          3.967879312144116,
          3.967391989448715,
          3.966900115024439,
          3.9664037926668496,
          3.965903127044247,
          3.965398223681156,
          3.9648891889459774,
          3.96437613004287,
          3.963859155007252,
          3.9633383727048086,
          3.9628138928337022,
          3.9622857848538486,
          3.961753980259769,
          3.961218726281947,
          3.960680121569508,
          3.960138264308483,
          3.959593252183619,
          3.9590451823422463,
          3.9584941513605822,
          3.957940255211827,
          3.957383589236448,
          3.95682424811409,
          3.956262325837444,
          3.9556979156876424,
          3.955131109534443,
          3.9545619006722488,
          3.953990446415313,
          3.953416831562608,
          3.9528411396133576,
          3.952263452732252,
          3.951683851716143,
          3.9511024159620898,
          3.950519223436771,
          3.949934350647213,
          3.949347872612788,
          3.948759862838432,
          3.9481703932891494,
          3.947579534365659,
          3.946987412993837,
          3.9463940715242063,
          3.9457995688487766,
          3.9452039729434447,
          3.944607350451607,
          3.944009766677483,
          3.943411285580378,
          3.9428119697695823,
          3.942211880499981,
          3.941611077668443,
          3.941009619810741,
          3.9404075640991514,
          3.939804966340691,
          3.939201929083719,
          3.938598503865509,
          3.937994723684075,
          3.9373906430981624,
          3.936786315642902,
          3.9361817938418806,
          3.935577129219407,
          3.9349723723129904,
          3.934367572685963,
          3.9337627789402503,
          3.933158038729264,
          3.9325533987709185,
          3.93194890486068,
          3.931344598813826,
          3.9307405225462806,
          3.930136721857109,
          3.929533238613641,
          3.9289301137972985,
          3.9283273875159335,
          3.927725099016159,
          3.927123286695714,
          3.9265219881157174,
          3.925921240012984,
          3.925321078312248,
          3.924721538138302,
          3.924122653828175,
          3.923524450555332,
          3.9229269418525656,
          3.922330176457931,
          3.921734184020202,
          3.921138993328944,
          3.920544632322312,
          3.9199511280949046,
          3.9193585069055064,
          3.9187667941848825,
          3.918176014543489,
          3.917586191779196,
          3.9169973488849457,
          3.916409508056379,
          3.915822691254781,
          3.915236924543753,
          3.9146522238098895,
          3.914068608443516,
          3.913486097099391,
          3.912904707704774,
          3.912324457467403,
          3.911745362883411,
          3.911167439745198,
          3.910590703149161,
          3.910015167503445,
          3.909440846535554,
          3.9088677532999023,
          3.9082959001853026,
          3.907725352268668,
          3.907156086330904,
          3.906588110131392,
          3.906021434977519,
          3.905456071569253,
          3.904892030002614,
          3.9043293197730007,
          3.9037679497785502,
          3.903207928323413,
          3.902649263120972,
          3.90209196129703,
          3.9015360293929464,
          3.900981473368741,
          3.9004282986061214,
          3.899876509911508,
          3.8993261115189863,
          3.8987771070932142,
          3.8982294997322926,
          3.897683291970595,
          3.897138485781557,
          3.8965950825804,
          3.896053083226816,
          3.8955124880276464,
          3.894973479409284,
          3.8944359159609543,
          3.8938997927898567,
          3.893365111244194,
          3.8928318722512505,
          3.8923000763200473,
          3.8917697235439728,
          3.8912408136033343,
          3.890713345767862,
          3.890187318899152,
          3.889662731453013,
          3.889139581481844,
          3.888617866636829,
          3.8880975841701826,
          3.887578730937284,
          3.887061303398744,
          3.886545297622442,
          3.8860307092854938,
          3.885517533676153,
          3.885005765695656,
          3.884495399859997,
          3.8839864303016713,
          3.883478851684374,
          3.882972878879071,
          3.882468322219818,
          3.8819651777314186,
          3.8814634412077695,
          3.8809631082150577,
          3.8804641740948647,
          3.8799666339672023,
          3.87947048273345,
          3.878975715079215,
          3.878482325477103,
          3.877990308189455,
          3.8774996572709486,
          3.8770103665711337,
          3.8765224297369465,
          3.8760358402150623,
          3.875550591254246,
          3.875066675907578,
          3.874584087034617,
          3.87410281730353,
          3.87362285919308,
          3.8731442049945968,
          3.8726668468138343,
          3.872190776911459,
          3.8717160031695506,
          3.871242521918264,
          3.870770328875075,
          3.870299419935004,
          3.8698297911814943,
          3.869361438897266,
          3.8688945959788623,
          3.868429009064996,
          3.867964556705881,
          3.867501261990155,
          3.867039229693138,
          3.866578384122753,
          3.8661187196459705,
          3.8656602597382905,
          3.86520299243876,
          3.8647469057736634,
          3.86429199301419,
          3.863838247102335,
          3.8633856623235183,
          3.862934232113529,
          3.862483949799157,
          3.862034808600298,
          3.861586724604013,
          3.861139753872099,
          3.860693891918763,
          3.860249131621257,
          3.859805465758453,
          3.859362887012568,
          3.858921387970775,
          3.85848096112686,
          3.8580415988826817,
          3.857603293549709,
          3.857166037350407,
          3.856729822419626,
          3.856294593903323,
          3.855860303980405,
          3.8554270131189816,
          3.854994713212551,
          3.854563396071275,
          3.85413305342295,
          3.853703676914004,
          3.853275258110362,
          3.8528477884983263,
          3.852421259485328,
          3.8519956624007,
          3.8515709884963463,
          3.8511472289473727,
          3.850724270994635,
          3.8503021681896015,
          3.849880934200909,
          3.8494605599902783,
          3.849041036442977,
          3.8486223543680897,
          3.8482045044987134,
          3.8477874774921874,
          3.847371263930169,
          3.8469558543187,
          3.84654123908821,
          3.84612740859349,
          3.845714326592301,
          3.845301911056292,
          3.844890233420811,
          3.84447928380944,
          3.844069052266989,
          3.843659528759075,
          3.84325070317168,
          3.842842565310608,
          3.842435104900903,
          3.8420283115861857,
          3.841622174927995,
          3.841216684404971,
          3.8408118294120537,
          3.840407529216243,
          3.8400037928204385,
          3.839600643781504,
          3.839198071204656,
          3.838796064104344,
          3.838394611403088,
          3.837993701930117,
          3.837593324420073,
          3.8371934675115495,
          3.836794119745636,
          3.836395269564312,
          3.8359969053088614,
          3.835599008204721,
          3.835201478594577,
          3.834804382240972,
          3.8344077066074,
          3.8340114390472624,
          3.833615566801704,
          3.833220076997311,
          3.8328249566437904,
          3.8324301926315294,
          3.8320357717290983,
          3.831641680580652,
          3.831247905703253,
          3.830854433484134,
          3.8304612501778386,
          3.8300683419033095,
          3.829675694640845,
          3.8292832942290462,
          3.8288911263615697,
          3.828499176583876,
          3.828107430289855,
          3.8277158727183354,
          3.8273244889495537,
          3.8269332435733534,
          3.8265421008445895,
          3.82615107824348,
          3.825760159841712,
          3.825369329532814,
          3.82497857102791,
          3.824587867851399,
          3.824197203336537,
          3.823806560620891,
          3.8234159226417166,
          3.8230252721312272,
          3.822634591611723,
          3.822243863390683,
          3.821853069555716,
          3.821462191969372,
          3.821071212263919,
          3.82068011183598,
          3.820288871841056,
          3.819897473187962,
          3.8195058965331543,
          3.81911412227496,
          3.81872213054771,
          3.818329896566029,
          3.8179374012742633,
          3.817544626258986,
          3.8171515504940623,
          3.8167581526584,
          3.8163644111294497,
          3.815970303976701,
          3.8155758089549856,
          3.815180903497822,
          3.814785564710601,
          3.8143897693637174,
          3.8139934938856337,
          3.813596714355898,
          3.813199406498071,
          3.8128015456726225,
          3.812403106869787,
          3.812004064702366,
          3.8116043933985018,
          3.8112040667944296,
          3.8108030583272416,
          3.8104013410276054,
          3.8099988875125126,
          3.8095956724792432,
          3.8091916667588186,
          3.8087868417184287,
          3.808381168404399,
          3.807974617414164,
          3.8075671588893902,
          3.805445345491064,
          3.8058528040158377,
          3.806259355006073,
          3.8066650283201025,
          3.807069853360492,
          3.807473859080917,
          3.8078770741141863,
          3.808279527629279,
          3.8086812449289154,
          3.8090822533961033,
          3.809482580000175,
          3.80988225130404,
          3.8102812934714607,
          3.810679732274296,
          3.811077593099745,
          3.811474900957572,
          3.8118716804873074,
          3.812267955965391,
          3.812663751312275,
          3.813059090099496,
          3.8134539955566593,
          3.813848490578375,
          3.814242597731123,
          3.814636339260074,
          3.815029737095736,
          3.815422812860659,
          3.815815587875937,
          3.816208083167702,
          3.816600317149384,
          3.8169923088766335,
          3.817384083134828,
          3.817775659789635,
          3.81816705844273,
          3.8185582984376536,
          3.818949398865593,
          3.819340378571046,
          3.81973125615739,
          3.820122049992357,
          3.820512778213397,
          3.820903458732901,
          3.8212941092433903,
          3.821684747222565,
          3.8220753899382105,
          3.8224660544530726,
          3.822856757629584,
          3.823247516134488,
          3.8236383464433854,
          3.8240292648451537,
          3.824420287446263,
          3.824811430175027,
          3.8252026755512274,
          3.825594059320009,
          3.825985616891529,
          3.8263773631855496,
          3.8267693129632434,
          3.82716148083072,
          3.827553881242519,
          3.827946528504983,
          3.828339436779512,
          3.828732620085808,
          3.829126092304927,
          3.8295198671823254,
          3.829913958330773,
          3.830308379233203,
          3.830703143245464,
          3.8310982635989848,
          3.831493753403378,
          3.831889625648936,
          3.8322858932090735,
          3.8326825688426456,
          3.83307966519625,
          3.833477194806395,
          3.833875091910535,
          3.8342734561659855,
          3.8346723063473096,
          3.8350716541132233,
          3.835471511021747,
          3.835871888531791,
          3.8362727980047615,
          3.8366742507060176,
          3.8370762578063298,
          3.8374788303831777,
          3.837881979422112,
          3.838285715817917,
          3.8386900160137274,
          3.8390948710066457,
          3.839500361529669,
          3.839906498187859,
          3.840313291502577,
          3.840720751912282,
          3.841128889773354,
          3.8415377153607486,
          3.841947238868663,
          3.842357470411114,
          3.842768420022485,
          3.8431800976579655,
          3.843592513193974,
          3.844005595195163,
          3.844419425689883,
          3.844834040920374,
          3.845249450531843,
          3.845665664093861,
          3.846082691100387,
          3.846500540969763,
          3.8469192230446505,
          3.847338746591952,
          3.847759120802582,
          3.848180354791275,
          3.848602457596309,
          3.8490254155490464,
          3.84944917509802,
          3.8498738490023734,
          3.8502994460870017,
          3.8507259751,
          3.851153444712036,
          3.851581863515678,
          3.852011240024624,
          3.852441582672949,
          3.852872899814225,
          3.8533051997206553,
          3.853738490582079,
          3.854172780504997,
          3.854608009021299,
          3.8550442239520817,
          3.855481480151383,
          3.855919785484355,
          3.8563591477285337,
          3.856799574572449,
          3.8572410736142415,
          3.8576836523601266,
          3.858127318222931,
          3.858572078520437,
          3.859017940473773,
          3.859464911205687,
          3.859912995201971,
          3.860362136400831,
          3.860812418715202,
          3.861263848925193,
          3.8617164337040086,
          3.862170179615864,
          3.862625092375337,
          3.863081179040434,
          3.863538446339964,
          3.863996906247644,
          3.8644565707244265,
          3.864917416294812,
          3.865379448591829,
          3.865842743307555,
          3.8663071956666695,
          3.866772782580536,
          3.86723962549894,
          3.867707977783168,
          3.8681776065366775,
          3.868648515476749,
          3.869120708519938,
          3.869594189771224,
          3.8700689635131327,
          3.870545033415508,
          3.8710223915962705,
          3.8715010457947536,
          3.871981003905203,
          3.8724622736362906,
          3.872944862509251,
          3.87342877785592,
          3.873914026816737,
          3.87440061633862,
          3.874888553172807,
          3.8753778438726223,
          3.8758684947911286,
          3.876360512078777,
          3.8768539016808887,
          3.877348669335124,
          3.877844820568876,
          3.8783423606965384,
          3.878841294816731,
          3.8793416278094432,
          3.879843364333092,
          3.880346508821492,
          3.8808510654807447,
          3.881357038286048,
          3.881864616903345,
          3.88237358646167,
          3.8828839522973295,
          3.883395720277827,
          3.883908895887167,
          3.884423484224116,
          3.8849394900004177,
          3.8854569175389577,
          3.885975770771856,
          3.8864960532385022,
          3.887017768083518,
          3.8875409180546865,
          3.8880655055008257,
          3.888591532369536,
          3.889119000205008,
          3.8896479101456465,
          3.890178262921721,
          3.890710058852924,
          3.891243297845868,
          3.8917779793915304,
          3.892314102562628,
          3.892851666010958,
          3.89339067462932,
          3.8939312698284896,
          3.8944732691820736,
          3.895016672383231,
          3.8955614785722688,
          3.8961076863339663,
          3.896655293694888,
          3.89720429812066,
          3.8977546965131817,
          3.898306485207795,
          3.8988596599704146,
          3.89941421599462,
          3.899970147898704,
          3.9005274497226456,
          3.9010861149250866,
          3.901646136380224,
          3.9022075063746744,
          3.902770216604288,
          3.903334258170927,
          3.903899621579193,
          3.9044662967330654,
          3.9050342729325775,
          3.905603538870342,
          3.906174086786976,
          3.906745939901577,
          3.907319033137228,
          3.907893354105118,
          3.908468889750835,
          3.909045626346872,
          3.909623549485085,
          3.910202644069077,
          3.910782894306448,
          3.911364283701065,
          3.9119467950451896,
          3.9125304104115632,
          3.9131151111454265,
          3.9137008778564546,
          3.9142876946580527,
          3.9148755354866194,
          3.91546437838087,
          3.9160542011451622,
          3.916644980786556,
          3.91723669350718,
          3.9178293146965784,
          3.9184228189239856,
          3.9190171799306177,
          3.919612370621876,
          3.920208363059605,
          3.9208051284542393,
          3.921402637157006,
          3.922000840429849,
          3.922599724739975,
          3.923199264913922,
          3.923799426614658,
          3.924400174717391,
          3.925001473297388,
          3.9256032856178327,
          3.926205574117607,
          3.926808300398972,
          3.9274114252153143,
          3.9280149084587825,
          3.9286187091479543,
          3.929222785415499,
          3.929827091462354,
          3.930431585372592,
          3.931036225330938,
          3.931640965541925,
          3.9322457592876368,
          3.932850558914664,
          3.933455315821081,
          3.9340599804435543,
          3.934664502244576,
          3.935268829699836,
          3.9358729102857497,
          3.936476690467183,
          3.9370801156853927,
          3.937683152942365,
          3.938285750700825,
          3.938887806412415,
          3.939489264270117,
          3.940090067101654,
          3.940690156371256,
          3.941289472182051,
          3.941887953279157,
          3.942485537053281,
          3.9430821595451184,
          3.9436777554504503,
          3.94427225812588,
          3.94486559959551,
          3.9454577209673327,
          3.946048579890823,
          3.946638049440106,
          3.947226059214462,
          3.947812537248886,
          3.948397410038446,
          3.948980602563763,
          3.949562038317817,
          3.9501416393339257,
          3.9507193262150313,
          3.951295018164282,
          3.9518686330169865,
          3.9524400872739225,
          3.9530092961361167,
          3.953576102289316,
          3.954140512439118,
          3.954702434715763,
          3.9552617758381214,
          3.955818441813501,
          3.956372337962256,
          3.95692336894392,
          3.957471438785293,
          3.958016450910157,
          3.958558308171182,
          3.9590969128836218,
          3.959632166861443,
          3.9601639714555223,
          3.960692079435376,
          3.9612165593064823,
          3.961737341608926,
          3.962254316644544,
          3.962767375547651,
          3.9632764102828295,
          3.9637813136459217,
          3.9642819792685233,
          3.964778301626113,
          3.965270176050389,
          3.96575749874579,
          3.96624016681092,
          3.9667180782648095,
          3.967191039059861,
          3.967659028660649,
          3.968122004027004,
          3.968579858643925,
          3.969032488114617,
          3.969479790175568,
          3.969921664719124,
          3.9703580138235415,
          3.970788741791586,
          3.971213755197857,
          3.9716329629455056,
          3.9720462763330375,
          3.9724536091315104,
          3.972854846342899,
          3.973249922049105,
          3.973638799860397,
          3.97402139830705,
          3.974397639585413,
          3.974767449722821,
          3.9751307587522313,
          3.975487500896723,
          3.9758375959194185,
          3.976180970047119,
          3.976517636068457,
          3.9768475394497087,
          3.977170632009694,
          3.9774868721188503,
          3.9777962249114336,
          3.978098662511767,
          3.978394161420604,
          3.978682665454983,
          3.978964240154372,
          3.979238881502485,
          3.9795065947978063,
          3.979767394926145,
          3.980021306653855,
          3.980268364943397,
          3.980508615292603,
          3.9807421016451183,
          3.9809689108262174,
          3.981189122594149,
          3.9814028259292287,
          3.981610122759508,
          3.9818111251737576,
          3.982005966754421,
          3.9821947931645423,
          3.982377762250038,
          3.982555047986625,
          3.9827268373620472,
          3.982893340305222,
          3.983054790842268,
          3.983211432109194,
          3.983363527703473,
          3.983511359667024,
          3.983655220922622,
          3.983795474408388,
          3.9839324681077306,
          3.984066576727479,
          3.984198202661352,
          3.984327744011931,
          3.9844557148186,
          3.9845826057128737,
          3.984708932918816,
          3.9848352486503287,
          3.9849621164375857,
          3.985090196829051,
          3.985220174006722,
          3.985352750372012,
          3.9854886743942983,
          3.985628735472659,
          3.985773786355381,
          3.985924743039057,
          3.9860825558080264,
          3.986248229488898,
          3.986422848649251,
          3.986607548841336,
          3.986803532672345,
          3.987012091724225,
          3.9872345903499737,
          3.987472464206959,
          3.9877272718031023,
          3.9880006734496263,
          3.9882943949166574,
          3.9886102486342354,
          3.9889503616095823,
          3.989316809494481,
          3.9897116816682567,
          3.990137657031787,
          3.99059730125424,
          3.991093220949136,
          3.99162853383608,
          3.9922065735196273,
          3.9928307691022296,
          3.9935049308110626,
          3.994233350639732,
          3.9950206268032926,
          3.9958718596025817,
          3.996792677512703,
          3.9977893931797728,
          3.998868901556894,
          4.0000391896108,
          4.001308700452178,
          4.002687727000964,
          4.004187050034073,
          4.0058202354549515,
          4.007602341947379,
          4.00955186672597,
          4.0116905941473755,
          4.014044801896873,
          4.016646480408178,
          4.019533792709838,
          4.022754745635927,
          4.026369705355814,
          4.030455316306863,
          4.035111021699204,
          4.040464020578233,
          4.046674455243125,
          4.053930948760264,
          4.062336507103181
         ]
        },
        {
         "mode": "markers",
         "name": "Target",
         "type": "scatter",
         "x": [
          0,
          2,
          4,
          6,
          8,
          10,
          12,
          14,
          16,
          18,
          20,
          22,
          24,
          26,
          28,
          30,
          32,
          34,
          36,
          38,
          40,
          42,
          44,
          46,
          48,
          50,
          52,
          54,
          56,
          58,
          60,
          62,
          64,
          66,
          68,
          70,
          72,
          74,
          76,
          78,
          80,
          82,
          84,
          86,
          88,
          90,
          92,
          94,
          96,
          98,
          100,
          102,
          104,
          106,
          108,
          110,
          112,
          114,
          116,
          118,
          120,
          122,
          124,
          126,
          128,
          130,
          132,
          134,
          136,
          138,
          140,
          142,
          144,
          146,
          148,
          150,
          152,
          154,
          156,
          158,
          160,
          162,
          164,
          166,
          168,
          170,
          172,
          174,
          176,
          178,
          180,
          182,
          184,
          186,
          188,
          190,
          192,
          194,
          196,
          198,
          200,
          202,
          204,
          206,
          208,
          210,
          212,
          214,
          216,
          218,
          220,
          222,
          224,
          226,
          228,
          230,
          232,
          234,
          236,
          238,
          240,
          242,
          244,
          246,
          248,
          250,
          252,
          254,
          256,
          258,
          260,
          262,
          264,
          266,
          268,
          270,
          272,
          274,
          276,
          278,
          280,
          282,
          284,
          286,
          288,
          290,
          292,
          294,
          296,
          298,
          300,
          302,
          304,
          306,
          308,
          310,
          312,
          314,
          316,
          318,
          320,
          322,
          324,
          326,
          328,
          330,
          332,
          334,
          336,
          338,
          340,
          342,
          344,
          346,
          348,
          350,
          352,
          354,
          356,
          358,
          360,
          362,
          364,
          366,
          368,
          370,
          372,
          374,
          376,
          378,
          380,
          382,
          384,
          386,
          388,
          390,
          392,
          394,
          396,
          398,
          400,
          402,
          404,
          406,
          408,
          410,
          412,
          414,
          416,
          418,
          420,
          422,
          424,
          426,
          428,
          430,
          432,
          434,
          436,
          438,
          440,
          442,
          444,
          446,
          448,
          450,
          452,
          454,
          456,
          458,
          460,
          462,
          464,
          466,
          468,
          470,
          472,
          474,
          476,
          478,
          480,
          482,
          484,
          486,
          488,
          490,
          492,
          494,
          496,
          498,
          500,
          502,
          504,
          506,
          508,
          510,
          512,
          514,
          516,
          518,
          520,
          522,
          524,
          526,
          528,
          530,
          532,
          534,
          536,
          538,
          540,
          542,
          544,
          546,
          548,
          550,
          552,
          554,
          556,
          558,
          560,
          562,
          564,
          566,
          568,
          570,
          572,
          574,
          576,
          578,
          580,
          582,
          584,
          586,
          588,
          590,
          592,
          594,
          596,
          598,
          600,
          602,
          604,
          606,
          608,
          610,
          612,
          614,
          616,
          618,
          620,
          622,
          624,
          626,
          628,
          630,
          632,
          634,
          636,
          638,
          640,
          642,
          644,
          646,
          648,
          650,
          652,
          654,
          656,
          658,
          660,
          662,
          664,
          666,
          668,
          670,
          672,
          674,
          676,
          678,
          680,
          682,
          684,
          686,
          688,
          690,
          692,
          694,
          696,
          698,
          700,
          702,
          704,
          706,
          708,
          710,
          712,
          714,
          716,
          718,
          720,
          722,
          724,
          726,
          728,
          730,
          732,
          734,
          736,
          738,
          740,
          742,
          744,
          746,
          748,
          750,
          752,
          754,
          756,
          758,
          760,
          762,
          764,
          766,
          768,
          770,
          772,
          774,
          776,
          778,
          780,
          782,
          784,
          786,
          788,
          790,
          792,
          794,
          796,
          798,
          800,
          802,
          804,
          806,
          808,
          810,
          812,
          814,
          816,
          818,
          820,
          822,
          824,
          826,
          828,
          830,
          832,
          834,
          836,
          838,
          840,
          842,
          844,
          846,
          848,
          850,
          852,
          854,
          856,
          858,
          860,
          862,
          864,
          866,
          868,
          870,
          872,
          874,
          876,
          878,
          880,
          882,
          884,
          886,
          888,
          890,
          892,
          894,
          896,
          898
         ],
         "y": [
          4.063766615038272,
          4.055347026526715,
          4.046888251680567,
          4.041651559638272,
          4.036084848086105,
          4.030312191583603,
          4.028432380301851,
          4.024134326208111,
          4.020718477366584,
          4.01826318716266,
          4.015124237587261,
          4.01095181116977,
          4.010959267576446,
          4.007910075821095,
          4.008017026534262,
          4.005238601258139,
          4.001827919179753,
          4.00453773200696,
          4.002402266155831,
          4.000184214612106,
          3.9995515186981914,
          3.996995332053068,
          3.995177043200375,
          3.997171418952401,
          3.994764901774827,
          3.9950074090992698,
          3.99385383278708,
          3.993730405849108,
          3.99168165972527,
          3.993483841666832,
          3.9914989522418023,
          3.9905313356256817,
          3.9933724966583672,
          3.988378129662939,
          3.989764823181861,
          3.9885611037267177,
          3.988559194360511,
          3.988269148749386,
          3.988238321593786,
          3.990224262803108,
          3.989524750957501,
          3.986268466331111,
          3.987600735285836,
          3.98893442277192,
          3.988241819106558,
          3.9864108364449686,
          3.9883946844594353,
          3.986132469131501,
          3.985430402094664,
          3.98640980081397,
          3.9853286820676863,
          3.985793611490026,
          3.9860861268514176,
          3.9851231592676433,
          3.987890614344661,
          3.985561221696603,
          3.9874416349593114,
          3.9854026779276497,
          3.9868641600563826,
          3.985872856461782,
          3.986478874582215,
          3.985894405174802,
          3.9855997912052303,
          3.984419577944207,
          3.9832170021118953,
          3.984915699700496,
          3.9858117463856986,
          3.983794186650886,
          3.984627429314067,
          3.9832290056569257,
          3.984763116181034,
          3.9844466621666785,
          3.9844363911315144,
          3.98176397217256,
          3.980290414534456,
          3.9818310102476246,
          3.982894894985081,
          3.982971837931911,
          3.981919006944154,
          3.983961961880057,
          3.981082782525831,
          3.98154101899838,
          3.982399147338916,
          3.979550316284578,
          3.980777401420939,
          3.9817483081866656,
          3.9806952719418542,
          3.9782976845379183,
          3.9786449399916815,
          3.979550712541695,
          3.980141828604427,
          3.978313381522482,
          3.977079196022803,
          3.977490151196053,
          3.978800394916369,
          3.977264631702401,
          3.978195392499222,
          3.9781289292408615,
          3.977388523661405,
          3.976341512120868,
          3.975028077105661,
          3.9770162552106942,
          3.974593009501583,
          3.974129216473858,
          3.976052740642858,
          3.9730649968801575,
          3.974648186340009,
          3.973259788713131,
          3.972909525428935,
          3.971667094500572,
          3.970678132192676,
          3.9718824064983105,
          3.971584579536206,
          3.971612072049483,
          3.970594027589356,
          3.970953962176267,
          3.968850478959772,
          3.96793477243484,
          3.969220093404579,
          3.9667098269383736,
          3.969964893281222,
          3.964931335451744,
          3.9655746184755434,
          3.963502507582772,
          3.9648711714385425,
          3.9631916296805074,
          3.96268547206851,
          3.9640645422485625,
          3.965361461979576,
          3.962080133913093,
          3.9625417670027314,
          3.962031598221051,
          3.9611772333545057,
          3.960845057803919,
          3.959800956700075,
          3.9609667573312857,
          3.960318489761386,
          3.957488219496922,
          3.956809995715678,
          3.9579831825659983,
          3.9578866449604577,
          3.956754560888196,
          3.956428963115653,
          3.9569962888941967,
          3.9546981467427,
          3.9540266171111336,
          3.9536867732929704,
          3.9538548068888857,
          3.9514663725033095,
          3.951497027004693,
          3.9502776715691903,
          3.949640979832731,
          3.948649119059432,
          3.949184283306578,
          3.95030457744666,
          3.9479656560194702,
          3.950279385899929,
          3.947687694781781,
          3.94744363187631,
          3.9447431920234624,
          3.9443165511317817,
          3.944807275915567,
          3.943244865694062,
          3.9427999396921094,
          3.944261181767336,
          3.940899458824193,
          3.940983887084527,
          3.941371232980305,
          3.94017715268593,
          3.9387703292792793,
          3.940708049106405,
          3.9382866771125222,
          3.938494927979451,
          3.938865151149417,
          3.9352511090355047,
          3.9356249653112614,
          3.9347448334114423,
          3.934248660937708,
          3.934999890721485,
          3.9341807069881622,
          3.933638661116357,
          3.93188008951488,
          3.9324857523456647,
          3.9330179676787407,
          3.932030480299193,
          3.9306754471525664,
          3.928884697838489,
          3.9287091849760745,
          3.926525830942548,
          3.928731358321464,
          3.92564062488089,
          3.927006517786558,
          3.926274975721286,
          3.925275021250464,
          3.924516673259597,
          3.925327548073805,
          3.923968241216764,
          3.9235818519272994,
          3.9220898139958313,
          3.921565038984273,
          3.9225987091943946,
          3.9216797800033665,
          3.921520181828624,
          3.918237610699066,
          3.918807161500553,
          3.919951950629526,
          3.9206064471454583,
          3.918239509668187,
          3.9156042789752896,
          3.918080896365676,
          3.9168506658565905,
          3.9143153262612738,
          3.913605507789458,
          3.913403082736573,
          3.9135153200583273,
          3.9108765522464193,
          3.9119728557148776,
          3.911912132598821,
          3.908961363578715,
          3.909016634167384,
          3.9092012824466407,
          3.908861592041687,
          3.908681595899965,
          3.9065439021343664,
          3.907340339983547,
          3.907719578079045,
          3.905908735381989,
          3.904713684667116,
          3.904939137041487,
          3.902776466434739,
          3.9034005272953696,
          3.903871026152845,
          3.90351997014436,
          3.9025636686923257,
          3.902287367974386,
          3.9002271463467824,
          3.899814768596363,
          3.9006012748057017,
          3.8979532460299713,
          3.899394797438973,
          3.89959135971848,
          3.8991091898973607,
          3.897979924758292,
          3.897051699498517,
          3.896835806675986,
          3.8954731663549063,
          3.894329346283228,
          3.893942396872436,
          3.8953462253147086,
          3.8923963185873514,
          3.892207211880495,
          3.8935137762073726,
          3.891196033638067,
          3.8924626664803985,
          3.888981558423561,
          3.892122200242589,
          3.889227660160607,
          3.888693660950026,
          3.8890744315171824,
          3.8902600706970976,
          3.8871381874743665,
          3.885953459696169,
          3.8853101171862305,
          3.885977403912898,
          3.885372358921568,
          3.88303830115534,
          3.883864022611429,
          3.884777194605211,
          3.884886131870058,
          3.8828507454739434,
          3.881152329612826,
          3.882281562617418,
          3.8824343436144257,
          3.880950911507418,
          3.8802400975631968,
          3.8804261438044265,
          3.8797094503244263,
          3.879701806038266,
          3.878017216734086,
          3.878113640891222,
          3.879236676420687,
          3.876721943585403,
          3.87634619260526,
          3.8746570682579047,
          3.8747663189332897,
          3.875818259987654,
          3.872366684272034,
          3.874743889654071,
          3.872819059744377,
          3.8713068345984434,
          3.873926199130008,
          3.871892915333893,
          3.8711244175081223,
          3.8713598981921673,
          3.8694012099360098,
          3.870680772951998,
          3.870410350122405,
          3.8698006845876,
          3.869197947278966,
          3.8671289726173734,
          3.867849205049668,
          3.867609960369193,
          3.8657174755635024,
          3.866413373541229,
          3.8662958726462495,
          3.865768218114033,
          3.864615119647024,
          3.865663083203446,
          3.8630853175548663,
          3.863250804749552,
          3.863012752253663,
          3.8630412717984552,
          3.8636740939563983,
          3.863257385837275,
          3.860796347473389,
          3.8618305287438366,
          3.859217852679095,
          3.8600162914490985,
          3.860799802162212,
          3.857819599674143,
          3.8599991753584626,
          3.856215891167527,
          3.8588699057210416,
          3.856242887048386,
          3.8564687549288856,
          3.856980792077119,
          3.8568987659743734,
          3.8575827615426177,
          3.854339866718487,
          3.855703799718036,
          3.856240195390902,
          3.853694365448336,
          3.8540068319027423,
          3.853497981977703,
          3.850435499394477,
          3.85017206561899,
          3.851213736052692,
          3.851087551682031,
          3.8518160835126376,
          3.851239845599939,
          3.848434399061387,
          3.848505136307469,
          3.847927426660232,
          3.848601324744481,
          3.8484172720067407,
          3.8483849264517263,
          3.849502686169691,
          3.845643246910342,
          3.845959113621842,
          3.8462451849937977,
          3.845550879901952,
          3.8455902243703526,
          3.843524396198685,
          3.844102840581636,
          3.8430193356027247,
          3.845356232630326,
          3.8441326660015127,
          3.840728247463448,
          3.842781228973563,
          3.841998361546287,
          3.840743800480641,
          3.841537200461888,
          3.8405529178380062,
          3.839848254375025,
          3.84073618500955,
          3.840706160120692,
          3.837318168080091,
          3.8380128126498576,
          3.840340246523285,
          3.838431692851306,
          3.839566263853612,
          3.838371158434279,
          3.835997568264091,
          3.8351879025035864,
          3.8348106580301953,
          3.836927242423968,
          3.8365504896229097,
          3.8346285665075976,
          3.837377704861987,
          3.834017967468721,
          3.8335400658457033,
          3.833025972355043,
          3.8327972681239433,
          3.831916319057857,
          3.832417328795066,
          3.8340781487453865,
          3.832821679829236,
          3.829784037023579,
          3.829763268675516,
          3.830140448119536,
          3.8290133869372607,
          3.82939005991013,
          3.830395252181539,
          3.828324937479579,
          3.8279985117214457,
          3.827093812289111,
          3.8276331600893694,
          3.825418436769915,
          3.825705259292321,
          3.827943817927957,
          3.825255418886575,
          3.823687602901275,
          3.8254157101107182,
          3.824996780345293,
          3.823449511851582,
          3.827696826247711,
          3.824926860984399,
          3.821228055618123,
          3.822878980581137,
          3.823078649056603,
          3.821781566445678,
          3.821619381508941,
          3.820300701511277,
          3.8199852660226674,
          3.818905266929785,
          3.818607949913291,
          3.818715092496598,
          3.817952541485566,
          3.818936144132713,
          3.818628032061025,
          3.8178859786511463,
          3.816627779909325,
          3.818286632226881,
          3.818000982464898,
          3.816960053249001,
          3.8150153970422416,
          3.815209564965538,
          3.815986428908258,
          3.8155537052621553,
          3.8137172652358986,
          3.814446436419453,
          3.8145333341724577,
          3.815853424246921,
          3.814031057938185,
          3.8121417883619495,
          3.8133995391295943,
          3.810958980109545,
          3.810456878830927,
          3.8098424004613185,
          3.810285380726005,
          3.809759253383596,
          3.809859493147646,
          3.807527390752216,
          3.809916535294804,
          3.8090681738034338,
          3.807577308643072,
          3.809621569556448,
          3.808249752024658,
          3.8080809062041503,
          3.8058012979439737
         ]
        },
        {
         "line": {
          "width": 4
         },
         "mode": "lines",
         "name": "Model",
         "type": "scatter",
         "x": [
          0,
          2,
          4,
          6,
          8,
          10,
          12,
          14,
          16,
          18,
          20,
          22,
          24,
          26,
          28,
          30,
          32,
          34,
          36,
          38,
          40,
          42,
          44,
          46,
          48,
          50,
          52,
          54,
          56,
          58,
          60,
          62,
          64,
          66,
          68,
          70,
          72,
          74,
          76,
          78,
          80,
          82,
          84,
          86,
          88,
          90,
          92,
          94,
          96,
          98,
          100,
          102,
          104,
          106,
          108,
          110,
          112,
          114,
          116,
          118,
          120,
          122,
          124,
          126,
          128,
          130,
          132,
          134,
          136,
          138,
          140,
          142,
          144,
          146,
          148,
          150,
          152,
          154,
          156,
          158,
          160,
          162,
          164,
          166,
          168,
          170,
          172,
          174,
          176,
          178,
          180,
          182,
          184,
          186,
          188,
          190,
          192,
          194,
          196,
          198,
          200,
          202,
          204,
          206,
          208,
          210,
          212,
          214,
          216,
          218,
          220,
          222,
          224,
          226,
          228,
          230,
          232,
          234,
          236,
          238,
          240,
          242,
          244,
          246,
          248,
          250,
          252,
          254,
          256,
          258,
          260,
          262,
          264,
          266,
          268,
          270,
          272,
          274,
          276,
          278,
          280,
          282,
          284,
          286,
          288,
          290,
          292,
          294,
          296,
          298,
          300,
          302,
          304,
          306,
          308,
          310,
          312,
          314,
          316,
          318,
          320,
          322,
          324,
          326,
          328,
          330,
          332,
          334,
          336,
          338,
          340,
          342,
          344,
          346,
          348,
          350,
          352,
          354,
          356,
          358,
          360,
          362,
          364,
          366,
          368,
          370,
          372,
          374,
          376,
          378,
          380,
          382,
          384,
          386,
          388,
          390,
          392,
          394,
          396,
          398,
          400,
          402,
          404,
          406,
          408,
          410,
          412,
          414,
          416,
          418,
          420,
          422,
          424,
          426,
          428,
          430,
          432,
          434,
          436,
          438,
          440,
          442,
          444,
          446,
          448,
          450,
          452,
          454,
          456,
          458,
          460,
          462,
          464,
          466,
          468,
          470,
          472,
          474,
          476,
          478,
          480,
          482,
          484,
          486,
          488,
          490,
          492,
          494,
          496,
          498,
          500,
          502,
          504,
          506,
          508,
          510,
          512,
          514,
          516,
          518,
          520,
          522,
          524,
          526,
          528,
          530,
          532,
          534,
          536,
          538,
          540,
          542,
          544,
          546,
          548,
          550,
          552,
          554,
          556,
          558,
          560,
          562,
          564,
          566,
          568,
          570,
          572,
          574,
          576,
          578,
          580,
          582,
          584,
          586,
          588,
          590,
          592,
          594,
          596,
          598,
          600,
          602,
          604,
          606,
          608,
          610,
          612,
          614,
          616,
          618,
          620,
          622,
          624,
          626,
          628,
          630,
          632,
          634,
          636,
          638,
          640,
          642,
          644,
          646,
          648,
          650,
          652,
          654,
          656,
          658,
          660,
          662,
          664,
          666,
          668,
          670,
          672,
          674,
          676,
          678,
          680,
          682,
          684,
          686,
          688,
          690,
          692,
          694,
          696,
          698,
          700,
          702,
          704,
          706,
          708,
          710,
          712,
          714,
          716,
          718,
          720,
          722,
          724,
          726,
          728,
          730,
          732,
          734,
          736,
          738,
          740,
          742,
          744,
          746,
          748,
          750,
          752,
          754,
          756,
          758,
          760,
          762,
          764,
          766,
          768,
          770,
          772,
          774,
          776,
          778,
          780,
          782,
          784,
          786,
          788,
          790,
          792,
          794,
          796,
          798,
          800,
          802,
          804,
          806,
          808,
          810,
          812,
          814,
          816,
          818,
          820,
          822,
          824,
          826,
          828,
          830,
          832,
          834,
          836,
          838,
          840,
          842,
          844,
          846,
          848,
          850,
          852,
          854,
          856,
          858,
          860,
          862,
          864,
          866,
          868,
          870,
          872,
          874,
          876,
          878,
          880,
          882,
          884,
          886,
          888,
          890,
          892,
          894,
          896,
          898
         ],
         "y": [
          4.0633974138023445,
          4.054991855459428,
          4.047735361942289,
          4.041524927277397,
          4.0361719283983675,
          4.031516223006027,
          4.027430612054977,
          4.023815652335091,
          4.020594699409002,
          4.017707387107341,
          4.015105708596036,
          4.012751500846539,
          4.010612773425134,
          4.008663248646543,
          4.006881142154115,
          4.005247956733236,
          4.003748633700128,
          4.0023696071513415,
          4.001100096309964,
          3.999929808256057,
          3.998850299878936,
          3.997853584211866,
          3.996932766301744,
          3.996081533502456,
          3.995294257338895,
          3.9945658375102258,
          3.9938916758013927,
          3.9932674802187904,
          3.992689440535243,
          3.9921541276482992,
          3.991658207953403,
          3.99119856373095,
          3.99077258836742,
          3.990377716193644,
          3.990011268308746,
          3.9896711553333986,
          3.989355301615821,
          3.98906158014879,
          3.9887881785022654,
          3.9885333709061226,
          3.988295497049136,
          3.988072998423388,
          3.987864439371508,
          3.9876684555404993,
          3.9874837553484146,
          3.987309136188061,
          3.9871434625071895,
          3.98698564973822,
          3.986834693054544,
          3.986689642171822,
          3.9865495810934615,
          3.986413657071175,
          3.986281080705885,
          3.986151103528214,
          3.986023023136749,
          3.985896155349492,
          3.985769839617979,
          3.985643512412037,
          3.985516621517763,
          3.9853886507110943,
          3.985259109360515,
          3.985127483426642,
          3.9849933748068938,
          3.984856381107551,
          3.9847161276217857,
          3.984572266366187,
          3.984424434402636,
          3.984272338808357,
          3.9841156975414314,
          3.983954247004385,
          3.9837877440612104,
          3.983615954685788,
          3.983438668949201,
          3.983255699863706,
          3.983066873453584,
          3.9828720318729207,
          3.982671029458671,
          3.982463732628392,
          3.982250029293312,
          3.982029817525381,
          3.981803008344282,
          3.981569521991766,
          3.98132927164256,
          3.981082213353018,
          3.980828301625308,
          3.9805675014969695,
          3.980299788201647,
          3.980025146853535,
          3.9797435721541463,
          3.979455068119767,
          3.97915956921093,
          3.9788571316105967,
          3.9785477788180135,
          3.978231538708857,
          3.977908446148872,
          3.97757854276762,
          3.977241876746282,
          3.9768985026185817,
          3.9765484075958866,
          3.9761916654513945,
          3.975828356421984,
          3.975458546284575,
          3.975082305006213,
          3.97469970655956,
          3.974310828748268,
          3.973915753042062,
          3.9735145158306735,
          3.9731071830322007,
          3.9726938696446688,
          3.97227466189702,
          3.9718496484907497,
          3.9714189205227046,
          3.970982571418287,
          3.970540696874731,
          3.97009339481378,
          3.969640765343088,
          3.9691829107261674,
          3.968719935359812,
          3.968251945759024,
          3.9677789849639726,
          3.967301073510083,
          3.966818405444953,
          3.966331082749552,
          3.965839208325276,
          3.9653428859676865,
          3.964842220345085,
          3.9643373169819927,
          3.9638282822468143,
          3.963315223343707,
          3.962798248308089,
          3.9622774660056455,
          3.961752986134539,
          3.9612248781546855,
          3.960693073560606,
          3.960157819582785,
          3.959619214870345,
          3.95907735760932,
          3.958532345484456,
          3.957984275643083,
          3.957433244661419,
          3.956879348512664,
          3.9563226825372846,
          3.9557633414149262,
          3.955201419138281,
          3.9546370089884793,
          3.95407020283528,
          3.9535009939730856,
          3.9529295397161497,
          3.952355924863445,
          3.9517802329141944,
          3.951202546033089,
          3.95062294501698,
          3.950041509262926,
          3.949458316737609,
          3.9488734439480497,
          3.948286965913625,
          3.947698956139269,
          3.9471094865899863,
          3.946518627666496,
          3.945926506294674,
          3.945333164825043,
          3.9447386621496134,
          3.9441430662442816,
          3.943546443752444,
          3.94294885997832,
          3.942350378881214,
          3.941751063070419,
          3.9411509738008177,
          3.94055017096928,
          3.939948713111578,
          3.939346657399988,
          3.938744059641528,
          3.938141022384556,
          3.937537597166346,
          3.936933816984912,
          3.9363297363989993,
          3.935725408943739,
          3.9351208871427175,
          3.934516222520245,
          3.933911465613827,
          3.9333066659868,
          3.932701872241088,
          3.932097132030101,
          3.9314924920717553,
          3.930887998161517,
          3.930283692114662,
          3.9296796158471174,
          3.9290758151579457,
          3.928472331914478,
          3.9278692070981354,
          3.9272664808167703,
          3.926664192316996,
          3.926062379996551,
          3.9254610814165543,
          3.924860333313821,
          3.924260171613085,
          3.9236606314391382,
          3.923061747129012,
          3.922463543856169,
          3.9218660351534025,
          3.921269269758768,
          3.920673277321039,
          3.920078086629781,
          3.9194837256231487,
          3.9188902213957415,
          3.918297600206343,
          3.9177058874857194,
          3.917115107844326,
          3.916525285080033,
          3.9159364421857825,
          3.915348601357216,
          3.9147617845556177,
          3.9141760178445897,
          3.9135913171107264,
          3.9130077017443528,
          3.912425190400228,
          3.911843801005611,
          3.91126355076824,
          3.910684456184248,
          3.9101065330460343,
          3.909529796449998,
          3.9089542608042818,
          3.908379939836391,
          3.907806846600739,
          3.907234993486139,
          3.906664445569505,
          3.9060951796317407,
          3.9055272034322286,
          3.904960528278356,
          3.90439516487009,
          3.903831123303451,
          3.9032684130738375,
          3.902707043079387,
          3.9021470216242498,
          3.901588356421809,
          3.901031054597867,
          3.9004751226937833,
          3.8999205666695778,
          3.8993673919069582,
          3.898815603212345,
          3.898265204819823,
          3.897716200394051,
          3.8971685930331295,
          3.896622385271432,
          3.896077579082394,
          3.8955341758812367,
          3.8949921765276527,
          3.8944515813284832,
          3.893912572710121,
          3.893375009261791,
          3.8928388860906935,
          3.892304204545031,
          3.8917709655520873,
          3.891239169620884,
          3.8907088168448096,
          3.890179906904171,
          3.889652439068699,
          3.889126412199989,
          3.8886018247538496,
          3.888078674782681,
          3.887556959937666,
          3.887036677471019,
          3.886517824238121,
          3.886000396699581,
          3.885484390923279,
          3.88496980258633,
          3.88445662697699,
          3.8839448589964927,
          3.883434493160834,
          3.882925523602508,
          3.882417944985211,
          3.881911972179908,
          3.881407415520655,
          3.880904271032255,
          3.8804025345086064,
          3.879902201515894,
          3.8794032673957015,
          3.878905727268039,
          3.878409576034287,
          3.877914808380052,
          3.87742141877794,
          3.876929401490292,
          3.8764387505717854,
          3.87594945987197,
          3.8754615230377834,
          3.874974933515899,
          3.874489684555083,
          3.874005769208414,
          3.8735231803354537,
          3.8730419106043663,
          3.8725619524939168,
          3.8720832982954336,
          3.871605940114671,
          3.871129870212296,
          3.8706550964703874,
          3.870181615219101,
          3.869709422175912,
          3.8692385132358407,
          3.868768884482331,
          3.868300532198103,
          3.867833689279699,
          3.8673681023658326,
          3.866903650006718,
          3.866440355290992,
          3.865978322993975,
          3.8655174774235896,
          3.8650578129468074,
          3.8645993530391274,
          3.864142085739597,
          3.8636859990745,
          3.863231086315027,
          3.862777340403172,
          3.862324755624355,
          3.861873325414366,
          3.861423043099994,
          3.860973901901134,
          3.86052581790485,
          3.860078847172936,
          3.8596329852196,
          3.859188224922094,
          3.8587445590592897,
          3.8583019803134047,
          3.857860481271612,
          3.857420054427697,
          3.8569806921835186,
          3.856542386850546,
          3.856105130651245,
          3.855668915720462,
          3.85523368720416,
          3.854799397281242,
          3.8543661064198185,
          3.853933806513388,
          3.853502489372112,
          3.853072146723787,
          3.852642770214841,
          3.852214351411199,
          3.851786881799163,
          3.851360352786165,
          3.850934755701537,
          3.850510081797183,
          3.8500863222482096,
          3.849663364295472,
          3.8492412614904383,
          3.8488200275017457,
          3.848399653291115,
          3.8479801297438136,
          3.847561447668926,
          3.8471435977995503,
          3.846726570793024,
          3.846310357231006,
          3.845894947619537,
          3.8454803323890463,
          3.845066501894326,
          3.8446534198931377,
          3.8442410043571287,
          3.843829326721648,
          3.843418377110277,
          3.843008145567826,
          3.842598622059912,
          3.842189796472517,
          3.841781658611445,
          3.84137419820174,
          3.840967404887022,
          3.840561268228832,
          3.840155777705808,
          3.8397509227128905,
          3.83934662251708,
          3.8389428861212753,
          3.838539737082341,
          3.838137164505493,
          3.837735157405181,
          3.8373337047039247,
          3.836932795230954,
          3.83653241772091,
          3.8361325608123864,
          3.8357332130464727,
          3.8353343628651486,
          3.8349359986096982,
          3.834538101505558,
          3.834140571895414,
          3.8337434755418087,
          3.8333467999082367,
          3.8329505323480992,
          3.832554660102541,
          3.832159170298148,
          3.8317640499446273,
          3.8313692859323663,
          3.830974865029936,
          3.830580773881489,
          3.83018699900409,
          3.829793526784971,
          3.8294003434786754,
          3.8290074352041463,
          3.828614787941682,
          3.828222387529883,
          3.8278302196624066,
          3.8274382698847127,
          3.827046523590692,
          3.826654966019172,
          3.8262635822503905,
          3.8258723368741903,
          3.8254811941454263,
          3.825090171544317,
          3.824699253142549,
          3.824308422833651,
          3.823917664328747,
          3.823526961152236,
          3.8231362966373736,
          3.822745653921728,
          3.8223550159425534,
          3.821964365432064,
          3.82157368491256,
          3.82118295669152,
          3.820792162856553,
          3.820401285270209,
          3.820010305564756,
          3.8196192051368167,
          3.819227965141893,
          3.818836566488798,
          3.818444989833991,
          3.8180532155757967,
          3.817661223848547,
          3.8172689898668657,
          3.8168764945751,
          3.8164837195598222,
          3.816090643794899,
          3.815697245959237,
          3.815303504430286,
          3.814909397277538,
          3.8145149022558225,
          3.814119996798659,
          3.813724658011438,
          3.8133288626645543,
          3.8129325871864705,
          3.812535807656735,
          3.812138499798908,
          3.8117406389734594,
          3.811342200170624,
          3.810943158003203,
          3.810543486699338,
          3.8101431600952664,
          3.8097421516280785,
          3.8093404343284423,
          3.8089379808133494,
          3.80853476578008,
          3.808130760059655,
          3.8077259350192656,
          3.807320261705236,
          3.806913710715001,
          3.806506252190227
         ]
        }
       ],
       "layout": {
        "autosize": false,
        "height": 576,
        "legend": {
         "font": {
          "size": 12
         },
         "x": 1,
         "xanchor": "right",
         "y": 1,
         "yanchor": "top"
        },
        "margin": {
         "b": 10,
         "l": 10,
         "pad": 4,
         "r": 10,
         "t": 75
        },
        "showlegend": true,
        "template": {
         "data": {
          "bar": [
           {
            "error_x": {
             "color": "#2a3f5f"
            },
            "error_y": {
             "color": "#2a3f5f"
            },
            "marker": {
             "line": {
              "color": "#E5ECF6",
              "width": 0.5
             },
             "pattern": {
              "fillmode": "overlay",
              "size": 10,
              "solidity": 0.2
             }
            },
            "type": "bar"
           }
          ],
          "barpolar": [
           {
            "marker": {
             "line": {
              "color": "#E5ECF6",
              "width": 0.5
             },
             "pattern": {
              "fillmode": "overlay",
              "size": 10,
              "solidity": 0.2
             }
            },
            "type": "barpolar"
           }
          ],
          "carpet": [
           {
            "aaxis": {
             "endlinecolor": "#2a3f5f",
             "gridcolor": "white",
             "linecolor": "white",
             "minorgridcolor": "white",
             "startlinecolor": "#2a3f5f"
            },
            "baxis": {
             "endlinecolor": "#2a3f5f",
             "gridcolor": "white",
             "linecolor": "white",
             "minorgridcolor": "white",
             "startlinecolor": "#2a3f5f"
            },
            "type": "carpet"
           }
          ],
          "choropleth": [
           {
            "colorbar": {
             "outlinewidth": 0,
             "ticks": ""
            },
            "type": "choropleth"
           }
          ],
          "contour": [
           {
            "colorbar": {
             "outlinewidth": 0,
             "ticks": ""
            },
            "colorscale": [
             [
              0,
              "#0d0887"
             ],
             [
              0.1111111111111111,
              "#46039f"
             ],
             [
              0.2222222222222222,
              "#7201a8"
             ],
             [
              0.3333333333333333,
              "#9c179e"
             ],
             [
              0.4444444444444444,
              "#bd3786"
             ],
             [
              0.5555555555555556,
              "#d8576b"
             ],
             [
              0.6666666666666666,
              "#ed7953"
             ],
             [
              0.7777777777777778,
              "#fb9f3a"
             ],
             [
              0.8888888888888888,
              "#fdca26"
             ],
             [
              1,
              "#f0f921"
             ]
            ],
            "type": "contour"
           }
          ],
          "contourcarpet": [
           {
            "colorbar": {
             "outlinewidth": 0,
             "ticks": ""
            },
            "type": "contourcarpet"
           }
          ],
          "heatmap": [
           {
            "colorbar": {
             "outlinewidth": 0,
             "ticks": ""
            },
            "colorscale": [
             [
              0,
              "#0d0887"
             ],
             [
              0.1111111111111111,
              "#46039f"
             ],
             [
              0.2222222222222222,
              "#7201a8"
             ],
             [
              0.3333333333333333,
              "#9c179e"
             ],
             [
              0.4444444444444444,
              "#bd3786"
             ],
             [
              0.5555555555555556,
              "#d8576b"
             ],
             [
              0.6666666666666666,
              "#ed7953"
             ],
             [
              0.7777777777777778,
              "#fb9f3a"
             ],
             [
              0.8888888888888888,
              "#fdca26"
             ],
             [
              1,
              "#f0f921"
             ]
            ],
            "type": "heatmap"
           }
          ],
          "heatmapgl": [
           {
            "colorbar": {
             "outlinewidth": 0,
             "ticks": ""
            },
            "colorscale": [
             [
              0,
              "#0d0887"
             ],
             [
              0.1111111111111111,
              "#46039f"
             ],
             [
              0.2222222222222222,
              "#7201a8"
             ],
             [
              0.3333333333333333,
              "#9c179e"
             ],
             [
              0.4444444444444444,
              "#bd3786"
             ],
             [
              0.5555555555555556,
              "#d8576b"
             ],
             [
              0.6666666666666666,
              "#ed7953"
             ],
             [
              0.7777777777777778,
              "#fb9f3a"
             ],
             [
              0.8888888888888888,
              "#fdca26"
             ],
             [
              1,
              "#f0f921"
             ]
            ],
            "type": "heatmapgl"
           }
          ],
          "histogram": [
           {
            "marker": {
             "pattern": {
              "fillmode": "overlay",
              "size": 10,
              "solidity": 0.2
             }
            },
            "type": "histogram"
           }
          ],
          "histogram2d": [
           {
            "colorbar": {
             "outlinewidth": 0,
             "ticks": ""
            },
            "colorscale": [
             [
              0,
              "#0d0887"
             ],
             [
              0.1111111111111111,
              "#46039f"
             ],
             [
              0.2222222222222222,
              "#7201a8"
             ],
             [
              0.3333333333333333,
              "#9c179e"
             ],
             [
              0.4444444444444444,
              "#bd3786"
             ],
             [
              0.5555555555555556,
              "#d8576b"
             ],
             [
              0.6666666666666666,
              "#ed7953"
             ],
             [
              0.7777777777777778,
              "#fb9f3a"
             ],
             [
              0.8888888888888888,
              "#fdca26"
             ],
             [
              1,
              "#f0f921"
             ]
            ],
            "type": "histogram2d"
           }
          ],
          "histogram2dcontour": [
           {
            "colorbar": {
             "outlinewidth": 0,
             "ticks": ""
            },
            "colorscale": [
             [
              0,
              "#0d0887"
             ],
             [
              0.1111111111111111,
              "#46039f"
             ],
             [
              0.2222222222222222,
              "#7201a8"
             ],
             [
              0.3333333333333333,
              "#9c179e"
             ],
             [
              0.4444444444444444,
              "#bd3786"
             ],
             [
              0.5555555555555556,
              "#d8576b"
             ],
             [
              0.6666666666666666,
              "#ed7953"
             ],
             [
              0.7777777777777778,
              "#fb9f3a"
             ],
             [
              0.8888888888888888,
              "#fdca26"
             ],
             [
              1,
              "#f0f921"
             ]
            ],
            "type": "histogram2dcontour"
           }
          ],
          "mesh3d": [
           {
            "colorbar": {
             "outlinewidth": 0,
             "ticks": ""
            },
            "type": "mesh3d"
           }
          ],
          "parcoords": [
           {
            "line": {
             "colorbar": {
              "outlinewidth": 0,
              "ticks": ""
             }
            },
            "type": "parcoords"
           }
          ],
          "pie": [
           {
            "automargin": true,
            "type": "pie"
           }
          ],
          "scatter": [
           {
            "fillpattern": {
             "fillmode": "overlay",
             "size": 10,
             "solidity": 0.2
            },
            "type": "scatter"
           }
          ],
          "scatter3d": [
           {
            "line": {
             "colorbar": {
              "outlinewidth": 0,
              "ticks": ""
             }
            },
            "marker": {
             "colorbar": {
              "outlinewidth": 0,
              "ticks": ""
             }
            },
            "type": "scatter3d"
           }
          ],
          "scattercarpet": [
           {
            "marker": {
             "colorbar": {
              "outlinewidth": 0,
              "ticks": ""
             }
            },
            "type": "scattercarpet"
           }
          ],
          "scattergeo": [
           {
            "marker": {
             "colorbar": {
              "outlinewidth": 0,
              "ticks": ""
             }
            },
            "type": "scattergeo"
           }
          ],
          "scattergl": [
           {
            "marker": {
             "colorbar": {
              "outlinewidth": 0,
              "ticks": ""
             }
            },
            "type": "scattergl"
           }
          ],
          "scattermapbox": [
           {
            "marker": {
             "colorbar": {
              "outlinewidth": 0,
              "ticks": ""
             }
            },
            "type": "scattermapbox"
           }
          ],
          "scatterpolar": [
           {
            "marker": {
             "colorbar": {
              "outlinewidth": 0,
              "ticks": ""
             }
            },
            "type": "scatterpolar"
           }
          ],
          "scatterpolargl": [
           {
            "marker": {
             "colorbar": {
              "outlinewidth": 0,
              "ticks": ""
             }
            },
            "type": "scatterpolargl"
           }
          ],
          "scatterternary": [
           {
            "marker": {
             "colorbar": {
              "outlinewidth": 0,
              "ticks": ""
             }
            },
            "type": "scatterternary"
           }
          ],
          "surface": [
           {
            "colorbar": {
             "outlinewidth": 0,
             "ticks": ""
            },
            "colorscale": [
             [
              0,
              "#0d0887"
             ],
             [
              0.1111111111111111,
              "#46039f"
             ],
             [
              0.2222222222222222,
              "#7201a8"
             ],
             [
              0.3333333333333333,
              "#9c179e"
             ],
             [
              0.4444444444444444,
              "#bd3786"
             ],
             [
              0.5555555555555556,
              "#d8576b"
             ],
             [
              0.6666666666666666,
              "#ed7953"
             ],
             [
              0.7777777777777778,
              "#fb9f3a"
             ],
             [
              0.8888888888888888,
              "#fdca26"
             ],
             [
              1,
              "#f0f921"
             ]
            ],
            "type": "surface"
           }
          ],
          "table": [
           {
            "cells": {
             "fill": {
              "color": "#EBF0F8"
             },
             "line": {
              "color": "white"
             }
            },
            "header": {
             "fill": {
              "color": "#C8D4E3"
             },
             "line": {
              "color": "white"
             }
            },
            "type": "table"
           }
          ]
         },
         "layout": {
          "annotationdefaults": {
           "arrowcolor": "#2a3f5f",
           "arrowhead": 0,
           "arrowwidth": 1
          },
          "autotypenumbers": "strict",
          "coloraxis": {
           "colorbar": {
            "outlinewidth": 0,
            "ticks": ""
           }
          },
          "colorscale": {
           "diverging": [
            [
             0,
             "#8e0152"
            ],
            [
             0.1,
             "#c51b7d"
            ],
            [
             0.2,
             "#de77ae"
            ],
            [
             0.3,
             "#f1b6da"
            ],
            [
             0.4,
             "#fde0ef"
            ],
            [
             0.5,
             "#f7f7f7"
            ],
            [
             0.6,
             "#e6f5d0"
            ],
            [
             0.7,
             "#b8e186"
            ],
            [
             0.8,
             "#7fbc41"
            ],
            [
             0.9,
             "#4d9221"
            ],
            [
             1,
             "#276419"
            ]
           ],
           "sequential": [
            [
             0,
             "#0d0887"
            ],
            [
             0.1111111111111111,
             "#46039f"
            ],
            [
             0.2222222222222222,
             "#7201a8"
            ],
            [
             0.3333333333333333,
             "#9c179e"
            ],
            [
             0.4444444444444444,
             "#bd3786"
            ],
            [
             0.5555555555555556,
             "#d8576b"
            ],
            [
             0.6666666666666666,
             "#ed7953"
            ],
            [
             0.7777777777777778,
             "#fb9f3a"
            ],
            [
             0.8888888888888888,
             "#fdca26"
            ],
            [
             1,
             "#f0f921"
            ]
           ],
           "sequentialminus": [
            [
             0,
             "#0d0887"
            ],
            [
             0.1111111111111111,
             "#46039f"
            ],
            [
             0.2222222222222222,
             "#7201a8"
            ],
            [
             0.3333333333333333,
             "#9c179e"
            ],
            [
             0.4444444444444444,
             "#bd3786"
            ],
            [
             0.5555555555555556,
             "#d8576b"
            ],
            [
             0.6666666666666666,
             "#ed7953"
            ],
            [
             0.7777777777777778,
             "#fb9f3a"
            ],
            [
             0.8888888888888888,
             "#fdca26"
            ],
            [
             1,
             "#f0f921"
            ]
           ]
          },
          "colorway": [
           "#636efa",
           "#EF553B",
           "#00cc96",
           "#ab63fa",
           "#FFA15A",
           "#19d3f3",
           "#FF6692",
           "#B6E880",
           "#FF97FF",
           "#FECB52"
          ],
          "font": {
           "color": "#2a3f5f"
          },
          "geo": {
           "bgcolor": "white",
           "lakecolor": "white",
           "landcolor": "#E5ECF6",
           "showlakes": true,
           "showland": true,
           "subunitcolor": "white"
          },
          "hoverlabel": {
           "align": "left"
          },
          "hovermode": "closest",
          "mapbox": {
           "style": "light"
          },
          "paper_bgcolor": "white",
          "plot_bgcolor": "#E5ECF6",
          "polar": {
           "angularaxis": {
            "gridcolor": "white",
            "linecolor": "white",
            "ticks": ""
           },
           "bgcolor": "#E5ECF6",
           "radialaxis": {
            "gridcolor": "white",
            "linecolor": "white",
            "ticks": ""
           }
          },
          "scene": {
           "xaxis": {
            "backgroundcolor": "#E5ECF6",
            "gridcolor": "white",
            "gridwidth": 2,
            "linecolor": "white",
            "showbackground": true,
            "ticks": "",
            "zerolinecolor": "white"
           },
           "yaxis": {
            "backgroundcolor": "#E5ECF6",
            "gridcolor": "white",
            "gridwidth": 2,
            "linecolor": "white",
            "showbackground": true,
            "ticks": "",
            "zerolinecolor": "white"
           },
           "zaxis": {
            "backgroundcolor": "#E5ECF6",
            "gridcolor": "white",
            "gridwidth": 2,
            "linecolor": "white",
            "showbackground": true,
            "ticks": "",
            "zerolinecolor": "white"
           }
          },
          "shapedefaults": {
           "line": {
            "color": "#2a3f5f"
           }
          },
          "ternary": {
           "aaxis": {
            "gridcolor": "white",
            "linecolor": "white",
            "ticks": ""
           },
           "baxis": {
            "gridcolor": "white",
            "linecolor": "white",
            "ticks": ""
           },
           "bgcolor": "#E5ECF6",
           "caxis": {
            "gridcolor": "white",
            "linecolor": "white",
            "ticks": ""
           }
          },
          "title": {
           "x": 0.05
          },
          "xaxis": {
           "automargin": true,
           "gridcolor": "white",
           "linecolor": "white",
           "ticks": "",
           "title": {
            "standoff": 15
           },
           "zerolinecolor": "white",
           "zerolinewidth": 2
          },
          "yaxis": {
           "automargin": true,
           "gridcolor": "white",
           "linecolor": "white",
           "ticks": "",
           "title": {
            "standoff": 15
           },
           "zerolinecolor": "white",
           "zerolinewidth": 2
          }
         }
        },
        "title": {
         "text": "Optimised Comparison",
         "x": 0.5
        },
        "width": 1024,
        "xaxis": {
         "autorange": true,
         "range": [
          -54.313231642426395,
          952.3132316424264
         ],
         "tickfont": {
          "size": 12
         },
         "title": {
          "font": {
           "size": 12
          },
          "text": "Time [s]"
         },
         "type": "linear"
        },
        "yaxis": {
         "autorange": true,
         "range": [
          3.7887473598078,
          4.080820553174445
         ],
         "tickfont": {
          "size": 12
         },
         "title": {
          "font": {
           "size": 12
          },
          "text": "Voltage [V]"
         },
         "type": "linear"
        }
       }
      },
      "image/png": "[encoded data removed]",
      "text/html": [
       "<div>                            <div id=\"27c140a6-d571-4f57-a261-5f26b0c4307e\" class=\"plotly-graph-div\" style=\"height:576px; width:1024px;\"></div>            <script type=\"text/javascript\">                require([\"plotly\"], function(Plotly) {                    window.PLOTLYENV=window.PLOTLYENV || {};                                    if (document.getElementById(\"27c140a6-d571-4f57-a261-5f26b0c4307e\")) {                    Plotly.newPlot(                        \"27c140a6-d571-4f57-a261-5f26b0c4307e\",                        [{\"fill\":\"toself\",\"fillcolor\":\"rgba(255,229,204,0.8)\",\"hoverinfo\":\"skip\",\"line\":{\"color\":\"rgba(255,255,255,0)\"},\"showlegend\":false,\"x\":[0,2,4,6,8,10,12,14,16,18,20,22,24,26,28,30,32,34,36,38,40,42,44,46,48,50,52,54,56,58,60,62,64,66,68,70,72,74,76,78,80,82,84,86,88,90,92,94,96,98,100,102,104,106,108,110,112,114,116,118,120,122,124,126,128,130,132,134,136,138,140,142,144,146,148,150,152,154,156,158,160,162,164,166,168,170,172,174,176,178,180,182,184,186,188,190,192,194,196,198,200,202,204,206,208,210,212,214,216,218,220,222,224,226,228,230,232,234,236,238,240,242,244,246,248,250,252,254,256,258,260,262,264,266,268,270,272,274,276,278,280,282,284,286,288,290,292,294,296,298,300,302,304,306,308,310,312,314,316,318,320,322,324,326,328,330,332,334,336,338,340,342,344,346,348,350,352,354,356,358,360,362,364,366,368,370,372,374,376,378,380,382,384,386,388,390,392,394,396,398,400,402,404,406,408,410,412,414,416,418,420,422,424,426,428,430,432,434,436,438,440,442,444,446,448,450,452,454,456,458,460,462,464,466,468,470,472,474,476,478,480,482,484,486,488,490,492,494,496,498,500,502,504,506,508,510,512,514,516,518,520,522,524,526,528,530,532,534,536,538,540,542,544,546,548,550,552,554,556,558,560,562,564,566,568,570,572,574,576,578,580,582,584,586,588,590,592,594,596,598,600,602,604,606,608,610,612,614,616,618,620,622,624,626,628,630,632,634,636,638,640,642,644,646,648,650,652,654,656,658,660,662,664,666,668,670,672,674,676,678,680,682,684,686,688,690,692,694,696,698,700,702,704,706,708,710,712,714,716,718,720,722,724,726,728,730,732,734,736,738,740,742,744,746,748,750,752,754,756,758,760,762,764,766,768,770,772,774,776,778,780,782,784,786,788,790,792,794,796,798,800,802,804,806,808,810,812,814,816,818,820,822,824,826,828,830,832,834,836,838,840,842,844,846,848,850,852,854,856,858,860,862,864,866,868,870,872,874,876,878,880,882,884,886,888,890,892,894,896,898,898,896,894,892,890,888,886,884,882,880,878,876,874,872,870,868,866,864,862,860,858,856,854,852,850,848,846,844,842,840,838,836,834,832,830,828,826,824,822,820,818,816,814,812,810,808,806,804,802,800,798,796,794,792,790,788,786,784,782,780,778,776,774,772,770,768,766,764,762,760,758,756,754,752,750,748,746,744,742,740,738,736,734,732,730,728,726,724,722,720,718,716,714,712,710,708,706,704,702,700,698,696,694,692,690,688,686,684,682,680,678,676,674,672,670,668,666,664,662,660,658,656,654,652,650,648,646,644,642,640,638,636,634,632,630,628,626,624,622,620,618,616,614,612,610,608,606,604,602,600,598,596,594,592,590,588,586,584,582,580,578,576,574,572,570,568,566,564,562,560,558,556,554,552,550,548,546,544,542,540,538,536,534,532,530,528,526,524,522,520,518,516,514,512,510,508,506,504,502,500,498,496,494,492,490,488,486,484,482,480,478,476,474,472,470,468,466,464,462,460,458,456,454,452,450,448,446,444,442,440,438,436,434,432,430,428,426,424,422,420,418,416,414,412,410,408,406,404,402,400,398,396,394,392,390,388,386,384,382,380,378,376,374,372,370,368,366,364,362,360,358,356,354,352,350,348,346,344,342,340,338,336,334,332,330,328,326,324,322,320,318,316,314,312,310,308,306,304,302,300,298,296,294,292,290,288,286,284,282,280,278,276,274,272,270,268,266,264,262,260,258,256,254,252,250,248,246,244,242,240,238,236,234,232,230,228,226,224,222,220,218,216,214,212,210,208,206,204,202,200,198,196,194,192,190,188,186,184,182,180,178,176,174,172,170,168,166,164,162,160,158,156,154,152,150,148,146,144,142,140,138,136,134,132,130,128,126,124,122,120,118,116,114,112,110,108,106,104,102,100,98,96,94,92,90,88,86,84,82,80,78,76,74,72,70,68,66,64,62,60,58,56,54,52,50,48,46,44,42,40,38,36,34,32,30,28,26,24,22,20,18,16,14,12,10,8,6,4,2,0],\"y\":[4.064458320501508,4.056052762158592,4.0487962686414525,4.042585833976561,4.037232835097531,4.03257712970519,4.028491518754141,4.024876559034254,4.021655606108165,4.018768293806505,4.0161666152952,4.013812407545703,4.011673680124297,4.009724155345706,4.007942048853279,4.0063088634324,4.004809540399291,4.003430513850505,4.002161003009127,4.00099071495522,3.999911206578099,3.9989144909110292,3.9979936730009076,3.997142440201619,3.9963551640380586,3.995626744209389,3.994952582500556,3.9943283869179536,3.993750347234406,3.9932150343474624,3.9927191146525662,3.9922594704301133,3.991833495066583,3.991438622892807,3.991072175007909,3.9907320620325617,3.9904162083149837,3.990122486847953,3.9898490852014286,3.9895942776052857,3.9893564037482996,3.9891339051225514,3.9889253460706713,3.9887293622396625,3.9885446620475777,3.988370042887224,3.9882043692063527,3.9880465564373835,3.987895599753707,3.9877505488709852,3.9876104877926246,3.987474563770338,3.987341987405048,3.987212010227377,3.9870839298359115,3.986957062048655,3.986830746317142,3.9867044191111995,3.9865775282169267,3.986449557410258,3.986320016059678,3.9861883901258053,3.986054281506057,3.9859172878067146,3.9857770343209484,3.98563317306535,3.9854853411017994,3.9853332455075203,3.9851766042405945,3.9850151537035483,3.9848486507603735,3.9846768613849513,3.984499575648364,3.984316606562869,3.984127780152747,3.983932938572084,3.983731936157834,3.983524639327555,3.9833109359924754,3.9830907242245437,3.982863915043445,3.9826304286909293,3.9823901783417233,3.9821431200521813,3.9818892083244712,3.9816284081961326,3.9813606949008107,3.981086053552698,3.9808044788533095,3.98051597481893,3.980220475910093,3.97991803830976,3.9796086855171766,3.9792924454080203,3.978969352848035,3.978639449466783,3.978302783445445,3.977959409317745,3.9776093142950497,3.9772525721505576,3.9768892631211474,3.9765194529837387,3.9761432117053763,3.975760613258723,3.9753717354474314,3.974976659741225,3.9745754225298366,3.974168089731364,3.973754776343832,3.973335568596183,3.9729105551899124,3.9724798272218678,3.9720434781174503,3.9716016035738946,3.9711543015129434,3.9707016720422508,3.9702438174253305,3.969780842058975,3.969312852458187,3.9688398916631358,3.968361980209246,3.9678793121441163,3.967391989448715,3.966900115024439,3.9664037926668496,3.9659031270442475,3.965398223681156,3.9648891889459774,3.96437613004287,3.963859155007252,3.9633383727048086,3.9628138928337022,3.9622857848538486,3.961753980259769,3.9612187262819476,3.960680121569508,3.960138264308483,3.959593252183619,3.9590451823422463,3.9584941513605822,3.9579402552118275,3.9573835892364477,3.95682424811409,3.9562623258374443,3.9556979156876424,3.955131109534443,3.9545619006722488,3.953990446415313,3.9534168315626084,3.9528411396133576,3.952263452732252,3.9516838517161434,3.9511024159620898,3.9505192234367716,3.9499343506472124,3.949347872612788,3.948759862838432,3.9481703932891494,3.947579534365659,3.9469874129938365,3.9463940715242063,3.9457995688487766,3.9452039729434447,3.944607350451607,3.944009766677483,3.943411285580378,3.9428119697695823,3.9422118804999804,3.9416110776684428,3.941009619810741,3.9404075640991514,3.939804966340691,3.939201929083719,3.938598503865509,3.9379947236840755,3.9373906430981624,3.936786315642902,3.9361817938418806,3.9355771292194075,3.9349723723129904,3.934367572685963,3.9337627789402507,3.9331580387292644,3.9325533987709185,3.9319489048606804,3.931344598813826,3.9307405225462806,3.930136721857109,3.929533238613641,3.9289301137972985,3.9283273875159335,3.927725099016159,3.927123286695714,3.9265219881157174,3.9259212400129844,3.9253210783122476,3.924721538138302,3.924122653828175,3.923524450555332,3.9229269418525656,3.9223301764579315,3.921734184020202,3.921138993328944,3.920544632322312,3.9199511280949046,3.9193585069055064,3.9187667941848825,3.918176014543489,3.917586191779196,3.9169973488849457,3.916409508056379,3.915822691254781,3.915236924543753,3.9146522238098895,3.914068608443516,3.9134860970993914,3.912904707704774,3.9123244574674034,3.911745362883411,3.911167439745198,3.910590703149161,3.9100151675034445,3.909440846535554,3.9088677532999028,3.9082959001853026,3.907725352268668,3.907156086330904,3.9065881101313917,3.906021434977519,3.9054560715692532,3.904892030002614,3.9043293197730007,3.9037679497785507,3.903207928323413,3.902649263120972,3.90209196129703,3.9015360293929464,3.900981473368741,3.9004282986061214,3.899876509911508,3.8993261115189863,3.8987771070932147,3.8982294997322926,3.897683291970595,3.897138485781557,3.8965950825804,3.896053083226816,3.8955124880276464,3.894973479409284,3.8944359159609543,3.8938997927898567,3.893365111244194,3.8928318722512505,3.8923000763200473,3.8917697235439728,3.8912408136033343,3.8907133457678627,3.8901873188991516,3.889662731453013,3.889139581481844,3.8886178666368285,3.8880975841701826,3.887578730937284,3.887061303398744,3.886545297622442,3.8860307092854938,3.885517533676153,3.885005765695656,3.8844953998599965,3.8839864303016713,3.883478851684374,3.882972878879071,3.8824683222198186,3.8819651777314186,3.8814634412077695,3.8809631082150573,3.8804641740948647,3.8799666339672023,3.87947048273345,3.878975715079215,3.8784823254771035,3.877990308189455,3.8774996572709486,3.8770103665711333,3.8765224297369465,3.8760358402150628,3.875550591254246,3.8750666759075774,3.874584087034617,3.87410281730353,3.87362285919308,3.8731442049945968,3.8726668468138343,3.872190776911459,3.8717160031695506,3.8712425219182642,3.8707703288750754,3.870299419935004,3.8698297911814943,3.869361438897266,3.8688945959788623,3.8684290090649958,3.867964556705881,3.867501261990155,3.867039229693138,3.866578384122753,3.8661187196459705,3.8656602597382905,3.86520299243876,3.8647469057736634,3.86429199301419,3.863838247102335,3.8633856623235188,3.8629342321135285,3.862483949799157,3.8620348086002974,3.861586724604013,3.861139753872099,3.860693891918763,3.860249131621257,3.859805465758453,3.859362887012568,3.858921387970775,3.85848096112686,3.8580415988826817,3.857603293549709,3.8571660373504075,3.8567298224196254,3.8562945939033235,3.855860303980405,3.8554270131189816,3.854994713212551,3.854563396071275,3.85413305342295,3.8537036769140043,3.853275258110362,3.8528477884983263,3.852421259485328,3.8519956624006997,3.8515709884963463,3.8511472289473727,3.8507242709946348,3.8503021681896015,3.8498809342009084,3.8494605599902787,3.849041036442977,3.8486223543680893,3.8482045044987134,3.8477874774921874,3.847371263930169,3.8469558543187,3.84654123908821,3.84612740859349,3.8457143265923004,3.845301911056292,3.8448902334208115,3.84447928380944,3.844069052266989,3.843659528759075,3.8432507031716803,3.842842565310608,3.842435104900903,3.8420283115861853,3.841622174927995,3.8412166844049715,3.8408118294120537,3.840407529216243,3.8400037928204385,3.8396006437815036,3.8391980712046556,3.838796064104344,3.838394611403088,3.837993701930117,3.837593324420073,3.8371934675115495,3.836794119745636,3.8363952695643118,3.8359969053088614,3.835599008204721,3.8352014785945765,3.834804382240972,3.8344077066074,3.8340114390472624,3.8336155668017042,3.833220076997311,3.8328249566437904,3.8324301926315294,3.8320357717290987,3.8316416805806517,3.831247905703253,3.830854433484134,3.8304612501778386,3.8300683419033095,3.8296756946408452,3.8292832942290467,3.8288911263615697,3.828499176583876,3.8281074302898555,3.8277158727183354,3.8273244889495537,3.8269332435733534,3.8265421008445895,3.8261510782434796,3.8257601598417117,3.825369329532814,3.82497857102791,3.824587867851399,3.824197203336537,3.823806560620891,3.8234159226417166,3.8230252721312272,3.8226345916117235,3.822243863390683,3.8218530695557162,3.8214621919693723,3.821071212263919,3.82068011183598,3.8202888718410564,3.8198974731879614,3.8195058965331543,3.81911412227496,3.81872213054771,3.8183298965660284,3.8179374012742633,3.817544626258986,3.8171515504940623,3.8167581526584002,3.8163644111294492,3.8159703039767012,3.8155758089549856,3.815180903497822,3.814785564710601,3.8143897693637174,3.8139934938856337,3.813596714355898,3.813199406498071,3.8128015456726225,3.812403106869787,3.812004064702366,3.8116043933985013,3.8112040667944296,3.8108030583272416,3.8104013410276054,3.8099988875125126,3.8095956724792432,3.8091916667588186,3.8087868417184287,3.808381168404399,3.807974617414164,3.8075671588893907,3.8054453454910644,3.8058528040158377,3.806259355006073,3.8066650283201025,3.8070698533604923,3.807473859080917,3.8078770741141863,3.808279527629279,3.8086812449289154,3.8090822533961033,3.809482580000175,3.80988225130404,3.8102812934714607,3.8106797322742962,3.811077593099745,3.8114749009575717,3.8118716804873074,3.812267955965391,3.8126637513122748,3.813059090099496,3.8134539955566593,3.813848490578375,3.814242597731123,3.814636339260074,3.815029737095736,3.8154228128606595,3.815815587875937,3.816208083167702,3.816600317149384,3.8169923088766335,3.817384083134828,3.817775659789635,3.81816705844273,3.8185582984376536,3.818949398865593,3.819340378571046,3.81973125615739,3.8201220499923565,3.820512778213397,3.820903458732901,3.8212941092433903,3.8216847472225646,3.8220753899382105,3.8224660544530726,3.8228567576295838,3.823247516134488,3.8236383464433854,3.8240292648451533,3.824420287446263,3.824811430175027,3.8252026755512274,3.825594059320009,3.825985616891529,3.8263773631855496,3.8267693129632434,3.8271614808307204,3.827553881242519,3.827946528504983,3.8283394367795123,3.8287326200858076,3.829126092304927,3.8295198671823254,3.8299139583307724,3.830308379233203,3.830703143245464,3.8310982635989848,3.831493753403378,3.831889625648936,3.8322858932090735,3.8326825688426456,3.83307966519625,3.833477194806395,3.833875091910535,3.8342734561659855,3.8346723063473096,3.8350716541132233,3.8354715110217468,3.835871888531791,3.8362727980047615,3.8366742507060176,3.8370762578063293,3.8374788303831773,3.837881979422112,3.838285715817917,3.8386900160137274,3.8390948710066453,3.8395003615296686,3.839906498187859,3.840313291502577,3.840720751912282,3.841128889773354,3.8415377153607486,3.841947238868663,3.842357470411114,3.842768420022485,3.8431800976579655,3.843592513193974,3.8440055951951635,3.8444194256898836,3.844834040920374,3.845249450531843,3.845665664093861,3.846082691100387,3.846500540969763,3.8469192230446505,3.8473387465919524,3.847759120802582,3.848180354791275,3.8486024575963085,3.8490254155490464,3.84944917509802,3.8498738490023734,3.8502994460870017,3.8507259751,3.8511534447120357,3.851581863515678,3.852011240024624,3.852441582672949,3.8528728998142245,3.8533051997206553,3.853738490582079,3.8541727805049972,3.854608009021299,3.8550442239520812,3.855481480151383,3.8559197854843554,3.8563591477285337,3.856799574572449,3.8572410736142415,3.8576836523601266,3.8581273182229308,3.858572078520437,3.859017940473773,3.859464911205687,3.859912995201971,3.860362136400831,3.860812418715202,3.8612638489251925,3.8617164337040086,3.862170179615864,3.862625092375337,3.863081179040434,3.8635384463399642,3.8639969062476442,3.8644565707244265,3.8649174162948117,3.865379448591829,3.865842743307555,3.8663071956666695,3.866772782580536,3.86723962549894,3.867707977783168,3.8681776065366775,3.868648515476749,3.869120708519938,3.8695941897712243,3.8700689635131327,3.870545033415508,3.8710223915962705,3.8715010457947536,3.8719810039052036,3.8724622736362906,3.872944862509251,3.8734287778559198,3.8739140268167365,3.87440061633862,3.874888553172807,3.8753778438726223,3.8758684947911286,3.876360512078777,3.8768539016808887,3.877348669335124,3.877844820568876,3.8783423606965384,3.878841294816731,3.8793416278094432,3.8798433643330923,3.8803465088214923,3.8808510654807447,3.8813570382860476,3.881864616903345,3.88237358646167,3.8828839522973295,3.883395720277827,3.8839088958871675,3.884423484224116,3.8849394900004177,3.8854569175389577,3.8859757707718563,3.8864960532385022,3.887017768083518,3.8875409180546865,3.8880655055008253,3.8885915323695364,3.889119000205008,3.8896479101456465,3.890178262921721,3.890710058852924,3.8912432978458678,3.8917779793915304,3.892314102562628,3.892851666010958,3.89339067462932,3.8939312698284896,3.8944732691820736,3.895016672383231,3.8955614785722688,3.8961076863339663,3.8966552936948884,3.89720429812066,3.8977546965131817,3.898306485207795,3.8988596599704146,3.89941421599462,3.8999701478987037,3.9005274497226456,3.9010861149250866,3.9016461363802244,3.9022075063746744,3.9027702166042877,3.903334258170927,3.9038996215791926,3.9044662967330654,3.9050342729325775,3.905603538870342,3.9061740867869763,3.9067459399015765,3.907319033137228,3.907893354105118,3.908468889750835,3.9090456263468716,3.909623549485085,3.910202644069077,3.9107828943064478,3.911364283701065,3.9119467950451896,3.9125304104115632,3.9131151111454265,3.9137008778564546,3.9142876946580527,3.9148755354866194,3.91546437838087,3.9160542011451627,3.916644980786556,3.91723669350718,3.9178293146965784,3.9184228189239856,3.9190171799306177,3.9196123706218757,3.920208363059605,3.9208051284542393,3.921402637157006,3.9220008404298485,3.9225997247399755,3.9231992649139213,3.923799426614658,3.924400174717391,3.925001473297388,3.9256032856178327,3.926205574117607,3.926808300398972,3.9274114252153147,3.9280149084587825,3.9286187091479543,3.9292227854154995,3.929827091462354,3.930431585372592,3.931036225330938,3.9316409655419244,3.9322457592876368,3.932850558914664,3.933455315821081,3.9340599804435543,3.934664502244576,3.935268829699836,3.9358729102857493,3.936476690467183,3.9370801156853927,3.937683152942365,3.938285750700825,3.938887806412415,3.9394892642701165,3.940090067101654,3.940690156371256,3.9412894721820515,3.941887953279157,3.9424855370532805,3.9430821595451184,3.9436777554504503,3.94427225812588,3.94486559959551,3.9454577209673327,3.946048579890823,3.946638049440106,3.947226059214462,3.947812537248886,3.9483974100384454,3.9489806025637635,3.949562038317817,3.9501416393339257,3.9507193262150313,3.951295018164282,3.9518686330169865,3.9524400872739225,3.9530092961361167,3.953576102289316,3.954140512439118,3.9547024347157635,3.9552617758381214,3.955818441813501,3.956372337962256,3.95692336894392,3.9574714387852925,3.9580164509101565,3.958558308171182,3.9590969128836213,3.959632166861443,3.9601639714555223,3.960692079435376,3.9612165593064823,3.961737341608926,3.9622543166445436,3.962767375547651,3.9632764102828295,3.9637813136459212,3.9642819792685233,3.964778301626113,3.965270176050389,3.96575749874579,3.9662401668109197,3.9667180782648095,3.967191039059861,3.967659028660649,3.968122004027004,3.9685798586439245,3.969032488114617,3.9694797901755683,3.969921664719124,3.9703580138235415,3.970788741791586,3.971213755197857,3.9716329629455056,3.9720462763330375,3.9724536091315104,3.9728548463428988,3.973249922049105,3.973638799860397,3.97402139830705,3.9743976395854124,3.974767449722821,3.9751307587522313,3.9754875008967234,3.9758375959194185,3.976180970047119,3.976517636068457,3.9768475394497087,3.977170632009694,3.9774868721188503,3.9777962249114336,3.978098662511767,3.9783941614206038,3.978682665454983,3.978964240154372,3.9792388815024844,3.9795065947978063,3.979767394926145,3.980021306653855,3.980268364943397,3.980508615292603,3.9807421016451188,3.9809689108262174,3.981189122594149,3.9814028259292287,3.9816101227595078,3.9818111251737576,3.9820059667544205,3.9821947931645427,3.982377762250038,3.982555047986625,3.9827268373620472,3.982893340305222,3.983054790842268,3.983211432109194,3.983363527703473,3.9835113596670237,3.983655220922622,3.9837954744083883,3.9839324681077306,3.984066576727479,3.984198202661352,3.9843277440119316,3.9844557148186004,3.9845826057128733,3.984708932918816,3.9848352486503287,3.9849621164375852,3.985090196829051,3.985220174006722,3.985352750372012,3.9854886743942983,3.985628735472659,3.985773786355381,3.985924743039057,3.9860825558080264,3.986248229488898,3.9864228486492514,3.986607548841336,3.986803532672345,3.987012091724225,3.9872345903499733,3.9874724642069594,3.9877272718031023,3.9880006734496267,3.9882943949166574,3.9886102486342354,3.9889503616095827,3.989316809494481,3.9897116816682567,3.990137657031787,3.99059730125424,3.991093220949136,3.9916285338360797,3.9922065735196273,3.9928307691022296,3.9935049308110626,3.9942333506397323,3.9950206268032926,3.9958718596025813,3.996792677512703,3.9977893931797728,3.998868901556894,4.0000391896108,4.001308700452178,4.002687727000964,4.004187050034073,4.0058202354549515,4.007602341947379,4.00955186672597,4.0116905941473755,4.014044801896873,4.016646480408178,4.019533792709838,4.022754745635927,4.026369705355814,4.030455316306863,4.035111021699204,4.040464020578233,4.046674455243125,4.053930948760264,4.062336507103181],\"type\":\"scatter\"},{\"mode\":\"markers\",\"name\":\"Target\",\"x\":[0,2,4,6,8,10,12,14,16,18,20,22,24,26,28,30,32,34,36,38,40,42,44,46,48,50,52,54,56,58,60,62,64,66,68,70,72,74,76,78,80,82,84,86,88,90,92,94,96,98,100,102,104,106,108,110,112,114,116,118,120,122,124,126,128,130,132,134,136,138,140,142,144,146,148,150,152,154,156,158,160,162,164,166,168,170,172,174,176,178,180,182,184,186,188,190,192,194,196,198,200,202,204,206,208,210,212,214,216,218,220,222,224,226,228,230,232,234,236,238,240,242,244,246,248,250,252,254,256,258,260,262,264,266,268,270,272,274,276,278,280,282,284,286,288,290,292,294,296,298,300,302,304,306,308,310,312,314,316,318,320,322,324,326,328,330,332,334,336,338,340,342,344,346,348,350,352,354,356,358,360,362,364,366,368,370,372,374,376,378,380,382,384,386,388,390,392,394,396,398,400,402,404,406,408,410,412,414,416,418,420,422,424,426,428,430,432,434,436,438,440,442,444,446,448,450,452,454,456,458,460,462,464,466,468,470,472,474,476,478,480,482,484,486,488,490,492,494,496,498,500,502,504,506,508,510,512,514,516,518,520,522,524,526,528,530,532,534,536,538,540,542,544,546,548,550,552,554,556,558,560,562,564,566,568,570,572,574,576,578,580,582,584,586,588,590,592,594,596,598,600,602,604,606,608,610,612,614,616,618,620,622,624,626,628,630,632,634,636,638,640,642,644,646,648,650,652,654,656,658,660,662,664,666,668,670,672,674,676,678,680,682,684,686,688,690,692,694,696,698,700,702,704,706,708,710,712,714,716,718,720,722,724,726,728,730,732,734,736,738,740,742,744,746,748,750,752,754,756,758,760,762,764,766,768,770,772,774,776,778,780,782,784,786,788,790,792,794,796,798,800,802,804,806,808,810,812,814,816,818,820,822,824,826,828,830,832,834,836,838,840,842,844,846,848,850,852,854,856,858,860,862,864,866,868,870,872,874,876,878,880,882,884,886,888,890,892,894,896,898],\"y\":[4.063766615038272,4.055347026526715,4.046888251680567,4.041651559638272,4.036084848086105,4.030312191583603,4.028432380301851,4.024134326208111,4.020718477366584,4.01826318716266,4.015124237587261,4.01095181116977,4.010959267576446,4.007910075821095,4.008017026534262,4.005238601258139,4.001827919179753,4.00453773200696,4.002402266155831,4.000184214612106,3.9995515186981914,3.996995332053068,3.995177043200375,3.997171418952401,3.994764901774827,3.9950074090992693,3.9938538327870803,3.9937304058491083,3.99168165972527,3.993483841666832,3.9914989522418023,3.9905313356256817,3.9933724966583672,3.988378129662939,3.9897648231818605,3.9885611037267177,3.988559194360511,3.988269148749386,3.9882383215937867,3.990224262803108,3.9895247509575005,3.9862684663311114,3.987600735285836,3.98893442277192,3.988241819106558,3.9864108364449686,3.9883946844594353,3.986132469131501,3.9854304020946643,3.98640980081397,3.9853286820676868,3.985793611490026,3.9860861268514176,3.9851231592676433,3.987890614344661,3.985561221696603,3.9874416349593114,3.9854026779276497,3.9868641600563826,3.985872856461782,3.9864788745822155,3.985894405174802,3.9855997912052303,3.9844195779442075,3.9832170021118953,3.984915699700496,3.9858117463856986,3.983794186650886,3.984627429314067,3.9832290056569253,3.9847631161810346,3.9844466621666785,3.9844363911315144,3.9817639721725597,3.9802904145344558,3.9818310102476246,3.982894894985081,3.982971837931911,3.981919006944154,3.983961961880057,3.9810827825258315,3.9815410189983798,3.982399147338916,3.979550316284578,3.980777401420939,3.9817483081866656,3.9806952719418547,3.9782976845379183,3.9786449399916815,3.979550712541695,3.980141828604427,3.978313381522482,3.977079196022803,3.977490151196053,3.978800394916369,3.9772646317024005,3.978195392499222,3.9781289292408615,3.9773885236614044,3.976341512120868,3.975028077105661,3.9770162552106942,3.974593009501583,3.974129216473858,3.976052740642858,3.9730649968801575,3.974648186340009,3.973259788713131,3.9729095254289355,3.971667094500572,3.970678132192676,3.9718824064983105,3.971584579536206,3.971612072049483,3.970594027589356,3.970953962176267,3.968850478959772,3.9679347724348397,3.969220093404579,3.9667098269383736,3.969964893281222,3.9649313354517437,3.9655746184755434,3.9635025075827723,3.9648711714385425,3.9631916296805074,3.96268547206851,3.9640645422485625,3.9653614619795756,3.962080133913093,3.9625417670027314,3.9620315982210514,3.9611772333545052,3.960845057803919,3.9598009567000756,3.9609667573312857,3.960318489761386,3.957488219496922,3.956809995715678,3.9579831825659983,3.9578866449604573,3.956754560888196,3.9564289631156524,3.9569962888941967,3.9546981467427003,3.9540266171111336,3.9536867732929704,3.9538548068888857,3.9514663725033095,3.951497027004693,3.9502776715691907,3.949640979832731,3.948649119059432,3.949184283306578,3.9503045774466603,3.9479656560194702,3.9502793858999286,3.947687694781781,3.94744363187631,3.9447431920234624,3.9443165511317817,3.944807275915567,3.9432448656940626,3.9427999396921094,3.9442611817673363,3.940899458824193,3.940983887084527,3.941371232980305,3.94017715268593,3.9387703292792793,3.940708049106405,3.9382866771125222,3.9384949279794514,3.938865151149417,3.9352511090355047,3.9356249653112614,3.9347448334114423,3.934248660937708,3.934999890721485,3.9341807069881627,3.9336386611163565,3.93188008951488,3.9324857523456647,3.9330179676787407,3.9320304802991926,3.9306754471525664,3.928884697838489,3.9287091849760745,3.926525830942548,3.928731358321464,3.92564062488089,3.927006517786558,3.926274975721286,3.925275021250464,3.924516673259597,3.9253275480738044,3.9239682412167642,3.9235818519272994,3.9220898139958313,3.921565038984273,3.9225987091943946,3.9216797800033665,3.9215201818286243,3.918237610699066,3.918807161500553,3.919951950629526,3.9206064471454587,3.9182395096681875,3.9156042789752896,3.9180808963656757,3.9168506658565905,3.9143153262612733,3.913605507789458,3.9134030827365724,3.9135153200583273,3.9108765522464193,3.9119728557148776,3.9119121325988204,3.908961363578715,3.9090166341673838,3.9092012824466407,3.908861592041687,3.9086815958999646,3.9065439021343664,3.9073403399835476,3.9077195780790452,3.9059087353819884,3.904713684667116,3.904939137041487,3.902776466434739,3.9034005272953696,3.903871026152845,3.90351997014436,3.9025636686923253,3.902287367974386,3.9002271463467824,3.8998147685963636,3.9006012748057017,3.8979532460299713,3.899394797438973,3.89959135971848,3.8991091898973607,3.897979924758292,3.897051699498517,3.896835806675986,3.8954731663549063,3.894329346283228,3.8939423968724363,3.8953462253147086,3.8923963185873514,3.892207211880495,3.8935137762073726,3.891196033638067,3.8924626664803985,3.888981558423561,3.8921222002425884,3.8892276601606075,3.8886936609500267,3.8890744315171824,3.8902600706970976,3.8871381874743665,3.885953459696169,3.8853101171862305,3.885977403912898,3.885372358921568,3.88303830115534,3.883864022611429,3.8847771946052116,3.884886131870058,3.8828507454739434,3.881152329612826,3.882281562617418,3.8824343436144257,3.880950911507418,3.8802400975631968,3.8804261438044265,3.8797094503244263,3.879701806038266,3.878017216734086,3.878113640891222,3.879236676420687,3.8767219435854035,3.87634619260526,3.8746570682579047,3.8747663189332897,3.875818259987654,3.872366684272034,3.874743889654071,3.872819059744377,3.8713068345984434,3.873926199130008,3.8718929153338926,3.8711244175081223,3.8713598981921673,3.8694012099360098,3.870680772951998,3.8704103501224045,3.8698006845875996,3.869197947278966,3.8671289726173734,3.867849205049668,3.8676099603691925,3.8657174755635024,3.866413373541229,3.8662958726462495,3.865768218114033,3.8646151196470244,3.865663083203446,3.8630853175548667,3.863250804749552,3.863012752253663,3.8630412717984552,3.8636740939563987,3.863257385837275,3.860796347473389,3.8618305287438366,3.859217852679095,3.8600162914490985,3.8607998021622123,3.857819599674143,3.8599991753584626,3.856215891167527,3.8588699057210416,3.856242887048386,3.8564687549288856,3.856980792077119,3.8568987659743734,3.8575827615426177,3.854339866718487,3.8557037997180363,3.856240195390902,3.8536943654483364,3.8540068319027423,3.853497981977703,3.850435499394477,3.85017206561899,3.8512137360526917,3.851087551682031,3.8518160835126376,3.8512398455999395,3.8484343990613876,3.848505136307469,3.8479274266602324,3.848601324744481,3.8484172720067407,3.8483849264517267,3.849502686169691,3.845643246910342,3.845959113621842,3.8462451849937973,3.845550879901952,3.8455902243703526,3.843524396198685,3.844102840581636,3.8430193356027247,3.845356232630326,3.8441326660015127,3.840728247463448,3.842781228973563,3.841998361546287,3.840743800480641,3.8415372004618877,3.8405529178380067,3.839848254375025,3.84073618500955,3.840706160120692,3.837318168080091,3.8380128126498576,3.840340246523285,3.838431692851306,3.839566263853612,3.838371158434279,3.8359975682640908,3.8351879025035864,3.8348106580301953,3.8369272424239678,3.8365504896229097,3.8346285665075976,3.837377704861987,3.8340179674687205,3.8335400658457033,3.833025972355043,3.8327972681239433,3.831916319057857,3.832417328795066,3.8340781487453865,3.832821679829236,3.829784037023579,3.8297632686755163,3.830140448119536,3.8290133869372607,3.8293900599101294,3.830395252181539,3.828324937479579,3.8279985117214457,3.827093812289111,3.8276331600893694,3.825418436769915,3.825705259292321,3.8279438179279572,3.8252554188865755,3.8236876029012756,3.8254157101107182,3.8249967803452924,3.823449511851582,3.827696826247711,3.824926860984399,3.821228055618123,3.822878980581137,3.823078649056603,3.821781566445678,3.821619381508941,3.820300701511277,3.8199852660226674,3.818905266929785,3.8186079499132908,3.818715092496598,3.817952541485566,3.818936144132713,3.818628032061025,3.8178859786511463,3.816627779909325,3.818286632226881,3.818000982464898,3.816960053249001,3.8150153970422416,3.815209564965538,3.815986428908258,3.8155537052621553,3.8137172652358986,3.8144464364194524,3.8145333341724577,3.815853424246921,3.814031057938185,3.8121417883619495,3.8133995391295947,3.8109589801095445,3.810456878830927,3.8098424004613185,3.8102853807260044,3.809759253383596,3.809859493147646,3.8075273907522162,3.8099165352948043,3.8090681738034338,3.807577308643072,3.8096215695564477,3.808249752024658,3.8080809062041503,3.8058012979439737],\"type\":\"scatter\"},{\"line\":{\"width\":4},\"mode\":\"lines\",\"name\":\"Model\",\"x\":[0,2,4,6,8,10,12,14,16,18,20,22,24,26,28,30,32,34,36,38,40,42,44,46,48,50,52,54,56,58,60,62,64,66,68,70,72,74,76,78,80,82,84,86,88,90,92,94,96,98,100,102,104,106,108,110,112,114,116,118,120,122,124,126,128,130,132,134,136,138,140,142,144,146,148,150,152,154,156,158,160,162,164,166,168,170,172,174,176,178,180,182,184,186,188,190,192,194,196,198,200,202,204,206,208,210,212,214,216,218,220,222,224,226,228,230,232,234,236,238,240,242,244,246,248,250,252,254,256,258,260,262,264,266,268,270,272,274,276,278,280,282,284,286,288,290,292,294,296,298,300,302,304,306,308,310,312,314,316,318,320,322,324,326,328,330,332,334,336,338,340,342,344,346,348,350,352,354,356,358,360,362,364,366,368,370,372,374,376,378,380,382,384,386,388,390,392,394,396,398,400,402,404,406,408,410,412,414,416,418,420,422,424,426,428,430,432,434,436,438,440,442,444,446,448,450,452,454,456,458,460,462,464,466,468,470,472,474,476,478,480,482,484,486,488,490,492,494,496,498,500,502,504,506,508,510,512,514,516,518,520,522,524,526,528,530,532,534,536,538,540,542,544,546,548,550,552,554,556,558,560,562,564,566,568,570,572,574,576,578,580,582,584,586,588,590,592,594,596,598,600,602,604,606,608,610,612,614,616,618,620,622,624,626,628,630,632,634,636,638,640,642,644,646,648,650,652,654,656,658,660,662,664,666,668,670,672,674,676,678,680,682,684,686,688,690,692,694,696,698,700,702,704,706,708,710,712,714,716,718,720,722,724,726,728,730,732,734,736,738,740,742,744,746,748,750,752,754,756,758,760,762,764,766,768,770,772,774,776,778,780,782,784,786,788,790,792,794,796,798,800,802,804,806,808,810,812,814,816,818,820,822,824,826,828,830,832,834,836,838,840,842,844,846,848,850,852,854,856,858,860,862,864,866,868,870,872,874,876,878,880,882,884,886,888,890,892,894,896,898],\"y\":[4.0633974138023445,4.054991855459428,4.047735361942289,4.041524927277397,4.0361719283983675,4.031516223006027,4.027430612054977,4.023815652335091,4.020594699409002,4.017707387107341,4.015105708596036,4.012751500846539,4.010612773425134,4.008663248646543,4.006881142154115,4.005247956733236,4.003748633700128,4.0023696071513415,4.001100096309964,3.999929808256057,3.998850299878936,3.997853584211866,3.9969327663017444,3.9960815335024558,3.9952942573388954,3.9945658375102258,3.9938916758013927,3.9932674802187904,3.992689440535243,3.9921541276482992,3.991658207953403,3.99119856373095,3.99077258836742,3.990377716193644,3.990011268308746,3.9896711553333986,3.9893553016158205,3.98906158014879,3.9887881785022654,3.9885333709061226,3.9882954970491364,3.9880729984233882,3.987864439371508,3.9876684555404993,3.9874837553484146,3.987309136188061,3.9871434625071895,3.9869856497382203,3.986834693054544,3.986689642171822,3.9865495810934615,3.986413657071175,3.986281080705885,3.986151103528214,3.9860230231367484,3.985896155349492,3.985769839617979,3.9856435124120364,3.9855166215177635,3.9853886507110947,3.985259109360515,3.985127483426642,3.9849933748068938,3.9848563811075515,3.9847161276217853,3.984572266366187,3.9844244344026363,3.984272338808357,3.9841156975414314,3.983954247004385,3.9837877440612104,3.983615954685788,3.983438668949201,3.983255699863706,3.9830668734535837,3.9828720318729207,3.982671029458671,3.982463732628392,3.9822500292933123,3.9820298175253805,3.981803008344282,3.981569521991766,3.98132927164256,3.981082213353018,3.980828301625308,3.9805675014969695,3.9802997882016475,3.980025146853535,3.9797435721541463,3.979455068119767,3.97915956921093,3.9788571316105967,3.9785477788180135,3.978231538708857,3.977908446148872,3.97757854276762,3.977241876746282,3.9768985026185817,3.9765484075958866,3.9761916654513945,3.9758283564219843,3.9754585462845755,3.975082305006213,3.97469970655956,3.9743108287482682,3.973915753042062,3.9735145158306735,3.9731071830322007,3.9726938696446688,3.97227466189702,3.9718496484907493,3.9714189205227046,3.970982571418287,3.9705406968747314,3.97009339481378,3.9696407653430876,3.9691829107261674,3.968719935359812,3.968251945759024,3.9677789849639726,3.967301073510083,3.966818405444953,3.966331082749552,3.965839208325276,3.9653428859676865,3.9648422203450844,3.9643373169819927,3.9638282822468143,3.963315223343707,3.962798248308089,3.9622774660056455,3.961752986134539,3.9612248781546855,3.960693073560606,3.9601578195827845,3.959619214870345,3.9590773576093197,3.9585323454844557,3.957984275643083,3.957433244661419,3.9568793485126643,3.9563226825372846,3.9557633414149267,3.955201419138281,3.9546370089884793,3.95407020283528,3.9535009939730856,3.9529295397161497,3.9523559248634452,3.9517802329141944,3.951202546033089,3.9506229450169803,3.9500415092629266,3.9494583167376085,3.9488734439480493,3.948286965913625,3.947698956139269,3.9471094865899863,3.946518627666496,3.9459265062946733,3.945333164825043,3.9447386621496134,3.9441430662442816,3.9435464437524437,3.94294885997832,3.9423503788812146,3.941751063070419,3.9411509738008172,3.9405501709692796,3.939948713111578,3.9393466573999882,3.938744059641528,3.938141022384556,3.937537597166346,3.9369338169849124,3.9363297363989993,3.935725408943739,3.9351208871427175,3.9345162225202444,3.933911465613827,3.9333066659868,3.9327018722410876,3.9320971320301012,3.9314924920717553,3.9308879981615172,3.9302836921146627,3.9296796158471174,3.9290758151579457,3.928472331914478,3.9278692070981354,3.9272664808167703,3.926664192316996,3.926062379996551,3.9254610814165543,3.9248603333138212,3.9242601716130845,3.9236606314391387,3.9230617471290117,3.922463543856169,3.9218660351534025,3.9212692697587683,3.920673277321039,3.920078086629781,3.9194837256231487,3.9188902213957415,3.918297600206343,3.9177058874857194,3.917115107844326,3.916525285080033,3.9159364421857825,3.915348601357216,3.9147617845556177,3.9141760178445897,3.9135913171107264,3.9130077017443528,3.9124251904002283,3.911843801005611,3.9112635507682403,3.910684456184248,3.9101065330460347,3.909529796449998,3.9089542608042813,3.908379939836391,3.9078068466007396,3.9072349934861395,3.906664445569505,3.9060951796317407,3.9055272034322286,3.9049605282783557,3.90439516487009,3.903831123303451,3.9032684130738375,3.9027070430793875,3.9021470216242498,3.901588356421809,3.901031054597867,3.9004751226937833,3.8999205666695778,3.8993673919069582,3.898815603212345,3.898265204819823,3.8977162003940515,3.8971685930331295,3.896622385271432,3.896077579082394,3.8955341758812367,3.8949921765276527,3.8944515813284832,3.893912572710121,3.893375009261791,3.8928388860906935,3.892304204545031,3.8917709655520873,3.891239169620884,3.8907088168448096,3.890179906904171,3.8896524390686995,3.8891264121999884,3.8886018247538496,3.888078674782681,3.8875569599376654,3.8870366774710194,3.886517824238121,3.886000396699581,3.885484390923279,3.8849698025863306,3.88445662697699,3.8839448589964927,3.8834344931608333,3.882925523602508,3.8824179449852108,3.881911972179908,3.8814074155206555,3.8809042710322554,3.8804025345086064,3.879902201515894,3.8794032673957015,3.878905727268039,3.878409576034287,3.877914808380052,3.8774214187779403,3.8769294014902917,3.8764387505717854,3.87594945987197,3.8754615230377834,3.8749749335158996,3.874489684555083,3.874005769208414,3.8735231803354537,3.8730419106043668,3.8725619524939168,3.8720832982954336,3.871605940114671,3.871129870212296,3.8706550964703874,3.870181615219101,3.8697094221759123,3.8692385132358407,3.868768884482331,3.868300532198103,3.867833689279699,3.8673681023658326,3.866903650006718,3.866440355290992,3.865978322993975,3.8655174774235896,3.8650578129468074,3.8645993530391274,3.864142085739597,3.8636859990745003,3.863231086315027,3.8627773404031718,3.8623247556243556,3.8618733254143653,3.861423043099994,3.860973901901134,3.86052581790485,3.860078847172936,3.8596329852196,3.859188224922094,3.8587445590592897,3.8583019803134047,3.857860481271612,3.857420054427697,3.8569806921835186,3.856542386850546,3.8561051306512444,3.855668915720462,3.8552336872041604,3.854799397281242,3.8543661064198185,3.8539338065133877,3.853502489372112,3.853072146723787,3.852642770214841,3.852214351411199,3.851786881799163,3.851360352786165,3.8509347557015365,3.850510081797183,3.8500863222482096,3.8496633642954716,3.8492412614904383,3.8488200275017452,3.8483996532911156,3.8479801297438136,3.847561447668926,3.8471435977995503,3.8467265707930243,3.846310357231006,3.845894947619537,3.8454803323890467,3.8450665018943266,3.8446534198931372,3.8442410043571287,3.8438293267216483,3.843418377110277,3.843008145567826,3.8425986220599118,3.842189796472517,3.841781658611445,3.84137419820174,3.840967404887022,3.8405612682288317,3.8401557777058084,3.8397509227128905,3.83934662251708,3.8389428861212753,3.8385397370823404,3.8381371645054925,3.837735157405181,3.8373337047039247,3.836932795230954,3.83653241772091,3.8361325608123864,3.8357332130464727,3.8353343628651486,3.8349359986096982,3.834538101505558,3.8341405718954134,3.8337434755418087,3.8333467999082367,3.8329505323480992,3.832554660102541,3.832159170298148,3.8317640499446273,3.8313692859323663,3.8309748650299356,3.8305807738814885,3.83018699900409,3.8297935267849708,3.8294003434786754,3.8290074352041463,3.828614787941682,3.8282223875298835,3.8278302196624066,3.8274382698847127,3.8270465235906923,3.826654966019172,3.8262635822503905,3.8258723368741903,3.8254811941454263,3.8250901715443164,3.8246992531425485,3.824308422833651,3.823917664328747,3.823526961152236,3.8231362966373736,3.8227456539217277,3.8223550159425534,3.821964365432064,3.8215736849125603,3.8211829566915196,3.820792162856553,3.820401285270209,3.820010305564756,3.8196192051368167,3.819227965141893,3.818836566488798,3.818444989833991,3.8180532155757967,3.817661223848547,3.8172689898668652,3.8168764945751,3.8164837195598227,3.816090643794899,3.815697245959237,3.815303504430286,3.814909397277538,3.8145149022558225,3.814119996798659,3.813724658011438,3.8133288626645543,3.8129325871864705,3.812535807656735,3.812138499798908,3.8117406389734594,3.811342200170624,3.810943158003203,3.810543486699338,3.8101431600952664,3.8097421516280785,3.8093404343284423,3.8089379808133494,3.80853476578008,3.8081307600596555,3.8077259350192656,3.807320261705236,3.806913710715001,3.8065062521902275],\"type\":\"scatter\"}],                        {\"autosize\":false,\"height\":576,\"legend\":{\"font\":{\"size\":12},\"x\":1,\"xanchor\":\"right\",\"y\":1,\"yanchor\":\"top\"},\"margin\":{\"b\":10,\"l\":10,\"pad\":4,\"r\":10,\"t\":75},\"showlegend\":true,\"title\":{\"text\":\"Optimised Comparison\",\"x\":0.5},\"width\":1024,\"xaxis\":{\"tickfont\":{\"size\":12},\"title\":{\"font\":{\"size\":12},\"text\":\"Time [s]\"}},\"yaxis\":{\"tickfont\":{\"size\":12},\"title\":{\"font\":{\"size\":12},\"text\":\"Voltage [V]\"}},\"template\":{\"data\":{\"histogram2dcontour\":[{\"type\":\"histogram2dcontour\",\"colorbar\":{\"outlinewidth\":0,\"ticks\":\"\"},\"colorscale\":[[0.0,\"#0d0887\"],[0.1111111111111111,\"#46039f\"],[0.2222222222222222,\"#7201a8\"],[0.3333333333333333,\"#9c179e\"],[0.4444444444444444,\"#bd3786\"],[0.5555555555555556,\"#d8576b\"],[0.6666666666666666,\"#ed7953\"],[0.7777777777777778,\"#fb9f3a\"],[0.8888888888888888,\"#fdca26\"],[1.0,\"#f0f921\"]]}],\"choropleth\":[{\"type\":\"choropleth\",\"colorbar\":{\"outlinewidth\":0,\"ticks\":\"\"}}],\"histogram2d\":[{\"type\":\"histogram2d\",\"colorbar\":{\"outlinewidth\":0,\"ticks\":\"\"},\"colorscale\":[[0.0,\"#0d0887\"],[0.1111111111111111,\"#46039f\"],[0.2222222222222222,\"#7201a8\"],[0.3333333333333333,\"#9c179e\"],[0.4444444444444444,\"#bd3786\"],[0.5555555555555556,\"#d8576b\"],[0.6666666666666666,\"#ed7953\"],[0.7777777777777778,\"#fb9f3a\"],[0.8888888888888888,\"#fdca26\"],[1.0,\"#f0f921\"]]}],\"heatmap\":[{\"type\":\"heatmap\",\"colorbar\":{\"outlinewidth\":0,\"ticks\":\"\"},\"colorscale\":[[0.0,\"#0d0887\"],[0.1111111111111111,\"#46039f\"],[0.2222222222222222,\"#7201a8\"],[0.3333333333333333,\"#9c179e\"],[0.4444444444444444,\"#bd3786\"],[0.5555555555555556,\"#d8576b\"],[0.6666666666666666,\"#ed7953\"],[0.7777777777777778,\"#fb9f3a\"],[0.8888888888888888,\"#fdca26\"],[1.0,\"#f0f921\"]]}],\"heatmapgl\":[{\"type\":\"heatmapgl\",\"colorbar\":{\"outlinewidth\":0,\"ticks\":\"\"},\"colorscale\":[[0.0,\"#0d0887\"],[0.1111111111111111,\"#46039f\"],[0.2222222222222222,\"#7201a8\"],[0.3333333333333333,\"#9c179e\"],[0.4444444444444444,\"#bd3786\"],[0.5555555555555556,\"#d8576b\"],[0.6666666666666666,\"#ed7953\"],[0.7777777777777778,\"#fb9f3a\"],[0.8888888888888888,\"#fdca26\"],[1.0,\"#f0f921\"]]}],\"contourcarpet\":[{\"type\":\"contourcarpet\",\"colorbar\":{\"outlinewidth\":0,\"ticks\":\"\"}}],\"contour\":[{\"type\":\"contour\",\"colorbar\":{\"outlinewidth\":0,\"ticks\":\"\"},\"colorscale\":[[0.0,\"#0d0887\"],[0.1111111111111111,\"#46039f\"],[0.2222222222222222,\"#7201a8\"],[0.3333333333333333,\"#9c179e\"],[0.4444444444444444,\"#bd3786\"],[0.5555555555555556,\"#d8576b\"],[0.6666666666666666,\"#ed7953\"],[0.7777777777777778,\"#fb9f3a\"],[0.8888888888888888,\"#fdca26\"],[1.0,\"#f0f921\"]]}],\"surface\":[{\"type\":\"surface\",\"colorbar\":{\"outlinewidth\":0,\"ticks\":\"\"},\"colorscale\":[[0.0,\"#0d0887\"],[0.1111111111111111,\"#46039f\"],[0.2222222222222222,\"#7201a8\"],[0.3333333333333333,\"#9c179e\"],[0.4444444444444444,\"#bd3786\"],[0.5555555555555556,\"#d8576b\"],[0.6666666666666666,\"#ed7953\"],[0.7777777777777778,\"#fb9f3a\"],[0.8888888888888888,\"#fdca26\"],[1.0,\"#f0f921\"]]}],\"mesh3d\":[{\"type\":\"mesh3d\",\"colorbar\":{\"outlinewidth\":0,\"ticks\":\"\"}}],\"scatter\":[{\"fillpattern\":{\"fillmode\":\"overlay\",\"size\":10,\"solidity\":0.2},\"type\":\"scatter\"}],\"parcoords\":[{\"type\":\"parcoords\",\"line\":{\"colorbar\":{\"outlinewidth\":0,\"ticks\":\"\"}}}],\"scatterpolargl\":[{\"type\":\"scatterpolargl\",\"marker\":{\"colorbar\":{\"outlinewidth\":0,\"ticks\":\"\"}}}],\"bar\":[{\"error_x\":{\"color\":\"#2a3f5f\"},\"error_y\":{\"color\":\"#2a3f5f\"},\"marker\":{\"line\":{\"color\":\"#E5ECF6\",\"width\":0.5},\"pattern\":{\"fillmode\":\"overlay\",\"size\":10,\"solidity\":0.2}},\"type\":\"bar\"}],\"scattergeo\":[{\"type\":\"scattergeo\",\"marker\":{\"colorbar\":{\"outlinewidth\":0,\"ticks\":\"\"}}}],\"scatterpolar\":[{\"type\":\"scatterpolar\",\"marker\":{\"colorbar\":{\"outlinewidth\":0,\"ticks\":\"\"}}}],\"histogram\":[{\"marker\":{\"pattern\":{\"fillmode\":\"overlay\",\"size\":10,\"solidity\":0.2}},\"type\":\"histogram\"}],\"scattergl\":[{\"type\":\"scattergl\",\"marker\":{\"colorbar\":{\"outlinewidth\":0,\"ticks\":\"\"}}}],\"scatter3d\":[{\"type\":\"scatter3d\",\"line\":{\"colorbar\":{\"outlinewidth\":0,\"ticks\":\"\"}},\"marker\":{\"colorbar\":{\"outlinewidth\":0,\"ticks\":\"\"}}}],\"scattermapbox\":[{\"type\":\"scattermapbox\",\"marker\":{\"colorbar\":{\"outlinewidth\":0,\"ticks\":\"\"}}}],\"scatterternary\":[{\"type\":\"scatterternary\",\"marker\":{\"colorbar\":{\"outlinewidth\":0,\"ticks\":\"\"}}}],\"scattercarpet\":[{\"type\":\"scattercarpet\",\"marker\":{\"colorbar\":{\"outlinewidth\":0,\"ticks\":\"\"}}}],\"carpet\":[{\"aaxis\":{\"endlinecolor\":\"#2a3f5f\",\"gridcolor\":\"white\",\"linecolor\":\"white\",\"minorgridcolor\":\"white\",\"startlinecolor\":\"#2a3f5f\"},\"baxis\":{\"endlinecolor\":\"#2a3f5f\",\"gridcolor\":\"white\",\"linecolor\":\"white\",\"minorgridcolor\":\"white\",\"startlinecolor\":\"#2a3f5f\"},\"type\":\"carpet\"}],\"table\":[{\"cells\":{\"fill\":{\"color\":\"#EBF0F8\"},\"line\":{\"color\":\"white\"}},\"header\":{\"fill\":{\"color\":\"#C8D4E3\"},\"line\":{\"color\":\"white\"}},\"type\":\"table\"}],\"barpolar\":[{\"marker\":{\"line\":{\"color\":\"#E5ECF6\",\"width\":0.5},\"pattern\":{\"fillmode\":\"overlay\",\"size\":10,\"solidity\":0.2}},\"type\":\"barpolar\"}],\"pie\":[{\"automargin\":true,\"type\":\"pie\"}]},\"layout\":{\"autotypenumbers\":\"strict\",\"colorway\":[\"#636efa\",\"#EF553B\",\"#00cc96\",\"#ab63fa\",\"#FFA15A\",\"#19d3f3\",\"#FF6692\",\"#B6E880\",\"#FF97FF\",\"#FECB52\"],\"font\":{\"color\":\"#2a3f5f\"},\"hovermode\":\"closest\",\"hoverlabel\":{\"align\":\"left\"},\"paper_bgcolor\":\"white\",\"plot_bgcolor\":\"#E5ECF6\",\"polar\":{\"bgcolor\":\"#E5ECF6\",\"angularaxis\":{\"gridcolor\":\"white\",\"linecolor\":\"white\",\"ticks\":\"\"},\"radialaxis\":{\"gridcolor\":\"white\",\"linecolor\":\"white\",\"ticks\":\"\"}},\"ternary\":{\"bgcolor\":\"#E5ECF6\",\"aaxis\":{\"gridcolor\":\"white\",\"linecolor\":\"white\",\"ticks\":\"\"},\"baxis\":{\"gridcolor\":\"white\",\"linecolor\":\"white\",\"ticks\":\"\"},\"caxis\":{\"gridcolor\":\"white\",\"linecolor\":\"white\",\"ticks\":\"\"}},\"coloraxis\":{\"colorbar\":{\"outlinewidth\":0,\"ticks\":\"\"}},\"colorscale\":{\"sequential\":[[0.0,\"#0d0887\"],[0.1111111111111111,\"#46039f\"],[0.2222222222222222,\"#7201a8\"],[0.3333333333333333,\"#9c179e\"],[0.4444444444444444,\"#bd3786\"],[0.5555555555555556,\"#d8576b\"],[0.6666666666666666,\"#ed7953\"],[0.7777777777777778,\"#fb9f3a\"],[0.8888888888888888,\"#fdca26\"],[1.0,\"#f0f921\"]],\"sequentialminus\":[[0.0,\"#0d0887\"],[0.1111111111111111,\"#46039f\"],[0.2222222222222222,\"#7201a8\"],[0.3333333333333333,\"#9c179e\"],[0.4444444444444444,\"#bd3786\"],[0.5555555555555556,\"#d8576b\"],[0.6666666666666666,\"#ed7953\"],[0.7777777777777778,\"#fb9f3a\"],[0.8888888888888888,\"#fdca26\"],[1.0,\"#f0f921\"]],\"diverging\":[[0,\"#8e0152\"],[0.1,\"#c51b7d\"],[0.2,\"#de77ae\"],[0.3,\"#f1b6da\"],[0.4,\"#fde0ef\"],[0.5,\"#f7f7f7\"],[0.6,\"#e6f5d0\"],[0.7,\"#b8e186\"],[0.8,\"#7fbc41\"],[0.9,\"#4d9221\"],[1,\"#276419\"]]},\"xaxis\":{\"gridcolor\":\"white\",\"linecolor\":\"white\",\"ticks\":\"\",\"title\":{\"standoff\":15},\"zerolinecolor\":\"white\",\"automargin\":true,\"zerolinewidth\":2},\"yaxis\":{\"gridcolor\":\"white\",\"linecolor\":\"white\",\"ticks\":\"\",\"title\":{\"standoff\":15},\"zerolinecolor\":\"white\",\"automargin\":true,\"zerolinewidth\":2},\"scene\":{\"xaxis\":{\"backgroundcolor\":\"#E5ECF6\",\"gridcolor\":\"white\",\"linecolor\":\"white\",\"showbackground\":true,\"ticks\":\"\",\"zerolinecolor\":\"white\",\"gridwidth\":2},\"yaxis\":{\"backgroundcolor\":\"#E5ECF6\",\"gridcolor\":\"white\",\"linecolor\":\"white\",\"showbackground\":true,\"ticks\":\"\",\"zerolinecolor\":\"white\",\"gridwidth\":2},\"zaxis\":{\"backgroundcolor\":\"#E5ECF6\",\"gridcolor\":\"white\",\"linecolor\":\"white\",\"showbackground\":true,\"ticks\":\"\",\"zerolinecolor\":\"white\",\"gridwidth\":2}},\"shapedefaults\":{\"line\":{\"color\":\"#2a3f5f\"}},\"annotationdefaults\":{\"arrowcolor\":\"#2a3f5f\",\"arrowhead\":0,\"arrowwidth\":1},\"geo\":{\"bgcolor\":\"white\",\"landcolor\":\"#E5ECF6\",\"subunitcolor\":\"white\",\"showland\":true,\"showlakes\":true,\"lakecolor\":\"white\"},\"title\":{\"x\":0.05},\"mapbox\":{\"style\":\"light\"}}}},                        {\"responsive\": true}                    ).then(function(){\n",
       "                            \n",
       "var gd = document.getElementById('27c140a6-d571-4f57-a261-5f26b0c4307e');\n",
       "var x = new MutationObserver(function (mutations, observer) {{\n",
       "        var display = window.getComputedStyle(gd).display;\n",
       "        if (!display || display === 'none') {{\n",
       "            console.log([gd, 'removed!']);\n",
       "            Plotly.purge(gd);\n",
       "            observer.disconnect();\n",
       "        }}\n",
       "}});\n",
       "\n",
       "// Listen for the removal of the full notebook cells\n",
       "var notebookContainer = gd.closest('#notebook-container');\n",
       "if (notebookContainer) {{\n",
       "    x.observe(notebookContainer, {childList: true});\n",
       "}}\n",
       "\n",
       "// Listen for the clearing of the current output cell\n",
       "var outputEl = gd.closest('.output');\n",
       "if (outputEl) {{\n",
       "    x.observe(outputEl, {childList: true});\n",
       "}}\n",
       "\n",
       "                        })                };                });            </script>        </div>"
      ]
     },
     "metadata": {},
     "output_type": "display_data"
    }
   ],
   "source": [
    "pybop.quick_plot(x, cost, title=\"Optimised Comparison\");"
   ]
  },
  {
   "cell_type": "markdown",
   "metadata": {},
   "source": [
    "### Convergence and Parameter Trajectories\n",
    "\n",
    "To assess the optimisation process, we can plot the convergence of the cost function and the trajectories of the parameters:"
   ]
  },
  {
   "cell_type": "code",
   "execution_count": 48,
   "metadata": {
    "id": "N5XYkevi04qD"
   },
   "outputs": [
    {
     "data": {
      "application/vnd.plotly.v1+json": {
       "config": {
        "plotlyServerURL": "https://plot.ly"
       },
       "data": [
        {
         "line": {
          "width": 4
         },
         "mode": "lines",
         "name": "SciPyDifferentialEvolution",
         "type": "scatter",
         "x": [
          1,
          2,
          3,
          4,
          5,
          6,
          7,
          8,
          9,
          10,
          11,
          12,
          13,
          14,
          15,
          16,
          17,
          18,
          19,
          20,
          21,
          22,
          23,
          24,
          25
         ],
         "y": [
          0.006562205529376925,
          0.006562205529376925,
          0.006562205529376925,
          0.0005644769656826887,
          0.0005644769656826887,
          0.0005644769656826887,
          0.0005644769656826887,
          0.0005644769656826887,
          0.0005644769656826887,
          0.0005644769656826887,
          0.0005644769656826887,
          0.0005644769656826887,
          0.0005316357552282654,
          0.0005316357552282654,
          0.0005316357552282654,
          0.0005169782580600236,
          0.0005163829577250096,
          0.0005065398512937003,
          0.0005065398512937003,
          0.0005065398512937003,
          0.0005065225518342466,
          0.0005065077948997031,
          0.0005065077948997031,
          0.0005065077948997031,
          0.0005065077948997031
         ]
        }
       ],
       "layout": {
        "autosize": false,
        "height": 576,
        "legend": {
         "font": {
          "size": 12
         },
         "x": 1,
         "xanchor": "right",
         "y": 1,
         "yanchor": "top"
        },
        "margin": {
         "b": 10,
         "l": 10,
         "pad": 4,
         "r": 10,
         "t": 75
        },
        "showlegend": true,
        "template": {
         "data": {
          "bar": [
           {
            "error_x": {
             "color": "#2a3f5f"
            },
            "error_y": {
             "color": "#2a3f5f"
            },
            "marker": {
             "line": {
              "color": "#E5ECF6",
              "width": 0.5
             },
             "pattern": {
              "fillmode": "overlay",
              "size": 10,
              "solidity": 0.2
             }
            },
            "type": "bar"
           }
          ],
          "barpolar": [
           {
            "marker": {
             "line": {
              "color": "#E5ECF6",
              "width": 0.5
             },
             "pattern": {
              "fillmode": "overlay",
              "size": 10,
              "solidity": 0.2
             }
            },
            "type": "barpolar"
           }
          ],
          "carpet": [
           {
            "aaxis": {
             "endlinecolor": "#2a3f5f",
             "gridcolor": "white",
             "linecolor": "white",
             "minorgridcolor": "white",
             "startlinecolor": "#2a3f5f"
            },
            "baxis": {
             "endlinecolor": "#2a3f5f",
             "gridcolor": "white",
             "linecolor": "white",
             "minorgridcolor": "white",
             "startlinecolor": "#2a3f5f"
            },
            "type": "carpet"
           }
          ],
          "choropleth": [
           {
            "colorbar": {
             "outlinewidth": 0,
             "ticks": ""
            },
            "type": "choropleth"
           }
          ],
          "contour": [
           {
            "colorbar": {
             "outlinewidth": 0,
             "ticks": ""
            },
            "colorscale": [
             [
              0,
              "#0d0887"
             ],
             [
              0.1111111111111111,
              "#46039f"
             ],
             [
              0.2222222222222222,
              "#7201a8"
             ],
             [
              0.3333333333333333,
              "#9c179e"
             ],
             [
              0.4444444444444444,
              "#bd3786"
             ],
             [
              0.5555555555555556,
              "#d8576b"
             ],
             [
              0.6666666666666666,
              "#ed7953"
             ],
             [
              0.7777777777777778,
              "#fb9f3a"
             ],
             [
              0.8888888888888888,
              "#fdca26"
             ],
             [
              1,
              "#f0f921"
             ]
            ],
            "type": "contour"
           }
          ],
          "contourcarpet": [
           {
            "colorbar": {
             "outlinewidth": 0,
             "ticks": ""
            },
            "type": "contourcarpet"
           }
          ],
          "heatmap": [
           {
            "colorbar": {
             "outlinewidth": 0,
             "ticks": ""
            },
            "colorscale": [
             [
              0,
              "#0d0887"
             ],
             [
              0.1111111111111111,
              "#46039f"
             ],
             [
              0.2222222222222222,
              "#7201a8"
             ],
             [
              0.3333333333333333,
              "#9c179e"
             ],
             [
              0.4444444444444444,
              "#bd3786"
             ],
             [
              0.5555555555555556,
              "#d8576b"
             ],
             [
              0.6666666666666666,
              "#ed7953"
             ],
             [
              0.7777777777777778,
              "#fb9f3a"
             ],
             [
              0.8888888888888888,
              "#fdca26"
             ],
             [
              1,
              "#f0f921"
             ]
            ],
            "type": "heatmap"
           }
          ],
          "heatmapgl": [
           {
            "colorbar": {
             "outlinewidth": 0,
             "ticks": ""
            },
            "colorscale": [
             [
              0,
              "#0d0887"
             ],
             [
              0.1111111111111111,
              "#46039f"
             ],
             [
              0.2222222222222222,
              "#7201a8"
             ],
             [
              0.3333333333333333,
              "#9c179e"
             ],
             [
              0.4444444444444444,
              "#bd3786"
             ],
             [
              0.5555555555555556,
              "#d8576b"
             ],
             [
              0.6666666666666666,
              "#ed7953"
             ],
             [
              0.7777777777777778,
              "#fb9f3a"
             ],
             [
              0.8888888888888888,
              "#fdca26"
             ],
             [
              1,
              "#f0f921"
             ]
            ],
            "type": "heatmapgl"
           }
          ],
          "histogram": [
           {
            "marker": {
             "pattern": {
              "fillmode": "overlay",
              "size": 10,
              "solidity": 0.2
             }
            },
            "type": "histogram"
           }
          ],
          "histogram2d": [
           {
            "colorbar": {
             "outlinewidth": 0,
             "ticks": ""
            },
            "colorscale": [
             [
              0,
              "#0d0887"
             ],
             [
              0.1111111111111111,
              "#46039f"
             ],
             [
              0.2222222222222222,
              "#7201a8"
             ],
             [
              0.3333333333333333,
              "#9c179e"
             ],
             [
              0.4444444444444444,
              "#bd3786"
             ],
             [
              0.5555555555555556,
              "#d8576b"
             ],
             [
              0.6666666666666666,
              "#ed7953"
             ],
             [
              0.7777777777777778,
              "#fb9f3a"
             ],
             [
              0.8888888888888888,
              "#fdca26"
             ],
             [
              1,
              "#f0f921"
             ]
            ],
            "type": "histogram2d"
           }
          ],
          "histogram2dcontour": [
           {
            "colorbar": {
             "outlinewidth": 0,
             "ticks": ""
            },
            "colorscale": [
             [
              0,
              "#0d0887"
             ],
             [
              0.1111111111111111,
              "#46039f"
             ],
             [
              0.2222222222222222,
              "#7201a8"
             ],
             [
              0.3333333333333333,
              "#9c179e"
             ],
             [
              0.4444444444444444,
              "#bd3786"
             ],
             [
              0.5555555555555556,
              "#d8576b"
             ],
             [
              0.6666666666666666,
              "#ed7953"
             ],
             [
              0.7777777777777778,
              "#fb9f3a"
             ],
             [
              0.8888888888888888,
              "#fdca26"
             ],
             [
              1,
              "#f0f921"
             ]
            ],
            "type": "histogram2dcontour"
           }
          ],
          "mesh3d": [
           {
            "colorbar": {
             "outlinewidth": 0,
             "ticks": ""
            },
            "type": "mesh3d"
           }
          ],
          "parcoords": [
           {
            "line": {
             "colorbar": {
              "outlinewidth": 0,
              "ticks": ""
             }
            },
            "type": "parcoords"
           }
          ],
          "pie": [
           {
            "automargin": true,
            "type": "pie"
           }
          ],
          "scatter": [
           {
            "fillpattern": {
             "fillmode": "overlay",
             "size": 10,
             "solidity": 0.2
            },
            "type": "scatter"
           }
          ],
          "scatter3d": [
           {
            "line": {
             "colorbar": {
              "outlinewidth": 0,
              "ticks": ""
             }
            },
            "marker": {
             "colorbar": {
              "outlinewidth": 0,
              "ticks": ""
             }
            },
            "type": "scatter3d"
           }
          ],
          "scattercarpet": [
           {
            "marker": {
             "colorbar": {
              "outlinewidth": 0,
              "ticks": ""
             }
            },
            "type": "scattercarpet"
           }
          ],
          "scattergeo": [
           {
            "marker": {
             "colorbar": {
              "outlinewidth": 0,
              "ticks": ""
             }
            },
            "type": "scattergeo"
           }
          ],
          "scattergl": [
           {
            "marker": {
             "colorbar": {
              "outlinewidth": 0,
              "ticks": ""
             }
            },
            "type": "scattergl"
           }
          ],
          "scattermapbox": [
           {
            "marker": {
             "colorbar": {
              "outlinewidth": 0,
              "ticks": ""
             }
            },
            "type": "scattermapbox"
           }
          ],
          "scatterpolar": [
           {
            "marker": {
             "colorbar": {
              "outlinewidth": 0,
              "ticks": ""
             }
            },
            "type": "scatterpolar"
           }
          ],
          "scatterpolargl": [
           {
            "marker": {
             "colorbar": {
              "outlinewidth": 0,
              "ticks": ""
             }
            },
            "type": "scatterpolargl"
           }
          ],
          "scatterternary": [
           {
            "marker": {
             "colorbar": {
              "outlinewidth": 0,
              "ticks": ""
             }
            },
            "type": "scatterternary"
           }
          ],
          "surface": [
           {
            "colorbar": {
             "outlinewidth": 0,
             "ticks": ""
            },
            "colorscale": [
             [
              0,
              "#0d0887"
             ],
             [
              0.1111111111111111,
              "#46039f"
             ],
             [
              0.2222222222222222,
              "#7201a8"
             ],
             [
              0.3333333333333333,
              "#9c179e"
             ],
             [
              0.4444444444444444,
              "#bd3786"
             ],
             [
              0.5555555555555556,
              "#d8576b"
             ],
             [
              0.6666666666666666,
              "#ed7953"
             ],
             [
              0.7777777777777778,
              "#fb9f3a"
             ],
             [
              0.8888888888888888,
              "#fdca26"
             ],
             [
              1,
              "#f0f921"
             ]
            ],
            "type": "surface"
           }
          ],
          "table": [
           {
            "cells": {
             "fill": {
              "color": "#EBF0F8"
             },
             "line": {
              "color": "white"
             }
            },
            "header": {
             "fill": {
              "color": "#C8D4E3"
             },
             "line": {
              "color": "white"
             }
            },
            "type": "table"
           }
          ]
         },
         "layout": {
          "annotationdefaults": {
           "arrowcolor": "#2a3f5f",
           "arrowhead": 0,
           "arrowwidth": 1
          },
          "autotypenumbers": "strict",
          "coloraxis": {
           "colorbar": {
            "outlinewidth": 0,
            "ticks": ""
           }
          },
          "colorscale": {
           "diverging": [
            [
             0,
             "#8e0152"
            ],
            [
             0.1,
             "#c51b7d"
            ],
            [
             0.2,
             "#de77ae"
            ],
            [
             0.3,
             "#f1b6da"
            ],
            [
             0.4,
             "#fde0ef"
            ],
            [
             0.5,
             "#f7f7f7"
            ],
            [
             0.6,
             "#e6f5d0"
            ],
            [
             0.7,
             "#b8e186"
            ],
            [
             0.8,
             "#7fbc41"
            ],
            [
             0.9,
             "#4d9221"
            ],
            [
             1,
             "#276419"
            ]
           ],
           "sequential": [
            [
             0,
             "#0d0887"
            ],
            [
             0.1111111111111111,
             "#46039f"
            ],
            [
             0.2222222222222222,
             "#7201a8"
            ],
            [
             0.3333333333333333,
             "#9c179e"
            ],
            [
             0.4444444444444444,
             "#bd3786"
            ],
            [
             0.5555555555555556,
             "#d8576b"
            ],
            [
             0.6666666666666666,
             "#ed7953"
            ],
            [
             0.7777777777777778,
             "#fb9f3a"
            ],
            [
             0.8888888888888888,
             "#fdca26"
            ],
            [
             1,
             "#f0f921"
            ]
           ],
           "sequentialminus": [
            [
             0,
             "#0d0887"
            ],
            [
             0.1111111111111111,
             "#46039f"
            ],
            [
             0.2222222222222222,
             "#7201a8"
            ],
            [
             0.3333333333333333,
             "#9c179e"
            ],
            [
             0.4444444444444444,
             "#bd3786"
            ],
            [
             0.5555555555555556,
             "#d8576b"
            ],
            [
             0.6666666666666666,
             "#ed7953"
            ],
            [
             0.7777777777777778,
             "#fb9f3a"
            ],
            [
             0.8888888888888888,
             "#fdca26"
            ],
            [
             1,
             "#f0f921"
            ]
           ]
          },
          "colorway": [
           "#636efa",
           "#EF553B",
           "#00cc96",
           "#ab63fa",
           "#FFA15A",
           "#19d3f3",
           "#FF6692",
           "#B6E880",
           "#FF97FF",
           "#FECB52"
          ],
          "font": {
           "color": "#2a3f5f"
          },
          "geo": {
           "bgcolor": "white",
           "lakecolor": "white",
           "landcolor": "#E5ECF6",
           "showlakes": true,
           "showland": true,
           "subunitcolor": "white"
          },
          "hoverlabel": {
           "align": "left"
          },
          "hovermode": "closest",
          "mapbox": {
           "style": "light"
          },
          "paper_bgcolor": "white",
          "plot_bgcolor": "#E5ECF6",
          "polar": {
           "angularaxis": {
            "gridcolor": "white",
            "linecolor": "white",
            "ticks": ""
           },
           "bgcolor": "#E5ECF6",
           "radialaxis": {
            "gridcolor": "white",
            "linecolor": "white",
            "ticks": ""
           }
          },
          "scene": {
           "xaxis": {
            "backgroundcolor": "#E5ECF6",
            "gridcolor": "white",
            "gridwidth": 2,
            "linecolor": "white",
            "showbackground": true,
            "ticks": "",
            "zerolinecolor": "white"
           },
           "yaxis": {
            "backgroundcolor": "#E5ECF6",
            "gridcolor": "white",
            "gridwidth": 2,
            "linecolor": "white",
            "showbackground": true,
            "ticks": "",
            "zerolinecolor": "white"
           },
           "zaxis": {
            "backgroundcolor": "#E5ECF6",
            "gridcolor": "white",
            "gridwidth": 2,
            "linecolor": "white",
            "showbackground": true,
            "ticks": "",
            "zerolinecolor": "white"
           }
          },
          "shapedefaults": {
           "line": {
            "color": "#2a3f5f"
           }
          },
          "ternary": {
           "aaxis": {
            "gridcolor": "white",
            "linecolor": "white",
            "ticks": ""
           },
           "baxis": {
            "gridcolor": "white",
            "linecolor": "white",
            "ticks": ""
           },
           "bgcolor": "#E5ECF6",
           "caxis": {
            "gridcolor": "white",
            "linecolor": "white",
            "ticks": ""
           }
          },
          "title": {
           "x": 0.05
          },
          "xaxis": {
           "automargin": true,
           "gridcolor": "white",
           "linecolor": "white",
           "ticks": "",
           "title": {
            "standoff": 15
           },
           "zerolinecolor": "white",
           "zerolinewidth": 2
          },
          "yaxis": {
           "automargin": true,
           "gridcolor": "white",
           "linecolor": "white",
           "ticks": "",
           "title": {
            "standoff": 15
           },
           "zerolinecolor": "white",
           "zerolinewidth": 2
          }
         }
        },
        "title": {
         "text": "Convergence",
         "x": 0.5
        },
        "width": 1024,
        "xaxis": {
         "autorange": true,
         "range": [
          1,
          25
         ],
         "tickfont": {
          "size": 12
         },
         "title": {
          "font": {
           "size": 12
          },
          "text": "Iteration"
         },
         "type": "linear"
        },
        "yaxis": {
         "autorange": true,
         "range": [
          0.0001700801429843019,
          0.006898633181292326
         ],
         "tickfont": {
          "size": 12
         },
         "title": {
          "font": {
           "size": 12
          },
          "text": "Cost"
         },
         "type": "linear"
        }
       }
      },
      "image/png": "[encoded data removed]",
      "text/html": [
       "<div>                            <div id=\"30a81577-ba1a-419e-aacf-1ab0ae793711\" class=\"plotly-graph-div\" style=\"height:576px; width:1024px;\"></div>            <script type=\"text/javascript\">                require([\"plotly\"], function(Plotly) {                    window.PLOTLYENV=window.PLOTLYENV || {};                                    if (document.getElementById(\"30a81577-ba1a-419e-aacf-1ab0ae793711\")) {                    Plotly.newPlot(                        \"30a81577-ba1a-419e-aacf-1ab0ae793711\",                        [{\"line\":{\"width\":4},\"mode\":\"lines\",\"name\":\"SciPyDifferentialEvolution\",\"x\":[1,2,3,4,5,6,7,8,9,10,11,12,13,14,15,16,17,18,19,20,21,22,23,24,25],\"y\":[0.006562205529376925,0.006562205529376925,0.006562205529376925,0.0005644769656826887,0.0005644769656826887,0.0005644769656826887,0.0005644769656826887,0.0005644769656826887,0.0005644769656826887,0.0005644769656826887,0.0005644769656826887,0.0005644769656826887,0.0005316357552282654,0.0005316357552282654,0.0005316357552282654,0.0005169782580600236,0.0005163829577250096,0.0005065398512937003,0.0005065398512937003,0.0005065398512937003,0.0005065225518342466,0.0005065077948997031,0.0005065077948997031,0.0005065077948997031,0.0005065077948997031],\"type\":\"scatter\"}],                        {\"autosize\":false,\"height\":576,\"legend\":{\"font\":{\"size\":12},\"x\":1,\"xanchor\":\"right\",\"y\":1,\"yanchor\":\"top\"},\"margin\":{\"b\":10,\"l\":10,\"pad\":4,\"r\":10,\"t\":75},\"showlegend\":true,\"title\":{\"text\":\"Convergence\",\"x\":0.5},\"width\":1024,\"xaxis\":{\"tickfont\":{\"size\":12},\"title\":{\"font\":{\"size\":12},\"text\":\"Iteration\"}},\"yaxis\":{\"tickfont\":{\"size\":12},\"title\":{\"font\":{\"size\":12},\"text\":\"Cost\"}},\"template\":{\"data\":{\"histogram2dcontour\":[{\"type\":\"histogram2dcontour\",\"colorbar\":{\"outlinewidth\":0,\"ticks\":\"\"},\"colorscale\":[[0.0,\"#0d0887\"],[0.1111111111111111,\"#46039f\"],[0.2222222222222222,\"#7201a8\"],[0.3333333333333333,\"#9c179e\"],[0.4444444444444444,\"#bd3786\"],[0.5555555555555556,\"#d8576b\"],[0.6666666666666666,\"#ed7953\"],[0.7777777777777778,\"#fb9f3a\"],[0.8888888888888888,\"#fdca26\"],[1.0,\"#f0f921\"]]}],\"choropleth\":[{\"type\":\"choropleth\",\"colorbar\":{\"outlinewidth\":0,\"ticks\":\"\"}}],\"histogram2d\":[{\"type\":\"histogram2d\",\"colorbar\":{\"outlinewidth\":0,\"ticks\":\"\"},\"colorscale\":[[0.0,\"#0d0887\"],[0.1111111111111111,\"#46039f\"],[0.2222222222222222,\"#7201a8\"],[0.3333333333333333,\"#9c179e\"],[0.4444444444444444,\"#bd3786\"],[0.5555555555555556,\"#d8576b\"],[0.6666666666666666,\"#ed7953\"],[0.7777777777777778,\"#fb9f3a\"],[0.8888888888888888,\"#fdca26\"],[1.0,\"#f0f921\"]]}],\"heatmap\":[{\"type\":\"heatmap\",\"colorbar\":{\"outlinewidth\":0,\"ticks\":\"\"},\"colorscale\":[[0.0,\"#0d0887\"],[0.1111111111111111,\"#46039f\"],[0.2222222222222222,\"#7201a8\"],[0.3333333333333333,\"#9c179e\"],[0.4444444444444444,\"#bd3786\"],[0.5555555555555556,\"#d8576b\"],[0.6666666666666666,\"#ed7953\"],[0.7777777777777778,\"#fb9f3a\"],[0.8888888888888888,\"#fdca26\"],[1.0,\"#f0f921\"]]}],\"heatmapgl\":[{\"type\":\"heatmapgl\",\"colorbar\":{\"outlinewidth\":0,\"ticks\":\"\"},\"colorscale\":[[0.0,\"#0d0887\"],[0.1111111111111111,\"#46039f\"],[0.2222222222222222,\"#7201a8\"],[0.3333333333333333,\"#9c179e\"],[0.4444444444444444,\"#bd3786\"],[0.5555555555555556,\"#d8576b\"],[0.6666666666666666,\"#ed7953\"],[0.7777777777777778,\"#fb9f3a\"],[0.8888888888888888,\"#fdca26\"],[1.0,\"#f0f921\"]]}],\"contourcarpet\":[{\"type\":\"contourcarpet\",\"colorbar\":{\"outlinewidth\":0,\"ticks\":\"\"}}],\"contour\":[{\"type\":\"contour\",\"colorbar\":{\"outlinewidth\":0,\"ticks\":\"\"},\"colorscale\":[[0.0,\"#0d0887\"],[0.1111111111111111,\"#46039f\"],[0.2222222222222222,\"#7201a8\"],[0.3333333333333333,\"#9c179e\"],[0.4444444444444444,\"#bd3786\"],[0.5555555555555556,\"#d8576b\"],[0.6666666666666666,\"#ed7953\"],[0.7777777777777778,\"#fb9f3a\"],[0.8888888888888888,\"#fdca26\"],[1.0,\"#f0f921\"]]}],\"surface\":[{\"type\":\"surface\",\"colorbar\":{\"outlinewidth\":0,\"ticks\":\"\"},\"colorscale\":[[0.0,\"#0d0887\"],[0.1111111111111111,\"#46039f\"],[0.2222222222222222,\"#7201a8\"],[0.3333333333333333,\"#9c179e\"],[0.4444444444444444,\"#bd3786\"],[0.5555555555555556,\"#d8576b\"],[0.6666666666666666,\"#ed7953\"],[0.7777777777777778,\"#fb9f3a\"],[0.8888888888888888,\"#fdca26\"],[1.0,\"#f0f921\"]]}],\"mesh3d\":[{\"type\":\"mesh3d\",\"colorbar\":{\"outlinewidth\":0,\"ticks\":\"\"}}],\"scatter\":[{\"fillpattern\":{\"fillmode\":\"overlay\",\"size\":10,\"solidity\":0.2},\"type\":\"scatter\"}],\"parcoords\":[{\"type\":\"parcoords\",\"line\":{\"colorbar\":{\"outlinewidth\":0,\"ticks\":\"\"}}}],\"scatterpolargl\":[{\"type\":\"scatterpolargl\",\"marker\":{\"colorbar\":{\"outlinewidth\":0,\"ticks\":\"\"}}}],\"bar\":[{\"error_x\":{\"color\":\"#2a3f5f\"},\"error_y\":{\"color\":\"#2a3f5f\"},\"marker\":{\"line\":{\"color\":\"#E5ECF6\",\"width\":0.5},\"pattern\":{\"fillmode\":\"overlay\",\"size\":10,\"solidity\":0.2}},\"type\":\"bar\"}],\"scattergeo\":[{\"type\":\"scattergeo\",\"marker\":{\"colorbar\":{\"outlinewidth\":0,\"ticks\":\"\"}}}],\"scatterpolar\":[{\"type\":\"scatterpolar\",\"marker\":{\"colorbar\":{\"outlinewidth\":0,\"ticks\":\"\"}}}],\"histogram\":[{\"marker\":{\"pattern\":{\"fillmode\":\"overlay\",\"size\":10,\"solidity\":0.2}},\"type\":\"histogram\"}],\"scattergl\":[{\"type\":\"scattergl\",\"marker\":{\"colorbar\":{\"outlinewidth\":0,\"ticks\":\"\"}}}],\"scatter3d\":[{\"type\":\"scatter3d\",\"line\":{\"colorbar\":{\"outlinewidth\":0,\"ticks\":\"\"}},\"marker\":{\"colorbar\":{\"outlinewidth\":0,\"ticks\":\"\"}}}],\"scattermapbox\":[{\"type\":\"scattermapbox\",\"marker\":{\"colorbar\":{\"outlinewidth\":0,\"ticks\":\"\"}}}],\"scatterternary\":[{\"type\":\"scatterternary\",\"marker\":{\"colorbar\":{\"outlinewidth\":0,\"ticks\":\"\"}}}],\"scattercarpet\":[{\"type\":\"scattercarpet\",\"marker\":{\"colorbar\":{\"outlinewidth\":0,\"ticks\":\"\"}}}],\"carpet\":[{\"aaxis\":{\"endlinecolor\":\"#2a3f5f\",\"gridcolor\":\"white\",\"linecolor\":\"white\",\"minorgridcolor\":\"white\",\"startlinecolor\":\"#2a3f5f\"},\"baxis\":{\"endlinecolor\":\"#2a3f5f\",\"gridcolor\":\"white\",\"linecolor\":\"white\",\"minorgridcolor\":\"white\",\"startlinecolor\":\"#2a3f5f\"},\"type\":\"carpet\"}],\"table\":[{\"cells\":{\"fill\":{\"color\":\"#EBF0F8\"},\"line\":{\"color\":\"white\"}},\"header\":{\"fill\":{\"color\":\"#C8D4E3\"},\"line\":{\"color\":\"white\"}},\"type\":\"table\"}],\"barpolar\":[{\"marker\":{\"line\":{\"color\":\"#E5ECF6\",\"width\":0.5},\"pattern\":{\"fillmode\":\"overlay\",\"size\":10,\"solidity\":0.2}},\"type\":\"barpolar\"}],\"pie\":[{\"automargin\":true,\"type\":\"pie\"}]},\"layout\":{\"autotypenumbers\":\"strict\",\"colorway\":[\"#636efa\",\"#EF553B\",\"#00cc96\",\"#ab63fa\",\"#FFA15A\",\"#19d3f3\",\"#FF6692\",\"#B6E880\",\"#FF97FF\",\"#FECB52\"],\"font\":{\"color\":\"#2a3f5f\"},\"hovermode\":\"closest\",\"hoverlabel\":{\"align\":\"left\"},\"paper_bgcolor\":\"white\",\"plot_bgcolor\":\"#E5ECF6\",\"polar\":{\"bgcolor\":\"#E5ECF6\",\"angularaxis\":{\"gridcolor\":\"white\",\"linecolor\":\"white\",\"ticks\":\"\"},\"radialaxis\":{\"gridcolor\":\"white\",\"linecolor\":\"white\",\"ticks\":\"\"}},\"ternary\":{\"bgcolor\":\"#E5ECF6\",\"aaxis\":{\"gridcolor\":\"white\",\"linecolor\":\"white\",\"ticks\":\"\"},\"baxis\":{\"gridcolor\":\"white\",\"linecolor\":\"white\",\"ticks\":\"\"},\"caxis\":{\"gridcolor\":\"white\",\"linecolor\":\"white\",\"ticks\":\"\"}},\"coloraxis\":{\"colorbar\":{\"outlinewidth\":0,\"ticks\":\"\"}},\"colorscale\":{\"sequential\":[[0.0,\"#0d0887\"],[0.1111111111111111,\"#46039f\"],[0.2222222222222222,\"#7201a8\"],[0.3333333333333333,\"#9c179e\"],[0.4444444444444444,\"#bd3786\"],[0.5555555555555556,\"#d8576b\"],[0.6666666666666666,\"#ed7953\"],[0.7777777777777778,\"#fb9f3a\"],[0.8888888888888888,\"#fdca26\"],[1.0,\"#f0f921\"]],\"sequentialminus\":[[0.0,\"#0d0887\"],[0.1111111111111111,\"#46039f\"],[0.2222222222222222,\"#7201a8\"],[0.3333333333333333,\"#9c179e\"],[0.4444444444444444,\"#bd3786\"],[0.5555555555555556,\"#d8576b\"],[0.6666666666666666,\"#ed7953\"],[0.7777777777777778,\"#fb9f3a\"],[0.8888888888888888,\"#fdca26\"],[1.0,\"#f0f921\"]],\"diverging\":[[0,\"#8e0152\"],[0.1,\"#c51b7d\"],[0.2,\"#de77ae\"],[0.3,\"#f1b6da\"],[0.4,\"#fde0ef\"],[0.5,\"#f7f7f7\"],[0.6,\"#e6f5d0\"],[0.7,\"#b8e186\"],[0.8,\"#7fbc41\"],[0.9,\"#4d9221\"],[1,\"#276419\"]]},\"xaxis\":{\"gridcolor\":\"white\",\"linecolor\":\"white\",\"ticks\":\"\",\"title\":{\"standoff\":15},\"zerolinecolor\":\"white\",\"automargin\":true,\"zerolinewidth\":2},\"yaxis\":{\"gridcolor\":\"white\",\"linecolor\":\"white\",\"ticks\":\"\",\"title\":{\"standoff\":15},\"zerolinecolor\":\"white\",\"automargin\":true,\"zerolinewidth\":2},\"scene\":{\"xaxis\":{\"backgroundcolor\":\"#E5ECF6\",\"gridcolor\":\"white\",\"linecolor\":\"white\",\"showbackground\":true,\"ticks\":\"\",\"zerolinecolor\":\"white\",\"gridwidth\":2},\"yaxis\":{\"backgroundcolor\":\"#E5ECF6\",\"gridcolor\":\"white\",\"linecolor\":\"white\",\"showbackground\":true,\"ticks\":\"\",\"zerolinecolor\":\"white\",\"gridwidth\":2},\"zaxis\":{\"backgroundcolor\":\"#E5ECF6\",\"gridcolor\":\"white\",\"linecolor\":\"white\",\"showbackground\":true,\"ticks\":\"\",\"zerolinecolor\":\"white\",\"gridwidth\":2}},\"shapedefaults\":{\"line\":{\"color\":\"#2a3f5f\"}},\"annotationdefaults\":{\"arrowcolor\":\"#2a3f5f\",\"arrowhead\":0,\"arrowwidth\":1},\"geo\":{\"bgcolor\":\"white\",\"landcolor\":\"#E5ECF6\",\"subunitcolor\":\"white\",\"showland\":true,\"showlakes\":true,\"lakecolor\":\"white\"},\"title\":{\"x\":0.05},\"mapbox\":{\"style\":\"light\"}}}},                        {\"responsive\": true}                    ).then(function(){\n",
       "                            \n",
       "var gd = document.getElementById('30a81577-ba1a-419e-aacf-1ab0ae793711');\n",
       "var x = new MutationObserver(function (mutations, observer) {{\n",
       "        var display = window.getComputedStyle(gd).display;\n",
       "        if (!display || display === 'none') {{\n",
       "            console.log([gd, 'removed!']);\n",
       "            Plotly.purge(gd);\n",
       "            observer.disconnect();\n",
       "        }}\n",
       "}});\n",
       "\n",
       "// Listen for the removal of the full notebook cells\n",
       "var notebookContainer = gd.closest('#notebook-container');\n",
       "if (notebookContainer) {{\n",
       "    x.observe(notebookContainer, {childList: true});\n",
       "}}\n",
       "\n",
       "// Listen for the clearing of the current output cell\n",
       "var outputEl = gd.closest('.output');\n",
       "if (outputEl) {{\n",
       "    x.observe(outputEl, {childList: true});\n",
       "}}\n",
       "\n",
       "                        })                };                });            </script>        </div>"
      ]
     },
     "metadata": {},
     "output_type": "display_data"
    },
    {
     "data": {
      "application/vnd.plotly.v1+json": {
       "config": {
        "plotlyServerURL": "https://plot.ly"
       },
       "data": [
        {
         "name": "Negative electrode active material volume fraction",
         "type": "scatter",
         "x": [
          0,
          1,
          2,
          3,
          4,
          5,
          6,
          7,
          8,
          9,
          10,
          11,
          12,
          13,
          14,
          15,
          16,
          17,
          18,
          19,
          20,
          21,
          22,
          23,
          24
         ],
         "xaxis": "x",
         "y": [
          0.7145355135850915,
          0.7145355135850915,
          0.7145355135850915,
          0.7459409890771588,
          0.7459409890771588,
          0.7459409890771588,
          0.7459409890771588,
          0.7459409890771588,
          0.7459409890771588,
          0.7459409890771588,
          0.7459409890771588,
          0.7459409890771588,
          0.7452296012764972,
          0.7452296012764972,
          0.7452296012764972,
          0.7482073447942585,
          0.7489880201720678,
          0.7499124517928609,
          0.7499124517928609,
          0.7499124517928609,
          0.7499565206690408,
          0.7499977819992971,
          0.7499977819992971,
          0.7499977819992971,
          0.7499977819992971
         ],
         "yaxis": "y"
        },
        {
         "name": "Positive electrode active material volume fraction",
         "type": "scatter",
         "x": [
          0,
          1,
          2,
          3,
          4,
          5,
          6,
          7,
          8,
          9,
          10,
          11,
          12,
          13,
          14,
          15,
          16,
          17,
          18,
          19,
          20,
          21,
          22,
          23,
          24
         ],
         "xaxis": "x2",
         "y": [
          0.6589211925687739,
          0.6589211925687739,
          0.6589211925687739,
          0.6643317124140159,
          0.6643317124140159,
          0.6643317124140159,
          0.6643317124140159,
          0.6643317124140159,
          0.6643317124140159,
          0.6643317124140159,
          0.6643317124140159,
          0.6643317124140159,
          0.6649346587129739,
          0.6649346587129739,
          0.6649346587129739,
          0.6646282576198099,
          0.6644932381302697,
          0.664854627922799,
          0.664854627922799,
          0.664854627922799,
          0.6648448196971358,
          0.6648356955334283,
          0.6648356955334283,
          0.6648356955334283,
          0.6648356955334283
         ],
         "yaxis": "y2"
        }
       ],
       "layout": {
        "height": 576,
        "legend": {
         "orientation": "h",
         "x": 1,
         "xanchor": "right",
         "y": 1.02,
         "yanchor": "bottom"
        },
        "template": {
         "data": {
          "bar": [
           {
            "error_x": {
             "color": "#2a3f5f"
            },
            "error_y": {
             "color": "#2a3f5f"
            },
            "marker": {
             "line": {
              "color": "#E5ECF6",
              "width": 0.5
             },
             "pattern": {
              "fillmode": "overlay",
              "size": 10,
              "solidity": 0.2
             }
            },
            "type": "bar"
           }
          ],
          "barpolar": [
           {
            "marker": {
             "line": {
              "color": "#E5ECF6",
              "width": 0.5
             },
             "pattern": {
              "fillmode": "overlay",
              "size": 10,
              "solidity": 0.2
             }
            },
            "type": "barpolar"
           }
          ],
          "carpet": [
           {
            "aaxis": {
             "endlinecolor": "#2a3f5f",
             "gridcolor": "white",
             "linecolor": "white",
             "minorgridcolor": "white",
             "startlinecolor": "#2a3f5f"
            },
            "baxis": {
             "endlinecolor": "#2a3f5f",
             "gridcolor": "white",
             "linecolor": "white",
             "minorgridcolor": "white",
             "startlinecolor": "#2a3f5f"
            },
            "type": "carpet"
           }
          ],
          "choropleth": [
           {
            "colorbar": {
             "outlinewidth": 0,
             "ticks": ""
            },
            "type": "choropleth"
           }
          ],
          "contour": [
           {
            "colorbar": {
             "outlinewidth": 0,
             "ticks": ""
            },
            "colorscale": [
             [
              0,
              "#0d0887"
             ],
             [
              0.1111111111111111,
              "#46039f"
             ],
             [
              0.2222222222222222,
              "#7201a8"
             ],
             [
              0.3333333333333333,
              "#9c179e"
             ],
             [
              0.4444444444444444,
              "#bd3786"
             ],
             [
              0.5555555555555556,
              "#d8576b"
             ],
             [
              0.6666666666666666,
              "#ed7953"
             ],
             [
              0.7777777777777778,
              "#fb9f3a"
             ],
             [
              0.8888888888888888,
              "#fdca26"
             ],
             [
              1,
              "#f0f921"
             ]
            ],
            "type": "contour"
           }
          ],
          "contourcarpet": [
           {
            "colorbar": {
             "outlinewidth": 0,
             "ticks": ""
            },
            "type": "contourcarpet"
           }
          ],
          "heatmap": [
           {
            "colorbar": {
             "outlinewidth": 0,
             "ticks": ""
            },
            "colorscale": [
             [
              0,
              "#0d0887"
             ],
             [
              0.1111111111111111,
              "#46039f"
             ],
             [
              0.2222222222222222,
              "#7201a8"
             ],
             [
              0.3333333333333333,
              "#9c179e"
             ],
             [
              0.4444444444444444,
              "#bd3786"
             ],
             [
              0.5555555555555556,
              "#d8576b"
             ],
             [
              0.6666666666666666,
              "#ed7953"
             ],
             [
              0.7777777777777778,
              "#fb9f3a"
             ],
             [
              0.8888888888888888,
              "#fdca26"
             ],
             [
              1,
              "#f0f921"
             ]
            ],
            "type": "heatmap"
           }
          ],
          "heatmapgl": [
           {
            "colorbar": {
             "outlinewidth": 0,
             "ticks": ""
            },
            "colorscale": [
             [
              0,
              "#0d0887"
             ],
             [
              0.1111111111111111,
              "#46039f"
             ],
             [
              0.2222222222222222,
              "#7201a8"
             ],
             [
              0.3333333333333333,
              "#9c179e"
             ],
             [
              0.4444444444444444,
              "#bd3786"
             ],
             [
              0.5555555555555556,
              "#d8576b"
             ],
             [
              0.6666666666666666,
              "#ed7953"
             ],
             [
              0.7777777777777778,
              "#fb9f3a"
             ],
             [
              0.8888888888888888,
              "#fdca26"
             ],
             [
              1,
              "#f0f921"
             ]
            ],
            "type": "heatmapgl"
           }
          ],
          "histogram": [
           {
            "marker": {
             "pattern": {
              "fillmode": "overlay",
              "size": 10,
              "solidity": 0.2
             }
            },
            "type": "histogram"
           }
          ],
          "histogram2d": [
           {
            "colorbar": {
             "outlinewidth": 0,
             "ticks": ""
            },
            "colorscale": [
             [
              0,
              "#0d0887"
             ],
             [
              0.1111111111111111,
              "#46039f"
             ],
             [
              0.2222222222222222,
              "#7201a8"
             ],
             [
              0.3333333333333333,
              "#9c179e"
             ],
             [
              0.4444444444444444,
              "#bd3786"
             ],
             [
              0.5555555555555556,
              "#d8576b"
             ],
             [
              0.6666666666666666,
              "#ed7953"
             ],
             [
              0.7777777777777778,
              "#fb9f3a"
             ],
             [
              0.8888888888888888,
              "#fdca26"
             ],
             [
              1,
              "#f0f921"
             ]
            ],
            "type": "histogram2d"
           }
          ],
          "histogram2dcontour": [
           {
            "colorbar": {
             "outlinewidth": 0,
             "ticks": ""
            },
            "colorscale": [
             [
              0,
              "#0d0887"
             ],
             [
              0.1111111111111111,
              "#46039f"
             ],
             [
              0.2222222222222222,
              "#7201a8"
             ],
             [
              0.3333333333333333,
              "#9c179e"
             ],
             [
              0.4444444444444444,
              "#bd3786"
             ],
             [
              0.5555555555555556,
              "#d8576b"
             ],
             [
              0.6666666666666666,
              "#ed7953"
             ],
             [
              0.7777777777777778,
              "#fb9f3a"
             ],
             [
              0.8888888888888888,
              "#fdca26"
             ],
             [
              1,
              "#f0f921"
             ]
            ],
            "type": "histogram2dcontour"
           }
          ],
          "mesh3d": [
           {
            "colorbar": {
             "outlinewidth": 0,
             "ticks": ""
            },
            "type": "mesh3d"
           }
          ],
          "parcoords": [
           {
            "line": {
             "colorbar": {
              "outlinewidth": 0,
              "ticks": ""
             }
            },
            "type": "parcoords"
           }
          ],
          "pie": [
           {
            "automargin": true,
            "type": "pie"
           }
          ],
          "scatter": [
           {
            "fillpattern": {
             "fillmode": "overlay",
             "size": 10,
             "solidity": 0.2
            },
            "type": "scatter"
           }
          ],
          "scatter3d": [
           {
            "line": {
             "colorbar": {
              "outlinewidth": 0,
              "ticks": ""
             }
            },
            "marker": {
             "colorbar": {
              "outlinewidth": 0,
              "ticks": ""
             }
            },
            "type": "scatter3d"
           }
          ],
          "scattercarpet": [
           {
            "marker": {
             "colorbar": {
              "outlinewidth": 0,
              "ticks": ""
             }
            },
            "type": "scattercarpet"
           }
          ],
          "scattergeo": [
           {
            "marker": {
             "colorbar": {
              "outlinewidth": 0,
              "ticks": ""
             }
            },
            "type": "scattergeo"
           }
          ],
          "scattergl": [
           {
            "marker": {
             "colorbar": {
              "outlinewidth": 0,
              "ticks": ""
             }
            },
            "type": "scattergl"
           }
          ],
          "scattermapbox": [
           {
            "marker": {
             "colorbar": {
              "outlinewidth": 0,
              "ticks": ""
             }
            },
            "type": "scattermapbox"
           }
          ],
          "scatterpolar": [
           {
            "marker": {
             "colorbar": {
              "outlinewidth": 0,
              "ticks": ""
             }
            },
            "type": "scatterpolar"
           }
          ],
          "scatterpolargl": [
           {
            "marker": {
             "colorbar": {
              "outlinewidth": 0,
              "ticks": ""
             }
            },
            "type": "scatterpolargl"
           }
          ],
          "scatterternary": [
           {
            "marker": {
             "colorbar": {
              "outlinewidth": 0,
              "ticks": ""
             }
            },
            "type": "scatterternary"
           }
          ],
          "surface": [
           {
            "colorbar": {
             "outlinewidth": 0,
             "ticks": ""
            },
            "colorscale": [
             [
              0,
              "#0d0887"
             ],
             [
              0.1111111111111111,
              "#46039f"
             ],
             [
              0.2222222222222222,
              "#7201a8"
             ],
             [
              0.3333333333333333,
              "#9c179e"
             ],
             [
              0.4444444444444444,
              "#bd3786"
             ],
             [
              0.5555555555555556,
              "#d8576b"
             ],
             [
              0.6666666666666666,
              "#ed7953"
             ],
             [
              0.7777777777777778,
              "#fb9f3a"
             ],
             [
              0.8888888888888888,
              "#fdca26"
             ],
             [
              1,
              "#f0f921"
             ]
            ],
            "type": "surface"
           }
          ],
          "table": [
           {
            "cells": {
             "fill": {
              "color": "#EBF0F8"
             },
             "line": {
              "color": "white"
             }
            },
            "header": {
             "fill": {
              "color": "#C8D4E3"
             },
             "line": {
              "color": "white"
             }
            },
            "type": "table"
           }
          ]
         },
         "layout": {
          "annotationdefaults": {
           "arrowcolor": "#2a3f5f",
           "arrowhead": 0,
           "arrowwidth": 1
          },
          "autotypenumbers": "strict",
          "coloraxis": {
           "colorbar": {
            "outlinewidth": 0,
            "ticks": ""
           }
          },
          "colorscale": {
           "diverging": [
            [
             0,
             "#8e0152"
            ],
            [
             0.1,
             "#c51b7d"
            ],
            [
             0.2,
             "#de77ae"
            ],
            [
             0.3,
             "#f1b6da"
            ],
            [
             0.4,
             "#fde0ef"
            ],
            [
             0.5,
             "#f7f7f7"
            ],
            [
             0.6,
             "#e6f5d0"
            ],
            [
             0.7,
             "#b8e186"
            ],
            [
             0.8,
             "#7fbc41"
            ],
            [
             0.9,
             "#4d9221"
            ],
            [
             1,
             "#276419"
            ]
           ],
           "sequential": [
            [
             0,
             "#0d0887"
            ],
            [
             0.1111111111111111,
             "#46039f"
            ],
            [
             0.2222222222222222,
             "#7201a8"
            ],
            [
             0.3333333333333333,
             "#9c179e"
            ],
            [
             0.4444444444444444,
             "#bd3786"
            ],
            [
             0.5555555555555556,
             "#d8576b"
            ],
            [
             0.6666666666666666,
             "#ed7953"
            ],
            [
             0.7777777777777778,
             "#fb9f3a"
            ],
            [
             0.8888888888888888,
             "#fdca26"
            ],
            [
             1,
             "#f0f921"
            ]
           ],
           "sequentialminus": [
            [
             0,
             "#0d0887"
            ],
            [
             0.1111111111111111,
             "#46039f"
            ],
            [
             0.2222222222222222,
             "#7201a8"
            ],
            [
             0.3333333333333333,
             "#9c179e"
            ],
            [
             0.4444444444444444,
             "#bd3786"
            ],
            [
             0.5555555555555556,
             "#d8576b"
            ],
            [
             0.6666666666666666,
             "#ed7953"
            ],
            [
             0.7777777777777778,
             "#fb9f3a"
            ],
            [
             0.8888888888888888,
             "#fdca26"
            ],
            [
             1,
             "#f0f921"
            ]
           ]
          },
          "colorway": [
           "#636efa",
           "#EF553B",
           "#00cc96",
           "#ab63fa",
           "#FFA15A",
           "#19d3f3",
           "#FF6692",
           "#B6E880",
           "#FF97FF",
           "#FECB52"
          ],
          "font": {
           "color": "#2a3f5f"
          },
          "geo": {
           "bgcolor": "white",
           "lakecolor": "white",
           "landcolor": "#E5ECF6",
           "showlakes": true,
           "showland": true,
           "subunitcolor": "white"
          },
          "hoverlabel": {
           "align": "left"
          },
          "hovermode": "closest",
          "mapbox": {
           "style": "light"
          },
          "paper_bgcolor": "white",
          "plot_bgcolor": "#E5ECF6",
          "polar": {
           "angularaxis": {
            "gridcolor": "white",
            "linecolor": "white",
            "ticks": ""
           },
           "bgcolor": "#E5ECF6",
           "radialaxis": {
            "gridcolor": "white",
            "linecolor": "white",
            "ticks": ""
           }
          },
          "scene": {
           "xaxis": {
            "backgroundcolor": "#E5ECF6",
            "gridcolor": "white",
            "gridwidth": 2,
            "linecolor": "white",
            "showbackground": true,
            "ticks": "",
            "zerolinecolor": "white"
           },
           "yaxis": {
            "backgroundcolor": "#E5ECF6",
            "gridcolor": "white",
            "gridwidth": 2,
            "linecolor": "white",
            "showbackground": true,
            "ticks": "",
            "zerolinecolor": "white"
           },
           "zaxis": {
            "backgroundcolor": "#E5ECF6",
            "gridcolor": "white",
            "gridwidth": 2,
            "linecolor": "white",
            "showbackground": true,
            "ticks": "",
            "zerolinecolor": "white"
           }
          },
          "shapedefaults": {
           "line": {
            "color": "#2a3f5f"
           }
          },
          "ternary": {
           "aaxis": {
            "gridcolor": "white",
            "linecolor": "white",
            "ticks": ""
           },
           "baxis": {
            "gridcolor": "white",
            "linecolor": "white",
            "ticks": ""
           },
           "bgcolor": "#E5ECF6",
           "caxis": {
            "gridcolor": "white",
            "linecolor": "white",
            "ticks": ""
           }
          },
          "title": {
           "x": 0.05
          },
          "xaxis": {
           "automargin": true,
           "gridcolor": "white",
           "linecolor": "white",
           "ticks": "",
           "title": {
            "standoff": 15
           },
           "zerolinecolor": "white",
           "zerolinewidth": 2
          },
          "yaxis": {
           "automargin": true,
           "gridcolor": "white",
           "linecolor": "white",
           "ticks": "",
           "title": {
            "standoff": 15
           },
           "zerolinecolor": "white",
           "zerolinewidth": 2
          }
         }
        },
        "title": {
         "text": "Parameter Convergence"
        },
        "width": 1024,
        "xaxis": {
         "anchor": "y",
         "autorange": true,
         "domain": [
          0,
          0.45
         ],
         "range": [
          0,
          24
         ],
         "title": {
          "text": "Function Call"
         },
         "type": "linear"
        },
        "xaxis2": {
         "anchor": "y2",
         "autorange": true,
         "domain": [
          0.55,
          1
         ],
         "range": [
          0,
          24
         ],
         "title": {
          "text": "Function Call"
         },
         "type": "linear"
        },
        "yaxis": {
         "anchor": "x",
         "autorange": true,
         "domain": [
          0,
          1
         ],
         "range": [
          0.7125653875620801,
          0.7519679080223085
         ],
         "title": {
          "text": "Negative electrode active material volume fraction"
         },
         "type": "linear"
        },
        "yaxis2": {
         "anchor": "x2",
         "autorange": true,
         "domain": [
          0,
          1
         ],
         "range": [
          0.6585871111163184,
          0.6652687401654294
         ],
         "title": {
          "text": "Positive electrode active material volume fraction"
         },
         "type": "linear"
        }
       }
      },
      "image/png": "[encoded data removed]",
      "text/html": [
       "<div>                            <div id=\"00348587-8d03-42eb-ba74-7b705afa1690\" class=\"plotly-graph-div\" style=\"height:576px; width:1024px;\"></div>            <script type=\"text/javascript\">                require([\"plotly\"], function(Plotly) {                    window.PLOTLYENV=window.PLOTLYENV || {};                                    if (document.getElementById(\"00348587-8d03-42eb-ba74-7b705afa1690\")) {                    Plotly.newPlot(                        \"00348587-8d03-42eb-ba74-7b705afa1690\",                        [{\"name\":\"Negative electrode active material volume fraction\",\"x\":[0,1,2,3,4,5,6,7,8,9,10,11,12,13,14,15,16,17,18,19,20,21,22,23,24],\"y\":[0.7145355135850915,0.7145355135850915,0.7145355135850915,0.7459409890771588,0.7459409890771588,0.7459409890771588,0.7459409890771588,0.7459409890771588,0.7459409890771588,0.7459409890771588,0.7459409890771588,0.7459409890771588,0.7452296012764972,0.7452296012764972,0.7452296012764972,0.7482073447942585,0.7489880201720678,0.7499124517928609,0.7499124517928609,0.7499124517928609,0.7499565206690408,0.7499977819992971,0.7499977819992971,0.7499977819992971,0.7499977819992971],\"type\":\"scatter\",\"xaxis\":\"x\",\"yaxis\":\"y\"},{\"name\":\"Positive electrode active material volume fraction\",\"x\":[0,1,2,3,4,5,6,7,8,9,10,11,12,13,14,15,16,17,18,19,20,21,22,23,24],\"y\":[0.6589211925687739,0.6589211925687739,0.6589211925687739,0.6643317124140159,0.6643317124140159,0.6643317124140159,0.6643317124140159,0.6643317124140159,0.6643317124140159,0.6643317124140159,0.6643317124140159,0.6643317124140159,0.6649346587129739,0.6649346587129739,0.6649346587129739,0.6646282576198099,0.6644932381302697,0.664854627922799,0.664854627922799,0.664854627922799,0.6648448196971358,0.6648356955334283,0.6648356955334283,0.6648356955334283,0.6648356955334283],\"type\":\"scatter\",\"xaxis\":\"x2\",\"yaxis\":\"y2\"}],                        {\"template\":{\"data\":{\"histogram2dcontour\":[{\"type\":\"histogram2dcontour\",\"colorbar\":{\"outlinewidth\":0,\"ticks\":\"\"},\"colorscale\":[[0.0,\"#0d0887\"],[0.1111111111111111,\"#46039f\"],[0.2222222222222222,\"#7201a8\"],[0.3333333333333333,\"#9c179e\"],[0.4444444444444444,\"#bd3786\"],[0.5555555555555556,\"#d8576b\"],[0.6666666666666666,\"#ed7953\"],[0.7777777777777778,\"#fb9f3a\"],[0.8888888888888888,\"#fdca26\"],[1.0,\"#f0f921\"]]}],\"choropleth\":[{\"type\":\"choropleth\",\"colorbar\":{\"outlinewidth\":0,\"ticks\":\"\"}}],\"histogram2d\":[{\"type\":\"histogram2d\",\"colorbar\":{\"outlinewidth\":0,\"ticks\":\"\"},\"colorscale\":[[0.0,\"#0d0887\"],[0.1111111111111111,\"#46039f\"],[0.2222222222222222,\"#7201a8\"],[0.3333333333333333,\"#9c179e\"],[0.4444444444444444,\"#bd3786\"],[0.5555555555555556,\"#d8576b\"],[0.6666666666666666,\"#ed7953\"],[0.7777777777777778,\"#fb9f3a\"],[0.8888888888888888,\"#fdca26\"],[1.0,\"#f0f921\"]]}],\"heatmap\":[{\"type\":\"heatmap\",\"colorbar\":{\"outlinewidth\":0,\"ticks\":\"\"},\"colorscale\":[[0.0,\"#0d0887\"],[0.1111111111111111,\"#46039f\"],[0.2222222222222222,\"#7201a8\"],[0.3333333333333333,\"#9c179e\"],[0.4444444444444444,\"#bd3786\"],[0.5555555555555556,\"#d8576b\"],[0.6666666666666666,\"#ed7953\"],[0.7777777777777778,\"#fb9f3a\"],[0.8888888888888888,\"#fdca26\"],[1.0,\"#f0f921\"]]}],\"heatmapgl\":[{\"type\":\"heatmapgl\",\"colorbar\":{\"outlinewidth\":0,\"ticks\":\"\"},\"colorscale\":[[0.0,\"#0d0887\"],[0.1111111111111111,\"#46039f\"],[0.2222222222222222,\"#7201a8\"],[0.3333333333333333,\"#9c179e\"],[0.4444444444444444,\"#bd3786\"],[0.5555555555555556,\"#d8576b\"],[0.6666666666666666,\"#ed7953\"],[0.7777777777777778,\"#fb9f3a\"],[0.8888888888888888,\"#fdca26\"],[1.0,\"#f0f921\"]]}],\"contourcarpet\":[{\"type\":\"contourcarpet\",\"colorbar\":{\"outlinewidth\":0,\"ticks\":\"\"}}],\"contour\":[{\"type\":\"contour\",\"colorbar\":{\"outlinewidth\":0,\"ticks\":\"\"},\"colorscale\":[[0.0,\"#0d0887\"],[0.1111111111111111,\"#46039f\"],[0.2222222222222222,\"#7201a8\"],[0.3333333333333333,\"#9c179e\"],[0.4444444444444444,\"#bd3786\"],[0.5555555555555556,\"#d8576b\"],[0.6666666666666666,\"#ed7953\"],[0.7777777777777778,\"#fb9f3a\"],[0.8888888888888888,\"#fdca26\"],[1.0,\"#f0f921\"]]}],\"surface\":[{\"type\":\"surface\",\"colorbar\":{\"outlinewidth\":0,\"ticks\":\"\"},\"colorscale\":[[0.0,\"#0d0887\"],[0.1111111111111111,\"#46039f\"],[0.2222222222222222,\"#7201a8\"],[0.3333333333333333,\"#9c179e\"],[0.4444444444444444,\"#bd3786\"],[0.5555555555555556,\"#d8576b\"],[0.6666666666666666,\"#ed7953\"],[0.7777777777777778,\"#fb9f3a\"],[0.8888888888888888,\"#fdca26\"],[1.0,\"#f0f921\"]]}],\"mesh3d\":[{\"type\":\"mesh3d\",\"colorbar\":{\"outlinewidth\":0,\"ticks\":\"\"}}],\"scatter\":[{\"fillpattern\":{\"fillmode\":\"overlay\",\"size\":10,\"solidity\":0.2},\"type\":\"scatter\"}],\"parcoords\":[{\"type\":\"parcoords\",\"line\":{\"colorbar\":{\"outlinewidth\":0,\"ticks\":\"\"}}}],\"scatterpolargl\":[{\"type\":\"scatterpolargl\",\"marker\":{\"colorbar\":{\"outlinewidth\":0,\"ticks\":\"\"}}}],\"bar\":[{\"error_x\":{\"color\":\"#2a3f5f\"},\"error_y\":{\"color\":\"#2a3f5f\"},\"marker\":{\"line\":{\"color\":\"#E5ECF6\",\"width\":0.5},\"pattern\":{\"fillmode\":\"overlay\",\"size\":10,\"solidity\":0.2}},\"type\":\"bar\"}],\"scattergeo\":[{\"type\":\"scattergeo\",\"marker\":{\"colorbar\":{\"outlinewidth\":0,\"ticks\":\"\"}}}],\"scatterpolar\":[{\"type\":\"scatterpolar\",\"marker\":{\"colorbar\":{\"outlinewidth\":0,\"ticks\":\"\"}}}],\"histogram\":[{\"marker\":{\"pattern\":{\"fillmode\":\"overlay\",\"size\":10,\"solidity\":0.2}},\"type\":\"histogram\"}],\"scattergl\":[{\"type\":\"scattergl\",\"marker\":{\"colorbar\":{\"outlinewidth\":0,\"ticks\":\"\"}}}],\"scatter3d\":[{\"type\":\"scatter3d\",\"line\":{\"colorbar\":{\"outlinewidth\":0,\"ticks\":\"\"}},\"marker\":{\"colorbar\":{\"outlinewidth\":0,\"ticks\":\"\"}}}],\"scattermapbox\":[{\"type\":\"scattermapbox\",\"marker\":{\"colorbar\":{\"outlinewidth\":0,\"ticks\":\"\"}}}],\"scatterternary\":[{\"type\":\"scatterternary\",\"marker\":{\"colorbar\":{\"outlinewidth\":0,\"ticks\":\"\"}}}],\"scattercarpet\":[{\"type\":\"scattercarpet\",\"marker\":{\"colorbar\":{\"outlinewidth\":0,\"ticks\":\"\"}}}],\"carpet\":[{\"aaxis\":{\"endlinecolor\":\"#2a3f5f\",\"gridcolor\":\"white\",\"linecolor\":\"white\",\"minorgridcolor\":\"white\",\"startlinecolor\":\"#2a3f5f\"},\"baxis\":{\"endlinecolor\":\"#2a3f5f\",\"gridcolor\":\"white\",\"linecolor\":\"white\",\"minorgridcolor\":\"white\",\"startlinecolor\":\"#2a3f5f\"},\"type\":\"carpet\"}],\"table\":[{\"cells\":{\"fill\":{\"color\":\"#EBF0F8\"},\"line\":{\"color\":\"white\"}},\"header\":{\"fill\":{\"color\":\"#C8D4E3\"},\"line\":{\"color\":\"white\"}},\"type\":\"table\"}],\"barpolar\":[{\"marker\":{\"line\":{\"color\":\"#E5ECF6\",\"width\":0.5},\"pattern\":{\"fillmode\":\"overlay\",\"size\":10,\"solidity\":0.2}},\"type\":\"barpolar\"}],\"pie\":[{\"automargin\":true,\"type\":\"pie\"}]},\"layout\":{\"autotypenumbers\":\"strict\",\"colorway\":[\"#636efa\",\"#EF553B\",\"#00cc96\",\"#ab63fa\",\"#FFA15A\",\"#19d3f3\",\"#FF6692\",\"#B6E880\",\"#FF97FF\",\"#FECB52\"],\"font\":{\"color\":\"#2a3f5f\"},\"hovermode\":\"closest\",\"hoverlabel\":{\"align\":\"left\"},\"paper_bgcolor\":\"white\",\"plot_bgcolor\":\"#E5ECF6\",\"polar\":{\"bgcolor\":\"#E5ECF6\",\"angularaxis\":{\"gridcolor\":\"white\",\"linecolor\":\"white\",\"ticks\":\"\"},\"radialaxis\":{\"gridcolor\":\"white\",\"linecolor\":\"white\",\"ticks\":\"\"}},\"ternary\":{\"bgcolor\":\"#E5ECF6\",\"aaxis\":{\"gridcolor\":\"white\",\"linecolor\":\"white\",\"ticks\":\"\"},\"baxis\":{\"gridcolor\":\"white\",\"linecolor\":\"white\",\"ticks\":\"\"},\"caxis\":{\"gridcolor\":\"white\",\"linecolor\":\"white\",\"ticks\":\"\"}},\"coloraxis\":{\"colorbar\":{\"outlinewidth\":0,\"ticks\":\"\"}},\"colorscale\":{\"sequential\":[[0.0,\"#0d0887\"],[0.1111111111111111,\"#46039f\"],[0.2222222222222222,\"#7201a8\"],[0.3333333333333333,\"#9c179e\"],[0.4444444444444444,\"#bd3786\"],[0.5555555555555556,\"#d8576b\"],[0.6666666666666666,\"#ed7953\"],[0.7777777777777778,\"#fb9f3a\"],[0.8888888888888888,\"#fdca26\"],[1.0,\"#f0f921\"]],\"sequentialminus\":[[0.0,\"#0d0887\"],[0.1111111111111111,\"#46039f\"],[0.2222222222222222,\"#7201a8\"],[0.3333333333333333,\"#9c179e\"],[0.4444444444444444,\"#bd3786\"],[0.5555555555555556,\"#d8576b\"],[0.6666666666666666,\"#ed7953\"],[0.7777777777777778,\"#fb9f3a\"],[0.8888888888888888,\"#fdca26\"],[1.0,\"#f0f921\"]],\"diverging\":[[0,\"#8e0152\"],[0.1,\"#c51b7d\"],[0.2,\"#de77ae\"],[0.3,\"#f1b6da\"],[0.4,\"#fde0ef\"],[0.5,\"#f7f7f7\"],[0.6,\"#e6f5d0\"],[0.7,\"#b8e186\"],[0.8,\"#7fbc41\"],[0.9,\"#4d9221\"],[1,\"#276419\"]]},\"xaxis\":{\"gridcolor\":\"white\",\"linecolor\":\"white\",\"ticks\":\"\",\"title\":{\"standoff\":15},\"zerolinecolor\":\"white\",\"automargin\":true,\"zerolinewidth\":2},\"yaxis\":{\"gridcolor\":\"white\",\"linecolor\":\"white\",\"ticks\":\"\",\"title\":{\"standoff\":15},\"zerolinecolor\":\"white\",\"automargin\":true,\"zerolinewidth\":2},\"scene\":{\"xaxis\":{\"backgroundcolor\":\"#E5ECF6\",\"gridcolor\":\"white\",\"linecolor\":\"white\",\"showbackground\":true,\"ticks\":\"\",\"zerolinecolor\":\"white\",\"gridwidth\":2},\"yaxis\":{\"backgroundcolor\":\"#E5ECF6\",\"gridcolor\":\"white\",\"linecolor\":\"white\",\"showbackground\":true,\"ticks\":\"\",\"zerolinecolor\":\"white\",\"gridwidth\":2},\"zaxis\":{\"backgroundcolor\":\"#E5ECF6\",\"gridcolor\":\"white\",\"linecolor\":\"white\",\"showbackground\":true,\"ticks\":\"\",\"zerolinecolor\":\"white\",\"gridwidth\":2}},\"shapedefaults\":{\"line\":{\"color\":\"#2a3f5f\"}},\"annotationdefaults\":{\"arrowcolor\":\"#2a3f5f\",\"arrowhead\":0,\"arrowwidth\":1},\"geo\":{\"bgcolor\":\"white\",\"landcolor\":\"#E5ECF6\",\"subunitcolor\":\"white\",\"showland\":true,\"showlakes\":true,\"lakecolor\":\"white\"},\"title\":{\"x\":0.05},\"mapbox\":{\"style\":\"light\"}}},\"xaxis\":{\"anchor\":\"y\",\"domain\":[0.0,0.45],\"title\":{\"text\":\"Function Call\"}},\"yaxis\":{\"anchor\":\"x\",\"domain\":[0.0,1.0],\"title\":{\"text\":\"Negative electrode active material volume fraction\"}},\"xaxis2\":{\"anchor\":\"y2\",\"domain\":[0.55,1.0],\"title\":{\"text\":\"Function Call\"}},\"yaxis2\":{\"anchor\":\"x2\",\"domain\":[0.0,1.0],\"title\":{\"text\":\"Positive electrode active material volume fraction\"}},\"legend\":{\"orientation\":\"h\",\"yanchor\":\"bottom\",\"y\":1.02,\"xanchor\":\"right\",\"x\":1},\"title\":{\"text\":\"Parameter Convergence\"},\"width\":1024,\"height\":576},                        {\"responsive\": true}                    ).then(function(){\n",
       "                            \n",
       "var gd = document.getElementById('00348587-8d03-42eb-ba74-7b705afa1690');\n",
       "var x = new MutationObserver(function (mutations, observer) {{\n",
       "        var display = window.getComputedStyle(gd).display;\n",
       "        if (!display || display === 'none') {{\n",
       "            console.log([gd, 'removed!']);\n",
       "            Plotly.purge(gd);\n",
       "            observer.disconnect();\n",
       "        }}\n",
       "}});\n",
       "\n",
       "// Listen for the removal of the full notebook cells\n",
       "var notebookContainer = gd.closest('#notebook-container');\n",
       "if (notebookContainer) {{\n",
       "    x.observe(notebookContainer, {childList: true});\n",
       "}}\n",
       "\n",
       "// Listen for the clearing of the current output cell\n",
       "var outputEl = gd.closest('.output');\n",
       "if (outputEl) {{\n",
       "    x.observe(outputEl, {childList: true});\n",
       "}}\n",
       "\n",
       "                        })                };                });            </script>        </div>"
      ]
     },
     "metadata": {},
     "output_type": "display_data"
    }
   ],
   "source": [
    "pybop.plot_convergence(optim)\n",
    "pybop.plot_parameters(optim);"
   ]
  },
  {
   "cell_type": "markdown",
   "metadata": {},
   "source": [
    "### Cost Landscape\n",
    "\n",
    "Finally, we can visualise the cost landscape and the path taken by the optimiser:"
   ]
  },
  {
   "cell_type": "code",
   "execution_count": 49,
   "metadata": {},
   "outputs": [
    {
     "data": {
      "application/vnd.plotly.v1+json": {
       "config": {
        "plotlyServerURL": "https://plot.ly"
       },
       "data": [
        {
         "autocontour": true,
         "contours": {
          "end": 11,
          "size": 1,
          "start": 1
         },
         "type": "contour",
         "x": [
          0.5,
          0.5214285714285715,
          0.5428571428571428,
          0.5642857142857143,
          0.5857142857142857,
          0.6071428571428572,
          0.6285714285714286,
          0.65,
          0.6714285714285715,
          0.6928571428571428,
          0.7142857142857143,
          0.7357142857142858,
          0.7571428571428571,
          0.7785714285714287,
          0.8
         ],
         "y": [
          0.4,
          0.42142857142857143,
          0.4428571428571429,
          0.4642857142857143,
          0.4857142857142857,
          0.5071428571428571,
          0.5285714285714286,
          0.55,
          0.5714285714285714,
          0.5928571428571429,
          0.6142857142857143,
          0.6357142857142857,
          0.6571428571428571,
          0.6785714285714286,
          0.7
         ],
         "z": [
          [
           11.322803026040509,
           10.804737413870422,
           10.321884421201204,
           9.88813184954459,
           9.515044477182132,
           9.204997075392118,
           8.949924311080872,
           8.736784909443042,
           8.553335186325493,
           8.39051653904552,
           8.242341019095612,
           8.105018087073347,
           null,
           null,
           null
          ],
          [
           9.008556231681686,
           8.547629442521204,
           8.11790010865649,
           7.732022581961179,
           7.400573320847254,
           7.125777980659261,
           6.90040490640006,
           6.712672295733595,
           6.551559456353907,
           6.408930936879965,
           6.279420135987163,
           6.1596324825743585,
           null,
           null,
           null
          ],
          [
           7.094001578855459,
           6.686922750836166,
           6.307791915055457,
           5.967774284541525,
           5.6762655884007005,
           5.435179553744752,
           5.23800256595118,
           5.074201807540395,
           4.93397704865406,
           4.810122187390254,
           4.697894458727673,
           4.594298326669547,
           null,
           null,
           null
          ],
          [
           5.536856858630295,
           5.179201557405506,
           4.847049692404961,
           4.549972110964798,
           4.2960076496464055,
           4.086592653773387,
           3.915795993493997,
           3.7742555637991,
           3.653348911492528,
           3.546774605249209,
           3.450400583866675,
           3.3616209149828724,
           null,
           null,
           null
          ],
          [
           4.291697858153526,
           3.9783984173164177,
           3.6887980412971153,
           3.4308946704650647,
           3.2113605150541797,
           3.031039044481356,
           2.884446435292884,
           2.7632726074208565,
           2.6599854893551043,
           2.569129924475843,
           2.487147786415034,
           2.411799444422493,
           null,
           null,
           null
          ],
          [
           3.3079534120655625,
           3.0339535145109764,
           2.782220019361462,
           2.559378671035935,
           2.370783299271193,
           2.2166764878097154,
           2.0919180783759384,
           1.989119536509966,
           1.9017237850841144,
           1.8250396302375091,
           1.7560279757748187,
           1.6927815842795813,
           null,
           null,
           null
          ],
          [
           2.5347198781278393,
           2.2954669672184664,
           2.0772369096046512,
           1.885481333090584,
           1.7243924725491333,
           1.59365867309327,
           1.4884189378210717,
           1.402084460006423,
           1.328953434387011,
           1.2650077415226484,
           1.2076667870039992,
           1.155317225417325,
           null,
           null,
           null
          ],
          [
           1.9268095722475056,
           1.7184755209939442,
           1.529994642181137,
           1.365830714813307,
           1.2291864999492923,
           1.1192860289267867,
           1.0314797655359895,
           0.9599093231137,
           0.8996089699902878,
           0.8471485312058193,
           0.8003485968875966,
           0.757854716704248,
           null,
           null,
           null
          ],
          [
           1.4478930382745154,
           1.267367962660306,
           1.10557188607622,
           0.966100153140222,
           0.8513328172106654,
           0.7600998646159558,
           0.6879840346771158,
           0.6297391697348106,
           0.5810577731413856,
           0.5390255852656032,
           0.5018154564392161,
           0.4682985854385274,
           null,
           null,
           null
          ],
          [
           1.070515238178191,
           0.9153575722767072,
           0.7777464160506249,
           0.6606238306368305,
           0.5656437234721206,
           0.4913150859181103,
           0.43344456496301387,
           0.38733621103905114,
           0.34926870903025514,
           0.31678575584401397,
           0.2883731464196626,
           0.2630994972145666,
           null,
           null,
           null
          ],
          [
           0.7742875175477854,
           0.64251122400973,
           0.5271403302659905,
           0.430498430229312,
           0.3536311347707525,
           0.29478506560688494,
           0.2499859057778532,
           0.2150408172983835,
           0.1867587876536507,
           0.1630963356689108,
           0.14282038200348013,
           0.12517957872740124,
           null,
           null,
           null
          ],
          [
           0.544277020524047,
           0.4342887631668893,
           0.339572226833885,
           0.2619018688242151,
           0.2017911413261167,
           0.15726903763168118,
           0.1245769172292694,
           0.09998839643776286,
           0.08079941189248956,
           0.06534449946449926,
           0.05264564847055233,
           0.04211880719758811,
           null,
           null,
           null
          ],
          [
           0.3692293410604435,
           0.27971608909583345,
           0.20435433505384476,
           0.14442141475419856,
           0.09995574459182408,
           0.0688025598311706,
           0.047415666012875446,
           0.032506222032915116,
           0.021823320800918485,
           0.014051544414104904,
           0.008450627276584707,
           0.004589526777338098,
           null,
           null,
           null
          ],
          [
           null,
           null,
           null,
           null,
           null,
           null,
           null,
           null,
           null,
           null,
           null,
           null,
           null,
           null,
           null
          ],
          [
           null,
           null,
           null,
           null,
           null,
           null,
           null,
           null,
           null,
           null,
           null,
           null,
           null,
           null,
           null
          ]
         ]
        }
       ],
       "layout": {
        "height": 600,
        "template": {
         "data": {
          "bar": [
           {
            "error_x": {
             "color": "#2a3f5f"
            },
            "error_y": {
             "color": "#2a3f5f"
            },
            "marker": {
             "line": {
              "color": "#E5ECF6",
              "width": 0.5
             },
             "pattern": {
              "fillmode": "overlay",
              "size": 10,
              "solidity": 0.2
             }
            },
            "type": "bar"
           }
          ],
          "barpolar": [
           {
            "marker": {
             "line": {
              "color": "#E5ECF6",
              "width": 0.5
             },
             "pattern": {
              "fillmode": "overlay",
              "size": 10,
              "solidity": 0.2
             }
            },
            "type": "barpolar"
           }
          ],
          "carpet": [
           {
            "aaxis": {
             "endlinecolor": "#2a3f5f",
             "gridcolor": "white",
             "linecolor": "white",
             "minorgridcolor": "white",
             "startlinecolor": "#2a3f5f"
            },
            "baxis": {
             "endlinecolor": "#2a3f5f",
             "gridcolor": "white",
             "linecolor": "white",
             "minorgridcolor": "white",
             "startlinecolor": "#2a3f5f"
            },
            "type": "carpet"
           }
          ],
          "choropleth": [
           {
            "colorbar": {
             "outlinewidth": 0,
             "ticks": ""
            },
            "type": "choropleth"
           }
          ],
          "contour": [
           {
            "colorbar": {
             "outlinewidth": 0,
             "ticks": ""
            },
            "colorscale": [
             [
              0,
              "#0d0887"
             ],
             [
              0.1111111111111111,
              "#46039f"
             ],
             [
              0.2222222222222222,
              "#7201a8"
             ],
             [
              0.3333333333333333,
              "#9c179e"
             ],
             [
              0.4444444444444444,
              "#bd3786"
             ],
             [
              0.5555555555555556,
              "#d8576b"
             ],
             [
              0.6666666666666666,
              "#ed7953"
             ],
             [
              0.7777777777777778,
              "#fb9f3a"
             ],
             [
              0.8888888888888888,
              "#fdca26"
             ],
             [
              1,
              "#f0f921"
             ]
            ],
            "type": "contour"
           }
          ],
          "contourcarpet": [
           {
            "colorbar": {
             "outlinewidth": 0,
             "ticks": ""
            },
            "type": "contourcarpet"
           }
          ],
          "heatmap": [
           {
            "colorbar": {
             "outlinewidth": 0,
             "ticks": ""
            },
            "colorscale": [
             [
              0,
              "#0d0887"
             ],
             [
              0.1111111111111111,
              "#46039f"
             ],
             [
              0.2222222222222222,
              "#7201a8"
             ],
             [
              0.3333333333333333,
              "#9c179e"
             ],
             [
              0.4444444444444444,
              "#bd3786"
             ],
             [
              0.5555555555555556,
              "#d8576b"
             ],
             [
              0.6666666666666666,
              "#ed7953"
             ],
             [
              0.7777777777777778,
              "#fb9f3a"
             ],
             [
              0.8888888888888888,
              "#fdca26"
             ],
             [
              1,
              "#f0f921"
             ]
            ],
            "type": "heatmap"
           }
          ],
          "heatmapgl": [
           {
            "colorbar": {
             "outlinewidth": 0,
             "ticks": ""
            },
            "colorscale": [
             [
              0,
              "#0d0887"
             ],
             [
              0.1111111111111111,
              "#46039f"
             ],
             [
              0.2222222222222222,
              "#7201a8"
             ],
             [
              0.3333333333333333,
              "#9c179e"
             ],
             [
              0.4444444444444444,
              "#bd3786"
             ],
             [
              0.5555555555555556,
              "#d8576b"
             ],
             [
              0.6666666666666666,
              "#ed7953"
             ],
             [
              0.7777777777777778,
              "#fb9f3a"
             ],
             [
              0.8888888888888888,
              "#fdca26"
             ],
             [
              1,
              "#f0f921"
             ]
            ],
            "type": "heatmapgl"
           }
          ],
          "histogram": [
           {
            "marker": {
             "pattern": {
              "fillmode": "overlay",
              "size": 10,
              "solidity": 0.2
             }
            },
            "type": "histogram"
           }
          ],
          "histogram2d": [
           {
            "colorbar": {
             "outlinewidth": 0,
             "ticks": ""
            },
            "colorscale": [
             [
              0,
              "#0d0887"
             ],
             [
              0.1111111111111111,
              "#46039f"
             ],
             [
              0.2222222222222222,
              "#7201a8"
             ],
             [
              0.3333333333333333,
              "#9c179e"
             ],
             [
              0.4444444444444444,
              "#bd3786"
             ],
             [
              0.5555555555555556,
              "#d8576b"
             ],
             [
              0.6666666666666666,
              "#ed7953"
             ],
             [
              0.7777777777777778,
              "#fb9f3a"
             ],
             [
              0.8888888888888888,
              "#fdca26"
             ],
             [
              1,
              "#f0f921"
             ]
            ],
            "type": "histogram2d"
           }
          ],
          "histogram2dcontour": [
           {
            "colorbar": {
             "outlinewidth": 0,
             "ticks": ""
            },
            "colorscale": [
             [
              0,
              "#0d0887"
             ],
             [
              0.1111111111111111,
              "#46039f"
             ],
             [
              0.2222222222222222,
              "#7201a8"
             ],
             [
              0.3333333333333333,
              "#9c179e"
             ],
             [
              0.4444444444444444,
              "#bd3786"
             ],
             [
              0.5555555555555556,
              "#d8576b"
             ],
             [
              0.6666666666666666,
              "#ed7953"
             ],
             [
              0.7777777777777778,
              "#fb9f3a"
             ],
             [
              0.8888888888888888,
              "#fdca26"
             ],
             [
              1,
              "#f0f921"
             ]
            ],
            "type": "histogram2dcontour"
           }
          ],
          "mesh3d": [
           {
            "colorbar": {
             "outlinewidth": 0,
             "ticks": ""
            },
            "type": "mesh3d"
           }
          ],
          "parcoords": [
           {
            "line": {
             "colorbar": {
              "outlinewidth": 0,
              "ticks": ""
             }
            },
            "type": "parcoords"
           }
          ],
          "pie": [
           {
            "automargin": true,
            "type": "pie"
           }
          ],
          "scatter": [
           {
            "fillpattern": {
             "fillmode": "overlay",
             "size": 10,
             "solidity": 0.2
            },
            "type": "scatter"
           }
          ],
          "scatter3d": [
           {
            "line": {
             "colorbar": {
              "outlinewidth": 0,
              "ticks": ""
             }
            },
            "marker": {
             "colorbar": {
              "outlinewidth": 0,
              "ticks": ""
             }
            },
            "type": "scatter3d"
           }
          ],
          "scattercarpet": [
           {
            "marker": {
             "colorbar": {
              "outlinewidth": 0,
              "ticks": ""
             }
            },
            "type": "scattercarpet"
           }
          ],
          "scattergeo": [
           {
            "marker": {
             "colorbar": {
              "outlinewidth": 0,
              "ticks": ""
             }
            },
            "type": "scattergeo"
           }
          ],
          "scattergl": [
           {
            "marker": {
             "colorbar": {
              "outlinewidth": 0,
              "ticks": ""
             }
            },
            "type": "scattergl"
           }
          ],
          "scattermapbox": [
           {
            "marker": {
             "colorbar": {
              "outlinewidth": 0,
              "ticks": ""
             }
            },
            "type": "scattermapbox"
           }
          ],
          "scatterpolar": [
           {
            "marker": {
             "colorbar": {
              "outlinewidth": 0,
              "ticks": ""
             }
            },
            "type": "scatterpolar"
           }
          ],
          "scatterpolargl": [
           {
            "marker": {
             "colorbar": {
              "outlinewidth": 0,
              "ticks": ""
             }
            },
            "type": "scatterpolargl"
           }
          ],
          "scatterternary": [
           {
            "marker": {
             "colorbar": {
              "outlinewidth": 0,
              "ticks": ""
             }
            },
            "type": "scatterternary"
           }
          ],
          "surface": [
           {
            "colorbar": {
             "outlinewidth": 0,
             "ticks": ""
            },
            "colorscale": [
             [
              0,
              "#0d0887"
             ],
             [
              0.1111111111111111,
              "#46039f"
             ],
             [
              0.2222222222222222,
              "#7201a8"
             ],
             [
              0.3333333333333333,
              "#9c179e"
             ],
             [
              0.4444444444444444,
              "#bd3786"
             ],
             [
              0.5555555555555556,
              "#d8576b"
             ],
             [
              0.6666666666666666,
              "#ed7953"
             ],
             [
              0.7777777777777778,
              "#fb9f3a"
             ],
             [
              0.8888888888888888,
              "#fdca26"
             ],
             [
              1,
              "#f0f921"
             ]
            ],
            "type": "surface"
           }
          ],
          "table": [
           {
            "cells": {
             "fill": {
              "color": "#EBF0F8"
             },
             "line": {
              "color": "white"
             }
            },
            "header": {
             "fill": {
              "color": "#C8D4E3"
             },
             "line": {
              "color": "white"
             }
            },
            "type": "table"
           }
          ]
         },
         "layout": {
          "annotationdefaults": {
           "arrowcolor": "#2a3f5f",
           "arrowhead": 0,
           "arrowwidth": 1
          },
          "autotypenumbers": "strict",
          "coloraxis": {
           "colorbar": {
            "outlinewidth": 0,
            "ticks": ""
           }
          },
          "colorscale": {
           "diverging": [
            [
             0,
             "#8e0152"
            ],
            [
             0.1,
             "#c51b7d"
            ],
            [
             0.2,
             "#de77ae"
            ],
            [
             0.3,
             "#f1b6da"
            ],
            [
             0.4,
             "#fde0ef"
            ],
            [
             0.5,
             "#f7f7f7"
            ],
            [
             0.6,
             "#e6f5d0"
            ],
            [
             0.7,
             "#b8e186"
            ],
            [
             0.8,
             "#7fbc41"
            ],
            [
             0.9,
             "#4d9221"
            ],
            [
             1,
             "#276419"
            ]
           ],
           "sequential": [
            [
             0,
             "#0d0887"
            ],
            [
             0.1111111111111111,
             "#46039f"
            ],
            [
             0.2222222222222222,
             "#7201a8"
            ],
            [
             0.3333333333333333,
             "#9c179e"
            ],
            [
             0.4444444444444444,
             "#bd3786"
            ],
            [
             0.5555555555555556,
             "#d8576b"
            ],
            [
             0.6666666666666666,
             "#ed7953"
            ],
            [
             0.7777777777777778,
             "#fb9f3a"
            ],
            [
             0.8888888888888888,
             "#fdca26"
            ],
            [
             1,
             "#f0f921"
            ]
           ],
           "sequentialminus": [
            [
             0,
             "#0d0887"
            ],
            [
             0.1111111111111111,
             "#46039f"
            ],
            [
             0.2222222222222222,
             "#7201a8"
            ],
            [
             0.3333333333333333,
             "#9c179e"
            ],
            [
             0.4444444444444444,
             "#bd3786"
            ],
            [
             0.5555555555555556,
             "#d8576b"
            ],
            [
             0.6666666666666666,
             "#ed7953"
            ],
            [
             0.7777777777777778,
             "#fb9f3a"
            ],
            [
             0.8888888888888888,
             "#fdca26"
            ],
            [
             1,
             "#f0f921"
            ]
           ]
          },
          "colorway": [
           "#636efa",
           "#EF553B",
           "#00cc96",
           "#ab63fa",
           "#FFA15A",
           "#19d3f3",
           "#FF6692",
           "#B6E880",
           "#FF97FF",
           "#FECB52"
          ],
          "font": {
           "color": "#2a3f5f"
          },
          "geo": {
           "bgcolor": "white",
           "lakecolor": "white",
           "landcolor": "#E5ECF6",
           "showlakes": true,
           "showland": true,
           "subunitcolor": "white"
          },
          "hoverlabel": {
           "align": "left"
          },
          "hovermode": "closest",
          "mapbox": {
           "style": "light"
          },
          "paper_bgcolor": "white",
          "plot_bgcolor": "#E5ECF6",
          "polar": {
           "angularaxis": {
            "gridcolor": "white",
            "linecolor": "white",
            "ticks": ""
           },
           "bgcolor": "#E5ECF6",
           "radialaxis": {
            "gridcolor": "white",
            "linecolor": "white",
            "ticks": ""
           }
          },
          "scene": {
           "xaxis": {
            "backgroundcolor": "#E5ECF6",
            "gridcolor": "white",
            "gridwidth": 2,
            "linecolor": "white",
            "showbackground": true,
            "ticks": "",
            "zerolinecolor": "white"
           },
           "yaxis": {
            "backgroundcolor": "#E5ECF6",
            "gridcolor": "white",
            "gridwidth": 2,
            "linecolor": "white",
            "showbackground": true,
            "ticks": "",
            "zerolinecolor": "white"
           },
           "zaxis": {
            "backgroundcolor": "#E5ECF6",
            "gridcolor": "white",
            "gridwidth": 2,
            "linecolor": "white",
            "showbackground": true,
            "ticks": "",
            "zerolinecolor": "white"
           }
          },
          "shapedefaults": {
           "line": {
            "color": "#2a3f5f"
           }
          },
          "ternary": {
           "aaxis": {
            "gridcolor": "white",
            "linecolor": "white",
            "ticks": ""
           },
           "baxis": {
            "gridcolor": "white",
            "linecolor": "white",
            "ticks": ""
           },
           "bgcolor": "#E5ECF6",
           "caxis": {
            "gridcolor": "white",
            "linecolor": "white",
            "ticks": ""
           }
          },
          "title": {
           "x": 0.05
          },
          "xaxis": {
           "automargin": true,
           "gridcolor": "white",
           "linecolor": "white",
           "ticks": "",
           "title": {
            "standoff": 15
           },
           "zerolinecolor": "white",
           "zerolinewidth": 2
          },
          "yaxis": {
           "automargin": true,
           "gridcolor": "white",
           "linecolor": "white",
           "ticks": "",
           "title": {
            "standoff": 15
           },
           "zerolinecolor": "white",
           "zerolinewidth": 2
          }
         }
        },
        "title": {
         "text": "Cost Landscape",
         "x": 0.5,
         "y": 0.9
        },
        "width": 600,
        "xaxis": {
         "range": [
          0.5,
          0.8
         ],
         "title": {
          "text": "Negative electrode active material volume fraction"
         },
         "type": "linear"
        },
        "yaxis": {
         "range": [
          0.4,
          0.7
         ],
         "title": {
          "text": "Positive electrode active material volume fraction"
         },
         "type": "linear"
        }
       }
      },
      "image/png": "[encoded data removed]",
      "text/html": [
       "<div>                            <div id=\"74377b4b-c114-4b59-ad23-2e8396e4dd6a\" class=\"plotly-graph-div\" style=\"height:600px; width:600px;\"></div>            <script type=\"text/javascript\">                require([\"plotly\"], function(Plotly) {                    window.PLOTLYENV=window.PLOTLYENV || {};                                    if (document.getElementById(\"74377b4b-c114-4b59-ad23-2e8396e4dd6a\")) {                    Plotly.newPlot(                        \"74377b4b-c114-4b59-ad23-2e8396e4dd6a\",                        [{\"x\":[0.5,0.5214285714285715,0.5428571428571428,0.5642857142857143,0.5857142857142857,0.6071428571428572,0.6285714285714286,0.65,0.6714285714285715,0.6928571428571428,0.7142857142857143,0.7357142857142858,0.7571428571428571,0.7785714285714287,0.8],\"y\":[0.4,0.42142857142857143,0.4428571428571429,0.4642857142857143,0.4857142857142857,0.5071428571428571,0.5285714285714286,0.55,0.5714285714285714,0.5928571428571429,0.6142857142857143,0.6357142857142857,0.6571428571428571,0.6785714285714286,0.7],\"z\":[[11.322803026040507,10.804737413870422,10.321884421201204,9.88813184954459,9.515044477182133,9.204997075392118,8.949924311080872,8.736784909443042,8.553335186325493,8.39051653904552,8.242341019095612,8.105018087073347,null,null,null],[9.008556231681686,8.547629442521204,8.11790010865649,7.7320225819611785,7.400573320847254,7.125777980659261,6.90040490640006,6.712672295733595,6.551559456353907,6.408930936879965,6.279420135987163,6.1596324825743585,null,null,null],[7.094001578855459,6.686922750836166,6.307791915055457,5.967774284541525,5.6762655884007005,5.435179553744752,5.23800256595118,5.074201807540395,4.93397704865406,4.810122187390254,4.697894458727673,4.594298326669547,null,null,null],[5.536856858630295,5.179201557405506,4.847049692404961,4.549972110964798,4.2960076496464055,4.086592653773387,3.9157959934939965,3.7742555637991,3.653348911492528,3.546774605249209,3.450400583866675,3.3616209149828724,null,null,null],[4.291697858153526,3.9783984173164173,3.6887980412971153,3.4308946704650647,3.2113605150541797,3.031039044481356,2.884446435292884,2.7632726074208565,2.6599854893551043,2.569129924475843,2.487147786415034,2.411799444422493,null,null,null],[3.3079534120655625,3.0339535145109764,2.782220019361462,2.559378671035935,2.370783299271193,2.2166764878097154,2.0919180783759384,1.9891195365099659,1.9017237850841144,1.8250396302375091,1.7560279757748187,1.6927815842795813,null,null,null],[2.5347198781278393,2.2954669672184664,2.0772369096046512,1.885481333090584,1.7243924725491333,1.59365867309327,1.4884189378210715,1.402084460006423,1.328953434387011,1.2650077415226484,1.2076667870039992,1.155317225417325,null,null,null],[1.9268095722475058,1.7184755209939442,1.529994642181137,1.365830714813307,1.2291864999492923,1.1192860289267867,1.0314797655359897,0.9599093231137001,0.8996089699902878,0.8471485312058193,0.8003485968875966,0.757854716704248,null,null,null],[1.4478930382745154,1.267367962660306,1.10557188607622,0.966100153140222,0.8513328172106654,0.7600998646159558,0.6879840346771158,0.6297391697348106,0.5810577731413856,0.5390255852656032,0.5018154564392161,0.4682985854385274,null,null,null],[1.070515238178191,0.9153575722767071,0.7777464160506249,0.6606238306368305,0.5656437234721206,0.4913150859181103,0.43344456496301387,0.38733621103905114,0.34926870903025514,0.31678575584401397,0.2883731464196626,0.2630994972145666,null,null,null],[0.7742875175477854,0.64251122400973,0.5271403302659905,0.430498430229312,0.3536311347707525,0.29478506560688494,0.24998590577785318,0.21504081729838354,0.1867587876536507,0.1630963356689108,0.14282038200348013,0.12517957872740124,null,null,null],[0.544277020524047,0.43428876316688925,0.339572226833885,0.2619018688242151,0.2017911413261167,0.15726903763168118,0.12457691722926939,0.09998839643776286,0.08079941189248956,0.06534449946449926,0.05264564847055233,0.04211880719758811,null,null,null],[0.3692293410604435,0.27971608909583345,0.20435433505384476,0.14442141475419856,0.09995574459182408,0.0688025598311706,0.047415666012875446,0.032506222032915116,0.021823320800918485,0.014051544414104904,0.008450627276584707,0.004589526777338098,null,null,null],[null,null,null,null,null,null,null,null,null,null,null,null,null,null,null],[null,null,null,null,null,null,null,null,null,null,null,null,null,null,null]],\"type\":\"contour\"}],                        {\"template\":{\"data\":{\"histogram2dcontour\":[{\"type\":\"histogram2dcontour\",\"colorbar\":{\"outlinewidth\":0,\"ticks\":\"\"},\"colorscale\":[[0.0,\"#0d0887\"],[0.1111111111111111,\"#46039f\"],[0.2222222222222222,\"#7201a8\"],[0.3333333333333333,\"#9c179e\"],[0.4444444444444444,\"#bd3786\"],[0.5555555555555556,\"#d8576b\"],[0.6666666666666666,\"#ed7953\"],[0.7777777777777778,\"#fb9f3a\"],[0.8888888888888888,\"#fdca26\"],[1.0,\"#f0f921\"]]}],\"choropleth\":[{\"type\":\"choropleth\",\"colorbar\":{\"outlinewidth\":0,\"ticks\":\"\"}}],\"histogram2d\":[{\"type\":\"histogram2d\",\"colorbar\":{\"outlinewidth\":0,\"ticks\":\"\"},\"colorscale\":[[0.0,\"#0d0887\"],[0.1111111111111111,\"#46039f\"],[0.2222222222222222,\"#7201a8\"],[0.3333333333333333,\"#9c179e\"],[0.4444444444444444,\"#bd3786\"],[0.5555555555555556,\"#d8576b\"],[0.6666666666666666,\"#ed7953\"],[0.7777777777777778,\"#fb9f3a\"],[0.8888888888888888,\"#fdca26\"],[1.0,\"#f0f921\"]]}],\"heatmap\":[{\"type\":\"heatmap\",\"colorbar\":{\"outlinewidth\":0,\"ticks\":\"\"},\"colorscale\":[[0.0,\"#0d0887\"],[0.1111111111111111,\"#46039f\"],[0.2222222222222222,\"#7201a8\"],[0.3333333333333333,\"#9c179e\"],[0.4444444444444444,\"#bd3786\"],[0.5555555555555556,\"#d8576b\"],[0.6666666666666666,\"#ed7953\"],[0.7777777777777778,\"#fb9f3a\"],[0.8888888888888888,\"#fdca26\"],[1.0,\"#f0f921\"]]}],\"heatmapgl\":[{\"type\":\"heatmapgl\",\"colorbar\":{\"outlinewidth\":0,\"ticks\":\"\"},\"colorscale\":[[0.0,\"#0d0887\"],[0.1111111111111111,\"#46039f\"],[0.2222222222222222,\"#7201a8\"],[0.3333333333333333,\"#9c179e\"],[0.4444444444444444,\"#bd3786\"],[0.5555555555555556,\"#d8576b\"],[0.6666666666666666,\"#ed7953\"],[0.7777777777777778,\"#fb9f3a\"],[0.8888888888888888,\"#fdca26\"],[1.0,\"#f0f921\"]]}],\"contourcarpet\":[{\"type\":\"contourcarpet\",\"colorbar\":{\"outlinewidth\":0,\"ticks\":\"\"}}],\"contour\":[{\"type\":\"contour\",\"colorbar\":{\"outlinewidth\":0,\"ticks\":\"\"},\"colorscale\":[[0.0,\"#0d0887\"],[0.1111111111111111,\"#46039f\"],[0.2222222222222222,\"#7201a8\"],[0.3333333333333333,\"#9c179e\"],[0.4444444444444444,\"#bd3786\"],[0.5555555555555556,\"#d8576b\"],[0.6666666666666666,\"#ed7953\"],[0.7777777777777778,\"#fb9f3a\"],[0.8888888888888888,\"#fdca26\"],[1.0,\"#f0f921\"]]}],\"surface\":[{\"type\":\"surface\",\"colorbar\":{\"outlinewidth\":0,\"ticks\":\"\"},\"colorscale\":[[0.0,\"#0d0887\"],[0.1111111111111111,\"#46039f\"],[0.2222222222222222,\"#7201a8\"],[0.3333333333333333,\"#9c179e\"],[0.4444444444444444,\"#bd3786\"],[0.5555555555555556,\"#d8576b\"],[0.6666666666666666,\"#ed7953\"],[0.7777777777777778,\"#fb9f3a\"],[0.8888888888888888,\"#fdca26\"],[1.0,\"#f0f921\"]]}],\"mesh3d\":[{\"type\":\"mesh3d\",\"colorbar\":{\"outlinewidth\":0,\"ticks\":\"\"}}],\"scatter\":[{\"fillpattern\":{\"fillmode\":\"overlay\",\"size\":10,\"solidity\":0.2},\"type\":\"scatter\"}],\"parcoords\":[{\"type\":\"parcoords\",\"line\":{\"colorbar\":{\"outlinewidth\":0,\"ticks\":\"\"}}}],\"scatterpolargl\":[{\"type\":\"scatterpolargl\",\"marker\":{\"colorbar\":{\"outlinewidth\":0,\"ticks\":\"\"}}}],\"bar\":[{\"error_x\":{\"color\":\"#2a3f5f\"},\"error_y\":{\"color\":\"#2a3f5f\"},\"marker\":{\"line\":{\"color\":\"#E5ECF6\",\"width\":0.5},\"pattern\":{\"fillmode\":\"overlay\",\"size\":10,\"solidity\":0.2}},\"type\":\"bar\"}],\"scattergeo\":[{\"type\":\"scattergeo\",\"marker\":{\"colorbar\":{\"outlinewidth\":0,\"ticks\":\"\"}}}],\"scatterpolar\":[{\"type\":\"scatterpolar\",\"marker\":{\"colorbar\":{\"outlinewidth\":0,\"ticks\":\"\"}}}],\"histogram\":[{\"marker\":{\"pattern\":{\"fillmode\":\"overlay\",\"size\":10,\"solidity\":0.2}},\"type\":\"histogram\"}],\"scattergl\":[{\"type\":\"scattergl\",\"marker\":{\"colorbar\":{\"outlinewidth\":0,\"ticks\":\"\"}}}],\"scatter3d\":[{\"type\":\"scatter3d\",\"line\":{\"colorbar\":{\"outlinewidth\":0,\"ticks\":\"\"}},\"marker\":{\"colorbar\":{\"outlinewidth\":0,\"ticks\":\"\"}}}],\"scattermapbox\":[{\"type\":\"scattermapbox\",\"marker\":{\"colorbar\":{\"outlinewidth\":0,\"ticks\":\"\"}}}],\"scatterternary\":[{\"type\":\"scatterternary\",\"marker\":{\"colorbar\":{\"outlinewidth\":0,\"ticks\":\"\"}}}],\"scattercarpet\":[{\"type\":\"scattercarpet\",\"marker\":{\"colorbar\":{\"outlinewidth\":0,\"ticks\":\"\"}}}],\"carpet\":[{\"aaxis\":{\"endlinecolor\":\"#2a3f5f\",\"gridcolor\":\"white\",\"linecolor\":\"white\",\"minorgridcolor\":\"white\",\"startlinecolor\":\"#2a3f5f\"},\"baxis\":{\"endlinecolor\":\"#2a3f5f\",\"gridcolor\":\"white\",\"linecolor\":\"white\",\"minorgridcolor\":\"white\",\"startlinecolor\":\"#2a3f5f\"},\"type\":\"carpet\"}],\"table\":[{\"cells\":{\"fill\":{\"color\":\"#EBF0F8\"},\"line\":{\"color\":\"white\"}},\"header\":{\"fill\":{\"color\":\"#C8D4E3\"},\"line\":{\"color\":\"white\"}},\"type\":\"table\"}],\"barpolar\":[{\"marker\":{\"line\":{\"color\":\"#E5ECF6\",\"width\":0.5},\"pattern\":{\"fillmode\":\"overlay\",\"size\":10,\"solidity\":0.2}},\"type\":\"barpolar\"}],\"pie\":[{\"automargin\":true,\"type\":\"pie\"}]},\"layout\":{\"autotypenumbers\":\"strict\",\"colorway\":[\"#636efa\",\"#EF553B\",\"#00cc96\",\"#ab63fa\",\"#FFA15A\",\"#19d3f3\",\"#FF6692\",\"#B6E880\",\"#FF97FF\",\"#FECB52\"],\"font\":{\"color\":\"#2a3f5f\"},\"hovermode\":\"closest\",\"hoverlabel\":{\"align\":\"left\"},\"paper_bgcolor\":\"white\",\"plot_bgcolor\":\"#E5ECF6\",\"polar\":{\"bgcolor\":\"#E5ECF6\",\"angularaxis\":{\"gridcolor\":\"white\",\"linecolor\":\"white\",\"ticks\":\"\"},\"radialaxis\":{\"gridcolor\":\"white\",\"linecolor\":\"white\",\"ticks\":\"\"}},\"ternary\":{\"bgcolor\":\"#E5ECF6\",\"aaxis\":{\"gridcolor\":\"white\",\"linecolor\":\"white\",\"ticks\":\"\"},\"baxis\":{\"gridcolor\":\"white\",\"linecolor\":\"white\",\"ticks\":\"\"},\"caxis\":{\"gridcolor\":\"white\",\"linecolor\":\"white\",\"ticks\":\"\"}},\"coloraxis\":{\"colorbar\":{\"outlinewidth\":0,\"ticks\":\"\"}},\"colorscale\":{\"sequential\":[[0.0,\"#0d0887\"],[0.1111111111111111,\"#46039f\"],[0.2222222222222222,\"#7201a8\"],[0.3333333333333333,\"#9c179e\"],[0.4444444444444444,\"#bd3786\"],[0.5555555555555556,\"#d8576b\"],[0.6666666666666666,\"#ed7953\"],[0.7777777777777778,\"#fb9f3a\"],[0.8888888888888888,\"#fdca26\"],[1.0,\"#f0f921\"]],\"sequentialminus\":[[0.0,\"#0d0887\"],[0.1111111111111111,\"#46039f\"],[0.2222222222222222,\"#7201a8\"],[0.3333333333333333,\"#9c179e\"],[0.4444444444444444,\"#bd3786\"],[0.5555555555555556,\"#d8576b\"],[0.6666666666666666,\"#ed7953\"],[0.7777777777777778,\"#fb9f3a\"],[0.8888888888888888,\"#fdca26\"],[1.0,\"#f0f921\"]],\"diverging\":[[0,\"#8e0152\"],[0.1,\"#c51b7d\"],[0.2,\"#de77ae\"],[0.3,\"#f1b6da\"],[0.4,\"#fde0ef\"],[0.5,\"#f7f7f7\"],[0.6,\"#e6f5d0\"],[0.7,\"#b8e186\"],[0.8,\"#7fbc41\"],[0.9,\"#4d9221\"],[1,\"#276419\"]]},\"xaxis\":{\"gridcolor\":\"white\",\"linecolor\":\"white\",\"ticks\":\"\",\"title\":{\"standoff\":15},\"zerolinecolor\":\"white\",\"automargin\":true,\"zerolinewidth\":2},\"yaxis\":{\"gridcolor\":\"white\",\"linecolor\":\"white\",\"ticks\":\"\",\"title\":{\"standoff\":15},\"zerolinecolor\":\"white\",\"automargin\":true,\"zerolinewidth\":2},\"scene\":{\"xaxis\":{\"backgroundcolor\":\"#E5ECF6\",\"gridcolor\":\"white\",\"linecolor\":\"white\",\"showbackground\":true,\"ticks\":\"\",\"zerolinecolor\":\"white\",\"gridwidth\":2},\"yaxis\":{\"backgroundcolor\":\"#E5ECF6\",\"gridcolor\":\"white\",\"linecolor\":\"white\",\"showbackground\":true,\"ticks\":\"\",\"zerolinecolor\":\"white\",\"gridwidth\":2},\"zaxis\":{\"backgroundcolor\":\"#E5ECF6\",\"gridcolor\":\"white\",\"linecolor\":\"white\",\"showbackground\":true,\"ticks\":\"\",\"zerolinecolor\":\"white\",\"gridwidth\":2}},\"shapedefaults\":{\"line\":{\"color\":\"#2a3f5f\"}},\"annotationdefaults\":{\"arrowcolor\":\"#2a3f5f\",\"arrowhead\":0,\"arrowwidth\":1},\"geo\":{\"bgcolor\":\"white\",\"landcolor\":\"#E5ECF6\",\"subunitcolor\":\"white\",\"showland\":true,\"showlakes\":true,\"lakecolor\":\"white\"},\"title\":{\"x\":0.05},\"mapbox\":{\"style\":\"light\"}}},\"title\":{\"text\":\"Cost Landscape\",\"x\":0.5,\"y\":0.9},\"xaxis\":{\"title\":{\"text\":\"Negative electrode active material volume fraction\"},\"range\":[0.5,0.8]},\"yaxis\":{\"title\":{\"text\":\"Positive electrode active material volume fraction\"},\"range\":[0.4,0.7]},\"width\":600,\"height\":600},                        {\"responsive\": true}                    ).then(function(){\n",
       "                            \n",
       "var gd = document.getElementById('74377b4b-c114-4b59-ad23-2e8396e4dd6a');\n",
       "var x = new MutationObserver(function (mutations, observer) {{\n",
       "        var display = window.getComputedStyle(gd).display;\n",
       "        if (!display || display === 'none') {{\n",
       "            console.log([gd, 'removed!']);\n",
       "            Plotly.purge(gd);\n",
       "            observer.disconnect();\n",
       "        }}\n",
       "}});\n",
       "\n",
       "// Listen for the removal of the full notebook cells\n",
       "var notebookContainer = gd.closest('#notebook-container');\n",
       "if (notebookContainer) {{\n",
       "    x.observe(notebookContainer, {childList: true});\n",
       "}}\n",
       "\n",
       "// Listen for the clearing of the current output cell\n",
       "var outputEl = gd.closest('.output');\n",
       "if (outputEl) {{\n",
       "    x.observe(outputEl, {childList: true});\n",
       "}}\n",
       "\n",
       "                        })                };                });            </script>        </div>"
      ]
     },
     "metadata": {},
     "output_type": "display_data"
    },
    {
     "data": {
      "application/vnd.plotly.v1+json": {
       "config": {
        "plotlyServerURL": "https://plot.ly"
       },
       "data": [
        {
         "autocontour": true,
         "contours": {
          "end": 2.4000000000000004,
          "size": 0.2,
          "start": 0.2
         },
         "type": "contour",
         "x": [
          0.6,
          0.6214285714285714,
          0.6428571428571428,
          0.6642857142857143,
          0.6857142857142857,
          0.7071428571428572,
          0.7285714285714285,
          0.75,
          0.7714285714285715,
          0.7928571428571429,
          0.8142857142857143,
          0.8357142857142857,
          0.8571428571428572,
          0.8785714285714286,
          0.9
         ],
         "y": [
          0.5,
          0.5214285714285715,
          0.5428571428571428,
          0.5642857142857143,
          0.5857142857142857,
          0.6071428571428572,
          0.6285714285714286,
          0.65,
          0.6714285714285715,
          0.6928571428571428,
          0.7142857142857143,
          0.7357142857142858,
          0.7571428571428571,
          0.7785714285714287,
          0.8
         ],
         "z": [
          [
           2.5149208346771337,
           2.373720678499792,
           2.258173109706532,
           2.160915892754608,
           2.07635094179124,
           2.0007534508525513,
           1.9317701168677424,
           1.8679207566482692,
           null,
           null,
           null,
           null,
           null,
           null,
           null
          ],
          [
           1.8256894010564384,
           1.7060116553541598,
           1.6085048772823631,
           1.5267112210193965,
           1.45581126730002,
           1.3926296360195338,
           1.3351701891211487,
           1.282179576028008,
           null,
           null,
           null,
           null,
           null,
           null,
           null
          ],
          [
           1.299148237225782,
           1.1986828673401322,
           1.11732076922261,
           1.049405659987848,
           0.9907989169808608,
           0.9388064566524504,
           0.8917452637984544,
           0.8485610614051244,
           null,
           null,
           null,
           null,
           null,
           null,
           null
          ],
          [
           0.8986339916067055,
           0.8153826808335651,
           0.7485371482014828,
           0.693144230019122,
           0.6456611761862863,
           0.60381528832615,
           0.5661992163252081,
           0.5319275377036794,
           null,
           null,
           null,
           null,
           null,
           null,
           null
          ],
          [
           0.5965377335881437,
           0.5288461562188239,
           0.4751647633460869,
           0.4311648398332728,
           0.39383039742912573,
           0.3612611055473523,
           0.3322915002696722,
           0.30618935385355683,
           null,
           null,
           null,
           null,
           null,
           null,
           null
          ],
          [
           0.3725771481452655,
           0.31910313792925665,
           0.27748120994576386,
           0.24394597717135225,
           0.2159542462869203,
           0.1919397777246836,
           0.17095161835058442,
           0.15239863777919432,
           null,
           null,
           null,
           null,
           null,
           null,
           null
          ],
          [
           0.21201162849325417,
           0.1716591741447442,
           0.14118702803438413,
           0.11734570272214868,
           0.09802279915361369,
           0.08195528899330606,
           0.0683892182141575,
           0.05685918977742564,
           null,
           null,
           null,
           null,
           null,
           null,
           null
          ],
          [
           0.1038425238149653,
           0.07571124502578128,
           0.055628217031981245,
           0.040833023155197795,
           0.029608127731344032,
           0.02096914651517444,
           0.01434560659375128,
           0.009386784353833616,
           null,
           null,
           null,
           null,
           null,
           null,
           null
          ],
          [
           null,
           null,
           null,
           null,
           null,
           null,
           null,
           null,
           null,
           null,
           null,
           null,
           null,
           null,
           null
          ],
          [
           null,
           null,
           null,
           null,
           null,
           null,
           null,
           null,
           null,
           null,
           null,
           null,
           null,
           null,
           null
          ],
          [
           null,
           null,
           null,
           null,
           null,
           null,
           null,
           null,
           null,
           null,
           null,
           null,
           null,
           null,
           null
          ],
          [
           null,
           null,
           null,
           null,
           null,
           null,
           null,
           null,
           null,
           null,
           null,
           null,
           null,
           null,
           null
          ],
          [
           null,
           null,
           null,
           null,
           null,
           null,
           null,
           null,
           null,
           null,
           null,
           null,
           null,
           null,
           null
          ],
          [
           null,
           null,
           null,
           null,
           null,
           null,
           null,
           null,
           null,
           null,
           null,
           null,
           null,
           null,
           null
          ],
          [
           null,
           null,
           null,
           null,
           null,
           null,
           null,
           null,
           null,
           null,
           null,
           null,
           null,
           null,
           null
          ]
         ]
        },
        {
         "marker": {
          "color": "red",
          "line": {
           "color": "midnightblue",
           "width": 1
          },
          "showscale": false,
          "size": 12,
          "symbol": "x"
         },
         "mode": "markers",
         "showlegend": false,
         "type": "scatter",
         "x": [
          0.6304957516149899
         ],
         "y": [
          0.48139206192883566
         ]
        },
        {
         "marker": {
          "color": [
           0,
           0.04,
           0.08,
           0.12,
           0.16,
           0.2,
           0.24,
           0.28,
           0.32,
           0.36,
           0.4,
           0.44,
           0.48,
           0.52,
           0.56,
           0.6,
           0.64,
           0.68,
           0.72,
           0.76,
           0.8,
           0.84,
           0.88,
           0.92,
           0.96
          ],
          "colorscale": [
           [
            0,
            "rgb(255,255,229)"
           ],
           [
            0.125,
            "rgb(255,247,188)"
           ],
           [
            0.25,
            "rgb(254,227,145)"
           ],
           [
            0.375,
            "rgb(254,196,79)"
           ],
           [
            0.5,
            "rgb(254,153,41)"
           ],
           [
            0.625,
            "rgb(236,112,20)"
           ],
           [
            0.75,
            "rgb(204,76,2)"
           ],
           [
            0.875,
            "rgb(153,52,4)"
           ],
           [
            1,
            "rgb(102,37,6)"
           ]
          ],
          "showscale": false
         },
         "mode": "markers",
         "showlegend": false,
         "type": "scatter",
         "x": [
          0.7145355135850915,
          0.7145355135850915,
          0.7145355135850915,
          0.7459409890771588,
          0.7459409890771588,
          0.7459409890771588,
          0.7459409890771588,
          0.7459409890771588,
          0.7459409890771588,
          0.7459409890771588,
          0.7459409890771588,
          0.7459409890771588,
          0.7452296012764972,
          0.7452296012764972,
          0.7452296012764972,
          0.7482073447942585,
          0.7489880201720678,
          0.7499124517928609,
          0.7499124517928609,
          0.7499124517928609,
          0.7499565206690408,
          0.7499977819992971,
          0.7499977819992971,
          0.7499977819992971,
          0.7499977819992971
         ],
         "y": [
          0.6589211925687739,
          0.6589211925687739,
          0.6589211925687739,
          0.6643317124140159,
          0.6643317124140159,
          0.6643317124140159,
          0.6643317124140159,
          0.6643317124140159,
          0.6643317124140159,
          0.6643317124140159,
          0.6643317124140159,
          0.6643317124140159,
          0.6649346587129739,
          0.6649346587129739,
          0.6649346587129739,
          0.6646282576198099,
          0.6644932381302697,
          0.664854627922799,
          0.664854627922799,
          0.664854627922799,
          0.6648448196971358,
          0.6648356955334283,
          0.6648356955334283,
          0.6648356955334283,
          0.6648356955334283
         ]
        }
       ],
       "layout": {
        "height": 600,
        "template": {
         "data": {
          "bar": [
           {
            "error_x": {
             "color": "#2a3f5f"
            },
            "error_y": {
             "color": "#2a3f5f"
            },
            "marker": {
             "line": {
              "color": "#E5ECF6",
              "width": 0.5
             },
             "pattern": {
              "fillmode": "overlay",
              "size": 10,
              "solidity": 0.2
             }
            },
            "type": "bar"
           }
          ],
          "barpolar": [
           {
            "marker": {
             "line": {
              "color": "#E5ECF6",
              "width": 0.5
             },
             "pattern": {
              "fillmode": "overlay",
              "size": 10,
              "solidity": 0.2
             }
            },
            "type": "barpolar"
           }
          ],
          "carpet": [
           {
            "aaxis": {
             "endlinecolor": "#2a3f5f",
             "gridcolor": "white",
             "linecolor": "white",
             "minorgridcolor": "white",
             "startlinecolor": "#2a3f5f"
            },
            "baxis": {
             "endlinecolor": "#2a3f5f",
             "gridcolor": "white",
             "linecolor": "white",
             "minorgridcolor": "white",
             "startlinecolor": "#2a3f5f"
            },
            "type": "carpet"
           }
          ],
          "choropleth": [
           {
            "colorbar": {
             "outlinewidth": 0,
             "ticks": ""
            },
            "type": "choropleth"
           }
          ],
          "contour": [
           {
            "colorbar": {
             "outlinewidth": 0,
             "ticks": ""
            },
            "colorscale": [
             [
              0,
              "#0d0887"
             ],
             [
              0.1111111111111111,
              "#46039f"
             ],
             [
              0.2222222222222222,
              "#7201a8"
             ],
             [
              0.3333333333333333,
              "#9c179e"
             ],
             [
              0.4444444444444444,
              "#bd3786"
             ],
             [
              0.5555555555555556,
              "#d8576b"
             ],
             [
              0.6666666666666666,
              "#ed7953"
             ],
             [
              0.7777777777777778,
              "#fb9f3a"
             ],
             [
              0.8888888888888888,
              "#fdca26"
             ],
             [
              1,
              "#f0f921"
             ]
            ],
            "type": "contour"
           }
          ],
          "contourcarpet": [
           {
            "colorbar": {
             "outlinewidth": 0,
             "ticks": ""
            },
            "type": "contourcarpet"
           }
          ],
          "heatmap": [
           {
            "colorbar": {
             "outlinewidth": 0,
             "ticks": ""
            },
            "colorscale": [
             [
              0,
              "#0d0887"
             ],
             [
              0.1111111111111111,
              "#46039f"
             ],
             [
              0.2222222222222222,
              "#7201a8"
             ],
             [
              0.3333333333333333,
              "#9c179e"
             ],
             [
              0.4444444444444444,
              "#bd3786"
             ],
             [
              0.5555555555555556,
              "#d8576b"
             ],
             [
              0.6666666666666666,
              "#ed7953"
             ],
             [
              0.7777777777777778,
              "#fb9f3a"
             ],
             [
              0.8888888888888888,
              "#fdca26"
             ],
             [
              1,
              "#f0f921"
             ]
            ],
            "type": "heatmap"
           }
          ],
          "heatmapgl": [
           {
            "colorbar": {
             "outlinewidth": 0,
             "ticks": ""
            },
            "colorscale": [
             [
              0,
              "#0d0887"
             ],
             [
              0.1111111111111111,
              "#46039f"
             ],
             [
              0.2222222222222222,
              "#7201a8"
             ],
             [
              0.3333333333333333,
              "#9c179e"
             ],
             [
              0.4444444444444444,
              "#bd3786"
             ],
             [
              0.5555555555555556,
              "#d8576b"
             ],
             [
              0.6666666666666666,
              "#ed7953"
             ],
             [
              0.7777777777777778,
              "#fb9f3a"
             ],
             [
              0.8888888888888888,
              "#fdca26"
             ],
             [
              1,
              "#f0f921"
             ]
            ],
            "type": "heatmapgl"
           }
          ],
          "histogram": [
           {
            "marker": {
             "pattern": {
              "fillmode": "overlay",
              "size": 10,
              "solidity": 0.2
             }
            },
            "type": "histogram"
           }
          ],
          "histogram2d": [
           {
            "colorbar": {
             "outlinewidth": 0,
             "ticks": ""
            },
            "colorscale": [
             [
              0,
              "#0d0887"
             ],
             [
              0.1111111111111111,
              "#46039f"
             ],
             [
              0.2222222222222222,
              "#7201a8"
             ],
             [
              0.3333333333333333,
              "#9c179e"
             ],
             [
              0.4444444444444444,
              "#bd3786"
             ],
             [
              0.5555555555555556,
              "#d8576b"
             ],
             [
              0.6666666666666666,
              "#ed7953"
             ],
             [
              0.7777777777777778,
              "#fb9f3a"
             ],
             [
              0.8888888888888888,
              "#fdca26"
             ],
             [
              1,
              "#f0f921"
             ]
            ],
            "type": "histogram2d"
           }
          ],
          "histogram2dcontour": [
           {
            "colorbar": {
             "outlinewidth": 0,
             "ticks": ""
            },
            "colorscale": [
             [
              0,
              "#0d0887"
             ],
             [
              0.1111111111111111,
              "#46039f"
             ],
             [
              0.2222222222222222,
              "#7201a8"
             ],
             [
              0.3333333333333333,
              "#9c179e"
             ],
             [
              0.4444444444444444,
              "#bd3786"
             ],
             [
              0.5555555555555556,
              "#d8576b"
             ],
             [
              0.6666666666666666,
              "#ed7953"
             ],
             [
              0.7777777777777778,
              "#fb9f3a"
             ],
             [
              0.8888888888888888,
              "#fdca26"
             ],
             [
              1,
              "#f0f921"
             ]
            ],
            "type": "histogram2dcontour"
           }
          ],
          "mesh3d": [
           {
            "colorbar": {
             "outlinewidth": 0,
             "ticks": ""
            },
            "type": "mesh3d"
           }
          ],
          "parcoords": [
           {
            "line": {
             "colorbar": {
              "outlinewidth": 0,
              "ticks": ""
             }
            },
            "type": "parcoords"
           }
          ],
          "pie": [
           {
            "automargin": true,
            "type": "pie"
           }
          ],
          "scatter": [
           {
            "fillpattern": {
             "fillmode": "overlay",
             "size": 10,
             "solidity": 0.2
            },
            "type": "scatter"
           }
          ],
          "scatter3d": [
           {
            "line": {
             "colorbar": {
              "outlinewidth": 0,
              "ticks": ""
             }
            },
            "marker": {
             "colorbar": {
              "outlinewidth": 0,
              "ticks": ""
             }
            },
            "type": "scatter3d"
           }
          ],
          "scattercarpet": [
           {
            "marker": {
             "colorbar": {
              "outlinewidth": 0,
              "ticks": ""
             }
            },
            "type": "scattercarpet"
           }
          ],
          "scattergeo": [
           {
            "marker": {
             "colorbar": {
              "outlinewidth": 0,
              "ticks": ""
             }
            },
            "type": "scattergeo"
           }
          ],
          "scattergl": [
           {
            "marker": {
             "colorbar": {
              "outlinewidth": 0,
              "ticks": ""
             }
            },
            "type": "scattergl"
           }
          ],
          "scattermapbox": [
           {
            "marker": {
             "colorbar": {
              "outlinewidth": 0,
              "ticks": ""
             }
            },
            "type": "scattermapbox"
           }
          ],
          "scatterpolar": [
           {
            "marker": {
             "colorbar": {
              "outlinewidth": 0,
              "ticks": ""
             }
            },
            "type": "scatterpolar"
           }
          ],
          "scatterpolargl": [
           {
            "marker": {
             "colorbar": {
              "outlinewidth": 0,
              "ticks": ""
             }
            },
            "type": "scatterpolargl"
           }
          ],
          "scatterternary": [
           {
            "marker": {
             "colorbar": {
              "outlinewidth": 0,
              "ticks": ""
             }
            },
            "type": "scatterternary"
           }
          ],
          "surface": [
           {
            "colorbar": {
             "outlinewidth": 0,
             "ticks": ""
            },
            "colorscale": [
             [
              0,
              "#0d0887"
             ],
             [
              0.1111111111111111,
              "#46039f"
             ],
             [
              0.2222222222222222,
              "#7201a8"
             ],
             [
              0.3333333333333333,
              "#9c179e"
             ],
             [
              0.4444444444444444,
              "#bd3786"
             ],
             [
              0.5555555555555556,
              "#d8576b"
             ],
             [
              0.6666666666666666,
              "#ed7953"
             ],
             [
              0.7777777777777778,
              "#fb9f3a"
             ],
             [
              0.8888888888888888,
              "#fdca26"
             ],
             [
              1,
              "#f0f921"
             ]
            ],
            "type": "surface"
           }
          ],
          "table": [
           {
            "cells": {
             "fill": {
              "color": "#EBF0F8"
             },
             "line": {
              "color": "white"
             }
            },
            "header": {
             "fill": {
              "color": "#C8D4E3"
             },
             "line": {
              "color": "white"
             }
            },
            "type": "table"
           }
          ]
         },
         "layout": {
          "annotationdefaults": {
           "arrowcolor": "#2a3f5f",
           "arrowhead": 0,
           "arrowwidth": 1
          },
          "autotypenumbers": "strict",
          "coloraxis": {
           "colorbar": {
            "outlinewidth": 0,
            "ticks": ""
           }
          },
          "colorscale": {
           "diverging": [
            [
             0,
             "#8e0152"
            ],
            [
             0.1,
             "#c51b7d"
            ],
            [
             0.2,
             "#de77ae"
            ],
            [
             0.3,
             "#f1b6da"
            ],
            [
             0.4,
             "#fde0ef"
            ],
            [
             0.5,
             "#f7f7f7"
            ],
            [
             0.6,
             "#e6f5d0"
            ],
            [
             0.7,
             "#b8e186"
            ],
            [
             0.8,
             "#7fbc41"
            ],
            [
             0.9,
             "#4d9221"
            ],
            [
             1,
             "#276419"
            ]
           ],
           "sequential": [
            [
             0,
             "#0d0887"
            ],
            [
             0.1111111111111111,
             "#46039f"
            ],
            [
             0.2222222222222222,
             "#7201a8"
            ],
            [
             0.3333333333333333,
             "#9c179e"
            ],
            [
             0.4444444444444444,
             "#bd3786"
            ],
            [
             0.5555555555555556,
             "#d8576b"
            ],
            [
             0.6666666666666666,
             "#ed7953"
            ],
            [
             0.7777777777777778,
             "#fb9f3a"
            ],
            [
             0.8888888888888888,
             "#fdca26"
            ],
            [
             1,
             "#f0f921"
            ]
           ],
           "sequentialminus": [
            [
             0,
             "#0d0887"
            ],
            [
             0.1111111111111111,
             "#46039f"
            ],
            [
             0.2222222222222222,
             "#7201a8"
            ],
            [
             0.3333333333333333,
             "#9c179e"
            ],
            [
             0.4444444444444444,
             "#bd3786"
            ],
            [
             0.5555555555555556,
             "#d8576b"
            ],
            [
             0.6666666666666666,
             "#ed7953"
            ],
            [
             0.7777777777777778,
             "#fb9f3a"
            ],
            [
             0.8888888888888888,
             "#fdca26"
            ],
            [
             1,
             "#f0f921"
            ]
           ]
          },
          "colorway": [
           "#636efa",
           "#EF553B",
           "#00cc96",
           "#ab63fa",
           "#FFA15A",
           "#19d3f3",
           "#FF6692",
           "#B6E880",
           "#FF97FF",
           "#FECB52"
          ],
          "font": {
           "color": "#2a3f5f"
          },
          "geo": {
           "bgcolor": "white",
           "lakecolor": "white",
           "landcolor": "#E5ECF6",
           "showlakes": true,
           "showland": true,
           "subunitcolor": "white"
          },
          "hoverlabel": {
           "align": "left"
          },
          "hovermode": "closest",
          "mapbox": {
           "style": "light"
          },
          "paper_bgcolor": "white",
          "plot_bgcolor": "#E5ECF6",
          "polar": {
           "angularaxis": {
            "gridcolor": "white",
            "linecolor": "white",
            "ticks": ""
           },
           "bgcolor": "#E5ECF6",
           "radialaxis": {
            "gridcolor": "white",
            "linecolor": "white",
            "ticks": ""
           }
          },
          "scene": {
           "xaxis": {
            "backgroundcolor": "#E5ECF6",
            "gridcolor": "white",
            "gridwidth": 2,
            "linecolor": "white",
            "showbackground": true,
            "ticks": "",
            "zerolinecolor": "white"
           },
           "yaxis": {
            "backgroundcolor": "#E5ECF6",
            "gridcolor": "white",
            "gridwidth": 2,
            "linecolor": "white",
            "showbackground": true,
            "ticks": "",
            "zerolinecolor": "white"
           },
           "zaxis": {
            "backgroundcolor": "#E5ECF6",
            "gridcolor": "white",
            "gridwidth": 2,
            "linecolor": "white",
            "showbackground": true,
            "ticks": "",
            "zerolinecolor": "white"
           }
          },
          "shapedefaults": {
           "line": {
            "color": "#2a3f5f"
           }
          },
          "ternary": {
           "aaxis": {
            "gridcolor": "white",
            "linecolor": "white",
            "ticks": ""
           },
           "baxis": {
            "gridcolor": "white",
            "linecolor": "white",
            "ticks": ""
           },
           "bgcolor": "#E5ECF6",
           "caxis": {
            "gridcolor": "white",
            "linecolor": "white",
            "ticks": ""
           }
          },
          "title": {
           "x": 0.05
          },
          "xaxis": {
           "automargin": true,
           "gridcolor": "white",
           "linecolor": "white",
           "ticks": "",
           "title": {
            "standoff": 15
           },
           "zerolinecolor": "white",
           "zerolinewidth": 2
          },
          "yaxis": {
           "automargin": true,
           "gridcolor": "white",
           "linecolor": "white",
           "ticks": "",
           "title": {
            "standoff": 15
           },
           "zerolinecolor": "white",
           "zerolinewidth": 2
          }
         }
        },
        "title": {
         "text": "Cost Landscape",
         "x": 0.5,
         "y": 0.9
        },
        "width": 600,
        "xaxis": {
         "range": [
          0.6,
          0.9
         ],
         "title": {
          "text": "Negative electrode active material volume fraction"
         },
         "type": "linear"
        },
        "yaxis": {
         "range": [
          0.5,
          0.8
         ],
         "title": {
          "text": "Positive electrode active material volume fraction"
         },
         "type": "linear"
        }
       }
      },
      "image/png": "[encoded data removed]",
      "text/html": [
       "<div>                            <div id=\"c4e42da7-0037-438a-9dab-d70c7c739bf3\" class=\"plotly-graph-div\" style=\"height:600px; width:600px;\"></div>            <script type=\"text/javascript\">                require([\"plotly\"], function(Plotly) {                    window.PLOTLYENV=window.PLOTLYENV || {};                                    if (document.getElementById(\"c4e42da7-0037-438a-9dab-d70c7c739bf3\")) {                    Plotly.newPlot(                        \"c4e42da7-0037-438a-9dab-d70c7c739bf3\",                        [{\"x\":[0.6,0.6214285714285714,0.6428571428571428,0.6642857142857143,0.6857142857142857,0.7071428571428572,0.7285714285714285,0.75,0.7714285714285715,0.7928571428571429,0.8142857142857143,0.8357142857142857,0.8571428571428572,0.8785714285714286,0.9],\"y\":[0.5,0.5214285714285715,0.5428571428571428,0.5642857142857143,0.5857142857142857,0.6071428571428572,0.6285714285714286,0.65,0.6714285714285715,0.6928571428571428,0.7142857142857143,0.7357142857142858,0.7571428571428571,0.7785714285714287,0.8],\"z\":[[2.5149208346771337,2.373720678499792,2.258173109706532,2.160915892754608,2.0763509417912402,2.0007534508525513,1.9317701168677426,1.8679207566482692,null,null,null,null,null,null,null],[1.8256894010564384,1.7060116553541598,1.6085048772823631,1.5267112210193963,1.45581126730002,1.3926296360195338,1.3351701891211487,1.2821795760280081,null,null,null,null,null,null,null],[1.2991482372257819,1.1986828673401322,1.1173207692226101,1.049405659987848,0.9907989169808609,0.9388064566524503,0.8917452637984544,0.8485610614051244,null,null,null,null,null,null,null],[0.8986339916067055,0.8153826808335651,0.7485371482014828,0.693144230019122,0.6456611761862863,0.60381528832615,0.5661992163252081,0.5319275377036794,null,null,null,null,null,null,null],[0.5965377335881437,0.5288461562188239,0.4751647633460869,0.4311648398332728,0.39383039742912573,0.36126110554735236,0.3322915002696722,0.30618935385355683,null,null,null,null,null,null,null],[0.3725771481452655,0.31910313792925665,0.27748120994576386,0.24394597717135225,0.21595424628692034,0.19193977772468362,0.17095161835058442,0.15239863777919432,null,null,null,null,null,null,null],[0.21201162849325417,0.1716591741447442,0.14118702803438413,0.11734570272214867,0.09802279915361367,0.08195528899330606,0.0683892182141575,0.05685918977742564,null,null,null,null,null,null,null],[0.1038425238149653,0.07571124502578128,0.055628217031981245,0.040833023155197795,0.029608127731344032,0.02096914651517444,0.01434560659375128,0.009386784353833616,null,null,null,null,null,null,null],[null,null,null,null,null,null,null,null,null,null,null,null,null,null,null],[null,null,null,null,null,null,null,null,null,null,null,null,null,null,null],[null,null,null,null,null,null,null,null,null,null,null,null,null,null,null],[null,null,null,null,null,null,null,null,null,null,null,null,null,null,null],[null,null,null,null,null,null,null,null,null,null,null,null,null,null,null],[null,null,null,null,null,null,null,null,null,null,null,null,null,null,null],[null,null,null,null,null,null,null,null,null,null,null,null,null,null,null]],\"type\":\"contour\"},{\"marker\":{\"color\":\"red\",\"line\":{\"color\":\"midnightblue\",\"width\":1},\"showscale\":false,\"size\":12,\"symbol\":\"x\"},\"mode\":\"markers\",\"showlegend\":false,\"x\":[0.6304957516149899],\"y\":[0.48139206192883566],\"type\":\"scatter\"},{\"marker\":{\"color\":[0.0,0.04,0.08,0.12,0.16,0.2,0.24,0.28,0.32,0.36,0.4,0.44,0.48,0.52,0.56,0.6,0.64,0.68,0.72,0.76,0.8,0.84,0.88,0.92,0.96],\"colorscale\":[[0.0,\"rgb(255,255,229)\"],[0.125,\"rgb(255,247,188)\"],[0.25,\"rgb(254,227,145)\"],[0.375,\"rgb(254,196,79)\"],[0.5,\"rgb(254,153,41)\"],[0.625,\"rgb(236,112,20)\"],[0.75,\"rgb(204,76,2)\"],[0.875,\"rgb(153,52,4)\"],[1.0,\"rgb(102,37,6)\"]],\"showscale\":false},\"mode\":\"markers\",\"showlegend\":false,\"x\":[0.7145355135850915,0.7145355135850915,0.7145355135850915,0.7459409890771588,0.7459409890771588,0.7459409890771588,0.7459409890771588,0.7459409890771588,0.7459409890771588,0.7459409890771588,0.7459409890771588,0.7459409890771588,0.7452296012764972,0.7452296012764972,0.7452296012764972,0.7482073447942585,0.7489880201720678,0.7499124517928609,0.7499124517928609,0.7499124517928609,0.7499565206690408,0.7499977819992971,0.7499977819992971,0.7499977819992971,0.7499977819992971],\"y\":[0.6589211925687739,0.6589211925687739,0.6589211925687739,0.6643317124140159,0.6643317124140159,0.6643317124140159,0.6643317124140159,0.6643317124140159,0.6643317124140159,0.6643317124140159,0.6643317124140159,0.6643317124140159,0.6649346587129739,0.6649346587129739,0.6649346587129739,0.6646282576198099,0.6644932381302697,0.664854627922799,0.664854627922799,0.664854627922799,0.6648448196971358,0.6648356955334283,0.6648356955334283,0.6648356955334283,0.6648356955334283],\"type\":\"scatter\"}],                        {\"template\":{\"data\":{\"histogram2dcontour\":[{\"type\":\"histogram2dcontour\",\"colorbar\":{\"outlinewidth\":0,\"ticks\":\"\"},\"colorscale\":[[0.0,\"#0d0887\"],[0.1111111111111111,\"#46039f\"],[0.2222222222222222,\"#7201a8\"],[0.3333333333333333,\"#9c179e\"],[0.4444444444444444,\"#bd3786\"],[0.5555555555555556,\"#d8576b\"],[0.6666666666666666,\"#ed7953\"],[0.7777777777777778,\"#fb9f3a\"],[0.8888888888888888,\"#fdca26\"],[1.0,\"#f0f921\"]]}],\"choropleth\":[{\"type\":\"choropleth\",\"colorbar\":{\"outlinewidth\":0,\"ticks\":\"\"}}],\"histogram2d\":[{\"type\":\"histogram2d\",\"colorbar\":{\"outlinewidth\":0,\"ticks\":\"\"},\"colorscale\":[[0.0,\"#0d0887\"],[0.1111111111111111,\"#46039f\"],[0.2222222222222222,\"#7201a8\"],[0.3333333333333333,\"#9c179e\"],[0.4444444444444444,\"#bd3786\"],[0.5555555555555556,\"#d8576b\"],[0.6666666666666666,\"#ed7953\"],[0.7777777777777778,\"#fb9f3a\"],[0.8888888888888888,\"#fdca26\"],[1.0,\"#f0f921\"]]}],\"heatmap\":[{\"type\":\"heatmap\",\"colorbar\":{\"outlinewidth\":0,\"ticks\":\"\"},\"colorscale\":[[0.0,\"#0d0887\"],[0.1111111111111111,\"#46039f\"],[0.2222222222222222,\"#7201a8\"],[0.3333333333333333,\"#9c179e\"],[0.4444444444444444,\"#bd3786\"],[0.5555555555555556,\"#d8576b\"],[0.6666666666666666,\"#ed7953\"],[0.7777777777777778,\"#fb9f3a\"],[0.8888888888888888,\"#fdca26\"],[1.0,\"#f0f921\"]]}],\"heatmapgl\":[{\"type\":\"heatmapgl\",\"colorbar\":{\"outlinewidth\":0,\"ticks\":\"\"},\"colorscale\":[[0.0,\"#0d0887\"],[0.1111111111111111,\"#46039f\"],[0.2222222222222222,\"#7201a8\"],[0.3333333333333333,\"#9c179e\"],[0.4444444444444444,\"#bd3786\"],[0.5555555555555556,\"#d8576b\"],[0.6666666666666666,\"#ed7953\"],[0.7777777777777778,\"#fb9f3a\"],[0.8888888888888888,\"#fdca26\"],[1.0,\"#f0f921\"]]}],\"contourcarpet\":[{\"type\":\"contourcarpet\",\"colorbar\":{\"outlinewidth\":0,\"ticks\":\"\"}}],\"contour\":[{\"type\":\"contour\",\"colorbar\":{\"outlinewidth\":0,\"ticks\":\"\"},\"colorscale\":[[0.0,\"#0d0887\"],[0.1111111111111111,\"#46039f\"],[0.2222222222222222,\"#7201a8\"],[0.3333333333333333,\"#9c179e\"],[0.4444444444444444,\"#bd3786\"],[0.5555555555555556,\"#d8576b\"],[0.6666666666666666,\"#ed7953\"],[0.7777777777777778,\"#fb9f3a\"],[0.8888888888888888,\"#fdca26\"],[1.0,\"#f0f921\"]]}],\"surface\":[{\"type\":\"surface\",\"colorbar\":{\"outlinewidth\":0,\"ticks\":\"\"},\"colorscale\":[[0.0,\"#0d0887\"],[0.1111111111111111,\"#46039f\"],[0.2222222222222222,\"#7201a8\"],[0.3333333333333333,\"#9c179e\"],[0.4444444444444444,\"#bd3786\"],[0.5555555555555556,\"#d8576b\"],[0.6666666666666666,\"#ed7953\"],[0.7777777777777778,\"#fb9f3a\"],[0.8888888888888888,\"#fdca26\"],[1.0,\"#f0f921\"]]}],\"mesh3d\":[{\"type\":\"mesh3d\",\"colorbar\":{\"outlinewidth\":0,\"ticks\":\"\"}}],\"scatter\":[{\"fillpattern\":{\"fillmode\":\"overlay\",\"size\":10,\"solidity\":0.2},\"type\":\"scatter\"}],\"parcoords\":[{\"type\":\"parcoords\",\"line\":{\"colorbar\":{\"outlinewidth\":0,\"ticks\":\"\"}}}],\"scatterpolargl\":[{\"type\":\"scatterpolargl\",\"marker\":{\"colorbar\":{\"outlinewidth\":0,\"ticks\":\"\"}}}],\"bar\":[{\"error_x\":{\"color\":\"#2a3f5f\"},\"error_y\":{\"color\":\"#2a3f5f\"},\"marker\":{\"line\":{\"color\":\"#E5ECF6\",\"width\":0.5},\"pattern\":{\"fillmode\":\"overlay\",\"size\":10,\"solidity\":0.2}},\"type\":\"bar\"}],\"scattergeo\":[{\"type\":\"scattergeo\",\"marker\":{\"colorbar\":{\"outlinewidth\":0,\"ticks\":\"\"}}}],\"scatterpolar\":[{\"type\":\"scatterpolar\",\"marker\":{\"colorbar\":{\"outlinewidth\":0,\"ticks\":\"\"}}}],\"histogram\":[{\"marker\":{\"pattern\":{\"fillmode\":\"overlay\",\"size\":10,\"solidity\":0.2}},\"type\":\"histogram\"}],\"scattergl\":[{\"type\":\"scattergl\",\"marker\":{\"colorbar\":{\"outlinewidth\":0,\"ticks\":\"\"}}}],\"scatter3d\":[{\"type\":\"scatter3d\",\"line\":{\"colorbar\":{\"outlinewidth\":0,\"ticks\":\"\"}},\"marker\":{\"colorbar\":{\"outlinewidth\":0,\"ticks\":\"\"}}}],\"scattermapbox\":[{\"type\":\"scattermapbox\",\"marker\":{\"colorbar\":{\"outlinewidth\":0,\"ticks\":\"\"}}}],\"scatterternary\":[{\"type\":\"scatterternary\",\"marker\":{\"colorbar\":{\"outlinewidth\":0,\"ticks\":\"\"}}}],\"scattercarpet\":[{\"type\":\"scattercarpet\",\"marker\":{\"colorbar\":{\"outlinewidth\":0,\"ticks\":\"\"}}}],\"carpet\":[{\"aaxis\":{\"endlinecolor\":\"#2a3f5f\",\"gridcolor\":\"white\",\"linecolor\":\"white\",\"minorgridcolor\":\"white\",\"startlinecolor\":\"#2a3f5f\"},\"baxis\":{\"endlinecolor\":\"#2a3f5f\",\"gridcolor\":\"white\",\"linecolor\":\"white\",\"minorgridcolor\":\"white\",\"startlinecolor\":\"#2a3f5f\"},\"type\":\"carpet\"}],\"table\":[{\"cells\":{\"fill\":{\"color\":\"#EBF0F8\"},\"line\":{\"color\":\"white\"}},\"header\":{\"fill\":{\"color\":\"#C8D4E3\"},\"line\":{\"color\":\"white\"}},\"type\":\"table\"}],\"barpolar\":[{\"marker\":{\"line\":{\"color\":\"#E5ECF6\",\"width\":0.5},\"pattern\":{\"fillmode\":\"overlay\",\"size\":10,\"solidity\":0.2}},\"type\":\"barpolar\"}],\"pie\":[{\"automargin\":true,\"type\":\"pie\"}]},\"layout\":{\"autotypenumbers\":\"strict\",\"colorway\":[\"#636efa\",\"#EF553B\",\"#00cc96\",\"#ab63fa\",\"#FFA15A\",\"#19d3f3\",\"#FF6692\",\"#B6E880\",\"#FF97FF\",\"#FECB52\"],\"font\":{\"color\":\"#2a3f5f\"},\"hovermode\":\"closest\",\"hoverlabel\":{\"align\":\"left\"},\"paper_bgcolor\":\"white\",\"plot_bgcolor\":\"#E5ECF6\",\"polar\":{\"bgcolor\":\"#E5ECF6\",\"angularaxis\":{\"gridcolor\":\"white\",\"linecolor\":\"white\",\"ticks\":\"\"},\"radialaxis\":{\"gridcolor\":\"white\",\"linecolor\":\"white\",\"ticks\":\"\"}},\"ternary\":{\"bgcolor\":\"#E5ECF6\",\"aaxis\":{\"gridcolor\":\"white\",\"linecolor\":\"white\",\"ticks\":\"\"},\"baxis\":{\"gridcolor\":\"white\",\"linecolor\":\"white\",\"ticks\":\"\"},\"caxis\":{\"gridcolor\":\"white\",\"linecolor\":\"white\",\"ticks\":\"\"}},\"coloraxis\":{\"colorbar\":{\"outlinewidth\":0,\"ticks\":\"\"}},\"colorscale\":{\"sequential\":[[0.0,\"#0d0887\"],[0.1111111111111111,\"#46039f\"],[0.2222222222222222,\"#7201a8\"],[0.3333333333333333,\"#9c179e\"],[0.4444444444444444,\"#bd3786\"],[0.5555555555555556,\"#d8576b\"],[0.6666666666666666,\"#ed7953\"],[0.7777777777777778,\"#fb9f3a\"],[0.8888888888888888,\"#fdca26\"],[1.0,\"#f0f921\"]],\"sequentialminus\":[[0.0,\"#0d0887\"],[0.1111111111111111,\"#46039f\"],[0.2222222222222222,\"#7201a8\"],[0.3333333333333333,\"#9c179e\"],[0.4444444444444444,\"#bd3786\"],[0.5555555555555556,\"#d8576b\"],[0.6666666666666666,\"#ed7953\"],[0.7777777777777778,\"#fb9f3a\"],[0.8888888888888888,\"#fdca26\"],[1.0,\"#f0f921\"]],\"diverging\":[[0,\"#8e0152\"],[0.1,\"#c51b7d\"],[0.2,\"#de77ae\"],[0.3,\"#f1b6da\"],[0.4,\"#fde0ef\"],[0.5,\"#f7f7f7\"],[0.6,\"#e6f5d0\"],[0.7,\"#b8e186\"],[0.8,\"#7fbc41\"],[0.9,\"#4d9221\"],[1,\"#276419\"]]},\"xaxis\":{\"gridcolor\":\"white\",\"linecolor\":\"white\",\"ticks\":\"\",\"title\":{\"standoff\":15},\"zerolinecolor\":\"white\",\"automargin\":true,\"zerolinewidth\":2},\"yaxis\":{\"gridcolor\":\"white\",\"linecolor\":\"white\",\"ticks\":\"\",\"title\":{\"standoff\":15},\"zerolinecolor\":\"white\",\"automargin\":true,\"zerolinewidth\":2},\"scene\":{\"xaxis\":{\"backgroundcolor\":\"#E5ECF6\",\"gridcolor\":\"white\",\"linecolor\":\"white\",\"showbackground\":true,\"ticks\":\"\",\"zerolinecolor\":\"white\",\"gridwidth\":2},\"yaxis\":{\"backgroundcolor\":\"#E5ECF6\",\"gridcolor\":\"white\",\"linecolor\":\"white\",\"showbackground\":true,\"ticks\":\"\",\"zerolinecolor\":\"white\",\"gridwidth\":2},\"zaxis\":{\"backgroundcolor\":\"#E5ECF6\",\"gridcolor\":\"white\",\"linecolor\":\"white\",\"showbackground\":true,\"ticks\":\"\",\"zerolinecolor\":\"white\",\"gridwidth\":2}},\"shapedefaults\":{\"line\":{\"color\":\"#2a3f5f\"}},\"annotationdefaults\":{\"arrowcolor\":\"#2a3f5f\",\"arrowhead\":0,\"arrowwidth\":1},\"geo\":{\"bgcolor\":\"white\",\"landcolor\":\"#E5ECF6\",\"subunitcolor\":\"white\",\"showland\":true,\"showlakes\":true,\"lakecolor\":\"white\"},\"title\":{\"x\":0.05},\"mapbox\":{\"style\":\"light\"}}},\"title\":{\"text\":\"Cost Landscape\",\"x\":0.5,\"y\":0.9},\"xaxis\":{\"title\":{\"text\":\"Negative electrode active material volume fraction\"},\"range\":[0.6,0.9]},\"yaxis\":{\"title\":{\"text\":\"Positive electrode active material volume fraction\"},\"range\":[0.5,0.8]},\"width\":600,\"height\":600},                        {\"responsive\": true}                    ).then(function(){\n",
       "                            \n",
       "var gd = document.getElementById('c4e42da7-0037-438a-9dab-d70c7c739bf3');\n",
       "var x = new MutationObserver(function (mutations, observer) {{\n",
       "        var display = window.getComputedStyle(gd).display;\n",
       "        if (!display || display === 'none') {{\n",
       "            console.log([gd, 'removed!']);\n",
       "            Plotly.purge(gd);\n",
       "            observer.disconnect();\n",
       "        }}\n",
       "}});\n",
       "\n",
       "// Listen for the removal of the full notebook cells\n",
       "var notebookContainer = gd.closest('#notebook-container');\n",
       "if (notebookContainer) {{\n",
       "    x.observe(notebookContainer, {childList: true});\n",
       "}}\n",
       "\n",
       "// Listen for the clearing of the current output cell\n",
       "var outputEl = gd.closest('.output');\n",
       "if (outputEl) {{\n",
       "    x.observe(outputEl, {childList: true});\n",
       "}}\n",
       "\n",
       "                        })                };                });            </script>        </div>"
      ]
     },
     "metadata": {},
     "output_type": "display_data"
    }
   ],
   "source": [
    "# Plot the cost landscape\n",
    "pybop.plot_cost2d(cost, steps=15)\n",
    "# Plot the cost landscape with optimisation path and updated bounds\n",
    "bounds = np.array([[0.6, 0.9], [0.5, 0.8]])\n",
    "pybop.plot_cost2d(cost, optim=optim, bounds=bounds, steps=15);"
   ]
  },
  {
   "cell_type": "markdown",
   "metadata": {},
   "source": [
    "### Conclusion\n",
    "\n",
    "This notebook illustrates how to perform parameter estimation using Differential Evolution method in PyBOP, providing insights into the optimisation process through various visualisations."
   ]
  },
  {
   "cell_type": "code",
   "execution_count": null,
   "metadata": {},
   "outputs": [],
   "source": []
  }
 ],
 "metadata": {
  "colab": {
   "provenance": []
  },
  "kernelspec": {
   "display_name": "Python 3 (ipykernel)",
   "language": "python",
   "name": "python3"
  },
  "language_info": {
   "codemirror_mode": {
    "name": "ipython",
    "version": 3
   },
   "file_extension": ".py",
   "mimetype": "text/x-python",
   "name": "python",
   "nbconvert_exporter": "python",
   "pygments_lexer": "ipython3",
   "version": "3.11.4"
  },
  "widgets": {
   "application/vnd.jupyter.widget-state+json": {
    "06f2374f91c8455bb63252092512f2ed": {
     "model_module": "@jupyter-widgets/base",
     "model_module_version": "2.0.0",
     "model_name": "LayoutModel",
     "state": {
      "_model_module": "@jupyter-widgets/base",
      "_model_module_version": "2.0.0",
      "_model_name": "LayoutModel",
      "_view_count": null,
      "_view_module": "@jupyter-widgets/base",
      "_view_module_version": "2.0.0",
      "_view_name": "LayoutView",
      "align_content": null,
      "align_items": null,
      "align_self": null,
      "border_bottom": null,
      "border_left": null,
      "border_right": null,
      "border_top": null,
      "bottom": null,
      "display": null,
      "flex": null,
      "flex_flow": null,
      "grid_area": null,
      "grid_auto_columns": null,
      "grid_auto_flow": null,
      "grid_auto_rows": null,
      "grid_column": null,
      "grid_gap": null,
      "grid_row": null,
      "grid_template_areas": null,
      "grid_template_columns": null,
      "grid_template_rows": null,
      "height": null,
      "justify_content": null,
      "justify_items": null,
      "left": null,
      "margin": null,
      "max_height": null,
      "max_width": null,
      "min_height": null,
      "min_width": null,
      "object_fit": null,
      "object_position": null,
      "order": null,
      "overflow": null,
      "padding": null,
      "right": null,
      "top": null,
      "visibility": null,
      "width": null
     }
    },
    "423bffea3a1c42b49a9ad71218e5811b": {
     "model_module": "@jupyter-widgets/base",
     "model_module_version": "2.0.0",
     "model_name": "LayoutModel",
     "state": {
      "_model_module": "@jupyter-widgets/base",
      "_model_module_version": "2.0.0",
      "_model_name": "LayoutModel",
      "_view_count": null,
      "_view_module": "@jupyter-widgets/base",
      "_view_module_version": "2.0.0",
      "_view_name": "LayoutView",
      "align_content": null,
      "align_items": null,
      "align_self": null,
      "border_bottom": null,
      "border_left": null,
      "border_right": null,
      "border_top": null,
      "bottom": null,
      "display": null,
      "flex": null,
      "flex_flow": null,
      "grid_area": null,
      "grid_auto_columns": null,
      "grid_auto_flow": null,
      "grid_auto_rows": null,
      "grid_column": null,
      "grid_gap": null,
      "grid_row": null,
      "grid_template_areas": null,
      "grid_template_columns": null,
      "grid_template_rows": null,
      "height": null,
      "justify_content": null,
      "justify_items": null,
      "left": null,
      "margin": null,
      "max_height": null,
      "max_width": null,
      "min_height": null,
      "min_width": null,
      "object_fit": null,
      "object_position": null,
      "order": null,
      "overflow": null,
      "padding": null,
      "right": null,
      "top": null,
      "visibility": null,
      "width": null
     }
    },
    "56ff19291e464d63b23e63b8e2ac9ea3": {
     "model_module": "@jupyter-widgets/controls",
     "model_module_version": "2.0.0",
     "model_name": "SliderStyleModel",
     "state": {
      "_model_module": "@jupyter-widgets/controls",
      "_model_module_version": "2.0.0",
      "_model_name": "SliderStyleModel",
      "_view_count": null,
      "_view_module": "@jupyter-widgets/base",
      "_view_module_version": "2.0.0",
      "_view_name": "StyleView",
      "description_width": "",
      "handle_color": null
     }
    },
    "646a8670cb204a31bb56bc2380898093": {
     "model_module": "@jupyter-widgets/base",
     "model_module_version": "2.0.0",
     "model_name": "LayoutModel",
     "state": {
      "_model_module": "@jupyter-widgets/base",
      "_model_module_version": "2.0.0",
      "_model_name": "LayoutModel",
      "_view_count": null,
      "_view_module": "@jupyter-widgets/base",
      "_view_module_version": "2.0.0",
      "_view_name": "LayoutView",
      "align_content": null,
      "align_items": null,
      "align_self": null,
      "border_bottom": null,
      "border_left": null,
      "border_right": null,
      "border_top": null,
      "bottom": null,
      "display": null,
      "flex": null,
      "flex_flow": null,
      "grid_area": null,
      "grid_auto_columns": null,
      "grid_auto_flow": null,
      "grid_auto_rows": null,
      "grid_column": null,
      "grid_gap": null,
      "grid_row": null,
      "grid_template_areas": null,
      "grid_template_columns": null,
      "grid_template_rows": null,
      "height": null,
      "justify_content": null,
      "justify_items": null,
      "left": null,
      "margin": null,
      "max_height": null,
      "max_width": null,
      "min_height": null,
      "min_width": null,
      "object_fit": null,
      "object_position": null,
      "order": null,
      "overflow": null,
      "padding": null,
      "right": null,
      "top": null,
      "visibility": null,
      "width": null
     }
    },
    "7d46516469314b88be3500e2afcafcf6": {
     "model_module": "@jupyter-widgets/output",
     "model_module_version": "1.0.0",
     "model_name": "OutputModel",
     "state": {
      "_dom_classes": [],
      "_model_module": "@jupyter-widgets/output",
      "_model_module_version": "1.0.0",
      "_model_name": "OutputModel",
      "_view_count": null,
      "_view_module": "@jupyter-widgets/output",
      "_view_module_version": "1.0.0",
      "_view_name": "OutputView",
      "layout": "IPY_MODEL_646a8670cb204a31bb56bc2380898093",
      "msg_id": "",
      "outputs": [],
      "tabbable": null,
      "tooltip": null
     }
    },
    "8d003c14da5f4fa68284b28c15cee6e6": {
     "model_module": "@jupyter-widgets/controls",
     "model_module_version": "2.0.0",
     "model_name": "VBoxModel",
     "state": {
      "_dom_classes": [
       "widget-interact"
      ],
      "_model_module": "@jupyter-widgets/controls",
      "_model_module_version": "2.0.0",
      "_model_name": "VBoxModel",
      "_view_count": null,
      "_view_module": "@jupyter-widgets/controls",
      "_view_module_version": "2.0.0",
      "_view_name": "VBoxView",
      "box_style": "",
      "children": [
       "IPY_MODEL_aef2fa7adcc14ad0854b73d5910ae3b4",
       "IPY_MODEL_7d46516469314b88be3500e2afcafcf6"
      ],
      "layout": "IPY_MODEL_423bffea3a1c42b49a9ad71218e5811b",
      "tabbable": null,
      "tooltip": null
     }
    },
    "aef2fa7adcc14ad0854b73d5910ae3b4": {
     "model_module": "@jupyter-widgets/controls",
     "model_module_version": "2.0.0",
     "model_name": "FloatSliderModel",
     "state": {
      "_dom_classes": [],
      "_model_module": "@jupyter-widgets/controls",
      "_model_module_version": "2.0.0",
      "_model_name": "FloatSliderModel",
      "_view_count": null,
      "_view_module": "@jupyter-widgets/controls",
      "_view_module_version": "2.0.0",
      "_view_name": "FloatSliderView",
      "behavior": "drag-tap",
      "continuous_update": true,
      "description": "t",
      "description_allow_html": false,
      "disabled": false,
      "layout": "IPY_MODEL_06f2374f91c8455bb63252092512f2ed",
      "max": 1.1333333333333333,
      "min": 0,
      "orientation": "horizontal",
      "readout": true,
      "readout_format": ".2f",
      "step": 0.011333333333333332,
      "style": "IPY_MODEL_56ff19291e464d63b23e63b8e2ac9ea3",
      "tabbable": null,
      "tooltip": null,
      "value": 0
     }
    }
   }
  }
 },
 "nbformat": 4,
 "nbformat_minor": 4
}
